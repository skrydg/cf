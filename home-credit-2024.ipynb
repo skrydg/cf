{
 "cells": [
  {
   "cell_type": "markdown",
   "id": "5b4e24de",
   "metadata": {
    "papermill": {
     "duration": 0.013057,
     "end_time": "2024-03-06T11:59:06.342478",
     "exception": false,
     "start_time": "2024-03-06T11:59:06.329421",
     "status": "completed"
    },
    "tags": []
   },
   "source": [
    "# Install packages"
   ]
  },
  {
   "cell_type": "code",
   "execution_count": 1,
   "id": "ee11bc6a",
   "metadata": {
    "execution": {
     "iopub.execute_input": "2024-03-06T11:59:06.371922Z",
     "iopub.status.busy": "2024-03-06T11:59:06.371548Z",
     "iopub.status.idle": "2024-03-06T11:59:40.733857Z",
     "shell.execute_reply": "2024-03-06T11:59:40.732736Z"
    },
    "papermill": {
     "duration": 34.381044,
     "end_time": "2024-03-06T11:59:40.736858",
     "exception": false,
     "start_time": "2024-03-06T11:59:06.355814",
     "status": "completed"
    },
    "tags": []
   },
   "outputs": [
    {
     "name": "stdout",
     "output_type": "stream",
     "text": [
      "Processing /kaggle/input/kaggle-home-credit-risk-model-stability-lib/kaggle_home_credit_risk_model_stability-0.3-py3-none-any.whl\r\n",
      "Installing collected packages: kaggle-home-credit-risk-model-stability\r\n",
      "Successfully installed kaggle-home-credit-risk-model-stability-0.3\r\n"
     ]
    }
   ],
   "source": [
    "!pip install /kaggle/input/kaggle-home-credit-risk-model-stability-lib/kaggle_home_credit_risk_model_stability-0.3-py3-none-any.whl --force-reinstall"
   ]
  },
  {
   "cell_type": "markdown",
   "id": "42b29da1",
   "metadata": {
    "papermill": {
     "duration": 0.012571,
     "end_time": "2024-03-06T11:59:40.762907",
     "exception": false,
     "start_time": "2024-03-06T11:59:40.750336",
     "status": "completed"
    },
    "tags": []
   },
   "source": [
    "# Import packages"
   ]
  },
  {
   "cell_type": "code",
   "execution_count": 2,
   "id": "38f703ed",
   "metadata": {
    "execution": {
     "iopub.execute_input": "2024-03-06T11:59:40.793860Z",
     "iopub.status.busy": "2024-03-06T11:59:40.793153Z",
     "iopub.status.idle": "2024-03-06T11:59:46.098801Z",
     "shell.execute_reply": "2024-03-06T11:59:46.097619Z"
    },
    "papermill": {
     "duration": 5.324736,
     "end_time": "2024-03-06T11:59:46.101646",
     "exception": false,
     "start_time": "2024-03-06T11:59:40.776910",
     "status": "completed"
    },
    "tags": []
   },
   "outputs": [],
   "source": [
    "import polars as pl\n",
    "import gc\n",
    "import time\n",
    "import numpy as np\n",
    "import pandas as pd\n",
    "import lightgbm as lgb\n",
    "import seaborn as sns\n",
    "import matplotlib.pyplot as plt\n",
    "import copy\n",
    "import lightgbm as lgb\n",
    "import importlib\n",
    "\n",
    "import kaggle_home_credit_risk_model_stability.libs as hcr\n",
    "from kaggle_home_credit_risk_model_stability.libs.input.dataset import Dataset\n",
    "from kaggle_home_credit_risk_model_stability.libs.input.data_loader import DataLoader\n",
    "from kaggle_home_credit_risk_model_stability.libs.preprocessor.preprocessor import Preprocessor\n",
    "from kaggle_home_credit_risk_model_stability.libs.preprocessor.steps import *\n",
    "from kaggle_home_credit_risk_model_stability.libs.preprocessor.columns_info import ColumnsInfo\n",
    "from kaggle_home_credit_risk_model_stability.libs.feature_description.feature_description import FreatureDescriptionGetter\n",
    "\n",
    "from collections import defaultdict\n",
    "from glob import glob\n",
    "from pathlib import Path\n",
    "from sklearn.model_selection import train_test_split\n",
    "from sklearn.metrics import roc_auc_score\n",
    "from sklearn.model_selection import StratifiedGroupKFold\n",
    "from sklearn.base import BaseEstimator, RegressorMixin\n",
    "from catboost import CatBoostClassifier\n",
    "from enum import Enum"
   ]
  },
  {
   "cell_type": "code",
   "execution_count": null,
   "id": "3f51c6aa",
   "metadata": {
    "execution": {
     "iopub.execute_input": "2024-03-06T11:32:20.311082Z",
     "iopub.status.busy": "2024-03-06T11:32:20.310541Z",
     "iopub.status.idle": "2024-03-06T11:32:20.326518Z",
     "shell.execute_reply": "2024-03-06T11:32:20.325079Z",
     "shell.execute_reply.started": "2024-03-06T11:32:20.311042Z"
    },
    "papermill": {
     "duration": 0.013199,
     "end_time": "2024-03-06T11:59:46.128144",
     "exception": false,
     "start_time": "2024-03-06T11:59:46.114945",
     "status": "completed"
    },
    "tags": []
   },
   "outputs": [],
   "source": []
  },
  {
   "cell_type": "code",
   "execution_count": 3,
   "id": "ad547331",
   "metadata": {
    "execution": {
     "iopub.execute_input": "2024-03-06T11:59:46.163514Z",
     "iopub.status.busy": "2024-03-06T11:59:46.162740Z",
     "iopub.status.idle": "2024-03-06T11:59:46.173434Z",
     "shell.execute_reply": "2024-03-06T11:59:46.171337Z"
    },
    "papermill": {
     "duration": 0.034604,
     "end_time": "2024-03-06T11:59:46.177217",
     "exception": false,
     "start_time": "2024-03-06T11:59:46.142613",
     "status": "completed"
    },
    "tags": []
   },
   "outputs": [],
   "source": [
    "data_loader = DataLoader()\n",
    "preprocessor = Preprocessor({\n",
    "    \"set_column_info_step\": SetColumnsInfoStep(),\n",
    "    \"set_types\": SetTypesStep(),\n",
    "    \"process_categorical\": ProcessCategoricalStep(),\n",
    "    \"process_person_table\": ProcessPersonTableStep(),\n",
    "    \"one_hot_encoding_for_depth1\": OneHotEncodingForDepth1Step(),\n",
    "    \"pairwise_diff_raw_dates\": PairwiseDateDiffStep(),\n",
    "    \"aggregate_depth_table\": AggregateDepthTableStep(),\n",
    "    \"drop_equal_columns\": DropEqualColumnsStep(),\n",
    "    \"drop_variable_enum_features\": DropVariableEnumFeaturesStep(),\n",
    "    \"drop_almost_null_features_respect_to_target\": DropAlmostNullFeaturesWithRespectToTargetStep(),\n",
    "    \"join_table\": JoinTablesStep(),\n",
    "    **{\n",
    "        f\"create_money_feature_fraction_{base_column}\": CreateMoneyFeatureFractionStep(base_column)\n",
    "        for base_column in [\"credamount_770A\", \"maininc_215A\", \"mainoccupationinc_384A\", \"mean_amount_416A\"]\n",
    "    },\n",
    "    \"generate_mismatch_features\": GenerateMismatchFeaturesStep(), \n",
    "    \"fill_nulls\": FillNullStep(),\n",
    "    \"reduce_memory_usage\": ReduceMemoryUsageStep(),\n",
    "#    \"drop_non_important_features\": DropNonImportantFeaturesStep()\n",
    "#    \"drop_dates_columns\": DropDatesColumnsStep()\n",
    "})\n",
    "columns_info = ColumnsInfo()"
   ]
  },
  {
   "cell_type": "code",
   "execution_count": 4,
   "id": "dc91527a",
   "metadata": {
    "execution": {
     "iopub.execute_input": "2024-03-06T11:59:46.210457Z",
     "iopub.status.busy": "2024-03-06T11:59:46.209090Z",
     "iopub.status.idle": "2024-03-06T11:59:46.214766Z",
     "shell.execute_reply": "2024-03-06T11:59:46.213853Z"
    },
    "papermill": {
     "duration": 0.027461,
     "end_time": "2024-03-06T11:59:46.219596",
     "exception": false,
     "start_time": "2024-03-06T11:59:46.192135",
     "status": "completed"
    },
    "tags": []
   },
   "outputs": [],
   "source": [
    "# train_dataset = data_loader.load_train_dataset()\n",
    "# case_id_set = train_dataset.get_base().filter(train_dataset.get_base()[\"WEEK_NUM\"] < 10)[\"case_id\"]\n",
    "# train_dataset = train_dataset.filter(lambda table: table.filter(pl.col(\"case_id\").is_in(case_id_set)))"
   ]
  },
  {
   "cell_type": "code",
   "execution_count": 5,
   "id": "a1bfc5e7",
   "metadata": {
    "execution": {
     "iopub.execute_input": "2024-03-06T11:59:46.247395Z",
     "iopub.status.busy": "2024-03-06T11:59:46.246781Z",
     "iopub.status.idle": "2024-03-06T12:10:47.955302Z",
     "shell.execute_reply": "2024-03-06T12:10:47.954173Z"
    },
    "papermill": {
     "duration": 661.724706,
     "end_time": "2024-03-06T12:10:47.957643",
     "exception": false,
     "start_time": "2024-03-06T11:59:46.232937",
     "status": "completed"
    },
    "tags": []
   },
   "outputs": [
    {
     "name": "stdout",
     "output_type": "stream",
     "text": [
      "Train dataset week range: 0-91\n",
      "Step: set_column_info_step, execution_time: 0.11298274993896484\n",
      "Step: set_types, execution_time: 12.418578386306763\n",
      "Step: process_categorical, execution_time: 27.480106353759766\n",
      "Step: process_person_table, execution_time: 0.40238094329833984\n",
      "Create 250 new columns as one hot encoding\n",
      "Step: one_hot_encoding_for_depth1, execution_time: 23.449649572372437\n",
      "Create 172 new columns as pairwise dates diff\n",
      "Step: pairwise_diff_raw_dates, execution_time: 1.3961381912231445\n",
      "Step: aggregate_depth_table, execution_time: 27.83410382270813\n",
      "Drop 486 columns as copy\n",
      "Step: drop_equal_columns, execution_time: 7.864137649536133\n",
      "Drop 37 columns as variable enum\n",
      "Step: drop_variable_enum_features, execution_time: 1.6323590278625488\n",
      "Drop 496 columns as almost null\n",
      "Step: drop_almost_null_features_respect_to_target, execution_time: 440.5067298412323\n",
      "Step: join_table, execution_time: 25.085702180862427\n",
      "Create 116 new columns as money feature fraction with base 'credamount_770A'\n",
      "Step: create_money_feature_fraction_credamount_770A, execution_time: 4.661221742630005\n",
      "Create 116 new columns as money feature fraction with base 'maininc_215A'\n",
      "Step: create_money_feature_fraction_maininc_215A, execution_time: 6.999268054962158\n",
      "Create 116 new columns as money feature fraction with base 'mainoccupationinc_384A'\n",
      "Step: create_money_feature_fraction_mainoccupationinc_384A, execution_time: 4.445048093795776\n",
      "Create 116 new columns as money feature fraction with base 'mean_amount_416A'\n",
      "Step: create_money_feature_fraction_mean_amount_416A, execution_time: 6.874262809753418\n",
      "Create 60 new columns as feature mismatch\n",
      "Step: generate_mismatch_features, execution_time: 44.88170027732849\n",
      "Step: fill_nulls, execution_time: 0.13100147247314453\n",
      "Step: reduce_memory_usage, execution_time: 13.173686027526855\n"
     ]
    },
    {
     "data": {
      "text/plain": [
       "0"
      ]
     },
     "execution_count": 5,
     "metadata": {},
     "output_type": "execute_result"
    }
   ],
   "source": [
    "train_dataset = data_loader.load_train_dataset()\n",
    "print(\"Train dataset week range: {}-{}\".format(train_dataset.get_base()[\"WEEK_NUM\"].min(), train_dataset.get_base()[\"WEEK_NUM\"].max()))\n",
    "gc.collect()\n",
    "train_df, columns_info = preprocessor.process_train_dataset(train_dataset, columns_info)\n",
    "del train_dataset\n",
    "\n",
    "gc.collect()"
   ]
  },
  {
   "cell_type": "code",
   "execution_count": 6,
   "id": "65e99987",
   "metadata": {
    "execution": {
     "iopub.execute_input": "2024-03-06T12:10:47.993192Z",
     "iopub.status.busy": "2024-03-06T12:10:47.992144Z",
     "iopub.status.idle": "2024-03-06T12:11:39.800001Z",
     "shell.execute_reply": "2024-03-06T12:11:39.797812Z"
    },
    "papermill": {
     "duration": 51.8606,
     "end_time": "2024-03-06T12:11:39.833445",
     "exception": false,
     "start_time": "2024-03-06T12:10:47.972845",
     "status": "completed"
    },
    "tags": []
   },
   "outputs": [
    {
     "name": "stdout",
     "output_type": "stream",
     "text": [
      "7180.550844192505\n",
      "shape: (1_526_659, 1_442)\n",
      "┌─────────┬────────────┬────────┬──────────┬───┬────────────┬────────────┬────────────┬────────────┐\n",
      "│ case_id ┆ date_decis ┆ MONTH  ┆ WEEK_NUM ┆ … ┆ applicatio ┆ applicatio ┆ applicatio ┆ applicatio │\n",
      "│ ---     ┆ ion        ┆ ---    ┆ ---      ┆   ┆ nscnt_629L ┆ nscnt_629L ┆ nscnt_629L ┆ nscnt_629L │\n",
      "│ i32     ┆ ---        ┆ i32    ┆ i8       ┆   ┆ _clientscn ┆ _opencred_ ┆ _posfstqpd ┆ _clientscn │\n",
      "│         ┆ i16        ┆        ┆          ┆   ┆ t_…        ┆ 64…        ┆ 30…        ┆ t_…        │\n",
      "│         ┆            ┆        ┆          ┆   ┆ ---        ┆ ---        ┆ ---        ┆ ---        │\n",
      "│         ┆            ┆        ┆          ┆   ┆ f32        ┆ f32        ┆ f32        ┆ f32        │\n",
      "╞═════════╪════════════╪════════╪══════════╪═══╪════════════╪════════════╪════════════╪════════════╡\n",
      "│ 0       ┆ 17899      ┆ 201901 ┆ 0        ┆ … ┆ 1.0        ┆ null       ┆ null       ┆ 1.0        │\n",
      "│ 1       ┆ 17899      ┆ 201901 ┆ 0        ┆ … ┆ 0.0        ┆ null       ┆ null       ┆ 1.0        │\n",
      "│ 2       ┆ 17900      ┆ 201901 ┆ 0        ┆ … ┆ 1.0        ┆ 1.0        ┆ null       ┆ 1.0        │\n",
      "│ 3       ┆ 17899      ┆ 201901 ┆ 0        ┆ … ┆ 1.0        ┆ 1.0        ┆ null       ┆ 1.0        │\n",
      "│ …       ┆ …          ┆ …      ┆ …        ┆ … ┆ …          ┆ …          ┆ …          ┆ …          │\n",
      "│ 2703451 ┆ 18540      ┆ 202010 ┆ 91       ┆ … ┆ 1.0        ┆ 1.0        ┆ 1.0        ┆ 1.0        │\n",
      "│ 2703452 ┆ 18540      ┆ 202010 ┆ 91       ┆ … ┆ 1.0        ┆ 1.0        ┆ 1.0        ┆ 1.0        │\n",
      "│ 2703453 ┆ 18540      ┆ 202010 ┆ 91       ┆ … ┆ 1.0        ┆ 1.0        ┆ 1.0        ┆ 0.0        │\n",
      "│ 2703454 ┆ 18540      ┆ 202010 ┆ 91       ┆ … ┆ 1.0        ┆ 1.0        ┆ 1.0        ┆ 1.0        │\n",
      "└─────────┴────────────┴────────┴──────────┴───┴────────────┴────────────┴────────────┴────────────┘\n"
     ]
    },
    {
     "data": {
      "text/plain": [
       "0"
      ]
     },
     "execution_count": 6,
     "metadata": {},
     "output_type": "execute_result"
    }
   ],
   "source": [
    "train_df.write_parquet(\"/kaggle/working/train_df.parquet\")\n",
    "print(train_df.estimated_size() / 1024 / 1024)\n",
    "print(train_df)\n",
    "\n",
    "del train_df\n",
    "gc.collect()"
   ]
  },
  {
   "cell_type": "code",
   "execution_count": 7,
   "id": "167d6932",
   "metadata": {
    "execution": {
     "iopub.execute_input": "2024-03-06T12:11:39.875518Z",
     "iopub.status.busy": "2024-03-06T12:11:39.874966Z",
     "iopub.status.idle": "2024-03-06T12:11:48.529128Z",
     "shell.execute_reply": "2024-03-06T12:11:48.527577Z"
    },
    "papermill": {
     "duration": 8.677872,
     "end_time": "2024-03-06T12:11:48.533318",
     "exception": false,
     "start_time": "2024-03-06T12:11:39.855446",
     "status": "completed"
    },
    "tags": []
   },
   "outputs": [
    {
     "name": "stdout",
     "output_type": "stream",
     "text": [
      "Test dataset week range: 92-92\n",
      "Step: set_column_info_step, execution_time: 0.18169784545898438\n",
      "Step: set_types, execution_time: 0.20771145820617676\n",
      "Step: process_categorical, execution_time: 0.459564208984375\n",
      "Step: process_person_table, execution_time: 0.1937732696533203\n",
      "Create 250 new columns as one hot encoding\n",
      "Step: one_hot_encoding_for_depth1, execution_time: 0.2174677848815918\n",
      "Create 172 new columns as pairwise dates diff\n",
      "Step: pairwise_diff_raw_dates, execution_time: 0.19259190559387207\n",
      "Step: aggregate_depth_table, execution_time: 0.2369246482849121\n",
      "Step: drop_equal_columns, execution_time: 1.1229596138000488\n",
      "Step: drop_variable_enum_features, execution_time: 0.2505676746368408\n",
      "Step: drop_almost_null_features_respect_to_target, execution_time: 0.914907693862915\n",
      "Step: join_table, execution_time: 2.2273614406585693\n",
      "Create 116 new columns as money feature fraction with base 'credamount_770A'\n",
      "Step: create_money_feature_fraction_credamount_770A, execution_time: 0.19444036483764648\n",
      "Create 116 new columns as money feature fraction with base 'maininc_215A'\n",
      "Step: create_money_feature_fraction_maininc_215A, execution_time: 0.20929884910583496\n",
      "Create 116 new columns as money feature fraction with base 'mainoccupationinc_384A'\n",
      "Step: create_money_feature_fraction_mainoccupationinc_384A, execution_time: 0.20796465873718262\n",
      "Create 116 new columns as money feature fraction with base 'mean_amount_416A'\n",
      "Step: create_money_feature_fraction_mean_amount_416A, execution_time: 0.2178208827972412\n",
      "Create 60 new columns as feature mismatch\n",
      "Step: generate_mismatch_features, execution_time: 0.18479323387145996\n",
      "Step: fill_nulls, execution_time: 0.1701216697692871\n",
      "Step: reduce_memory_usage, execution_time: 0.7655220031738281\n"
     ]
    },
    {
     "data": {
      "text/plain": [
       "0"
      ]
     },
     "execution_count": 7,
     "metadata": {},
     "output_type": "execute_result"
    }
   ],
   "source": [
    "test_dataset = data_loader.load_test_dataset()\n",
    "print(\"Test dataset week range: {}-{}\".format(test_dataset.get_base()[\"WEEK_NUM\"].min(), test_dataset.get_base()[\"WEEK_NUM\"].max()))\n",
    "gc.collect()\n",
    "test_df, columns_info = preprocessor.process_test_dataset(test_dataset, columns_info)\n",
    "del test_dataset\n",
    "\n",
    "gc.collect()"
   ]
  },
  {
   "cell_type": "code",
   "execution_count": 8,
   "id": "76bf273f",
   "metadata": {
    "execution": {
     "iopub.execute_input": "2024-03-06T12:11:48.574001Z",
     "iopub.status.busy": "2024-03-06T12:11:48.573493Z",
     "iopub.status.idle": "2024-03-06T12:11:49.120877Z",
     "shell.execute_reply": "2024-03-06T12:11:49.119516Z"
    },
    "papermill": {
     "duration": 0.569984,
     "end_time": "2024-03-06T12:11:49.123745",
     "exception": false,
     "start_time": "2024-03-06T12:11:48.553761",
     "status": "completed"
    },
    "tags": []
   },
   "outputs": [
    {
     "name": "stdout",
     "output_type": "stream",
     "text": [
      "0.0727090835571289\n",
      "shape: (10, 1_441)\n",
      "┌─────────┬────────────┬────────┬──────────┬───┬────────────┬────────────┬────────────┬────────────┐\n",
      "│ case_id ┆ date_decis ┆ MONTH  ┆ WEEK_NUM ┆ … ┆ applicatio ┆ applicatio ┆ applicatio ┆ applicatio │\n",
      "│ ---     ┆ ion        ┆ ---    ┆ ---      ┆   ┆ nscnt_629L ┆ nscnt_629L ┆ nscnt_629L ┆ nscnt_629L │\n",
      "│ i32     ┆ ---        ┆ i32    ┆ i8       ┆   ┆ _clientscn ┆ _opencred_ ┆ _posfstqpd ┆ _clientscn │\n",
      "│         ┆ i16        ┆        ┆          ┆   ┆ t_…        ┆ 64…        ┆ 30…        ┆ t_…        │\n",
      "│         ┆            ┆        ┆          ┆   ┆ ---        ┆ ---        ┆ ---        ┆ ---        │\n",
      "│         ┆            ┆        ┆          ┆   ┆ f32        ┆ f32        ┆ f32        ┆ f32        │\n",
      "╞═════════╪════════════╪════════╪══════════╪═══╪════════════╪════════════╪════════════╪════════════╡\n",
      "│ 57543   ┆ 18541      ┆ 202010 ┆ 92       ┆ … ┆ 1.0        ┆ 1.0        ┆ 1.0        ┆ 1.0        │\n",
      "│ 57549   ┆ 18541      ┆ 202010 ┆ 92       ┆ … ┆ 0.0        ┆ 1.0        ┆ 0.0        ┆ 1.0        │\n",
      "│ 57551   ┆ 18541      ┆ 202010 ┆ 92       ┆ … ┆ 0.0        ┆ 1.0        ┆ 1.0        ┆ 1.0        │\n",
      "│ 57552   ┆ 18542      ┆ 202010 ┆ 92       ┆ … ┆ 1.0        ┆ 1.0        ┆ 1.0        ┆ 1.0        │\n",
      "│ …       ┆ …          ┆ …      ┆ …        ┆ … ┆ …          ┆ …          ┆ …          ┆ …          │\n",
      "│ 57631   ┆ 18541      ┆ 202010 ┆ 92       ┆ … ┆ 1.0        ┆ null       ┆ null       ┆ 1.0        │\n",
      "│ 57632   ┆ 18541      ┆ 202010 ┆ 92       ┆ … ┆ 1.0        ┆ 1.0        ┆ null       ┆ 1.0        │\n",
      "│ 57633   ┆ 18541      ┆ 202010 ┆ 92       ┆ … ┆ 1.0        ┆ 1.0        ┆ 1.0        ┆ 1.0        │\n",
      "│ 57634   ┆ 18541      ┆ 202010 ┆ 92       ┆ … ┆ 1.0        ┆ 1.0        ┆ 1.0        ┆ 1.0        │\n",
      "└─────────┴────────────┴────────┴──────────┴───┴────────────┴────────────┴────────────┴────────────┘\n"
     ]
    },
    {
     "data": {
      "text/plain": [
       "0"
      ]
     },
     "execution_count": 8,
     "metadata": {},
     "output_type": "execute_result"
    }
   ],
   "source": [
    "test_df.write_parquet(\"/kaggle/working/test_df.parquet\")\n",
    "print(test_df.estimated_size() / 1024 / 1024)\n",
    "print(test_df)\n",
    "\n",
    "del test_df\n",
    "gc.collect()"
   ]
  },
  {
   "cell_type": "markdown",
   "id": "2f1cd88a",
   "metadata": {
    "_kg_hide-input": true,
    "papermill": {
     "duration": 0.016096,
     "end_time": "2024-03-06T12:11:49.156954",
     "exception": false,
     "start_time": "2024-03-06T12:11:49.140858",
     "status": "completed"
    },
    "tags": []
   },
   "source": [
    "# Data visualization"
   ]
  },
  {
   "cell_type": "code",
   "execution_count": null,
   "id": "20e67e8b",
   "metadata": {
    "papermill": {
     "duration": 0.015825,
     "end_time": "2024-03-06T12:11:49.190393",
     "exception": false,
     "start_time": "2024-03-06T12:11:49.174568",
     "status": "completed"
    },
    "tags": []
   },
   "outputs": [],
   "source": []
  },
  {
   "cell_type": "code",
   "execution_count": 9,
   "id": "f00b8857",
   "metadata": {
    "execution": {
     "iopub.execute_input": "2024-03-06T12:11:49.225768Z",
     "iopub.status.busy": "2024-03-06T12:11:49.225383Z",
     "iopub.status.idle": "2024-03-06T12:11:49.230773Z",
     "shell.execute_reply": "2024-03-06T12:11:49.229181Z"
    },
    "papermill": {
     "duration": 0.02592,
     "end_time": "2024-03-06T12:11:49.233303",
     "exception": false,
     "start_time": "2024-03-06T12:11:49.207383",
     "status": "completed"
    },
    "tags": []
   },
   "outputs": [],
   "source": [
    "# train_dataset = data_loader.load_train_dataset()"
   ]
  },
  {
   "cell_type": "code",
   "execution_count": 10,
   "id": "f9993e0d",
   "metadata": {
    "execution": {
     "iopub.execute_input": "2024-03-06T12:11:49.272927Z",
     "iopub.status.busy": "2024-03-06T12:11:49.272525Z",
     "iopub.status.idle": "2024-03-06T12:11:49.276731Z",
     "shell.execute_reply": "2024-03-06T12:11:49.275789Z"
    },
    "papermill": {
     "duration": 0.026102,
     "end_time": "2024-03-06T12:11:49.278790",
     "exception": false,
     "start_time": "2024-03-06T12:11:49.252688",
     "status": "completed"
    },
    "tags": []
   },
   "outputs": [],
   "source": [
    "# [column for column in train_df.columns if \"amtdebitincoming_4809443A\" in column]"
   ]
  },
  {
   "cell_type": "code",
   "execution_count": 11,
   "id": "305e17e7",
   "metadata": {
    "execution": {
     "iopub.execute_input": "2024-03-06T12:11:49.313250Z",
     "iopub.status.busy": "2024-03-06T12:11:49.312823Z",
     "iopub.status.idle": "2024-03-06T12:11:49.317379Z",
     "shell.execute_reply": "2024-03-06T12:11:49.316444Z"
    },
    "papermill": {
     "duration": 0.024602,
     "end_time": "2024-03-06T12:11:49.319519",
     "exception": false,
     "start_time": "2024-03-06T12:11:49.294917",
     "status": "completed"
    },
    "tags": []
   },
   "outputs": [],
   "source": [
    "# train_dataset.get_base()[\"target\"].mean()"
   ]
  },
  {
   "cell_type": "code",
   "execution_count": 12,
   "id": "dec4f095",
   "metadata": {
    "execution": {
     "iopub.execute_input": "2024-03-06T12:11:49.358788Z",
     "iopub.status.busy": "2024-03-06T12:11:49.358353Z",
     "iopub.status.idle": "2024-03-06T12:11:49.362524Z",
     "shell.execute_reply": "2024-03-06T12:11:49.361624Z"
    },
    "papermill": {
     "duration": 0.026483,
     "end_time": "2024-03-06T12:11:49.364857",
     "exception": false,
     "start_time": "2024-03-06T12:11:49.338374",
     "status": "completed"
    },
    "tags": []
   },
   "outputs": [],
   "source": [
    "# tables = {name: table for name, table in train_dataset.get_depth_tables(1)}"
   ]
  },
  {
   "cell_type": "code",
   "execution_count": 13,
   "id": "e27c0537",
   "metadata": {
    "execution": {
     "iopub.execute_input": "2024-03-06T12:11:49.402554Z",
     "iopub.status.busy": "2024-03-06T12:11:49.401850Z",
     "iopub.status.idle": "2024-03-06T12:11:49.406209Z",
     "shell.execute_reply": "2024-03-06T12:11:49.405061Z"
    },
    "papermill": {
     "duration": 0.025852,
     "end_time": "2024-03-06T12:11:49.408940",
     "exception": false,
     "start_time": "2024-03-06T12:11:49.383088",
     "status": "completed"
    },
    "tags": []
   },
   "outputs": [],
   "source": [
    "# applprev_1 = tables[\"applprev_1\"]"
   ]
  },
  {
   "cell_type": "code",
   "execution_count": 14,
   "id": "6385d6b2",
   "metadata": {
    "execution": {
     "iopub.execute_input": "2024-03-06T12:11:49.444594Z",
     "iopub.status.busy": "2024-03-06T12:11:49.443892Z",
     "iopub.status.idle": "2024-03-06T12:11:49.449425Z",
     "shell.execute_reply": "2024-03-06T12:11:49.448182Z"
    },
    "papermill": {
     "duration": 0.026408,
     "end_time": "2024-03-06T12:11:49.452041",
     "exception": false,
     "start_time": "2024-03-06T12:11:49.425633",
     "status": "completed"
    },
    "tags": []
   },
   "outputs": [],
   "source": [
    "# joined = applprev_1[\"case_id\"].value_counts().join(train_dataset.get_base()[[\"case_id\", \"target\"]], on=\"case_id\").sort(\"count\")\n",
    "# joined.filter(pl.col(\"target\") == 1)"
   ]
  },
  {
   "cell_type": "code",
   "execution_count": 15,
   "id": "e3d9fcb4",
   "metadata": {
    "execution": {
     "iopub.execute_input": "2024-03-06T12:11:49.486926Z",
     "iopub.status.busy": "2024-03-06T12:11:49.485857Z",
     "iopub.status.idle": "2024-03-06T12:11:49.491298Z",
     "shell.execute_reply": "2024-03-06T12:11:49.490401Z"
    },
    "papermill": {
     "duration": 0.02627,
     "end_time": "2024-03-06T12:11:49.494777",
     "exception": false,
     "start_time": "2024-03-06T12:11:49.468507",
     "status": "completed"
    },
    "tags": []
   },
   "outputs": [],
   "source": [
    "# base = train_dataset.get_base()"
   ]
  },
  {
   "cell_type": "code",
   "execution_count": 16,
   "id": "c7404361",
   "metadata": {
    "execution": {
     "iopub.execute_input": "2024-03-06T12:11:49.531535Z",
     "iopub.status.busy": "2024-03-06T12:11:49.529730Z",
     "iopub.status.idle": "2024-03-06T12:11:49.535324Z",
     "shell.execute_reply": "2024-03-06T12:11:49.534112Z"
    },
    "papermill": {
     "duration": 0.025721,
     "end_time": "2024-03-06T12:11:49.537801",
     "exception": false,
     "start_time": "2024-03-06T12:11:49.512080",
     "status": "completed"
    },
    "tags": []
   },
   "outputs": [],
   "source": [
    "# base.filter(pl.col(\"case_id\") == 2702490)"
   ]
  },
  {
   "cell_type": "code",
   "execution_count": 17,
   "id": "f3516907",
   "metadata": {
    "execution": {
     "iopub.execute_input": "2024-03-06T12:11:49.573860Z",
     "iopub.status.busy": "2024-03-06T12:11:49.572824Z",
     "iopub.status.idle": "2024-03-06T12:11:49.577426Z",
     "shell.execute_reply": "2024-03-06T12:11:49.576516Z"
    },
    "papermill": {
     "duration": 0.024976,
     "end_time": "2024-03-06T12:11:49.579698",
     "exception": false,
     "start_time": "2024-03-06T12:11:49.554722",
     "status": "completed"
    },
    "tags": []
   },
   "outputs": [],
   "source": [
    "# applprev_1.filter(applprev_1[\"case_id\"] == 2702490).sort(\"num_group1\")\n",
    "#base.filter(pl.col(\"case_id\") == 176526)"
   ]
  },
  {
   "cell_type": "code",
   "execution_count": 18,
   "id": "4fbe5946",
   "metadata": {
    "execution": {
     "iopub.execute_input": "2024-03-06T12:11:49.621406Z",
     "iopub.status.busy": "2024-03-06T12:11:49.620648Z",
     "iopub.status.idle": "2024-03-06T12:11:49.625034Z",
     "shell.execute_reply": "2024-03-06T12:11:49.624188Z"
    },
    "papermill": {
     "duration": 0.026448,
     "end_time": "2024-03-06T12:11:49.627301",
     "exception": false,
     "start_time": "2024-03-06T12:11:49.600853",
     "status": "completed"
    },
    "tags": []
   },
   "outputs": [],
   "source": [
    "# applprev_1.filter(applprev_1[\"case_id\"] == 2702490).sort(\"num_group1\")[[\"credamount_590A\", \"mainoccupationinc_437A\", \"rejectreason_755M\", \"rejectreasonclient_4145042M\"]]\n"
   ]
  },
  {
   "cell_type": "code",
   "execution_count": 19,
   "id": "669f7c0c",
   "metadata": {
    "execution": {
     "iopub.execute_input": "2024-03-06T12:11:49.662143Z",
     "iopub.status.busy": "2024-03-06T12:11:49.661644Z",
     "iopub.status.idle": "2024-03-06T12:11:49.665766Z",
     "shell.execute_reply": "2024-03-06T12:11:49.664947Z"
    },
    "papermill": {
     "duration": 0.024849,
     "end_time": "2024-03-06T12:11:49.668194",
     "exception": false,
     "start_time": "2024-03-06T12:11:49.643345",
     "status": "completed"
    },
    "tags": []
   },
   "outputs": [],
   "source": [
    "# applprev_1.filter(applprev_1[\"case_id\"] == 176526).sort(\"num_group1\")[[\"credamount_590A\", \"mainoccupationinc_437A\", \"rejectreason_755M\", \"rejectreasonclient_4145042M\"]]a"
   ]
  },
  {
   "cell_type": "code",
   "execution_count": 20,
   "id": "e4fa00bd",
   "metadata": {
    "execution": {
     "iopub.execute_input": "2024-03-06T12:11:49.705152Z",
     "iopub.status.busy": "2024-03-06T12:11:49.704331Z",
     "iopub.status.idle": "2024-03-06T12:11:49.709070Z",
     "shell.execute_reply": "2024-03-06T12:11:49.708181Z"
    },
    "papermill": {
     "duration": 0.026761,
     "end_time": "2024-03-06T12:11:49.712369",
     "exception": false,
     "start_time": "2024-03-06T12:11:49.685608",
     "status": "completed"
    },
    "tags": []
   },
   "outputs": [],
   "source": [
    "# applprev_1.filter(applprev_1[\"case_id\"] == 176526).sort(\"num_group1\")"
   ]
  },
  {
   "cell_type": "code",
   "execution_count": 21,
   "id": "0304eaea",
   "metadata": {
    "execution": {
     "iopub.execute_input": "2024-03-06T12:11:49.746846Z",
     "iopub.status.busy": "2024-03-06T12:11:49.746117Z",
     "iopub.status.idle": "2024-03-06T12:11:49.750458Z",
     "shell.execute_reply": "2024-03-06T12:11:49.749543Z"
    },
    "papermill": {
     "duration": 0.024119,
     "end_time": "2024-03-06T12:11:49.752876",
     "exception": false,
     "start_time": "2024-03-06T12:11:49.728757",
     "status": "completed"
    },
    "tags": []
   },
   "outputs": [],
   "source": [
    "# FreatureDescriptionGetter().get(\"rejectreasonclient_4145042M\")"
   ]
  },
  {
   "cell_type": "code",
   "execution_count": 22,
   "id": "886cb3a2",
   "metadata": {
    "execution": {
     "iopub.execute_input": "2024-03-06T12:11:49.787633Z",
     "iopub.status.busy": "2024-03-06T12:11:49.786774Z",
     "iopub.status.idle": "2024-03-06T12:11:49.791407Z",
     "shell.execute_reply": "2024-03-06T12:11:49.790342Z"
    },
    "papermill": {
     "duration": 0.025026,
     "end_time": "2024-03-06T12:11:49.793821",
     "exception": false,
     "start_time": "2024-03-06T12:11:49.768795",
     "status": "completed"
    },
    "tags": []
   },
   "outputs": [],
   "source": [
    "# def bucket_mean_split(x, y, buckets=100):\n",
    "#     x_buckets = []\n",
    "#     y_buckets = []\n",
    "\n",
    "#     x = np.array(x)\n",
    "#     y = np.array(y)\n",
    "#     x_quantiles = [np.quantile(x, i / buckets) for i in range(0, buckets + 1)]\n",
    "#     for i in range(0, buckets):\n",
    "#         filter = (x >= x_quantiles[i]) & (x <= x_quantiles[i + 1])\n",
    "#         x_buckets.append(np.mean(x[filter]))\n",
    "#         y_buckets.append(np.mean(y[filter]))\n",
    "#     return x_buckets, y_buckets"
   ]
  },
  {
   "cell_type": "code",
   "execution_count": 23,
   "id": "07f99552",
   "metadata": {
    "execution": {
     "iopub.execute_input": "2024-03-06T12:11:49.830186Z",
     "iopub.status.busy": "2024-03-06T12:11:49.829778Z",
     "iopub.status.idle": "2024-03-06T12:11:49.833797Z",
     "shell.execute_reply": "2024-03-06T12:11:49.832795Z"
    },
    "papermill": {
     "duration": 0.025774,
     "end_time": "2024-03-06T12:11:49.836605",
     "exception": false,
     "start_time": "2024-03-06T12:11:49.810831",
     "status": "completed"
    },
    "tags": []
   },
   "outputs": [],
   "source": [
    "# train[\"target\"].mean()"
   ]
  },
  {
   "cell_type": "code",
   "execution_count": 24,
   "id": "f3e81d7a",
   "metadata": {
    "execution": {
     "iopub.execute_input": "2024-03-06T12:11:49.871858Z",
     "iopub.status.busy": "2024-03-06T12:11:49.871117Z",
     "iopub.status.idle": "2024-03-06T12:11:49.875404Z",
     "shell.execute_reply": "2024-03-06T12:11:49.874517Z"
    },
    "papermill": {
     "duration": 0.02511,
     "end_time": "2024-03-06T12:11:49.878046",
     "exception": false,
     "start_time": "2024-03-06T12:11:49.852936",
     "status": "completed"
    },
    "tags": []
   },
   "outputs": [],
   "source": [
    "# print(\"Mean target={} where actualdpdtolerance_344P != 0\".format(train[\"target\"].filter(train[\"actualdpdtolerance_344P\"] != 0).mean()))\n",
    "# print(\"Mean target={} where actualdpdtolerance_344P == 0\".format(train[\"target\"].filter(train[\"actualdpdtolerance_344P\"] == 0).mean()))\n",
    "# print(\"Mean target={} where actualdpdtolerance_344P is null\".format(train[\"target\"].filter(train[\"actualdpdtolerance_344P\"].is_null()).mean()))"
   ]
  },
  {
   "cell_type": "code",
   "execution_count": 25,
   "id": "e31a2546",
   "metadata": {
    "execution": {
     "iopub.execute_input": "2024-03-06T12:11:49.913816Z",
     "iopub.status.busy": "2024-03-06T12:11:49.912888Z",
     "iopub.status.idle": "2024-03-06T12:11:49.918634Z",
     "shell.execute_reply": "2024-03-06T12:11:49.917158Z"
    },
    "papermill": {
     "duration": 0.026038,
     "end_time": "2024-03-06T12:11:49.921094",
     "exception": false,
     "start_time": "2024-03-06T12:11:49.895056",
     "status": "completed"
    },
    "tags": []
   },
   "outputs": [],
   "source": [
    "# columns = [column for column in train.columns if (train[column].dtype == pl.Float64)]\n",
    "\n",
    "# figure, axis = plt.subplots(len(columns) // 5 + 1, 5, figsize=(15, 30))\n",
    "# for index, column in enumerate(columns):\n",
    "#     current_plot = axis[index // 5, index % 5]\n",
    "#     x = train[column]\n",
    "#     y = train[\"target\"]\n",
    "#     if (x.dtype == pl.String or x.dtype == pl.Boolean):\n",
    "#         continue\n",
    "#     filter = x.is_not_null()\n",
    "#     x = x.filter(filter)\n",
    "#     y = y.filter(filter)\n",
    "#     if (x.is_empty()):\n",
    "#         continue\n",
    "#     x_bucket, y_bucket = bucket_mean_split(x.to_numpy(), y.to_numpy(), buckets=100)\n",
    "#     current_plot.plot(x_bucket, y_bucket)\n",
    "#     current_plot.set_title(column)\n",
    "# plt.show()"
   ]
  },
  {
   "cell_type": "code",
   "execution_count": 26,
   "id": "3edd4c21",
   "metadata": {
    "execution": {
     "iopub.execute_input": "2024-03-06T12:11:49.957887Z",
     "iopub.status.busy": "2024-03-06T12:11:49.957433Z",
     "iopub.status.idle": "2024-03-06T12:11:49.962054Z",
     "shell.execute_reply": "2024-03-06T12:11:49.960838Z"
    },
    "papermill": {
     "duration": 0.025506,
     "end_time": "2024-03-06T12:11:49.964457",
     "exception": false,
     "start_time": "2024-03-06T12:11:49.938951",
     "status": "completed"
    },
    "tags": []
   },
   "outputs": [],
   "source": [
    "# features = train_df.columns\n",
    "# features.remove(\"WEEK_NUM\")\n",
    "# features.remove(\"case_id\")\n",
    "# features.remove(\"target\")"
   ]
  },
  {
   "cell_type": "code",
   "execution_count": 27,
   "id": "e963d395",
   "metadata": {
    "execution": {
     "iopub.execute_input": "2024-03-06T12:11:50.000216Z",
     "iopub.status.busy": "2024-03-06T12:11:49.999785Z",
     "iopub.status.idle": "2024-03-06T12:11:50.004257Z",
     "shell.execute_reply": "2024-03-06T12:11:50.003111Z"
    },
    "papermill": {
     "duration": 0.025361,
     "end_time": "2024-03-06T12:11:50.006549",
     "exception": false,
     "start_time": "2024-03-06T12:11:49.981188",
     "status": "completed"
    },
    "tags": []
   },
   "outputs": [],
   "source": [
    "# gc.collect()"
   ]
  },
  {
   "cell_type": "markdown",
   "id": "b9645519",
   "metadata": {
    "papermill": {
     "duration": 0.015908,
     "end_time": "2024-03-06T12:11:50.039405",
     "exception": false,
     "start_time": "2024-03-06T12:11:50.023497",
     "status": "completed"
    },
    "tags": []
   },
   "source": [
    "### Feature Importance"
   ]
  },
  {
   "cell_type": "code",
   "execution_count": 28,
   "id": "284adcc5",
   "metadata": {
    "execution": {
     "iopub.execute_input": "2024-03-06T12:11:50.075791Z",
     "iopub.status.busy": "2024-03-06T12:11:50.074978Z",
     "iopub.status.idle": "2024-03-06T12:11:50.079716Z",
     "shell.execute_reply": "2024-03-06T12:11:50.078840Z"
    },
    "papermill": {
     "duration": 0.025172,
     "end_time": "2024-03-06T12:11:50.081922",
     "exception": false,
     "start_time": "2024-03-06T12:11:50.056750",
     "status": "completed"
    },
    "tags": []
   },
   "outputs": [],
   "source": [
    "# def train_rf(X, Y):    \n",
    "#     params = {\n",
    "#         \"boosting_type\": \"gbdt\",\n",
    "#         \"objective\": \"binary\",\n",
    "#         \"metric\": \"auc\",\n",
    "#         \"max_depth\": 8,\n",
    "#         \"max_bin\": 255,\n",
    "#         \"learning_rate\": 0.05,\n",
    "#         \"n_estimators\": 200,\n",
    "#         \"colsample_bytree\": 0.8, \n",
    "#         \"colsample_bynode\": 0.8,\n",
    "#         \"verbose\": -1,\n",
    "#         \"random_state\": 42,\n",
    "#         \"device\": \"gpu\",\n",
    "#     }\n",
    "    \n",
    "#     model = lgb.LGBMClassifier(**params)\n",
    "    \n",
    "#     model.fit(X.to_pandas(), Y.to_pandas())\n",
    "    \n",
    "#     # Get feature importances\n",
    "#     return pl.DataFrame({\n",
    "#         \"feature\": list(X.columns),\n",
    "#         \"feature_importance\": model.feature_importances_,\n",
    "#         \"train_score\": roc_auc_score(Y.to_pandas(), model.predict(X.to_pandas()))\n",
    "#     })"
   ]
  },
  {
   "cell_type": "code",
   "execution_count": 29,
   "id": "04ae45c6",
   "metadata": {
    "execution": {
     "iopub.execute_input": "2024-03-06T12:11:50.115628Z",
     "iopub.status.busy": "2024-03-06T12:11:50.114915Z",
     "iopub.status.idle": "2024-03-06T12:11:50.119420Z",
     "shell.execute_reply": "2024-03-06T12:11:50.118539Z"
    },
    "papermill": {
     "duration": 0.023867,
     "end_time": "2024-03-06T12:11:50.121701",
     "exception": false,
     "start_time": "2024-03-06T12:11:50.097834",
     "status": "completed"
    },
    "tags": []
   },
   "outputs": [],
   "source": [
    "# def get_feature_importance(X, Y):\n",
    "#     COUNT_ITER = 50\n",
    "    \n",
    "#     dfs = []\n",
    "#     for i in range(COUNT_ITER):\n",
    "#         gc.collect()\n",
    "        \n",
    "#         start_time = time.time()\n",
    "#         shuffled_Y = Y.clone().sample(fraction=1.0, shuffle=True)\n",
    "#         current_df = train_rf(X, shuffled_Y)\n",
    "#         finish_time = time.time()\n",
    "#         print(f\"Finish iteration: {i + 1}/{COUNT_ITER}, time: {finish_time - start_time}\")\n",
    "#         current_df = current_df.with_columns(pl.lit(i).alias(\"iteration\"))\n",
    "#         dfs.append(current_df)\n",
    "        \n",
    "#     return pl.concat(dfs, rechunk=True), train_rf(X, Y)"
   ]
  },
  {
   "cell_type": "code",
   "execution_count": 30,
   "id": "1f0ae07f",
   "metadata": {
    "execution": {
     "iopub.execute_input": "2024-03-06T12:11:50.158375Z",
     "iopub.status.busy": "2024-03-06T12:11:50.157649Z",
     "iopub.status.idle": "2024-03-06T12:11:50.161691Z",
     "shell.execute_reply": "2024-03-06T12:11:50.160838Z"
    },
    "papermill": {
     "duration": 0.023746,
     "end_time": "2024-03-06T12:11:50.164287",
     "exception": false,
     "start_time": "2024-03-06T12:11:50.140541",
     "status": "completed"
    },
    "tags": []
   },
   "outputs": [],
   "source": [
    "# shuffled_feature_importance_df, feature_importance_df = get_feature_importance(train_df[features], train_df[\"target\"])\n",
    "# shuffled_feature_importance_df.write_csv(\"shuffled_feature_importance_df.csv\", separator=\",\")\n",
    "# feature_importance_df.write_csv(\"feature_importance_df.csv\", separator=\",\")"
   ]
  },
  {
   "cell_type": "code",
   "execution_count": 31,
   "id": "910ce6a7",
   "metadata": {
    "execution": {
     "iopub.execute_input": "2024-03-06T12:11:50.198646Z",
     "iopub.status.busy": "2024-03-06T12:11:50.198199Z",
     "iopub.status.idle": "2024-03-06T12:11:50.202947Z",
     "shell.execute_reply": "2024-03-06T12:11:50.201906Z"
    },
    "papermill": {
     "duration": 0.024611,
     "end_time": "2024-03-06T12:11:50.205055",
     "exception": false,
     "start_time": "2024-03-06T12:11:50.180444",
     "status": "completed"
    },
    "tags": []
   },
   "outputs": [],
   "source": [
    "# important_features = []\n",
    "# for column in feature_importance_df[\"feature\"]:\n",
    "#     shuffled_feature_importance = shuffled_feature_importance_df.filter(shuffled_feature_importance_df[\"feature\"] == column)[\"feature_importance\"].to_numpy()\n",
    "#     feature_importance = feature_importance_df.filter(feature_importance_df[\"feature\"] == column)[\"feature_importance\"][0]\n",
    "    \n",
    "#     if (np.percentile(shuffled_feature_importance, 90) <= feature_importance):\n",
    "#         important_features.append(column)\n",
    "# print(len(important_features), important_features)"
   ]
  },
  {
   "cell_type": "markdown",
   "id": "af0a1737",
   "metadata": {
    "papermill": {
     "duration": 0.01652,
     "end_time": "2024-03-06T12:11:50.237555",
     "exception": false,
     "start_time": "2024-03-06T12:11:50.221035",
     "status": "completed"
    },
    "tags": []
   },
   "source": [
    "# Training"
   ]
  },
  {
   "cell_type": "code",
   "execution_count": 32,
   "id": "3d8e31fe",
   "metadata": {
    "execution": {
     "iopub.execute_input": "2024-03-06T12:11:50.272021Z",
     "iopub.status.busy": "2024-03-06T12:11:50.271597Z",
     "iopub.status.idle": "2024-03-06T12:11:50.276767Z",
     "shell.execute_reply": "2024-03-06T12:11:50.275521Z"
    },
    "papermill": {
     "duration": 0.026246,
     "end_time": "2024-03-06T12:11:50.279387",
     "exception": false,
     "start_time": "2024-03-06T12:11:50.253141",
     "status": "completed"
    },
    "tags": []
   },
   "outputs": [],
   "source": [
    "# class VotingModel(BaseEstimator, RegressorMixin):\n",
    "#     def __init__(self, estimators):\n",
    "#         super().__init__()\n",
    "#         self.estimators = estimators\n",
    "        \n",
    "#     def fit(self, X, y=None):\n",
    "#         return self\n",
    "    \n",
    "#     def predict(self, X):\n",
    "#         y_preds = [estimator.predict(X) for estimator in self.estimators]\n",
    "#         return np.mean(y_preds, axis=0)\n",
    "    \n",
    "#     def predict_proba(self, X):\n",
    "#         y_preds = [estimator.predict_proba(X) for estimator in self.estimators]\n",
    "#         return np.mean(y_preds, axis=0)\n",
    "    \n",
    "#     def get_feature_importance(self):\n",
    "#         feature_importances = np.array([0 for feature in features])\n",
    "\n",
    "#         for model in self.estimators:\n",
    "#             feature_importances += model.feature_importances_\n",
    "\n",
    "#         return feature_importances"
   ]
  },
  {
   "cell_type": "code",
   "execution_count": 33,
   "id": "a4409af9",
   "metadata": {
    "execution": {
     "iopub.execute_input": "2024-03-06T12:11:50.320439Z",
     "iopub.status.busy": "2024-03-06T12:11:50.320003Z",
     "iopub.status.idle": "2024-03-06T12:11:50.324945Z",
     "shell.execute_reply": "2024-03-06T12:11:50.323452Z"
    },
    "papermill": {
     "duration": 0.029654,
     "end_time": "2024-03-06T12:11:50.327967",
     "exception": false,
     "start_time": "2024-03-06T12:11:50.298313",
     "status": "completed"
    },
    "tags": []
   },
   "outputs": [],
   "source": [
    "# for column in features:\n",
    "#     if (train_dataset[column].dtype != pl.Categorical) and \\\n",
    "#         (train_dataset[column].dtype != pl.Float64) and \\\n",
    "#         (train_dataset[column].dtype != pl.Float64):\n",
    "#         print(column, train_dataset[column].dtype)"
   ]
  },
  {
   "cell_type": "code",
   "execution_count": 34,
   "id": "e0f944fd",
   "metadata": {
    "execution": {
     "iopub.execute_input": "2024-03-06T12:11:50.365804Z",
     "iopub.status.busy": "2024-03-06T12:11:50.365009Z",
     "iopub.status.idle": "2024-03-06T12:11:50.369802Z",
     "shell.execute_reply": "2024-03-06T12:11:50.368991Z"
    },
    "papermill": {
     "duration": 0.0245,
     "end_time": "2024-03-06T12:11:50.371918",
     "exception": false,
     "start_time": "2024-03-06T12:11:50.347418",
     "status": "completed"
    },
    "tags": []
   },
   "outputs": [],
   "source": [
    "# def train_lgb_model(X_train, Y_train, X_test, Y_test):\n",
    "#     params = {\n",
    "#         \"boosting_type\": \"gbdt\",\n",
    "#         \"objective\": \"binary\",\n",
    "#         \"metric\": \"auc\",\n",
    "#         \"max_depth\": 8,\n",
    "#         \"max_bin\": 250,\n",
    "#         \"learning_rate\": 0.05,\n",
    "#         \"n_estimators\": 1000,\n",
    "#         \"colsample_bytree\": 0.8, \n",
    "#         \"colsample_bynode\": 0.8,\n",
    "#         \"verbose\": -1,\n",
    "#         \"random_state\": 42,\n",
    "#         \"device\": \"gpu\",\n",
    "#     }\n",
    "    \n",
    "#     model = lgb.LGBMClassifier(**params)\n",
    "    \n",
    "#     model.fit(\n",
    "#         X_train, Y_train,\n",
    "#         eval_set=[(X_test, Y_test)],\n",
    "#         callbacks=[lgb.log_evaluation(100), lgb.early_stopping(100)]\n",
    "#     )\n",
    "        \n",
    "#     return model"
   ]
  },
  {
   "cell_type": "code",
   "execution_count": 35,
   "id": "4c51d53a",
   "metadata": {
    "execution": {
     "iopub.execute_input": "2024-03-06T12:11:50.412383Z",
     "iopub.status.busy": "2024-03-06T12:11:50.411483Z",
     "iopub.status.idle": "2024-03-06T12:11:50.416650Z",
     "shell.execute_reply": "2024-03-06T12:11:50.415152Z"
    },
    "papermill": {
     "duration": 0.029036,
     "end_time": "2024-03-06T12:11:50.418938",
     "exception": false,
     "start_time": "2024-03-06T12:11:50.389902",
     "status": "completed"
    },
    "tags": []
   },
   "outputs": [],
   "source": [
    "# gc.collect()"
   ]
  },
  {
   "cell_type": "code",
   "execution_count": 36,
   "id": "5fda556b",
   "metadata": {
    "execution": {
     "iopub.execute_input": "2024-03-06T12:11:50.457734Z",
     "iopub.status.busy": "2024-03-06T12:11:50.456820Z",
     "iopub.status.idle": "2024-03-06T12:11:50.462963Z",
     "shell.execute_reply": "2024-03-06T12:11:50.461863Z"
    },
    "papermill": {
     "duration": 0.028121,
     "end_time": "2024-03-06T12:11:50.465440",
     "exception": false,
     "start_time": "2024-03-06T12:11:50.437319",
     "status": "completed"
    },
    "tags": []
   },
   "outputs": [],
   "source": [
    "# weeks = train_df[\"WEEK_NUM\"]\n",
    "# cv = StratifiedGroupKFold(n_splits=5, shuffle=False)\n",
    "\n",
    "# fitted_models = []\n",
    "\n",
    "# oof_predicted = np.zeros(train_df.shape[0])\n",
    "\n",
    "# for idx_train, idx_test in cv.split(train_df[features], train_df[\"target\"], groups=weeks):        \n",
    "# #     X_train = train_df[features][idx_train].to_pandas()\n",
    "# #     Y_train = train_df[\"target\"][idx_train].to_pandas()\n",
    "    \n",
    "#     X_test = train_df[features][idx_test].to_pandas()\n",
    "#     Y_test = train_df[\"target\"][idx_test].to_pandas()\n",
    "    \n",
    "#     start = time.time()\n",
    "#     params = {\n",
    "#         \"boosting_type\": \"gbdt\",\n",
    "#         \"objective\": \"binary\",\n",
    "#         \"metric\": \"auc\",\n",
    "#         \"max_depth\": 8,\n",
    "#         \"max_bin\": 250,\n",
    "#         \"learning_rate\": 0.05,\n",
    "#         \"n_estimators\": 1000,\n",
    "#         \"colsample_bytree\": 0.8, \n",
    "#         \"colsample_bynode\": 0.8,\n",
    "#         \"verbose\": -1,\n",
    "#         \"random_state\": 42,\n",
    "#         \"device\": \"gpu\",\n",
    "#     }\n",
    "    \n",
    "#     model = lgb.LGBMClassifier(**params)\n",
    "    \n",
    "#     model.fit(\n",
    "#         train_df[features][idx_train].to_pandas(), train_df[\"target\"][idx_train].to_pandas(),\n",
    "#         eval_set=[(X_test, Y_test)],\n",
    "#         callbacks=[lgb.log_evaluation(100), lgb.early_stopping(100)]\n",
    "#     )\n",
    "        \n",
    "\n",
    "# #    model = train_lgb_model(X_train, Y_train, X_test, Y_test)\n",
    "#     finish = time.time()\n",
    "    \n",
    "#     print(\"fit time: {}\".format(finish - start))\n",
    "#     fitted_models.append(model)\n",
    "    \n",
    "#     test_pred = model.predict_proba(X_test)[:, 1]\n",
    "#     oof_predicted[idx_test] = test_pred\n",
    "#     gc.collect()\n",
    "\n",
    "# model = VotingModel(fitted_models)\n",
    "# gc.collect()"
   ]
  },
  {
   "cell_type": "code",
   "execution_count": 37,
   "id": "9b873a8e",
   "metadata": {
    "execution": {
     "iopub.execute_input": "2024-03-06T12:11:50.500122Z",
     "iopub.status.busy": "2024-03-06T12:11:50.499718Z",
     "iopub.status.idle": "2024-03-06T12:11:50.504037Z",
     "shell.execute_reply": "2024-03-06T12:11:50.502899Z"
    },
    "papermill": {
     "duration": 0.024912,
     "end_time": "2024-03-06T12:11:50.506363",
     "exception": false,
     "start_time": "2024-03-06T12:11:50.481451",
     "status": "completed"
    },
    "tags": []
   },
   "outputs": [],
   "source": [
    "# roc_auc_oof = roc_auc_score(train_df[\"target\"], oof_predicted)\n",
    "# print(\"CV roc_auc_oof: \", roc_auc_oof)"
   ]
  },
  {
   "cell_type": "markdown",
   "id": "83935d14",
   "metadata": {
    "papermill": {
     "duration": 0.018249,
     "end_time": "2024-03-06T12:11:50.542058",
     "exception": false,
     "start_time": "2024-03-06T12:11:50.523809",
     "status": "completed"
    },
    "tags": []
   },
   "source": [
    "# Predict"
   ]
  },
  {
   "cell_type": "code",
   "execution_count": 38,
   "id": "290f5e37",
   "metadata": {
    "execution": {
     "iopub.execute_input": "2024-03-06T12:11:50.582325Z",
     "iopub.status.busy": "2024-03-06T12:11:50.581150Z",
     "iopub.status.idle": "2024-03-06T12:11:50.586593Z",
     "shell.execute_reply": "2024-03-06T12:11:50.585450Z"
    },
    "papermill": {
     "duration": 0.028311,
     "end_time": "2024-03-06T12:11:50.589625",
     "exception": false,
     "start_time": "2024-03-06T12:11:50.561314",
     "status": "completed"
    },
    "tags": []
   },
   "outputs": [],
   "source": [
    "# del train_df\n",
    "# gc.collect()"
   ]
  },
  {
   "cell_type": "code",
   "execution_count": 39,
   "id": "ba46d3ca",
   "metadata": {
    "execution": {
     "iopub.execute_input": "2024-03-06T12:11:50.625670Z",
     "iopub.status.busy": "2024-03-06T12:11:50.625266Z",
     "iopub.status.idle": "2024-03-06T12:11:50.629862Z",
     "shell.execute_reply": "2024-03-06T12:11:50.628631Z"
    },
    "papermill": {
     "duration": 0.025617,
     "end_time": "2024-03-06T12:11:50.632199",
     "exception": false,
     "start_time": "2024-03-06T12:11:50.606582",
     "status": "completed"
    },
    "tags": []
   },
   "outputs": [],
   "source": [
    "# test_dataset = data_loader.load_test_dataset()\n",
    "# print(\"Test dataset week range: {}-{}\".format(test_dataset.base[\"WEEK_NUM\"].min(), test_dataset.base[\"WEEK_NUM\"].max()))\n",
    "# gc.collect()\n",
    "# test_df = preprocessor.process_test_dataset(test_dataset)\n",
    "# del test_dataset\n",
    "# gc.collect()"
   ]
  },
  {
   "cell_type": "code",
   "execution_count": 40,
   "id": "53de720f",
   "metadata": {
    "execution": {
     "iopub.execute_input": "2024-03-06T12:11:50.668619Z",
     "iopub.status.busy": "2024-03-06T12:11:50.668141Z",
     "iopub.status.idle": "2024-03-06T12:11:50.672762Z",
     "shell.execute_reply": "2024-03-06T12:11:50.671636Z"
    },
    "papermill": {
     "duration": 0.025222,
     "end_time": "2024-03-06T12:11:50.674914",
     "exception": false,
     "start_time": "2024-03-06T12:11:50.649692",
     "status": "completed"
    },
    "tags": []
   },
   "outputs": [],
   "source": [
    "# print([name for value, name in reversed(sorted(zip(model.get_feature_importance(), features)))][0:200])"
   ]
  },
  {
   "cell_type": "code",
   "execution_count": null,
   "id": "8a1883c3",
   "metadata": {
    "papermill": {
     "duration": 0.016699,
     "end_time": "2024-03-06T12:11:50.708426",
     "exception": false,
     "start_time": "2024-03-06T12:11:50.691727",
     "status": "completed"
    },
    "tags": []
   },
   "outputs": [],
   "source": []
  },
  {
   "cell_type": "code",
   "execution_count": 41,
   "id": "513ecd2c",
   "metadata": {
    "execution": {
     "iopub.execute_input": "2024-03-06T12:11:50.746390Z",
     "iopub.status.busy": "2024-03-06T12:11:50.745088Z",
     "iopub.status.idle": "2024-03-06T12:11:50.751859Z",
     "shell.execute_reply": "2024-03-06T12:11:50.750166Z"
    },
    "papermill": {
     "duration": 0.029184,
     "end_time": "2024-03-06T12:11:50.755119",
     "exception": false,
     "start_time": "2024-03-06T12:11:50.725935",
     "status": "completed"
    },
    "tags": []
   },
   "outputs": [],
   "source": [
    "# CV roc_auc_oof:  0.8353789451006361 without feature selection ~500 features\n",
    "# CV roc_auc_oof:  0.8329322959533371 with feature selection ~200 features"
   ]
  },
  {
   "cell_type": "code",
   "execution_count": null,
   "id": "6fc60203",
   "metadata": {
    "papermill": {
     "duration": 0.016025,
     "end_time": "2024-03-06T12:11:50.788148",
     "exception": false,
     "start_time": "2024-03-06T12:11:50.772123",
     "status": "completed"
    },
    "tags": []
   },
   "outputs": [],
   "source": []
  },
  {
   "cell_type": "code",
   "execution_count": 42,
   "id": "5e5b9223",
   "metadata": {
    "execution": {
     "iopub.execute_input": "2024-03-06T12:11:50.823123Z",
     "iopub.status.busy": "2024-03-06T12:11:50.822710Z",
     "iopub.status.idle": "2024-03-06T12:11:50.828639Z",
     "shell.execute_reply": "2024-03-06T12:11:50.827485Z"
    },
    "papermill": {
     "duration": 0.026442,
     "end_time": "2024-03-06T12:11:50.830888",
     "exception": false,
     "start_time": "2024-03-06T12:11:50.804446",
     "status": "completed"
    },
    "tags": []
   },
   "outputs": [],
   "source": [
    "# def gini_stability(dataset, w_fallingrate=88.0, w_resstd=-0.5):\n",
    "#     gini_in_time = dataset\\\n",
    "#         .sort_values(\"WEEK_NUM\")\\\n",
    "#         .groupby(\"WEEK_NUM\")[[\"true\", \"predicted\"]]\\\n",
    "#         .apply(lambda x: 2 * roc_auc_score(x[\"true\"], x[\"predicted\"]) - 1).tolist()\n",
    "    \n",
    "#     x = np.arange(len(gini_in_time))\n",
    "#     y = gini_in_time\n",
    "#     a, b = np.polyfit(x, y, 1)\n",
    "#     y_hat = a * x + b\n",
    "#     residuals = y - y_hat\n",
    "#     res_std = np.std(residuals)\n",
    "#     avg_gini = np.mean(gini_in_time)\n",
    "    \n",
    "#     print(avg_gini, min(0, a), res_std)\n",
    "    \n",
    "#     return avg_gini + w_fallingrate * min(0, a) + w_resstd * res_std"
   ]
  },
  {
   "cell_type": "code",
   "execution_count": 43,
   "id": "dd86d9b7",
   "metadata": {
    "execution": {
     "iopub.execute_input": "2024-03-06T12:11:50.865193Z",
     "iopub.status.busy": "2024-03-06T12:11:50.864784Z",
     "iopub.status.idle": "2024-03-06T12:11:50.869311Z",
     "shell.execute_reply": "2024-03-06T12:11:50.868172Z"
    },
    "papermill": {
     "duration": 0.024884,
     "end_time": "2024-03-06T12:11:50.871667",
     "exception": false,
     "start_time": "2024-03-06T12:11:50.846783",
     "status": "completed"
    },
    "tags": []
   },
   "outputs": [],
   "source": [
    "# # Y_train_predicted = model.predict_proba(train_df[features].to_pandas())\n",
    "# Y_test_predicted = model.predict_proba(test_df[features].to_pandas())"
   ]
  },
  {
   "cell_type": "code",
   "execution_count": 44,
   "id": "5b236223",
   "metadata": {
    "execution": {
     "iopub.execute_input": "2024-03-06T12:11:50.908368Z",
     "iopub.status.busy": "2024-03-06T12:11:50.907918Z",
     "iopub.status.idle": "2024-03-06T12:11:50.913118Z",
     "shell.execute_reply": "2024-03-06T12:11:50.911884Z"
    },
    "papermill": {
     "duration": 0.027849,
     "end_time": "2024-03-06T12:11:50.916321",
     "exception": false,
     "start_time": "2024-03-06T12:11:50.888472",
     "status": "completed"
    },
    "tags": []
   },
   "outputs": [],
   "source": [
    "# result = pd.DataFrame({\n",
    "#     \"WEEK_NUM\": train_df[\"WEEK_NUM\"],\n",
    "#     \"true\": train_df[\"target\"],\n",
    "#     \"predicted\": Y_train_predicted[:, 1],\n",
    "# })\n",
    "\n",
    "# train_result = gini_stability(result)\n",
    "# print(\"train_score: {}\".format(train_result))\n",
    "\n",
    "# if MODE == Mode.Train:\n",
    "#     result = pd.DataFrame({\n",
    "#         \"WEEK_NUM\": test_df[\"WEEK_NUM\"],\n",
    "#         \"true\": test_df[\"target\"],\n",
    "#         \"predicted\": Y_test_predicted[:, 1],\n",
    "#     })\n",
    "\n",
    "#     test_result = gini_stability(result)\n",
    "#     print(\"test_score: {}\".format(test_result))"
   ]
  },
  {
   "cell_type": "code",
   "execution_count": 45,
   "id": "34f01108",
   "metadata": {
    "execution": {
     "iopub.execute_input": "2024-03-06T12:11:50.950756Z",
     "iopub.status.busy": "2024-03-06T12:11:50.950357Z",
     "iopub.status.idle": "2024-03-06T12:11:50.955855Z",
     "shell.execute_reply": "2024-03-06T12:11:50.954604Z"
    },
    "papermill": {
     "duration": 0.024533,
     "end_time": "2024-03-06T12:11:50.957945",
     "exception": false,
     "start_time": "2024-03-06T12:11:50.933412",
     "status": "completed"
    },
    "tags": []
   },
   "outputs": [],
   "source": [
    "# Version 1, test_score: 0.583319926590042, public score 0.48\n",
    "# 100 iters\n",
    "\n",
    "# Version 2, test_score: 0.6062624701357268, public score 0.517\n",
    "# 300 iters\n",
    "\n",
    "# Version 3, test_score: ?, public score 0.545\n",
    "# 2000 iters\n",
    "\n",
    "# Version 4, test_score: ?, public score ?\n",
    "# ? iters, Improve aggregate functions for depth_1, depth_2\n"
   ]
  },
  {
   "cell_type": "markdown",
   "id": "d84e42b2",
   "metadata": {
    "papermill": {
     "duration": 0.015396,
     "end_time": "2024-03-06T12:11:50.989319",
     "exception": false,
     "start_time": "2024-03-06T12:11:50.973923",
     "status": "completed"
    },
    "tags": []
   },
   "source": [
    "# Submition"
   ]
  },
  {
   "cell_type": "code",
   "execution_count": 46,
   "id": "571f7ffc",
   "metadata": {
    "execution": {
     "iopub.execute_input": "2024-03-06T12:11:51.024541Z",
     "iopub.status.busy": "2024-03-06T12:11:51.024085Z",
     "iopub.status.idle": "2024-03-06T12:11:51.028738Z",
     "shell.execute_reply": "2024-03-06T12:11:51.027603Z"
    },
    "papermill": {
     "duration": 0.025096,
     "end_time": "2024-03-06T12:11:51.031401",
     "exception": false,
     "start_time": "2024-03-06T12:11:51.006305",
     "status": "completed"
    },
    "tags": []
   },
   "outputs": [],
   "source": [
    "# case_id = test_df[\"case_id\"]\n",
    "# X = test_df[features].to_pandas()\n",
    "\n",
    "# Y = model.predict_proba(X)\n",
    "\n",
    "# submission = pd.DataFrame({\n",
    "#     \"case_id\": case_id.to_numpy(),\n",
    "#     \"score\": Y[:, 1]\n",
    "# }).set_index('case_id')\n",
    "# submission.to_csv(\"./submission.csv\")"
   ]
  },
  {
   "cell_type": "code",
   "execution_count": null,
   "id": "36fe74c8",
   "metadata": {
    "papermill": {
     "duration": 0.017461,
     "end_time": "2024-03-06T12:11:51.065906",
     "exception": false,
     "start_time": "2024-03-06T12:11:51.048445",
     "status": "completed"
    },
    "tags": []
   },
   "outputs": [],
   "source": []
  },
  {
   "cell_type": "code",
   "execution_count": null,
   "id": "547ccde2",
   "metadata": {
    "papermill": {
     "duration": 0.017914,
     "end_time": "2024-03-06T12:11:51.101189",
     "exception": false,
     "start_time": "2024-03-06T12:11:51.083275",
     "status": "completed"
    },
    "tags": []
   },
   "outputs": [],
   "source": []
  },
  {
   "cell_type": "code",
   "execution_count": null,
   "id": "aa98d397",
   "metadata": {
    "papermill": {
     "duration": 0.018433,
     "end_time": "2024-03-06T12:11:51.138349",
     "exception": false,
     "start_time": "2024-03-06T12:11:51.119916",
     "status": "completed"
    },
    "tags": []
   },
   "outputs": [],
   "source": []
  }
 ],
 "metadata": {
  "kaggle": {
   "accelerator": "none",
   "dataSources": [
    {
     "databundleVersionId": 7602123,
     "sourceId": 50160,
     "sourceType": "competition"
    },
    {
     "databundleVersionId": 7876827,
     "datasetId": 4496896,
     "sourceId": 7775323,
     "sourceType": "datasetVersion"
    }
   ],
   "dockerImageVersionId": 30635,
   "isGpuEnabled": false,
   "isInternetEnabled": false,
   "language": "python",
   "sourceType": "notebook"
  },
  "kernelspec": {
   "display_name": "Python 3",
   "language": "python",
   "name": "python3"
  },
  "language_info": {
   "codemirror_mode": {
    "name": "ipython",
    "version": 3
   },
   "file_extension": ".py",
   "mimetype": "text/x-python",
   "name": "python",
   "nbconvert_exporter": "python",
   "pygments_lexer": "ipython3",
   "version": "3.10.12"
  },
  "papermill": {
   "default_parameters": {},
   "duration": 770.191133,
   "end_time": "2024-03-06T12:11:52.182336",
   "environment_variables": {},
   "exception": null,
   "input_path": "__notebook__.ipynb",
   "output_path": "__notebook__.ipynb",
   "parameters": {},
   "start_time": "2024-03-06T11:59:01.991203",
   "version": "2.4.0"
  }
 },
 "nbformat": 4,
 "nbformat_minor": 5
}
