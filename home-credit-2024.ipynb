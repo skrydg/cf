{
 "cells": [
  {
   "cell_type": "markdown",
   "id": "c63abf8e",
   "metadata": {
    "papermill": {
     "duration": 0.017843,
     "end_time": "2024-04-18T18:29:24.713772",
     "exception": false,
     "start_time": "2024-04-18T18:29:24.695929",
     "status": "completed"
    },
    "tags": []
   },
   "source": [
    "# Install packages"
   ]
  },
  {
   "cell_type": "code",
   "execution_count": 1,
   "id": "23e8c0f4",
   "metadata": {
    "execution": {
     "iopub.execute_input": "2024-04-18T18:29:24.750953Z",
     "iopub.status.busy": "2024-04-18T18:29:24.750403Z",
     "iopub.status.idle": "2024-04-18T18:30:01.116701Z",
     "shell.execute_reply": "2024-04-18T18:30:01.115122Z"
    },
    "papermill": {
     "duration": 36.388495,
     "end_time": "2024-04-18T18:30:01.119805",
     "exception": false,
     "start_time": "2024-04-18T18:29:24.731310",
     "status": "completed"
    },
    "tags": []
   },
   "outputs": [
    {
     "name": "stdout",
     "output_type": "stream",
     "text": [
      "Processing /kaggle/input/kaggle-home-credit-risk-model-stability-lib/kaggle_home_credit_risk_model_stability-0.3-py3-none-any.whl\r\n",
      "Installing collected packages: kaggle-home-credit-risk-model-stability\r\n",
      "Successfully installed kaggle-home-credit-risk-model-stability-0.3\r\n"
     ]
    }
   ],
   "source": [
    "!pip install /kaggle/input/kaggle-home-credit-risk-model-stability-lib/kaggle_home_credit_risk_model_stability-0.3-py3-none-any.whl --force-reinstall"
   ]
  },
  {
   "cell_type": "markdown",
   "id": "aacab5ea",
   "metadata": {
    "papermill": {
     "duration": 0.021631,
     "end_time": "2024-04-18T18:30:01.160839",
     "exception": false,
     "start_time": "2024-04-18T18:30:01.139208",
     "status": "completed"
    },
    "tags": []
   },
   "source": [
    "# Import packages"
   ]
  },
  {
   "cell_type": "code",
   "execution_count": 2,
   "id": "45cb939a",
   "metadata": {
    "execution": {
     "iopub.execute_input": "2024-04-18T18:30:01.203041Z",
     "iopub.status.busy": "2024-04-18T18:30:01.202534Z",
     "iopub.status.idle": "2024-04-18T18:30:06.529172Z",
     "shell.execute_reply": "2024-04-18T18:30:06.527611Z"
    },
    "papermill": {
     "duration": 5.352323,
     "end_time": "2024-04-18T18:30:06.532602",
     "exception": false,
     "start_time": "2024-04-18T18:30:01.180279",
     "status": "completed"
    },
    "tags": []
   },
   "outputs": [],
   "source": [
    "import polars as pl\n",
    "import gc\n",
    "import time\n",
    "import numpy as np\n",
    "import pandas as pd\n",
    "import lightgbm as lgb\n",
    "import seaborn as sns\n",
    "import matplotlib.pyplot as plt\n",
    "import copy\n",
    "import lightgbm as lgb\n",
    "import importlib\n",
    "import pickle\n",
    "import argparse\n",
    "\n",
    "import kaggle_home_credit_risk_model_stability.libs as hcr\n",
    "from kaggle_home_credit_risk_model_stability.libs.env import Env\n",
    "from kaggle_home_credit_risk_model_stability.libs.input.dataset import Dataset\n",
    "from kaggle_home_credit_risk_model_stability.libs.input.data_loader import DataLoader\n",
    "from kaggle_home_credit_risk_model_stability.libs.preprocessor.preprocessor import Preprocessor\n",
    "from kaggle_home_credit_risk_model_stability.libs.preprocessor.steps import *\n",
    "from kaggle_home_credit_risk_model_stability.libs.preprocessor.columns_info import ColumnsInfo\n",
    "from kaggle_home_credit_risk_model_stability.libs.feature_description.feature_description import FreatureDescriptionGetter\n",
    "\n",
    "from collections import defaultdict\n",
    "from glob import glob\n",
    "from pathlib import Path\n",
    "from sklearn.model_selection import train_test_split\n",
    "from sklearn.metrics import roc_auc_score\n",
    "from sklearn.model_selection import StratifiedGroupKFold\n",
    "from sklearn.base import BaseEstimator, RegressorMixin"
   ]
  },
  {
   "cell_type": "code",
   "execution_count": 3,
   "id": "d26a51eb",
   "metadata": {
    "execution": {
     "iopub.execute_input": "2024-04-18T18:30:06.574981Z",
     "iopub.status.busy": "2024-04-18T18:30:06.573885Z",
     "iopub.status.idle": "2024-04-18T18:30:06.578760Z",
     "shell.execute_reply": "2024-04-18T18:30:06.577905Z"
    },
    "papermill": {
     "duration": 0.029208,
     "end_time": "2024-04-18T18:30:06.581085",
     "exception": false,
     "start_time": "2024-04-18T18:30:06.551877",
     "status": "completed"
    },
    "tags": []
   },
   "outputs": [],
   "source": [
    "env = Env(\n",
    "    \"/kaggle/input/\",\n",
    "    \"/kaggle/working/\"\n",
    ")"
   ]
  },
  {
   "cell_type": "code",
   "execution_count": 4,
   "id": "a54956ce",
   "metadata": {
    "execution": {
     "iopub.execute_input": "2024-04-18T18:30:06.619687Z",
     "iopub.status.busy": "2024-04-18T18:30:06.618886Z",
     "iopub.status.idle": "2024-04-18T18:30:06.629217Z",
     "shell.execute_reply": "2024-04-18T18:30:06.628071Z"
    },
    "papermill": {
     "duration": 0.032473,
     "end_time": "2024-04-18T18:30:06.631960",
     "exception": false,
     "start_time": "2024-04-18T18:30:06.599487",
     "status": "completed"
    },
    "tags": []
   },
   "outputs": [],
   "source": [
    "data_loader = DataLoader(env, tables = [\n",
    "    \"base\", \"static_cb_0\", \"static_0\", \"person_1\", \"tax_registry_a_1\", \"tax_registry_b_1\", \"tax_registry_c_1\", \n",
    "    \"credit_bureau_a_2\"\n",
    "    #\"credit_bureau_a_1\" <- dramatically reduce PB\n",
    "    #\"credit_bureau_b_1\", \"credit_bureau_b_2\", \"other_1\", \"deposit_1\", \"debitcard_1\" <- low amount of data\n",
    "])\n",
    "\n",
    "preprocessor = Preprocessor({\n",
    "    #\"sort_raw_tables\": SortRawTablesStep(),\n",
    "    \"set_column_info_step\": SetColumnsInfoStep(),\n",
    "    \"set_types\": SetTypesStep(),\n",
    "    \"drop_composite_features\": DropCompositeFeaturesStep(),\n",
    "    \"create_day_feature\": CreateDayFeatureStep(),\n",
    "    # #\"drop_raw_null_columns\": DropRawNullColumns(feature_threashold=0.2, week_threashold=0.9),\n",
    "    \"process_categorical\": ProcessCategoricalStep(),\n",
    "    \"process_person_table\": ProcessPersonTableStep(),\n",
    "    #\"process_credit_burea_1_table\": ProcessCreditBureaua1TableStep(),\n",
    "    \"process_credit_burea_2_table\": ProcessCreditBureaua2TableStep(),\n",
    "    #\"split_composite_features\": SplitCompositeFeaturesStep(exclude_list=\"previouscontdistrict_112M\", drop_original=True),\n",
    "    \"reduce_dimention_for_categorical_features\": ReduceDimentionForCategoricalFeaturesStep(),\n",
    "    #\"one_hot_encoding_for_depth1\": OneHotEncodingForDepth1Step(),\n",
    "    #\"pairwise_diff_raw_dates\": PairwiseDateDiffStep(),\n",
    "    \"aggregate_depth_table\": AggregateDepthTableStep(),\n",
    "    #\"drop_equal_columns\": DropEqualColumnsStep(),\n",
    "    #\"drop_almost_null_features_respect_to_target\": DropAlmostNullFeaturesWithRespectToTargetStep(),\n",
    "    \"join_table\": JoinTablesStep(),\n",
    "    \"merge_chunked_table\": MergeChunkedTablesStep(),\n",
    "    \"drop_almost_null_features\": DropAlmostNullFeaturesStep(),\n",
    "    #\"generate_age_feature\": GenerateAgeFeatureStep(),\n",
    "    \"generate_base_date_diff\": GenerateBaseDateDiffStep(base_column=\"date_decision\"),\n",
    "    \"fill_nulls_in_categorical_features\": FillNullsInCategoricalFeaturesStep(),\n",
    "    **{\n",
    "        f\"create_money_feature_fraction_{base_column}\": CreateMoneyFeatureFractionStep(base_column)\n",
    "        for base_column in [\"credamount_770A\", \"maininc_215A\", \"mainoccupationinc_384A\"] # mean_amount_416A\n",
    "    },\n",
    "    #\"generate_mismatch_features\": GenerateMismatchFeaturesStep(),\n",
    "    #\"generate_target_distribution_based_on_categorical_features_step\": GenerateTargetDistributionBasedOnCategoricalStep(),\n",
    "    \"drop_single_value_features\": DropSingleValueFeaturesStep(),\n",
    "    \"drop_variable_enum_features\": DropVariableEnumFeaturesStep(),\n",
    "    \"reduce_memory_usage\": ReduceMemoryUsageStep()\n",
    "})"
   ]
  },
  {
   "cell_type": "code",
   "execution_count": null,
   "id": "8cc75a4b",
   "metadata": {
    "papermill": {
     "duration": 0.020873,
     "end_time": "2024-04-18T18:30:06.672372",
     "exception": false,
     "start_time": "2024-04-18T18:30:06.651499",
     "status": "completed"
    },
    "tags": []
   },
   "outputs": [],
   "source": []
  },
  {
   "cell_type": "code",
   "execution_count": 5,
   "id": "e056db51",
   "metadata": {
    "execution": {
     "iopub.execute_input": "2024-04-18T18:30:06.722004Z",
     "iopub.status.busy": "2024-04-18T18:30:06.720935Z",
     "iopub.status.idle": "2024-04-18T18:57:31.512142Z",
     "shell.execute_reply": "2024-04-18T18:57:31.510565Z"
    },
    "papermill": {
     "duration": 1644.838953,
     "end_time": "2024-04-18T18:57:31.535518",
     "exception": false,
     "start_time": "2024-04-18T18:30:06.696565",
     "status": "completed"
    },
    "tags": []
   },
   "outputs": [
    {
     "name": "stdout",
     "output_type": "stream",
     "text": [
      "Drop composite features ['lastapprcommoditycat_1041M', 'lastapprcommoditytypec_5251766M', 'lastcancelreason_561M', 'lastrejectcommoditycat_161M', 'lastrejectcommodtypec_5251769M', 'lastrejectreason_759M', 'lastrejectreasonclient_4145040M', 'previouscontdistrict_112M', 'contaddr_district_15M', 'contaddr_zipcode_807M', 'education_927M', 'empladdr_district_926M', 'empladdr_zipcode_114M', 'language1_981M', 'registaddr_district_1083M', 'registaddr_zipcode_184M']\n",
      "Generate 457 columns as aggregates\n",
      "Generate 457 columns as aggregates\n",
      "Generate 457 columns as aggregates\n",
      "Generate 457 columns as aggregates\n",
      "Generate 457 columns as aggregates\n",
      "Generate 457 columns as aggregates\n",
      "Generate 457 columns as aggregates\n",
      "Generate 457 columns as aggregates\n",
      "Generate 457 columns as aggregates\n",
      "Generate 457 columns as aggregates\n",
      "Generate 457 columns as aggregates\n",
      "Generate 457 columns as aggregates\n",
      "Generate 457 columns as aggregates\n",
      "Generate 457 columns as aggregates\n",
      "Generate 457 columns as aggregates\n",
      "Generate 457 columns as aggregates\n",
      "Drop 159 columns as almost null\n",
      "Columns to drop ['assignmentdate_4955616D', 'dateofbirth_342D', 'for3years_128L', 'for3years_504L', 'for3years_584L', 'formonth_118L', 'formonth_206L', 'formonth_535L', 'forquarter_1017L', 'forquarter_462L', 'forquarter_634L', 'fortoday_1092L', 'forweek_1077L', 'forweek_528L', 'forweek_601L', 'foryear_618L', 'foryear_818L', 'foryear_850L', 'pmtaverage_4955615A', 'pmtcount_4955617L', 'riskassesment_940T', 'clientscnt_136L', 'deferredmnthsnum_166L', 'equalityempfrom_62L', 'interestrategrace_34L', 'isbidproductrequest_292L', 'lastdependentsnum_448L', 'lastotherinc_902A', 'lastotherlnsexpense_631A', 'lastrepayingdate_696D', 'maxannuity_4075009A', 'payvacationpostpone_4187118D', 'max_name_4917606M', 'min_name_4917606M', 'first_name_4917606M', 'last_name_4917606M', 'mode_name_4917606M', 'birthdate_87D', 'childnum_185L', 'housingtype_772L', 'isreference_387L', 'personindex_1023L', 'persontype_1072L', 'persontype_792L', 'relationshiptoclient_415T', 'relationshiptoclient_642T', 'remitter_829L', 'max_birth_259D', 'max_birthdate_87D', 'max_childnum_185L', 'max_contaddr_matchlist_1032L', 'max_contaddr_smempladdr_334L', 'max_empl_employedfrom_271D', 'max_isreference_387L', 'max_mainoccupationinc_384A', 'max_safeguarantyflag_411L', 'min_birth_259D', 'min_birthdate_87D', 'min_childnum_185L', 'min_contaddr_matchlist_1032L', 'min_contaddr_smempladdr_334L', 'min_empl_employedfrom_271D', 'min_isreference_387L', 'min_mainoccupationinc_384A', 'min_safeguarantyflag_411L', 'first_birth_259D', 'first_birthdate_87D', 'first_childnum_185L', 'first_contaddr_matchlist_1032L', 'first_contaddr_smempladdr_334L', 'first_empl_employedfrom_271D', 'first_isreference_387L', 'first_mainoccupationinc_384A', 'first_safeguarantyflag_411L', 'last_birth_259D', 'last_birthdate_87D', 'last_childnum_185L', 'last_contaddr_matchlist_1032L', 'last_contaddr_smempladdr_334L', 'last_empl_employedfrom_271D', 'last_isreference_387L', 'last_mainoccupationinc_384A', 'last_safeguarantyflag_411L', 'mean_birth_259D', 'mean_birthdate_87D', 'mean_childnum_185L', 'mean_contaddr_matchlist_1032L', 'mean_contaddr_smempladdr_334L', 'mean_empl_employedfrom_271D', 'mean_isreference_387L', 'mean_mainoccupationinc_384A', 'mean_safeguarantyflag_411L', 'std_birth_259D', 'std_birthdate_87D', 'std_childnum_185L', 'std_contaddr_matchlist_1032L', 'std_contaddr_smempladdr_334L', 'std_empl_employedfrom_271D', 'std_isreference_387L', 'std_mainoccupationinc_384A', 'std_safeguarantyflag_411L', 'max_empl_employedtotal_800L', 'min_empl_employedtotal_800L', 'first_empl_employedtotal_800L', 'last_empl_employedtotal_800L', 'mode_empl_employedtotal_800L', 'max_empl_industry_691L', 'min_empl_industry_691L', 'first_empl_industry_691L', 'last_empl_industry_691L', 'mode_empl_industry_691L', 'max_familystate_447L', 'min_familystate_447L', 'first_familystate_447L', 'last_familystate_447L', 'mode_familystate_447L', 'max_gender_992L', 'min_gender_992L', 'first_gender_992L', 'last_gender_992L', 'mode_gender_992L', 'max_housetype_905L', 'min_housetype_905L', 'first_housetype_905L', 'last_housetype_905L', 'mode_housetype_905L', 'max_housingtype_772L', 'min_housingtype_772L', 'first_housingtype_772L', 'last_housingtype_772L', 'mode_housingtype_772L', 'max_incometype_1044T', 'min_incometype_1044T', 'first_incometype_1044T', 'last_incometype_1044T', 'mode_incometype_1044T', 'max_maritalst_703L', 'min_maritalst_703L', 'first_maritalst_703L', 'last_maritalst_703L', 'mode_maritalst_703L', 'max_role_993L', 'min_role_993L', 'first_role_993L', 'last_role_993L', 'mode_role_993L', 'max_sex_738L', 'min_sex_738L', 'first_sex_738L', 'last_sex_738L', 'mode_sex_738L', 'std_pmts_dpd_1073P', 'std_pmts_overdue_1140A', 'first_pmts_dpd_303P', 'first_pmts_overdue_1152A', 'last_pmts_dpd_303P', 'last_pmts_overdue_1152A', 'std_pmts_dpd_303P', 'std_pmts_overdue_1152A']\n",
      "Create 37 new date diff columns, with base_column=date_decision\n",
      "Create 45 new columns as money feature fraction with base 'credamount_770A'\n",
      "Create 45 new columns as money feature fraction with base 'maininc_215A'\n",
      "Create 45 new columns as money feature fraction with base 'mainoccupationinc_384A'\n",
      "Drop 1 columns as single value\n",
      "Drop 0 columns as variable enum value\n"
     ]
    },
    {
     "data": {
      "text/plain": [
       "0"
      ]
     },
     "execution_count": 5,
     "metadata": {},
     "output_type": "execute_result"
    }
   ],
   "source": [
    "train_dataset_generator = data_loader.load_train_dataset(chunk_size=100000)\n",
    "gc.collect()\n",
    "train_df, columns_info = preprocessor.process_train_dataset(train_dataset_generator)\n",
    "del train_dataset_generator\n",
    "gc.collect()"
   ]
  },
  {
   "cell_type": "code",
   "execution_count": 6,
   "id": "bbdb35c5",
   "metadata": {
    "execution": {
     "iopub.execute_input": "2024-04-18T18:57:31.578965Z",
     "iopub.status.busy": "2024-04-18T18:57:31.578508Z",
     "iopub.status.idle": "2024-04-18T18:57:55.139588Z",
     "shell.execute_reply": "2024-04-18T18:57:55.138274Z"
    },
    "papermill": {
     "duration": 23.585762,
     "end_time": "2024-04-18T18:57:55.142292",
     "exception": false,
     "start_time": "2024-04-18T18:57:31.556530",
     "status": "completed"
    },
    "tags": []
   },
   "outputs": [
    {
     "name": "stdout",
     "output_type": "stream",
     "text": [
      "3914.923069000244\n",
      "shape: (1_526_659, 715)\n",
      "┌─────────┬────────────┬────────┬──────────┬───┬────────────┬────────────┬────────────┬────────────┐\n",
      "│ case_id ┆ date_decis ┆ MONTH  ┆ WEEK_NUM ┆ … ┆ min_pmtamo ┆ first_pmta ┆ last_pmtam ┆ mean_pmtam │\n",
      "│ ---     ┆ ion        ┆ ---    ┆ ---      ┆   ┆ unt_36A/ma ┆ mount_36A/ ┆ ount_36A/m ┆ ount_36A/m │\n",
      "│ i32     ┆ ---        ┆ i32    ┆ i16      ┆   ┆ inoccupati ┆ mainoccupa ┆ ainoccupat ┆ ainoccupat │\n",
      "│         ┆ i16        ┆        ┆          ┆   ┆ on…        ┆ ti…        ┆ io…        ┆ io…        │\n",
      "│         ┆            ┆        ┆          ┆   ┆ ---        ┆ ---        ┆ ---        ┆ ---        │\n",
      "│         ┆            ┆        ┆          ┆   ┆ f32        ┆ f32        ┆ f32        ┆ f32        │\n",
      "╞═════════╪════════════╪════════╪══════════╪═══╪════════════╪════════════╪════════════╪════════════╡\n",
      "│ 0       ┆ 17899      ┆ 201901 ┆ 0        ┆ … ┆ null       ┆ null       ┆ null       ┆ null       │\n",
      "│ 1       ┆ 17899      ┆ 201901 ┆ 0        ┆ … ┆ null       ┆ null       ┆ null       ┆ null       │\n",
      "│ 2       ┆ 17900      ┆ 201901 ┆ 0        ┆ … ┆ null       ┆ null       ┆ null       ┆ null       │\n",
      "│ 3       ┆ 17899      ┆ 201901 ┆ 0        ┆ … ┆ null       ┆ null       ┆ null       ┆ null       │\n",
      "│ …       ┆ …          ┆ …      ┆ …        ┆ … ┆ …          ┆ …          ┆ …          ┆ …          │\n",
      "│ 2703451 ┆ 18540      ┆ 202010 ┆ 91       ┆ … ┆ null       ┆ null       ┆ null       ┆ null       │\n",
      "│ 2703452 ┆ 18540      ┆ 202010 ┆ 91       ┆ … ┆ null       ┆ null       ┆ null       ┆ null       │\n",
      "│ 2703453 ┆ 18540      ┆ 202010 ┆ 91       ┆ … ┆ null       ┆ null       ┆ null       ┆ null       │\n",
      "│ 2703454 ┆ 18540      ┆ 202010 ┆ 91       ┆ … ┆ null       ┆ null       ┆ null       ┆ null       │\n",
      "└─────────┴────────────┴────────┴──────────┴───┴────────────┴────────────┴────────────┴────────────┘\n"
     ]
    },
    {
     "data": {
      "text/plain": [
       "0"
      ]
     },
     "execution_count": 6,
     "metadata": {},
     "output_type": "execute_result"
    }
   ],
   "source": [
    "train_df.write_parquet(env.output_directory / \"train_df.parquet\")\n",
    "pickle.dump(columns_info, open(env.output_directory / \"columns_info.pkl\", \"wb\"))\n",
    "print(train_df.estimated_size() / 1024 / 1024)\n",
    "print(train_df)\n",
    "\n",
    "del train_df\n",
    "gc.collect()"
   ]
  },
  {
   "cell_type": "code",
   "execution_count": 7,
   "id": "ab704b77",
   "metadata": {
    "execution": {
     "iopub.execute_input": "2024-04-18T18:57:55.186865Z",
     "iopub.status.busy": "2024-04-18T18:57:55.185986Z",
     "iopub.status.idle": "2024-04-18T18:58:06.401736Z",
     "shell.execute_reply": "2024-04-18T18:58:06.400466Z"
    },
    "papermill": {
     "duration": 11.241299,
     "end_time": "2024-04-18T18:58:06.404920",
     "exception": false,
     "start_time": "2024-04-18T18:57:55.163621",
     "status": "completed"
    },
    "tags": []
   },
   "outputs": [
    {
     "name": "stdout",
     "output_type": "stream",
     "text": [
      "Generate 457 columns as aggregates\n",
      "Create 37 new date diff columns, with base_column=date_decision\n",
      "Create 45 new columns as money feature fraction with base 'credamount_770A'\n",
      "Create 45 new columns as money feature fraction with base 'maininc_215A'\n",
      "Create 45 new columns as money feature fraction with base 'mainoccupationinc_384A'\n"
     ]
    },
    {
     "data": {
      "text/plain": [
       "0"
      ]
     },
     "execution_count": 7,
     "metadata": {},
     "output_type": "execute_result"
    }
   ],
   "source": [
    "test_dataset_generator = data_loader.load_test_dataset(chunk_size=100000)\n",
    "gc.collect()\n",
    "test_df, columns_info = preprocessor.process_test_dataset(test_dataset_generator)\n",
    "del test_dataset_generator\n",
    "gc.collect()"
   ]
  },
  {
   "cell_type": "code",
   "execution_count": 8,
   "id": "38128ab2",
   "metadata": {
    "execution": {
     "iopub.execute_input": "2024-04-18T18:58:06.448942Z",
     "iopub.status.busy": "2024-04-18T18:58:06.448354Z",
     "iopub.status.idle": "2024-04-18T18:58:06.833118Z",
     "shell.execute_reply": "2024-04-18T18:58:06.831507Z"
    },
    "papermill": {
     "duration": 0.410112,
     "end_time": "2024-04-18T18:58:06.836165",
     "exception": false,
     "start_time": "2024-04-18T18:58:06.426053",
     "status": "completed"
    },
    "tags": []
   },
   "outputs": [
    {
     "name": "stdout",
     "output_type": "stream",
     "text": [
      "0.04651355743408203\n",
      "shape: (10, 714)\n",
      "┌─────────┬────────────┬────────┬──────────┬───┬────────────┬────────────┬────────────┬────────────┐\n",
      "│ case_id ┆ date_decis ┆ MONTH  ┆ WEEK_NUM ┆ … ┆ min_pmtamo ┆ first_pmta ┆ last_pmtam ┆ mean_pmtam │\n",
      "│ ---     ┆ ion        ┆ ---    ┆ ---      ┆   ┆ unt_36A/ma ┆ mount_36A/ ┆ ount_36A/m ┆ ount_36A/m │\n",
      "│ i32     ┆ ---        ┆ i32    ┆ i16      ┆   ┆ inoccupati ┆ mainoccupa ┆ ainoccupat ┆ ainoccupat │\n",
      "│         ┆ i16        ┆        ┆          ┆   ┆ on…        ┆ ti…        ┆ io…        ┆ io…        │\n",
      "│         ┆            ┆        ┆          ┆   ┆ ---        ┆ ---        ┆ ---        ┆ ---        │\n",
      "│         ┆            ┆        ┆          ┆   ┆ f32        ┆ f32        ┆ f32        ┆ f32        │\n",
      "╞═════════╪════════════╪════════╪══════════╪═══╪════════════╪════════════╪════════════╪════════════╡\n",
      "│ 57543   ┆ 18761      ┆ 202201 ┆ 100      ┆ … ┆ null       ┆ null       ┆ null       ┆ null       │\n",
      "│ 57549   ┆ 19009      ┆ 202201 ┆ 100      ┆ … ┆ null       ┆ null       ┆ null       ┆ null       │\n",
      "│ 57551   ┆ 18593      ┆ 202201 ┆ 100      ┆ … ┆ null       ┆ null       ┆ null       ┆ null       │\n",
      "│ 57552   ┆ 18593      ┆ 202201 ┆ 100      ┆ … ┆ null       ┆ null       ┆ null       ┆ null       │\n",
      "│ …       ┆ …          ┆ …      ┆ …        ┆ … ┆ …          ┆ …          ┆ …          ┆ …          │\n",
      "│ 57631   ┆ 19147      ┆ 202201 ┆ 100      ┆ … ┆ null       ┆ null       ┆ null       ┆ null       │\n",
      "│ 57632   ┆ 19028      ┆ 202201 ┆ 100      ┆ … ┆ null       ┆ null       ┆ null       ┆ null       │\n",
      "│ 57633   ┆ 19017      ┆ 202201 ┆ 100      ┆ … ┆ null       ┆ null       ┆ null       ┆ null       │\n",
      "│ 57634   ┆ 18654      ┆ 202201 ┆ 100      ┆ … ┆ null       ┆ null       ┆ null       ┆ null       │\n",
      "└─────────┴────────────┴────────┴──────────┴───┴────────────┴────────────┴────────────┴────────────┘\n"
     ]
    },
    {
     "data": {
      "text/plain": [
       "0"
      ]
     },
     "execution_count": 8,
     "metadata": {},
     "output_type": "execute_result"
    }
   ],
   "source": [
    "test_df.write_parquet(env.output_directory / \"test_df.parquet\")\n",
    "print(test_df.estimated_size() / 1024 / 1024)\n",
    "print(test_df)\n",
    "\n",
    "del test_df\n",
    "gc.collect()"
   ]
  },
  {
   "cell_type": "markdown",
   "id": "0cc961ff",
   "metadata": {
    "_kg_hide-input": true,
    "papermill": {
     "duration": 0.022258,
     "end_time": "2024-04-18T18:58:06.881036",
     "exception": false,
     "start_time": "2024-04-18T18:58:06.858778",
     "status": "completed"
    },
    "tags": []
   },
   "source": [
    "# Data visualization"
   ]
  },
  {
   "cell_type": "code",
   "execution_count": null,
   "id": "75eb0ff4",
   "metadata": {
    "papermill": {
     "duration": 0.021001,
     "end_time": "2024-04-18T18:58:06.923754",
     "exception": false,
     "start_time": "2024-04-18T18:58:06.902753",
     "status": "completed"
    },
    "tags": []
   },
   "outputs": [],
   "source": []
  },
  {
   "cell_type": "code",
   "execution_count": 9,
   "id": "b1da7a48",
   "metadata": {
    "execution": {
     "iopub.execute_input": "2024-04-18T18:58:06.968013Z",
     "iopub.status.busy": "2024-04-18T18:58:06.967598Z",
     "iopub.status.idle": "2024-04-18T18:58:06.972445Z",
     "shell.execute_reply": "2024-04-18T18:58:06.971347Z"
    },
    "papermill": {
     "duration": 0.030246,
     "end_time": "2024-04-18T18:58:06.975160",
     "exception": false,
     "start_time": "2024-04-18T18:58:06.944914",
     "status": "completed"
    },
    "tags": []
   },
   "outputs": [],
   "source": [
    "# train_dataset = data_loader.load_train_dataset()"
   ]
  },
  {
   "cell_type": "code",
   "execution_count": 10,
   "id": "fa809312",
   "metadata": {
    "execution": {
     "iopub.execute_input": "2024-04-18T18:58:07.019991Z",
     "iopub.status.busy": "2024-04-18T18:58:07.019513Z",
     "iopub.status.idle": "2024-04-18T18:58:07.024532Z",
     "shell.execute_reply": "2024-04-18T18:58:07.023185Z"
    },
    "papermill": {
     "duration": 0.030645,
     "end_time": "2024-04-18T18:58:07.027001",
     "exception": false,
     "start_time": "2024-04-18T18:58:06.996356",
     "status": "completed"
    },
    "tags": []
   },
   "outputs": [],
   "source": [
    "# [column for column in train_df.columns if \"amtdebitincoming_4809443A\" in column]"
   ]
  },
  {
   "cell_type": "code",
   "execution_count": 11,
   "id": "ea10aead",
   "metadata": {
    "execution": {
     "iopub.execute_input": "2024-04-18T18:58:07.071868Z",
     "iopub.status.busy": "2024-04-18T18:58:07.071449Z",
     "iopub.status.idle": "2024-04-18T18:58:07.075606Z",
     "shell.execute_reply": "2024-04-18T18:58:07.074763Z"
    },
    "papermill": {
     "duration": 0.029472,
     "end_time": "2024-04-18T18:58:07.077818",
     "exception": false,
     "start_time": "2024-04-18T18:58:07.048346",
     "status": "completed"
    },
    "tags": []
   },
   "outputs": [],
   "source": [
    "# train_dataset.get_base()[\"target\"].mean()"
   ]
  },
  {
   "cell_type": "code",
   "execution_count": 12,
   "id": "a7289c82",
   "metadata": {
    "execution": {
     "iopub.execute_input": "2024-04-18T18:58:07.123589Z",
     "iopub.status.busy": "2024-04-18T18:58:07.122529Z",
     "iopub.status.idle": "2024-04-18T18:58:07.127930Z",
     "shell.execute_reply": "2024-04-18T18:58:07.126712Z"
    },
    "papermill": {
     "duration": 0.030653,
     "end_time": "2024-04-18T18:58:07.130498",
     "exception": false,
     "start_time": "2024-04-18T18:58:07.099845",
     "status": "completed"
    },
    "tags": []
   },
   "outputs": [],
   "source": [
    "# tables = {name: table for name, table in train_dataset.get_depth_tables(1)}"
   ]
  },
  {
   "cell_type": "code",
   "execution_count": 13,
   "id": "c7697587",
   "metadata": {
    "execution": {
     "iopub.execute_input": "2024-04-18T18:58:07.175867Z",
     "iopub.status.busy": "2024-04-18T18:58:07.175396Z",
     "iopub.status.idle": "2024-04-18T18:58:07.180908Z",
     "shell.execute_reply": "2024-04-18T18:58:07.179475Z"
    },
    "papermill": {
     "duration": 0.031581,
     "end_time": "2024-04-18T18:58:07.183586",
     "exception": false,
     "start_time": "2024-04-18T18:58:07.152005",
     "status": "completed"
    },
    "tags": []
   },
   "outputs": [],
   "source": [
    "# applprev_1 = tables[\"applprev_1\"]"
   ]
  },
  {
   "cell_type": "code",
   "execution_count": 14,
   "id": "f6df3fee",
   "metadata": {
    "execution": {
     "iopub.execute_input": "2024-04-18T18:58:07.229102Z",
     "iopub.status.busy": "2024-04-18T18:58:07.228631Z",
     "iopub.status.idle": "2024-04-18T18:58:07.233797Z",
     "shell.execute_reply": "2024-04-18T18:58:07.232600Z"
    },
    "papermill": {
     "duration": 0.030628,
     "end_time": "2024-04-18T18:58:07.236207",
     "exception": false,
     "start_time": "2024-04-18T18:58:07.205579",
     "status": "completed"
    },
    "tags": []
   },
   "outputs": [],
   "source": [
    "# joined = applprev_1[\"case_id\"].value_counts().join(train_dataset.get_base()[[\"case_id\", \"target\"]], on=\"case_id\").sort(\"count\")\n",
    "# joined.filter(pl.col(\"target\") == 1)"
   ]
  },
  {
   "cell_type": "code",
   "execution_count": 15,
   "id": "71c72f7b",
   "metadata": {
    "execution": {
     "iopub.execute_input": "2024-04-18T18:58:07.282034Z",
     "iopub.status.busy": "2024-04-18T18:58:07.281608Z",
     "iopub.status.idle": "2024-04-18T18:58:07.286226Z",
     "shell.execute_reply": "2024-04-18T18:58:07.284921Z"
    },
    "papermill": {
     "duration": 0.030374,
     "end_time": "2024-04-18T18:58:07.288637",
     "exception": false,
     "start_time": "2024-04-18T18:58:07.258263",
     "status": "completed"
    },
    "tags": []
   },
   "outputs": [],
   "source": [
    "# base = train_dataset.get_base()"
   ]
  },
  {
   "cell_type": "code",
   "execution_count": 16,
   "id": "76459cee",
   "metadata": {
    "execution": {
     "iopub.execute_input": "2024-04-18T18:58:07.333301Z",
     "iopub.status.busy": "2024-04-18T18:58:07.332892Z",
     "iopub.status.idle": "2024-04-18T18:58:07.337462Z",
     "shell.execute_reply": "2024-04-18T18:58:07.336220Z"
    },
    "papermill": {
     "duration": 0.029935,
     "end_time": "2024-04-18T18:58:07.339954",
     "exception": false,
     "start_time": "2024-04-18T18:58:07.310019",
     "status": "completed"
    },
    "tags": []
   },
   "outputs": [],
   "source": [
    "# base.filter(pl.col(\"case_id\") == 2702490)"
   ]
  },
  {
   "cell_type": "code",
   "execution_count": 17,
   "id": "b882843b",
   "metadata": {
    "execution": {
     "iopub.execute_input": "2024-04-18T18:58:07.385013Z",
     "iopub.status.busy": "2024-04-18T18:58:07.384593Z",
     "iopub.status.idle": "2024-04-18T18:58:07.389350Z",
     "shell.execute_reply": "2024-04-18T18:58:07.388014Z"
    },
    "papermill": {
     "duration": 0.030288,
     "end_time": "2024-04-18T18:58:07.392051",
     "exception": false,
     "start_time": "2024-04-18T18:58:07.361763",
     "status": "completed"
    },
    "tags": []
   },
   "outputs": [],
   "source": [
    "# applprev_1.filter(applprev_1[\"case_id\"] == 2702490).sort(\"num_group1\")\n",
    "#base.filter(pl.col(\"case_id\") == 176526)"
   ]
  },
  {
   "cell_type": "code",
   "execution_count": 18,
   "id": "b456f5b9",
   "metadata": {
    "execution": {
     "iopub.execute_input": "2024-04-18T18:58:07.438169Z",
     "iopub.status.busy": "2024-04-18T18:58:07.437379Z",
     "iopub.status.idle": "2024-04-18T18:58:07.442712Z",
     "shell.execute_reply": "2024-04-18T18:58:07.441520Z"
    },
    "papermill": {
     "duration": 0.031486,
     "end_time": "2024-04-18T18:58:07.445451",
     "exception": false,
     "start_time": "2024-04-18T18:58:07.413965",
     "status": "completed"
    },
    "tags": []
   },
   "outputs": [],
   "source": [
    "# applprev_1.filter(applprev_1[\"case_id\"] == 2702490).sort(\"num_group1\")[[\"credamount_590A\", \"mainoccupationinc_437A\", \"rejectreason_755M\", \"rejectreasonclient_4145042M\"]]\n"
   ]
  },
  {
   "cell_type": "code",
   "execution_count": 19,
   "id": "84de5e9c",
   "metadata": {
    "execution": {
     "iopub.execute_input": "2024-04-18T18:58:07.493582Z",
     "iopub.status.busy": "2024-04-18T18:58:07.492475Z",
     "iopub.status.idle": "2024-04-18T18:58:07.498203Z",
     "shell.execute_reply": "2024-04-18T18:58:07.496995Z"
    },
    "papermill": {
     "duration": 0.031794,
     "end_time": "2024-04-18T18:58:07.500949",
     "exception": false,
     "start_time": "2024-04-18T18:58:07.469155",
     "status": "completed"
    },
    "tags": []
   },
   "outputs": [],
   "source": [
    "# applprev_1.filter(applprev_1[\"case_id\"] == 176526).sort(\"num_group1\")[[\"credamount_590A\", \"mainoccupationinc_437A\", \"rejectreason_755M\", \"rejectreasonclient_4145042M\"]]a"
   ]
  },
  {
   "cell_type": "code",
   "execution_count": 20,
   "id": "3790ff31",
   "metadata": {
    "execution": {
     "iopub.execute_input": "2024-04-18T18:58:07.546219Z",
     "iopub.status.busy": "2024-04-18T18:58:07.545413Z",
     "iopub.status.idle": "2024-04-18T18:58:07.551229Z",
     "shell.execute_reply": "2024-04-18T18:58:07.550000Z"
    },
    "papermill": {
     "duration": 0.031702,
     "end_time": "2024-04-18T18:58:07.553982",
     "exception": false,
     "start_time": "2024-04-18T18:58:07.522280",
     "status": "completed"
    },
    "tags": []
   },
   "outputs": [],
   "source": [
    "# applprev_1.filter(applprev_1[\"case_id\"] == 176526).sort(\"num_group1\")"
   ]
  },
  {
   "cell_type": "code",
   "execution_count": 21,
   "id": "a291474e",
   "metadata": {
    "execution": {
     "iopub.execute_input": "2024-04-18T18:58:07.600174Z",
     "iopub.status.busy": "2024-04-18T18:58:07.599277Z",
     "iopub.status.idle": "2024-04-18T18:58:07.603567Z",
     "shell.execute_reply": "2024-04-18T18:58:07.602746Z"
    },
    "papermill": {
     "duration": 0.029707,
     "end_time": "2024-04-18T18:58:07.605984",
     "exception": false,
     "start_time": "2024-04-18T18:58:07.576277",
     "status": "completed"
    },
    "tags": []
   },
   "outputs": [],
   "source": [
    "# FreatureDescriptionGetter().get(\"rejectreasonclient_4145042M\")"
   ]
  },
  {
   "cell_type": "code",
   "execution_count": 22,
   "id": "45566aad",
   "metadata": {
    "execution": {
     "iopub.execute_input": "2024-04-18T18:58:07.650929Z",
     "iopub.status.busy": "2024-04-18T18:58:07.650134Z",
     "iopub.status.idle": "2024-04-18T18:58:07.655253Z",
     "shell.execute_reply": "2024-04-18T18:58:07.654023Z"
    },
    "papermill": {
     "duration": 0.030786,
     "end_time": "2024-04-18T18:58:07.657999",
     "exception": false,
     "start_time": "2024-04-18T18:58:07.627213",
     "status": "completed"
    },
    "tags": []
   },
   "outputs": [],
   "source": [
    "# def bucket_mean_split(x, y, buckets=100):\n",
    "#     x_buckets = []\n",
    "#     y_buckets = []\n",
    "\n",
    "#     x = np.array(x)\n",
    "#     y = np.array(y)\n",
    "#     x_quantiles = [np.quantile(x, i / buckets) for i in range(0, buckets + 1)]\n",
    "#     for i in range(0, buckets):\n",
    "#         filter = (x >= x_quantiles[i]) & (x <= x_quantiles[i + 1])\n",
    "#         x_buckets.append(np.mean(x[filter]))\n",
    "#         y_buckets.append(np.mean(y[filter]))\n",
    "#     return x_buckets, y_buckets"
   ]
  },
  {
   "cell_type": "code",
   "execution_count": 23,
   "id": "a11e4bfa",
   "metadata": {
    "execution": {
     "iopub.execute_input": "2024-04-18T18:58:07.702471Z",
     "iopub.status.busy": "2024-04-18T18:58:07.702043Z",
     "iopub.status.idle": "2024-04-18T18:58:07.706997Z",
     "shell.execute_reply": "2024-04-18T18:58:07.705557Z"
    },
    "papermill": {
     "duration": 0.030394,
     "end_time": "2024-04-18T18:58:07.709591",
     "exception": false,
     "start_time": "2024-04-18T18:58:07.679197",
     "status": "completed"
    },
    "tags": []
   },
   "outputs": [],
   "source": [
    "# train[\"target\"].mean()"
   ]
  },
  {
   "cell_type": "code",
   "execution_count": 24,
   "id": "afe50531",
   "metadata": {
    "execution": {
     "iopub.execute_input": "2024-04-18T18:58:07.754608Z",
     "iopub.status.busy": "2024-04-18T18:58:07.754175Z",
     "iopub.status.idle": "2024-04-18T18:58:07.758966Z",
     "shell.execute_reply": "2024-04-18T18:58:07.758077Z"
    },
    "papermill": {
     "duration": 0.029703,
     "end_time": "2024-04-18T18:58:07.761311",
     "exception": false,
     "start_time": "2024-04-18T18:58:07.731608",
     "status": "completed"
    },
    "tags": []
   },
   "outputs": [],
   "source": [
    "# print(\"Mean target={} where actualdpdtolerance_344P != 0\".format(train[\"target\"].filter(train[\"actualdpdtolerance_344P\"] != 0).mean()))\n",
    "# print(\"Mean target={} where actualdpdtolerance_344P == 0\".format(train[\"target\"].filter(train[\"actualdpdtolerance_344P\"] == 0).mean()))\n",
    "# print(\"Mean target={} where actualdpdtolerance_344P is null\".format(train[\"target\"].filter(train[\"actualdpdtolerance_344P\"].is_null()).mean()))"
   ]
  },
  {
   "cell_type": "code",
   "execution_count": 25,
   "id": "66cfc454",
   "metadata": {
    "execution": {
     "iopub.execute_input": "2024-04-18T18:58:07.806920Z",
     "iopub.status.busy": "2024-04-18T18:58:07.805993Z",
     "iopub.status.idle": "2024-04-18T18:58:07.812210Z",
     "shell.execute_reply": "2024-04-18T18:58:07.810987Z"
    },
    "papermill": {
     "duration": 0.032324,
     "end_time": "2024-04-18T18:58:07.814955",
     "exception": false,
     "start_time": "2024-04-18T18:58:07.782631",
     "status": "completed"
    },
    "tags": []
   },
   "outputs": [],
   "source": [
    "# columns = [column for column in train.columns if (train[column].dtype == pl.Float64)]\n",
    "\n",
    "# figure, axis = plt.subplots(len(columns) // 5 + 1, 5, figsize=(15, 30))\n",
    "# for index, column in enumerate(columns):\n",
    "#     current_plot = axis[index // 5, index % 5]\n",
    "#     x = train[column]\n",
    "#     y = train[\"target\"]\n",
    "#     if (x.dtype == pl.String or x.dtype == pl.Boolean):\n",
    "#         continue\n",
    "#     filter = x.is_not_null()\n",
    "#     x = x.filter(filter)\n",
    "#     y = y.filter(filter)\n",
    "#     if (x.is_empty()):\n",
    "#         continue\n",
    "#     x_bucket, y_bucket = bucket_mean_split(x.to_numpy(), y.to_numpy(), buckets=100)\n",
    "#     current_plot.plot(x_bucket, y_bucket)\n",
    "#     current_plot.set_title(column)\n",
    "# plt.show()"
   ]
  },
  {
   "cell_type": "code",
   "execution_count": 26,
   "id": "dc3e2301",
   "metadata": {
    "execution": {
     "iopub.execute_input": "2024-04-18T18:58:07.859325Z",
     "iopub.status.busy": "2024-04-18T18:58:07.858894Z",
     "iopub.status.idle": "2024-04-18T18:58:07.863782Z",
     "shell.execute_reply": "2024-04-18T18:58:07.862618Z"
    },
    "papermill": {
     "duration": 0.029855,
     "end_time": "2024-04-18T18:58:07.866088",
     "exception": false,
     "start_time": "2024-04-18T18:58:07.836233",
     "status": "completed"
    },
    "tags": []
   },
   "outputs": [],
   "source": [
    "# features = train_df.columns\n",
    "# features.remove(\"WEEK_NUM\")\n",
    "# features.remove(\"case_id\")\n",
    "# features.remove(\"target\")"
   ]
  },
  {
   "cell_type": "code",
   "execution_count": 27,
   "id": "61b84232",
   "metadata": {
    "execution": {
     "iopub.execute_input": "2024-04-18T18:58:07.910987Z",
     "iopub.status.busy": "2024-04-18T18:58:07.910514Z",
     "iopub.status.idle": "2024-04-18T18:58:07.915312Z",
     "shell.execute_reply": "2024-04-18T18:58:07.914244Z"
    },
    "papermill": {
     "duration": 0.02993,
     "end_time": "2024-04-18T18:58:07.917646",
     "exception": false,
     "start_time": "2024-04-18T18:58:07.887716",
     "status": "completed"
    },
    "tags": []
   },
   "outputs": [],
   "source": [
    "# gc.collect()"
   ]
  },
  {
   "cell_type": "markdown",
   "id": "7de38602",
   "metadata": {
    "papermill": {
     "duration": 0.020976,
     "end_time": "2024-04-18T18:58:07.960453",
     "exception": false,
     "start_time": "2024-04-18T18:58:07.939477",
     "status": "completed"
    },
    "tags": []
   },
   "source": [
    "### Feature Importance"
   ]
  },
  {
   "cell_type": "code",
   "execution_count": 28,
   "id": "2eab6f3d",
   "metadata": {
    "execution": {
     "iopub.execute_input": "2024-04-18T18:58:08.005114Z",
     "iopub.status.busy": "2024-04-18T18:58:08.004618Z",
     "iopub.status.idle": "2024-04-18T18:58:08.010486Z",
     "shell.execute_reply": "2024-04-18T18:58:08.009510Z"
    },
    "papermill": {
     "duration": 0.031201,
     "end_time": "2024-04-18T18:58:08.013101",
     "exception": false,
     "start_time": "2024-04-18T18:58:07.981900",
     "status": "completed"
    },
    "tags": []
   },
   "outputs": [],
   "source": [
    "# def train_rf(X, Y):    \n",
    "#     params = {\n",
    "#         \"boosting_type\": \"gbdt\",\n",
    "#         \"objective\": \"binary\",\n",
    "#         \"metric\": \"auc\",\n",
    "#         \"max_depth\": 8,\n",
    "#         \"max_bin\": 255,\n",
    "#         \"learning_rate\": 0.05,\n",
    "#         \"n_estimators\": 200,\n",
    "#         \"colsample_bytree\": 0.8, \n",
    "#         \"colsample_bynode\": 0.8,\n",
    "#         \"verbose\": -1,\n",
    "#         \"random_state\": 42,\n",
    "#         \"device\": \"gpu\",\n",
    "#     }\n",
    "    \n",
    "#     model = lgb.LGBMClassifier(**params)\n",
    "    \n",
    "#     model.fit(X.to_pandas(), Y.to_pandas())\n",
    "    \n",
    "#     # Get feature importances\n",
    "#     return pl.DataFrame({\n",
    "#         \"feature\": list(X.columns),\n",
    "#         \"feature_importance\": model.feature_importances_,\n",
    "#         \"train_score\": roc_auc_score(Y.to_pandas(), model.predict(X.to_pandas()))\n",
    "#     })"
   ]
  },
  {
   "cell_type": "code",
   "execution_count": 29,
   "id": "4a6a4b6e",
   "metadata": {
    "execution": {
     "iopub.execute_input": "2024-04-18T18:58:08.057498Z",
     "iopub.status.busy": "2024-04-18T18:58:08.057056Z",
     "iopub.status.idle": "2024-04-18T18:58:08.063066Z",
     "shell.execute_reply": "2024-04-18T18:58:08.061555Z"
    },
    "papermill": {
     "duration": 0.031711,
     "end_time": "2024-04-18T18:58:08.066049",
     "exception": false,
     "start_time": "2024-04-18T18:58:08.034338",
     "status": "completed"
    },
    "tags": []
   },
   "outputs": [],
   "source": [
    "# def get_feature_importance(X, Y):\n",
    "#     COUNT_ITER = 50\n",
    "    \n",
    "#     dfs = []\n",
    "#     for i in range(COUNT_ITER):\n",
    "#         gc.collect()\n",
    "        \n",
    "#         start_time = time.time()\n",
    "#         shuffled_Y = Y.clone().sample(fraction=1.0, shuffle=True)\n",
    "#         current_df = train_rf(X, shuffled_Y)\n",
    "#         finish_time = time.time()\n",
    "#         print(f\"Finish iteration: {i + 1}/{COUNT_ITER}, time: {finish_time - start_time}\")\n",
    "#         current_df = current_df.with_columns(pl.lit(i).alias(\"iteration\"))\n",
    "#         dfs.append(current_df)\n",
    "        \n",
    "#     return pl.concat(dfs, rechunk=True), train_rf(X, Y)"
   ]
  },
  {
   "cell_type": "code",
   "execution_count": 30,
   "id": "97ff705a",
   "metadata": {
    "execution": {
     "iopub.execute_input": "2024-04-18T18:58:08.111287Z",
     "iopub.status.busy": "2024-04-18T18:58:08.110838Z",
     "iopub.status.idle": "2024-04-18T18:58:08.116513Z",
     "shell.execute_reply": "2024-04-18T18:58:08.115082Z"
    },
    "papermill": {
     "duration": 0.031893,
     "end_time": "2024-04-18T18:58:08.119268",
     "exception": false,
     "start_time": "2024-04-18T18:58:08.087375",
     "status": "completed"
    },
    "tags": []
   },
   "outputs": [],
   "source": [
    "# shuffled_feature_importance_df, feature_importance_df = get_feature_importance(train_df[features], train_df[\"target\"])\n",
    "# shuffled_feature_importance_df.write_csv(\"shuffled_feature_importance_df.csv\", separator=\",\")\n",
    "# feature_importance_df.write_csv(\"feature_importance_df.csv\", separator=\",\")"
   ]
  },
  {
   "cell_type": "code",
   "execution_count": 31,
   "id": "aae9cffa",
   "metadata": {
    "execution": {
     "iopub.execute_input": "2024-04-18T18:58:08.164040Z",
     "iopub.status.busy": "2024-04-18T18:58:08.163613Z",
     "iopub.status.idle": "2024-04-18T18:58:08.168563Z",
     "shell.execute_reply": "2024-04-18T18:58:08.167384Z"
    },
    "papermill": {
     "duration": 0.030287,
     "end_time": "2024-04-18T18:58:08.171011",
     "exception": false,
     "start_time": "2024-04-18T18:58:08.140724",
     "status": "completed"
    },
    "tags": []
   },
   "outputs": [],
   "source": [
    "# important_features = []\n",
    "# for column in feature_importance_df[\"feature\"]:\n",
    "#     shuffled_feature_importance = shuffled_feature_importance_df.filter(shuffled_feature_importance_df[\"feature\"] == column)[\"feature_importance\"].to_numpy()\n",
    "#     feature_importance = feature_importance_df.filter(feature_importance_df[\"feature\"] == column)[\"feature_importance\"][0]\n",
    "    \n",
    "#     if (np.percentile(shuffled_feature_importance, 90) <= feature_importance):\n",
    "#         important_features.append(column)\n",
    "# print(len(important_features), important_features)"
   ]
  },
  {
   "cell_type": "markdown",
   "id": "aefab260",
   "metadata": {
    "papermill": {
     "duration": 0.021221,
     "end_time": "2024-04-18T18:58:08.215036",
     "exception": false,
     "start_time": "2024-04-18T18:58:08.193815",
     "status": "completed"
    },
    "tags": []
   },
   "source": [
    "# Training"
   ]
  },
  {
   "cell_type": "code",
   "execution_count": 32,
   "id": "89a31383",
   "metadata": {
    "execution": {
     "iopub.execute_input": "2024-04-18T18:58:08.260484Z",
     "iopub.status.busy": "2024-04-18T18:58:08.259592Z",
     "iopub.status.idle": "2024-04-18T18:58:08.265281Z",
     "shell.execute_reply": "2024-04-18T18:58:08.264470Z"
    },
    "papermill": {
     "duration": 0.030968,
     "end_time": "2024-04-18T18:58:08.267811",
     "exception": false,
     "start_time": "2024-04-18T18:58:08.236843",
     "status": "completed"
    },
    "tags": []
   },
   "outputs": [],
   "source": [
    "# class VotingModel(BaseEstimator, RegressorMixin):\n",
    "#     def __init__(self, estimators):\n",
    "#         super().__init__()\n",
    "#         self.estimators = estimators\n",
    "        \n",
    "#     def fit(self, X, y=None):\n",
    "#         return self\n",
    "    \n",
    "#     def predict(self, X):\n",
    "#         y_preds = [estimator.predict(X) for estimator in self.estimators]\n",
    "#         return np.mean(y_preds, axis=0)\n",
    "    \n",
    "#     def predict_proba(self, X):\n",
    "#         y_preds = [estimator.predict_proba(X) for estimator in self.estimators]\n",
    "#         return np.mean(y_preds, axis=0)\n",
    "    \n",
    "#     def get_feature_importance(self):\n",
    "#         feature_importances = np.array([0 for feature in features])\n",
    "\n",
    "#         for model in self.estimators:\n",
    "#             feature_importances += model.feature_importances_\n",
    "\n",
    "#         return feature_importances"
   ]
  },
  {
   "cell_type": "code",
   "execution_count": 33,
   "id": "43607ef9",
   "metadata": {
    "execution": {
     "iopub.execute_input": "2024-04-18T18:58:08.312276Z",
     "iopub.status.busy": "2024-04-18T18:58:08.311868Z",
     "iopub.status.idle": "2024-04-18T18:58:08.317299Z",
     "shell.execute_reply": "2024-04-18T18:58:08.316046Z"
    },
    "papermill": {
     "duration": 0.030785,
     "end_time": "2024-04-18T18:58:08.319743",
     "exception": false,
     "start_time": "2024-04-18T18:58:08.288958",
     "status": "completed"
    },
    "tags": []
   },
   "outputs": [],
   "source": [
    "# for column in features:\n",
    "#     if (train_dataset[column].dtype != pl.Categorical) and \\\n",
    "#         (train_dataset[column].dtype != pl.Float64) and \\\n",
    "#         (train_dataset[column].dtype != pl.Float64):\n",
    "#         print(column, train_dataset[column].dtype)"
   ]
  },
  {
   "cell_type": "code",
   "execution_count": 34,
   "id": "75b527e8",
   "metadata": {
    "execution": {
     "iopub.execute_input": "2024-04-18T18:58:08.364583Z",
     "iopub.status.busy": "2024-04-18T18:58:08.363768Z",
     "iopub.status.idle": "2024-04-18T18:58:08.368875Z",
     "shell.execute_reply": "2024-04-18T18:58:08.367947Z"
    },
    "papermill": {
     "duration": 0.030501,
     "end_time": "2024-04-18T18:58:08.371476",
     "exception": false,
     "start_time": "2024-04-18T18:58:08.340975",
     "status": "completed"
    },
    "tags": []
   },
   "outputs": [],
   "source": [
    "# def train_lgb_model(X_train, Y_train, X_test, Y_test):\n",
    "#     params = {\n",
    "#         \"boosting_type\": \"gbdt\",\n",
    "#         \"objective\": \"binary\",\n",
    "#         \"metric\": \"auc\",\n",
    "#         \"max_depth\": 8,\n",
    "#         \"max_bin\": 250,\n",
    "#         \"learning_rate\": 0.05,\n",
    "#         \"n_estimators\": 1000,\n",
    "#         \"colsample_bytree\": 0.8, \n",
    "#         \"colsample_bynode\": 0.8,\n",
    "#         \"verbose\": -1,\n",
    "#         \"random_state\": 42,\n",
    "#         \"device\": \"gpu\",\n",
    "#     }\n",
    "    \n",
    "#     model = lgb.LGBMClassifier(**params)\n",
    "    \n",
    "#     model.fit(\n",
    "#         X_train, Y_train,\n",
    "#         eval_set=[(X_test, Y_test)],\n",
    "#         callbacks=[lgb.log_evaluation(100), lgb.early_stopping(100)]\n",
    "#     )\n",
    "        \n",
    "#     return model"
   ]
  },
  {
   "cell_type": "code",
   "execution_count": 35,
   "id": "0f410053",
   "metadata": {
    "execution": {
     "iopub.execute_input": "2024-04-18T18:58:08.419594Z",
     "iopub.status.busy": "2024-04-18T18:58:08.418726Z",
     "iopub.status.idle": "2024-04-18T18:58:08.423534Z",
     "shell.execute_reply": "2024-04-18T18:58:08.422608Z"
    },
    "papermill": {
     "duration": 0.032557,
     "end_time": "2024-04-18T18:58:08.426727",
     "exception": false,
     "start_time": "2024-04-18T18:58:08.394170",
     "status": "completed"
    },
    "tags": []
   },
   "outputs": [],
   "source": [
    "# gc.collect()"
   ]
  },
  {
   "cell_type": "code",
   "execution_count": 36,
   "id": "38a5d474",
   "metadata": {
    "execution": {
     "iopub.execute_input": "2024-04-18T18:58:08.476385Z",
     "iopub.status.busy": "2024-04-18T18:58:08.475588Z",
     "iopub.status.idle": "2024-04-18T18:58:08.482241Z",
     "shell.execute_reply": "2024-04-18T18:58:08.480971Z"
    },
    "papermill": {
     "duration": 0.0367,
     "end_time": "2024-04-18T18:58:08.485257",
     "exception": false,
     "start_time": "2024-04-18T18:58:08.448557",
     "status": "completed"
    },
    "tags": []
   },
   "outputs": [],
   "source": [
    "# weeks = train_df[\"WEEK_NUM\"]\n",
    "# cv = StratifiedGroupKFold(n_splits=5, shuffle=False)\n",
    "\n",
    "# fitted_models = []\n",
    "\n",
    "# oof_predicted = np.zeros(train_df.shape[0])\n",
    "\n",
    "# for idx_train, idx_test in cv.split(train_df[features], train_df[\"target\"], groups=weeks):        \n",
    "# #     X_train = train_df[features][idx_train].to_pandas()\n",
    "# #     Y_train = train_df[\"target\"][idx_train].to_pandas()\n",
    "    \n",
    "#     X_test = train_df[features][idx_test].to_pandas()\n",
    "#     Y_test = train_df[\"target\"][idx_test].to_pandas()\n",
    "    \n",
    "#     start = time.time()\n",
    "#     params = {\n",
    "#         \"boosting_type\": \"gbdt\",\n",
    "#         \"objective\": \"binary\",\n",
    "#         \"metric\": \"auc\",\n",
    "#         \"max_depth\": 8,\n",
    "#         \"max_bin\": 250,\n",
    "#         \"learning_rate\": 0.05,\n",
    "#         \"n_estimators\": 1000,\n",
    "#         \"colsample_bytree\": 0.8, \n",
    "#         \"colsample_bynode\": 0.8,\n",
    "#         \"verbose\": -1,\n",
    "#         \"random_state\": 42,\n",
    "#         \"device\": \"gpu\",\n",
    "#     }\n",
    "    \n",
    "#     model = lgb.LGBMClassifier(**params)\n",
    "    \n",
    "#     model.fit(\n",
    "#         train_df[features][idx_train].to_pandas(), train_df[\"target\"][idx_train].to_pandas(),\n",
    "#         eval_set=[(X_test, Y_test)],\n",
    "#         callbacks=[lgb.log_evaluation(100), lgb.early_stopping(100)]\n",
    "#     )\n",
    "        \n",
    "\n",
    "# #    model = train_lgb_model(X_train, Y_train, X_test, Y_test)\n",
    "#     finish = time.time()\n",
    "    \n",
    "#     print(\"fit time: {}\".format(finish - start))\n",
    "#     fitted_models.append(model)\n",
    "    \n",
    "#     test_pred = model.predict_proba(X_test)[:, 1]\n",
    "#     oof_predicted[idx_test] = test_pred\n",
    "#     gc.collect()\n",
    "\n",
    "# model = VotingModel(fitted_models)\n",
    "# gc.collect()"
   ]
  },
  {
   "cell_type": "code",
   "execution_count": 37,
   "id": "e749c432",
   "metadata": {
    "execution": {
     "iopub.execute_input": "2024-04-18T18:58:08.530567Z",
     "iopub.status.busy": "2024-04-18T18:58:08.530067Z",
     "iopub.status.idle": "2024-04-18T18:58:08.535602Z",
     "shell.execute_reply": "2024-04-18T18:58:08.534290Z"
    },
    "papermill": {
     "duration": 0.031205,
     "end_time": "2024-04-18T18:58:08.538520",
     "exception": false,
     "start_time": "2024-04-18T18:58:08.507315",
     "status": "completed"
    },
    "tags": []
   },
   "outputs": [],
   "source": [
    "# roc_auc_oof = roc_auc_score(train_df[\"target\"], oof_predicted)\n",
    "# print(\"CV roc_auc_oof: \", roc_auc_oof)"
   ]
  },
  {
   "cell_type": "markdown",
   "id": "539f27ee",
   "metadata": {
    "papermill": {
     "duration": 0.020992,
     "end_time": "2024-04-18T18:58:08.580950",
     "exception": false,
     "start_time": "2024-04-18T18:58:08.559958",
     "status": "completed"
    },
    "tags": []
   },
   "source": [
    "# Predict"
   ]
  },
  {
   "cell_type": "code",
   "execution_count": 38,
   "id": "0377899b",
   "metadata": {
    "execution": {
     "iopub.execute_input": "2024-04-18T18:58:08.626089Z",
     "iopub.status.busy": "2024-04-18T18:58:08.625333Z",
     "iopub.status.idle": "2024-04-18T18:58:08.629430Z",
     "shell.execute_reply": "2024-04-18T18:58:08.628500Z"
    },
    "papermill": {
     "duration": 0.029094,
     "end_time": "2024-04-18T18:58:08.631850",
     "exception": false,
     "start_time": "2024-04-18T18:58:08.602756",
     "status": "completed"
    },
    "tags": []
   },
   "outputs": [],
   "source": [
    "# del train_df\n",
    "# gc.collect()"
   ]
  },
  {
   "cell_type": "code",
   "execution_count": 39,
   "id": "c9e78c3d",
   "metadata": {
    "execution": {
     "iopub.execute_input": "2024-04-18T18:58:08.676259Z",
     "iopub.status.busy": "2024-04-18T18:58:08.675820Z",
     "iopub.status.idle": "2024-04-18T18:58:08.680067Z",
     "shell.execute_reply": "2024-04-18T18:58:08.679150Z"
    },
    "papermill": {
     "duration": 0.02916,
     "end_time": "2024-04-18T18:58:08.682272",
     "exception": false,
     "start_time": "2024-04-18T18:58:08.653112",
     "status": "completed"
    },
    "tags": []
   },
   "outputs": [],
   "source": [
    "# test_dataset = data_loader.load_test_dataset()\n",
    "# print(\"Test dataset week range: {}-{}\".format(test_dataset.base[\"WEEK_NUM\"].min(), test_dataset.base[\"WEEK_NUM\"].max()))\n",
    "# gc.collect()\n",
    "# test_df = preprocessor.process_test_dataset(test_dataset)\n",
    "# del test_dataset\n",
    "# gc.collect()"
   ]
  },
  {
   "cell_type": "code",
   "execution_count": 40,
   "id": "577b729f",
   "metadata": {
    "execution": {
     "iopub.execute_input": "2024-04-18T18:58:08.727417Z",
     "iopub.status.busy": "2024-04-18T18:58:08.726246Z",
     "iopub.status.idle": "2024-04-18T18:58:08.732116Z",
     "shell.execute_reply": "2024-04-18T18:58:08.730868Z"
    },
    "papermill": {
     "duration": 0.031284,
     "end_time": "2024-04-18T18:58:08.735171",
     "exception": false,
     "start_time": "2024-04-18T18:58:08.703887",
     "status": "completed"
    },
    "tags": []
   },
   "outputs": [],
   "source": [
    "# print([name for value, name in reversed(sorted(zip(model.get_feature_importance(), features)))][0:200])"
   ]
  },
  {
   "cell_type": "code",
   "execution_count": null,
   "id": "e691e4ba",
   "metadata": {
    "papermill": {
     "duration": 0.021822,
     "end_time": "2024-04-18T18:58:08.778422",
     "exception": false,
     "start_time": "2024-04-18T18:58:08.756600",
     "status": "completed"
    },
    "tags": []
   },
   "outputs": [],
   "source": []
  },
  {
   "cell_type": "code",
   "execution_count": 41,
   "id": "2a0d346d",
   "metadata": {
    "execution": {
     "iopub.execute_input": "2024-04-18T18:58:08.824365Z",
     "iopub.status.busy": "2024-04-18T18:58:08.823540Z",
     "iopub.status.idle": "2024-04-18T18:58:08.827792Z",
     "shell.execute_reply": "2024-04-18T18:58:08.826919Z"
    },
    "papermill": {
     "duration": 0.030189,
     "end_time": "2024-04-18T18:58:08.830319",
     "exception": false,
     "start_time": "2024-04-18T18:58:08.800130",
     "status": "completed"
    },
    "tags": []
   },
   "outputs": [],
   "source": [
    "# CV roc_auc_oof:  0.8353789451006361 without feature selection ~500 features\n",
    "# CV roc_auc_oof:  0.8329322959533371 with feature selection ~200 features"
   ]
  },
  {
   "cell_type": "code",
   "execution_count": null,
   "id": "e0034c36",
   "metadata": {
    "papermill": {
     "duration": 0.021633,
     "end_time": "2024-04-18T18:58:08.874683",
     "exception": false,
     "start_time": "2024-04-18T18:58:08.853050",
     "status": "completed"
    },
    "tags": []
   },
   "outputs": [],
   "source": []
  },
  {
   "cell_type": "code",
   "execution_count": 42,
   "id": "ecf0ffe3",
   "metadata": {
    "execution": {
     "iopub.execute_input": "2024-04-18T18:58:08.919884Z",
     "iopub.status.busy": "2024-04-18T18:58:08.918608Z",
     "iopub.status.idle": "2024-04-18T18:58:08.923877Z",
     "shell.execute_reply": "2024-04-18T18:58:08.923020Z"
    },
    "papermill": {
     "duration": 0.030587,
     "end_time": "2024-04-18T18:58:08.926359",
     "exception": false,
     "start_time": "2024-04-18T18:58:08.895772",
     "status": "completed"
    },
    "tags": []
   },
   "outputs": [],
   "source": [
    "# def gini_stability(dataset, w_fallingrate=88.0, w_resstd=-0.5):\n",
    "#     gini_in_time = dataset\\\n",
    "#         .sort_values(\"WEEK_NUM\")\\\n",
    "#         .groupby(\"WEEK_NUM\")[[\"true\", \"predicted\"]]\\\n",
    "#         .apply(lambda x: 2 * roc_auc_score(x[\"true\"], x[\"predicted\"]) - 1).tolist()\n",
    "    \n",
    "#     x = np.arange(len(gini_in_time))\n",
    "#     y = gini_in_time\n",
    "#     a, b = np.polyfit(x, y, 1)\n",
    "#     y_hat = a * x + b\n",
    "#     residuals = y - y_hat\n",
    "#     res_std = np.std(residuals)\n",
    "#     avg_gini = np.mean(gini_in_time)\n",
    "    \n",
    "#     print(avg_gini, min(0, a), res_std)\n",
    "    \n",
    "#     return avg_gini + w_fallingrate * min(0, a) + w_resstd * res_std"
   ]
  },
  {
   "cell_type": "code",
   "execution_count": 43,
   "id": "68d7ad02",
   "metadata": {
    "execution": {
     "iopub.execute_input": "2024-04-18T18:58:08.970947Z",
     "iopub.status.busy": "2024-04-18T18:58:08.970105Z",
     "iopub.status.idle": "2024-04-18T18:58:08.975360Z",
     "shell.execute_reply": "2024-04-18T18:58:08.974139Z"
    },
    "papermill": {
     "duration": 0.030445,
     "end_time": "2024-04-18T18:58:08.977928",
     "exception": false,
     "start_time": "2024-04-18T18:58:08.947483",
     "status": "completed"
    },
    "tags": []
   },
   "outputs": [],
   "source": [
    "# # Y_train_predicted = model.predict_proba(train_df[features].to_pandas())\n",
    "# Y_test_predicted = model.predict_proba(test_df[features].to_pandas())"
   ]
  },
  {
   "cell_type": "code",
   "execution_count": 44,
   "id": "44529828",
   "metadata": {
    "execution": {
     "iopub.execute_input": "2024-04-18T18:58:09.022801Z",
     "iopub.status.busy": "2024-04-18T18:58:09.022342Z",
     "iopub.status.idle": "2024-04-18T18:58:09.027960Z",
     "shell.execute_reply": "2024-04-18T18:58:09.026771Z"
    },
    "papermill": {
     "duration": 0.030899,
     "end_time": "2024-04-18T18:58:09.030259",
     "exception": false,
     "start_time": "2024-04-18T18:58:08.999360",
     "status": "completed"
    },
    "tags": []
   },
   "outputs": [],
   "source": [
    "# result = pd.DataFrame({\n",
    "#     \"WEEK_NUM\": train_df[\"WEEK_NUM\"],\n",
    "#     \"true\": train_df[\"target\"],\n",
    "#     \"predicted\": Y_train_predicted[:, 1],\n",
    "# })\n",
    "\n",
    "# train_result = gini_stability(result)\n",
    "# print(\"train_score: {}\".format(train_result))\n",
    "\n",
    "# if MODE == Mode.Train:\n",
    "#     result = pd.DataFrame({\n",
    "#         \"WEEK_NUM\": test_df[\"WEEK_NUM\"],\n",
    "#         \"true\": test_df[\"target\"],\n",
    "#         \"predicted\": Y_test_predicted[:, 1],\n",
    "#     })\n",
    "\n",
    "#     test_result = gini_stability(result)\n",
    "#     print(\"test_score: {}\".format(test_result))"
   ]
  },
  {
   "cell_type": "code",
   "execution_count": 45,
   "id": "7fb14991",
   "metadata": {
    "execution": {
     "iopub.execute_input": "2024-04-18T18:58:09.075156Z",
     "iopub.status.busy": "2024-04-18T18:58:09.074701Z",
     "iopub.status.idle": "2024-04-18T18:58:09.079892Z",
     "shell.execute_reply": "2024-04-18T18:58:09.078751Z"
    },
    "papermill": {
     "duration": 0.030704,
     "end_time": "2024-04-18T18:58:09.082115",
     "exception": false,
     "start_time": "2024-04-18T18:58:09.051411",
     "status": "completed"
    },
    "tags": []
   },
   "outputs": [],
   "source": [
    "# Version 1, test_score: 0.583319926590042, public score 0.48\n",
    "# 100 iters\n",
    "\n",
    "# Version 2, test_score: 0.6062624701357268, public score 0.517\n",
    "# 300 iters\n",
    "\n",
    "# Version 3, test_score: ?, public score 0.545\n",
    "# 2000 iters\n",
    "\n",
    "# Version 4, test_score: ?, public score ?\n",
    "# ? iters, Improve aggregate functions for depth_1, depth_2\n"
   ]
  },
  {
   "cell_type": "markdown",
   "id": "d04be590",
   "metadata": {
    "papermill": {
     "duration": 0.020962,
     "end_time": "2024-04-18T18:58:09.124208",
     "exception": false,
     "start_time": "2024-04-18T18:58:09.103246",
     "status": "completed"
    },
    "tags": []
   },
   "source": [
    "# Submition"
   ]
  },
  {
   "cell_type": "code",
   "execution_count": 46,
   "id": "c57f04a5",
   "metadata": {
    "execution": {
     "iopub.execute_input": "2024-04-18T18:58:09.169352Z",
     "iopub.status.busy": "2024-04-18T18:58:09.168298Z",
     "iopub.status.idle": "2024-04-18T18:58:09.173597Z",
     "shell.execute_reply": "2024-04-18T18:58:09.172769Z"
    },
    "papermill": {
     "duration": 0.030422,
     "end_time": "2024-04-18T18:58:09.176178",
     "exception": false,
     "start_time": "2024-04-18T18:58:09.145756",
     "status": "completed"
    },
    "tags": []
   },
   "outputs": [],
   "source": [
    "# case_id = test_df[\"case_id\"]\n",
    "# X = test_df[features].to_pandas()\n",
    "\n",
    "# Y = model.predict_proba(X)\n",
    "\n",
    "# submission = pd.DataFrame({\n",
    "#     \"case_id\": case_id.to_numpy(),\n",
    "#     \"score\": Y[:, 1]\n",
    "# }).set_index('case_id')\n",
    "# submission.to_csv(\"./submission.csv\")"
   ]
  },
  {
   "cell_type": "code",
   "execution_count": null,
   "id": "a76687f8",
   "metadata": {
    "papermill": {
     "duration": 0.021312,
     "end_time": "2024-04-18T18:58:09.219272",
     "exception": false,
     "start_time": "2024-04-18T18:58:09.197960",
     "status": "completed"
    },
    "tags": []
   },
   "outputs": [],
   "source": []
  },
  {
   "cell_type": "code",
   "execution_count": null,
   "id": "7afe4fe7",
   "metadata": {
    "papermill": {
     "duration": 0.021558,
     "end_time": "2024-04-18T18:58:09.262652",
     "exception": false,
     "start_time": "2024-04-18T18:58:09.241094",
     "status": "completed"
    },
    "tags": []
   },
   "outputs": [],
   "source": []
  },
  {
   "cell_type": "code",
   "execution_count": null,
   "id": "9949be39",
   "metadata": {
    "papermill": {
     "duration": 0.020767,
     "end_time": "2024-04-18T18:58:09.304500",
     "exception": false,
     "start_time": "2024-04-18T18:58:09.283733",
     "status": "completed"
    },
    "tags": []
   },
   "outputs": [],
   "source": []
  }
 ],
 "metadata": {
  "kaggle": {
   "accelerator": "none",
   "dataSources": [
    {
     "databundleVersionId": 7921029,
     "sourceId": 50160,
     "sourceType": "competition"
    },
    {
     "datasetId": 4496896,
     "sourceId": 8057265,
     "sourceType": "datasetVersion"
    }
   ],
   "dockerImageVersionId": 30635,
   "isGpuEnabled": false,
   "isInternetEnabled": false,
   "language": "python",
   "sourceType": "notebook"
  },
  "kernelspec": {
   "display_name": "Python 3",
   "language": "python",
   "name": "python3"
  },
  "language_info": {
   "codemirror_mode": {
    "name": "ipython",
    "version": 3
   },
   "file_extension": ".py",
   "mimetype": "text/x-python",
   "name": "python",
   "nbconvert_exporter": "python",
   "pygments_lexer": "ipython3",
   "version": "3.10.12"
  },
  "papermill": {
   "default_parameters": {},
   "duration": 1730.337259,
   "end_time": "2024-04-18T18:58:10.455941",
   "environment_variables": {},
   "exception": null,
   "input_path": "__notebook__.ipynb",
   "output_path": "__notebook__.ipynb",
   "parameters": {},
   "start_time": "2024-04-18T18:29:20.118682",
   "version": "2.4.0"
  }
 },
 "nbformat": 4,
 "nbformat_minor": 5
}
