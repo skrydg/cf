{
 "cells": [
  {
   "cell_type": "markdown",
   "id": "8517a7cd",
   "metadata": {
    "papermill": {
     "duration": 0.014142,
     "end_time": "2024-02-29T21:02:28.515529",
     "exception": false,
     "start_time": "2024-02-29T21:02:28.501387",
     "status": "completed"
    },
    "tags": []
   },
   "source": [
    "# Install packages"
   ]
  },
  {
   "cell_type": "code",
   "execution_count": 1,
   "id": "22cad057",
   "metadata": {
    "execution": {
     "iopub.execute_input": "2024-02-29T21:02:28.544353Z",
     "iopub.status.busy": "2024-02-29T21:02:28.543344Z",
     "iopub.status.idle": "2024-02-29T21:03:04.010945Z",
     "shell.execute_reply": "2024-02-29T21:03:04.010021Z"
    },
    "papermill": {
     "duration": 35.484907,
     "end_time": "2024-02-29T21:03:04.013828",
     "exception": false,
     "start_time": "2024-02-29T21:02:28.528921",
     "status": "completed"
    },
    "tags": []
   },
   "outputs": [
    {
     "name": "stdout",
     "output_type": "stream",
     "text": [
      "Processing /kaggle/input/kaggle-home-credit-risk-model-stability-lib/kaggle_home_credit_risk_model_stability-0.3-py3-none-any.whl\r\n",
      "Installing collected packages: kaggle-home-credit-risk-model-stability\r\n",
      "Successfully installed kaggle-home-credit-risk-model-stability-0.3\r\n"
     ]
    }
   ],
   "source": [
    "!pip install /kaggle/input/kaggle-home-credit-risk-model-stability-lib/kaggle_home_credit_risk_model_stability-0.3-py3-none-any.whl --force-reinstall"
   ]
  },
  {
   "cell_type": "markdown",
   "id": "0043e276",
   "metadata": {
    "papermill": {
     "duration": 0.0133,
     "end_time": "2024-02-29T21:03:04.040981",
     "exception": false,
     "start_time": "2024-02-29T21:03:04.027681",
     "status": "completed"
    },
    "tags": []
   },
   "source": [
    "# Import packages"
   ]
  },
  {
   "cell_type": "code",
   "execution_count": 2,
   "id": "291d2af5",
   "metadata": {
    "execution": {
     "iopub.execute_input": "2024-02-29T21:03:04.070572Z",
     "iopub.status.busy": "2024-02-29T21:03:04.069903Z",
     "iopub.status.idle": "2024-02-29T21:03:08.624102Z",
     "shell.execute_reply": "2024-02-29T21:03:08.623209Z"
    },
    "papermill": {
     "duration": 4.572361,
     "end_time": "2024-02-29T21:03:08.626931",
     "exception": false,
     "start_time": "2024-02-29T21:03:04.054570",
     "status": "completed"
    },
    "tags": []
   },
   "outputs": [],
   "source": [
    "import polars as pl\n",
    "import gc\n",
    "import time\n",
    "import numpy as np\n",
    "import pandas as pd\n",
    "import lightgbm as lgb\n",
    "import seaborn as sns\n",
    "import matplotlib.pyplot as plt\n",
    "import copy\n",
    "import lightgbm as lgb\n",
    "import importlib\n",
    "\n",
    "import kaggle_home_credit_risk_model_stability.libs as hcr\n",
    "from kaggle_home_credit_risk_model_stability.libs.input.dataset import Dataset\n",
    "from kaggle_home_credit_risk_model_stability.libs.input.data_loader import DataLoader\n",
    "from kaggle_home_credit_risk_model_stability.libs.preprocessor.preprocessor import Preprocessor\n",
    "from kaggle_home_credit_risk_model_stability.libs.preprocessor.steps import *\n",
    "from kaggle_home_credit_risk_model_stability.libs.feature_description.feature_description import FreatureDescriptionGetter\n",
    "\n",
    "from glob import glob\n",
    "from pathlib import Path\n",
    "from sklearn.model_selection import train_test_split\n",
    "from sklearn.metrics import roc_auc_score\n",
    "from sklearn.model_selection import StratifiedGroupKFold\n",
    "from sklearn.base import BaseEstimator, RegressorMixin\n",
    "from catboost import CatBoostClassifier\n",
    "from enum import Enum"
   ]
  },
  {
   "cell_type": "code",
   "execution_count": 3,
   "id": "d72a9d01",
   "metadata": {
    "execution": {
     "iopub.execute_input": "2024-02-29T21:03:08.658222Z",
     "iopub.status.busy": "2024-02-29T21:03:08.657814Z",
     "iopub.status.idle": "2024-02-29T21:03:08.665146Z",
     "shell.execute_reply": "2024-02-29T21:03:08.663816Z"
    },
    "papermill": {
     "duration": 0.025818,
     "end_time": "2024-02-29T21:03:08.667858",
     "exception": false,
     "start_time": "2024-02-29T21:03:08.642040",
     "status": "completed"
    },
    "tags": []
   },
   "outputs": [],
   "source": [
    "data_loader = DataLoader()\n",
    "preprocessor = Preprocessor({\n",
    "    \"set_types\": SetTypesStep(),\n",
    "    \"process_categorical\": ProcessCategoricalStep(),\n",
    "    \"pairwise_diff_raw_dates\": PairwiseDateDiffStep(),\n",
    "#    \"generate_cum_features\": GenerateCumFeaturesStep(),\n",
    "    \"aggregate_depth_table\": AggregateDepthTableStep(),\n",
    "    \"drop_columns\": DropColumnsStep(),\n",
    "    \"join_table\": JoinTablesStep(),\n",
    "    \"fill_nulls\": FillNullStep(),\n",
    "    \"reduce_memory_usage\": ReduceMemoryUsageStep(),\n",
    "#   \"drop_non_important_features\": DropNonImportantFeaturesStep()\n",
    "#    \"drop_dates_columns\": DropDatesColumnsStep()\n",
    "})"
   ]
  },
  {
   "cell_type": "code",
   "execution_count": null,
   "id": "4702818c",
   "metadata": {
    "papermill": {
     "duration": 0.013384,
     "end_time": "2024-02-29T21:03:08.695387",
     "exception": false,
     "start_time": "2024-02-29T21:03:08.682003",
     "status": "completed"
    },
    "tags": []
   },
   "outputs": [],
   "source": []
  },
  {
   "cell_type": "code",
   "execution_count": 4,
   "id": "b6247e35",
   "metadata": {
    "execution": {
     "iopub.execute_input": "2024-02-29T21:03:08.724492Z",
     "iopub.status.busy": "2024-02-29T21:03:08.724048Z",
     "iopub.status.idle": "2024-02-29T21:03:08.728658Z",
     "shell.execute_reply": "2024-02-29T21:03:08.727565Z"
    },
    "papermill": {
     "duration": 0.023042,
     "end_time": "2024-02-29T21:03:08.732009",
     "exception": false,
     "start_time": "2024-02-29T21:03:08.708967",
     "status": "completed"
    },
    "tags": []
   },
   "outputs": [],
   "source": [
    "# train_dataset = data_loader.load_train_dataset()\n",
    "# case_id_set = train_dataset.get_base().filter(train_dataset.get_base()[\"WEEK_NUM\"] < 10)[\"case_id\"]\n",
    "# train_dataset = train_dataset.filter(lambda table: table.filter(pl.col(\"case_id\").is_in(case_id_set)))"
   ]
  },
  {
   "cell_type": "code",
   "execution_count": 5,
   "id": "5c194e2c",
   "metadata": {
    "execution": {
     "iopub.execute_input": "2024-02-29T21:03:08.763967Z",
     "iopub.status.busy": "2024-02-29T21:03:08.763572Z",
     "iopub.status.idle": "2024-02-29T21:05:09.983304Z",
     "shell.execute_reply": "2024-02-29T21:05:09.982065Z"
    },
    "papermill": {
     "duration": 121.237481,
     "end_time": "2024-02-29T21:05:09.985859",
     "exception": false,
     "start_time": "2024-02-29T21:03:08.748378",
     "status": "completed"
    },
    "tags": []
   },
   "outputs": [
    {
     "name": "stdout",
     "output_type": "stream",
     "text": [
      "Train dataset week range: 0-91\n",
      "Step: set_types, execution_time: 20.203157424926758\n",
      "Step: process_categorical, execution_time: 26.184550523757935\n",
      "Create 169 new columns as pairwise dates diff\n",
      "Step: pairwise_diff_raw_dates, execution_time: 1.330657720565796\n",
      "Step: aggregate_depth_table, execution_time: 18.238659620285034\n",
      "Columns to drop: 1188\n",
      "Step: drop_columns, execution_time: 29.541739463806152\n",
      "Step: join_table, execution_time: 7.974450349807739\n",
      "Step: fill_nulls, execution_time: 0.12775135040283203\n",
      "Step: reduce_memory_usage, execution_time: 5.70292329788208\n"
     ]
    },
    {
     "data": {
      "text/plain": [
       "0"
      ]
     },
     "execution_count": 5,
     "metadata": {},
     "output_type": "execute_result"
    }
   ],
   "source": [
    "train_dataset = data_loader.load_train_dataset()\n",
    "print(\"Train dataset week range: {}-{}\".format(train_dataset.get_base()[\"WEEK_NUM\"].min(), train_dataset.get_base()[\"WEEK_NUM\"].max()))\n",
    "gc.collect()\n",
    "train_df = preprocessor.process_train_dataset(train_dataset)\n",
    "del train_dataset\n",
    "gc.collect()"
   ]
  },
  {
   "cell_type": "code",
   "execution_count": 6,
   "id": "5e12d5eb",
   "metadata": {
    "execution": {
     "iopub.execute_input": "2024-02-29T21:05:10.018064Z",
     "iopub.status.busy": "2024-02-29T21:05:10.017679Z",
     "iopub.status.idle": "2024-02-29T21:05:29.281061Z",
     "shell.execute_reply": "2024-02-29T21:05:29.280031Z"
    },
    "papermill": {
     "duration": 19.282942,
     "end_time": "2024-02-29T21:05:29.283889",
     "exception": false,
     "start_time": "2024-02-29T21:05:10.000947",
     "status": "completed"
    },
    "tags": []
   },
   "outputs": [],
   "source": [
    "train_df.write_parquet(\"/kaggle/working/train_df.parquet\")"
   ]
  },
  {
   "cell_type": "code",
   "execution_count": 7,
   "id": "79bd00a9",
   "metadata": {
    "execution": {
     "iopub.execute_input": "2024-02-29T21:05:29.315363Z",
     "iopub.status.busy": "2024-02-29T21:05:29.314655Z",
     "iopub.status.idle": "2024-02-29T21:05:29.322641Z",
     "shell.execute_reply": "2024-02-29T21:05:29.321266Z"
    },
    "papermill": {
     "duration": 0.026206,
     "end_time": "2024-02-29T21:05:29.324872",
     "exception": false,
     "start_time": "2024-02-29T21:05:29.298666",
     "status": "completed"
    },
    "tags": []
   },
   "outputs": [
    {
     "data": {
      "text/plain": [
       "2970.9914045333862"
      ]
     },
     "execution_count": 7,
     "metadata": {},
     "output_type": "execute_result"
    }
   ],
   "source": [
    "train_df.estimated_size() / 1024 / 1024"
   ]
  },
  {
   "cell_type": "markdown",
   "id": "1e2ecd01",
   "metadata": {
    "_kg_hide-input": true,
    "papermill": {
     "duration": 0.01422,
     "end_time": "2024-02-29T21:05:29.353767",
     "exception": false,
     "start_time": "2024-02-29T21:05:29.339547",
     "status": "completed"
    },
    "tags": []
   },
   "source": [
    "# Data visualization"
   ]
  },
  {
   "cell_type": "code",
   "execution_count": 8,
   "id": "59f02682",
   "metadata": {
    "execution": {
     "iopub.execute_input": "2024-02-29T21:05:29.385594Z",
     "iopub.status.busy": "2024-02-29T21:05:29.385204Z",
     "iopub.status.idle": "2024-02-29T21:05:29.390085Z",
     "shell.execute_reply": "2024-02-29T21:05:29.388844Z"
    },
    "papermill": {
     "duration": 0.023734,
     "end_time": "2024-02-29T21:05:29.392304",
     "exception": false,
     "start_time": "2024-02-29T21:05:29.368570",
     "status": "completed"
    },
    "tags": []
   },
   "outputs": [],
   "source": [
    "# def bucket_mean_split(x, y, buckets=100):\n",
    "#     x_buckets = []\n",
    "#     y_buckets = []\n",
    "\n",
    "#     x = np.array(x)\n",
    "#     y = np.array(y)\n",
    "#     x_quantiles = [np.quantile(x, i / buckets) for i in range(0, buckets + 1)]\n",
    "#     for i in range(0, buckets):\n",
    "#         filter = (x >= x_quantiles[i]) & (x <= x_quantiles[i + 1])\n",
    "#         x_buckets.append(np.mean(x[filter]))\n",
    "#         y_buckets.append(np.mean(y[filter]))\n",
    "#     return x_buckets, y_buckets"
   ]
  },
  {
   "cell_type": "code",
   "execution_count": 9,
   "id": "9e11f9a0",
   "metadata": {
    "execution": {
     "iopub.execute_input": "2024-02-29T21:05:29.488099Z",
     "iopub.status.busy": "2024-02-29T21:05:29.487702Z",
     "iopub.status.idle": "2024-02-29T21:05:29.492331Z",
     "shell.execute_reply": "2024-02-29T21:05:29.491199Z"
    },
    "papermill": {
     "duration": 0.022939,
     "end_time": "2024-02-29T21:05:29.494682",
     "exception": false,
     "start_time": "2024-02-29T21:05:29.471743",
     "status": "completed"
    },
    "tags": []
   },
   "outputs": [],
   "source": [
    "# train[\"target\"].mean()"
   ]
  },
  {
   "cell_type": "code",
   "execution_count": 10,
   "id": "6d08ccb3",
   "metadata": {
    "execution": {
     "iopub.execute_input": "2024-02-29T21:05:29.526573Z",
     "iopub.status.busy": "2024-02-29T21:05:29.525923Z",
     "iopub.status.idle": "2024-02-29T21:05:29.530752Z",
     "shell.execute_reply": "2024-02-29T21:05:29.529935Z"
    },
    "papermill": {
     "duration": 0.023383,
     "end_time": "2024-02-29T21:05:29.532925",
     "exception": false,
     "start_time": "2024-02-29T21:05:29.509542",
     "status": "completed"
    },
    "tags": []
   },
   "outputs": [],
   "source": [
    "# print(\"Mean target={} where actualdpdtolerance_344P != 0\".format(train[\"target\"].filter(train[\"actualdpdtolerance_344P\"] != 0).mean()))\n",
    "# print(\"Mean target={} where actualdpdtolerance_344P == 0\".format(train[\"target\"].filter(train[\"actualdpdtolerance_344P\"] == 0).mean()))\n",
    "# print(\"Mean target={} where actualdpdtolerance_344P is null\".format(train[\"target\"].filter(train[\"actualdpdtolerance_344P\"].is_null()).mean()))"
   ]
  },
  {
   "cell_type": "code",
   "execution_count": 11,
   "id": "1570d6d1",
   "metadata": {
    "execution": {
     "iopub.execute_input": "2024-02-29T21:05:29.565080Z",
     "iopub.status.busy": "2024-02-29T21:05:29.564427Z",
     "iopub.status.idle": "2024-02-29T21:05:29.569909Z",
     "shell.execute_reply": "2024-02-29T21:05:29.569133Z"
    },
    "papermill": {
     "duration": 0.024508,
     "end_time": "2024-02-29T21:05:29.572235",
     "exception": false,
     "start_time": "2024-02-29T21:05:29.547727",
     "status": "completed"
    },
    "tags": []
   },
   "outputs": [],
   "source": [
    "# columns = [column for column in train.columns if (train[column].dtype == pl.Float64)]\n",
    "\n",
    "# figure, axis = plt.subplots(len(columns) // 5 + 1, 5, figsize=(15, 30))\n",
    "# for index, column in enumerate(columns):\n",
    "#     current_plot = axis[index // 5, index % 5]\n",
    "#     x = train[column]\n",
    "#     y = train[\"target\"]\n",
    "#     if (x.dtype == pl.String or x.dtype == pl.Boolean):\n",
    "#         continue\n",
    "#     filter = x.is_not_null()\n",
    "#     x = x.filter(filter)\n",
    "#     y = y.filter(filter)\n",
    "#     if (x.is_empty()):\n",
    "#         continue\n",
    "#     x_bucket, y_bucket = bucket_mean_split(x.to_numpy(), y.to_numpy(), buckets=100)\n",
    "#     current_plot.plot(x_bucket, y_bucket)\n",
    "#     current_plot.set_title(column)\n",
    "# plt.show()"
   ]
  },
  {
   "cell_type": "code",
   "execution_count": 12,
   "id": "ad264ef9",
   "metadata": {
    "execution": {
     "iopub.execute_input": "2024-02-29T21:05:29.604022Z",
     "iopub.status.busy": "2024-02-29T21:05:29.603390Z",
     "iopub.status.idle": "2024-02-29T21:05:29.607890Z",
     "shell.execute_reply": "2024-02-29T21:05:29.607011Z"
    },
    "papermill": {
     "duration": 0.02302,
     "end_time": "2024-02-29T21:05:29.610063",
     "exception": false,
     "start_time": "2024-02-29T21:05:29.587043",
     "status": "completed"
    },
    "tags": []
   },
   "outputs": [],
   "source": [
    "# features = train_df.columns\n",
    "# features.remove(\"WEEK_NUM\")\n",
    "# features.remove(\"case_id\")\n",
    "# features.remove(\"target\")"
   ]
  },
  {
   "cell_type": "code",
   "execution_count": 13,
   "id": "de03684e",
   "metadata": {
    "execution": {
     "iopub.execute_input": "2024-02-29T21:05:29.642019Z",
     "iopub.status.busy": "2024-02-29T21:05:29.641377Z",
     "iopub.status.idle": "2024-02-29T21:05:29.645826Z",
     "shell.execute_reply": "2024-02-29T21:05:29.645028Z"
    },
    "papermill": {
     "duration": 0.023143,
     "end_time": "2024-02-29T21:05:29.647985",
     "exception": false,
     "start_time": "2024-02-29T21:05:29.624842",
     "status": "completed"
    },
    "tags": []
   },
   "outputs": [],
   "source": [
    "# gc.collect()"
   ]
  },
  {
   "cell_type": "markdown",
   "id": "25cdff70",
   "metadata": {
    "papermill": {
     "duration": 0.014572,
     "end_time": "2024-02-29T21:05:29.677830",
     "exception": false,
     "start_time": "2024-02-29T21:05:29.663258",
     "status": "completed"
    },
    "tags": []
   },
   "source": [
    "### Feature Importance"
   ]
  },
  {
   "cell_type": "code",
   "execution_count": 14,
   "id": "ccaaa74e",
   "metadata": {
    "execution": {
     "iopub.execute_input": "2024-02-29T21:05:29.709472Z",
     "iopub.status.busy": "2024-02-29T21:05:29.708787Z",
     "iopub.status.idle": "2024-02-29T21:05:29.714040Z",
     "shell.execute_reply": "2024-02-29T21:05:29.713272Z"
    },
    "papermill": {
     "duration": 0.0237,
     "end_time": "2024-02-29T21:05:29.716278",
     "exception": false,
     "start_time": "2024-02-29T21:05:29.692578",
     "status": "completed"
    },
    "tags": []
   },
   "outputs": [],
   "source": [
    "# def train_rf(X, Y):    \n",
    "#     params = {\n",
    "#         \"boosting_type\": \"gbdt\",\n",
    "#         \"objective\": \"binary\",\n",
    "#         \"metric\": \"auc\",\n",
    "#         \"max_depth\": 8,\n",
    "#         \"max_bin\": 255,\n",
    "#         \"learning_rate\": 0.05,\n",
    "#         \"n_estimators\": 200,\n",
    "#         \"colsample_bytree\": 0.8, \n",
    "#         \"colsample_bynode\": 0.8,\n",
    "#         \"verbose\": -1,\n",
    "#         \"random_state\": 42,\n",
    "#         \"device\": \"gpu\",\n",
    "#     }\n",
    "    \n",
    "#     model = lgb.LGBMClassifier(**params)\n",
    "    \n",
    "#     model.fit(X.to_pandas(), Y.to_pandas())\n",
    "    \n",
    "#     # Get feature importances\n",
    "#     return pl.DataFrame({\n",
    "#         \"feature\": list(X.columns),\n",
    "#         \"feature_importance\": model.feature_importances_,\n",
    "#         \"train_score\": roc_auc_score(Y.to_pandas(), model.predict(X.to_pandas()))\n",
    "#     })"
   ]
  },
  {
   "cell_type": "code",
   "execution_count": 15,
   "id": "94f3efd1",
   "metadata": {
    "execution": {
     "iopub.execute_input": "2024-02-29T21:05:29.747933Z",
     "iopub.status.busy": "2024-02-29T21:05:29.747252Z",
     "iopub.status.idle": "2024-02-29T21:05:29.752300Z",
     "shell.execute_reply": "2024-02-29T21:05:29.751523Z"
    },
    "papermill": {
     "duration": 0.023364,
     "end_time": "2024-02-29T21:05:29.754425",
     "exception": false,
     "start_time": "2024-02-29T21:05:29.731061",
     "status": "completed"
    },
    "tags": []
   },
   "outputs": [],
   "source": [
    "# def get_feature_importance(X, Y):\n",
    "#     COUNT_ITER = 50\n",
    "    \n",
    "#     dfs = []\n",
    "#     for i in range(COUNT_ITER):\n",
    "#         gc.collect()\n",
    "        \n",
    "#         start_time = time.time()\n",
    "#         shuffled_Y = Y.clone().sample(fraction=1.0, shuffle=True)\n",
    "#         current_df = train_rf(X, shuffled_Y)\n",
    "#         finish_time = time.time()\n",
    "#         print(f\"Finish iteration: {i + 1}/{COUNT_ITER}, time: {finish_time - start_time}\")\n",
    "#         current_df = current_df.with_columns(pl.lit(i).alias(\"iteration\"))\n",
    "#         dfs.append(current_df)\n",
    "        \n",
    "#     return pl.concat(dfs, rechunk=True), train_rf(X, Y)"
   ]
  },
  {
   "cell_type": "code",
   "execution_count": 16,
   "id": "a8a1efbd",
   "metadata": {
    "execution": {
     "iopub.execute_input": "2024-02-29T21:05:29.785847Z",
     "iopub.status.busy": "2024-02-29T21:05:29.785199Z",
     "iopub.status.idle": "2024-02-29T21:05:29.789665Z",
     "shell.execute_reply": "2024-02-29T21:05:29.788936Z"
    },
    "papermill": {
     "duration": 0.022651,
     "end_time": "2024-02-29T21:05:29.791757",
     "exception": false,
     "start_time": "2024-02-29T21:05:29.769106",
     "status": "completed"
    },
    "tags": []
   },
   "outputs": [],
   "source": [
    "# shuffled_feature_importance_df, feature_importance_df = get_feature_importance(train_df[features], train_df[\"target\"])\n",
    "# shuffled_feature_importance_df.write_csv(\"shuffled_feature_importance_df.csv\", separator=\",\")\n",
    "# feature_importance_df.write_csv(\"feature_importance_df.csv\", separator=\",\")"
   ]
  },
  {
   "cell_type": "code",
   "execution_count": 17,
   "id": "ecf5879b",
   "metadata": {
    "execution": {
     "iopub.execute_input": "2024-02-29T21:05:29.823190Z",
     "iopub.status.busy": "2024-02-29T21:05:29.822750Z",
     "iopub.status.idle": "2024-02-29T21:05:29.827647Z",
     "shell.execute_reply": "2024-02-29T21:05:29.826528Z"
    },
    "papermill": {
     "duration": 0.023343,
     "end_time": "2024-02-29T21:05:29.829934",
     "exception": false,
     "start_time": "2024-02-29T21:05:29.806591",
     "status": "completed"
    },
    "tags": []
   },
   "outputs": [],
   "source": [
    "# important_features = []\n",
    "# for column in feature_importance_df[\"feature\"]:\n",
    "#     shuffled_feature_importance = shuffled_feature_importance_df.filter(shuffled_feature_importance_df[\"feature\"] == column)[\"feature_importance\"].to_numpy()\n",
    "#     feature_importance = feature_importance_df.filter(feature_importance_df[\"feature\"] == column)[\"feature_importance\"][0]\n",
    "    \n",
    "#     if (np.percentile(shuffled_feature_importance, 90) <= feature_importance):\n",
    "#         important_features.append(column)\n",
    "# print(len(important_features), important_features)"
   ]
  },
  {
   "cell_type": "markdown",
   "id": "5ef93e07",
   "metadata": {
    "papermill": {
     "duration": 0.014389,
     "end_time": "2024-02-29T21:05:29.859226",
     "exception": false,
     "start_time": "2024-02-29T21:05:29.844837",
     "status": "completed"
    },
    "tags": []
   },
   "source": [
    "# Training"
   ]
  },
  {
   "cell_type": "code",
   "execution_count": 18,
   "id": "92fff182",
   "metadata": {
    "execution": {
     "iopub.execute_input": "2024-02-29T21:05:29.890789Z",
     "iopub.status.busy": "2024-02-29T21:05:29.890387Z",
     "iopub.status.idle": "2024-02-29T21:05:29.895297Z",
     "shell.execute_reply": "2024-02-29T21:05:29.894200Z"
    },
    "papermill": {
     "duration": 0.02338,
     "end_time": "2024-02-29T21:05:29.897536",
     "exception": false,
     "start_time": "2024-02-29T21:05:29.874156",
     "status": "completed"
    },
    "tags": []
   },
   "outputs": [],
   "source": [
    "# class VotingModel(BaseEstimator, RegressorMixin):\n",
    "#     def __init__(self, estimators):\n",
    "#         super().__init__()\n",
    "#         self.estimators = estimators\n",
    "        \n",
    "#     def fit(self, X, y=None):\n",
    "#         return self\n",
    "    \n",
    "#     def predict(self, X):\n",
    "#         y_preds = [estimator.predict(X) for estimator in self.estimators]\n",
    "#         return np.mean(y_preds, axis=0)\n",
    "    \n",
    "#     def predict_proba(self, X):\n",
    "#         y_preds = [estimator.predict_proba(X) for estimator in self.estimators]\n",
    "#         return np.mean(y_preds, axis=0)\n",
    "    \n",
    "#     def get_feature_importance(self):\n",
    "#         feature_importances = np.array([0 for feature in features])\n",
    "\n",
    "#         for model in self.estimators:\n",
    "#             feature_importances += model.feature_importances_\n",
    "\n",
    "#         return feature_importances"
   ]
  },
  {
   "cell_type": "code",
   "execution_count": 19,
   "id": "91b27d03",
   "metadata": {
    "execution": {
     "iopub.execute_input": "2024-02-29T21:05:29.929538Z",
     "iopub.status.busy": "2024-02-29T21:05:29.928470Z",
     "iopub.status.idle": "2024-02-29T21:05:29.933664Z",
     "shell.execute_reply": "2024-02-29T21:05:29.932687Z"
    },
    "papermill": {
     "duration": 0.023649,
     "end_time": "2024-02-29T21:05:29.936025",
     "exception": false,
     "start_time": "2024-02-29T21:05:29.912376",
     "status": "completed"
    },
    "tags": []
   },
   "outputs": [],
   "source": [
    "# for column in features:\n",
    "#     if (train_dataset[column].dtype != pl.Categorical) and \\\n",
    "#         (train_dataset[column].dtype != pl.Float64) and \\\n",
    "#         (train_dataset[column].dtype != pl.Float64):\n",
    "#         print(column, train_dataset[column].dtype)"
   ]
  },
  {
   "cell_type": "code",
   "execution_count": 20,
   "id": "ce6fc2fc",
   "metadata": {
    "execution": {
     "iopub.execute_input": "2024-02-29T21:05:29.967846Z",
     "iopub.status.busy": "2024-02-29T21:05:29.967450Z",
     "iopub.status.idle": "2024-02-29T21:05:29.972978Z",
     "shell.execute_reply": "2024-02-29T21:05:29.971708Z"
    },
    "papermill": {
     "duration": 0.024071,
     "end_time": "2024-02-29T21:05:29.975463",
     "exception": false,
     "start_time": "2024-02-29T21:05:29.951392",
     "status": "completed"
    },
    "tags": []
   },
   "outputs": [],
   "source": [
    "# def train_lgb_model(X_train, Y_train, X_test, Y_test):\n",
    "#     params = {\n",
    "#         \"boosting_type\": \"gbdt\",\n",
    "#         \"objective\": \"binary\",\n",
    "#         \"metric\": \"auc\",\n",
    "#         \"max_depth\": 8,\n",
    "#         \"max_bin\": 250,\n",
    "#         \"learning_rate\": 0.05,\n",
    "#         \"n_estimators\": 1000,\n",
    "#         \"colsample_bytree\": 0.8, \n",
    "#         \"colsample_bynode\": 0.8,\n",
    "#         \"verbose\": -1,\n",
    "#         \"random_state\": 42,\n",
    "#         \"device\": \"gpu\",\n",
    "#     }\n",
    "    \n",
    "#     model = lgb.LGBMClassifier(**params)\n",
    "    \n",
    "#     model.fit(\n",
    "#         X_train, Y_train,\n",
    "#         eval_set=[(X_test, Y_test)],\n",
    "#         callbacks=[lgb.log_evaluation(100), lgb.early_stopping(100)]\n",
    "#     )\n",
    "        \n",
    "#     return model"
   ]
  },
  {
   "cell_type": "code",
   "execution_count": 21,
   "id": "2ef0257c",
   "metadata": {
    "execution": {
     "iopub.execute_input": "2024-02-29T21:05:30.007916Z",
     "iopub.status.busy": "2024-02-29T21:05:30.007311Z",
     "iopub.status.idle": "2024-02-29T21:05:30.011548Z",
     "shell.execute_reply": "2024-02-29T21:05:30.010593Z"
    },
    "papermill": {
     "duration": 0.022949,
     "end_time": "2024-02-29T21:05:30.013960",
     "exception": false,
     "start_time": "2024-02-29T21:05:29.991011",
     "status": "completed"
    },
    "tags": []
   },
   "outputs": [],
   "source": [
    "# gc.collect()"
   ]
  },
  {
   "cell_type": "code",
   "execution_count": 22,
   "id": "6f24ef19",
   "metadata": {
    "execution": {
     "iopub.execute_input": "2024-02-29T21:05:30.046661Z",
     "iopub.status.busy": "2024-02-29T21:05:30.046286Z",
     "iopub.status.idle": "2024-02-29T21:05:30.052611Z",
     "shell.execute_reply": "2024-02-29T21:05:30.051535Z"
    },
    "papermill": {
     "duration": 0.02593,
     "end_time": "2024-02-29T21:05:30.054942",
     "exception": false,
     "start_time": "2024-02-29T21:05:30.029012",
     "status": "completed"
    },
    "tags": []
   },
   "outputs": [],
   "source": [
    "# weeks = train_df[\"WEEK_NUM\"]\n",
    "# cv = StratifiedGroupKFold(n_splits=5, shuffle=False)\n",
    "\n",
    "# fitted_models = []\n",
    "\n",
    "# oof_predicted = np.zeros(train_df.shape[0])\n",
    "\n",
    "# for idx_train, idx_test in cv.split(train_df[features], train_df[\"target\"], groups=weeks):        \n",
    "# #     X_train = train_df[features][idx_train].to_pandas()\n",
    "# #     Y_train = train_df[\"target\"][idx_train].to_pandas()\n",
    "    \n",
    "#     X_test = train_df[features][idx_test].to_pandas()\n",
    "#     Y_test = train_df[\"target\"][idx_test].to_pandas()\n",
    "    \n",
    "#     start = time.time()\n",
    "#     params = {\n",
    "#         \"boosting_type\": \"gbdt\",\n",
    "#         \"objective\": \"binary\",\n",
    "#         \"metric\": \"auc\",\n",
    "#         \"max_depth\": 8,\n",
    "#         \"max_bin\": 250,\n",
    "#         \"learning_rate\": 0.05,\n",
    "#         \"n_estimators\": 1000,\n",
    "#         \"colsample_bytree\": 0.8, \n",
    "#         \"colsample_bynode\": 0.8,\n",
    "#         \"verbose\": -1,\n",
    "#         \"random_state\": 42,\n",
    "#         \"device\": \"gpu\",\n",
    "#     }\n",
    "    \n",
    "#     model = lgb.LGBMClassifier(**params)\n",
    "    \n",
    "#     model.fit(\n",
    "#         train_df[features][idx_train].to_pandas(), train_df[\"target\"][idx_train].to_pandas(),\n",
    "#         eval_set=[(X_test, Y_test)],\n",
    "#         callbacks=[lgb.log_evaluation(100), lgb.early_stopping(100)]\n",
    "#     )\n",
    "        \n",
    "\n",
    "# #    model = train_lgb_model(X_train, Y_train, X_test, Y_test)\n",
    "#     finish = time.time()\n",
    "    \n",
    "#     print(\"fit time: {}\".format(finish - start))\n",
    "#     fitted_models.append(model)\n",
    "    \n",
    "#     test_pred = model.predict_proba(X_test)[:, 1]\n",
    "#     oof_predicted[idx_test] = test_pred\n",
    "#     gc.collect()\n",
    "\n",
    "# model = VotingModel(fitted_models)\n",
    "# gc.collect()"
   ]
  },
  {
   "cell_type": "code",
   "execution_count": 23,
   "id": "50b8f719",
   "metadata": {
    "execution": {
     "iopub.execute_input": "2024-02-29T21:05:30.086637Z",
     "iopub.status.busy": "2024-02-29T21:05:30.086245Z",
     "iopub.status.idle": "2024-02-29T21:05:30.090696Z",
     "shell.execute_reply": "2024-02-29T21:05:30.089731Z"
    },
    "papermill": {
     "duration": 0.023134,
     "end_time": "2024-02-29T21:05:30.092988",
     "exception": false,
     "start_time": "2024-02-29T21:05:30.069854",
     "status": "completed"
    },
    "tags": []
   },
   "outputs": [],
   "source": [
    "# roc_auc_oof = roc_auc_score(train_df[\"target\"], oof_predicted)\n",
    "# print(\"CV roc_auc_oof: \", roc_auc_oof)"
   ]
  },
  {
   "cell_type": "markdown",
   "id": "2c7c6883",
   "metadata": {
    "papermill": {
     "duration": 0.014487,
     "end_time": "2024-02-29T21:05:30.122638",
     "exception": false,
     "start_time": "2024-02-29T21:05:30.108151",
     "status": "completed"
    },
    "tags": []
   },
   "source": [
    "# Predict"
   ]
  },
  {
   "cell_type": "code",
   "execution_count": 24,
   "id": "1a5b04ad",
   "metadata": {
    "execution": {
     "iopub.execute_input": "2024-02-29T21:05:30.154441Z",
     "iopub.status.busy": "2024-02-29T21:05:30.154035Z",
     "iopub.status.idle": "2024-02-29T21:05:30.158402Z",
     "shell.execute_reply": "2024-02-29T21:05:30.157404Z"
    },
    "papermill": {
     "duration": 0.022962,
     "end_time": "2024-02-29T21:05:30.160647",
     "exception": false,
     "start_time": "2024-02-29T21:05:30.137685",
     "status": "completed"
    },
    "tags": []
   },
   "outputs": [],
   "source": [
    "# del train_df\n",
    "# gc.collect()"
   ]
  },
  {
   "cell_type": "code",
   "execution_count": 25,
   "id": "bdfd7a03",
   "metadata": {
    "execution": {
     "iopub.execute_input": "2024-02-29T21:05:30.192201Z",
     "iopub.status.busy": "2024-02-29T21:05:30.191805Z",
     "iopub.status.idle": "2024-02-29T21:05:30.196271Z",
     "shell.execute_reply": "2024-02-29T21:05:30.195188Z"
    },
    "papermill": {
     "duration": 0.023023,
     "end_time": "2024-02-29T21:05:30.198719",
     "exception": false,
     "start_time": "2024-02-29T21:05:30.175696",
     "status": "completed"
    },
    "tags": []
   },
   "outputs": [],
   "source": [
    "# test_dataset = data_loader.load_test_dataset()\n",
    "# print(\"Test dataset week range: {}-{}\".format(test_dataset.base[\"WEEK_NUM\"].min(), test_dataset.base[\"WEEK_NUM\"].max()))\n",
    "# gc.collect()\n",
    "# test_df = preprocessor.process_test_dataset(test_dataset)\n",
    "# del test_dataset\n",
    "# gc.collect()"
   ]
  },
  {
   "cell_type": "code",
   "execution_count": 26,
   "id": "c4b6694d",
   "metadata": {
    "execution": {
     "iopub.execute_input": "2024-02-29T21:05:30.232192Z",
     "iopub.status.busy": "2024-02-29T21:05:30.230977Z",
     "iopub.status.idle": "2024-02-29T21:05:30.235870Z",
     "shell.execute_reply": "2024-02-29T21:05:30.234734Z"
    },
    "papermill": {
     "duration": 0.024085,
     "end_time": "2024-02-29T21:05:30.238141",
     "exception": false,
     "start_time": "2024-02-29T21:05:30.214056",
     "status": "completed"
    },
    "tags": []
   },
   "outputs": [],
   "source": [
    "# print([name for value, name in reversed(sorted(zip(model.get_feature_importance(), features)))][0:200])"
   ]
  },
  {
   "cell_type": "code",
   "execution_count": null,
   "id": "c46c4995",
   "metadata": {
    "papermill": {
     "duration": 0.01519,
     "end_time": "2024-02-29T21:05:30.268805",
     "exception": false,
     "start_time": "2024-02-29T21:05:30.253615",
     "status": "completed"
    },
    "tags": []
   },
   "outputs": [],
   "source": []
  },
  {
   "cell_type": "code",
   "execution_count": 27,
   "id": "14007b79",
   "metadata": {
    "execution": {
     "iopub.execute_input": "2024-02-29T21:05:30.302136Z",
     "iopub.status.busy": "2024-02-29T21:05:30.301226Z",
     "iopub.status.idle": "2024-02-29T21:05:30.305782Z",
     "shell.execute_reply": "2024-02-29T21:05:30.304737Z"
    },
    "papermill": {
     "duration": 0.023599,
     "end_time": "2024-02-29T21:05:30.307920",
     "exception": false,
     "start_time": "2024-02-29T21:05:30.284321",
     "status": "completed"
    },
    "tags": []
   },
   "outputs": [],
   "source": [
    "# CV roc_auc_oof:  0.8353789451006361 without feature selection ~500 features\n",
    "# CV roc_auc_oof:  0.8329322959533371 with feature selection ~200 features"
   ]
  },
  {
   "cell_type": "code",
   "execution_count": null,
   "id": "b21d70dd",
   "metadata": {
    "papermill": {
     "duration": 0.014574,
     "end_time": "2024-02-29T21:05:30.337935",
     "exception": false,
     "start_time": "2024-02-29T21:05:30.323361",
     "status": "completed"
    },
    "tags": []
   },
   "outputs": [],
   "source": []
  },
  {
   "cell_type": "code",
   "execution_count": 28,
   "id": "35ad8035",
   "metadata": {
    "execution": {
     "iopub.execute_input": "2024-02-29T21:05:30.368976Z",
     "iopub.status.busy": "2024-02-29T21:05:30.368552Z",
     "iopub.status.idle": "2024-02-29T21:05:30.373754Z",
     "shell.execute_reply": "2024-02-29T21:05:30.372812Z"
    },
    "papermill": {
     "duration": 0.023341,
     "end_time": "2024-02-29T21:05:30.376027",
     "exception": false,
     "start_time": "2024-02-29T21:05:30.352686",
     "status": "completed"
    },
    "tags": []
   },
   "outputs": [],
   "source": [
    "# def gini_stability(dataset, w_fallingrate=88.0, w_resstd=-0.5):\n",
    "#     gini_in_time = dataset\\\n",
    "#         .sort_values(\"WEEK_NUM\")\\\n",
    "#         .groupby(\"WEEK_NUM\")[[\"true\", \"predicted\"]]\\\n",
    "#         .apply(lambda x: 2 * roc_auc_score(x[\"true\"], x[\"predicted\"]) - 1).tolist()\n",
    "    \n",
    "#     x = np.arange(len(gini_in_time))\n",
    "#     y = gini_in_time\n",
    "#     a, b = np.polyfit(x, y, 1)\n",
    "#     y_hat = a * x + b\n",
    "#     residuals = y - y_hat\n",
    "#     res_std = np.std(residuals)\n",
    "#     avg_gini = np.mean(gini_in_time)\n",
    "    \n",
    "#     print(avg_gini, min(0, a), res_std)\n",
    "    \n",
    "#     return avg_gini + w_fallingrate * min(0, a) + w_resstd * res_std"
   ]
  },
  {
   "cell_type": "code",
   "execution_count": 29,
   "id": "50312a07",
   "metadata": {
    "execution": {
     "iopub.execute_input": "2024-02-29T21:05:30.407852Z",
     "iopub.status.busy": "2024-02-29T21:05:30.407066Z",
     "iopub.status.idle": "2024-02-29T21:05:30.411273Z",
     "shell.execute_reply": "2024-02-29T21:05:30.410463Z"
    },
    "papermill": {
     "duration": 0.022706,
     "end_time": "2024-02-29T21:05:30.413674",
     "exception": false,
     "start_time": "2024-02-29T21:05:30.390968",
     "status": "completed"
    },
    "tags": []
   },
   "outputs": [],
   "source": [
    "# # Y_train_predicted = model.predict_proba(train_df[features].to_pandas())\n",
    "# Y_test_predicted = model.predict_proba(test_df[features].to_pandas())"
   ]
  },
  {
   "cell_type": "code",
   "execution_count": 30,
   "id": "822c0542",
   "metadata": {
    "execution": {
     "iopub.execute_input": "2024-02-29T21:05:30.445140Z",
     "iopub.status.busy": "2024-02-29T21:05:30.444701Z",
     "iopub.status.idle": "2024-02-29T21:05:30.450031Z",
     "shell.execute_reply": "2024-02-29T21:05:30.448959Z"
    },
    "papermill": {
     "duration": 0.023649,
     "end_time": "2024-02-29T21:05:30.452294",
     "exception": false,
     "start_time": "2024-02-29T21:05:30.428645",
     "status": "completed"
    },
    "tags": []
   },
   "outputs": [],
   "source": [
    "# result = pd.DataFrame({\n",
    "#     \"WEEK_NUM\": train_df[\"WEEK_NUM\"],\n",
    "#     \"true\": train_df[\"target\"],\n",
    "#     \"predicted\": Y_train_predicted[:, 1],\n",
    "# })\n",
    "\n",
    "# train_result = gini_stability(result)\n",
    "# print(\"train_score: {}\".format(train_result))\n",
    "\n",
    "# if MODE == Mode.Train:\n",
    "#     result = pd.DataFrame({\n",
    "#         \"WEEK_NUM\": test_df[\"WEEK_NUM\"],\n",
    "#         \"true\": test_df[\"target\"],\n",
    "#         \"predicted\": Y_test_predicted[:, 1],\n",
    "#     })\n",
    "\n",
    "#     test_result = gini_stability(result)\n",
    "#     print(\"test_score: {}\".format(test_result))"
   ]
  },
  {
   "cell_type": "code",
   "execution_count": 31,
   "id": "df23f139",
   "metadata": {
    "execution": {
     "iopub.execute_input": "2024-02-29T21:05:30.483605Z",
     "iopub.status.busy": "2024-02-29T21:05:30.483184Z",
     "iopub.status.idle": "2024-02-29T21:05:30.488353Z",
     "shell.execute_reply": "2024-02-29T21:05:30.487323Z"
    },
    "papermill": {
     "duration": 0.023228,
     "end_time": "2024-02-29T21:05:30.490421",
     "exception": false,
     "start_time": "2024-02-29T21:05:30.467193",
     "status": "completed"
    },
    "tags": []
   },
   "outputs": [],
   "source": [
    "# Version 1, test_score: 0.583319926590042, public score 0.48\n",
    "# 100 iters\n",
    "\n",
    "# Version 2, test_score: 0.6062624701357268, public score 0.517\n",
    "# 300 iters\n",
    "\n",
    "# Version 3, test_score: ?, public score 0.545\n",
    "# 2000 iters\n",
    "\n",
    "# Version 4, test_score: ?, public score ?\n",
    "# ? iters, Improve aggregate functions for depth_1, depth_2\n"
   ]
  },
  {
   "cell_type": "markdown",
   "id": "62081337",
   "metadata": {
    "papermill": {
     "duration": 0.014575,
     "end_time": "2024-02-29T21:05:30.519927",
     "exception": false,
     "start_time": "2024-02-29T21:05:30.505352",
     "status": "completed"
    },
    "tags": []
   },
   "source": [
    "# Submition"
   ]
  },
  {
   "cell_type": "code",
   "execution_count": 32,
   "id": "9d559b05",
   "metadata": {
    "execution": {
     "iopub.execute_input": "2024-02-29T21:05:30.550850Z",
     "iopub.status.busy": "2024-02-29T21:05:30.550435Z",
     "iopub.status.idle": "2024-02-29T21:05:30.555338Z",
     "shell.execute_reply": "2024-02-29T21:05:30.554314Z"
    },
    "papermill": {
     "duration": 0.022884,
     "end_time": "2024-02-29T21:05:30.557532",
     "exception": false,
     "start_time": "2024-02-29T21:05:30.534648",
     "status": "completed"
    },
    "tags": []
   },
   "outputs": [],
   "source": [
    "# case_id = test_df[\"case_id\"]\n",
    "# X = test_df[features].to_pandas()\n",
    "\n",
    "# Y = model.predict_proba(X)\n",
    "\n",
    "# submission = pd.DataFrame({\n",
    "#     \"case_id\": case_id.to_numpy(),\n",
    "#     \"score\": Y[:, 1]\n",
    "# }).set_index('case_id')\n",
    "# submission.to_csv(\"./submission.csv\")"
   ]
  },
  {
   "cell_type": "code",
   "execution_count": null,
   "id": "abc696d5",
   "metadata": {
    "papermill": {
     "duration": 0.01479,
     "end_time": "2024-02-29T21:05:30.587167",
     "exception": false,
     "start_time": "2024-02-29T21:05:30.572377",
     "status": "completed"
    },
    "tags": []
   },
   "outputs": [],
   "source": []
  },
  {
   "cell_type": "code",
   "execution_count": null,
   "id": "54c135f8",
   "metadata": {
    "papermill": {
     "duration": 0.014483,
     "end_time": "2024-02-29T21:05:30.616427",
     "exception": false,
     "start_time": "2024-02-29T21:05:30.601944",
     "status": "completed"
    },
    "tags": []
   },
   "outputs": [],
   "source": []
  },
  {
   "cell_type": "code",
   "execution_count": null,
   "id": "5a3c3483",
   "metadata": {
    "papermill": {
     "duration": 0.014407,
     "end_time": "2024-02-29T21:05:30.646173",
     "exception": false,
     "start_time": "2024-02-29T21:05:30.631766",
     "status": "completed"
    },
    "tags": []
   },
   "outputs": [],
   "source": []
  }
 ],
 "metadata": {
  "kaggle": {
   "accelerator": "none",
   "dataSources": [
    {
     "databundleVersionId": 7602123,
     "sourceId": 50160,
     "sourceType": "competition"
    },
    {
     "databundleVersionId": 7829810,
     "datasetId": 4496896,
     "sourceId": 7729958,
     "sourceType": "datasetVersion"
    }
   ],
   "dockerImageVersionId": 30635,
   "isGpuEnabled": false,
   "isInternetEnabled": false,
   "language": "python",
   "sourceType": "notebook"
  },
  "kernelspec": {
   "display_name": "Python 3",
   "language": "python",
   "name": "python3"
  },
  "language_info": {
   "codemirror_mode": {
    "name": "ipython",
    "version": 3
   },
   "file_extension": ".py",
   "mimetype": "text/x-python",
   "name": "python",
   "nbconvert_exporter": "python",
   "pygments_lexer": "ipython3",
   "version": "3.10.12"
  },
  "papermill": {
   "default_parameters": {},
   "duration": 187.382737,
   "end_time": "2024-02-29T21:05:31.785413",
   "environment_variables": {},
   "exception": null,
   "input_path": "__notebook__.ipynb",
   "output_path": "__notebook__.ipynb",
   "parameters": {},
   "start_time": "2024-02-29T21:02:24.402676",
   "version": "2.4.0"
  }
 },
 "nbformat": 4,
 "nbformat_minor": 5
}
