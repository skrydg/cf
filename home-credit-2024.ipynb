{
 "cells": [
  {
   "cell_type": "markdown",
   "id": "2fc6fd39",
   "metadata": {
    "papermill": {
     "duration": 0.018163,
     "end_time": "2024-04-18T20:14:37.989154",
     "exception": false,
     "start_time": "2024-04-18T20:14:37.970991",
     "status": "completed"
    },
    "tags": []
   },
   "source": [
    "# Install packages"
   ]
  },
  {
   "cell_type": "code",
   "execution_count": 1,
   "id": "61180b6b",
   "metadata": {
    "execution": {
     "iopub.execute_input": "2024-04-18T20:14:38.027034Z",
     "iopub.status.busy": "2024-04-18T20:14:38.026610Z",
     "iopub.status.idle": "2024-04-18T20:15:14.118667Z",
     "shell.execute_reply": "2024-04-18T20:15:14.117070Z"
    },
    "papermill": {
     "duration": 36.114149,
     "end_time": "2024-04-18T20:15:14.121595",
     "exception": false,
     "start_time": "2024-04-18T20:14:38.007446",
     "status": "completed"
    },
    "tags": []
   },
   "outputs": [
    {
     "name": "stdout",
     "output_type": "stream",
     "text": [
      "Processing /kaggle/input/kaggle-home-credit-risk-model-stability-lib/kaggle_home_credit_risk_model_stability-0.3-py3-none-any.whl\r\n",
      "Installing collected packages: kaggle-home-credit-risk-model-stability\r\n",
      "Successfully installed kaggle-home-credit-risk-model-stability-0.3\r\n"
     ]
    }
   ],
   "source": [
    "!pip install /kaggle/input/kaggle-home-credit-risk-model-stability-lib/kaggle_home_credit_risk_model_stability-0.3-py3-none-any.whl --force-reinstall"
   ]
  },
  {
   "cell_type": "markdown",
   "id": "7aa9b387",
   "metadata": {
    "papermill": {
     "duration": 0.017468,
     "end_time": "2024-04-18T20:15:14.157044",
     "exception": false,
     "start_time": "2024-04-18T20:15:14.139576",
     "status": "completed"
    },
    "tags": []
   },
   "source": [
    "# Import packages"
   ]
  },
  {
   "cell_type": "code",
   "execution_count": 2,
   "id": "8f9f2592",
   "metadata": {
    "execution": {
     "iopub.execute_input": "2024-04-18T20:15:14.196148Z",
     "iopub.status.busy": "2024-04-18T20:15:14.195731Z",
     "iopub.status.idle": "2024-04-18T20:15:18.972788Z",
     "shell.execute_reply": "2024-04-18T20:15:18.971669Z"
    },
    "papermill": {
     "duration": 4.800984,
     "end_time": "2024-04-18T20:15:18.975832",
     "exception": false,
     "start_time": "2024-04-18T20:15:14.174848",
     "status": "completed"
    },
    "tags": []
   },
   "outputs": [],
   "source": [
    "import polars as pl\n",
    "import gc\n",
    "import time\n",
    "import numpy as np\n",
    "import pandas as pd\n",
    "import lightgbm as lgb\n",
    "import seaborn as sns\n",
    "import matplotlib.pyplot as plt\n",
    "import copy\n",
    "import lightgbm as lgb\n",
    "import importlib\n",
    "import pickle\n",
    "import argparse\n",
    "\n",
    "import kaggle_home_credit_risk_model_stability.libs as hcr\n",
    "from kaggle_home_credit_risk_model_stability.libs.env import Env\n",
    "from kaggle_home_credit_risk_model_stability.libs.input.dataset import Dataset\n",
    "from kaggle_home_credit_risk_model_stability.libs.input.data_loader import DataLoader\n",
    "from kaggle_home_credit_risk_model_stability.libs.preprocessor.preprocessor import Preprocessor\n",
    "from kaggle_home_credit_risk_model_stability.libs.preprocessor.steps import *\n",
    "from kaggle_home_credit_risk_model_stability.libs.preprocessor.columns_info import ColumnsInfo\n",
    "from kaggle_home_credit_risk_model_stability.libs.feature_description.feature_description import FreatureDescriptionGetter\n",
    "\n",
    "from collections import defaultdict\n",
    "from glob import glob\n",
    "from pathlib import Path\n",
    "from sklearn.model_selection import train_test_split\n",
    "from sklearn.metrics import roc_auc_score\n",
    "from sklearn.model_selection import StratifiedGroupKFold\n",
    "from sklearn.base import BaseEstimator, RegressorMixin"
   ]
  },
  {
   "cell_type": "code",
   "execution_count": 3,
   "id": "3f14f819",
   "metadata": {
    "execution": {
     "iopub.execute_input": "2024-04-18T20:15:19.013756Z",
     "iopub.status.busy": "2024-04-18T20:15:19.012924Z",
     "iopub.status.idle": "2024-04-18T20:15:19.020042Z",
     "shell.execute_reply": "2024-04-18T20:15:19.018144Z"
    },
    "papermill": {
     "duration": 0.028849,
     "end_time": "2024-04-18T20:15:19.022639",
     "exception": false,
     "start_time": "2024-04-18T20:15:18.993790",
     "status": "completed"
    },
    "tags": []
   },
   "outputs": [],
   "source": [
    "env = Env(\n",
    "    \"/kaggle/input/\",\n",
    "    \"/kaggle/working/\"\n",
    ")"
   ]
  },
  {
   "cell_type": "code",
   "execution_count": 4,
   "id": "8119d43e",
   "metadata": {
    "execution": {
     "iopub.execute_input": "2024-04-18T20:15:19.060589Z",
     "iopub.status.busy": "2024-04-18T20:15:19.059778Z",
     "iopub.status.idle": "2024-04-18T20:15:19.070277Z",
     "shell.execute_reply": "2024-04-18T20:15:19.069377Z"
    },
    "papermill": {
     "duration": 0.032319,
     "end_time": "2024-04-18T20:15:19.072783",
     "exception": false,
     "start_time": "2024-04-18T20:15:19.040464",
     "status": "completed"
    },
    "tags": []
   },
   "outputs": [],
   "source": [
    "data_loader = DataLoader(env, tables = [\n",
    "    \"base\", \"static_cb_0\", \"static_0\", \"person_1\", \"tax_registry_a_1\", \"tax_registry_b_1\", \"tax_registry_c_1\", \n",
    "    \"credit_bureau_a_2\"\n",
    "    #\"credit_bureau_a_1\" <- dramatically reduce PB\n",
    "    #\"credit_bureau_b_1\", \"credit_bureau_b_2\", \"other_1\", \"deposit_1\", \"debitcard_1\" <- low amount of data\n",
    "])\n",
    "\n",
    "preprocessor = Preprocessor({\n",
    "    #\"sort_raw_tables\": SortRawTablesStep(),\n",
    "    \"set_column_info_step\": SetColumnsInfoStep(),\n",
    "    \"set_types\": SetTypesStep(),\n",
    "    \"drop_composite_features\": DropCompositeFeaturesStep(),\n",
    "    \"create_day_feature\": CreateDayFeatureStep(),\n",
    "    # #\"drop_raw_null_columns\": DropRawNullColumns(feature_threashold=0.2, week_threashold=0.9),\n",
    "    \"process_categorical\": ProcessCategoricalStep(),\n",
    "    \"process_person_table\": ProcessPersonTableStep(),\n",
    "    #\"process_credit_burea_1_table\": ProcessCreditBureaua1TableStep(),\n",
    "    \"process_credit_burea_2_table\": ProcessCreditBureaua2TableStep(),\n",
    "    #\"split_composite_features\": SplitCompositeFeaturesStep(exclude_list=\"previouscontdistrict_112M\", drop_original=True),\n",
    "    \"reduce_dimention_for_categorical_features\": ReduceDimentionForCategoricalFeaturesStep(),\n",
    "    #\"one_hot_encoding_for_depth1\": OneHotEncodingForDepth1Step(),\n",
    "    #\"pairwise_diff_raw_dates\": PairwiseDateDiffStep(),\n",
    "    \"aggregate_depth_table\": AggregateDepthTableStep(),\n",
    "    #\"drop_equal_columns\": DropEqualColumnsStep(),\n",
    "    #\"drop_almost_null_features_respect_to_target\": DropAlmostNullFeaturesWithRespectToTargetStep(),\n",
    "    \"join_table\": JoinTablesStep(),\n",
    "    \"merge_chunked_table\": MergeChunkedTablesStep(),\n",
    "    \"drop_almost_null_features\": DropAlmostNullFeaturesStep(),\n",
    "    #\"generate_age_feature\": GenerateAgeFeatureStep(),\n",
    "    \"generate_base_date_diff\": GenerateBaseDateDiffStep(base_column=\"date_decision\"),\n",
    "    \"fill_nulls_in_categorical_features\": FillNullsInCategoricalFeaturesStep(),\n",
    "    **{\n",
    "        f\"create_money_feature_fraction_{base_column}\": CreateMoneyFeatureFractionStep(base_column)\n",
    "        for base_column in [\"credamount_770A\", \"maininc_215A\", \"mainoccupationinc_384A\"] # mean_amount_416A\n",
    "    },\n",
    "    #\"generate_mismatch_features\": GenerateMismatchFeaturesStep(),\n",
    "    #\"generate_target_distribution_based_on_categorical_features_step\": GenerateTargetDistributionBasedOnCategoricalStep(),\n",
    "    \"drop_single_value_features\": DropSingleValueFeaturesStep(),\n",
    "    \"drop_variable_enum_features\": DropVariableEnumFeaturesStep(),\n",
    "    \"reduce_memory_usage\": ReduceMemoryUsageStep()\n",
    "})"
   ]
  },
  {
   "cell_type": "code",
   "execution_count": null,
   "id": "9172b704",
   "metadata": {
    "papermill": {
     "duration": 0.01755,
     "end_time": "2024-04-18T20:15:19.107909",
     "exception": false,
     "start_time": "2024-04-18T20:15:19.090359",
     "status": "completed"
    },
    "tags": []
   },
   "outputs": [],
   "source": []
  },
  {
   "cell_type": "code",
   "execution_count": 5,
   "id": "c9ce62ca",
   "metadata": {
    "execution": {
     "iopub.execute_input": "2024-04-18T20:15:19.147108Z",
     "iopub.status.busy": "2024-04-18T20:15:19.144860Z",
     "iopub.status.idle": "2024-04-18T20:40:02.655439Z",
     "shell.execute_reply": "2024-04-18T20:40:02.654131Z"
    },
    "papermill": {
     "duration": 1483.532518,
     "end_time": "2024-04-18T20:40:02.658133",
     "exception": false,
     "start_time": "2024-04-18T20:15:19.125615",
     "status": "completed"
    },
    "tags": []
   },
   "outputs": [
    {
     "name": "stdout",
     "output_type": "stream",
     "text": [
      "Drop composite features ['lastapprcommoditycat_1041M', 'lastapprcommoditytypec_5251766M', 'lastcancelreason_561M', 'lastrejectcommoditycat_161M', 'lastrejectcommodtypec_5251769M', 'lastrejectreason_759M', 'lastrejectreasonclient_4145040M', 'previouscontdistrict_112M', 'contaddr_district_15M', 'contaddr_zipcode_807M', 'education_927M', 'empladdr_district_926M', 'empladdr_zipcode_114M', 'language1_981M', 'registaddr_district_1083M', 'registaddr_zipcode_184M']\n",
      "Generate 457 columns as aggregates\n",
      "Generate 457 columns as aggregates\n",
      "Generate 457 columns as aggregates\n",
      "Generate 457 columns as aggregates\n",
      "Generate 457 columns as aggregates\n",
      "Generate 457 columns as aggregates\n",
      "Generate 457 columns as aggregates\n",
      "Generate 457 columns as aggregates\n",
      "Generate 457 columns as aggregates\n",
      "Generate 457 columns as aggregates\n",
      "Generate 457 columns as aggregates\n",
      "Generate 457 columns as aggregates\n",
      "Generate 457 columns as aggregates\n",
      "Generate 457 columns as aggregates\n",
      "Generate 457 columns as aggregates\n",
      "Generate 457 columns as aggregates\n",
      "Drop 159 columns as almost null\n",
      "Columns to drop ['assignmentdate_4955616D', 'dateofbirth_342D', 'for3years_128L', 'for3years_504L', 'for3years_584L', 'formonth_118L', 'formonth_206L', 'formonth_535L', 'forquarter_1017L', 'forquarter_462L', 'forquarter_634L', 'fortoday_1092L', 'forweek_1077L', 'forweek_528L', 'forweek_601L', 'foryear_618L', 'foryear_818L', 'foryear_850L', 'pmtaverage_4955615A', 'pmtcount_4955617L', 'riskassesment_940T', 'clientscnt_136L', 'deferredmnthsnum_166L', 'equalityempfrom_62L', 'interestrategrace_34L', 'isbidproductrequest_292L', 'lastdependentsnum_448L', 'lastotherinc_902A', 'lastotherlnsexpense_631A', 'lastrepayingdate_696D', 'maxannuity_4075009A', 'payvacationpostpone_4187118D', 'max_name_4917606M', 'min_name_4917606M', 'first_name_4917606M', 'last_name_4917606M', 'mode_name_4917606M', 'birthdate_87D', 'childnum_185L', 'housingtype_772L', 'isreference_387L', 'personindex_1023L', 'persontype_1072L', 'persontype_792L', 'relationshiptoclient_415T', 'relationshiptoclient_642T', 'remitter_829L', 'max_birth_259D', 'max_birthdate_87D', 'max_childnum_185L', 'max_contaddr_matchlist_1032L', 'max_contaddr_smempladdr_334L', 'max_empl_employedfrom_271D', 'max_isreference_387L', 'max_mainoccupationinc_384A', 'max_safeguarantyflag_411L', 'min_birth_259D', 'min_birthdate_87D', 'min_childnum_185L', 'min_contaddr_matchlist_1032L', 'min_contaddr_smempladdr_334L', 'min_empl_employedfrom_271D', 'min_isreference_387L', 'min_mainoccupationinc_384A', 'min_safeguarantyflag_411L', 'first_birth_259D', 'first_birthdate_87D', 'first_childnum_185L', 'first_contaddr_matchlist_1032L', 'first_contaddr_smempladdr_334L', 'first_empl_employedfrom_271D', 'first_isreference_387L', 'first_mainoccupationinc_384A', 'first_safeguarantyflag_411L', 'last_birth_259D', 'last_birthdate_87D', 'last_childnum_185L', 'last_contaddr_matchlist_1032L', 'last_contaddr_smempladdr_334L', 'last_empl_employedfrom_271D', 'last_isreference_387L', 'last_mainoccupationinc_384A', 'last_safeguarantyflag_411L', 'mean_birth_259D', 'mean_birthdate_87D', 'mean_childnum_185L', 'mean_contaddr_matchlist_1032L', 'mean_contaddr_smempladdr_334L', 'mean_empl_employedfrom_271D', 'mean_isreference_387L', 'mean_mainoccupationinc_384A', 'mean_safeguarantyflag_411L', 'std_birth_259D', 'std_birthdate_87D', 'std_childnum_185L', 'std_contaddr_matchlist_1032L', 'std_contaddr_smempladdr_334L', 'std_empl_employedfrom_271D', 'std_isreference_387L', 'std_mainoccupationinc_384A', 'std_safeguarantyflag_411L', 'max_empl_employedtotal_800L', 'min_empl_employedtotal_800L', 'first_empl_employedtotal_800L', 'last_empl_employedtotal_800L', 'mode_empl_employedtotal_800L', 'max_empl_industry_691L', 'min_empl_industry_691L', 'first_empl_industry_691L', 'last_empl_industry_691L', 'mode_empl_industry_691L', 'max_familystate_447L', 'min_familystate_447L', 'first_familystate_447L', 'last_familystate_447L', 'mode_familystate_447L', 'max_gender_992L', 'min_gender_992L', 'first_gender_992L', 'last_gender_992L', 'mode_gender_992L', 'max_housetype_905L', 'min_housetype_905L', 'first_housetype_905L', 'last_housetype_905L', 'mode_housetype_905L', 'max_housingtype_772L', 'min_housingtype_772L', 'first_housingtype_772L', 'last_housingtype_772L', 'mode_housingtype_772L', 'max_incometype_1044T', 'min_incometype_1044T', 'first_incometype_1044T', 'last_incometype_1044T', 'mode_incometype_1044T', 'max_maritalst_703L', 'min_maritalst_703L', 'first_maritalst_703L', 'last_maritalst_703L', 'mode_maritalst_703L', 'max_role_993L', 'min_role_993L', 'first_role_993L', 'last_role_993L', 'mode_role_993L', 'max_sex_738L', 'min_sex_738L', 'first_sex_738L', 'last_sex_738L', 'mode_sex_738L', 'std_pmts_dpd_1073P', 'std_pmts_overdue_1140A', 'first_pmts_dpd_303P', 'first_pmts_overdue_1152A', 'last_pmts_dpd_303P', 'last_pmts_overdue_1152A', 'std_pmts_dpd_303P', 'std_pmts_overdue_1152A']\n",
      "Create 37 new date diff columns, with base_column=date_decision\n",
      "Create 45 new columns as money feature fraction with base 'credamount_770A'\n",
      "Create 45 new columns as money feature fraction with base 'maininc_215A'\n",
      "Create 45 new columns as money feature fraction with base 'mainoccupationinc_384A'\n",
      "Drop 1 columns as single value\n",
      "Drop 0 columns as variable enum value\n"
     ]
    },
    {
     "data": {
      "text/plain": [
       "0"
      ]
     },
     "execution_count": 5,
     "metadata": {},
     "output_type": "execute_result"
    }
   ],
   "source": [
    "train_dataset_generator = data_loader.load_train_dataset(chunk_size=100000)\n",
    "gc.collect()\n",
    "train_df, columns_info = preprocessor.process_train_dataset(train_dataset_generator)\n",
    "del train_dataset_generator\n",
    "gc.collect()"
   ]
  },
  {
   "cell_type": "code",
   "execution_count": 6,
   "id": "12ba76db",
   "metadata": {
    "execution": {
     "iopub.execute_input": "2024-04-18T20:40:02.701303Z",
     "iopub.status.busy": "2024-04-18T20:40:02.700376Z",
     "iopub.status.idle": "2024-04-18T20:40:25.579991Z",
     "shell.execute_reply": "2024-04-18T20:40:25.578800Z"
    },
    "papermill": {
     "duration": 22.903789,
     "end_time": "2024-04-18T20:40:25.582453",
     "exception": false,
     "start_time": "2024-04-18T20:40:02.678664",
     "status": "completed"
    },
    "tags": []
   },
   "outputs": [
    {
     "name": "stdout",
     "output_type": "stream",
     "text": [
      "3914.923069000244\n",
      "shape: (1_526_659, 715)\n",
      "┌─────────┬────────────┬────────┬──────────┬───┬────────────┬────────────┬────────────┬────────────┐\n",
      "│ case_id ┆ date_decis ┆ MONTH  ┆ WEEK_NUM ┆ … ┆ min_pmtamo ┆ first_pmta ┆ last_pmtam ┆ mean_pmtam │\n",
      "│ ---     ┆ ion        ┆ ---    ┆ ---      ┆   ┆ unt_36A/ma ┆ mount_36A/ ┆ ount_36A/m ┆ ount_36A/m │\n",
      "│ i32     ┆ ---        ┆ i32    ┆ i16      ┆   ┆ inoccupati ┆ mainoccupa ┆ ainoccupat ┆ ainoccupat │\n",
      "│         ┆ i16        ┆        ┆          ┆   ┆ on…        ┆ ti…        ┆ io…        ┆ io…        │\n",
      "│         ┆            ┆        ┆          ┆   ┆ ---        ┆ ---        ┆ ---        ┆ ---        │\n",
      "│         ┆            ┆        ┆          ┆   ┆ f32        ┆ f32        ┆ f32        ┆ f32        │\n",
      "╞═════════╪════════════╪════════╪══════════╪═══╪════════════╪════════════╪════════════╪════════════╡\n",
      "│ 0       ┆ 17899      ┆ 201901 ┆ 0        ┆ … ┆ null       ┆ null       ┆ null       ┆ null       │\n",
      "│ 1       ┆ 17899      ┆ 201901 ┆ 0        ┆ … ┆ null       ┆ null       ┆ null       ┆ null       │\n",
      "│ 2       ┆ 17900      ┆ 201901 ┆ 0        ┆ … ┆ null       ┆ null       ┆ null       ┆ null       │\n",
      "│ 3       ┆ 17899      ┆ 201901 ┆ 0        ┆ … ┆ null       ┆ null       ┆ null       ┆ null       │\n",
      "│ …       ┆ …          ┆ …      ┆ …        ┆ … ┆ …          ┆ …          ┆ …          ┆ …          │\n",
      "│ 2703451 ┆ 18540      ┆ 202010 ┆ 91       ┆ … ┆ null       ┆ null       ┆ null       ┆ null       │\n",
      "│ 2703452 ┆ 18540      ┆ 202010 ┆ 91       ┆ … ┆ null       ┆ null       ┆ null       ┆ null       │\n",
      "│ 2703453 ┆ 18540      ┆ 202010 ┆ 91       ┆ … ┆ null       ┆ null       ┆ null       ┆ null       │\n",
      "│ 2703454 ┆ 18540      ┆ 202010 ┆ 91       ┆ … ┆ null       ┆ null       ┆ null       ┆ null       │\n",
      "└─────────┴────────────┴────────┴──────────┴───┴────────────┴────────────┴────────────┴────────────┘\n"
     ]
    },
    {
     "data": {
      "text/plain": [
       "0"
      ]
     },
     "execution_count": 6,
     "metadata": {},
     "output_type": "execute_result"
    }
   ],
   "source": [
    "train_df.write_parquet(env.output_directory / \"train_df.parquet\")\n",
    "pickle.dump(columns_info, open(env.output_directory / \"columns_info.pkl\", \"wb\"))\n",
    "print(train_df.estimated_size() / 1024 / 1024)\n",
    "print(train_df)\n",
    "\n",
    "del train_df\n",
    "gc.collect()"
   ]
  },
  {
   "cell_type": "code",
   "execution_count": 7,
   "id": "1fdf605c",
   "metadata": {
    "execution": {
     "iopub.execute_input": "2024-04-18T20:40:25.625727Z",
     "iopub.status.busy": "2024-04-18T20:40:25.625198Z",
     "iopub.status.idle": "2024-04-18T20:40:36.335292Z",
     "shell.execute_reply": "2024-04-18T20:40:36.334199Z"
    },
    "papermill": {
     "duration": 10.734973,
     "end_time": "2024-04-18T20:40:36.337933",
     "exception": false,
     "start_time": "2024-04-18T20:40:25.602960",
     "status": "completed"
    },
    "tags": []
   },
   "outputs": [
    {
     "name": "stdout",
     "output_type": "stream",
     "text": [
      "Generate 457 columns as aggregates\n",
      "Create 37 new date diff columns, with base_column=date_decision\n",
      "Create 45 new columns as money feature fraction with base 'credamount_770A'\n",
      "Create 45 new columns as money feature fraction with base 'maininc_215A'\n",
      "Create 45 new columns as money feature fraction with base 'mainoccupationinc_384A'\n"
     ]
    },
    {
     "data": {
      "text/plain": [
       "0"
      ]
     },
     "execution_count": 7,
     "metadata": {},
     "output_type": "execute_result"
    }
   ],
   "source": [
    "test_dataset_generator = data_loader.load_test_dataset(chunk_size=100000)\n",
    "gc.collect()\n",
    "test_df, columns_info = preprocessor.process_test_dataset(test_dataset_generator)\n",
    "del test_dataset_generator\n",
    "gc.collect()"
   ]
  },
  {
   "cell_type": "code",
   "execution_count": 8,
   "id": "9a897992",
   "metadata": {
    "execution": {
     "iopub.execute_input": "2024-04-18T20:40:36.381516Z",
     "iopub.status.busy": "2024-04-18T20:40:36.381062Z",
     "iopub.status.idle": "2024-04-18T20:40:36.727664Z",
     "shell.execute_reply": "2024-04-18T20:40:36.726352Z"
    },
    "papermill": {
     "duration": 0.371104,
     "end_time": "2024-04-18T20:40:36.730090",
     "exception": false,
     "start_time": "2024-04-18T20:40:36.358986",
     "status": "completed"
    },
    "tags": []
   },
   "outputs": [
    {
     "name": "stdout",
     "output_type": "stream",
     "text": [
      "0.04651355743408203\n",
      "shape: (10, 714)\n",
      "┌─────────┬────────────┬────────┬──────────┬───┬────────────┬────────────┬────────────┬────────────┐\n",
      "│ case_id ┆ date_decis ┆ MONTH  ┆ WEEK_NUM ┆ … ┆ min_pmtamo ┆ first_pmta ┆ last_pmtam ┆ mean_pmtam │\n",
      "│ ---     ┆ ion        ┆ ---    ┆ ---      ┆   ┆ unt_36A/ma ┆ mount_36A/ ┆ ount_36A/m ┆ ount_36A/m │\n",
      "│ i32     ┆ ---        ┆ i32    ┆ i16      ┆   ┆ inoccupati ┆ mainoccupa ┆ ainoccupat ┆ ainoccupat │\n",
      "│         ┆ i16        ┆        ┆          ┆   ┆ on…        ┆ ti…        ┆ io…        ┆ io…        │\n",
      "│         ┆            ┆        ┆          ┆   ┆ ---        ┆ ---        ┆ ---        ┆ ---        │\n",
      "│         ┆            ┆        ┆          ┆   ┆ f32        ┆ f32        ┆ f32        ┆ f32        │\n",
      "╞═════════╪════════════╪════════╪══════════╪═══╪════════════╪════════════╪════════════╪════════════╡\n",
      "│ 57543   ┆ 18761      ┆ 202201 ┆ 100      ┆ … ┆ null       ┆ null       ┆ null       ┆ null       │\n",
      "│ 57549   ┆ 19009      ┆ 202201 ┆ 100      ┆ … ┆ null       ┆ null       ┆ null       ┆ null       │\n",
      "│ 57551   ┆ 18593      ┆ 202201 ┆ 100      ┆ … ┆ null       ┆ null       ┆ null       ┆ null       │\n",
      "│ 57552   ┆ 18593      ┆ 202201 ┆ 100      ┆ … ┆ null       ┆ null       ┆ null       ┆ null       │\n",
      "│ …       ┆ …          ┆ …      ┆ …        ┆ … ┆ …          ┆ …          ┆ …          ┆ …          │\n",
      "│ 57631   ┆ 19147      ┆ 202201 ┆ 100      ┆ … ┆ null       ┆ null       ┆ null       ┆ null       │\n",
      "│ 57632   ┆ 19028      ┆ 202201 ┆ 100      ┆ … ┆ null       ┆ null       ┆ null       ┆ null       │\n",
      "│ 57633   ┆ 19017      ┆ 202201 ┆ 100      ┆ … ┆ null       ┆ null       ┆ null       ┆ null       │\n",
      "│ 57634   ┆ 18654      ┆ 202201 ┆ 100      ┆ … ┆ null       ┆ null       ┆ null       ┆ null       │\n",
      "└─────────┴────────────┴────────┴──────────┴───┴────────────┴────────────┴────────────┴────────────┘\n"
     ]
    },
    {
     "data": {
      "text/plain": [
       "0"
      ]
     },
     "execution_count": 8,
     "metadata": {},
     "output_type": "execute_result"
    }
   ],
   "source": [
    "test_df.write_parquet(env.output_directory / \"test_df.parquet\")\n",
    "print(test_df.estimated_size() / 1024 / 1024)\n",
    "print(test_df)\n",
    "\n",
    "del test_df\n",
    "gc.collect()"
   ]
  },
  {
   "cell_type": "markdown",
   "id": "f8910b3d",
   "metadata": {
    "_kg_hide-input": true,
    "papermill": {
     "duration": 0.021009,
     "end_time": "2024-04-18T20:40:36.772339",
     "exception": false,
     "start_time": "2024-04-18T20:40:36.751330",
     "status": "completed"
    },
    "tags": []
   },
   "source": [
    "# Data visualization"
   ]
  },
  {
   "cell_type": "code",
   "execution_count": null,
   "id": "1126e94f",
   "metadata": {
    "papermill": {
     "duration": 0.020826,
     "end_time": "2024-04-18T20:40:36.814552",
     "exception": false,
     "start_time": "2024-04-18T20:40:36.793726",
     "status": "completed"
    },
    "tags": []
   },
   "outputs": [],
   "source": []
  },
  {
   "cell_type": "code",
   "execution_count": 9,
   "id": "08a80e05",
   "metadata": {
    "execution": {
     "iopub.execute_input": "2024-04-18T20:40:36.861135Z",
     "iopub.status.busy": "2024-04-18T20:40:36.859968Z",
     "iopub.status.idle": "2024-04-18T20:40:36.864922Z",
     "shell.execute_reply": "2024-04-18T20:40:36.864170Z"
    },
    "papermill": {
     "duration": 0.030275,
     "end_time": "2024-04-18T20:40:36.867031",
     "exception": false,
     "start_time": "2024-04-18T20:40:36.836756",
     "status": "completed"
    },
    "tags": []
   },
   "outputs": [],
   "source": [
    "# train_dataset = data_loader.load_train_dataset()"
   ]
  },
  {
   "cell_type": "code",
   "execution_count": 10,
   "id": "43a0be7e",
   "metadata": {
    "execution": {
     "iopub.execute_input": "2024-04-18T20:40:36.911961Z",
     "iopub.status.busy": "2024-04-18T20:40:36.910818Z",
     "iopub.status.idle": "2024-04-18T20:40:36.916060Z",
     "shell.execute_reply": "2024-04-18T20:40:36.914950Z"
    },
    "papermill": {
     "duration": 0.03046,
     "end_time": "2024-04-18T20:40:36.918824",
     "exception": false,
     "start_time": "2024-04-18T20:40:36.888364",
     "status": "completed"
    },
    "tags": []
   },
   "outputs": [],
   "source": [
    "# [column for column in train_df.columns if \"amtdebitincoming_4809443A\" in column]"
   ]
  },
  {
   "cell_type": "code",
   "execution_count": 11,
   "id": "fee49aae",
   "metadata": {
    "execution": {
     "iopub.execute_input": "2024-04-18T20:40:36.963634Z",
     "iopub.status.busy": "2024-04-18T20:40:36.963145Z",
     "iopub.status.idle": "2024-04-18T20:40:36.967617Z",
     "shell.execute_reply": "2024-04-18T20:40:36.966535Z"
    },
    "papermill": {
     "duration": 0.029688,
     "end_time": "2024-04-18T20:40:36.970011",
     "exception": false,
     "start_time": "2024-04-18T20:40:36.940323",
     "status": "completed"
    },
    "tags": []
   },
   "outputs": [],
   "source": [
    "# train_dataset.get_base()[\"target\"].mean()"
   ]
  },
  {
   "cell_type": "code",
   "execution_count": 12,
   "id": "b7f5e4ec",
   "metadata": {
    "execution": {
     "iopub.execute_input": "2024-04-18T20:40:37.015920Z",
     "iopub.status.busy": "2024-04-18T20:40:37.015509Z",
     "iopub.status.idle": "2024-04-18T20:40:37.020444Z",
     "shell.execute_reply": "2024-04-18T20:40:37.019282Z"
    },
    "papermill": {
     "duration": 0.031215,
     "end_time": "2024-04-18T20:40:37.022851",
     "exception": false,
     "start_time": "2024-04-18T20:40:36.991636",
     "status": "completed"
    },
    "tags": []
   },
   "outputs": [],
   "source": [
    "# tables = {name: table for name, table in train_dataset.get_depth_tables(1)}"
   ]
  },
  {
   "cell_type": "code",
   "execution_count": 13,
   "id": "8edd97ed",
   "metadata": {
    "execution": {
     "iopub.execute_input": "2024-04-18T20:40:37.067381Z",
     "iopub.status.busy": "2024-04-18T20:40:37.066891Z",
     "iopub.status.idle": "2024-04-18T20:40:37.072266Z",
     "shell.execute_reply": "2024-04-18T20:40:37.071042Z"
    },
    "papermill": {
     "duration": 0.030569,
     "end_time": "2024-04-18T20:40:37.074549",
     "exception": false,
     "start_time": "2024-04-18T20:40:37.043980",
     "status": "completed"
    },
    "tags": []
   },
   "outputs": [],
   "source": [
    "# applprev_1 = tables[\"applprev_1\"]"
   ]
  },
  {
   "cell_type": "code",
   "execution_count": 14,
   "id": "049305bc",
   "metadata": {
    "execution": {
     "iopub.execute_input": "2024-04-18T20:40:37.118528Z",
     "iopub.status.busy": "2024-04-18T20:40:37.118015Z",
     "iopub.status.idle": "2024-04-18T20:40:37.122292Z",
     "shell.execute_reply": "2024-04-18T20:40:37.121494Z"
    },
    "papermill": {
     "duration": 0.0288,
     "end_time": "2024-04-18T20:40:37.124419",
     "exception": false,
     "start_time": "2024-04-18T20:40:37.095619",
     "status": "completed"
    },
    "tags": []
   },
   "outputs": [],
   "source": [
    "# joined = applprev_1[\"case_id\"].value_counts().join(train_dataset.get_base()[[\"case_id\", \"target\"]], on=\"case_id\").sort(\"count\")\n",
    "# joined.filter(pl.col(\"target\") == 1)"
   ]
  },
  {
   "cell_type": "code",
   "execution_count": 15,
   "id": "3c097204",
   "metadata": {
    "execution": {
     "iopub.execute_input": "2024-04-18T20:40:37.168579Z",
     "iopub.status.busy": "2024-04-18T20:40:37.168085Z",
     "iopub.status.idle": "2024-04-18T20:40:37.172951Z",
     "shell.execute_reply": "2024-04-18T20:40:37.171766Z"
    },
    "papermill": {
     "duration": 0.029697,
     "end_time": "2024-04-18T20:40:37.175225",
     "exception": false,
     "start_time": "2024-04-18T20:40:37.145528",
     "status": "completed"
    },
    "tags": []
   },
   "outputs": [],
   "source": [
    "# base = train_dataset.get_base()"
   ]
  },
  {
   "cell_type": "code",
   "execution_count": 16,
   "id": "71eaff99",
   "metadata": {
    "execution": {
     "iopub.execute_input": "2024-04-18T20:40:37.219329Z",
     "iopub.status.busy": "2024-04-18T20:40:37.218863Z",
     "iopub.status.idle": "2024-04-18T20:40:37.223598Z",
     "shell.execute_reply": "2024-04-18T20:40:37.222359Z"
    },
    "papermill": {
     "duration": 0.029531,
     "end_time": "2024-04-18T20:40:37.225854",
     "exception": false,
     "start_time": "2024-04-18T20:40:37.196323",
     "status": "completed"
    },
    "tags": []
   },
   "outputs": [],
   "source": [
    "# base.filter(pl.col(\"case_id\") == 2702490)"
   ]
  },
  {
   "cell_type": "code",
   "execution_count": 17,
   "id": "80b54d6e",
   "metadata": {
    "execution": {
     "iopub.execute_input": "2024-04-18T20:40:37.269898Z",
     "iopub.status.busy": "2024-04-18T20:40:37.269463Z",
     "iopub.status.idle": "2024-04-18T20:40:37.274031Z",
     "shell.execute_reply": "2024-04-18T20:40:37.272894Z"
    },
    "papermill": {
     "duration": 0.029827,
     "end_time": "2024-04-18T20:40:37.276603",
     "exception": false,
     "start_time": "2024-04-18T20:40:37.246776",
     "status": "completed"
    },
    "tags": []
   },
   "outputs": [],
   "source": [
    "# applprev_1.filter(applprev_1[\"case_id\"] == 2702490).sort(\"num_group1\")\n",
    "#base.filter(pl.col(\"case_id\") == 176526)"
   ]
  },
  {
   "cell_type": "code",
   "execution_count": 18,
   "id": "c114540d",
   "metadata": {
    "execution": {
     "iopub.execute_input": "2024-04-18T20:40:37.321224Z",
     "iopub.status.busy": "2024-04-18T20:40:37.320767Z",
     "iopub.status.idle": "2024-04-18T20:40:37.325782Z",
     "shell.execute_reply": "2024-04-18T20:40:37.324626Z"
    },
    "papermill": {
     "duration": 0.030135,
     "end_time": "2024-04-18T20:40:37.328064",
     "exception": false,
     "start_time": "2024-04-18T20:40:37.297929",
     "status": "completed"
    },
    "tags": []
   },
   "outputs": [],
   "source": [
    "# applprev_1.filter(applprev_1[\"case_id\"] == 2702490).sort(\"num_group1\")[[\"credamount_590A\", \"mainoccupationinc_437A\", \"rejectreason_755M\", \"rejectreasonclient_4145042M\"]]\n"
   ]
  },
  {
   "cell_type": "code",
   "execution_count": 19,
   "id": "74f17bdb",
   "metadata": {
    "execution": {
     "iopub.execute_input": "2024-04-18T20:40:37.373030Z",
     "iopub.status.busy": "2024-04-18T20:40:37.372646Z",
     "iopub.status.idle": "2024-04-18T20:40:37.377251Z",
     "shell.execute_reply": "2024-04-18T20:40:37.376051Z"
    },
    "papermill": {
     "duration": 0.02999,
     "end_time": "2024-04-18T20:40:37.379779",
     "exception": false,
     "start_time": "2024-04-18T20:40:37.349789",
     "status": "completed"
    },
    "tags": []
   },
   "outputs": [],
   "source": [
    "# applprev_1.filter(applprev_1[\"case_id\"] == 176526).sort(\"num_group1\")[[\"credamount_590A\", \"mainoccupationinc_437A\", \"rejectreason_755M\", \"rejectreasonclient_4145042M\"]]a"
   ]
  },
  {
   "cell_type": "code",
   "execution_count": 20,
   "id": "2a7e4c89",
   "metadata": {
    "execution": {
     "iopub.execute_input": "2024-04-18T20:40:37.424058Z",
     "iopub.status.busy": "2024-04-18T20:40:37.423645Z",
     "iopub.status.idle": "2024-04-18T20:40:37.428070Z",
     "shell.execute_reply": "2024-04-18T20:40:37.427215Z"
    },
    "papermill": {
     "duration": 0.02908,
     "end_time": "2024-04-18T20:40:37.430276",
     "exception": false,
     "start_time": "2024-04-18T20:40:37.401196",
     "status": "completed"
    },
    "tags": []
   },
   "outputs": [],
   "source": [
    "# applprev_1.filter(applprev_1[\"case_id\"] == 176526).sort(\"num_group1\")"
   ]
  },
  {
   "cell_type": "code",
   "execution_count": 21,
   "id": "358fc62e",
   "metadata": {
    "execution": {
     "iopub.execute_input": "2024-04-18T20:40:37.475401Z",
     "iopub.status.busy": "2024-04-18T20:40:37.474708Z",
     "iopub.status.idle": "2024-04-18T20:40:37.479876Z",
     "shell.execute_reply": "2024-04-18T20:40:37.478790Z"
    },
    "papermill": {
     "duration": 0.030016,
     "end_time": "2024-04-18T20:40:37.482274",
     "exception": false,
     "start_time": "2024-04-18T20:40:37.452258",
     "status": "completed"
    },
    "tags": []
   },
   "outputs": [],
   "source": [
    "# FreatureDescriptionGetter().get(\"rejectreasonclient_4145042M\")"
   ]
  },
  {
   "cell_type": "code",
   "execution_count": 22,
   "id": "016bae68",
   "metadata": {
    "execution": {
     "iopub.execute_input": "2024-04-18T20:40:37.527250Z",
     "iopub.status.busy": "2024-04-18T20:40:37.526790Z",
     "iopub.status.idle": "2024-04-18T20:40:37.532251Z",
     "shell.execute_reply": "2024-04-18T20:40:37.531115Z"
    },
    "papermill": {
     "duration": 0.03116,
     "end_time": "2024-04-18T20:40:37.534579",
     "exception": false,
     "start_time": "2024-04-18T20:40:37.503419",
     "status": "completed"
    },
    "tags": []
   },
   "outputs": [],
   "source": [
    "# def bucket_mean_split(x, y, buckets=100):\n",
    "#     x_buckets = []\n",
    "#     y_buckets = []\n",
    "\n",
    "#     x = np.array(x)\n",
    "#     y = np.array(y)\n",
    "#     x_quantiles = [np.quantile(x, i / buckets) for i in range(0, buckets + 1)]\n",
    "#     for i in range(0, buckets):\n",
    "#         filter = (x >= x_quantiles[i]) & (x <= x_quantiles[i + 1])\n",
    "#         x_buckets.append(np.mean(x[filter]))\n",
    "#         y_buckets.append(np.mean(y[filter]))\n",
    "#     return x_buckets, y_buckets"
   ]
  },
  {
   "cell_type": "code",
   "execution_count": 23,
   "id": "31374b3f",
   "metadata": {
    "execution": {
     "iopub.execute_input": "2024-04-18T20:40:37.578414Z",
     "iopub.status.busy": "2024-04-18T20:40:37.577726Z",
     "iopub.status.idle": "2024-04-18T20:40:37.583084Z",
     "shell.execute_reply": "2024-04-18T20:40:37.581921Z"
    },
    "papermill": {
     "duration": 0.030118,
     "end_time": "2024-04-18T20:40:37.585589",
     "exception": false,
     "start_time": "2024-04-18T20:40:37.555471",
     "status": "completed"
    },
    "tags": []
   },
   "outputs": [],
   "source": [
    "# train[\"target\"].mean()"
   ]
  },
  {
   "cell_type": "code",
   "execution_count": 24,
   "id": "6d7ced84",
   "metadata": {
    "execution": {
     "iopub.execute_input": "2024-04-18T20:40:37.630021Z",
     "iopub.status.busy": "2024-04-18T20:40:37.629563Z",
     "iopub.status.idle": "2024-04-18T20:40:37.634636Z",
     "shell.execute_reply": "2024-04-18T20:40:37.633576Z"
    },
    "papermill": {
     "duration": 0.029817,
     "end_time": "2024-04-18T20:40:37.636824",
     "exception": false,
     "start_time": "2024-04-18T20:40:37.607007",
     "status": "completed"
    },
    "tags": []
   },
   "outputs": [],
   "source": [
    "# print(\"Mean target={} where actualdpdtolerance_344P != 0\".format(train[\"target\"].filter(train[\"actualdpdtolerance_344P\"] != 0).mean()))\n",
    "# print(\"Mean target={} where actualdpdtolerance_344P == 0\".format(train[\"target\"].filter(train[\"actualdpdtolerance_344P\"] == 0).mean()))\n",
    "# print(\"Mean target={} where actualdpdtolerance_344P is null\".format(train[\"target\"].filter(train[\"actualdpdtolerance_344P\"].is_null()).mean()))"
   ]
  },
  {
   "cell_type": "code",
   "execution_count": 25,
   "id": "2d4e667b",
   "metadata": {
    "execution": {
     "iopub.execute_input": "2024-04-18T20:40:37.680841Z",
     "iopub.status.busy": "2024-04-18T20:40:37.680432Z",
     "iopub.status.idle": "2024-04-18T20:40:37.685800Z",
     "shell.execute_reply": "2024-04-18T20:40:37.684578Z"
    },
    "papermill": {
     "duration": 0.030539,
     "end_time": "2024-04-18T20:40:37.688385",
     "exception": false,
     "start_time": "2024-04-18T20:40:37.657846",
     "status": "completed"
    },
    "tags": []
   },
   "outputs": [],
   "source": [
    "# columns = [column for column in train.columns if (train[column].dtype == pl.Float64)]\n",
    "\n",
    "# figure, axis = plt.subplots(len(columns) // 5 + 1, 5, figsize=(15, 30))\n",
    "# for index, column in enumerate(columns):\n",
    "#     current_plot = axis[index // 5, index % 5]\n",
    "#     x = train[column]\n",
    "#     y = train[\"target\"]\n",
    "#     if (x.dtype == pl.String or x.dtype == pl.Boolean):\n",
    "#         continue\n",
    "#     filter = x.is_not_null()\n",
    "#     x = x.filter(filter)\n",
    "#     y = y.filter(filter)\n",
    "#     if (x.is_empty()):\n",
    "#         continue\n",
    "#     x_bucket, y_bucket = bucket_mean_split(x.to_numpy(), y.to_numpy(), buckets=100)\n",
    "#     current_plot.plot(x_bucket, y_bucket)\n",
    "#     current_plot.set_title(column)\n",
    "# plt.show()"
   ]
  },
  {
   "cell_type": "code",
   "execution_count": 26,
   "id": "49f0f86b",
   "metadata": {
    "execution": {
     "iopub.execute_input": "2024-04-18T20:40:37.732552Z",
     "iopub.status.busy": "2024-04-18T20:40:37.732095Z",
     "iopub.status.idle": "2024-04-18T20:40:37.737140Z",
     "shell.execute_reply": "2024-04-18T20:40:37.736078Z"
    },
    "papermill": {
     "duration": 0.030112,
     "end_time": "2024-04-18T20:40:37.739596",
     "exception": false,
     "start_time": "2024-04-18T20:40:37.709484",
     "status": "completed"
    },
    "tags": []
   },
   "outputs": [],
   "source": [
    "# features = train_df.columns\n",
    "# features.remove(\"WEEK_NUM\")\n",
    "# features.remove(\"case_id\")\n",
    "# features.remove(\"target\")"
   ]
  },
  {
   "cell_type": "code",
   "execution_count": 27,
   "id": "1dd6cb1f",
   "metadata": {
    "execution": {
     "iopub.execute_input": "2024-04-18T20:40:37.783256Z",
     "iopub.status.busy": "2024-04-18T20:40:37.782791Z",
     "iopub.status.idle": "2024-04-18T20:40:37.787644Z",
     "shell.execute_reply": "2024-04-18T20:40:37.786626Z"
    },
    "papermill": {
     "duration": 0.029247,
     "end_time": "2024-04-18T20:40:37.789807",
     "exception": false,
     "start_time": "2024-04-18T20:40:37.760560",
     "status": "completed"
    },
    "tags": []
   },
   "outputs": [],
   "source": [
    "# gc.collect()"
   ]
  },
  {
   "cell_type": "markdown",
   "id": "3d1f66d2",
   "metadata": {
    "papermill": {
     "duration": 0.021205,
     "end_time": "2024-04-18T20:40:37.832904",
     "exception": false,
     "start_time": "2024-04-18T20:40:37.811699",
     "status": "completed"
    },
    "tags": []
   },
   "source": [
    "### Feature Importance"
   ]
  },
  {
   "cell_type": "code",
   "execution_count": 28,
   "id": "08268a0a",
   "metadata": {
    "execution": {
     "iopub.execute_input": "2024-04-18T20:40:37.878533Z",
     "iopub.status.busy": "2024-04-18T20:40:37.878110Z",
     "iopub.status.idle": "2024-04-18T20:40:37.883040Z",
     "shell.execute_reply": "2024-04-18T20:40:37.882261Z"
    },
    "papermill": {
     "duration": 0.029791,
     "end_time": "2024-04-18T20:40:37.885365",
     "exception": false,
     "start_time": "2024-04-18T20:40:37.855574",
     "status": "completed"
    },
    "tags": []
   },
   "outputs": [],
   "source": [
    "# def train_rf(X, Y):    \n",
    "#     params = {\n",
    "#         \"boosting_type\": \"gbdt\",\n",
    "#         \"objective\": \"binary\",\n",
    "#         \"metric\": \"auc\",\n",
    "#         \"max_depth\": 8,\n",
    "#         \"max_bin\": 255,\n",
    "#         \"learning_rate\": 0.05,\n",
    "#         \"n_estimators\": 200,\n",
    "#         \"colsample_bytree\": 0.8, \n",
    "#         \"colsample_bynode\": 0.8,\n",
    "#         \"verbose\": -1,\n",
    "#         \"random_state\": 42,\n",
    "#         \"device\": \"gpu\",\n",
    "#     }\n",
    "    \n",
    "#     model = lgb.LGBMClassifier(**params)\n",
    "    \n",
    "#     model.fit(X.to_pandas(), Y.to_pandas())\n",
    "    \n",
    "#     # Get feature importances\n",
    "#     return pl.DataFrame({\n",
    "#         \"feature\": list(X.columns),\n",
    "#         \"feature_importance\": model.feature_importances_,\n",
    "#         \"train_score\": roc_auc_score(Y.to_pandas(), model.predict(X.to_pandas()))\n",
    "#     })"
   ]
  },
  {
   "cell_type": "code",
   "execution_count": 29,
   "id": "569dd506",
   "metadata": {
    "execution": {
     "iopub.execute_input": "2024-04-18T20:40:37.930072Z",
     "iopub.status.busy": "2024-04-18T20:40:37.928943Z",
     "iopub.status.idle": "2024-04-18T20:40:37.935584Z",
     "shell.execute_reply": "2024-04-18T20:40:37.934596Z"
    },
    "papermill": {
     "duration": 0.031207,
     "end_time": "2024-04-18T20:40:37.937956",
     "exception": false,
     "start_time": "2024-04-18T20:40:37.906749",
     "status": "completed"
    },
    "tags": []
   },
   "outputs": [],
   "source": [
    "# def get_feature_importance(X, Y):\n",
    "#     COUNT_ITER = 50\n",
    "    \n",
    "#     dfs = []\n",
    "#     for i in range(COUNT_ITER):\n",
    "#         gc.collect()\n",
    "        \n",
    "#         start_time = time.time()\n",
    "#         shuffled_Y = Y.clone().sample(fraction=1.0, shuffle=True)\n",
    "#         current_df = train_rf(X, shuffled_Y)\n",
    "#         finish_time = time.time()\n",
    "#         print(f\"Finish iteration: {i + 1}/{COUNT_ITER}, time: {finish_time - start_time}\")\n",
    "#         current_df = current_df.with_columns(pl.lit(i).alias(\"iteration\"))\n",
    "#         dfs.append(current_df)\n",
    "        \n",
    "#     return pl.concat(dfs, rechunk=True), train_rf(X, Y)"
   ]
  },
  {
   "cell_type": "code",
   "execution_count": 30,
   "id": "bfc9c46f",
   "metadata": {
    "execution": {
     "iopub.execute_input": "2024-04-18T20:40:37.982287Z",
     "iopub.status.busy": "2024-04-18T20:40:37.981045Z",
     "iopub.status.idle": "2024-04-18T20:40:37.986929Z",
     "shell.execute_reply": "2024-04-18T20:40:37.986028Z"
    },
    "papermill": {
     "duration": 0.030483,
     "end_time": "2024-04-18T20:40:37.989335",
     "exception": false,
     "start_time": "2024-04-18T20:40:37.958852",
     "status": "completed"
    },
    "tags": []
   },
   "outputs": [],
   "source": [
    "# shuffled_feature_importance_df, feature_importance_df = get_feature_importance(train_df[features], train_df[\"target\"])\n",
    "# shuffled_feature_importance_df.write_csv(\"shuffled_feature_importance_df.csv\", separator=\",\")\n",
    "# feature_importance_df.write_csv(\"feature_importance_df.csv\", separator=\",\")"
   ]
  },
  {
   "cell_type": "code",
   "execution_count": 31,
   "id": "343cc5e6",
   "metadata": {
    "execution": {
     "iopub.execute_input": "2024-04-18T20:40:38.033046Z",
     "iopub.status.busy": "2024-04-18T20:40:38.032593Z",
     "iopub.status.idle": "2024-04-18T20:40:38.037532Z",
     "shell.execute_reply": "2024-04-18T20:40:38.036708Z"
    },
    "papermill": {
     "duration": 0.029247,
     "end_time": "2024-04-18T20:40:38.039610",
     "exception": false,
     "start_time": "2024-04-18T20:40:38.010363",
     "status": "completed"
    },
    "tags": []
   },
   "outputs": [],
   "source": [
    "# important_features = []\n",
    "# for column in feature_importance_df[\"feature\"]:\n",
    "#     shuffled_feature_importance = shuffled_feature_importance_df.filter(shuffled_feature_importance_df[\"feature\"] == column)[\"feature_importance\"].to_numpy()\n",
    "#     feature_importance = feature_importance_df.filter(feature_importance_df[\"feature\"] == column)[\"feature_importance\"][0]\n",
    "    \n",
    "#     if (np.percentile(shuffled_feature_importance, 90) <= feature_importance):\n",
    "#         important_features.append(column)\n",
    "# print(len(important_features), important_features)"
   ]
  },
  {
   "cell_type": "markdown",
   "id": "4cf4f8ba",
   "metadata": {
    "papermill": {
     "duration": 0.021482,
     "end_time": "2024-04-18T20:40:38.082532",
     "exception": false,
     "start_time": "2024-04-18T20:40:38.061050",
     "status": "completed"
    },
    "tags": []
   },
   "source": [
    "# Training"
   ]
  },
  {
   "cell_type": "code",
   "execution_count": 32,
   "id": "cd753048",
   "metadata": {
    "execution": {
     "iopub.execute_input": "2024-04-18T20:40:38.127189Z",
     "iopub.status.busy": "2024-04-18T20:40:38.125775Z",
     "iopub.status.idle": "2024-04-18T20:40:38.131894Z",
     "shell.execute_reply": "2024-04-18T20:40:38.130900Z"
    },
    "papermill": {
     "duration": 0.03072,
     "end_time": "2024-04-18T20:40:38.134252",
     "exception": false,
     "start_time": "2024-04-18T20:40:38.103532",
     "status": "completed"
    },
    "tags": []
   },
   "outputs": [],
   "source": [
    "# class VotingModel(BaseEstimator, RegressorMixin):\n",
    "#     def __init__(self, estimators):\n",
    "#         super().__init__()\n",
    "#         self.estimators = estimators\n",
    "        \n",
    "#     def fit(self, X, y=None):\n",
    "#         return self\n",
    "    \n",
    "#     def predict(self, X):\n",
    "#         y_preds = [estimator.predict(X) for estimator in self.estimators]\n",
    "#         return np.mean(y_preds, axis=0)\n",
    "    \n",
    "#     def predict_proba(self, X):\n",
    "#         y_preds = [estimator.predict_proba(X) for estimator in self.estimators]\n",
    "#         return np.mean(y_preds, axis=0)\n",
    "    \n",
    "#     def get_feature_importance(self):\n",
    "#         feature_importances = np.array([0 for feature in features])\n",
    "\n",
    "#         for model in self.estimators:\n",
    "#             feature_importances += model.feature_importances_\n",
    "\n",
    "#         return feature_importances"
   ]
  },
  {
   "cell_type": "code",
   "execution_count": 33,
   "id": "eb22f589",
   "metadata": {
    "execution": {
     "iopub.execute_input": "2024-04-18T20:40:38.178363Z",
     "iopub.status.busy": "2024-04-18T20:40:38.177911Z",
     "iopub.status.idle": "2024-04-18T20:40:38.182733Z",
     "shell.execute_reply": "2024-04-18T20:40:38.181556Z"
    },
    "papermill": {
     "duration": 0.029897,
     "end_time": "2024-04-18T20:40:38.185230",
     "exception": false,
     "start_time": "2024-04-18T20:40:38.155333",
     "status": "completed"
    },
    "tags": []
   },
   "outputs": [],
   "source": [
    "# for column in features:\n",
    "#     if (train_dataset[column].dtype != pl.Categorical) and \\\n",
    "#         (train_dataset[column].dtype != pl.Float64) and \\\n",
    "#         (train_dataset[column].dtype != pl.Float64):\n",
    "#         print(column, train_dataset[column].dtype)"
   ]
  },
  {
   "cell_type": "code",
   "execution_count": 34,
   "id": "aff2f2a8",
   "metadata": {
    "execution": {
     "iopub.execute_input": "2024-04-18T20:40:38.229577Z",
     "iopub.status.busy": "2024-04-18T20:40:38.228863Z",
     "iopub.status.idle": "2024-04-18T20:40:38.234266Z",
     "shell.execute_reply": "2024-04-18T20:40:38.233456Z"
    },
    "papermill": {
     "duration": 0.030237,
     "end_time": "2024-04-18T20:40:38.236592",
     "exception": false,
     "start_time": "2024-04-18T20:40:38.206355",
     "status": "completed"
    },
    "tags": []
   },
   "outputs": [],
   "source": [
    "# def train_lgb_model(X_train, Y_train, X_test, Y_test):\n",
    "#     params = {\n",
    "#         \"boosting_type\": \"gbdt\",\n",
    "#         \"objective\": \"binary\",\n",
    "#         \"metric\": \"auc\",\n",
    "#         \"max_depth\": 8,\n",
    "#         \"max_bin\": 250,\n",
    "#         \"learning_rate\": 0.05,\n",
    "#         \"n_estimators\": 1000,\n",
    "#         \"colsample_bytree\": 0.8, \n",
    "#         \"colsample_bynode\": 0.8,\n",
    "#         \"verbose\": -1,\n",
    "#         \"random_state\": 42,\n",
    "#         \"device\": \"gpu\",\n",
    "#     }\n",
    "    \n",
    "#     model = lgb.LGBMClassifier(**params)\n",
    "    \n",
    "#     model.fit(\n",
    "#         X_train, Y_train,\n",
    "#         eval_set=[(X_test, Y_test)],\n",
    "#         callbacks=[lgb.log_evaluation(100), lgb.early_stopping(100)]\n",
    "#     )\n",
    "        \n",
    "#     return model"
   ]
  },
  {
   "cell_type": "code",
   "execution_count": 35,
   "id": "4ffb40c4",
   "metadata": {
    "execution": {
     "iopub.execute_input": "2024-04-18T20:40:38.280791Z",
     "iopub.status.busy": "2024-04-18T20:40:38.280099Z",
     "iopub.status.idle": "2024-04-18T20:40:38.284474Z",
     "shell.execute_reply": "2024-04-18T20:40:38.283699Z"
    },
    "papermill": {
     "duration": 0.029105,
     "end_time": "2024-04-18T20:40:38.286636",
     "exception": false,
     "start_time": "2024-04-18T20:40:38.257531",
     "status": "completed"
    },
    "tags": []
   },
   "outputs": [],
   "source": [
    "# gc.collect()"
   ]
  },
  {
   "cell_type": "code",
   "execution_count": 36,
   "id": "e540d998",
   "metadata": {
    "execution": {
     "iopub.execute_input": "2024-04-18T20:40:38.330971Z",
     "iopub.status.busy": "2024-04-18T20:40:38.330341Z",
     "iopub.status.idle": "2024-04-18T20:40:38.336593Z",
     "shell.execute_reply": "2024-04-18T20:40:38.335749Z"
    },
    "papermill": {
     "duration": 0.031109,
     "end_time": "2024-04-18T20:40:38.338819",
     "exception": false,
     "start_time": "2024-04-18T20:40:38.307710",
     "status": "completed"
    },
    "tags": []
   },
   "outputs": [],
   "source": [
    "# weeks = train_df[\"WEEK_NUM\"]\n",
    "# cv = StratifiedGroupKFold(n_splits=5, shuffle=False)\n",
    "\n",
    "# fitted_models = []\n",
    "\n",
    "# oof_predicted = np.zeros(train_df.shape[0])\n",
    "\n",
    "# for idx_train, idx_test in cv.split(train_df[features], train_df[\"target\"], groups=weeks):        \n",
    "# #     X_train = train_df[features][idx_train].to_pandas()\n",
    "# #     Y_train = train_df[\"target\"][idx_train].to_pandas()\n",
    "    \n",
    "#     X_test = train_df[features][idx_test].to_pandas()\n",
    "#     Y_test = train_df[\"target\"][idx_test].to_pandas()\n",
    "    \n",
    "#     start = time.time()\n",
    "#     params = {\n",
    "#         \"boosting_type\": \"gbdt\",\n",
    "#         \"objective\": \"binary\",\n",
    "#         \"metric\": \"auc\",\n",
    "#         \"max_depth\": 8,\n",
    "#         \"max_bin\": 250,\n",
    "#         \"learning_rate\": 0.05,\n",
    "#         \"n_estimators\": 1000,\n",
    "#         \"colsample_bytree\": 0.8, \n",
    "#         \"colsample_bynode\": 0.8,\n",
    "#         \"verbose\": -1,\n",
    "#         \"random_state\": 42,\n",
    "#         \"device\": \"gpu\",\n",
    "#     }\n",
    "    \n",
    "#     model = lgb.LGBMClassifier(**params)\n",
    "    \n",
    "#     model.fit(\n",
    "#         train_df[features][idx_train].to_pandas(), train_df[\"target\"][idx_train].to_pandas(),\n",
    "#         eval_set=[(X_test, Y_test)],\n",
    "#         callbacks=[lgb.log_evaluation(100), lgb.early_stopping(100)]\n",
    "#     )\n",
    "        \n",
    "\n",
    "# #    model = train_lgb_model(X_train, Y_train, X_test, Y_test)\n",
    "#     finish = time.time()\n",
    "    \n",
    "#     print(\"fit time: {}\".format(finish - start))\n",
    "#     fitted_models.append(model)\n",
    "    \n",
    "#     test_pred = model.predict_proba(X_test)[:, 1]\n",
    "#     oof_predicted[idx_test] = test_pred\n",
    "#     gc.collect()\n",
    "\n",
    "# model = VotingModel(fitted_models)\n",
    "# gc.collect()"
   ]
  },
  {
   "cell_type": "code",
   "execution_count": 37,
   "id": "cd768276",
   "metadata": {
    "execution": {
     "iopub.execute_input": "2024-04-18T20:40:38.383106Z",
     "iopub.status.busy": "2024-04-18T20:40:38.382464Z",
     "iopub.status.idle": "2024-04-18T20:40:38.387138Z",
     "shell.execute_reply": "2024-04-18T20:40:38.386127Z"
    },
    "papermill": {
     "duration": 0.029933,
     "end_time": "2024-04-18T20:40:38.389679",
     "exception": false,
     "start_time": "2024-04-18T20:40:38.359746",
     "status": "completed"
    },
    "tags": []
   },
   "outputs": [],
   "source": [
    "# roc_auc_oof = roc_auc_score(train_df[\"target\"], oof_predicted)\n",
    "# print(\"CV roc_auc_oof: \", roc_auc_oof)"
   ]
  },
  {
   "cell_type": "markdown",
   "id": "d4511e39",
   "metadata": {
    "papermill": {
     "duration": 0.020666,
     "end_time": "2024-04-18T20:40:38.431354",
     "exception": false,
     "start_time": "2024-04-18T20:40:38.410688",
     "status": "completed"
    },
    "tags": []
   },
   "source": [
    "# Predict"
   ]
  },
  {
   "cell_type": "code",
   "execution_count": 38,
   "id": "17cc56d0",
   "metadata": {
    "execution": {
     "iopub.execute_input": "2024-04-18T20:40:38.475629Z",
     "iopub.status.busy": "2024-04-18T20:40:38.475205Z",
     "iopub.status.idle": "2024-04-18T20:40:38.479599Z",
     "shell.execute_reply": "2024-04-18T20:40:38.478468Z"
    },
    "papermill": {
     "duration": 0.029099,
     "end_time": "2024-04-18T20:40:38.481832",
     "exception": false,
     "start_time": "2024-04-18T20:40:38.452733",
     "status": "completed"
    },
    "tags": []
   },
   "outputs": [],
   "source": [
    "# del train_df\n",
    "# gc.collect()"
   ]
  },
  {
   "cell_type": "code",
   "execution_count": 39,
   "id": "d48b756e",
   "metadata": {
    "execution": {
     "iopub.execute_input": "2024-04-18T20:40:38.539842Z",
     "iopub.status.busy": "2024-04-18T20:40:38.538661Z",
     "iopub.status.idle": "2024-04-18T20:40:38.543880Z",
     "shell.execute_reply": "2024-04-18T20:40:38.542788Z"
    },
    "papermill": {
     "duration": 0.043959,
     "end_time": "2024-04-18T20:40:38.546970",
     "exception": false,
     "start_time": "2024-04-18T20:40:38.503011",
     "status": "completed"
    },
    "tags": []
   },
   "outputs": [],
   "source": [
    "# test_dataset = data_loader.load_test_dataset()\n",
    "# print(\"Test dataset week range: {}-{}\".format(test_dataset.base[\"WEEK_NUM\"].min(), test_dataset.base[\"WEEK_NUM\"].max()))\n",
    "# gc.collect()\n",
    "# test_df = preprocessor.process_test_dataset(test_dataset)\n",
    "# del test_dataset\n",
    "# gc.collect()"
   ]
  },
  {
   "cell_type": "code",
   "execution_count": 40,
   "id": "69b3e4b6",
   "metadata": {
    "execution": {
     "iopub.execute_input": "2024-04-18T20:40:38.598292Z",
     "iopub.status.busy": "2024-04-18T20:40:38.597590Z",
     "iopub.status.idle": "2024-04-18T20:40:38.603093Z",
     "shell.execute_reply": "2024-04-18T20:40:38.601927Z"
    },
    "papermill": {
     "duration": 0.032794,
     "end_time": "2024-04-18T20:40:38.605524",
     "exception": false,
     "start_time": "2024-04-18T20:40:38.572730",
     "status": "completed"
    },
    "tags": []
   },
   "outputs": [],
   "source": [
    "# print([name for value, name in reversed(sorted(zip(model.get_feature_importance(), features)))][0:200])"
   ]
  },
  {
   "cell_type": "code",
   "execution_count": null,
   "id": "cd6439fd",
   "metadata": {
    "papermill": {
     "duration": 0.022542,
     "end_time": "2024-04-18T20:40:38.651070",
     "exception": false,
     "start_time": "2024-04-18T20:40:38.628528",
     "status": "completed"
    },
    "tags": []
   },
   "outputs": [],
   "source": []
  },
  {
   "cell_type": "code",
   "execution_count": 41,
   "id": "65ac4de5",
   "metadata": {
    "execution": {
     "iopub.execute_input": "2024-04-18T20:40:38.698272Z",
     "iopub.status.busy": "2024-04-18T20:40:38.697847Z",
     "iopub.status.idle": "2024-04-18T20:40:38.702044Z",
     "shell.execute_reply": "2024-04-18T20:40:38.701137Z"
    },
    "papermill": {
     "duration": 0.030197,
     "end_time": "2024-04-18T20:40:38.704376",
     "exception": false,
     "start_time": "2024-04-18T20:40:38.674179",
     "status": "completed"
    },
    "tags": []
   },
   "outputs": [],
   "source": [
    "# CV roc_auc_oof:  0.8353789451006361 without feature selection ~500 features\n",
    "# CV roc_auc_oof:  0.8329322959533371 with feature selection ~200 features"
   ]
  },
  {
   "cell_type": "code",
   "execution_count": null,
   "id": "1642b392",
   "metadata": {
    "papermill": {
     "duration": 0.022584,
     "end_time": "2024-04-18T20:40:38.750273",
     "exception": false,
     "start_time": "2024-04-18T20:40:38.727689",
     "status": "completed"
    },
    "tags": []
   },
   "outputs": [],
   "source": []
  },
  {
   "cell_type": "code",
   "execution_count": 42,
   "id": "ec753754",
   "metadata": {
    "execution": {
     "iopub.execute_input": "2024-04-18T20:40:38.798856Z",
     "iopub.status.busy": "2024-04-18T20:40:38.797996Z",
     "iopub.status.idle": "2024-04-18T20:40:38.803006Z",
     "shell.execute_reply": "2024-04-18T20:40:38.802224Z"
    },
    "papermill": {
     "duration": 0.03251,
     "end_time": "2024-04-18T20:40:38.805327",
     "exception": false,
     "start_time": "2024-04-18T20:40:38.772817",
     "status": "completed"
    },
    "tags": []
   },
   "outputs": [],
   "source": [
    "# def gini_stability(dataset, w_fallingrate=88.0, w_resstd=-0.5):\n",
    "#     gini_in_time = dataset\\\n",
    "#         .sort_values(\"WEEK_NUM\")\\\n",
    "#         .groupby(\"WEEK_NUM\")[[\"true\", \"predicted\"]]\\\n",
    "#         .apply(lambda x: 2 * roc_auc_score(x[\"true\"], x[\"predicted\"]) - 1).tolist()\n",
    "    \n",
    "#     x = np.arange(len(gini_in_time))\n",
    "#     y = gini_in_time\n",
    "#     a, b = np.polyfit(x, y, 1)\n",
    "#     y_hat = a * x + b\n",
    "#     residuals = y - y_hat\n",
    "#     res_std = np.std(residuals)\n",
    "#     avg_gini = np.mean(gini_in_time)\n",
    "    \n",
    "#     print(avg_gini, min(0, a), res_std)\n",
    "    \n",
    "#     return avg_gini + w_fallingrate * min(0, a) + w_resstd * res_std"
   ]
  },
  {
   "cell_type": "code",
   "execution_count": 43,
   "id": "d081b7e9",
   "metadata": {
    "execution": {
     "iopub.execute_input": "2024-04-18T20:40:38.849987Z",
     "iopub.status.busy": "2024-04-18T20:40:38.849271Z",
     "iopub.status.idle": "2024-04-18T20:40:38.853014Z",
     "shell.execute_reply": "2024-04-18T20:40:38.852295Z"
    },
    "papermill": {
     "duration": 0.029036,
     "end_time": "2024-04-18T20:40:38.855809",
     "exception": false,
     "start_time": "2024-04-18T20:40:38.826773",
     "status": "completed"
    },
    "tags": []
   },
   "outputs": [],
   "source": [
    "# # Y_train_predicted = model.predict_proba(train_df[features].to_pandas())\n",
    "# Y_test_predicted = model.predict_proba(test_df[features].to_pandas())"
   ]
  },
  {
   "cell_type": "code",
   "execution_count": 44,
   "id": "e817647f",
   "metadata": {
    "execution": {
     "iopub.execute_input": "2024-04-18T20:40:38.900285Z",
     "iopub.status.busy": "2024-04-18T20:40:38.899527Z",
     "iopub.status.idle": "2024-04-18T20:40:38.904122Z",
     "shell.execute_reply": "2024-04-18T20:40:38.903298Z"
    },
    "papermill": {
     "duration": 0.029349,
     "end_time": "2024-04-18T20:40:38.906343",
     "exception": false,
     "start_time": "2024-04-18T20:40:38.876994",
     "status": "completed"
    },
    "tags": []
   },
   "outputs": [],
   "source": [
    "# result = pd.DataFrame({\n",
    "#     \"WEEK_NUM\": train_df[\"WEEK_NUM\"],\n",
    "#     \"true\": train_df[\"target\"],\n",
    "#     \"predicted\": Y_train_predicted[:, 1],\n",
    "# })\n",
    "\n",
    "# train_result = gini_stability(result)\n",
    "# print(\"train_score: {}\".format(train_result))\n",
    "\n",
    "# if MODE == Mode.Train:\n",
    "#     result = pd.DataFrame({\n",
    "#         \"WEEK_NUM\": test_df[\"WEEK_NUM\"],\n",
    "#         \"true\": test_df[\"target\"],\n",
    "#         \"predicted\": Y_test_predicted[:, 1],\n",
    "#     })\n",
    "\n",
    "#     test_result = gini_stability(result)\n",
    "#     print(\"test_score: {}\".format(test_result))"
   ]
  },
  {
   "cell_type": "code",
   "execution_count": 45,
   "id": "06dee6a3",
   "metadata": {
    "execution": {
     "iopub.execute_input": "2024-04-18T20:40:38.951083Z",
     "iopub.status.busy": "2024-04-18T20:40:38.950381Z",
     "iopub.status.idle": "2024-04-18T20:40:38.954999Z",
     "shell.execute_reply": "2024-04-18T20:40:38.954191Z"
    },
    "papermill": {
     "duration": 0.029407,
     "end_time": "2024-04-18T20:40:38.957203",
     "exception": false,
     "start_time": "2024-04-18T20:40:38.927796",
     "status": "completed"
    },
    "tags": []
   },
   "outputs": [],
   "source": [
    "# Version 1, test_score: 0.583319926590042, public score 0.48\n",
    "# 100 iters\n",
    "\n",
    "# Version 2, test_score: 0.6062624701357268, public score 0.517\n",
    "# 300 iters\n",
    "\n",
    "# Version 3, test_score: ?, public score 0.545\n",
    "# 2000 iters\n",
    "\n",
    "# Version 4, test_score: ?, public score ?\n",
    "# ? iters, Improve aggregate functions for depth_1, depth_2\n"
   ]
  },
  {
   "cell_type": "markdown",
   "id": "b4d3c5f9",
   "metadata": {
    "papermill": {
     "duration": 0.020497,
     "end_time": "2024-04-18T20:40:38.998925",
     "exception": false,
     "start_time": "2024-04-18T20:40:38.978428",
     "status": "completed"
    },
    "tags": []
   },
   "source": [
    "# Submition"
   ]
  },
  {
   "cell_type": "code",
   "execution_count": 46,
   "id": "ba362664",
   "metadata": {
    "execution": {
     "iopub.execute_input": "2024-04-18T20:40:39.043679Z",
     "iopub.status.busy": "2024-04-18T20:40:39.042870Z",
     "iopub.status.idle": "2024-04-18T20:40:39.048276Z",
     "shell.execute_reply": "2024-04-18T20:40:39.047373Z"
    },
    "papermill": {
     "duration": 0.030377,
     "end_time": "2024-04-18T20:40:39.050799",
     "exception": false,
     "start_time": "2024-04-18T20:40:39.020422",
     "status": "completed"
    },
    "tags": []
   },
   "outputs": [],
   "source": [
    "# case_id = test_df[\"case_id\"]\n",
    "# X = test_df[features].to_pandas()\n",
    "\n",
    "# Y = model.predict_proba(X)\n",
    "\n",
    "# submission = pd.DataFrame({\n",
    "#     \"case_id\": case_id.to_numpy(),\n",
    "#     \"score\": Y[:, 1]\n",
    "# }).set_index('case_id')\n",
    "# submission.to_csv(\"./submission.csv\")"
   ]
  },
  {
   "cell_type": "code",
   "execution_count": null,
   "id": "07f61ab3",
   "metadata": {
    "papermill": {
     "duration": 0.021307,
     "end_time": "2024-04-18T20:40:39.093037",
     "exception": false,
     "start_time": "2024-04-18T20:40:39.071730",
     "status": "completed"
    },
    "tags": []
   },
   "outputs": [],
   "source": []
  },
  {
   "cell_type": "code",
   "execution_count": null,
   "id": "f967484a",
   "metadata": {
    "papermill": {
     "duration": 0.021158,
     "end_time": "2024-04-18T20:40:39.137446",
     "exception": false,
     "start_time": "2024-04-18T20:40:39.116288",
     "status": "completed"
    },
    "tags": []
   },
   "outputs": [],
   "source": []
  },
  {
   "cell_type": "code",
   "execution_count": null,
   "id": "e75e62de",
   "metadata": {
    "papermill": {
     "duration": 0.021038,
     "end_time": "2024-04-18T20:40:39.179498",
     "exception": false,
     "start_time": "2024-04-18T20:40:39.158460",
     "status": "completed"
    },
    "tags": []
   },
   "outputs": [],
   "source": []
  }
 ],
 "metadata": {
  "kaggle": {
   "accelerator": "none",
   "dataSources": [
    {
     "databundleVersionId": 7921029,
     "sourceId": 50160,
     "sourceType": "competition"
    },
    {
     "datasetId": 4496896,
     "sourceId": 8057265,
     "sourceType": "datasetVersion"
    }
   ],
   "dockerImageVersionId": 30635,
   "isGpuEnabled": false,
   "isInternetEnabled": false,
   "language": "python",
   "sourceType": "notebook"
  },
  "kernelspec": {
   "display_name": "Python 3",
   "language": "python",
   "name": "python3"
  },
  "language_info": {
   "codemirror_mode": {
    "name": "ipython",
    "version": 3
   },
   "file_extension": ".py",
   "mimetype": "text/x-python",
   "name": "python",
   "nbconvert_exporter": "python",
   "pygments_lexer": "ipython3",
   "version": "3.10.12"
  },
  "papermill": {
   "default_parameters": {},
   "duration": 1566.752101,
   "end_time": "2024-04-18T20:40:40.227590",
   "environment_variables": {},
   "exception": null,
   "input_path": "__notebook__.ipynb",
   "output_path": "__notebook__.ipynb",
   "parameters": {},
   "start_time": "2024-04-18T20:14:33.475489",
   "version": "2.4.0"
  }
 },
 "nbformat": 4,
 "nbformat_minor": 5
}
