{
 "cells": [
  {
   "cell_type": "markdown",
   "id": "d611e2ce",
   "metadata": {
    "papermill": {
     "duration": 0.004549,
     "end_time": "2024-04-26T16:24:53.258928",
     "exception": false,
     "start_time": "2024-04-26T16:24:53.254379",
     "status": "completed"
    },
    "tags": []
   },
   "source": [
    "# Install packages"
   ]
  },
  {
   "cell_type": "code",
   "execution_count": 1,
   "id": "518c0c50",
   "metadata": {
    "execution": {
     "iopub.execute_input": "2024-04-26T16:24:53.270329Z",
     "iopub.status.busy": "2024-04-26T16:24:53.269029Z",
     "iopub.status.idle": "2024-04-26T16:25:28.713071Z",
     "shell.execute_reply": "2024-04-26T16:25:28.711609Z"
    },
    "papermill": {
     "duration": 35.45259,
     "end_time": "2024-04-26T16:25:28.715956",
     "exception": false,
     "start_time": "2024-04-26T16:24:53.263366",
     "status": "completed"
    },
    "tags": []
   },
   "outputs": [
    {
     "name": "stdout",
     "output_type": "stream",
     "text": [
      "Processing /kaggle/input/kaggle-home-credit-risk-model-stability-lib/kaggle_home_credit_risk_model_stability-0.3-py3-none-any.whl\r\n",
      "Installing collected packages: kaggle-home-credit-risk-model-stability\r\n",
      "Successfully installed kaggle-home-credit-risk-model-stability-0.3\r\n"
     ]
    }
   ],
   "source": [
    "!pip install /kaggle/input/kaggle-home-credit-risk-model-stability-lib/kaggle_home_credit_risk_model_stability-0.3-py3-none-any.whl --force-reinstall"
   ]
  },
  {
   "cell_type": "code",
   "execution_count": 2,
   "id": "5501b5c5",
   "metadata": {
    "execution": {
     "iopub.execute_input": "2024-04-26T16:25:28.727673Z",
     "iopub.status.busy": "2024-04-26T16:25:28.727237Z",
     "iopub.status.idle": "2024-04-26T16:26:18.012164Z",
     "shell.execute_reply": "2024-04-26T16:26:18.011049Z"
    },
    "papermill": {
     "duration": 49.293955,
     "end_time": "2024-04-26T16:26:18.014882",
     "exception": false,
     "start_time": "2024-04-26T16:25:28.720927",
     "status": "completed"
    },
    "tags": []
   },
   "outputs": [
    {
     "name": "stdout",
     "output_type": "stream",
     "text": [
      "Processing /kaggle/input/polars/polars-0.20.15-cp38-abi3-manylinux_2_17_x86_64.manylinux2014_x86_64.whl\r\n",
      "Installing collected packages: polars\r\n",
      "  Attempting uninstall: polars\r\n",
      "    Found existing installation: polars 0.20.3\r\n",
      "    Uninstalling polars-0.20.3:\r\n",
      "      Successfully uninstalled polars-0.20.3\r\n",
      "Successfully installed polars-0.20.15\r\n"
     ]
    }
   ],
   "source": [
    "!pip install /kaggle/input/polars/polars-0.20.15-cp38-abi3-manylinux_2_17_x86_64.manylinux2014_x86_64.whl"
   ]
  },
  {
   "cell_type": "markdown",
   "id": "9b6727bf",
   "metadata": {
    "papermill": {
     "duration": 0.00469,
     "end_time": "2024-04-26T16:26:18.024587",
     "exception": false,
     "start_time": "2024-04-26T16:26:18.019897",
     "status": "completed"
    },
    "tags": []
   },
   "source": [
    "# Import packages"
   ]
  },
  {
   "cell_type": "code",
   "execution_count": 3,
   "id": "6cd550ca",
   "metadata": {
    "execution": {
     "iopub.execute_input": "2024-04-26T16:26:18.036923Z",
     "iopub.status.busy": "2024-04-26T16:26:18.036498Z",
     "iopub.status.idle": "2024-04-26T16:26:22.287185Z",
     "shell.execute_reply": "2024-04-26T16:26:22.286098Z"
    },
    "papermill": {
     "duration": 4.260338,
     "end_time": "2024-04-26T16:26:22.290044",
     "exception": false,
     "start_time": "2024-04-26T16:26:18.029706",
     "status": "completed"
    },
    "tags": []
   },
   "outputs": [],
   "source": [
    "import polars as pl\n",
    "import gc\n",
    "import time\n",
    "import numpy as np\n",
    "import pandas as pd\n",
    "import lightgbm as lgb\n",
    "import matplotlib.pyplot as plt\n",
    "import copy\n",
    "import lightgbm as lgb\n",
    "import importlib\n",
    "import pickle\n",
    "import argparse\n",
    "\n",
    "# %load_ext autoreload\n",
    "# %autoreload 2\n",
    "\n",
    "import kaggle_home_credit_risk_model_stability.libs as hcr\n",
    "from kaggle_home_credit_risk_model_stability.libs.env import Env\n",
    "from kaggle_home_credit_risk_model_stability.libs.input.dataset import Dataset\n",
    "from kaggle_home_credit_risk_model_stability.libs.input.data_loader import DataLoader\n",
    "from kaggle_home_credit_risk_model_stability.libs.preprocessor.preprocessor import Preprocessor\n",
    "from kaggle_home_credit_risk_model_stability.libs.preprocessor.steps import *\n",
    "from kaggle_home_credit_risk_model_stability.libs.preprocessor.columns_info import ColumnsInfo\n",
    "from kaggle_home_credit_risk_model_stability.libs.feature_description.feature_description import FreatureDescriptionGetter\n",
    "\n",
    "from collections import defaultdict\n",
    "from glob import glob\n",
    "from pathlib import Path\n",
    "from sklearn.model_selection import train_test_split\n",
    "from sklearn.metrics import roc_auc_score\n",
    "from sklearn.model_selection import StratifiedGroupKFold\n",
    "from sklearn.base import BaseEstimator, RegressorMixin"
   ]
  },
  {
   "cell_type": "code",
   "execution_count": 4,
   "id": "dba1a2cb",
   "metadata": {
    "execution": {
     "iopub.execute_input": "2024-04-26T16:26:22.301960Z",
     "iopub.status.busy": "2024-04-26T16:26:22.301583Z",
     "iopub.status.idle": "2024-04-26T16:26:22.307209Z",
     "shell.execute_reply": "2024-04-26T16:26:22.306216Z"
    },
    "papermill": {
     "duration": 0.014039,
     "end_time": "2024-04-26T16:26:22.309333",
     "exception": false,
     "start_time": "2024-04-26T16:26:22.295294",
     "status": "completed"
    },
    "tags": []
   },
   "outputs": [],
   "source": [
    "env = Env(\n",
    "    \"/kaggle/input/\",\n",
    "    \"/kaggle/working/\"\n",
    ")"
   ]
  },
  {
   "cell_type": "code",
   "execution_count": 5,
   "id": "9f7e0d38",
   "metadata": {
    "execution": {
     "iopub.execute_input": "2024-04-26T16:26:22.321512Z",
     "iopub.status.busy": "2024-04-26T16:26:22.321126Z",
     "iopub.status.idle": "2024-04-26T16:26:22.334073Z",
     "shell.execute_reply": "2024-04-26T16:26:22.332950Z"
    },
    "papermill": {
     "duration": 0.021658,
     "end_time": "2024-04-26T16:26:22.336126",
     "exception": false,
     "start_time": "2024-04-26T16:26:22.314468",
     "status": "completed"
    },
    "tags": []
   },
   "outputs": [],
   "source": [
    "data_loader = DataLoader(env, tables = [\n",
    "    \"base\", \"static_cb_0\", \"static_0\", \"person_1\", \"tax_registry_a_1\", \"tax_registry_b_1\", \"tax_registry_c_1\", \n",
    "    \"credit_bureau_a_2\", \n",
    "    \"credit_bureau_a_1\", \n",
    "    \"applprev_1\",\n",
    "    #\"credit_bureau_b_1\", \"credit_bureau_b_2\", \"other_1\", \"deposit_1\", \"debitcard_1\" <- low amount of data\n",
    "])\n",
    "\n",
    "preprocessor = Preprocessor({\n",
    "    #\"sort_raw_tables\": SortRawTablesStep(),\n",
    "    \"set_column_info_step\": SetColumnsInfoStep(),\n",
    "    \"set_types\": SetTypesStep(),\n",
    "    \"drop_composite_features\": DropCompositeFeaturesStep(),\n",
    "    \"create_day_feature\": CreateDayFeatureStep(),\n",
    "    # #\"drop_raw_null_columns\": DropRawNullColumns(feature_threashold=0.2, week_threashold=0.9),\n",
    "    \"process_categorical\": ProcessCategoricalStep(),\n",
    "    \"process_person_table\": ProcessPersonTableStep(),\n",
    "    \"process_applprev_table\": ProcessApplprevTableStep(),\n",
    "    \"process_static_0_table\": ProcessStatic0TableStep(),\n",
    "    \"process_tax_regestry_a1_table\": ProcessTaxRegestryA1TableStep(),\n",
    "    \"process_tax_regestry_b1_table\": ProcessTaxRegestryB1TableStep(),\n",
    "    \"process_tax_regestry_c1_table\": ProcessTaxRegestryC1TableStep(),\n",
    "#     \"process_credit_burea_1_table\": ProcessCreditBureaua1TableStep(\n",
    "#         config = {\n",
    "#             \"active\": {\n",
    "#                 \"mask_column\": \"dateofcredstart_739D\",\n",
    "#                 \"financialinstitution_column\": \"financialinstitution_591M\",\n",
    "#                 \"columns\": [\n",
    "#                     #'annualeffectiverate_63L', 'dpdmax_139P', 'nominalrate_281L', 'numberofoutstandinstls_59L', 'numberofoverdueinstlmaxdat_641D', 'numberofoverdueinstls_725L', 'prolongationcount_599L', \n",
    "#                     'contractsum_5085717L', 'credlmt_935A', 'dateofcredend_289D', 'dateofcredstart_739D', 'dpdmaxdatemonth_89T', 'instlamount_768A', 'lastupdate_1112D', 'monthlyinstlamount_332A', 'numberofinstls_320L', 'numberofoverdueinstlmax_1039L', 'outstandingamount_362A', 'overdueamount_659A', 'overdueamountmax2_14A', 'overdueamountmax2date_1142D', 'overdueamountmax_155A', 'overdueamountmaxdatemonth_365T', 'periodicityofpmts_837L', 'purposeofcred_426M', 'residualamount_856A', 'subjectrole_182M', 'totalamount_996A'\n",
    "#                 ]\n",
    "#             },\n",
    "#             \"close\": {\n",
    "#                 \"mask_column\": \"dateofcredstart_181D\",\n",
    "#                 \"financialinstitution_column\": \"financialinstitution_382M\",\n",
    "#                 \"columns\": [\n",
    "#                     # 'interestrate_508L', 'annualeffectiverate_199L', 'dateofrealrepmt_138D', 'lastupdate_388D', 'numberofoverdueinstlmaxdat_148D', 'prolongationcount_1120L',\n",
    "#                     'credlmt_230A', 'dateofcredend_353D', 'dateofcredstart_181D', 'dpdmax_757P', 'dpdmaxdatemonth_442T', 'instlamount_852A', 'monthlyinstlamount_674A', 'nominalrate_498L', 'numberofinstls_229L', 'numberofoutstandinstls_520L', 'numberofoverdueinstlmax_1151L', 'numberofoverdueinstls_834L', 'outstandingamount_354A', 'overdueamount_31A', 'overdueamountmax2_398A', 'overdueamountmax2date_1002D', 'overdueamountmax_35A', 'overdueamountmaxdatemonth_284T', 'periodicityofpmts_1102L', 'purposeofcred_874M', 'residualamount_488A', 'totalamount_6A', 'subjectrole_93M'\n",
    "#                 ]\n",
    "#             }\n",
    "#         },\n",
    "#         finantial_institutions = {\n",
    "#             \"active\": ['Home Credit', 'P204_66_73'],\n",
    "#             \"close\": ['P133_127_114', 'Home Credit']\n",
    "#         }\n",
    "#     ),\n",
    "    \"process_credit_burea_2_table\": ProcessCreditBureaua2TableStep(),\n",
    "    #\"split_composite_features\": SplitCompositeFeaturesStep(exclude_list=\"previouscontdistrict_112M\", drop_original=True),\n",
    "    #\"reduce_dimention_for_categorical_features\": ReduceDimentionForCategoricalFeaturesStep(),\n",
    "    #\"one_hot_encoding\": OneHotEncodingStep(),\n",
    "    #\"pairwise_diff_raw_dates\": PairwiseDateDiffStep(),\n",
    "    \"aggregate_depth_table\": AggregateDepthTableStep(),\n",
    "    #\"drop_equal_columns\": DropEqualColumnsStep(),\n",
    "    #\"drop_almost_null_features_respect_to_target\": DropAlmostNullFeaturesWithRespectToTargetStep(),\n",
    "    \"join_table\": JoinTablesStep(),\n",
    "    \"merge_chunked_table\": MergeChunkedTablesStep(),\n",
    "    \"drop_almost_null_features\": DropAlmostNullFeaturesStep(),\n",
    "    #\"generate_age_feature\": GenerateAgeFeatureStep(),\n",
    "    \"generate_base_date_diff\": GenerateBaseDateDiffStep(base_column=\"date_decision\"),\n",
    "    \"fill_nulls_in_categorical_features\": FillNullsInCategoricalFeaturesStep(),\n",
    "    \"reduce_memory_usage\": ReduceMemoryUsageStep(),\n",
    "    **{\n",
    "        f\"create_money_feature_fraction_{base_column}\": CreateMoneyFeatureFractionStep(base_column)\n",
    "        for base_column in [\"credamount_770A\", \"mainoccupationinc_384A\"] # \"maininc_215A\", \"annuity_780A\"] # mean_amount_416A\n",
    "    },\n",
    "    #\"generate_mismatch_features\": GenerateMismatchFeaturesStep(),\n",
    "    #\"generate_target_distribution_based_on_categorical_features_step\": GenerateTargetDistributionBasedOnCategoricalStep(),\n",
    "    \"drop_single_value_features\": DropSingleValueFeaturesStep(),\n",
    "    \"drop_variable_enum_features\": DropVariableEnumFeaturesStep(),\n",
    "    \"reduce_memory_usage\": ReduceMemoryUsageStep()\n",
    "})"
   ]
  },
  {
   "cell_type": "code",
   "execution_count": null,
   "id": "2fd58e56",
   "metadata": {
    "papermill": {
     "duration": 0.005016,
     "end_time": "2024-04-26T16:26:22.346517",
     "exception": false,
     "start_time": "2024-04-26T16:26:22.341501",
     "status": "completed"
    },
    "tags": []
   },
   "outputs": [],
   "source": []
  },
  {
   "cell_type": "code",
   "execution_count": 6,
   "id": "9f43315f",
   "metadata": {
    "execution": {
     "iopub.execute_input": "2024-04-26T16:26:22.358691Z",
     "iopub.status.busy": "2024-04-26T16:26:22.358311Z",
     "iopub.status.idle": "2024-04-26T17:01:02.572234Z",
     "shell.execute_reply": "2024-04-26T17:01:02.570865Z"
    },
    "papermill": {
     "duration": 2080.2234,
     "end_time": "2024-04-26T17:01:02.575070",
     "exception": false,
     "start_time": "2024-04-26T16:26:22.351670",
     "status": "completed"
    },
    "tags": []
   },
   "outputs": [
    {
     "name": "stdout",
     "output_type": "stream",
     "text": [
      "Drop composite features ['lastapprcommoditycat_1041M', 'lastapprcommoditytypec_5251766M', 'lastcancelreason_561M', 'lastrejectcommoditycat_161M', 'lastrejectcommodtypec_5251769M', 'lastrejectreason_759M', 'lastrejectreasonclient_4145040M', 'previouscontdistrict_112M', 'contaddr_district_15M', 'contaddr_zipcode_807M', 'education_927M', 'empladdr_district_926M', 'empladdr_zipcode_114M', 'language1_981M', 'registaddr_district_1083M', 'registaddr_zipcode_184M', 'cancelreason_3545846M', 'district_544M', 'education_1138M', 'postype_4733339M', 'profession_152M', 'rejectreason_755M', 'rejectreasonclient_4145042M']\n",
      "Generate 901 columns as aggregates\n",
      "Generate 901 columns as aggregates\n",
      "Generate 901 columns as aggregates\n",
      "Generate 901 columns as aggregates\n",
      "Generate 901 columns as aggregates\n",
      "Generate 901 columns as aggregates\n",
      "Generate 901 columns as aggregates\n",
      "Generate 901 columns as aggregates\n",
      "Generate 901 columns as aggregates\n",
      "Generate 901 columns as aggregates\n",
      "Generate 901 columns as aggregates\n",
      "Generate 901 columns as aggregates\n",
      "Generate 901 columns as aggregates\n",
      "Generate 901 columns as aggregates\n",
      "Generate 901 columns as aggregates\n",
      "Generate 901 columns as aggregates\n",
      "Drop 247 columns as almost null\n",
      "Columns to drop ['assignmentdate_4955616D', 'birthdate_87D', 'childnum_185L', 'clientscnt_136L', 'count_credacc_status_367L_null_applprev_1', 'count_credtype_587L_null_applprev_1', 'count_familystate_726L_null_applprev_1', 'count_inittransactioncode_279L_null_applprev_1', 'count_status_219L_null_applprev_1', 'dateofbirth_342D', 'deferredmnthsnum_166L', 'equalityempfrom_62L', 'for3years_128L', 'for3years_504L', 'for3years_584L', 'formonth_118L', 'formonth_206L', 'formonth_535L', 'forquarter_1017L', 'forquarter_462L', 'forquarter_634L', 'fortoday_1092L', 'forweek_1077L', 'forweek_528L', 'forweek_601L', 'foryear_618L', 'foryear_818L', 'foryear_850L', 'housingtype_772L', 'interestrategrace_34L', 'isbidproductrequest_292L', 'isreference_387L', 'lastdependentsnum_448L', 'lastotherinc_902A', 'lastotherlnsexpense_631A', 'lastrepayingdate_696D', 'max_annuity_853A_null_applprev_1', 'max_approvaldate_319D_null_applprev_1', 'max_birth_259D', 'max_birthdate_87D', 'max_byoccupationinc_3656910L_null_applprev_1', 'max_byoccupationinc_3656910L_rel_applprev_1', 'max_childnum_185L', 'max_childnum_21L_null_applprev_1', 'max_contaddr_matchlist_1032L', 'max_contaddr_smempladdr_334L', 'max_creationdate_885D_null_applprev_1', 'max_credacc_actualbalance_314A_cal_applprev_1', 'max_credacc_actualbalance_314A_null_applprev_1', 'max_credacc_actualbalance_314A_rel_applprev_1', 'max_credacc_credlmt_575A_null_applprev_1', 'max_credacc_minhisbal_90A_cal_applprev_1', 'max_credacc_minhisbal_90A_null_applprev_1', 'max_credacc_minhisbal_90A_rel_applprev_1', 'max_credacc_status_367L_cal_applprev_1', 'max_credacc_status_367L_null_applprev_1', 'max_credacc_status_367L_rel_applprev_1', 'max_credacc_transactions_402L_cal_applprev_1', 'max_credacc_transactions_402L_null_applprev_1', 'max_credacc_transactions_402L_rel_applprev_1', 'max_credamount_590A_null_applprev_1', 'max_credtype_587L_null_applprev_1', 'max_currdebt_94A_null_applprev_1', 'max_dateactivated_425D_null_applprev_1', 'max_downpmt_134A_null_applprev_1', 'max_dtlastpmt_581D_null_applprev_1', 'max_dtlastpmtallstes_3545839D_null_applprev_1', 'max_empl_employedfrom_271D', 'max_empl_employedtotal_800L', 'max_empl_industry_691L', 'max_employedfrom_700D_null_applprev_1', 'max_familystate_447L', 'max_familystate_726L_null_applprev_1', 'max_firstnonzeroinstldate_307D_null_applprev_1', 'max_firstnonzeroinstldate_307D_rel_applprev_1', 'max_gender_992L', 'max_housetype_905L', 'max_housingtype_772L', 'max_incometype_1044T', 'max_inittransactioncode_279L_null_applprev_1', 'max_interestrate_508L', 'max_isbidproduct_390L_null_applprev_1', 'max_isdebitcard_527L_cal_applprev_1', 'max_isdebitcard_527L_col_applprev_1', 'max_isdebitcard_527L_null_applprev_1', 'max_isreference_387L', 'max_mainoccupationinc_384A', 'max_mainoccupationinc_437A_null_applprev_1', 'max_maritalst_703L', 'max_maxdpdtolerance_577P_null_applprev_1', 'max_outstandingdebt_522A_null_applprev_1', 'max_pmtnum_8L_null_applprev_1', 'max_prolongationcount_599L', 'max_revolvingaccount_394A_cal_applprev_1', 'max_revolvingaccount_394A_col_applprev_1', 'max_revolvingaccount_394A_null_applprev_1', 'max_role_993L', 'max_safeguarantyflag_411L', 'max_sex_738L', 'max_status_219L_null_applprev_1', 'max_tenor_203L_null_applprev_1', 'maxannuity_4075009A', 'mean_annuity_853A_null_applprev_1', 'mean_approvaldate_319D_null_applprev_1', 'mean_birth_259D', 'mean_birthdate_87D', 'mean_byoccupationinc_3656910L_null_applprev_1', 'mean_byoccupationinc_3656910L_rel_applprev_1', 'mean_childnum_185L', 'mean_childnum_21L_null_applprev_1', 'mean_contaddr_matchlist_1032L', 'mean_contaddr_smempladdr_334L', 'mean_creationdate_885D_null_applprev_1', 'mean_credacc_actualbalance_314A_cal_applprev_1', 'mean_credacc_actualbalance_314A_null_applprev_1', 'mean_credacc_actualbalance_314A_rel_applprev_1', 'mean_credacc_credlmt_575A_null_applprev_1', 'mean_credacc_minhisbal_90A_cal_applprev_1', 'mean_credacc_minhisbal_90A_null_applprev_1', 'mean_credacc_minhisbal_90A_rel_applprev_1', 'mean_credacc_transactions_402L_cal_applprev_1', 'mean_credacc_transactions_402L_null_applprev_1', 'mean_credacc_transactions_402L_rel_applprev_1', 'mean_credamount_590A_null_applprev_1', 'mean_currdebt_94A_null_applprev_1', 'mean_dateactivated_425D_null_applprev_1', 'mean_downpmt_134A_null_applprev_1', 'mean_dtlastpmt_581D_null_applprev_1', 'mean_dtlastpmtallstes_3545839D_null_applprev_1', 'mean_empl_employedfrom_271D', 'mean_employedfrom_700D_null_applprev_1', 'mean_firstnonzeroinstldate_307D_null_applprev_1', 'mean_firstnonzeroinstldate_307D_rel_applprev_1', 'mean_interestrate_508L', 'mean_isbidproduct_390L_null_applprev_1', 'mean_isdebitcard_527L_cal_applprev_1', 'mean_isdebitcard_527L_col_applprev_1', 'mean_isdebitcard_527L_null_applprev_1', 'mean_isreference_387L', 'mean_mainoccupationinc_384A', 'mean_mainoccupationinc_437A_null_applprev_1', 'mean_maxdpdtolerance_577P_null_applprev_1', 'mean_outstandingdebt_522A_null_applprev_1', 'mean_pmtnum_8L_null_applprev_1', 'mean_prolongationcount_599L', 'mean_revolvingaccount_394A_cal_applprev_1', 'mean_revolvingaccount_394A_col_applprev_1', 'mean_revolvingaccount_394A_null_applprev_1', 'mean_safeguarantyflag_411L', 'mean_tenor_203L_null_applprev_1', 'min_annuity_853A_null_applprev_1', 'min_approvaldate_319D_null_applprev_1', 'min_birth_259D', 'min_birthdate_87D', 'min_byoccupationinc_3656910L_null_applprev_1', 'min_byoccupationinc_3656910L_rel_applprev_1', 'min_childnum_185L', 'min_childnum_21L_null_applprev_1', 'min_contaddr_matchlist_1032L', 'min_contaddr_smempladdr_334L', 'min_creationdate_885D_null_applprev_1', 'min_credacc_actualbalance_314A_cal_applprev_1', 'min_credacc_actualbalance_314A_null_applprev_1', 'min_credacc_actualbalance_314A_rel_applprev_1', 'min_credacc_credlmt_575A_null_applprev_1', 'min_credacc_minhisbal_90A_cal_applprev_1', 'min_credacc_minhisbal_90A_null_applprev_1', 'min_credacc_minhisbal_90A_rel_applprev_1', 'min_credacc_status_367L_cal_applprev_1', 'min_credacc_status_367L_null_applprev_1', 'min_credacc_status_367L_rel_applprev_1', 'min_credacc_transactions_402L_cal_applprev_1', 'min_credacc_transactions_402L_null_applprev_1', 'min_credacc_transactions_402L_rel_applprev_1', 'min_credamount_590A_null_applprev_1', 'min_credtype_587L_null_applprev_1', 'min_currdebt_94A_null_applprev_1', 'min_dateactivated_425D_null_applprev_1', 'min_downpmt_134A_null_applprev_1', 'min_dtlastpmt_581D_null_applprev_1', 'min_dtlastpmtallstes_3545839D_null_applprev_1', 'min_empl_employedfrom_271D', 'min_empl_employedtotal_800L', 'min_empl_industry_691L', 'min_employedfrom_700D_null_applprev_1', 'min_familystate_447L', 'min_familystate_726L_null_applprev_1', 'min_firstnonzeroinstldate_307D_null_applprev_1', 'min_firstnonzeroinstldate_307D_rel_applprev_1', 'min_gender_992L', 'min_housetype_905L', 'min_housingtype_772L', 'min_incometype_1044T', 'min_inittransactioncode_279L_null_applprev_1', 'min_interestrate_508L', 'min_isbidproduct_390L_null_applprev_1', 'min_isdebitcard_527L_cal_applprev_1', 'min_isdebitcard_527L_col_applprev_1', 'min_isdebitcard_527L_null_applprev_1', 'min_isreference_387L', 'min_mainoccupationinc_384A', 'min_mainoccupationinc_437A_null_applprev_1', 'min_maritalst_703L', 'min_maxdpdtolerance_577P_null_applprev_1', 'min_outstandingdebt_522A_null_applprev_1', 'min_pmtnum_8L_null_applprev_1', 'min_prolongationcount_599L', 'min_revolvingaccount_394A_cal_applprev_1', 'min_revolvingaccount_394A_col_applprev_1', 'min_revolvingaccount_394A_null_applprev_1', 'min_role_993L', 'min_safeguarantyflag_411L', 'min_sex_738L', 'min_status_219L_null_applprev_1', 'min_tenor_203L_null_applprev_1', 'mode_credacc_status_367L_cal_applprev_1', 'mode_credacc_status_367L_null_applprev_1', 'mode_credacc_status_367L_rel_applprev_1', 'mode_credtype_587L_null_applprev_1', 'mode_empl_employedtotal_800L', 'mode_empl_industry_691L', 'mode_familystate_447L', 'mode_familystate_726L_null_applprev_1', 'mode_gender_992L', 'mode_housetype_905L', 'mode_housingtype_772L', 'mode_incometype_1044T', 'mode_inittransactioncode_279L_null_applprev_1', 'mode_maritalst_703L', 'mode_role_993L', 'mode_sex_738L', 'mode_status_219L_null_applprev_1', 'n_unique_credacc_status_367L_null_applprev_1', 'n_unique_credtype_587L_null_applprev_1', 'n_unique_familystate_726L_null_applprev_1', 'n_unique_inittransactioncode_279L_null_applprev_1', 'n_unique_status_219L_null_applprev_1', 'payvacationpostpone_4187118D', 'personindex_1023L', 'persontype_1072L', 'persontype_792L', 'pmtaverage_4955615A', 'pmtcount_4955617L', 'relationshiptoclient_415T', 'relationshiptoclient_642T', 'remitter_829L', 'riskassesment_940T']\n",
      "Create 127 new date diff columns, with base_column=date_decision\n",
      "Create 204 new columns as money feature fraction with base 'credamount_770A'\n",
      "Create 204 new columns as money feature fraction with base 'mainoccupationinc_384A'\n",
      "Drop 1 columns as single value\n",
      "Drop 2 columns as variable enum value\n"
     ]
    },
    {
     "data": {
      "text/plain": [
       "0"
      ]
     },
     "execution_count": 6,
     "metadata": {},
     "output_type": "execute_result"
    }
   ],
   "source": [
    "train_dataset_generator = data_loader.load_train_dataset(chunk_size=100000)\n",
    "gc.collect()\n",
    "train_df, columns_info = preprocessor.process_train_dataset(train_dataset_generator)\n",
    "del train_dataset_generator\n",
    "gc.collect()"
   ]
  },
  {
   "cell_type": "code",
   "execution_count": 7,
   "id": "3f5b0d2a",
   "metadata": {
    "execution": {
     "iopub.execute_input": "2024-04-26T17:01:02.592814Z",
     "iopub.status.busy": "2024-04-26T17:01:02.592427Z",
     "iopub.status.idle": "2024-04-26T17:01:51.752249Z",
     "shell.execute_reply": "2024-04-26T17:01:51.751199Z"
    },
    "papermill": {
     "duration": 49.179399,
     "end_time": "2024-04-26T17:01:51.762397",
     "exception": false,
     "start_time": "2024-04-26T17:01:02.582998",
     "status": "completed"
    },
    "tags": []
   },
   "outputs": [
    {
     "name": "stdout",
     "output_type": "stream",
     "text": [
      "7971.865206718445\n",
      "shape: (1_526_659, 1_433)\n",
      "┌────────┬──────────┬────────────┬────────────┬───┬────────────┬───────────┬───────────┬───────────┐\n",
      "│ MONTH  ┆ WEEK_NUM ┆ actualdpdt ┆ amtinstpai ┆ … ┆ sumoutstan ┆ totaldebt ┆ totalsett ┆ totinstal │\n",
      "│ ---    ┆ ---      ┆ olerance_3 ┆ dbefduel24 ┆   ┆ dtotalest_ ┆ _9A/maino ┆ led_863A/ ┆ last1m_45 │\n",
      "│ i32    ┆ i16      ┆ 44P        ┆ m_4187115A ┆   ┆ 4493215A/m ┆ ccupation ┆ mainoccup ┆ 25188A/ma │\n",
      "│        ┆          ┆ ---        ┆ ---        ┆   ┆ ai…        ┆ inc_3…    ┆ ation…    ┆ inocc…    │\n",
      "│        ┆          ┆ f32        ┆ f32        ┆   ┆ ---        ┆ ---       ┆ ---       ┆ ---       │\n",
      "│        ┆          ┆            ┆            ┆   ┆ f32        ┆ f32       ┆ f32       ┆ f32       │\n",
      "╞════════╪══════════╪════════════╪════════════╪═══╪════════════╪═══════════╪═══════════╪═══════════╡\n",
      "│ 201901 ┆ 0        ┆ null       ┆ null       ┆ … ┆ null       ┆ 0.0       ┆ 0.0       ┆ null      │\n",
      "│ 201901 ┆ 0        ┆ null       ┆ null       ┆ … ┆ null       ┆ 0.0       ┆ 0.0       ┆ null      │\n",
      "│ 201901 ┆ 0        ┆ null       ┆ null       ┆ … ┆ null       ┆ 0.0       ┆ 0.0       ┆ null      │\n",
      "│ 201901 ┆ 0        ┆ null       ┆ null       ┆ … ┆ null       ┆ 0.0       ┆ 0.0       ┆ null      │\n",
      "│ 201901 ┆ 0        ┆ null       ┆ null       ┆ … ┆ null       ┆ 0.0       ┆ 0.0       ┆ null      │\n",
      "│ …      ┆ …        ┆ …          ┆ …          ┆ … ┆ …          ┆ …         ┆ …         ┆ …         │\n",
      "│ 202010 ┆ 91       ┆ 0.0        ┆ 176561.359 ┆ … ┆ 0.0        ┆ 0.0       ┆ 10.703991 ┆ 0.358658  │\n",
      "│        ┆          ┆            ┆ 375        ┆   ┆            ┆           ┆           ┆           │\n",
      "│ 202010 ┆ 91       ┆ 0.0        ┆ 301276.468 ┆ … ┆ 1.8505     ┆ 1.8505    ┆ 19.055634 ┆ 1.100538  │\n",
      "│        ┆          ┆            ┆ 75         ┆   ┆            ┆           ┆           ┆           │\n",
      "│ 202010 ┆ 91       ┆ 0.0        ┆ 14232.4003 ┆ … ┆ 0.0        ┆ 0.0       ┆ 0.800067  ┆ null      │\n",
      "│        ┆          ┆            ┆ 91         ┆   ┆            ┆           ┆           ┆           │\n",
      "│ 202010 ┆ 91       ┆ 0.0        ┆ 197371.578 ┆ … ┆ 1.56022    ┆ 1.56022   ┆ 14.671511 ┆ 0.18848   │\n",
      "│        ┆          ┆            ┆ 125        ┆   ┆            ┆           ┆           ┆           │\n",
      "│ 202010 ┆ 91       ┆ 0.0        ┆ 82949.6015 ┆ … ┆ 0.226376   ┆ 0.150234  ┆ 2.360395  ┆ 0.075807  │\n",
      "│        ┆          ┆            ┆ 62         ┆   ┆            ┆           ┆           ┆           │\n",
      "└────────┴──────────┴────────────┴────────────┴───┴────────────┴───────────┴───────────┴───────────┘\n"
     ]
    },
    {
     "data": {
      "text/plain": [
       "0"
      ]
     },
     "execution_count": 7,
     "metadata": {},
     "output_type": "execute_result"
    }
   ],
   "source": [
    "train_df.write_parquet(env.output_directory / \"train_df.parquet\")\n",
    "pickle.dump(columns_info, open(env.output_directory / \"columns_info.pkl\", \"wb\"))\n",
    "print(train_df.estimated_size() / 1024 / 1024)\n",
    "print(train_df)\n",
    "\n",
    "del train_df\n",
    "gc.collect()"
   ]
  },
  {
   "cell_type": "code",
   "execution_count": 8,
   "id": "4387d678",
   "metadata": {
    "execution": {
     "iopub.execute_input": "2024-04-26T17:01:51.780731Z",
     "iopub.status.busy": "2024-04-26T17:01:51.779951Z",
     "iopub.status.idle": "2024-04-26T17:02:05.395311Z",
     "shell.execute_reply": "2024-04-26T17:02:05.394216Z"
    },
    "papermill": {
     "duration": 13.626948,
     "end_time": "2024-04-26T17:02:05.397651",
     "exception": false,
     "start_time": "2024-04-26T17:01:51.770703",
     "status": "completed"
    },
    "tags": []
   },
   "outputs": [
    {
     "name": "stdout",
     "output_type": "stream",
     "text": [
      "Generate 901 columns as aggregates\n",
      "Create 127 new date diff columns, with base_column=date_decision\n",
      "Create 204 new columns as money feature fraction with base 'credamount_770A'\n",
      "Create 204 new columns as money feature fraction with base 'mainoccupationinc_384A'\n"
     ]
    },
    {
     "data": {
      "text/plain": [
       "0"
      ]
     },
     "execution_count": 8,
     "metadata": {},
     "output_type": "execute_result"
    }
   ],
   "source": [
    "test_dataset_generator = data_loader.load_test_dataset(chunk_size=100000)\n",
    "gc.collect()\n",
    "test_df, columns_info = preprocessor.process_test_dataset(test_dataset_generator)\n",
    "del test_dataset_generator\n",
    "gc.collect()"
   ]
  },
  {
   "cell_type": "code",
   "execution_count": 9,
   "id": "601785c2",
   "metadata": {
    "execution": {
     "iopub.execute_input": "2024-04-26T17:02:05.417771Z",
     "iopub.status.busy": "2024-04-26T17:02:05.417345Z",
     "iopub.status.idle": "2024-04-26T17:02:05.962070Z",
     "shell.execute_reply": "2024-04-26T17:02:05.960219Z"
    },
    "papermill": {
     "duration": 0.557843,
     "end_time": "2024-04-26T17:02:05.964475",
     "exception": false,
     "start_time": "2024-04-26T17:02:05.406632",
     "status": "completed"
    },
    "tags": []
   },
   "outputs": [
    {
     "name": "stdout",
     "output_type": "stream",
     "text": [
      "0.1262683868408203\n",
      "shape: (10, 1_432)\n",
      "┌────────┬──────────┬────────────┬────────────┬───┬────────────┬───────────┬───────────┬───────────┐\n",
      "│ MONTH  ┆ WEEK_NUM ┆ actualdpdt ┆ amtinstpai ┆ … ┆ sumoutstan ┆ totaldebt ┆ totalsett ┆ totinstal │\n",
      "│ ---    ┆ ---      ┆ olerance_3 ┆ dbefduel24 ┆   ┆ dtotalest_ ┆ _9A/maino ┆ led_863A/ ┆ last1m_45 │\n",
      "│ i32    ┆ i16      ┆ 44P        ┆ m_4187115A ┆   ┆ 4493215A/m ┆ ccupation ┆ mainoccup ┆ 25188A/ma │\n",
      "│        ┆          ┆ ---        ┆ ---        ┆   ┆ ai…        ┆ inc_3…    ┆ ation…    ┆ inocc…    │\n",
      "│        ┆          ┆ f32        ┆ f32        ┆   ┆ ---        ┆ ---       ┆ ---       ┆ ---       │\n",
      "│        ┆          ┆            ┆            ┆   ┆ f32        ┆ f32       ┆ f32       ┆ f32       │\n",
      "╞════════╪══════════╪════════════╪════════════╪═══╪════════════╪═══════════╪═══════════╪═══════════╡\n",
      "│ 202201 ┆ 100      ┆ 0.0        ┆ 191767.359 ┆ … ┆ 0.357482   ┆ 0.357482  ┆ 13.41268  ┆ 0.525282  │\n",
      "│        ┆          ┆            ┆ 375        ┆   ┆            ┆           ┆           ┆           │\n",
      "│ 202201 ┆ 100      ┆ 0.0        ┆ 129704.398 ┆ … ┆ 0.213618   ┆ 0.213618  ┆ 7.504435  ┆ 2.531285  │\n",
      "│        ┆          ┆            ┆ 438        ┆   ┆            ┆           ┆           ┆           │\n",
      "│ 202201 ┆ 100      ┆ 0.0        ┆ 71036.3984 ┆ … ┆ 0.0        ┆ 0.0       ┆ 1.262064  ┆ null      │\n",
      "│        ┆          ┆            ┆ 38         ┆   ┆            ┆           ┆           ┆           │\n",
      "│ 202201 ┆ 100      ┆ 0.0        ┆ 183992.0   ┆ … ┆ 1.707764   ┆ 1.707764  ┆ 2.537616  ┆ 0.168652  │\n",
      "│ 202201 ┆ 100      ┆ 0.0        ┆ 0.0        ┆ … ┆ 0.0        ┆ 0.0       ┆ 1.643938  ┆ null      │\n",
      "│ 202201 ┆ 100      ┆ 0.0        ┆ 0.0        ┆ … ┆ 0.0        ┆ 0.0       ┆ 0.161293  ┆ null      │\n",
      "│ 202201 ┆ 100      ┆ 0.0        ┆ null       ┆ … ┆ null       ┆ null      ┆ null      ┆ null      │\n",
      "│ 202201 ┆ 100      ┆ 0.0        ┆ 63647.4023 ┆ … ┆ null       ┆ null      ┆ null      ┆ null      │\n",
      "│        ┆          ┆            ┆ 44         ┆   ┆            ┆           ┆           ┆           │\n",
      "│ 202201 ┆ 100      ┆ 0.0        ┆ null       ┆ … ┆ null       ┆ null      ┆ null      ┆ null      │\n",
      "│ 202201 ┆ 100      ┆ 0.0        ┆ 39948.8007 ┆ … ┆ null       ┆ null      ┆ null      ┆ null      │\n",
      "│        ┆          ┆            ┆ 81         ┆   ┆            ┆           ┆           ┆           │\n",
      "└────────┴──────────┴────────────┴────────────┴───┴────────────┴───────────┴───────────┴───────────┘\n"
     ]
    },
    {
     "data": {
      "text/plain": [
       "0"
      ]
     },
     "execution_count": 9,
     "metadata": {},
     "output_type": "execute_result"
    }
   ],
   "source": [
    "test_df.write_parquet(env.output_directory / \"test_df.parquet\")\n",
    "print(test_df.estimated_size() / 1024 / 1024)\n",
    "print(test_df)\n",
    "\n",
    "del test_df\n",
    "gc.collect()"
   ]
  }
 ],
 "metadata": {
  "kaggle": {
   "accelerator": "none",
   "dataSources": [
    {
     "databundleVersionId": 7921029,
     "sourceId": 50160,
     "sourceType": "competition"
    },
    {
     "datasetId": 4832722,
     "sourceId": 8166831,
     "sourceType": "datasetVersion"
    },
    {
     "datasetId": 4496896,
     "sourceId": 8234779,
     "sourceType": "datasetVersion"
    }
   ],
   "dockerImageVersionId": 30635,
   "isGpuEnabled": false,
   "isInternetEnabled": false,
   "language": "python",
   "sourceType": "notebook"
  },
  "kernelspec": {
   "display_name": "Python 3",
   "language": "python",
   "name": "python3"
  },
  "language_info": {
   "codemirror_mode": {
    "name": "ipython",
    "version": 3
   },
   "file_extension": ".py",
   "mimetype": "text/x-python",
   "name": "python",
   "nbconvert_exporter": "python",
   "pygments_lexer": "ipython3",
   "version": "3.10.12"
  },
  "papermill": {
   "default_parameters": {},
   "duration": 2237.841956,
   "end_time": "2024-04-26T17:02:07.001585",
   "environment_variables": {},
   "exception": null,
   "input_path": "__notebook__.ipynb",
   "output_path": "__notebook__.ipynb",
   "parameters": {},
   "start_time": "2024-04-26T16:24:49.159629",
   "version": "2.4.0"
  }
 },
 "nbformat": 4,
 "nbformat_minor": 5
}
