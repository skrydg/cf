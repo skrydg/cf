{
 "cells": [
  {
   "cell_type": "markdown",
   "id": "b100b169",
   "metadata": {
    "papermill": {
     "duration": 0.012404,
     "end_time": "2024-03-11T19:43:26.984730",
     "exception": false,
     "start_time": "2024-03-11T19:43:26.972326",
     "status": "completed"
    },
    "tags": []
   },
   "source": [
    "# Install packages"
   ]
  },
  {
   "cell_type": "code",
   "execution_count": 1,
   "id": "f8042e3d",
   "metadata": {
    "execution": {
     "iopub.execute_input": "2024-03-11T19:43:27.012391Z",
     "iopub.status.busy": "2024-03-11T19:43:27.011178Z",
     "iopub.status.idle": "2024-03-11T19:44:00.890488Z",
     "shell.execute_reply": "2024-03-11T19:44:00.889147Z"
    },
    "papermill": {
     "duration": 33.895881,
     "end_time": "2024-03-11T19:44:00.893602",
     "exception": false,
     "start_time": "2024-03-11T19:43:26.997721",
     "status": "completed"
    },
    "tags": []
   },
   "outputs": [
    {
     "name": "stdout",
     "output_type": "stream",
     "text": [
      "Processing /kaggle/input/kaggle-home-credit-risk-model-stability-lib/kaggle_home_credit_risk_model_stability-0.3-py3-none-any.whl\r\n",
      "Installing collected packages: kaggle-home-credit-risk-model-stability\r\n",
      "Successfully installed kaggle-home-credit-risk-model-stability-0.3\r\n"
     ]
    }
   ],
   "source": [
    "!pip install /kaggle/input/kaggle-home-credit-risk-model-stability-lib/kaggle_home_credit_risk_model_stability-0.3-py3-none-any.whl --force-reinstall"
   ]
  },
  {
   "cell_type": "markdown",
   "id": "53613aba",
   "metadata": {
    "papermill": {
     "duration": 0.013542,
     "end_time": "2024-03-11T19:44:00.921604",
     "exception": false,
     "start_time": "2024-03-11T19:44:00.908062",
     "status": "completed"
    },
    "tags": []
   },
   "source": [
    "# Import packages"
   ]
  },
  {
   "cell_type": "code",
   "execution_count": 2,
   "id": "a09ffaa1",
   "metadata": {
    "execution": {
     "iopub.execute_input": "2024-03-11T19:44:00.953916Z",
     "iopub.status.busy": "2024-03-11T19:44:00.953373Z",
     "iopub.status.idle": "2024-03-11T19:44:05.849518Z",
     "shell.execute_reply": "2024-03-11T19:44:05.847852Z"
    },
    "papermill": {
     "duration": 4.916755,
     "end_time": "2024-03-11T19:44:05.852712",
     "exception": false,
     "start_time": "2024-03-11T19:44:00.935957",
     "status": "completed"
    },
    "tags": []
   },
   "outputs": [],
   "source": [
    "import polars as pl\n",
    "import gc\n",
    "import time\n",
    "import numpy as np\n",
    "import pandas as pd\n",
    "import lightgbm as lgb\n",
    "import seaborn as sns\n",
    "import matplotlib.pyplot as plt\n",
    "import copy\n",
    "import lightgbm as lgb\n",
    "import importlib\n",
    "\n",
    "import kaggle_home_credit_risk_model_stability.libs as hcr\n",
    "from kaggle_home_credit_risk_model_stability.libs.input.dataset import Dataset\n",
    "from kaggle_home_credit_risk_model_stability.libs.input.data_loader import DataLoader\n",
    "from kaggle_home_credit_risk_model_stability.libs.preprocessor.preprocessor import Preprocessor\n",
    "from kaggle_home_credit_risk_model_stability.libs.preprocessor.steps import *\n",
    "from kaggle_home_credit_risk_model_stability.libs.preprocessor.columns_info import ColumnsInfo\n",
    "from kaggle_home_credit_risk_model_stability.libs.feature_description.feature_description import FreatureDescriptionGetter\n",
    "\n",
    "from collections import defaultdict\n",
    "from glob import glob\n",
    "from pathlib import Path\n",
    "from sklearn.model_selection import train_test_split\n",
    "from sklearn.metrics import roc_auc_score\n",
    "from sklearn.model_selection import StratifiedGroupKFold\n",
    "from sklearn.base import BaseEstimator, RegressorMixin\n",
    "from catboost import CatBoostClassifier\n",
    "from enum import Enum"
   ]
  },
  {
   "cell_type": "code",
   "execution_count": 3,
   "id": "084c0d5c",
   "metadata": {
    "execution": {
     "iopub.execute_input": "2024-03-11T19:44:05.882538Z",
     "iopub.status.busy": "2024-03-11T19:44:05.882039Z",
     "iopub.status.idle": "2024-03-11T19:44:05.891109Z",
     "shell.execute_reply": "2024-03-11T19:44:05.889569Z"
    },
    "papermill": {
     "duration": 0.027388,
     "end_time": "2024-03-11T19:44:05.893924",
     "exception": false,
     "start_time": "2024-03-11T19:44:05.866536",
     "status": "completed"
    },
    "tags": []
   },
   "outputs": [],
   "source": [
    "data_loader = DataLoader()\n",
    "preprocessor = Preprocessor({\n",
    "    \"set_column_info_step\": SetColumnsInfoStep(),\n",
    "    \"set_types\": SetTypesStep(),\n",
    "    \"process_categorical\": ProcessCategoricalStep(),\n",
    "    \"process_person_table\": ProcessPersonTableStep(),\n",
    "    \"one_hot_encoding_for_depth1\": OneHotEncodingForDepth1Step(),\n",
    "    \"pairwise_diff_raw_dates\": PairwiseDateDiffStep(),\n",
    "    \"aggregate_depth_table\": AggregateDepthTableStep(),\n",
    "    \"drop_equal_columns\": DropEqualColumnsStep(),\n",
    "    \"drop_almost_null_features_respect_to_target\": DropAlmostNullFeaturesWithRespectToTargetStep(),\n",
    "    \"join_table\": JoinTablesStep(),\n",
    "    \"generate_age_feature\": GenerateAgeFeatureStep(),\n",
    "    \"fill_nulls_in_categorical_features\": FillNullsInCategoricalFeaturesStep(),\n",
    "    **{\n",
    "        f\"create_money_feature_fraction_{base_column}\": CreateMoneyFeatureFractionStep(base_column)\n",
    "        for base_column in [\"credamount_770A\", \"maininc_215A\", \"mainoccupationinc_384A\", \"mean_amount_416A\"]\n",
    "    },\n",
    "    \"generate_mismatch_features\": GenerateMismatchFeaturesStep(),\n",
    "    \"generate_target_distribution_based_on_categorical_features_step\": GenerateTargetDistributionBasedOnCategoricalStep(),\n",
    "    \"drop_single_value_features\": DropSingleValueFeaturesStep(),\n",
    "    \"drop_variable_enum_features\": DropVariableEnumFeaturesStep(),\n",
    "    \"reduce_memory_usage\": ReduceMemoryUsageStep()\n",
    "})\n",
    "columns_info = ColumnsInfo()"
   ]
  },
  {
   "cell_type": "code",
   "execution_count": null,
   "id": "40ac1d50",
   "metadata": {
    "papermill": {
     "duration": 0.012754,
     "end_time": "2024-03-11T19:44:05.920331",
     "exception": false,
     "start_time": "2024-03-11T19:44:05.907577",
     "status": "completed"
    },
    "tags": []
   },
   "outputs": [],
   "source": []
  },
  {
   "cell_type": "code",
   "execution_count": 4,
   "id": "0da120a9",
   "metadata": {
    "execution": {
     "iopub.execute_input": "2024-03-11T19:44:05.948626Z",
     "iopub.status.busy": "2024-03-11T19:44:05.947716Z",
     "iopub.status.idle": "2024-03-11T19:44:05.952826Z",
     "shell.execute_reply": "2024-03-11T19:44:05.952014Z"
    },
    "papermill": {
     "duration": 0.022008,
     "end_time": "2024-03-11T19:44:05.955142",
     "exception": false,
     "start_time": "2024-03-11T19:44:05.933134",
     "status": "completed"
    },
    "tags": []
   },
   "outputs": [],
   "source": [
    "# train_dataset = data_loader.load_train_dataset()\n",
    "# case_id_set = train_dataset.get_base().filter(train_dataset.get_base()[\"WEEK_NUM\"] < 10)[\"case_id\"]\n",
    "# train_dataset = train_dataset.filter(lambda table: table.filter(pl.col(\"case_id\").is_in(case_id_set)))"
   ]
  },
  {
   "cell_type": "code",
   "execution_count": 5,
   "id": "38e26ab5",
   "metadata": {
    "execution": {
     "iopub.execute_input": "2024-03-11T19:44:05.985519Z",
     "iopub.status.busy": "2024-03-11T19:44:05.984517Z",
     "iopub.status.idle": "2024-03-11T19:57:55.905134Z",
     "shell.execute_reply": "2024-03-11T19:57:55.904011Z"
    },
    "papermill": {
     "duration": 829.939011,
     "end_time": "2024-03-11T19:57:55.907946",
     "exception": false,
     "start_time": "2024-03-11T19:44:05.968935",
     "status": "completed"
    },
    "tags": []
   },
   "outputs": [
    {
     "name": "stdout",
     "output_type": "stream",
     "text": [
      "Train dataset week range: 0-91\n",
      "Step: set_column_info_step, execution_time: 0.11097264289855957\n",
      "Step: set_types, execution_time: 12.105706930160522\n",
      "Step: process_categorical, execution_time: 26.65032649040222\n",
      "Step: process_person_table, execution_time: 0.39301204681396484\n",
      "Create 250 new columns as one hot encoding\n",
      "Step: one_hot_encoding_for_depth1, execution_time: 22.809534788131714\n",
      "Create 172 new columns as pairwise dates diff\n",
      "Step: pairwise_diff_raw_dates, execution_time: 1.3591768741607666\n",
      "Step: aggregate_depth_table, execution_time: 50.70146894454956\n",
      "Drop 310 columns as duplicates\n",
      "Step: drop_equal_columns, execution_time: 6.864408016204834\n",
      "Drop 534 columns as almost null\n",
      "Step: drop_almost_null_features_respect_to_target, execution_time: 489.048068523407\n",
      "Step: join_table, execution_time: 14.60573673248291\n",
      "Step: generate_age_feature, execution_time: 0.18535256385803223\n",
      "Step: fill_nulls_in_categorical_features, execution_time: 15.691710710525513\n",
      "Create 124 new columns as money feature fraction with base 'credamount_770A'\n",
      "Step: create_money_feature_fraction_credamount_770A, execution_time: 5.544533729553223\n",
      "Create 124 new columns as money feature fraction with base 'maininc_215A'\n",
      "Step: create_money_feature_fraction_maininc_215A, execution_time: 8.234513998031616\n",
      "Create 124 new columns as money feature fraction with base 'mainoccupationinc_384A'\n",
      "Step: create_money_feature_fraction_mainoccupationinc_384A, execution_time: 5.5622828006744385\n",
      "Create 124 new columns as money feature fraction with base 'mean_amount_416A'\n",
      "Step: create_money_feature_fraction_mean_amount_416A, execution_time: 8.238958835601807\n",
      "Create 60 new columns as feature mismatch\n",
      "Step: generate_mismatch_features, execution_time: 45.588722229003906\n",
      "Create 208 as target distribution by categorical feature\n",
      "Step: generate_target_distribution_based_on_categorical_features_step, execution_time: 30.953187465667725\n",
      "Drop 18 columns as single value\n",
      "Step: drop_single_value_features, execution_time: 51.15965414047241\n",
      "Drop 18 columns as variable enum value\n",
      "Step: drop_variable_enum_features, execution_time: 1.9842615127563477\n",
      "Step: reduce_memory_usage, execution_time: 18.24243187904358\n"
     ]
    },
    {
     "data": {
      "text/plain": [
       "0"
      ]
     },
     "execution_count": 5,
     "metadata": {},
     "output_type": "execute_result"
    }
   ],
   "source": [
    "train_dataset = data_loader.load_train_dataset()\n",
    "print(\"Train dataset week range: {}-{}\".format(train_dataset.get_base()[\"WEEK_NUM\"].min(), train_dataset.get_base()[\"WEEK_NUM\"].max()))\n",
    "gc.collect()\n",
    "train_df, columns_info = preprocessor.process_train_dataset(train_dataset, columns_info)\n",
    "del train_dataset\n",
    "\n",
    "gc.collect()"
   ]
  },
  {
   "cell_type": "code",
   "execution_count": 6,
   "id": "ca046775",
   "metadata": {
    "execution": {
     "iopub.execute_input": "2024-03-11T19:57:55.937813Z",
     "iopub.status.busy": "2024-03-11T19:57:55.937391Z",
     "iopub.status.idle": "2024-03-11T19:58:01.062754Z",
     "shell.execute_reply": "2024-03-11T19:58:01.058376Z"
    },
    "papermill": {
     "duration": 5.148844,
     "end_time": "2024-03-11T19:58:01.070693",
     "exception": false,
     "start_time": "2024-03-11T19:57:55.921849",
     "status": "completed"
    },
    "tags": []
   },
   "outputs": [],
   "source": [
    "for column in train_df.columns:\n",
    "    if train_df[column].dtype != pl.Enum:\n",
    "        x = train_df[column].is_infinite().sum() + train_df[column].is_nan().sum()\n",
    "        assert(x == 0)"
   ]
  },
  {
   "cell_type": "code",
   "execution_count": 7,
   "id": "ac972ab9",
   "metadata": {
    "execution": {
     "iopub.execute_input": "2024-03-11T19:58:01.113372Z",
     "iopub.status.busy": "2024-03-11T19:58:01.112295Z",
     "iopub.status.idle": "2024-03-11T19:59:07.078976Z",
     "shell.execute_reply": "2024-03-11T19:59:07.077517Z"
    },
    "papermill": {
     "duration": 66.005985,
     "end_time": "2024-03-11T19:59:07.097803",
     "exception": false,
     "start_time": "2024-03-11T19:58:01.091818",
     "status": "completed"
    },
    "tags": []
   },
   "outputs": [
    {
     "name": "stdout",
     "output_type": "stream",
     "text": [
      "8769.562691688538\n",
      "shape: (1_526_659, 1_704)\n",
      "┌─────────┬────────────┬────────┬──────────┬───┬────────────┬────────────┬────────────┬────────────┐\n",
      "│ case_id ┆ date_decis ┆ MONTH  ┆ WEEK_NUM ┆ … ┆ last_type_ ┆ last_type_ ┆ age_bucket ┆ age_bucket │\n",
      "│ ---     ┆ ion        ┆ ---    ┆ ---      ┆   ┆ 25L_target ┆ 25L_value_ ┆ _target_di ┆ _value_per │\n",
      "│ i32     ┆ ---        ┆ i32    ┆ i8       ┆   ┆ _distribut ┆ persent    ┆ stribution ┆ sent       │\n",
      "│         ┆ i16        ┆        ┆          ┆   ┆ io…        ┆ ---        ┆ ---        ┆ ---        │\n",
      "│         ┆            ┆        ┆          ┆   ┆ ---        ┆ f32        ┆ f32        ┆ f32        │\n",
      "│         ┆            ┆        ┆          ┆   ┆ f32        ┆            ┆            ┆            │\n",
      "╞═════════╪════════════╪════════╪══════════╪═══╪════════════╪════════════╪════════════╪════════════╡\n",
      "│ 0       ┆ 17899      ┆ 201901 ┆ 0        ┆ … ┆ 0.033826   ┆ 0.424935   ┆ 0.0344     ┆ 0.255728   │\n",
      "│ 1       ┆ 17899      ┆ 201901 ┆ 0        ┆ … ┆ 0.033826   ┆ 0.424935   ┆ 0.017717   ┆ 0.154987   │\n",
      "│ 2       ┆ 17900      ┆ 201901 ┆ 0        ┆ … ┆ 0.033826   ┆ 0.424935   ┆ 0.030632   ┆ 0.216253   │\n",
      "│ 3       ┆ 17899      ┆ 201901 ┆ 0        ┆ … ┆ 0.033826   ┆ 0.424935   ┆ 0.048363   ┆ 0.176153   │\n",
      "│ …       ┆ …          ┆ …      ┆ …        ┆ … ┆ …          ┆ …          ┆ …          ┆ …          │\n",
      "│ 2703451 ┆ 18540      ┆ 202010 ┆ 91       ┆ … ┆ 0.020385   ┆ 0.02545    ┆ 0.017717   ┆ 0.154987   │\n",
      "│ 2703452 ┆ 18540      ┆ 202010 ┆ 91       ┆ … ┆ 0.03012    ┆ 0.507943   ┆ 0.030632   ┆ 0.216253   │\n",
      "│ 2703453 ┆ 18540      ┆ 202010 ┆ 91       ┆ … ┆ 0.020385   ┆ 0.02545    ┆ 0.020837   ┆ 0.033448   │\n",
      "│ 2703454 ┆ 18540      ┆ 202010 ┆ 91       ┆ … ┆ 0.03012    ┆ 0.507943   ┆ 0.020837   ┆ 0.033448   │\n",
      "└─────────┴────────────┴────────┴──────────┴───┴────────────┴────────────┴────────────┴────────────┘\n"
     ]
    },
    {
     "data": {
      "text/plain": [
       "0"
      ]
     },
     "execution_count": 7,
     "metadata": {},
     "output_type": "execute_result"
    }
   ],
   "source": [
    "train_df.write_parquet(\"/kaggle/working/train_df.parquet\")\n",
    "print(train_df.estimated_size() / 1024 / 1024)\n",
    "print(train_df)\n",
    "\n",
    "del train_df\n",
    "gc.collect()"
   ]
  },
  {
   "cell_type": "code",
   "execution_count": 8,
   "id": "d326f0c4",
   "metadata": {
    "execution": {
     "iopub.execute_input": "2024-03-11T19:59:07.130161Z",
     "iopub.status.busy": "2024-03-11T19:59:07.129737Z",
     "iopub.status.idle": "2024-03-11T19:59:15.624683Z",
     "shell.execute_reply": "2024-03-11T19:59:15.623546Z"
    },
    "papermill": {
     "duration": 8.51368,
     "end_time": "2024-03-11T19:59:15.626851",
     "exception": false,
     "start_time": "2024-03-11T19:59:07.113171",
     "status": "completed"
    },
    "tags": []
   },
   "outputs": [
    {
     "name": "stdout",
     "output_type": "stream",
     "text": [
      "Test dataset week range: 100-100\n",
      "Step: set_column_info_step, execution_time: 0.13901734352111816\n",
      "Step: set_types, execution_time: 0.16632890701293945\n",
      "Step: process_categorical, execution_time: 0.3182241916656494\n",
      "Step: process_person_table, execution_time: 0.13701415061950684\n",
      "Create 250 new columns as one hot encoding\n",
      "Step: one_hot_encoding_for_depth1, execution_time: 0.1650679111480713\n",
      "Create 172 new columns as pairwise dates diff\n",
      "Step: pairwise_diff_raw_dates, execution_time: 0.15552043914794922\n",
      "Step: aggregate_depth_table, execution_time: 0.485698938369751\n",
      "Step: drop_equal_columns, execution_time: 0.5325098037719727\n",
      "Step: drop_almost_null_features_respect_to_target, execution_time: 0.1901848316192627\n",
      "Step: join_table, execution_time: 2.314255475997925\n",
      "Step: generate_age_feature, execution_time: 0.13449621200561523\n",
      "Step: fill_nulls_in_categorical_features, execution_time: 0.6463706493377686\n",
      "Create 124 new columns as money feature fraction with base 'credamount_770A'\n",
      "Step: create_money_feature_fraction_credamount_770A, execution_time: 0.20395207405090332\n",
      "Create 124 new columns as money feature fraction with base 'maininc_215A'\n",
      "Step: create_money_feature_fraction_maininc_215A, execution_time: 0.21588945388793945\n",
      "Create 124 new columns as money feature fraction with base 'mainoccupationinc_384A'\n",
      "Step: create_money_feature_fraction_mainoccupationinc_384A, execution_time: 0.21191835403442383\n",
      "Create 124 new columns as money feature fraction with base 'mean_amount_416A'\n",
      "Step: create_money_feature_fraction_mean_amount_416A, execution_time: 0.2232344150543213\n",
      "Create 60 new columns as feature mismatch\n",
      "Step: generate_mismatch_features, execution_time: 0.16449427604675293\n",
      "Create 208 as target distribution by categorical feature\n",
      "Step: generate_target_distribution_based_on_categorical_features_step, execution_time: 0.3509035110473633\n",
      "Step: drop_single_value_features, execution_time: 0.14159154891967773\n",
      "Step: drop_variable_enum_features, execution_time: 0.143965482711792\n",
      "Step: reduce_memory_usage, execution_time: 1.01177978515625\n"
     ]
    },
    {
     "data": {
      "text/plain": [
       "0"
      ]
     },
     "execution_count": 8,
     "metadata": {},
     "output_type": "execute_result"
    }
   ],
   "source": [
    "test_dataset = data_loader.load_test_dataset()\n",
    "print(\"Test dataset week range: {}-{}\".format(test_dataset.get_base()[\"WEEK_NUM\"].min(), test_dataset.get_base()[\"WEEK_NUM\"].max()))\n",
    "gc.collect()\n",
    "test_df, columns_info = preprocessor.process_test_dataset(test_dataset, columns_info)\n",
    "del test_dataset\n",
    "\n",
    "gc.collect()"
   ]
  },
  {
   "cell_type": "code",
   "execution_count": 9,
   "id": "a221afe7",
   "metadata": {
    "execution": {
     "iopub.execute_input": "2024-03-11T19:59:15.661341Z",
     "iopub.status.busy": "2024-03-11T19:59:15.660229Z",
     "iopub.status.idle": "2024-03-11T19:59:16.245127Z",
     "shell.execute_reply": "2024-03-11T19:59:16.243796Z"
    },
    "papermill": {
     "duration": 0.604334,
     "end_time": "2024-03-11T19:59:16.247497",
     "exception": false,
     "start_time": "2024-03-11T19:59:15.643163",
     "status": "completed"
    },
    "tags": []
   },
   "outputs": [
    {
     "name": "stdout",
     "output_type": "stream",
     "text": [
      "0.2994413375854492\n",
      "shape: (10, 1_703)\n",
      "┌─────────┬────────────┬────────┬──────────┬───┬────────────┬────────────┬────────────┬────────────┐\n",
      "│ case_id ┆ date_decis ┆ MONTH  ┆ WEEK_NUM ┆ … ┆ last_type_ ┆ last_type_ ┆ age_bucket ┆ age_bucket │\n",
      "│ ---     ┆ ion        ┆ ---    ┆ ---      ┆   ┆ 25L_target ┆ 25L_value_ ┆ _target_di ┆ _value_per │\n",
      "│ i32     ┆ ---        ┆ i32    ┆ i8       ┆   ┆ _distribut ┆ persent    ┆ stribution ┆ sent       │\n",
      "│         ┆ i16        ┆        ┆          ┆   ┆ io…        ┆ ---        ┆ ---        ┆ ---        │\n",
      "│         ┆            ┆        ┆          ┆   ┆ ---        ┆ f32        ┆ f32        ┆ f32        │\n",
      "│         ┆            ┆        ┆          ┆   ┆ f32        ┆            ┆            ┆            │\n",
      "╞═════════╪════════════╪════════╪══════════╪═══╪════════════╪════════════╪════════════╪════════════╡\n",
      "│ 57543   ┆ 18761      ┆ 202201 ┆ 100      ┆ … ┆ 0.033826   ┆ 0.424935   ┆ 0.030632   ┆ 0.216253   │\n",
      "│ 57549   ┆ 19009      ┆ 202201 ┆ 100      ┆ … ┆ 0.033826   ┆ 0.424935   ┆ 0.017717   ┆ 0.154987   │\n",
      "│ 57551   ┆ 18593      ┆ 202201 ┆ 100      ┆ … ┆ 0.03012    ┆ 0.507943   ┆ 0.0344     ┆ 0.255728   │\n",
      "│ 57552   ┆ 18593      ┆ 202201 ┆ 100      ┆ … ┆ 0.03012    ┆ 0.507943   ┆ 0.017717   ┆ 0.154987   │\n",
      "│ …       ┆ …          ┆ …      ┆ …        ┆ … ┆ …          ┆ …          ┆ …          ┆ …          │\n",
      "│ 57631   ┆ 19147      ┆ 202201 ┆ 100      ┆ … ┆ 0.03012    ┆ 0.507943   ┆ null       ┆ null       │\n",
      "│ 57632   ┆ 19028      ┆ 202201 ┆ 100      ┆ … ┆ 0.03012    ┆ 0.507943   ┆ null       ┆ null       │\n",
      "│ 57633   ┆ 19017      ┆ 202201 ┆ 100      ┆ … ┆ 0.03012    ┆ 0.507943   ┆ null       ┆ null       │\n",
      "│ 57634   ┆ 18654      ┆ 202201 ┆ 100      ┆ … ┆ 0.03012    ┆ 0.507943   ┆ null       ┆ null       │\n",
      "└─────────┴────────────┴────────┴──────────┴───┴────────────┴────────────┴────────────┴────────────┘\n"
     ]
    },
    {
     "data": {
      "text/plain": [
       "0"
      ]
     },
     "execution_count": 9,
     "metadata": {},
     "output_type": "execute_result"
    }
   ],
   "source": [
    "test_df.write_parquet(\"/kaggle/working/test_df.parquet\")\n",
    "print(test_df.estimated_size() / 1024 / 1024)\n",
    "print(test_df)\n",
    "\n",
    "del test_df\n",
    "gc.collect()"
   ]
  },
  {
   "cell_type": "markdown",
   "id": "b70987c0",
   "metadata": {
    "_kg_hide-input": true,
    "papermill": {
     "duration": 0.015792,
     "end_time": "2024-03-11T19:59:16.279544",
     "exception": false,
     "start_time": "2024-03-11T19:59:16.263752",
     "status": "completed"
    },
    "tags": []
   },
   "source": [
    "# Data visualization"
   ]
  },
  {
   "cell_type": "code",
   "execution_count": null,
   "id": "412006ca",
   "metadata": {
    "papermill": {
     "duration": 0.016958,
     "end_time": "2024-03-11T19:59:16.314092",
     "exception": false,
     "start_time": "2024-03-11T19:59:16.297134",
     "status": "completed"
    },
    "tags": []
   },
   "outputs": [],
   "source": []
  },
  {
   "cell_type": "code",
   "execution_count": 10,
   "id": "0c9e8246",
   "metadata": {
    "execution": {
     "iopub.execute_input": "2024-03-11T19:59:16.350670Z",
     "iopub.status.busy": "2024-03-11T19:59:16.350222Z",
     "iopub.status.idle": "2024-03-11T19:59:16.355034Z",
     "shell.execute_reply": "2024-03-11T19:59:16.353905Z"
    },
    "papermill": {
     "duration": 0.025274,
     "end_time": "2024-03-11T19:59:16.357243",
     "exception": false,
     "start_time": "2024-03-11T19:59:16.331969",
     "status": "completed"
    },
    "tags": []
   },
   "outputs": [],
   "source": [
    "# train_dataset = data_loader.load_train_dataset()"
   ]
  },
  {
   "cell_type": "code",
   "execution_count": 11,
   "id": "cb6b136c",
   "metadata": {
    "execution": {
     "iopub.execute_input": "2024-03-11T19:59:16.392824Z",
     "iopub.status.busy": "2024-03-11T19:59:16.391780Z",
     "iopub.status.idle": "2024-03-11T19:59:16.396625Z",
     "shell.execute_reply": "2024-03-11T19:59:16.395772Z"
    },
    "papermill": {
     "duration": 0.02502,
     "end_time": "2024-03-11T19:59:16.398689",
     "exception": false,
     "start_time": "2024-03-11T19:59:16.373669",
     "status": "completed"
    },
    "tags": []
   },
   "outputs": [],
   "source": [
    "# [column for column in train_df.columns if \"amtdebitincoming_4809443A\" in column]"
   ]
  },
  {
   "cell_type": "code",
   "execution_count": 12,
   "id": "e47de656",
   "metadata": {
    "execution": {
     "iopub.execute_input": "2024-03-11T19:59:16.435057Z",
     "iopub.status.busy": "2024-03-11T19:59:16.434675Z",
     "iopub.status.idle": "2024-03-11T19:59:16.439802Z",
     "shell.execute_reply": "2024-03-11T19:59:16.438418Z"
    },
    "papermill": {
     "duration": 0.026382,
     "end_time": "2024-03-11T19:59:16.442146",
     "exception": false,
     "start_time": "2024-03-11T19:59:16.415764",
     "status": "completed"
    },
    "tags": []
   },
   "outputs": [],
   "source": [
    "# train_dataset.get_base()[\"target\"].mean()"
   ]
  },
  {
   "cell_type": "code",
   "execution_count": 13,
   "id": "c7a88117",
   "metadata": {
    "execution": {
     "iopub.execute_input": "2024-03-11T19:59:16.477353Z",
     "iopub.status.busy": "2024-03-11T19:59:16.476964Z",
     "iopub.status.idle": "2024-03-11T19:59:16.481725Z",
     "shell.execute_reply": "2024-03-11T19:59:16.480694Z"
    },
    "papermill": {
     "duration": 0.024934,
     "end_time": "2024-03-11T19:59:16.483885",
     "exception": false,
     "start_time": "2024-03-11T19:59:16.458951",
     "status": "completed"
    },
    "tags": []
   },
   "outputs": [],
   "source": [
    "# tables = {name: table for name, table in train_dataset.get_depth_tables(1)}"
   ]
  },
  {
   "cell_type": "code",
   "execution_count": 14,
   "id": "3101efb3",
   "metadata": {
    "execution": {
     "iopub.execute_input": "2024-03-11T19:59:16.519375Z",
     "iopub.status.busy": "2024-03-11T19:59:16.519009Z",
     "iopub.status.idle": "2024-03-11T19:59:16.523188Z",
     "shell.execute_reply": "2024-03-11T19:59:16.522056Z"
    },
    "papermill": {
     "duration": 0.02452,
     "end_time": "2024-03-11T19:59:16.525280",
     "exception": false,
     "start_time": "2024-03-11T19:59:16.500760",
     "status": "completed"
    },
    "tags": []
   },
   "outputs": [],
   "source": [
    "# applprev_1 = tables[\"applprev_1\"]"
   ]
  },
  {
   "cell_type": "code",
   "execution_count": 15,
   "id": "e7194406",
   "metadata": {
    "execution": {
     "iopub.execute_input": "2024-03-11T19:59:16.561392Z",
     "iopub.status.busy": "2024-03-11T19:59:16.560630Z",
     "iopub.status.idle": "2024-03-11T19:59:16.565522Z",
     "shell.execute_reply": "2024-03-11T19:59:16.564439Z"
    },
    "papermill": {
     "duration": 0.025963,
     "end_time": "2024-03-11T19:59:16.568025",
     "exception": false,
     "start_time": "2024-03-11T19:59:16.542062",
     "status": "completed"
    },
    "tags": []
   },
   "outputs": [],
   "source": [
    "# joined = applprev_1[\"case_id\"].value_counts().join(train_dataset.get_base()[[\"case_id\", \"target\"]], on=\"case_id\").sort(\"count\")\n",
    "# joined.filter(pl.col(\"target\") == 1)"
   ]
  },
  {
   "cell_type": "code",
   "execution_count": 16,
   "id": "5f39755f",
   "metadata": {
    "execution": {
     "iopub.execute_input": "2024-03-11T19:59:16.603219Z",
     "iopub.status.busy": "2024-03-11T19:59:16.602818Z",
     "iopub.status.idle": "2024-03-11T19:59:16.607157Z",
     "shell.execute_reply": "2024-03-11T19:59:16.606034Z"
    },
    "papermill": {
     "duration": 0.024209,
     "end_time": "2024-03-11T19:59:16.609468",
     "exception": false,
     "start_time": "2024-03-11T19:59:16.585259",
     "status": "completed"
    },
    "tags": []
   },
   "outputs": [],
   "source": [
    "# base = train_dataset.get_base()"
   ]
  },
  {
   "cell_type": "code",
   "execution_count": 17,
   "id": "10b0d849",
   "metadata": {
    "execution": {
     "iopub.execute_input": "2024-03-11T19:59:16.644379Z",
     "iopub.status.busy": "2024-03-11T19:59:16.643967Z",
     "iopub.status.idle": "2024-03-11T19:59:16.648098Z",
     "shell.execute_reply": "2024-03-11T19:59:16.647058Z"
    },
    "papermill": {
     "duration": 0.023875,
     "end_time": "2024-03-11T19:59:16.649957",
     "exception": false,
     "start_time": "2024-03-11T19:59:16.626082",
     "status": "completed"
    },
    "tags": []
   },
   "outputs": [],
   "source": [
    "# base.filter(pl.col(\"case_id\") == 2702490)"
   ]
  },
  {
   "cell_type": "code",
   "execution_count": 18,
   "id": "1c575c62",
   "metadata": {
    "execution": {
     "iopub.execute_input": "2024-03-11T19:59:16.684819Z",
     "iopub.status.busy": "2024-03-11T19:59:16.684109Z",
     "iopub.status.idle": "2024-03-11T19:59:16.688002Z",
     "shell.execute_reply": "2024-03-11T19:59:16.687008Z"
    },
    "papermill": {
     "duration": 0.023903,
     "end_time": "2024-03-11T19:59:16.690329",
     "exception": false,
     "start_time": "2024-03-11T19:59:16.666426",
     "status": "completed"
    },
    "tags": []
   },
   "outputs": [],
   "source": [
    "# applprev_1.filter(applprev_1[\"case_id\"] == 2702490).sort(\"num_group1\")\n",
    "#base.filter(pl.col(\"case_id\") == 176526)"
   ]
  },
  {
   "cell_type": "code",
   "execution_count": 19,
   "id": "274269bd",
   "metadata": {
    "execution": {
     "iopub.execute_input": "2024-03-11T19:59:16.725860Z",
     "iopub.status.busy": "2024-03-11T19:59:16.725438Z",
     "iopub.status.idle": "2024-03-11T19:59:16.729756Z",
     "shell.execute_reply": "2024-03-11T19:59:16.728871Z"
    },
    "papermill": {
     "duration": 0.025215,
     "end_time": "2024-03-11T19:59:16.731734",
     "exception": false,
     "start_time": "2024-03-11T19:59:16.706519",
     "status": "completed"
    },
    "tags": []
   },
   "outputs": [],
   "source": [
    "# applprev_1.filter(applprev_1[\"case_id\"] == 2702490).sort(\"num_group1\")[[\"credamount_590A\", \"mainoccupationinc_437A\", \"rejectreason_755M\", \"rejectreasonclient_4145042M\"]]\n"
   ]
  },
  {
   "cell_type": "code",
   "execution_count": 20,
   "id": "080f3e2f",
   "metadata": {
    "execution": {
     "iopub.execute_input": "2024-03-11T19:59:16.766470Z",
     "iopub.status.busy": "2024-03-11T19:59:16.765694Z",
     "iopub.status.idle": "2024-03-11T19:59:16.770165Z",
     "shell.execute_reply": "2024-03-11T19:59:16.769342Z"
    },
    "papermill": {
     "duration": 0.024007,
     "end_time": "2024-03-11T19:59:16.772232",
     "exception": false,
     "start_time": "2024-03-11T19:59:16.748225",
     "status": "completed"
    },
    "tags": []
   },
   "outputs": [],
   "source": [
    "# applprev_1.filter(applprev_1[\"case_id\"] == 176526).sort(\"num_group1\")[[\"credamount_590A\", \"mainoccupationinc_437A\", \"rejectreason_755M\", \"rejectreasonclient_4145042M\"]]a"
   ]
  },
  {
   "cell_type": "code",
   "execution_count": 21,
   "id": "33f23cdd",
   "metadata": {
    "execution": {
     "iopub.execute_input": "2024-03-11T19:59:16.808228Z",
     "iopub.status.busy": "2024-03-11T19:59:16.807784Z",
     "iopub.status.idle": "2024-03-11T19:59:16.813094Z",
     "shell.execute_reply": "2024-03-11T19:59:16.811876Z"
    },
    "papermill": {
     "duration": 0.026872,
     "end_time": "2024-03-11T19:59:16.815410",
     "exception": false,
     "start_time": "2024-03-11T19:59:16.788538",
     "status": "completed"
    },
    "tags": []
   },
   "outputs": [],
   "source": [
    "# applprev_1.filter(applprev_1[\"case_id\"] == 176526).sort(\"num_group1\")"
   ]
  },
  {
   "cell_type": "code",
   "execution_count": 22,
   "id": "b4fa7504",
   "metadata": {
    "execution": {
     "iopub.execute_input": "2024-03-11T19:59:16.850545Z",
     "iopub.status.busy": "2024-03-11T19:59:16.850022Z",
     "iopub.status.idle": "2024-03-11T19:59:16.855526Z",
     "shell.execute_reply": "2024-03-11T19:59:16.854263Z"
    },
    "papermill": {
     "duration": 0.02597,
     "end_time": "2024-03-11T19:59:16.857813",
     "exception": false,
     "start_time": "2024-03-11T19:59:16.831843",
     "status": "completed"
    },
    "tags": []
   },
   "outputs": [],
   "source": [
    "# FreatureDescriptionGetter().get(\"rejectreasonclient_4145042M\")"
   ]
  },
  {
   "cell_type": "code",
   "execution_count": 23,
   "id": "bbafd294",
   "metadata": {
    "execution": {
     "iopub.execute_input": "2024-03-11T19:59:16.893180Z",
     "iopub.status.busy": "2024-03-11T19:59:16.892726Z",
     "iopub.status.idle": "2024-03-11T19:59:16.897844Z",
     "shell.execute_reply": "2024-03-11T19:59:16.896813Z"
    },
    "papermill": {
     "duration": 0.025272,
     "end_time": "2024-03-11T19:59:16.899926",
     "exception": false,
     "start_time": "2024-03-11T19:59:16.874654",
     "status": "completed"
    },
    "tags": []
   },
   "outputs": [],
   "source": [
    "# def bucket_mean_split(x, y, buckets=100):\n",
    "#     x_buckets = []\n",
    "#     y_buckets = []\n",
    "\n",
    "#     x = np.array(x)\n",
    "#     y = np.array(y)\n",
    "#     x_quantiles = [np.quantile(x, i / buckets) for i in range(0, buckets + 1)]\n",
    "#     for i in range(0, buckets):\n",
    "#         filter = (x >= x_quantiles[i]) & (x <= x_quantiles[i + 1])\n",
    "#         x_buckets.append(np.mean(x[filter]))\n",
    "#         y_buckets.append(np.mean(y[filter]))\n",
    "#     return x_buckets, y_buckets"
   ]
  },
  {
   "cell_type": "code",
   "execution_count": 24,
   "id": "c9ccb4f8",
   "metadata": {
    "execution": {
     "iopub.execute_input": "2024-03-11T19:59:16.937086Z",
     "iopub.status.busy": "2024-03-11T19:59:16.936090Z",
     "iopub.status.idle": "2024-03-11T19:59:16.940521Z",
     "shell.execute_reply": "2024-03-11T19:59:16.939756Z"
    },
    "papermill": {
     "duration": 0.027074,
     "end_time": "2024-03-11T19:59:16.943254",
     "exception": false,
     "start_time": "2024-03-11T19:59:16.916180",
     "status": "completed"
    },
    "tags": []
   },
   "outputs": [],
   "source": [
    "# train[\"target\"].mean()"
   ]
  },
  {
   "cell_type": "code",
   "execution_count": 25,
   "id": "cf7354d7",
   "metadata": {
    "execution": {
     "iopub.execute_input": "2024-03-11T19:59:16.979703Z",
     "iopub.status.busy": "2024-03-11T19:59:16.978752Z",
     "iopub.status.idle": "2024-03-11T19:59:16.983154Z",
     "shell.execute_reply": "2024-03-11T19:59:16.982410Z"
    },
    "papermill": {
     "duration": 0.025348,
     "end_time": "2024-03-11T19:59:16.985324",
     "exception": false,
     "start_time": "2024-03-11T19:59:16.959976",
     "status": "completed"
    },
    "tags": []
   },
   "outputs": [],
   "source": [
    "# print(\"Mean target={} where actualdpdtolerance_344P != 0\".format(train[\"target\"].filter(train[\"actualdpdtolerance_344P\"] != 0).mean()))\n",
    "# print(\"Mean target={} where actualdpdtolerance_344P == 0\".format(train[\"target\"].filter(train[\"actualdpdtolerance_344P\"] == 0).mean()))\n",
    "# print(\"Mean target={} where actualdpdtolerance_344P is null\".format(train[\"target\"].filter(train[\"actualdpdtolerance_344P\"].is_null()).mean()))"
   ]
  },
  {
   "cell_type": "code",
   "execution_count": 26,
   "id": "de385363",
   "metadata": {
    "execution": {
     "iopub.execute_input": "2024-03-11T19:59:17.021000Z",
     "iopub.status.busy": "2024-03-11T19:59:17.020565Z",
     "iopub.status.idle": "2024-03-11T19:59:17.026185Z",
     "shell.execute_reply": "2024-03-11T19:59:17.025044Z"
    },
    "papermill": {
     "duration": 0.025318,
     "end_time": "2024-03-11T19:59:17.028244",
     "exception": false,
     "start_time": "2024-03-11T19:59:17.002926",
     "status": "completed"
    },
    "tags": []
   },
   "outputs": [],
   "source": [
    "# columns = [column for column in train.columns if (train[column].dtype == pl.Float64)]\n",
    "\n",
    "# figure, axis = plt.subplots(len(columns) // 5 + 1, 5, figsize=(15, 30))\n",
    "# for index, column in enumerate(columns):\n",
    "#     current_plot = axis[index // 5, index % 5]\n",
    "#     x = train[column]\n",
    "#     y = train[\"target\"]\n",
    "#     if (x.dtype == pl.String or x.dtype == pl.Boolean):\n",
    "#         continue\n",
    "#     filter = x.is_not_null()\n",
    "#     x = x.filter(filter)\n",
    "#     y = y.filter(filter)\n",
    "#     if (x.is_empty()):\n",
    "#         continue\n",
    "#     x_bucket, y_bucket = bucket_mean_split(x.to_numpy(), y.to_numpy(), buckets=100)\n",
    "#     current_plot.plot(x_bucket, y_bucket)\n",
    "#     current_plot.set_title(column)\n",
    "# plt.show()"
   ]
  },
  {
   "cell_type": "code",
   "execution_count": 27,
   "id": "785631c4",
   "metadata": {
    "execution": {
     "iopub.execute_input": "2024-03-11T19:59:17.063095Z",
     "iopub.status.busy": "2024-03-11T19:59:17.062674Z",
     "iopub.status.idle": "2024-03-11T19:59:17.067309Z",
     "shell.execute_reply": "2024-03-11T19:59:17.066015Z"
    },
    "papermill": {
     "duration": 0.024819,
     "end_time": "2024-03-11T19:59:17.069729",
     "exception": false,
     "start_time": "2024-03-11T19:59:17.044910",
     "status": "completed"
    },
    "tags": []
   },
   "outputs": [],
   "source": [
    "# features = train_df.columns\n",
    "# features.remove(\"WEEK_NUM\")\n",
    "# features.remove(\"case_id\")\n",
    "# features.remove(\"target\")"
   ]
  },
  {
   "cell_type": "code",
   "execution_count": 28,
   "id": "b72bdbd5",
   "metadata": {
    "execution": {
     "iopub.execute_input": "2024-03-11T19:59:17.105556Z",
     "iopub.status.busy": "2024-03-11T19:59:17.104769Z",
     "iopub.status.idle": "2024-03-11T19:59:17.109413Z",
     "shell.execute_reply": "2024-03-11T19:59:17.108653Z"
    },
    "papermill": {
     "duration": 0.02597,
     "end_time": "2024-03-11T19:59:17.112031",
     "exception": false,
     "start_time": "2024-03-11T19:59:17.086061",
     "status": "completed"
    },
    "tags": []
   },
   "outputs": [],
   "source": [
    "# gc.collect()"
   ]
  },
  {
   "cell_type": "markdown",
   "id": "6e042268",
   "metadata": {
    "papermill": {
     "duration": 0.016047,
     "end_time": "2024-03-11T19:59:17.145391",
     "exception": false,
     "start_time": "2024-03-11T19:59:17.129344",
     "status": "completed"
    },
    "tags": []
   },
   "source": [
    "### Feature Importance"
   ]
  },
  {
   "cell_type": "code",
   "execution_count": 29,
   "id": "6bbdd624",
   "metadata": {
    "execution": {
     "iopub.execute_input": "2024-03-11T19:59:17.180512Z",
     "iopub.status.busy": "2024-03-11T19:59:17.179837Z",
     "iopub.status.idle": "2024-03-11T19:59:17.184925Z",
     "shell.execute_reply": "2024-03-11T19:59:17.184118Z"
    },
    "papermill": {
     "duration": 0.025676,
     "end_time": "2024-03-11T19:59:17.187088",
     "exception": false,
     "start_time": "2024-03-11T19:59:17.161412",
     "status": "completed"
    },
    "tags": []
   },
   "outputs": [],
   "source": [
    "# def train_rf(X, Y):    \n",
    "#     params = {\n",
    "#         \"boosting_type\": \"gbdt\",\n",
    "#         \"objective\": \"binary\",\n",
    "#         \"metric\": \"auc\",\n",
    "#         \"max_depth\": 8,\n",
    "#         \"max_bin\": 255,\n",
    "#         \"learning_rate\": 0.05,\n",
    "#         \"n_estimators\": 200,\n",
    "#         \"colsample_bytree\": 0.8, \n",
    "#         \"colsample_bynode\": 0.8,\n",
    "#         \"verbose\": -1,\n",
    "#         \"random_state\": 42,\n",
    "#         \"device\": \"gpu\",\n",
    "#     }\n",
    "    \n",
    "#     model = lgb.LGBMClassifier(**params)\n",
    "    \n",
    "#     model.fit(X.to_pandas(), Y.to_pandas())\n",
    "    \n",
    "#     # Get feature importances\n",
    "#     return pl.DataFrame({\n",
    "#         \"feature\": list(X.columns),\n",
    "#         \"feature_importance\": model.feature_importances_,\n",
    "#         \"train_score\": roc_auc_score(Y.to_pandas(), model.predict(X.to_pandas()))\n",
    "#     })"
   ]
  },
  {
   "cell_type": "code",
   "execution_count": 30,
   "id": "844fc7d9",
   "metadata": {
    "execution": {
     "iopub.execute_input": "2024-03-11T19:59:17.223121Z",
     "iopub.status.busy": "2024-03-11T19:59:17.222683Z",
     "iopub.status.idle": "2024-03-11T19:59:17.228108Z",
     "shell.execute_reply": "2024-03-11T19:59:17.226984Z"
    },
    "papermill": {
     "duration": 0.027214,
     "end_time": "2024-03-11T19:59:17.230306",
     "exception": false,
     "start_time": "2024-03-11T19:59:17.203092",
     "status": "completed"
    },
    "tags": []
   },
   "outputs": [],
   "source": [
    "# def get_feature_importance(X, Y):\n",
    "#     COUNT_ITER = 50\n",
    "    \n",
    "#     dfs = []\n",
    "#     for i in range(COUNT_ITER):\n",
    "#         gc.collect()\n",
    "        \n",
    "#         start_time = time.time()\n",
    "#         shuffled_Y = Y.clone().sample(fraction=1.0, shuffle=True)\n",
    "#         current_df = train_rf(X, shuffled_Y)\n",
    "#         finish_time = time.time()\n",
    "#         print(f\"Finish iteration: {i + 1}/{COUNT_ITER}, time: {finish_time - start_time}\")\n",
    "#         current_df = current_df.with_columns(pl.lit(i).alias(\"iteration\"))\n",
    "#         dfs.append(current_df)\n",
    "        \n",
    "#     return pl.concat(dfs, rechunk=True), train_rf(X, Y)"
   ]
  },
  {
   "cell_type": "code",
   "execution_count": 31,
   "id": "fcdf43b6",
   "metadata": {
    "execution": {
     "iopub.execute_input": "2024-03-11T19:59:17.264820Z",
     "iopub.status.busy": "2024-03-11T19:59:17.264394Z",
     "iopub.status.idle": "2024-03-11T19:59:17.269178Z",
     "shell.execute_reply": "2024-03-11T19:59:17.267932Z"
    },
    "papermill": {
     "duration": 0.024644,
     "end_time": "2024-03-11T19:59:17.271289",
     "exception": false,
     "start_time": "2024-03-11T19:59:17.246645",
     "status": "completed"
    },
    "tags": []
   },
   "outputs": [],
   "source": [
    "# shuffled_feature_importance_df, feature_importance_df = get_feature_importance(train_df[features], train_df[\"target\"])\n",
    "# shuffled_feature_importance_df.write_csv(\"shuffled_feature_importance_df.csv\", separator=\",\")\n",
    "# feature_importance_df.write_csv(\"feature_importance_df.csv\", separator=\",\")"
   ]
  },
  {
   "cell_type": "code",
   "execution_count": 32,
   "id": "02a6a882",
   "metadata": {
    "execution": {
     "iopub.execute_input": "2024-03-11T19:59:17.308200Z",
     "iopub.status.busy": "2024-03-11T19:59:17.306854Z",
     "iopub.status.idle": "2024-03-11T19:59:17.312818Z",
     "shell.execute_reply": "2024-03-11T19:59:17.311501Z"
    },
    "papermill": {
     "duration": 0.027404,
     "end_time": "2024-03-11T19:59:17.315184",
     "exception": false,
     "start_time": "2024-03-11T19:59:17.287780",
     "status": "completed"
    },
    "tags": []
   },
   "outputs": [],
   "source": [
    "# important_features = []\n",
    "# for column in feature_importance_df[\"feature\"]:\n",
    "#     shuffled_feature_importance = shuffled_feature_importance_df.filter(shuffled_feature_importance_df[\"feature\"] == column)[\"feature_importance\"].to_numpy()\n",
    "#     feature_importance = feature_importance_df.filter(feature_importance_df[\"feature\"] == column)[\"feature_importance\"][0]\n",
    "    \n",
    "#     if (np.percentile(shuffled_feature_importance, 90) <= feature_importance):\n",
    "#         important_features.append(column)\n",
    "# print(len(important_features), important_features)"
   ]
  },
  {
   "cell_type": "markdown",
   "id": "fbeff107",
   "metadata": {
    "papermill": {
     "duration": 0.015944,
     "end_time": "2024-03-11T19:59:17.347256",
     "exception": false,
     "start_time": "2024-03-11T19:59:17.331312",
     "status": "completed"
    },
    "tags": []
   },
   "source": [
    "# Training"
   ]
  },
  {
   "cell_type": "code",
   "execution_count": 33,
   "id": "08cb435e",
   "metadata": {
    "execution": {
     "iopub.execute_input": "2024-03-11T19:59:17.381587Z",
     "iopub.status.busy": "2024-03-11T19:59:17.381114Z",
     "iopub.status.idle": "2024-03-11T19:59:17.387234Z",
     "shell.execute_reply": "2024-03-11T19:59:17.386095Z"
    },
    "papermill": {
     "duration": 0.026251,
     "end_time": "2024-03-11T19:59:17.389962",
     "exception": false,
     "start_time": "2024-03-11T19:59:17.363711",
     "status": "completed"
    },
    "tags": []
   },
   "outputs": [],
   "source": [
    "# class VotingModel(BaseEstimator, RegressorMixin):\n",
    "#     def __init__(self, estimators):\n",
    "#         super().__init__()\n",
    "#         self.estimators = estimators\n",
    "        \n",
    "#     def fit(self, X, y=None):\n",
    "#         return self\n",
    "    \n",
    "#     def predict(self, X):\n",
    "#         y_preds = [estimator.predict(X) for estimator in self.estimators]\n",
    "#         return np.mean(y_preds, axis=0)\n",
    "    \n",
    "#     def predict_proba(self, X):\n",
    "#         y_preds = [estimator.predict_proba(X) for estimator in self.estimators]\n",
    "#         return np.mean(y_preds, axis=0)\n",
    "    \n",
    "#     def get_feature_importance(self):\n",
    "#         feature_importances = np.array([0 for feature in features])\n",
    "\n",
    "#         for model in self.estimators:\n",
    "#             feature_importances += model.feature_importances_\n",
    "\n",
    "#         return feature_importances"
   ]
  },
  {
   "cell_type": "code",
   "execution_count": 34,
   "id": "8ced3388",
   "metadata": {
    "execution": {
     "iopub.execute_input": "2024-03-11T19:59:17.425014Z",
     "iopub.status.busy": "2024-03-11T19:59:17.424211Z",
     "iopub.status.idle": "2024-03-11T19:59:17.429035Z",
     "shell.execute_reply": "2024-03-11T19:59:17.427812Z"
    },
    "papermill": {
     "duration": 0.024969,
     "end_time": "2024-03-11T19:59:17.431236",
     "exception": false,
     "start_time": "2024-03-11T19:59:17.406267",
     "status": "completed"
    },
    "tags": []
   },
   "outputs": [],
   "source": [
    "# for column in features:\n",
    "#     if (train_dataset[column].dtype != pl.Categorical) and \\\n",
    "#         (train_dataset[column].dtype != pl.Float64) and \\\n",
    "#         (train_dataset[column].dtype != pl.Float64):\n",
    "#         print(column, train_dataset[column].dtype)"
   ]
  },
  {
   "cell_type": "code",
   "execution_count": 35,
   "id": "7fe1c8f2",
   "metadata": {
    "execution": {
     "iopub.execute_input": "2024-03-11T19:59:17.465687Z",
     "iopub.status.busy": "2024-03-11T19:59:17.465206Z",
     "iopub.status.idle": "2024-03-11T19:59:17.470237Z",
     "shell.execute_reply": "2024-03-11T19:59:17.469375Z"
    },
    "papermill": {
     "duration": 0.024735,
     "end_time": "2024-03-11T19:59:17.472147",
     "exception": false,
     "start_time": "2024-03-11T19:59:17.447412",
     "status": "completed"
    },
    "tags": []
   },
   "outputs": [],
   "source": [
    "# def train_lgb_model(X_train, Y_train, X_test, Y_test):\n",
    "#     params = {\n",
    "#         \"boosting_type\": \"gbdt\",\n",
    "#         \"objective\": \"binary\",\n",
    "#         \"metric\": \"auc\",\n",
    "#         \"max_depth\": 8,\n",
    "#         \"max_bin\": 250,\n",
    "#         \"learning_rate\": 0.05,\n",
    "#         \"n_estimators\": 1000,\n",
    "#         \"colsample_bytree\": 0.8, \n",
    "#         \"colsample_bynode\": 0.8,\n",
    "#         \"verbose\": -1,\n",
    "#         \"random_state\": 42,\n",
    "#         \"device\": \"gpu\",\n",
    "#     }\n",
    "    \n",
    "#     model = lgb.LGBMClassifier(**params)\n",
    "    \n",
    "#     model.fit(\n",
    "#         X_train, Y_train,\n",
    "#         eval_set=[(X_test, Y_test)],\n",
    "#         callbacks=[lgb.log_evaluation(100), lgb.early_stopping(100)]\n",
    "#     )\n",
    "        \n",
    "#     return model"
   ]
  },
  {
   "cell_type": "code",
   "execution_count": 36,
   "id": "a2d9d83c",
   "metadata": {
    "execution": {
     "iopub.execute_input": "2024-03-11T19:59:17.507482Z",
     "iopub.status.busy": "2024-03-11T19:59:17.506864Z",
     "iopub.status.idle": "2024-03-11T19:59:17.510853Z",
     "shell.execute_reply": "2024-03-11T19:59:17.509835Z"
    },
    "papermill": {
     "duration": 0.023871,
     "end_time": "2024-03-11T19:59:17.512921",
     "exception": false,
     "start_time": "2024-03-11T19:59:17.489050",
     "status": "completed"
    },
    "tags": []
   },
   "outputs": [],
   "source": [
    "# gc.collect()"
   ]
  },
  {
   "cell_type": "code",
   "execution_count": 37,
   "id": "59b8430a",
   "metadata": {
    "execution": {
     "iopub.execute_input": "2024-03-11T19:59:17.547237Z",
     "iopub.status.busy": "2024-03-11T19:59:17.546678Z",
     "iopub.status.idle": "2024-03-11T19:59:17.551500Z",
     "shell.execute_reply": "2024-03-11T19:59:17.550676Z"
    },
    "papermill": {
     "duration": 0.024632,
     "end_time": "2024-03-11T19:59:17.553667",
     "exception": false,
     "start_time": "2024-03-11T19:59:17.529035",
     "status": "completed"
    },
    "tags": []
   },
   "outputs": [],
   "source": [
    "# weeks = train_df[\"WEEK_NUM\"]\n",
    "# cv = StratifiedGroupKFold(n_splits=5, shuffle=False)\n",
    "\n",
    "# fitted_models = []\n",
    "\n",
    "# oof_predicted = np.zeros(train_df.shape[0])\n",
    "\n",
    "# for idx_train, idx_test in cv.split(train_df[features], train_df[\"target\"], groups=weeks):        \n",
    "# #     X_train = train_df[features][idx_train].to_pandas()\n",
    "# #     Y_train = train_df[\"target\"][idx_train].to_pandas()\n",
    "    \n",
    "#     X_test = train_df[features][idx_test].to_pandas()\n",
    "#     Y_test = train_df[\"target\"][idx_test].to_pandas()\n",
    "    \n",
    "#     start = time.time()\n",
    "#     params = {\n",
    "#         \"boosting_type\": \"gbdt\",\n",
    "#         \"objective\": \"binary\",\n",
    "#         \"metric\": \"auc\",\n",
    "#         \"max_depth\": 8,\n",
    "#         \"max_bin\": 250,\n",
    "#         \"learning_rate\": 0.05,\n",
    "#         \"n_estimators\": 1000,\n",
    "#         \"colsample_bytree\": 0.8, \n",
    "#         \"colsample_bynode\": 0.8,\n",
    "#         \"verbose\": -1,\n",
    "#         \"random_state\": 42,\n",
    "#         \"device\": \"gpu\",\n",
    "#     }\n",
    "    \n",
    "#     model = lgb.LGBMClassifier(**params)\n",
    "    \n",
    "#     model.fit(\n",
    "#         train_df[features][idx_train].to_pandas(), train_df[\"target\"][idx_train].to_pandas(),\n",
    "#         eval_set=[(X_test, Y_test)],\n",
    "#         callbacks=[lgb.log_evaluation(100), lgb.early_stopping(100)]\n",
    "#     )\n",
    "        \n",
    "\n",
    "# #    model = train_lgb_model(X_train, Y_train, X_test, Y_test)\n",
    "#     finish = time.time()\n",
    "    \n",
    "#     print(\"fit time: {}\".format(finish - start))\n",
    "#     fitted_models.append(model)\n",
    "    \n",
    "#     test_pred = model.predict_proba(X_test)[:, 1]\n",
    "#     oof_predicted[idx_test] = test_pred\n",
    "#     gc.collect()\n",
    "\n",
    "# model = VotingModel(fitted_models)\n",
    "# gc.collect()"
   ]
  },
  {
   "cell_type": "code",
   "execution_count": 38,
   "id": "04858d9f",
   "metadata": {
    "execution": {
     "iopub.execute_input": "2024-03-11T19:59:17.588467Z",
     "iopub.status.busy": "2024-03-11T19:59:17.587837Z",
     "iopub.status.idle": "2024-03-11T19:59:17.591908Z",
     "shell.execute_reply": "2024-03-11T19:59:17.591036Z"
    },
    "papermill": {
     "duration": 0.023837,
     "end_time": "2024-03-11T19:59:17.593855",
     "exception": false,
     "start_time": "2024-03-11T19:59:17.570018",
     "status": "completed"
    },
    "tags": []
   },
   "outputs": [],
   "source": [
    "# roc_auc_oof = roc_auc_score(train_df[\"target\"], oof_predicted)\n",
    "# print(\"CV roc_auc_oof: \", roc_auc_oof)"
   ]
  },
  {
   "cell_type": "markdown",
   "id": "391c199c",
   "metadata": {
    "papermill": {
     "duration": 0.016184,
     "end_time": "2024-03-11T19:59:17.626151",
     "exception": false,
     "start_time": "2024-03-11T19:59:17.609967",
     "status": "completed"
    },
    "tags": []
   },
   "source": [
    "# Predict"
   ]
  },
  {
   "cell_type": "code",
   "execution_count": 39,
   "id": "b592adc8",
   "metadata": {
    "execution": {
     "iopub.execute_input": "2024-03-11T19:59:17.660046Z",
     "iopub.status.busy": "2024-03-11T19:59:17.659645Z",
     "iopub.status.idle": "2024-03-11T19:59:17.664352Z",
     "shell.execute_reply": "2024-03-11T19:59:17.663332Z"
    },
    "papermill": {
     "duration": 0.024182,
     "end_time": "2024-03-11T19:59:17.666434",
     "exception": false,
     "start_time": "2024-03-11T19:59:17.642252",
     "status": "completed"
    },
    "tags": []
   },
   "outputs": [],
   "source": [
    "# del train_df\n",
    "# gc.collect()"
   ]
  },
  {
   "cell_type": "code",
   "execution_count": 40,
   "id": "895639df",
   "metadata": {
    "execution": {
     "iopub.execute_input": "2024-03-11T19:59:17.701306Z",
     "iopub.status.busy": "2024-03-11T19:59:17.700906Z",
     "iopub.status.idle": "2024-03-11T19:59:17.705129Z",
     "shell.execute_reply": "2024-03-11T19:59:17.704046Z"
    },
    "papermill": {
     "duration": 0.024893,
     "end_time": "2024-03-11T19:59:17.708039",
     "exception": false,
     "start_time": "2024-03-11T19:59:17.683146",
     "status": "completed"
    },
    "tags": []
   },
   "outputs": [],
   "source": [
    "# test_dataset = data_loader.load_test_dataset()\n",
    "# print(\"Test dataset week range: {}-{}\".format(test_dataset.base[\"WEEK_NUM\"].min(), test_dataset.base[\"WEEK_NUM\"].max()))\n",
    "# gc.collect()\n",
    "# test_df = preprocessor.process_test_dataset(test_dataset)\n",
    "# del test_dataset\n",
    "# gc.collect()"
   ]
  },
  {
   "cell_type": "code",
   "execution_count": 41,
   "id": "dfe49d0f",
   "metadata": {
    "execution": {
     "iopub.execute_input": "2024-03-11T19:59:17.744533Z",
     "iopub.status.busy": "2024-03-11T19:59:17.743694Z",
     "iopub.status.idle": "2024-03-11T19:59:17.748745Z",
     "shell.execute_reply": "2024-03-11T19:59:17.747624Z"
    },
    "papermill": {
     "duration": 0.026504,
     "end_time": "2024-03-11T19:59:17.751397",
     "exception": false,
     "start_time": "2024-03-11T19:59:17.724893",
     "status": "completed"
    },
    "tags": []
   },
   "outputs": [],
   "source": [
    "# print([name for value, name in reversed(sorted(zip(model.get_feature_importance(), features)))][0:200])"
   ]
  },
  {
   "cell_type": "code",
   "execution_count": null,
   "id": "d160b1bc",
   "metadata": {
    "papermill": {
     "duration": 0.015998,
     "end_time": "2024-03-11T19:59:17.785061",
     "exception": false,
     "start_time": "2024-03-11T19:59:17.769063",
     "status": "completed"
    },
    "tags": []
   },
   "outputs": [],
   "source": []
  },
  {
   "cell_type": "code",
   "execution_count": 42,
   "id": "f8f5fc8c",
   "metadata": {
    "execution": {
     "iopub.execute_input": "2024-03-11T19:59:17.821151Z",
     "iopub.status.busy": "2024-03-11T19:59:17.820757Z",
     "iopub.status.idle": "2024-03-11T19:59:17.824913Z",
     "shell.execute_reply": "2024-03-11T19:59:17.823983Z"
    },
    "papermill": {
     "duration": 0.025721,
     "end_time": "2024-03-11T19:59:17.826981",
     "exception": false,
     "start_time": "2024-03-11T19:59:17.801260",
     "status": "completed"
    },
    "tags": []
   },
   "outputs": [],
   "source": [
    "# CV roc_auc_oof:  0.8353789451006361 without feature selection ~500 features\n",
    "# CV roc_auc_oof:  0.8329322959533371 with feature selection ~200 features"
   ]
  },
  {
   "cell_type": "code",
   "execution_count": null,
   "id": "b8499990",
   "metadata": {
    "papermill": {
     "duration": 0.015832,
     "end_time": "2024-03-11T19:59:17.859215",
     "exception": false,
     "start_time": "2024-03-11T19:59:17.843383",
     "status": "completed"
    },
    "tags": []
   },
   "outputs": [],
   "source": []
  },
  {
   "cell_type": "code",
   "execution_count": 43,
   "id": "3bc3b22e",
   "metadata": {
    "execution": {
     "iopub.execute_input": "2024-03-11T19:59:17.893947Z",
     "iopub.status.busy": "2024-03-11T19:59:17.892815Z",
     "iopub.status.idle": "2024-03-11T19:59:17.897480Z",
     "shell.execute_reply": "2024-03-11T19:59:17.896697Z"
    },
    "papermill": {
     "duration": 0.024258,
     "end_time": "2024-03-11T19:59:17.899631",
     "exception": false,
     "start_time": "2024-03-11T19:59:17.875373",
     "status": "completed"
    },
    "tags": []
   },
   "outputs": [],
   "source": [
    "# def gini_stability(dataset, w_fallingrate=88.0, w_resstd=-0.5):\n",
    "#     gini_in_time = dataset\\\n",
    "#         .sort_values(\"WEEK_NUM\")\\\n",
    "#         .groupby(\"WEEK_NUM\")[[\"true\", \"predicted\"]]\\\n",
    "#         .apply(lambda x: 2 * roc_auc_score(x[\"true\"], x[\"predicted\"]) - 1).tolist()\n",
    "    \n",
    "#     x = np.arange(len(gini_in_time))\n",
    "#     y = gini_in_time\n",
    "#     a, b = np.polyfit(x, y, 1)\n",
    "#     y_hat = a * x + b\n",
    "#     residuals = y - y_hat\n",
    "#     res_std = np.std(residuals)\n",
    "#     avg_gini = np.mean(gini_in_time)\n",
    "    \n",
    "#     print(avg_gini, min(0, a), res_std)\n",
    "    \n",
    "#     return avg_gini + w_fallingrate * min(0, a) + w_resstd * res_std"
   ]
  },
  {
   "cell_type": "code",
   "execution_count": 44,
   "id": "059071c3",
   "metadata": {
    "execution": {
     "iopub.execute_input": "2024-03-11T19:59:17.935119Z",
     "iopub.status.busy": "2024-03-11T19:59:17.933905Z",
     "iopub.status.idle": "2024-03-11T19:59:17.938802Z",
     "shell.execute_reply": "2024-03-11T19:59:17.937998Z"
    },
    "papermill": {
     "duration": 0.02495,
     "end_time": "2024-03-11T19:59:17.940880",
     "exception": false,
     "start_time": "2024-03-11T19:59:17.915930",
     "status": "completed"
    },
    "tags": []
   },
   "outputs": [],
   "source": [
    "# # Y_train_predicted = model.predict_proba(train_df[features].to_pandas())\n",
    "# Y_test_predicted = model.predict_proba(test_df[features].to_pandas())"
   ]
  },
  {
   "cell_type": "code",
   "execution_count": 45,
   "id": "dd938c4e",
   "metadata": {
    "execution": {
     "iopub.execute_input": "2024-03-11T19:59:17.975648Z",
     "iopub.status.busy": "2024-03-11T19:59:17.975005Z",
     "iopub.status.idle": "2024-03-11T19:59:17.979773Z",
     "shell.execute_reply": "2024-03-11T19:59:17.978626Z"
    },
    "papermill": {
     "duration": 0.024875,
     "end_time": "2024-03-11T19:59:17.981840",
     "exception": false,
     "start_time": "2024-03-11T19:59:17.956965",
     "status": "completed"
    },
    "tags": []
   },
   "outputs": [],
   "source": [
    "# result = pd.DataFrame({\n",
    "#     \"WEEK_NUM\": train_df[\"WEEK_NUM\"],\n",
    "#     \"true\": train_df[\"target\"],\n",
    "#     \"predicted\": Y_train_predicted[:, 1],\n",
    "# })\n",
    "\n",
    "# train_result = gini_stability(result)\n",
    "# print(\"train_score: {}\".format(train_result))\n",
    "\n",
    "# if MODE == Mode.Train:\n",
    "#     result = pd.DataFrame({\n",
    "#         \"WEEK_NUM\": test_df[\"WEEK_NUM\"],\n",
    "#         \"true\": test_df[\"target\"],\n",
    "#         \"predicted\": Y_test_predicted[:, 1],\n",
    "#     })\n",
    "\n",
    "#     test_result = gini_stability(result)\n",
    "#     print(\"test_score: {}\".format(test_result))"
   ]
  },
  {
   "cell_type": "code",
   "execution_count": 46,
   "id": "ef34030f",
   "metadata": {
    "execution": {
     "iopub.execute_input": "2024-03-11T19:59:18.016158Z",
     "iopub.status.busy": "2024-03-11T19:59:18.015762Z",
     "iopub.status.idle": "2024-03-11T19:59:18.020577Z",
     "shell.execute_reply": "2024-03-11T19:59:18.019587Z"
    },
    "papermill": {
     "duration": 0.024675,
     "end_time": "2024-03-11T19:59:18.022824",
     "exception": false,
     "start_time": "2024-03-11T19:59:17.998149",
     "status": "completed"
    },
    "tags": []
   },
   "outputs": [],
   "source": [
    "# Version 1, test_score: 0.583319926590042, public score 0.48\n",
    "# 100 iters\n",
    "\n",
    "# Version 2, test_score: 0.6062624701357268, public score 0.517\n",
    "# 300 iters\n",
    "\n",
    "# Version 3, test_score: ?, public score 0.545\n",
    "# 2000 iters\n",
    "\n",
    "# Version 4, test_score: ?, public score ?\n",
    "# ? iters, Improve aggregate functions for depth_1, depth_2\n"
   ]
  },
  {
   "cell_type": "markdown",
   "id": "2f6e264c",
   "metadata": {
    "papermill": {
     "duration": 0.015911,
     "end_time": "2024-03-11T19:59:18.054971",
     "exception": false,
     "start_time": "2024-03-11T19:59:18.039060",
     "status": "completed"
    },
    "tags": []
   },
   "source": [
    "# Submition"
   ]
  },
  {
   "cell_type": "code",
   "execution_count": 47,
   "id": "cee50e82",
   "metadata": {
    "execution": {
     "iopub.execute_input": "2024-03-11T19:59:18.091830Z",
     "iopub.status.busy": "2024-03-11T19:59:18.091374Z",
     "iopub.status.idle": "2024-03-11T19:59:18.096091Z",
     "shell.execute_reply": "2024-03-11T19:59:18.095078Z"
    },
    "papermill": {
     "duration": 0.026646,
     "end_time": "2024-03-11T19:59:18.098308",
     "exception": false,
     "start_time": "2024-03-11T19:59:18.071662",
     "status": "completed"
    },
    "tags": []
   },
   "outputs": [],
   "source": [
    "# case_id = test_df[\"case_id\"]\n",
    "# X = test_df[features].to_pandas()\n",
    "\n",
    "# Y = model.predict_proba(X)\n",
    "\n",
    "# submission = pd.DataFrame({\n",
    "#     \"case_id\": case_id.to_numpy(),\n",
    "#     \"score\": Y[:, 1]\n",
    "# }).set_index('case_id')\n",
    "# submission.to_csv(\"./submission.csv\")"
   ]
  },
  {
   "cell_type": "code",
   "execution_count": null,
   "id": "31a3e8df",
   "metadata": {
    "papermill": {
     "duration": 0.015755,
     "end_time": "2024-03-11T19:59:18.130393",
     "exception": false,
     "start_time": "2024-03-11T19:59:18.114638",
     "status": "completed"
    },
    "tags": []
   },
   "outputs": [],
   "source": []
  },
  {
   "cell_type": "code",
   "execution_count": null,
   "id": "4a5b0638",
   "metadata": {
    "papermill": {
     "duration": 0.017436,
     "end_time": "2024-03-11T19:59:18.165415",
     "exception": false,
     "start_time": "2024-03-11T19:59:18.147979",
     "status": "completed"
    },
    "tags": []
   },
   "outputs": [],
   "source": []
  },
  {
   "cell_type": "code",
   "execution_count": null,
   "id": "ec8b9309",
   "metadata": {
    "papermill": {
     "duration": 0.015931,
     "end_time": "2024-03-11T19:59:18.197690",
     "exception": false,
     "start_time": "2024-03-11T19:59:18.181759",
     "status": "completed"
    },
    "tags": []
   },
   "outputs": [],
   "source": []
  }
 ],
 "metadata": {
  "kaggle": {
   "accelerator": "none",
   "dataSources": [
    {
     "databundleVersionId": 7921029,
     "sourceId": 50160,
     "sourceType": "competition"
    },
    {
     "datasetId": 4496896,
     "sourceId": 7818669,
     "sourceType": "datasetVersion"
    }
   ],
   "dockerImageVersionId": 30635,
   "isGpuEnabled": false,
   "isInternetEnabled": false,
   "language": "python",
   "sourceType": "notebook"
  },
  "kernelspec": {
   "display_name": "Python 3",
   "language": "python",
   "name": "python3"
  },
  "language_info": {
   "codemirror_mode": {
    "name": "ipython",
    "version": 3
   },
   "file_extension": ".py",
   "mimetype": "text/x-python",
   "name": "python",
   "nbconvert_exporter": "python",
   "pygments_lexer": "ipython3",
   "version": "3.10.12"
  },
  "papermill": {
   "default_parameters": {},
   "duration": 956.325686,
   "end_time": "2024-03-11T19:59:19.138528",
   "environment_variables": {},
   "exception": null,
   "input_path": "__notebook__.ipynb",
   "output_path": "__notebook__.ipynb",
   "parameters": {},
   "start_time": "2024-03-11T19:43:22.812842",
   "version": "2.4.0"
  }
 },
 "nbformat": 4,
 "nbformat_minor": 5
}
