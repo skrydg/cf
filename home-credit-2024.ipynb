{
 "cells": [
  {
   "cell_type": "markdown",
   "id": "a7876c66",
   "metadata": {
    "papermill": {
     "duration": 0.01783,
     "end_time": "2024-03-14T09:42:16.341707",
     "exception": false,
     "start_time": "2024-03-14T09:42:16.323877",
     "status": "completed"
    },
    "tags": []
   },
   "source": [
    "# Install packages"
   ]
  },
  {
   "cell_type": "code",
   "execution_count": 1,
   "id": "5407250f",
   "metadata": {
    "execution": {
     "iopub.execute_input": "2024-03-14T09:42:16.379681Z",
     "iopub.status.busy": "2024-03-14T09:42:16.378843Z",
     "iopub.status.idle": "2024-03-14T09:42:52.627079Z",
     "shell.execute_reply": "2024-03-14T09:42:52.625567Z"
    },
    "papermill": {
     "duration": 36.27081,
     "end_time": "2024-03-14T09:42:52.630341",
     "exception": false,
     "start_time": "2024-03-14T09:42:16.359531",
     "status": "completed"
    },
    "tags": []
   },
   "outputs": [
    {
     "name": "stdout",
     "output_type": "stream",
     "text": [
      "Processing /kaggle/input/kaggle-home-credit-risk-model-stability-lib/kaggle_home_credit_risk_model_stability-0.3-py3-none-any.whl\r\n",
      "Installing collected packages: kaggle-home-credit-risk-model-stability\r\n",
      "Successfully installed kaggle-home-credit-risk-model-stability-0.3\r\n"
     ]
    }
   ],
   "source": [
    "!pip install /kaggle/input/kaggle-home-credit-risk-model-stability-lib/kaggle_home_credit_risk_model_stability-0.3-py3-none-any.whl --force-reinstall"
   ]
  },
  {
   "cell_type": "markdown",
   "id": "29d82c7e",
   "metadata": {
    "papermill": {
     "duration": 0.017462,
     "end_time": "2024-03-14T09:42:52.666119",
     "exception": false,
     "start_time": "2024-03-14T09:42:52.648657",
     "status": "completed"
    },
    "tags": []
   },
   "source": [
    "# Import packages"
   ]
  },
  {
   "cell_type": "code",
   "execution_count": 2,
   "id": "d8b265d6",
   "metadata": {
    "execution": {
     "iopub.execute_input": "2024-03-14T09:42:52.705594Z",
     "iopub.status.busy": "2024-03-14T09:42:52.705149Z",
     "iopub.status.idle": "2024-03-14T09:42:57.192794Z",
     "shell.execute_reply": "2024-03-14T09:42:57.191110Z"
    },
    "papermill": {
     "duration": 4.511509,
     "end_time": "2024-03-14T09:42:57.196385",
     "exception": false,
     "start_time": "2024-03-14T09:42:52.684876",
     "status": "completed"
    },
    "tags": []
   },
   "outputs": [],
   "source": [
    "import polars as pl\n",
    "import gc\n",
    "import time\n",
    "import numpy as np\n",
    "import pandas as pd\n",
    "import lightgbm as lgb\n",
    "import seaborn as sns\n",
    "import matplotlib.pyplot as plt\n",
    "import copy\n",
    "import lightgbm as lgb\n",
    "import importlib\n",
    "import pickle\n",
    "import argparse\n",
    "\n",
    "import kaggle_home_credit_risk_model_stability.libs as hcr\n",
    "from kaggle_home_credit_risk_model_stability.libs.input.dataset import Dataset\n",
    "from kaggle_home_credit_risk_model_stability.libs.input.data_loader import DataLoader, Mode\n",
    "from kaggle_home_credit_risk_model_stability.libs.preprocessor.preprocessor import Preprocessor\n",
    "from kaggle_home_credit_risk_model_stability.libs.preprocessor.steps import *\n",
    "from kaggle_home_credit_risk_model_stability.libs.preprocessor.columns_info import ColumnsInfo\n",
    "from kaggle_home_credit_risk_model_stability.libs.feature_description.feature_description import FreatureDescriptionGetter\n",
    "\n",
    "from collections import defaultdict\n",
    "from glob import glob\n",
    "from pathlib import Path\n",
    "from sklearn.model_selection import train_test_split\n",
    "from sklearn.metrics import roc_auc_score\n",
    "from sklearn.model_selection import StratifiedGroupKFold\n",
    "from sklearn.base import BaseEstimator, RegressorMixin"
   ]
  },
  {
   "cell_type": "code",
   "execution_count": 3,
   "id": "2a899131",
   "metadata": {
    "execution": {
     "iopub.execute_input": "2024-03-14T09:42:57.258063Z",
     "iopub.status.busy": "2024-03-14T09:42:57.249542Z",
     "iopub.status.idle": "2024-03-14T09:42:57.265611Z",
     "shell.execute_reply": "2024-03-14T09:42:57.264595Z"
    },
    "papermill": {
     "duration": 0.040565,
     "end_time": "2024-03-14T09:42:57.268481",
     "exception": false,
     "start_time": "2024-03-14T09:42:57.227916",
     "status": "completed"
    },
    "tags": []
   },
   "outputs": [],
   "source": [
    "parser = argparse.ArgumentParser()\n",
    "parser.add_argument(\"--mode\", type=str, default=\"Train\")\n",
    "args = parser.parse_args(\"\")\n",
    "if args.mode == \"Train\":\n",
    "    MODE = Mode.Train\n",
    "elif args.mode == \"Predict\":\n",
    "    MODE = Mode.Predict\n",
    "else:\n",
    "    exit(1)"
   ]
  },
  {
   "cell_type": "code",
   "execution_count": 4,
   "id": "aea5b4c3",
   "metadata": {
    "execution": {
     "iopub.execute_input": "2024-03-14T09:42:57.310184Z",
     "iopub.status.busy": "2024-03-14T09:42:57.309031Z",
     "iopub.status.idle": "2024-03-14T09:42:57.321680Z",
     "shell.execute_reply": "2024-03-14T09:42:57.320332Z"
    },
    "papermill": {
     "duration": 0.03808,
     "end_time": "2024-03-14T09:42:57.324676",
     "exception": false,
     "start_time": "2024-03-14T09:42:57.286596",
     "status": "completed"
    },
    "tags": []
   },
   "outputs": [],
   "source": [
    "data_loader = DataLoader(mode=MODE)\n",
    "preprocessor = Preprocessor({\n",
    "    \"set_column_info_step\": SetColumnsInfoStep(),\n",
    "    \"set_types\": SetTypesStep(),\n",
    "    \"process_categorical\": ProcessCategoricalStep(),\n",
    "    \"process_person_table\": ProcessPersonTableStep(),\n",
    "    \"one_hot_encoding_for_depth1\": OneHotEncodingForDepth1Step(),\n",
    "    \"pairwise_diff_raw_dates\": PairwiseDateDiffStep(),\n",
    "    \"aggregate_depth_table\": AggregateDepthTableStep(),\n",
    "    \"drop_equal_columns\": DropEqualColumnsStep(),\n",
    "    \"drop_almost_null_features_respect_to_target\": DropAlmostNullFeaturesWithRespectToTargetStep(),\n",
    "    \"join_table\": JoinTablesStep(),\n",
    "    \"generate_age_feature\": GenerateAgeFeatureStep(),\n",
    "    \"fill_nulls_in_categorical_features\": FillNullsInCategoricalFeaturesStep(),\n",
    "    **{\n",
    "        f\"create_money_feature_fraction_{base_column}\": CreateMoneyFeatureFractionStep(base_column)\n",
    "        for base_column in [\"credamount_770A\", \"maininc_215A\", \"mainoccupationinc_384A\", \"mean_amount_416A\"]\n",
    "    },\n",
    "    \"generate_mismatch_features\": GenerateMismatchFeaturesStep(),\n",
    "    \"generate_target_distribution_based_on_categorical_features_step\": GenerateTargetDistributionBasedOnCategoricalStep(),\n",
    "    \"drop_single_value_features\": DropSingleValueFeaturesStep(),\n",
    "    \"drop_variable_enum_features\": DropVariableEnumFeaturesStep(),\n",
    "    \"reduce_memory_usage\": ReduceMemoryUsageStep()\n",
    "})\n",
    "columns_info = ColumnsInfo()"
   ]
  },
  {
   "cell_type": "code",
   "execution_count": 5,
   "id": "b7efd31c",
   "metadata": {
    "execution": {
     "iopub.execute_input": "2024-03-14T09:42:57.369650Z",
     "iopub.status.busy": "2024-03-14T09:42:57.368650Z",
     "iopub.status.idle": "2024-03-14T09:42:57.373889Z",
     "shell.execute_reply": "2024-03-14T09:42:57.372854Z"
    },
    "papermill": {
     "duration": 0.029735,
     "end_time": "2024-03-14T09:42:57.376311",
     "exception": false,
     "start_time": "2024-03-14T09:42:57.346576",
     "status": "completed"
    },
    "tags": []
   },
   "outputs": [],
   "source": [
    "# train_dataset = data_loader.load_train_dataset()\n",
    "# case_id_set = train_dataset.get_base().filter(train_dataset.get_base()[\"WEEK_NUM\"] < 3)[\"case_id\"]\n",
    "# train_dataset = train_dataset.filter(lambda table: table.filter(pl.col(\"case_id\").is_in(case_id_set)))"
   ]
  },
  {
   "cell_type": "code",
   "execution_count": 6,
   "id": "505f1309",
   "metadata": {
    "execution": {
     "iopub.execute_input": "2024-03-14T09:42:57.415891Z",
     "iopub.status.busy": "2024-03-14T09:42:57.414929Z",
     "iopub.status.idle": "2024-03-14T09:52:06.897509Z",
     "shell.execute_reply": "2024-03-14T09:52:06.896610Z"
    },
    "papermill": {
     "duration": 549.50569,
     "end_time": "2024-03-14T09:52:06.900144",
     "exception": false,
     "start_time": "2024-03-14T09:42:57.394454",
     "status": "completed"
    },
    "tags": []
   },
   "outputs": [
    {
     "name": "stdout",
     "output_type": "stream",
     "text": [
      "Train dataset week range: 0-45\n",
      "Dataset hash='8b5795f85dfb886c2a78ef1decab5a7a02b968fdc5c73c195d39fda52af13213'\n",
      "Step: set_column_info_step, execution_time: 0.12010073661804199\n",
      "Dataset hash='8b5795f85dfb886c2a78ef1decab5a7a02b968fdc5c73c195d39fda52af13213' after step: set_column_info_step\n",
      "Step: set_types, execution_time: 11.579419136047363\n",
      "Dataset hash='76ecf7bf42ce8151c8e83cdbecf83f4e58e174419ed0810a5b8bffea99aa8540' after step: set_types\n",
      "Step: process_categorical, execution_time: 14.978238344192505\n",
      "Dataset hash='8d8e40c9263669fef07cf1d7b599c62a7b91b3eeed6fdaf4a687d895e181e8e5' after step: process_categorical\n",
      "Step: process_person_table, execution_time: 0.2513923645019531\n",
      "Dataset hash='f0bc258a9b04a7ed5550b09ae67526596c0c8920bf7a8363eed87604080149a3' after step: process_person_table\n",
      "Create 249 new columns as one hot encoding\n",
      "Step: one_hot_encoding_for_depth1, execution_time: 12.312954187393188\n",
      "Dataset hash='216509a81997560a963c4c9b4b9df4fe30a5f60d47026f7dfe953a94987272de' after step: one_hot_encoding_for_depth1\n",
      "Create 172 new columns as pairwise dates diff\n",
      "Step: pairwise_diff_raw_dates, execution_time: 0.8492534160614014\n",
      "Dataset hash='4d4da7ea3f64eb6c3e2f6a85cc219cf8a3f9323ba455800a0092cf1d6e59fda1' after step: pairwise_diff_raw_dates\n",
      "Step: aggregate_depth_table, execution_time: 32.27285981178284\n",
      "Dataset hash='e767ccc2c26949bf2ff61b051353affdd6c429bcb7c80cd73e705698c0a18c94' after step: aggregate_depth_table\n",
      "Drop 293 columns as duplicates\n",
      "Step: drop_equal_columns, execution_time: 25.595077991485596\n",
      "Dataset hash='5fffbeff95c8b46068b88c87bbb1c0f040a20a5e1d7c6c650a7759dc06c82c45' after step: drop_equal_columns\n",
      "Drop 594 columns as almost null\n",
      "Step: drop_almost_null_features_respect_to_target, execution_time: 270.08796310424805\n",
      "Dataset hash='0d30090aaaaae3495e23cd8eb52dff73ad841e39bac7d6af92ec8e701b716101' after step: drop_almost_null_features_respect_to_target\n",
      "Step: join_table, execution_time: 5.964133977890015\n",
      "Dataset hash='2f6da12b38844f1fae6d9249ad775c5b736efa715b36cc8cbbc6b5b7abb8e68d' after step: join_table\n",
      "Step: generate_age_feature, execution_time: 0.16334104537963867\n",
      "Dataset hash='5c8849612d79158059db810df0bba45d1366216ec7ab1418c8995c4a447ba439' after step: generate_age_feature\n",
      "Step: fill_nulls_in_categorical_features, execution_time: 8.925450086593628\n",
      "Dataset hash='b27f31218f084b06dfcf2275d4212312c598af60cec5d6632f1b364f45f78dd9' after step: fill_nulls_in_categorical_features\n",
      "Create 115 new columns as money feature fraction with base 'credamount_770A'\n",
      "Step: create_money_feature_fraction_credamount_770A, execution_time: 3.0192081928253174\n",
      "Dataset hash='cf7ad278ad04939385c5fdc9ae570dc50eda6aeeea2c59673a0a7d5e054717b9' after step: create_money_feature_fraction_credamount_770A\n",
      "Create 115 new columns as money feature fraction with base 'maininc_215A'\n",
      "Step: create_money_feature_fraction_maininc_215A, execution_time: 4.506874322891235\n",
      "Dataset hash='83b34800cb6b94ddc2730ff5382792b4b64b4ec6b70853f2ece4c1a22c7245f5' after step: create_money_feature_fraction_maininc_215A\n",
      "Create 115 new columns as money feature fraction with base 'mainoccupationinc_384A'\n",
      "Step: create_money_feature_fraction_mainoccupationinc_384A, execution_time: 3.0271332263946533\n",
      "Dataset hash='40eb78e71860dfafc5fb88c6fc5bfa34f7eac2e3ef86d5e87e76d0cf93aec4a0' after step: create_money_feature_fraction_mainoccupationinc_384A\n",
      "Create 115 new columns as money feature fraction with base 'mean_amount_416A'\n",
      "Step: create_money_feature_fraction_mean_amount_416A, execution_time: 4.462559700012207\n",
      "Dataset hash='3a69ece3a002f543281b6aa0d754f301653759a9f4be97802a408779b0424c28' after step: create_money_feature_fraction_mean_amount_416A\n",
      "Create 58 new columns as feature mismatch\n",
      "Step: generate_mismatch_features, execution_time: 29.02637553215027\n",
      "Dataset hash='aa5d935f803b6e10ca50c91cf9b4b0af7dfea3d01bcfddc87597c69d5706971f' after step: generate_mismatch_features\n",
      "Create 196 as target distribution by categorical feature\n",
      "Step: generate_target_distribution_based_on_categorical_features_step, execution_time: 17.324382781982422\n",
      "Dataset hash='44fc3a0d3e48a02bcb1de58a2becafee11c0ba09e4269847147e41c3f76edb9b' after step: generate_target_distribution_based_on_categorical_features_step\n",
      "Drop 19 columns as single value\n",
      "Step: drop_single_value_features, execution_time: 27.727399110794067\n",
      "Dataset hash='3e47cdb36847016d48cd628107bf5d98addbc767183d6fc8b33196f8c5aebc04' after step: drop_single_value_features\n",
      "Drop 13 columns as variable enum value\n",
      "Step: drop_variable_enum_features, execution_time: 1.0287318229675293\n",
      "Dataset hash='f79c805d3a130eab396e59ecd594324830d59dc2011ee2339ae9b5e66d347496' after step: drop_variable_enum_features\n",
      "Step: reduce_memory_usage, execution_time: 10.671220779418945\n",
      "Dataset hash='794c6c2932baa8bd27f5d756df574681cdec665e873f40993d6d8d4a362cef86' after step: reduce_memory_usage\n"
     ]
    },
    {
     "data": {
      "text/plain": [
       "0"
      ]
     },
     "execution_count": 6,
     "metadata": {},
     "output_type": "execute_result"
    }
   ],
   "source": [
    "train_dataset = data_loader.load_train_dataset()\n",
    "print(\"Train dataset week range: {}-{}\".format(train_dataset.get_base()[\"WEEK_NUM\"].min(), train_dataset.get_base()[\"WEEK_NUM\"].max()))\n",
    "gc.collect()\n",
    "train_df, columns_info = preprocessor.process_train_dataset(train_dataset, columns_info)\n",
    "del train_dataset\n",
    "\n",
    "gc.collect()"
   ]
  },
  {
   "cell_type": "code",
   "execution_count": 7,
   "id": "fcb89ef8",
   "metadata": {
    "execution": {
     "iopub.execute_input": "2024-03-14T09:52:06.946743Z",
     "iopub.status.busy": "2024-03-14T09:52:06.946328Z",
     "iopub.status.idle": "2024-03-14T09:52:09.949570Z",
     "shell.execute_reply": "2024-03-14T09:52:09.948510Z"
    },
    "papermill": {
     "duration": 3.029825,
     "end_time": "2024-03-14T09:52:09.952505",
     "exception": false,
     "start_time": "2024-03-14T09:52:06.922680",
     "status": "completed"
    },
    "tags": []
   },
   "outputs": [],
   "source": [
    "for column in train_df.columns:\n",
    "    if train_df[column].dtype != pl.Enum:\n",
    "        x = train_df[column].is_infinite().sum() + train_df[column].is_nan().sum()\n",
    "        assert(x == 0)"
   ]
  },
  {
   "cell_type": "code",
   "execution_count": 8,
   "id": "747ba549",
   "metadata": {
    "execution": {
     "iopub.execute_input": "2024-03-14T09:52:10.001317Z",
     "iopub.status.busy": "2024-03-14T09:52:10.000934Z",
     "iopub.status.idle": "2024-03-14T09:52:42.083144Z",
     "shell.execute_reply": "2024-03-14T09:52:42.082013Z"
    },
    "papermill": {
     "duration": 32.133227,
     "end_time": "2024-03-14T09:52:42.109189",
     "exception": false,
     "start_time": "2024-03-14T09:52:09.975962",
     "status": "completed"
    },
    "tags": []
   },
   "outputs": [
    {
     "name": "stdout",
     "output_type": "stream",
     "text": [
      "4873.6322956085205\n",
      "shape: (896_334, 1_614)\n",
      "┌─────────┬────────────┬────────┬──────────┬───┬────────────┬────────────┬────────────┬────────────┐\n",
      "│ case_id ┆ date_decis ┆ MONTH  ┆ WEEK_NUM ┆ … ┆ last_type_ ┆ last_type_ ┆ age_bucket ┆ age_bucket │\n",
      "│ ---     ┆ ion        ┆ ---    ┆ ---      ┆   ┆ 25L_target ┆ 25L_value_ ┆ _target_di ┆ _value_per │\n",
      "│ i32     ┆ ---        ┆ i32    ┆ i8       ┆   ┆ _distribut ┆ persent    ┆ stribution ┆ sent       │\n",
      "│         ┆ i16        ┆        ┆          ┆   ┆ io…        ┆ ---        ┆ ---        ┆ ---        │\n",
      "│         ┆            ┆        ┆          ┆   ┆ ---        ┆ f32        ┆ f32        ┆ f32        │\n",
      "│         ┆            ┆        ┆          ┆   ┆ f32        ┆            ┆            ┆            │\n",
      "╞═════════╪════════════╪════════╪══════════╪═══╪════════════╪════════════╪════════════╪════════════╡\n",
      "│ 0       ┆ 17899      ┆ 201901 ┆ 0        ┆ … ┆ 0.032451   ┆ 0.432632   ┆ 0.032193   ┆ 0.25891    │\n",
      "│ 1       ┆ 17899      ┆ 201901 ┆ 0        ┆ … ┆ 0.032451   ┆ 0.432632   ┆ 0.016654   ┆ 0.142686   │\n",
      "│ 2       ┆ 17900      ┆ 201901 ┆ 0        ┆ … ┆ 0.032451   ┆ 0.432632   ┆ 0.029165   ┆ 0.215248   │\n",
      "│ 3       ┆ 17899      ┆ 201901 ┆ 0        ┆ … ┆ 0.032451   ┆ 0.432632   ┆ 0.045588   ┆ 0.189638   │\n",
      "│ …       ┆ …          ┆ …      ┆ …        ┆ … ┆ …          ┆ …          ┆ …          ┆ …          │\n",
      "│ 2642453 ┆ 18218      ┆ 201911 ┆ 45       ┆ … ┆ 0.032451   ┆ 0.432632   ┆ 0.023711   ┆ 0.16454    │\n",
      "│ 2642454 ┆ 18218      ┆ 201911 ┆ 45       ┆ … ┆ 0.017788   ┆ 0.030795   ┆ 0.016654   ┆ 0.142686   │\n",
      "│ 2642455 ┆ 18218      ┆ 201911 ┆ 45       ┆ … ┆ 0.028944   ┆ 0.491948   ┆ 0.029165   ┆ 0.215248   │\n",
      "│ 2642456 ┆ 18218      ┆ 201911 ┆ 45       ┆ … ┆ 0.032451   ┆ 0.432632   ┆ 0.016654   ┆ 0.142686   │\n",
      "└─────────┴────────────┴────────┴──────────┴───┴────────────┴────────────┴────────────┴────────────┘\n"
     ]
    },
    {
     "data": {
      "text/plain": [
       "0"
      ]
     },
     "execution_count": 8,
     "metadata": {},
     "output_type": "execute_result"
    }
   ],
   "source": [
    "train_df.write_parquet(\"/kaggle/working/train_df.parquet\")\n",
    "pickle.dump(columns_info, open(\"/kaggle/working/columns_info.pkl\", \"wb\"))\n",
    "print(train_df.estimated_size() / 1024 / 1024)\n",
    "print(train_df)\n",
    "\n",
    "del train_df\n",
    "gc.collect()"
   ]
  },
  {
   "cell_type": "code",
   "execution_count": 9,
   "id": "53a80a98",
   "metadata": {
    "execution": {
     "iopub.execute_input": "2024-03-14T09:52:42.157516Z",
     "iopub.status.busy": "2024-03-14T09:52:42.156132Z",
     "iopub.status.idle": "2024-03-14T09:54:55.893201Z",
     "shell.execute_reply": "2024-03-14T09:54:55.892043Z"
    },
    "papermill": {
     "duration": 133.763888,
     "end_time": "2024-03-14T09:54:55.895730",
     "exception": false,
     "start_time": "2024-03-14T09:52:42.131842",
     "status": "completed"
    },
    "tags": []
   },
   "outputs": [
    {
     "name": "stdout",
     "output_type": "stream",
     "text": [
      "Test dataset week range: 46-91\n",
      "Dataset hash='3713d2500eb93d53edb9c29a54e55ac7610f33e37e3b89a02b49e0a4577594ef'\n",
      "Step: set_column_info_step, execution_time: 0.14968061447143555\n",
      "Dataset hash='3713d2500eb93d53edb9c29a54e55ac7610f33e37e3b89a02b49e0a4577594ef' after step: set_column_info_step\n",
      "Step: set_types, execution_time: 9.254831790924072\n",
      "Dataset hash='c402e4460c5a7306407055186174e7dab0f4392ee7fc0ed8d0fd6da348e315dd' after step: set_types\n",
      "Step: process_categorical, execution_time: 9.393926858901978\n",
      "Dataset hash='70b3864e8a49439ce086778543f0e2128a1a1e4794efa7938dfdabbea4ff16b0' after step: process_categorical\n",
      "Step: process_person_table, execution_time: 0.22820687294006348\n",
      "Dataset hash='4bff62cab1a878c6145c5688c94597b8ca65db517d520d3f6886bdbee3fbb29e' after step: process_person_table\n",
      "Create 249 new columns as one hot encoding\n",
      "Step: one_hot_encoding_for_depth1, execution_time: 7.9742653369903564\n",
      "Dataset hash='745070500ea5f1292b2279bce40676bc2228b82948687950cc6271d1421b2689' after step: one_hot_encoding_for_depth1\n",
      "Create 172 new columns as pairwise dates diff\n",
      "Step: pairwise_diff_raw_dates, execution_time: 0.7117643356323242\n",
      "Dataset hash='ffe33715136ba80b3568bbe64dafb49b528408b4ae31ff6b76e7d485954dcfca' after step: pairwise_diff_raw_dates\n",
      "Step: aggregate_depth_table, execution_time: 22.992948532104492\n",
      "Dataset hash='8a3d19348339c15f813e509272cdbf795973cb91d9bb5f9b915134314d107a66' after step: aggregate_depth_table\n",
      "Step: drop_equal_columns, execution_time: 0.17285966873168945\n",
      "Dataset hash='28f926e0ef9335bfbed63c96f3ef1eb634140e35285d3bd748fbb55754f58a4a' after step: drop_equal_columns\n",
      "Step: drop_almost_null_features_respect_to_target, execution_time: 0.17345738410949707\n",
      "Dataset hash='f8b4efe28593640e7f4f4cf5fe1c56cc7686105586da32755d391be14493ee0c' after step: drop_almost_null_features_respect_to_target\n",
      "Step: join_table, execution_time: 4.926857233047485\n",
      "Dataset hash='372cd2ff86e005a21ddefd229ac0fd2a8da09d7533f00a99622c2ed21c7cb237' after step: join_table\n",
      "Step: generate_age_feature, execution_time: 0.19151902198791504\n",
      "Dataset hash='35ce71fb3f8a7da32ef5719bd473740b89d7811fd78e3021687579026213feae' after step: generate_age_feature\n",
      "Step: fill_nulls_in_categorical_features, execution_time: 6.252201557159424\n",
      "Dataset hash='4f1e3633a77156cec84490a0d00be7fb8ebbc1ee7e95080a00db8b3ab3f70643' after step: fill_nulls_in_categorical_features\n",
      "Create 115 new columns as money feature fraction with base 'credamount_770A'\n",
      "Step: create_money_feature_fraction_credamount_770A, execution_time: 2.2491042613983154\n",
      "Dataset hash='cfcbde14bd591c9076dae54e42df1591b88c6f851af2fe3d476f4ee0c0afbd75' after step: create_money_feature_fraction_credamount_770A\n",
      "Create 115 new columns as money feature fraction with base 'maininc_215A'\n",
      "Step: create_money_feature_fraction_maininc_215A, execution_time: 3.278714895248413\n",
      "Dataset hash='1fde32a6e863b827de2aeeb2d8d9ca0ce3ff8f0aff1efbe56d5a3bc651d3cd7d' after step: create_money_feature_fraction_maininc_215A\n",
      "Create 115 new columns as money feature fraction with base 'mainoccupationinc_384A'\n",
      "Step: create_money_feature_fraction_mainoccupationinc_384A, execution_time: 2.258678674697876\n",
      "Dataset hash='edd659ff0fe6d1322064984b70a192b6f4327906412af8066b38cfbf920f9b93' after step: create_money_feature_fraction_mainoccupationinc_384A\n",
      "Create 115 new columns as money feature fraction with base 'mean_amount_416A'\n",
      "Step: create_money_feature_fraction_mean_amount_416A, execution_time: 3.2530391216278076\n",
      "Dataset hash='8ba9cee32391da3e5c3c96917ed8f8c3db9248459dce2fc5097996188c6060c1' after step: create_money_feature_fraction_mean_amount_416A\n",
      "Create 58 new columns as feature mismatch\n",
      "Step: generate_mismatch_features, execution_time: 0.21321439743041992\n",
      "Dataset hash='19187df7d1c74feddedb27758ba95a8f76c6eab2fe4995bdbae048b7c0dc4dde' after step: generate_mismatch_features\n",
      "Create 196 as target distribution by categorical feature\n",
      "Step: generate_target_distribution_based_on_categorical_features_step, execution_time: 1.861917495727539\n",
      "Dataset hash='3c0b2e77ba77bdb430e3af4d55b031914b11c62368ed6a8cac828c201f65d0b8' after step: generate_target_distribution_based_on_categorical_features_step\n",
      "Step: drop_single_value_features, execution_time: 0.15534043312072754\n",
      "Dataset hash='bfeba4401c7e9cbc90673a460ff59b3b5b7a94ebe1b8c2615af9618a047545a0' after step: drop_single_value_features\n",
      "Step: drop_variable_enum_features, execution_time: 0.1582486629486084\n",
      "Dataset hash='89d7434420dfd2d6fd2d2d65bd74862e5d0c4b1e576fb0b112d98d790532c313' after step: drop_variable_enum_features\n",
      "Step: reduce_memory_usage, execution_time: 7.500664472579956\n",
      "Dataset hash='5cc9f3ed892883b187ec65af273c889ea88387889f644bcc644d2d77422b968a' after step: reduce_memory_usage\n"
     ]
    },
    {
     "data": {
      "text/plain": [
       "0"
      ]
     },
     "execution_count": 9,
     "metadata": {},
     "output_type": "execute_result"
    }
   ],
   "source": [
    "test_dataset = data_loader.load_test_dataset()\n",
    "print(\"Test dataset week range: {}-{}\".format(test_dataset.get_base()[\"WEEK_NUM\"].min(), test_dataset.get_base()[\"WEEK_NUM\"].max()))\n",
    "gc.collect()\n",
    "test_df, columns_info = preprocessor.process_test_dataset(test_dataset, columns_info)\n",
    "del test_dataset\n",
    "\n",
    "gc.collect()"
   ]
  },
  {
   "cell_type": "code",
   "execution_count": 10,
   "id": "7b2159e9",
   "metadata": {
    "execution": {
     "iopub.execute_input": "2024-03-14T09:54:55.950596Z",
     "iopub.status.busy": "2024-03-14T09:54:55.950166Z",
     "iopub.status.idle": "2024-03-14T09:55:19.575175Z",
     "shell.execute_reply": "2024-03-14T09:55:19.573737Z"
    },
    "papermill": {
     "duration": 23.655469,
     "end_time": "2024-03-14T09:55:19.577752",
     "exception": false,
     "start_time": "2024-03-14T09:54:55.922283",
     "status": "completed"
    },
    "tags": []
   },
   "outputs": [
    {
     "name": "stdout",
     "output_type": "stream",
     "text": [
      "3433.3867778778076\n",
      "shape: (630_325, 1_614)\n",
      "┌─────────┬────────────┬────────┬──────────┬───┬────────────┬────────────┬────────────┬────────────┐\n",
      "│ case_id ┆ date_decis ┆ MONTH  ┆ WEEK_NUM ┆ … ┆ last_type_ ┆ last_type_ ┆ age_bucket ┆ age_bucket │\n",
      "│ ---     ┆ ion        ┆ ---    ┆ ---      ┆   ┆ 25L_target ┆ 25L_value_ ┆ _target_di ┆ _value_per │\n",
      "│ i32     ┆ ---        ┆ i32    ┆ i8       ┆   ┆ _distribut ┆ persent    ┆ stribution ┆ sent       │\n",
      "│         ┆ i16        ┆        ┆          ┆   ┆ io…        ┆ ---        ┆ ---        ┆ ---        │\n",
      "│         ┆            ┆        ┆          ┆   ┆ ---        ┆ f32        ┆ f32        ┆ f32        │\n",
      "│         ┆            ┆        ┆          ┆   ┆ f32        ┆            ┆            ┆            │\n",
      "╞═════════╪════════════╪════════╪══════════╪═══╪════════════╪════════════╪════════════╪════════════╡\n",
      "│ 37350   ┆ 18219      ┆ 201911 ┆ 46       ┆ … ┆ 0.017788   ┆ 0.030795   ┆ 0.016654   ┆ 0.142686   │\n",
      "│ 37377   ┆ 18219      ┆ 201911 ┆ 46       ┆ … ┆ 0.032451   ┆ 0.432632   ┆ 0.032193   ┆ 0.25891    │\n",
      "│ 37450   ┆ 18219      ┆ 201911 ┆ 46       ┆ … ┆ 0.032451   ┆ 0.432632   ┆ 0.032193   ┆ 0.25891    │\n",
      "│ 37600   ┆ 18221      ┆ 201911 ┆ 46       ┆ … ┆ 0.032451   ┆ 0.432632   ┆ 0.032193   ┆ 0.25891    │\n",
      "│ …       ┆ …          ┆ …      ┆ …        ┆ … ┆ …          ┆ …          ┆ …          ┆ …          │\n",
      "│ 2703451 ┆ 18540      ┆ 202010 ┆ 91       ┆ … ┆ 0.017788   ┆ 0.030795   ┆ 0.016654   ┆ 0.142686   │\n",
      "│ 2703452 ┆ 18540      ┆ 202010 ┆ 91       ┆ … ┆ 0.028944   ┆ 0.491948   ┆ 0.029165   ┆ 0.215248   │\n",
      "│ 2703453 ┆ 18540      ┆ 202010 ┆ 91       ┆ … ┆ 0.017788   ┆ 0.030795   ┆ 0.019404   ┆ 0.028978   │\n",
      "│ 2703454 ┆ 18540      ┆ 202010 ┆ 91       ┆ … ┆ 0.028944   ┆ 0.491948   ┆ 0.019404   ┆ 0.028978   │\n",
      "└─────────┴────────────┴────────┴──────────┴───┴────────────┴────────────┴────────────┴────────────┘\n"
     ]
    },
    {
     "data": {
      "text/plain": [
       "0"
      ]
     },
     "execution_count": 10,
     "metadata": {},
     "output_type": "execute_result"
    }
   ],
   "source": [
    "test_df.write_parquet(\"/kaggle/working/test_df.parquet\")\n",
    "print(test_df.estimated_size() / 1024 / 1024)\n",
    "print(test_df)\n",
    "\n",
    "del test_df\n",
    "gc.collect()"
   ]
  },
  {
   "cell_type": "markdown",
   "id": "b30b2145",
   "metadata": {
    "_kg_hide-input": true,
    "papermill": {
     "duration": 0.026382,
     "end_time": "2024-03-14T09:55:19.631108",
     "exception": false,
     "start_time": "2024-03-14T09:55:19.604726",
     "status": "completed"
    },
    "tags": []
   },
   "source": [
    "# Data visualization"
   ]
  },
  {
   "cell_type": "code",
   "execution_count": null,
   "id": "1c68f7e8",
   "metadata": {
    "papermill": {
     "duration": 0.027856,
     "end_time": "2024-03-14T09:55:19.685328",
     "exception": false,
     "start_time": "2024-03-14T09:55:19.657472",
     "status": "completed"
    },
    "tags": []
   },
   "outputs": [],
   "source": []
  },
  {
   "cell_type": "code",
   "execution_count": 11,
   "id": "eb7e71ee",
   "metadata": {
    "execution": {
     "iopub.execute_input": "2024-03-14T09:55:19.742514Z",
     "iopub.status.busy": "2024-03-14T09:55:19.742100Z",
     "iopub.status.idle": "2024-03-14T09:55:19.747140Z",
     "shell.execute_reply": "2024-03-14T09:55:19.745838Z"
    },
    "papermill": {
     "duration": 0.037195,
     "end_time": "2024-03-14T09:55:19.749684",
     "exception": false,
     "start_time": "2024-03-14T09:55:19.712489",
     "status": "completed"
    },
    "tags": []
   },
   "outputs": [],
   "source": [
    "# train_dataset = data_loader.load_train_dataset()"
   ]
  },
  {
   "cell_type": "code",
   "execution_count": 12,
   "id": "2ea156f4",
   "metadata": {
    "execution": {
     "iopub.execute_input": "2024-03-14T09:55:19.805208Z",
     "iopub.status.busy": "2024-03-14T09:55:19.804805Z",
     "iopub.status.idle": "2024-03-14T09:55:19.809406Z",
     "shell.execute_reply": "2024-03-14T09:55:19.808281Z"
    },
    "papermill": {
     "duration": 0.035912,
     "end_time": "2024-03-14T09:55:19.812328",
     "exception": false,
     "start_time": "2024-03-14T09:55:19.776416",
     "status": "completed"
    },
    "tags": []
   },
   "outputs": [],
   "source": [
    "# [column for column in train_df.columns if \"amtdebitincoming_4809443A\" in column]"
   ]
  },
  {
   "cell_type": "code",
   "execution_count": 13,
   "id": "d988b9e2",
   "metadata": {
    "execution": {
     "iopub.execute_input": "2024-03-14T09:55:19.869915Z",
     "iopub.status.busy": "2024-03-14T09:55:19.868169Z",
     "iopub.status.idle": "2024-03-14T09:55:19.874447Z",
     "shell.execute_reply": "2024-03-14T09:55:19.873529Z"
    },
    "papermill": {
     "duration": 0.03837,
     "end_time": "2024-03-14T09:55:19.877061",
     "exception": false,
     "start_time": "2024-03-14T09:55:19.838691",
     "status": "completed"
    },
    "tags": []
   },
   "outputs": [],
   "source": [
    "# train_dataset.get_base()[\"target\"].mean()"
   ]
  },
  {
   "cell_type": "code",
   "execution_count": 14,
   "id": "006ef9b3",
   "metadata": {
    "execution": {
     "iopub.execute_input": "2024-03-14T09:55:19.933218Z",
     "iopub.status.busy": "2024-03-14T09:55:19.932159Z",
     "iopub.status.idle": "2024-03-14T09:55:19.937445Z",
     "shell.execute_reply": "2024-03-14T09:55:19.936695Z"
    },
    "papermill": {
     "duration": 0.035581,
     "end_time": "2024-03-14T09:55:19.939890",
     "exception": false,
     "start_time": "2024-03-14T09:55:19.904309",
     "status": "completed"
    },
    "tags": []
   },
   "outputs": [],
   "source": [
    "# tables = {name: table for name, table in train_dataset.get_depth_tables(1)}"
   ]
  },
  {
   "cell_type": "code",
   "execution_count": 15,
   "id": "e984577a",
   "metadata": {
    "execution": {
     "iopub.execute_input": "2024-03-14T09:55:19.994438Z",
     "iopub.status.busy": "2024-03-14T09:55:19.993644Z",
     "iopub.status.idle": "2024-03-14T09:55:19.999030Z",
     "shell.execute_reply": "2024-03-14T09:55:19.998061Z"
    },
    "papermill": {
     "duration": 0.035697,
     "end_time": "2024-03-14T09:55:20.001815",
     "exception": false,
     "start_time": "2024-03-14T09:55:19.966118",
     "status": "completed"
    },
    "tags": []
   },
   "outputs": [],
   "source": [
    "# applprev_1 = tables[\"applprev_1\"]"
   ]
  },
  {
   "cell_type": "code",
   "execution_count": 16,
   "id": "79683940",
   "metadata": {
    "execution": {
     "iopub.execute_input": "2024-03-14T09:55:20.057228Z",
     "iopub.status.busy": "2024-03-14T09:55:20.056426Z",
     "iopub.status.idle": "2024-03-14T09:55:20.061646Z",
     "shell.execute_reply": "2024-03-14T09:55:20.060674Z"
    },
    "papermill": {
     "duration": 0.035319,
     "end_time": "2024-03-14T09:55:20.063936",
     "exception": false,
     "start_time": "2024-03-14T09:55:20.028617",
     "status": "completed"
    },
    "tags": []
   },
   "outputs": [],
   "source": [
    "# joined = applprev_1[\"case_id\"].value_counts().join(train_dataset.get_base()[[\"case_id\", \"target\"]], on=\"case_id\").sort(\"count\")\n",
    "# joined.filter(pl.col(\"target\") == 1)"
   ]
  },
  {
   "cell_type": "code",
   "execution_count": 17,
   "id": "c288e788",
   "metadata": {
    "execution": {
     "iopub.execute_input": "2024-03-14T09:55:20.119498Z",
     "iopub.status.busy": "2024-03-14T09:55:20.118668Z",
     "iopub.status.idle": "2024-03-14T09:55:20.123291Z",
     "shell.execute_reply": "2024-03-14T09:55:20.121922Z"
    },
    "papermill": {
     "duration": 0.03538,
     "end_time": "2024-03-14T09:55:20.125668",
     "exception": false,
     "start_time": "2024-03-14T09:55:20.090288",
     "status": "completed"
    },
    "tags": []
   },
   "outputs": [],
   "source": [
    "# base = train_dataset.get_base()"
   ]
  },
  {
   "cell_type": "code",
   "execution_count": 18,
   "id": "2138658b",
   "metadata": {
    "execution": {
     "iopub.execute_input": "2024-03-14T09:55:20.181390Z",
     "iopub.status.busy": "2024-03-14T09:55:20.180606Z",
     "iopub.status.idle": "2024-03-14T09:55:20.184704Z",
     "shell.execute_reply": "2024-03-14T09:55:20.183876Z"
    },
    "papermill": {
     "duration": 0.034704,
     "end_time": "2024-03-14T09:55:20.186984",
     "exception": false,
     "start_time": "2024-03-14T09:55:20.152280",
     "status": "completed"
    },
    "tags": []
   },
   "outputs": [],
   "source": [
    "# base.filter(pl.col(\"case_id\") == 2702490)"
   ]
  },
  {
   "cell_type": "code",
   "execution_count": 19,
   "id": "05c9a6e3",
   "metadata": {
    "execution": {
     "iopub.execute_input": "2024-03-14T09:55:20.243415Z",
     "iopub.status.busy": "2024-03-14T09:55:20.242627Z",
     "iopub.status.idle": "2024-03-14T09:55:20.247161Z",
     "shell.execute_reply": "2024-03-14T09:55:20.245994Z"
    },
    "papermill": {
     "duration": 0.036486,
     "end_time": "2024-03-14T09:55:20.250014",
     "exception": false,
     "start_time": "2024-03-14T09:55:20.213528",
     "status": "completed"
    },
    "tags": []
   },
   "outputs": [],
   "source": [
    "# applprev_1.filter(applprev_1[\"case_id\"] == 2702490).sort(\"num_group1\")\n",
    "#base.filter(pl.col(\"case_id\") == 176526)"
   ]
  },
  {
   "cell_type": "code",
   "execution_count": 20,
   "id": "830afa54",
   "metadata": {
    "execution": {
     "iopub.execute_input": "2024-03-14T09:55:20.308112Z",
     "iopub.status.busy": "2024-03-14T09:55:20.307695Z",
     "iopub.status.idle": "2024-03-14T09:55:20.312760Z",
     "shell.execute_reply": "2024-03-14T09:55:20.311567Z"
    },
    "papermill": {
     "duration": 0.037916,
     "end_time": "2024-03-14T09:55:20.315109",
     "exception": false,
     "start_time": "2024-03-14T09:55:20.277193",
     "status": "completed"
    },
    "tags": []
   },
   "outputs": [],
   "source": [
    "# applprev_1.filter(applprev_1[\"case_id\"] == 2702490).sort(\"num_group1\")[[\"credamount_590A\", \"mainoccupationinc_437A\", \"rejectreason_755M\", \"rejectreasonclient_4145042M\"]]\n"
   ]
  },
  {
   "cell_type": "code",
   "execution_count": 21,
   "id": "f732d3c4",
   "metadata": {
    "execution": {
     "iopub.execute_input": "2024-03-14T09:55:20.371617Z",
     "iopub.status.busy": "2024-03-14T09:55:20.371171Z",
     "iopub.status.idle": "2024-03-14T09:55:20.376413Z",
     "shell.execute_reply": "2024-03-14T09:55:20.375164Z"
    },
    "papermill": {
     "duration": 0.03627,
     "end_time": "2024-03-14T09:55:20.378847",
     "exception": false,
     "start_time": "2024-03-14T09:55:20.342577",
     "status": "completed"
    },
    "tags": []
   },
   "outputs": [],
   "source": [
    "# applprev_1.filter(applprev_1[\"case_id\"] == 176526).sort(\"num_group1\")[[\"credamount_590A\", \"mainoccupationinc_437A\", \"rejectreason_755M\", \"rejectreasonclient_4145042M\"]]a"
   ]
  },
  {
   "cell_type": "code",
   "execution_count": 22,
   "id": "3eae59b0",
   "metadata": {
    "execution": {
     "iopub.execute_input": "2024-03-14T09:55:20.435389Z",
     "iopub.status.busy": "2024-03-14T09:55:20.434944Z",
     "iopub.status.idle": "2024-03-14T09:55:20.439618Z",
     "shell.execute_reply": "2024-03-14T09:55:20.438453Z"
    },
    "papermill": {
     "duration": 0.035834,
     "end_time": "2024-03-14T09:55:20.441782",
     "exception": false,
     "start_time": "2024-03-14T09:55:20.405948",
     "status": "completed"
    },
    "tags": []
   },
   "outputs": [],
   "source": [
    "# applprev_1.filter(applprev_1[\"case_id\"] == 176526).sort(\"num_group1\")"
   ]
  },
  {
   "cell_type": "code",
   "execution_count": 23,
   "id": "de8d77db",
   "metadata": {
    "execution": {
     "iopub.execute_input": "2024-03-14T09:55:20.497251Z",
     "iopub.status.busy": "2024-03-14T09:55:20.496826Z",
     "iopub.status.idle": "2024-03-14T09:55:20.501680Z",
     "shell.execute_reply": "2024-03-14T09:55:20.500682Z"
    },
    "papermill": {
     "duration": 0.035069,
     "end_time": "2024-03-14T09:55:20.503913",
     "exception": false,
     "start_time": "2024-03-14T09:55:20.468844",
     "status": "completed"
    },
    "tags": []
   },
   "outputs": [],
   "source": [
    "# FreatureDescriptionGetter().get(\"rejectreasonclient_4145042M\")"
   ]
  },
  {
   "cell_type": "code",
   "execution_count": 24,
   "id": "0ffc2f03",
   "metadata": {
    "execution": {
     "iopub.execute_input": "2024-03-14T09:55:20.559315Z",
     "iopub.status.busy": "2024-03-14T09:55:20.558890Z",
     "iopub.status.idle": "2024-03-14T09:55:20.564017Z",
     "shell.execute_reply": "2024-03-14T09:55:20.562927Z"
    },
    "papermill": {
     "duration": 0.035204,
     "end_time": "2024-03-14T09:55:20.566273",
     "exception": false,
     "start_time": "2024-03-14T09:55:20.531069",
     "status": "completed"
    },
    "tags": []
   },
   "outputs": [],
   "source": [
    "# def bucket_mean_split(x, y, buckets=100):\n",
    "#     x_buckets = []\n",
    "#     y_buckets = []\n",
    "\n",
    "#     x = np.array(x)\n",
    "#     y = np.array(y)\n",
    "#     x_quantiles = [np.quantile(x, i / buckets) for i in range(0, buckets + 1)]\n",
    "#     for i in range(0, buckets):\n",
    "#         filter = (x >= x_quantiles[i]) & (x <= x_quantiles[i + 1])\n",
    "#         x_buckets.append(np.mean(x[filter]))\n",
    "#         y_buckets.append(np.mean(y[filter]))\n",
    "#     return x_buckets, y_buckets"
   ]
  },
  {
   "cell_type": "code",
   "execution_count": 25,
   "id": "149a153c",
   "metadata": {
    "execution": {
     "iopub.execute_input": "2024-03-14T09:55:20.622654Z",
     "iopub.status.busy": "2024-03-14T09:55:20.622206Z",
     "iopub.status.idle": "2024-03-14T09:55:20.627197Z",
     "shell.execute_reply": "2024-03-14T09:55:20.626138Z"
    },
    "papermill": {
     "duration": 0.035298,
     "end_time": "2024-03-14T09:55:20.629644",
     "exception": false,
     "start_time": "2024-03-14T09:55:20.594346",
     "status": "completed"
    },
    "tags": []
   },
   "outputs": [],
   "source": [
    "# train[\"target\"].mean()"
   ]
  },
  {
   "cell_type": "code",
   "execution_count": 26,
   "id": "49d3e321",
   "metadata": {
    "execution": {
     "iopub.execute_input": "2024-03-14T09:55:20.684849Z",
     "iopub.status.busy": "2024-03-14T09:55:20.684309Z",
     "iopub.status.idle": "2024-03-14T09:55:20.689387Z",
     "shell.execute_reply": "2024-03-14T09:55:20.688118Z"
    },
    "papermill": {
     "duration": 0.035757,
     "end_time": "2024-03-14T09:55:20.691794",
     "exception": false,
     "start_time": "2024-03-14T09:55:20.656037",
     "status": "completed"
    },
    "tags": []
   },
   "outputs": [],
   "source": [
    "# print(\"Mean target={} where actualdpdtolerance_344P != 0\".format(train[\"target\"].filter(train[\"actualdpdtolerance_344P\"] != 0).mean()))\n",
    "# print(\"Mean target={} where actualdpdtolerance_344P == 0\".format(train[\"target\"].filter(train[\"actualdpdtolerance_344P\"] == 0).mean()))\n",
    "# print(\"Mean target={} where actualdpdtolerance_344P is null\".format(train[\"target\"].filter(train[\"actualdpdtolerance_344P\"].is_null()).mean()))"
   ]
  },
  {
   "cell_type": "code",
   "execution_count": 27,
   "id": "6fddf592",
   "metadata": {
    "execution": {
     "iopub.execute_input": "2024-03-14T09:55:20.746605Z",
     "iopub.status.busy": "2024-03-14T09:55:20.746189Z",
     "iopub.status.idle": "2024-03-14T09:55:20.752349Z",
     "shell.execute_reply": "2024-03-14T09:55:20.751110Z"
    },
    "papermill": {
     "duration": 0.036778,
     "end_time": "2024-03-14T09:55:20.755024",
     "exception": false,
     "start_time": "2024-03-14T09:55:20.718246",
     "status": "completed"
    },
    "tags": []
   },
   "outputs": [],
   "source": [
    "# columns = [column for column in train.columns if (train[column].dtype == pl.Float64)]\n",
    "\n",
    "# figure, axis = plt.subplots(len(columns) // 5 + 1, 5, figsize=(15, 30))\n",
    "# for index, column in enumerate(columns):\n",
    "#     current_plot = axis[index // 5, index % 5]\n",
    "#     x = train[column]\n",
    "#     y = train[\"target\"]\n",
    "#     if (x.dtype == pl.String or x.dtype == pl.Boolean):\n",
    "#         continue\n",
    "#     filter = x.is_not_null()\n",
    "#     x = x.filter(filter)\n",
    "#     y = y.filter(filter)\n",
    "#     if (x.is_empty()):\n",
    "#         continue\n",
    "#     x_bucket, y_bucket = bucket_mean_split(x.to_numpy(), y.to_numpy(), buckets=100)\n",
    "#     current_plot.plot(x_bucket, y_bucket)\n",
    "#     current_plot.set_title(column)\n",
    "# plt.show()"
   ]
  },
  {
   "cell_type": "code",
   "execution_count": 28,
   "id": "be072f0f",
   "metadata": {
    "execution": {
     "iopub.execute_input": "2024-03-14T09:55:20.810063Z",
     "iopub.status.busy": "2024-03-14T09:55:20.809586Z",
     "iopub.status.idle": "2024-03-14T09:55:20.814428Z",
     "shell.execute_reply": "2024-03-14T09:55:20.813194Z"
    },
    "papermill": {
     "duration": 0.035653,
     "end_time": "2024-03-14T09:55:20.817323",
     "exception": false,
     "start_time": "2024-03-14T09:55:20.781670",
     "status": "completed"
    },
    "tags": []
   },
   "outputs": [],
   "source": [
    "# features = train_df.columns\n",
    "# features.remove(\"WEEK_NUM\")\n",
    "# features.remove(\"case_id\")\n",
    "# features.remove(\"target\")"
   ]
  },
  {
   "cell_type": "code",
   "execution_count": 29,
   "id": "b881fdbb",
   "metadata": {
    "execution": {
     "iopub.execute_input": "2024-03-14T09:55:20.872965Z",
     "iopub.status.busy": "2024-03-14T09:55:20.872510Z",
     "iopub.status.idle": "2024-03-14T09:55:20.877419Z",
     "shell.execute_reply": "2024-03-14T09:55:20.876102Z"
    },
    "papermill": {
     "duration": 0.035404,
     "end_time": "2024-03-14T09:55:20.879949",
     "exception": false,
     "start_time": "2024-03-14T09:55:20.844545",
     "status": "completed"
    },
    "tags": []
   },
   "outputs": [],
   "source": [
    "# gc.collect()"
   ]
  },
  {
   "cell_type": "markdown",
   "id": "f52f2a28",
   "metadata": {
    "papermill": {
     "duration": 0.026743,
     "end_time": "2024-03-14T09:55:20.933248",
     "exception": false,
     "start_time": "2024-03-14T09:55:20.906505",
     "status": "completed"
    },
    "tags": []
   },
   "source": [
    "### Feature Importance"
   ]
  },
  {
   "cell_type": "code",
   "execution_count": 30,
   "id": "63096aad",
   "metadata": {
    "execution": {
     "iopub.execute_input": "2024-03-14T09:55:20.990171Z",
     "iopub.status.busy": "2024-03-14T09:55:20.989735Z",
     "iopub.status.idle": "2024-03-14T09:55:20.995174Z",
     "shell.execute_reply": "2024-03-14T09:55:20.994029Z"
    },
    "papermill": {
     "duration": 0.035621,
     "end_time": "2024-03-14T09:55:20.997528",
     "exception": false,
     "start_time": "2024-03-14T09:55:20.961907",
     "status": "completed"
    },
    "tags": []
   },
   "outputs": [],
   "source": [
    "# def train_rf(X, Y):    \n",
    "#     params = {\n",
    "#         \"boosting_type\": \"gbdt\",\n",
    "#         \"objective\": \"binary\",\n",
    "#         \"metric\": \"auc\",\n",
    "#         \"max_depth\": 8,\n",
    "#         \"max_bin\": 255,\n",
    "#         \"learning_rate\": 0.05,\n",
    "#         \"n_estimators\": 200,\n",
    "#         \"colsample_bytree\": 0.8, \n",
    "#         \"colsample_bynode\": 0.8,\n",
    "#         \"verbose\": -1,\n",
    "#         \"random_state\": 42,\n",
    "#         \"device\": \"gpu\",\n",
    "#     }\n",
    "    \n",
    "#     model = lgb.LGBMClassifier(**params)\n",
    "    \n",
    "#     model.fit(X.to_pandas(), Y.to_pandas())\n",
    "    \n",
    "#     # Get feature importances\n",
    "#     return pl.DataFrame({\n",
    "#         \"feature\": list(X.columns),\n",
    "#         \"feature_importance\": model.feature_importances_,\n",
    "#         \"train_score\": roc_auc_score(Y.to_pandas(), model.predict(X.to_pandas()))\n",
    "#     })"
   ]
  },
  {
   "cell_type": "code",
   "execution_count": 31,
   "id": "d97d53b4",
   "metadata": {
    "execution": {
     "iopub.execute_input": "2024-03-14T09:55:21.052451Z",
     "iopub.status.busy": "2024-03-14T09:55:21.051999Z",
     "iopub.status.idle": "2024-03-14T09:55:21.058024Z",
     "shell.execute_reply": "2024-03-14T09:55:21.056586Z"
    },
    "papermill": {
     "duration": 0.038199,
     "end_time": "2024-03-14T09:55:21.062105",
     "exception": false,
     "start_time": "2024-03-14T09:55:21.023906",
     "status": "completed"
    },
    "tags": []
   },
   "outputs": [],
   "source": [
    "# def get_feature_importance(X, Y):\n",
    "#     COUNT_ITER = 50\n",
    "    \n",
    "#     dfs = []\n",
    "#     for i in range(COUNT_ITER):\n",
    "#         gc.collect()\n",
    "        \n",
    "#         start_time = time.time()\n",
    "#         shuffled_Y = Y.clone().sample(fraction=1.0, shuffle=True)\n",
    "#         current_df = train_rf(X, shuffled_Y)\n",
    "#         finish_time = time.time()\n",
    "#         print(f\"Finish iteration: {i + 1}/{COUNT_ITER}, time: {finish_time - start_time}\")\n",
    "#         current_df = current_df.with_columns(pl.lit(i).alias(\"iteration\"))\n",
    "#         dfs.append(current_df)\n",
    "        \n",
    "#     return pl.concat(dfs, rechunk=True), train_rf(X, Y)"
   ]
  },
  {
   "cell_type": "code",
   "execution_count": 32,
   "id": "083c3609",
   "metadata": {
    "execution": {
     "iopub.execute_input": "2024-03-14T09:55:21.119677Z",
     "iopub.status.busy": "2024-03-14T09:55:21.119262Z",
     "iopub.status.idle": "2024-03-14T09:55:21.123918Z",
     "shell.execute_reply": "2024-03-14T09:55:21.122686Z"
    },
    "papermill": {
     "duration": 0.036708,
     "end_time": "2024-03-14T09:55:21.126436",
     "exception": false,
     "start_time": "2024-03-14T09:55:21.089728",
     "status": "completed"
    },
    "tags": []
   },
   "outputs": [],
   "source": [
    "# shuffled_feature_importance_df, feature_importance_df = get_feature_importance(train_df[features], train_df[\"target\"])\n",
    "# shuffled_feature_importance_df.write_csv(\"shuffled_feature_importance_df.csv\", separator=\",\")\n",
    "# feature_importance_df.write_csv(\"feature_importance_df.csv\", separator=\",\")"
   ]
  },
  {
   "cell_type": "code",
   "execution_count": 33,
   "id": "d395f3be",
   "metadata": {
    "execution": {
     "iopub.execute_input": "2024-03-14T09:55:21.184141Z",
     "iopub.status.busy": "2024-03-14T09:55:21.183722Z",
     "iopub.status.idle": "2024-03-14T09:55:21.188788Z",
     "shell.execute_reply": "2024-03-14T09:55:21.187699Z"
    },
    "papermill": {
     "duration": 0.036073,
     "end_time": "2024-03-14T09:55:21.191114",
     "exception": false,
     "start_time": "2024-03-14T09:55:21.155041",
     "status": "completed"
    },
    "tags": []
   },
   "outputs": [],
   "source": [
    "# important_features = []\n",
    "# for column in feature_importance_df[\"feature\"]:\n",
    "#     shuffled_feature_importance = shuffled_feature_importance_df.filter(shuffled_feature_importance_df[\"feature\"] == column)[\"feature_importance\"].to_numpy()\n",
    "#     feature_importance = feature_importance_df.filter(feature_importance_df[\"feature\"] == column)[\"feature_importance\"][0]\n",
    "    \n",
    "#     if (np.percentile(shuffled_feature_importance, 90) <= feature_importance):\n",
    "#         important_features.append(column)\n",
    "# print(len(important_features), important_features)"
   ]
  },
  {
   "cell_type": "markdown",
   "id": "9d3dfa09",
   "metadata": {
    "papermill": {
     "duration": 0.026121,
     "end_time": "2024-03-14T09:55:21.244229",
     "exception": false,
     "start_time": "2024-03-14T09:55:21.218108",
     "status": "completed"
    },
    "tags": []
   },
   "source": [
    "# Training"
   ]
  },
  {
   "cell_type": "code",
   "execution_count": 34,
   "id": "5310a078",
   "metadata": {
    "execution": {
     "iopub.execute_input": "2024-03-14T09:55:21.300521Z",
     "iopub.status.busy": "2024-03-14T09:55:21.300039Z",
     "iopub.status.idle": "2024-03-14T09:55:21.306230Z",
     "shell.execute_reply": "2024-03-14T09:55:21.305033Z"
    },
    "papermill": {
     "duration": 0.038402,
     "end_time": "2024-03-14T09:55:21.308880",
     "exception": false,
     "start_time": "2024-03-14T09:55:21.270478",
     "status": "completed"
    },
    "tags": []
   },
   "outputs": [],
   "source": [
    "# class VotingModel(BaseEstimator, RegressorMixin):\n",
    "#     def __init__(self, estimators):\n",
    "#         super().__init__()\n",
    "#         self.estimators = estimators\n",
    "        \n",
    "#     def fit(self, X, y=None):\n",
    "#         return self\n",
    "    \n",
    "#     def predict(self, X):\n",
    "#         y_preds = [estimator.predict(X) for estimator in self.estimators]\n",
    "#         return np.mean(y_preds, axis=0)\n",
    "    \n",
    "#     def predict_proba(self, X):\n",
    "#         y_preds = [estimator.predict_proba(X) for estimator in self.estimators]\n",
    "#         return np.mean(y_preds, axis=0)\n",
    "    \n",
    "#     def get_feature_importance(self):\n",
    "#         feature_importances = np.array([0 for feature in features])\n",
    "\n",
    "#         for model in self.estimators:\n",
    "#             feature_importances += model.feature_importances_\n",
    "\n",
    "#         return feature_importances"
   ]
  },
  {
   "cell_type": "code",
   "execution_count": 35,
   "id": "46d51a7a",
   "metadata": {
    "execution": {
     "iopub.execute_input": "2024-03-14T09:55:21.364086Z",
     "iopub.status.busy": "2024-03-14T09:55:21.363612Z",
     "iopub.status.idle": "2024-03-14T09:55:21.368600Z",
     "shell.execute_reply": "2024-03-14T09:55:21.367390Z"
    },
    "papermill": {
     "duration": 0.035562,
     "end_time": "2024-03-14T09:55:21.371170",
     "exception": false,
     "start_time": "2024-03-14T09:55:21.335608",
     "status": "completed"
    },
    "tags": []
   },
   "outputs": [],
   "source": [
    "# for column in features:\n",
    "#     if (train_dataset[column].dtype != pl.Categorical) and \\\n",
    "#         (train_dataset[column].dtype != pl.Float64) and \\\n",
    "#         (train_dataset[column].dtype != pl.Float64):\n",
    "#         print(column, train_dataset[column].dtype)"
   ]
  },
  {
   "cell_type": "code",
   "execution_count": 36,
   "id": "c1da298a",
   "metadata": {
    "execution": {
     "iopub.execute_input": "2024-03-14T09:55:21.426068Z",
     "iopub.status.busy": "2024-03-14T09:55:21.425637Z",
     "iopub.status.idle": "2024-03-14T09:55:21.431053Z",
     "shell.execute_reply": "2024-03-14T09:55:21.430161Z"
    },
    "papermill": {
     "duration": 0.035891,
     "end_time": "2024-03-14T09:55:21.433487",
     "exception": false,
     "start_time": "2024-03-14T09:55:21.397596",
     "status": "completed"
    },
    "tags": []
   },
   "outputs": [],
   "source": [
    "# def train_lgb_model(X_train, Y_train, X_test, Y_test):\n",
    "#     params = {\n",
    "#         \"boosting_type\": \"gbdt\",\n",
    "#         \"objective\": \"binary\",\n",
    "#         \"metric\": \"auc\",\n",
    "#         \"max_depth\": 8,\n",
    "#         \"max_bin\": 250,\n",
    "#         \"learning_rate\": 0.05,\n",
    "#         \"n_estimators\": 1000,\n",
    "#         \"colsample_bytree\": 0.8, \n",
    "#         \"colsample_bynode\": 0.8,\n",
    "#         \"verbose\": -1,\n",
    "#         \"random_state\": 42,\n",
    "#         \"device\": \"gpu\",\n",
    "#     }\n",
    "    \n",
    "#     model = lgb.LGBMClassifier(**params)\n",
    "    \n",
    "#     model.fit(\n",
    "#         X_train, Y_train,\n",
    "#         eval_set=[(X_test, Y_test)],\n",
    "#         callbacks=[lgb.log_evaluation(100), lgb.early_stopping(100)]\n",
    "#     )\n",
    "        \n",
    "#     return model"
   ]
  },
  {
   "cell_type": "code",
   "execution_count": 37,
   "id": "35285cbe",
   "metadata": {
    "execution": {
     "iopub.execute_input": "2024-03-14T09:55:21.492266Z",
     "iopub.status.busy": "2024-03-14T09:55:21.491840Z",
     "iopub.status.idle": "2024-03-14T09:55:21.496872Z",
     "shell.execute_reply": "2024-03-14T09:55:21.495563Z"
    },
    "papermill": {
     "duration": 0.038747,
     "end_time": "2024-03-14T09:55:21.499707",
     "exception": false,
     "start_time": "2024-03-14T09:55:21.460960",
     "status": "completed"
    },
    "tags": []
   },
   "outputs": [],
   "source": [
    "# gc.collect()"
   ]
  },
  {
   "cell_type": "code",
   "execution_count": 38,
   "id": "eee68147",
   "metadata": {
    "execution": {
     "iopub.execute_input": "2024-03-14T09:55:21.555791Z",
     "iopub.status.busy": "2024-03-14T09:55:21.555353Z",
     "iopub.status.idle": "2024-03-14T09:55:21.564439Z",
     "shell.execute_reply": "2024-03-14T09:55:21.563354Z"
    },
    "papermill": {
     "duration": 0.040133,
     "end_time": "2024-03-14T09:55:21.567121",
     "exception": false,
     "start_time": "2024-03-14T09:55:21.526988",
     "status": "completed"
    },
    "tags": []
   },
   "outputs": [],
   "source": [
    "# weeks = train_df[\"WEEK_NUM\"]\n",
    "# cv = StratifiedGroupKFold(n_splits=5, shuffle=False)\n",
    "\n",
    "# fitted_models = []\n",
    "\n",
    "# oof_predicted = np.zeros(train_df.shape[0])\n",
    "\n",
    "# for idx_train, idx_test in cv.split(train_df[features], train_df[\"target\"], groups=weeks):        \n",
    "# #     X_train = train_df[features][idx_train].to_pandas()\n",
    "# #     Y_train = train_df[\"target\"][idx_train].to_pandas()\n",
    "    \n",
    "#     X_test = train_df[features][idx_test].to_pandas()\n",
    "#     Y_test = train_df[\"target\"][idx_test].to_pandas()\n",
    "    \n",
    "#     start = time.time()\n",
    "#     params = {\n",
    "#         \"boosting_type\": \"gbdt\",\n",
    "#         \"objective\": \"binary\",\n",
    "#         \"metric\": \"auc\",\n",
    "#         \"max_depth\": 8,\n",
    "#         \"max_bin\": 250,\n",
    "#         \"learning_rate\": 0.05,\n",
    "#         \"n_estimators\": 1000,\n",
    "#         \"colsample_bytree\": 0.8, \n",
    "#         \"colsample_bynode\": 0.8,\n",
    "#         \"verbose\": -1,\n",
    "#         \"random_state\": 42,\n",
    "#         \"device\": \"gpu\",\n",
    "#     }\n",
    "    \n",
    "#     model = lgb.LGBMClassifier(**params)\n",
    "    \n",
    "#     model.fit(\n",
    "#         train_df[features][idx_train].to_pandas(), train_df[\"target\"][idx_train].to_pandas(),\n",
    "#         eval_set=[(X_test, Y_test)],\n",
    "#         callbacks=[lgb.log_evaluation(100), lgb.early_stopping(100)]\n",
    "#     )\n",
    "        \n",
    "\n",
    "# #    model = train_lgb_model(X_train, Y_train, X_test, Y_test)\n",
    "#     finish = time.time()\n",
    "    \n",
    "#     print(\"fit time: {}\".format(finish - start))\n",
    "#     fitted_models.append(model)\n",
    "    \n",
    "#     test_pred = model.predict_proba(X_test)[:, 1]\n",
    "#     oof_predicted[idx_test] = test_pred\n",
    "#     gc.collect()\n",
    "\n",
    "# model = VotingModel(fitted_models)\n",
    "# gc.collect()"
   ]
  },
  {
   "cell_type": "code",
   "execution_count": 39,
   "id": "a066c0ee",
   "metadata": {
    "execution": {
     "iopub.execute_input": "2024-03-14T09:55:21.623230Z",
     "iopub.status.busy": "2024-03-14T09:55:21.622822Z",
     "iopub.status.idle": "2024-03-14T09:55:21.628942Z",
     "shell.execute_reply": "2024-03-14T09:55:21.627659Z"
    },
    "papermill": {
     "duration": 0.037459,
     "end_time": "2024-03-14T09:55:21.631710",
     "exception": false,
     "start_time": "2024-03-14T09:55:21.594251",
     "status": "completed"
    },
    "tags": []
   },
   "outputs": [],
   "source": [
    "# roc_auc_oof = roc_auc_score(train_df[\"target\"], oof_predicted)\n",
    "# print(\"CV roc_auc_oof: \", roc_auc_oof)"
   ]
  },
  {
   "cell_type": "markdown",
   "id": "20723193",
   "metadata": {
    "papermill": {
     "duration": 0.027388,
     "end_time": "2024-03-14T09:55:21.686862",
     "exception": false,
     "start_time": "2024-03-14T09:55:21.659474",
     "status": "completed"
    },
    "tags": []
   },
   "source": [
    "# Predict"
   ]
  },
  {
   "cell_type": "code",
   "execution_count": 40,
   "id": "4a8518b0",
   "metadata": {
    "execution": {
     "iopub.execute_input": "2024-03-14T09:55:21.746413Z",
     "iopub.status.busy": "2024-03-14T09:55:21.745455Z",
     "iopub.status.idle": "2024-03-14T09:55:21.750738Z",
     "shell.execute_reply": "2024-03-14T09:55:21.749856Z"
    },
    "papermill": {
     "duration": 0.037921,
     "end_time": "2024-03-14T09:55:21.753036",
     "exception": false,
     "start_time": "2024-03-14T09:55:21.715115",
     "status": "completed"
    },
    "tags": []
   },
   "outputs": [],
   "source": [
    "# del train_df\n",
    "# gc.collect()"
   ]
  },
  {
   "cell_type": "code",
   "execution_count": 41,
   "id": "bb1989b4",
   "metadata": {
    "execution": {
     "iopub.execute_input": "2024-03-14T09:55:21.811809Z",
     "iopub.status.busy": "2024-03-14T09:55:21.810871Z",
     "iopub.status.idle": "2024-03-14T09:55:21.816032Z",
     "shell.execute_reply": "2024-03-14T09:55:21.814963Z"
    },
    "papermill": {
     "duration": 0.038073,
     "end_time": "2024-03-14T09:55:21.818446",
     "exception": false,
     "start_time": "2024-03-14T09:55:21.780373",
     "status": "completed"
    },
    "tags": []
   },
   "outputs": [],
   "source": [
    "# test_dataset = data_loader.load_test_dataset()\n",
    "# print(\"Test dataset week range: {}-{}\".format(test_dataset.base[\"WEEK_NUM\"].min(), test_dataset.base[\"WEEK_NUM\"].max()))\n",
    "# gc.collect()\n",
    "# test_df = preprocessor.process_test_dataset(test_dataset)\n",
    "# del test_dataset\n",
    "# gc.collect()"
   ]
  },
  {
   "cell_type": "code",
   "execution_count": 42,
   "id": "b527ea82",
   "metadata": {
    "execution": {
     "iopub.execute_input": "2024-03-14T09:55:21.874323Z",
     "iopub.status.busy": "2024-03-14T09:55:21.873451Z",
     "iopub.status.idle": "2024-03-14T09:55:21.878892Z",
     "shell.execute_reply": "2024-03-14T09:55:21.877732Z"
    },
    "papermill": {
     "duration": 0.035777,
     "end_time": "2024-03-14T09:55:21.881243",
     "exception": false,
     "start_time": "2024-03-14T09:55:21.845466",
     "status": "completed"
    },
    "tags": []
   },
   "outputs": [],
   "source": [
    "# print([name for value, name in reversed(sorted(zip(model.get_feature_importance(), features)))][0:200])"
   ]
  },
  {
   "cell_type": "code",
   "execution_count": null,
   "id": "39709ef1",
   "metadata": {
    "papermill": {
     "duration": 0.026514,
     "end_time": "2024-03-14T09:55:21.934789",
     "exception": false,
     "start_time": "2024-03-14T09:55:21.908275",
     "status": "completed"
    },
    "tags": []
   },
   "outputs": [],
   "source": []
  },
  {
   "cell_type": "code",
   "execution_count": 43,
   "id": "82d746d3",
   "metadata": {
    "execution": {
     "iopub.execute_input": "2024-03-14T09:55:21.990067Z",
     "iopub.status.busy": "2024-03-14T09:55:21.989674Z",
     "iopub.status.idle": "2024-03-14T09:55:21.994180Z",
     "shell.execute_reply": "2024-03-14T09:55:21.993094Z"
    },
    "papermill": {
     "duration": 0.035177,
     "end_time": "2024-03-14T09:55:21.996526",
     "exception": false,
     "start_time": "2024-03-14T09:55:21.961349",
     "status": "completed"
    },
    "tags": []
   },
   "outputs": [],
   "source": [
    "# CV roc_auc_oof:  0.8353789451006361 without feature selection ~500 features\n",
    "# CV roc_auc_oof:  0.8329322959533371 with feature selection ~200 features"
   ]
  },
  {
   "cell_type": "code",
   "execution_count": null,
   "id": "7c2e1ab4",
   "metadata": {
    "papermill": {
     "duration": 0.026441,
     "end_time": "2024-03-14T09:55:22.049704",
     "exception": false,
     "start_time": "2024-03-14T09:55:22.023263",
     "status": "completed"
    },
    "tags": []
   },
   "outputs": [],
   "source": []
  },
  {
   "cell_type": "code",
   "execution_count": 44,
   "id": "9740a606",
   "metadata": {
    "execution": {
     "iopub.execute_input": "2024-03-14T09:55:22.110677Z",
     "iopub.status.busy": "2024-03-14T09:55:22.109994Z",
     "iopub.status.idle": "2024-03-14T09:55:22.116125Z",
     "shell.execute_reply": "2024-03-14T09:55:22.115159Z"
    },
    "papermill": {
     "duration": 0.037995,
     "end_time": "2024-03-14T09:55:22.118679",
     "exception": false,
     "start_time": "2024-03-14T09:55:22.080684",
     "status": "completed"
    },
    "tags": []
   },
   "outputs": [],
   "source": [
    "# def gini_stability(dataset, w_fallingrate=88.0, w_resstd=-0.5):\n",
    "#     gini_in_time = dataset\\\n",
    "#         .sort_values(\"WEEK_NUM\")\\\n",
    "#         .groupby(\"WEEK_NUM\")[[\"true\", \"predicted\"]]\\\n",
    "#         .apply(lambda x: 2 * roc_auc_score(x[\"true\"], x[\"predicted\"]) - 1).tolist()\n",
    "    \n",
    "#     x = np.arange(len(gini_in_time))\n",
    "#     y = gini_in_time\n",
    "#     a, b = np.polyfit(x, y, 1)\n",
    "#     y_hat = a * x + b\n",
    "#     residuals = y - y_hat\n",
    "#     res_std = np.std(residuals)\n",
    "#     avg_gini = np.mean(gini_in_time)\n",
    "    \n",
    "#     print(avg_gini, min(0, a), res_std)\n",
    "    \n",
    "#     return avg_gini + w_fallingrate * min(0, a) + w_resstd * res_std"
   ]
  },
  {
   "cell_type": "code",
   "execution_count": 45,
   "id": "ec6427af",
   "metadata": {
    "execution": {
     "iopub.execute_input": "2024-03-14T09:55:22.177446Z",
     "iopub.status.busy": "2024-03-14T09:55:22.176807Z",
     "iopub.status.idle": "2024-03-14T09:55:22.181507Z",
     "shell.execute_reply": "2024-03-14T09:55:22.180706Z"
    },
    "papermill": {
     "duration": 0.037332,
     "end_time": "2024-03-14T09:55:22.183732",
     "exception": false,
     "start_time": "2024-03-14T09:55:22.146400",
     "status": "completed"
    },
    "tags": []
   },
   "outputs": [],
   "source": [
    "# # Y_train_predicted = model.predict_proba(train_df[features].to_pandas())\n",
    "# Y_test_predicted = model.predict_proba(test_df[features].to_pandas())"
   ]
  },
  {
   "cell_type": "code",
   "execution_count": 46,
   "id": "a2847f04",
   "metadata": {
    "execution": {
     "iopub.execute_input": "2024-03-14T09:55:22.239902Z",
     "iopub.status.busy": "2024-03-14T09:55:22.239207Z",
     "iopub.status.idle": "2024-03-14T09:55:22.244533Z",
     "shell.execute_reply": "2024-03-14T09:55:22.243706Z"
    },
    "papermill": {
     "duration": 0.036408,
     "end_time": "2024-03-14T09:55:22.246957",
     "exception": false,
     "start_time": "2024-03-14T09:55:22.210549",
     "status": "completed"
    },
    "tags": []
   },
   "outputs": [],
   "source": [
    "# result = pd.DataFrame({\n",
    "#     \"WEEK_NUM\": train_df[\"WEEK_NUM\"],\n",
    "#     \"true\": train_df[\"target\"],\n",
    "#     \"predicted\": Y_train_predicted[:, 1],\n",
    "# })\n",
    "\n",
    "# train_result = gini_stability(result)\n",
    "# print(\"train_score: {}\".format(train_result))\n",
    "\n",
    "# if MODE == Mode.Train:\n",
    "#     result = pd.DataFrame({\n",
    "#         \"WEEK_NUM\": test_df[\"WEEK_NUM\"],\n",
    "#         \"true\": test_df[\"target\"],\n",
    "#         \"predicted\": Y_test_predicted[:, 1],\n",
    "#     })\n",
    "\n",
    "#     test_result = gini_stability(result)\n",
    "#     print(\"test_score: {}\".format(test_result))"
   ]
  },
  {
   "cell_type": "code",
   "execution_count": 47,
   "id": "24414d86",
   "metadata": {
    "execution": {
     "iopub.execute_input": "2024-03-14T09:55:22.304250Z",
     "iopub.status.busy": "2024-03-14T09:55:22.303814Z",
     "iopub.status.idle": "2024-03-14T09:55:22.309229Z",
     "shell.execute_reply": "2024-03-14T09:55:22.308002Z"
    },
    "papermill": {
     "duration": 0.038015,
     "end_time": "2024-03-14T09:55:22.311677",
     "exception": false,
     "start_time": "2024-03-14T09:55:22.273662",
     "status": "completed"
    },
    "tags": []
   },
   "outputs": [],
   "source": [
    "# Version 1, test_score: 0.583319926590042, public score 0.48\n",
    "# 100 iters\n",
    "\n",
    "# Version 2, test_score: 0.6062624701357268, public score 0.517\n",
    "# 300 iters\n",
    "\n",
    "# Version 3, test_score: ?, public score 0.545\n",
    "# 2000 iters\n",
    "\n",
    "# Version 4, test_score: ?, public score ?\n",
    "# ? iters, Improve aggregate functions for depth_1, depth_2\n"
   ]
  },
  {
   "cell_type": "markdown",
   "id": "70fbfb24",
   "metadata": {
    "papermill": {
     "duration": 0.026313,
     "end_time": "2024-03-14T09:55:22.364971",
     "exception": false,
     "start_time": "2024-03-14T09:55:22.338658",
     "status": "completed"
    },
    "tags": []
   },
   "source": [
    "# Submition"
   ]
  },
  {
   "cell_type": "code",
   "execution_count": 48,
   "id": "2a9e21bf",
   "metadata": {
    "execution": {
     "iopub.execute_input": "2024-03-14T09:55:22.421413Z",
     "iopub.status.busy": "2024-03-14T09:55:22.421021Z",
     "iopub.status.idle": "2024-03-14T09:55:22.426074Z",
     "shell.execute_reply": "2024-03-14T09:55:22.424671Z"
    },
    "papermill": {
     "duration": 0.036344,
     "end_time": "2024-03-14T09:55:22.428502",
     "exception": false,
     "start_time": "2024-03-14T09:55:22.392158",
     "status": "completed"
    },
    "tags": []
   },
   "outputs": [],
   "source": [
    "# case_id = test_df[\"case_id\"]\n",
    "# X = test_df[features].to_pandas()\n",
    "\n",
    "# Y = model.predict_proba(X)\n",
    "\n",
    "# submission = pd.DataFrame({\n",
    "#     \"case_id\": case_id.to_numpy(),\n",
    "#     \"score\": Y[:, 1]\n",
    "# }).set_index('case_id')\n",
    "# submission.to_csv(\"./submission.csv\")"
   ]
  },
  {
   "cell_type": "code",
   "execution_count": null,
   "id": "04be8417",
   "metadata": {
    "papermill": {
     "duration": 0.026791,
     "end_time": "2024-03-14T09:55:22.482839",
     "exception": false,
     "start_time": "2024-03-14T09:55:22.456048",
     "status": "completed"
    },
    "tags": []
   },
   "outputs": [],
   "source": []
  },
  {
   "cell_type": "code",
   "execution_count": null,
   "id": "4bf8b338",
   "metadata": {
    "papermill": {
     "duration": 0.027197,
     "end_time": "2024-03-14T09:55:22.536472",
     "exception": false,
     "start_time": "2024-03-14T09:55:22.509275",
     "status": "completed"
    },
    "tags": []
   },
   "outputs": [],
   "source": []
  },
  {
   "cell_type": "code",
   "execution_count": null,
   "id": "0518f29b",
   "metadata": {
    "papermill": {
     "duration": 0.026185,
     "end_time": "2024-03-14T09:55:22.589350",
     "exception": false,
     "start_time": "2024-03-14T09:55:22.563165",
     "status": "completed"
    },
    "tags": []
   },
   "outputs": [],
   "source": []
  }
 ],
 "metadata": {
  "kaggle": {
   "accelerator": "none",
   "dataSources": [
    {
     "databundleVersionId": 7921029,
     "sourceId": 50160,
     "sourceType": "competition"
    },
    {
     "datasetId": 4496896,
     "sourceId": 7841389,
     "sourceType": "datasetVersion"
    }
   ],
   "dockerImageVersionId": 30635,
   "isGpuEnabled": false,
   "isInternetEnabled": false,
   "language": "python",
   "sourceType": "notebook"
  },
  "kernelspec": {
   "display_name": "Python 3",
   "language": "python",
   "name": "python3"
  },
  "language_info": {
   "codemirror_mode": {
    "name": "ipython",
    "version": 3
   },
   "file_extension": ".py",
   "mimetype": "text/x-python",
   "name": "python",
   "nbconvert_exporter": "python",
   "pygments_lexer": "ipython3",
   "version": "3.10.12"
  },
  "papermill": {
   "default_parameters": {},
   "duration": 791.768164,
   "end_time": "2024-03-14T09:55:23.642100",
   "environment_variables": {},
   "exception": null,
   "input_path": "__notebook__.ipynb",
   "output_path": "__notebook__.ipynb",
   "parameters": {},
   "start_time": "2024-03-14T09:42:11.873936",
   "version": "2.4.0"
  }
 },
 "nbformat": 4,
 "nbformat_minor": 5
}
