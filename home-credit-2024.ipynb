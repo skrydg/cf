{
 "cells": [
  {
   "cell_type": "markdown",
   "id": "dbb0beb6",
   "metadata": {
    "papermill": {
     "duration": 0.018109,
     "end_time": "2024-03-10T13:38:49.250272",
     "exception": false,
     "start_time": "2024-03-10T13:38:49.232163",
     "status": "completed"
    },
    "tags": []
   },
   "source": [
    "# Install packages"
   ]
  },
  {
   "cell_type": "code",
   "execution_count": 1,
   "id": "0da2423d",
   "metadata": {
    "execution": {
     "iopub.execute_input": "2024-03-10T13:38:49.289077Z",
     "iopub.status.busy": "2024-03-10T13:38:49.288132Z",
     "iopub.status.idle": "2024-03-10T13:39:25.529649Z",
     "shell.execute_reply": "2024-03-10T13:39:25.528190Z"
    },
    "papermill": {
     "duration": 36.264993,
     "end_time": "2024-03-10T13:39:25.533112",
     "exception": false,
     "start_time": "2024-03-10T13:38:49.268119",
     "status": "completed"
    },
    "tags": []
   },
   "outputs": [
    {
     "name": "stdout",
     "output_type": "stream",
     "text": [
      "Processing /kaggle/input/kaggle-home-credit-risk-model-stability-lib/kaggle_home_credit_risk_model_stability-0.3-py3-none-any.whl\r\n",
      "Installing collected packages: kaggle-home-credit-risk-model-stability\r\n",
      "Successfully installed kaggle-home-credit-risk-model-stability-0.3\r\n"
     ]
    }
   ],
   "source": [
    "!pip install /kaggle/input/kaggle-home-credit-risk-model-stability-lib/kaggle_home_credit_risk_model_stability-0.3-py3-none-any.whl --force-reinstall"
   ]
  },
  {
   "cell_type": "markdown",
   "id": "4dc2f2fe",
   "metadata": {
    "papermill": {
     "duration": 0.018203,
     "end_time": "2024-03-10T13:39:25.569547",
     "exception": false,
     "start_time": "2024-03-10T13:39:25.551344",
     "status": "completed"
    },
    "tags": []
   },
   "source": [
    "# Import packages"
   ]
  },
  {
   "cell_type": "code",
   "execution_count": 2,
   "id": "3b6f3318",
   "metadata": {
    "execution": {
     "iopub.execute_input": "2024-03-10T13:39:25.609884Z",
     "iopub.status.busy": "2024-03-10T13:39:25.609417Z",
     "iopub.status.idle": "2024-03-10T13:39:30.618456Z",
     "shell.execute_reply": "2024-03-10T13:39:30.617075Z"
    },
    "papermill": {
     "duration": 5.032543,
     "end_time": "2024-03-10T13:39:30.621951",
     "exception": false,
     "start_time": "2024-03-10T13:39:25.589408",
     "status": "completed"
    },
    "tags": []
   },
   "outputs": [],
   "source": [
    "import polars as pl\n",
    "import gc\n",
    "import time\n",
    "import numpy as np\n",
    "import pandas as pd\n",
    "import lightgbm as lgb\n",
    "import seaborn as sns\n",
    "import matplotlib.pyplot as plt\n",
    "import copy\n",
    "import lightgbm as lgb\n",
    "import importlib\n",
    "\n",
    "import kaggle_home_credit_risk_model_stability.libs as hcr\n",
    "from kaggle_home_credit_risk_model_stability.libs.input.dataset import Dataset\n",
    "from kaggle_home_credit_risk_model_stability.libs.input.data_loader import DataLoader\n",
    "from kaggle_home_credit_risk_model_stability.libs.preprocessor.preprocessor import Preprocessor\n",
    "from kaggle_home_credit_risk_model_stability.libs.preprocessor.steps import *\n",
    "from kaggle_home_credit_risk_model_stability.libs.preprocessor.columns_info import ColumnsInfo\n",
    "from kaggle_home_credit_risk_model_stability.libs.feature_description.feature_description import FreatureDescriptionGetter\n",
    "\n",
    "from collections import defaultdict\n",
    "from glob import glob\n",
    "from pathlib import Path\n",
    "from sklearn.model_selection import train_test_split\n",
    "from sklearn.metrics import roc_auc_score\n",
    "from sklearn.model_selection import StratifiedGroupKFold\n",
    "from sklearn.base import BaseEstimator, RegressorMixin\n",
    "from catboost import CatBoostClassifier\n",
    "from enum import Enum"
   ]
  },
  {
   "cell_type": "code",
   "execution_count": 3,
   "id": "828e40ac",
   "metadata": {
    "execution": {
     "iopub.execute_input": "2024-03-10T13:39:30.661058Z",
     "iopub.status.busy": "2024-03-10T13:39:30.660596Z",
     "iopub.status.idle": "2024-03-10T13:39:30.669551Z",
     "shell.execute_reply": "2024-03-10T13:39:30.668656Z"
    },
    "papermill": {
     "duration": 0.03127,
     "end_time": "2024-03-10T13:39:30.671594",
     "exception": false,
     "start_time": "2024-03-10T13:39:30.640324",
     "status": "completed"
    },
    "tags": []
   },
   "outputs": [],
   "source": [
    "data_loader = DataLoader()\n",
    "preprocessor = Preprocessor({\n",
    "    \"set_column_info_step\": SetColumnsInfoStep(),\n",
    "    \"set_types\": SetTypesStep(),\n",
    "    \"process_categorical\": ProcessCategoricalStep(),\n",
    "    \"process_person_table\": ProcessPersonTableStep(),\n",
    "    \"one_hot_encoding_for_depth1\": OneHotEncodingForDepth1Step(),\n",
    "    \"pairwise_diff_raw_dates\": PairwiseDateDiffStep(),\n",
    "    \"aggregate_depth_table\": AggregateDepthTableStep(),\n",
    "    \"drop_equal_columns\": DropEqualColumnsStep(),\n",
    "    \"drop_almost_null_features_respect_to_target\": DropAlmostNullFeaturesWithRespectToTargetStep(),\n",
    "    \"join_table\": JoinTablesStep(),\n",
    "    \"generate_age_feature\": GenerateAgeFeatureStep(),\n",
    "    \"fill_nulls_in_categorical_features\": FillNullsInCategoricalFeaturesStep(),\n",
    "    **{\n",
    "        f\"create_money_feature_fraction_{base_column}\": CreateMoneyFeatureFractionStep(base_column)\n",
    "        for base_column in [\"credamount_770A\", \"maininc_215A\", \"mainoccupationinc_384A\", \"mean_amount_416A\"]\n",
    "    },\n",
    "    \"generate_mismatch_features\": GenerateMismatchFeaturesStep(),\n",
    "    \"generate_target_distribution_based_on_categorical_features_step\": GenerateTargetDistributionBasedOnCategoricalStep(),\n",
    "    \"drop_single_value_features\": DropSingleValueFeaturesStep(),\n",
    "    \"drop_variable_enum_features\": DropVariableEnumFeaturesStep(),\n",
    "    \"reduce_memory_usage\": ReduceMemoryUsageStep()\n",
    "})\n",
    "columns_info = ColumnsInfo()"
   ]
  },
  {
   "cell_type": "code",
   "execution_count": null,
   "id": "76f72425",
   "metadata": {
    "papermill": {
     "duration": 0.017981,
     "end_time": "2024-03-10T13:39:30.708272",
     "exception": false,
     "start_time": "2024-03-10T13:39:30.690291",
     "status": "completed"
    },
    "tags": []
   },
   "outputs": [],
   "source": []
  },
  {
   "cell_type": "code",
   "execution_count": 4,
   "id": "9abd5d98",
   "metadata": {
    "execution": {
     "iopub.execute_input": "2024-03-10T13:39:30.747946Z",
     "iopub.status.busy": "2024-03-10T13:39:30.746616Z",
     "iopub.status.idle": "2024-03-10T13:39:30.752144Z",
     "shell.execute_reply": "2024-03-10T13:39:30.750933Z"
    },
    "papermill": {
     "duration": 0.028502,
     "end_time": "2024-03-10T13:39:30.754992",
     "exception": false,
     "start_time": "2024-03-10T13:39:30.726490",
     "status": "completed"
    },
    "tags": []
   },
   "outputs": [],
   "source": [
    "# train_dataset = data_loader.load_train_dataset()\n",
    "# case_id_set = train_dataset.get_base().filter(train_dataset.get_base()[\"WEEK_NUM\"] < 10)[\"case_id\"]\n",
    "# train_dataset = train_dataset.filter(lambda table: table.filter(pl.col(\"case_id\").is_in(case_id_set)))"
   ]
  },
  {
   "cell_type": "code",
   "execution_count": 5,
   "id": "185783f8",
   "metadata": {
    "execution": {
     "iopub.execute_input": "2024-03-10T13:39:30.803336Z",
     "iopub.status.busy": "2024-03-10T13:39:30.802380Z",
     "iopub.status.idle": "2024-03-10T13:56:34.050486Z",
     "shell.execute_reply": "2024-03-10T13:56:34.049013Z"
    },
    "papermill": {
     "duration": 1023.27821,
     "end_time": "2024-03-10T13:56:34.053476",
     "exception": false,
     "start_time": "2024-03-10T13:39:30.775266",
     "status": "completed"
    },
    "tags": []
   },
   "outputs": [
    {
     "name": "stdout",
     "output_type": "stream",
     "text": [
      "Train dataset week range: 0-91\n",
      "Step: set_column_info_step, execution_time: 0.13264966011047363\n",
      "Step: set_types, execution_time: 20.568503856658936\n",
      "Step: process_categorical, execution_time: 26.919596910476685\n",
      "Step: process_person_table, execution_time: 0.41600775718688965\n",
      "Create 250 new columns as one hot encoding\n",
      "Step: one_hot_encoding_for_depth1, execution_time: 22.97246527671814\n",
      "Create 172 new columns as pairwise dates diff\n",
      "Step: pairwise_diff_raw_dates, execution_time: 1.4067273139953613\n",
      "Step: aggregate_depth_table, execution_time: 52.24432635307312\n",
      "Drop 305 columns as duplicates\n",
      "Step: drop_equal_columns, execution_time: 7.731680393218994\n",
      "Drop 529 columns as almost null\n",
      "Step: drop_almost_null_features_respect_to_target, execution_time: 621.0024647712708\n",
      "Step: join_table, execution_time: 16.05687689781189\n",
      "Step: generate_age_feature, execution_time: 0.2219858169555664\n",
      "Step: fill_nulls_in_categorical_features, execution_time: 28.128169775009155\n",
      "Create 130 new columns as money feature fraction with base 'credamount_770A'\n",
      "Step: create_money_feature_fraction_credamount_770A, execution_time: 14.765986442565918\n",
      "Create 130 new columns as money feature fraction with base 'maininc_215A'\n",
      "Step: create_money_feature_fraction_maininc_215A, execution_time: 10.272873401641846\n",
      "Create 130 new columns as money feature fraction with base 'mainoccupationinc_384A'\n",
      "Step: create_money_feature_fraction_mainoccupationinc_384A, execution_time: 7.248453378677368\n",
      "Create 130 new columns as money feature fraction with base 'mean_amount_416A'\n",
      "Step: create_money_feature_fraction_mean_amount_416A, execution_time: 9.924962759017944\n",
      "Create 60 new columns as feature mismatch\n",
      "Step: generate_mismatch_features, execution_time: 50.93377494812012\n",
      "Create 208 as target distribution by categorical feature\n",
      "Step: generate_target_distribution_based_on_categorical_features_step, execution_time: 35.58309078216553\n",
      "Drop 19 columns as single value\n",
      "Step: drop_single_value_features, execution_time: 58.375083208084106\n",
      "Drop 18 columns as variable enum value\n",
      "Step: drop_variable_enum_features, execution_time: 2.3018722534179688\n",
      "Step: reduce_memory_usage, execution_time: 23.368099689483643\n"
     ]
    },
    {
     "data": {
      "text/plain": [
       "0"
      ]
     },
     "execution_count": 5,
     "metadata": {},
     "output_type": "execute_result"
    }
   ],
   "source": [
    "train_dataset = data_loader.load_train_dataset()\n",
    "print(\"Train dataset week range: {}-{}\".format(train_dataset.get_base()[\"WEEK_NUM\"].min(), train_dataset.get_base()[\"WEEK_NUM\"].max()))\n",
    "gc.collect()\n",
    "train_df, columns_info = preprocessor.process_train_dataset(train_dataset, columns_info)\n",
    "del train_dataset\n",
    "\n",
    "gc.collect()"
   ]
  },
  {
   "cell_type": "code",
   "execution_count": 6,
   "id": "330da620",
   "metadata": {
    "execution": {
     "iopub.execute_input": "2024-03-10T13:56:34.098800Z",
     "iopub.status.busy": "2024-03-10T13:56:34.098363Z",
     "iopub.status.idle": "2024-03-10T13:56:39.646133Z",
     "shell.execute_reply": "2024-03-10T13:56:39.644838Z"
    },
    "papermill": {
     "duration": 5.574752,
     "end_time": "2024-03-10T13:56:39.649238",
     "exception": false,
     "start_time": "2024-03-10T13:56:34.074486",
     "status": "completed"
    },
    "tags": []
   },
   "outputs": [],
   "source": [
    "for column in train_df.columns:\n",
    "    if train_df[column].dtype != pl.Enum:\n",
    "        x = train_df[column].is_infinite().sum() + train_df[column].is_nan().sum()\n",
    "        assert(x == 0)"
   ]
  },
  {
   "cell_type": "code",
   "execution_count": 7,
   "id": "9213c231",
   "metadata": {
    "execution": {
     "iopub.execute_input": "2024-03-10T13:56:39.693505Z",
     "iopub.status.busy": "2024-03-10T13:56:39.693059Z",
     "iopub.status.idle": "2024-03-10T13:57:37.875001Z",
     "shell.execute_reply": "2024-03-10T13:57:37.873832Z"
    },
    "papermill": {
     "duration": 58.233206,
     "end_time": "2024-03-10T13:57:37.904046",
     "exception": false,
     "start_time": "2024-03-10T13:56:39.670840",
     "status": "completed"
    },
    "tags": []
   },
   "outputs": [
    {
     "name": "stdout",
     "output_type": "stream",
     "text": [
      "8962.001111030579\n",
      "shape: (1_526_659, 1_737)\n",
      "┌─────────┬────────────┬────────┬──────────┬───┬────────────┬────────────┬────────────┬────────────┐\n",
      "│ case_id ┆ date_decis ┆ MONTH  ┆ WEEK_NUM ┆ … ┆ last_type_ ┆ last_type_ ┆ age_bucket ┆ age_bucket │\n",
      "│ ---     ┆ ion        ┆ ---    ┆ ---      ┆   ┆ 25L_target ┆ 25L_value_ ┆ _target_di ┆ _value_per │\n",
      "│ i32     ┆ ---        ┆ i32    ┆ i8       ┆   ┆ _distribut ┆ persent    ┆ stribution ┆ sent       │\n",
      "│         ┆ i16        ┆        ┆          ┆   ┆ io…        ┆ ---        ┆ ---        ┆ ---        │\n",
      "│         ┆            ┆        ┆          ┆   ┆ ---        ┆ f32        ┆ f32        ┆ f32        │\n",
      "│         ┆            ┆        ┆          ┆   ┆ f32        ┆            ┆            ┆            │\n",
      "╞═════════╪════════════╪════════╪══════════╪═══╪════════════╪════════════╪════════════╪════════════╡\n",
      "│ 0       ┆ 17899      ┆ 201901 ┆ 0        ┆ … ┆ 0.033826   ┆ 0.424935   ┆ 0.0344     ┆ 0.255728   │\n",
      "│ 1       ┆ 17899      ┆ 201901 ┆ 0        ┆ … ┆ 0.033826   ┆ 0.424935   ┆ 0.017717   ┆ 0.154987   │\n",
      "│ 2       ┆ 17900      ┆ 201901 ┆ 0        ┆ … ┆ 0.033826   ┆ 0.424935   ┆ 0.030632   ┆ 0.216253   │\n",
      "│ 3       ┆ 17899      ┆ 201901 ┆ 0        ┆ … ┆ 0.033826   ┆ 0.424935   ┆ 0.048363   ┆ 0.176153   │\n",
      "│ …       ┆ …          ┆ …      ┆ …        ┆ … ┆ …          ┆ …          ┆ …          ┆ …          │\n",
      "│ 2703451 ┆ 18540      ┆ 202010 ┆ 91       ┆ … ┆ 0.020385   ┆ 0.02545    ┆ 0.017717   ┆ 0.154987   │\n",
      "│ 2703452 ┆ 18540      ┆ 202010 ┆ 91       ┆ … ┆ 0.03012    ┆ 0.507943   ┆ 0.030632   ┆ 0.216253   │\n",
      "│ 2703453 ┆ 18540      ┆ 202010 ┆ 91       ┆ … ┆ 0.020385   ┆ 0.02545    ┆ 0.020837   ┆ 0.033448   │\n",
      "│ 2703454 ┆ 18540      ┆ 202010 ┆ 91       ┆ … ┆ 0.03012    ┆ 0.507943   ┆ 0.020837   ┆ 0.033448   │\n",
      "└─────────┴────────────┴────────┴──────────┴───┴────────────┴────────────┴────────────┴────────────┘\n"
     ]
    },
    {
     "data": {
      "text/plain": [
       "0"
      ]
     },
     "execution_count": 7,
     "metadata": {},
     "output_type": "execute_result"
    }
   ],
   "source": [
    "train_df.write_parquet(\"/kaggle/working/train_df.parquet\")\n",
    "print(train_df.estimated_size() / 1024 / 1024)\n",
    "print(train_df)\n",
    "\n",
    "del train_df\n",
    "gc.collect()"
   ]
  },
  {
   "cell_type": "code",
   "execution_count": 8,
   "id": "1c76eacf",
   "metadata": {
    "execution": {
     "iopub.execute_input": "2024-03-10T13:57:38.032910Z",
     "iopub.status.busy": "2024-03-10T13:57:38.032500Z",
     "iopub.status.idle": "2024-03-10T13:57:47.880141Z",
     "shell.execute_reply": "2024-03-10T13:57:47.878967Z"
    },
    "papermill": {
     "duration": 9.917086,
     "end_time": "2024-03-10T13:57:47.883370",
     "exception": false,
     "start_time": "2024-03-10T13:57:37.966284",
     "status": "completed"
    },
    "tags": []
   },
   "outputs": [
    {
     "name": "stdout",
     "output_type": "stream",
     "text": [
      "Test dataset week range: 92-92\n",
      "Step: set_column_info_step, execution_time: 0.17052674293518066\n",
      "Step: set_types, execution_time: 0.20158624649047852\n",
      "Step: process_categorical, execution_time: 0.4127974510192871\n",
      "Step: process_person_table, execution_time: 0.16948223114013672\n",
      "Create 250 new columns as one hot encoding\n",
      "Step: one_hot_encoding_for_depth1, execution_time: 0.20037174224853516\n",
      "Create 172 new columns as pairwise dates diff\n",
      "Step: pairwise_diff_raw_dates, execution_time: 0.1936807632446289\n",
      "Step: aggregate_depth_table, execution_time: 0.6333067417144775\n",
      "Step: drop_equal_columns, execution_time: 0.6040825843811035\n",
      "Step: drop_almost_null_features_respect_to_target, execution_time: 0.19152450561523438\n",
      "Step: join_table, execution_time: 2.51883602142334\n",
      "Step: generate_age_feature, execution_time: 0.17781352996826172\n",
      "Step: fill_nulls_in_categorical_features, execution_time: 0.9048233032226562\n",
      "Create 130 new columns as money feature fraction with base 'credamount_770A'\n",
      "Step: create_money_feature_fraction_credamount_770A, execution_time: 0.2590653896331787\n",
      "Create 130 new columns as money feature fraction with base 'maininc_215A'\n",
      "Step: create_money_feature_fraction_maininc_215A, execution_time: 0.25011110305786133\n",
      "Create 130 new columns as money feature fraction with base 'mainoccupationinc_384A'\n",
      "Step: create_money_feature_fraction_mainoccupationinc_384A, execution_time: 0.2577476501464844\n",
      "Create 130 new columns as money feature fraction with base 'mean_amount_416A'\n",
      "Step: create_money_feature_fraction_mean_amount_416A, execution_time: 0.2610156536102295\n",
      "Create 60 new columns as feature mismatch\n",
      "Step: generate_mismatch_features, execution_time: 0.2022693157196045\n",
      "Create 208 as target distribution by categorical feature\n",
      "Step: generate_target_distribution_based_on_categorical_features_step, execution_time: 0.37172436714172363\n",
      "Step: drop_single_value_features, execution_time: 0.1724531650543213\n",
      "Step: drop_variable_enum_features, execution_time: 0.1684255599975586\n",
      "Step: reduce_memory_usage, execution_time: 1.061394214630127\n"
     ]
    },
    {
     "data": {
      "text/plain": [
       "0"
      ]
     },
     "execution_count": 8,
     "metadata": {},
     "output_type": "execute_result"
    }
   ],
   "source": [
    "test_dataset = data_loader.load_test_dataset()\n",
    "print(\"Test dataset week range: {}-{}\".format(test_dataset.get_base()[\"WEEK_NUM\"].min(), test_dataset.get_base()[\"WEEK_NUM\"].max()))\n",
    "gc.collect()\n",
    "test_df, columns_info = preprocessor.process_test_dataset(test_dataset, columns_info)\n",
    "del test_dataset\n",
    "\n",
    "gc.collect()"
   ]
  },
  {
   "cell_type": "code",
   "execution_count": 9,
   "id": "cd8a7fdd",
   "metadata": {
    "execution": {
     "iopub.execute_input": "2024-03-10T13:57:47.933624Z",
     "iopub.status.busy": "2024-03-10T13:57:47.932905Z",
     "iopub.status.idle": "2024-03-10T13:57:48.605840Z",
     "shell.execute_reply": "2024-03-10T13:57:48.604795Z"
    },
    "papermill": {
     "duration": 0.701221,
     "end_time": "2024-03-10T13:57:48.608284",
     "exception": false,
     "start_time": "2024-03-10T13:57:47.907063",
     "status": "completed"
    },
    "tags": []
   },
   "outputs": [
    {
     "name": "stdout",
     "output_type": "stream",
     "text": [
      "0.30678844451904297\n",
      "shape: (10, 1_736)\n",
      "┌─────────┬────────────┬────────┬──────────┬───┬────────────┬────────────┬────────────┬────────────┐\n",
      "│ case_id ┆ date_decis ┆ MONTH  ┆ WEEK_NUM ┆ … ┆ last_type_ ┆ last_type_ ┆ age_bucket ┆ age_bucket │\n",
      "│ ---     ┆ ion        ┆ ---    ┆ ---      ┆   ┆ 25L_target ┆ 25L_value_ ┆ _target_di ┆ _value_per │\n",
      "│ i32     ┆ ---        ┆ i32    ┆ i8       ┆   ┆ _distribut ┆ persent    ┆ stribution ┆ sent       │\n",
      "│         ┆ i16        ┆        ┆          ┆   ┆ io…        ┆ ---        ┆ ---        ┆ ---        │\n",
      "│         ┆            ┆        ┆          ┆   ┆ ---        ┆ f32        ┆ f32        ┆ f32        │\n",
      "│         ┆            ┆        ┆          ┆   ┆ f32        ┆            ┆            ┆            │\n",
      "╞═════════╪════════════╪════════╪══════════╪═══╪════════════╪════════════╪════════════╪════════════╡\n",
      "│ 57543   ┆ 18541      ┆ 202010 ┆ 92       ┆ … ┆ 0.033826   ┆ 0.424935   ┆ 0.048363   ┆ 0.176153   │\n",
      "│ 57549   ┆ 18541      ┆ 202010 ┆ 92       ┆ … ┆ 0.033826   ┆ 0.424935   ┆ 0.048363   ┆ 0.176153   │\n",
      "│ 57551   ┆ 18541      ┆ 202010 ┆ 92       ┆ … ┆ 0.033826   ┆ 0.424935   ┆ 0.0344     ┆ 0.255728   │\n",
      "│ 57552   ┆ 18542      ┆ 202010 ┆ 92       ┆ … ┆ 0.03012    ┆ 0.507943   ┆ null       ┆ null       │\n",
      "│ …       ┆ …          ┆ …      ┆ …        ┆ … ┆ …          ┆ …          ┆ …          ┆ …          │\n",
      "│ 57631   ┆ 18541      ┆ 202010 ┆ 92       ┆ … ┆ 0.03012    ┆ 0.507943   ┆ null       ┆ null       │\n",
      "│ 57632   ┆ 18541      ┆ 202010 ┆ 92       ┆ … ┆ 0.03012    ┆ 0.507943   ┆ null       ┆ null       │\n",
      "│ 57633   ┆ 18541      ┆ 202010 ┆ 92       ┆ … ┆ 0.03012    ┆ 0.507943   ┆ null       ┆ null       │\n",
      "│ 57634   ┆ 18541      ┆ 202010 ┆ 92       ┆ … ┆ 0.03012    ┆ 0.507943   ┆ null       ┆ null       │\n",
      "└─────────┴────────────┴────────┴──────────┴───┴────────────┴────────────┴────────────┴────────────┘\n"
     ]
    },
    {
     "data": {
      "text/plain": [
       "0"
      ]
     },
     "execution_count": 9,
     "metadata": {},
     "output_type": "execute_result"
    }
   ],
   "source": [
    "test_df.write_parquet(\"/kaggle/working/test_df.parquet\")\n",
    "print(test_df.estimated_size() / 1024 / 1024)\n",
    "print(test_df)\n",
    "\n",
    "del test_df\n",
    "gc.collect()"
   ]
  },
  {
   "cell_type": "markdown",
   "id": "690061a1",
   "metadata": {
    "_kg_hide-input": true,
    "papermill": {
     "duration": 0.023887,
     "end_time": "2024-03-10T13:57:48.656942",
     "exception": false,
     "start_time": "2024-03-10T13:57:48.633055",
     "status": "completed"
    },
    "tags": []
   },
   "source": [
    "# Data visualization"
   ]
  },
  {
   "cell_type": "code",
   "execution_count": null,
   "id": "d22d8d13",
   "metadata": {
    "papermill": {
     "duration": 0.024007,
     "end_time": "2024-03-10T13:57:48.705810",
     "exception": false,
     "start_time": "2024-03-10T13:57:48.681803",
     "status": "completed"
    },
    "tags": []
   },
   "outputs": [],
   "source": []
  },
  {
   "cell_type": "code",
   "execution_count": 10,
   "id": "5747dff1",
   "metadata": {
    "execution": {
     "iopub.execute_input": "2024-03-10T13:57:48.758680Z",
     "iopub.status.busy": "2024-03-10T13:57:48.758040Z",
     "iopub.status.idle": "2024-03-10T13:57:48.763419Z",
     "shell.execute_reply": "2024-03-10T13:57:48.762275Z"
    },
    "papermill": {
     "duration": 0.034971,
     "end_time": "2024-03-10T13:57:48.765995",
     "exception": false,
     "start_time": "2024-03-10T13:57:48.731024",
     "status": "completed"
    },
    "tags": []
   },
   "outputs": [],
   "source": [
    "# train_dataset = data_loader.load_train_dataset()"
   ]
  },
  {
   "cell_type": "code",
   "execution_count": 11,
   "id": "873ff2e9",
   "metadata": {
    "execution": {
     "iopub.execute_input": "2024-03-10T13:57:48.816264Z",
     "iopub.status.busy": "2024-03-10T13:57:48.815803Z",
     "iopub.status.idle": "2024-03-10T13:57:48.820865Z",
     "shell.execute_reply": "2024-03-10T13:57:48.819585Z"
    },
    "papermill": {
     "duration": 0.033255,
     "end_time": "2024-03-10T13:57:48.823380",
     "exception": false,
     "start_time": "2024-03-10T13:57:48.790125",
     "status": "completed"
    },
    "tags": []
   },
   "outputs": [],
   "source": [
    "# [column for column in train_df.columns if \"amtdebitincoming_4809443A\" in column]"
   ]
  },
  {
   "cell_type": "code",
   "execution_count": 12,
   "id": "876982da",
   "metadata": {
    "execution": {
     "iopub.execute_input": "2024-03-10T13:57:48.875353Z",
     "iopub.status.busy": "2024-03-10T13:57:48.874941Z",
     "iopub.status.idle": "2024-03-10T13:57:48.879212Z",
     "shell.execute_reply": "2024-03-10T13:57:48.878274Z"
    },
    "papermill": {
     "duration": 0.032915,
     "end_time": "2024-03-10T13:57:48.881501",
     "exception": false,
     "start_time": "2024-03-10T13:57:48.848586",
     "status": "completed"
    },
    "tags": []
   },
   "outputs": [],
   "source": [
    "# train_dataset.get_base()[\"target\"].mean()"
   ]
  },
  {
   "cell_type": "code",
   "execution_count": 13,
   "id": "b1fdbf86",
   "metadata": {
    "execution": {
     "iopub.execute_input": "2024-03-10T13:57:48.932214Z",
     "iopub.status.busy": "2024-03-10T13:57:48.931747Z",
     "iopub.status.idle": "2024-03-10T13:57:48.936467Z",
     "shell.execute_reply": "2024-03-10T13:57:48.935350Z"
    },
    "papermill": {
     "duration": 0.033421,
     "end_time": "2024-03-10T13:57:48.938832",
     "exception": false,
     "start_time": "2024-03-10T13:57:48.905411",
     "status": "completed"
    },
    "tags": []
   },
   "outputs": [],
   "source": [
    "# tables = {name: table for name, table in train_dataset.get_depth_tables(1)}"
   ]
  },
  {
   "cell_type": "code",
   "execution_count": 14,
   "id": "494ed72a",
   "metadata": {
    "execution": {
     "iopub.execute_input": "2024-03-10T13:57:48.988839Z",
     "iopub.status.busy": "2024-03-10T13:57:48.988359Z",
     "iopub.status.idle": "2024-03-10T13:57:48.993550Z",
     "shell.execute_reply": "2024-03-10T13:57:48.992390Z"
    },
    "papermill": {
     "duration": 0.033115,
     "end_time": "2024-03-10T13:57:48.995911",
     "exception": false,
     "start_time": "2024-03-10T13:57:48.962796",
     "status": "completed"
    },
    "tags": []
   },
   "outputs": [],
   "source": [
    "# applprev_1 = tables[\"applprev_1\"]"
   ]
  },
  {
   "cell_type": "code",
   "execution_count": 15,
   "id": "2d198954",
   "metadata": {
    "execution": {
     "iopub.execute_input": "2024-03-10T13:57:49.046191Z",
     "iopub.status.busy": "2024-03-10T13:57:49.045709Z",
     "iopub.status.idle": "2024-03-10T13:57:49.049821Z",
     "shell.execute_reply": "2024-03-10T13:57:49.048983Z"
    },
    "papermill": {
     "duration": 0.031719,
     "end_time": "2024-03-10T13:57:49.051885",
     "exception": false,
     "start_time": "2024-03-10T13:57:49.020166",
     "status": "completed"
    },
    "tags": []
   },
   "outputs": [],
   "source": [
    "# joined = applprev_1[\"case_id\"].value_counts().join(train_dataset.get_base()[[\"case_id\", \"target\"]], on=\"case_id\").sort(\"count\")\n",
    "# joined.filter(pl.col(\"target\") == 1)"
   ]
  },
  {
   "cell_type": "code",
   "execution_count": 16,
   "id": "f310ce80",
   "metadata": {
    "execution": {
     "iopub.execute_input": "2024-03-10T13:57:49.102484Z",
     "iopub.status.busy": "2024-03-10T13:57:49.101198Z",
     "iopub.status.idle": "2024-03-10T13:57:49.106026Z",
     "shell.execute_reply": "2024-03-10T13:57:49.105100Z"
    },
    "papermill": {
     "duration": 0.032748,
     "end_time": "2024-03-10T13:57:49.108476",
     "exception": false,
     "start_time": "2024-03-10T13:57:49.075728",
     "status": "completed"
    },
    "tags": []
   },
   "outputs": [],
   "source": [
    "# base = train_dataset.get_base()"
   ]
  },
  {
   "cell_type": "code",
   "execution_count": 17,
   "id": "bbf5a1ec",
   "metadata": {
    "execution": {
     "iopub.execute_input": "2024-03-10T13:57:49.159098Z",
     "iopub.status.busy": "2024-03-10T13:57:49.158644Z",
     "iopub.status.idle": "2024-03-10T13:57:49.163965Z",
     "shell.execute_reply": "2024-03-10T13:57:49.162702Z"
    },
    "papermill": {
     "duration": 0.033372,
     "end_time": "2024-03-10T13:57:49.166557",
     "exception": false,
     "start_time": "2024-03-10T13:57:49.133185",
     "status": "completed"
    },
    "tags": []
   },
   "outputs": [],
   "source": [
    "# base.filter(pl.col(\"case_id\") == 2702490)"
   ]
  },
  {
   "cell_type": "code",
   "execution_count": 18,
   "id": "2a7afaa5",
   "metadata": {
    "execution": {
     "iopub.execute_input": "2024-03-10T13:57:49.217042Z",
     "iopub.status.busy": "2024-03-10T13:57:49.216556Z",
     "iopub.status.idle": "2024-03-10T13:57:49.221674Z",
     "shell.execute_reply": "2024-03-10T13:57:49.220478Z"
    },
    "papermill": {
     "duration": 0.033717,
     "end_time": "2024-03-10T13:57:49.224214",
     "exception": false,
     "start_time": "2024-03-10T13:57:49.190497",
     "status": "completed"
    },
    "tags": []
   },
   "outputs": [],
   "source": [
    "# applprev_1.filter(applprev_1[\"case_id\"] == 2702490).sort(\"num_group1\")\n",
    "#base.filter(pl.col(\"case_id\") == 176526)"
   ]
  },
  {
   "cell_type": "code",
   "execution_count": 19,
   "id": "ba142d18",
   "metadata": {
    "execution": {
     "iopub.execute_input": "2024-03-10T13:57:49.274950Z",
     "iopub.status.busy": "2024-03-10T13:57:49.274518Z",
     "iopub.status.idle": "2024-03-10T13:57:49.278716Z",
     "shell.execute_reply": "2024-03-10T13:57:49.277862Z"
    },
    "papermill": {
     "duration": 0.03226,
     "end_time": "2024-03-10T13:57:49.281106",
     "exception": false,
     "start_time": "2024-03-10T13:57:49.248846",
     "status": "completed"
    },
    "tags": []
   },
   "outputs": [],
   "source": [
    "# applprev_1.filter(applprev_1[\"case_id\"] == 2702490).sort(\"num_group1\")[[\"credamount_590A\", \"mainoccupationinc_437A\", \"rejectreason_755M\", \"rejectreasonclient_4145042M\"]]\n"
   ]
  },
  {
   "cell_type": "code",
   "execution_count": 20,
   "id": "dc2cfe83",
   "metadata": {
    "execution": {
     "iopub.execute_input": "2024-03-10T13:57:49.332291Z",
     "iopub.status.busy": "2024-03-10T13:57:49.331835Z",
     "iopub.status.idle": "2024-03-10T13:57:49.337442Z",
     "shell.execute_reply": "2024-03-10T13:57:49.336057Z"
    },
    "papermill": {
     "duration": 0.034865,
     "end_time": "2024-03-10T13:57:49.340023",
     "exception": false,
     "start_time": "2024-03-10T13:57:49.305158",
     "status": "completed"
    },
    "tags": []
   },
   "outputs": [],
   "source": [
    "# applprev_1.filter(applprev_1[\"case_id\"] == 176526).sort(\"num_group1\")[[\"credamount_590A\", \"mainoccupationinc_437A\", \"rejectreason_755M\", \"rejectreasonclient_4145042M\"]]a"
   ]
  },
  {
   "cell_type": "code",
   "execution_count": 21,
   "id": "e9ad9010",
   "metadata": {
    "execution": {
     "iopub.execute_input": "2024-03-10T13:57:49.391337Z",
     "iopub.status.busy": "2024-03-10T13:57:49.390889Z",
     "iopub.status.idle": "2024-03-10T13:57:49.395650Z",
     "shell.execute_reply": "2024-03-10T13:57:49.394702Z"
    },
    "papermill": {
     "duration": 0.032621,
     "end_time": "2024-03-10T13:57:49.397873",
     "exception": false,
     "start_time": "2024-03-10T13:57:49.365252",
     "status": "completed"
    },
    "tags": []
   },
   "outputs": [],
   "source": [
    "# applprev_1.filter(applprev_1[\"case_id\"] == 176526).sort(\"num_group1\")"
   ]
  },
  {
   "cell_type": "code",
   "execution_count": 22,
   "id": "4af0b7d7",
   "metadata": {
    "execution": {
     "iopub.execute_input": "2024-03-10T13:57:49.448351Z",
     "iopub.status.busy": "2024-03-10T13:57:49.447900Z",
     "iopub.status.idle": "2024-03-10T13:57:49.453066Z",
     "shell.execute_reply": "2024-03-10T13:57:49.451862Z"
    },
    "papermill": {
     "duration": 0.033039,
     "end_time": "2024-03-10T13:57:49.455559",
     "exception": false,
     "start_time": "2024-03-10T13:57:49.422520",
     "status": "completed"
    },
    "tags": []
   },
   "outputs": [],
   "source": [
    "# FreatureDescriptionGetter().get(\"rejectreasonclient_4145042M\")"
   ]
  },
  {
   "cell_type": "code",
   "execution_count": 23,
   "id": "0580867e",
   "metadata": {
    "execution": {
     "iopub.execute_input": "2024-03-10T13:57:49.507366Z",
     "iopub.status.busy": "2024-03-10T13:57:49.506922Z",
     "iopub.status.idle": "2024-03-10T13:57:49.512352Z",
     "shell.execute_reply": "2024-03-10T13:57:49.511247Z"
    },
    "papermill": {
     "duration": 0.033925,
     "end_time": "2024-03-10T13:57:49.515098",
     "exception": false,
     "start_time": "2024-03-10T13:57:49.481173",
     "status": "completed"
    },
    "tags": []
   },
   "outputs": [],
   "source": [
    "# def bucket_mean_split(x, y, buckets=100):\n",
    "#     x_buckets = []\n",
    "#     y_buckets = []\n",
    "\n",
    "#     x = np.array(x)\n",
    "#     y = np.array(y)\n",
    "#     x_quantiles = [np.quantile(x, i / buckets) for i in range(0, buckets + 1)]\n",
    "#     for i in range(0, buckets):\n",
    "#         filter = (x >= x_quantiles[i]) & (x <= x_quantiles[i + 1])\n",
    "#         x_buckets.append(np.mean(x[filter]))\n",
    "#         y_buckets.append(np.mean(y[filter]))\n",
    "#     return x_buckets, y_buckets"
   ]
  },
  {
   "cell_type": "code",
   "execution_count": 24,
   "id": "f305a10e",
   "metadata": {
    "execution": {
     "iopub.execute_input": "2024-03-10T13:57:49.565923Z",
     "iopub.status.busy": "2024-03-10T13:57:49.565390Z",
     "iopub.status.idle": "2024-03-10T13:57:49.570666Z",
     "shell.execute_reply": "2024-03-10T13:57:49.569468Z"
    },
    "papermill": {
     "duration": 0.033544,
     "end_time": "2024-03-10T13:57:49.573301",
     "exception": false,
     "start_time": "2024-03-10T13:57:49.539757",
     "status": "completed"
    },
    "tags": []
   },
   "outputs": [],
   "source": [
    "# train[\"target\"].mean()"
   ]
  },
  {
   "cell_type": "code",
   "execution_count": 25,
   "id": "4339057d",
   "metadata": {
    "execution": {
     "iopub.execute_input": "2024-03-10T13:57:49.623586Z",
     "iopub.status.busy": "2024-03-10T13:57:49.623115Z",
     "iopub.status.idle": "2024-03-10T13:57:49.628435Z",
     "shell.execute_reply": "2024-03-10T13:57:49.627313Z"
    },
    "papermill": {
     "duration": 0.033507,
     "end_time": "2024-03-10T13:57:49.630984",
     "exception": false,
     "start_time": "2024-03-10T13:57:49.597477",
     "status": "completed"
    },
    "tags": []
   },
   "outputs": [],
   "source": [
    "# print(\"Mean target={} where actualdpdtolerance_344P != 0\".format(train[\"target\"].filter(train[\"actualdpdtolerance_344P\"] != 0).mean()))\n",
    "# print(\"Mean target={} where actualdpdtolerance_344P == 0\".format(train[\"target\"].filter(train[\"actualdpdtolerance_344P\"] == 0).mean()))\n",
    "# print(\"Mean target={} where actualdpdtolerance_344P is null\".format(train[\"target\"].filter(train[\"actualdpdtolerance_344P\"].is_null()).mean()))"
   ]
  },
  {
   "cell_type": "code",
   "execution_count": 26,
   "id": "be9fde89",
   "metadata": {
    "execution": {
     "iopub.execute_input": "2024-03-10T13:57:49.681796Z",
     "iopub.status.busy": "2024-03-10T13:57:49.680887Z",
     "iopub.status.idle": "2024-03-10T13:57:49.687277Z",
     "shell.execute_reply": "2024-03-10T13:57:49.686003Z"
    },
    "papermill": {
     "duration": 0.03473,
     "end_time": "2024-03-10T13:57:49.689994",
     "exception": false,
     "start_time": "2024-03-10T13:57:49.655264",
     "status": "completed"
    },
    "tags": []
   },
   "outputs": [],
   "source": [
    "# columns = [column for column in train.columns if (train[column].dtype == pl.Float64)]\n",
    "\n",
    "# figure, axis = plt.subplots(len(columns) // 5 + 1, 5, figsize=(15, 30))\n",
    "# for index, column in enumerate(columns):\n",
    "#     current_plot = axis[index // 5, index % 5]\n",
    "#     x = train[column]\n",
    "#     y = train[\"target\"]\n",
    "#     if (x.dtype == pl.String or x.dtype == pl.Boolean):\n",
    "#         continue\n",
    "#     filter = x.is_not_null()\n",
    "#     x = x.filter(filter)\n",
    "#     y = y.filter(filter)\n",
    "#     if (x.is_empty()):\n",
    "#         continue\n",
    "#     x_bucket, y_bucket = bucket_mean_split(x.to_numpy(), y.to_numpy(), buckets=100)\n",
    "#     current_plot.plot(x_bucket, y_bucket)\n",
    "#     current_plot.set_title(column)\n",
    "# plt.show()"
   ]
  },
  {
   "cell_type": "code",
   "execution_count": 27,
   "id": "a1799b18",
   "metadata": {
    "execution": {
     "iopub.execute_input": "2024-03-10T13:57:49.740685Z",
     "iopub.status.busy": "2024-03-10T13:57:49.740164Z",
     "iopub.status.idle": "2024-03-10T13:57:49.745488Z",
     "shell.execute_reply": "2024-03-10T13:57:49.744327Z"
    },
    "papermill": {
     "duration": 0.033562,
     "end_time": "2024-03-10T13:57:49.747995",
     "exception": false,
     "start_time": "2024-03-10T13:57:49.714433",
     "status": "completed"
    },
    "tags": []
   },
   "outputs": [],
   "source": [
    "# features = train_df.columns\n",
    "# features.remove(\"WEEK_NUM\")\n",
    "# features.remove(\"case_id\")\n",
    "# features.remove(\"target\")"
   ]
  },
  {
   "cell_type": "code",
   "execution_count": 28,
   "id": "469c6275",
   "metadata": {
    "execution": {
     "iopub.execute_input": "2024-03-10T13:57:49.797948Z",
     "iopub.status.busy": "2024-03-10T13:57:49.797485Z",
     "iopub.status.idle": "2024-03-10T13:57:49.802436Z",
     "shell.execute_reply": "2024-03-10T13:57:49.801185Z"
    },
    "papermill": {
     "duration": 0.032764,
     "end_time": "2024-03-10T13:57:49.804710",
     "exception": false,
     "start_time": "2024-03-10T13:57:49.771946",
     "status": "completed"
    },
    "tags": []
   },
   "outputs": [],
   "source": [
    "# gc.collect()"
   ]
  },
  {
   "cell_type": "markdown",
   "id": "83d3d837",
   "metadata": {
    "papermill": {
     "duration": 0.0248,
     "end_time": "2024-03-10T13:57:49.853525",
     "exception": false,
     "start_time": "2024-03-10T13:57:49.828725",
     "status": "completed"
    },
    "tags": []
   },
   "source": [
    "### Feature Importance"
   ]
  },
  {
   "cell_type": "code",
   "execution_count": 29,
   "id": "ce41598d",
   "metadata": {
    "execution": {
     "iopub.execute_input": "2024-03-10T13:57:49.903535Z",
     "iopub.status.busy": "2024-03-10T13:57:49.903084Z",
     "iopub.status.idle": "2024-03-10T13:57:49.909218Z",
     "shell.execute_reply": "2024-03-10T13:57:49.907904Z"
    },
    "papermill": {
     "duration": 0.034404,
     "end_time": "2024-03-10T13:57:49.911704",
     "exception": false,
     "start_time": "2024-03-10T13:57:49.877300",
     "status": "completed"
    },
    "tags": []
   },
   "outputs": [],
   "source": [
    "# def train_rf(X, Y):    \n",
    "#     params = {\n",
    "#         \"boosting_type\": \"gbdt\",\n",
    "#         \"objective\": \"binary\",\n",
    "#         \"metric\": \"auc\",\n",
    "#         \"max_depth\": 8,\n",
    "#         \"max_bin\": 255,\n",
    "#         \"learning_rate\": 0.05,\n",
    "#         \"n_estimators\": 200,\n",
    "#         \"colsample_bytree\": 0.8, \n",
    "#         \"colsample_bynode\": 0.8,\n",
    "#         \"verbose\": -1,\n",
    "#         \"random_state\": 42,\n",
    "#         \"device\": \"gpu\",\n",
    "#     }\n",
    "    \n",
    "#     model = lgb.LGBMClassifier(**params)\n",
    "    \n",
    "#     model.fit(X.to_pandas(), Y.to_pandas())\n",
    "    \n",
    "#     # Get feature importances\n",
    "#     return pl.DataFrame({\n",
    "#         \"feature\": list(X.columns),\n",
    "#         \"feature_importance\": model.feature_importances_,\n",
    "#         \"train_score\": roc_auc_score(Y.to_pandas(), model.predict(X.to_pandas()))\n",
    "#     })"
   ]
  },
  {
   "cell_type": "code",
   "execution_count": 30,
   "id": "aa02247e",
   "metadata": {
    "execution": {
     "iopub.execute_input": "2024-03-10T13:57:49.962022Z",
     "iopub.status.busy": "2024-03-10T13:57:49.961509Z",
     "iopub.status.idle": "2024-03-10T13:57:49.967066Z",
     "shell.execute_reply": "2024-03-10T13:57:49.965865Z"
    },
    "papermill": {
     "duration": 0.033464,
     "end_time": "2024-03-10T13:57:49.969660",
     "exception": false,
     "start_time": "2024-03-10T13:57:49.936196",
     "status": "completed"
    },
    "tags": []
   },
   "outputs": [],
   "source": [
    "# def get_feature_importance(X, Y):\n",
    "#     COUNT_ITER = 50\n",
    "    \n",
    "#     dfs = []\n",
    "#     for i in range(COUNT_ITER):\n",
    "#         gc.collect()\n",
    "        \n",
    "#         start_time = time.time()\n",
    "#         shuffled_Y = Y.clone().sample(fraction=1.0, shuffle=True)\n",
    "#         current_df = train_rf(X, shuffled_Y)\n",
    "#         finish_time = time.time()\n",
    "#         print(f\"Finish iteration: {i + 1}/{COUNT_ITER}, time: {finish_time - start_time}\")\n",
    "#         current_df = current_df.with_columns(pl.lit(i).alias(\"iteration\"))\n",
    "#         dfs.append(current_df)\n",
    "        \n",
    "#     return pl.concat(dfs, rechunk=True), train_rf(X, Y)"
   ]
  },
  {
   "cell_type": "code",
   "execution_count": 31,
   "id": "318aea03",
   "metadata": {
    "execution": {
     "iopub.execute_input": "2024-03-10T13:57:50.019625Z",
     "iopub.status.busy": "2024-03-10T13:57:50.019187Z",
     "iopub.status.idle": "2024-03-10T13:57:50.024209Z",
     "shell.execute_reply": "2024-03-10T13:57:50.023119Z"
    },
    "papermill": {
     "duration": 0.033009,
     "end_time": "2024-03-10T13:57:50.026745",
     "exception": false,
     "start_time": "2024-03-10T13:57:49.993736",
     "status": "completed"
    },
    "tags": []
   },
   "outputs": [],
   "source": [
    "# shuffled_feature_importance_df, feature_importance_df = get_feature_importance(train_df[features], train_df[\"target\"])\n",
    "# shuffled_feature_importance_df.write_csv(\"shuffled_feature_importance_df.csv\", separator=\",\")\n",
    "# feature_importance_df.write_csv(\"feature_importance_df.csv\", separator=\",\")"
   ]
  },
  {
   "cell_type": "code",
   "execution_count": 32,
   "id": "6cdeed51",
   "metadata": {
    "execution": {
     "iopub.execute_input": "2024-03-10T13:57:50.077410Z",
     "iopub.status.busy": "2024-03-10T13:57:50.076992Z",
     "iopub.status.idle": "2024-03-10T13:57:50.082441Z",
     "shell.execute_reply": "2024-03-10T13:57:50.081051Z"
    },
    "papermill": {
     "duration": 0.033746,
     "end_time": "2024-03-10T13:57:50.084902",
     "exception": false,
     "start_time": "2024-03-10T13:57:50.051156",
     "status": "completed"
    },
    "tags": []
   },
   "outputs": [],
   "source": [
    "# important_features = []\n",
    "# for column in feature_importance_df[\"feature\"]:\n",
    "#     shuffled_feature_importance = shuffled_feature_importance_df.filter(shuffled_feature_importance_df[\"feature\"] == column)[\"feature_importance\"].to_numpy()\n",
    "#     feature_importance = feature_importance_df.filter(feature_importance_df[\"feature\"] == column)[\"feature_importance\"][0]\n",
    "    \n",
    "#     if (np.percentile(shuffled_feature_importance, 90) <= feature_importance):\n",
    "#         important_features.append(column)\n",
    "# print(len(important_features), important_features)"
   ]
  },
  {
   "cell_type": "markdown",
   "id": "377f2882",
   "metadata": {
    "papermill": {
     "duration": 0.023513,
     "end_time": "2024-03-10T13:57:50.132321",
     "exception": false,
     "start_time": "2024-03-10T13:57:50.108808",
     "status": "completed"
    },
    "tags": []
   },
   "source": [
    "# Training"
   ]
  },
  {
   "cell_type": "code",
   "execution_count": 33,
   "id": "4e4a0539",
   "metadata": {
    "execution": {
     "iopub.execute_input": "2024-03-10T13:57:50.182381Z",
     "iopub.status.busy": "2024-03-10T13:57:50.181920Z",
     "iopub.status.idle": "2024-03-10T13:57:50.187868Z",
     "shell.execute_reply": "2024-03-10T13:57:50.186728Z"
    },
    "papermill": {
     "duration": 0.034404,
     "end_time": "2024-03-10T13:57:50.190630",
     "exception": false,
     "start_time": "2024-03-10T13:57:50.156226",
     "status": "completed"
    },
    "tags": []
   },
   "outputs": [],
   "source": [
    "# class VotingModel(BaseEstimator, RegressorMixin):\n",
    "#     def __init__(self, estimators):\n",
    "#         super().__init__()\n",
    "#         self.estimators = estimators\n",
    "        \n",
    "#     def fit(self, X, y=None):\n",
    "#         return self\n",
    "    \n",
    "#     def predict(self, X):\n",
    "#         y_preds = [estimator.predict(X) for estimator in self.estimators]\n",
    "#         return np.mean(y_preds, axis=0)\n",
    "    \n",
    "#     def predict_proba(self, X):\n",
    "#         y_preds = [estimator.predict_proba(X) for estimator in self.estimators]\n",
    "#         return np.mean(y_preds, axis=0)\n",
    "    \n",
    "#     def get_feature_importance(self):\n",
    "#         feature_importances = np.array([0 for feature in features])\n",
    "\n",
    "#         for model in self.estimators:\n",
    "#             feature_importances += model.feature_importances_\n",
    "\n",
    "#         return feature_importances"
   ]
  },
  {
   "cell_type": "code",
   "execution_count": 34,
   "id": "ebb7ea40",
   "metadata": {
    "execution": {
     "iopub.execute_input": "2024-03-10T13:57:50.240772Z",
     "iopub.status.busy": "2024-03-10T13:57:50.240019Z",
     "iopub.status.idle": "2024-03-10T13:57:50.245182Z",
     "shell.execute_reply": "2024-03-10T13:57:50.244004Z"
    },
    "papermill": {
     "duration": 0.032995,
     "end_time": "2024-03-10T13:57:50.247719",
     "exception": false,
     "start_time": "2024-03-10T13:57:50.214724",
     "status": "completed"
    },
    "tags": []
   },
   "outputs": [],
   "source": [
    "# for column in features:\n",
    "#     if (train_dataset[column].dtype != pl.Categorical) and \\\n",
    "#         (train_dataset[column].dtype != pl.Float64) and \\\n",
    "#         (train_dataset[column].dtype != pl.Float64):\n",
    "#         print(column, train_dataset[column].dtype)"
   ]
  },
  {
   "cell_type": "code",
   "execution_count": 35,
   "id": "c4f86f99",
   "metadata": {
    "execution": {
     "iopub.execute_input": "2024-03-10T13:57:50.297886Z",
     "iopub.status.busy": "2024-03-10T13:57:50.297451Z",
     "iopub.status.idle": "2024-03-10T13:57:50.303624Z",
     "shell.execute_reply": "2024-03-10T13:57:50.302557Z"
    },
    "papermill": {
     "duration": 0.03407,
     "end_time": "2024-03-10T13:57:50.306069",
     "exception": false,
     "start_time": "2024-03-10T13:57:50.271999",
     "status": "completed"
    },
    "tags": []
   },
   "outputs": [],
   "source": [
    "# def train_lgb_model(X_train, Y_train, X_test, Y_test):\n",
    "#     params = {\n",
    "#         \"boosting_type\": \"gbdt\",\n",
    "#         \"objective\": \"binary\",\n",
    "#         \"metric\": \"auc\",\n",
    "#         \"max_depth\": 8,\n",
    "#         \"max_bin\": 250,\n",
    "#         \"learning_rate\": 0.05,\n",
    "#         \"n_estimators\": 1000,\n",
    "#         \"colsample_bytree\": 0.8, \n",
    "#         \"colsample_bynode\": 0.8,\n",
    "#         \"verbose\": -1,\n",
    "#         \"random_state\": 42,\n",
    "#         \"device\": \"gpu\",\n",
    "#     }\n",
    "    \n",
    "#     model = lgb.LGBMClassifier(**params)\n",
    "    \n",
    "#     model.fit(\n",
    "#         X_train, Y_train,\n",
    "#         eval_set=[(X_test, Y_test)],\n",
    "#         callbacks=[lgb.log_evaluation(100), lgb.early_stopping(100)]\n",
    "#     )\n",
    "        \n",
    "#     return model"
   ]
  },
  {
   "cell_type": "code",
   "execution_count": 36,
   "id": "b0825013",
   "metadata": {
    "execution": {
     "iopub.execute_input": "2024-03-10T13:57:50.356260Z",
     "iopub.status.busy": "2024-03-10T13:57:50.355865Z",
     "iopub.status.idle": "2024-03-10T13:57:50.360439Z",
     "shell.execute_reply": "2024-03-10T13:57:50.359285Z"
    },
    "papermill": {
     "duration": 0.032567,
     "end_time": "2024-03-10T13:57:50.362717",
     "exception": false,
     "start_time": "2024-03-10T13:57:50.330150",
     "status": "completed"
    },
    "tags": []
   },
   "outputs": [],
   "source": [
    "# gc.collect()"
   ]
  },
  {
   "cell_type": "code",
   "execution_count": 37,
   "id": "2954bd58",
   "metadata": {
    "execution": {
     "iopub.execute_input": "2024-03-10T13:57:50.414557Z",
     "iopub.status.busy": "2024-03-10T13:57:50.414147Z",
     "iopub.status.idle": "2024-03-10T13:57:50.420717Z",
     "shell.execute_reply": "2024-03-10T13:57:50.419492Z"
    },
    "papermill": {
     "duration": 0.035794,
     "end_time": "2024-03-10T13:57:50.423244",
     "exception": false,
     "start_time": "2024-03-10T13:57:50.387450",
     "status": "completed"
    },
    "tags": []
   },
   "outputs": [],
   "source": [
    "# weeks = train_df[\"WEEK_NUM\"]\n",
    "# cv = StratifiedGroupKFold(n_splits=5, shuffle=False)\n",
    "\n",
    "# fitted_models = []\n",
    "\n",
    "# oof_predicted = np.zeros(train_df.shape[0])\n",
    "\n",
    "# for idx_train, idx_test in cv.split(train_df[features], train_df[\"target\"], groups=weeks):        \n",
    "# #     X_train = train_df[features][idx_train].to_pandas()\n",
    "# #     Y_train = train_df[\"target\"][idx_train].to_pandas()\n",
    "    \n",
    "#     X_test = train_df[features][idx_test].to_pandas()\n",
    "#     Y_test = train_df[\"target\"][idx_test].to_pandas()\n",
    "    \n",
    "#     start = time.time()\n",
    "#     params = {\n",
    "#         \"boosting_type\": \"gbdt\",\n",
    "#         \"objective\": \"binary\",\n",
    "#         \"metric\": \"auc\",\n",
    "#         \"max_depth\": 8,\n",
    "#         \"max_bin\": 250,\n",
    "#         \"learning_rate\": 0.05,\n",
    "#         \"n_estimators\": 1000,\n",
    "#         \"colsample_bytree\": 0.8, \n",
    "#         \"colsample_bynode\": 0.8,\n",
    "#         \"verbose\": -1,\n",
    "#         \"random_state\": 42,\n",
    "#         \"device\": \"gpu\",\n",
    "#     }\n",
    "    \n",
    "#     model = lgb.LGBMClassifier(**params)\n",
    "    \n",
    "#     model.fit(\n",
    "#         train_df[features][idx_train].to_pandas(), train_df[\"target\"][idx_train].to_pandas(),\n",
    "#         eval_set=[(X_test, Y_test)],\n",
    "#         callbacks=[lgb.log_evaluation(100), lgb.early_stopping(100)]\n",
    "#     )\n",
    "        \n",
    "\n",
    "# #    model = train_lgb_model(X_train, Y_train, X_test, Y_test)\n",
    "#     finish = time.time()\n",
    "    \n",
    "#     print(\"fit time: {}\".format(finish - start))\n",
    "#     fitted_models.append(model)\n",
    "    \n",
    "#     test_pred = model.predict_proba(X_test)[:, 1]\n",
    "#     oof_predicted[idx_test] = test_pred\n",
    "#     gc.collect()\n",
    "\n",
    "# model = VotingModel(fitted_models)\n",
    "# gc.collect()"
   ]
  },
  {
   "cell_type": "code",
   "execution_count": 38,
   "id": "790176dc",
   "metadata": {
    "execution": {
     "iopub.execute_input": "2024-03-10T13:57:50.473646Z",
     "iopub.status.busy": "2024-03-10T13:57:50.472776Z",
     "iopub.status.idle": "2024-03-10T13:57:50.477645Z",
     "shell.execute_reply": "2024-03-10T13:57:50.476840Z"
    },
    "papermill": {
     "duration": 0.033188,
     "end_time": "2024-03-10T13:57:50.480283",
     "exception": false,
     "start_time": "2024-03-10T13:57:50.447095",
     "status": "completed"
    },
    "tags": []
   },
   "outputs": [],
   "source": [
    "# roc_auc_oof = roc_auc_score(train_df[\"target\"], oof_predicted)\n",
    "# print(\"CV roc_auc_oof: \", roc_auc_oof)"
   ]
  },
  {
   "cell_type": "markdown",
   "id": "21e27190",
   "metadata": {
    "papermill": {
     "duration": 0.023953,
     "end_time": "2024-03-10T13:57:50.528583",
     "exception": false,
     "start_time": "2024-03-10T13:57:50.504630",
     "status": "completed"
    },
    "tags": []
   },
   "source": [
    "# Predict"
   ]
  },
  {
   "cell_type": "code",
   "execution_count": 39,
   "id": "f1074f26",
   "metadata": {
    "execution": {
     "iopub.execute_input": "2024-03-10T13:57:50.578938Z",
     "iopub.status.busy": "2024-03-10T13:57:50.578067Z",
     "iopub.status.idle": "2024-03-10T13:57:50.583268Z",
     "shell.execute_reply": "2024-03-10T13:57:50.582342Z"
    },
    "papermill": {
     "duration": 0.033428,
     "end_time": "2024-03-10T13:57:50.585931",
     "exception": false,
     "start_time": "2024-03-10T13:57:50.552503",
     "status": "completed"
    },
    "tags": []
   },
   "outputs": [],
   "source": [
    "# del train_df\n",
    "# gc.collect()"
   ]
  },
  {
   "cell_type": "code",
   "execution_count": 40,
   "id": "a07f48fa",
   "metadata": {
    "execution": {
     "iopub.execute_input": "2024-03-10T13:57:50.639249Z",
     "iopub.status.busy": "2024-03-10T13:57:50.638370Z",
     "iopub.status.idle": "2024-03-10T13:57:50.643860Z",
     "shell.execute_reply": "2024-03-10T13:57:50.642835Z"
    },
    "papermill": {
     "duration": 0.035268,
     "end_time": "2024-03-10T13:57:50.646655",
     "exception": false,
     "start_time": "2024-03-10T13:57:50.611387",
     "status": "completed"
    },
    "tags": []
   },
   "outputs": [],
   "source": [
    "# test_dataset = data_loader.load_test_dataset()\n",
    "# print(\"Test dataset week range: {}-{}\".format(test_dataset.base[\"WEEK_NUM\"].min(), test_dataset.base[\"WEEK_NUM\"].max()))\n",
    "# gc.collect()\n",
    "# test_df = preprocessor.process_test_dataset(test_dataset)\n",
    "# del test_dataset\n",
    "# gc.collect()"
   ]
  },
  {
   "cell_type": "code",
   "execution_count": 41,
   "id": "60540127",
   "metadata": {
    "execution": {
     "iopub.execute_input": "2024-03-10T13:57:50.698482Z",
     "iopub.status.busy": "2024-03-10T13:57:50.698060Z",
     "iopub.status.idle": "2024-03-10T13:57:50.702965Z",
     "shell.execute_reply": "2024-03-10T13:57:50.701824Z"
    },
    "papermill": {
     "duration": 0.035207,
     "end_time": "2024-03-10T13:57:50.705825",
     "exception": false,
     "start_time": "2024-03-10T13:57:50.670618",
     "status": "completed"
    },
    "tags": []
   },
   "outputs": [],
   "source": [
    "# print([name for value, name in reversed(sorted(zip(model.get_feature_importance(), features)))][0:200])"
   ]
  },
  {
   "cell_type": "code",
   "execution_count": null,
   "id": "db87200f",
   "metadata": {
    "papermill": {
     "duration": 0.029471,
     "end_time": "2024-03-10T13:57:50.761398",
     "exception": false,
     "start_time": "2024-03-10T13:57:50.731927",
     "status": "completed"
    },
    "tags": []
   },
   "outputs": [],
   "source": []
  },
  {
   "cell_type": "code",
   "execution_count": 42,
   "id": "395227ee",
   "metadata": {
    "execution": {
     "iopub.execute_input": "2024-03-10T13:57:50.829348Z",
     "iopub.status.busy": "2024-03-10T13:57:50.827664Z",
     "iopub.status.idle": "2024-03-10T13:57:50.836348Z",
     "shell.execute_reply": "2024-03-10T13:57:50.834280Z"
    },
    "papermill": {
     "duration": 0.047626,
     "end_time": "2024-03-10T13:57:50.840228",
     "exception": false,
     "start_time": "2024-03-10T13:57:50.792602",
     "status": "completed"
    },
    "tags": []
   },
   "outputs": [],
   "source": [
    "# CV roc_auc_oof:  0.8353789451006361 without feature selection ~500 features\n",
    "# CV roc_auc_oof:  0.8329322959533371 with feature selection ~200 features"
   ]
  },
  {
   "cell_type": "code",
   "execution_count": null,
   "id": "d3900398",
   "metadata": {
    "papermill": {
     "duration": 0.02371,
     "end_time": "2024-03-10T13:57:50.888321",
     "exception": false,
     "start_time": "2024-03-10T13:57:50.864611",
     "status": "completed"
    },
    "tags": []
   },
   "outputs": [],
   "source": []
  },
  {
   "cell_type": "code",
   "execution_count": 43,
   "id": "286fcc17",
   "metadata": {
    "execution": {
     "iopub.execute_input": "2024-03-10T13:57:50.938958Z",
     "iopub.status.busy": "2024-03-10T13:57:50.937833Z",
     "iopub.status.idle": "2024-03-10T13:57:50.942797Z",
     "shell.execute_reply": "2024-03-10T13:57:50.942008Z"
    },
    "papermill": {
     "duration": 0.032702,
     "end_time": "2024-03-10T13:57:50.945089",
     "exception": false,
     "start_time": "2024-03-10T13:57:50.912387",
     "status": "completed"
    },
    "tags": []
   },
   "outputs": [],
   "source": [
    "# def gini_stability(dataset, w_fallingrate=88.0, w_resstd=-0.5):\n",
    "#     gini_in_time = dataset\\\n",
    "#         .sort_values(\"WEEK_NUM\")\\\n",
    "#         .groupby(\"WEEK_NUM\")[[\"true\", \"predicted\"]]\\\n",
    "#         .apply(lambda x: 2 * roc_auc_score(x[\"true\"], x[\"predicted\"]) - 1).tolist()\n",
    "    \n",
    "#     x = np.arange(len(gini_in_time))\n",
    "#     y = gini_in_time\n",
    "#     a, b = np.polyfit(x, y, 1)\n",
    "#     y_hat = a * x + b\n",
    "#     residuals = y - y_hat\n",
    "#     res_std = np.std(residuals)\n",
    "#     avg_gini = np.mean(gini_in_time)\n",
    "    \n",
    "#     print(avg_gini, min(0, a), res_std)\n",
    "    \n",
    "#     return avg_gini + w_fallingrate * min(0, a) + w_resstd * res_std"
   ]
  },
  {
   "cell_type": "code",
   "execution_count": 44,
   "id": "aa114fac",
   "metadata": {
    "execution": {
     "iopub.execute_input": "2024-03-10T13:57:50.995691Z",
     "iopub.status.busy": "2024-03-10T13:57:50.994971Z",
     "iopub.status.idle": "2024-03-10T13:57:50.999166Z",
     "shell.execute_reply": "2024-03-10T13:57:50.998187Z"
    },
    "papermill": {
     "duration": 0.032578,
     "end_time": "2024-03-10T13:57:51.001754",
     "exception": false,
     "start_time": "2024-03-10T13:57:50.969176",
     "status": "completed"
    },
    "tags": []
   },
   "outputs": [],
   "source": [
    "# # Y_train_predicted = model.predict_proba(train_df[features].to_pandas())\n",
    "# Y_test_predicted = model.predict_proba(test_df[features].to_pandas())"
   ]
  },
  {
   "cell_type": "code",
   "execution_count": 45,
   "id": "4eb1dd88",
   "metadata": {
    "execution": {
     "iopub.execute_input": "2024-03-10T13:57:51.053004Z",
     "iopub.status.busy": "2024-03-10T13:57:51.052499Z",
     "iopub.status.idle": "2024-03-10T13:57:51.058142Z",
     "shell.execute_reply": "2024-03-10T13:57:51.056873Z"
    },
    "papermill": {
     "duration": 0.034222,
     "end_time": "2024-03-10T13:57:51.060814",
     "exception": false,
     "start_time": "2024-03-10T13:57:51.026592",
     "status": "completed"
    },
    "tags": []
   },
   "outputs": [],
   "source": [
    "# result = pd.DataFrame({\n",
    "#     \"WEEK_NUM\": train_df[\"WEEK_NUM\"],\n",
    "#     \"true\": train_df[\"target\"],\n",
    "#     \"predicted\": Y_train_predicted[:, 1],\n",
    "# })\n",
    "\n",
    "# train_result = gini_stability(result)\n",
    "# print(\"train_score: {}\".format(train_result))\n",
    "\n",
    "# if MODE == Mode.Train:\n",
    "#     result = pd.DataFrame({\n",
    "#         \"WEEK_NUM\": test_df[\"WEEK_NUM\"],\n",
    "#         \"true\": test_df[\"target\"],\n",
    "#         \"predicted\": Y_test_predicted[:, 1],\n",
    "#     })\n",
    "\n",
    "#     test_result = gini_stability(result)\n",
    "#     print(\"test_score: {}\".format(test_result))"
   ]
  },
  {
   "cell_type": "code",
   "execution_count": 46,
   "id": "5c9b750a",
   "metadata": {
    "execution": {
     "iopub.execute_input": "2024-03-10T13:57:51.110937Z",
     "iopub.status.busy": "2024-03-10T13:57:51.110422Z",
     "iopub.status.idle": "2024-03-10T13:57:51.115632Z",
     "shell.execute_reply": "2024-03-10T13:57:51.114492Z"
    },
    "papermill": {
     "duration": 0.033331,
     "end_time": "2024-03-10T13:57:51.118330",
     "exception": false,
     "start_time": "2024-03-10T13:57:51.084999",
     "status": "completed"
    },
    "tags": []
   },
   "outputs": [],
   "source": [
    "# Version 1, test_score: 0.583319926590042, public score 0.48\n",
    "# 100 iters\n",
    "\n",
    "# Version 2, test_score: 0.6062624701357268, public score 0.517\n",
    "# 300 iters\n",
    "\n",
    "# Version 3, test_score: ?, public score 0.545\n",
    "# 2000 iters\n",
    "\n",
    "# Version 4, test_score: ?, public score ?\n",
    "# ? iters, Improve aggregate functions for depth_1, depth_2\n"
   ]
  },
  {
   "cell_type": "markdown",
   "id": "3536929f",
   "metadata": {
    "papermill": {
     "duration": 0.024149,
     "end_time": "2024-03-10T13:57:51.166502",
     "exception": false,
     "start_time": "2024-03-10T13:57:51.142353",
     "status": "completed"
    },
    "tags": []
   },
   "source": [
    "# Submition"
   ]
  },
  {
   "cell_type": "code",
   "execution_count": 47,
   "id": "e4b74ee9",
   "metadata": {
    "execution": {
     "iopub.execute_input": "2024-03-10T13:57:51.216940Z",
     "iopub.status.busy": "2024-03-10T13:57:51.216086Z",
     "iopub.status.idle": "2024-03-10T13:57:51.221440Z",
     "shell.execute_reply": "2024-03-10T13:57:51.220627Z"
    },
    "papermill": {
     "duration": 0.033406,
     "end_time": "2024-03-10T13:57:51.223888",
     "exception": false,
     "start_time": "2024-03-10T13:57:51.190482",
     "status": "completed"
    },
    "tags": []
   },
   "outputs": [],
   "source": [
    "# case_id = test_df[\"case_id\"]\n",
    "# X = test_df[features].to_pandas()\n",
    "\n",
    "# Y = model.predict_proba(X)\n",
    "\n",
    "# submission = pd.DataFrame({\n",
    "#     \"case_id\": case_id.to_numpy(),\n",
    "#     \"score\": Y[:, 1]\n",
    "# }).set_index('case_id')\n",
    "# submission.to_csv(\"./submission.csv\")"
   ]
  },
  {
   "cell_type": "code",
   "execution_count": null,
   "id": "da10a21f",
   "metadata": {
    "papermill": {
     "duration": 0.023989,
     "end_time": "2024-03-10T13:57:51.271590",
     "exception": false,
     "start_time": "2024-03-10T13:57:51.247601",
     "status": "completed"
    },
    "tags": []
   },
   "outputs": [],
   "source": []
  },
  {
   "cell_type": "code",
   "execution_count": null,
   "id": "b3bec089",
   "metadata": {
    "papermill": {
     "duration": 0.023633,
     "end_time": "2024-03-10T13:57:51.319119",
     "exception": false,
     "start_time": "2024-03-10T13:57:51.295486",
     "status": "completed"
    },
    "tags": []
   },
   "outputs": [],
   "source": []
  },
  {
   "cell_type": "code",
   "execution_count": null,
   "id": "dd1f8aaa",
   "metadata": {
    "papermill": {
     "duration": 0.02397,
     "end_time": "2024-03-10T13:57:51.367070",
     "exception": false,
     "start_time": "2024-03-10T13:57:51.343100",
     "status": "completed"
    },
    "tags": []
   },
   "outputs": [],
   "source": []
  }
 ],
 "metadata": {
  "kaggle": {
   "accelerator": "none",
   "dataSources": [
    {
     "databundleVersionId": 7602123,
     "sourceId": 50160,
     "sourceType": "competition"
    },
    {
     "datasetId": 4496896,
     "sourceId": 7807739,
     "sourceType": "datasetVersion"
    }
   ],
   "dockerImageVersionId": 30635,
   "isGpuEnabled": false,
   "isInternetEnabled": false,
   "language": "python",
   "sourceType": "notebook"
  },
  "kernelspec": {
   "display_name": "Python 3",
   "language": "python",
   "name": "python3"
  },
  "language_info": {
   "codemirror_mode": {
    "name": "ipython",
    "version": 3
   },
   "file_extension": ".py",
   "mimetype": "text/x-python",
   "name": "python",
   "nbconvert_exporter": "python",
   "pygments_lexer": "ipython3",
   "version": "3.10.12"
  },
  "papermill": {
   "default_parameters": {},
   "duration": 1147.770137,
   "end_time": "2024-03-10T13:57:52.417815",
   "environment_variables": {},
   "exception": null,
   "input_path": "__notebook__.ipynb",
   "output_path": "__notebook__.ipynb",
   "parameters": {},
   "start_time": "2024-03-10T13:38:44.647678",
   "version": "2.4.0"
  }
 },
 "nbformat": 4,
 "nbformat_minor": 5
}
