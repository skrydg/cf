{
 "cells": [
  {
   "cell_type": "markdown",
   "id": "8428ce83",
   "metadata": {
    "papermill": {
     "duration": 0.012918,
     "end_time": "2024-04-18T16:00:19.025834",
     "exception": false,
     "start_time": "2024-04-18T16:00:19.012916",
     "status": "completed"
    },
    "tags": []
   },
   "source": [
    "# Install packages"
   ]
  },
  {
   "cell_type": "code",
   "execution_count": 1,
   "id": "2cef2886",
   "metadata": {
    "execution": {
     "iopub.execute_input": "2024-04-18T16:00:19.051730Z",
     "iopub.status.busy": "2024-04-18T16:00:19.051338Z",
     "iopub.status.idle": "2024-04-18T16:00:53.125535Z",
     "shell.execute_reply": "2024-04-18T16:00:53.124286Z"
    },
    "papermill": {
     "duration": 34.090145,
     "end_time": "2024-04-18T16:00:53.128178",
     "exception": false,
     "start_time": "2024-04-18T16:00:19.038033",
     "status": "completed"
    },
    "tags": []
   },
   "outputs": [
    {
     "name": "stdout",
     "output_type": "stream",
     "text": [
      "Processing /kaggle/input/kaggle-home-credit-risk-model-stability-lib/kaggle_home_credit_risk_model_stability-0.3-py3-none-any.whl\r\n",
      "Installing collected packages: kaggle-home-credit-risk-model-stability\r\n",
      "Successfully installed kaggle-home-credit-risk-model-stability-0.3\r\n"
     ]
    }
   ],
   "source": [
    "!pip install /kaggle/input/kaggle-home-credit-risk-model-stability-lib/kaggle_home_credit_risk_model_stability-0.3-py3-none-any.whl --force-reinstall"
   ]
  },
  {
   "cell_type": "markdown",
   "id": "e6f12a86",
   "metadata": {
    "papermill": {
     "duration": 0.012321,
     "end_time": "2024-04-18T16:00:53.153473",
     "exception": false,
     "start_time": "2024-04-18T16:00:53.141152",
     "status": "completed"
    },
    "tags": []
   },
   "source": [
    "# Import packages"
   ]
  },
  {
   "cell_type": "code",
   "execution_count": 2,
   "id": "83ba52be",
   "metadata": {
    "execution": {
     "iopub.execute_input": "2024-04-18T16:00:53.182003Z",
     "iopub.status.busy": "2024-04-18T16:00:53.181547Z",
     "iopub.status.idle": "2024-04-18T16:00:57.782308Z",
     "shell.execute_reply": "2024-04-18T16:00:57.780933Z"
    },
    "papermill": {
     "duration": 4.619459,
     "end_time": "2024-04-18T16:00:57.785344",
     "exception": false,
     "start_time": "2024-04-18T16:00:53.165885",
     "status": "completed"
    },
    "tags": []
   },
   "outputs": [],
   "source": [
    "import polars as pl\n",
    "import gc\n",
    "import time\n",
    "import numpy as np\n",
    "import pandas as pd\n",
    "import lightgbm as lgb\n",
    "import seaborn as sns\n",
    "import matplotlib.pyplot as plt\n",
    "import copy\n",
    "import lightgbm as lgb\n",
    "import importlib\n",
    "import pickle\n",
    "import argparse\n",
    "\n",
    "import kaggle_home_credit_risk_model_stability.libs as hcr\n",
    "from kaggle_home_credit_risk_model_stability.libs.env import Env\n",
    "from kaggle_home_credit_risk_model_stability.libs.input.dataset import Dataset\n",
    "from kaggle_home_credit_risk_model_stability.libs.input.data_loader import DataLoader\n",
    "from kaggle_home_credit_risk_model_stability.libs.preprocessor.preprocessor import Preprocessor\n",
    "from kaggle_home_credit_risk_model_stability.libs.preprocessor.steps import *\n",
    "from kaggle_home_credit_risk_model_stability.libs.preprocessor.columns_info import ColumnsInfo\n",
    "from kaggle_home_credit_risk_model_stability.libs.feature_description.feature_description import FreatureDescriptionGetter\n",
    "\n",
    "from collections import defaultdict\n",
    "from glob import glob\n",
    "from pathlib import Path\n",
    "from sklearn.model_selection import train_test_split\n",
    "from sklearn.metrics import roc_auc_score\n",
    "from sklearn.model_selection import StratifiedGroupKFold\n",
    "from sklearn.base import BaseEstimator, RegressorMixin"
   ]
  },
  {
   "cell_type": "code",
   "execution_count": 3,
   "id": "df85718b",
   "metadata": {
    "execution": {
     "iopub.execute_input": "2024-04-18T16:00:57.812876Z",
     "iopub.status.busy": "2024-04-18T16:00:57.812495Z",
     "iopub.status.idle": "2024-04-18T16:00:57.817259Z",
     "shell.execute_reply": "2024-04-18T16:00:57.816061Z"
    },
    "papermill": {
     "duration": 0.021316,
     "end_time": "2024-04-18T16:00:57.819724",
     "exception": false,
     "start_time": "2024-04-18T16:00:57.798408",
     "status": "completed"
    },
    "tags": []
   },
   "outputs": [],
   "source": [
    "env = Env(\n",
    "    \"/kaggle/input/\",\n",
    "    \"/kaggle/working/\"\n",
    ")"
   ]
  },
  {
   "cell_type": "code",
   "execution_count": 4,
   "id": "a71ac650",
   "metadata": {
    "execution": {
     "iopub.execute_input": "2024-04-18T16:00:57.847730Z",
     "iopub.status.busy": "2024-04-18T16:00:57.846989Z",
     "iopub.status.idle": "2024-04-18T16:00:57.855288Z",
     "shell.execute_reply": "2024-04-18T16:00:57.854201Z"
    },
    "papermill": {
     "duration": 0.025079,
     "end_time": "2024-04-18T16:00:57.857788",
     "exception": false,
     "start_time": "2024-04-18T16:00:57.832709",
     "status": "completed"
    },
    "tags": []
   },
   "outputs": [],
   "source": [
    "data_loader = DataLoader(env, tables = [\n",
    "    \"base\", \"static_cb_0\", \"static_0\", \"person_1\", \"tax_registry_a_1\", \"tax_registry_b_1\", \"tax_registry_c_1\", \n",
    "    \"credit_bureau_a_2\"\n",
    "    #\"credit_bureau_a_1\"\n",
    "    #\"credit_bureau_b_1\", \"credit_bureau_b_2\", \"other_1\", \"deposit_1\", \"debitcard_1\" <- low amount of data\n",
    "])\n",
    "\n",
    "#data_loader = DataLoader(env)\n",
    "\n",
    "preprocessor = Preprocessor({\n",
    "    #\"sort_raw_tables\": SortRawTablesStep(),\n",
    "    \"set_column_info_step\": SetColumnsInfoStep(),\n",
    "    \"set_types\": SetTypesStep(),\n",
    "    \"drop_composite_features\": DropCompositeFeaturesStep(),\n",
    "    \"create_day_feature\": CreateDayFeatureStep(),\n",
    "    # #\"drop_raw_null_columns\": DropRawNullColumns(feature_threashold=0.2, week_threashold=0.9),\n",
    "    \"process_categorical\": ProcessCategoricalStep(),\n",
    "    \"process_person_table\": ProcessPersonTableStep(),\n",
    "    #\"process_credit_burea_1_table\": ProcessCreditBureaua1TableStep(),\n",
    "    #\"split_composite_features\": SplitCompositeFeaturesStep(exclude_list=\"previouscontdistrict_112M\", drop_original=True),\n",
    "    \"reduce_dimention_for_categorical_features\": ReduceDimentionForCategoricalFeaturesStep(),\n",
    "    #\"one_hot_encoding_for_depth1\": OneHotEncodingForDepth1Step(),\n",
    "    #\"pairwise_diff_raw_dates\": PairwiseDateDiffStep(),\n",
    "    \"aggregate_depth_table\": AggregateDepthTableStep(),\n",
    "    #\"drop_equal_columns\": DropEqualColumnsStep(),\n",
    "    #\"drop_almost_null_features_respect_to_target\": DropAlmostNullFeaturesWithRespectToTargetStep(),\n",
    "    \"join_table\": JoinTablesStep(),\n",
    "    \"merge_chunked_table\": MergeChunkedTablesStep(),\n",
    "    \"drop_almost_null_features\": DropAlmostNullFeaturesStep(),\n",
    "    #\"generate_age_feature\": GenerateAgeFeatureStep(),\n",
    "    \"generate_base_date_diff\": GenerateBaseDateDiffStep(base_column=\"date_decision\"),\n",
    "    \"fill_nulls_in_categorical_features\": FillNullsInCategoricalFeaturesStep(),\n",
    "    **{\n",
    "        f\"create_money_feature_fraction_{base_column}\": CreateMoneyFeatureFractionStep(base_column)\n",
    "        for base_column in [\"credamount_770A\", \"maininc_215A\", \"mainoccupationinc_384A\"] # mean_amount_416A\n",
    "    },\n",
    "    #\"generate_mismatch_features\": GenerateMismatchFeaturesStep(),\n",
    "    #\"generate_target_distribution_based_on_categorical_features_step\": GenerateTargetDistributionBasedOnCategoricalStep(),\n",
    "    \"drop_single_value_features\": DropSingleValueFeaturesStep(),\n",
    "    \"drop_variable_enum_features\": DropVariableEnumFeaturesStep(),\n",
    "    \"reduce_memory_usage\": ReduceMemoryUsageStep()\n",
    "})"
   ]
  },
  {
   "cell_type": "code",
   "execution_count": null,
   "id": "cce6a211",
   "metadata": {
    "papermill": {
     "duration": 0.01211,
     "end_time": "2024-04-18T16:00:57.882454",
     "exception": false,
     "start_time": "2024-04-18T16:00:57.870344",
     "status": "completed"
    },
    "tags": []
   },
   "outputs": [],
   "source": []
  },
  {
   "cell_type": "code",
   "execution_count": 5,
   "id": "3c37d29e",
   "metadata": {
    "execution": {
     "iopub.execute_input": "2024-04-18T16:00:57.909847Z",
     "iopub.status.busy": "2024-04-18T16:00:57.909045Z",
     "iopub.status.idle": "2024-04-18T16:29:03.950562Z",
     "shell.execute_reply": "2024-04-18T16:29:03.949356Z"
    },
    "papermill": {
     "duration": 1686.058511,
     "end_time": "2024-04-18T16:29:03.953275",
     "exception": false,
     "start_time": "2024-04-18T16:00:57.894764",
     "status": "completed"
    },
    "tags": []
   },
   "outputs": [
    {
     "name": "stdout",
     "output_type": "stream",
     "text": [
      "Drop composite features ['lastapprcommoditycat_1041M', 'lastapprcommoditytypec_5251766M', 'lastcancelreason_561M', 'lastrejectcommoditycat_161M', 'lastrejectcommodtypec_5251769M', 'lastrejectreason_759M', 'lastrejectreasonclient_4145040M', 'previouscontdistrict_112M', 'contaddr_district_15M', 'contaddr_zipcode_807M', 'education_927M', 'empladdr_district_926M', 'empladdr_zipcode_114M', 'language1_981M', 'registaddr_district_1083M', 'registaddr_zipcode_184M']\n",
      "Generate 365 columns as aggregates\n",
      "Generate 365 columns as aggregates\n",
      "Generate 365 columns as aggregates\n",
      "Generate 365 columns as aggregates\n",
      "Generate 365 columns as aggregates\n",
      "Generate 365 columns as aggregates\n",
      "Generate 365 columns as aggregates\n",
      "Generate 365 columns as aggregates\n",
      "Generate 365 columns as aggregates\n",
      "Generate 365 columns as aggregates\n",
      "Generate 365 columns as aggregates\n",
      "Generate 365 columns as aggregates\n",
      "Generate 365 columns as aggregates\n",
      "Generate 365 columns as aggregates\n",
      "Generate 365 columns as aggregates\n",
      "Generate 365 columns as aggregates\n",
      "Drop 159 columns as almost null\n",
      "Columns to drop ['assignmentdate_4955616D', 'dateofbirth_342D', 'for3years_128L', 'for3years_504L', 'for3years_584L', 'formonth_118L', 'formonth_206L', 'formonth_535L', 'forquarter_1017L', 'forquarter_462L', 'forquarter_634L', 'fortoday_1092L', 'forweek_1077L', 'forweek_528L', 'forweek_601L', 'foryear_618L', 'foryear_818L', 'foryear_850L', 'pmtaverage_4955615A', 'pmtcount_4955617L', 'riskassesment_940T', 'clientscnt_136L', 'deferredmnthsnum_166L', 'equalityempfrom_62L', 'interestrategrace_34L', 'isbidproductrequest_292L', 'lastdependentsnum_448L', 'lastotherinc_902A', 'lastotherlnsexpense_631A', 'lastrepayingdate_696D', 'maxannuity_4075009A', 'payvacationpostpone_4187118D', 'max_name_4917606M', 'min_name_4917606M', 'first_name_4917606M', 'last_name_4917606M', 'mode_name_4917606M', 'first_pmts_dpd_303P', 'first_pmts_overdue_1152A', 'last_collater_valueofguarantee_1124L', 'last_collater_valueofguarantee_876L', 'last_pmts_dpd_1073P', 'last_pmts_dpd_303P', 'last_pmts_overdue_1140A', 'last_pmts_overdue_1152A', 'birthdate_87D', 'childnum_185L', 'housingtype_772L', 'isreference_387L', 'personindex_1023L', 'persontype_1072L', 'persontype_792L', 'relationshiptoclient_415T', 'relationshiptoclient_642T', 'remitter_829L', 'max_birth_259D', 'max_birthdate_87D', 'max_childnum_185L', 'max_contaddr_matchlist_1032L', 'max_contaddr_smempladdr_334L', 'max_empl_employedfrom_271D', 'max_isreference_387L', 'max_mainoccupationinc_384A', 'max_safeguarantyflag_411L', 'min_birth_259D', 'min_birthdate_87D', 'min_childnum_185L', 'min_contaddr_matchlist_1032L', 'min_contaddr_smempladdr_334L', 'min_empl_employedfrom_271D', 'min_isreference_387L', 'min_mainoccupationinc_384A', 'min_safeguarantyflag_411L', 'first_birth_259D', 'first_birthdate_87D', 'first_childnum_185L', 'first_contaddr_matchlist_1032L', 'first_contaddr_smempladdr_334L', 'first_empl_employedfrom_271D', 'first_isreference_387L', 'first_mainoccupationinc_384A', 'first_safeguarantyflag_411L', 'last_birth_259D', 'last_birthdate_87D', 'last_childnum_185L', 'last_contaddr_matchlist_1032L', 'last_contaddr_smempladdr_334L', 'last_empl_employedfrom_271D', 'last_isreference_387L', 'last_mainoccupationinc_384A', 'last_safeguarantyflag_411L', 'mean_birth_259D', 'mean_birthdate_87D', 'mean_childnum_185L', 'mean_contaddr_matchlist_1032L', 'mean_contaddr_smempladdr_334L', 'mean_empl_employedfrom_271D', 'mean_isreference_387L', 'mean_mainoccupationinc_384A', 'mean_safeguarantyflag_411L', 'std_birth_259D', 'std_birthdate_87D', 'std_childnum_185L', 'std_contaddr_matchlist_1032L', 'std_contaddr_smempladdr_334L', 'std_empl_employedfrom_271D', 'std_isreference_387L', 'std_mainoccupationinc_384A', 'std_safeguarantyflag_411L', 'max_empl_employedtotal_800L', 'min_empl_employedtotal_800L', 'first_empl_employedtotal_800L', 'last_empl_employedtotal_800L', 'mode_empl_employedtotal_800L', 'max_empl_industry_691L', 'min_empl_industry_691L', 'first_empl_industry_691L', 'last_empl_industry_691L', 'mode_empl_industry_691L', 'max_familystate_447L', 'min_familystate_447L', 'first_familystate_447L', 'last_familystate_447L', 'mode_familystate_447L', 'max_gender_992L', 'min_gender_992L', 'first_gender_992L', 'last_gender_992L', 'mode_gender_992L', 'max_housetype_905L', 'min_housetype_905L', 'first_housetype_905L', 'last_housetype_905L', 'mode_housetype_905L', 'max_housingtype_772L', 'min_housingtype_772L', 'first_housingtype_772L', 'last_housingtype_772L', 'mode_housingtype_772L', 'max_incometype_1044T', 'min_incometype_1044T', 'first_incometype_1044T', 'last_incometype_1044T', 'mode_incometype_1044T', 'max_maritalst_703L', 'min_maritalst_703L', 'first_maritalst_703L', 'last_maritalst_703L', 'mode_maritalst_703L', 'max_role_993L', 'min_role_993L', 'first_role_993L', 'last_role_993L', 'mode_role_993L', 'max_sex_738L', 'min_sex_738L', 'first_sex_738L', 'last_sex_738L', 'mode_sex_738L']\n",
      "Create 37 new date diff columns, with base_column=date_decision\n",
      "Create 45 new columns as money feature fraction with base 'credamount_770A'\n",
      "Create 45 new columns as money feature fraction with base 'maininc_215A'\n",
      "Create 45 new columns as money feature fraction with base 'mainoccupationinc_384A'\n",
      "Drop 1 columns as single value\n",
      "Drop 0 columns as variable enum value\n"
     ]
    },
    {
     "data": {
      "text/plain": [
       "0"
      ]
     },
     "execution_count": 5,
     "metadata": {},
     "output_type": "execute_result"
    }
   ],
   "source": [
    "train_dataset_generator = data_loader.load_train_dataset(chunk_size=100000)\n",
    "gc.collect()\n",
    "train_df, columns_info = preprocessor.process_train_dataset(train_dataset_generator)\n",
    "del train_dataset_generator\n",
    "gc.collect()"
   ]
  },
  {
   "cell_type": "code",
   "execution_count": 6,
   "id": "5868a193",
   "metadata": {
    "execution": {
     "iopub.execute_input": "2024-04-18T16:29:03.985570Z",
     "iopub.status.busy": "2024-04-18T16:29:03.984979Z",
     "iopub.status.idle": "2024-04-18T16:29:23.661362Z",
     "shell.execute_reply": "2024-04-18T16:29:23.660180Z"
    },
    "papermill": {
     "duration": 19.695392,
     "end_time": "2024-04-18T16:29:23.663680",
     "exception": false,
     "start_time": "2024-04-18T16:29:03.968288",
     "status": "completed"
    },
    "tags": []
   },
   "outputs": [
    {
     "name": "stdout",
     "output_type": "stream",
     "text": [
      "3432.2791748046875\n",
      "shape: (1_526_659, 623)\n",
      "┌─────────┬────────────┬────────┬──────────┬───┬────────────┬────────────┬────────────┬────────────┐\n",
      "│ case_id ┆ date_decis ┆ MONTH  ┆ WEEK_NUM ┆ … ┆ min_pmtamo ┆ first_pmta ┆ last_pmtam ┆ mean_pmtam │\n",
      "│ ---     ┆ ion        ┆ ---    ┆ ---      ┆   ┆ unt_36A/ma ┆ mount_36A/ ┆ ount_36A/m ┆ ount_36A/m │\n",
      "│ i32     ┆ ---        ┆ i32    ┆ i16      ┆   ┆ inoccupati ┆ mainoccupa ┆ ainoccupat ┆ ainoccupat │\n",
      "│         ┆ i16        ┆        ┆          ┆   ┆ on…        ┆ ti…        ┆ io…        ┆ io…        │\n",
      "│         ┆            ┆        ┆          ┆   ┆ ---        ┆ ---        ┆ ---        ┆ ---        │\n",
      "│         ┆            ┆        ┆          ┆   ┆ f32        ┆ f32        ┆ f32        ┆ f32        │\n",
      "╞═════════╪════════════╪════════╪══════════╪═══╪════════════╪════════════╪════════════╪════════════╡\n",
      "│ 0       ┆ 17899      ┆ 201901 ┆ 0        ┆ … ┆ null       ┆ null       ┆ null       ┆ null       │\n",
      "│ 1       ┆ 17899      ┆ 201901 ┆ 0        ┆ … ┆ null       ┆ null       ┆ null       ┆ null       │\n",
      "│ 2       ┆ 17900      ┆ 201901 ┆ 0        ┆ … ┆ null       ┆ null       ┆ null       ┆ null       │\n",
      "│ 3       ┆ 17899      ┆ 201901 ┆ 0        ┆ … ┆ null       ┆ null       ┆ null       ┆ null       │\n",
      "│ …       ┆ …          ┆ …      ┆ …        ┆ … ┆ …          ┆ …          ┆ …          ┆ …          │\n",
      "│ 2703451 ┆ 18540      ┆ 202010 ┆ 91       ┆ … ┆ null       ┆ null       ┆ null       ┆ null       │\n",
      "│ 2703452 ┆ 18540      ┆ 202010 ┆ 91       ┆ … ┆ null       ┆ null       ┆ null       ┆ null       │\n",
      "│ 2703453 ┆ 18540      ┆ 202010 ┆ 91       ┆ … ┆ null       ┆ null       ┆ null       ┆ null       │\n",
      "│ 2703454 ┆ 18540      ┆ 202010 ┆ 91       ┆ … ┆ null       ┆ null       ┆ null       ┆ null       │\n",
      "└─────────┴────────────┴────────┴──────────┴───┴────────────┴────────────┴────────────┴────────────┘\n"
     ]
    },
    {
     "data": {
      "text/plain": [
       "0"
      ]
     },
     "execution_count": 6,
     "metadata": {},
     "output_type": "execute_result"
    }
   ],
   "source": [
    "train_df.write_parquet(env.output_directory / \"train_df.parquet\")\n",
    "pickle.dump(columns_info, open(env.output_directory / \"columns_info.pkl\", \"wb\"))\n",
    "print(train_df.estimated_size() / 1024 / 1024)\n",
    "print(train_df)\n",
    "\n",
    "del train_df\n",
    "gc.collect()"
   ]
  },
  {
   "cell_type": "code",
   "execution_count": 7,
   "id": "7c29145b",
   "metadata": {
    "execution": {
     "iopub.execute_input": "2024-04-18T16:29:23.696642Z",
     "iopub.status.busy": "2024-04-18T16:29:23.694473Z",
     "iopub.status.idle": "2024-04-18T16:29:33.729360Z",
     "shell.execute_reply": "2024-04-18T16:29:33.728153Z"
    },
    "papermill": {
     "duration": 10.053659,
     "end_time": "2024-04-18T16:29:33.732343",
     "exception": false,
     "start_time": "2024-04-18T16:29:23.678684",
     "status": "completed"
    },
    "tags": []
   },
   "outputs": [
    {
     "name": "stdout",
     "output_type": "stream",
     "text": [
      "Generate 365 columns as aggregates\n",
      "Create 37 new date diff columns, with base_column=date_decision\n",
      "Create 45 new columns as money feature fraction with base 'credamount_770A'\n",
      "Create 45 new columns as money feature fraction with base 'maininc_215A'\n",
      "Create 45 new columns as money feature fraction with base 'mainoccupationinc_384A'\n"
     ]
    },
    {
     "data": {
      "text/plain": [
       "0"
      ]
     },
     "execution_count": 7,
     "metadata": {},
     "output_type": "execute_result"
    }
   ],
   "source": [
    "test_dataset_generator = data_loader.load_test_dataset(chunk_size=100000)\n",
    "gc.collect()\n",
    "test_df, columns_info = preprocessor.process_test_dataset(test_dataset_generator)\n",
    "del test_dataset_generator\n",
    "gc.collect()"
   ]
  },
  {
   "cell_type": "code",
   "execution_count": 8,
   "id": "f2d7534f",
   "metadata": {
    "execution": {
     "iopub.execute_input": "2024-04-18T16:29:33.764630Z",
     "iopub.status.busy": "2024-04-18T16:29:33.764235Z",
     "iopub.status.idle": "2024-04-18T16:29:34.054293Z",
     "shell.execute_reply": "2024-04-18T16:29:34.053223Z"
    },
    "papermill": {
     "duration": 0.308929,
     "end_time": "2024-04-18T16:29:34.056767",
     "exception": false,
     "start_time": "2024-04-18T16:29:33.747838",
     "status": "completed"
    },
    "tags": []
   },
   "outputs": [
    {
     "name": "stdout",
     "output_type": "stream",
     "text": [
      "0.04240894317626953\n",
      "shape: (10, 622)\n",
      "┌─────────┬────────────┬────────┬──────────┬───┬────────────┬────────────┬────────────┬────────────┐\n",
      "│ case_id ┆ date_decis ┆ MONTH  ┆ WEEK_NUM ┆ … ┆ min_pmtamo ┆ first_pmta ┆ last_pmtam ┆ mean_pmtam │\n",
      "│ ---     ┆ ion        ┆ ---    ┆ ---      ┆   ┆ unt_36A/ma ┆ mount_36A/ ┆ ount_36A/m ┆ ount_36A/m │\n",
      "│ i32     ┆ ---        ┆ i32    ┆ i16      ┆   ┆ inoccupati ┆ mainoccupa ┆ ainoccupat ┆ ainoccupat │\n",
      "│         ┆ i16        ┆        ┆          ┆   ┆ on…        ┆ ti…        ┆ io…        ┆ io…        │\n",
      "│         ┆            ┆        ┆          ┆   ┆ ---        ┆ ---        ┆ ---        ┆ ---        │\n",
      "│         ┆            ┆        ┆          ┆   ┆ f32        ┆ f32        ┆ f32        ┆ f32        │\n",
      "╞═════════╪════════════╪════════╪══════════╪═══╪════════════╪════════════╪════════════╪════════════╡\n",
      "│ 57543   ┆ 18761      ┆ 202201 ┆ 100      ┆ … ┆ null       ┆ null       ┆ null       ┆ null       │\n",
      "│ 57549   ┆ 19009      ┆ 202201 ┆ 100      ┆ … ┆ null       ┆ null       ┆ null       ┆ null       │\n",
      "│ 57551   ┆ 18593      ┆ 202201 ┆ 100      ┆ … ┆ null       ┆ null       ┆ null       ┆ null       │\n",
      "│ 57552   ┆ 18593      ┆ 202201 ┆ 100      ┆ … ┆ null       ┆ null       ┆ null       ┆ null       │\n",
      "│ …       ┆ …          ┆ …      ┆ …        ┆ … ┆ …          ┆ …          ┆ …          ┆ …          │\n",
      "│ 57631   ┆ 19147      ┆ 202201 ┆ 100      ┆ … ┆ null       ┆ null       ┆ null       ┆ null       │\n",
      "│ 57632   ┆ 19028      ┆ 202201 ┆ 100      ┆ … ┆ null       ┆ null       ┆ null       ┆ null       │\n",
      "│ 57633   ┆ 19017      ┆ 202201 ┆ 100      ┆ … ┆ null       ┆ null       ┆ null       ┆ null       │\n",
      "│ 57634   ┆ 18654      ┆ 202201 ┆ 100      ┆ … ┆ null       ┆ null       ┆ null       ┆ null       │\n",
      "└─────────┴────────────┴────────┴──────────┴───┴────────────┴────────────┴────────────┴────────────┘\n"
     ]
    },
    {
     "data": {
      "text/plain": [
       "0"
      ]
     },
     "execution_count": 8,
     "metadata": {},
     "output_type": "execute_result"
    }
   ],
   "source": [
    "test_df.write_parquet(env.output_directory / \"test_df.parquet\")\n",
    "print(test_df.estimated_size() / 1024 / 1024)\n",
    "print(test_df)\n",
    "\n",
    "del test_df\n",
    "gc.collect()"
   ]
  },
  {
   "cell_type": "markdown",
   "id": "3a91da60",
   "metadata": {
    "_kg_hide-input": true,
    "papermill": {
     "duration": 0.014685,
     "end_time": "2024-04-18T16:29:34.086166",
     "exception": false,
     "start_time": "2024-04-18T16:29:34.071481",
     "status": "completed"
    },
    "tags": []
   },
   "source": [
    "# Data visualization"
   ]
  },
  {
   "cell_type": "code",
   "execution_count": null,
   "id": "3bc616b6",
   "metadata": {
    "papermill": {
     "duration": 0.014372,
     "end_time": "2024-04-18T16:29:34.115153",
     "exception": false,
     "start_time": "2024-04-18T16:29:34.100781",
     "status": "completed"
    },
    "tags": []
   },
   "outputs": [],
   "source": []
  },
  {
   "cell_type": "code",
   "execution_count": 9,
   "id": "e09fa1da",
   "metadata": {
    "execution": {
     "iopub.execute_input": "2024-04-18T16:29:34.146432Z",
     "iopub.status.busy": "2024-04-18T16:29:34.146036Z",
     "iopub.status.idle": "2024-04-18T16:29:34.151055Z",
     "shell.execute_reply": "2024-04-18T16:29:34.149866Z"
    },
    "papermill": {
     "duration": 0.023454,
     "end_time": "2024-04-18T16:29:34.153270",
     "exception": false,
     "start_time": "2024-04-18T16:29:34.129816",
     "status": "completed"
    },
    "tags": []
   },
   "outputs": [],
   "source": [
    "# train_dataset = data_loader.load_train_dataset()"
   ]
  },
  {
   "cell_type": "code",
   "execution_count": 10,
   "id": "a995a7b0",
   "metadata": {
    "execution": {
     "iopub.execute_input": "2024-04-18T16:29:34.184568Z",
     "iopub.status.busy": "2024-04-18T16:29:34.184183Z",
     "iopub.status.idle": "2024-04-18T16:29:34.188929Z",
     "shell.execute_reply": "2024-04-18T16:29:34.187795Z"
    },
    "papermill": {
     "duration": 0.023148,
     "end_time": "2024-04-18T16:29:34.191238",
     "exception": false,
     "start_time": "2024-04-18T16:29:34.168090",
     "status": "completed"
    },
    "tags": []
   },
   "outputs": [],
   "source": [
    "# [column for column in train_df.columns if \"amtdebitincoming_4809443A\" in column]"
   ]
  },
  {
   "cell_type": "code",
   "execution_count": 11,
   "id": "53b04c5f",
   "metadata": {
    "execution": {
     "iopub.execute_input": "2024-04-18T16:29:34.224177Z",
     "iopub.status.busy": "2024-04-18T16:29:34.223745Z",
     "iopub.status.idle": "2024-04-18T16:29:34.228300Z",
     "shell.execute_reply": "2024-04-18T16:29:34.227188Z"
    },
    "papermill": {
     "duration": 0.023868,
     "end_time": "2024-04-18T16:29:34.230441",
     "exception": false,
     "start_time": "2024-04-18T16:29:34.206573",
     "status": "completed"
    },
    "tags": []
   },
   "outputs": [],
   "source": [
    "# train_dataset.get_base()[\"target\"].mean()"
   ]
  },
  {
   "cell_type": "code",
   "execution_count": 12,
   "id": "d666878a",
   "metadata": {
    "execution": {
     "iopub.execute_input": "2024-04-18T16:29:34.262363Z",
     "iopub.status.busy": "2024-04-18T16:29:34.261899Z",
     "iopub.status.idle": "2024-04-18T16:29:34.266749Z",
     "shell.execute_reply": "2024-04-18T16:29:34.265563Z"
    },
    "papermill": {
     "duration": 0.024,
     "end_time": "2024-04-18T16:29:34.269371",
     "exception": false,
     "start_time": "2024-04-18T16:29:34.245371",
     "status": "completed"
    },
    "tags": []
   },
   "outputs": [],
   "source": [
    "# tables = {name: table for name, table in train_dataset.get_depth_tables(1)}"
   ]
  },
  {
   "cell_type": "code",
   "execution_count": 13,
   "id": "428de1b9",
   "metadata": {
    "execution": {
     "iopub.execute_input": "2024-04-18T16:29:34.300926Z",
     "iopub.status.busy": "2024-04-18T16:29:34.300561Z",
     "iopub.status.idle": "2024-04-18T16:29:34.305418Z",
     "shell.execute_reply": "2024-04-18T16:29:34.304079Z"
    },
    "papermill": {
     "duration": 0.024001,
     "end_time": "2024-04-18T16:29:34.308350",
     "exception": false,
     "start_time": "2024-04-18T16:29:34.284349",
     "status": "completed"
    },
    "tags": []
   },
   "outputs": [],
   "source": [
    "# applprev_1 = tables[\"applprev_1\"]"
   ]
  },
  {
   "cell_type": "code",
   "execution_count": 14,
   "id": "673b7022",
   "metadata": {
    "execution": {
     "iopub.execute_input": "2024-04-18T16:29:34.360058Z",
     "iopub.status.busy": "2024-04-18T16:29:34.359269Z",
     "iopub.status.idle": "2024-04-18T16:29:34.365146Z",
     "shell.execute_reply": "2024-04-18T16:29:34.364349Z"
    },
    "papermill": {
     "duration": 0.034591,
     "end_time": "2024-04-18T16:29:34.367346",
     "exception": false,
     "start_time": "2024-04-18T16:29:34.332755",
     "status": "completed"
    },
    "tags": []
   },
   "outputs": [],
   "source": [
    "# joined = applprev_1[\"case_id\"].value_counts().join(train_dataset.get_base()[[\"case_id\", \"target\"]], on=\"case_id\").sort(\"count\")\n",
    "# joined.filter(pl.col(\"target\") == 1)"
   ]
  },
  {
   "cell_type": "code",
   "execution_count": 15,
   "id": "45ee15d4",
   "metadata": {
    "execution": {
     "iopub.execute_input": "2024-04-18T16:29:34.411789Z",
     "iopub.status.busy": "2024-04-18T16:29:34.411279Z",
     "iopub.status.idle": "2024-04-18T16:29:34.419851Z",
     "shell.execute_reply": "2024-04-18T16:29:34.418923Z"
    },
    "papermill": {
     "duration": 0.03864,
     "end_time": "2024-04-18T16:29:34.422555",
     "exception": false,
     "start_time": "2024-04-18T16:29:34.383915",
     "status": "completed"
    },
    "tags": []
   },
   "outputs": [],
   "source": [
    "# base = train_dataset.get_base()"
   ]
  },
  {
   "cell_type": "code",
   "execution_count": 16,
   "id": "8828acf4",
   "metadata": {
    "execution": {
     "iopub.execute_input": "2024-04-18T16:29:34.473352Z",
     "iopub.status.busy": "2024-04-18T16:29:34.472913Z",
     "iopub.status.idle": "2024-04-18T16:29:34.478221Z",
     "shell.execute_reply": "2024-04-18T16:29:34.477051Z"
    },
    "papermill": {
     "duration": 0.041068,
     "end_time": "2024-04-18T16:29:34.480457",
     "exception": false,
     "start_time": "2024-04-18T16:29:34.439389",
     "status": "completed"
    },
    "tags": []
   },
   "outputs": [],
   "source": [
    "# base.filter(pl.col(\"case_id\") == 2702490)"
   ]
  },
  {
   "cell_type": "code",
   "execution_count": 17,
   "id": "b2057641",
   "metadata": {
    "execution": {
     "iopub.execute_input": "2024-04-18T16:29:34.547390Z",
     "iopub.status.busy": "2024-04-18T16:29:34.546457Z",
     "iopub.status.idle": "2024-04-18T16:29:34.553333Z",
     "shell.execute_reply": "2024-04-18T16:29:34.552256Z"
    },
    "papermill": {
     "duration": 0.039543,
     "end_time": "2024-04-18T16:29:34.555870",
     "exception": false,
     "start_time": "2024-04-18T16:29:34.516327",
     "status": "completed"
    },
    "tags": []
   },
   "outputs": [],
   "source": [
    "# applprev_1.filter(applprev_1[\"case_id\"] == 2702490).sort(\"num_group1\")\n",
    "#base.filter(pl.col(\"case_id\") == 176526)"
   ]
  },
  {
   "cell_type": "code",
   "execution_count": 18,
   "id": "5497c348",
   "metadata": {
    "execution": {
     "iopub.execute_input": "2024-04-18T16:29:34.605894Z",
     "iopub.status.busy": "2024-04-18T16:29:34.604942Z",
     "iopub.status.idle": "2024-04-18T16:29:34.612825Z",
     "shell.execute_reply": "2024-04-18T16:29:34.611848Z"
    },
    "papermill": {
     "duration": 0.040107,
     "end_time": "2024-04-18T16:29:34.615471",
     "exception": false,
     "start_time": "2024-04-18T16:29:34.575364",
     "status": "completed"
    },
    "tags": []
   },
   "outputs": [],
   "source": [
    "# applprev_1.filter(applprev_1[\"case_id\"] == 2702490).sort(\"num_group1\")[[\"credamount_590A\", \"mainoccupationinc_437A\", \"rejectreason_755M\", \"rejectreasonclient_4145042M\"]]\n"
   ]
  },
  {
   "cell_type": "code",
   "execution_count": 19,
   "id": "0c7d2361",
   "metadata": {
    "execution": {
     "iopub.execute_input": "2024-04-18T16:29:34.659186Z",
     "iopub.status.busy": "2024-04-18T16:29:34.658684Z",
     "iopub.status.idle": "2024-04-18T16:29:34.663567Z",
     "shell.execute_reply": "2024-04-18T16:29:34.662498Z"
    },
    "papermill": {
     "duration": 0.035512,
     "end_time": "2024-04-18T16:29:34.666887",
     "exception": false,
     "start_time": "2024-04-18T16:29:34.631375",
     "status": "completed"
    },
    "tags": []
   },
   "outputs": [],
   "source": [
    "# applprev_1.filter(applprev_1[\"case_id\"] == 176526).sort(\"num_group1\")[[\"credamount_590A\", \"mainoccupationinc_437A\", \"rejectreason_755M\", \"rejectreasonclient_4145042M\"]]a"
   ]
  },
  {
   "cell_type": "code",
   "execution_count": 20,
   "id": "2dd4beef",
   "metadata": {
    "execution": {
     "iopub.execute_input": "2024-04-18T16:29:34.715035Z",
     "iopub.status.busy": "2024-04-18T16:29:34.714106Z",
     "iopub.status.idle": "2024-04-18T16:29:34.719607Z",
     "shell.execute_reply": "2024-04-18T16:29:34.718068Z"
    },
    "papermill": {
     "duration": 0.033991,
     "end_time": "2024-04-18T16:29:34.722056",
     "exception": false,
     "start_time": "2024-04-18T16:29:34.688065",
     "status": "completed"
    },
    "tags": []
   },
   "outputs": [],
   "source": [
    "# applprev_1.filter(applprev_1[\"case_id\"] == 176526).sort(\"num_group1\")"
   ]
  },
  {
   "cell_type": "code",
   "execution_count": 21,
   "id": "63b7e373",
   "metadata": {
    "execution": {
     "iopub.execute_input": "2024-04-18T16:29:34.770424Z",
     "iopub.status.busy": "2024-04-18T16:29:34.768921Z",
     "iopub.status.idle": "2024-04-18T16:29:34.775070Z",
     "shell.execute_reply": "2024-04-18T16:29:34.773872Z"
    },
    "papermill": {
     "duration": 0.03749,
     "end_time": "2024-04-18T16:29:34.777433",
     "exception": false,
     "start_time": "2024-04-18T16:29:34.739943",
     "status": "completed"
    },
    "tags": []
   },
   "outputs": [],
   "source": [
    "# FreatureDescriptionGetter().get(\"rejectreasonclient_4145042M\")"
   ]
  },
  {
   "cell_type": "code",
   "execution_count": 22,
   "id": "a7865d13",
   "metadata": {
    "execution": {
     "iopub.execute_input": "2024-04-18T16:29:34.823221Z",
     "iopub.status.busy": "2024-04-18T16:29:34.822128Z",
     "iopub.status.idle": "2024-04-18T16:29:34.828104Z",
     "shell.execute_reply": "2024-04-18T16:29:34.826970Z"
    },
    "papermill": {
     "duration": 0.037485,
     "end_time": "2024-04-18T16:29:34.830406",
     "exception": false,
     "start_time": "2024-04-18T16:29:34.792921",
     "status": "completed"
    },
    "tags": []
   },
   "outputs": [],
   "source": [
    "# def bucket_mean_split(x, y, buckets=100):\n",
    "#     x_buckets = []\n",
    "#     y_buckets = []\n",
    "\n",
    "#     x = np.array(x)\n",
    "#     y = np.array(y)\n",
    "#     x_quantiles = [np.quantile(x, i / buckets) for i in range(0, buckets + 1)]\n",
    "#     for i in range(0, buckets):\n",
    "#         filter = (x >= x_quantiles[i]) & (x <= x_quantiles[i + 1])\n",
    "#         x_buckets.append(np.mean(x[filter]))\n",
    "#         y_buckets.append(np.mean(y[filter]))\n",
    "#     return x_buckets, y_buckets"
   ]
  },
  {
   "cell_type": "code",
   "execution_count": 23,
   "id": "02c5f189",
   "metadata": {
    "execution": {
     "iopub.execute_input": "2024-04-18T16:29:34.864740Z",
     "iopub.status.busy": "2024-04-18T16:29:34.864125Z",
     "iopub.status.idle": "2024-04-18T16:29:34.868493Z",
     "shell.execute_reply": "2024-04-18T16:29:34.867390Z"
    },
    "papermill": {
     "duration": 0.025481,
     "end_time": "2024-04-18T16:29:34.870868",
     "exception": false,
     "start_time": "2024-04-18T16:29:34.845387",
     "status": "completed"
    },
    "tags": []
   },
   "outputs": [],
   "source": [
    "# train[\"target\"].mean()"
   ]
  },
  {
   "cell_type": "code",
   "execution_count": 24,
   "id": "d3639faa",
   "metadata": {
    "execution": {
     "iopub.execute_input": "2024-04-18T16:29:34.902686Z",
     "iopub.status.busy": "2024-04-18T16:29:34.901925Z",
     "iopub.status.idle": "2024-04-18T16:29:34.906408Z",
     "shell.execute_reply": "2024-04-18T16:29:34.905574Z"
    },
    "papermill": {
     "duration": 0.022728,
     "end_time": "2024-04-18T16:29:34.908394",
     "exception": false,
     "start_time": "2024-04-18T16:29:34.885666",
     "status": "completed"
    },
    "tags": []
   },
   "outputs": [],
   "source": [
    "# print(\"Mean target={} where actualdpdtolerance_344P != 0\".format(train[\"target\"].filter(train[\"actualdpdtolerance_344P\"] != 0).mean()))\n",
    "# print(\"Mean target={} where actualdpdtolerance_344P == 0\".format(train[\"target\"].filter(train[\"actualdpdtolerance_344P\"] == 0).mean()))\n",
    "# print(\"Mean target={} where actualdpdtolerance_344P is null\".format(train[\"target\"].filter(train[\"actualdpdtolerance_344P\"].is_null()).mean()))"
   ]
  },
  {
   "cell_type": "code",
   "execution_count": 25,
   "id": "e178b83f",
   "metadata": {
    "execution": {
     "iopub.execute_input": "2024-04-18T16:29:34.940211Z",
     "iopub.status.busy": "2024-04-18T16:29:34.939464Z",
     "iopub.status.idle": "2024-04-18T16:29:34.943824Z",
     "shell.execute_reply": "2024-04-18T16:29:34.943009Z"
    },
    "papermill": {
     "duration": 0.022643,
     "end_time": "2024-04-18T16:29:34.945937",
     "exception": false,
     "start_time": "2024-04-18T16:29:34.923294",
     "status": "completed"
    },
    "tags": []
   },
   "outputs": [],
   "source": [
    "# columns = [column for column in train.columns if (train[column].dtype == pl.Float64)]\n",
    "\n",
    "# figure, axis = plt.subplots(len(columns) // 5 + 1, 5, figsize=(15, 30))\n",
    "# for index, column in enumerate(columns):\n",
    "#     current_plot = axis[index // 5, index % 5]\n",
    "#     x = train[column]\n",
    "#     y = train[\"target\"]\n",
    "#     if (x.dtype == pl.String or x.dtype == pl.Boolean):\n",
    "#         continue\n",
    "#     filter = x.is_not_null()\n",
    "#     x = x.filter(filter)\n",
    "#     y = y.filter(filter)\n",
    "#     if (x.is_empty()):\n",
    "#         continue\n",
    "#     x_bucket, y_bucket = bucket_mean_split(x.to_numpy(), y.to_numpy(), buckets=100)\n",
    "#     current_plot.plot(x_bucket, y_bucket)\n",
    "#     current_plot.set_title(column)\n",
    "# plt.show()"
   ]
  },
  {
   "cell_type": "code",
   "execution_count": 26,
   "id": "c1760a77",
   "metadata": {
    "execution": {
     "iopub.execute_input": "2024-04-18T16:29:34.977598Z",
     "iopub.status.busy": "2024-04-18T16:29:34.976830Z",
     "iopub.status.idle": "2024-04-18T16:29:34.980858Z",
     "shell.execute_reply": "2024-04-18T16:29:34.980016Z"
    },
    "papermill": {
     "duration": 0.022441,
     "end_time": "2024-04-18T16:29:34.983100",
     "exception": false,
     "start_time": "2024-04-18T16:29:34.960659",
     "status": "completed"
    },
    "tags": []
   },
   "outputs": [],
   "source": [
    "# features = train_df.columns\n",
    "# features.remove(\"WEEK_NUM\")\n",
    "# features.remove(\"case_id\")\n",
    "# features.remove(\"target\")"
   ]
  },
  {
   "cell_type": "code",
   "execution_count": 27,
   "id": "3022dd74",
   "metadata": {
    "execution": {
     "iopub.execute_input": "2024-04-18T16:29:35.015209Z",
     "iopub.status.busy": "2024-04-18T16:29:35.014799Z",
     "iopub.status.idle": "2024-04-18T16:29:35.018825Z",
     "shell.execute_reply": "2024-04-18T16:29:35.018052Z"
    },
    "papermill": {
     "duration": 0.022476,
     "end_time": "2024-04-18T16:29:35.020839",
     "exception": false,
     "start_time": "2024-04-18T16:29:34.998363",
     "status": "completed"
    },
    "tags": []
   },
   "outputs": [],
   "source": [
    "# gc.collect()"
   ]
  },
  {
   "cell_type": "markdown",
   "id": "67b29950",
   "metadata": {
    "papermill": {
     "duration": 0.014812,
     "end_time": "2024-04-18T16:29:35.050548",
     "exception": false,
     "start_time": "2024-04-18T16:29:35.035736",
     "status": "completed"
    },
    "tags": []
   },
   "source": [
    "### Feature Importance"
   ]
  },
  {
   "cell_type": "code",
   "execution_count": 28,
   "id": "f8ff827b",
   "metadata": {
    "execution": {
     "iopub.execute_input": "2024-04-18T16:29:35.081843Z",
     "iopub.status.busy": "2024-04-18T16:29:35.081132Z",
     "iopub.status.idle": "2024-04-18T16:29:35.085678Z",
     "shell.execute_reply": "2024-04-18T16:29:35.084866Z"
    },
    "papermill": {
     "duration": 0.022654,
     "end_time": "2024-04-18T16:29:35.087763",
     "exception": false,
     "start_time": "2024-04-18T16:29:35.065109",
     "status": "completed"
    },
    "tags": []
   },
   "outputs": [],
   "source": [
    "# def train_rf(X, Y):    \n",
    "#     params = {\n",
    "#         \"boosting_type\": \"gbdt\",\n",
    "#         \"objective\": \"binary\",\n",
    "#         \"metric\": \"auc\",\n",
    "#         \"max_depth\": 8,\n",
    "#         \"max_bin\": 255,\n",
    "#         \"learning_rate\": 0.05,\n",
    "#         \"n_estimators\": 200,\n",
    "#         \"colsample_bytree\": 0.8, \n",
    "#         \"colsample_bynode\": 0.8,\n",
    "#         \"verbose\": -1,\n",
    "#         \"random_state\": 42,\n",
    "#         \"device\": \"gpu\",\n",
    "#     }\n",
    "    \n",
    "#     model = lgb.LGBMClassifier(**params)\n",
    "    \n",
    "#     model.fit(X.to_pandas(), Y.to_pandas())\n",
    "    \n",
    "#     # Get feature importances\n",
    "#     return pl.DataFrame({\n",
    "#         \"feature\": list(X.columns),\n",
    "#         \"feature_importance\": model.feature_importances_,\n",
    "#         \"train_score\": roc_auc_score(Y.to_pandas(), model.predict(X.to_pandas()))\n",
    "#     })"
   ]
  },
  {
   "cell_type": "code",
   "execution_count": 29,
   "id": "ed109d14",
   "metadata": {
    "execution": {
     "iopub.execute_input": "2024-04-18T16:29:35.120099Z",
     "iopub.status.busy": "2024-04-18T16:29:35.119335Z",
     "iopub.status.idle": "2024-04-18T16:29:35.123711Z",
     "shell.execute_reply": "2024-04-18T16:29:35.122882Z"
    },
    "papermill": {
     "duration": 0.02284,
     "end_time": "2024-04-18T16:29:35.125869",
     "exception": false,
     "start_time": "2024-04-18T16:29:35.103029",
     "status": "completed"
    },
    "tags": []
   },
   "outputs": [],
   "source": [
    "# def get_feature_importance(X, Y):\n",
    "#     COUNT_ITER = 50\n",
    "    \n",
    "#     dfs = []\n",
    "#     for i in range(COUNT_ITER):\n",
    "#         gc.collect()\n",
    "        \n",
    "#         start_time = time.time()\n",
    "#         shuffled_Y = Y.clone().sample(fraction=1.0, shuffle=True)\n",
    "#         current_df = train_rf(X, shuffled_Y)\n",
    "#         finish_time = time.time()\n",
    "#         print(f\"Finish iteration: {i + 1}/{COUNT_ITER}, time: {finish_time - start_time}\")\n",
    "#         current_df = current_df.with_columns(pl.lit(i).alias(\"iteration\"))\n",
    "#         dfs.append(current_df)\n",
    "        \n",
    "#     return pl.concat(dfs, rechunk=True), train_rf(X, Y)"
   ]
  },
  {
   "cell_type": "code",
   "execution_count": 30,
   "id": "cb3a2ef8",
   "metadata": {
    "execution": {
     "iopub.execute_input": "2024-04-18T16:29:35.158526Z",
     "iopub.status.busy": "2024-04-18T16:29:35.158090Z",
     "iopub.status.idle": "2024-04-18T16:29:35.162703Z",
     "shell.execute_reply": "2024-04-18T16:29:35.161706Z"
    },
    "papermill": {
     "duration": 0.023807,
     "end_time": "2024-04-18T16:29:35.164989",
     "exception": false,
     "start_time": "2024-04-18T16:29:35.141182",
     "status": "completed"
    },
    "tags": []
   },
   "outputs": [],
   "source": [
    "# shuffled_feature_importance_df, feature_importance_df = get_feature_importance(train_df[features], train_df[\"target\"])\n",
    "# shuffled_feature_importance_df.write_csv(\"shuffled_feature_importance_df.csv\", separator=\",\")\n",
    "# feature_importance_df.write_csv(\"feature_importance_df.csv\", separator=\",\")"
   ]
  },
  {
   "cell_type": "code",
   "execution_count": 31,
   "id": "29b165e8",
   "metadata": {
    "execution": {
     "iopub.execute_input": "2024-04-18T16:29:35.198525Z",
     "iopub.status.busy": "2024-04-18T16:29:35.197787Z",
     "iopub.status.idle": "2024-04-18T16:29:35.202234Z",
     "shell.execute_reply": "2024-04-18T16:29:35.201214Z"
    },
    "papermill": {
     "duration": 0.024184,
     "end_time": "2024-04-18T16:29:35.204451",
     "exception": false,
     "start_time": "2024-04-18T16:29:35.180267",
     "status": "completed"
    },
    "tags": []
   },
   "outputs": [],
   "source": [
    "# important_features = []\n",
    "# for column in feature_importance_df[\"feature\"]:\n",
    "#     shuffled_feature_importance = shuffled_feature_importance_df.filter(shuffled_feature_importance_df[\"feature\"] == column)[\"feature_importance\"].to_numpy()\n",
    "#     feature_importance = feature_importance_df.filter(feature_importance_df[\"feature\"] == column)[\"feature_importance\"][0]\n",
    "    \n",
    "#     if (np.percentile(shuffled_feature_importance, 90) <= feature_importance):\n",
    "#         important_features.append(column)\n",
    "# print(len(important_features), important_features)"
   ]
  },
  {
   "cell_type": "markdown",
   "id": "d410e260",
   "metadata": {
    "papermill": {
     "duration": 0.015078,
     "end_time": "2024-04-18T16:29:35.234634",
     "exception": false,
     "start_time": "2024-04-18T16:29:35.219556",
     "status": "completed"
    },
    "tags": []
   },
   "source": [
    "# Training"
   ]
  },
  {
   "cell_type": "code",
   "execution_count": 32,
   "id": "94ff2fac",
   "metadata": {
    "execution": {
     "iopub.execute_input": "2024-04-18T16:29:35.266860Z",
     "iopub.status.busy": "2024-04-18T16:29:35.266132Z",
     "iopub.status.idle": "2024-04-18T16:29:35.270804Z",
     "shell.execute_reply": "2024-04-18T16:29:35.269918Z"
    },
    "papermill": {
     "duration": 0.023981,
     "end_time": "2024-04-18T16:29:35.273392",
     "exception": false,
     "start_time": "2024-04-18T16:29:35.249411",
     "status": "completed"
    },
    "tags": []
   },
   "outputs": [],
   "source": [
    "# class VotingModel(BaseEstimator, RegressorMixin):\n",
    "#     def __init__(self, estimators):\n",
    "#         super().__init__()\n",
    "#         self.estimators = estimators\n",
    "        \n",
    "#     def fit(self, X, y=None):\n",
    "#         return self\n",
    "    \n",
    "#     def predict(self, X):\n",
    "#         y_preds = [estimator.predict(X) for estimator in self.estimators]\n",
    "#         return np.mean(y_preds, axis=0)\n",
    "    \n",
    "#     def predict_proba(self, X):\n",
    "#         y_preds = [estimator.predict_proba(X) for estimator in self.estimators]\n",
    "#         return np.mean(y_preds, axis=0)\n",
    "    \n",
    "#     def get_feature_importance(self):\n",
    "#         feature_importances = np.array([0 for feature in features])\n",
    "\n",
    "#         for model in self.estimators:\n",
    "#             feature_importances += model.feature_importances_\n",
    "\n",
    "#         return feature_importances"
   ]
  },
  {
   "cell_type": "code",
   "execution_count": 33,
   "id": "31a9022b",
   "metadata": {
    "execution": {
     "iopub.execute_input": "2024-04-18T16:29:35.305629Z",
     "iopub.status.busy": "2024-04-18T16:29:35.304929Z",
     "iopub.status.idle": "2024-04-18T16:29:35.309435Z",
     "shell.execute_reply": "2024-04-18T16:29:35.308375Z"
    },
    "papermill": {
     "duration": 0.023628,
     "end_time": "2024-04-18T16:29:35.312157",
     "exception": false,
     "start_time": "2024-04-18T16:29:35.288529",
     "status": "completed"
    },
    "tags": []
   },
   "outputs": [],
   "source": [
    "# for column in features:\n",
    "#     if (train_dataset[column].dtype != pl.Categorical) and \\\n",
    "#         (train_dataset[column].dtype != pl.Float64) and \\\n",
    "#         (train_dataset[column].dtype != pl.Float64):\n",
    "#         print(column, train_dataset[column].dtype)"
   ]
  },
  {
   "cell_type": "code",
   "execution_count": 34,
   "id": "58187e28",
   "metadata": {
    "execution": {
     "iopub.execute_input": "2024-04-18T16:29:35.347306Z",
     "iopub.status.busy": "2024-04-18T16:29:35.346878Z",
     "iopub.status.idle": "2024-04-18T16:29:35.351803Z",
     "shell.execute_reply": "2024-04-18T16:29:35.350649Z"
    },
    "papermill": {
     "duration": 0.027044,
     "end_time": "2024-04-18T16:29:35.354443",
     "exception": false,
     "start_time": "2024-04-18T16:29:35.327399",
     "status": "completed"
    },
    "tags": []
   },
   "outputs": [],
   "source": [
    "# def train_lgb_model(X_train, Y_train, X_test, Y_test):\n",
    "#     params = {\n",
    "#         \"boosting_type\": \"gbdt\",\n",
    "#         \"objective\": \"binary\",\n",
    "#         \"metric\": \"auc\",\n",
    "#         \"max_depth\": 8,\n",
    "#         \"max_bin\": 250,\n",
    "#         \"learning_rate\": 0.05,\n",
    "#         \"n_estimators\": 1000,\n",
    "#         \"colsample_bytree\": 0.8, \n",
    "#         \"colsample_bynode\": 0.8,\n",
    "#         \"verbose\": -1,\n",
    "#         \"random_state\": 42,\n",
    "#         \"device\": \"gpu\",\n",
    "#     }\n",
    "    \n",
    "#     model = lgb.LGBMClassifier(**params)\n",
    "    \n",
    "#     model.fit(\n",
    "#         X_train, Y_train,\n",
    "#         eval_set=[(X_test, Y_test)],\n",
    "#         callbacks=[lgb.log_evaluation(100), lgb.early_stopping(100)]\n",
    "#     )\n",
    "        \n",
    "#     return model"
   ]
  },
  {
   "cell_type": "code",
   "execution_count": 35,
   "id": "4325960b",
   "metadata": {
    "execution": {
     "iopub.execute_input": "2024-04-18T16:29:35.391303Z",
     "iopub.status.busy": "2024-04-18T16:29:35.390503Z",
     "iopub.status.idle": "2024-04-18T16:29:35.396351Z",
     "shell.execute_reply": "2024-04-18T16:29:35.395344Z"
    },
    "papermill": {
     "duration": 0.027067,
     "end_time": "2024-04-18T16:29:35.399665",
     "exception": false,
     "start_time": "2024-04-18T16:29:35.372598",
     "status": "completed"
    },
    "tags": []
   },
   "outputs": [],
   "source": [
    "# gc.collect()"
   ]
  },
  {
   "cell_type": "code",
   "execution_count": 36,
   "id": "bafc9426",
   "metadata": {
    "execution": {
     "iopub.execute_input": "2024-04-18T16:29:35.436005Z",
     "iopub.status.busy": "2024-04-18T16:29:35.435283Z",
     "iopub.status.idle": "2024-04-18T16:29:35.442113Z",
     "shell.execute_reply": "2024-04-18T16:29:35.440718Z"
    },
    "papermill": {
     "duration": 0.027714,
     "end_time": "2024-04-18T16:29:35.444979",
     "exception": false,
     "start_time": "2024-04-18T16:29:35.417265",
     "status": "completed"
    },
    "tags": []
   },
   "outputs": [],
   "source": [
    "# weeks = train_df[\"WEEK_NUM\"]\n",
    "# cv = StratifiedGroupKFold(n_splits=5, shuffle=False)\n",
    "\n",
    "# fitted_models = []\n",
    "\n",
    "# oof_predicted = np.zeros(train_df.shape[0])\n",
    "\n",
    "# for idx_train, idx_test in cv.split(train_df[features], train_df[\"target\"], groups=weeks):        \n",
    "# #     X_train = train_df[features][idx_train].to_pandas()\n",
    "# #     Y_train = train_df[\"target\"][idx_train].to_pandas()\n",
    "    \n",
    "#     X_test = train_df[features][idx_test].to_pandas()\n",
    "#     Y_test = train_df[\"target\"][idx_test].to_pandas()\n",
    "    \n",
    "#     start = time.time()\n",
    "#     params = {\n",
    "#         \"boosting_type\": \"gbdt\",\n",
    "#         \"objective\": \"binary\",\n",
    "#         \"metric\": \"auc\",\n",
    "#         \"max_depth\": 8,\n",
    "#         \"max_bin\": 250,\n",
    "#         \"learning_rate\": 0.05,\n",
    "#         \"n_estimators\": 1000,\n",
    "#         \"colsample_bytree\": 0.8, \n",
    "#         \"colsample_bynode\": 0.8,\n",
    "#         \"verbose\": -1,\n",
    "#         \"random_state\": 42,\n",
    "#         \"device\": \"gpu\",\n",
    "#     }\n",
    "    \n",
    "#     model = lgb.LGBMClassifier(**params)\n",
    "    \n",
    "#     model.fit(\n",
    "#         train_df[features][idx_train].to_pandas(), train_df[\"target\"][idx_train].to_pandas(),\n",
    "#         eval_set=[(X_test, Y_test)],\n",
    "#         callbacks=[lgb.log_evaluation(100), lgb.early_stopping(100)]\n",
    "#     )\n",
    "        \n",
    "\n",
    "# #    model = train_lgb_model(X_train, Y_train, X_test, Y_test)\n",
    "#     finish = time.time()\n",
    "    \n",
    "#     print(\"fit time: {}\".format(finish - start))\n",
    "#     fitted_models.append(model)\n",
    "    \n",
    "#     test_pred = model.predict_proba(X_test)[:, 1]\n",
    "#     oof_predicted[idx_test] = test_pred\n",
    "#     gc.collect()\n",
    "\n",
    "# model = VotingModel(fitted_models)\n",
    "# gc.collect()"
   ]
  },
  {
   "cell_type": "code",
   "execution_count": 37,
   "id": "0cc810bb",
   "metadata": {
    "execution": {
     "iopub.execute_input": "2024-04-18T16:29:35.479369Z",
     "iopub.status.busy": "2024-04-18T16:29:35.478080Z",
     "iopub.status.idle": "2024-04-18T16:29:35.483711Z",
     "shell.execute_reply": "2024-04-18T16:29:35.482862Z"
    },
    "papermill": {
     "duration": 0.025525,
     "end_time": "2024-04-18T16:29:35.486080",
     "exception": false,
     "start_time": "2024-04-18T16:29:35.460555",
     "status": "completed"
    },
    "tags": []
   },
   "outputs": [],
   "source": [
    "# roc_auc_oof = roc_auc_score(train_df[\"target\"], oof_predicted)\n",
    "# print(\"CV roc_auc_oof: \", roc_auc_oof)"
   ]
  },
  {
   "cell_type": "markdown",
   "id": "4da7f1c5",
   "metadata": {
    "papermill": {
     "duration": 0.016769,
     "end_time": "2024-04-18T16:29:35.520165",
     "exception": false,
     "start_time": "2024-04-18T16:29:35.503396",
     "status": "completed"
    },
    "tags": []
   },
   "source": [
    "# Predict"
   ]
  },
  {
   "cell_type": "code",
   "execution_count": 38,
   "id": "89506957",
   "metadata": {
    "execution": {
     "iopub.execute_input": "2024-04-18T16:29:35.552704Z",
     "iopub.status.busy": "2024-04-18T16:29:35.551726Z",
     "iopub.status.idle": "2024-04-18T16:29:35.556665Z",
     "shell.execute_reply": "2024-04-18T16:29:35.555589Z"
    },
    "papermill": {
     "duration": 0.023692,
     "end_time": "2024-04-18T16:29:35.558974",
     "exception": false,
     "start_time": "2024-04-18T16:29:35.535282",
     "status": "completed"
    },
    "tags": []
   },
   "outputs": [],
   "source": [
    "# del train_df\n",
    "# gc.collect()"
   ]
  },
  {
   "cell_type": "code",
   "execution_count": 39,
   "id": "ccecbca6",
   "metadata": {
    "execution": {
     "iopub.execute_input": "2024-04-18T16:29:35.593965Z",
     "iopub.status.busy": "2024-04-18T16:29:35.592928Z",
     "iopub.status.idle": "2024-04-18T16:29:35.597970Z",
     "shell.execute_reply": "2024-04-18T16:29:35.596853Z"
    },
    "papermill": {
     "duration": 0.02438,
     "end_time": "2024-04-18T16:29:35.600621",
     "exception": false,
     "start_time": "2024-04-18T16:29:35.576241",
     "status": "completed"
    },
    "tags": []
   },
   "outputs": [],
   "source": [
    "# test_dataset = data_loader.load_test_dataset()\n",
    "# print(\"Test dataset week range: {}-{}\".format(test_dataset.base[\"WEEK_NUM\"].min(), test_dataset.base[\"WEEK_NUM\"].max()))\n",
    "# gc.collect()\n",
    "# test_df = preprocessor.process_test_dataset(test_dataset)\n",
    "# del test_dataset\n",
    "# gc.collect()"
   ]
  },
  {
   "cell_type": "code",
   "execution_count": 40,
   "id": "a218b356",
   "metadata": {
    "execution": {
     "iopub.execute_input": "2024-04-18T16:29:35.634027Z",
     "iopub.status.busy": "2024-04-18T16:29:35.632751Z",
     "iopub.status.idle": "2024-04-18T16:29:35.638188Z",
     "shell.execute_reply": "2024-04-18T16:29:35.637253Z"
    },
    "papermill": {
     "duration": 0.02555,
     "end_time": "2024-04-18T16:29:35.641152",
     "exception": false,
     "start_time": "2024-04-18T16:29:35.615602",
     "status": "completed"
    },
    "tags": []
   },
   "outputs": [],
   "source": [
    "# print([name for value, name in reversed(sorted(zip(model.get_feature_importance(), features)))][0:200])"
   ]
  },
  {
   "cell_type": "code",
   "execution_count": null,
   "id": "36c6279e",
   "metadata": {
    "papermill": {
     "duration": 0.015061,
     "end_time": "2024-04-18T16:29:35.672182",
     "exception": false,
     "start_time": "2024-04-18T16:29:35.657121",
     "status": "completed"
    },
    "tags": []
   },
   "outputs": [],
   "source": []
  },
  {
   "cell_type": "code",
   "execution_count": 41,
   "id": "175c4b89",
   "metadata": {
    "execution": {
     "iopub.execute_input": "2024-04-18T16:29:35.706239Z",
     "iopub.status.busy": "2024-04-18T16:29:35.705348Z",
     "iopub.status.idle": "2024-04-18T16:29:35.713108Z",
     "shell.execute_reply": "2024-04-18T16:29:35.709065Z"
    },
    "papermill": {
     "duration": 0.027703,
     "end_time": "2024-04-18T16:29:35.716036",
     "exception": false,
     "start_time": "2024-04-18T16:29:35.688333",
     "status": "completed"
    },
    "tags": []
   },
   "outputs": [],
   "source": [
    "# CV roc_auc_oof:  0.8353789451006361 without feature selection ~500 features\n",
    "# CV roc_auc_oof:  0.8329322959533371 with feature selection ~200 features"
   ]
  },
  {
   "cell_type": "code",
   "execution_count": null,
   "id": "8f9235c2",
   "metadata": {
    "papermill": {
     "duration": 0.01528,
     "end_time": "2024-04-18T16:29:35.746771",
     "exception": false,
     "start_time": "2024-04-18T16:29:35.731491",
     "status": "completed"
    },
    "tags": []
   },
   "outputs": [],
   "source": []
  },
  {
   "cell_type": "code",
   "execution_count": 42,
   "id": "5bccf137",
   "metadata": {
    "execution": {
     "iopub.execute_input": "2024-04-18T16:29:35.780759Z",
     "iopub.status.busy": "2024-04-18T16:29:35.779647Z",
     "iopub.status.idle": "2024-04-18T16:29:35.785259Z",
     "shell.execute_reply": "2024-04-18T16:29:35.784301Z"
    },
    "papermill": {
     "duration": 0.02427,
     "end_time": "2024-04-18T16:29:35.787650",
     "exception": false,
     "start_time": "2024-04-18T16:29:35.763380",
     "status": "completed"
    },
    "tags": []
   },
   "outputs": [],
   "source": [
    "# def gini_stability(dataset, w_fallingrate=88.0, w_resstd=-0.5):\n",
    "#     gini_in_time = dataset\\\n",
    "#         .sort_values(\"WEEK_NUM\")\\\n",
    "#         .groupby(\"WEEK_NUM\")[[\"true\", \"predicted\"]]\\\n",
    "#         .apply(lambda x: 2 * roc_auc_score(x[\"true\"], x[\"predicted\"]) - 1).tolist()\n",
    "    \n",
    "#     x = np.arange(len(gini_in_time))\n",
    "#     y = gini_in_time\n",
    "#     a, b = np.polyfit(x, y, 1)\n",
    "#     y_hat = a * x + b\n",
    "#     residuals = y - y_hat\n",
    "#     res_std = np.std(residuals)\n",
    "#     avg_gini = np.mean(gini_in_time)\n",
    "    \n",
    "#     print(avg_gini, min(0, a), res_std)\n",
    "    \n",
    "#     return avg_gini + w_fallingrate * min(0, a) + w_resstd * res_std"
   ]
  },
  {
   "cell_type": "code",
   "execution_count": 43,
   "id": "71bd9f85",
   "metadata": {
    "execution": {
     "iopub.execute_input": "2024-04-18T16:29:35.820161Z",
     "iopub.status.busy": "2024-04-18T16:29:35.819111Z",
     "iopub.status.idle": "2024-04-18T16:29:35.824439Z",
     "shell.execute_reply": "2024-04-18T16:29:35.823606Z"
    },
    "papermill": {
     "duration": 0.023974,
     "end_time": "2024-04-18T16:29:35.826604",
     "exception": false,
     "start_time": "2024-04-18T16:29:35.802630",
     "status": "completed"
    },
    "tags": []
   },
   "outputs": [],
   "source": [
    "# # Y_train_predicted = model.predict_proba(train_df[features].to_pandas())\n",
    "# Y_test_predicted = model.predict_proba(test_df[features].to_pandas())"
   ]
  },
  {
   "cell_type": "code",
   "execution_count": 44,
   "id": "3d6d9aec",
   "metadata": {
    "execution": {
     "iopub.execute_input": "2024-04-18T16:29:35.859814Z",
     "iopub.status.busy": "2024-04-18T16:29:35.858932Z",
     "iopub.status.idle": "2024-04-18T16:29:35.864257Z",
     "shell.execute_reply": "2024-04-18T16:29:35.863014Z"
    },
    "papermill": {
     "duration": 0.025174,
     "end_time": "2024-04-18T16:29:35.866722",
     "exception": false,
     "start_time": "2024-04-18T16:29:35.841548",
     "status": "completed"
    },
    "tags": []
   },
   "outputs": [],
   "source": [
    "# result = pd.DataFrame({\n",
    "#     \"WEEK_NUM\": train_df[\"WEEK_NUM\"],\n",
    "#     \"true\": train_df[\"target\"],\n",
    "#     \"predicted\": Y_train_predicted[:, 1],\n",
    "# })\n",
    "\n",
    "# train_result = gini_stability(result)\n",
    "# print(\"train_score: {}\".format(train_result))\n",
    "\n",
    "# if MODE == Mode.Train:\n",
    "#     result = pd.DataFrame({\n",
    "#         \"WEEK_NUM\": test_df[\"WEEK_NUM\"],\n",
    "#         \"true\": test_df[\"target\"],\n",
    "#         \"predicted\": Y_test_predicted[:, 1],\n",
    "#     })\n",
    "\n",
    "#     test_result = gini_stability(result)\n",
    "#     print(\"test_score: {}\".format(test_result))"
   ]
  },
  {
   "cell_type": "code",
   "execution_count": 45,
   "id": "502863df",
   "metadata": {
    "execution": {
     "iopub.execute_input": "2024-04-18T16:29:35.899883Z",
     "iopub.status.busy": "2024-04-18T16:29:35.899414Z",
     "iopub.status.idle": "2024-04-18T16:29:35.903881Z",
     "shell.execute_reply": "2024-04-18T16:29:35.903040Z"
    },
    "papermill": {
     "duration": 0.023922,
     "end_time": "2024-04-18T16:29:35.905815",
     "exception": false,
     "start_time": "2024-04-18T16:29:35.881893",
     "status": "completed"
    },
    "tags": []
   },
   "outputs": [],
   "source": [
    "# Version 1, test_score: 0.583319926590042, public score 0.48\n",
    "# 100 iters\n",
    "\n",
    "# Version 2, test_score: 0.6062624701357268, public score 0.517\n",
    "# 300 iters\n",
    "\n",
    "# Version 3, test_score: ?, public score 0.545\n",
    "# 2000 iters\n",
    "\n",
    "# Version 4, test_score: ?, public score ?\n",
    "# ? iters, Improve aggregate functions for depth_1, depth_2\n"
   ]
  },
  {
   "cell_type": "markdown",
   "id": "de0eeaf7",
   "metadata": {
    "papermill": {
     "duration": 0.014836,
     "end_time": "2024-04-18T16:29:35.936253",
     "exception": false,
     "start_time": "2024-04-18T16:29:35.921417",
     "status": "completed"
    },
    "tags": []
   },
   "source": [
    "# Submition"
   ]
  },
  {
   "cell_type": "code",
   "execution_count": 46,
   "id": "b606d9f9",
   "metadata": {
    "execution": {
     "iopub.execute_input": "2024-04-18T16:29:35.968526Z",
     "iopub.status.busy": "2024-04-18T16:29:35.967628Z",
     "iopub.status.idle": "2024-04-18T16:29:35.972216Z",
     "shell.execute_reply": "2024-04-18T16:29:35.971382Z"
    },
    "papermill": {
     "duration": 0.02307,
     "end_time": "2024-04-18T16:29:35.974275",
     "exception": false,
     "start_time": "2024-04-18T16:29:35.951205",
     "status": "completed"
    },
    "tags": []
   },
   "outputs": [],
   "source": [
    "# case_id = test_df[\"case_id\"]\n",
    "# X = test_df[features].to_pandas()\n",
    "\n",
    "# Y = model.predict_proba(X)\n",
    "\n",
    "# submission = pd.DataFrame({\n",
    "#     \"case_id\": case_id.to_numpy(),\n",
    "#     \"score\": Y[:, 1]\n",
    "# }).set_index('case_id')\n",
    "# submission.to_csv(\"./submission.csv\")"
   ]
  },
  {
   "cell_type": "code",
   "execution_count": null,
   "id": "67760271",
   "metadata": {
    "papermill": {
     "duration": 0.014411,
     "end_time": "2024-04-18T16:29:36.003993",
     "exception": false,
     "start_time": "2024-04-18T16:29:35.989582",
     "status": "completed"
    },
    "tags": []
   },
   "outputs": [],
   "source": []
  },
  {
   "cell_type": "code",
   "execution_count": null,
   "id": "c2a51226",
   "metadata": {
    "papermill": {
     "duration": 0.014589,
     "end_time": "2024-04-18T16:29:36.033983",
     "exception": false,
     "start_time": "2024-04-18T16:29:36.019394",
     "status": "completed"
    },
    "tags": []
   },
   "outputs": [],
   "source": []
  },
  {
   "cell_type": "code",
   "execution_count": null,
   "id": "e976e500",
   "metadata": {
    "papermill": {
     "duration": 0.0145,
     "end_time": "2024-04-18T16:29:36.063371",
     "exception": false,
     "start_time": "2024-04-18T16:29:36.048871",
     "status": "completed"
    },
    "tags": []
   },
   "outputs": [],
   "source": []
  }
 ],
 "metadata": {
  "kaggle": {
   "accelerator": "none",
   "dataSources": [
    {
     "databundleVersionId": 7921029,
     "sourceId": 50160,
     "sourceType": "competition"
    },
    {
     "datasetId": 4496896,
     "sourceId": 8057265,
     "sourceType": "datasetVersion"
    }
   ],
   "dockerImageVersionId": 30635,
   "isGpuEnabled": false,
   "isInternetEnabled": false,
   "language": "python",
   "sourceType": "notebook"
  },
  "kernelspec": {
   "display_name": "Python 3",
   "language": "python",
   "name": "python3"
  },
  "language_info": {
   "codemirror_mode": {
    "name": "ipython",
    "version": 3
   },
   "file_extension": ".py",
   "mimetype": "text/x-python",
   "name": "python",
   "nbconvert_exporter": "python",
   "pygments_lexer": "ipython3",
   "version": "3.10.12"
  },
  "papermill": {
   "default_parameters": {},
   "duration": 1762.403172,
   "end_time": "2024-04-18T16:29:37.104938",
   "environment_variables": {},
   "exception": null,
   "input_path": "__notebook__.ipynb",
   "output_path": "__notebook__.ipynb",
   "parameters": {},
   "start_time": "2024-04-18T16:00:14.701766",
   "version": "2.4.0"
  }
 },
 "nbformat": 4,
 "nbformat_minor": 5
}
