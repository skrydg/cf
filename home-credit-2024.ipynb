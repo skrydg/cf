{
 "cells": [
  {
   "cell_type": "markdown",
   "id": "f006bd17",
   "metadata": {
    "papermill": {
     "duration": 0.015142,
     "end_time": "2024-03-04T09:51:46.797324",
     "exception": false,
     "start_time": "2024-03-04T09:51:46.782182",
     "status": "completed"
    },
    "tags": []
   },
   "source": [
    "# Install packages"
   ]
  },
  {
   "cell_type": "code",
   "execution_count": 1,
   "id": "7d5ebc30",
   "metadata": {
    "execution": {
     "iopub.execute_input": "2024-03-04T09:51:46.828543Z",
     "iopub.status.busy": "2024-03-04T09:51:46.827685Z",
     "iopub.status.idle": "2024-03-04T09:52:22.883571Z",
     "shell.execute_reply": "2024-03-04T09:52:22.881989Z"
    },
    "papermill": {
     "duration": 36.075402,
     "end_time": "2024-03-04T09:52:22.887085",
     "exception": false,
     "start_time": "2024-03-04T09:51:46.811683",
     "status": "completed"
    },
    "tags": []
   },
   "outputs": [
    {
     "name": "stdout",
     "output_type": "stream",
     "text": [
      "Processing /kaggle/input/kaggle-home-credit-risk-model-stability-lib/kaggle_home_credit_risk_model_stability-0.3-py3-none-any.whl\r\n",
      "Installing collected packages: kaggle-home-credit-risk-model-stability\r\n",
      "Successfully installed kaggle-home-credit-risk-model-stability-0.3\r\n"
     ]
    }
   ],
   "source": [
    "!pip install /kaggle/input/kaggle-home-credit-risk-model-stability-lib/kaggle_home_credit_risk_model_stability-0.3-py3-none-any.whl --force-reinstall"
   ]
  },
  {
   "cell_type": "markdown",
   "id": "6ddfe8d9",
   "metadata": {
    "papermill": {
     "duration": 0.014351,
     "end_time": "2024-03-04T09:52:22.916685",
     "exception": false,
     "start_time": "2024-03-04T09:52:22.902334",
     "status": "completed"
    },
    "tags": []
   },
   "source": [
    "# Import packages"
   ]
  },
  {
   "cell_type": "code",
   "execution_count": 2,
   "id": "3f0967c0",
   "metadata": {
    "execution": {
     "iopub.execute_input": "2024-03-04T09:52:22.948992Z",
     "iopub.status.busy": "2024-03-04T09:52:22.948554Z",
     "iopub.status.idle": "2024-03-04T09:52:28.103502Z",
     "shell.execute_reply": "2024-03-04T09:52:28.102522Z"
    },
    "papermill": {
     "duration": 5.1753,
     "end_time": "2024-03-04T09:52:28.106772",
     "exception": false,
     "start_time": "2024-03-04T09:52:22.931472",
     "status": "completed"
    },
    "tags": []
   },
   "outputs": [],
   "source": [
    "import polars as pl\n",
    "import gc\n",
    "import time\n",
    "import numpy as np\n",
    "import pandas as pd\n",
    "import lightgbm as lgb\n",
    "import seaborn as sns\n",
    "import matplotlib.pyplot as plt\n",
    "import copy\n",
    "import lightgbm as lgb\n",
    "import importlib\n",
    "\n",
    "import kaggle_home_credit_risk_model_stability.libs as hcr\n",
    "from kaggle_home_credit_risk_model_stability.libs.input.dataset import Dataset\n",
    "from kaggle_home_credit_risk_model_stability.libs.input.data_loader import DataLoader\n",
    "from kaggle_home_credit_risk_model_stability.libs.preprocessor.preprocessor import Preprocessor\n",
    "from kaggle_home_credit_risk_model_stability.libs.preprocessor.steps import *\n",
    "from kaggle_home_credit_risk_model_stability.libs.preprocessor.columns_info import ColumnsInfo\n",
    "from kaggle_home_credit_risk_model_stability.libs.feature_description.feature_description import FreatureDescriptionGetter\n",
    "\n",
    "from glob import glob\n",
    "from pathlib import Path\n",
    "from sklearn.model_selection import train_test_split\n",
    "from sklearn.metrics import roc_auc_score\n",
    "from sklearn.model_selection import StratifiedGroupKFold\n",
    "from sklearn.base import BaseEstimator, RegressorMixin\n",
    "from catboost import CatBoostClassifier\n",
    "from enum import Enum"
   ]
  },
  {
   "cell_type": "code",
   "execution_count": 3,
   "id": "d4c375d2",
   "metadata": {
    "execution": {
     "iopub.execute_input": "2024-03-04T09:52:28.140844Z",
     "iopub.status.busy": "2024-03-04T09:52:28.138978Z",
     "iopub.status.idle": "2024-03-04T09:52:28.148486Z",
     "shell.execute_reply": "2024-03-04T09:52:28.147617Z"
    },
    "papermill": {
     "duration": 0.029215,
     "end_time": "2024-03-04T09:52:28.151060",
     "exception": false,
     "start_time": "2024-03-04T09:52:28.121845",
     "status": "completed"
    },
    "tags": []
   },
   "outputs": [],
   "source": [
    "data_loader = DataLoader()\n",
    "preprocessor = Preprocessor({\n",
    "    \"set_column_info_step\": SetColumnsInfoStep(),\n",
    "    \"set_types\": SetTypesStep(),\n",
    "    \"process_categorical\": ProcessCategoricalStep(),\n",
    "    \"process_person_table\": ProcessPersonTableStep(),\n",
    "    \"one_hot_encoding_for_depth1\": OneHotEncodingForDepth1Step(),\n",
    "    \"pairwise_diff_raw_dates\": PairwiseDateDiffStep(),\n",
    "# #    \"generate_cum_features\": GenerateCumFeaturesStep(),\n",
    "    \"aggregate_depth_table\": AggregateDepthTableStep(),\n",
    "    \"drop_columns\": DropColumnsStep(),\n",
    "    \"join_table\": JoinTablesStep(),\n",
    "    **{\n",
    "        f\"create_money_feature_fraction_{base_column}\": CreateMoneyFeatureFractionStep(base_column)\n",
    "        for base_column in [\"credamount_770A\", \"maininc_215A\", \"mainoccupationinc_384A\", \"mean_amount_416A\"]\n",
    "    },\n",
    "    \"fill_nulls\": FillNullStep(),\n",
    "    \"reduce_memory_usage\": ReduceMemoryUsageStep(),\n",
    "#   \"drop_non_important_features\": DropNonImportantFeaturesStep()\n",
    "#    \"drop_dates_columns\": DropDatesColumnsStep()\n",
    "})\n",
    "columns_info = ColumnsInfo()"
   ]
  },
  {
   "cell_type": "code",
   "execution_count": 4,
   "id": "606e4701",
   "metadata": {
    "execution": {
     "iopub.execute_input": "2024-03-04T09:52:28.182781Z",
     "iopub.status.busy": "2024-03-04T09:52:28.181493Z",
     "iopub.status.idle": "2024-03-04T09:52:28.187385Z",
     "shell.execute_reply": "2024-03-04T09:52:28.186454Z"
    },
    "papermill": {
     "duration": 0.024125,
     "end_time": "2024-03-04T09:52:28.189754",
     "exception": false,
     "start_time": "2024-03-04T09:52:28.165629",
     "status": "completed"
    },
    "tags": []
   },
   "outputs": [],
   "source": [
    "# train_dataset = data_loader.load_train_dataset()\n",
    "# case_id_set = train_dataset.get_base().filter(train_dataset.get_base()[\"WEEK_NUM\"] < 10)[\"case_id\"]\n",
    "# train_dataset = train_dataset.filter(lambda table: table.filter(pl.col(\"case_id\").is_in(case_id_set)))"
   ]
  },
  {
   "cell_type": "code",
   "execution_count": 5,
   "id": "a23d53c4",
   "metadata": {
    "execution": {
     "iopub.execute_input": "2024-03-04T09:52:28.222288Z",
     "iopub.status.busy": "2024-03-04T09:52:28.221837Z",
     "iopub.status.idle": "2024-03-04T09:52:28.227129Z",
     "shell.execute_reply": "2024-03-04T09:52:28.225992Z"
    },
    "papermill": {
     "duration": 0.02488,
     "end_time": "2024-03-04T09:52:28.229538",
     "exception": false,
     "start_time": "2024-03-04T09:52:28.204658",
     "status": "completed"
    },
    "tags": []
   },
   "outputs": [],
   "source": [
    "# CHECK lastotherinc_902A"
   ]
  },
  {
   "cell_type": "code",
   "execution_count": 6,
   "id": "17fc8dfb",
   "metadata": {
    "execution": {
     "iopub.execute_input": "2024-03-04T09:52:28.260739Z",
     "iopub.status.busy": "2024-03-04T09:52:28.259483Z",
     "iopub.status.idle": "2024-03-04T09:55:08.915868Z",
     "shell.execute_reply": "2024-03-04T09:55:08.914854Z"
    },
    "papermill": {
     "duration": 160.690288,
     "end_time": "2024-03-04T09:55:08.934200",
     "exception": false,
     "start_time": "2024-03-04T09:52:28.243912",
     "status": "completed"
    },
    "tags": []
   },
   "outputs": [
    {
     "name": "stdout",
     "output_type": "stream",
     "text": [
      "Train dataset week range: 0-91\n",
      "Step: set_column_info_step, execution_time: 0.11654067039489746\n",
      "Step: set_types, execution_time: 20.434669256210327\n",
      "Step: process_categorical, execution_time: 26.77480387687683\n",
      "Step: process_person_table, execution_time: 0.41981077194213867\n",
      "Create 170 new columns as one hot encoding\n",
      "Step: one_hot_encoding_for_depth1, execution_time: 10.022952318191528\n",
      "Create 172 new columns as pairwise dates diff\n",
      "Step: pairwise_diff_raw_dates, execution_time: 1.3866395950317383\n",
      "Step: aggregate_depth_table, execution_time: 18.832290649414062\n",
      "Columns to drop: 1117\n",
      "Step: drop_columns, execution_time: 28.726253747940063\n",
      "Step: join_table, execution_time: 12.842081785202026\n",
      "Create 93 new columns as money feature fraction with base 'credamount_770A'\n",
      "Step: create_money_feature_fraction_credamount_770A, execution_time: 0.8782167434692383\n",
      "Create 93 new columns as money feature fraction with base 'maininc_215A'\n",
      "Step: create_money_feature_fraction_maininc_215A, execution_time: 5.362288236618042\n",
      "Create 93 new columns as money feature fraction with base 'mainoccupationinc_384A'\n",
      "Step: create_money_feature_fraction_mainoccupationinc_384A, execution_time: 0.8301477432250977\n",
      "Create 93 new columns as money feature fraction with base 'mean_amount_416A'\n",
      "Step: create_money_feature_fraction_mean_amount_416A, execution_time: 5.430766582489014\n",
      "Step: fill_nulls, execution_time: 0.13568544387817383\n",
      "Step: reduce_memory_usage, execution_time: 14.699114561080933\n"
     ]
    },
    {
     "data": {
      "text/plain": [
       "0"
      ]
     },
     "execution_count": 6,
     "metadata": {},
     "output_type": "execute_result"
    }
   ],
   "source": [
    "train_dataset = data_loader.load_train_dataset()\n",
    "print(\"Train dataset week range: {}-{}\".format(train_dataset.get_base()[\"WEEK_NUM\"].min(), train_dataset.get_base()[\"WEEK_NUM\"].max()))\n",
    "gc.collect()\n",
    "train_df, columns_info = preprocessor.process_train_dataset(train_dataset, columns_info)\n",
    "del train_dataset\n",
    "gc.collect()"
   ]
  },
  {
   "cell_type": "code",
   "execution_count": 7,
   "id": "e819144b",
   "metadata": {
    "execution": {
     "iopub.execute_input": "2024-03-04T09:55:08.969877Z",
     "iopub.status.busy": "2024-03-04T09:55:08.969434Z",
     "iopub.status.idle": "2024-03-04T09:55:49.782552Z",
     "shell.execute_reply": "2024-03-04T09:55:49.781225Z"
    },
    "papermill": {
     "duration": 40.83471,
     "end_time": "2024-03-04T09:55:49.785611",
     "exception": false,
     "start_time": "2024-03-04T09:55:08.950901",
     "status": "completed"
    },
    "tags": []
   },
   "outputs": [],
   "source": [
    "train_df.write_parquet(\"/kaggle/working/train_df.parquet\")"
   ]
  },
  {
   "cell_type": "code",
   "execution_count": 8,
   "id": "5c4d33fa",
   "metadata": {
    "execution": {
     "iopub.execute_input": "2024-03-04T09:55:49.820635Z",
     "iopub.status.busy": "2024-03-04T09:55:49.820152Z",
     "iopub.status.idle": "2024-03-04T09:55:49.829083Z",
     "shell.execute_reply": "2024-03-04T09:55:49.827827Z"
    },
    "papermill": {
     "duration": 0.029617,
     "end_time": "2024-03-04T09:55:49.831480",
     "exception": false,
     "start_time": "2024-03-04T09:55:49.801863",
     "status": "completed"
    },
    "tags": []
   },
   "outputs": [
    {
     "data": {
      "text/plain": [
       "6572.0736293792725"
      ]
     },
     "execution_count": 8,
     "metadata": {},
     "output_type": "execute_result"
    }
   ],
   "source": [
    "train_df.estimated_size() / 1024 / 1024"
   ]
  },
  {
   "cell_type": "code",
   "execution_count": 9,
   "id": "a722353a",
   "metadata": {
    "execution": {
     "iopub.execute_input": "2024-03-04T09:55:49.933552Z",
     "iopub.status.busy": "2024-03-04T09:55:49.933072Z",
     "iopub.status.idle": "2024-03-04T09:55:49.993099Z",
     "shell.execute_reply": "2024-03-04T09:55:49.991688Z"
    },
    "papermill": {
     "duration": 0.080871,
     "end_time": "2024-03-04T09:55:49.995875",
     "exception": false,
     "start_time": "2024-03-04T09:55:49.915004",
     "status": "completed"
    },
    "tags": []
   },
   "outputs": [
    {
     "data": {
      "text/html": [
       "<div><style>\n",
       ".dataframe > thead > tr,\n",
       ".dataframe > tbody > tr {\n",
       "  text-align: right;\n",
       "  white-space: pre-wrap;\n",
       "}\n",
       "</style>\n",
       "<small>shape: (1_526_659, 1_067)</small><table border=\"1\" class=\"dataframe\"><thead><tr><th>case_id</th><th>WEEK_NUM</th><th>target</th><th>assignmentdate_238D</th><th>assignmentdate_4527235D</th><th>birthdate_574D</th><th>contractssum_5085716L</th><th>dateofbirth_337D</th><th>days120_123L</th><th>days180_256L</th><th>days30_165L</th><th>days360_512L</th><th>days90_310L</th><th>description_5085714M</th><th>education_1103M</th><th>education_88M</th><th>firstquarter_103L</th><th>fourthquarter_440L</th><th>maritalst_385M</th><th>maritalst_893M</th><th>pmtaverage_3A</th><th>pmtaverage_4527227A</th><th>pmtcount_4527229L</th><th>pmtcount_693L</th><th>pmtscount_423L</th><th>pmtssum_45A</th><th>requesttype_4525192L</th><th>responsedate_1012D</th><th>responsedate_4527233D</th><th>responsedate_4917613D</th><th>riskassesment_302T</th><th>secondquarter_766L</th><th>thirdquarter_1082L</th><th>assignmentdate_238D_birthdate_574D_diff</th><th>assignmentdate_238D_dateofbirth_337D_diff</th><th>assignmentdate_238D_responsedate_1012D_diff</th><th>assignmentdate_4527235D_dateofbirth_337D_diff</th><th>&hellip;</th><th>last_byoccupationinc_3656910L/mean_amount_416A_fraction</th><th>last_credacc_actualbalance_314A/mean_amount_416A_fraction</th><th>last_credacc_credlmt_575A/mean_amount_416A_fraction</th><th>last_credamount_590A/mean_amount_416A_fraction</th><th>last_currdebt_94A/mean_amount_416A_fraction</th><th>last_downpmt_134A/mean_amount_416A_fraction</th><th>last_mainoccupationinc_437A/mean_amount_416A_fraction</th><th>last_outstandingdebt_522A/mean_amount_416A_fraction</th><th>mean_annuity_853A/mean_amount_416A_fraction</th><th>mean_byoccupationinc_3656910L/mean_amount_416A_fraction</th><th>mean_credacc_actualbalance_314A/mean_amount_416A_fraction</th><th>mean_credacc_credlmt_575A/mean_amount_416A_fraction</th><th>mean_credamount_590A/mean_amount_416A_fraction</th><th>mean_currdebt_94A/mean_amount_416A_fraction</th><th>mean_downpmt_134A/mean_amount_416A_fraction</th><th>mean_mainoccupationinc_437A/mean_amount_416A_fraction</th><th>mean_outstandingdebt_522A/mean_amount_416A_fraction</th><th>max_amount_4527230A/mean_amount_416A_fraction</th><th>min_amount_4527230A/mean_amount_416A_fraction</th><th>first_amount_4527230A/mean_amount_416A_fraction</th><th>last_amount_4527230A/mean_amount_416A_fraction</th><th>mean_amount_4527230A/mean_amount_416A_fraction</th><th>max_amount_4917619A/mean_amount_416A_fraction</th><th>min_amount_4917619A/mean_amount_416A_fraction</th><th>first_amount_4917619A/mean_amount_416A_fraction</th><th>last_amount_4917619A/mean_amount_416A_fraction</th><th>mean_amount_4917619A/mean_amount_416A_fraction</th><th>max_pmtamount_36A/mean_amount_416A_fraction</th><th>min_pmtamount_36A/mean_amount_416A_fraction</th><th>first_pmtamount_36A/mean_amount_416A_fraction</th><th>last_pmtamount_36A/mean_amount_416A_fraction</th><th>mean_pmtamount_36A/mean_amount_416A_fraction</th><th>max_amount_416A/mean_amount_416A_fraction</th><th>min_amount_416A/mean_amount_416A_fraction</th><th>first_amount_416A/mean_amount_416A_fraction</th><th>last_amount_416A/mean_amount_416A_fraction</th><th>mainoccupationinc_384A/mean_amount_416A_fraction</th></tr><tr><td>i32</td><td>i8</td><td>i8</td><td>i16</td><td>i16</td><td>i16</td><td>f32</td><td>i16</td><td>f32</td><td>f32</td><td>f32</td><td>f32</td><td>f32</td><td>enum</td><td>enum</td><td>enum</td><td>f32</td><td>f32</td><td>enum</td><td>enum</td><td>f32</td><td>f32</td><td>f32</td><td>f32</td><td>f32</td><td>f32</td><td>enum</td><td>i16</td><td>i16</td><td>i16</td><td>enum</td><td>f32</td><td>f32</td><td>i16</td><td>i32</td><td>i16</td><td>i32</td><td>&hellip;</td><td>f64</td><td>f64</td><td>f64</td><td>f64</td><td>f64</td><td>f64</td><td>f64</td><td>f64</td><td>f64</td><td>f64</td><td>f64</td><td>f64</td><td>f64</td><td>f64</td><td>f64</td><td>f64</td><td>f64</td><td>f64</td><td>f64</td><td>f64</td><td>f64</td><td>f64</td><td>f64</td><td>f64</td><td>f64</td><td>f64</td><td>f64</td><td>f64</td><td>f64</td><td>f64</td><td>f64</td><td>f64</td><td>f32</td><td>f32</td><td>f32</td><td>f32</td><td>f64</td></tr></thead><tbody><tr><td>0</td><td>0</td><td>0</td><td>null</td><td>null</td><td>null</td><td>null</td><td>null</td><td>null</td><td>null</td><td>null</td><td>null</td><td>null</td><td>null</td><td>null</td><td>null</td><td>null</td><td>null</td><td>null</td><td>null</td><td>null</td><td>null</td><td>null</td><td>null</td><td>null</td><td>null</td><td>null</td><td>null</td><td>null</td><td>null</td><td>null</td><td>null</td><td>null</td><td>null</td><td>null</td><td>null</td><td>null</td><td>&hellip;</td><td>null</td><td>null</td><td>null</td><td>null</td><td>null</td><td>null</td><td>null</td><td>null</td><td>null</td><td>null</td><td>null</td><td>null</td><td>null</td><td>null</td><td>null</td><td>null</td><td>null</td><td>null</td><td>null</td><td>null</td><td>null</td><td>null</td><td>null</td><td>null</td><td>null</td><td>null</td><td>null</td><td>null</td><td>null</td><td>null</td><td>null</td><td>null</td><td>null</td><td>null</td><td>null</td><td>null</td><td>null</td></tr><tr><td>1</td><td>0</td><td>0</td><td>null</td><td>null</td><td>null</td><td>null</td><td>null</td><td>null</td><td>null</td><td>null</td><td>null</td><td>null</td><td>null</td><td>null</td><td>null</td><td>null</td><td>null</td><td>null</td><td>null</td><td>null</td><td>null</td><td>null</td><td>null</td><td>null</td><td>null</td><td>null</td><td>null</td><td>null</td><td>null</td><td>null</td><td>null</td><td>null</td><td>null</td><td>null</td><td>null</td><td>null</td><td>&hellip;</td><td>null</td><td>null</td><td>null</td><td>null</td><td>null</td><td>null</td><td>null</td><td>null</td><td>null</td><td>null</td><td>null</td><td>null</td><td>null</td><td>null</td><td>null</td><td>null</td><td>null</td><td>null</td><td>null</td><td>null</td><td>null</td><td>null</td><td>null</td><td>null</td><td>null</td><td>null</td><td>null</td><td>null</td><td>null</td><td>null</td><td>null</td><td>null</td><td>null</td><td>null</td><td>null</td><td>null</td><td>null</td></tr><tr><td>2</td><td>0</td><td>0</td><td>null</td><td>null</td><td>null</td><td>null</td><td>null</td><td>null</td><td>null</td><td>null</td><td>null</td><td>null</td><td>null</td><td>null</td><td>null</td><td>null</td><td>null</td><td>null</td><td>null</td><td>null</td><td>null</td><td>null</td><td>null</td><td>null</td><td>null</td><td>null</td><td>null</td><td>null</td><td>null</td><td>null</td><td>null</td><td>null</td><td>null</td><td>null</td><td>null</td><td>null</td><td>&hellip;</td><td>null</td><td>null</td><td>null</td><td>null</td><td>null</td><td>null</td><td>null</td><td>null</td><td>null</td><td>null</td><td>null</td><td>null</td><td>null</td><td>null</td><td>null</td><td>null</td><td>null</td><td>null</td><td>null</td><td>null</td><td>null</td><td>null</td><td>null</td><td>null</td><td>null</td><td>null</td><td>null</td><td>null</td><td>null</td><td>null</td><td>null</td><td>null</td><td>null</td><td>null</td><td>null</td><td>null</td><td>null</td></tr><tr><td>3</td><td>0</td><td>0</td><td>null</td><td>null</td><td>null</td><td>null</td><td>null</td><td>null</td><td>null</td><td>null</td><td>null</td><td>null</td><td>null</td><td>null</td><td>null</td><td>null</td><td>null</td><td>null</td><td>null</td><td>null</td><td>null</td><td>null</td><td>null</td><td>null</td><td>null</td><td>null</td><td>null</td><td>null</td><td>null</td><td>null</td><td>null</td><td>null</td><td>null</td><td>null</td><td>null</td><td>null</td><td>&hellip;</td><td>null</td><td>null</td><td>null</td><td>null</td><td>null</td><td>null</td><td>null</td><td>null</td><td>null</td><td>null</td><td>null</td><td>null</td><td>null</td><td>null</td><td>null</td><td>null</td><td>null</td><td>null</td><td>null</td><td>null</td><td>null</td><td>null</td><td>null</td><td>null</td><td>null</td><td>null</td><td>null</td><td>null</td><td>null</td><td>null</td><td>null</td><td>null</td><td>null</td><td>null</td><td>null</td><td>null</td><td>null</td></tr><tr><td>4</td><td>0</td><td>1</td><td>null</td><td>null</td><td>null</td><td>null</td><td>null</td><td>null</td><td>null</td><td>null</td><td>null</td><td>null</td><td>null</td><td>null</td><td>null</td><td>null</td><td>null</td><td>null</td><td>null</td><td>null</td><td>null</td><td>null</td><td>null</td><td>null</td><td>null</td><td>null</td><td>null</td><td>null</td><td>null</td><td>null</td><td>null</td><td>null</td><td>null</td><td>null</td><td>null</td><td>null</td><td>&hellip;</td><td>null</td><td>null</td><td>null</td><td>null</td><td>null</td><td>null</td><td>null</td><td>null</td><td>null</td><td>null</td><td>null</td><td>null</td><td>null</td><td>null</td><td>null</td><td>null</td><td>null</td><td>null</td><td>null</td><td>null</td><td>null</td><td>null</td><td>null</td><td>null</td><td>null</td><td>null</td><td>null</td><td>null</td><td>null</td><td>null</td><td>null</td><td>null</td><td>null</td><td>null</td><td>null</td><td>null</td><td>null</td></tr><tr><td>5</td><td>0</td><td>0</td><td>null</td><td>null</td><td>null</td><td>null</td><td>null</td><td>null</td><td>null</td><td>null</td><td>null</td><td>null</td><td>null</td><td>null</td><td>null</td><td>null</td><td>null</td><td>null</td><td>null</td><td>null</td><td>null</td><td>null</td><td>null</td><td>null</td><td>null</td><td>null</td><td>null</td><td>null</td><td>null</td><td>null</td><td>null</td><td>null</td><td>null</td><td>null</td><td>null</td><td>null</td><td>&hellip;</td><td>null</td><td>null</td><td>null</td><td>null</td><td>null</td><td>null</td><td>null</td><td>null</td><td>null</td><td>null</td><td>null</td><td>null</td><td>null</td><td>null</td><td>null</td><td>null</td><td>null</td><td>null</td><td>null</td><td>null</td><td>null</td><td>null</td><td>null</td><td>null</td><td>null</td><td>null</td><td>null</td><td>null</td><td>null</td><td>null</td><td>null</td><td>null</td><td>null</td><td>null</td><td>null</td><td>null</td><td>null</td></tr><tr><td>6</td><td>0</td><td>0</td><td>null</td><td>null</td><td>null</td><td>null</td><td>null</td><td>null</td><td>null</td><td>null</td><td>null</td><td>null</td><td>null</td><td>null</td><td>null</td><td>null</td><td>null</td><td>null</td><td>null</td><td>null</td><td>null</td><td>null</td><td>null</td><td>null</td><td>null</td><td>null</td><td>null</td><td>null</td><td>null</td><td>null</td><td>null</td><td>null</td><td>null</td><td>null</td><td>null</td><td>null</td><td>&hellip;</td><td>null</td><td>null</td><td>null</td><td>null</td><td>null</td><td>null</td><td>null</td><td>null</td><td>null</td><td>null</td><td>null</td><td>null</td><td>null</td><td>null</td><td>null</td><td>null</td><td>null</td><td>null</td><td>null</td><td>null</td><td>null</td><td>null</td><td>null</td><td>null</td><td>null</td><td>null</td><td>null</td><td>null</td><td>null</td><td>null</td><td>null</td><td>null</td><td>null</td><td>null</td><td>null</td><td>null</td><td>null</td></tr><tr><td>7</td><td>0</td><td>0</td><td>null</td><td>null</td><td>null</td><td>null</td><td>null</td><td>null</td><td>null</td><td>null</td><td>null</td><td>null</td><td>null</td><td>null</td><td>null</td><td>null</td><td>null</td><td>null</td><td>null</td><td>null</td><td>null</td><td>null</td><td>null</td><td>null</td><td>null</td><td>null</td><td>null</td><td>null</td><td>null</td><td>null</td><td>null</td><td>null</td><td>null</td><td>null</td><td>null</td><td>null</td><td>&hellip;</td><td>null</td><td>null</td><td>null</td><td>null</td><td>null</td><td>null</td><td>null</td><td>null</td><td>null</td><td>null</td><td>null</td><td>null</td><td>null</td><td>null</td><td>null</td><td>null</td><td>null</td><td>null</td><td>null</td><td>null</td><td>null</td><td>null</td><td>null</td><td>null</td><td>null</td><td>null</td><td>null</td><td>null</td><td>null</td><td>null</td><td>null</td><td>null</td><td>null</td><td>null</td><td>null</td><td>null</td><td>null</td></tr><tr><td>8</td><td>0</td><td>0</td><td>null</td><td>null</td><td>null</td><td>null</td><td>null</td><td>null</td><td>null</td><td>null</td><td>null</td><td>null</td><td>null</td><td>null</td><td>null</td><td>null</td><td>null</td><td>null</td><td>null</td><td>null</td><td>null</td><td>null</td><td>null</td><td>null</td><td>null</td><td>null</td><td>null</td><td>null</td><td>null</td><td>null</td><td>null</td><td>null</td><td>null</td><td>null</td><td>null</td><td>null</td><td>&hellip;</td><td>null</td><td>null</td><td>null</td><td>null</td><td>null</td><td>null</td><td>null</td><td>null</td><td>null</td><td>null</td><td>null</td><td>null</td><td>null</td><td>null</td><td>null</td><td>null</td><td>null</td><td>null</td><td>null</td><td>null</td><td>null</td><td>null</td><td>null</td><td>null</td><td>null</td><td>null</td><td>null</td><td>null</td><td>null</td><td>null</td><td>null</td><td>null</td><td>null</td><td>null</td><td>null</td><td>null</td><td>null</td></tr><tr><td>9</td><td>0</td><td>0</td><td>null</td><td>null</td><td>null</td><td>null</td><td>null</td><td>null</td><td>null</td><td>null</td><td>null</td><td>null</td><td>null</td><td>null</td><td>null</td><td>null</td><td>null</td><td>null</td><td>null</td><td>null</td><td>null</td><td>null</td><td>null</td><td>null</td><td>null</td><td>null</td><td>null</td><td>null</td><td>null</td><td>null</td><td>null</td><td>null</td><td>null</td><td>null</td><td>null</td><td>null</td><td>&hellip;</td><td>null</td><td>null</td><td>null</td><td>null</td><td>null</td><td>null</td><td>null</td><td>null</td><td>null</td><td>null</td><td>null</td><td>null</td><td>null</td><td>null</td><td>null</td><td>null</td><td>null</td><td>null</td><td>null</td><td>null</td><td>null</td><td>null</td><td>null</td><td>null</td><td>null</td><td>null</td><td>null</td><td>null</td><td>null</td><td>null</td><td>null</td><td>null</td><td>null</td><td>null</td><td>null</td><td>null</td><td>null</td></tr><tr><td>10</td><td>0</td><td>0</td><td>null</td><td>null</td><td>null</td><td>null</td><td>null</td><td>null</td><td>null</td><td>null</td><td>null</td><td>null</td><td>null</td><td>null</td><td>null</td><td>null</td><td>null</td><td>null</td><td>null</td><td>null</td><td>null</td><td>null</td><td>null</td><td>null</td><td>null</td><td>null</td><td>null</td><td>null</td><td>null</td><td>null</td><td>null</td><td>null</td><td>null</td><td>null</td><td>null</td><td>null</td><td>&hellip;</td><td>null</td><td>null</td><td>null</td><td>null</td><td>null</td><td>null</td><td>null</td><td>null</td><td>null</td><td>null</td><td>null</td><td>null</td><td>null</td><td>null</td><td>null</td><td>null</td><td>null</td><td>null</td><td>null</td><td>null</td><td>null</td><td>null</td><td>null</td><td>null</td><td>null</td><td>null</td><td>null</td><td>null</td><td>null</td><td>null</td><td>null</td><td>null</td><td>null</td><td>null</td><td>null</td><td>null</td><td>null</td></tr><tr><td>11</td><td>0</td><td>0</td><td>null</td><td>null</td><td>null</td><td>null</td><td>null</td><td>null</td><td>null</td><td>null</td><td>null</td><td>null</td><td>null</td><td>null</td><td>null</td><td>null</td><td>null</td><td>null</td><td>null</td><td>null</td><td>null</td><td>null</td><td>null</td><td>null</td><td>null</td><td>null</td><td>null</td><td>null</td><td>null</td><td>null</td><td>null</td><td>null</td><td>null</td><td>null</td><td>null</td><td>null</td><td>&hellip;</td><td>null</td><td>null</td><td>null</td><td>null</td><td>null</td><td>null</td><td>null</td><td>null</td><td>null</td><td>null</td><td>null</td><td>null</td><td>null</td><td>null</td><td>null</td><td>null</td><td>null</td><td>null</td><td>null</td><td>null</td><td>null</td><td>null</td><td>null</td><td>null</td><td>null</td><td>null</td><td>null</td><td>null</td><td>null</td><td>null</td><td>null</td><td>null</td><td>null</td><td>null</td><td>null</td><td>null</td><td>null</td></tr><tr><td>&hellip;</td><td>&hellip;</td><td>&hellip;</td><td>&hellip;</td><td>&hellip;</td><td>&hellip;</td><td>&hellip;</td><td>&hellip;</td><td>&hellip;</td><td>&hellip;</td><td>&hellip;</td><td>&hellip;</td><td>&hellip;</td><td>&hellip;</td><td>&hellip;</td><td>&hellip;</td><td>&hellip;</td><td>&hellip;</td><td>&hellip;</td><td>&hellip;</td><td>&hellip;</td><td>&hellip;</td><td>&hellip;</td><td>&hellip;</td><td>&hellip;</td><td>&hellip;</td><td>&hellip;</td><td>&hellip;</td><td>&hellip;</td><td>&hellip;</td><td>&hellip;</td><td>&hellip;</td><td>&hellip;</td><td>&hellip;</td><td>&hellip;</td><td>&hellip;</td><td>&hellip;</td><td>&hellip;</td><td>&hellip;</td><td>&hellip;</td><td>&hellip;</td><td>&hellip;</td><td>&hellip;</td><td>&hellip;</td><td>&hellip;</td><td>&hellip;</td><td>&hellip;</td><td>&hellip;</td><td>&hellip;</td><td>&hellip;</td><td>&hellip;</td><td>&hellip;</td><td>&hellip;</td><td>&hellip;</td><td>&hellip;</td><td>&hellip;</td><td>&hellip;</td><td>&hellip;</td><td>&hellip;</td><td>&hellip;</td><td>&hellip;</td><td>&hellip;</td><td>&hellip;</td><td>&hellip;</td><td>&hellip;</td><td>&hellip;</td><td>&hellip;</td><td>&hellip;</td><td>&hellip;</td><td>&hellip;</td><td>&hellip;</td><td>&hellip;</td><td>&hellip;</td><td>&hellip;</td><td>&hellip;</td></tr><tr><td>2703442</td><td>91</td><td>0</td><td>null</td><td>null</td><td>null</td><td>447606.65625</td><td>-6820</td><td>0.0</td><td>0.0</td><td>0.0</td><td>1.0</td><td>0.0</td><td>&quot;2fc785b2&quot;</td><td>&quot;6b2ae0fa&quot;</td><td>&quot;a55475b1&quot;</td><td>3.0</td><td>6.0</td><td>&quot;3439d993&quot;</td><td>&quot;a55475b1&quot;</td><td>null</td><td>null</td><td>null</td><td>null</td><td>null</td><td>null</td><td>&quot;__UNKNOWN__&quot;</td><td>null</td><td>null</td><td>18554</td><td>&quot;__UNKNOWN__&quot;</td><td>1.0</td><td>8.0</td><td>null</td><td>null</td><td>null</td><td>null</td><td>&hellip;</td><td>null</td><td>null</td><td>null</td><td>null</td><td>null</td><td>null</td><td>null</td><td>null</td><td>null</td><td>null</td><td>null</td><td>null</td><td>null</td><td>null</td><td>null</td><td>null</td><td>null</td><td>null</td><td>null</td><td>null</td><td>null</td><td>null</td><td>null</td><td>null</td><td>null</td><td>null</td><td>null</td><td>null</td><td>null</td><td>null</td><td>null</td><td>null</td><td>null</td><td>null</td><td>null</td><td>null</td><td>null</td></tr><tr><td>2703443</td><td>91</td><td>0</td><td>null</td><td>null</td><td>null</td><td>2.263403e6</td><td>-365</td><td>2.0</td><td>2.0</td><td>1.0</td><td>7.0</td><td>2.0</td><td>&quot;2fc785b2&quot;</td><td>&quot;717ddd49&quot;</td><td>&quot;a55475b1&quot;</td><td>2.0</td><td>5.0</td><td>&quot;3439d993&quot;</td><td>&quot;a55475b1&quot;</td><td>null</td><td>null</td><td>null</td><td>null</td><td>null</td><td>null</td><td>&quot;__UNKNOWN__&quot;</td><td>null</td><td>null</td><td>18543</td><td>&quot;__UNKNOWN__&quot;</td><td>2.0</td><td>3.0</td><td>null</td><td>null</td><td>null</td><td>null</td><td>&hellip;</td><td>null</td><td>null</td><td>null</td><td>null</td><td>null</td><td>null</td><td>null</td><td>null</td><td>null</td><td>null</td><td>null</td><td>null</td><td>null</td><td>null</td><td>null</td><td>null</td><td>null</td><td>null</td><td>null</td><td>null</td><td>null</td><td>null</td><td>null</td><td>null</td><td>null</td><td>null</td><td>null</td><td>null</td><td>null</td><td>null</td><td>null</td><td>null</td><td>null</td><td>null</td><td>null</td><td>null</td><td>null</td></tr><tr><td>2703445</td><td>91</td><td>0</td><td>null</td><td>null</td><td>null</td><td>null</td><td>-153</td><td>1.0</td><td>1.0</td><td>0.0</td><td>2.0</td><td>1.0</td><td>&quot;2fc785b2&quot;</td><td>&quot;6b2ae0fa&quot;</td><td>&quot;a55475b1&quot;</td><td>1.0</td><td>3.0</td><td>&quot;3439d993&quot;</td><td>&quot;a55475b1&quot;</td><td>null</td><td>null</td><td>null</td><td>null</td><td>null</td><td>null</td><td>&quot;__UNKNOWN__&quot;</td><td>null</td><td>null</td><td>18554</td><td>&quot;__UNKNOWN__&quot;</td><td>1.0</td><td>4.0</td><td>null</td><td>null</td><td>null</td><td>null</td><td>&hellip;</td><td>null</td><td>null</td><td>null</td><td>null</td><td>null</td><td>null</td><td>null</td><td>null</td><td>null</td><td>null</td><td>null</td><td>null</td><td>null</td><td>null</td><td>null</td><td>null</td><td>null</td><td>null</td><td>null</td><td>null</td><td>null</td><td>null</td><td>null</td><td>null</td><td>null</td><td>null</td><td>null</td><td>null</td><td>null</td><td>null</td><td>null</td><td>null</td><td>null</td><td>null</td><td>null</td><td>null</td><td>null</td></tr><tr><td>2703446</td><td>91</td><td>0</td><td>null</td><td>null</td><td>null</td><td>313740.25</td><td>-5145</td><td>3.0</td><td>3.0</td><td>1.0</td><td>5.0</td><td>1.0</td><td>&quot;2fc785b2&quot;</td><td>&quot;a55475b1&quot;</td><td>&quot;a55475b1&quot;</td><td>2.0</td><td>3.0</td><td>&quot;a55475b1&quot;</td><td>&quot;a55475b1&quot;</td><td>null</td><td>null</td><td>null</td><td>null</td><td>null</td><td>null</td><td>&quot;__UNKNOWN__&quot;</td><td>null</td><td>null</td><td>18554</td><td>&quot;__UNKNOWN__&quot;</td><td>3.0</td><td>0.0</td><td>null</td><td>null</td><td>null</td><td>null</td><td>&hellip;</td><td>null</td><td>null</td><td>null</td><td>null</td><td>null</td><td>null</td><td>null</td><td>null</td><td>null</td><td>null</td><td>null</td><td>null</td><td>null</td><td>null</td><td>null</td><td>null</td><td>null</td><td>null</td><td>null</td><td>null</td><td>null</td><td>null</td><td>null</td><td>null</td><td>null</td><td>null</td><td>null</td><td>null</td><td>null</td><td>null</td><td>null</td><td>null</td><td>null</td><td>null</td><td>null</td><td>null</td><td>null</td></tr><tr><td>2703447</td><td>91</td><td>0</td><td>null</td><td>null</td><td>null</td><td>424142.1875</td><td>-8707</td><td>1.0</td><td>1.0</td><td>0.0</td><td>1.0</td><td>1.0</td><td>&quot;2fc785b2&quot;</td><td>&quot;a55475b1&quot;</td><td>&quot;a55475b1&quot;</td><td>1.0</td><td>0.0</td><td>&quot;a55475b1&quot;</td><td>&quot;a55475b1&quot;</td><td>null</td><td>null</td><td>null</td><td>null</td><td>null</td><td>null</td><td>&quot;__UNKNOWN__&quot;</td><td>null</td><td>null</td><td>18553</td><td>&quot;__UNKNOWN__&quot;</td><td>1.0</td><td>1.0</td><td>null</td><td>null</td><td>null</td><td>null</td><td>&hellip;</td><td>null</td><td>null</td><td>null</td><td>null</td><td>null</td><td>null</td><td>null</td><td>null</td><td>null</td><td>null</td><td>null</td><td>null</td><td>null</td><td>null</td><td>null</td><td>null</td><td>null</td><td>null</td><td>null</td><td>null</td><td>null</td><td>null</td><td>null</td><td>null</td><td>null</td><td>null</td><td>null</td><td>null</td><td>null</td><td>null</td><td>null</td><td>null</td><td>null</td><td>null</td><td>null</td><td>null</td><td>null</td></tr><tr><td>2703448</td><td>91</td><td>0</td><td>null</td><td>null</td><td>null</td><td>0.0</td><td>-1979</td><td>0.0</td><td>0.0</td><td>0.0</td><td>5.0</td><td>0.0</td><td>&quot;2fc785b2&quot;</td><td>&quot;a55475b1&quot;</td><td>&quot;a55475b1&quot;</td><td>8.0</td><td>3.0</td><td>&quot;3439d993&quot;</td><td>&quot;a55475b1&quot;</td><td>null</td><td>null</td><td>null</td><td>null</td><td>null</td><td>null</td><td>&quot;__UNKNOWN__&quot;</td><td>null</td><td>null</td><td>18554</td><td>&quot;__UNKNOWN__&quot;</td><td>1.0</td><td>2.0</td><td>null</td><td>null</td><td>null</td><td>null</td><td>&hellip;</td><td>null</td><td>null</td><td>null</td><td>null</td><td>null</td><td>null</td><td>null</td><td>null</td><td>null</td><td>null</td><td>null</td><td>null</td><td>null</td><td>null</td><td>null</td><td>null</td><td>null</td><td>null</td><td>null</td><td>null</td><td>null</td><td>null</td><td>null</td><td>null</td><td>null</td><td>null</td><td>null</td><td>null</td><td>null</td><td>null</td><td>null</td><td>null</td><td>null</td><td>null</td><td>null</td><td>null</td><td>null</td></tr><tr><td>2703449</td><td>91</td><td>0</td><td>null</td><td>null</td><td>null</td><td>194907.34375</td><td>5599</td><td>1.0</td><td>1.0</td><td>1.0</td><td>4.0</td><td>1.0</td><td>&quot;2fc785b2&quot;</td><td>&quot;a55475b1&quot;</td><td>&quot;a55475b1&quot;</td><td>3.0</td><td>4.0</td><td>&quot;a55475b1&quot;</td><td>&quot;a55475b1&quot;</td><td>null</td><td>null</td><td>null</td><td>null</td><td>null</td><td>null</td><td>&quot;__UNKNOWN__&quot;</td><td>null</td><td>null</td><td>18554</td><td>&quot;__UNKNOWN__&quot;</td><td>1.0</td><td>2.0</td><td>null</td><td>null</td><td>null</td><td>null</td><td>&hellip;</td><td>null</td><td>null</td><td>null</td><td>null</td><td>null</td><td>null</td><td>null</td><td>null</td><td>null</td><td>null</td><td>null</td><td>null</td><td>null</td><td>null</td><td>null</td><td>null</td><td>null</td><td>null</td><td>null</td><td>null</td><td>null</td><td>null</td><td>null</td><td>null</td><td>null</td><td>null</td><td>null</td><td>null</td><td>null</td><td>null</td><td>null</td><td>null</td><td>null</td><td>null</td><td>null</td><td>null</td><td>null</td></tr><tr><td>2703450</td><td>91</td><td>0</td><td>null</td><td>null</td><td>null</td><td>52863.589844</td><td>-3653</td><td>0.0</td><td>0.0</td><td>0.0</td><td>0.0</td><td>0.0</td><td>&quot;2fc785b2&quot;</td><td>&quot;a55475b1&quot;</td><td>&quot;a55475b1&quot;</td><td>0.0</td><td>1.0</td><td>&quot;a55475b1&quot;</td><td>&quot;a55475b1&quot;</td><td>null</td><td>null</td><td>null</td><td>null</td><td>null</td><td>null</td><td>&quot;__UNKNOWN__&quot;</td><td>null</td><td>null</td><td>18554</td><td>&quot;__UNKNOWN__&quot;</td><td>1.0</td><td>1.0</td><td>null</td><td>null</td><td>null</td><td>null</td><td>&hellip;</td><td>null</td><td>null</td><td>null</td><td>null</td><td>null</td><td>null</td><td>null</td><td>null</td><td>null</td><td>null</td><td>null</td><td>null</td><td>null</td><td>null</td><td>null</td><td>null</td><td>null</td><td>null</td><td>null</td><td>null</td><td>null</td><td>null</td><td>null</td><td>null</td><td>null</td><td>null</td><td>null</td><td>null</td><td>null</td><td>null</td><td>null</td><td>null</td><td>null</td><td>null</td><td>null</td><td>null</td><td>null</td></tr><tr><td>2703451</td><td>91</td><td>0</td><td>null</td><td>null</td><td>null</td><td>324608.53125</td><td>-7001</td><td>0.0</td><td>0.0</td><td>0.0</td><td>0.0</td><td>0.0</td><td>&quot;2fc785b2&quot;</td><td>&quot;a55475b1&quot;</td><td>&quot;a55475b1&quot;</td><td>1.0</td><td>0.0</td><td>&quot;a55475b1&quot;</td><td>&quot;a55475b1&quot;</td><td>null</td><td>null</td><td>null</td><td>null</td><td>null</td><td>null</td><td>&quot;__UNKNOWN__&quot;</td><td>null</td><td>null</td><td>18554</td><td>&quot;__UNKNOWN__&quot;</td><td>1.0</td><td>2.0</td><td>null</td><td>null</td><td>null</td><td>null</td><td>&hellip;</td><td>null</td><td>null</td><td>null</td><td>null</td><td>null</td><td>null</td><td>null</td><td>null</td><td>null</td><td>null</td><td>null</td><td>null</td><td>null</td><td>null</td><td>null</td><td>null</td><td>null</td><td>null</td><td>null</td><td>null</td><td>null</td><td>null</td><td>null</td><td>null</td><td>null</td><td>null</td><td>null</td><td>null</td><td>null</td><td>null</td><td>null</td><td>null</td><td>null</td><td>null</td><td>null</td><td>null</td><td>null</td></tr><tr><td>2703452</td><td>91</td><td>0</td><td>null</td><td>null</td><td>null</td><td>102738.757812</td><td>2769</td><td>2.0</td><td>2.0</td><td>0.0</td><td>3.0</td><td>2.0</td><td>&quot;2fc785b2&quot;</td><td>&quot;a55475b1&quot;</td><td>&quot;a55475b1&quot;</td><td>0.0</td><td>1.0</td><td>&quot;a55475b1&quot;</td><td>&quot;a55475b1&quot;</td><td>null</td><td>null</td><td>null</td><td>null</td><td>null</td><td>null</td><td>&quot;__UNKNOWN__&quot;</td><td>null</td><td>null</td><td>18554</td><td>&quot;__UNKNOWN__&quot;</td><td>0.0</td><td>4.0</td><td>null</td><td>null</td><td>null</td><td>null</td><td>&hellip;</td><td>null</td><td>null</td><td>null</td><td>null</td><td>null</td><td>null</td><td>null</td><td>null</td><td>null</td><td>null</td><td>null</td><td>null</td><td>null</td><td>null</td><td>null</td><td>null</td><td>null</td><td>null</td><td>null</td><td>null</td><td>null</td><td>null</td><td>null</td><td>null</td><td>null</td><td>null</td><td>null</td><td>null</td><td>null</td><td>null</td><td>null</td><td>null</td><td>null</td><td>null</td><td>null</td><td>null</td><td>null</td></tr><tr><td>2703453</td><td>91</td><td>0</td><td>null</td><td>null</td><td>null</td><td>212683.296875</td><td>-7274</td><td>2.0</td><td>2.0</td><td>1.0</td><td>4.0</td><td>1.0</td><td>&quot;2fc785b2&quot;</td><td>&quot;6b2ae0fa&quot;</td><td>&quot;a55475b1&quot;</td><td>1.0</td><td>3.0</td><td>&quot;3439d993&quot;</td><td>&quot;a55475b1&quot;</td><td>null</td><td>null</td><td>null</td><td>null</td><td>null</td><td>null</td><td>&quot;__UNKNOWN__&quot;</td><td>null</td><td>null</td><td>18552</td><td>&quot;__UNKNOWN__&quot;</td><td>2.0</td><td>1.0</td><td>null</td><td>null</td><td>null</td><td>null</td><td>&hellip;</td><td>null</td><td>null</td><td>0.0</td><td>0.09787</td><td>0.0</td><td>0.0</td><td>0.311688</td><td>0.0</td><td>0.079719</td><td>1.472016</td><td>0.007989</td><td>0.0</td><td>1.269957</td><td>0.170938</td><td>0.0</td><td>1.586272</td><td>0.231573</td><td>null</td><td>null</td><td>null</td><td>null</td><td>null</td><td>null</td><td>null</td><td>null</td><td>null</td><td>null</td><td>null</td><td>null</td><td>null</td><td>null</td><td>null</td><td>2.0</td><td>0.0</td><td>2.0</td><td>0.0</td><td>1.335808</td></tr><tr><td>2703454</td><td>91</td><td>0</td><td>null</td><td>null</td><td>null</td><td>42757.890625</td><td>-7945</td><td>1.0</td><td>1.0</td><td>0.0</td><td>1.0</td><td>0.0</td><td>&quot;2fc785b2&quot;</td><td>&quot;a55475b1&quot;</td><td>&quot;a55475b1&quot;</td><td>0.0</td><td>0.0</td><td>&quot;b6cabe76&quot;</td><td>&quot;a55475b1&quot;</td><td>null</td><td>null</td><td>null</td><td>null</td><td>null</td><td>null</td><td>&quot;__UNKNOWN__&quot;</td><td>null</td><td>null</td><td>18554</td><td>&quot;__UNKNOWN__&quot;</td><td>2.0</td><td>1.0</td><td>null</td><td>null</td><td>null</td><td>null</td><td>&hellip;</td><td>null</td><td>null</td><td>null</td><td>null</td><td>null</td><td>null</td><td>null</td><td>null</td><td>null</td><td>null</td><td>null</td><td>null</td><td>null</td><td>null</td><td>null</td><td>null</td><td>null</td><td>null</td><td>null</td><td>null</td><td>null</td><td>null</td><td>null</td><td>null</td><td>null</td><td>null</td><td>null</td><td>null</td><td>null</td><td>null</td><td>null</td><td>null</td><td>null</td><td>null</td><td>null</td><td>null</td><td>null</td></tr></tbody></table></div>"
      ],
      "text/plain": [
       "shape: (1_526_659, 1_067)\n",
       "┌─────────┬──────────┬────────┬────────────┬───┬────────────┬────────────┬────────────┬────────────┐\n",
       "│ case_id ┆ WEEK_NUM ┆ target ┆ assignment ┆ … ┆ min_amount ┆ first_amou ┆ last_amoun ┆ mainoccupa │\n",
       "│ ---     ┆ ---      ┆ ---    ┆ date_238D  ┆   ┆ _416A/mean ┆ nt_416A/me ┆ t_416A/mea ┆ tioninc_38 │\n",
       "│ i32     ┆ i8       ┆ i8     ┆ ---        ┆   ┆ _amount_41 ┆ an_amount_ ┆ n_amount_4 ┆ 4A/mean_am │\n",
       "│         ┆          ┆        ┆ i16        ┆   ┆ 6A…        ┆ 41…        ┆ 16…        ┆ ou…        │\n",
       "│         ┆          ┆        ┆            ┆   ┆ ---        ┆ ---        ┆ ---        ┆ ---        │\n",
       "│         ┆          ┆        ┆            ┆   ┆ f32        ┆ f32        ┆ f32        ┆ f64        │\n",
       "╞═════════╪══════════╪════════╪════════════╪═══╪════════════╪════════════╪════════════╪════════════╡\n",
       "│ 0       ┆ 0        ┆ 0      ┆ null       ┆ … ┆ null       ┆ null       ┆ null       ┆ null       │\n",
       "│ 1       ┆ 0        ┆ 0      ┆ null       ┆ … ┆ null       ┆ null       ┆ null       ┆ null       │\n",
       "│ 2       ┆ 0        ┆ 0      ┆ null       ┆ … ┆ null       ┆ null       ┆ null       ┆ null       │\n",
       "│ 3       ┆ 0        ┆ 0      ┆ null       ┆ … ┆ null       ┆ null       ┆ null       ┆ null       │\n",
       "│ …       ┆ …        ┆ …      ┆ …          ┆ … ┆ …          ┆ …          ┆ …          ┆ …          │\n",
       "│ 2703451 ┆ 91       ┆ 0      ┆ null       ┆ … ┆ null       ┆ null       ┆ null       ┆ null       │\n",
       "│ 2703452 ┆ 91       ┆ 0      ┆ null       ┆ … ┆ null       ┆ null       ┆ null       ┆ null       │\n",
       "│ 2703453 ┆ 91       ┆ 0      ┆ null       ┆ … ┆ 0.0        ┆ 2.0        ┆ 0.0        ┆ 1.335808   │\n",
       "│ 2703454 ┆ 91       ┆ 0      ┆ null       ┆ … ┆ null       ┆ null       ┆ null       ┆ null       │\n",
       "└─────────┴──────────┴────────┴────────────┴───┴────────────┴────────────┴────────────┴────────────┘"
      ]
     },
     "execution_count": 9,
     "metadata": {},
     "output_type": "execute_result"
    }
   ],
   "source": [
    "train_df"
   ]
  },
  {
   "cell_type": "markdown",
   "id": "b973c380",
   "metadata": {
    "_kg_hide-input": true,
    "papermill": {
     "duration": 0.016698,
     "end_time": "2024-03-04T09:55:50.030165",
     "exception": false,
     "start_time": "2024-03-04T09:55:50.013467",
     "status": "completed"
    },
    "tags": []
   },
   "source": [
    "# Data visualization"
   ]
  },
  {
   "cell_type": "code",
   "execution_count": null,
   "id": "761df05f",
   "metadata": {
    "papermill": {
     "duration": 0.018344,
     "end_time": "2024-03-04T09:55:50.066086",
     "exception": false,
     "start_time": "2024-03-04T09:55:50.047742",
     "status": "completed"
    },
    "tags": []
   },
   "outputs": [],
   "source": []
  },
  {
   "cell_type": "code",
   "execution_count": null,
   "id": "8bdfd3f3",
   "metadata": {
    "papermill": {
     "duration": 0.017428,
     "end_time": "2024-03-04T09:55:50.100780",
     "exception": false,
     "start_time": "2024-03-04T09:55:50.083352",
     "status": "completed"
    },
    "tags": []
   },
   "outputs": [],
   "source": []
  },
  {
   "cell_type": "code",
   "execution_count": 10,
   "id": "33416978",
   "metadata": {
    "execution": {
     "iopub.execute_input": "2024-03-04T09:55:50.137674Z",
     "iopub.status.busy": "2024-03-04T09:55:50.137087Z",
     "iopub.status.idle": "2024-03-04T09:55:50.143361Z",
     "shell.execute_reply": "2024-03-04T09:55:50.142145Z"
    },
    "papermill": {
     "duration": 0.027619,
     "end_time": "2024-03-04T09:55:50.145910",
     "exception": false,
     "start_time": "2024-03-04T09:55:50.118291",
     "status": "completed"
    },
    "tags": []
   },
   "outputs": [],
   "source": [
    "# def bucket_mean_split(x, y, buckets=100):\n",
    "#     x_buckets = []\n",
    "#     y_buckets = []\n",
    "\n",
    "#     x = np.array(x)\n",
    "#     y = np.array(y)\n",
    "#     x_quantiles = [np.quantile(x, i / buckets) for i in range(0, buckets + 1)]\n",
    "#     for i in range(0, buckets):\n",
    "#         filter = (x >= x_quantiles[i]) & (x <= x_quantiles[i + 1])\n",
    "#         x_buckets.append(np.mean(x[filter]))\n",
    "#         y_buckets.append(np.mean(y[filter]))\n",
    "#     return x_buckets, y_buckets"
   ]
  },
  {
   "cell_type": "code",
   "execution_count": 11,
   "id": "5791c722",
   "metadata": {
    "execution": {
     "iopub.execute_input": "2024-03-04T09:55:50.182777Z",
     "iopub.status.busy": "2024-03-04T09:55:50.182343Z",
     "iopub.status.idle": "2024-03-04T09:55:50.186757Z",
     "shell.execute_reply": "2024-03-04T09:55:50.185587Z"
    },
    "papermill": {
     "duration": 0.026052,
     "end_time": "2024-03-04T09:55:50.189270",
     "exception": false,
     "start_time": "2024-03-04T09:55:50.163218",
     "status": "completed"
    },
    "tags": []
   },
   "outputs": [],
   "source": [
    "# train[\"target\"].mean()"
   ]
  },
  {
   "cell_type": "code",
   "execution_count": 12,
   "id": "e806dd7f",
   "metadata": {
    "execution": {
     "iopub.execute_input": "2024-03-04T09:55:50.225438Z",
     "iopub.status.busy": "2024-03-04T09:55:50.224990Z",
     "iopub.status.idle": "2024-03-04T09:55:50.230577Z",
     "shell.execute_reply": "2024-03-04T09:55:50.229089Z"
    },
    "papermill": {
     "duration": 0.027062,
     "end_time": "2024-03-04T09:55:50.233273",
     "exception": false,
     "start_time": "2024-03-04T09:55:50.206211",
     "status": "completed"
    },
    "tags": []
   },
   "outputs": [],
   "source": [
    "# print(\"Mean target={} where actualdpdtolerance_344P != 0\".format(train[\"target\"].filter(train[\"actualdpdtolerance_344P\"] != 0).mean()))\n",
    "# print(\"Mean target={} where actualdpdtolerance_344P == 0\".format(train[\"target\"].filter(train[\"actualdpdtolerance_344P\"] == 0).mean()))\n",
    "# print(\"Mean target={} where actualdpdtolerance_344P is null\".format(train[\"target\"].filter(train[\"actualdpdtolerance_344P\"].is_null()).mean()))"
   ]
  },
  {
   "cell_type": "code",
   "execution_count": 13,
   "id": "bccbadbf",
   "metadata": {
    "execution": {
     "iopub.execute_input": "2024-03-04T09:55:50.269932Z",
     "iopub.status.busy": "2024-03-04T09:55:50.269525Z",
     "iopub.status.idle": "2024-03-04T09:55:50.275401Z",
     "shell.execute_reply": "2024-03-04T09:55:50.273963Z"
    },
    "papermill": {
     "duration": 0.027183,
     "end_time": "2024-03-04T09:55:50.277793",
     "exception": false,
     "start_time": "2024-03-04T09:55:50.250610",
     "status": "completed"
    },
    "tags": []
   },
   "outputs": [],
   "source": [
    "# columns = [column for column in train.columns if (train[column].dtype == pl.Float64)]\n",
    "\n",
    "# figure, axis = plt.subplots(len(columns) // 5 + 1, 5, figsize=(15, 30))\n",
    "# for index, column in enumerate(columns):\n",
    "#     current_plot = axis[index // 5, index % 5]\n",
    "#     x = train[column]\n",
    "#     y = train[\"target\"]\n",
    "#     if (x.dtype == pl.String or x.dtype == pl.Boolean):\n",
    "#         continue\n",
    "#     filter = x.is_not_null()\n",
    "#     x = x.filter(filter)\n",
    "#     y = y.filter(filter)\n",
    "#     if (x.is_empty()):\n",
    "#         continue\n",
    "#     x_bucket, y_bucket = bucket_mean_split(x.to_numpy(), y.to_numpy(), buckets=100)\n",
    "#     current_plot.plot(x_bucket, y_bucket)\n",
    "#     current_plot.set_title(column)\n",
    "# plt.show()"
   ]
  },
  {
   "cell_type": "code",
   "execution_count": 14,
   "id": "30a520fd",
   "metadata": {
    "execution": {
     "iopub.execute_input": "2024-03-04T09:55:50.314347Z",
     "iopub.status.busy": "2024-03-04T09:55:50.313858Z",
     "iopub.status.idle": "2024-03-04T09:55:50.319134Z",
     "shell.execute_reply": "2024-03-04T09:55:50.317807Z"
    },
    "papermill": {
     "duration": 0.026529,
     "end_time": "2024-03-04T09:55:50.321485",
     "exception": false,
     "start_time": "2024-03-04T09:55:50.294956",
     "status": "completed"
    },
    "tags": []
   },
   "outputs": [],
   "source": [
    "# features = train_df.columns\n",
    "# features.remove(\"WEEK_NUM\")\n",
    "# features.remove(\"case_id\")\n",
    "# features.remove(\"target\")"
   ]
  },
  {
   "cell_type": "code",
   "execution_count": 15,
   "id": "ede5700d",
   "metadata": {
    "execution": {
     "iopub.execute_input": "2024-03-04T09:55:50.359815Z",
     "iopub.status.busy": "2024-03-04T09:55:50.358801Z",
     "iopub.status.idle": "2024-03-04T09:55:50.364524Z",
     "shell.execute_reply": "2024-03-04T09:55:50.363346Z"
    },
    "papermill": {
     "duration": 0.028671,
     "end_time": "2024-03-04T09:55:50.367080",
     "exception": false,
     "start_time": "2024-03-04T09:55:50.338409",
     "status": "completed"
    },
    "tags": []
   },
   "outputs": [],
   "source": [
    "# gc.collect()"
   ]
  },
  {
   "cell_type": "markdown",
   "id": "7048a14a",
   "metadata": {
    "papermill": {
     "duration": 0.017128,
     "end_time": "2024-03-04T09:55:50.401898",
     "exception": false,
     "start_time": "2024-03-04T09:55:50.384770",
     "status": "completed"
    },
    "tags": []
   },
   "source": [
    "### Feature Importance"
   ]
  },
  {
   "cell_type": "code",
   "execution_count": 16,
   "id": "7369871d",
   "metadata": {
    "execution": {
     "iopub.execute_input": "2024-03-04T09:55:50.438616Z",
     "iopub.status.busy": "2024-03-04T09:55:50.438103Z",
     "iopub.status.idle": "2024-03-04T09:55:50.444169Z",
     "shell.execute_reply": "2024-03-04T09:55:50.442900Z"
    },
    "papermill": {
     "duration": 0.027575,
     "end_time": "2024-03-04T09:55:50.446748",
     "exception": false,
     "start_time": "2024-03-04T09:55:50.419173",
     "status": "completed"
    },
    "tags": []
   },
   "outputs": [],
   "source": [
    "# def train_rf(X, Y):    \n",
    "#     params = {\n",
    "#         \"boosting_type\": \"gbdt\",\n",
    "#         \"objective\": \"binary\",\n",
    "#         \"metric\": \"auc\",\n",
    "#         \"max_depth\": 8,\n",
    "#         \"max_bin\": 255,\n",
    "#         \"learning_rate\": 0.05,\n",
    "#         \"n_estimators\": 200,\n",
    "#         \"colsample_bytree\": 0.8, \n",
    "#         \"colsample_bynode\": 0.8,\n",
    "#         \"verbose\": -1,\n",
    "#         \"random_state\": 42,\n",
    "#         \"device\": \"gpu\",\n",
    "#     }\n",
    "    \n",
    "#     model = lgb.LGBMClassifier(**params)\n",
    "    \n",
    "#     model.fit(X.to_pandas(), Y.to_pandas())\n",
    "    \n",
    "#     # Get feature importances\n",
    "#     return pl.DataFrame({\n",
    "#         \"feature\": list(X.columns),\n",
    "#         \"feature_importance\": model.feature_importances_,\n",
    "#         \"train_score\": roc_auc_score(Y.to_pandas(), model.predict(X.to_pandas()))\n",
    "#     })"
   ]
  },
  {
   "cell_type": "code",
   "execution_count": 17,
   "id": "d6e377af",
   "metadata": {
    "execution": {
     "iopub.execute_input": "2024-03-04T09:55:50.483630Z",
     "iopub.status.busy": "2024-03-04T09:55:50.483131Z",
     "iopub.status.idle": "2024-03-04T09:55:50.488228Z",
     "shell.execute_reply": "2024-03-04T09:55:50.487224Z"
    },
    "papermill": {
     "duration": 0.02624,
     "end_time": "2024-03-04T09:55:50.490456",
     "exception": false,
     "start_time": "2024-03-04T09:55:50.464216",
     "status": "completed"
    },
    "tags": []
   },
   "outputs": [],
   "source": [
    "# def get_feature_importance(X, Y):\n",
    "#     COUNT_ITER = 50\n",
    "    \n",
    "#     dfs = []\n",
    "#     for i in range(COUNT_ITER):\n",
    "#         gc.collect()\n",
    "        \n",
    "#         start_time = time.time()\n",
    "#         shuffled_Y = Y.clone().sample(fraction=1.0, shuffle=True)\n",
    "#         current_df = train_rf(X, shuffled_Y)\n",
    "#         finish_time = time.time()\n",
    "#         print(f\"Finish iteration: {i + 1}/{COUNT_ITER}, time: {finish_time - start_time}\")\n",
    "#         current_df = current_df.with_columns(pl.lit(i).alias(\"iteration\"))\n",
    "#         dfs.append(current_df)\n",
    "        \n",
    "#     return pl.concat(dfs, rechunk=True), train_rf(X, Y)"
   ]
  },
  {
   "cell_type": "code",
   "execution_count": 18,
   "id": "e6114254",
   "metadata": {
    "execution": {
     "iopub.execute_input": "2024-03-04T09:55:50.526686Z",
     "iopub.status.busy": "2024-03-04T09:55:50.526196Z",
     "iopub.status.idle": "2024-03-04T09:55:50.532083Z",
     "shell.execute_reply": "2024-03-04T09:55:50.530752Z"
    },
    "papermill": {
     "duration": 0.02688,
     "end_time": "2024-03-04T09:55:50.534496",
     "exception": false,
     "start_time": "2024-03-04T09:55:50.507616",
     "status": "completed"
    },
    "tags": []
   },
   "outputs": [],
   "source": [
    "# shuffled_feature_importance_df, feature_importance_df = get_feature_importance(train_df[features], train_df[\"target\"])\n",
    "# shuffled_feature_importance_df.write_csv(\"shuffled_feature_importance_df.csv\", separator=\",\")\n",
    "# feature_importance_df.write_csv(\"feature_importance_df.csv\", separator=\",\")"
   ]
  },
  {
   "cell_type": "code",
   "execution_count": 19,
   "id": "c6c74fb6",
   "metadata": {
    "execution": {
     "iopub.execute_input": "2024-03-04T09:55:50.571459Z",
     "iopub.status.busy": "2024-03-04T09:55:50.570912Z",
     "iopub.status.idle": "2024-03-04T09:55:50.577224Z",
     "shell.execute_reply": "2024-03-04T09:55:50.575713Z"
    },
    "papermill": {
     "duration": 0.028292,
     "end_time": "2024-03-04T09:55:50.579963",
     "exception": false,
     "start_time": "2024-03-04T09:55:50.551671",
     "status": "completed"
    },
    "tags": []
   },
   "outputs": [],
   "source": [
    "# important_features = []\n",
    "# for column in feature_importance_df[\"feature\"]:\n",
    "#     shuffled_feature_importance = shuffled_feature_importance_df.filter(shuffled_feature_importance_df[\"feature\"] == column)[\"feature_importance\"].to_numpy()\n",
    "#     feature_importance = feature_importance_df.filter(feature_importance_df[\"feature\"] == column)[\"feature_importance\"][0]\n",
    "    \n",
    "#     if (np.percentile(shuffled_feature_importance, 90) <= feature_importance):\n",
    "#         important_features.append(column)\n",
    "# print(len(important_features), important_features)"
   ]
  },
  {
   "cell_type": "markdown",
   "id": "1a28338f",
   "metadata": {
    "papermill": {
     "duration": 0.017333,
     "end_time": "2024-03-04T09:55:50.614587",
     "exception": false,
     "start_time": "2024-03-04T09:55:50.597254",
     "status": "completed"
    },
    "tags": []
   },
   "source": [
    "# Training"
   ]
  },
  {
   "cell_type": "code",
   "execution_count": 20,
   "id": "ecf792e4",
   "metadata": {
    "execution": {
     "iopub.execute_input": "2024-03-04T09:55:50.737045Z",
     "iopub.status.busy": "2024-03-04T09:55:50.736171Z",
     "iopub.status.idle": "2024-03-04T09:55:50.742556Z",
     "shell.execute_reply": "2024-03-04T09:55:50.741125Z"
    },
    "papermill": {
     "duration": 0.063,
     "end_time": "2024-03-04T09:55:50.746929",
     "exception": false,
     "start_time": "2024-03-04T09:55:50.683929",
     "status": "completed"
    },
    "tags": []
   },
   "outputs": [],
   "source": [
    "# class VotingModel(BaseEstimator, RegressorMixin):\n",
    "#     def __init__(self, estimators):\n",
    "#         super().__init__()\n",
    "#         self.estimators = estimators\n",
    "        \n",
    "#     def fit(self, X, y=None):\n",
    "#         return self\n",
    "    \n",
    "#     def predict(self, X):\n",
    "#         y_preds = [estimator.predict(X) for estimator in self.estimators]\n",
    "#         return np.mean(y_preds, axis=0)\n",
    "    \n",
    "#     def predict_proba(self, X):\n",
    "#         y_preds = [estimator.predict_proba(X) for estimator in self.estimators]\n",
    "#         return np.mean(y_preds, axis=0)\n",
    "    \n",
    "#     def get_feature_importance(self):\n",
    "#         feature_importances = np.array([0 for feature in features])\n",
    "\n",
    "#         for model in self.estimators:\n",
    "#             feature_importances += model.feature_importances_\n",
    "\n",
    "#         return feature_importances"
   ]
  },
  {
   "cell_type": "code",
   "execution_count": 21,
   "id": "1c4248eb",
   "metadata": {
    "execution": {
     "iopub.execute_input": "2024-03-04T09:55:50.840451Z",
     "iopub.status.busy": "2024-03-04T09:55:50.839388Z",
     "iopub.status.idle": "2024-03-04T09:55:50.848254Z",
     "shell.execute_reply": "2024-03-04T09:55:50.847102Z"
    },
    "papermill": {
     "duration": 0.063406,
     "end_time": "2024-03-04T09:55:50.851130",
     "exception": false,
     "start_time": "2024-03-04T09:55:50.787724",
     "status": "completed"
    },
    "tags": []
   },
   "outputs": [],
   "source": [
    "# for column in features:\n",
    "#     if (train_dataset[column].dtype != pl.Categorical) and \\\n",
    "#         (train_dataset[column].dtype != pl.Float64) and \\\n",
    "#         (train_dataset[column].dtype != pl.Float64):\n",
    "#         print(column, train_dataset[column].dtype)"
   ]
  },
  {
   "cell_type": "code",
   "execution_count": 22,
   "id": "a37367cc",
   "metadata": {
    "execution": {
     "iopub.execute_input": "2024-03-04T09:55:50.958772Z",
     "iopub.status.busy": "2024-03-04T09:55:50.956134Z",
     "iopub.status.idle": "2024-03-04T09:55:50.966395Z",
     "shell.execute_reply": "2024-03-04T09:55:50.965185Z"
    },
    "papermill": {
     "duration": 0.07528,
     "end_time": "2024-03-04T09:55:50.969166",
     "exception": false,
     "start_time": "2024-03-04T09:55:50.893886",
     "status": "completed"
    },
    "tags": []
   },
   "outputs": [],
   "source": [
    "# def train_lgb_model(X_train, Y_train, X_test, Y_test):\n",
    "#     params = {\n",
    "#         \"boosting_type\": \"gbdt\",\n",
    "#         \"objective\": \"binary\",\n",
    "#         \"metric\": \"auc\",\n",
    "#         \"max_depth\": 8,\n",
    "#         \"max_bin\": 250,\n",
    "#         \"learning_rate\": 0.05,\n",
    "#         \"n_estimators\": 1000,\n",
    "#         \"colsample_bytree\": 0.8, \n",
    "#         \"colsample_bynode\": 0.8,\n",
    "#         \"verbose\": -1,\n",
    "#         \"random_state\": 42,\n",
    "#         \"device\": \"gpu\",\n",
    "#     }\n",
    "    \n",
    "#     model = lgb.LGBMClassifier(**params)\n",
    "    \n",
    "#     model.fit(\n",
    "#         X_train, Y_train,\n",
    "#         eval_set=[(X_test, Y_test)],\n",
    "#         callbacks=[lgb.log_evaluation(100), lgb.early_stopping(100)]\n",
    "#     )\n",
    "        \n",
    "#     return model"
   ]
  },
  {
   "cell_type": "code",
   "execution_count": 23,
   "id": "29344006",
   "metadata": {
    "execution": {
     "iopub.execute_input": "2024-03-04T09:55:51.075064Z",
     "iopub.status.busy": "2024-03-04T09:55:51.072133Z",
     "iopub.status.idle": "2024-03-04T09:55:51.081912Z",
     "shell.execute_reply": "2024-03-04T09:55:51.080197Z"
    },
    "papermill": {
     "duration": 0.068747,
     "end_time": "2024-03-04T09:55:51.084940",
     "exception": false,
     "start_time": "2024-03-04T09:55:51.016193",
     "status": "completed"
    },
    "tags": []
   },
   "outputs": [],
   "source": [
    "# gc.collect()"
   ]
  },
  {
   "cell_type": "code",
   "execution_count": 24,
   "id": "9f5bf474",
   "metadata": {
    "execution": {
     "iopub.execute_input": "2024-03-04T09:55:51.194279Z",
     "iopub.status.busy": "2024-03-04T09:55:51.193834Z",
     "iopub.status.idle": "2024-03-04T09:55:51.200222Z",
     "shell.execute_reply": "2024-03-04T09:55:51.199078Z"
    },
    "papermill": {
     "duration": 0.071106,
     "end_time": "2024-03-04T09:55:51.202681",
     "exception": false,
     "start_time": "2024-03-04T09:55:51.131575",
     "status": "completed"
    },
    "tags": []
   },
   "outputs": [],
   "source": [
    "# weeks = train_df[\"WEEK_NUM\"]\n",
    "# cv = StratifiedGroupKFold(n_splits=5, shuffle=False)\n",
    "\n",
    "# fitted_models = []\n",
    "\n",
    "# oof_predicted = np.zeros(train_df.shape[0])\n",
    "\n",
    "# for idx_train, idx_test in cv.split(train_df[features], train_df[\"target\"], groups=weeks):        \n",
    "# #     X_train = train_df[features][idx_train].to_pandas()\n",
    "# #     Y_train = train_df[\"target\"][idx_train].to_pandas()\n",
    "    \n",
    "#     X_test = train_df[features][idx_test].to_pandas()\n",
    "#     Y_test = train_df[\"target\"][idx_test].to_pandas()\n",
    "    \n",
    "#     start = time.time()\n",
    "#     params = {\n",
    "#         \"boosting_type\": \"gbdt\",\n",
    "#         \"objective\": \"binary\",\n",
    "#         \"metric\": \"auc\",\n",
    "#         \"max_depth\": 8,\n",
    "#         \"max_bin\": 250,\n",
    "#         \"learning_rate\": 0.05,\n",
    "#         \"n_estimators\": 1000,\n",
    "#         \"colsample_bytree\": 0.8, \n",
    "#         \"colsample_bynode\": 0.8,\n",
    "#         \"verbose\": -1,\n",
    "#         \"random_state\": 42,\n",
    "#         \"device\": \"gpu\",\n",
    "#     }\n",
    "    \n",
    "#     model = lgb.LGBMClassifier(**params)\n",
    "    \n",
    "#     model.fit(\n",
    "#         train_df[features][idx_train].to_pandas(), train_df[\"target\"][idx_train].to_pandas(),\n",
    "#         eval_set=[(X_test, Y_test)],\n",
    "#         callbacks=[lgb.log_evaluation(100), lgb.early_stopping(100)]\n",
    "#     )\n",
    "        \n",
    "\n",
    "# #    model = train_lgb_model(X_train, Y_train, X_test, Y_test)\n",
    "#     finish = time.time()\n",
    "    \n",
    "#     print(\"fit time: {}\".format(finish - start))\n",
    "#     fitted_models.append(model)\n",
    "    \n",
    "#     test_pred = model.predict_proba(X_test)[:, 1]\n",
    "#     oof_predicted[idx_test] = test_pred\n",
    "#     gc.collect()\n",
    "\n",
    "# model = VotingModel(fitted_models)\n",
    "# gc.collect()"
   ]
  },
  {
   "cell_type": "code",
   "execution_count": 25,
   "id": "8a00d407",
   "metadata": {
    "execution": {
     "iopub.execute_input": "2024-03-04T09:55:51.310037Z",
     "iopub.status.busy": "2024-03-04T09:55:51.308819Z",
     "iopub.status.idle": "2024-03-04T09:55:51.314069Z",
     "shell.execute_reply": "2024-03-04T09:55:51.313141Z"
    },
    "papermill": {
     "duration": 0.068361,
     "end_time": "2024-03-04T09:55:51.316601",
     "exception": false,
     "start_time": "2024-03-04T09:55:51.248240",
     "status": "completed"
    },
    "tags": []
   },
   "outputs": [],
   "source": [
    "# roc_auc_oof = roc_auc_score(train_df[\"target\"], oof_predicted)\n",
    "# print(\"CV roc_auc_oof: \", roc_auc_oof)"
   ]
  },
  {
   "cell_type": "markdown",
   "id": "6155ce44",
   "metadata": {
    "papermill": {
     "duration": 0.053567,
     "end_time": "2024-03-04T09:55:51.420103",
     "exception": false,
     "start_time": "2024-03-04T09:55:51.366536",
     "status": "completed"
    },
    "tags": []
   },
   "source": [
    "# Predict"
   ]
  },
  {
   "cell_type": "code",
   "execution_count": 26,
   "id": "3fc4d0f6",
   "metadata": {
    "execution": {
     "iopub.execute_input": "2024-03-04T09:55:51.561508Z",
     "iopub.status.busy": "2024-03-04T09:55:51.558094Z",
     "iopub.status.idle": "2024-03-04T09:55:51.565467Z",
     "shell.execute_reply": "2024-03-04T09:55:51.564230Z"
    },
    "papermill": {
     "duration": 0.081929,
     "end_time": "2024-03-04T09:55:51.568040",
     "exception": false,
     "start_time": "2024-03-04T09:55:51.486111",
     "status": "completed"
    },
    "tags": []
   },
   "outputs": [],
   "source": [
    "# del train_df\n",
    "# gc.collect()"
   ]
  },
  {
   "cell_type": "code",
   "execution_count": 27,
   "id": "2e4b7080",
   "metadata": {
    "execution": {
     "iopub.execute_input": "2024-03-04T09:55:51.606000Z",
     "iopub.status.busy": "2024-03-04T09:55:51.605107Z",
     "iopub.status.idle": "2024-03-04T09:55:51.610344Z",
     "shell.execute_reply": "2024-03-04T09:55:51.609486Z"
    },
    "papermill": {
     "duration": 0.026718,
     "end_time": "2024-03-04T09:55:51.612807",
     "exception": false,
     "start_time": "2024-03-04T09:55:51.586089",
     "status": "completed"
    },
    "tags": []
   },
   "outputs": [],
   "source": [
    "# test_dataset = data_loader.load_test_dataset()\n",
    "# print(\"Test dataset week range: {}-{}\".format(test_dataset.base[\"WEEK_NUM\"].min(), test_dataset.base[\"WEEK_NUM\"].max()))\n",
    "# gc.collect()\n",
    "# test_df = preprocessor.process_test_dataset(test_dataset)\n",
    "# del test_dataset\n",
    "# gc.collect()"
   ]
  },
  {
   "cell_type": "code",
   "execution_count": 28,
   "id": "76d7bdce",
   "metadata": {
    "execution": {
     "iopub.execute_input": "2024-03-04T09:55:51.651093Z",
     "iopub.status.busy": "2024-03-04T09:55:51.650194Z",
     "iopub.status.idle": "2024-03-04T09:55:51.655528Z",
     "shell.execute_reply": "2024-03-04T09:55:51.654664Z"
    },
    "papermill": {
     "duration": 0.027173,
     "end_time": "2024-03-04T09:55:51.657970",
     "exception": false,
     "start_time": "2024-03-04T09:55:51.630797",
     "status": "completed"
    },
    "tags": []
   },
   "outputs": [],
   "source": [
    "# print([name for value, name in reversed(sorted(zip(model.get_feature_importance(), features)))][0:200])"
   ]
  },
  {
   "cell_type": "code",
   "execution_count": null,
   "id": "d655ac31",
   "metadata": {
    "papermill": {
     "duration": 0.016945,
     "end_time": "2024-03-04T09:55:51.692574",
     "exception": false,
     "start_time": "2024-03-04T09:55:51.675629",
     "status": "completed"
    },
    "tags": []
   },
   "outputs": [],
   "source": []
  },
  {
   "cell_type": "code",
   "execution_count": 29,
   "id": "811258ef",
   "metadata": {
    "execution": {
     "iopub.execute_input": "2024-03-04T09:55:51.729700Z",
     "iopub.status.busy": "2024-03-04T09:55:51.728815Z",
     "iopub.status.idle": "2024-03-04T09:55:51.734513Z",
     "shell.execute_reply": "2024-03-04T09:55:51.733287Z"
    },
    "papermill": {
     "duration": 0.027372,
     "end_time": "2024-03-04T09:55:51.737228",
     "exception": false,
     "start_time": "2024-03-04T09:55:51.709856",
     "status": "completed"
    },
    "tags": []
   },
   "outputs": [],
   "source": [
    "# CV roc_auc_oof:  0.8353789451006361 without feature selection ~500 features\n",
    "# CV roc_auc_oof:  0.8329322959533371 with feature selection ~200 features"
   ]
  },
  {
   "cell_type": "code",
   "execution_count": null,
   "id": "f5e4d0e0",
   "metadata": {
    "papermill": {
     "duration": 0.017021,
     "end_time": "2024-03-04T09:55:51.771641",
     "exception": false,
     "start_time": "2024-03-04T09:55:51.754620",
     "status": "completed"
    },
    "tags": []
   },
   "outputs": [],
   "source": []
  },
  {
   "cell_type": "code",
   "execution_count": 30,
   "id": "ed2c67ef",
   "metadata": {
    "execution": {
     "iopub.execute_input": "2024-03-04T09:55:51.808946Z",
     "iopub.status.busy": "2024-03-04T09:55:51.808500Z",
     "iopub.status.idle": "2024-03-04T09:55:51.813858Z",
     "shell.execute_reply": "2024-03-04T09:55:51.812651Z"
    },
    "papermill": {
     "duration": 0.027763,
     "end_time": "2024-03-04T09:55:51.816501",
     "exception": false,
     "start_time": "2024-03-04T09:55:51.788738",
     "status": "completed"
    },
    "tags": []
   },
   "outputs": [],
   "source": [
    "# def gini_stability(dataset, w_fallingrate=88.0, w_resstd=-0.5):\n",
    "#     gini_in_time = dataset\\\n",
    "#         .sort_values(\"WEEK_NUM\")\\\n",
    "#         .groupby(\"WEEK_NUM\")[[\"true\", \"predicted\"]]\\\n",
    "#         .apply(lambda x: 2 * roc_auc_score(x[\"true\"], x[\"predicted\"]) - 1).tolist()\n",
    "    \n",
    "#     x = np.arange(len(gini_in_time))\n",
    "#     y = gini_in_time\n",
    "#     a, b = np.polyfit(x, y, 1)\n",
    "#     y_hat = a * x + b\n",
    "#     residuals = y - y_hat\n",
    "#     res_std = np.std(residuals)\n",
    "#     avg_gini = np.mean(gini_in_time)\n",
    "    \n",
    "#     print(avg_gini, min(0, a), res_std)\n",
    "    \n",
    "#     return avg_gini + w_fallingrate * min(0, a) + w_resstd * res_std"
   ]
  },
  {
   "cell_type": "code",
   "execution_count": 31,
   "id": "55ba9ed1",
   "metadata": {
    "execution": {
     "iopub.execute_input": "2024-03-04T09:55:51.854653Z",
     "iopub.status.busy": "2024-03-04T09:55:51.854202Z",
     "iopub.status.idle": "2024-03-04T09:55:51.859139Z",
     "shell.execute_reply": "2024-03-04T09:55:51.857718Z"
    },
    "papermill": {
     "duration": 0.026986,
     "end_time": "2024-03-04T09:55:51.861573",
     "exception": false,
     "start_time": "2024-03-04T09:55:51.834587",
     "status": "completed"
    },
    "tags": []
   },
   "outputs": [],
   "source": [
    "# # Y_train_predicted = model.predict_proba(train_df[features].to_pandas())\n",
    "# Y_test_predicted = model.predict_proba(test_df[features].to_pandas())"
   ]
  },
  {
   "cell_type": "code",
   "execution_count": 32,
   "id": "43d965c1",
   "metadata": {
    "execution": {
     "iopub.execute_input": "2024-03-04T09:55:51.899445Z",
     "iopub.status.busy": "2024-03-04T09:55:51.898969Z",
     "iopub.status.idle": "2024-03-04T09:55:51.904663Z",
     "shell.execute_reply": "2024-03-04T09:55:51.903320Z"
    },
    "papermill": {
     "duration": 0.027444,
     "end_time": "2024-03-04T09:55:51.906964",
     "exception": false,
     "start_time": "2024-03-04T09:55:51.879520",
     "status": "completed"
    },
    "tags": []
   },
   "outputs": [],
   "source": [
    "# result = pd.DataFrame({\n",
    "#     \"WEEK_NUM\": train_df[\"WEEK_NUM\"],\n",
    "#     \"true\": train_df[\"target\"],\n",
    "#     \"predicted\": Y_train_predicted[:, 1],\n",
    "# })\n",
    "\n",
    "# train_result = gini_stability(result)\n",
    "# print(\"train_score: {}\".format(train_result))\n",
    "\n",
    "# if MODE == Mode.Train:\n",
    "#     result = pd.DataFrame({\n",
    "#         \"WEEK_NUM\": test_df[\"WEEK_NUM\"],\n",
    "#         \"true\": test_df[\"target\"],\n",
    "#         \"predicted\": Y_test_predicted[:, 1],\n",
    "#     })\n",
    "\n",
    "#     test_result = gini_stability(result)\n",
    "#     print(\"test_score: {}\".format(test_result))"
   ]
  },
  {
   "cell_type": "code",
   "execution_count": 33,
   "id": "09bfdc9c",
   "metadata": {
    "execution": {
     "iopub.execute_input": "2024-03-04T09:55:51.943957Z",
     "iopub.status.busy": "2024-03-04T09:55:51.943483Z",
     "iopub.status.idle": "2024-03-04T09:55:51.948608Z",
     "shell.execute_reply": "2024-03-04T09:55:51.947445Z"
    },
    "papermill": {
     "duration": 0.026728,
     "end_time": "2024-03-04T09:55:51.951063",
     "exception": false,
     "start_time": "2024-03-04T09:55:51.924335",
     "status": "completed"
    },
    "tags": []
   },
   "outputs": [],
   "source": [
    "# Version 1, test_score: 0.583319926590042, public score 0.48\n",
    "# 100 iters\n",
    "\n",
    "# Version 2, test_score: 0.6062624701357268, public score 0.517\n",
    "# 300 iters\n",
    "\n",
    "# Version 3, test_score: ?, public score 0.545\n",
    "# 2000 iters\n",
    "\n",
    "# Version 4, test_score: ?, public score ?\n",
    "# ? iters, Improve aggregate functions for depth_1, depth_2\n"
   ]
  },
  {
   "cell_type": "markdown",
   "id": "f9200e86",
   "metadata": {
    "papermill": {
     "duration": 0.016694,
     "end_time": "2024-03-04T09:55:51.985110",
     "exception": false,
     "start_time": "2024-03-04T09:55:51.968416",
     "status": "completed"
    },
    "tags": []
   },
   "source": [
    "# Submition"
   ]
  },
  {
   "cell_type": "code",
   "execution_count": 34,
   "id": "9ec2b2be",
   "metadata": {
    "execution": {
     "iopub.execute_input": "2024-03-04T09:55:52.021443Z",
     "iopub.status.busy": "2024-03-04T09:55:52.020976Z",
     "iopub.status.idle": "2024-03-04T09:55:52.026049Z",
     "shell.execute_reply": "2024-03-04T09:55:52.024899Z"
    },
    "papermill": {
     "duration": 0.026272,
     "end_time": "2024-03-04T09:55:52.028417",
     "exception": false,
     "start_time": "2024-03-04T09:55:52.002145",
     "status": "completed"
    },
    "tags": []
   },
   "outputs": [],
   "source": [
    "# case_id = test_df[\"case_id\"]\n",
    "# X = test_df[features].to_pandas()\n",
    "\n",
    "# Y = model.predict_proba(X)\n",
    "\n",
    "# submission = pd.DataFrame({\n",
    "#     \"case_id\": case_id.to_numpy(),\n",
    "#     \"score\": Y[:, 1]\n",
    "# }).set_index('case_id')\n",
    "# submission.to_csv(\"./submission.csv\")"
   ]
  },
  {
   "cell_type": "code",
   "execution_count": null,
   "id": "b3c411b6",
   "metadata": {
    "papermill": {
     "duration": 0.016913,
     "end_time": "2024-03-04T09:55:52.062755",
     "exception": false,
     "start_time": "2024-03-04T09:55:52.045842",
     "status": "completed"
    },
    "tags": []
   },
   "outputs": [],
   "source": []
  },
  {
   "cell_type": "code",
   "execution_count": null,
   "id": "0990b0c5",
   "metadata": {
    "papermill": {
     "duration": 0.017686,
     "end_time": "2024-03-04T09:55:52.098326",
     "exception": false,
     "start_time": "2024-03-04T09:55:52.080640",
     "status": "completed"
    },
    "tags": []
   },
   "outputs": [],
   "source": []
  },
  {
   "cell_type": "code",
   "execution_count": null,
   "id": "495b5ff7",
   "metadata": {
    "papermill": {
     "duration": 0.017036,
     "end_time": "2024-03-04T09:55:52.133585",
     "exception": false,
     "start_time": "2024-03-04T09:55:52.116549",
     "status": "completed"
    },
    "tags": []
   },
   "outputs": [],
   "source": []
  }
 ],
 "metadata": {
  "kaggle": {
   "accelerator": "none",
   "dataSources": [
    {
     "databundleVersionId": 7602123,
     "sourceId": 50160,
     "sourceType": "competition"
    },
    {
     "datasetId": 4496896,
     "sourceId": 7757302,
     "sourceType": "datasetVersion"
    }
   ],
   "dockerImageVersionId": 30635,
   "isGpuEnabled": false,
   "isInternetEnabled": false,
   "language": "python",
   "sourceType": "notebook"
  },
  "kernelspec": {
   "display_name": "Python 3",
   "language": "python",
   "name": "python3"
  },
  "language_info": {
   "codemirror_mode": {
    "name": "ipython",
    "version": 3
   },
   "file_extension": ".py",
   "mimetype": "text/x-python",
   "name": "python",
   "nbconvert_exporter": "python",
   "pygments_lexer": "ipython3",
   "version": "3.10.12"
  },
  "papermill": {
   "default_parameters": {},
   "duration": 251.294978,
   "end_time": "2024-03-04T09:55:53.577190",
   "environment_variables": {},
   "exception": null,
   "input_path": "__notebook__.ipynb",
   "output_path": "__notebook__.ipynb",
   "parameters": {},
   "start_time": "2024-03-04T09:51:42.282212",
   "version": "2.4.0"
  }
 },
 "nbformat": 4,
 "nbformat_minor": 5
}
