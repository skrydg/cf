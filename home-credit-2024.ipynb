{
 "cells": [
  {
   "cell_type": "markdown",
   "id": "aee889e6",
   "metadata": {
    "papermill": {
     "duration": 0.013066,
     "end_time": "2024-03-12T09:19:29.434405",
     "exception": false,
     "start_time": "2024-03-12T09:19:29.421339",
     "status": "completed"
    },
    "tags": []
   },
   "source": [
    "# Install packages"
   ]
  },
  {
   "cell_type": "code",
   "execution_count": 1,
   "id": "f13ab5a7",
   "metadata": {
    "execution": {
     "iopub.execute_input": "2024-03-12T09:19:29.462006Z",
     "iopub.status.busy": "2024-03-12T09:19:29.461348Z",
     "iopub.status.idle": "2024-03-12T09:20:03.160434Z",
     "shell.execute_reply": "2024-03-12T09:20:03.158338Z"
    },
    "papermill": {
     "duration": 33.7161,
     "end_time": "2024-03-12T09:20:03.163593",
     "exception": false,
     "start_time": "2024-03-12T09:19:29.447493",
     "status": "completed"
    },
    "tags": []
   },
   "outputs": [
    {
     "name": "stdout",
     "output_type": "stream",
     "text": [
      "Processing /kaggle/input/kaggle-home-credit-risk-model-stability-lib/kaggle_home_credit_risk_model_stability-0.3-py3-none-any.whl\r\n",
      "Installing collected packages: kaggle-home-credit-risk-model-stability\r\n",
      "Successfully installed kaggle-home-credit-risk-model-stability-0.3\r\n"
     ]
    }
   ],
   "source": [
    "!pip install /kaggle/input/kaggle-home-credit-risk-model-stability-lib/kaggle_home_credit_risk_model_stability-0.3-py3-none-any.whl --force-reinstall"
   ]
  },
  {
   "cell_type": "markdown",
   "id": "01d5599b",
   "metadata": {
    "papermill": {
     "duration": 0.01222,
     "end_time": "2024-03-12T09:20:03.189380",
     "exception": false,
     "start_time": "2024-03-12T09:20:03.177160",
     "status": "completed"
    },
    "tags": []
   },
   "source": [
    "# Import packages"
   ]
  },
  {
   "cell_type": "code",
   "execution_count": 2,
   "id": "7f9ea718",
   "metadata": {
    "execution": {
     "iopub.execute_input": "2024-03-12T09:20:03.216737Z",
     "iopub.status.busy": "2024-03-12T09:20:03.216243Z",
     "iopub.status.idle": "2024-03-12T09:20:08.445550Z",
     "shell.execute_reply": "2024-03-12T09:20:08.443961Z"
    },
    "papermill": {
     "duration": 5.247596,
     "end_time": "2024-03-12T09:20:08.449020",
     "exception": false,
     "start_time": "2024-03-12T09:20:03.201424",
     "status": "completed"
    },
    "tags": []
   },
   "outputs": [],
   "source": [
    "import polars as pl\n",
    "import gc\n",
    "import time\n",
    "import numpy as np\n",
    "import pandas as pd\n",
    "import lightgbm as lgb\n",
    "import seaborn as sns\n",
    "import matplotlib.pyplot as plt\n",
    "import copy\n",
    "import lightgbm as lgb\n",
    "import importlib\n",
    "\n",
    "import kaggle_home_credit_risk_model_stability.libs as hcr\n",
    "from kaggle_home_credit_risk_model_stability.libs.input.dataset import Dataset\n",
    "from kaggle_home_credit_risk_model_stability.libs.input.data_loader import DataLoader\n",
    "from kaggle_home_credit_risk_model_stability.libs.preprocessor.preprocessor import Preprocessor\n",
    "from kaggle_home_credit_risk_model_stability.libs.preprocessor.steps import *\n",
    "from kaggle_home_credit_risk_model_stability.libs.preprocessor.columns_info import ColumnsInfo\n",
    "from kaggle_home_credit_risk_model_stability.libs.feature_description.feature_description import FreatureDescriptionGetter\n",
    "\n",
    "from collections import defaultdict\n",
    "from glob import glob\n",
    "from pathlib import Path\n",
    "from sklearn.model_selection import train_test_split\n",
    "from sklearn.metrics import roc_auc_score\n",
    "from sklearn.model_selection import StratifiedGroupKFold\n",
    "from sklearn.base import BaseEstimator, RegressorMixin\n",
    "from catboost import CatBoostClassifier\n",
    "from enum import Enum"
   ]
  },
  {
   "cell_type": "code",
   "execution_count": 3,
   "id": "0ab04935",
   "metadata": {
    "execution": {
     "iopub.execute_input": "2024-03-12T09:20:08.478389Z",
     "iopub.status.busy": "2024-03-12T09:20:08.477182Z",
     "iopub.status.idle": "2024-03-12T09:20:08.486862Z",
     "shell.execute_reply": "2024-03-12T09:20:08.485512Z"
    },
    "papermill": {
     "duration": 0.027002,
     "end_time": "2024-03-12T09:20:08.489518",
     "exception": false,
     "start_time": "2024-03-12T09:20:08.462516",
     "status": "completed"
    },
    "tags": []
   },
   "outputs": [],
   "source": [
    "data_loader = DataLoader()\n",
    "preprocessor = Preprocessor({\n",
    "    \"set_column_info_step\": SetColumnsInfoStep(),\n",
    "    \"set_types\": SetTypesStep(),\n",
    "    \"process_categorical\": ProcessCategoricalStep(),\n",
    "    \"process_person_table\": ProcessPersonTableStep(),\n",
    "    \"one_hot_encoding_for_depth1\": OneHotEncodingForDepth1Step(),\n",
    "    \"pairwise_diff_raw_dates\": PairwiseDateDiffStep(),\n",
    "    \"aggregate_depth_table\": AggregateDepthTableStep(),\n",
    "    \"drop_equal_columns\": DropEqualColumnsStep(),\n",
    "    \"drop_almost_null_features_respect_to_target\": DropAlmostNullFeaturesWithRespectToTargetStep(),\n",
    "    \"join_table\": JoinTablesStep(),\n",
    "    \"generate_age_feature\": GenerateAgeFeatureStep(),\n",
    "    \"fill_nulls_in_categorical_features\": FillNullsInCategoricalFeaturesStep(),\n",
    "    **{\n",
    "        f\"create_money_feature_fraction_{base_column}\": CreateMoneyFeatureFractionStep(base_column)\n",
    "        for base_column in [\"credamount_770A\", \"maininc_215A\", \"mainoccupationinc_384A\", \"mean_amount_416A\"]\n",
    "    },\n",
    "    \"generate_mismatch_features\": GenerateMismatchFeaturesStep(),\n",
    "    \"generate_target_distribution_based_on_categorical_features_step\": GenerateTargetDistributionBasedOnCategoricalStep(),\n",
    "    \"drop_single_value_features\": DropSingleValueFeaturesStep(),\n",
    "    \"drop_variable_enum_features\": DropVariableEnumFeaturesStep(),\n",
    "    \"reduce_memory_usage\": ReduceMemoryUsageStep()\n",
    "})\n",
    "columns_info = ColumnsInfo()"
   ]
  },
  {
   "cell_type": "code",
   "execution_count": 4,
   "id": "57ef2aab",
   "metadata": {
    "execution": {
     "iopub.execute_input": "2024-03-12T09:20:08.517148Z",
     "iopub.status.busy": "2024-03-12T09:20:08.516644Z",
     "iopub.status.idle": "2024-03-12T09:20:08.522687Z",
     "shell.execute_reply": "2024-03-12T09:20:08.520729Z"
    },
    "papermill": {
     "duration": 0.023676,
     "end_time": "2024-03-12T09:20:08.525351",
     "exception": false,
     "start_time": "2024-03-12T09:20:08.501675",
     "status": "completed"
    },
    "tags": []
   },
   "outputs": [],
   "source": [
    "# train_dataset = data_loader.load_train_dataset()\n",
    "# case_id_set = train_dataset.get_base().filter(train_dataset.get_base()[\"WEEK_NUM\"] < 3)[\"case_id\"]\n",
    "# train_dataset = train_dataset.filter(lambda table: table.filter(pl.col(\"case_id\").is_in(case_id_set)))"
   ]
  },
  {
   "cell_type": "code",
   "execution_count": 5,
   "id": "d08a6380",
   "metadata": {
    "execution": {
     "iopub.execute_input": "2024-03-12T09:20:08.555060Z",
     "iopub.status.busy": "2024-03-12T09:20:08.554638Z",
     "iopub.status.idle": "2024-03-12T09:37:15.801839Z",
     "shell.execute_reply": "2024-03-12T09:37:15.800318Z"
    },
    "papermill": {
     "duration": 1027.266517,
     "end_time": "2024-03-12T09:37:15.804535",
     "exception": false,
     "start_time": "2024-03-12T09:20:08.538018",
     "status": "completed"
    },
    "tags": []
   },
   "outputs": [
    {
     "name": "stdout",
     "output_type": "stream",
     "text": [
      "Train dataset week range: 0-91\n",
      "Dataset hash='77e5faae5a347c4193f5ba7f0f940b43b788bdcba4b228235edd76ebf608657d'\n",
      "Step: set_column_info_step, execution_time: 0.11468315124511719\n",
      "Dataset hash='77e5faae5a347c4193f5ba7f0f940b43b788bdcba4b228235edd76ebf608657d' after step: set_column_info_step\n",
      "Step: set_types, execution_time: 12.177688598632812\n",
      "Dataset hash='043e1bbfe077dca49cea4cae0647d57fbdd3fe0688670f78d723a8f7a08bc73b' after step: set_types\n",
      "Step: process_categorical, execution_time: 27.282399654388428\n",
      "Dataset hash='80067e4a84c83620fb1a3ff8889dfca74ed15a41c8eab9487d3a5e6cbfde65fc' after step: process_categorical\n",
      "Step: process_person_table, execution_time: 0.40278196334838867\n",
      "Dataset hash='7e5c747397c09fe2a852a4a2c16302f1f2b306741a20f8db9f653c827a96256b' after step: process_person_table\n",
      "Create 250 new columns as one hot encoding\n",
      "Step: one_hot_encoding_for_depth1, execution_time: 24.528053522109985\n",
      "Dataset hash='496a261b39adbb84ef328f77bec16bbfb67fc21165a16d913715774635d0abc4' after step: one_hot_encoding_for_depth1\n",
      "Create 172 new columns as pairwise dates diff\n",
      "Step: pairwise_diff_raw_dates, execution_time: 1.3739140033721924\n",
      "Dataset hash='4af729217cdd9831c54312becb53af4a0b2547cf480eb7ac53a5a2e7752c2b74' after step: pairwise_diff_raw_dates\n",
      "Step: aggregate_depth_table, execution_time: 57.034135818481445\n",
      "Dataset hash='98efb50d22e40a9a960d0072b843d1367ea21a2bd57845531ce2a57ed85c7d8d' after step: aggregate_depth_table\n",
      "Drop 304 columns as duplicates\n",
      "Step: drop_equal_columns, execution_time: 49.790385484695435\n",
      "Dataset hash='6953d2bd58ca36fae35dc22cd783e3fbdc243cb8e76c7ff170039062d814b17e' after step: drop_equal_columns\n",
      "Drop 538 columns as almost null\n",
      "Step: drop_almost_null_features_respect_to_target, execution_time: 533.3622884750366\n",
      "Dataset hash='a0808150490796f2d3d50810dd9e79185e8eae46782ed3698bc817cdbb89bdba' after step: drop_almost_null_features_respect_to_target\n",
      "Step: join_table, execution_time: 9.547847747802734\n",
      "Dataset hash='3732f8ce108ab5fa80052c16014635e591522095e82dffc5aa813b527974ae44' after step: join_table\n",
      "Step: generate_age_feature, execution_time: 0.20793938636779785\n",
      "Dataset hash='5bad661c173028eed6160e8975c6f784416d413356e2ee61e304ecf4d5cffd7d' after step: generate_age_feature\n",
      "Step: fill_nulls_in_categorical_features, execution_time: 16.97375464439392\n",
      "Dataset hash='36c37869cdfcab4878efcacb051c91ce37723aa0df8be02b398d5788690d6c79' after step: fill_nulls_in_categorical_features\n",
      "Create 123 new columns as money feature fraction with base 'credamount_770A'\n",
      "Step: create_money_feature_fraction_credamount_770A, execution_time: 5.591753005981445\n",
      "Dataset hash='37dc7d9e8413b2511ecfc921120747d4d3d8dc40dacb3ee483e8851fe75a74f4' after step: create_money_feature_fraction_credamount_770A\n",
      "Create 123 new columns as money feature fraction with base 'maininc_215A'\n",
      "Step: create_money_feature_fraction_maininc_215A, execution_time: 8.354881525039673\n",
      "Dataset hash='1e8da25b6269cf02421786f84d6b77984851d5a367e8196720b9b67a7903f599' after step: create_money_feature_fraction_maininc_215A\n",
      "Create 123 new columns as money feature fraction with base 'mainoccupationinc_384A'\n",
      "Step: create_money_feature_fraction_mainoccupationinc_384A, execution_time: 5.698896884918213\n",
      "Dataset hash='3a720dca8c60cbf58a8fcea31dbb52a97d26b763a0a3339d5556d255db98f87a' after step: create_money_feature_fraction_mainoccupationinc_384A\n",
      "Create 123 new columns as money feature fraction with base 'mean_amount_416A'\n",
      "Step: create_money_feature_fraction_mean_amount_416A, execution_time: 8.47030234336853\n",
      "Dataset hash='92426b74e55678bc2484f97463470e23eed2afd1f47c51ae77e4906273134f55' after step: create_money_feature_fraction_mean_amount_416A\n",
      "Create 60 new columns as feature mismatch\n",
      "Step: generate_mismatch_features, execution_time: 50.76872754096985\n",
      "Dataset hash='95cecc1d1bffcc6b6409375f734afeb9aca5a55b48a9bf0ddc879191b04eb699' after step: generate_mismatch_features\n",
      "Create 210 as target distribution by categorical feature\n",
      "Step: generate_target_distribution_based_on_categorical_features_step, execution_time: 33.092164516448975\n",
      "Dataset hash='e1b4af20ffc4314944a10619aa3960280887aacd9bd7978b09e5da0d16a4b7c5' after step: generate_target_distribution_based_on_categorical_features_step\n",
      "Drop 19 columns as single value\n",
      "Step: drop_single_value_features, execution_time: 59.29754304885864\n",
      "Dataset hash='ba73b9841293278f9072d4dc12e6008322cca980cba81c2b9dca10bfb8947ada' after step: drop_single_value_features\n",
      "Drop 18 columns as variable enum value\n",
      "Step: drop_variable_enum_features, execution_time: 1.7120654582977295\n",
      "Dataset hash='07f10e245499d7394677887da042f285fdd4cce3b11daf55f1165958157edcd5' after step: drop_variable_enum_features\n",
      "Step: reduce_memory_usage, execution_time: 22.01215100288391\n",
      "Dataset hash='1edddc30c606ec2395a965ba3eb1a3cb75444a6811f877ffd9ac4b48b5fb61f3' after step: reduce_memory_usage\n"
     ]
    },
    {
     "data": {
      "text/plain": [
       "0"
      ]
     },
     "execution_count": 5,
     "metadata": {},
     "output_type": "execute_result"
    }
   ],
   "source": [
    "train_dataset = data_loader.load_train_dataset()\n",
    "print(\"Train dataset week range: {}-{}\".format(train_dataset.get_base()[\"WEEK_NUM\"].min(), train_dataset.get_base()[\"WEEK_NUM\"].max()))\n",
    "gc.collect()\n",
    "train_df, columns_info = preprocessor.process_train_dataset(train_dataset, columns_info)\n",
    "del train_dataset\n",
    "\n",
    "gc.collect()\n"
   ]
  },
  {
   "cell_type": "code",
   "execution_count": 6,
   "id": "28077cbd",
   "metadata": {
    "execution": {
     "iopub.execute_input": "2024-03-12T09:37:15.838180Z",
     "iopub.status.busy": "2024-03-12T09:37:15.837734Z",
     "iopub.status.idle": "2024-03-12T09:37:21.489620Z",
     "shell.execute_reply": "2024-03-12T09:37:21.488183Z"
    },
    "papermill": {
     "duration": 5.67186,
     "end_time": "2024-03-12T09:37:21.492491",
     "exception": false,
     "start_time": "2024-03-12T09:37:15.820631",
     "status": "completed"
    },
    "tags": []
   },
   "outputs": [],
   "source": [
    "for column in train_df.columns:\n",
    "    if train_df[column].dtype != pl.Enum:\n",
    "        x = train_df[column].is_infinite().sum() + train_df[column].is_nan().sum()\n",
    "        assert(x == 0)"
   ]
  },
  {
   "cell_type": "code",
   "execution_count": 7,
   "id": "21546809",
   "metadata": {
    "execution": {
     "iopub.execute_input": "2024-03-12T09:37:21.527956Z",
     "iopub.status.busy": "2024-03-12T09:37:21.527519Z",
     "iopub.status.idle": "2024-03-12T09:38:19.770817Z",
     "shell.execute_reply": "2024-03-12T09:38:19.768778Z"
    },
    "papermill": {
     "duration": 58.281909,
     "end_time": "2024-03-12T09:38:19.791805",
     "exception": false,
     "start_time": "2024-03-12T09:37:21.509896",
     "status": "completed"
    },
    "tags": []
   },
   "outputs": [
    {
     "name": "stdout",
     "output_type": "stream",
     "text": [
      "8763.011041641235\n",
      "shape: (1_526_659, 1_703)\n",
      "┌─────────┬────────────┬────────┬──────────┬───┬────────────┬────────────┬────────────┬────────────┐\n",
      "│ case_id ┆ date_decis ┆ MONTH  ┆ WEEK_NUM ┆ … ┆ last_type_ ┆ last_type_ ┆ age_bucket ┆ age_bucket │\n",
      "│ ---     ┆ ion        ┆ ---    ┆ ---      ┆   ┆ 25L_target ┆ 25L_value_ ┆ _target_di ┆ _value_per │\n",
      "│ i32     ┆ ---        ┆ i32    ┆ i8       ┆   ┆ _distribut ┆ persent    ┆ stribution ┆ sent       │\n",
      "│         ┆ i16        ┆        ┆          ┆   ┆ io…        ┆ ---        ┆ ---        ┆ ---        │\n",
      "│         ┆            ┆        ┆          ┆   ┆ ---        ┆ f32        ┆ f32        ┆ f32        │\n",
      "│         ┆            ┆        ┆          ┆   ┆ f32        ┆            ┆            ┆            │\n",
      "╞═════════╪════════════╪════════╪══════════╪═══╪════════════╪════════════╪════════════╪════════════╡\n",
      "│ 0       ┆ 17899      ┆ 201901 ┆ 0        ┆ … ┆ 0.033826   ┆ 0.424935   ┆ 0.0344     ┆ 0.255728   │\n",
      "│ 1       ┆ 17899      ┆ 201901 ┆ 0        ┆ … ┆ 0.033826   ┆ 0.424935   ┆ 0.017717   ┆ 0.154987   │\n",
      "│ 2       ┆ 17900      ┆ 201901 ┆ 0        ┆ … ┆ 0.033826   ┆ 0.424935   ┆ 0.030632   ┆ 0.216253   │\n",
      "│ 3       ┆ 17899      ┆ 201901 ┆ 0        ┆ … ┆ 0.033826   ┆ 0.424935   ┆ 0.048363   ┆ 0.176153   │\n",
      "│ …       ┆ …          ┆ …      ┆ …        ┆ … ┆ …          ┆ …          ┆ …          ┆ …          │\n",
      "│ 2703451 ┆ 18540      ┆ 202010 ┆ 91       ┆ … ┆ 0.020385   ┆ 0.02545    ┆ 0.017717   ┆ 0.154987   │\n",
      "│ 2703452 ┆ 18540      ┆ 202010 ┆ 91       ┆ … ┆ 0.03012    ┆ 0.507943   ┆ 0.030632   ┆ 0.216253   │\n",
      "│ 2703453 ┆ 18540      ┆ 202010 ┆ 91       ┆ … ┆ 0.020385   ┆ 0.02545    ┆ 0.020837   ┆ 0.033448   │\n",
      "│ 2703454 ┆ 18540      ┆ 202010 ┆ 91       ┆ … ┆ 0.03012    ┆ 0.507943   ┆ 0.020837   ┆ 0.033448   │\n",
      "└─────────┴────────────┴────────┴──────────┴───┴────────────┴────────────┴────────────┴────────────┘\n"
     ]
    },
    {
     "data": {
      "text/plain": [
       "0"
      ]
     },
     "execution_count": 7,
     "metadata": {},
     "output_type": "execute_result"
    }
   ],
   "source": [
    "train_df.write_parquet(\"/kaggle/working/train_df.parquet\")\n",
    "print(train_df.estimated_size() / 1024 / 1024)\n",
    "print(train_df)\n",
    "\n",
    "del train_df\n",
    "gc.collect()"
   ]
  },
  {
   "cell_type": "code",
   "execution_count": 8,
   "id": "8ca0d6bf",
   "metadata": {
    "execution": {
     "iopub.execute_input": "2024-03-12T09:38:19.825991Z",
     "iopub.status.busy": "2024-03-12T09:38:19.825565Z",
     "iopub.status.idle": "2024-03-12T09:38:37.252237Z",
     "shell.execute_reply": "2024-03-12T09:38:37.250975Z"
    },
    "papermill": {
     "duration": 17.446856,
     "end_time": "2024-03-12T09:38:37.254712",
     "exception": false,
     "start_time": "2024-03-12T09:38:19.807856",
     "status": "completed"
    },
    "tags": []
   },
   "outputs": [
    {
     "name": "stdout",
     "output_type": "stream",
     "text": [
      "Test dataset week range: 100-100\n",
      "Dataset hash='f5e9385b688fb0d3fa538479059776d6899587a709ee18a392f2a0b3e9c5423e'\n",
      "Step: set_column_info_step, execution_time: 0.15975594520568848\n",
      "Dataset hash='f5e9385b688fb0d3fa538479059776d6899587a709ee18a392f2a0b3e9c5423e' after step: set_column_info_step\n",
      "Step: set_types, execution_time: 0.20262479782104492\n",
      "Dataset hash='ca9fcd073526fcabcfdeef36e3530430486a2cfb7014859712e6ce3ca24db5f1' after step: set_types\n",
      "Step: process_categorical, execution_time: 0.4828305244445801\n",
      "Dataset hash='6c8da1bad079a54d6a54692727c4f2ef22a3c38aaeb2fc6d60e9059805619143' after step: process_categorical\n",
      "Step: process_person_table, execution_time: 0.14604496955871582\n",
      "Dataset hash='0adc72d9ed19821f7f8c159e551cf510bc2e2ccc995d61b7068a12368b16d26c' after step: process_person_table\n",
      "Create 250 new columns as one hot encoding\n",
      "Step: one_hot_encoding_for_depth1, execution_time: 0.19221043586730957\n",
      "Dataset hash='66290c0724894f0545d4c72c923ce702c78791824ad9ec9263286de3ad43df75' after step: one_hot_encoding_for_depth1\n",
      "Create 172 new columns as pairwise dates diff\n",
      "Step: pairwise_diff_raw_dates, execution_time: 0.18173670768737793\n",
      "Dataset hash='32c73a5f99f28beb5968ab7d8db767509d651b9164868bfa40d0331102d39283' after step: pairwise_diff_raw_dates\n",
      "Step: aggregate_depth_table, execution_time: 0.5545957088470459\n",
      "Dataset hash='fb35c7ba42998a278d57c19f2615524dede4928b0878d8fdbe3545260eb8592b' after step: aggregate_depth_table\n",
      "Step: drop_equal_columns, execution_time: 0.15862703323364258\n",
      "Dataset hash='be6b16c8087a2db3a617360cc4eec39980e6a1022b4b77eac5a587cb680a6c1e' after step: drop_equal_columns\n",
      "Step: drop_almost_null_features_respect_to_target, execution_time: 0.16531085968017578\n",
      "Dataset hash='adacc2175750926fc4afbaf830ab2e6a792d7188be8f2a7517af9c5aba72a462' after step: drop_almost_null_features_respect_to_target\n",
      "Step: join_table, execution_time: 2.3532519340515137\n",
      "Dataset hash='6f383b8f06ffd32400e7c0796e6b4769b7d69305e08a08fe5fb9bd89ff9470d7' after step: join_table\n",
      "Step: generate_age_feature, execution_time: 0.1581103801727295\n",
      "Dataset hash='a59c8f1b2350897dda034cab586a8834cb4f53e9cb7e70ae87dfd0b345b43614' after step: generate_age_feature\n",
      "Step: fill_nulls_in_categorical_features, execution_time: 0.7506258487701416\n",
      "Dataset hash='91f931b4346778a5c3ec1cbcf60bf4b9f18e0988e0c72b7b6dd86833e24d04ba' after step: fill_nulls_in_categorical_features\n",
      "Create 123 new columns as money feature fraction with base 'credamount_770A'\n",
      "Step: create_money_feature_fraction_credamount_770A, execution_time: 0.23494315147399902\n",
      "Dataset hash='16efd453c3e0380cba0637e6cbde5d92fd9f5d355153daffe44cf22ce449c8f3' after step: create_money_feature_fraction_credamount_770A\n",
      "Create 123 new columns as money feature fraction with base 'maininc_215A'\n",
      "Step: create_money_feature_fraction_maininc_215A, execution_time: 0.2513105869293213\n",
      "Dataset hash='eee708410e262edc36f8a09e332ace5151f615f65bd80f0e8c5e191a89c35baa' after step: create_money_feature_fraction_maininc_215A\n",
      "Create 123 new columns as money feature fraction with base 'mainoccupationinc_384A'\n",
      "Step: create_money_feature_fraction_mainoccupationinc_384A, execution_time: 0.2565023899078369\n",
      "Dataset hash='733bcf04a646a5a22def64eb6f6a5c7b7b8838a657a652188d82668e5673d0c0' after step: create_money_feature_fraction_mainoccupationinc_384A\n",
      "Create 123 new columns as money feature fraction with base 'mean_amount_416A'\n",
      "Step: create_money_feature_fraction_mean_amount_416A, execution_time: 0.2638523578643799\n",
      "Dataset hash='435d8d5500d7fdf0ca08fd6d482d2d2084771ab1c960a434af17f00a000cb94a' after step: create_money_feature_fraction_mean_amount_416A\n",
      "Create 60 new columns as feature mismatch\n",
      "Step: generate_mismatch_features, execution_time: 0.18254947662353516\n",
      "Dataset hash='db3ca4ff30d600c8274792219dfad033032205c96eaff481a5a7d2f74b2e80b8' after step: generate_mismatch_features\n",
      "Create 210 as target distribution by categorical feature\n",
      "Step: generate_target_distribution_based_on_categorical_features_step, execution_time: 0.383364200592041\n",
      "Dataset hash='bb57e1058501093400786d5ee8795b7986dda30475e91c5dcd8d1dab181e4575' after step: generate_target_distribution_based_on_categorical_features_step\n",
      "Step: drop_single_value_features, execution_time: 0.1479167938232422\n",
      "Dataset hash='13c59d33b5bf6195e69c14024d74dd0cd75a36a70431641a890d8bef76b84ec5' after step: drop_single_value_features\n",
      "Step: drop_variable_enum_features, execution_time: 0.14591097831726074\n",
      "Dataset hash='748ccd07e51321f530a1b22793496f3e21c93a77b07a8338e380e94c2fe864dc' after step: drop_variable_enum_features\n",
      "Step: reduce_memory_usage, execution_time: 1.2124650478363037\n",
      "Dataset hash='f30d1a621e0f59a6db7ba01d8faebb165096b5488af5fb5c6da372cf42ced7c4' after step: reduce_memory_usage\n"
     ]
    },
    {
     "data": {
      "text/plain": [
       "0"
      ]
     },
     "execution_count": 8,
     "metadata": {},
     "output_type": "execute_result"
    }
   ],
   "source": [
    "test_dataset = data_loader.load_test_dataset()\n",
    "print(\"Test dataset week range: {}-{}\".format(test_dataset.get_base()[\"WEEK_NUM\"].min(), test_dataset.get_base()[\"WEEK_NUM\"].max()))\n",
    "gc.collect()\n",
    "test_df, columns_info = preprocessor.process_test_dataset(test_dataset, columns_info)\n",
    "del test_dataset\n",
    "\n",
    "gc.collect()"
   ]
  },
  {
   "cell_type": "code",
   "execution_count": 9,
   "id": "1394aace",
   "metadata": {
    "execution": {
     "iopub.execute_input": "2024-03-12T09:38:37.294608Z",
     "iopub.status.busy": "2024-03-12T09:38:37.293655Z",
     "iopub.status.idle": "2024-03-12T09:38:37.896742Z",
     "shell.execute_reply": "2024-03-12T09:38:37.895588Z"
    },
    "papermill": {
     "duration": 0.62528,
     "end_time": "2024-03-12T09:38:37.899188",
     "exception": false,
     "start_time": "2024-03-12T09:38:37.273908",
     "status": "completed"
    },
    "tags": []
   },
   "outputs": [
    {
     "name": "stdout",
     "output_type": "stream",
     "text": [
      "0.2993202209472656\n",
      "shape: (10, 1_702)\n",
      "┌─────────┬────────────┬────────┬──────────┬───┬────────────┬────────────┬────────────┬────────────┐\n",
      "│ case_id ┆ date_decis ┆ MONTH  ┆ WEEK_NUM ┆ … ┆ last_type_ ┆ last_type_ ┆ age_bucket ┆ age_bucket │\n",
      "│ ---     ┆ ion        ┆ ---    ┆ ---      ┆   ┆ 25L_target ┆ 25L_value_ ┆ _target_di ┆ _value_per │\n",
      "│ i32     ┆ ---        ┆ i32    ┆ i8       ┆   ┆ _distribut ┆ persent    ┆ stribution ┆ sent       │\n",
      "│         ┆ i16        ┆        ┆          ┆   ┆ io…        ┆ ---        ┆ ---        ┆ ---        │\n",
      "│         ┆            ┆        ┆          ┆   ┆ ---        ┆ f32        ┆ f32        ┆ f32        │\n",
      "│         ┆            ┆        ┆          ┆   ┆ f32        ┆            ┆            ┆            │\n",
      "╞═════════╪════════════╪════════╪══════════╪═══╪════════════╪════════════╪════════════╪════════════╡\n",
      "│ 57543   ┆ 18761      ┆ 202201 ┆ 100      ┆ … ┆ 0.033826   ┆ 0.424935   ┆ 0.030632   ┆ 0.216253   │\n",
      "│ 57549   ┆ 19009      ┆ 202201 ┆ 100      ┆ … ┆ 0.033826   ┆ 0.424935   ┆ 0.017717   ┆ 0.154987   │\n",
      "│ 57551   ┆ 18593      ┆ 202201 ┆ 100      ┆ … ┆ 0.03012    ┆ 0.507943   ┆ 0.0344     ┆ 0.255728   │\n",
      "│ 57552   ┆ 18593      ┆ 202201 ┆ 100      ┆ … ┆ 0.03012    ┆ 0.507943   ┆ 0.017717   ┆ 0.154987   │\n",
      "│ …       ┆ …          ┆ …      ┆ …        ┆ … ┆ …          ┆ …          ┆ …          ┆ …          │\n",
      "│ 57631   ┆ 19147      ┆ 202201 ┆ 100      ┆ … ┆ 0.03012    ┆ 0.507943   ┆ null       ┆ null       │\n",
      "│ 57632   ┆ 19028      ┆ 202201 ┆ 100      ┆ … ┆ 0.03012    ┆ 0.507943   ┆ null       ┆ null       │\n",
      "│ 57633   ┆ 19017      ┆ 202201 ┆ 100      ┆ … ┆ 0.03012    ┆ 0.507943   ┆ null       ┆ null       │\n",
      "│ 57634   ┆ 18654      ┆ 202201 ┆ 100      ┆ … ┆ 0.03012    ┆ 0.507943   ┆ null       ┆ null       │\n",
      "└─────────┴────────────┴────────┴──────────┴───┴────────────┴────────────┴────────────┴────────────┘\n"
     ]
    },
    {
     "data": {
      "text/plain": [
       "0"
      ]
     },
     "execution_count": 9,
     "metadata": {},
     "output_type": "execute_result"
    }
   ],
   "source": [
    "test_df.write_parquet(\"/kaggle/working/test_df.parquet\")\n",
    "print(test_df.estimated_size() / 1024 / 1024)\n",
    "print(test_df)\n",
    "\n",
    "del test_df\n",
    "gc.collect()"
   ]
  },
  {
   "cell_type": "markdown",
   "id": "4e5853cc",
   "metadata": {
    "_kg_hide-input": true,
    "papermill": {
     "duration": 0.017659,
     "end_time": "2024-03-12T09:38:37.936535",
     "exception": false,
     "start_time": "2024-03-12T09:38:37.918876",
     "status": "completed"
    },
    "tags": []
   },
   "source": [
    "# Data visualization"
   ]
  },
  {
   "cell_type": "code",
   "execution_count": null,
   "id": "45bf5ef5",
   "metadata": {
    "papermill": {
     "duration": 0.019889,
     "end_time": "2024-03-12T09:38:37.975795",
     "exception": false,
     "start_time": "2024-03-12T09:38:37.955906",
     "status": "completed"
    },
    "tags": []
   },
   "outputs": [],
   "source": []
  },
  {
   "cell_type": "code",
   "execution_count": 10,
   "id": "6105f87d",
   "metadata": {
    "execution": {
     "iopub.execute_input": "2024-03-12T09:38:38.017188Z",
     "iopub.status.busy": "2024-03-12T09:38:38.016535Z",
     "iopub.status.idle": "2024-03-12T09:38:38.021310Z",
     "shell.execute_reply": "2024-03-12T09:38:38.020403Z"
    },
    "papermill": {
     "duration": 0.029658,
     "end_time": "2024-03-12T09:38:38.023650",
     "exception": false,
     "start_time": "2024-03-12T09:38:37.993992",
     "status": "completed"
    },
    "tags": []
   },
   "outputs": [],
   "source": [
    "# train_dataset = data_loader.load_train_dataset()"
   ]
  },
  {
   "cell_type": "code",
   "execution_count": 11,
   "id": "6eeae2d4",
   "metadata": {
    "execution": {
     "iopub.execute_input": "2024-03-12T09:38:38.066080Z",
     "iopub.status.busy": "2024-03-12T09:38:38.065437Z",
     "iopub.status.idle": "2024-03-12T09:38:38.070656Z",
     "shell.execute_reply": "2024-03-12T09:38:38.069442Z"
    },
    "papermill": {
     "duration": 0.028809,
     "end_time": "2024-03-12T09:38:38.073087",
     "exception": false,
     "start_time": "2024-03-12T09:38:38.044278",
     "status": "completed"
    },
    "tags": []
   },
   "outputs": [],
   "source": [
    "# [column for column in train_df.columns if \"amtdebitincoming_4809443A\" in column]"
   ]
  },
  {
   "cell_type": "code",
   "execution_count": 12,
   "id": "2e375453",
   "metadata": {
    "execution": {
     "iopub.execute_input": "2024-03-12T09:38:38.113953Z",
     "iopub.status.busy": "2024-03-12T09:38:38.113295Z",
     "iopub.status.idle": "2024-03-12T09:38:38.119360Z",
     "shell.execute_reply": "2024-03-12T09:38:38.117833Z"
    },
    "papermill": {
     "duration": 0.030197,
     "end_time": "2024-03-12T09:38:38.122506",
     "exception": false,
     "start_time": "2024-03-12T09:38:38.092309",
     "status": "completed"
    },
    "tags": []
   },
   "outputs": [],
   "source": [
    "# train_dataset.get_base()[\"target\"].mean()"
   ]
  },
  {
   "cell_type": "code",
   "execution_count": 13,
   "id": "552000a3",
   "metadata": {
    "execution": {
     "iopub.execute_input": "2024-03-12T09:38:38.161307Z",
     "iopub.status.busy": "2024-03-12T09:38:38.160868Z",
     "iopub.status.idle": "2024-03-12T09:38:38.165571Z",
     "shell.execute_reply": "2024-03-12T09:38:38.164421Z"
    },
    "papermill": {
     "duration": 0.026531,
     "end_time": "2024-03-12T09:38:38.167800",
     "exception": false,
     "start_time": "2024-03-12T09:38:38.141269",
     "status": "completed"
    },
    "tags": []
   },
   "outputs": [],
   "source": [
    "# tables = {name: table for name, table in train_dataset.get_depth_tables(1)}"
   ]
  },
  {
   "cell_type": "code",
   "execution_count": 14,
   "id": "db64b496",
   "metadata": {
    "execution": {
     "iopub.execute_input": "2024-03-12T09:38:38.208658Z",
     "iopub.status.busy": "2024-03-12T09:38:38.207945Z",
     "iopub.status.idle": "2024-03-12T09:38:38.212826Z",
     "shell.execute_reply": "2024-03-12T09:38:38.211642Z"
    },
    "papermill": {
     "duration": 0.028208,
     "end_time": "2024-03-12T09:38:38.215457",
     "exception": false,
     "start_time": "2024-03-12T09:38:38.187249",
     "status": "completed"
    },
    "tags": []
   },
   "outputs": [],
   "source": [
    "# applprev_1 = tables[\"applprev_1\"]"
   ]
  },
  {
   "cell_type": "code",
   "execution_count": 15,
   "id": "021820b0",
   "metadata": {
    "execution": {
     "iopub.execute_input": "2024-03-12T09:38:38.256408Z",
     "iopub.status.busy": "2024-03-12T09:38:38.255965Z",
     "iopub.status.idle": "2024-03-12T09:38:38.260842Z",
     "shell.execute_reply": "2024-03-12T09:38:38.259690Z"
    },
    "papermill": {
     "duration": 0.027567,
     "end_time": "2024-03-12T09:38:38.263256",
     "exception": false,
     "start_time": "2024-03-12T09:38:38.235689",
     "status": "completed"
    },
    "tags": []
   },
   "outputs": [],
   "source": [
    "# joined = applprev_1[\"case_id\"].value_counts().join(train_dataset.get_base()[[\"case_id\", \"target\"]], on=\"case_id\").sort(\"count\")\n",
    "# joined.filter(pl.col(\"target\") == 1)"
   ]
  },
  {
   "cell_type": "code",
   "execution_count": 16,
   "id": "1e87f6c0",
   "metadata": {
    "execution": {
     "iopub.execute_input": "2024-03-12T09:38:38.304039Z",
     "iopub.status.busy": "2024-03-12T09:38:38.303622Z",
     "iopub.status.idle": "2024-03-12T09:38:38.308384Z",
     "shell.execute_reply": "2024-03-12T09:38:38.307188Z"
    },
    "papermill": {
     "duration": 0.027687,
     "end_time": "2024-03-12T09:38:38.310977",
     "exception": false,
     "start_time": "2024-03-12T09:38:38.283290",
     "status": "completed"
    },
    "tags": []
   },
   "outputs": [],
   "source": [
    "# base = train_dataset.get_base()"
   ]
  },
  {
   "cell_type": "code",
   "execution_count": 17,
   "id": "3066a567",
   "metadata": {
    "execution": {
     "iopub.execute_input": "2024-03-12T09:38:38.351162Z",
     "iopub.status.busy": "2024-03-12T09:38:38.350714Z",
     "iopub.status.idle": "2024-03-12T09:38:38.355618Z",
     "shell.execute_reply": "2024-03-12T09:38:38.354454Z"
    },
    "papermill": {
     "duration": 0.027662,
     "end_time": "2024-03-12T09:38:38.357964",
     "exception": false,
     "start_time": "2024-03-12T09:38:38.330302",
     "status": "completed"
    },
    "tags": []
   },
   "outputs": [],
   "source": [
    "# base.filter(pl.col(\"case_id\") == 2702490)"
   ]
  },
  {
   "cell_type": "code",
   "execution_count": 18,
   "id": "cb91e736",
   "metadata": {
    "execution": {
     "iopub.execute_input": "2024-03-12T09:38:38.399569Z",
     "iopub.status.busy": "2024-03-12T09:38:38.399107Z",
     "iopub.status.idle": "2024-03-12T09:38:38.403690Z",
     "shell.execute_reply": "2024-03-12T09:38:38.402543Z"
    },
    "papermill": {
     "duration": 0.028441,
     "end_time": "2024-03-12T09:38:38.405914",
     "exception": false,
     "start_time": "2024-03-12T09:38:38.377473",
     "status": "completed"
    },
    "tags": []
   },
   "outputs": [],
   "source": [
    "# applprev_1.filter(applprev_1[\"case_id\"] == 2702490).sort(\"num_group1\")\n",
    "#base.filter(pl.col(\"case_id\") == 176526)"
   ]
  },
  {
   "cell_type": "code",
   "execution_count": 19,
   "id": "88a2d024",
   "metadata": {
    "execution": {
     "iopub.execute_input": "2024-03-12T09:38:38.444408Z",
     "iopub.status.busy": "2024-03-12T09:38:38.444002Z",
     "iopub.status.idle": "2024-03-12T09:38:38.448806Z",
     "shell.execute_reply": "2024-03-12T09:38:38.447512Z"
    },
    "papermill": {
     "duration": 0.026812,
     "end_time": "2024-03-12T09:38:38.451170",
     "exception": false,
     "start_time": "2024-03-12T09:38:38.424358",
     "status": "completed"
    },
    "tags": []
   },
   "outputs": [],
   "source": [
    "# applprev_1.filter(applprev_1[\"case_id\"] == 2702490).sort(\"num_group1\")[[\"credamount_590A\", \"mainoccupationinc_437A\", \"rejectreason_755M\", \"rejectreasonclient_4145042M\"]]\n"
   ]
  },
  {
   "cell_type": "code",
   "execution_count": 20,
   "id": "f3ffc661",
   "metadata": {
    "execution": {
     "iopub.execute_input": "2024-03-12T09:38:38.490615Z",
     "iopub.status.busy": "2024-03-12T09:38:38.490216Z",
     "iopub.status.idle": "2024-03-12T09:38:38.495036Z",
     "shell.execute_reply": "2024-03-12T09:38:38.493794Z"
    },
    "papermill": {
     "duration": 0.028062,
     "end_time": "2024-03-12T09:38:38.497390",
     "exception": false,
     "start_time": "2024-03-12T09:38:38.469328",
     "status": "completed"
    },
    "tags": []
   },
   "outputs": [],
   "source": [
    "# applprev_1.filter(applprev_1[\"case_id\"] == 176526).sort(\"num_group1\")[[\"credamount_590A\", \"mainoccupationinc_437A\", \"rejectreason_755M\", \"rejectreasonclient_4145042M\"]]a"
   ]
  },
  {
   "cell_type": "code",
   "execution_count": 21,
   "id": "2688c619",
   "metadata": {
    "execution": {
     "iopub.execute_input": "2024-03-12T09:38:38.535777Z",
     "iopub.status.busy": "2024-03-12T09:38:38.535388Z",
     "iopub.status.idle": "2024-03-12T09:38:38.540187Z",
     "shell.execute_reply": "2024-03-12T09:38:38.538749Z"
    },
    "papermill": {
     "duration": 0.02692,
     "end_time": "2024-03-12T09:38:38.542747",
     "exception": false,
     "start_time": "2024-03-12T09:38:38.515827",
     "status": "completed"
    },
    "tags": []
   },
   "outputs": [],
   "source": [
    "# applprev_1.filter(applprev_1[\"case_id\"] == 176526).sort(\"num_group1\")"
   ]
  },
  {
   "cell_type": "code",
   "execution_count": 22,
   "id": "ec5b94a1",
   "metadata": {
    "execution": {
     "iopub.execute_input": "2024-03-12T09:38:38.582193Z",
     "iopub.status.busy": "2024-03-12T09:38:38.581580Z",
     "iopub.status.idle": "2024-03-12T09:38:38.586545Z",
     "shell.execute_reply": "2024-03-12T09:38:38.584900Z"
    },
    "papermill": {
     "duration": 0.027286,
     "end_time": "2024-03-12T09:38:38.588960",
     "exception": false,
     "start_time": "2024-03-12T09:38:38.561674",
     "status": "completed"
    },
    "tags": []
   },
   "outputs": [],
   "source": [
    "# FreatureDescriptionGetter().get(\"rejectreasonclient_4145042M\")"
   ]
  },
  {
   "cell_type": "code",
   "execution_count": 23,
   "id": "6421618f",
   "metadata": {
    "execution": {
     "iopub.execute_input": "2024-03-12T09:38:38.628837Z",
     "iopub.status.busy": "2024-03-12T09:38:38.628233Z",
     "iopub.status.idle": "2024-03-12T09:38:38.632906Z",
     "shell.execute_reply": "2024-03-12T09:38:38.632074Z"
    },
    "papermill": {
     "duration": 0.027609,
     "end_time": "2024-03-12T09:38:38.635044",
     "exception": false,
     "start_time": "2024-03-12T09:38:38.607435",
     "status": "completed"
    },
    "tags": []
   },
   "outputs": [],
   "source": [
    "# def bucket_mean_split(x, y, buckets=100):\n",
    "#     x_buckets = []\n",
    "#     y_buckets = []\n",
    "\n",
    "#     x = np.array(x)\n",
    "#     y = np.array(y)\n",
    "#     x_quantiles = [np.quantile(x, i / buckets) for i in range(0, buckets + 1)]\n",
    "#     for i in range(0, buckets):\n",
    "#         filter = (x >= x_quantiles[i]) & (x <= x_quantiles[i + 1])\n",
    "#         x_buckets.append(np.mean(x[filter]))\n",
    "#         y_buckets.append(np.mean(y[filter]))\n",
    "#     return x_buckets, y_buckets"
   ]
  },
  {
   "cell_type": "code",
   "execution_count": 24,
   "id": "3a8a1d70",
   "metadata": {
    "execution": {
     "iopub.execute_input": "2024-03-12T09:38:38.674149Z",
     "iopub.status.busy": "2024-03-12T09:38:38.673058Z",
     "iopub.status.idle": "2024-03-12T09:38:38.677762Z",
     "shell.execute_reply": "2024-03-12T09:38:38.676653Z"
    },
    "papermill": {
     "duration": 0.02771,
     "end_time": "2024-03-12T09:38:38.680689",
     "exception": false,
     "start_time": "2024-03-12T09:38:38.652979",
     "status": "completed"
    },
    "tags": []
   },
   "outputs": [],
   "source": [
    "# train[\"target\"].mean()"
   ]
  },
  {
   "cell_type": "code",
   "execution_count": 25,
   "id": "8b392f35",
   "metadata": {
    "execution": {
     "iopub.execute_input": "2024-03-12T09:38:38.720233Z",
     "iopub.status.busy": "2024-03-12T09:38:38.719101Z",
     "iopub.status.idle": "2024-03-12T09:38:38.724965Z",
     "shell.execute_reply": "2024-03-12T09:38:38.723459Z"
    },
    "papermill": {
     "duration": 0.027951,
     "end_time": "2024-03-12T09:38:38.727168",
     "exception": false,
     "start_time": "2024-03-12T09:38:38.699217",
     "status": "completed"
    },
    "tags": []
   },
   "outputs": [],
   "source": [
    "# print(\"Mean target={} where actualdpdtolerance_344P != 0\".format(train[\"target\"].filter(train[\"actualdpdtolerance_344P\"] != 0).mean()))\n",
    "# print(\"Mean target={} where actualdpdtolerance_344P == 0\".format(train[\"target\"].filter(train[\"actualdpdtolerance_344P\"] == 0).mean()))\n",
    "# print(\"Mean target={} where actualdpdtolerance_344P is null\".format(train[\"target\"].filter(train[\"actualdpdtolerance_344P\"].is_null()).mean()))"
   ]
  },
  {
   "cell_type": "code",
   "execution_count": 26,
   "id": "7316715b",
   "metadata": {
    "execution": {
     "iopub.execute_input": "2024-03-12T09:38:38.765582Z",
     "iopub.status.busy": "2024-03-12T09:38:38.765165Z",
     "iopub.status.idle": "2024-03-12T09:38:38.770029Z",
     "shell.execute_reply": "2024-03-12T09:38:38.768826Z"
    },
    "papermill": {
     "duration": 0.027628,
     "end_time": "2024-03-12T09:38:38.772657",
     "exception": false,
     "start_time": "2024-03-12T09:38:38.745029",
     "status": "completed"
    },
    "tags": []
   },
   "outputs": [],
   "source": [
    "# columns = [column for column in train.columns if (train[column].dtype == pl.Float64)]\n",
    "\n",
    "# figure, axis = plt.subplots(len(columns) // 5 + 1, 5, figsize=(15, 30))\n",
    "# for index, column in enumerate(columns):\n",
    "#     current_plot = axis[index // 5, index % 5]\n",
    "#     x = train[column]\n",
    "#     y = train[\"target\"]\n",
    "#     if (x.dtype == pl.String or x.dtype == pl.Boolean):\n",
    "#         continue\n",
    "#     filter = x.is_not_null()\n",
    "#     x = x.filter(filter)\n",
    "#     y = y.filter(filter)\n",
    "#     if (x.is_empty()):\n",
    "#         continue\n",
    "#     x_bucket, y_bucket = bucket_mean_split(x.to_numpy(), y.to_numpy(), buckets=100)\n",
    "#     current_plot.plot(x_bucket, y_bucket)\n",
    "#     current_plot.set_title(column)\n",
    "# plt.show()"
   ]
  },
  {
   "cell_type": "code",
   "execution_count": 27,
   "id": "2b2c4d0a",
   "metadata": {
    "execution": {
     "iopub.execute_input": "2024-03-12T09:38:38.811651Z",
     "iopub.status.busy": "2024-03-12T09:38:38.811244Z",
     "iopub.status.idle": "2024-03-12T09:38:38.816076Z",
     "shell.execute_reply": "2024-03-12T09:38:38.814884Z"
    },
    "papermill": {
     "duration": 0.027693,
     "end_time": "2024-03-12T09:38:38.818665",
     "exception": false,
     "start_time": "2024-03-12T09:38:38.790972",
     "status": "completed"
    },
    "tags": []
   },
   "outputs": [],
   "source": [
    "# features = train_df.columns\n",
    "# features.remove(\"WEEK_NUM\")\n",
    "# features.remove(\"case_id\")\n",
    "# features.remove(\"target\")"
   ]
  },
  {
   "cell_type": "code",
   "execution_count": 28,
   "id": "c9d9e7fa",
   "metadata": {
    "execution": {
     "iopub.execute_input": "2024-03-12T09:38:38.858877Z",
     "iopub.status.busy": "2024-03-12T09:38:38.858462Z",
     "iopub.status.idle": "2024-03-12T09:38:38.863627Z",
     "shell.execute_reply": "2024-03-12T09:38:38.862251Z"
    },
    "papermill": {
     "duration": 0.028293,
     "end_time": "2024-03-12T09:38:38.865875",
     "exception": false,
     "start_time": "2024-03-12T09:38:38.837582",
     "status": "completed"
    },
    "tags": []
   },
   "outputs": [],
   "source": [
    "# gc.collect()"
   ]
  },
  {
   "cell_type": "markdown",
   "id": "3ae72b1c",
   "metadata": {
    "papermill": {
     "duration": 0.018765,
     "end_time": "2024-03-12T09:38:38.903174",
     "exception": false,
     "start_time": "2024-03-12T09:38:38.884409",
     "status": "completed"
    },
    "tags": []
   },
   "source": [
    "### Feature Importance"
   ]
  },
  {
   "cell_type": "code",
   "execution_count": 29,
   "id": "74678b3d",
   "metadata": {
    "execution": {
     "iopub.execute_input": "2024-03-12T09:38:38.941630Z",
     "iopub.status.busy": "2024-03-12T09:38:38.941233Z",
     "iopub.status.idle": "2024-03-12T09:38:38.946400Z",
     "shell.execute_reply": "2024-03-12T09:38:38.945336Z"
    },
    "papermill": {
     "duration": 0.027045,
     "end_time": "2024-03-12T09:38:38.948709",
     "exception": false,
     "start_time": "2024-03-12T09:38:38.921664",
     "status": "completed"
    },
    "tags": []
   },
   "outputs": [],
   "source": [
    "# def train_rf(X, Y):    \n",
    "#     params = {\n",
    "#         \"boosting_type\": \"gbdt\",\n",
    "#         \"objective\": \"binary\",\n",
    "#         \"metric\": \"auc\",\n",
    "#         \"max_depth\": 8,\n",
    "#         \"max_bin\": 255,\n",
    "#         \"learning_rate\": 0.05,\n",
    "#         \"n_estimators\": 200,\n",
    "#         \"colsample_bytree\": 0.8, \n",
    "#         \"colsample_bynode\": 0.8,\n",
    "#         \"verbose\": -1,\n",
    "#         \"random_state\": 42,\n",
    "#         \"device\": \"gpu\",\n",
    "#     }\n",
    "    \n",
    "#     model = lgb.LGBMClassifier(**params)\n",
    "    \n",
    "#     model.fit(X.to_pandas(), Y.to_pandas())\n",
    "    \n",
    "#     # Get feature importances\n",
    "#     return pl.DataFrame({\n",
    "#         \"feature\": list(X.columns),\n",
    "#         \"feature_importance\": model.feature_importances_,\n",
    "#         \"train_score\": roc_auc_score(Y.to_pandas(), model.predict(X.to_pandas()))\n",
    "#     })"
   ]
  },
  {
   "cell_type": "code",
   "execution_count": 30,
   "id": "2c567a41",
   "metadata": {
    "execution": {
     "iopub.execute_input": "2024-03-12T09:38:38.990506Z",
     "iopub.status.busy": "2024-03-12T09:38:38.990134Z",
     "iopub.status.idle": "2024-03-12T09:38:38.996228Z",
     "shell.execute_reply": "2024-03-12T09:38:38.994689Z"
    },
    "papermill": {
     "duration": 0.030222,
     "end_time": "2024-03-12T09:38:38.998827",
     "exception": false,
     "start_time": "2024-03-12T09:38:38.968605",
     "status": "completed"
    },
    "tags": []
   },
   "outputs": [],
   "source": [
    "# def get_feature_importance(X, Y):\n",
    "#     COUNT_ITER = 50\n",
    "    \n",
    "#     dfs = []\n",
    "#     for i in range(COUNT_ITER):\n",
    "#         gc.collect()\n",
    "        \n",
    "#         start_time = time.time()\n",
    "#         shuffled_Y = Y.clone().sample(fraction=1.0, shuffle=True)\n",
    "#         current_df = train_rf(X, shuffled_Y)\n",
    "#         finish_time = time.time()\n",
    "#         print(f\"Finish iteration: {i + 1}/{COUNT_ITER}, time: {finish_time - start_time}\")\n",
    "#         current_df = current_df.with_columns(pl.lit(i).alias(\"iteration\"))\n",
    "#         dfs.append(current_df)\n",
    "        \n",
    "#     return pl.concat(dfs, rechunk=True), train_rf(X, Y)"
   ]
  },
  {
   "cell_type": "code",
   "execution_count": 31,
   "id": "df3ceb7b",
   "metadata": {
    "execution": {
     "iopub.execute_input": "2024-03-12T09:38:39.040066Z",
     "iopub.status.busy": "2024-03-12T09:38:39.039466Z",
     "iopub.status.idle": "2024-03-12T09:38:39.044721Z",
     "shell.execute_reply": "2024-03-12T09:38:39.043583Z"
    },
    "papermill": {
     "duration": 0.030334,
     "end_time": "2024-03-12T09:38:39.047652",
     "exception": false,
     "start_time": "2024-03-12T09:38:39.017318",
     "status": "completed"
    },
    "tags": []
   },
   "outputs": [],
   "source": [
    "# shuffled_feature_importance_df, feature_importance_df = get_feature_importance(train_df[features], train_df[\"target\"])\n",
    "# shuffled_feature_importance_df.write_csv(\"shuffled_feature_importance_df.csv\", separator=\",\")\n",
    "# feature_importance_df.write_csv(\"feature_importance_df.csv\", separator=\",\")"
   ]
  },
  {
   "cell_type": "code",
   "execution_count": 32,
   "id": "80470ced",
   "metadata": {
    "execution": {
     "iopub.execute_input": "2024-03-12T09:38:39.087914Z",
     "iopub.status.busy": "2024-03-12T09:38:39.087492Z",
     "iopub.status.idle": "2024-03-12T09:38:39.092597Z",
     "shell.execute_reply": "2024-03-12T09:38:39.091438Z"
    },
    "papermill": {
     "duration": 0.027635,
     "end_time": "2024-03-12T09:38:39.095316",
     "exception": false,
     "start_time": "2024-03-12T09:38:39.067681",
     "status": "completed"
    },
    "tags": []
   },
   "outputs": [],
   "source": [
    "# important_features = []\n",
    "# for column in feature_importance_df[\"feature\"]:\n",
    "#     shuffled_feature_importance = shuffled_feature_importance_df.filter(shuffled_feature_importance_df[\"feature\"] == column)[\"feature_importance\"].to_numpy()\n",
    "#     feature_importance = feature_importance_df.filter(feature_importance_df[\"feature\"] == column)[\"feature_importance\"][0]\n",
    "    \n",
    "#     if (np.percentile(shuffled_feature_importance, 90) <= feature_importance):\n",
    "#         important_features.append(column)\n",
    "# print(len(important_features), important_features)"
   ]
  },
  {
   "cell_type": "markdown",
   "id": "9940fefa",
   "metadata": {
    "papermill": {
     "duration": 0.018799,
     "end_time": "2024-03-12T09:38:39.133657",
     "exception": false,
     "start_time": "2024-03-12T09:38:39.114858",
     "status": "completed"
    },
    "tags": []
   },
   "source": [
    "# Training"
   ]
  },
  {
   "cell_type": "code",
   "execution_count": 33,
   "id": "fe6ae4db",
   "metadata": {
    "execution": {
     "iopub.execute_input": "2024-03-12T09:38:39.174989Z",
     "iopub.status.busy": "2024-03-12T09:38:39.174568Z",
     "iopub.status.idle": "2024-03-12T09:38:39.180185Z",
     "shell.execute_reply": "2024-03-12T09:38:39.179225Z"
    },
    "papermill": {
     "duration": 0.028017,
     "end_time": "2024-03-12T09:38:39.182703",
     "exception": false,
     "start_time": "2024-03-12T09:38:39.154686",
     "status": "completed"
    },
    "tags": []
   },
   "outputs": [],
   "source": [
    "# class VotingModel(BaseEstimator, RegressorMixin):\n",
    "#     def __init__(self, estimators):\n",
    "#         super().__init__()\n",
    "#         self.estimators = estimators\n",
    "        \n",
    "#     def fit(self, X, y=None):\n",
    "#         return self\n",
    "    \n",
    "#     def predict(self, X):\n",
    "#         y_preds = [estimator.predict(X) for estimator in self.estimators]\n",
    "#         return np.mean(y_preds, axis=0)\n",
    "    \n",
    "#     def predict_proba(self, X):\n",
    "#         y_preds = [estimator.predict_proba(X) for estimator in self.estimators]\n",
    "#         return np.mean(y_preds, axis=0)\n",
    "    \n",
    "#     def get_feature_importance(self):\n",
    "#         feature_importances = np.array([0 for feature in features])\n",
    "\n",
    "#         for model in self.estimators:\n",
    "#             feature_importances += model.feature_importances_\n",
    "\n",
    "#         return feature_importances"
   ]
  },
  {
   "cell_type": "code",
   "execution_count": 34,
   "id": "031c7c8f",
   "metadata": {
    "execution": {
     "iopub.execute_input": "2024-03-12T09:38:39.222334Z",
     "iopub.status.busy": "2024-03-12T09:38:39.221894Z",
     "iopub.status.idle": "2024-03-12T09:38:39.226879Z",
     "shell.execute_reply": "2024-03-12T09:38:39.225717Z"
    },
    "papermill": {
     "duration": 0.028039,
     "end_time": "2024-03-12T09:38:39.229401",
     "exception": false,
     "start_time": "2024-03-12T09:38:39.201362",
     "status": "completed"
    },
    "tags": []
   },
   "outputs": [],
   "source": [
    "# for column in features:\n",
    "#     if (train_dataset[column].dtype != pl.Categorical) and \\\n",
    "#         (train_dataset[column].dtype != pl.Float64) and \\\n",
    "#         (train_dataset[column].dtype != pl.Float64):\n",
    "#         print(column, train_dataset[column].dtype)"
   ]
  },
  {
   "cell_type": "code",
   "execution_count": 35,
   "id": "bdeef7e4",
   "metadata": {
    "execution": {
     "iopub.execute_input": "2024-03-12T09:38:39.270324Z",
     "iopub.status.busy": "2024-03-12T09:38:39.269865Z",
     "iopub.status.idle": "2024-03-12T09:38:39.274888Z",
     "shell.execute_reply": "2024-03-12T09:38:39.273715Z"
    },
    "papermill": {
     "duration": 0.027721,
     "end_time": "2024-03-12T09:38:39.277187",
     "exception": false,
     "start_time": "2024-03-12T09:38:39.249466",
     "status": "completed"
    },
    "tags": []
   },
   "outputs": [],
   "source": [
    "# def train_lgb_model(X_train, Y_train, X_test, Y_test):\n",
    "#     params = {\n",
    "#         \"boosting_type\": \"gbdt\",\n",
    "#         \"objective\": \"binary\",\n",
    "#         \"metric\": \"auc\",\n",
    "#         \"max_depth\": 8,\n",
    "#         \"max_bin\": 250,\n",
    "#         \"learning_rate\": 0.05,\n",
    "#         \"n_estimators\": 1000,\n",
    "#         \"colsample_bytree\": 0.8, \n",
    "#         \"colsample_bynode\": 0.8,\n",
    "#         \"verbose\": -1,\n",
    "#         \"random_state\": 42,\n",
    "#         \"device\": \"gpu\",\n",
    "#     }\n",
    "    \n",
    "#     model = lgb.LGBMClassifier(**params)\n",
    "    \n",
    "#     model.fit(\n",
    "#         X_train, Y_train,\n",
    "#         eval_set=[(X_test, Y_test)],\n",
    "#         callbacks=[lgb.log_evaluation(100), lgb.early_stopping(100)]\n",
    "#     )\n",
    "        \n",
    "#     return model"
   ]
  },
  {
   "cell_type": "code",
   "execution_count": 36,
   "id": "ebe4407f",
   "metadata": {
    "execution": {
     "iopub.execute_input": "2024-03-12T09:38:39.316919Z",
     "iopub.status.busy": "2024-03-12T09:38:39.316508Z",
     "iopub.status.idle": "2024-03-12T09:38:39.321074Z",
     "shell.execute_reply": "2024-03-12T09:38:39.319975Z"
    },
    "papermill": {
     "duration": 0.027414,
     "end_time": "2024-03-12T09:38:39.323361",
     "exception": false,
     "start_time": "2024-03-12T09:38:39.295947",
     "status": "completed"
    },
    "tags": []
   },
   "outputs": [],
   "source": [
    "# gc.collect()"
   ]
  },
  {
   "cell_type": "code",
   "execution_count": 37,
   "id": "b3568696",
   "metadata": {
    "execution": {
     "iopub.execute_input": "2024-03-12T09:38:39.361820Z",
     "iopub.status.busy": "2024-03-12T09:38:39.361407Z",
     "iopub.status.idle": "2024-03-12T09:38:39.367216Z",
     "shell.execute_reply": "2024-03-12T09:38:39.366032Z"
    },
    "papermill": {
     "duration": 0.027594,
     "end_time": "2024-03-12T09:38:39.369644",
     "exception": false,
     "start_time": "2024-03-12T09:38:39.342050",
     "status": "completed"
    },
    "tags": []
   },
   "outputs": [],
   "source": [
    "# weeks = train_df[\"WEEK_NUM\"]\n",
    "# cv = StratifiedGroupKFold(n_splits=5, shuffle=False)\n",
    "\n",
    "# fitted_models = []\n",
    "\n",
    "# oof_predicted = np.zeros(train_df.shape[0])\n",
    "\n",
    "# for idx_train, idx_test in cv.split(train_df[features], train_df[\"target\"], groups=weeks):        \n",
    "# #     X_train = train_df[features][idx_train].to_pandas()\n",
    "# #     Y_train = train_df[\"target\"][idx_train].to_pandas()\n",
    "    \n",
    "#     X_test = train_df[features][idx_test].to_pandas()\n",
    "#     Y_test = train_df[\"target\"][idx_test].to_pandas()\n",
    "    \n",
    "#     start = time.time()\n",
    "#     params = {\n",
    "#         \"boosting_type\": \"gbdt\",\n",
    "#         \"objective\": \"binary\",\n",
    "#         \"metric\": \"auc\",\n",
    "#         \"max_depth\": 8,\n",
    "#         \"max_bin\": 250,\n",
    "#         \"learning_rate\": 0.05,\n",
    "#         \"n_estimators\": 1000,\n",
    "#         \"colsample_bytree\": 0.8, \n",
    "#         \"colsample_bynode\": 0.8,\n",
    "#         \"verbose\": -1,\n",
    "#         \"random_state\": 42,\n",
    "#         \"device\": \"gpu\",\n",
    "#     }\n",
    "    \n",
    "#     model = lgb.LGBMClassifier(**params)\n",
    "    \n",
    "#     model.fit(\n",
    "#         train_df[features][idx_train].to_pandas(), train_df[\"target\"][idx_train].to_pandas(),\n",
    "#         eval_set=[(X_test, Y_test)],\n",
    "#         callbacks=[lgb.log_evaluation(100), lgb.early_stopping(100)]\n",
    "#     )\n",
    "        \n",
    "\n",
    "# #    model = train_lgb_model(X_train, Y_train, X_test, Y_test)\n",
    "#     finish = time.time()\n",
    "    \n",
    "#     print(\"fit time: {}\".format(finish - start))\n",
    "#     fitted_models.append(model)\n",
    "    \n",
    "#     test_pred = model.predict_proba(X_test)[:, 1]\n",
    "#     oof_predicted[idx_test] = test_pred\n",
    "#     gc.collect()\n",
    "\n",
    "# model = VotingModel(fitted_models)\n",
    "# gc.collect()"
   ]
  },
  {
   "cell_type": "code",
   "execution_count": 38,
   "id": "1ea02fa4",
   "metadata": {
    "execution": {
     "iopub.execute_input": "2024-03-12T09:38:39.409621Z",
     "iopub.status.busy": "2024-03-12T09:38:39.409031Z",
     "iopub.status.idle": "2024-03-12T09:38:39.413710Z",
     "shell.execute_reply": "2024-03-12T09:38:39.412618Z"
    },
    "papermill": {
     "duration": 0.027837,
     "end_time": "2024-03-12T09:38:39.416033",
     "exception": false,
     "start_time": "2024-03-12T09:38:39.388196",
     "status": "completed"
    },
    "tags": []
   },
   "outputs": [],
   "source": [
    "# roc_auc_oof = roc_auc_score(train_df[\"target\"], oof_predicted)\n",
    "# print(\"CV roc_auc_oof: \", roc_auc_oof)"
   ]
  },
  {
   "cell_type": "markdown",
   "id": "751d71b3",
   "metadata": {
    "papermill": {
     "duration": 0.018336,
     "end_time": "2024-03-12T09:38:39.453283",
     "exception": false,
     "start_time": "2024-03-12T09:38:39.434947",
     "status": "completed"
    },
    "tags": []
   },
   "source": [
    "# Predict"
   ]
  },
  {
   "cell_type": "code",
   "execution_count": 39,
   "id": "ece07533",
   "metadata": {
    "execution": {
     "iopub.execute_input": "2024-03-12T09:38:39.492770Z",
     "iopub.status.busy": "2024-03-12T09:38:39.492345Z",
     "iopub.status.idle": "2024-03-12T09:38:39.497033Z",
     "shell.execute_reply": "2024-03-12T09:38:39.495919Z"
    },
    "papermill": {
     "duration": 0.02775,
     "end_time": "2024-03-12T09:38:39.499422",
     "exception": false,
     "start_time": "2024-03-12T09:38:39.471672",
     "status": "completed"
    },
    "tags": []
   },
   "outputs": [],
   "source": [
    "# del train_df\n",
    "# gc.collect()"
   ]
  },
  {
   "cell_type": "code",
   "execution_count": 40,
   "id": "c8cbd735",
   "metadata": {
    "execution": {
     "iopub.execute_input": "2024-03-12T09:38:39.539540Z",
     "iopub.status.busy": "2024-03-12T09:38:39.539096Z",
     "iopub.status.idle": "2024-03-12T09:38:39.544637Z",
     "shell.execute_reply": "2024-03-12T09:38:39.543526Z"
    },
    "papermill": {
     "duration": 0.028788,
     "end_time": "2024-03-12T09:38:39.547084",
     "exception": false,
     "start_time": "2024-03-12T09:38:39.518296",
     "status": "completed"
    },
    "tags": []
   },
   "outputs": [],
   "source": [
    "# test_dataset = data_loader.load_test_dataset()\n",
    "# print(\"Test dataset week range: {}-{}\".format(test_dataset.base[\"WEEK_NUM\"].min(), test_dataset.base[\"WEEK_NUM\"].max()))\n",
    "# gc.collect()\n",
    "# test_df = preprocessor.process_test_dataset(test_dataset)\n",
    "# del test_dataset\n",
    "# gc.collect()"
   ]
  },
  {
   "cell_type": "code",
   "execution_count": 41,
   "id": "a8879250",
   "metadata": {
    "execution": {
     "iopub.execute_input": "2024-03-12T09:38:39.587791Z",
     "iopub.status.busy": "2024-03-12T09:38:39.587313Z",
     "iopub.status.idle": "2024-03-12T09:38:39.592380Z",
     "shell.execute_reply": "2024-03-12T09:38:39.590927Z"
    },
    "papermill": {
     "duration": 0.029402,
     "end_time": "2024-03-12T09:38:39.595695",
     "exception": false,
     "start_time": "2024-03-12T09:38:39.566293",
     "status": "completed"
    },
    "tags": []
   },
   "outputs": [],
   "source": [
    "# print([name for value, name in reversed(sorted(zip(model.get_feature_importance(), features)))][0:200])"
   ]
  },
  {
   "cell_type": "code",
   "execution_count": null,
   "id": "0a3bebcb",
   "metadata": {
    "papermill": {
     "duration": 0.019126,
     "end_time": "2024-03-12T09:38:39.634590",
     "exception": false,
     "start_time": "2024-03-12T09:38:39.615464",
     "status": "completed"
    },
    "tags": []
   },
   "outputs": [],
   "source": []
  },
  {
   "cell_type": "code",
   "execution_count": 42,
   "id": "5bf747e3",
   "metadata": {
    "execution": {
     "iopub.execute_input": "2024-03-12T09:38:39.674463Z",
     "iopub.status.busy": "2024-03-12T09:38:39.673828Z",
     "iopub.status.idle": "2024-03-12T09:38:39.678390Z",
     "shell.execute_reply": "2024-03-12T09:38:39.677191Z"
    },
    "papermill": {
     "duration": 0.027226,
     "end_time": "2024-03-12T09:38:39.680744",
     "exception": false,
     "start_time": "2024-03-12T09:38:39.653518",
     "status": "completed"
    },
    "tags": []
   },
   "outputs": [],
   "source": [
    "# CV roc_auc_oof:  0.8353789451006361 without feature selection ~500 features\n",
    "# CV roc_auc_oof:  0.8329322959533371 with feature selection ~200 features"
   ]
  },
  {
   "cell_type": "code",
   "execution_count": null,
   "id": "99db5088",
   "metadata": {
    "papermill": {
     "duration": 0.019429,
     "end_time": "2024-03-12T09:38:39.718367",
     "exception": false,
     "start_time": "2024-03-12T09:38:39.698938",
     "status": "completed"
    },
    "tags": []
   },
   "outputs": [],
   "source": []
  },
  {
   "cell_type": "code",
   "execution_count": 43,
   "id": "0090fda1",
   "metadata": {
    "execution": {
     "iopub.execute_input": "2024-03-12T09:38:39.759148Z",
     "iopub.status.busy": "2024-03-12T09:38:39.758720Z",
     "iopub.status.idle": "2024-03-12T09:38:39.764676Z",
     "shell.execute_reply": "2024-03-12T09:38:39.763113Z"
    },
    "papermill": {
     "duration": 0.029179,
     "end_time": "2024-03-12T09:38:39.767156",
     "exception": false,
     "start_time": "2024-03-12T09:38:39.737977",
     "status": "completed"
    },
    "tags": []
   },
   "outputs": [],
   "source": [
    "# def gini_stability(dataset, w_fallingrate=88.0, w_resstd=-0.5):\n",
    "#     gini_in_time = dataset\\\n",
    "#         .sort_values(\"WEEK_NUM\")\\\n",
    "#         .groupby(\"WEEK_NUM\")[[\"true\", \"predicted\"]]\\\n",
    "#         .apply(lambda x: 2 * roc_auc_score(x[\"true\"], x[\"predicted\"]) - 1).tolist()\n",
    "    \n",
    "#     x = np.arange(len(gini_in_time))\n",
    "#     y = gini_in_time\n",
    "#     a, b = np.polyfit(x, y, 1)\n",
    "#     y_hat = a * x + b\n",
    "#     residuals = y - y_hat\n",
    "#     res_std = np.std(residuals)\n",
    "#     avg_gini = np.mean(gini_in_time)\n",
    "    \n",
    "#     print(avg_gini, min(0, a), res_std)\n",
    "    \n",
    "#     return avg_gini + w_fallingrate * min(0, a) + w_resstd * res_std"
   ]
  },
  {
   "cell_type": "code",
   "execution_count": 44,
   "id": "ebb9f9a0",
   "metadata": {
    "execution": {
     "iopub.execute_input": "2024-03-12T09:38:39.810813Z",
     "iopub.status.busy": "2024-03-12T09:38:39.810343Z",
     "iopub.status.idle": "2024-03-12T09:38:39.817569Z",
     "shell.execute_reply": "2024-03-12T09:38:39.813987Z"
    },
    "papermill": {
     "duration": 0.033585,
     "end_time": "2024-03-12T09:38:39.820447",
     "exception": false,
     "start_time": "2024-03-12T09:38:39.786862",
     "status": "completed"
    },
    "tags": []
   },
   "outputs": [],
   "source": [
    "# # Y_train_predicted = model.predict_proba(train_df[features].to_pandas())\n",
    "# Y_test_predicted = model.predict_proba(test_df[features].to_pandas())"
   ]
  },
  {
   "cell_type": "code",
   "execution_count": 45,
   "id": "3388d3c1",
   "metadata": {
    "execution": {
     "iopub.execute_input": "2024-03-12T09:38:39.863107Z",
     "iopub.status.busy": "2024-03-12T09:38:39.862624Z",
     "iopub.status.idle": "2024-03-12T09:38:39.867370Z",
     "shell.execute_reply": "2024-03-12T09:38:39.866449Z"
    },
    "papermill": {
     "duration": 0.029032,
     "end_time": "2024-03-12T09:38:39.869754",
     "exception": false,
     "start_time": "2024-03-12T09:38:39.840722",
     "status": "completed"
    },
    "tags": []
   },
   "outputs": [],
   "source": [
    "# result = pd.DataFrame({\n",
    "#     \"WEEK_NUM\": train_df[\"WEEK_NUM\"],\n",
    "#     \"true\": train_df[\"target\"],\n",
    "#     \"predicted\": Y_train_predicted[:, 1],\n",
    "# })\n",
    "\n",
    "# train_result = gini_stability(result)\n",
    "# print(\"train_score: {}\".format(train_result))\n",
    "\n",
    "# if MODE == Mode.Train:\n",
    "#     result = pd.DataFrame({\n",
    "#         \"WEEK_NUM\": test_df[\"WEEK_NUM\"],\n",
    "#         \"true\": test_df[\"target\"],\n",
    "#         \"predicted\": Y_test_predicted[:, 1],\n",
    "#     })\n",
    "\n",
    "#     test_result = gini_stability(result)\n",
    "#     print(\"test_score: {}\".format(test_result))"
   ]
  },
  {
   "cell_type": "code",
   "execution_count": 46,
   "id": "1c6a326d",
   "metadata": {
    "execution": {
     "iopub.execute_input": "2024-03-12T09:38:39.911568Z",
     "iopub.status.busy": "2024-03-12T09:38:39.911156Z",
     "iopub.status.idle": "2024-03-12T09:38:39.915639Z",
     "shell.execute_reply": "2024-03-12T09:38:39.914469Z"
    },
    "papermill": {
     "duration": 0.027259,
     "end_time": "2024-03-12T09:38:39.917862",
     "exception": false,
     "start_time": "2024-03-12T09:38:39.890603",
     "status": "completed"
    },
    "tags": []
   },
   "outputs": [],
   "source": [
    "# Version 1, test_score: 0.583319926590042, public score 0.48\n",
    "# 100 iters\n",
    "\n",
    "# Version 2, test_score: 0.6062624701357268, public score 0.517\n",
    "# 300 iters\n",
    "\n",
    "# Version 3, test_score: ?, public score 0.545\n",
    "# 2000 iters\n",
    "\n",
    "# Version 4, test_score: ?, public score ?\n",
    "# ? iters, Improve aggregate functions for depth_1, depth_2\n"
   ]
  },
  {
   "cell_type": "markdown",
   "id": "50605752",
   "metadata": {
    "papermill": {
     "duration": 0.018199,
     "end_time": "2024-03-12T09:38:39.955747",
     "exception": false,
     "start_time": "2024-03-12T09:38:39.937548",
     "status": "completed"
    },
    "tags": []
   },
   "source": [
    "# Submition"
   ]
  },
  {
   "cell_type": "code",
   "execution_count": 47,
   "id": "86babebe",
   "metadata": {
    "execution": {
     "iopub.execute_input": "2024-03-12T09:38:39.999033Z",
     "iopub.status.busy": "2024-03-12T09:38:39.998260Z",
     "iopub.status.idle": "2024-03-12T09:38:40.002643Z",
     "shell.execute_reply": "2024-03-12T09:38:40.001761Z"
    },
    "papermill": {
     "duration": 0.029277,
     "end_time": "2024-03-12T09:38:40.004884",
     "exception": false,
     "start_time": "2024-03-12T09:38:39.975607",
     "status": "completed"
    },
    "tags": []
   },
   "outputs": [],
   "source": [
    "# case_id = test_df[\"case_id\"]\n",
    "# X = test_df[features].to_pandas()\n",
    "\n",
    "# Y = model.predict_proba(X)\n",
    "\n",
    "# submission = pd.DataFrame({\n",
    "#     \"case_id\": case_id.to_numpy(),\n",
    "#     \"score\": Y[:, 1]\n",
    "# }).set_index('case_id')\n",
    "# submission.to_csv(\"./submission.csv\")"
   ]
  },
  {
   "cell_type": "code",
   "execution_count": null,
   "id": "ec7931fb",
   "metadata": {
    "papermill": {
     "duration": 0.019253,
     "end_time": "2024-03-12T09:38:40.043699",
     "exception": false,
     "start_time": "2024-03-12T09:38:40.024446",
     "status": "completed"
    },
    "tags": []
   },
   "outputs": [],
   "source": []
  },
  {
   "cell_type": "code",
   "execution_count": null,
   "id": "9b24a304",
   "metadata": {
    "papermill": {
     "duration": 0.019348,
     "end_time": "2024-03-12T09:38:40.084641",
     "exception": false,
     "start_time": "2024-03-12T09:38:40.065293",
     "status": "completed"
    },
    "tags": []
   },
   "outputs": [],
   "source": []
  },
  {
   "cell_type": "code",
   "execution_count": null,
   "id": "c940e527",
   "metadata": {
    "papermill": {
     "duration": 0.017958,
     "end_time": "2024-03-12T09:38:40.121298",
     "exception": false,
     "start_time": "2024-03-12T09:38:40.103340",
     "status": "completed"
    },
    "tags": []
   },
   "outputs": [],
   "source": []
  }
 ],
 "metadata": {
  "kaggle": {
   "accelerator": "none",
   "dataSources": [
    {
     "databundleVersionId": 7921029,
     "sourceId": 50160,
     "sourceType": "competition"
    },
    {
     "datasetId": 4496896,
     "sourceId": 7823105,
     "sourceType": "datasetVersion"
    }
   ],
   "dockerImageVersionId": 30635,
   "isGpuEnabled": false,
   "isInternetEnabled": false,
   "language": "python",
   "sourceType": "notebook"
  },
  "kernelspec": {
   "display_name": "Python 3",
   "language": "python",
   "name": "python3"
  },
  "language_info": {
   "codemirror_mode": {
    "name": "ipython",
    "version": 3
   },
   "file_extension": ".py",
   "mimetype": "text/x-python",
   "name": "python",
   "nbconvert_exporter": "python",
   "pygments_lexer": "ipython3",
   "version": "3.10.12"
  },
  "papermill": {
   "default_parameters": {},
   "duration": 1156.038603,
   "end_time": "2024-03-12T09:38:41.468535",
   "environment_variables": {},
   "exception": null,
   "input_path": "__notebook__.ipynb",
   "output_path": "__notebook__.ipynb",
   "parameters": {},
   "start_time": "2024-03-12T09:19:25.429932",
   "version": "2.4.0"
  }
 },
 "nbformat": 4,
 "nbformat_minor": 5
}
