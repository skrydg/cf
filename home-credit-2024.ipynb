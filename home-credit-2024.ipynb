{
 "cells": [
  {
   "cell_type": "markdown",
   "id": "416110ef",
   "metadata": {
    "papermill": {
     "duration": 0.004007,
     "end_time": "2024-05-05T16:50:27.784208",
     "exception": false,
     "start_time": "2024-05-05T16:50:27.780201",
     "status": "completed"
    },
    "tags": []
   },
   "source": [
    "# Install packages"
   ]
  },
  {
   "cell_type": "code",
   "execution_count": 1,
   "id": "72708034",
   "metadata": {
    "execution": {
     "iopub.execute_input": "2024-05-05T16:50:27.792659Z",
     "iopub.status.busy": "2024-05-05T16:50:27.792188Z",
     "iopub.status.idle": "2024-05-05T16:51:00.749033Z",
     "shell.execute_reply": "2024-05-05T16:51:00.747737Z"
    },
    "papermill": {
     "duration": 32.964119,
     "end_time": "2024-05-05T16:51:00.751756",
     "exception": false,
     "start_time": "2024-05-05T16:50:27.787637",
     "status": "completed"
    },
    "tags": []
   },
   "outputs": [
    {
     "name": "stdout",
     "output_type": "stream",
     "text": [
      "Processing /kaggle/input/kaggle-home-credit-risk-model-stability-lib/kaggle_home_credit_risk_model_stability-0.3-py3-none-any.whl\r\n",
      "Installing collected packages: kaggle-home-credit-risk-model-stability\r\n",
      "Successfully installed kaggle-home-credit-risk-model-stability-0.3\r\n"
     ]
    }
   ],
   "source": [
    "!pip install /kaggle/input/kaggle-home-credit-risk-model-stability-lib/kaggle_home_credit_risk_model_stability-0.3-py3-none-any.whl --force-reinstall"
   ]
  },
  {
   "cell_type": "code",
   "execution_count": 2,
   "id": "02ba00ee",
   "metadata": {
    "execution": {
     "iopub.execute_input": "2024-05-05T16:51:00.761902Z",
     "iopub.status.busy": "2024-05-05T16:51:00.761104Z",
     "iopub.status.idle": "2024-05-05T16:51:46.400290Z",
     "shell.execute_reply": "2024-05-05T16:51:46.398940Z"
    },
    "papermill": {
     "duration": 45.64706,
     "end_time": "2024-05-05T16:51:46.403049",
     "exception": false,
     "start_time": "2024-05-05T16:51:00.755989",
     "status": "completed"
    },
    "tags": []
   },
   "outputs": [
    {
     "name": "stdout",
     "output_type": "stream",
     "text": [
      "Processing /kaggle/input/polars/polars-0.20.15-cp38-abi3-manylinux_2_17_x86_64.manylinux2014_x86_64.whl\r\n",
      "Installing collected packages: polars\r\n",
      "  Attempting uninstall: polars\r\n",
      "    Found existing installation: polars 0.20.3\r\n",
      "    Uninstalling polars-0.20.3:\r\n",
      "      Successfully uninstalled polars-0.20.3\r\n",
      "Successfully installed polars-0.20.15\r\n"
     ]
    }
   ],
   "source": [
    "!pip install /kaggle/input/polars/polars-0.20.15-cp38-abi3-manylinux_2_17_x86_64.manylinux2014_x86_64.whl"
   ]
  },
  {
   "cell_type": "markdown",
   "id": "191785cf",
   "metadata": {
    "papermill": {
     "duration": 0.003566,
     "end_time": "2024-05-05T16:51:46.410545",
     "exception": false,
     "start_time": "2024-05-05T16:51:46.406979",
     "status": "completed"
    },
    "tags": []
   },
   "source": [
    "# Import packages"
   ]
  },
  {
   "cell_type": "code",
   "execution_count": 3,
   "id": "4cf4be25",
   "metadata": {
    "execution": {
     "iopub.execute_input": "2024-05-05T16:51:46.420361Z",
     "iopub.status.busy": "2024-05-05T16:51:46.419949Z",
     "iopub.status.idle": "2024-05-05T16:51:50.246359Z",
     "shell.execute_reply": "2024-05-05T16:51:50.245332Z"
    },
    "papermill": {
     "duration": 3.834692,
     "end_time": "2024-05-05T16:51:50.248882",
     "exception": false,
     "start_time": "2024-05-05T16:51:46.414190",
     "status": "completed"
    },
    "tags": []
   },
   "outputs": [],
   "source": [
    "import polars as pl\n",
    "import gc\n",
    "import time\n",
    "import numpy as np\n",
    "import pandas as pd\n",
    "import lightgbm as lgb\n",
    "import matplotlib.pyplot as plt\n",
    "import copy\n",
    "import lightgbm as lgb\n",
    "import importlib\n",
    "import pickle\n",
    "import argparse\n",
    "\n",
    "# %load_ext autoreload\n",
    "# %autoreload 2\n",
    "\n",
    "import kaggle_home_credit_risk_model_stability.libs as hcr\n",
    "from kaggle_home_credit_risk_model_stability.libs.env import Env\n",
    "from kaggle_home_credit_risk_model_stability.libs.input.dataset import Dataset\n",
    "from kaggle_home_credit_risk_model_stability.libs.input.data_loader import DataLoader\n",
    "from kaggle_home_credit_risk_model_stability.libs.preprocessor.preprocessor import Preprocessor\n",
    "from kaggle_home_credit_risk_model_stability.libs.preprocessor.steps import *\n",
    "from kaggle_home_credit_risk_model_stability.libs.preprocessor.columns_info import ColumnsInfo\n",
    "from kaggle_home_credit_risk_model_stability.libs.feature_description.feature_description import FreatureDescriptionGetter\n",
    "\n",
    "from collections import defaultdict\n",
    "from glob import glob\n",
    "from pathlib import Path\n",
    "from sklearn.model_selection import train_test_split\n",
    "from sklearn.metrics import roc_auc_score\n",
    "from sklearn.model_selection import StratifiedGroupKFold\n",
    "from sklearn.base import BaseEstimator, RegressorMixin"
   ]
  },
  {
   "cell_type": "code",
   "execution_count": 4,
   "id": "3e52de2e",
   "metadata": {
    "execution": {
     "iopub.execute_input": "2024-05-05T16:51:50.258320Z",
     "iopub.status.busy": "2024-05-05T16:51:50.257943Z",
     "iopub.status.idle": "2024-05-05T16:51:50.262614Z",
     "shell.execute_reply": "2024-05-05T16:51:50.261479Z"
    },
    "papermill": {
     "duration": 0.011809,
     "end_time": "2024-05-05T16:51:50.264641",
     "exception": false,
     "start_time": "2024-05-05T16:51:50.252832",
     "status": "completed"
    },
    "tags": []
   },
   "outputs": [],
   "source": [
    "env = Env(\n",
    "    \"/kaggle/input/\",\n",
    "    \"/kaggle/working/\"\n",
    ")"
   ]
  },
  {
   "cell_type": "code",
   "execution_count": 5,
   "id": "354d1fb8",
   "metadata": {
    "execution": {
     "iopub.execute_input": "2024-05-05T16:51:50.274618Z",
     "iopub.status.busy": "2024-05-05T16:51:50.273912Z",
     "iopub.status.idle": "2024-05-05T16:51:50.287427Z",
     "shell.execute_reply": "2024-05-05T16:51:50.286366Z"
    },
    "papermill": {
     "duration": 0.021349,
     "end_time": "2024-05-05T16:51:50.289840",
     "exception": false,
     "start_time": "2024-05-05T16:51:50.268491",
     "status": "completed"
    },
    "tags": []
   },
   "outputs": [],
   "source": [
    "data_loader = DataLoader(env, tables = [\n",
    "    \"base\", \"static_cb_0\", \"static_0\", \"person_1\", \"tax_registry_a_1\", \"tax_registry_b_1\", \"tax_registry_c_1\", \n",
    "    \"credit_bureau_a_2\", \n",
    "    \"credit_bureau_a_1\", \n",
    "    \"applprev_1\",\n",
    "    #\"debitcard_1\", \"other_1\", \"deposit_1\"\n",
    "    #\"credit_bureau_b_1\", \"credit_bureau_b_2\", <- low amount of data\n",
    "    #\"applprev_2\", \"person_2\"\n",
    "])\n",
    "\n",
    "preprocessor = Preprocessor({\n",
    "    #\"sort_raw_tables\": SortRawTablesStep(),\n",
    "    \"set_column_info_step\": SetColumnsInfoStep(),\n",
    "    \"set_types\": SetTypesStep(),\n",
    "    \"drop_composite_features\": DropCompositeFeaturesStep(),\n",
    "    \"create_day_feature\": CreateDayFeatureStep(),\n",
    "    \"process_categorical\": ProcessCategoricalStep(),\n",
    "    #\"drop_raw_single_value_columns\": DropRawSingleValueColumnsStep(),\n",
    "    \"process_person_table\": ProcessPersonTableStep(),\n",
    "#    \"process_applprev_table\": ProcessApplprevTableStep(),\n",
    "    \"process_static_0_table\": ProcessStatic0TableStep(),\n",
    "    \"process_tax_regestry_a1_table\": ProcessTaxRegestryA1TableStep(),\n",
    "    \"process_tax_regestry_b1_table\": ProcessTaxRegestryB1TableStep(),\n",
    "    \"process_tax_regestry_c1_table\": ProcessTaxRegestryC1TableStep(),\n",
    "    # \"process_credit_burea_1_table\": ProcessCreditBureaua1TableStep(\n",
    "    #     config = {\n",
    "    #         \"active\": {\n",
    "    #             \"mask_column\": \"dateofcredstart_739D\",\n",
    "    #             \"financialinstitution_column\": \"financialinstitution_591M\",\n",
    "    #             \"columns\": [\n",
    "    #                 #'annualeffectiverate_63L', 'dpdmax_139P', 'nominalrate_281L', 'numberofoutstandinstls_59L', 'numberofoverdueinstlmaxdat_641D', 'numberofoverdueinstls_725L', 'prolongationcount_599L', \n",
    "    #                 'contractsum_5085717L', 'credlmt_935A', 'dateofcredend_289D', 'dateofcredstart_739D', 'dpdmaxdatemonth_89T', 'instlamount_768A', 'lastupdate_1112D', 'monthlyinstlamount_332A', 'numberofinstls_320L', 'numberofoverdueinstlmax_1039L', 'outstandingamount_362A', 'overdueamount_659A', 'overdueamountmax2_14A', 'overdueamountmax2date_1142D', 'overdueamountmax_155A', 'overdueamountmaxdatemonth_365T', 'periodicityofpmts_837L', 'purposeofcred_426M', 'residualamount_856A', 'subjectrole_182M', 'totalamount_996A'\n",
    "    #             ]\n",
    "    #         },\n",
    "    #         \"close\": {\n",
    "    #             \"mask_column\": \"dateofcredstart_181D\",\n",
    "    #             \"financialinstitution_column\": \"financialinstitution_382M\",\n",
    "    #             \"columns\": [\n",
    "    #                 # 'interestrate_508L', 'annualeffectiverate_199L', 'dateofrealrepmt_138D', 'lastupdate_388D', 'numberofoverdueinstlmaxdat_148D', 'prolongationcount_1120L',\n",
    "    #                 'credlmt_230A', 'dateofcredend_353D', 'dateofcredstart_181D', 'dpdmax_757P', 'dpdmaxdatemonth_442T', 'instlamount_852A', 'monthlyinstlamount_674A', 'nominalrate_498L', 'numberofinstls_229L', 'numberofoutstandinstls_520L', 'numberofoverdueinstlmax_1151L', 'numberofoverdueinstls_834L', 'outstandingamount_354A', 'overdueamount_31A', 'overdueamountmax2_398A', 'overdueamountmax2date_1002D', 'overdueamountmax_35A', 'overdueamountmaxdatemonth_284T', 'periodicityofpmts_1102L', 'purposeofcred_874M', 'residualamount_488A', 'totalamount_6A', 'subjectrole_93M'\n",
    "    #             ]\n",
    "    #         }\n",
    "    #     },\n",
    "    #     finantial_institutions = {\n",
    "    #         \"active\": ['Home Credit', 'P150_136_157'],\n",
    "    #         \"close\": ['P150_136_157', 'P133_127_114']\n",
    "    #     }\n",
    "    # ),\n",
    "    \"split_active_close_credit_burea_1_table\": SplitActiveCloseCreditBureaua1TableStep(),\n",
    "    \"split_active_credit_bureau_a_1_by_credit_duration\": SplitTableByCreditDurationStep(\n",
    "        table_name = \"active_credit_bureau_a_1\",\n",
    "        intervals = {\n",
    "            \"short\": [0, 135],\n",
    "            \"medium\": [135, 270],\n",
    "            \"medium_long\": [270, 450],\n",
    "            \"long\": [450, 100000],\n",
    "        }\n",
    "    ),\n",
    "    \"split_close_credit_bureau_a_1_by_credit_duration\": SplitTableByCreditDurationStep(\n",
    "        table_name = \"close_credit_bureau_a_1\",\n",
    "        intervals = {\n",
    "            \"short\": [0, 135],\n",
    "            \"medium\": [135, 270],\n",
    "            \"medium_long\": [270, 450],\n",
    "            \"long\": [450, 100000],\n",
    "        }\n",
    "    ),\n",
    "    **{\n",
    "        f\"split_{period}_active_credit_bureau_a_1_step\": SplitTableByCategoricalFeatureStep(f\"{period}_active_credit_bureau_a_1\", \"financialinstitution_591M\", [[\"Home Credit\", \"P150_136_157\"]])\n",
    "        for period in [\"short\", \"medium\", \"medium_long\", \"long\"]\n",
    "    },\n",
    "    **{\n",
    "        f\"split_{period}_close_credit_bureau_a_1_step\": SplitTableByCategoricalFeatureStep(f\"{period}_close_credit_bureau_a_1\", \"financialinstitution_382M\", [[\"P150_136_157\", \"P133_127_114\"]])\n",
    "        for period in [\"short\", \"medium\", \"medium_long\", \"long\"]\n",
    "    },\n",
    "    \"process_credit_burea_2_table\": ProcessCreditBureaua2TableStep(),\n",
    "    #\"pairwise_diff_raw_dates\": PairwiseDateDiffStep(),\n",
    "    \"aggregate_depth_table\": AggregateDepthTableStep(),\n",
    "    \"join_table\": JoinTablesStep(),\n",
    "    \"merge_chunked_table\": MergeChunkedTablesStep(),\n",
    "    \"drop_almost_null_features\": DropAlmostNullFeaturesStep(0.99),\n",
    "    #\"generate_age_feature\": GenerateAgeFeatureStep(),\n",
    "    \"generate_base_date_diff\": GenerateBaseDateDiffStep(base_column=\"date_decision\"),\n",
    "    \"fill_nulls_in_categorical_features\": FillNullsInCategoricalFeaturesStep(),\n",
    "    \"reduce_dimention_for_categorical_features\": ReduceDimentionForCategoricalFeaturesStep(),\n",
    "    \"reduce_memory_usage\": ReduceMemoryUsageStep(),\n",
    "    **{\n",
    "        f\"create_money_feature_fraction_{base_column}\": CreateMoneyFeatureFractionStep(base_column)\n",
    "        for base_column in [\"credamount_770A\", \"mainoccupationinc_384A\"] # \"maininc_215A\", \"annuity_780A\"] # mean_amount_416A\n",
    "    },\n",
    "    \"drop_single_value_features\": DropSingleValueFeaturesStep(),\n",
    "    \"drop_variable_enum_features\": DropVariableEnumFeaturesStep(),\n",
    "    #\"generate_mismatch_features\": GenerateMismatchFeaturesStep(),\n",
    "    # **{\n",
    "    #     f\"generate_anomaly_feature_{use_w}_{quantile}_{threashold}\": GenerateAnomalyFeatureStep(quantile=quantile, threashold=threashold)\n",
    "    #     for quantile in [0.99, 0.97, 0.95, 0.9, 0.8, 0.7]\n",
    "    #     for threashold in [3, 2, 1.7, 1.5, 1.3]\n",
    "    #     for use_w in [True, False]\n",
    "    # },\n",
    "    \"reduce_memory_usage\": ReduceMemoryUsageStep()\n",
    "})"
   ]
  },
  {
   "cell_type": "code",
   "execution_count": null,
   "id": "2b78d507",
   "metadata": {
    "papermill": {
     "duration": 0.003669,
     "end_time": "2024-05-05T16:51:50.297613",
     "exception": false,
     "start_time": "2024-05-05T16:51:50.293944",
     "status": "completed"
    },
    "tags": []
   },
   "outputs": [],
   "source": []
  },
  {
   "cell_type": "code",
   "execution_count": 6,
   "id": "a7ab8b47",
   "metadata": {
    "execution": {
     "iopub.execute_input": "2024-05-05T16:51:50.306703Z",
     "iopub.status.busy": "2024-05-05T16:51:50.306306Z",
     "iopub.status.idle": "2024-05-05T17:23:09.317703Z",
     "shell.execute_reply": "2024-05-05T17:23:09.316532Z"
    },
    "papermill": {
     "duration": 1879.018983,
     "end_time": "2024-05-05T17:23:09.320366",
     "exception": false,
     "start_time": "2024-05-05T16:51:50.301383",
     "status": "completed"
    },
    "tags": []
   },
   "outputs": [
    {
     "name": "stdout",
     "output_type": "stream",
     "text": [
      "Step: set_column_info_step\n",
      "Step: set_types\n",
      "Step: drop_composite_features\n",
      "Step: create_day_feature\n",
      "Step: process_categorical\n",
      "Step: process_person_table\n",
      "Step: process_static_0_table\n",
      "Step: process_tax_regestry_a1_table\n",
      "Step: process_tax_regestry_b1_table\n",
      "Step: process_tax_regestry_c1_table\n",
      "Step: split_active_close_credit_burea_1_table\n",
      "Step: split_active_credit_bureau_a_1_by_credit_duration\n",
      "Step: split_close_credit_bureau_a_1_by_credit_duration\n",
      "Step: split_short_active_credit_bureau_a_1_step\n",
      "Step: split_medium_active_credit_bureau_a_1_step\n",
      "Step: split_medium_long_active_credit_bureau_a_1_step\n",
      "Step: split_long_active_credit_bureau_a_1_step\n",
      "Step: split_short_close_credit_bureau_a_1_step\n",
      "Step: split_medium_close_credit_bureau_a_1_step\n",
      "Step: split_medium_long_close_credit_bureau_a_1_step\n",
      "Step: split_long_close_credit_bureau_a_1_step\n",
      "Step: process_credit_burea_2_table\n",
      "Step: aggregate_depth_table\n",
      "Step: join_table\n",
      "Step: merge_chunked_table\n",
      "Step: drop_almost_null_features\n",
      "Step: generate_base_date_diff\n",
      "Step: fill_nulls_in_categorical_features\n",
      "Step: reduce_dimention_for_categorical_features\n",
      "Step: reduce_memory_usage\n",
      "Step: create_money_feature_fraction_credamount_770A\n",
      "Step: create_money_feature_fraction_mainoccupationinc_384A\n",
      "Step: drop_single_value_features\n",
      "Step: drop_variable_enum_features\n",
      "Drop composite features ['lastapprcommoditycat_1041M', 'lastapprcommoditytypec_5251766M', 'lastcancelreason_561M', 'lastrejectcommoditycat_161M', 'lastrejectcommodtypec_5251769M', 'lastrejectreason_759M', 'lastrejectreasonclient_4145040M', 'previouscontdistrict_112M', 'contaddr_district_15M', 'contaddr_zipcode_807M', 'education_927M', 'empladdr_district_926M', 'empladdr_zipcode_114M', 'language1_981M', 'registaddr_district_1083M', 'registaddr_zipcode_184M', 'cancelreason_3545846M', 'district_544M', 'education_1138M', 'postype_4733339M', 'profession_152M', 'rejectreason_755M', 'rejectreasonclient_4145042M']\n",
      "Generate 1002 columns as aggregates\n",
      "Generate 1002 columns as aggregates\n",
      "Generate 1002 columns as aggregates\n",
      "Generate 1002 columns as aggregates\n",
      "Generate 1002 columns as aggregates\n",
      "Generate 1002 columns as aggregates\n",
      "Generate 1002 columns as aggregates\n",
      "Generate 1002 columns as aggregates\n",
      "Generate 1002 columns as aggregates\n",
      "Generate 1002 columns as aggregates\n",
      "Generate 1002 columns as aggregates\n",
      "Generate 1002 columns as aggregates\n",
      "Generate 1002 columns as aggregates\n",
      "Generate 1002 columns as aggregates\n",
      "Generate 1002 columns as aggregates\n",
      "Generate 1002 columns as aggregates\n",
      "Drop 140 columns as almost null\n",
      "Columns to drop ['birthdate_87D', 'childnum_185L', 'clientscnt_136L', 'deferredmnthsnum_166L', 'housingtype_772L', 'isbidproductrequest_292L', 'isreference_387L', 'lastotherinc_902A', 'lastotherlnsexpense_631A', 'lastrepayingdate_696D', 'max_birth_259D', 'max_birthdate_87D', 'max_childnum_185L', 'max_contaddr_matchlist_1032L', 'max_contaddr_smempladdr_334L', 'max_contractsum_5085717L_Home_Credit_medium_active_credit_bureau_a_1', 'max_contractsum_5085717L_Home_Credit_short_active_credit_bureau_a_1', 'max_credlmt_230A_P150_136_157_medium_close_credit_bureau_a_1', 'max_credlmt_230A_P150_136_157_short_close_credit_bureau_a_1', 'max_credlmt_935A_Home_Credit_medium_active_credit_bureau_a_1', 'max_credlmt_935A_Home_Credit_medium_long_active_credit_bureau_a_1', 'max_credlmt_935A_Home_Credit_short_active_credit_bureau_a_1', 'max_empl_employedfrom_271D', 'max_empl_employedtotal_800L', 'max_empl_industry_691L', 'max_familystate_447L', 'max_gender_992L', 'max_housetype_905L', 'max_housingtype_772L', 'max_incometype_1044T', 'max_instlamount_768A_Home_Credit_medium_active_credit_bureau_a_1', 'max_instlamount_768A_Home_Credit_medium_long_active_credit_bureau_a_1', 'max_instlamount_768A_Home_Credit_short_active_credit_bureau_a_1', 'max_instlamount_852A_P150_136_157_medium_close_credit_bureau_a_1', 'max_instlamount_852A_P150_136_157_medium_long_close_credit_bureau_a_1', 'max_instlamount_852A_P150_136_157_short_close_credit_bureau_a_1', 'max_isreference_387L', 'max_mainoccupationinc_384A', 'max_maritalst_703L', 'max_nominalrate_498L_P150_136_157_short_close_credit_bureau_a_1', 'max_overdueamountmax2date_1002D_P150_136_157_short_close_credit_bureau_a_1', 'max_overdueamountmax2date_1142D_Home_Credit_medium_active_credit_bureau_a_1', 'max_overdueamountmax2date_1142D_Home_Credit_short_active_credit_bureau_a_1', 'max_residualamount_488A_P150_136_157_medium_close_credit_bureau_a_1', 'max_residualamount_488A_P150_136_157_short_close_credit_bureau_a_1', 'max_residualamount_856A_Home_Credit_medium_active_credit_bureau_a_1', 'max_residualamount_856A_Home_Credit_medium_long_active_credit_bureau_a_1', 'max_residualamount_856A_Home_Credit_short_active_credit_bureau_a_1', 'max_role_993L', 'max_safeguarantyflag_411L', 'max_sex_738L', 'mean_birth_259D', 'mean_birthdate_87D', 'mean_childnum_185L', 'mean_contaddr_matchlist_1032L', 'mean_contaddr_smempladdr_334L', 'mean_contractsum_5085717L_Home_Credit_medium_active_credit_bureau_a_1', 'mean_contractsum_5085717L_Home_Credit_short_active_credit_bureau_a_1', 'mean_credlmt_230A_P150_136_157_medium_close_credit_bureau_a_1', 'mean_credlmt_230A_P150_136_157_short_close_credit_bureau_a_1', 'mean_credlmt_935A_Home_Credit_medium_active_credit_bureau_a_1', 'mean_credlmt_935A_Home_Credit_medium_long_active_credit_bureau_a_1', 'mean_credlmt_935A_Home_Credit_short_active_credit_bureau_a_1', 'mean_empl_employedfrom_271D', 'mean_instlamount_768A_Home_Credit_medium_active_credit_bureau_a_1', 'mean_instlamount_768A_Home_Credit_medium_long_active_credit_bureau_a_1', 'mean_instlamount_768A_Home_Credit_short_active_credit_bureau_a_1', 'mean_instlamount_852A_P150_136_157_medium_close_credit_bureau_a_1', 'mean_instlamount_852A_P150_136_157_medium_long_close_credit_bureau_a_1', 'mean_instlamount_852A_P150_136_157_short_close_credit_bureau_a_1', 'mean_isreference_387L', 'mean_mainoccupationinc_384A', 'mean_nominalrate_498L_P150_136_157_short_close_credit_bureau_a_1', 'mean_overdueamountmax2date_1002D_P150_136_157_short_close_credit_bureau_a_1', 'mean_overdueamountmax2date_1142D_Home_Credit_medium_active_credit_bureau_a_1', 'mean_overdueamountmax2date_1142D_Home_Credit_short_active_credit_bureau_a_1', 'mean_residualamount_488A_P150_136_157_medium_close_credit_bureau_a_1', 'mean_residualamount_488A_P150_136_157_short_close_credit_bureau_a_1', 'mean_residualamount_856A_Home_Credit_medium_active_credit_bureau_a_1', 'mean_residualamount_856A_Home_Credit_medium_long_active_credit_bureau_a_1', 'mean_residualamount_856A_Home_Credit_short_active_credit_bureau_a_1', 'mean_safeguarantyflag_411L', 'min_birth_259D', 'min_birthdate_87D', 'min_childnum_185L', 'min_contaddr_matchlist_1032L', 'min_contaddr_smempladdr_334L', 'min_contractsum_5085717L_Home_Credit_medium_active_credit_bureau_a_1', 'min_contractsum_5085717L_Home_Credit_short_active_credit_bureau_a_1', 'min_credlmt_230A_P150_136_157_medium_close_credit_bureau_a_1', 'min_credlmt_230A_P150_136_157_short_close_credit_bureau_a_1', 'min_credlmt_935A_Home_Credit_medium_active_credit_bureau_a_1', 'min_credlmt_935A_Home_Credit_medium_long_active_credit_bureau_a_1', 'min_credlmt_935A_Home_Credit_short_active_credit_bureau_a_1', 'min_empl_employedfrom_271D', 'min_empl_employedtotal_800L', 'min_empl_industry_691L', 'min_familystate_447L', 'min_gender_992L', 'min_housetype_905L', 'min_housingtype_772L', 'min_incometype_1044T', 'min_instlamount_768A_Home_Credit_medium_active_credit_bureau_a_1', 'min_instlamount_768A_Home_Credit_medium_long_active_credit_bureau_a_1', 'min_instlamount_768A_Home_Credit_short_active_credit_bureau_a_1', 'min_instlamount_852A_P150_136_157_medium_close_credit_bureau_a_1', 'min_instlamount_852A_P150_136_157_medium_long_close_credit_bureau_a_1', 'min_instlamount_852A_P150_136_157_short_close_credit_bureau_a_1', 'min_isreference_387L', 'min_mainoccupationinc_384A', 'min_maritalst_703L', 'min_nominalrate_498L_P150_136_157_short_close_credit_bureau_a_1', 'min_overdueamountmax2date_1002D_P150_136_157_short_close_credit_bureau_a_1', 'min_overdueamountmax2date_1142D_Home_Credit_medium_active_credit_bureau_a_1', 'min_overdueamountmax2date_1142D_Home_Credit_short_active_credit_bureau_a_1', 'min_residualamount_488A_P150_136_157_medium_close_credit_bureau_a_1', 'min_residualamount_488A_P150_136_157_short_close_credit_bureau_a_1', 'min_residualamount_856A_Home_Credit_medium_active_credit_bureau_a_1', 'min_residualamount_856A_Home_Credit_medium_long_active_credit_bureau_a_1', 'min_residualamount_856A_Home_Credit_short_active_credit_bureau_a_1', 'min_role_993L', 'min_safeguarantyflag_411L', 'min_sex_738L', 'mode_empl_employedtotal_800L', 'mode_empl_industry_691L', 'mode_familystate_447L', 'mode_gender_992L', 'mode_housetype_905L', 'mode_housingtype_772L', 'mode_incometype_1044T', 'mode_maritalst_703L', 'mode_role_993L', 'mode_sex_738L', 'payvacationpostpone_4187118D', 'personindex_1023L', 'persontype_1072L', 'persontype_792L', 'relationshiptoclient_415T', 'relationshiptoclient_642T', 'remitter_829L']\n",
      "Create 129 new date diff columns, with base_column=date_decision\n",
      "Create 268 new columns as money feature fraction with base 'credamount_770A'\n",
      "Create 268 new columns as money feature fraction with base 'mainoccupationinc_384A'\n",
      "Drop 1 columns as single value, columns: ['num_group1']\n",
      "Drop 0 columns as variable enum value\n"
     ]
    },
    {
     "data": {
      "text/plain": [
       "0"
      ]
     },
     "execution_count": 6,
     "metadata": {},
     "output_type": "execute_result"
    }
   ],
   "source": [
    "train_dataset_generator = data_loader.load_train_dataset(chunk_size=100000)\n",
    "gc.collect()\n",
    "train_df, columns_info = preprocessor.process_train_dataset(train_dataset_generator)\n",
    "del train_dataset_generator\n",
    "gc.collect()"
   ]
  },
  {
   "cell_type": "code",
   "execution_count": 7,
   "id": "556a9fd4",
   "metadata": {
    "execution": {
     "iopub.execute_input": "2024-05-05T17:23:09.338324Z",
     "iopub.status.busy": "2024-05-05T17:23:09.337927Z",
     "iopub.status.idle": "2024-05-05T17:23:48.940637Z",
     "shell.execute_reply": "2024-05-05T17:23:48.939368Z"
    },
    "papermill": {
     "duration": 39.622857,
     "end_time": "2024-05-05T17:23:48.951413",
     "exception": false,
     "start_time": "2024-05-05T17:23:09.328556",
     "status": "completed"
    },
    "tags": []
   },
   "outputs": [
    {
     "name": "stdout",
     "output_type": "stream",
     "text": [
      "9885.453375816345\n",
      "shape: (1_526_659, 1_773)\n",
      "┌────────┬──────────┬────────────┬────────────┬───┬────────────┬───────────┬───────────┬───────────┐\n",
      "│ MONTH  ┆ WEEK_NUM ┆ actualdpdt ┆ amtinstpai ┆ … ┆ sumoutstan ┆ totaldebt ┆ totalsett ┆ totinstal │\n",
      "│ ---    ┆ ---      ┆ olerance_3 ┆ dbefduel24 ┆   ┆ dtotalest_ ┆ _9A/maino ┆ led_863A/ ┆ last1m_45 │\n",
      "│ i32    ┆ i16      ┆ 44P        ┆ m_4187115A ┆   ┆ 4493215A/m ┆ ccupation ┆ mainoccup ┆ 25188A/ma │\n",
      "│        ┆          ┆ ---        ┆ ---        ┆   ┆ ai…        ┆ inc_3…    ┆ ation…    ┆ inocc…    │\n",
      "│        ┆          ┆ f32        ┆ f32        ┆   ┆ ---        ┆ ---       ┆ ---       ┆ ---       │\n",
      "│        ┆          ┆            ┆            ┆   ┆ f32        ┆ f32       ┆ f32       ┆ f32       │\n",
      "╞════════╪══════════╪════════════╪════════════╪═══╪════════════╪═══════════╪═══════════╪═══════════╡\n",
      "│ 201901 ┆ 0        ┆ null       ┆ null       ┆ … ┆ null       ┆ 0.0       ┆ 0.0       ┆ null      │\n",
      "│ 201901 ┆ 0        ┆ null       ┆ null       ┆ … ┆ null       ┆ 0.0       ┆ 0.0       ┆ null      │\n",
      "│ 201901 ┆ 0        ┆ null       ┆ null       ┆ … ┆ null       ┆ 0.0       ┆ 0.0       ┆ null      │\n",
      "│ 201901 ┆ 0        ┆ null       ┆ null       ┆ … ┆ null       ┆ 0.0       ┆ 0.0       ┆ null      │\n",
      "│ 201901 ┆ 0        ┆ null       ┆ null       ┆ … ┆ null       ┆ 0.0       ┆ 0.0       ┆ null      │\n",
      "│ …      ┆ …        ┆ …          ┆ …          ┆ … ┆ …          ┆ …         ┆ …         ┆ …         │\n",
      "│ 202010 ┆ 91       ┆ 0.0        ┆ 176561.359 ┆ … ┆ 0.0        ┆ 0.0       ┆ 10.703991 ┆ 0.358658  │\n",
      "│        ┆          ┆            ┆ 375        ┆   ┆            ┆           ┆           ┆           │\n",
      "│ 202010 ┆ 91       ┆ 0.0        ┆ 301276.468 ┆ … ┆ 1.8505     ┆ 1.8505    ┆ 19.055634 ┆ 1.100538  │\n",
      "│        ┆          ┆            ┆ 75         ┆   ┆            ┆           ┆           ┆           │\n",
      "│ 202010 ┆ 91       ┆ 0.0        ┆ 14232.4003 ┆ … ┆ 0.0        ┆ 0.0       ┆ 0.800067  ┆ null      │\n",
      "│        ┆          ┆            ┆ 91         ┆   ┆            ┆           ┆           ┆           │\n",
      "│ 202010 ┆ 91       ┆ 0.0        ┆ 197371.578 ┆ … ┆ 1.56022    ┆ 1.56022   ┆ 14.671511 ┆ 0.18848   │\n",
      "│        ┆          ┆            ┆ 125        ┆   ┆            ┆           ┆           ┆           │\n",
      "│ 202010 ┆ 91       ┆ 0.0        ┆ 82949.6015 ┆ … ┆ 0.226376   ┆ 0.150234  ┆ 2.360395  ┆ 0.075807  │\n",
      "│        ┆          ┆            ┆ 62         ┆   ┆            ┆           ┆           ┆           │\n",
      "└────────┴──────────┴────────────┴────────────┴───┴────────────┴───────────┴───────────┴───────────┘\n"
     ]
    },
    {
     "data": {
      "text/plain": [
       "0"
      ]
     },
     "execution_count": 7,
     "metadata": {},
     "output_type": "execute_result"
    }
   ],
   "source": [
    "train_df.write_parquet(env.output_directory / \"train_df.parquet\")\n",
    "pickle.dump(columns_info, open(env.output_directory / \"columns_info.pkl\", \"wb\"))\n",
    "print(train_df.estimated_size() / 1024 / 1024)\n",
    "print(train_df)\n",
    "\n",
    "del train_df\n",
    "gc.collect()"
   ]
  },
  {
   "cell_type": "code",
   "execution_count": 8,
   "id": "347780db",
   "metadata": {
    "execution": {
     "iopub.execute_input": "2024-05-05T17:23:48.971556Z",
     "iopub.status.busy": "2024-05-05T17:23:48.970102Z",
     "iopub.status.idle": "2024-05-05T17:24:05.243187Z",
     "shell.execute_reply": "2024-05-05T17:24:05.242119Z"
    },
    "papermill": {
     "duration": 16.285427,
     "end_time": "2024-05-05T17:24:05.245627",
     "exception": false,
     "start_time": "2024-05-05T17:23:48.960200",
     "status": "completed"
    },
    "tags": []
   },
   "outputs": [
    {
     "name": "stdout",
     "output_type": "stream",
     "text": [
      "Step: set_column_info_step\n",
      "Step: set_types\n",
      "Step: drop_composite_features\n",
      "Step: create_day_feature\n",
      "Step: process_categorical\n",
      "Step: process_person_table\n",
      "Step: process_static_0_table\n",
      "Step: process_tax_regestry_a1_table\n",
      "Step: process_tax_regestry_b1_table\n",
      "Step: process_tax_regestry_c1_table\n",
      "Step: split_active_close_credit_burea_1_table\n",
      "Step: split_active_credit_bureau_a_1_by_credit_duration\n",
      "Step: split_close_credit_bureau_a_1_by_credit_duration\n",
      "Step: split_short_active_credit_bureau_a_1_step\n",
      "Step: split_medium_active_credit_bureau_a_1_step\n",
      "Step: split_medium_long_active_credit_bureau_a_1_step\n",
      "Step: split_long_active_credit_bureau_a_1_step\n",
      "Step: split_short_close_credit_bureau_a_1_step\n",
      "Step: split_medium_close_credit_bureau_a_1_step\n",
      "Step: split_medium_long_close_credit_bureau_a_1_step\n",
      "Step: split_long_close_credit_bureau_a_1_step\n",
      "Step: process_credit_burea_2_table\n",
      "Step: aggregate_depth_table\n",
      "Step: join_table\n",
      "Step: merge_chunked_table\n",
      "Step: drop_almost_null_features\n",
      "Step: generate_base_date_diff\n",
      "Step: fill_nulls_in_categorical_features\n",
      "Step: reduce_dimention_for_categorical_features\n",
      "Step: reduce_memory_usage\n",
      "Step: create_money_feature_fraction_credamount_770A\n",
      "Step: create_money_feature_fraction_mainoccupationinc_384A\n",
      "Step: drop_single_value_features\n",
      "Step: drop_variable_enum_features\n",
      "Generate 1002 columns as aggregates\n",
      "Create 129 new date diff columns, with base_column=date_decision\n",
      "Create 268 new columns as money feature fraction with base 'credamount_770A'\n",
      "Create 268 new columns as money feature fraction with base 'mainoccupationinc_384A'\n",
      "Drop 1 columns as single value, columns: ['num_group1']\n"
     ]
    },
    {
     "data": {
      "text/plain": [
       "0"
      ]
     },
     "execution_count": 8,
     "metadata": {},
     "output_type": "execute_result"
    }
   ],
   "source": [
    "test_dataset_generator = data_loader.load_test_dataset(chunk_size=100000)\n",
    "gc.collect()\n",
    "test_df, columns_info = preprocessor.process_test_dataset(test_dataset_generator)\n",
    "del test_dataset_generator\n",
    "gc.collect()"
   ]
  },
  {
   "cell_type": "code",
   "execution_count": 9,
   "id": "c1b8721e",
   "metadata": {
    "execution": {
     "iopub.execute_input": "2024-05-05T17:24:05.269408Z",
     "iopub.status.busy": "2024-05-05T17:24:05.268432Z",
     "iopub.status.idle": "2024-05-05T17:24:05.803828Z",
     "shell.execute_reply": "2024-05-05T17:24:05.802436Z"
    },
    "papermill": {
     "duration": 0.549889,
     "end_time": "2024-05-05T17:24:05.806400",
     "exception": false,
     "start_time": "2024-05-05T17:24:05.256511",
     "status": "completed"
    },
    "tags": []
   },
   "outputs": [
    {
     "name": "stdout",
     "output_type": "stream",
     "text": [
      "0.08484935760498047\n",
      "shape: (10, 1_772)\n",
      "┌────────┬──────────┬────────────┬────────────┬───┬────────────┬───────────┬───────────┬───────────┐\n",
      "│ MONTH  ┆ WEEK_NUM ┆ actualdpdt ┆ amtinstpai ┆ … ┆ sumoutstan ┆ totaldebt ┆ totalsett ┆ totinstal │\n",
      "│ ---    ┆ ---      ┆ olerance_3 ┆ dbefduel24 ┆   ┆ dtotalest_ ┆ _9A/maino ┆ led_863A/ ┆ last1m_45 │\n",
      "│ i32    ┆ i16      ┆ 44P        ┆ m_4187115A ┆   ┆ 4493215A/m ┆ ccupation ┆ mainoccup ┆ 25188A/ma │\n",
      "│        ┆          ┆ ---        ┆ ---        ┆   ┆ ai…        ┆ inc_3…    ┆ ation…    ┆ inocc…    │\n",
      "│        ┆          ┆ f32        ┆ f32        ┆   ┆ ---        ┆ ---       ┆ ---       ┆ ---       │\n",
      "│        ┆          ┆            ┆            ┆   ┆ f32        ┆ f32       ┆ f32       ┆ f32       │\n",
      "╞════════╪══════════╪════════════╪════════════╪═══╪════════════╪═══════════╪═══════════╪═══════════╡\n",
      "│ 202201 ┆ 100      ┆ 0.0        ┆ 191767.359 ┆ … ┆ 0.357482   ┆ 0.357482  ┆ 13.41268  ┆ 0.525282  │\n",
      "│        ┆          ┆            ┆ 375        ┆   ┆            ┆           ┆           ┆           │\n",
      "│ 202201 ┆ 100      ┆ 0.0        ┆ 129704.398 ┆ … ┆ 0.213618   ┆ 0.213618  ┆ 7.504435  ┆ 2.531285  │\n",
      "│        ┆          ┆            ┆ 438        ┆   ┆            ┆           ┆           ┆           │\n",
      "│ 202201 ┆ 100      ┆ 0.0        ┆ 71036.3984 ┆ … ┆ 0.0        ┆ 0.0       ┆ 1.262064  ┆ null      │\n",
      "│        ┆          ┆            ┆ 38         ┆   ┆            ┆           ┆           ┆           │\n",
      "│ 202201 ┆ 100      ┆ 0.0        ┆ 183992.0   ┆ … ┆ 1.707764   ┆ 1.707764  ┆ 2.537616  ┆ 0.168652  │\n",
      "│ 202201 ┆ 100      ┆ 0.0        ┆ 0.0        ┆ … ┆ 0.0        ┆ 0.0       ┆ 1.643938  ┆ null      │\n",
      "│ 202201 ┆ 100      ┆ 0.0        ┆ 0.0        ┆ … ┆ 0.0        ┆ 0.0       ┆ 0.161293  ┆ null      │\n",
      "│ 202201 ┆ 100      ┆ 0.0        ┆ null       ┆ … ┆ null       ┆ null      ┆ null      ┆ null      │\n",
      "│ 202201 ┆ 100      ┆ 0.0        ┆ 63647.4023 ┆ … ┆ null       ┆ null      ┆ null      ┆ null      │\n",
      "│        ┆          ┆            ┆ 44         ┆   ┆            ┆           ┆           ┆           │\n",
      "│ 202201 ┆ 100      ┆ 0.0        ┆ null       ┆ … ┆ null       ┆ null      ┆ null      ┆ null      │\n",
      "│ 202201 ┆ 100      ┆ 0.0        ┆ 39948.8007 ┆ … ┆ null       ┆ null      ┆ null      ┆ null      │\n",
      "│        ┆          ┆            ┆ 81         ┆   ┆            ┆           ┆           ┆           │\n",
      "└────────┴──────────┴────────────┴────────────┴───┴────────────┴───────────┴───────────┴───────────┘\n"
     ]
    },
    {
     "data": {
      "text/plain": [
       "0"
      ]
     },
     "execution_count": 9,
     "metadata": {},
     "output_type": "execute_result"
    }
   ],
   "source": [
    "test_df.write_parquet(env.output_directory / \"test_df.parquet\")\n",
    "print(test_df.estimated_size() / 1024 / 1024)\n",
    "print(test_df)\n",
    "\n",
    "del test_df\n",
    "gc.collect()"
   ]
  }
 ],
 "metadata": {
  "kaggle": {
   "accelerator": "none",
   "dataSources": [
    {
     "databundleVersionId": 7921029,
     "sourceId": 50160,
     "sourceType": "competition"
    },
    {
     "datasetId": 4832722,
     "sourceId": 8166831,
     "sourceType": "datasetVersion"
    },
    {
     "datasetId": 4496896,
     "sourceId": 8324879,
     "sourceType": "datasetVersion"
    }
   ],
   "dockerImageVersionId": 30635,
   "isGpuEnabled": false,
   "isInternetEnabled": false,
   "language": "python",
   "sourceType": "notebook"
  },
  "kernelspec": {
   "display_name": "Python 3",
   "language": "python",
   "name": "python3"
  },
  "language_info": {
   "codemirror_mode": {
    "name": "ipython",
    "version": 3
   },
   "file_extension": ".py",
   "mimetype": "text/x-python",
   "name": "python",
   "nbconvert_exporter": "python",
   "pygments_lexer": "ipython3",
   "version": "3.10.12"
  },
  "papermill": {
   "default_parameters": {},
   "duration": 2023.13639,
   "end_time": "2024-05-05T17:24:06.843603",
   "environment_variables": {},
   "exception": null,
   "input_path": "__notebook__.ipynb",
   "output_path": "__notebook__.ipynb",
   "parameters": {},
   "start_time": "2024-05-05T16:50:23.707213",
   "version": "2.4.0"
  }
 },
 "nbformat": 4,
 "nbformat_minor": 5
}
