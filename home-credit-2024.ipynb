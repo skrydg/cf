{
 "cells": [
  {
   "cell_type": "markdown",
   "id": "a36e1fd2",
   "metadata": {
    "papermill": {
     "duration": 0.022178,
     "end_time": "2024-03-12T11:49:07.687007",
     "exception": false,
     "start_time": "2024-03-12T11:49:07.664829",
     "status": "completed"
    },
    "tags": []
   },
   "source": [
    "# Install packages"
   ]
  },
  {
   "cell_type": "code",
   "execution_count": 1,
   "id": "fc817089",
   "metadata": {
    "execution": {
     "iopub.execute_input": "2024-03-12T11:49:07.724249Z",
     "iopub.status.busy": "2024-03-12T11:49:07.723873Z",
     "iopub.status.idle": "2024-03-12T11:49:43.585021Z",
     "shell.execute_reply": "2024-03-12T11:49:43.583795Z"
    },
    "papermill": {
     "duration": 35.882865,
     "end_time": "2024-03-12T11:49:43.587796",
     "exception": false,
     "start_time": "2024-03-12T11:49:07.704931",
     "status": "completed"
    },
    "tags": []
   },
   "outputs": [
    {
     "name": "stdout",
     "output_type": "stream",
     "text": [
      "Processing /kaggle/input/kaggle-home-credit-risk-model-stability-lib/kaggle_home_credit_risk_model_stability-0.3-py3-none-any.whl\r\n",
      "Installing collected packages: kaggle-home-credit-risk-model-stability\r\n",
      "Successfully installed kaggle-home-credit-risk-model-stability-0.3\r\n"
     ]
    }
   ],
   "source": [
    "!pip install /kaggle/input/kaggle-home-credit-risk-model-stability-lib/kaggle_home_credit_risk_model_stability-0.3-py3-none-any.whl --force-reinstall"
   ]
  },
  {
   "cell_type": "markdown",
   "id": "8c9241bd",
   "metadata": {
    "papermill": {
     "duration": 0.017055,
     "end_time": "2024-03-12T11:49:43.622447",
     "exception": false,
     "start_time": "2024-03-12T11:49:43.605392",
     "status": "completed"
    },
    "tags": []
   },
   "source": [
    "# Import packages"
   ]
  },
  {
   "cell_type": "code",
   "execution_count": 2,
   "id": "4d8782f1",
   "metadata": {
    "execution": {
     "iopub.execute_input": "2024-03-12T11:49:43.660078Z",
     "iopub.status.busy": "2024-03-12T11:49:43.659620Z",
     "iopub.status.idle": "2024-03-12T11:49:48.675719Z",
     "shell.execute_reply": "2024-03-12T11:49:48.674438Z"
    },
    "papermill": {
     "duration": 5.038961,
     "end_time": "2024-03-12T11:49:48.678567",
     "exception": false,
     "start_time": "2024-03-12T11:49:43.639606",
     "status": "completed"
    },
    "tags": []
   },
   "outputs": [],
   "source": [
    "import polars as pl\n",
    "import gc\n",
    "import time\n",
    "import numpy as np\n",
    "import pandas as pd\n",
    "import lightgbm as lgb\n",
    "import seaborn as sns\n",
    "import matplotlib.pyplot as plt\n",
    "import copy\n",
    "import lightgbm as lgb\n",
    "import importlib\n",
    "\n",
    "import kaggle_home_credit_risk_model_stability.libs as hcr\n",
    "from kaggle_home_credit_risk_model_stability.libs.input.dataset import Dataset\n",
    "from kaggle_home_credit_risk_model_stability.libs.input.data_loader import DataLoader\n",
    "from kaggle_home_credit_risk_model_stability.libs.preprocessor.preprocessor import Preprocessor\n",
    "from kaggle_home_credit_risk_model_stability.libs.preprocessor.steps import *\n",
    "from kaggle_home_credit_risk_model_stability.libs.preprocessor.columns_info import ColumnsInfo\n",
    "from kaggle_home_credit_risk_model_stability.libs.feature_description.feature_description import FreatureDescriptionGetter\n",
    "\n",
    "from collections import defaultdict\n",
    "from glob import glob\n",
    "from pathlib import Path\n",
    "from sklearn.model_selection import train_test_split\n",
    "from sklearn.metrics import roc_auc_score\n",
    "from sklearn.model_selection import StratifiedGroupKFold\n",
    "from sklearn.base import BaseEstimator, RegressorMixin\n",
    "from catboost import CatBoostClassifier\n",
    "from enum import Enum"
   ]
  },
  {
   "cell_type": "code",
   "execution_count": 3,
   "id": "028e5978",
   "metadata": {
    "execution": {
     "iopub.execute_input": "2024-03-12T11:49:48.716575Z",
     "iopub.status.busy": "2024-03-12T11:49:48.716158Z",
     "iopub.status.idle": "2024-03-12T11:49:48.725093Z",
     "shell.execute_reply": "2024-03-12T11:49:48.724197Z"
    },
    "papermill": {
     "duration": 0.030336,
     "end_time": "2024-03-12T11:49:48.727234",
     "exception": false,
     "start_time": "2024-03-12T11:49:48.696898",
     "status": "completed"
    },
    "tags": []
   },
   "outputs": [],
   "source": [
    "data_loader = DataLoader()\n",
    "preprocessor = Preprocessor({\n",
    "    \"set_column_info_step\": SetColumnsInfoStep(),\n",
    "    \"set_types\": SetTypesStep(),\n",
    "    \"process_categorical\": ProcessCategoricalStep(),\n",
    "    \"process_person_table\": ProcessPersonTableStep(),\n",
    "    \"one_hot_encoding_for_depth1\": OneHotEncodingForDepth1Step(),\n",
    "    \"pairwise_diff_raw_dates\": PairwiseDateDiffStep(),\n",
    "    \"aggregate_depth_table\": AggregateDepthTableStep(),\n",
    "    \"drop_equal_columns\": DropEqualColumnsStep(),\n",
    "    \"drop_almost_null_features_respect_to_target\": DropAlmostNullFeaturesWithRespectToTargetStep(),\n",
    "    \"join_table\": JoinTablesStep(),\n",
    "    \"generate_age_feature\": GenerateAgeFeatureStep(),\n",
    "    \"fill_nulls_in_categorical_features\": FillNullsInCategoricalFeaturesStep(),\n",
    "    **{\n",
    "        f\"create_money_feature_fraction_{base_column}\": CreateMoneyFeatureFractionStep(base_column)\n",
    "        for base_column in [\"credamount_770A\", \"maininc_215A\", \"mainoccupationinc_384A\", \"mean_amount_416A\"]\n",
    "    },\n",
    "    \"generate_mismatch_features\": GenerateMismatchFeaturesStep(),\n",
    "    \"generate_target_distribution_based_on_categorical_features_step\": GenerateTargetDistributionBasedOnCategoricalStep(),\n",
    "    \"drop_single_value_features\": DropSingleValueFeaturesStep(),\n",
    "    \"drop_variable_enum_features\": DropVariableEnumFeaturesStep(),\n",
    "    \"reduce_memory_usage\": ReduceMemoryUsageStep()\n",
    "})\n",
    "columns_info = ColumnsInfo()"
   ]
  },
  {
   "cell_type": "code",
   "execution_count": 4,
   "id": "de648e67",
   "metadata": {
    "execution": {
     "iopub.execute_input": "2024-03-12T11:49:48.764587Z",
     "iopub.status.busy": "2024-03-12T11:49:48.764112Z",
     "iopub.status.idle": "2024-03-12T11:49:48.768399Z",
     "shell.execute_reply": "2024-03-12T11:49:48.767511Z"
    },
    "papermill": {
     "duration": 0.025665,
     "end_time": "2024-03-12T11:49:48.770433",
     "exception": false,
     "start_time": "2024-03-12T11:49:48.744768",
     "status": "completed"
    },
    "tags": []
   },
   "outputs": [],
   "source": [
    "# train_dataset = data_loader.load_train_dataset()\n",
    "# case_id_set = train_dataset.get_base().filter(train_dataset.get_base()[\"WEEK_NUM\"] < 3)[\"case_id\"]\n",
    "# train_dataset = train_dataset.filter(lambda table: table.filter(pl.col(\"case_id\").is_in(case_id_set)))"
   ]
  },
  {
   "cell_type": "code",
   "execution_count": 5,
   "id": "d82bf4df",
   "metadata": {
    "execution": {
     "iopub.execute_input": "2024-03-12T11:49:48.808271Z",
     "iopub.status.busy": "2024-03-12T11:49:48.807006Z",
     "iopub.status.idle": "2024-03-12T12:06:23.752240Z",
     "shell.execute_reply": "2024-03-12T12:06:23.749945Z"
    },
    "papermill": {
     "duration": 994.97152,
     "end_time": "2024-03-12T12:06:23.759796",
     "exception": false,
     "start_time": "2024-03-12T11:49:48.788276",
     "status": "completed"
    },
    "tags": []
   },
   "outputs": [
    {
     "name": "stdout",
     "output_type": "stream",
     "text": [
      "Train dataset week range: 0-91\n",
      "Dataset hash='77e5faae5a347c4193f5ba7f0f940b43b788bdcba4b228235edd76ebf608657d'\n",
      "Step: set_column_info_step, execution_time: 0.11721444129943848\n",
      "Dataset hash='77e5faae5a347c4193f5ba7f0f940b43b788bdcba4b228235edd76ebf608657d' after step: set_column_info_step\n",
      "Step: set_types, execution_time: 20.413875579833984\n",
      "Dataset hash='043e1bbfe077dca49cea4cae0647d57fbdd3fe0688670f78d723a8f7a08bc73b' after step: set_types\n",
      "Step: process_categorical, execution_time: 26.964672565460205\n",
      "Dataset hash='80067e4a84c83620fb1a3ff8889dfca74ed15a41c8eab9487d3a5e6cbfde65fc' after step: process_categorical\n",
      "Step: process_person_table, execution_time: 0.3909430503845215\n",
      "Dataset hash='7e5c747397c09fe2a852a4a2c16302f1f2b306741a20f8db9f653c827a96256b' after step: process_person_table\n",
      "Create 250 new columns as one hot encoding\n",
      "Step: one_hot_encoding_for_depth1, execution_time: 24.269539833068848\n",
      "Dataset hash='496a261b39adbb84ef328f77bec16bbfb67fc21165a16d913715774635d0abc4' after step: one_hot_encoding_for_depth1\n",
      "Create 172 new columns as pairwise dates diff\n",
      "Step: pairwise_diff_raw_dates, execution_time: 1.3856778144836426\n",
      "Dataset hash='4af729217cdd9831c54312becb53af4a0b2547cf480eb7ac53a5a2e7752c2b74' after step: pairwise_diff_raw_dates\n",
      "Step: aggregate_depth_table, execution_time: 56.943734645843506\n",
      "Dataset hash='98efb50d22e40a9a960d0072b843d1367ea21a2bd57845531ce2a57ed85c7d8d' after step: aggregate_depth_table\n",
      "Drop 304 columns as duplicates\n",
      "Step: drop_equal_columns, execution_time: 50.24872040748596\n",
      "Dataset hash='6953d2bd58ca36fae35dc22cd783e3fbdc243cb8e76c7ff170039062d814b17e' after step: drop_equal_columns\n",
      "Drop 538 columns as almost null\n",
      "Step: drop_almost_null_features_respect_to_target, execution_time: 512.8051390647888\n",
      "Dataset hash='a0808150490796f2d3d50810dd9e79185e8eae46782ed3698bc817cdbb89bdba' after step: drop_almost_null_features_respect_to_target\n",
      "Step: join_table, execution_time: 9.337326049804688\n",
      "Dataset hash='3732f8ce108ab5fa80052c16014635e591522095e82dffc5aa813b527974ae44' after step: join_table\n",
      "Step: generate_age_feature, execution_time: 0.19656610488891602\n",
      "Dataset hash='5bad661c173028eed6160e8975c6f784416d413356e2ee61e304ecf4d5cffd7d' after step: generate_age_feature\n",
      "Step: fill_nulls_in_categorical_features, execution_time: 16.502990245819092\n",
      "Dataset hash='36c37869cdfcab4878efcacb051c91ce37723aa0df8be02b398d5788690d6c79' after step: fill_nulls_in_categorical_features\n",
      "Create 123 new columns as money feature fraction with base 'credamount_770A'\n",
      "Step: create_money_feature_fraction_credamount_770A, execution_time: 5.590827703475952\n",
      "Dataset hash='37dc7d9e8413b2511ecfc921120747d4d3d8dc40dacb3ee483e8851fe75a74f4' after step: create_money_feature_fraction_credamount_770A\n",
      "Create 123 new columns as money feature fraction with base 'maininc_215A'\n",
      "Step: create_money_feature_fraction_maininc_215A, execution_time: 8.19071650505066\n",
      "Dataset hash='1e8da25b6269cf02421786f84d6b77984851d5a367e8196720b9b67a7903f599' after step: create_money_feature_fraction_maininc_215A\n",
      "Create 123 new columns as money feature fraction with base 'mainoccupationinc_384A'\n",
      "Step: create_money_feature_fraction_mainoccupationinc_384A, execution_time: 5.559504747390747\n",
      "Dataset hash='3a720dca8c60cbf58a8fcea31dbb52a97d26b763a0a3339d5556d255db98f87a' after step: create_money_feature_fraction_mainoccupationinc_384A\n",
      "Create 123 new columns as money feature fraction with base 'mean_amount_416A'\n",
      "Step: create_money_feature_fraction_mean_amount_416A, execution_time: 8.129868507385254\n",
      "Dataset hash='92426b74e55678bc2484f97463470e23eed2afd1f47c51ae77e4906273134f55' after step: create_money_feature_fraction_mean_amount_416A\n",
      "Create 60 new columns as feature mismatch\n",
      "Step: generate_mismatch_features, execution_time: 49.33673596382141\n",
      "Dataset hash='95cecc1d1bffcc6b6409375f734afeb9aca5a55b48a9bf0ddc879191b04eb699' after step: generate_mismatch_features\n",
      "Create 210 as target distribution by categorical feature\n",
      "Step: generate_target_distribution_based_on_categorical_features_step, execution_time: 31.801596641540527\n",
      "Dataset hash='e1b4af20ffc4314944a10619aa3960280887aacd9bd7978b09e5da0d16a4b7c5' after step: generate_target_distribution_based_on_categorical_features_step\n",
      "Drop 19 columns as single value\n",
      "Step: drop_single_value_features, execution_time: 49.082810163497925\n",
      "Dataset hash='ba73b9841293278f9072d4dc12e6008322cca980cba81c2b9dca10bfb8947ada' after step: drop_single_value_features\n",
      "Drop 18 columns as variable enum value\n",
      "Step: drop_variable_enum_features, execution_time: 1.6636559963226318\n",
      "Dataset hash='07f10e245499d7394677887da042f285fdd4cce3b11daf55f1165958157edcd5' after step: drop_variable_enum_features\n",
      "Step: reduce_memory_usage, execution_time: 18.682396411895752\n",
      "Dataset hash='1edddc30c606ec2395a965ba3eb1a3cb75444a6811f877ffd9ac4b48b5fb61f3' after step: reduce_memory_usage\n"
     ]
    },
    {
     "data": {
      "text/plain": [
       "0"
      ]
     },
     "execution_count": 5,
     "metadata": {},
     "output_type": "execute_result"
    }
   ],
   "source": [
    "train_dataset = data_loader.load_train_dataset()\n",
    "print(\"Train dataset week range: {}-{}\".format(train_dataset.get_base()[\"WEEK_NUM\"].min(), train_dataset.get_base()[\"WEEK_NUM\"].max()))\n",
    "gc.collect()\n",
    "train_df, columns_info = preprocessor.process_train_dataset(train_dataset, columns_info)\n",
    "del train_dataset\n",
    "\n",
    "gc.collect()"
   ]
  },
  {
   "cell_type": "code",
   "execution_count": 6,
   "id": "910af649",
   "metadata": {
    "execution": {
     "iopub.execute_input": "2024-03-12T12:06:23.808380Z",
     "iopub.status.busy": "2024-03-12T12:06:23.807967Z",
     "iopub.status.idle": "2024-03-12T12:06:33.646911Z",
     "shell.execute_reply": "2024-03-12T12:06:33.645708Z"
    },
    "papermill": {
     "duration": 9.865374,
     "end_time": "2024-03-12T12:06:33.649697",
     "exception": false,
     "start_time": "2024-03-12T12:06:23.784323",
     "status": "completed"
    },
    "tags": []
   },
   "outputs": [],
   "source": [
    "for column in train_df.columns:\n",
    "    if train_df[column].dtype != pl.Enum:\n",
    "        x = train_df[column].is_infinite().sum() + train_df[column].is_nan().sum()\n",
    "        assert(x == 0)"
   ]
  },
  {
   "cell_type": "code",
   "execution_count": 7,
   "id": "010914b5",
   "metadata": {
    "execution": {
     "iopub.execute_input": "2024-03-12T12:06:33.699033Z",
     "iopub.status.busy": "2024-03-12T12:06:33.698560Z",
     "iopub.status.idle": "2024-03-12T12:07:32.811520Z",
     "shell.execute_reply": "2024-03-12T12:07:32.810467Z"
    },
    "papermill": {
     "duration": 59.166664,
     "end_time": "2024-03-12T12:07:32.840338",
     "exception": false,
     "start_time": "2024-03-12T12:06:33.673674",
     "status": "completed"
    },
    "tags": []
   },
   "outputs": [
    {
     "name": "stdout",
     "output_type": "stream",
     "text": [
      "8763.011041641235\n",
      "shape: (1_526_659, 1_703)\n",
      "┌─────────┬────────────┬────────┬──────────┬───┬────────────┬────────────┬────────────┬────────────┐\n",
      "│ case_id ┆ date_decis ┆ MONTH  ┆ WEEK_NUM ┆ … ┆ last_type_ ┆ last_type_ ┆ age_bucket ┆ age_bucket │\n",
      "│ ---     ┆ ion        ┆ ---    ┆ ---      ┆   ┆ 25L_target ┆ 25L_value_ ┆ _target_di ┆ _value_per │\n",
      "│ i32     ┆ ---        ┆ i32    ┆ i8       ┆   ┆ _distribut ┆ persent    ┆ stribution ┆ sent       │\n",
      "│         ┆ i16        ┆        ┆          ┆   ┆ io…        ┆ ---        ┆ ---        ┆ ---        │\n",
      "│         ┆            ┆        ┆          ┆   ┆ ---        ┆ f32        ┆ f32        ┆ f32        │\n",
      "│         ┆            ┆        ┆          ┆   ┆ f32        ┆            ┆            ┆            │\n",
      "╞═════════╪════════════╪════════╪══════════╪═══╪════════════╪════════════╪════════════╪════════════╡\n",
      "│ 0       ┆ 17899      ┆ 201901 ┆ 0        ┆ … ┆ 0.033826   ┆ 0.424935   ┆ 0.0344     ┆ 0.255728   │\n",
      "│ 1       ┆ 17899      ┆ 201901 ┆ 0        ┆ … ┆ 0.033826   ┆ 0.424935   ┆ 0.017717   ┆ 0.154987   │\n",
      "│ 2       ┆ 17900      ┆ 201901 ┆ 0        ┆ … ┆ 0.033826   ┆ 0.424935   ┆ 0.030632   ┆ 0.216253   │\n",
      "│ 3       ┆ 17899      ┆ 201901 ┆ 0        ┆ … ┆ 0.033826   ┆ 0.424935   ┆ 0.048363   ┆ 0.176153   │\n",
      "│ …       ┆ …          ┆ …      ┆ …        ┆ … ┆ …          ┆ …          ┆ …          ┆ …          │\n",
      "│ 2703451 ┆ 18540      ┆ 202010 ┆ 91       ┆ … ┆ 0.020385   ┆ 0.02545    ┆ 0.017717   ┆ 0.154987   │\n",
      "│ 2703452 ┆ 18540      ┆ 202010 ┆ 91       ┆ … ┆ 0.03012    ┆ 0.507943   ┆ 0.030632   ┆ 0.216253   │\n",
      "│ 2703453 ┆ 18540      ┆ 202010 ┆ 91       ┆ … ┆ 0.020385   ┆ 0.02545    ┆ 0.020837   ┆ 0.033448   │\n",
      "│ 2703454 ┆ 18540      ┆ 202010 ┆ 91       ┆ … ┆ 0.03012    ┆ 0.507943   ┆ 0.020837   ┆ 0.033448   │\n",
      "└─────────┴────────────┴────────┴──────────┴───┴────────────┴────────────┴────────────┴────────────┘\n"
     ]
    },
    {
     "data": {
      "text/plain": [
       "0"
      ]
     },
     "execution_count": 7,
     "metadata": {},
     "output_type": "execute_result"
    }
   ],
   "source": [
    "train_df.write_parquet(\"/kaggle/working/train_df.parquet\")\n",
    "print(train_df.estimated_size() / 1024 / 1024)\n",
    "print(train_df)\n",
    "\n",
    "del train_df\n",
    "gc.collect()"
   ]
  },
  {
   "cell_type": "code",
   "execution_count": 8,
   "id": "18837d4d",
   "metadata": {
    "execution": {
     "iopub.execute_input": "2024-03-12T12:07:32.899538Z",
     "iopub.status.busy": "2024-03-12T12:07:32.898885Z",
     "iopub.status.idle": "2024-03-12T12:07:51.755171Z",
     "shell.execute_reply": "2024-03-12T12:07:51.754083Z"
    },
    "papermill": {
     "duration": 18.887329,
     "end_time": "2024-03-12T12:07:51.757939",
     "exception": false,
     "start_time": "2024-03-12T12:07:32.870610",
     "status": "completed"
    },
    "tags": []
   },
   "outputs": [
    {
     "name": "stdout",
     "output_type": "stream",
     "text": [
      "Test dataset week range: 100-100\n",
      "Dataset hash='f5e9385b688fb0d3fa538479059776d6899587a709ee18a392f2a0b3e9c5423e'\n",
      "Step: set_column_info_step, execution_time: 0.16330504417419434\n",
      "Dataset hash='f5e9385b688fb0d3fa538479059776d6899587a709ee18a392f2a0b3e9c5423e' after step: set_column_info_step\n",
      "Step: set_types, execution_time: 0.20234251022338867\n",
      "Dataset hash='ca9fcd073526fcabcfdeef36e3530430486a2cfb7014859712e6ce3ca24db5f1' after step: set_types\n",
      "Step: process_categorical, execution_time: 0.513817310333252\n",
      "Dataset hash='6c8da1bad079a54d6a54692727c4f2ef22a3c38aaeb2fc6d60e9059805619143' after step: process_categorical\n",
      "Step: process_person_table, execution_time: 0.1555025577545166\n",
      "Dataset hash='0adc72d9ed19821f7f8c159e551cf510bc2e2ccc995d61b7068a12368b16d26c' after step: process_person_table\n",
      "Create 250 new columns as one hot encoding\n",
      "Step: one_hot_encoding_for_depth1, execution_time: 0.20012664794921875\n",
      "Dataset hash='66290c0724894f0545d4c72c923ce702c78791824ad9ec9263286de3ad43df75' after step: one_hot_encoding_for_depth1\n",
      "Create 172 new columns as pairwise dates diff\n",
      "Step: pairwise_diff_raw_dates, execution_time: 0.20275616645812988\n",
      "Dataset hash='32c73a5f99f28beb5968ab7d8db767509d651b9164868bfa40d0331102d39283' after step: pairwise_diff_raw_dates\n",
      "Step: aggregate_depth_table, execution_time: 0.6489176750183105\n",
      "Dataset hash='fb35c7ba42998a278d57c19f2615524dede4928b0878d8fdbe3545260eb8592b' after step: aggregate_depth_table\n",
      "Step: drop_equal_columns, execution_time: 0.16847538948059082\n",
      "Dataset hash='be6b16c8087a2db3a617360cc4eec39980e6a1022b4b77eac5a587cb680a6c1e' after step: drop_equal_columns\n",
      "Step: drop_almost_null_features_respect_to_target, execution_time: 0.18105459213256836\n",
      "Dataset hash='adacc2175750926fc4afbaf830ab2e6a792d7188be8f2a7517af9c5aba72a462' after step: drop_almost_null_features_respect_to_target\n",
      "Step: join_table, execution_time: 2.2528932094573975\n",
      "Dataset hash='6f383b8f06ffd32400e7c0796e6b4769b7d69305e08a08fe5fb9bd89ff9470d7' after step: join_table\n",
      "Step: generate_age_feature, execution_time: 0.15817713737487793\n",
      "Dataset hash='a59c8f1b2350897dda034cab586a8834cb4f53e9cb7e70ae87dfd0b345b43614' after step: generate_age_feature\n",
      "Step: fill_nulls_in_categorical_features, execution_time: 0.8241806030273438\n",
      "Dataset hash='91f931b4346778a5c3ec1cbcf60bf4b9f18e0988e0c72b7b6dd86833e24d04ba' after step: fill_nulls_in_categorical_features\n",
      "Create 123 new columns as money feature fraction with base 'credamount_770A'\n",
      "Step: create_money_feature_fraction_credamount_770A, execution_time: 0.2506377696990967\n",
      "Dataset hash='16efd453c3e0380cba0637e6cbde5d92fd9f5d355153daffe44cf22ce449c8f3' after step: create_money_feature_fraction_credamount_770A\n",
      "Create 123 new columns as money feature fraction with base 'maininc_215A'\n",
      "Step: create_money_feature_fraction_maininc_215A, execution_time: 0.25284671783447266\n",
      "Dataset hash='eee708410e262edc36f8a09e332ace5151f615f65bd80f0e8c5e191a89c35baa' after step: create_money_feature_fraction_maininc_215A\n",
      "Create 123 new columns as money feature fraction with base 'mainoccupationinc_384A'\n",
      "Step: create_money_feature_fraction_mainoccupationinc_384A, execution_time: 0.2785813808441162\n",
      "Dataset hash='733bcf04a646a5a22def64eb6f6a5c7b7b8838a657a652188d82668e5673d0c0' after step: create_money_feature_fraction_mainoccupationinc_384A\n",
      "Create 123 new columns as money feature fraction with base 'mean_amount_416A'\n",
      "Step: create_money_feature_fraction_mean_amount_416A, execution_time: 0.27082014083862305\n",
      "Dataset hash='435d8d5500d7fdf0ca08fd6d482d2d2084771ab1c960a434af17f00a000cb94a' after step: create_money_feature_fraction_mean_amount_416A\n",
      "Create 60 new columns as feature mismatch\n",
      "Step: generate_mismatch_features, execution_time: 0.18732881546020508\n",
      "Dataset hash='db3ca4ff30d600c8274792219dfad033032205c96eaff481a5a7d2f74b2e80b8' after step: generate_mismatch_features\n",
      "Create 210 as target distribution by categorical feature\n",
      "Step: generate_target_distribution_based_on_categorical_features_step, execution_time: 0.35178327560424805\n",
      "Dataset hash='bb57e1058501093400786d5ee8795b7986dda30475e91c5dcd8d1dab181e4575' after step: generate_target_distribution_based_on_categorical_features_step\n",
      "Step: drop_single_value_features, execution_time: 0.1562812328338623\n",
      "Dataset hash='13c59d33b5bf6195e69c14024d74dd0cd75a36a70431641a890d8bef76b84ec5' after step: drop_single_value_features\n",
      "Step: drop_variable_enum_features, execution_time: 0.15789461135864258\n",
      "Dataset hash='748ccd07e51321f530a1b22793496f3e21c93a77b07a8338e380e94c2fe864dc' after step: drop_variable_enum_features\n",
      "Step: reduce_memory_usage, execution_time: 1.1773056983947754\n",
      "Dataset hash='f30d1a621e0f59a6db7ba01d8faebb165096b5488af5fb5c6da372cf42ced7c4' after step: reduce_memory_usage\n"
     ]
    },
    {
     "data": {
      "text/plain": [
       "0"
      ]
     },
     "execution_count": 8,
     "metadata": {},
     "output_type": "execute_result"
    }
   ],
   "source": [
    "test_dataset = data_loader.load_test_dataset()\n",
    "print(\"Test dataset week range: {}-{}\".format(test_dataset.get_base()[\"WEEK_NUM\"].min(), test_dataset.get_base()[\"WEEK_NUM\"].max()))\n",
    "gc.collect()\n",
    "test_df, columns_info = preprocessor.process_test_dataset(test_dataset, columns_info)\n",
    "del test_dataset\n",
    "\n",
    "gc.collect()"
   ]
  },
  {
   "cell_type": "code",
   "execution_count": 9,
   "id": "1074d71d",
   "metadata": {
    "execution": {
     "iopub.execute_input": "2024-03-12T12:07:51.810519Z",
     "iopub.status.busy": "2024-03-12T12:07:51.809597Z",
     "iopub.status.idle": "2024-03-12T12:07:52.461628Z",
     "shell.execute_reply": "2024-03-12T12:07:52.460069Z"
    },
    "papermill": {
     "duration": 0.681755,
     "end_time": "2024-03-12T12:07:52.464885",
     "exception": false,
     "start_time": "2024-03-12T12:07:51.783130",
     "status": "completed"
    },
    "tags": []
   },
   "outputs": [
    {
     "name": "stdout",
     "output_type": "stream",
     "text": [
      "0.2993202209472656\n",
      "shape: (10, 1_702)\n",
      "┌─────────┬────────────┬────────┬──────────┬───┬────────────┬────────────┬────────────┬────────────┐\n",
      "│ case_id ┆ date_decis ┆ MONTH  ┆ WEEK_NUM ┆ … ┆ last_type_ ┆ last_type_ ┆ age_bucket ┆ age_bucket │\n",
      "│ ---     ┆ ion        ┆ ---    ┆ ---      ┆   ┆ 25L_target ┆ 25L_value_ ┆ _target_di ┆ _value_per │\n",
      "│ i32     ┆ ---        ┆ i32    ┆ i8       ┆   ┆ _distribut ┆ persent    ┆ stribution ┆ sent       │\n",
      "│         ┆ i16        ┆        ┆          ┆   ┆ io…        ┆ ---        ┆ ---        ┆ ---        │\n",
      "│         ┆            ┆        ┆          ┆   ┆ ---        ┆ f32        ┆ f32        ┆ f32        │\n",
      "│         ┆            ┆        ┆          ┆   ┆ f32        ┆            ┆            ┆            │\n",
      "╞═════════╪════════════╪════════╪══════════╪═══╪════════════╪════════════╪════════════╪════════════╡\n",
      "│ 57543   ┆ 18761      ┆ 202201 ┆ 100      ┆ … ┆ 0.033826   ┆ 0.424935   ┆ 0.030632   ┆ 0.216253   │\n",
      "│ 57549   ┆ 19009      ┆ 202201 ┆ 100      ┆ … ┆ 0.033826   ┆ 0.424935   ┆ 0.017717   ┆ 0.154987   │\n",
      "│ 57551   ┆ 18593      ┆ 202201 ┆ 100      ┆ … ┆ 0.03012    ┆ 0.507943   ┆ 0.0344     ┆ 0.255728   │\n",
      "│ 57552   ┆ 18593      ┆ 202201 ┆ 100      ┆ … ┆ 0.03012    ┆ 0.507943   ┆ 0.017717   ┆ 0.154987   │\n",
      "│ …       ┆ …          ┆ …      ┆ …        ┆ … ┆ …          ┆ …          ┆ …          ┆ …          │\n",
      "│ 57631   ┆ 19147      ┆ 202201 ┆ 100      ┆ … ┆ 0.03012    ┆ 0.507943   ┆ null       ┆ null       │\n",
      "│ 57632   ┆ 19028      ┆ 202201 ┆ 100      ┆ … ┆ 0.03012    ┆ 0.507943   ┆ null       ┆ null       │\n",
      "│ 57633   ┆ 19017      ┆ 202201 ┆ 100      ┆ … ┆ 0.03012    ┆ 0.507943   ┆ null       ┆ null       │\n",
      "│ 57634   ┆ 18654      ┆ 202201 ┆ 100      ┆ … ┆ 0.03012    ┆ 0.507943   ┆ null       ┆ null       │\n",
      "└─────────┴────────────┴────────┴──────────┴───┴────────────┴────────────┴────────────┴────────────┘\n"
     ]
    },
    {
     "data": {
      "text/plain": [
       "0"
      ]
     },
     "execution_count": 9,
     "metadata": {},
     "output_type": "execute_result"
    }
   ],
   "source": [
    "test_df.write_parquet(\"/kaggle/working/test_df.parquet\")\n",
    "print(test_df.estimated_size() / 1024 / 1024)\n",
    "print(test_df)\n",
    "\n",
    "del test_df\n",
    "gc.collect()"
   ]
  },
  {
   "cell_type": "markdown",
   "id": "5235878a",
   "metadata": {
    "_kg_hide-input": true,
    "papermill": {
     "duration": 0.024998,
     "end_time": "2024-03-12T12:07:52.515533",
     "exception": false,
     "start_time": "2024-03-12T12:07:52.490535",
     "status": "completed"
    },
    "tags": []
   },
   "source": [
    "# Data visualization"
   ]
  },
  {
   "cell_type": "code",
   "execution_count": null,
   "id": "6e4c9789",
   "metadata": {
    "papermill": {
     "duration": 0.024827,
     "end_time": "2024-03-12T12:07:52.566000",
     "exception": false,
     "start_time": "2024-03-12T12:07:52.541173",
     "status": "completed"
    },
    "tags": []
   },
   "outputs": [],
   "source": []
  },
  {
   "cell_type": "code",
   "execution_count": 10,
   "id": "c6016acd",
   "metadata": {
    "execution": {
     "iopub.execute_input": "2024-03-12T12:07:52.619054Z",
     "iopub.status.busy": "2024-03-12T12:07:52.618665Z",
     "iopub.status.idle": "2024-03-12T12:07:52.622639Z",
     "shell.execute_reply": "2024-03-12T12:07:52.621859Z"
    },
    "papermill": {
     "duration": 0.033128,
     "end_time": "2024-03-12T12:07:52.624744",
     "exception": false,
     "start_time": "2024-03-12T12:07:52.591616",
     "status": "completed"
    },
    "tags": []
   },
   "outputs": [],
   "source": [
    "# train_dataset = data_loader.load_train_dataset()"
   ]
  },
  {
   "cell_type": "code",
   "execution_count": 11,
   "id": "2ff2946a",
   "metadata": {
    "execution": {
     "iopub.execute_input": "2024-03-12T12:07:52.678171Z",
     "iopub.status.busy": "2024-03-12T12:07:52.677545Z",
     "iopub.status.idle": "2024-03-12T12:07:52.682485Z",
     "shell.execute_reply": "2024-03-12T12:07:52.681527Z"
    },
    "papermill": {
     "duration": 0.034466,
     "end_time": "2024-03-12T12:07:52.684841",
     "exception": false,
     "start_time": "2024-03-12T12:07:52.650375",
     "status": "completed"
    },
    "tags": []
   },
   "outputs": [],
   "source": [
    "# [column for column in train_df.columns if \"amtdebitincoming_4809443A\" in column]"
   ]
  },
  {
   "cell_type": "code",
   "execution_count": 12,
   "id": "ae28fc5d",
   "metadata": {
    "execution": {
     "iopub.execute_input": "2024-03-12T12:07:52.737041Z",
     "iopub.status.busy": "2024-03-12T12:07:52.736594Z",
     "iopub.status.idle": "2024-03-12T12:07:52.741358Z",
     "shell.execute_reply": "2024-03-12T12:07:52.740233Z"
    },
    "papermill": {
     "duration": 0.033704,
     "end_time": "2024-03-12T12:07:52.743856",
     "exception": false,
     "start_time": "2024-03-12T12:07:52.710152",
     "status": "completed"
    },
    "tags": []
   },
   "outputs": [],
   "source": [
    "# train_dataset.get_base()[\"target\"].mean()"
   ]
  },
  {
   "cell_type": "code",
   "execution_count": 13,
   "id": "9619366d",
   "metadata": {
    "execution": {
     "iopub.execute_input": "2024-03-12T12:07:52.797248Z",
     "iopub.status.busy": "2024-03-12T12:07:52.796224Z",
     "iopub.status.idle": "2024-03-12T12:07:52.800564Z",
     "shell.execute_reply": "2024-03-12T12:07:52.799690Z"
    },
    "papermill": {
     "duration": 0.033447,
     "end_time": "2024-03-12T12:07:52.802744",
     "exception": false,
     "start_time": "2024-03-12T12:07:52.769297",
     "status": "completed"
    },
    "tags": []
   },
   "outputs": [],
   "source": [
    "# tables = {name: table for name, table in train_dataset.get_depth_tables(1)}"
   ]
  },
  {
   "cell_type": "code",
   "execution_count": 14,
   "id": "09e74670",
   "metadata": {
    "execution": {
     "iopub.execute_input": "2024-03-12T12:07:52.855336Z",
     "iopub.status.busy": "2024-03-12T12:07:52.854679Z",
     "iopub.status.idle": "2024-03-12T12:07:52.859838Z",
     "shell.execute_reply": "2024-03-12T12:07:52.858687Z"
    },
    "papermill": {
     "duration": 0.034024,
     "end_time": "2024-03-12T12:07:52.862128",
     "exception": false,
     "start_time": "2024-03-12T12:07:52.828104",
     "status": "completed"
    },
    "tags": []
   },
   "outputs": [],
   "source": [
    "# applprev_1 = tables[\"applprev_1\"]"
   ]
  },
  {
   "cell_type": "code",
   "execution_count": 15,
   "id": "130068b6",
   "metadata": {
    "execution": {
     "iopub.execute_input": "2024-03-12T12:07:52.914721Z",
     "iopub.status.busy": "2024-03-12T12:07:52.914106Z",
     "iopub.status.idle": "2024-03-12T12:07:52.917847Z",
     "shell.execute_reply": "2024-03-12T12:07:52.916944Z"
    },
    "papermill": {
     "duration": 0.032378,
     "end_time": "2024-03-12T12:07:52.919949",
     "exception": false,
     "start_time": "2024-03-12T12:07:52.887571",
     "status": "completed"
    },
    "tags": []
   },
   "outputs": [],
   "source": [
    "# joined = applprev_1[\"case_id\"].value_counts().join(train_dataset.get_base()[[\"case_id\", \"target\"]], on=\"case_id\").sort(\"count\")\n",
    "# joined.filter(pl.col(\"target\") == 1)"
   ]
  },
  {
   "cell_type": "code",
   "execution_count": 16,
   "id": "ffbfb755",
   "metadata": {
    "execution": {
     "iopub.execute_input": "2024-03-12T12:07:52.972783Z",
     "iopub.status.busy": "2024-03-12T12:07:52.972328Z",
     "iopub.status.idle": "2024-03-12T12:07:52.977108Z",
     "shell.execute_reply": "2024-03-12T12:07:52.975657Z"
    },
    "papermill": {
     "duration": 0.034752,
     "end_time": "2024-03-12T12:07:52.979769",
     "exception": false,
     "start_time": "2024-03-12T12:07:52.945017",
     "status": "completed"
    },
    "tags": []
   },
   "outputs": [],
   "source": [
    "# base = train_dataset.get_base()"
   ]
  },
  {
   "cell_type": "code",
   "execution_count": 17,
   "id": "4b20c406",
   "metadata": {
    "execution": {
     "iopub.execute_input": "2024-03-12T12:07:53.033205Z",
     "iopub.status.busy": "2024-03-12T12:07:53.032772Z",
     "iopub.status.idle": "2024-03-12T12:07:53.038687Z",
     "shell.execute_reply": "2024-03-12T12:07:53.037587Z"
    },
    "papermill": {
     "duration": 0.035729,
     "end_time": "2024-03-12T12:07:53.041029",
     "exception": false,
     "start_time": "2024-03-12T12:07:53.005300",
     "status": "completed"
    },
    "tags": []
   },
   "outputs": [],
   "source": [
    "# base.filter(pl.col(\"case_id\") == 2702490)"
   ]
  },
  {
   "cell_type": "code",
   "execution_count": 18,
   "id": "71121807",
   "metadata": {
    "execution": {
     "iopub.execute_input": "2024-03-12T12:07:53.094544Z",
     "iopub.status.busy": "2024-03-12T12:07:53.093921Z",
     "iopub.status.idle": "2024-03-12T12:07:53.097595Z",
     "shell.execute_reply": "2024-03-12T12:07:53.096763Z"
    },
    "papermill": {
     "duration": 0.032943,
     "end_time": "2024-03-12T12:07:53.099785",
     "exception": false,
     "start_time": "2024-03-12T12:07:53.066842",
     "status": "completed"
    },
    "tags": []
   },
   "outputs": [],
   "source": [
    "# applprev_1.filter(applprev_1[\"case_id\"] == 2702490).sort(\"num_group1\")\n",
    "#base.filter(pl.col(\"case_id\") == 176526)"
   ]
  },
  {
   "cell_type": "code",
   "execution_count": 19,
   "id": "b33d1d65",
   "metadata": {
    "execution": {
     "iopub.execute_input": "2024-03-12T12:07:53.153252Z",
     "iopub.status.busy": "2024-03-12T12:07:53.152639Z",
     "iopub.status.idle": "2024-03-12T12:07:53.156549Z",
     "shell.execute_reply": "2024-03-12T12:07:53.155665Z"
    },
    "papermill": {
     "duration": 0.033479,
     "end_time": "2024-03-12T12:07:53.159116",
     "exception": false,
     "start_time": "2024-03-12T12:07:53.125637",
     "status": "completed"
    },
    "tags": []
   },
   "outputs": [],
   "source": [
    "# applprev_1.filter(applprev_1[\"case_id\"] == 2702490).sort(\"num_group1\")[[\"credamount_590A\", \"mainoccupationinc_437A\", \"rejectreason_755M\", \"rejectreasonclient_4145042M\"]]\n"
   ]
  },
  {
   "cell_type": "code",
   "execution_count": 20,
   "id": "c01d05b0",
   "metadata": {
    "execution": {
     "iopub.execute_input": "2024-03-12T12:07:53.211547Z",
     "iopub.status.busy": "2024-03-12T12:07:53.211077Z",
     "iopub.status.idle": "2024-03-12T12:07:53.216354Z",
     "shell.execute_reply": "2024-03-12T12:07:53.215152Z"
    },
    "papermill": {
     "duration": 0.034624,
     "end_time": "2024-03-12T12:07:53.219018",
     "exception": false,
     "start_time": "2024-03-12T12:07:53.184394",
     "status": "completed"
    },
    "tags": []
   },
   "outputs": [],
   "source": [
    "# applprev_1.filter(applprev_1[\"case_id\"] == 176526).sort(\"num_group1\")[[\"credamount_590A\", \"mainoccupationinc_437A\", \"rejectreason_755M\", \"rejectreasonclient_4145042M\"]]a"
   ]
  },
  {
   "cell_type": "code",
   "execution_count": 21,
   "id": "c92d9102",
   "metadata": {
    "execution": {
     "iopub.execute_input": "2024-03-12T12:07:53.271881Z",
     "iopub.status.busy": "2024-03-12T12:07:53.270812Z",
     "iopub.status.idle": "2024-03-12T12:07:53.275713Z",
     "shell.execute_reply": "2024-03-12T12:07:53.274686Z"
    },
    "papermill": {
     "duration": 0.033711,
     "end_time": "2024-03-12T12:07:53.278086",
     "exception": false,
     "start_time": "2024-03-12T12:07:53.244375",
     "status": "completed"
    },
    "tags": []
   },
   "outputs": [],
   "source": [
    "# applprev_1.filter(applprev_1[\"case_id\"] == 176526).sort(\"num_group1\")"
   ]
  },
  {
   "cell_type": "code",
   "execution_count": 22,
   "id": "89e8604a",
   "metadata": {
    "execution": {
     "iopub.execute_input": "2024-03-12T12:07:53.331053Z",
     "iopub.status.busy": "2024-03-12T12:07:53.330668Z",
     "iopub.status.idle": "2024-03-12T12:07:53.334902Z",
     "shell.execute_reply": "2024-03-12T12:07:53.333866Z"
    },
    "papermill": {
     "duration": 0.033708,
     "end_time": "2024-03-12T12:07:53.337284",
     "exception": false,
     "start_time": "2024-03-12T12:07:53.303576",
     "status": "completed"
    },
    "tags": []
   },
   "outputs": [],
   "source": [
    "# FreatureDescriptionGetter().get(\"rejectreasonclient_4145042M\")"
   ]
  },
  {
   "cell_type": "code",
   "execution_count": 23,
   "id": "69506ac3",
   "metadata": {
    "execution": {
     "iopub.execute_input": "2024-03-12T12:07:53.389430Z",
     "iopub.status.busy": "2024-03-12T12:07:53.388966Z",
     "iopub.status.idle": "2024-03-12T12:07:53.394249Z",
     "shell.execute_reply": "2024-03-12T12:07:53.393125Z"
    },
    "papermill": {
     "duration": 0.033958,
     "end_time": "2024-03-12T12:07:53.396568",
     "exception": false,
     "start_time": "2024-03-12T12:07:53.362610",
     "status": "completed"
    },
    "tags": []
   },
   "outputs": [],
   "source": [
    "# def bucket_mean_split(x, y, buckets=100):\n",
    "#     x_buckets = []\n",
    "#     y_buckets = []\n",
    "\n",
    "#     x = np.array(x)\n",
    "#     y = np.array(y)\n",
    "#     x_quantiles = [np.quantile(x, i / buckets) for i in range(0, buckets + 1)]\n",
    "#     for i in range(0, buckets):\n",
    "#         filter = (x >= x_quantiles[i]) & (x <= x_quantiles[i + 1])\n",
    "#         x_buckets.append(np.mean(x[filter]))\n",
    "#         y_buckets.append(np.mean(y[filter]))\n",
    "#     return x_buckets, y_buckets"
   ]
  },
  {
   "cell_type": "code",
   "execution_count": 24,
   "id": "f2de8ed3",
   "metadata": {
    "execution": {
     "iopub.execute_input": "2024-03-12T12:07:53.448752Z",
     "iopub.status.busy": "2024-03-12T12:07:53.448332Z",
     "iopub.status.idle": "2024-03-12T12:07:53.453357Z",
     "shell.execute_reply": "2024-03-12T12:07:53.452256Z"
    },
    "papermill": {
     "duration": 0.033815,
     "end_time": "2024-03-12T12:07:53.455633",
     "exception": false,
     "start_time": "2024-03-12T12:07:53.421818",
     "status": "completed"
    },
    "tags": []
   },
   "outputs": [],
   "source": [
    "# train[\"target\"].mean()"
   ]
  },
  {
   "cell_type": "code",
   "execution_count": 25,
   "id": "feaad881",
   "metadata": {
    "execution": {
     "iopub.execute_input": "2024-03-12T12:07:53.507983Z",
     "iopub.status.busy": "2024-03-12T12:07:53.507559Z",
     "iopub.status.idle": "2024-03-12T12:07:53.513640Z",
     "shell.execute_reply": "2024-03-12T12:07:53.512473Z"
    },
    "papermill": {
     "duration": 0.035051,
     "end_time": "2024-03-12T12:07:53.515991",
     "exception": false,
     "start_time": "2024-03-12T12:07:53.480940",
     "status": "completed"
    },
    "tags": []
   },
   "outputs": [],
   "source": [
    "# print(\"Mean target={} where actualdpdtolerance_344P != 0\".format(train[\"target\"].filter(train[\"actualdpdtolerance_344P\"] != 0).mean()))\n",
    "# print(\"Mean target={} where actualdpdtolerance_344P == 0\".format(train[\"target\"].filter(train[\"actualdpdtolerance_344P\"] == 0).mean()))\n",
    "# print(\"Mean target={} where actualdpdtolerance_344P is null\".format(train[\"target\"].filter(train[\"actualdpdtolerance_344P\"].is_null()).mean()))"
   ]
  },
  {
   "cell_type": "code",
   "execution_count": 26,
   "id": "576865f5",
   "metadata": {
    "execution": {
     "iopub.execute_input": "2024-03-12T12:07:53.568218Z",
     "iopub.status.busy": "2024-03-12T12:07:53.567836Z",
     "iopub.status.idle": "2024-03-12T12:07:53.574022Z",
     "shell.execute_reply": "2024-03-12T12:07:53.572019Z"
    },
    "papermill": {
     "duration": 0.035636,
     "end_time": "2024-03-12T12:07:53.576736",
     "exception": false,
     "start_time": "2024-03-12T12:07:53.541100",
     "status": "completed"
    },
    "tags": []
   },
   "outputs": [],
   "source": [
    "# columns = [column for column in train.columns if (train[column].dtype == pl.Float64)]\n",
    "\n",
    "# figure, axis = plt.subplots(len(columns) // 5 + 1, 5, figsize=(15, 30))\n",
    "# for index, column in enumerate(columns):\n",
    "#     current_plot = axis[index // 5, index % 5]\n",
    "#     x = train[column]\n",
    "#     y = train[\"target\"]\n",
    "#     if (x.dtype == pl.String or x.dtype == pl.Boolean):\n",
    "#         continue\n",
    "#     filter = x.is_not_null()\n",
    "#     x = x.filter(filter)\n",
    "#     y = y.filter(filter)\n",
    "#     if (x.is_empty()):\n",
    "#         continue\n",
    "#     x_bucket, y_bucket = bucket_mean_split(x.to_numpy(), y.to_numpy(), buckets=100)\n",
    "#     current_plot.plot(x_bucket, y_bucket)\n",
    "#     current_plot.set_title(column)\n",
    "# plt.show()"
   ]
  },
  {
   "cell_type": "code",
   "execution_count": 27,
   "id": "c9f975ab",
   "metadata": {
    "execution": {
     "iopub.execute_input": "2024-03-12T12:07:53.630643Z",
     "iopub.status.busy": "2024-03-12T12:07:53.629617Z",
     "iopub.status.idle": "2024-03-12T12:07:53.634562Z",
     "shell.execute_reply": "2024-03-12T12:07:53.633456Z"
    },
    "papermill": {
     "duration": 0.034626,
     "end_time": "2024-03-12T12:07:53.636826",
     "exception": false,
     "start_time": "2024-03-12T12:07:53.602200",
     "status": "completed"
    },
    "tags": []
   },
   "outputs": [],
   "source": [
    "# features = train_df.columns\n",
    "# features.remove(\"WEEK_NUM\")\n",
    "# features.remove(\"case_id\")\n",
    "# features.remove(\"target\")"
   ]
  },
  {
   "cell_type": "code",
   "execution_count": 28,
   "id": "f78bc250",
   "metadata": {
    "execution": {
     "iopub.execute_input": "2024-03-12T12:07:53.689306Z",
     "iopub.status.busy": "2024-03-12T12:07:53.688915Z",
     "iopub.status.idle": "2024-03-12T12:07:53.693298Z",
     "shell.execute_reply": "2024-03-12T12:07:53.692454Z"
    },
    "papermill": {
     "duration": 0.033796,
     "end_time": "2024-03-12T12:07:53.696180",
     "exception": false,
     "start_time": "2024-03-12T12:07:53.662384",
     "status": "completed"
    },
    "tags": []
   },
   "outputs": [],
   "source": [
    "# gc.collect()"
   ]
  },
  {
   "cell_type": "markdown",
   "id": "21e044b8",
   "metadata": {
    "papermill": {
     "duration": 0.024932,
     "end_time": "2024-03-12T12:07:53.747103",
     "exception": false,
     "start_time": "2024-03-12T12:07:53.722171",
     "status": "completed"
    },
    "tags": []
   },
   "source": [
    "### Feature Importance"
   ]
  },
  {
   "cell_type": "code",
   "execution_count": 29,
   "id": "9ab2afcc",
   "metadata": {
    "execution": {
     "iopub.execute_input": "2024-03-12T12:07:53.800404Z",
     "iopub.status.busy": "2024-03-12T12:07:53.799989Z",
     "iopub.status.idle": "2024-03-12T12:07:53.805509Z",
     "shell.execute_reply": "2024-03-12T12:07:53.804274Z"
    },
    "papermill": {
     "duration": 0.035308,
     "end_time": "2024-03-12T12:07:53.807834",
     "exception": false,
     "start_time": "2024-03-12T12:07:53.772526",
     "status": "completed"
    },
    "tags": []
   },
   "outputs": [],
   "source": [
    "# def train_rf(X, Y):    \n",
    "#     params = {\n",
    "#         \"boosting_type\": \"gbdt\",\n",
    "#         \"objective\": \"binary\",\n",
    "#         \"metric\": \"auc\",\n",
    "#         \"max_depth\": 8,\n",
    "#         \"max_bin\": 255,\n",
    "#         \"learning_rate\": 0.05,\n",
    "#         \"n_estimators\": 200,\n",
    "#         \"colsample_bytree\": 0.8, \n",
    "#         \"colsample_bynode\": 0.8,\n",
    "#         \"verbose\": -1,\n",
    "#         \"random_state\": 42,\n",
    "#         \"device\": \"gpu\",\n",
    "#     }\n",
    "    \n",
    "#     model = lgb.LGBMClassifier(**params)\n",
    "    \n",
    "#     model.fit(X.to_pandas(), Y.to_pandas())\n",
    "    \n",
    "#     # Get feature importances\n",
    "#     return pl.DataFrame({\n",
    "#         \"feature\": list(X.columns),\n",
    "#         \"feature_importance\": model.feature_importances_,\n",
    "#         \"train_score\": roc_auc_score(Y.to_pandas(), model.predict(X.to_pandas()))\n",
    "#     })"
   ]
  },
  {
   "cell_type": "code",
   "execution_count": 30,
   "id": "31bfe3a4",
   "metadata": {
    "execution": {
     "iopub.execute_input": "2024-03-12T12:07:53.861160Z",
     "iopub.status.busy": "2024-03-12T12:07:53.860738Z",
     "iopub.status.idle": "2024-03-12T12:07:53.865845Z",
     "shell.execute_reply": "2024-03-12T12:07:53.864726Z"
    },
    "papermill": {
     "duration": 0.034497,
     "end_time": "2024-03-12T12:07:53.868234",
     "exception": false,
     "start_time": "2024-03-12T12:07:53.833737",
     "status": "completed"
    },
    "tags": []
   },
   "outputs": [],
   "source": [
    "# def get_feature_importance(X, Y):\n",
    "#     COUNT_ITER = 50\n",
    "    \n",
    "#     dfs = []\n",
    "#     for i in range(COUNT_ITER):\n",
    "#         gc.collect()\n",
    "        \n",
    "#         start_time = time.time()\n",
    "#         shuffled_Y = Y.clone().sample(fraction=1.0, shuffle=True)\n",
    "#         current_df = train_rf(X, shuffled_Y)\n",
    "#         finish_time = time.time()\n",
    "#         print(f\"Finish iteration: {i + 1}/{COUNT_ITER}, time: {finish_time - start_time}\")\n",
    "#         current_df = current_df.with_columns(pl.lit(i).alias(\"iteration\"))\n",
    "#         dfs.append(current_df)\n",
    "        \n",
    "#     return pl.concat(dfs, rechunk=True), train_rf(X, Y)"
   ]
  },
  {
   "cell_type": "code",
   "execution_count": 31,
   "id": "785fe4fd",
   "metadata": {
    "execution": {
     "iopub.execute_input": "2024-03-12T12:07:53.920829Z",
     "iopub.status.busy": "2024-03-12T12:07:53.920383Z",
     "iopub.status.idle": "2024-03-12T12:07:53.925093Z",
     "shell.execute_reply": "2024-03-12T12:07:53.924071Z"
    },
    "papermill": {
     "duration": 0.033629,
     "end_time": "2024-03-12T12:07:53.927374",
     "exception": false,
     "start_time": "2024-03-12T12:07:53.893745",
     "status": "completed"
    },
    "tags": []
   },
   "outputs": [],
   "source": [
    "# shuffled_feature_importance_df, feature_importance_df = get_feature_importance(train_df[features], train_df[\"target\"])\n",
    "# shuffled_feature_importance_df.write_csv(\"shuffled_feature_importance_df.csv\", separator=\",\")\n",
    "# feature_importance_df.write_csv(\"feature_importance_df.csv\", separator=\",\")"
   ]
  },
  {
   "cell_type": "code",
   "execution_count": 32,
   "id": "51d595ee",
   "metadata": {
    "execution": {
     "iopub.execute_input": "2024-03-12T12:07:53.980280Z",
     "iopub.status.busy": "2024-03-12T12:07:53.979857Z",
     "iopub.status.idle": "2024-03-12T12:07:53.984950Z",
     "shell.execute_reply": "2024-03-12T12:07:53.983756Z"
    },
    "papermill": {
     "duration": 0.034611,
     "end_time": "2024-03-12T12:07:53.987395",
     "exception": false,
     "start_time": "2024-03-12T12:07:53.952784",
     "status": "completed"
    },
    "tags": []
   },
   "outputs": [],
   "source": [
    "# important_features = []\n",
    "# for column in feature_importance_df[\"feature\"]:\n",
    "#     shuffled_feature_importance = shuffled_feature_importance_df.filter(shuffled_feature_importance_df[\"feature\"] == column)[\"feature_importance\"].to_numpy()\n",
    "#     feature_importance = feature_importance_df.filter(feature_importance_df[\"feature\"] == column)[\"feature_importance\"][0]\n",
    "    \n",
    "#     if (np.percentile(shuffled_feature_importance, 90) <= feature_importance):\n",
    "#         important_features.append(column)\n",
    "# print(len(important_features), important_features)"
   ]
  },
  {
   "cell_type": "markdown",
   "id": "24523166",
   "metadata": {
    "papermill": {
     "duration": 0.025642,
     "end_time": "2024-03-12T12:07:54.039284",
     "exception": false,
     "start_time": "2024-03-12T12:07:54.013642",
     "status": "completed"
    },
    "tags": []
   },
   "source": [
    "# Training"
   ]
  },
  {
   "cell_type": "code",
   "execution_count": 33,
   "id": "dd86f551",
   "metadata": {
    "execution": {
     "iopub.execute_input": "2024-03-12T12:07:54.092087Z",
     "iopub.status.busy": "2024-03-12T12:07:54.091674Z",
     "iopub.status.idle": "2024-03-12T12:07:54.097221Z",
     "shell.execute_reply": "2024-03-12T12:07:54.095843Z"
    },
    "papermill": {
     "duration": 0.035009,
     "end_time": "2024-03-12T12:07:54.099771",
     "exception": false,
     "start_time": "2024-03-12T12:07:54.064762",
     "status": "completed"
    },
    "tags": []
   },
   "outputs": [],
   "source": [
    "# class VotingModel(BaseEstimator, RegressorMixin):\n",
    "#     def __init__(self, estimators):\n",
    "#         super().__init__()\n",
    "#         self.estimators = estimators\n",
    "        \n",
    "#     def fit(self, X, y=None):\n",
    "#         return self\n",
    "    \n",
    "#     def predict(self, X):\n",
    "#         y_preds = [estimator.predict(X) for estimator in self.estimators]\n",
    "#         return np.mean(y_preds, axis=0)\n",
    "    \n",
    "#     def predict_proba(self, X):\n",
    "#         y_preds = [estimator.predict_proba(X) for estimator in self.estimators]\n",
    "#         return np.mean(y_preds, axis=0)\n",
    "    \n",
    "#     def get_feature_importance(self):\n",
    "#         feature_importances = np.array([0 for feature in features])\n",
    "\n",
    "#         for model in self.estimators:\n",
    "#             feature_importances += model.feature_importances_\n",
    "\n",
    "#         return feature_importances"
   ]
  },
  {
   "cell_type": "code",
   "execution_count": 34,
   "id": "5e97dda8",
   "metadata": {
    "execution": {
     "iopub.execute_input": "2024-03-12T12:07:54.152469Z",
     "iopub.status.busy": "2024-03-12T12:07:54.152038Z",
     "iopub.status.idle": "2024-03-12T12:07:54.157300Z",
     "shell.execute_reply": "2024-03-12T12:07:54.155925Z"
    },
    "papermill": {
     "duration": 0.034522,
     "end_time": "2024-03-12T12:07:54.159627",
     "exception": false,
     "start_time": "2024-03-12T12:07:54.125105",
     "status": "completed"
    },
    "tags": []
   },
   "outputs": [],
   "source": [
    "# for column in features:\n",
    "#     if (train_dataset[column].dtype != pl.Categorical) and \\\n",
    "#         (train_dataset[column].dtype != pl.Float64) and \\\n",
    "#         (train_dataset[column].dtype != pl.Float64):\n",
    "#         print(column, train_dataset[column].dtype)"
   ]
  },
  {
   "cell_type": "code",
   "execution_count": 35,
   "id": "58069b6a",
   "metadata": {
    "execution": {
     "iopub.execute_input": "2024-03-12T12:07:54.212672Z",
     "iopub.status.busy": "2024-03-12T12:07:54.212241Z",
     "iopub.status.idle": "2024-03-12T12:07:54.217911Z",
     "shell.execute_reply": "2024-03-12T12:07:54.216812Z"
    },
    "papermill": {
     "duration": 0.035319,
     "end_time": "2024-03-12T12:07:54.220172",
     "exception": false,
     "start_time": "2024-03-12T12:07:54.184853",
     "status": "completed"
    },
    "tags": []
   },
   "outputs": [],
   "source": [
    "# def train_lgb_model(X_train, Y_train, X_test, Y_test):\n",
    "#     params = {\n",
    "#         \"boosting_type\": \"gbdt\",\n",
    "#         \"objective\": \"binary\",\n",
    "#         \"metric\": \"auc\",\n",
    "#         \"max_depth\": 8,\n",
    "#         \"max_bin\": 250,\n",
    "#         \"learning_rate\": 0.05,\n",
    "#         \"n_estimators\": 1000,\n",
    "#         \"colsample_bytree\": 0.8, \n",
    "#         \"colsample_bynode\": 0.8,\n",
    "#         \"verbose\": -1,\n",
    "#         \"random_state\": 42,\n",
    "#         \"device\": \"gpu\",\n",
    "#     }\n",
    "    \n",
    "#     model = lgb.LGBMClassifier(**params)\n",
    "    \n",
    "#     model.fit(\n",
    "#         X_train, Y_train,\n",
    "#         eval_set=[(X_test, Y_test)],\n",
    "#         callbacks=[lgb.log_evaluation(100), lgb.early_stopping(100)]\n",
    "#     )\n",
    "        \n",
    "#     return model"
   ]
  },
  {
   "cell_type": "code",
   "execution_count": 36,
   "id": "47788703",
   "metadata": {
    "execution": {
     "iopub.execute_input": "2024-03-12T12:07:54.273086Z",
     "iopub.status.busy": "2024-03-12T12:07:54.272696Z",
     "iopub.status.idle": "2024-03-12T12:07:54.277333Z",
     "shell.execute_reply": "2024-03-12T12:07:54.276008Z"
    },
    "papermill": {
     "duration": 0.034532,
     "end_time": "2024-03-12T12:07:54.280028",
     "exception": false,
     "start_time": "2024-03-12T12:07:54.245496",
     "status": "completed"
    },
    "tags": []
   },
   "outputs": [],
   "source": [
    "# gc.collect()"
   ]
  },
  {
   "cell_type": "code",
   "execution_count": 37,
   "id": "a6fd1678",
   "metadata": {
    "execution": {
     "iopub.execute_input": "2024-03-12T12:07:54.333391Z",
     "iopub.status.busy": "2024-03-12T12:07:54.332784Z",
     "iopub.status.idle": "2024-03-12T12:07:54.338464Z",
     "shell.execute_reply": "2024-03-12T12:07:54.337636Z"
    },
    "papermill": {
     "duration": 0.035133,
     "end_time": "2024-03-12T12:07:54.340645",
     "exception": false,
     "start_time": "2024-03-12T12:07:54.305512",
     "status": "completed"
    },
    "tags": []
   },
   "outputs": [],
   "source": [
    "# weeks = train_df[\"WEEK_NUM\"]\n",
    "# cv = StratifiedGroupKFold(n_splits=5, shuffle=False)\n",
    "\n",
    "# fitted_models = []\n",
    "\n",
    "# oof_predicted = np.zeros(train_df.shape[0])\n",
    "\n",
    "# for idx_train, idx_test in cv.split(train_df[features], train_df[\"target\"], groups=weeks):        \n",
    "# #     X_train = train_df[features][idx_train].to_pandas()\n",
    "# #     Y_train = train_df[\"target\"][idx_train].to_pandas()\n",
    "    \n",
    "#     X_test = train_df[features][idx_test].to_pandas()\n",
    "#     Y_test = train_df[\"target\"][idx_test].to_pandas()\n",
    "    \n",
    "#     start = time.time()\n",
    "#     params = {\n",
    "#         \"boosting_type\": \"gbdt\",\n",
    "#         \"objective\": \"binary\",\n",
    "#         \"metric\": \"auc\",\n",
    "#         \"max_depth\": 8,\n",
    "#         \"max_bin\": 250,\n",
    "#         \"learning_rate\": 0.05,\n",
    "#         \"n_estimators\": 1000,\n",
    "#         \"colsample_bytree\": 0.8, \n",
    "#         \"colsample_bynode\": 0.8,\n",
    "#         \"verbose\": -1,\n",
    "#         \"random_state\": 42,\n",
    "#         \"device\": \"gpu\",\n",
    "#     }\n",
    "    \n",
    "#     model = lgb.LGBMClassifier(**params)\n",
    "    \n",
    "#     model.fit(\n",
    "#         train_df[features][idx_train].to_pandas(), train_df[\"target\"][idx_train].to_pandas(),\n",
    "#         eval_set=[(X_test, Y_test)],\n",
    "#         callbacks=[lgb.log_evaluation(100), lgb.early_stopping(100)]\n",
    "#     )\n",
    "        \n",
    "\n",
    "# #    model = train_lgb_model(X_train, Y_train, X_test, Y_test)\n",
    "#     finish = time.time()\n",
    "    \n",
    "#     print(\"fit time: {}\".format(finish - start))\n",
    "#     fitted_models.append(model)\n",
    "    \n",
    "#     test_pred = model.predict_proba(X_test)[:, 1]\n",
    "#     oof_predicted[idx_test] = test_pred\n",
    "#     gc.collect()\n",
    "\n",
    "# model = VotingModel(fitted_models)\n",
    "# gc.collect()"
   ]
  },
  {
   "cell_type": "code",
   "execution_count": 38,
   "id": "562e3a5a",
   "metadata": {
    "execution": {
     "iopub.execute_input": "2024-03-12T12:07:54.393314Z",
     "iopub.status.busy": "2024-03-12T12:07:54.392668Z",
     "iopub.status.idle": "2024-03-12T12:07:54.397047Z",
     "shell.execute_reply": "2024-03-12T12:07:54.396023Z"
    },
    "papermill": {
     "duration": 0.033523,
     "end_time": "2024-03-12T12:07:54.399378",
     "exception": false,
     "start_time": "2024-03-12T12:07:54.365855",
     "status": "completed"
    },
    "tags": []
   },
   "outputs": [],
   "source": [
    "# roc_auc_oof = roc_auc_score(train_df[\"target\"], oof_predicted)\n",
    "# print(\"CV roc_auc_oof: \", roc_auc_oof)"
   ]
  },
  {
   "cell_type": "markdown",
   "id": "b74ddfc2",
   "metadata": {
    "papermill": {
     "duration": 0.025337,
     "end_time": "2024-03-12T12:07:54.450102",
     "exception": false,
     "start_time": "2024-03-12T12:07:54.424765",
     "status": "completed"
    },
    "tags": []
   },
   "source": [
    "# Predict"
   ]
  },
  {
   "cell_type": "code",
   "execution_count": 39,
   "id": "9750cad7",
   "metadata": {
    "execution": {
     "iopub.execute_input": "2024-03-12T12:07:54.502827Z",
     "iopub.status.busy": "2024-03-12T12:07:54.502436Z",
     "iopub.status.idle": "2024-03-12T12:07:54.506926Z",
     "shell.execute_reply": "2024-03-12T12:07:54.505684Z"
    },
    "papermill": {
     "duration": 0.033685,
     "end_time": "2024-03-12T12:07:54.509332",
     "exception": false,
     "start_time": "2024-03-12T12:07:54.475647",
     "status": "completed"
    },
    "tags": []
   },
   "outputs": [],
   "source": [
    "# del train_df\n",
    "# gc.collect()"
   ]
  },
  {
   "cell_type": "code",
   "execution_count": 40,
   "id": "550b31be",
   "metadata": {
    "execution": {
     "iopub.execute_input": "2024-03-12T12:07:54.564551Z",
     "iopub.status.busy": "2024-03-12T12:07:54.564143Z",
     "iopub.status.idle": "2024-03-12T12:07:54.569107Z",
     "shell.execute_reply": "2024-03-12T12:07:54.568017Z"
    },
    "papermill": {
     "duration": 0.034693,
     "end_time": "2024-03-12T12:07:54.571733",
     "exception": false,
     "start_time": "2024-03-12T12:07:54.537040",
     "status": "completed"
    },
    "tags": []
   },
   "outputs": [],
   "source": [
    "# test_dataset = data_loader.load_test_dataset()\n",
    "# print(\"Test dataset week range: {}-{}\".format(test_dataset.base[\"WEEK_NUM\"].min(), test_dataset.base[\"WEEK_NUM\"].max()))\n",
    "# gc.collect()\n",
    "# test_df = preprocessor.process_test_dataset(test_dataset)\n",
    "# del test_dataset\n",
    "# gc.collect()"
   ]
  },
  {
   "cell_type": "code",
   "execution_count": 41,
   "id": "8bcfb0fb",
   "metadata": {
    "execution": {
     "iopub.execute_input": "2024-03-12T12:07:54.626169Z",
     "iopub.status.busy": "2024-03-12T12:07:54.624985Z",
     "iopub.status.idle": "2024-03-12T12:07:54.630524Z",
     "shell.execute_reply": "2024-03-12T12:07:54.629156Z"
    },
    "papermill": {
     "duration": 0.03482,
     "end_time": "2024-03-12T12:07:54.632890",
     "exception": false,
     "start_time": "2024-03-12T12:07:54.598070",
     "status": "completed"
    },
    "tags": []
   },
   "outputs": [],
   "source": [
    "# print([name for value, name in reversed(sorted(zip(model.get_feature_importance(), features)))][0:200])"
   ]
  },
  {
   "cell_type": "code",
   "execution_count": null,
   "id": "ac81cede",
   "metadata": {
    "papermill": {
     "duration": 0.025065,
     "end_time": "2024-03-12T12:07:54.683307",
     "exception": false,
     "start_time": "2024-03-12T12:07:54.658242",
     "status": "completed"
    },
    "tags": []
   },
   "outputs": [],
   "source": []
  },
  {
   "cell_type": "code",
   "execution_count": 42,
   "id": "0fdd27c8",
   "metadata": {
    "execution": {
     "iopub.execute_input": "2024-03-12T12:07:54.735634Z",
     "iopub.status.busy": "2024-03-12T12:07:54.735176Z",
     "iopub.status.idle": "2024-03-12T12:07:54.740108Z",
     "shell.execute_reply": "2024-03-12T12:07:54.738881Z"
    },
    "papermill": {
     "duration": 0.033915,
     "end_time": "2024-03-12T12:07:54.742483",
     "exception": false,
     "start_time": "2024-03-12T12:07:54.708568",
     "status": "completed"
    },
    "tags": []
   },
   "outputs": [],
   "source": [
    "# CV roc_auc_oof:  0.8353789451006361 without feature selection ~500 features\n",
    "# CV roc_auc_oof:  0.8329322959533371 with feature selection ~200 features"
   ]
  },
  {
   "cell_type": "code",
   "execution_count": null,
   "id": "8661b9fb",
   "metadata": {
    "papermill": {
     "duration": 0.025016,
     "end_time": "2024-03-12T12:07:54.793012",
     "exception": false,
     "start_time": "2024-03-12T12:07:54.767996",
     "status": "completed"
    },
    "tags": []
   },
   "outputs": [],
   "source": []
  },
  {
   "cell_type": "code",
   "execution_count": 43,
   "id": "da016b4c",
   "metadata": {
    "execution": {
     "iopub.execute_input": "2024-03-12T12:07:54.845622Z",
     "iopub.status.busy": "2024-03-12T12:07:54.845188Z",
     "iopub.status.idle": "2024-03-12T12:07:54.850985Z",
     "shell.execute_reply": "2024-03-12T12:07:54.849761Z"
    },
    "papermill": {
     "duration": 0.035206,
     "end_time": "2024-03-12T12:07:54.853590",
     "exception": false,
     "start_time": "2024-03-12T12:07:54.818384",
     "status": "completed"
    },
    "tags": []
   },
   "outputs": [],
   "source": [
    "# def gini_stability(dataset, w_fallingrate=88.0, w_resstd=-0.5):\n",
    "#     gini_in_time = dataset\\\n",
    "#         .sort_values(\"WEEK_NUM\")\\\n",
    "#         .groupby(\"WEEK_NUM\")[[\"true\", \"predicted\"]]\\\n",
    "#         .apply(lambda x: 2 * roc_auc_score(x[\"true\"], x[\"predicted\"]) - 1).tolist()\n",
    "    \n",
    "#     x = np.arange(len(gini_in_time))\n",
    "#     y = gini_in_time\n",
    "#     a, b = np.polyfit(x, y, 1)\n",
    "#     y_hat = a * x + b\n",
    "#     residuals = y - y_hat\n",
    "#     res_std = np.std(residuals)\n",
    "#     avg_gini = np.mean(gini_in_time)\n",
    "    \n",
    "#     print(avg_gini, min(0, a), res_std)\n",
    "    \n",
    "#     return avg_gini + w_fallingrate * min(0, a) + w_resstd * res_std"
   ]
  },
  {
   "cell_type": "code",
   "execution_count": 44,
   "id": "2d8107c6",
   "metadata": {
    "execution": {
     "iopub.execute_input": "2024-03-12T12:07:54.907142Z",
     "iopub.status.busy": "2024-03-12T12:07:54.906706Z",
     "iopub.status.idle": "2024-03-12T12:07:54.911362Z",
     "shell.execute_reply": "2024-03-12T12:07:54.910406Z"
    },
    "papermill": {
     "duration": 0.033884,
     "end_time": "2024-03-12T12:07:54.913628",
     "exception": false,
     "start_time": "2024-03-12T12:07:54.879744",
     "status": "completed"
    },
    "tags": []
   },
   "outputs": [],
   "source": [
    "# # Y_train_predicted = model.predict_proba(train_df[features].to_pandas())\n",
    "# Y_test_predicted = model.predict_proba(test_df[features].to_pandas())"
   ]
  },
  {
   "cell_type": "code",
   "execution_count": 45,
   "id": "a4bfaed7",
   "metadata": {
    "execution": {
     "iopub.execute_input": "2024-03-12T12:07:54.967658Z",
     "iopub.status.busy": "2024-03-12T12:07:54.966806Z",
     "iopub.status.idle": "2024-03-12T12:07:54.973210Z",
     "shell.execute_reply": "2024-03-12T12:07:54.971960Z"
    },
    "papermill": {
     "duration": 0.036879,
     "end_time": "2024-03-12T12:07:54.975829",
     "exception": false,
     "start_time": "2024-03-12T12:07:54.938950",
     "status": "completed"
    },
    "tags": []
   },
   "outputs": [],
   "source": [
    "# result = pd.DataFrame({\n",
    "#     \"WEEK_NUM\": train_df[\"WEEK_NUM\"],\n",
    "#     \"true\": train_df[\"target\"],\n",
    "#     \"predicted\": Y_train_predicted[:, 1],\n",
    "# })\n",
    "\n",
    "# train_result = gini_stability(result)\n",
    "# print(\"train_score: {}\".format(train_result))\n",
    "\n",
    "# if MODE == Mode.Train:\n",
    "#     result = pd.DataFrame({\n",
    "#         \"WEEK_NUM\": test_df[\"WEEK_NUM\"],\n",
    "#         \"true\": test_df[\"target\"],\n",
    "#         \"predicted\": Y_test_predicted[:, 1],\n",
    "#     })\n",
    "\n",
    "#     test_result = gini_stability(result)\n",
    "#     print(\"test_score: {}\".format(test_result))"
   ]
  },
  {
   "cell_type": "code",
   "execution_count": 46,
   "id": "1d502bd8",
   "metadata": {
    "execution": {
     "iopub.execute_input": "2024-03-12T12:07:55.029077Z",
     "iopub.status.busy": "2024-03-12T12:07:55.028652Z",
     "iopub.status.idle": "2024-03-12T12:07:55.034005Z",
     "shell.execute_reply": "2024-03-12T12:07:55.032846Z"
    },
    "papermill": {
     "duration": 0.035296,
     "end_time": "2024-03-12T12:07:55.036586",
     "exception": false,
     "start_time": "2024-03-12T12:07:55.001290",
     "status": "completed"
    },
    "tags": []
   },
   "outputs": [],
   "source": [
    "# Version 1, test_score: 0.583319926590042, public score 0.48\n",
    "# 100 iters\n",
    "\n",
    "# Version 2, test_score: 0.6062624701357268, public score 0.517\n",
    "# 300 iters\n",
    "\n",
    "# Version 3, test_score: ?, public score 0.545\n",
    "# 2000 iters\n",
    "\n",
    "# Version 4, test_score: ?, public score ?\n",
    "# ? iters, Improve aggregate functions for depth_1, depth_2\n"
   ]
  },
  {
   "cell_type": "markdown",
   "id": "c142b009",
   "metadata": {
    "papermill": {
     "duration": 0.025027,
     "end_time": "2024-03-12T12:07:55.088230",
     "exception": false,
     "start_time": "2024-03-12T12:07:55.063203",
     "status": "completed"
    },
    "tags": []
   },
   "source": [
    "# Submition"
   ]
  },
  {
   "cell_type": "code",
   "execution_count": 47,
   "id": "b9f123a2",
   "metadata": {
    "execution": {
     "iopub.execute_input": "2024-03-12T12:07:55.141041Z",
     "iopub.status.busy": "2024-03-12T12:07:55.140555Z",
     "iopub.status.idle": "2024-03-12T12:07:55.145692Z",
     "shell.execute_reply": "2024-03-12T12:07:55.144475Z"
    },
    "papermill": {
     "duration": 0.034591,
     "end_time": "2024-03-12T12:07:55.148076",
     "exception": false,
     "start_time": "2024-03-12T12:07:55.113485",
     "status": "completed"
    },
    "tags": []
   },
   "outputs": [],
   "source": [
    "# case_id = test_df[\"case_id\"]\n",
    "# X = test_df[features].to_pandas()\n",
    "\n",
    "# Y = model.predict_proba(X)\n",
    "\n",
    "# submission = pd.DataFrame({\n",
    "#     \"case_id\": case_id.to_numpy(),\n",
    "#     \"score\": Y[:, 1]\n",
    "# }).set_index('case_id')\n",
    "# submission.to_csv(\"./submission.csv\")"
   ]
  },
  {
   "cell_type": "code",
   "execution_count": null,
   "id": "24f4f2b1",
   "metadata": {
    "papermill": {
     "duration": 0.025453,
     "end_time": "2024-03-12T12:07:55.199304",
     "exception": false,
     "start_time": "2024-03-12T12:07:55.173851",
     "status": "completed"
    },
    "tags": []
   },
   "outputs": [],
   "source": []
  },
  {
   "cell_type": "code",
   "execution_count": null,
   "id": "bd62afdd",
   "metadata": {
    "papermill": {
     "duration": 0.024837,
     "end_time": "2024-03-12T12:07:55.249679",
     "exception": false,
     "start_time": "2024-03-12T12:07:55.224842",
     "status": "completed"
    },
    "tags": []
   },
   "outputs": [],
   "source": []
  },
  {
   "cell_type": "code",
   "execution_count": null,
   "id": "1f3caed8",
   "metadata": {
    "papermill": {
     "duration": 0.025276,
     "end_time": "2024-03-12T12:07:55.300166",
     "exception": false,
     "start_time": "2024-03-12T12:07:55.274890",
     "status": "completed"
    },
    "tags": []
   },
   "outputs": [],
   "source": []
  }
 ],
 "metadata": {
  "kaggle": {
   "accelerator": "none",
   "dataSources": [
    {
     "databundleVersionId": 7921029,
     "sourceId": 50160,
     "sourceType": "competition"
    },
    {
     "datasetId": 4496896,
     "sourceId": 7823105,
     "sourceType": "datasetVersion"
    }
   ],
   "dockerImageVersionId": 30635,
   "isGpuEnabled": false,
   "isInternetEnabled": false,
   "language": "python",
   "sourceType": "notebook"
  },
  "kernelspec": {
   "display_name": "Python 3",
   "language": "python",
   "name": "python3"
  },
  "language_info": {
   "codemirror_mode": {
    "name": "ipython",
    "version": 3
   },
   "file_extension": ".py",
   "mimetype": "text/x-python",
   "name": "python",
   "nbconvert_exporter": "python",
   "pygments_lexer": "ipython3",
   "version": "3.10.12"
  },
  "papermill": {
   "default_parameters": {},
   "duration": 1133.140299,
   "end_time": "2024-03-12T12:07:56.251455",
   "environment_variables": {},
   "exception": null,
   "input_path": "__notebook__.ipynb",
   "output_path": "__notebook__.ipynb",
   "parameters": {},
   "start_time": "2024-03-12T11:49:03.111156",
   "version": "2.4.0"
  }
 },
 "nbformat": 4,
 "nbformat_minor": 5
}
