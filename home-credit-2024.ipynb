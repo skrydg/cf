{
 "cells": [
  {
   "cell_type": "markdown",
   "id": "5cec7bea",
   "metadata": {
    "papermill": {
     "duration": 0.004656,
     "end_time": "2024-04-25T20:34:46.049110",
     "exception": false,
     "start_time": "2024-04-25T20:34:46.044454",
     "status": "completed"
    },
    "tags": []
   },
   "source": [
    "# Install packages"
   ]
  },
  {
   "cell_type": "code",
   "execution_count": 1,
   "id": "787dd99e",
   "metadata": {
    "execution": {
     "iopub.execute_input": "2024-04-25T20:34:46.059913Z",
     "iopub.status.busy": "2024-04-25T20:34:46.059438Z",
     "iopub.status.idle": "2024-04-25T20:35:22.283373Z",
     "shell.execute_reply": "2024-04-25T20:35:22.282389Z"
    },
    "papermill": {
     "duration": 36.232521,
     "end_time": "2024-04-25T20:35:22.286252",
     "exception": false,
     "start_time": "2024-04-25T20:34:46.053731",
     "status": "completed"
    },
    "tags": []
   },
   "outputs": [
    {
     "name": "stdout",
     "output_type": "stream",
     "text": [
      "Processing /kaggle/input/kaggle-home-credit-risk-model-stability-lib/kaggle_home_credit_risk_model_stability-0.3-py3-none-any.whl\r\n",
      "Installing collected packages: kaggle-home-credit-risk-model-stability\r\n",
      "Successfully installed kaggle-home-credit-risk-model-stability-0.3\r\n"
     ]
    }
   ],
   "source": [
    "!pip install /kaggle/input/kaggle-home-credit-risk-model-stability-lib/kaggle_home_credit_risk_model_stability-0.3-py3-none-any.whl --force-reinstall"
   ]
  },
  {
   "cell_type": "code",
   "execution_count": 2,
   "id": "74fee637",
   "metadata": {
    "execution": {
     "iopub.execute_input": "2024-04-25T20:35:22.298420Z",
     "iopub.status.busy": "2024-04-25T20:35:22.297937Z",
     "iopub.status.idle": "2024-04-25T20:36:15.706531Z",
     "shell.execute_reply": "2024-04-25T20:36:15.705411Z"
    },
    "papermill": {
     "duration": 53.418416,
     "end_time": "2024-04-25T20:36:15.709402",
     "exception": false,
     "start_time": "2024-04-25T20:35:22.290986",
     "status": "completed"
    },
    "tags": []
   },
   "outputs": [
    {
     "name": "stdout",
     "output_type": "stream",
     "text": [
      "Processing /kaggle/input/polars/polars-0.20.15-cp38-abi3-manylinux_2_17_x86_64.manylinux2014_x86_64.whl\r\n",
      "Installing collected packages: polars\r\n",
      "  Attempting uninstall: polars\r\n",
      "    Found existing installation: polars 0.20.3\r\n",
      "    Uninstalling polars-0.20.3:\r\n",
      "      Successfully uninstalled polars-0.20.3\r\n",
      "Successfully installed polars-0.20.15\r\n"
     ]
    }
   ],
   "source": [
    "!pip install /kaggle/input/polars/polars-0.20.15-cp38-abi3-manylinux_2_17_x86_64.manylinux2014_x86_64.whl"
   ]
  },
  {
   "cell_type": "markdown",
   "id": "242a85da",
   "metadata": {
    "papermill": {
     "duration": 0.005156,
     "end_time": "2024-04-25T20:36:15.720319",
     "exception": false,
     "start_time": "2024-04-25T20:36:15.715163",
     "status": "completed"
    },
    "tags": []
   },
   "source": [
    "# Import packages"
   ]
  },
  {
   "cell_type": "code",
   "execution_count": 3,
   "id": "eccce12a",
   "metadata": {
    "execution": {
     "iopub.execute_input": "2024-04-25T20:36:15.732652Z",
     "iopub.status.busy": "2024-04-25T20:36:15.732180Z",
     "iopub.status.idle": "2024-04-25T20:36:20.794683Z",
     "shell.execute_reply": "2024-04-25T20:36:20.793559Z"
    },
    "papermill": {
     "duration": 5.071962,
     "end_time": "2024-04-25T20:36:20.797426",
     "exception": false,
     "start_time": "2024-04-25T20:36:15.725464",
     "status": "completed"
    },
    "tags": []
   },
   "outputs": [],
   "source": [
    "import polars as pl\n",
    "import gc\n",
    "import time\n",
    "import numpy as np\n",
    "import pandas as pd\n",
    "import lightgbm as lgb\n",
    "import seaborn as sns\n",
    "import matplotlib.pyplot as plt\n",
    "import copy\n",
    "import lightgbm as lgb\n",
    "import importlib\n",
    "import pickle\n",
    "import argparse\n",
    "\n",
    "import kaggle_home_credit_risk_model_stability.libs as hcr\n",
    "from kaggle_home_credit_risk_model_stability.libs.env import Env\n",
    "from kaggle_home_credit_risk_model_stability.libs.input.dataset import Dataset\n",
    "from kaggle_home_credit_risk_model_stability.libs.input.data_loader import DataLoader\n",
    "from kaggle_home_credit_risk_model_stability.libs.preprocessor.preprocessor import Preprocessor\n",
    "from kaggle_home_credit_risk_model_stability.libs.preprocessor.steps import *\n",
    "from kaggle_home_credit_risk_model_stability.libs.preprocessor.columns_info import ColumnsInfo\n",
    "from kaggle_home_credit_risk_model_stability.libs.feature_description.feature_description import FreatureDescriptionGetter\n",
    "\n",
    "from collections import defaultdict\n",
    "from glob import glob\n",
    "from pathlib import Path\n",
    "from sklearn.model_selection import train_test_split\n",
    "from sklearn.metrics import roc_auc_score\n",
    "from sklearn.model_selection import StratifiedGroupKFold\n",
    "from sklearn.base import BaseEstimator, RegressorMixin"
   ]
  },
  {
   "cell_type": "code",
   "execution_count": 4,
   "id": "852d8da2",
   "metadata": {
    "execution": {
     "iopub.execute_input": "2024-04-25T20:36:20.810581Z",
     "iopub.status.busy": "2024-04-25T20:36:20.810161Z",
     "iopub.status.idle": "2024-04-25T20:36:20.814702Z",
     "shell.execute_reply": "2024-04-25T20:36:20.813730Z"
    },
    "papermill": {
     "duration": 0.013382,
     "end_time": "2024-04-25T20:36:20.816967",
     "exception": false,
     "start_time": "2024-04-25T20:36:20.803585",
     "status": "completed"
    },
    "tags": []
   },
   "outputs": [],
   "source": [
    "env = Env(\n",
    "    \"/kaggle/input/\",\n",
    "    \"/kaggle/working/\"\n",
    ")"
   ]
  },
  {
   "cell_type": "code",
   "execution_count": 5,
   "id": "1952e8f6",
   "metadata": {
    "execution": {
     "iopub.execute_input": "2024-04-25T20:36:20.829512Z",
     "iopub.status.busy": "2024-04-25T20:36:20.828842Z",
     "iopub.status.idle": "2024-04-25T20:36:20.840217Z",
     "shell.execute_reply": "2024-04-25T20:36:20.839113Z"
    },
    "papermill": {
     "duration": 0.020607,
     "end_time": "2024-04-25T20:36:20.842811",
     "exception": false,
     "start_time": "2024-04-25T20:36:20.822204",
     "status": "completed"
    },
    "tags": []
   },
   "outputs": [],
   "source": [
    "data_loader = DataLoader(env, tables = [\n",
    "    \"base\", \"static_cb_0\", \"static_0\", \"person_1\", \"tax_registry_a_1\", \"tax_registry_b_1\", \"tax_registry_c_1\", \n",
    "    \"credit_bureau_a_2\", \n",
    "    \"credit_bureau_a_1\", \n",
    "    \"applprev_1\",\n",
    "    #\"credit_bureau_b_1\", \"credit_bureau_b_2\", \"other_1\", \"deposit_1\", \"debitcard_1\" <- low amount of data\n",
    "])\n",
    "\n",
    "preprocessor = Preprocessor({\n",
    "    #\"sort_raw_tables\": SortRawTablesStep(),\n",
    "    \"set_column_info_step\": SetColumnsInfoStep(),\n",
    "    \"set_types\": SetTypesStep(),\n",
    "    \"drop_composite_features\": DropCompositeFeaturesStep(),\n",
    "    \"create_day_feature\": CreateDayFeatureStep(),\n",
    "    # #\"drop_raw_null_columns\": DropRawNullColumns(feature_threashold=0.2, week_threashold=0.9),\n",
    "    \"process_categorical\": ProcessCategoricalStep(),\n",
    "    \"process_person_table\": ProcessPersonTableStep(),\n",
    "    \"process_applprev_table\": ProcessApplprevTableStep(),\n",
    "    \"process_static_0_table\": ProcessStatic0TableStep(),\n",
    "    \"process_tax_regestry_a1_table\": ProcessTaxRegestryA1TableStep(),\n",
    "    \"process_tax_regestry_b1_table\": ProcessTaxRegestryB1TableStep(),\n",
    "    \"process_tax_regestry_c1_table\": ProcessTaxRegestryC1TableStep(),\n",
    "    \"process_credit_burea_1_table\": ProcessCreditBureaua1TableStep(),\n",
    "    \"process_credit_burea_2_table\": ProcessCreditBureaua2TableStep(),\n",
    "    #\"split_composite_features\": SplitCompositeFeaturesStep(exclude_list=\"previouscontdistrict_112M\", drop_original=True),\n",
    "    #\"reduce_dimention_for_categorical_features\": ReduceDimentionForCategoricalFeaturesStep(),\n",
    "    #\"one_hot_encoding\": OneHotEncodingStep(),\n",
    "    #\"pairwise_diff_raw_dates\": PairwiseDateDiffStep(),\n",
    "    \"aggregate_depth_table\": AggregateDepthTableStep(),\n",
    "    #\"drop_equal_columns\": DropEqualColumnsStep(),\n",
    "    #\"drop_almost_null_features_respect_to_target\": DropAlmostNullFeaturesWithRespectToTargetStep(),\n",
    "    \"join_table\": JoinTablesStep(),\n",
    "    \"merge_chunked_table\": MergeChunkedTablesStep(),\n",
    "    \"drop_almost_null_features\": DropAlmostNullFeaturesStep(),\n",
    "    #\"generate_age_feature\": GenerateAgeFeatureStep(),\n",
    "    \"generate_base_date_diff\": GenerateBaseDateDiffStep(base_column=\"date_decision\"),\n",
    "    \"fill_nulls_in_categorical_features\": FillNullsInCategoricalFeaturesStep(),\n",
    "    \"reduce_memory_usage\": ReduceMemoryUsageStep(),\n",
    "    **{\n",
    "        f\"create_money_feature_fraction_{base_column}\": CreateMoneyFeatureFractionStep(base_column)\n",
    "        for base_column in [\"credamount_770A\", \"mainoccupationinc_384A\"] # \"maininc_215A\", \"annuity_780A\"] # mean_amount_416A\n",
    "    },\n",
    "    #\"generate_mismatch_features\": GenerateMismatchFeaturesStep(),\n",
    "    #\"generate_target_distribution_based_on_categorical_features_step\": GenerateTargetDistributionBasedOnCategoricalStep(),\n",
    "    \"drop_single_value_features\": DropSingleValueFeaturesStep(),\n",
    "    \"drop_variable_enum_features\": DropVariableEnumFeaturesStep(),\n",
    "    \"reduce_memory_usage\": ReduceMemoryUsageStep()\n",
    "})"
   ]
  },
  {
   "cell_type": "code",
   "execution_count": null,
   "id": "445eee7c",
   "metadata": {
    "papermill": {
     "duration": 0.005051,
     "end_time": "2024-04-25T20:36:20.853131",
     "exception": false,
     "start_time": "2024-04-25T20:36:20.848080",
     "status": "completed"
    },
    "tags": []
   },
   "outputs": [],
   "source": []
  },
  {
   "cell_type": "code",
   "execution_count": 6,
   "id": "b7e80abf",
   "metadata": {
    "execution": {
     "iopub.execute_input": "2024-04-25T20:36:20.865671Z",
     "iopub.status.busy": "2024-04-25T20:36:20.865217Z",
     "iopub.status.idle": "2024-04-25T21:12:57.922125Z",
     "shell.execute_reply": "2024-04-25T21:12:57.919576Z"
    },
    "papermill": {
     "duration": 2197.070336,
     "end_time": "2024-04-25T21:12:57.928760",
     "exception": false,
     "start_time": "2024-04-25T20:36:20.858424",
     "status": "completed"
    },
    "tags": []
   },
   "outputs": [
    {
     "name": "stdout",
     "output_type": "stream",
     "text": [
      "Drop composite features ['lastapprcommoditycat_1041M', 'lastapprcommoditytypec_5251766M', 'lastcancelreason_561M', 'lastrejectcommoditycat_161M', 'lastrejectcommodtypec_5251769M', 'lastrejectreason_759M', 'lastrejectreasonclient_4145040M', 'previouscontdistrict_112M', 'contaddr_district_15M', 'contaddr_zipcode_807M', 'education_927M', 'empladdr_district_926M', 'empladdr_zipcode_114M', 'language1_981M', 'registaddr_district_1083M', 'registaddr_zipcode_184M', 'cancelreason_3545846M', 'district_544M', 'education_1138M', 'postype_4733339M', 'profession_152M', 'rejectreason_755M', 'rejectreasonclient_4145042M']\n",
      "Generate 5 tables for contract_type=active\n",
      "Generate 5 tables for contract_type=close\n",
      "Generate 1605 columns as aggregates\n",
      "Generate 5 tables for contract_type=active\n",
      "Generate 5 tables for contract_type=close\n",
      "Generate 1605 columns as aggregates\n",
      "Generate 5 tables for contract_type=active\n",
      "Generate 5 tables for contract_type=close\n",
      "Generate 1605 columns as aggregates\n",
      "Generate 5 tables for contract_type=active\n",
      "Generate 5 tables for contract_type=close\n",
      "Generate 1605 columns as aggregates\n",
      "Generate 5 tables for contract_type=active\n",
      "Generate 5 tables for contract_type=close\n",
      "Generate 1605 columns as aggregates\n",
      "Generate 5 tables for contract_type=active\n",
      "Generate 5 tables for contract_type=close\n",
      "Generate 1605 columns as aggregates\n",
      "Generate 5 tables for contract_type=active\n",
      "Generate 5 tables for contract_type=close\n",
      "Generate 1605 columns as aggregates\n",
      "Generate 5 tables for contract_type=active\n",
      "Generate 5 tables for contract_type=close\n",
      "Generate 1605 columns as aggregates\n",
      "Generate 5 tables for contract_type=active\n",
      "Generate 5 tables for contract_type=close\n",
      "Generate 1605 columns as aggregates\n",
      "Generate 5 tables for contract_type=active\n",
      "Generate 5 tables for contract_type=close\n",
      "Generate 1605 columns as aggregates\n",
      "Generate 5 tables for contract_type=active\n",
      "Generate 5 tables for contract_type=close\n",
      "Generate 1605 columns as aggregates\n",
      "Generate 5 tables for contract_type=active\n",
      "Generate 5 tables for contract_type=close\n",
      "Generate 1605 columns as aggregates\n",
      "Generate 5 tables for contract_type=active\n",
      "Generate 5 tables for contract_type=close\n",
      "Generate 1605 columns as aggregates\n",
      "Generate 5 tables for contract_type=active\n",
      "Generate 5 tables for contract_type=close\n",
      "Generate 1605 columns as aggregates\n",
      "Generate 5 tables for contract_type=active\n",
      "Generate 5 tables for contract_type=close\n",
      "Generate 1605 columns as aggregates\n",
      "Generate 5 tables for contract_type=active\n",
      "Generate 5 tables for contract_type=close\n",
      "Generate 1605 columns as aggregates\n",
      "Drop 424 columns as almost null\n",
      "Columns to drop ['assignmentdate_4955616D', 'birthdate_87D', 'childnum_185L', 'clientscnt_136L', 'count_credacc_status_367L_null_applprev_1', 'count_credtype_587L_null_applprev_1', 'count_familystate_726L_null_applprev_1', 'count_inittransactioncode_279L_null_applprev_1', 'count_status_219L_null_applprev_1', 'dateofbirth_342D', 'deferredmnthsnum_166L', 'equalityempfrom_62L', 'for3years_128L', 'for3years_504L', 'for3years_584L', 'formonth_118L', 'formonth_206L', 'formonth_535L', 'forquarter_1017L', 'forquarter_462L', 'forquarter_634L', 'fortoday_1092L', 'forweek_1077L', 'forweek_528L', 'forweek_601L', 'foryear_618L', 'foryear_818L', 'foryear_850L', 'housingtype_772L', 'interestrategrace_34L', 'isbidproductrequest_292L', 'isreference_387L', 'lastdependentsnum_448L', 'lastotherinc_902A', 'lastotherlnsexpense_631A', 'lastrepayingdate_696D', 'max_annualeffectiverate_199L_close_Home Credit_credit_bureau_a_1', 'max_annualeffectiverate_199L_close_P150_136_157_credit_bureau_a_1', 'max_annualeffectiverate_199L_close_P40_52_135_credit_bureau_a_1', 'max_annualeffectiverate_199L_close_b619fa46_credit_bureau_a_1', 'max_annualeffectiverate_63L_active_Home Credit_credit_bureau_a_1', 'max_annualeffectiverate_63L_active_P150_136_157_credit_bureau_a_1', 'max_annualeffectiverate_63L_active_P204_66_73_credit_bureau_a_1', 'max_annualeffectiverate_63L_active_b619fa46_credit_bureau_a_1', 'max_annuity_853A_null_applprev_1', 'max_approvaldate_319D_null_applprev_1', 'max_birth_259D', 'max_birthdate_87D', 'max_byoccupationinc_3656910L_null_applprev_1', 'max_byoccupationinc_3656910L_rel_applprev_1', 'max_childnum_185L', 'max_childnum_21L_null_applprev_1', 'max_contaddr_matchlist_1032L', 'max_contaddr_smempladdr_334L', 'max_contractsum_5085717L_active_Home Credit_credit_bureau_a_1', 'max_contractsum_5085717L_active_P133_127_114_credit_bureau_a_1', 'max_contractsum_5085717L_active_P150_136_157_credit_bureau_a_1', 'max_contractsum_5085717L_active_P204_66_73_credit_bureau_a_1', 'max_creationdate_885D_null_applprev_1', 'max_credacc_actualbalance_314A_cal_applprev_1', 'max_credacc_actualbalance_314A_null_applprev_1', 'max_credacc_actualbalance_314A_rel_applprev_1', 'max_credacc_credlmt_575A_null_applprev_1', 'max_credacc_minhisbal_90A_cal_applprev_1', 'max_credacc_minhisbal_90A_null_applprev_1', 'max_credacc_minhisbal_90A_rel_applprev_1', 'max_credacc_status_367L_cal_applprev_1', 'max_credacc_status_367L_null_applprev_1', 'max_credacc_status_367L_rel_applprev_1', 'max_credacc_transactions_402L_cal_applprev_1', 'max_credacc_transactions_402L_null_applprev_1', 'max_credacc_transactions_402L_rel_applprev_1', 'max_credamount_590A_null_applprev_1', 'max_credlmt_230A_close_Home Credit_credit_bureau_a_1', 'max_credlmt_230A_close_P133_127_114_credit_bureau_a_1', 'max_credlmt_230A_close_P40_52_135_credit_bureau_a_1', 'max_credlmt_935A_active_P133_127_114_credit_bureau_a_1', 'max_credlmt_935A_active_P150_136_157_credit_bureau_a_1', 'max_credtype_587L_null_applprev_1', 'max_currdebt_94A_null_applprev_1', 'max_dateactivated_425D_null_applprev_1', 'max_downpmt_134A_null_applprev_1', 'max_dtlastpmt_581D_null_applprev_1', 'max_dtlastpmtallstes_3545839D_null_applprev_1', 'max_empl_employedfrom_271D', 'max_empl_employedtotal_800L', 'max_empl_industry_691L', 'max_employedfrom_700D_null_applprev_1', 'max_familystate_447L', 'max_familystate_726L_null_applprev_1', 'max_firstnonzeroinstldate_307D_null_applprev_1', 'max_firstnonzeroinstldate_307D_rel_applprev_1', 'max_gender_992L', 'max_housetype_905L', 'max_housingtype_772L', 'max_incometype_1044T', 'max_inittransactioncode_279L_null_applprev_1', 'max_instlamount_768A_active_P133_127_114_credit_bureau_a_1', 'max_instlamount_768A_active_P150_136_157_credit_bureau_a_1', 'max_instlamount_852A_close_Home Credit_credit_bureau_a_1', 'max_instlamount_852A_close_P133_127_114_credit_bureau_a_1', 'max_instlamount_852A_close_P150_136_157_credit_bureau_a_1', 'max_instlamount_852A_close_P40_52_135_credit_bureau_a_1', 'max_interestrate_508L_close_Home Credit_credit_bureau_a_1', 'max_interestrate_508L_close_P133_127_114_credit_bureau_a_1', 'max_interestrate_508L_close_P150_136_157_credit_bureau_a_1', 'max_interestrate_508L_close_P40_52_135_credit_bureau_a_1', 'max_interestrate_508L_close_b619fa46_credit_bureau_a_1', 'max_isbidproduct_390L_null_applprev_1', 'max_isdebitcard_527L_cal_applprev_1', 'max_isdebitcard_527L_col_applprev_1', 'max_isdebitcard_527L_null_applprev_1', 'max_isreference_387L', 'max_mainoccupationinc_384A', 'max_mainoccupationinc_437A_null_applprev_1', 'max_maritalst_703L', 'max_maxdpdtolerance_577P_null_applprev_1', 'max_nominalrate_281L_active_P150_136_157_credit_bureau_a_1', 'max_nominalrate_281L_active_P204_66_73_credit_bureau_a_1', 'max_nominalrate_281L_active_b619fa46_credit_bureau_a_1', 'max_nominalrate_498L_close_P150_136_157_credit_bureau_a_1', 'max_nominalrate_498L_close_P40_52_135_credit_bureau_a_1', 'max_nominalrate_498L_close_b619fa46_credit_bureau_a_1', 'max_numberofinstls_320L_active_P204_66_73_credit_bureau_a_1', 'max_numberofinstls_320L_active_b619fa46_credit_bureau_a_1', 'max_numberofoutstandinstls_59L_active_P204_66_73_credit_bureau_a_1', 'max_numberofoutstandinstls_59L_active_b619fa46_credit_bureau_a_1', 'max_numberofoverdueinstlmaxdat_641D_active_P133_127_114_credit_bureau_a_1', 'max_outstandingamount_362A_active_P204_66_73_credit_bureau_a_1', 'max_outstandingamount_362A_active_b619fa46_credit_bureau_a_1', 'max_outstandingdebt_522A_null_applprev_1', 'max_overdueamountmax2date_1142D_active_P133_127_114_credit_bureau_a_1', 'max_periodicityofpmts_837L_active_P204_66_73_credit_bureau_a_1', 'max_periodicityofpmts_837L_active_b619fa46_credit_bureau_a_1', 'max_pmtnum_8L_null_applprev_1', 'max_prolongationcount_1120L_close_Home Credit_credit_bureau_a_1', 'max_prolongationcount_1120L_close_P133_127_114_credit_bureau_a_1', 'max_prolongationcount_1120L_close_P150_136_157_credit_bureau_a_1', 'max_prolongationcount_1120L_close_P40_52_135_credit_bureau_a_1', 'max_prolongationcount_1120L_close_b619fa46_credit_bureau_a_1', 'max_prolongationcount_599L_active_Home Credit_credit_bureau_a_1', 'max_prolongationcount_599L_active_P133_127_114_credit_bureau_a_1', 'max_prolongationcount_599L_active_P150_136_157_credit_bureau_a_1', 'max_prolongationcount_599L_active_P204_66_73_credit_bureau_a_1', 'max_prolongationcount_599L_active_b619fa46_credit_bureau_a_1', 'max_residualamount_488A_close_Home Credit_credit_bureau_a_1', 'max_residualamount_488A_close_P133_127_114_credit_bureau_a_1', 'max_residualamount_488A_close_P40_52_135_credit_bureau_a_1', 'max_residualamount_856A_active_P133_127_114_credit_bureau_a_1', 'max_residualamount_856A_active_P150_136_157_credit_bureau_a_1', 'max_revolvingaccount_394A_cal_applprev_1', 'max_revolvingaccount_394A_col_applprev_1', 'max_revolvingaccount_394A_null_applprev_1', 'max_role_993L', 'max_safeguarantyflag_411L', 'max_sex_738L', 'max_status_219L_null_applprev_1', 'max_tenor_203L_null_applprev_1', 'max_totalamount_996A_active_P204_66_73_credit_bureau_a_1', 'max_totalamount_996A_active_b619fa46_credit_bureau_a_1', 'maxannuity_4075009A', 'mean_annualeffectiverate_199L_close_Home Credit_credit_bureau_a_1', 'mean_annualeffectiverate_199L_close_P150_136_157_credit_bureau_a_1', 'mean_annualeffectiverate_199L_close_P40_52_135_credit_bureau_a_1', 'mean_annualeffectiverate_199L_close_b619fa46_credit_bureau_a_1', 'mean_annualeffectiverate_63L_active_Home Credit_credit_bureau_a_1', 'mean_annualeffectiverate_63L_active_P150_136_157_credit_bureau_a_1', 'mean_annualeffectiverate_63L_active_P204_66_73_credit_bureau_a_1', 'mean_annualeffectiverate_63L_active_b619fa46_credit_bureau_a_1', 'mean_annuity_853A_null_applprev_1', 'mean_approvaldate_319D_null_applprev_1', 'mean_birth_259D', 'mean_birthdate_87D', 'mean_byoccupationinc_3656910L_null_applprev_1', 'mean_byoccupationinc_3656910L_rel_applprev_1', 'mean_childnum_185L', 'mean_childnum_21L_null_applprev_1', 'mean_contaddr_matchlist_1032L', 'mean_contaddr_smempladdr_334L', 'mean_contractsum_5085717L_active_Home Credit_credit_bureau_a_1', 'mean_contractsum_5085717L_active_P133_127_114_credit_bureau_a_1', 'mean_contractsum_5085717L_active_P150_136_157_credit_bureau_a_1', 'mean_contractsum_5085717L_active_P204_66_73_credit_bureau_a_1', 'mean_creationdate_885D_null_applprev_1', 'mean_credacc_actualbalance_314A_cal_applprev_1', 'mean_credacc_actualbalance_314A_null_applprev_1', 'mean_credacc_actualbalance_314A_rel_applprev_1', 'mean_credacc_credlmt_575A_null_applprev_1', 'mean_credacc_minhisbal_90A_cal_applprev_1', 'mean_credacc_minhisbal_90A_null_applprev_1', 'mean_credacc_minhisbal_90A_rel_applprev_1', 'mean_credacc_transactions_402L_cal_applprev_1', 'mean_credacc_transactions_402L_null_applprev_1', 'mean_credacc_transactions_402L_rel_applprev_1', 'mean_credamount_590A_null_applprev_1', 'mean_credlmt_230A_close_Home Credit_credit_bureau_a_1', 'mean_credlmt_230A_close_P133_127_114_credit_bureau_a_1', 'mean_credlmt_230A_close_P40_52_135_credit_bureau_a_1', 'mean_credlmt_935A_active_P133_127_114_credit_bureau_a_1', 'mean_credlmt_935A_active_P150_136_157_credit_bureau_a_1', 'mean_currdebt_94A_null_applprev_1', 'mean_dateactivated_425D_null_applprev_1', 'mean_downpmt_134A_null_applprev_1', 'mean_dtlastpmt_581D_null_applprev_1', 'mean_dtlastpmtallstes_3545839D_null_applprev_1', 'mean_empl_employedfrom_271D', 'mean_employedfrom_700D_null_applprev_1', 'mean_firstnonzeroinstldate_307D_null_applprev_1', 'mean_firstnonzeroinstldate_307D_rel_applprev_1', 'mean_instlamount_768A_active_P133_127_114_credit_bureau_a_1', 'mean_instlamount_768A_active_P150_136_157_credit_bureau_a_1', 'mean_instlamount_852A_close_Home Credit_credit_bureau_a_1', 'mean_instlamount_852A_close_P133_127_114_credit_bureau_a_1', 'mean_instlamount_852A_close_P150_136_157_credit_bureau_a_1', 'mean_instlamount_852A_close_P40_52_135_credit_bureau_a_1', 'mean_interestrate_508L_close_Home Credit_credit_bureau_a_1', 'mean_interestrate_508L_close_P133_127_114_credit_bureau_a_1', 'mean_interestrate_508L_close_P150_136_157_credit_bureau_a_1', 'mean_interestrate_508L_close_P40_52_135_credit_bureau_a_1', 'mean_interestrate_508L_close_b619fa46_credit_bureau_a_1', 'mean_isbidproduct_390L_null_applprev_1', 'mean_isdebitcard_527L_cal_applprev_1', 'mean_isdebitcard_527L_col_applprev_1', 'mean_isdebitcard_527L_null_applprev_1', 'mean_isreference_387L', 'mean_mainoccupationinc_384A', 'mean_mainoccupationinc_437A_null_applprev_1', 'mean_maxdpdtolerance_577P_null_applprev_1', 'mean_nominalrate_281L_active_P150_136_157_credit_bureau_a_1', 'mean_nominalrate_281L_active_P204_66_73_credit_bureau_a_1', 'mean_nominalrate_281L_active_b619fa46_credit_bureau_a_1', 'mean_nominalrate_498L_close_P150_136_157_credit_bureau_a_1', 'mean_nominalrate_498L_close_P40_52_135_credit_bureau_a_1', 'mean_nominalrate_498L_close_b619fa46_credit_bureau_a_1', 'mean_numberofinstls_320L_active_P204_66_73_credit_bureau_a_1', 'mean_numberofinstls_320L_active_b619fa46_credit_bureau_a_1', 'mean_numberofoutstandinstls_59L_active_P204_66_73_credit_bureau_a_1', 'mean_numberofoutstandinstls_59L_active_b619fa46_credit_bureau_a_1', 'mean_numberofoverdueinstlmaxdat_641D_active_P133_127_114_credit_bureau_a_1', 'mean_outstandingamount_362A_active_P204_66_73_credit_bureau_a_1', 'mean_outstandingamount_362A_active_b619fa46_credit_bureau_a_1', 'mean_outstandingdebt_522A_null_applprev_1', 'mean_overdueamountmax2date_1142D_active_P133_127_114_credit_bureau_a_1', 'mean_periodicityofpmts_837L_active_P204_66_73_credit_bureau_a_1', 'mean_periodicityofpmts_837L_active_b619fa46_credit_bureau_a_1', 'mean_pmtnum_8L_null_applprev_1', 'mean_prolongationcount_1120L_close_Home Credit_credit_bureau_a_1', 'mean_prolongationcount_1120L_close_P133_127_114_credit_bureau_a_1', 'mean_prolongationcount_1120L_close_P150_136_157_credit_bureau_a_1', 'mean_prolongationcount_1120L_close_P40_52_135_credit_bureau_a_1', 'mean_prolongationcount_1120L_close_b619fa46_credit_bureau_a_1', 'mean_prolongationcount_599L_active_Home Credit_credit_bureau_a_1', 'mean_prolongationcount_599L_active_P133_127_114_credit_bureau_a_1', 'mean_prolongationcount_599L_active_P150_136_157_credit_bureau_a_1', 'mean_prolongationcount_599L_active_P204_66_73_credit_bureau_a_1', 'mean_prolongationcount_599L_active_b619fa46_credit_bureau_a_1', 'mean_residualamount_488A_close_Home Credit_credit_bureau_a_1', 'mean_residualamount_488A_close_P133_127_114_credit_bureau_a_1', 'mean_residualamount_488A_close_P40_52_135_credit_bureau_a_1', 'mean_residualamount_856A_active_P133_127_114_credit_bureau_a_1', 'mean_residualamount_856A_active_P150_136_157_credit_bureau_a_1', 'mean_revolvingaccount_394A_cal_applprev_1', 'mean_revolvingaccount_394A_col_applprev_1', 'mean_revolvingaccount_394A_null_applprev_1', 'mean_safeguarantyflag_411L', 'mean_tenor_203L_null_applprev_1', 'mean_totalamount_996A_active_P204_66_73_credit_bureau_a_1', 'mean_totalamount_996A_active_b619fa46_credit_bureau_a_1', 'min_annualeffectiverate_199L_close_Home Credit_credit_bureau_a_1', 'min_annualeffectiverate_199L_close_P150_136_157_credit_bureau_a_1', 'min_annualeffectiverate_199L_close_P40_52_135_credit_bureau_a_1', 'min_annualeffectiverate_199L_close_b619fa46_credit_bureau_a_1', 'min_annualeffectiverate_63L_active_Home Credit_credit_bureau_a_1', 'min_annualeffectiverate_63L_active_P150_136_157_credit_bureau_a_1', 'min_annualeffectiverate_63L_active_P204_66_73_credit_bureau_a_1', 'min_annualeffectiverate_63L_active_b619fa46_credit_bureau_a_1', 'min_annuity_853A_null_applprev_1', 'min_approvaldate_319D_null_applprev_1', 'min_birth_259D', 'min_birthdate_87D', 'min_byoccupationinc_3656910L_null_applprev_1', 'min_byoccupationinc_3656910L_rel_applprev_1', 'min_childnum_185L', 'min_childnum_21L_null_applprev_1', 'min_contaddr_matchlist_1032L', 'min_contaddr_smempladdr_334L', 'min_contractsum_5085717L_active_Home Credit_credit_bureau_a_1', 'min_contractsum_5085717L_active_P133_127_114_credit_bureau_a_1', 'min_contractsum_5085717L_active_P150_136_157_credit_bureau_a_1', 'min_contractsum_5085717L_active_P204_66_73_credit_bureau_a_1', 'min_creationdate_885D_null_applprev_1', 'min_credacc_actualbalance_314A_cal_applprev_1', 'min_credacc_actualbalance_314A_null_applprev_1', 'min_credacc_actualbalance_314A_rel_applprev_1', 'min_credacc_credlmt_575A_null_applprev_1', 'min_credacc_minhisbal_90A_cal_applprev_1', 'min_credacc_minhisbal_90A_null_applprev_1', 'min_credacc_minhisbal_90A_rel_applprev_1', 'min_credacc_status_367L_cal_applprev_1', 'min_credacc_status_367L_null_applprev_1', 'min_credacc_status_367L_rel_applprev_1', 'min_credacc_transactions_402L_cal_applprev_1', 'min_credacc_transactions_402L_null_applprev_1', 'min_credacc_transactions_402L_rel_applprev_1', 'min_credamount_590A_null_applprev_1', 'min_credlmt_230A_close_Home Credit_credit_bureau_a_1', 'min_credlmt_230A_close_P133_127_114_credit_bureau_a_1', 'min_credlmt_230A_close_P40_52_135_credit_bureau_a_1', 'min_credlmt_935A_active_P133_127_114_credit_bureau_a_1', 'min_credlmt_935A_active_P150_136_157_credit_bureau_a_1', 'min_credtype_587L_null_applprev_1', 'min_currdebt_94A_null_applprev_1', 'min_dateactivated_425D_null_applprev_1', 'min_downpmt_134A_null_applprev_1', 'min_dtlastpmt_581D_null_applprev_1', 'min_dtlastpmtallstes_3545839D_null_applprev_1', 'min_empl_employedfrom_271D', 'min_empl_employedtotal_800L', 'min_empl_industry_691L', 'min_employedfrom_700D_null_applprev_1', 'min_familystate_447L', 'min_familystate_726L_null_applprev_1', 'min_firstnonzeroinstldate_307D_null_applprev_1', 'min_firstnonzeroinstldate_307D_rel_applprev_1', 'min_gender_992L', 'min_housetype_905L', 'min_housingtype_772L', 'min_incometype_1044T', 'min_inittransactioncode_279L_null_applprev_1', 'min_instlamount_768A_active_P133_127_114_credit_bureau_a_1', 'min_instlamount_768A_active_P150_136_157_credit_bureau_a_1', 'min_instlamount_852A_close_Home Credit_credit_bureau_a_1', 'min_instlamount_852A_close_P133_127_114_credit_bureau_a_1', 'min_instlamount_852A_close_P150_136_157_credit_bureau_a_1', 'min_instlamount_852A_close_P40_52_135_credit_bureau_a_1', 'min_interestrate_508L_close_Home Credit_credit_bureau_a_1', 'min_interestrate_508L_close_P133_127_114_credit_bureau_a_1', 'min_interestrate_508L_close_P150_136_157_credit_bureau_a_1', 'min_interestrate_508L_close_P40_52_135_credit_bureau_a_1', 'min_interestrate_508L_close_b619fa46_credit_bureau_a_1', 'min_isbidproduct_390L_null_applprev_1', 'min_isdebitcard_527L_cal_applprev_1', 'min_isdebitcard_527L_col_applprev_1', 'min_isdebitcard_527L_null_applprev_1', 'min_isreference_387L', 'min_mainoccupationinc_384A', 'min_mainoccupationinc_437A_null_applprev_1', 'min_maritalst_703L', 'min_maxdpdtolerance_577P_null_applprev_1', 'min_nominalrate_281L_active_P150_136_157_credit_bureau_a_1', 'min_nominalrate_281L_active_P204_66_73_credit_bureau_a_1', 'min_nominalrate_281L_active_b619fa46_credit_bureau_a_1', 'min_nominalrate_498L_close_P150_136_157_credit_bureau_a_1', 'min_nominalrate_498L_close_P40_52_135_credit_bureau_a_1', 'min_nominalrate_498L_close_b619fa46_credit_bureau_a_1', 'min_numberofinstls_320L_active_P204_66_73_credit_bureau_a_1', 'min_numberofinstls_320L_active_b619fa46_credit_bureau_a_1', 'min_numberofoutstandinstls_59L_active_P204_66_73_credit_bureau_a_1', 'min_numberofoutstandinstls_59L_active_b619fa46_credit_bureau_a_1', 'min_numberofoverdueinstlmaxdat_641D_active_P133_127_114_credit_bureau_a_1', 'min_outstandingamount_362A_active_P204_66_73_credit_bureau_a_1', 'min_outstandingamount_362A_active_b619fa46_credit_bureau_a_1', 'min_outstandingdebt_522A_null_applprev_1', 'min_overdueamountmax2date_1142D_active_P133_127_114_credit_bureau_a_1', 'min_periodicityofpmts_837L_active_P204_66_73_credit_bureau_a_1', 'min_periodicityofpmts_837L_active_b619fa46_credit_bureau_a_1', 'min_pmtnum_8L_null_applprev_1', 'min_prolongationcount_1120L_close_Home Credit_credit_bureau_a_1', 'min_prolongationcount_1120L_close_P133_127_114_credit_bureau_a_1', 'min_prolongationcount_1120L_close_P150_136_157_credit_bureau_a_1', 'min_prolongationcount_1120L_close_P40_52_135_credit_bureau_a_1', 'min_prolongationcount_1120L_close_b619fa46_credit_bureau_a_1', 'min_prolongationcount_599L_active_Home Credit_credit_bureau_a_1', 'min_prolongationcount_599L_active_P133_127_114_credit_bureau_a_1', 'min_prolongationcount_599L_active_P150_136_157_credit_bureau_a_1', 'min_prolongationcount_599L_active_P204_66_73_credit_bureau_a_1', 'min_prolongationcount_599L_active_b619fa46_credit_bureau_a_1', 'min_residualamount_488A_close_Home Credit_credit_bureau_a_1', 'min_residualamount_488A_close_P133_127_114_credit_bureau_a_1', 'min_residualamount_488A_close_P40_52_135_credit_bureau_a_1', 'min_residualamount_856A_active_P133_127_114_credit_bureau_a_1', 'min_residualamount_856A_active_P150_136_157_credit_bureau_a_1', 'min_revolvingaccount_394A_cal_applprev_1', 'min_revolvingaccount_394A_col_applprev_1', 'min_revolvingaccount_394A_null_applprev_1', 'min_role_993L', 'min_safeguarantyflag_411L', 'min_sex_738L', 'min_status_219L_null_applprev_1', 'min_tenor_203L_null_applprev_1', 'min_totalamount_996A_active_P204_66_73_credit_bureau_a_1', 'min_totalamount_996A_active_b619fa46_credit_bureau_a_1', 'mode_credacc_status_367L_cal_applprev_1', 'mode_credacc_status_367L_null_applprev_1', 'mode_credacc_status_367L_rel_applprev_1', 'mode_credtype_587L_null_applprev_1', 'mode_empl_employedtotal_800L', 'mode_empl_industry_691L', 'mode_familystate_447L', 'mode_familystate_726L_null_applprev_1', 'mode_gender_992L', 'mode_housetype_905L', 'mode_housingtype_772L', 'mode_incometype_1044T', 'mode_inittransactioncode_279L_null_applprev_1', 'mode_maritalst_703L', 'mode_role_993L', 'mode_sex_738L', 'mode_status_219L_null_applprev_1', 'n_unique_credacc_status_367L_null_applprev_1', 'n_unique_credtype_587L_null_applprev_1', 'n_unique_familystate_726L_null_applprev_1', 'n_unique_inittransactioncode_279L_null_applprev_1', 'n_unique_status_219L_null_applprev_1', 'payvacationpostpone_4187118D', 'personindex_1023L', 'persontype_1072L', 'persontype_792L', 'pmtaverage_4955615A', 'pmtcount_4955617L', 'relationshiptoclient_415T', 'relationshiptoclient_642T', 'remitter_829L', 'riskassesment_940T']\n",
      "Create 253 new date diff columns, with base_column=date_decision\n",
      "Create 381 new columns as money feature fraction with base 'credamount_770A'\n",
      "Create 381 new columns as money feature fraction with base 'mainoccupationinc_384A'\n",
      "Drop 1 columns as single value\n",
      "Drop 0 columns as variable enum value\n"
     ]
    },
    {
     "data": {
      "text/plain": [
       "0"
      ]
     },
     "execution_count": 6,
     "metadata": {},
     "output_type": "execute_result"
    }
   ],
   "source": [
    "train_dataset_generator = data_loader.load_train_dataset(chunk_size=100000)\n",
    "gc.collect()\n",
    "train_df, columns_info = preprocessor.process_train_dataset(train_dataset_generator)\n",
    "del train_dataset_generator\n",
    "gc.collect()"
   ]
  },
  {
   "cell_type": "code",
   "execution_count": 7,
   "id": "ad5fc926",
   "metadata": {
    "execution": {
     "iopub.execute_input": "2024-04-25T21:12:57.962178Z",
     "iopub.status.busy": "2024-04-25T21:12:57.960806Z",
     "iopub.status.idle": "2024-04-25T21:14:01.418355Z",
     "shell.execute_reply": "2024-04-25T21:14:01.416977Z"
    },
    "papermill": {
     "duration": 63.475049,
     "end_time": "2024-04-25T21:14:01.421201",
     "exception": false,
     "start_time": "2024-04-25T21:12:57.946152",
     "status": "completed"
    },
    "tags": []
   },
   "outputs": [
    {
     "name": "stdout",
     "output_type": "stream",
     "text": [
      "13457.974287033081\n",
      "shape: (1_526_659, 2_442)\n",
      "┌────────┬──────────┬────────────┬────────────┬───┬────────────┬───────────┬───────────┬───────────┐\n",
      "│ MONTH  ┆ WEEK_NUM ┆ actualdpdt ┆ amtinstpai ┆ … ┆ sumoutstan ┆ totaldebt ┆ totalsett ┆ totinstal │\n",
      "│ ---    ┆ ---      ┆ olerance_3 ┆ dbefduel24 ┆   ┆ dtotalest_ ┆ _9A/maino ┆ led_863A/ ┆ last1m_45 │\n",
      "│ i32    ┆ i16      ┆ 44P        ┆ m_4187115A ┆   ┆ 4493215A/m ┆ ccupation ┆ mainoccup ┆ 25188A/ma │\n",
      "│        ┆          ┆ ---        ┆ ---        ┆   ┆ ai…        ┆ inc_3…    ┆ ation…    ┆ inocc…    │\n",
      "│        ┆          ┆ f32        ┆ f32        ┆   ┆ ---        ┆ ---       ┆ ---       ┆ ---       │\n",
      "│        ┆          ┆            ┆            ┆   ┆ f32        ┆ f32       ┆ f32       ┆ f32       │\n",
      "╞════════╪══════════╪════════════╪════════════╪═══╪════════════╪═══════════╪═══════════╪═══════════╡\n",
      "│ 201901 ┆ 0        ┆ null       ┆ null       ┆ … ┆ null       ┆ 0.0       ┆ 0.0       ┆ null      │\n",
      "│ 201901 ┆ 0        ┆ null       ┆ null       ┆ … ┆ null       ┆ 0.0       ┆ 0.0       ┆ null      │\n",
      "│ 201901 ┆ 0        ┆ null       ┆ null       ┆ … ┆ null       ┆ 0.0       ┆ 0.0       ┆ null      │\n",
      "│ 201901 ┆ 0        ┆ null       ┆ null       ┆ … ┆ null       ┆ 0.0       ┆ 0.0       ┆ null      │\n",
      "│ 201901 ┆ 0        ┆ null       ┆ null       ┆ … ┆ null       ┆ 0.0       ┆ 0.0       ┆ null      │\n",
      "│ …      ┆ …        ┆ …          ┆ …          ┆ … ┆ …          ┆ …         ┆ …         ┆ …         │\n",
      "│ 202010 ┆ 91       ┆ 0.0        ┆ 176561.359 ┆ … ┆ 0.0        ┆ 0.0       ┆ 10.703991 ┆ 0.358658  │\n",
      "│        ┆          ┆            ┆ 375        ┆   ┆            ┆           ┆           ┆           │\n",
      "│ 202010 ┆ 91       ┆ 0.0        ┆ 301276.468 ┆ … ┆ 1.8505     ┆ 1.8505    ┆ 19.055634 ┆ 1.100538  │\n",
      "│        ┆          ┆            ┆ 75         ┆   ┆            ┆           ┆           ┆           │\n",
      "│ 202010 ┆ 91       ┆ 0.0        ┆ 14232.4003 ┆ … ┆ 0.0        ┆ 0.0       ┆ 0.800067  ┆ null      │\n",
      "│        ┆          ┆            ┆ 91         ┆   ┆            ┆           ┆           ┆           │\n",
      "│ 202010 ┆ 91       ┆ 0.0        ┆ 197371.578 ┆ … ┆ 1.56022    ┆ 1.56022   ┆ 14.671511 ┆ 0.18848   │\n",
      "│        ┆          ┆            ┆ 125        ┆   ┆            ┆           ┆           ┆           │\n",
      "│ 202010 ┆ 91       ┆ 0.0        ┆ 82949.6015 ┆ … ┆ 0.226376   ┆ 0.150234  ┆ 2.360395  ┆ 0.075807  │\n",
      "│        ┆          ┆            ┆ 62         ┆   ┆            ┆           ┆           ┆           │\n",
      "└────────┴──────────┴────────────┴────────────┴───┴────────────┴───────────┴───────────┴───────────┘\n"
     ]
    },
    {
     "data": {
      "text/plain": [
       "0"
      ]
     },
     "execution_count": 7,
     "metadata": {},
     "output_type": "execute_result"
    }
   ],
   "source": [
    "train_df.write_parquet(env.output_directory / \"train_df.parquet\")\n",
    "pickle.dump(columns_info, open(env.output_directory / \"columns_info.pkl\", \"wb\"))\n",
    "print(train_df.estimated_size() / 1024 / 1024)\n",
    "print(train_df)\n",
    "\n",
    "del train_df\n",
    "gc.collect()"
   ]
  },
  {
   "cell_type": "code",
   "execution_count": 8,
   "id": "2e5414b0",
   "metadata": {
    "execution": {
     "iopub.execute_input": "2024-04-25T21:14:01.443818Z",
     "iopub.status.busy": "2024-04-25T21:14:01.443321Z",
     "iopub.status.idle": "2024-04-25T21:14:18.560048Z",
     "shell.execute_reply": "2024-04-25T21:14:18.558848Z"
    },
    "papermill": {
     "duration": 17.130794,
     "end_time": "2024-04-25T21:14:18.562327",
     "exception": false,
     "start_time": "2024-04-25T21:14:01.431533",
     "status": "completed"
    },
    "tags": []
   },
   "outputs": [
    {
     "name": "stdout",
     "output_type": "stream",
     "text": [
      "Generate 5 tables for contract_type=active\n",
      "Generate 5 tables for contract_type=close\n",
      "Generate 1605 columns as aggregates\n",
      "Create 253 new date diff columns, with base_column=date_decision\n",
      "Create 381 new columns as money feature fraction with base 'credamount_770A'\n",
      "Create 381 new columns as money feature fraction with base 'mainoccupationinc_384A'\n"
     ]
    },
    {
     "data": {
      "text/plain": [
       "0"
      ]
     },
     "execution_count": 8,
     "metadata": {},
     "output_type": "execute_result"
    }
   ],
   "source": [
    "test_dataset_generator = data_loader.load_test_dataset(chunk_size=100000)\n",
    "gc.collect()\n",
    "test_df, columns_info = preprocessor.process_test_dataset(test_dataset_generator)\n",
    "del test_dataset_generator\n",
    "gc.collect()"
   ]
  },
  {
   "cell_type": "code",
   "execution_count": 9,
   "id": "e3192459",
   "metadata": {
    "execution": {
     "iopub.execute_input": "2024-04-25T21:14:18.585976Z",
     "iopub.status.busy": "2024-04-25T21:14:18.585530Z",
     "iopub.status.idle": "2024-04-25T21:14:19.424063Z",
     "shell.execute_reply": "2024-04-25T21:14:19.422770Z"
    },
    "papermill": {
     "duration": 0.853315,
     "end_time": "2024-04-25T21:14:19.426801",
     "exception": false,
     "start_time": "2024-04-25T21:14:18.573486",
     "status": "completed"
    },
    "tags": []
   },
   "outputs": [
    {
     "name": "stdout",
     "output_type": "stream",
     "text": [
      "0.12691116333007812\n",
      "shape: (10, 2_441)\n",
      "┌────────┬──────────┬────────────┬────────────┬───┬────────────┬───────────┬───────────┬───────────┐\n",
      "│ MONTH  ┆ WEEK_NUM ┆ actualdpdt ┆ amtinstpai ┆ … ┆ sumoutstan ┆ totaldebt ┆ totalsett ┆ totinstal │\n",
      "│ ---    ┆ ---      ┆ olerance_3 ┆ dbefduel24 ┆   ┆ dtotalest_ ┆ _9A/maino ┆ led_863A/ ┆ last1m_45 │\n",
      "│ i32    ┆ i16      ┆ 44P        ┆ m_4187115A ┆   ┆ 4493215A/m ┆ ccupation ┆ mainoccup ┆ 25188A/ma │\n",
      "│        ┆          ┆ ---        ┆ ---        ┆   ┆ ai…        ┆ inc_3…    ┆ ation…    ┆ inocc…    │\n",
      "│        ┆          ┆ f32        ┆ f32        ┆   ┆ ---        ┆ ---       ┆ ---       ┆ ---       │\n",
      "│        ┆          ┆            ┆            ┆   ┆ f32        ┆ f32       ┆ f32       ┆ f32       │\n",
      "╞════════╪══════════╪════════════╪════════════╪═══╪════════════╪═══════════╪═══════════╪═══════════╡\n",
      "│ 202201 ┆ 100      ┆ 0.0        ┆ 191767.359 ┆ … ┆ 0.357482   ┆ 0.357482  ┆ 13.41268  ┆ 0.525282  │\n",
      "│        ┆          ┆            ┆ 375        ┆   ┆            ┆           ┆           ┆           │\n",
      "│ 202201 ┆ 100      ┆ 0.0        ┆ 129704.398 ┆ … ┆ 0.213618   ┆ 0.213618  ┆ 7.504435  ┆ 2.531285  │\n",
      "│        ┆          ┆            ┆ 438        ┆   ┆            ┆           ┆           ┆           │\n",
      "│ 202201 ┆ 100      ┆ 0.0        ┆ 71036.3984 ┆ … ┆ 0.0        ┆ 0.0       ┆ 1.262064  ┆ null      │\n",
      "│        ┆          ┆            ┆ 38         ┆   ┆            ┆           ┆           ┆           │\n",
      "│ 202201 ┆ 100      ┆ 0.0        ┆ 183992.0   ┆ … ┆ 1.707764   ┆ 1.707764  ┆ 2.537616  ┆ 0.168652  │\n",
      "│ 202201 ┆ 100      ┆ 0.0        ┆ 0.0        ┆ … ┆ 0.0        ┆ 0.0       ┆ 1.643938  ┆ null      │\n",
      "│ 202201 ┆ 100      ┆ 0.0        ┆ 0.0        ┆ … ┆ 0.0        ┆ 0.0       ┆ 0.161293  ┆ null      │\n",
      "│ 202201 ┆ 100      ┆ 0.0        ┆ null       ┆ … ┆ null       ┆ null      ┆ null      ┆ null      │\n",
      "│ 202201 ┆ 100      ┆ 0.0        ┆ 63647.4023 ┆ … ┆ null       ┆ null      ┆ null      ┆ null      │\n",
      "│        ┆          ┆            ┆ 44         ┆   ┆            ┆           ┆           ┆           │\n",
      "│ 202201 ┆ 100      ┆ 0.0        ┆ null       ┆ … ┆ null       ┆ null      ┆ null      ┆ null      │\n",
      "│ 202201 ┆ 100      ┆ 0.0        ┆ 39948.8007 ┆ … ┆ null       ┆ null      ┆ null      ┆ null      │\n",
      "│        ┆          ┆            ┆ 81         ┆   ┆            ┆           ┆           ┆           │\n",
      "└────────┴──────────┴────────────┴────────────┴───┴────────────┴───────────┴───────────┴───────────┘\n"
     ]
    },
    {
     "data": {
      "text/plain": [
       "0"
      ]
     },
     "execution_count": 9,
     "metadata": {},
     "output_type": "execute_result"
    }
   ],
   "source": [
    "test_df.write_parquet(env.output_directory / \"test_df.parquet\")\n",
    "print(test_df.estimated_size() / 1024 / 1024)\n",
    "print(test_df)\n",
    "\n",
    "del test_df\n",
    "gc.collect()"
   ]
  }
 ],
 "metadata": {
  "kaggle": {
   "accelerator": "none",
   "dataSources": [
    {
     "databundleVersionId": 7921029,
     "sourceId": 50160,
     "sourceType": "competition"
    },
    {
     "datasetId": 4832722,
     "sourceId": 8166831,
     "sourceType": "datasetVersion"
    },
    {
     "datasetId": 4496896,
     "sourceId": 8230427,
     "sourceType": "datasetVersion"
    }
   ],
   "dockerImageVersionId": 30635,
   "isGpuEnabled": false,
   "isInternetEnabled": false,
   "language": "python",
   "sourceType": "notebook"
  },
  "kernelspec": {
   "display_name": "Python 3",
   "language": "python",
   "name": "python3"
  },
  "language_info": {
   "codemirror_mode": {
    "name": "ipython",
    "version": 3
   },
   "file_extension": ".py",
   "mimetype": "text/x-python",
   "name": "python",
   "nbconvert_exporter": "python",
   "pygments_lexer": "ipython3",
   "version": "3.10.12"
  },
  "papermill": {
   "default_parameters": {},
   "duration": 2379.312559,
   "end_time": "2024-04-25T21:14:20.775406",
   "environment_variables": {},
   "exception": null,
   "input_path": "__notebook__.ipynb",
   "output_path": "__notebook__.ipynb",
   "parameters": {},
   "start_time": "2024-04-25T20:34:41.462847",
   "version": "2.4.0"
  }
 },
 "nbformat": 4,
 "nbformat_minor": 5
}
