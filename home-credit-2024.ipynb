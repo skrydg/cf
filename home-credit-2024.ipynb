{
 "cells": [
  {
   "cell_type": "markdown",
   "id": "00fbcba1",
   "metadata": {
    "papermill": {
     "duration": 0.018376,
     "end_time": "2024-03-11T19:23:09.001266",
     "exception": false,
     "start_time": "2024-03-11T19:23:08.982890",
     "status": "completed"
    },
    "tags": []
   },
   "source": [
    "# Install packages"
   ]
  },
  {
   "cell_type": "code",
   "execution_count": 1,
   "id": "82b488a2",
   "metadata": {
    "execution": {
     "iopub.execute_input": "2024-03-11T19:23:09.040749Z",
     "iopub.status.busy": "2024-03-11T19:23:09.040317Z",
     "iopub.status.idle": "2024-03-11T19:23:45.366427Z",
     "shell.execute_reply": "2024-03-11T19:23:45.364964Z"
    },
    "papermill": {
     "duration": 36.350035,
     "end_time": "2024-03-11T19:23:45.369699",
     "exception": false,
     "start_time": "2024-03-11T19:23:09.019664",
     "status": "completed"
    },
    "tags": []
   },
   "outputs": [
    {
     "name": "stdout",
     "output_type": "stream",
     "text": [
      "Processing /kaggle/input/kaggle-home-credit-risk-model-stability-lib/kaggle_home_credit_risk_model_stability-0.3-py3-none-any.whl\r\n",
      "Installing collected packages: kaggle-home-credit-risk-model-stability\r\n",
      "Successfully installed kaggle-home-credit-risk-model-stability-0.3\r\n"
     ]
    }
   ],
   "source": [
    "!pip install /kaggle/input/kaggle-home-credit-risk-model-stability-lib/kaggle_home_credit_risk_model_stability-0.3-py3-none-any.whl --force-reinstall"
   ]
  },
  {
   "cell_type": "markdown",
   "id": "0d1cc0f3",
   "metadata": {
    "papermill": {
     "duration": 0.017353,
     "end_time": "2024-03-11T19:23:45.407220",
     "exception": false,
     "start_time": "2024-03-11T19:23:45.389867",
     "status": "completed"
    },
    "tags": []
   },
   "source": [
    "# Import packages"
   ]
  },
  {
   "cell_type": "code",
   "execution_count": 2,
   "id": "9b1d761a",
   "metadata": {
    "execution": {
     "iopub.execute_input": "2024-03-11T19:23:45.445820Z",
     "iopub.status.busy": "2024-03-11T19:23:45.445366Z",
     "iopub.status.idle": "2024-03-11T19:23:50.868658Z",
     "shell.execute_reply": "2024-03-11T19:23:50.867272Z"
    },
    "papermill": {
     "duration": 5.445471,
     "end_time": "2024-03-11T19:23:50.871423",
     "exception": false,
     "start_time": "2024-03-11T19:23:45.425952",
     "status": "completed"
    },
    "tags": []
   },
   "outputs": [],
   "source": [
    "import polars as pl\n",
    "import gc\n",
    "import time\n",
    "import numpy as np\n",
    "import pandas as pd\n",
    "import lightgbm as lgb\n",
    "import seaborn as sns\n",
    "import matplotlib.pyplot as plt\n",
    "import copy\n",
    "import lightgbm as lgb\n",
    "import importlib\n",
    "\n",
    "import kaggle_home_credit_risk_model_stability.libs as hcr\n",
    "from kaggle_home_credit_risk_model_stability.libs.input.dataset import Dataset\n",
    "from kaggle_home_credit_risk_model_stability.libs.input.data_loader import DataLoader\n",
    "from kaggle_home_credit_risk_model_stability.libs.preprocessor.preprocessor import Preprocessor\n",
    "from kaggle_home_credit_risk_model_stability.libs.preprocessor.steps import *\n",
    "from kaggle_home_credit_risk_model_stability.libs.preprocessor.columns_info import ColumnsInfo\n",
    "from kaggle_home_credit_risk_model_stability.libs.feature_description.feature_description import FreatureDescriptionGetter\n",
    "\n",
    "from collections import defaultdict\n",
    "from glob import glob\n",
    "from pathlib import Path\n",
    "from sklearn.model_selection import train_test_split\n",
    "from sklearn.metrics import roc_auc_score\n",
    "from sklearn.model_selection import StratifiedGroupKFold\n",
    "from sklearn.base import BaseEstimator, RegressorMixin\n",
    "from catboost import CatBoostClassifier\n",
    "from enum import Enum"
   ]
  },
  {
   "cell_type": "code",
   "execution_count": 3,
   "id": "48537dc6",
   "metadata": {
    "execution": {
     "iopub.execute_input": "2024-03-11T19:23:50.910696Z",
     "iopub.status.busy": "2024-03-11T19:23:50.909723Z",
     "iopub.status.idle": "2024-03-11T19:23:50.919249Z",
     "shell.execute_reply": "2024-03-11T19:23:50.918114Z"
    },
    "papermill": {
     "duration": 0.031586,
     "end_time": "2024-03-11T19:23:50.921643",
     "exception": false,
     "start_time": "2024-03-11T19:23:50.890057",
     "status": "completed"
    },
    "tags": []
   },
   "outputs": [],
   "source": [
    "data_loader = DataLoader()\n",
    "preprocessor = Preprocessor({\n",
    "    \"set_column_info_step\": SetColumnsInfoStep(),\n",
    "    \"set_types\": SetTypesStep(),\n",
    "    \"process_categorical\": ProcessCategoricalStep(),\n",
    "    \"process_person_table\": ProcessPersonTableStep(),\n",
    "    \"one_hot_encoding_for_depth1\": OneHotEncodingForDepth1Step(),\n",
    "    \"pairwise_diff_raw_dates\": PairwiseDateDiffStep(),\n",
    "    \"aggregate_depth_table\": AggregateDepthTableStep(),\n",
    "    \"drop_equal_columns\": DropEqualColumnsStep(),\n",
    "    \"drop_almost_null_features_respect_to_target\": DropAlmostNullFeaturesWithRespectToTargetStep(),\n",
    "    \"join_table\": JoinTablesStep(),\n",
    "    \"generate_age_feature\": GenerateAgeFeatureStep(),\n",
    "    \"fill_nulls_in_categorical_features\": FillNullsInCategoricalFeaturesStep(),\n",
    "    **{\n",
    "        f\"create_money_feature_fraction_{base_column}\": CreateMoneyFeatureFractionStep(base_column)\n",
    "        for base_column in [\"credamount_770A\", \"maininc_215A\", \"mainoccupationinc_384A\", \"mean_amount_416A\"]\n",
    "    },\n",
    "    \"generate_mismatch_features\": GenerateMismatchFeaturesStep(),\n",
    "    \"generate_target_distribution_based_on_categorical_features_step\": GenerateTargetDistributionBasedOnCategoricalStep(),\n",
    "    \"drop_single_value_features\": DropSingleValueFeaturesStep(),\n",
    "    \"drop_variable_enum_features\": DropVariableEnumFeaturesStep(),\n",
    "    \"reduce_memory_usage\": ReduceMemoryUsageStep()\n",
    "})\n",
    "columns_info = ColumnsInfo()"
   ]
  },
  {
   "cell_type": "code",
   "execution_count": null,
   "id": "19b0ef47",
   "metadata": {
    "papermill": {
     "duration": 0.0176,
     "end_time": "2024-03-11T19:23:50.957612",
     "exception": false,
     "start_time": "2024-03-11T19:23:50.940012",
     "status": "completed"
    },
    "tags": []
   },
   "outputs": [],
   "source": []
  },
  {
   "cell_type": "code",
   "execution_count": 4,
   "id": "f239fe71",
   "metadata": {
    "execution": {
     "iopub.execute_input": "2024-03-11T19:23:50.995577Z",
     "iopub.status.busy": "2024-03-11T19:23:50.995133Z",
     "iopub.status.idle": "2024-03-11T19:23:51.000318Z",
     "shell.execute_reply": "2024-03-11T19:23:50.999057Z"
    },
    "papermill": {
     "duration": 0.027375,
     "end_time": "2024-03-11T19:23:51.002919",
     "exception": false,
     "start_time": "2024-03-11T19:23:50.975544",
     "status": "completed"
    },
    "tags": []
   },
   "outputs": [],
   "source": [
    "# train_dataset = data_loader.load_train_dataset()\n",
    "# case_id_set = train_dataset.get_base().filter(train_dataset.get_base()[\"WEEK_NUM\"] < 10)[\"case_id\"]\n",
    "# train_dataset = train_dataset.filter(lambda table: table.filter(pl.col(\"case_id\").is_in(case_id_set)))"
   ]
  },
  {
   "cell_type": "code",
   "execution_count": 5,
   "id": "56881373",
   "metadata": {
    "execution": {
     "iopub.execute_input": "2024-03-11T19:23:51.042482Z",
     "iopub.status.busy": "2024-03-11T19:23:51.041856Z",
     "iopub.status.idle": "2024-03-11T19:38:19.167655Z",
     "shell.execute_reply": "2024-03-11T19:38:19.166450Z"
    },
    "papermill": {
     "duration": 868.148681,
     "end_time": "2024-03-11T19:38:19.170456",
     "exception": false,
     "start_time": "2024-03-11T19:23:51.021775",
     "status": "completed"
    },
    "tags": []
   },
   "outputs": [
    {
     "name": "stdout",
     "output_type": "stream",
     "text": [
      "Train dataset week range: 0-91\n",
      "Step: set_column_info_step, execution_time: 0.11497616767883301\n",
      "Step: set_types, execution_time: 20.43608283996582\n",
      "Step: process_categorical, execution_time: 26.58239197731018\n",
      "Step: process_person_table, execution_time: 0.38655805587768555\n",
      "Create 250 new columns as one hot encoding\n",
      "Step: one_hot_encoding_for_depth1, execution_time: 22.557531356811523\n",
      "Create 172 new columns as pairwise dates diff\n",
      "Step: pairwise_diff_raw_dates, execution_time: 1.3742389678955078\n",
      "Step: aggregate_depth_table, execution_time: 51.2716109752655\n",
      "Drop 310 columns as duplicates\n",
      "Step: drop_equal_columns, execution_time: 7.303486347198486\n",
      "Drop 534 columns as almost null\n",
      "Step: drop_almost_null_features_respect_to_target, execution_time: 513.4646146297455\n",
      "Step: join_table, execution_time: 14.877032279968262\n",
      "Step: generate_age_feature, execution_time: 0.19642949104309082\n",
      "Step: fill_nulls_in_categorical_features, execution_time: 16.527366638183594\n",
      "Create 124 new columns as money feature fraction with base 'credamount_770A'\n",
      "Step: create_money_feature_fraction_credamount_770A, execution_time: 5.534629583358765\n",
      "Create 124 new columns as money feature fraction with base 'maininc_215A'\n",
      "Step: create_money_feature_fraction_maininc_215A, execution_time: 8.273550987243652\n",
      "Create 124 new columns as money feature fraction with base 'mainoccupationinc_384A'\n",
      "Step: create_money_feature_fraction_mainoccupationinc_384A, execution_time: 5.641429901123047\n",
      "Create 124 new columns as money feature fraction with base 'mean_amount_416A'\n",
      "Step: create_money_feature_fraction_mean_amount_416A, execution_time: 8.170182466506958\n",
      "Create 60 new columns as feature mismatch\n",
      "Step: generate_mismatch_features, execution_time: 48.004143953323364\n",
      "Create 210 as target distribution by categorical feature\n",
      "Step: generate_target_distribution_based_on_categorical_features_step, execution_time: 31.883460521697998\n",
      "Drop 18 columns as single value\n",
      "Step: drop_single_value_features, execution_time: 50.78202152252197\n",
      "Drop 18 columns as variable enum value\n",
      "Step: drop_variable_enum_features, execution_time: 1.6878998279571533\n",
      "Step: reduce_memory_usage, execution_time: 18.4410183429718\n"
     ]
    },
    {
     "data": {
      "text/plain": [
       "0"
      ]
     },
     "execution_count": 5,
     "metadata": {},
     "output_type": "execute_result"
    }
   ],
   "source": [
    "train_dataset = data_loader.load_train_dataset()\n",
    "print(\"Train dataset week range: {}-{}\".format(train_dataset.get_base()[\"WEEK_NUM\"].min(), train_dataset.get_base()[\"WEEK_NUM\"].max()))\n",
    "gc.collect()\n",
    "train_df, columns_info = preprocessor.process_train_dataset(train_dataset, columns_info)\n",
    "del train_dataset\n",
    "\n",
    "gc.collect()"
   ]
  },
  {
   "cell_type": "code",
   "execution_count": 6,
   "id": "cbd89e5b",
   "metadata": {
    "execution": {
     "iopub.execute_input": "2024-03-11T19:38:19.213055Z",
     "iopub.status.busy": "2024-03-11T19:38:19.212641Z",
     "iopub.status.idle": "2024-03-11T19:38:24.415018Z",
     "shell.execute_reply": "2024-03-11T19:38:24.411944Z"
    },
    "papermill": {
     "duration": 5.238824,
     "end_time": "2024-03-11T19:38:24.429930",
     "exception": false,
     "start_time": "2024-03-11T19:38:19.191106",
     "status": "completed"
    },
    "tags": []
   },
   "outputs": [],
   "source": [
    "for column in train_df.columns:\n",
    "    if train_df[column].dtype != pl.Enum:\n",
    "        x = train_df[column].is_infinite().sum() + train_df[column].is_nan().sum()\n",
    "        assert(x == 0)"
   ]
  },
  {
   "cell_type": "code",
   "execution_count": 7,
   "id": "9f7ff110",
   "metadata": {
    "execution": {
     "iopub.execute_input": "2024-03-11T19:38:24.491224Z",
     "iopub.status.busy": "2024-03-11T19:38:24.489979Z",
     "iopub.status.idle": "2024-03-11T19:39:30.846314Z",
     "shell.execute_reply": "2024-03-11T19:39:30.845231Z"
    },
    "papermill": {
     "duration": 66.387204,
     "end_time": "2024-03-11T19:39:30.849093",
     "exception": false,
     "start_time": "2024-03-11T19:38:24.461889",
     "status": "completed"
    },
    "tags": []
   },
   "outputs": [
    {
     "name": "stdout",
     "output_type": "stream",
     "text": [
      "8781.02825641632\n",
      "shape: (1_526_659, 1_706)\n",
      "┌─────────┬────────────┬────────┬──────────┬───┬────────────┬────────────┬────────────┬────────────┐\n",
      "│ case_id ┆ date_decis ┆ MONTH  ┆ WEEK_NUM ┆ … ┆ last_type_ ┆ last_type_ ┆ age_bucket ┆ age_bucket │\n",
      "│ ---     ┆ ion        ┆ ---    ┆ ---      ┆   ┆ 25L_target ┆ 25L_value_ ┆ _target_di ┆ _value_per │\n",
      "│ i32     ┆ ---        ┆ i32    ┆ i8       ┆   ┆ _distribut ┆ persent    ┆ stribution ┆ sent       │\n",
      "│         ┆ i16        ┆        ┆          ┆   ┆ io…        ┆ ---        ┆ ---        ┆ ---        │\n",
      "│         ┆            ┆        ┆          ┆   ┆ ---        ┆ f32        ┆ f32        ┆ f32        │\n",
      "│         ┆            ┆        ┆          ┆   ┆ f32        ┆            ┆            ┆            │\n",
      "╞═════════╪════════════╪════════╪══════════╪═══╪════════════╪════════════╪════════════╪════════════╡\n",
      "│ 0       ┆ 17899      ┆ 201901 ┆ 0        ┆ … ┆ 0.033826   ┆ 0.424935   ┆ 0.0344     ┆ 0.255728   │\n",
      "│ 1       ┆ 17899      ┆ 201901 ┆ 0        ┆ … ┆ 0.033826   ┆ 0.424935   ┆ 0.017717   ┆ 0.154987   │\n",
      "│ 2       ┆ 17900      ┆ 201901 ┆ 0        ┆ … ┆ 0.033826   ┆ 0.424935   ┆ 0.030632   ┆ 0.216253   │\n",
      "│ 3       ┆ 17899      ┆ 201901 ┆ 0        ┆ … ┆ 0.033826   ┆ 0.424935   ┆ 0.048363   ┆ 0.176153   │\n",
      "│ …       ┆ …          ┆ …      ┆ …        ┆ … ┆ …          ┆ …          ┆ …          ┆ …          │\n",
      "│ 2703451 ┆ 18540      ┆ 202010 ┆ 91       ┆ … ┆ 0.020385   ┆ 0.02545    ┆ 0.017717   ┆ 0.154987   │\n",
      "│ 2703452 ┆ 18540      ┆ 202010 ┆ 91       ┆ … ┆ 0.03012    ┆ 0.507943   ┆ 0.030632   ┆ 0.216253   │\n",
      "│ 2703453 ┆ 18540      ┆ 202010 ┆ 91       ┆ … ┆ 0.020385   ┆ 0.02545    ┆ 0.020837   ┆ 0.033448   │\n",
      "│ 2703454 ┆ 18540      ┆ 202010 ┆ 91       ┆ … ┆ 0.03012    ┆ 0.507943   ┆ 0.020837   ┆ 0.033448   │\n",
      "└─────────┴────────────┴────────┴──────────┴───┴────────────┴────────────┴────────────┴────────────┘\n"
     ]
    },
    {
     "data": {
      "text/plain": [
       "0"
      ]
     },
     "execution_count": 7,
     "metadata": {},
     "output_type": "execute_result"
    }
   ],
   "source": [
    "train_df.write_parquet(\"/kaggle/working/train_df.parquet\")\n",
    "print(train_df.estimated_size() / 1024 / 1024)\n",
    "print(train_df)\n",
    "\n",
    "del train_df\n",
    "gc.collect()"
   ]
  },
  {
   "cell_type": "code",
   "execution_count": 8,
   "id": "f9f4f7a7",
   "metadata": {
    "execution": {
     "iopub.execute_input": "2024-03-11T19:39:30.892252Z",
     "iopub.status.busy": "2024-03-11T19:39:30.891798Z",
     "iopub.status.idle": "2024-03-11T19:39:40.006161Z",
     "shell.execute_reply": "2024-03-11T19:39:40.004803Z"
    },
    "papermill": {
     "duration": 9.139126,
     "end_time": "2024-03-11T19:39:40.008948",
     "exception": false,
     "start_time": "2024-03-11T19:39:30.869822",
     "status": "completed"
    },
    "tags": []
   },
   "outputs": [
    {
     "name": "stdout",
     "output_type": "stream",
     "text": [
      "Test dataset week range: 100-100\n",
      "Step: set_column_info_step, execution_time: 0.15277099609375\n",
      "Step: set_types, execution_time: 0.19015240669250488\n",
      "Step: process_categorical, execution_time: 0.4047658443450928\n",
      "Step: process_person_table, execution_time: 0.1561717987060547\n",
      "Create 250 new columns as one hot encoding\n",
      "Step: one_hot_encoding_for_depth1, execution_time: 0.18471407890319824\n",
      "Create 172 new columns as pairwise dates diff\n",
      "Step: pairwise_diff_raw_dates, execution_time: 0.1903703212738037\n",
      "Step: aggregate_depth_table, execution_time: 0.6648993492126465\n",
      "Step: drop_equal_columns, execution_time: 0.5738685131072998\n",
      "Step: drop_almost_null_features_respect_to_target, execution_time: 0.16329646110534668\n",
      "Step: join_table, execution_time: 2.173923969268799\n",
      "Step: generate_age_feature, execution_time: 0.1527574062347412\n",
      "Step: fill_nulls_in_categorical_features, execution_time: 0.8417816162109375\n",
      "Create 124 new columns as money feature fraction with base 'credamount_770A'\n",
      "Step: create_money_feature_fraction_credamount_770A, execution_time: 0.22609329223632812\n",
      "Create 124 new columns as money feature fraction with base 'maininc_215A'\n",
      "Step: create_money_feature_fraction_maininc_215A, execution_time: 0.22969555854797363\n",
      "Create 124 new columns as money feature fraction with base 'mainoccupationinc_384A'\n",
      "Step: create_money_feature_fraction_mainoccupationinc_384A, execution_time: 0.2409200668334961\n",
      "Create 124 new columns as money feature fraction with base 'mean_amount_416A'\n",
      "Step: create_money_feature_fraction_mean_amount_416A, execution_time: 0.24748706817626953\n",
      "Create 60 new columns as feature mismatch\n",
      "Step: generate_mismatch_features, execution_time: 0.18125367164611816\n",
      "Create 210 as target distribution by categorical feature\n",
      "Step: generate_target_distribution_based_on_categorical_features_step, execution_time: 0.3541719913482666\n",
      "Step: drop_single_value_features, execution_time: 0.15665864944458008\n",
      "Step: drop_variable_enum_features, execution_time: 0.1584157943725586\n",
      "Step: reduce_memory_usage, execution_time: 1.042325735092163\n"
     ]
    },
    {
     "data": {
      "text/plain": [
       "0"
      ]
     },
     "execution_count": 8,
     "metadata": {},
     "output_type": "execute_result"
    }
   ],
   "source": [
    "test_dataset = data_loader.load_test_dataset()\n",
    "print(\"Test dataset week range: {}-{}\".format(test_dataset.get_base()[\"WEEK_NUM\"].min(), test_dataset.get_base()[\"WEEK_NUM\"].max()))\n",
    "gc.collect()\n",
    "test_df, columns_info = preprocessor.process_test_dataset(test_dataset, columns_info)\n",
    "del test_dataset\n",
    "\n",
    "gc.collect()"
   ]
  },
  {
   "cell_type": "code",
   "execution_count": 9,
   "id": "afe52ea3",
   "metadata": {
    "execution": {
     "iopub.execute_input": "2024-03-11T19:39:40.056886Z",
     "iopub.status.busy": "2024-03-11T19:39:40.056417Z",
     "iopub.status.idle": "2024-03-11T19:39:40.745554Z",
     "shell.execute_reply": "2024-03-11T19:39:40.744552Z"
    },
    "papermill": {
     "duration": 0.715253,
     "end_time": "2024-03-11T19:39:40.747614",
     "exception": false,
     "start_time": "2024-03-11T19:39:40.032361",
     "status": "completed"
    },
    "tags": []
   },
   "outputs": [
    {
     "name": "stdout",
     "output_type": "stream",
     "text": [
      "0.2995929718017578\n",
      "shape: (10, 1_705)\n",
      "┌─────────┬────────────┬────────┬──────────┬───┬────────────┬────────────┬────────────┬────────────┐\n",
      "│ case_id ┆ date_decis ┆ MONTH  ┆ WEEK_NUM ┆ … ┆ last_type_ ┆ last_type_ ┆ age_bucket ┆ age_bucket │\n",
      "│ ---     ┆ ion        ┆ ---    ┆ ---      ┆   ┆ 25L_target ┆ 25L_value_ ┆ _target_di ┆ _value_per │\n",
      "│ i32     ┆ ---        ┆ i32    ┆ i8       ┆   ┆ _distribut ┆ persent    ┆ stribution ┆ sent       │\n",
      "│         ┆ i16        ┆        ┆          ┆   ┆ io…        ┆ ---        ┆ ---        ┆ ---        │\n",
      "│         ┆            ┆        ┆          ┆   ┆ ---        ┆ f32        ┆ f32        ┆ f32        │\n",
      "│         ┆            ┆        ┆          ┆   ┆ f32        ┆            ┆            ┆            │\n",
      "╞═════════╪════════════╪════════╪══════════╪═══╪════════════╪════════════╪════════════╪════════════╡\n",
      "│ 57543   ┆ 18761      ┆ 202201 ┆ 100      ┆ … ┆ 0.033826   ┆ 0.424935   ┆ 0.030632   ┆ 0.216253   │\n",
      "│ 57549   ┆ 19009      ┆ 202201 ┆ 100      ┆ … ┆ 0.033826   ┆ 0.424935   ┆ 0.017717   ┆ 0.154987   │\n",
      "│ 57551   ┆ 18593      ┆ 202201 ┆ 100      ┆ … ┆ 0.03012    ┆ 0.507943   ┆ 0.0344     ┆ 0.255728   │\n",
      "│ 57552   ┆ 18593      ┆ 202201 ┆ 100      ┆ … ┆ 0.03012    ┆ 0.507943   ┆ 0.017717   ┆ 0.154987   │\n",
      "│ …       ┆ …          ┆ …      ┆ …        ┆ … ┆ …          ┆ …          ┆ …          ┆ …          │\n",
      "│ 57631   ┆ 19147      ┆ 202201 ┆ 100      ┆ … ┆ 0.03012    ┆ 0.507943   ┆ null       ┆ null       │\n",
      "│ 57632   ┆ 19028      ┆ 202201 ┆ 100      ┆ … ┆ 0.03012    ┆ 0.507943   ┆ null       ┆ null       │\n",
      "│ 57633   ┆ 19017      ┆ 202201 ┆ 100      ┆ … ┆ 0.03012    ┆ 0.507943   ┆ null       ┆ null       │\n",
      "│ 57634   ┆ 18654      ┆ 202201 ┆ 100      ┆ … ┆ 0.03012    ┆ 0.507943   ┆ null       ┆ null       │\n",
      "└─────────┴────────────┴────────┴──────────┴───┴────────────┴────────────┴────────────┴────────────┘\n"
     ]
    },
    {
     "data": {
      "text/plain": [
       "0"
      ]
     },
     "execution_count": 9,
     "metadata": {},
     "output_type": "execute_result"
    }
   ],
   "source": [
    "test_df.write_parquet(\"/kaggle/working/test_df.parquet\")\n",
    "print(test_df.estimated_size() / 1024 / 1024)\n",
    "print(test_df)\n",
    "\n",
    "del test_df\n",
    "gc.collect()"
   ]
  },
  {
   "cell_type": "markdown",
   "id": "2ea2d158",
   "metadata": {
    "_kg_hide-input": true,
    "papermill": {
     "duration": 0.025079,
     "end_time": "2024-03-11T19:39:40.795887",
     "exception": false,
     "start_time": "2024-03-11T19:39:40.770808",
     "status": "completed"
    },
    "tags": []
   },
   "source": [
    "# Data visualization"
   ]
  },
  {
   "cell_type": "code",
   "execution_count": null,
   "id": "d539e7a7",
   "metadata": {
    "papermill": {
     "duration": 0.023271,
     "end_time": "2024-03-11T19:39:40.842514",
     "exception": false,
     "start_time": "2024-03-11T19:39:40.819243",
     "status": "completed"
    },
    "tags": []
   },
   "outputs": [],
   "source": []
  },
  {
   "cell_type": "code",
   "execution_count": 10,
   "id": "acd6cd76",
   "metadata": {
    "execution": {
     "iopub.execute_input": "2024-03-11T19:39:40.891171Z",
     "iopub.status.busy": "2024-03-11T19:39:40.890763Z",
     "iopub.status.idle": "2024-03-11T19:39:40.895219Z",
     "shell.execute_reply": "2024-03-11T19:39:40.894125Z"
    },
    "papermill": {
     "duration": 0.031876,
     "end_time": "2024-03-11T19:39:40.897377",
     "exception": false,
     "start_time": "2024-03-11T19:39:40.865501",
     "status": "completed"
    },
    "tags": []
   },
   "outputs": [],
   "source": [
    "# train_dataset = data_loader.load_train_dataset()"
   ]
  },
  {
   "cell_type": "code",
   "execution_count": 11,
   "id": "62375c15",
   "metadata": {
    "execution": {
     "iopub.execute_input": "2024-03-11T19:39:40.945601Z",
     "iopub.status.busy": "2024-03-11T19:39:40.945176Z",
     "iopub.status.idle": "2024-03-11T19:39:40.950147Z",
     "shell.execute_reply": "2024-03-11T19:39:40.948988Z"
    },
    "papermill": {
     "duration": 0.031879,
     "end_time": "2024-03-11T19:39:40.952529",
     "exception": false,
     "start_time": "2024-03-11T19:39:40.920650",
     "status": "completed"
    },
    "tags": []
   },
   "outputs": [],
   "source": [
    "# [column for column in train_df.columns if \"amtdebitincoming_4809443A\" in column]"
   ]
  },
  {
   "cell_type": "code",
   "execution_count": 12,
   "id": "cb84aee2",
   "metadata": {
    "execution": {
     "iopub.execute_input": "2024-03-11T19:39:41.000502Z",
     "iopub.status.busy": "2024-03-11T19:39:41.000064Z",
     "iopub.status.idle": "2024-03-11T19:39:41.005499Z",
     "shell.execute_reply": "2024-03-11T19:39:41.004315Z"
    },
    "papermill": {
     "duration": 0.032273,
     "end_time": "2024-03-11T19:39:41.007898",
     "exception": false,
     "start_time": "2024-03-11T19:39:40.975625",
     "status": "completed"
    },
    "tags": []
   },
   "outputs": [],
   "source": [
    "# train_dataset.get_base()[\"target\"].mean()"
   ]
  },
  {
   "cell_type": "code",
   "execution_count": 13,
   "id": "6d4f3bdb",
   "metadata": {
    "execution": {
     "iopub.execute_input": "2024-03-11T19:39:41.056594Z",
     "iopub.status.busy": "2024-03-11T19:39:41.055489Z",
     "iopub.status.idle": "2024-03-11T19:39:41.060724Z",
     "shell.execute_reply": "2024-03-11T19:39:41.059566Z"
    },
    "papermill": {
     "duration": 0.032091,
     "end_time": "2024-03-11T19:39:41.063210",
     "exception": false,
     "start_time": "2024-03-11T19:39:41.031119",
     "status": "completed"
    },
    "tags": []
   },
   "outputs": [],
   "source": [
    "# tables = {name: table for name, table in train_dataset.get_depth_tables(1)}"
   ]
  },
  {
   "cell_type": "code",
   "execution_count": 14,
   "id": "2ded5427",
   "metadata": {
    "execution": {
     "iopub.execute_input": "2024-03-11T19:39:41.111522Z",
     "iopub.status.busy": "2024-03-11T19:39:41.111116Z",
     "iopub.status.idle": "2024-03-11T19:39:41.115611Z",
     "shell.execute_reply": "2024-03-11T19:39:41.114426Z"
    },
    "papermill": {
     "duration": 0.031709,
     "end_time": "2024-03-11T19:39:41.118146",
     "exception": false,
     "start_time": "2024-03-11T19:39:41.086437",
     "status": "completed"
    },
    "tags": []
   },
   "outputs": [],
   "source": [
    "# applprev_1 = tables[\"applprev_1\"]"
   ]
  },
  {
   "cell_type": "code",
   "execution_count": 15,
   "id": "4ff6b9a4",
   "metadata": {
    "execution": {
     "iopub.execute_input": "2024-03-11T19:39:41.166454Z",
     "iopub.status.busy": "2024-03-11T19:39:41.166014Z",
     "iopub.status.idle": "2024-03-11T19:39:41.170990Z",
     "shell.execute_reply": "2024-03-11T19:39:41.169829Z"
    },
    "papermill": {
     "duration": 0.031915,
     "end_time": "2024-03-11T19:39:41.173374",
     "exception": false,
     "start_time": "2024-03-11T19:39:41.141459",
     "status": "completed"
    },
    "tags": []
   },
   "outputs": [],
   "source": [
    "# joined = applprev_1[\"case_id\"].value_counts().join(train_dataset.get_base()[[\"case_id\", \"target\"]], on=\"case_id\").sort(\"count\")\n",
    "# joined.filter(pl.col(\"target\") == 1)"
   ]
  },
  {
   "cell_type": "code",
   "execution_count": 16,
   "id": "a33ea2db",
   "metadata": {
    "execution": {
     "iopub.execute_input": "2024-03-11T19:39:41.222015Z",
     "iopub.status.busy": "2024-03-11T19:39:41.221147Z",
     "iopub.status.idle": "2024-03-11T19:39:41.226224Z",
     "shell.execute_reply": "2024-03-11T19:39:41.225270Z"
    },
    "papermill": {
     "duration": 0.032188,
     "end_time": "2024-03-11T19:39:41.228728",
     "exception": false,
     "start_time": "2024-03-11T19:39:41.196540",
     "status": "completed"
    },
    "tags": []
   },
   "outputs": [],
   "source": [
    "# base = train_dataset.get_base()"
   ]
  },
  {
   "cell_type": "code",
   "execution_count": 17,
   "id": "0684d59f",
   "metadata": {
    "execution": {
     "iopub.execute_input": "2024-03-11T19:39:41.279917Z",
     "iopub.status.busy": "2024-03-11T19:39:41.278668Z",
     "iopub.status.idle": "2024-03-11T19:39:41.283827Z",
     "shell.execute_reply": "2024-03-11T19:39:41.282732Z"
    },
    "papermill": {
     "duration": 0.03439,
     "end_time": "2024-03-11T19:39:41.286474",
     "exception": false,
     "start_time": "2024-03-11T19:39:41.252084",
     "status": "completed"
    },
    "tags": []
   },
   "outputs": [],
   "source": [
    "# base.filter(pl.col(\"case_id\") == 2702490)"
   ]
  },
  {
   "cell_type": "code",
   "execution_count": 18,
   "id": "5857f06a",
   "metadata": {
    "execution": {
     "iopub.execute_input": "2024-03-11T19:39:41.336028Z",
     "iopub.status.busy": "2024-03-11T19:39:41.335570Z",
     "iopub.status.idle": "2024-03-11T19:39:41.341031Z",
     "shell.execute_reply": "2024-03-11T19:39:41.339879Z"
    },
    "papermill": {
     "duration": 0.032622,
     "end_time": "2024-03-11T19:39:41.343455",
     "exception": false,
     "start_time": "2024-03-11T19:39:41.310833",
     "status": "completed"
    },
    "tags": []
   },
   "outputs": [],
   "source": [
    "# applprev_1.filter(applprev_1[\"case_id\"] == 2702490).sort(\"num_group1\")\n",
    "#base.filter(pl.col(\"case_id\") == 176526)"
   ]
  },
  {
   "cell_type": "code",
   "execution_count": 19,
   "id": "ad9e0bc4",
   "metadata": {
    "execution": {
     "iopub.execute_input": "2024-03-11T19:39:41.393342Z",
     "iopub.status.busy": "2024-03-11T19:39:41.392854Z",
     "iopub.status.idle": "2024-03-11T19:39:41.397705Z",
     "shell.execute_reply": "2024-03-11T19:39:41.396514Z"
    },
    "papermill": {
     "duration": 0.03328,
     "end_time": "2024-03-11T19:39:41.400518",
     "exception": false,
     "start_time": "2024-03-11T19:39:41.367238",
     "status": "completed"
    },
    "tags": []
   },
   "outputs": [],
   "source": [
    "# applprev_1.filter(applprev_1[\"case_id\"] == 2702490).sort(\"num_group1\")[[\"credamount_590A\", \"mainoccupationinc_437A\", \"rejectreason_755M\", \"rejectreasonclient_4145042M\"]]\n"
   ]
  },
  {
   "cell_type": "code",
   "execution_count": 20,
   "id": "c4490222",
   "metadata": {
    "execution": {
     "iopub.execute_input": "2024-03-11T19:39:41.450132Z",
     "iopub.status.busy": "2024-03-11T19:39:41.449191Z",
     "iopub.status.idle": "2024-03-11T19:39:41.453787Z",
     "shell.execute_reply": "2024-03-11T19:39:41.452997Z"
    },
    "papermill": {
     "duration": 0.031608,
     "end_time": "2024-03-11T19:39:41.456013",
     "exception": false,
     "start_time": "2024-03-11T19:39:41.424405",
     "status": "completed"
    },
    "tags": []
   },
   "outputs": [],
   "source": [
    "# applprev_1.filter(applprev_1[\"case_id\"] == 176526).sort(\"num_group1\")[[\"credamount_590A\", \"mainoccupationinc_437A\", \"rejectreason_755M\", \"rejectreasonclient_4145042M\"]]a"
   ]
  },
  {
   "cell_type": "code",
   "execution_count": 21,
   "id": "08ef825a",
   "metadata": {
    "execution": {
     "iopub.execute_input": "2024-03-11T19:39:41.505444Z",
     "iopub.status.busy": "2024-03-11T19:39:41.504995Z",
     "iopub.status.idle": "2024-03-11T19:39:41.509910Z",
     "shell.execute_reply": "2024-03-11T19:39:41.508896Z"
    },
    "papermill": {
     "duration": 0.032784,
     "end_time": "2024-03-11T19:39:41.512323",
     "exception": false,
     "start_time": "2024-03-11T19:39:41.479539",
     "status": "completed"
    },
    "tags": []
   },
   "outputs": [],
   "source": [
    "# applprev_1.filter(applprev_1[\"case_id\"] == 176526).sort(\"num_group1\")"
   ]
  },
  {
   "cell_type": "code",
   "execution_count": 22,
   "id": "02b44d10",
   "metadata": {
    "execution": {
     "iopub.execute_input": "2024-03-11T19:39:41.562474Z",
     "iopub.status.busy": "2024-03-11T19:39:41.561741Z",
     "iopub.status.idle": "2024-03-11T19:39:41.566460Z",
     "shell.execute_reply": "2024-03-11T19:39:41.565341Z"
    },
    "papermill": {
     "duration": 0.032718,
     "end_time": "2024-03-11T19:39:41.569138",
     "exception": false,
     "start_time": "2024-03-11T19:39:41.536420",
     "status": "completed"
    },
    "tags": []
   },
   "outputs": [],
   "source": [
    "# FreatureDescriptionGetter().get(\"rejectreasonclient_4145042M\")"
   ]
  },
  {
   "cell_type": "code",
   "execution_count": 23,
   "id": "9cb1e169",
   "metadata": {
    "execution": {
     "iopub.execute_input": "2024-03-11T19:39:41.619677Z",
     "iopub.status.busy": "2024-03-11T19:39:41.618984Z",
     "iopub.status.idle": "2024-03-11T19:39:41.624111Z",
     "shell.execute_reply": "2024-03-11T19:39:41.623006Z"
    },
    "papermill": {
     "duration": 0.033231,
     "end_time": "2024-03-11T19:39:41.626715",
     "exception": false,
     "start_time": "2024-03-11T19:39:41.593484",
     "status": "completed"
    },
    "tags": []
   },
   "outputs": [],
   "source": [
    "# def bucket_mean_split(x, y, buckets=100):\n",
    "#     x_buckets = []\n",
    "#     y_buckets = []\n",
    "\n",
    "#     x = np.array(x)\n",
    "#     y = np.array(y)\n",
    "#     x_quantiles = [np.quantile(x, i / buckets) for i in range(0, buckets + 1)]\n",
    "#     for i in range(0, buckets):\n",
    "#         filter = (x >= x_quantiles[i]) & (x <= x_quantiles[i + 1])\n",
    "#         x_buckets.append(np.mean(x[filter]))\n",
    "#         y_buckets.append(np.mean(y[filter]))\n",
    "#     return x_buckets, y_buckets"
   ]
  },
  {
   "cell_type": "code",
   "execution_count": 24,
   "id": "f121c0cc",
   "metadata": {
    "execution": {
     "iopub.execute_input": "2024-03-11T19:39:41.675847Z",
     "iopub.status.busy": "2024-03-11T19:39:41.675383Z",
     "iopub.status.idle": "2024-03-11T19:39:41.680379Z",
     "shell.execute_reply": "2024-03-11T19:39:41.679225Z"
    },
    "papermill": {
     "duration": 0.03238,
     "end_time": "2024-03-11T19:39:41.682818",
     "exception": false,
     "start_time": "2024-03-11T19:39:41.650438",
     "status": "completed"
    },
    "tags": []
   },
   "outputs": [],
   "source": [
    "# train[\"target\"].mean()"
   ]
  },
  {
   "cell_type": "code",
   "execution_count": 25,
   "id": "08d8cb5a",
   "metadata": {
    "execution": {
     "iopub.execute_input": "2024-03-11T19:39:41.731693Z",
     "iopub.status.busy": "2024-03-11T19:39:41.731268Z",
     "iopub.status.idle": "2024-03-11T19:39:41.736167Z",
     "shell.execute_reply": "2024-03-11T19:39:41.734925Z"
    },
    "papermill": {
     "duration": 0.032245,
     "end_time": "2024-03-11T19:39:41.738516",
     "exception": false,
     "start_time": "2024-03-11T19:39:41.706271",
     "status": "completed"
    },
    "tags": []
   },
   "outputs": [],
   "source": [
    "# print(\"Mean target={} where actualdpdtolerance_344P != 0\".format(train[\"target\"].filter(train[\"actualdpdtolerance_344P\"] != 0).mean()))\n",
    "# print(\"Mean target={} where actualdpdtolerance_344P == 0\".format(train[\"target\"].filter(train[\"actualdpdtolerance_344P\"] == 0).mean()))\n",
    "# print(\"Mean target={} where actualdpdtolerance_344P is null\".format(train[\"target\"].filter(train[\"actualdpdtolerance_344P\"].is_null()).mean()))"
   ]
  },
  {
   "cell_type": "code",
   "execution_count": 26,
   "id": "fd8c8bfd",
   "metadata": {
    "execution": {
     "iopub.execute_input": "2024-03-11T19:39:41.788598Z",
     "iopub.status.busy": "2024-03-11T19:39:41.788200Z",
     "iopub.status.idle": "2024-03-11T19:39:41.793416Z",
     "shell.execute_reply": "2024-03-11T19:39:41.792217Z"
    },
    "papermill": {
     "duration": 0.03396,
     "end_time": "2024-03-11T19:39:41.795725",
     "exception": false,
     "start_time": "2024-03-11T19:39:41.761765",
     "status": "completed"
    },
    "tags": []
   },
   "outputs": [],
   "source": [
    "# columns = [column for column in train.columns if (train[column].dtype == pl.Float64)]\n",
    "\n",
    "# figure, axis = plt.subplots(len(columns) // 5 + 1, 5, figsize=(15, 30))\n",
    "# for index, column in enumerate(columns):\n",
    "#     current_plot = axis[index // 5, index % 5]\n",
    "#     x = train[column]\n",
    "#     y = train[\"target\"]\n",
    "#     if (x.dtype == pl.String or x.dtype == pl.Boolean):\n",
    "#         continue\n",
    "#     filter = x.is_not_null()\n",
    "#     x = x.filter(filter)\n",
    "#     y = y.filter(filter)\n",
    "#     if (x.is_empty()):\n",
    "#         continue\n",
    "#     x_bucket, y_bucket = bucket_mean_split(x.to_numpy(), y.to_numpy(), buckets=100)\n",
    "#     current_plot.plot(x_bucket, y_bucket)\n",
    "#     current_plot.set_title(column)\n",
    "# plt.show()"
   ]
  },
  {
   "cell_type": "code",
   "execution_count": 27,
   "id": "94270d51",
   "metadata": {
    "execution": {
     "iopub.execute_input": "2024-03-11T19:39:41.843914Z",
     "iopub.status.busy": "2024-03-11T19:39:41.843453Z",
     "iopub.status.idle": "2024-03-11T19:39:41.847687Z",
     "shell.execute_reply": "2024-03-11T19:39:41.846812Z"
    },
    "papermill": {
     "duration": 0.031109,
     "end_time": "2024-03-11T19:39:41.849974",
     "exception": false,
     "start_time": "2024-03-11T19:39:41.818865",
     "status": "completed"
    },
    "tags": []
   },
   "outputs": [],
   "source": [
    "# features = train_df.columns\n",
    "# features.remove(\"WEEK_NUM\")\n",
    "# features.remove(\"case_id\")\n",
    "# features.remove(\"target\")"
   ]
  },
  {
   "cell_type": "code",
   "execution_count": 28,
   "id": "825a8832",
   "metadata": {
    "execution": {
     "iopub.execute_input": "2024-03-11T19:39:41.899720Z",
     "iopub.status.busy": "2024-03-11T19:39:41.899280Z",
     "iopub.status.idle": "2024-03-11T19:39:41.904342Z",
     "shell.execute_reply": "2024-03-11T19:39:41.903173Z"
    },
    "papermill": {
     "duration": 0.032387,
     "end_time": "2024-03-11T19:39:41.906621",
     "exception": false,
     "start_time": "2024-03-11T19:39:41.874234",
     "status": "completed"
    },
    "tags": []
   },
   "outputs": [],
   "source": [
    "# gc.collect()"
   ]
  },
  {
   "cell_type": "markdown",
   "id": "a881d6c5",
   "metadata": {
    "papermill": {
     "duration": 0.022795,
     "end_time": "2024-03-11T19:39:41.952617",
     "exception": false,
     "start_time": "2024-03-11T19:39:41.929822",
     "status": "completed"
    },
    "tags": []
   },
   "source": [
    "### Feature Importance"
   ]
  },
  {
   "cell_type": "code",
   "execution_count": 29,
   "id": "0186fa38",
   "metadata": {
    "execution": {
     "iopub.execute_input": "2024-03-11T19:39:42.000581Z",
     "iopub.status.busy": "2024-03-11T19:39:42.000144Z",
     "iopub.status.idle": "2024-03-11T19:39:42.006216Z",
     "shell.execute_reply": "2024-03-11T19:39:42.005062Z"
    },
    "papermill": {
     "duration": 0.032941,
     "end_time": "2024-03-11T19:39:42.008659",
     "exception": false,
     "start_time": "2024-03-11T19:39:41.975718",
     "status": "completed"
    },
    "tags": []
   },
   "outputs": [],
   "source": [
    "# def train_rf(X, Y):    \n",
    "#     params = {\n",
    "#         \"boosting_type\": \"gbdt\",\n",
    "#         \"objective\": \"binary\",\n",
    "#         \"metric\": \"auc\",\n",
    "#         \"max_depth\": 8,\n",
    "#         \"max_bin\": 255,\n",
    "#         \"learning_rate\": 0.05,\n",
    "#         \"n_estimators\": 200,\n",
    "#         \"colsample_bytree\": 0.8, \n",
    "#         \"colsample_bynode\": 0.8,\n",
    "#         \"verbose\": -1,\n",
    "#         \"random_state\": 42,\n",
    "#         \"device\": \"gpu\",\n",
    "#     }\n",
    "    \n",
    "#     model = lgb.LGBMClassifier(**params)\n",
    "    \n",
    "#     model.fit(X.to_pandas(), Y.to_pandas())\n",
    "    \n",
    "#     # Get feature importances\n",
    "#     return pl.DataFrame({\n",
    "#         \"feature\": list(X.columns),\n",
    "#         \"feature_importance\": model.feature_importances_,\n",
    "#         \"train_score\": roc_auc_score(Y.to_pandas(), model.predict(X.to_pandas()))\n",
    "#     })"
   ]
  },
  {
   "cell_type": "code",
   "execution_count": 30,
   "id": "e35eaf4a",
   "metadata": {
    "execution": {
     "iopub.execute_input": "2024-03-11T19:39:42.057218Z",
     "iopub.status.busy": "2024-03-11T19:39:42.056754Z",
     "iopub.status.idle": "2024-03-11T19:39:42.062270Z",
     "shell.execute_reply": "2024-03-11T19:39:42.061078Z"
    },
    "papermill": {
     "duration": 0.032335,
     "end_time": "2024-03-11T19:39:42.064541",
     "exception": false,
     "start_time": "2024-03-11T19:39:42.032206",
     "status": "completed"
    },
    "tags": []
   },
   "outputs": [],
   "source": [
    "# def get_feature_importance(X, Y):\n",
    "#     COUNT_ITER = 50\n",
    "    \n",
    "#     dfs = []\n",
    "#     for i in range(COUNT_ITER):\n",
    "#         gc.collect()\n",
    "        \n",
    "#         start_time = time.time()\n",
    "#         shuffled_Y = Y.clone().sample(fraction=1.0, shuffle=True)\n",
    "#         current_df = train_rf(X, shuffled_Y)\n",
    "#         finish_time = time.time()\n",
    "#         print(f\"Finish iteration: {i + 1}/{COUNT_ITER}, time: {finish_time - start_time}\")\n",
    "#         current_df = current_df.with_columns(pl.lit(i).alias(\"iteration\"))\n",
    "#         dfs.append(current_df)\n",
    "        \n",
    "#     return pl.concat(dfs, rechunk=True), train_rf(X, Y)"
   ]
  },
  {
   "cell_type": "code",
   "execution_count": 31,
   "id": "0248bf41",
   "metadata": {
    "execution": {
     "iopub.execute_input": "2024-03-11T19:39:42.113011Z",
     "iopub.status.busy": "2024-03-11T19:39:42.112553Z",
     "iopub.status.idle": "2024-03-11T19:39:42.117667Z",
     "shell.execute_reply": "2024-03-11T19:39:42.116527Z"
    },
    "papermill": {
     "duration": 0.032251,
     "end_time": "2024-03-11T19:39:42.120215",
     "exception": false,
     "start_time": "2024-03-11T19:39:42.087964",
     "status": "completed"
    },
    "tags": []
   },
   "outputs": [],
   "source": [
    "# shuffled_feature_importance_df, feature_importance_df = get_feature_importance(train_df[features], train_df[\"target\"])\n",
    "# shuffled_feature_importance_df.write_csv(\"shuffled_feature_importance_df.csv\", separator=\",\")\n",
    "# feature_importance_df.write_csv(\"feature_importance_df.csv\", separator=\",\")"
   ]
  },
  {
   "cell_type": "code",
   "execution_count": 32,
   "id": "c7c042e5",
   "metadata": {
    "execution": {
     "iopub.execute_input": "2024-03-11T19:39:42.169527Z",
     "iopub.status.busy": "2024-03-11T19:39:42.168730Z",
     "iopub.status.idle": "2024-03-11T19:39:42.174316Z",
     "shell.execute_reply": "2024-03-11T19:39:42.173039Z"
    },
    "papermill": {
     "duration": 0.033512,
     "end_time": "2024-03-11T19:39:42.176976",
     "exception": false,
     "start_time": "2024-03-11T19:39:42.143464",
     "status": "completed"
    },
    "tags": []
   },
   "outputs": [],
   "source": [
    "# important_features = []\n",
    "# for column in feature_importance_df[\"feature\"]:\n",
    "#     shuffled_feature_importance = shuffled_feature_importance_df.filter(shuffled_feature_importance_df[\"feature\"] == column)[\"feature_importance\"].to_numpy()\n",
    "#     feature_importance = feature_importance_df.filter(feature_importance_df[\"feature\"] == column)[\"feature_importance\"][0]\n",
    "    \n",
    "#     if (np.percentile(shuffled_feature_importance, 90) <= feature_importance):\n",
    "#         important_features.append(column)\n",
    "# print(len(important_features), important_features)"
   ]
  },
  {
   "cell_type": "markdown",
   "id": "358bfc39",
   "metadata": {
    "papermill": {
     "duration": 0.023245,
     "end_time": "2024-03-11T19:39:42.223618",
     "exception": false,
     "start_time": "2024-03-11T19:39:42.200373",
     "status": "completed"
    },
    "tags": []
   },
   "source": [
    "# Training"
   ]
  },
  {
   "cell_type": "code",
   "execution_count": 33,
   "id": "dc0160c4",
   "metadata": {
    "execution": {
     "iopub.execute_input": "2024-03-11T19:39:42.271442Z",
     "iopub.status.busy": "2024-03-11T19:39:42.271040Z",
     "iopub.status.idle": "2024-03-11T19:39:42.276928Z",
     "shell.execute_reply": "2024-03-11T19:39:42.275633Z"
    },
    "papermill": {
     "duration": 0.033293,
     "end_time": "2024-03-11T19:39:42.279931",
     "exception": false,
     "start_time": "2024-03-11T19:39:42.246638",
     "status": "completed"
    },
    "tags": []
   },
   "outputs": [],
   "source": [
    "# class VotingModel(BaseEstimator, RegressorMixin):\n",
    "#     def __init__(self, estimators):\n",
    "#         super().__init__()\n",
    "#         self.estimators = estimators\n",
    "        \n",
    "#     def fit(self, X, y=None):\n",
    "#         return self\n",
    "    \n",
    "#     def predict(self, X):\n",
    "#         y_preds = [estimator.predict(X) for estimator in self.estimators]\n",
    "#         return np.mean(y_preds, axis=0)\n",
    "    \n",
    "#     def predict_proba(self, X):\n",
    "#         y_preds = [estimator.predict_proba(X) for estimator in self.estimators]\n",
    "#         return np.mean(y_preds, axis=0)\n",
    "    \n",
    "#     def get_feature_importance(self):\n",
    "#         feature_importances = np.array([0 for feature in features])\n",
    "\n",
    "#         for model in self.estimators:\n",
    "#             feature_importances += model.feature_importances_\n",
    "\n",
    "#         return feature_importances"
   ]
  },
  {
   "cell_type": "code",
   "execution_count": 34,
   "id": "585bfdfc",
   "metadata": {
    "execution": {
     "iopub.execute_input": "2024-03-11T19:39:42.330545Z",
     "iopub.status.busy": "2024-03-11T19:39:42.329570Z",
     "iopub.status.idle": "2024-03-11T19:39:42.334501Z",
     "shell.execute_reply": "2024-03-11T19:39:42.333583Z"
    },
    "papermill": {
     "duration": 0.033252,
     "end_time": "2024-03-11T19:39:42.336680",
     "exception": false,
     "start_time": "2024-03-11T19:39:42.303428",
     "status": "completed"
    },
    "tags": []
   },
   "outputs": [],
   "source": [
    "# for column in features:\n",
    "#     if (train_dataset[column].dtype != pl.Categorical) and \\\n",
    "#         (train_dataset[column].dtype != pl.Float64) and \\\n",
    "#         (train_dataset[column].dtype != pl.Float64):\n",
    "#         print(column, train_dataset[column].dtype)"
   ]
  },
  {
   "cell_type": "code",
   "execution_count": 35,
   "id": "ee06859a",
   "metadata": {
    "execution": {
     "iopub.execute_input": "2024-03-11T19:39:42.385209Z",
     "iopub.status.busy": "2024-03-11T19:39:42.384763Z",
     "iopub.status.idle": "2024-03-11T19:39:42.389857Z",
     "shell.execute_reply": "2024-03-11T19:39:42.388942Z"
    },
    "papermill": {
     "duration": 0.031878,
     "end_time": "2024-03-11T19:39:42.391951",
     "exception": false,
     "start_time": "2024-03-11T19:39:42.360073",
     "status": "completed"
    },
    "tags": []
   },
   "outputs": [],
   "source": [
    "# def train_lgb_model(X_train, Y_train, X_test, Y_test):\n",
    "#     params = {\n",
    "#         \"boosting_type\": \"gbdt\",\n",
    "#         \"objective\": \"binary\",\n",
    "#         \"metric\": \"auc\",\n",
    "#         \"max_depth\": 8,\n",
    "#         \"max_bin\": 250,\n",
    "#         \"learning_rate\": 0.05,\n",
    "#         \"n_estimators\": 1000,\n",
    "#         \"colsample_bytree\": 0.8, \n",
    "#         \"colsample_bynode\": 0.8,\n",
    "#         \"verbose\": -1,\n",
    "#         \"random_state\": 42,\n",
    "#         \"device\": \"gpu\",\n",
    "#     }\n",
    "    \n",
    "#     model = lgb.LGBMClassifier(**params)\n",
    "    \n",
    "#     model.fit(\n",
    "#         X_train, Y_train,\n",
    "#         eval_set=[(X_test, Y_test)],\n",
    "#         callbacks=[lgb.log_evaluation(100), lgb.early_stopping(100)]\n",
    "#     )\n",
    "        \n",
    "#     return model"
   ]
  },
  {
   "cell_type": "code",
   "execution_count": 36,
   "id": "03aa2ae4",
   "metadata": {
    "execution": {
     "iopub.execute_input": "2024-03-11T19:39:42.440970Z",
     "iopub.status.busy": "2024-03-11T19:39:42.440174Z",
     "iopub.status.idle": "2024-03-11T19:39:42.444585Z",
     "shell.execute_reply": "2024-03-11T19:39:42.443391Z"
    },
    "papermill": {
     "duration": 0.031486,
     "end_time": "2024-03-11T19:39:42.447153",
     "exception": false,
     "start_time": "2024-03-11T19:39:42.415667",
     "status": "completed"
    },
    "tags": []
   },
   "outputs": [],
   "source": [
    "# gc.collect()"
   ]
  },
  {
   "cell_type": "code",
   "execution_count": 37,
   "id": "d429b2b7",
   "metadata": {
    "execution": {
     "iopub.execute_input": "2024-03-11T19:39:42.495337Z",
     "iopub.status.busy": "2024-03-11T19:39:42.494859Z",
     "iopub.status.idle": "2024-03-11T19:39:42.501956Z",
     "shell.execute_reply": "2024-03-11T19:39:42.500414Z"
    },
    "papermill": {
     "duration": 0.034308,
     "end_time": "2024-03-11T19:39:42.504658",
     "exception": false,
     "start_time": "2024-03-11T19:39:42.470350",
     "status": "completed"
    },
    "tags": []
   },
   "outputs": [],
   "source": [
    "# weeks = train_df[\"WEEK_NUM\"]\n",
    "# cv = StratifiedGroupKFold(n_splits=5, shuffle=False)\n",
    "\n",
    "# fitted_models = []\n",
    "\n",
    "# oof_predicted = np.zeros(train_df.shape[0])\n",
    "\n",
    "# for idx_train, idx_test in cv.split(train_df[features], train_df[\"target\"], groups=weeks):        \n",
    "# #     X_train = train_df[features][idx_train].to_pandas()\n",
    "# #     Y_train = train_df[\"target\"][idx_train].to_pandas()\n",
    "    \n",
    "#     X_test = train_df[features][idx_test].to_pandas()\n",
    "#     Y_test = train_df[\"target\"][idx_test].to_pandas()\n",
    "    \n",
    "#     start = time.time()\n",
    "#     params = {\n",
    "#         \"boosting_type\": \"gbdt\",\n",
    "#         \"objective\": \"binary\",\n",
    "#         \"metric\": \"auc\",\n",
    "#         \"max_depth\": 8,\n",
    "#         \"max_bin\": 250,\n",
    "#         \"learning_rate\": 0.05,\n",
    "#         \"n_estimators\": 1000,\n",
    "#         \"colsample_bytree\": 0.8, \n",
    "#         \"colsample_bynode\": 0.8,\n",
    "#         \"verbose\": -1,\n",
    "#         \"random_state\": 42,\n",
    "#         \"device\": \"gpu\",\n",
    "#     }\n",
    "    \n",
    "#     model = lgb.LGBMClassifier(**params)\n",
    "    \n",
    "#     model.fit(\n",
    "#         train_df[features][idx_train].to_pandas(), train_df[\"target\"][idx_train].to_pandas(),\n",
    "#         eval_set=[(X_test, Y_test)],\n",
    "#         callbacks=[lgb.log_evaluation(100), lgb.early_stopping(100)]\n",
    "#     )\n",
    "        \n",
    "\n",
    "# #    model = train_lgb_model(X_train, Y_train, X_test, Y_test)\n",
    "#     finish = time.time()\n",
    "    \n",
    "#     print(\"fit time: {}\".format(finish - start))\n",
    "#     fitted_models.append(model)\n",
    "    \n",
    "#     test_pred = model.predict_proba(X_test)[:, 1]\n",
    "#     oof_predicted[idx_test] = test_pred\n",
    "#     gc.collect()\n",
    "\n",
    "# model = VotingModel(fitted_models)\n",
    "# gc.collect()"
   ]
  },
  {
   "cell_type": "code",
   "execution_count": 38,
   "id": "2cd0a059",
   "metadata": {
    "execution": {
     "iopub.execute_input": "2024-03-11T19:39:42.553265Z",
     "iopub.status.busy": "2024-03-11T19:39:42.552294Z",
     "iopub.status.idle": "2024-03-11T19:39:42.558584Z",
     "shell.execute_reply": "2024-03-11T19:39:42.557382Z"
    },
    "papermill": {
     "duration": 0.033269,
     "end_time": "2024-03-11T19:39:42.561191",
     "exception": false,
     "start_time": "2024-03-11T19:39:42.527922",
     "status": "completed"
    },
    "tags": []
   },
   "outputs": [],
   "source": [
    "# roc_auc_oof = roc_auc_score(train_df[\"target\"], oof_predicted)\n",
    "# print(\"CV roc_auc_oof: \", roc_auc_oof)"
   ]
  },
  {
   "cell_type": "markdown",
   "id": "088e9fc7",
   "metadata": {
    "papermill": {
     "duration": 0.022933,
     "end_time": "2024-03-11T19:39:42.607636",
     "exception": false,
     "start_time": "2024-03-11T19:39:42.584703",
     "status": "completed"
    },
    "tags": []
   },
   "source": [
    "# Predict"
   ]
  },
  {
   "cell_type": "code",
   "execution_count": 39,
   "id": "66eed570",
   "metadata": {
    "execution": {
     "iopub.execute_input": "2024-03-11T19:39:42.656735Z",
     "iopub.status.busy": "2024-03-11T19:39:42.656083Z",
     "iopub.status.idle": "2024-03-11T19:39:42.661065Z",
     "shell.execute_reply": "2024-03-11T19:39:42.659822Z"
    },
    "papermill": {
     "duration": 0.032187,
     "end_time": "2024-03-11T19:39:42.663600",
     "exception": false,
     "start_time": "2024-03-11T19:39:42.631413",
     "status": "completed"
    },
    "tags": []
   },
   "outputs": [],
   "source": [
    "# del train_df\n",
    "# gc.collect()"
   ]
  },
  {
   "cell_type": "code",
   "execution_count": 40,
   "id": "7ab2b93f",
   "metadata": {
    "execution": {
     "iopub.execute_input": "2024-03-11T19:39:42.713227Z",
     "iopub.status.busy": "2024-03-11T19:39:42.712220Z",
     "iopub.status.idle": "2024-03-11T19:39:42.717233Z",
     "shell.execute_reply": "2024-03-11T19:39:42.716137Z"
    },
    "papermill": {
     "duration": 0.032657,
     "end_time": "2024-03-11T19:39:42.719660",
     "exception": false,
     "start_time": "2024-03-11T19:39:42.687003",
     "status": "completed"
    },
    "tags": []
   },
   "outputs": [],
   "source": [
    "# test_dataset = data_loader.load_test_dataset()\n",
    "# print(\"Test dataset week range: {}-{}\".format(test_dataset.base[\"WEEK_NUM\"].min(), test_dataset.base[\"WEEK_NUM\"].max()))\n",
    "# gc.collect()\n",
    "# test_df = preprocessor.process_test_dataset(test_dataset)\n",
    "# del test_dataset\n",
    "# gc.collect()"
   ]
  },
  {
   "cell_type": "code",
   "execution_count": 41,
   "id": "c6c6da98",
   "metadata": {
    "execution": {
     "iopub.execute_input": "2024-03-11T19:39:42.768414Z",
     "iopub.status.busy": "2024-03-11T19:39:42.767974Z",
     "iopub.status.idle": "2024-03-11T19:39:42.773492Z",
     "shell.execute_reply": "2024-03-11T19:39:42.772329Z"
    },
    "papermill": {
     "duration": 0.032595,
     "end_time": "2024-03-11T19:39:42.775740",
     "exception": false,
     "start_time": "2024-03-11T19:39:42.743145",
     "status": "completed"
    },
    "tags": []
   },
   "outputs": [],
   "source": [
    "# print([name for value, name in reversed(sorted(zip(model.get_feature_importance(), features)))][0:200])"
   ]
  },
  {
   "cell_type": "code",
   "execution_count": null,
   "id": "03bf5b6a",
   "metadata": {
    "papermill": {
     "duration": 0.023164,
     "end_time": "2024-03-11T19:39:42.823031",
     "exception": false,
     "start_time": "2024-03-11T19:39:42.799867",
     "status": "completed"
    },
    "tags": []
   },
   "outputs": [],
   "source": []
  },
  {
   "cell_type": "code",
   "execution_count": 42,
   "id": "577c3932",
   "metadata": {
    "execution": {
     "iopub.execute_input": "2024-03-11T19:39:42.872277Z",
     "iopub.status.busy": "2024-03-11T19:39:42.871860Z",
     "iopub.status.idle": "2024-03-11T19:39:42.876644Z",
     "shell.execute_reply": "2024-03-11T19:39:42.875526Z"
    },
    "papermill": {
     "duration": 0.032363,
     "end_time": "2024-03-11T19:39:42.879191",
     "exception": false,
     "start_time": "2024-03-11T19:39:42.846828",
     "status": "completed"
    },
    "tags": []
   },
   "outputs": [],
   "source": [
    "# CV roc_auc_oof:  0.8353789451006361 without feature selection ~500 features\n",
    "# CV roc_auc_oof:  0.8329322959533371 with feature selection ~200 features"
   ]
  },
  {
   "cell_type": "code",
   "execution_count": null,
   "id": "fb7fed7a",
   "metadata": {
    "papermill": {
     "duration": 0.022837,
     "end_time": "2024-03-11T19:39:42.925983",
     "exception": false,
     "start_time": "2024-03-11T19:39:42.903146",
     "status": "completed"
    },
    "tags": []
   },
   "outputs": [],
   "source": []
  },
  {
   "cell_type": "code",
   "execution_count": 43,
   "id": "48a5a3f9",
   "metadata": {
    "execution": {
     "iopub.execute_input": "2024-03-11T19:39:42.974781Z",
     "iopub.status.busy": "2024-03-11T19:39:42.974337Z",
     "iopub.status.idle": "2024-03-11T19:39:42.979818Z",
     "shell.execute_reply": "2024-03-11T19:39:42.978365Z"
    },
    "papermill": {
     "duration": 0.032795,
     "end_time": "2024-03-11T19:39:42.982319",
     "exception": false,
     "start_time": "2024-03-11T19:39:42.949524",
     "status": "completed"
    },
    "tags": []
   },
   "outputs": [],
   "source": [
    "# def gini_stability(dataset, w_fallingrate=88.0, w_resstd=-0.5):\n",
    "#     gini_in_time = dataset\\\n",
    "#         .sort_values(\"WEEK_NUM\")\\\n",
    "#         .groupby(\"WEEK_NUM\")[[\"true\", \"predicted\"]]\\\n",
    "#         .apply(lambda x: 2 * roc_auc_score(x[\"true\"], x[\"predicted\"]) - 1).tolist()\n",
    "    \n",
    "#     x = np.arange(len(gini_in_time))\n",
    "#     y = gini_in_time\n",
    "#     a, b = np.polyfit(x, y, 1)\n",
    "#     y_hat = a * x + b\n",
    "#     residuals = y - y_hat\n",
    "#     res_std = np.std(residuals)\n",
    "#     avg_gini = np.mean(gini_in_time)\n",
    "    \n",
    "#     print(avg_gini, min(0, a), res_std)\n",
    "    \n",
    "#     return avg_gini + w_fallingrate * min(0, a) + w_resstd * res_std"
   ]
  },
  {
   "cell_type": "code",
   "execution_count": 44,
   "id": "575e546f",
   "metadata": {
    "execution": {
     "iopub.execute_input": "2024-03-11T19:39:43.031295Z",
     "iopub.status.busy": "2024-03-11T19:39:43.030824Z",
     "iopub.status.idle": "2024-03-11T19:39:43.036036Z",
     "shell.execute_reply": "2024-03-11T19:39:43.034772Z"
    },
    "papermill": {
     "duration": 0.03274,
     "end_time": "2024-03-11T19:39:43.038460",
     "exception": false,
     "start_time": "2024-03-11T19:39:43.005720",
     "status": "completed"
    },
    "tags": []
   },
   "outputs": [],
   "source": [
    "# # Y_train_predicted = model.predict_proba(train_df[features].to_pandas())\n",
    "# Y_test_predicted = model.predict_proba(test_df[features].to_pandas())"
   ]
  },
  {
   "cell_type": "code",
   "execution_count": 45,
   "id": "f0287295",
   "metadata": {
    "execution": {
     "iopub.execute_input": "2024-03-11T19:39:43.087308Z",
     "iopub.status.busy": "2024-03-11T19:39:43.086882Z",
     "iopub.status.idle": "2024-03-11T19:39:43.092133Z",
     "shell.execute_reply": "2024-03-11T19:39:43.091072Z"
    },
    "papermill": {
     "duration": 0.03229,
     "end_time": "2024-03-11T19:39:43.094531",
     "exception": false,
     "start_time": "2024-03-11T19:39:43.062241",
     "status": "completed"
    },
    "tags": []
   },
   "outputs": [],
   "source": [
    "# result = pd.DataFrame({\n",
    "#     \"WEEK_NUM\": train_df[\"WEEK_NUM\"],\n",
    "#     \"true\": train_df[\"target\"],\n",
    "#     \"predicted\": Y_train_predicted[:, 1],\n",
    "# })\n",
    "\n",
    "# train_result = gini_stability(result)\n",
    "# print(\"train_score: {}\".format(train_result))\n",
    "\n",
    "# if MODE == Mode.Train:\n",
    "#     result = pd.DataFrame({\n",
    "#         \"WEEK_NUM\": test_df[\"WEEK_NUM\"],\n",
    "#         \"true\": test_df[\"target\"],\n",
    "#         \"predicted\": Y_test_predicted[:, 1],\n",
    "#     })\n",
    "\n",
    "#     test_result = gini_stability(result)\n",
    "#     print(\"test_score: {}\".format(test_result))"
   ]
  },
  {
   "cell_type": "code",
   "execution_count": 46,
   "id": "c0e126a0",
   "metadata": {
    "execution": {
     "iopub.execute_input": "2024-03-11T19:39:43.144718Z",
     "iopub.status.busy": "2024-03-11T19:39:43.144262Z",
     "iopub.status.idle": "2024-03-11T19:39:43.149073Z",
     "shell.execute_reply": "2024-03-11T19:39:43.147961Z"
    },
    "papermill": {
     "duration": 0.032183,
     "end_time": "2024-03-11T19:39:43.151482",
     "exception": false,
     "start_time": "2024-03-11T19:39:43.119299",
     "status": "completed"
    },
    "tags": []
   },
   "outputs": [],
   "source": [
    "# Version 1, test_score: 0.583319926590042, public score 0.48\n",
    "# 100 iters\n",
    "\n",
    "# Version 2, test_score: 0.6062624701357268, public score 0.517\n",
    "# 300 iters\n",
    "\n",
    "# Version 3, test_score: ?, public score 0.545\n",
    "# 2000 iters\n",
    "\n",
    "# Version 4, test_score: ?, public score ?\n",
    "# ? iters, Improve aggregate functions for depth_1, depth_2\n"
   ]
  },
  {
   "cell_type": "markdown",
   "id": "42074c7f",
   "metadata": {
    "papermill": {
     "duration": 0.022907,
     "end_time": "2024-03-11T19:39:43.197925",
     "exception": false,
     "start_time": "2024-03-11T19:39:43.175018",
     "status": "completed"
    },
    "tags": []
   },
   "source": [
    "# Submition"
   ]
  },
  {
   "cell_type": "code",
   "execution_count": 47,
   "id": "52c446db",
   "metadata": {
    "execution": {
     "iopub.execute_input": "2024-03-11T19:39:43.246033Z",
     "iopub.status.busy": "2024-03-11T19:39:43.245570Z",
     "iopub.status.idle": "2024-03-11T19:39:43.250746Z",
     "shell.execute_reply": "2024-03-11T19:39:43.249527Z"
    },
    "papermill": {
     "duration": 0.032214,
     "end_time": "2024-03-11T19:39:43.253297",
     "exception": false,
     "start_time": "2024-03-11T19:39:43.221083",
     "status": "completed"
    },
    "tags": []
   },
   "outputs": [],
   "source": [
    "# case_id = test_df[\"case_id\"]\n",
    "# X = test_df[features].to_pandas()\n",
    "\n",
    "# Y = model.predict_proba(X)\n",
    "\n",
    "# submission = pd.DataFrame({\n",
    "#     \"case_id\": case_id.to_numpy(),\n",
    "#     \"score\": Y[:, 1]\n",
    "# }).set_index('case_id')\n",
    "# submission.to_csv(\"./submission.csv\")"
   ]
  },
  {
   "cell_type": "code",
   "execution_count": null,
   "id": "90b3fca6",
   "metadata": {
    "papermill": {
     "duration": 0.02282,
     "end_time": "2024-03-11T19:39:43.299253",
     "exception": false,
     "start_time": "2024-03-11T19:39:43.276433",
     "status": "completed"
    },
    "tags": []
   },
   "outputs": [],
   "source": []
  },
  {
   "cell_type": "code",
   "execution_count": null,
   "id": "4bbc3f4c",
   "metadata": {
    "papermill": {
     "duration": 0.023706,
     "end_time": "2024-03-11T19:39:43.347155",
     "exception": false,
     "start_time": "2024-03-11T19:39:43.323449",
     "status": "completed"
    },
    "tags": []
   },
   "outputs": [],
   "source": []
  },
  {
   "cell_type": "code",
   "execution_count": null,
   "id": "23706eba",
   "metadata": {
    "papermill": {
     "duration": 0.023441,
     "end_time": "2024-03-11T19:39:43.393871",
     "exception": false,
     "start_time": "2024-03-11T19:39:43.370430",
     "status": "completed"
    },
    "tags": []
   },
   "outputs": [],
   "source": []
  }
 ],
 "metadata": {
  "kaggle": {
   "accelerator": "none",
   "dataSources": [
    {
     "databundleVersionId": 7921029,
     "sourceId": 50160,
     "sourceType": "competition"
    },
    {
     "datasetId": 4496896,
     "sourceId": 7807739,
     "sourceType": "datasetVersion"
    }
   ],
   "dockerImageVersionId": 30635,
   "isGpuEnabled": false,
   "isInternetEnabled": false,
   "language": "python",
   "sourceType": "notebook"
  },
  "kernelspec": {
   "display_name": "Python 3",
   "language": "python",
   "name": "python3"
  },
  "language_info": {
   "codemirror_mode": {
    "name": "ipython",
    "version": 3
   },
   "file_extension": ".py",
   "mimetype": "text/x-python",
   "name": "python",
   "nbconvert_exporter": "python",
   "pygments_lexer": "ipython3",
   "version": "3.10.12"
  },
  "papermill": {
   "default_parameters": {},
   "duration": 1000.170308,
   "end_time": "2024-03-11T19:39:44.345028",
   "environment_variables": {},
   "exception": null,
   "input_path": "__notebook__.ipynb",
   "output_path": "__notebook__.ipynb",
   "parameters": {},
   "start_time": "2024-03-11T19:23:04.174720",
   "version": "2.4.0"
  }
 },
 "nbformat": 4,
 "nbformat_minor": 5
}
