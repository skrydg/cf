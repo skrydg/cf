{
 "cells": [
  {
   "cell_type": "markdown",
   "id": "237ee079",
   "metadata": {
    "papermill": {
     "duration": 0.012789,
     "end_time": "2024-03-05T11:12:56.823116",
     "exception": false,
     "start_time": "2024-03-05T11:12:56.810327",
     "status": "completed"
    },
    "tags": []
   },
   "source": [
    "# Install packages"
   ]
  },
  {
   "cell_type": "code",
   "execution_count": 1,
   "id": "cc87d51b",
   "metadata": {
    "execution": {
     "iopub.execute_input": "2024-03-05T11:12:56.849980Z",
     "iopub.status.busy": "2024-03-05T11:12:56.849135Z",
     "iopub.status.idle": "2024-03-05T11:13:29.792988Z",
     "shell.execute_reply": "2024-03-05T11:13:29.791865Z"
    },
    "papermill": {
     "duration": 32.960331,
     "end_time": "2024-03-05T11:13:29.795714",
     "exception": false,
     "start_time": "2024-03-05T11:12:56.835383",
     "status": "completed"
    },
    "tags": []
   },
   "outputs": [
    {
     "name": "stdout",
     "output_type": "stream",
     "text": [
      "Processing /kaggle/input/kaggle-home-credit-risk-model-stability-lib/kaggle_home_credit_risk_model_stability-0.3-py3-none-any.whl\r\n",
      "Installing collected packages: kaggle-home-credit-risk-model-stability\r\n",
      "Successfully installed kaggle-home-credit-risk-model-stability-0.3\r\n"
     ]
    }
   ],
   "source": [
    "!pip install /kaggle/input/kaggle-home-credit-risk-model-stability-lib/kaggle_home_credit_risk_model_stability-0.3-py3-none-any.whl --force-reinstall"
   ]
  },
  {
   "cell_type": "markdown",
   "id": "68abf165",
   "metadata": {
    "papermill": {
     "duration": 0.011998,
     "end_time": "2024-03-05T11:13:29.820201",
     "exception": false,
     "start_time": "2024-03-05T11:13:29.808203",
     "status": "completed"
    },
    "tags": []
   },
   "source": [
    "# Import packages"
   ]
  },
  {
   "cell_type": "code",
   "execution_count": 2,
   "id": "e9098a89",
   "metadata": {
    "execution": {
     "iopub.execute_input": "2024-03-05T11:13:29.848654Z",
     "iopub.status.busy": "2024-03-05T11:13:29.847738Z",
     "iopub.status.idle": "2024-03-05T11:13:34.041304Z",
     "shell.execute_reply": "2024-03-05T11:13:34.040239Z"
    },
    "papermill": {
     "duration": 4.211921,
     "end_time": "2024-03-05T11:13:34.044495",
     "exception": false,
     "start_time": "2024-03-05T11:13:29.832574",
     "status": "completed"
    },
    "tags": []
   },
   "outputs": [],
   "source": [
    "import polars as pl\n",
    "import gc\n",
    "import time\n",
    "import numpy as np\n",
    "import pandas as pd\n",
    "import lightgbm as lgb\n",
    "import seaborn as sns\n",
    "import matplotlib.pyplot as plt\n",
    "import copy\n",
    "import lightgbm as lgb\n",
    "import importlib\n",
    "\n",
    "import kaggle_home_credit_risk_model_stability.libs as hcr\n",
    "from kaggle_home_credit_risk_model_stability.libs.input.dataset import Dataset\n",
    "from kaggle_home_credit_risk_model_stability.libs.input.data_loader import DataLoader\n",
    "from kaggle_home_credit_risk_model_stability.libs.preprocessor.preprocessor import Preprocessor\n",
    "from kaggle_home_credit_risk_model_stability.libs.preprocessor.steps import *\n",
    "from kaggle_home_credit_risk_model_stability.libs.preprocessor.columns_info import ColumnsInfo\n",
    "from kaggle_home_credit_risk_model_stability.libs.feature_description.feature_description import FreatureDescriptionGetter\n",
    "\n",
    "from collections import defaultdict\n",
    "from glob import glob\n",
    "from pathlib import Path\n",
    "from sklearn.model_selection import train_test_split\n",
    "from sklearn.metrics import roc_auc_score\n",
    "from sklearn.model_selection import StratifiedGroupKFold\n",
    "from sklearn.base import BaseEstimator, RegressorMixin\n",
    "from catboost import CatBoostClassifier\n",
    "from enum import Enum"
   ]
  },
  {
   "cell_type": "code",
   "execution_count": null,
   "id": "eb7cdc2e",
   "metadata": {
    "papermill": {
     "duration": 0.012258,
     "end_time": "2024-03-05T11:13:34.076186",
     "exception": false,
     "start_time": "2024-03-05T11:13:34.063928",
     "status": "completed"
    },
    "tags": []
   },
   "outputs": [],
   "source": []
  },
  {
   "cell_type": "code",
   "execution_count": 3,
   "id": "729f9c01",
   "metadata": {
    "execution": {
     "iopub.execute_input": "2024-03-05T11:13:34.103941Z",
     "iopub.status.busy": "2024-03-05T11:13:34.102995Z",
     "iopub.status.idle": "2024-03-05T11:13:34.112199Z",
     "shell.execute_reply": "2024-03-05T11:13:34.111224Z"
    },
    "papermill": {
     "duration": 0.025793,
     "end_time": "2024-03-05T11:13:34.114515",
     "exception": false,
     "start_time": "2024-03-05T11:13:34.088722",
     "status": "completed"
    },
    "tags": []
   },
   "outputs": [],
   "source": [
    "data_loader = DataLoader()\n",
    "preprocessor = Preprocessor({\n",
    "    \"set_column_info_step\": SetColumnsInfoStep(),\n",
    "    \"set_types\": SetTypesStep(),\n",
    "    \"process_categorical\": ProcessCategoricalStep(),\n",
    "    \"process_person_table\": ProcessPersonTableStep(),\n",
    "    \"one_hot_encoding_for_depth1\": OneHotEncodingForDepth1Step(),\n",
    "    \"pairwise_diff_raw_dates\": PairwiseDateDiffStep(),\n",
    "    \"aggregate_depth_table\": AggregateDepthTableStep(),\n",
    "    \"drop_equal_columns\": DropEqualColumnsStep(),\n",
    "    \"drop_variable_enum_features\": DropVariableEnumFeaturesStep(),\n",
    "    \"drop_almost_null_features_respect_to_target\": DropAlmostNullFeaturesWithRespectToTargetStep(),\n",
    "    \"join_table\": JoinTablesStep(),\n",
    "    **{\n",
    "        f\"create_money_feature_fraction_{base_column}\": CreateMoneyFeatureFractionStep(base_column)\n",
    "        for base_column in [\"credamount_770A\", \"maininc_215A\", \"mainoccupationinc_384A\", \"mean_amount_416A\"]\n",
    "    },\n",
    "    \"generate_mismatch_features\": GenerateMismatchFeaturesStep(), \n",
    "    \"fill_nulls\": FillNullStep(),\n",
    "    \"reduce_memory_usage\": ReduceMemoryUsageStep(),\n",
    "#    \"drop_non_important_features\": DropNonImportantFeaturesStep()\n",
    "#    \"drop_dates_columns\": DropDatesColumnsStep()\n",
    "})\n",
    "columns_info = ColumnsInfo()"
   ]
  },
  {
   "cell_type": "code",
   "execution_count": 4,
   "id": "cacbe4d5",
   "metadata": {
    "execution": {
     "iopub.execute_input": "2024-03-05T11:13:34.142284Z",
     "iopub.status.busy": "2024-03-05T11:13:34.141339Z",
     "iopub.status.idle": "2024-03-05T11:13:34.146244Z",
     "shell.execute_reply": "2024-03-05T11:13:34.145305Z"
    },
    "papermill": {
     "duration": 0.021152,
     "end_time": "2024-03-05T11:13:34.148319",
     "exception": false,
     "start_time": "2024-03-05T11:13:34.127167",
     "status": "completed"
    },
    "tags": []
   },
   "outputs": [],
   "source": [
    "# train_dataset = data_loader.load_train_dataset()\n",
    "# case_id_set = train_dataset.get_base().filter(train_dataset.get_base()[\"WEEK_NUM\"] < 10)[\"case_id\"]\n",
    "# train_dataset = train_dataset.filter(lambda table: table.filter(pl.col(\"case_id\").is_in(case_id_set)))"
   ]
  },
  {
   "cell_type": "code",
   "execution_count": null,
   "id": "074be943",
   "metadata": {
    "papermill": {
     "duration": 0.012199,
     "end_time": "2024-03-05T11:13:34.173068",
     "exception": false,
     "start_time": "2024-03-05T11:13:34.160869",
     "status": "completed"
    },
    "tags": []
   },
   "outputs": [],
   "source": []
  },
  {
   "cell_type": "code",
   "execution_count": 5,
   "id": "949fdf8c",
   "metadata": {
    "execution": {
     "iopub.execute_input": "2024-03-05T11:13:34.202453Z",
     "iopub.status.busy": "2024-03-05T11:13:34.201528Z",
     "iopub.status.idle": "2024-03-05T11:24:30.144980Z",
     "shell.execute_reply": "2024-03-05T11:24:30.144159Z"
    },
    "papermill": {
     "duration": 655.961496,
     "end_time": "2024-03-05T11:24:30.147031",
     "exception": false,
     "start_time": "2024-03-05T11:13:34.185535",
     "status": "completed"
    },
    "tags": []
   },
   "outputs": [
    {
     "name": "stdout",
     "output_type": "stream",
     "text": [
      "Train dataset week range: 0-91\n",
      "Step: set_column_info_step, execution_time: 0.11130571365356445\n",
      "Step: set_types, execution_time: 11.952853441238403\n",
      "Step: process_categorical, execution_time: 26.854524850845337\n",
      "Step: process_person_table, execution_time: 0.38858509063720703\n",
      "Create 232 new columns as one hot encoding\n",
      "Step: one_hot_encoding_for_depth1, execution_time: 22.898241758346558\n",
      "Create 172 new columns as pairwise dates diff\n",
      "Step: pairwise_diff_raw_dates, execution_time: 1.4990043640136719\n",
      "Step: aggregate_depth_table, execution_time: 28.367732524871826\n",
      "Drop 471 columns as copy\n",
      "Step: drop_equal_columns, execution_time: 7.694046497344971\n",
      "Drop 37 columns as variable enum\n",
      "Step: drop_variable_enum_features, execution_time: 1.578852891921997\n",
      "Drop 494 columns as almost null\n",
      "Step: drop_almost_null_features_respect_to_target, execution_time: 438.60731315612793\n",
      "Step: join_table, execution_time: 26.578776597976685\n",
      "Create 116 new columns as money feature fraction with base 'credamount_770A'\n",
      "Step: create_money_feature_fraction_credamount_770A, execution_time: 1.0941948890686035\n",
      "Create 116 new columns as money feature fraction with base 'maininc_215A'\n",
      "Step: create_money_feature_fraction_maininc_215A, execution_time: 6.485617160797119\n",
      "Create 116 new columns as money feature fraction with base 'mainoccupationinc_384A'\n",
      "Step: create_money_feature_fraction_mainoccupationinc_384A, execution_time: 1.047137975692749\n",
      "Create 116 new columns as money feature fraction with base 'mean_amount_416A'\n",
      "Step: create_money_feature_fraction_mean_amount_416A, execution_time: 6.718052864074707\n",
      "Create 60 new columns as feature mismatch\n",
      "Step: generate_mismatch_features, execution_time: 44.29899191856384\n",
      "Step: fill_nulls, execution_time: 0.13162684440612793\n",
      "Step: reduce_memory_usage, execution_time: 17.691028594970703\n"
     ]
    },
    {
     "data": {
      "text/plain": [
       "0"
      ]
     },
     "execution_count": 5,
     "metadata": {},
     "output_type": "execute_result"
    }
   ],
   "source": [
    "train_dataset = data_loader.load_train_dataset()\n",
    "print(\"Train dataset week range: {}-{}\".format(train_dataset.get_base()[\"WEEK_NUM\"].min(), train_dataset.get_base()[\"WEEK_NUM\"].max()))\n",
    "gc.collect()\n",
    "train_df, columns_info = preprocessor.process_train_dataset(train_dataset, columns_info)\n",
    "del train_dataset\n",
    "\n",
    "gc.collect()"
   ]
  },
  {
   "cell_type": "code",
   "execution_count": 6,
   "id": "5f97a382",
   "metadata": {
    "execution": {
     "iopub.execute_input": "2024-03-05T11:24:30.177328Z",
     "iopub.status.busy": "2024-03-05T11:24:30.176399Z",
     "iopub.status.idle": "2024-03-05T11:25:21.338865Z",
     "shell.execute_reply": "2024-03-05T11:25:21.337715Z"
    },
    "papermill": {
     "duration": 51.180479,
     "end_time": "2024-03-05T11:25:21.341583",
     "exception": false,
     "start_time": "2024-03-05T11:24:30.161104",
     "status": "completed"
    },
    "tags": []
   },
   "outputs": [],
   "source": [
    "train_df.write_parquet(\"/kaggle/working/train_df.parquet\")"
   ]
  },
  {
   "cell_type": "code",
   "execution_count": 7,
   "id": "f77febae",
   "metadata": {
    "execution": {
     "iopub.execute_input": "2024-03-05T11:25:21.372900Z",
     "iopub.status.busy": "2024-03-05T11:25:21.371840Z",
     "iopub.status.idle": "2024-03-05T11:25:21.378697Z",
     "shell.execute_reply": "2024-03-05T11:25:21.377673Z"
    },
    "papermill": {
     "duration": 0.024684,
     "end_time": "2024-03-05T11:25:21.381214",
     "exception": false,
     "start_time": "2024-03-05T11:25:21.356530",
     "status": "completed"
    },
    "tags": []
   },
   "outputs": [
    {
     "data": {
      "text/plain": [
       "8879.336353302002"
      ]
     },
     "execution_count": 7,
     "metadata": {},
     "output_type": "execute_result"
    }
   ],
   "source": [
    "train_df.estimated_size() / 1024 / 1024"
   ]
  },
  {
   "cell_type": "code",
   "execution_count": 8,
   "id": "2edcba42",
   "metadata": {
    "execution": {
     "iopub.execute_input": "2024-03-05T11:25:21.412411Z",
     "iopub.status.busy": "2024-03-05T11:25:21.411985Z",
     "iopub.status.idle": "2024-03-05T11:25:21.418564Z",
     "shell.execute_reply": "2024-03-05T11:25:21.417570Z"
    },
    "papermill": {
     "duration": 0.024551,
     "end_time": "2024-03-05T11:25:21.420737",
     "exception": false,
     "start_time": "2024-03-05T11:25:21.396186",
     "status": "completed"
    },
    "tags": []
   },
   "outputs": [
    {
     "data": {
      "text/plain": [
       "Enum(categories=['2fc785b2', 'a55475b1', '__UNKNOWN__'])"
      ]
     },
     "execution_count": 8,
     "metadata": {},
     "output_type": "execute_result"
    }
   ],
   "source": [
    "train_df[\"description_5085714M\"].dtype"
   ]
  },
  {
   "cell_type": "code",
   "execution_count": 9,
   "id": "430fefa4",
   "metadata": {
    "execution": {
     "iopub.execute_input": "2024-03-05T11:25:21.451570Z",
     "iopub.status.busy": "2024-03-05T11:25:21.451133Z",
     "iopub.status.idle": "2024-03-05T11:25:21.462861Z",
     "shell.execute_reply": "2024-03-05T11:25:21.461822Z"
    },
    "papermill": {
     "duration": 0.029706,
     "end_time": "2024-03-05T11:25:21.465078",
     "exception": false,
     "start_time": "2024-03-05T11:25:21.435372",
     "status": "completed"
    },
    "tags": []
   },
   "outputs": [
    {
     "data": {
      "text/plain": [
       "147"
      ]
     },
     "execution_count": 9,
     "metadata": {},
     "output_type": "execute_result"
    }
   ],
   "source": [
    "one_hot_features = columns_info.get_columns_with_label(\"ONE_HOT_ENCODING\")\n",
    "len([column for column in train_df.columns if column in one_hot_features])"
   ]
  },
  {
   "cell_type": "markdown",
   "id": "6536e68b",
   "metadata": {
    "_kg_hide-input": true,
    "papermill": {
     "duration": 0.014033,
     "end_time": "2024-03-05T11:25:21.493780",
     "exception": false,
     "start_time": "2024-03-05T11:25:21.479747",
     "status": "completed"
    },
    "tags": []
   },
   "source": [
    "# Data visualization"
   ]
  },
  {
   "cell_type": "code",
   "execution_count": null,
   "id": "da611cb2",
   "metadata": {
    "papermill": {
     "duration": 0.013983,
     "end_time": "2024-03-05T11:25:21.522152",
     "exception": false,
     "start_time": "2024-03-05T11:25:21.508169",
     "status": "completed"
    },
    "tags": []
   },
   "outputs": [],
   "source": []
  },
  {
   "cell_type": "code",
   "execution_count": 10,
   "id": "b15d4601",
   "metadata": {
    "execution": {
     "iopub.execute_input": "2024-03-05T11:25:21.552702Z",
     "iopub.status.busy": "2024-03-05T11:25:21.552294Z",
     "iopub.status.idle": "2024-03-05T11:25:21.556489Z",
     "shell.execute_reply": "2024-03-05T11:25:21.555504Z"
    },
    "papermill": {
     "duration": 0.022051,
     "end_time": "2024-03-05T11:25:21.558584",
     "exception": false,
     "start_time": "2024-03-05T11:25:21.536533",
     "status": "completed"
    },
    "tags": []
   },
   "outputs": [],
   "source": [
    "# train_dataset = data_loader.load_train_dataset()"
   ]
  },
  {
   "cell_type": "code",
   "execution_count": 11,
   "id": "baaa7e25",
   "metadata": {
    "execution": {
     "iopub.execute_input": "2024-03-05T11:25:21.589712Z",
     "iopub.status.busy": "2024-03-05T11:25:21.589272Z",
     "iopub.status.idle": "2024-03-05T11:25:21.593587Z",
     "shell.execute_reply": "2024-03-05T11:25:21.592506Z"
    },
    "papermill": {
     "duration": 0.022747,
     "end_time": "2024-03-05T11:25:21.595787",
     "exception": false,
     "start_time": "2024-03-05T11:25:21.573040",
     "status": "completed"
    },
    "tags": []
   },
   "outputs": [],
   "source": [
    "# [column for column in train_df.columns if \"amtdebitincoming_4809443A\" in column]"
   ]
  },
  {
   "cell_type": "code",
   "execution_count": 12,
   "id": "50f57933",
   "metadata": {
    "execution": {
     "iopub.execute_input": "2024-03-05T11:25:21.626919Z",
     "iopub.status.busy": "2024-03-05T11:25:21.626522Z",
     "iopub.status.idle": "2024-03-05T11:25:21.631066Z",
     "shell.execute_reply": "2024-03-05T11:25:21.629907Z"
    },
    "papermill": {
     "duration": 0.023046,
     "end_time": "2024-03-05T11:25:21.633316",
     "exception": false,
     "start_time": "2024-03-05T11:25:21.610270",
     "status": "completed"
    },
    "tags": []
   },
   "outputs": [],
   "source": [
    "# train_dataset.get_base()[\"target\"].mean()"
   ]
  },
  {
   "cell_type": "code",
   "execution_count": 13,
   "id": "57c01417",
   "metadata": {
    "execution": {
     "iopub.execute_input": "2024-03-05T11:25:21.664537Z",
     "iopub.status.busy": "2024-03-05T11:25:21.664110Z",
     "iopub.status.idle": "2024-03-05T11:25:21.668374Z",
     "shell.execute_reply": "2024-03-05T11:25:21.667340Z"
    },
    "papermill": {
     "duration": 0.022707,
     "end_time": "2024-03-05T11:25:21.670549",
     "exception": false,
     "start_time": "2024-03-05T11:25:21.647842",
     "status": "completed"
    },
    "tags": []
   },
   "outputs": [],
   "source": [
    "# tables = {name: table for name, table in train_dataset.get_depth_tables(1)}"
   ]
  },
  {
   "cell_type": "code",
   "execution_count": 14,
   "id": "24133a59",
   "metadata": {
    "execution": {
     "iopub.execute_input": "2024-03-05T11:25:21.701239Z",
     "iopub.status.busy": "2024-03-05T11:25:21.700863Z",
     "iopub.status.idle": "2024-03-05T11:25:21.705159Z",
     "shell.execute_reply": "2024-03-05T11:25:21.704068Z"
    },
    "papermill": {
     "duration": 0.022349,
     "end_time": "2024-03-05T11:25:21.707335",
     "exception": false,
     "start_time": "2024-03-05T11:25:21.684986",
     "status": "completed"
    },
    "tags": []
   },
   "outputs": [],
   "source": [
    "# applprev_1 = tables[\"applprev_1\"]"
   ]
  },
  {
   "cell_type": "code",
   "execution_count": 15,
   "id": "8a9db4cd",
   "metadata": {
    "execution": {
     "iopub.execute_input": "2024-03-05T11:25:21.737810Z",
     "iopub.status.busy": "2024-03-05T11:25:21.737400Z",
     "iopub.status.idle": "2024-03-05T11:25:21.741170Z",
     "shell.execute_reply": "2024-03-05T11:25:21.740384Z"
    },
    "papermill": {
     "duration": 0.021382,
     "end_time": "2024-03-05T11:25:21.743083",
     "exception": false,
     "start_time": "2024-03-05T11:25:21.721701",
     "status": "completed"
    },
    "tags": []
   },
   "outputs": [],
   "source": [
    "# joined = applprev_1[\"case_id\"].value_counts().join(train_dataset.get_base()[[\"case_id\", \"target\"]], on=\"case_id\").sort(\"count\")\n",
    "# joined.filter(pl.col(\"target\") == 1)"
   ]
  },
  {
   "cell_type": "code",
   "execution_count": 16,
   "id": "a6a354d4",
   "metadata": {
    "execution": {
     "iopub.execute_input": "2024-03-05T11:25:21.773448Z",
     "iopub.status.busy": "2024-03-05T11:25:21.773016Z",
     "iopub.status.idle": "2024-03-05T11:25:21.777732Z",
     "shell.execute_reply": "2024-03-05T11:25:21.776654Z"
    },
    "papermill": {
     "duration": 0.022546,
     "end_time": "2024-03-05T11:25:21.779878",
     "exception": false,
     "start_time": "2024-03-05T11:25:21.757332",
     "status": "completed"
    },
    "tags": []
   },
   "outputs": [],
   "source": [
    "# base = train_dataset.get_base()"
   ]
  },
  {
   "cell_type": "code",
   "execution_count": 17,
   "id": "6df4eefc",
   "metadata": {
    "execution": {
     "iopub.execute_input": "2024-03-05T11:25:21.810553Z",
     "iopub.status.busy": "2024-03-05T11:25:21.810123Z",
     "iopub.status.idle": "2024-03-05T11:25:21.815026Z",
     "shell.execute_reply": "2024-03-05T11:25:21.813883Z"
    },
    "papermill": {
     "duration": 0.022703,
     "end_time": "2024-03-05T11:25:21.816937",
     "exception": false,
     "start_time": "2024-03-05T11:25:21.794234",
     "status": "completed"
    },
    "tags": []
   },
   "outputs": [],
   "source": [
    "# base.filter(pl.col(\"case_id\") == 2702490)"
   ]
  },
  {
   "cell_type": "code",
   "execution_count": 18,
   "id": "a0835e26",
   "metadata": {
    "execution": {
     "iopub.execute_input": "2024-03-05T11:25:21.847735Z",
     "iopub.status.busy": "2024-03-05T11:25:21.847335Z",
     "iopub.status.idle": "2024-03-05T11:25:21.851214Z",
     "shell.execute_reply": "2024-03-05T11:25:21.850281Z"
    },
    "papermill": {
     "duration": 0.021803,
     "end_time": "2024-03-05T11:25:21.853295",
     "exception": false,
     "start_time": "2024-03-05T11:25:21.831492",
     "status": "completed"
    },
    "tags": []
   },
   "outputs": [],
   "source": [
    "# applprev_1.filter(applprev_1[\"case_id\"] == 2702490).sort(\"num_group1\")\n",
    "#base.filter(pl.col(\"case_id\") == 176526)"
   ]
  },
  {
   "cell_type": "code",
   "execution_count": 19,
   "id": "e97211ea",
   "metadata": {
    "execution": {
     "iopub.execute_input": "2024-03-05T11:25:21.885926Z",
     "iopub.status.busy": "2024-03-05T11:25:21.885169Z",
     "iopub.status.idle": "2024-03-05T11:25:21.889039Z",
     "shell.execute_reply": "2024-03-05T11:25:21.888328Z"
    },
    "papermill": {
     "duration": 0.02157,
     "end_time": "2024-03-05T11:25:21.890898",
     "exception": false,
     "start_time": "2024-03-05T11:25:21.869328",
     "status": "completed"
    },
    "tags": []
   },
   "outputs": [],
   "source": [
    "# applprev_1.filter(applprev_1[\"case_id\"] == 2702490).sort(\"num_group1\")[[\"credamount_590A\", \"mainoccupationinc_437A\", \"rejectreason_755M\", \"rejectreasonclient_4145042M\"]]\n"
   ]
  },
  {
   "cell_type": "code",
   "execution_count": 20,
   "id": "de1d13ed",
   "metadata": {
    "execution": {
     "iopub.execute_input": "2024-03-05T11:25:21.922117Z",
     "iopub.status.busy": "2024-03-05T11:25:21.921361Z",
     "iopub.status.idle": "2024-03-05T11:25:21.925361Z",
     "shell.execute_reply": "2024-03-05T11:25:21.924580Z"
    },
    "papermill": {
     "duration": 0.022012,
     "end_time": "2024-03-05T11:25:21.927287",
     "exception": false,
     "start_time": "2024-03-05T11:25:21.905275",
     "status": "completed"
    },
    "tags": []
   },
   "outputs": [],
   "source": [
    "# applprev_1.filter(applprev_1[\"case_id\"] == 176526).sort(\"num_group1\")[[\"credamount_590A\", \"mainoccupationinc_437A\", \"rejectreason_755M\", \"rejectreasonclient_4145042M\"]]a"
   ]
  },
  {
   "cell_type": "code",
   "execution_count": 21,
   "id": "4ece106f",
   "metadata": {
    "execution": {
     "iopub.execute_input": "2024-03-05T11:25:21.958442Z",
     "iopub.status.busy": "2024-03-05T11:25:21.957712Z",
     "iopub.status.idle": "2024-03-05T11:25:21.961466Z",
     "shell.execute_reply": "2024-03-05T11:25:21.960749Z"
    },
    "papermill": {
     "duration": 0.02179,
     "end_time": "2024-03-05T11:25:21.963401",
     "exception": false,
     "start_time": "2024-03-05T11:25:21.941611",
     "status": "completed"
    },
    "tags": []
   },
   "outputs": [],
   "source": [
    "# applprev_1.filter(applprev_1[\"case_id\"] == 176526).sort(\"num_group1\")"
   ]
  },
  {
   "cell_type": "code",
   "execution_count": 22,
   "id": "2e923f33",
   "metadata": {
    "execution": {
     "iopub.execute_input": "2024-03-05T11:25:21.993976Z",
     "iopub.status.busy": "2024-03-05T11:25:21.993266Z",
     "iopub.status.idle": "2024-03-05T11:25:21.997624Z",
     "shell.execute_reply": "2024-03-05T11:25:21.996583Z"
    },
    "papermill": {
     "duration": 0.022205,
     "end_time": "2024-03-05T11:25:21.999932",
     "exception": false,
     "start_time": "2024-03-05T11:25:21.977727",
     "status": "completed"
    },
    "tags": []
   },
   "outputs": [],
   "source": [
    "# FreatureDescriptionGetter().get(\"rejectreasonclient_4145042M\")"
   ]
  },
  {
   "cell_type": "code",
   "execution_count": 23,
   "id": "0f4ed74f",
   "metadata": {
    "execution": {
     "iopub.execute_input": "2024-03-05T11:25:22.030259Z",
     "iopub.status.busy": "2024-03-05T11:25:22.029834Z",
     "iopub.status.idle": "2024-03-05T11:25:22.034443Z",
     "shell.execute_reply": "2024-03-05T11:25:22.033471Z"
    },
    "papermill": {
     "duration": 0.022117,
     "end_time": "2024-03-05T11:25:22.036405",
     "exception": false,
     "start_time": "2024-03-05T11:25:22.014288",
     "status": "completed"
    },
    "tags": []
   },
   "outputs": [],
   "source": [
    "# def bucket_mean_split(x, y, buckets=100):\n",
    "#     x_buckets = []\n",
    "#     y_buckets = []\n",
    "\n",
    "#     x = np.array(x)\n",
    "#     y = np.array(y)\n",
    "#     x_quantiles = [np.quantile(x, i / buckets) for i in range(0, buckets + 1)]\n",
    "#     for i in range(0, buckets):\n",
    "#         filter = (x >= x_quantiles[i]) & (x <= x_quantiles[i + 1])\n",
    "#         x_buckets.append(np.mean(x[filter]))\n",
    "#         y_buckets.append(np.mean(y[filter]))\n",
    "#     return x_buckets, y_buckets"
   ]
  },
  {
   "cell_type": "code",
   "execution_count": 24,
   "id": "cd94b4be",
   "metadata": {
    "execution": {
     "iopub.execute_input": "2024-03-05T11:25:22.066998Z",
     "iopub.status.busy": "2024-03-05T11:25:22.066341Z",
     "iopub.status.idle": "2024-03-05T11:25:22.070476Z",
     "shell.execute_reply": "2024-03-05T11:25:22.069473Z"
    },
    "papermill": {
     "duration": 0.022179,
     "end_time": "2024-03-05T11:25:22.072829",
     "exception": false,
     "start_time": "2024-03-05T11:25:22.050650",
     "status": "completed"
    },
    "tags": []
   },
   "outputs": [],
   "source": [
    "# train[\"target\"].mean()"
   ]
  },
  {
   "cell_type": "code",
   "execution_count": 25,
   "id": "9b4a5f5a",
   "metadata": {
    "execution": {
     "iopub.execute_input": "2024-03-05T11:25:22.104014Z",
     "iopub.status.busy": "2024-03-05T11:25:22.102828Z",
     "iopub.status.idle": "2024-03-05T11:25:22.108052Z",
     "shell.execute_reply": "2024-03-05T11:25:22.107310Z"
    },
    "papermill": {
     "duration": 0.023006,
     "end_time": "2024-03-05T11:25:22.110172",
     "exception": false,
     "start_time": "2024-03-05T11:25:22.087166",
     "status": "completed"
    },
    "tags": []
   },
   "outputs": [],
   "source": [
    "# print(\"Mean target={} where actualdpdtolerance_344P != 0\".format(train[\"target\"].filter(train[\"actualdpdtolerance_344P\"] != 0).mean()))\n",
    "# print(\"Mean target={} where actualdpdtolerance_344P == 0\".format(train[\"target\"].filter(train[\"actualdpdtolerance_344P\"] == 0).mean()))\n",
    "# print(\"Mean target={} where actualdpdtolerance_344P is null\".format(train[\"target\"].filter(train[\"actualdpdtolerance_344P\"].is_null()).mean()))"
   ]
  },
  {
   "cell_type": "code",
   "execution_count": 26,
   "id": "0563b3dc",
   "metadata": {
    "execution": {
     "iopub.execute_input": "2024-03-05T11:25:22.140546Z",
     "iopub.status.busy": "2024-03-05T11:25:22.140113Z",
     "iopub.status.idle": "2024-03-05T11:25:22.144356Z",
     "shell.execute_reply": "2024-03-05T11:25:22.143609Z"
    },
    "papermill": {
     "duration": 0.021961,
     "end_time": "2024-03-05T11:25:22.146435",
     "exception": false,
     "start_time": "2024-03-05T11:25:22.124474",
     "status": "completed"
    },
    "tags": []
   },
   "outputs": [],
   "source": [
    "# columns = [column for column in train.columns if (train[column].dtype == pl.Float64)]\n",
    "\n",
    "# figure, axis = plt.subplots(len(columns) // 5 + 1, 5, figsize=(15, 30))\n",
    "# for index, column in enumerate(columns):\n",
    "#     current_plot = axis[index // 5, index % 5]\n",
    "#     x = train[column]\n",
    "#     y = train[\"target\"]\n",
    "#     if (x.dtype == pl.String or x.dtype == pl.Boolean):\n",
    "#         continue\n",
    "#     filter = x.is_not_null()\n",
    "#     x = x.filter(filter)\n",
    "#     y = y.filter(filter)\n",
    "#     if (x.is_empty()):\n",
    "#         continue\n",
    "#     x_bucket, y_bucket = bucket_mean_split(x.to_numpy(), y.to_numpy(), buckets=100)\n",
    "#     current_plot.plot(x_bucket, y_bucket)\n",
    "#     current_plot.set_title(column)\n",
    "# plt.show()"
   ]
  },
  {
   "cell_type": "code",
   "execution_count": 27,
   "id": "48c3f6fc",
   "metadata": {
    "execution": {
     "iopub.execute_input": "2024-03-05T11:25:22.177608Z",
     "iopub.status.busy": "2024-03-05T11:25:22.176447Z",
     "iopub.status.idle": "2024-03-05T11:25:22.180997Z",
     "shell.execute_reply": "2024-03-05T11:25:22.179954Z"
    },
    "papermill": {
     "duration": 0.022567,
     "end_time": "2024-03-05T11:25:22.183373",
     "exception": false,
     "start_time": "2024-03-05T11:25:22.160806",
     "status": "completed"
    },
    "tags": []
   },
   "outputs": [],
   "source": [
    "# features = train_df.columns\n",
    "# features.remove(\"WEEK_NUM\")\n",
    "# features.remove(\"case_id\")\n",
    "# features.remove(\"target\")"
   ]
  },
  {
   "cell_type": "code",
   "execution_count": 28,
   "id": "359fec37",
   "metadata": {
    "execution": {
     "iopub.execute_input": "2024-03-05T11:25:22.214361Z",
     "iopub.status.busy": "2024-03-05T11:25:22.213611Z",
     "iopub.status.idle": "2024-03-05T11:25:22.218054Z",
     "shell.execute_reply": "2024-03-05T11:25:22.217315Z"
    },
    "papermill": {
     "duration": 0.022108,
     "end_time": "2024-03-05T11:25:22.220128",
     "exception": false,
     "start_time": "2024-03-05T11:25:22.198020",
     "status": "completed"
    },
    "tags": []
   },
   "outputs": [],
   "source": [
    "# gc.collect()"
   ]
  },
  {
   "cell_type": "markdown",
   "id": "4ad6dd14",
   "metadata": {
    "papermill": {
     "duration": 0.01393,
     "end_time": "2024-03-05T11:25:22.248250",
     "exception": false,
     "start_time": "2024-03-05T11:25:22.234320",
     "status": "completed"
    },
    "tags": []
   },
   "source": [
    "### Feature Importance"
   ]
  },
  {
   "cell_type": "code",
   "execution_count": 29,
   "id": "d173640e",
   "metadata": {
    "execution": {
     "iopub.execute_input": "2024-03-05T11:25:22.279007Z",
     "iopub.status.busy": "2024-03-05T11:25:22.278223Z",
     "iopub.status.idle": "2024-03-05T11:25:22.283183Z",
     "shell.execute_reply": "2024-03-05T11:25:22.282476Z"
    },
    "papermill": {
     "duration": 0.022689,
     "end_time": "2024-03-05T11:25:22.285314",
     "exception": false,
     "start_time": "2024-03-05T11:25:22.262625",
     "status": "completed"
    },
    "tags": []
   },
   "outputs": [],
   "source": [
    "# def train_rf(X, Y):    \n",
    "#     params = {\n",
    "#         \"boosting_type\": \"gbdt\",\n",
    "#         \"objective\": \"binary\",\n",
    "#         \"metric\": \"auc\",\n",
    "#         \"max_depth\": 8,\n",
    "#         \"max_bin\": 255,\n",
    "#         \"learning_rate\": 0.05,\n",
    "#         \"n_estimators\": 200,\n",
    "#         \"colsample_bytree\": 0.8, \n",
    "#         \"colsample_bynode\": 0.8,\n",
    "#         \"verbose\": -1,\n",
    "#         \"random_state\": 42,\n",
    "#         \"device\": \"gpu\",\n",
    "#     }\n",
    "    \n",
    "#     model = lgb.LGBMClassifier(**params)\n",
    "    \n",
    "#     model.fit(X.to_pandas(), Y.to_pandas())\n",
    "    \n",
    "#     # Get feature importances\n",
    "#     return pl.DataFrame({\n",
    "#         \"feature\": list(X.columns),\n",
    "#         \"feature_importance\": model.feature_importances_,\n",
    "#         \"train_score\": roc_auc_score(Y.to_pandas(), model.predict(X.to_pandas()))\n",
    "#     })"
   ]
  },
  {
   "cell_type": "code",
   "execution_count": 30,
   "id": "7ee27b74",
   "metadata": {
    "execution": {
     "iopub.execute_input": "2024-03-05T11:25:22.315980Z",
     "iopub.status.busy": "2024-03-05T11:25:22.315200Z",
     "iopub.status.idle": "2024-03-05T11:25:22.320025Z",
     "shell.execute_reply": "2024-03-05T11:25:22.319298Z"
    },
    "papermill": {
     "duration": 0.02249,
     "end_time": "2024-03-05T11:25:22.322071",
     "exception": false,
     "start_time": "2024-03-05T11:25:22.299581",
     "status": "completed"
    },
    "tags": []
   },
   "outputs": [],
   "source": [
    "# def get_feature_importance(X, Y):\n",
    "#     COUNT_ITER = 50\n",
    "    \n",
    "#     dfs = []\n",
    "#     for i in range(COUNT_ITER):\n",
    "#         gc.collect()\n",
    "        \n",
    "#         start_time = time.time()\n",
    "#         shuffled_Y = Y.clone().sample(fraction=1.0, shuffle=True)\n",
    "#         current_df = train_rf(X, shuffled_Y)\n",
    "#         finish_time = time.time()\n",
    "#         print(f\"Finish iteration: {i + 1}/{COUNT_ITER}, time: {finish_time - start_time}\")\n",
    "#         current_df = current_df.with_columns(pl.lit(i).alias(\"iteration\"))\n",
    "#         dfs.append(current_df)\n",
    "        \n",
    "#     return pl.concat(dfs, rechunk=True), train_rf(X, Y)"
   ]
  },
  {
   "cell_type": "code",
   "execution_count": 31,
   "id": "4bcf6b23",
   "metadata": {
    "execution": {
     "iopub.execute_input": "2024-03-05T11:25:22.352604Z",
     "iopub.status.busy": "2024-03-05T11:25:22.351829Z",
     "iopub.status.idle": "2024-03-05T11:25:22.356660Z",
     "shell.execute_reply": "2024-03-05T11:25:22.355850Z"
    },
    "papermill": {
     "duration": 0.022635,
     "end_time": "2024-03-05T11:25:22.358859",
     "exception": false,
     "start_time": "2024-03-05T11:25:22.336224",
     "status": "completed"
    },
    "tags": []
   },
   "outputs": [],
   "source": [
    "# shuffled_feature_importance_df, feature_importance_df = get_feature_importance(train_df[features], train_df[\"target\"])\n",
    "# shuffled_feature_importance_df.write_csv(\"shuffled_feature_importance_df.csv\", separator=\",\")\n",
    "# feature_importance_df.write_csv(\"feature_importance_df.csv\", separator=\",\")"
   ]
  },
  {
   "cell_type": "code",
   "execution_count": 32,
   "id": "5a1046b3",
   "metadata": {
    "execution": {
     "iopub.execute_input": "2024-03-05T11:25:22.390372Z",
     "iopub.status.busy": "2024-03-05T11:25:22.389596Z",
     "iopub.status.idle": "2024-03-05T11:25:22.394650Z",
     "shell.execute_reply": "2024-03-05T11:25:22.393761Z"
    },
    "papermill": {
     "duration": 0.023731,
     "end_time": "2024-03-05T11:25:22.396793",
     "exception": false,
     "start_time": "2024-03-05T11:25:22.373062",
     "status": "completed"
    },
    "tags": []
   },
   "outputs": [],
   "source": [
    "# important_features = []\n",
    "# for column in feature_importance_df[\"feature\"]:\n",
    "#     shuffled_feature_importance = shuffled_feature_importance_df.filter(shuffled_feature_importance_df[\"feature\"] == column)[\"feature_importance\"].to_numpy()\n",
    "#     feature_importance = feature_importance_df.filter(feature_importance_df[\"feature\"] == column)[\"feature_importance\"][0]\n",
    "    \n",
    "#     if (np.percentile(shuffled_feature_importance, 90) <= feature_importance):\n",
    "#         important_features.append(column)\n",
    "# print(len(important_features), important_features)"
   ]
  },
  {
   "cell_type": "markdown",
   "id": "9f07db22",
   "metadata": {
    "papermill": {
     "duration": 0.013924,
     "end_time": "2024-03-05T11:25:22.424845",
     "exception": false,
     "start_time": "2024-03-05T11:25:22.410921",
     "status": "completed"
    },
    "tags": []
   },
   "source": [
    "# Training"
   ]
  },
  {
   "cell_type": "code",
   "execution_count": 33,
   "id": "2509064a",
   "metadata": {
    "execution": {
     "iopub.execute_input": "2024-03-05T11:25:22.455787Z",
     "iopub.status.busy": "2024-03-05T11:25:22.454985Z",
     "iopub.status.idle": "2024-03-05T11:25:22.460222Z",
     "shell.execute_reply": "2024-03-05T11:25:22.459487Z"
    },
    "papermill": {
     "duration": 0.023185,
     "end_time": "2024-03-05T11:25:22.462369",
     "exception": false,
     "start_time": "2024-03-05T11:25:22.439184",
     "status": "completed"
    },
    "tags": []
   },
   "outputs": [],
   "source": [
    "# class VotingModel(BaseEstimator, RegressorMixin):\n",
    "#     def __init__(self, estimators):\n",
    "#         super().__init__()\n",
    "#         self.estimators = estimators\n",
    "        \n",
    "#     def fit(self, X, y=None):\n",
    "#         return self\n",
    "    \n",
    "#     def predict(self, X):\n",
    "#         y_preds = [estimator.predict(X) for estimator in self.estimators]\n",
    "#         return np.mean(y_preds, axis=0)\n",
    "    \n",
    "#     def predict_proba(self, X):\n",
    "#         y_preds = [estimator.predict_proba(X) for estimator in self.estimators]\n",
    "#         return np.mean(y_preds, axis=0)\n",
    "    \n",
    "#     def get_feature_importance(self):\n",
    "#         feature_importances = np.array([0 for feature in features])\n",
    "\n",
    "#         for model in self.estimators:\n",
    "#             feature_importances += model.feature_importances_\n",
    "\n",
    "#         return feature_importances"
   ]
  },
  {
   "cell_type": "code",
   "execution_count": 34,
   "id": "ab7192ad",
   "metadata": {
    "execution": {
     "iopub.execute_input": "2024-03-05T11:25:22.493252Z",
     "iopub.status.busy": "2024-03-05T11:25:22.492481Z",
     "iopub.status.idle": "2024-03-05T11:25:22.497050Z",
     "shell.execute_reply": "2024-03-05T11:25:22.496341Z"
    },
    "papermill": {
     "duration": 0.022274,
     "end_time": "2024-03-05T11:25:22.499107",
     "exception": false,
     "start_time": "2024-03-05T11:25:22.476833",
     "status": "completed"
    },
    "tags": []
   },
   "outputs": [],
   "source": [
    "# for column in features:\n",
    "#     if (train_dataset[column].dtype != pl.Categorical) and \\\n",
    "#         (train_dataset[column].dtype != pl.Float64) and \\\n",
    "#         (train_dataset[column].dtype != pl.Float64):\n",
    "#         print(column, train_dataset[column].dtype)"
   ]
  },
  {
   "cell_type": "code",
   "execution_count": 35,
   "id": "0eccce68",
   "metadata": {
    "execution": {
     "iopub.execute_input": "2024-03-05T11:25:22.529382Z",
     "iopub.status.busy": "2024-03-05T11:25:22.528746Z",
     "iopub.status.idle": "2024-03-05T11:25:22.533581Z",
     "shell.execute_reply": "2024-03-05T11:25:22.532803Z"
    },
    "papermill": {
     "duration": 0.022437,
     "end_time": "2024-03-05T11:25:22.535571",
     "exception": false,
     "start_time": "2024-03-05T11:25:22.513134",
     "status": "completed"
    },
    "tags": []
   },
   "outputs": [],
   "source": [
    "# def train_lgb_model(X_train, Y_train, X_test, Y_test):\n",
    "#     params = {\n",
    "#         \"boosting_type\": \"gbdt\",\n",
    "#         \"objective\": \"binary\",\n",
    "#         \"metric\": \"auc\",\n",
    "#         \"max_depth\": 8,\n",
    "#         \"max_bin\": 250,\n",
    "#         \"learning_rate\": 0.05,\n",
    "#         \"n_estimators\": 1000,\n",
    "#         \"colsample_bytree\": 0.8, \n",
    "#         \"colsample_bynode\": 0.8,\n",
    "#         \"verbose\": -1,\n",
    "#         \"random_state\": 42,\n",
    "#         \"device\": \"gpu\",\n",
    "#     }\n",
    "    \n",
    "#     model = lgb.LGBMClassifier(**params)\n",
    "    \n",
    "#     model.fit(\n",
    "#         X_train, Y_train,\n",
    "#         eval_set=[(X_test, Y_test)],\n",
    "#         callbacks=[lgb.log_evaluation(100), lgb.early_stopping(100)]\n",
    "#     )\n",
    "        \n",
    "#     return model"
   ]
  },
  {
   "cell_type": "code",
   "execution_count": 36,
   "id": "0223396b",
   "metadata": {
    "execution": {
     "iopub.execute_input": "2024-03-05T11:25:22.566967Z",
     "iopub.status.busy": "2024-03-05T11:25:22.565999Z",
     "iopub.status.idle": "2024-03-05T11:25:22.570523Z",
     "shell.execute_reply": "2024-03-05T11:25:22.569623Z"
    },
    "papermill": {
     "duration": 0.022558,
     "end_time": "2024-03-05T11:25:22.572814",
     "exception": false,
     "start_time": "2024-03-05T11:25:22.550256",
     "status": "completed"
    },
    "tags": []
   },
   "outputs": [],
   "source": [
    "# gc.collect()"
   ]
  },
  {
   "cell_type": "code",
   "execution_count": 37,
   "id": "6cbaf0e4",
   "metadata": {
    "execution": {
     "iopub.execute_input": "2024-03-05T11:25:22.603880Z",
     "iopub.status.busy": "2024-03-05T11:25:22.603071Z",
     "iopub.status.idle": "2024-03-05T11:25:22.608969Z",
     "shell.execute_reply": "2024-03-05T11:25:22.607803Z"
    },
    "papermill": {
     "duration": 0.023405,
     "end_time": "2024-03-05T11:25:22.611015",
     "exception": false,
     "start_time": "2024-03-05T11:25:22.587610",
     "status": "completed"
    },
    "tags": []
   },
   "outputs": [],
   "source": [
    "# weeks = train_df[\"WEEK_NUM\"]\n",
    "# cv = StratifiedGroupKFold(n_splits=5, shuffle=False)\n",
    "\n",
    "# fitted_models = []\n",
    "\n",
    "# oof_predicted = np.zeros(train_df.shape[0])\n",
    "\n",
    "# for idx_train, idx_test in cv.split(train_df[features], train_df[\"target\"], groups=weeks):        \n",
    "# #     X_train = train_df[features][idx_train].to_pandas()\n",
    "# #     Y_train = train_df[\"target\"][idx_train].to_pandas()\n",
    "    \n",
    "#     X_test = train_df[features][idx_test].to_pandas()\n",
    "#     Y_test = train_df[\"target\"][idx_test].to_pandas()\n",
    "    \n",
    "#     start = time.time()\n",
    "#     params = {\n",
    "#         \"boosting_type\": \"gbdt\",\n",
    "#         \"objective\": \"binary\",\n",
    "#         \"metric\": \"auc\",\n",
    "#         \"max_depth\": 8,\n",
    "#         \"max_bin\": 250,\n",
    "#         \"learning_rate\": 0.05,\n",
    "#         \"n_estimators\": 1000,\n",
    "#         \"colsample_bytree\": 0.8, \n",
    "#         \"colsample_bynode\": 0.8,\n",
    "#         \"verbose\": -1,\n",
    "#         \"random_state\": 42,\n",
    "#         \"device\": \"gpu\",\n",
    "#     }\n",
    "    \n",
    "#     model = lgb.LGBMClassifier(**params)\n",
    "    \n",
    "#     model.fit(\n",
    "#         train_df[features][idx_train].to_pandas(), train_df[\"target\"][idx_train].to_pandas(),\n",
    "#         eval_set=[(X_test, Y_test)],\n",
    "#         callbacks=[lgb.log_evaluation(100), lgb.early_stopping(100)]\n",
    "#     )\n",
    "        \n",
    "\n",
    "# #    model = train_lgb_model(X_train, Y_train, X_test, Y_test)\n",
    "#     finish = time.time()\n",
    "    \n",
    "#     print(\"fit time: {}\".format(finish - start))\n",
    "#     fitted_models.append(model)\n",
    "    \n",
    "#     test_pred = model.predict_proba(X_test)[:, 1]\n",
    "#     oof_predicted[idx_test] = test_pred\n",
    "#     gc.collect()\n",
    "\n",
    "# model = VotingModel(fitted_models)\n",
    "# gc.collect()"
   ]
  },
  {
   "cell_type": "code",
   "execution_count": 38,
   "id": "5d49e6d1",
   "metadata": {
    "execution": {
     "iopub.execute_input": "2024-03-05T11:25:22.642055Z",
     "iopub.status.busy": "2024-03-05T11:25:22.641387Z",
     "iopub.status.idle": "2024-03-05T11:25:22.645702Z",
     "shell.execute_reply": "2024-03-05T11:25:22.644912Z"
    },
    "papermill": {
     "duration": 0.022137,
     "end_time": "2024-03-05T11:25:22.647746",
     "exception": false,
     "start_time": "2024-03-05T11:25:22.625609",
     "status": "completed"
    },
    "tags": []
   },
   "outputs": [],
   "source": [
    "# roc_auc_oof = roc_auc_score(train_df[\"target\"], oof_predicted)\n",
    "# print(\"CV roc_auc_oof: \", roc_auc_oof)"
   ]
  },
  {
   "cell_type": "markdown",
   "id": "bd97c8b6",
   "metadata": {
    "papermill": {
     "duration": 0.013968,
     "end_time": "2024-03-05T11:25:22.675857",
     "exception": false,
     "start_time": "2024-03-05T11:25:22.661889",
     "status": "completed"
    },
    "tags": []
   },
   "source": [
    "# Predict"
   ]
  },
  {
   "cell_type": "code",
   "execution_count": 39,
   "id": "2e9ed53e",
   "metadata": {
    "execution": {
     "iopub.execute_input": "2024-03-05T11:25:22.706187Z",
     "iopub.status.busy": "2024-03-05T11:25:22.705554Z",
     "iopub.status.idle": "2024-03-05T11:25:22.709936Z",
     "shell.execute_reply": "2024-03-05T11:25:22.708885Z"
    },
    "papermill": {
     "duration": 0.02228,
     "end_time": "2024-03-05T11:25:22.712212",
     "exception": false,
     "start_time": "2024-03-05T11:25:22.689932",
     "status": "completed"
    },
    "tags": []
   },
   "outputs": [],
   "source": [
    "# del train_df\n",
    "# gc.collect()"
   ]
  },
  {
   "cell_type": "code",
   "execution_count": 40,
   "id": "dfd1289c",
   "metadata": {
    "execution": {
     "iopub.execute_input": "2024-03-05T11:25:22.743010Z",
     "iopub.status.busy": "2024-03-05T11:25:22.742251Z",
     "iopub.status.idle": "2024-03-05T11:25:22.746899Z",
     "shell.execute_reply": "2024-03-05T11:25:22.745772Z"
    },
    "papermill": {
     "duration": 0.022553,
     "end_time": "2024-03-05T11:25:22.749038",
     "exception": false,
     "start_time": "2024-03-05T11:25:22.726485",
     "status": "completed"
    },
    "tags": []
   },
   "outputs": [],
   "source": [
    "# test_dataset = data_loader.load_test_dataset()\n",
    "# print(\"Test dataset week range: {}-{}\".format(test_dataset.base[\"WEEK_NUM\"].min(), test_dataset.base[\"WEEK_NUM\"].max()))\n",
    "# gc.collect()\n",
    "# test_df = preprocessor.process_test_dataset(test_dataset)\n",
    "# del test_dataset\n",
    "# gc.collect()"
   ]
  },
  {
   "cell_type": "code",
   "execution_count": 41,
   "id": "0ccec323",
   "metadata": {
    "execution": {
     "iopub.execute_input": "2024-03-05T11:25:22.779038Z",
     "iopub.status.busy": "2024-03-05T11:25:22.778639Z",
     "iopub.status.idle": "2024-03-05T11:25:22.783082Z",
     "shell.execute_reply": "2024-03-05T11:25:22.782113Z"
    },
    "papermill": {
     "duration": 0.021971,
     "end_time": "2024-03-05T11:25:22.785204",
     "exception": false,
     "start_time": "2024-03-05T11:25:22.763233",
     "status": "completed"
    },
    "tags": []
   },
   "outputs": [],
   "source": [
    "# print([name for value, name in reversed(sorted(zip(model.get_feature_importance(), features)))][0:200])"
   ]
  },
  {
   "cell_type": "code",
   "execution_count": null,
   "id": "f6cc62ee",
   "metadata": {
    "papermill": {
     "duration": 0.01407,
     "end_time": "2024-03-05T11:25:22.813598",
     "exception": false,
     "start_time": "2024-03-05T11:25:22.799528",
     "status": "completed"
    },
    "tags": []
   },
   "outputs": [],
   "source": []
  },
  {
   "cell_type": "code",
   "execution_count": 42,
   "id": "e1b86876",
   "metadata": {
    "execution": {
     "iopub.execute_input": "2024-03-05T11:25:22.843737Z",
     "iopub.status.busy": "2024-03-05T11:25:22.843323Z",
     "iopub.status.idle": "2024-03-05T11:25:22.847847Z",
     "shell.execute_reply": "2024-03-05T11:25:22.846807Z"
    },
    "papermill": {
     "duration": 0.022028,
     "end_time": "2024-03-05T11:25:22.849919",
     "exception": false,
     "start_time": "2024-03-05T11:25:22.827891",
     "status": "completed"
    },
    "tags": []
   },
   "outputs": [],
   "source": [
    "# CV roc_auc_oof:  0.8353789451006361 without feature selection ~500 features\n",
    "# CV roc_auc_oof:  0.8329322959533371 with feature selection ~200 features"
   ]
  },
  {
   "cell_type": "code",
   "execution_count": null,
   "id": "a1d5306e",
   "metadata": {
    "papermill": {
     "duration": 0.014055,
     "end_time": "2024-03-05T11:25:22.880202",
     "exception": false,
     "start_time": "2024-03-05T11:25:22.866147",
     "status": "completed"
    },
    "tags": []
   },
   "outputs": [],
   "source": []
  },
  {
   "cell_type": "code",
   "execution_count": 43,
   "id": "89111587",
   "metadata": {
    "execution": {
     "iopub.execute_input": "2024-03-05T11:25:22.910981Z",
     "iopub.status.busy": "2024-03-05T11:25:22.909992Z",
     "iopub.status.idle": "2024-03-05T11:25:22.914709Z",
     "shell.execute_reply": "2024-03-05T11:25:22.913735Z"
    },
    "papermill": {
     "duration": 0.022341,
     "end_time": "2024-03-05T11:25:22.916818",
     "exception": false,
     "start_time": "2024-03-05T11:25:22.894477",
     "status": "completed"
    },
    "tags": []
   },
   "outputs": [],
   "source": [
    "# def gini_stability(dataset, w_fallingrate=88.0, w_resstd=-0.5):\n",
    "#     gini_in_time = dataset\\\n",
    "#         .sort_values(\"WEEK_NUM\")\\\n",
    "#         .groupby(\"WEEK_NUM\")[[\"true\", \"predicted\"]]\\\n",
    "#         .apply(lambda x: 2 * roc_auc_score(x[\"true\"], x[\"predicted\"]) - 1).tolist()\n",
    "    \n",
    "#     x = np.arange(len(gini_in_time))\n",
    "#     y = gini_in_time\n",
    "#     a, b = np.polyfit(x, y, 1)\n",
    "#     y_hat = a * x + b\n",
    "#     residuals = y - y_hat\n",
    "#     res_std = np.std(residuals)\n",
    "#     avg_gini = np.mean(gini_in_time)\n",
    "    \n",
    "#     print(avg_gini, min(0, a), res_std)\n",
    "    \n",
    "#     return avg_gini + w_fallingrate * min(0, a) + w_resstd * res_std"
   ]
  },
  {
   "cell_type": "code",
   "execution_count": 44,
   "id": "5f669070",
   "metadata": {
    "execution": {
     "iopub.execute_input": "2024-03-05T11:25:22.947700Z",
     "iopub.status.busy": "2024-03-05T11:25:22.946959Z",
     "iopub.status.idle": "2024-03-05T11:25:22.951037Z",
     "shell.execute_reply": "2024-03-05T11:25:22.950217Z"
    },
    "papermill": {
     "duration": 0.021882,
     "end_time": "2024-03-05T11:25:22.953094",
     "exception": false,
     "start_time": "2024-03-05T11:25:22.931212",
     "status": "completed"
    },
    "tags": []
   },
   "outputs": [],
   "source": [
    "# # Y_train_predicted = model.predict_proba(train_df[features].to_pandas())\n",
    "# Y_test_predicted = model.predict_proba(test_df[features].to_pandas())"
   ]
  },
  {
   "cell_type": "code",
   "execution_count": 45,
   "id": "3999d2d4",
   "metadata": {
    "execution": {
     "iopub.execute_input": "2024-03-05T11:25:22.984083Z",
     "iopub.status.busy": "2024-03-05T11:25:22.983056Z",
     "iopub.status.idle": "2024-03-05T11:25:22.988195Z",
     "shell.execute_reply": "2024-03-05T11:25:22.987465Z"
    },
    "papermill": {
     "duration": 0.022564,
     "end_time": "2024-03-05T11:25:22.990117",
     "exception": false,
     "start_time": "2024-03-05T11:25:22.967553",
     "status": "completed"
    },
    "tags": []
   },
   "outputs": [],
   "source": [
    "# result = pd.DataFrame({\n",
    "#     \"WEEK_NUM\": train_df[\"WEEK_NUM\"],\n",
    "#     \"true\": train_df[\"target\"],\n",
    "#     \"predicted\": Y_train_predicted[:, 1],\n",
    "# })\n",
    "\n",
    "# train_result = gini_stability(result)\n",
    "# print(\"train_score: {}\".format(train_result))\n",
    "\n",
    "# if MODE == Mode.Train:\n",
    "#     result = pd.DataFrame({\n",
    "#         \"WEEK_NUM\": test_df[\"WEEK_NUM\"],\n",
    "#         \"true\": test_df[\"target\"],\n",
    "#         \"predicted\": Y_test_predicted[:, 1],\n",
    "#     })\n",
    "\n",
    "#     test_result = gini_stability(result)\n",
    "#     print(\"test_score: {}\".format(test_result))"
   ]
  },
  {
   "cell_type": "code",
   "execution_count": 46,
   "id": "45e40d72",
   "metadata": {
    "execution": {
     "iopub.execute_input": "2024-03-05T11:25:23.020772Z",
     "iopub.status.busy": "2024-03-05T11:25:23.020156Z",
     "iopub.status.idle": "2024-03-05T11:25:23.024731Z",
     "shell.execute_reply": "2024-03-05T11:25:23.023699Z"
    },
    "papermill": {
     "duration": 0.022499,
     "end_time": "2024-03-05T11:25:23.026889",
     "exception": false,
     "start_time": "2024-03-05T11:25:23.004390",
     "status": "completed"
    },
    "tags": []
   },
   "outputs": [],
   "source": [
    "# Version 1, test_score: 0.583319926590042, public score 0.48\n",
    "# 100 iters\n",
    "\n",
    "# Version 2, test_score: 0.6062624701357268, public score 0.517\n",
    "# 300 iters\n",
    "\n",
    "# Version 3, test_score: ?, public score 0.545\n",
    "# 2000 iters\n",
    "\n",
    "# Version 4, test_score: ?, public score ?\n",
    "# ? iters, Improve aggregate functions for depth_1, depth_2\n"
   ]
  },
  {
   "cell_type": "markdown",
   "id": "2ec90302",
   "metadata": {
    "papermill": {
     "duration": 0.013959,
     "end_time": "2024-03-05T11:25:23.055023",
     "exception": false,
     "start_time": "2024-03-05T11:25:23.041064",
     "status": "completed"
    },
    "tags": []
   },
   "source": [
    "# Submition"
   ]
  },
  {
   "cell_type": "code",
   "execution_count": 47,
   "id": "ca3a3929",
   "metadata": {
    "execution": {
     "iopub.execute_input": "2024-03-05T11:25:23.085298Z",
     "iopub.status.busy": "2024-03-05T11:25:23.084885Z",
     "iopub.status.idle": "2024-03-05T11:25:23.089189Z",
     "shell.execute_reply": "2024-03-05T11:25:23.088157Z"
    },
    "papermill": {
     "duration": 0.022008,
     "end_time": "2024-03-05T11:25:23.091224",
     "exception": false,
     "start_time": "2024-03-05T11:25:23.069216",
     "status": "completed"
    },
    "tags": []
   },
   "outputs": [],
   "source": [
    "# case_id = test_df[\"case_id\"]\n",
    "# X = test_df[features].to_pandas()\n",
    "\n",
    "# Y = model.predict_proba(X)\n",
    "\n",
    "# submission = pd.DataFrame({\n",
    "#     \"case_id\": case_id.to_numpy(),\n",
    "#     \"score\": Y[:, 1]\n",
    "# }).set_index('case_id')\n",
    "# submission.to_csv(\"./submission.csv\")"
   ]
  },
  {
   "cell_type": "code",
   "execution_count": null,
   "id": "f002f8e1",
   "metadata": {
    "papermill": {
     "duration": 0.013777,
     "end_time": "2024-03-05T11:25:23.119728",
     "exception": false,
     "start_time": "2024-03-05T11:25:23.105951",
     "status": "completed"
    },
    "tags": []
   },
   "outputs": [],
   "source": []
  },
  {
   "cell_type": "code",
   "execution_count": null,
   "id": "42b60a0d",
   "metadata": {
    "papermill": {
     "duration": 0.013809,
     "end_time": "2024-03-05T11:25:23.147761",
     "exception": false,
     "start_time": "2024-03-05T11:25:23.133952",
     "status": "completed"
    },
    "tags": []
   },
   "outputs": [],
   "source": []
  },
  {
   "cell_type": "code",
   "execution_count": null,
   "id": "af8e1fbd",
   "metadata": {
    "papermill": {
     "duration": 0.013905,
     "end_time": "2024-03-05T11:25:23.176231",
     "exception": false,
     "start_time": "2024-03-05T11:25:23.162326",
     "status": "completed"
    },
    "tags": []
   },
   "outputs": [],
   "source": []
  }
 ],
 "metadata": {
  "kaggle": {
   "accelerator": "none",
   "dataSources": [
    {
     "databundleVersionId": 7602123,
     "sourceId": 50160,
     "sourceType": "competition"
    },
    {
     "datasetId": 4496896,
     "sourceId": 7766340,
     "sourceType": "datasetVersion"
    }
   ],
   "dockerImageVersionId": 30635,
   "isGpuEnabled": false,
   "isInternetEnabled": false,
   "language": "python",
   "sourceType": "notebook"
  },
  "kernelspec": {
   "display_name": "Python 3",
   "language": "python",
   "name": "python3"
  },
  "language_info": {
   "codemirror_mode": {
    "name": "ipython",
    "version": 3
   },
   "file_extension": ".py",
   "mimetype": "text/x-python",
   "name": "python",
   "nbconvert_exporter": "python",
   "pygments_lexer": "ipython3",
   "version": "3.10.12"
  },
  "papermill": {
   "default_parameters": {},
   "duration": 751.509384,
   "end_time": "2024-03-05T11:25:24.614872",
   "environment_variables": {},
   "exception": null,
   "input_path": "__notebook__.ipynb",
   "output_path": "__notebook__.ipynb",
   "parameters": {},
   "start_time": "2024-03-05T11:12:53.105488",
   "version": "2.4.0"
  }
 },
 "nbformat": 4,
 "nbformat_minor": 5
}
