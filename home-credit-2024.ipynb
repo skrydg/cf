{
 "cells": [
  {
   "cell_type": "markdown",
   "id": "88de3828",
   "metadata": {
    "papermill": {
     "duration": 0.013883,
     "end_time": "2024-03-04T20:05:21.628474",
     "exception": false,
     "start_time": "2024-03-04T20:05:21.614591",
     "status": "completed"
    },
    "tags": []
   },
   "source": [
    "# Install packages"
   ]
  },
  {
   "cell_type": "code",
   "execution_count": 1,
   "id": "85b73641",
   "metadata": {
    "execution": {
     "iopub.execute_input": "2024-03-04T20:05:21.658298Z",
     "iopub.status.busy": "2024-03-04T20:05:21.657023Z",
     "iopub.status.idle": "2024-03-04T20:05:57.371921Z",
     "shell.execute_reply": "2024-03-04T20:05:57.370504Z"
    },
    "papermill": {
     "duration": 35.732712,
     "end_time": "2024-03-04T20:05:57.374742",
     "exception": false,
     "start_time": "2024-03-04T20:05:21.642030",
     "status": "completed"
    },
    "tags": []
   },
   "outputs": [
    {
     "name": "stdout",
     "output_type": "stream",
     "text": [
      "Processing /kaggle/input/kaggle-home-credit-risk-model-stability-lib/kaggle_home_credit_risk_model_stability-0.3-py3-none-any.whl\r\n",
      "Installing collected packages: kaggle-home-credit-risk-model-stability\r\n",
      "Successfully installed kaggle-home-credit-risk-model-stability-0.3\r\n"
     ]
    }
   ],
   "source": [
    "!pip install /kaggle/input/kaggle-home-credit-risk-model-stability-lib/kaggle_home_credit_risk_model_stability-0.3-py3-none-any.whl --force-reinstall"
   ]
  },
  {
   "cell_type": "markdown",
   "id": "a4b833fb",
   "metadata": {
    "papermill": {
     "duration": 0.013499,
     "end_time": "2024-03-04T20:05:57.402136",
     "exception": false,
     "start_time": "2024-03-04T20:05:57.388637",
     "status": "completed"
    },
    "tags": []
   },
   "source": [
    "# Import packages"
   ]
  },
  {
   "cell_type": "code",
   "execution_count": 2,
   "id": "936167bd",
   "metadata": {
    "execution": {
     "iopub.execute_input": "2024-03-04T20:05:57.432005Z",
     "iopub.status.busy": "2024-03-04T20:05:57.431567Z",
     "iopub.status.idle": "2024-03-04T20:06:02.271014Z",
     "shell.execute_reply": "2024-03-04T20:06:02.269995Z"
    },
    "papermill": {
     "duration": 4.857754,
     "end_time": "2024-03-04T20:06:02.273748",
     "exception": false,
     "start_time": "2024-03-04T20:05:57.415994",
     "status": "completed"
    },
    "tags": []
   },
   "outputs": [],
   "source": [
    "import polars as pl\n",
    "import gc\n",
    "import time\n",
    "import numpy as np\n",
    "import pandas as pd\n",
    "import lightgbm as lgb\n",
    "import seaborn as sns\n",
    "import matplotlib.pyplot as plt\n",
    "import copy\n",
    "import lightgbm as lgb\n",
    "import importlib\n",
    "\n",
    "import kaggle_home_credit_risk_model_stability.libs as hcr\n",
    "from kaggle_home_credit_risk_model_stability.libs.input.dataset import Dataset\n",
    "from kaggle_home_credit_risk_model_stability.libs.input.data_loader import DataLoader\n",
    "from kaggle_home_credit_risk_model_stability.libs.preprocessor.preprocessor import Preprocessor\n",
    "from kaggle_home_credit_risk_model_stability.libs.preprocessor.steps import *\n",
    "from kaggle_home_credit_risk_model_stability.libs.preprocessor.columns_info import ColumnsInfo\n",
    "from kaggle_home_credit_risk_model_stability.libs.feature_description.feature_description import FreatureDescriptionGetter\n",
    "\n",
    "from collections import defaultdict\n",
    "from glob import glob\n",
    "from pathlib import Path\n",
    "from sklearn.model_selection import train_test_split\n",
    "from sklearn.metrics import roc_auc_score\n",
    "from sklearn.model_selection import StratifiedGroupKFold\n",
    "from sklearn.base import BaseEstimator, RegressorMixin\n",
    "from catboost import CatBoostClassifier\n",
    "from enum import Enum"
   ]
  },
  {
   "cell_type": "code",
   "execution_count": 3,
   "id": "16827e6d",
   "metadata": {
    "execution": {
     "iopub.execute_input": "2024-03-04T20:06:02.304198Z",
     "iopub.status.busy": "2024-03-04T20:06:02.303753Z",
     "iopub.status.idle": "2024-03-04T20:06:02.312565Z",
     "shell.execute_reply": "2024-03-04T20:06:02.311382Z"
    },
    "papermill": {
     "duration": 0.02696,
     "end_time": "2024-03-04T20:06:02.314822",
     "exception": false,
     "start_time": "2024-03-04T20:06:02.287862",
     "status": "completed"
    },
    "tags": []
   },
   "outputs": [],
   "source": [
    "data_loader = DataLoader()\n",
    "preprocessor = Preprocessor({\n",
    "    \"set_column_info_step\": SetColumnsInfoStep(),\n",
    "    \"set_types\": SetTypesStep(),\n",
    "    \"process_categorical\": ProcessCategoricalStep(),\n",
    "    \"process_person_table\": ProcessPersonTableStep(),\n",
    "    \"one_hot_encoding_for_depth1\": OneHotEncodingForDepth1Step(),\n",
    "    \"pairwise_diff_raw_dates\": PairwiseDateDiffStep(),\n",
    "# #    \"generate_cum_features\": GenerateCumFeaturesStep(),\n",
    "    \"aggregate_depth_table\": AggregateDepthTableStep(),\n",
    "    \"drop_columns\": DropColumnsStep(),\n",
    "    \"join_table\": JoinTablesStep(),\n",
    "    **{\n",
    "        f\"create_money_feature_fraction_{base_column}\": CreateMoneyFeatureFractionStep(base_column)\n",
    "        for base_column in [\"credamount_770A\", \"maininc_215A\", \"mainoccupationinc_384A\", \"mean_amount_416A\"]\n",
    "    },\n",
    "    \"generat_mismatch_features\": GenerateMismatchFeaturesStep(), \n",
    "    \"fill_nulls\": FillNullStep(),\n",
    "    \"reduce_memory_usage\": ReduceMemoryUsageStep(),\n",
    "#   \"drop_non_important_features\": DropNonImportantFeaturesStep()\n",
    "#    \"drop_dates_columns\": DropDatesColumnsStep()\n",
    "})\n",
    "columns_info = ColumnsInfo()"
   ]
  },
  {
   "cell_type": "code",
   "execution_count": 4,
   "id": "ff9e166b",
   "metadata": {
    "execution": {
     "iopub.execute_input": "2024-03-04T20:06:02.344939Z",
     "iopub.status.busy": "2024-03-04T20:06:02.344501Z",
     "iopub.status.idle": "2024-03-04T20:06:02.349438Z",
     "shell.execute_reply": "2024-03-04T20:06:02.348307Z"
    },
    "papermill": {
     "duration": 0.022955,
     "end_time": "2024-03-04T20:06:02.351639",
     "exception": false,
     "start_time": "2024-03-04T20:06:02.328684",
     "status": "completed"
    },
    "tags": []
   },
   "outputs": [],
   "source": [
    "# train_dataset = data_loader.load_train_dataset()\n",
    "# case_id_set = train_dataset.get_base().filter(train_dataset.get_base()[\"WEEK_NUM\"] < 10)[\"case_id\"]\n",
    "# train_dataset = train_dataset.filter(lambda table: table.filter(pl.col(\"case_id\").is_in(case_id_set)))"
   ]
  },
  {
   "cell_type": "code",
   "execution_count": null,
   "id": "909a7449",
   "metadata": {
    "papermill": {
     "duration": 0.01351,
     "end_time": "2024-03-04T20:06:02.378976",
     "exception": false,
     "start_time": "2024-03-04T20:06:02.365466",
     "status": "completed"
    },
    "tags": []
   },
   "outputs": [],
   "source": []
  },
  {
   "cell_type": "code",
   "execution_count": 5,
   "id": "0769e1b9",
   "metadata": {
    "execution": {
     "iopub.execute_input": "2024-03-04T20:06:02.409651Z",
     "iopub.status.busy": "2024-03-04T20:06:02.409224Z",
     "iopub.status.idle": "2024-03-04T20:09:11.885902Z",
     "shell.execute_reply": "2024-03-04T20:09:11.885013Z"
    },
    "papermill": {
     "duration": 189.495411,
     "end_time": "2024-03-04T20:09:11.888548",
     "exception": false,
     "start_time": "2024-03-04T20:06:02.393137",
     "status": "completed"
    },
    "tags": []
   },
   "outputs": [
    {
     "name": "stdout",
     "output_type": "stream",
     "text": [
      "Train dataset week range: 0-91\n",
      "Step: set_column_info_step, execution_time: 0.10944414138793945\n",
      "Step: set_types, execution_time: 20.2892746925354\n",
      "Step: process_categorical, execution_time: 26.1957368850708\n",
      "Step: process_person_table, execution_time: 0.3800623416900635\n",
      "Create 170 new columns as one hot encoding\n",
      "Step: one_hot_encoding_for_depth1, execution_time: 8.727784395217896\n",
      "Create 172 new columns as pairwise dates diff\n",
      "Step: pairwise_diff_raw_dates, execution_time: 1.3348815441131592\n",
      "Step: aggregate_depth_table, execution_time: 14.91050410270691\n",
      "Columns to drop: 1116\n",
      "Step: drop_columns, execution_time: 26.90121579170227\n",
      "Step: join_table, execution_time: 10.653606653213501\n",
      "Create 93 new columns as money feature fraction with base 'credamount_770A'\n",
      "Step: create_money_feature_fraction_credamount_770A, execution_time: 0.8025827407836914\n",
      "Create 93 new columns as money feature fraction with base 'maininc_215A'\n",
      "Step: create_money_feature_fraction_maininc_215A, execution_time: 5.17975115776062\n",
      "Create 93 new columns as money feature fraction with base 'mainoccupationinc_384A'\n",
      "Step: create_money_feature_fraction_mainoccupationinc_384A, execution_time: 0.7830860614776611\n",
      "Create 93 new columns as money feature fraction with base 'mean_amount_416A'\n",
      "Step: create_money_feature_fraction_mean_amount_416A, execution_time: 5.3391242027282715\n",
      "Create 60 new columns as feature mismatch\n",
      "Step: generat_mismatch_features, execution_time: 43.93807673454285\n",
      "Step: fill_nulls, execution_time: 0.12385249137878418\n",
      "Step: reduce_memory_usage, execution_time: 12.137690305709839\n"
     ]
    },
    {
     "data": {
      "text/plain": [
       "0"
      ]
     },
     "execution_count": 5,
     "metadata": {},
     "output_type": "execute_result"
    }
   ],
   "source": [
    "train_dataset = data_loader.load_train_dataset()\n",
    "print(\"Train dataset week range: {}-{}\".format(train_dataset.get_base()[\"WEEK_NUM\"].min(), train_dataset.get_base()[\"WEEK_NUM\"].max()))\n",
    "gc.collect()\n",
    "train_df, columns_info = preprocessor.process_train_dataset(train_dataset, columns_info)\n",
    "del train_dataset\n",
    "\n",
    "gc.collect()"
   ]
  },
  {
   "cell_type": "code",
   "execution_count": 6,
   "id": "4564df66",
   "metadata": {
    "execution": {
     "iopub.execute_input": "2024-03-04T20:09:11.921939Z",
     "iopub.status.busy": "2024-03-04T20:09:11.921516Z",
     "iopub.status.idle": "2024-03-04T20:09:52.952510Z",
     "shell.execute_reply": "2024-03-04T20:09:52.951490Z"
    },
    "papermill": {
     "duration": 41.050625,
     "end_time": "2024-03-04T20:09:52.955199",
     "exception": false,
     "start_time": "2024-03-04T20:09:11.904574",
     "status": "completed"
    },
    "tags": []
   },
   "outputs": [],
   "source": [
    "train_df.write_parquet(\"/kaggle/working/train_df.parquet\")"
   ]
  },
  {
   "cell_type": "code",
   "execution_count": 7,
   "id": "b8a9d2e3",
   "metadata": {
    "execution": {
     "iopub.execute_input": "2024-03-04T20:09:52.989210Z",
     "iopub.status.busy": "2024-03-04T20:09:52.988464Z",
     "iopub.status.idle": "2024-03-04T20:09:52.994973Z",
     "shell.execute_reply": "2024-03-04T20:09:52.993875Z"
    },
    "papermill": {
     "duration": 0.025924,
     "end_time": "2024-03-04T20:09:52.997293",
     "exception": false,
     "start_time": "2024-03-04T20:09:52.971369",
     "status": "completed"
    },
    "tags": []
   },
   "outputs": [
    {
     "data": {
      "text/plain": [
       "6929.869975090027"
      ]
     },
     "execution_count": 7,
     "metadata": {},
     "output_type": "execute_result"
    }
   ],
   "source": [
    "train_df.estimated_size() / 1024 / 1024"
   ]
  },
  {
   "cell_type": "code",
   "execution_count": 8,
   "id": "82af9c5e",
   "metadata": {
    "execution": {
     "iopub.execute_input": "2024-03-04T20:09:53.096808Z",
     "iopub.status.busy": "2024-03-04T20:09:53.096410Z",
     "iopub.status.idle": "2024-03-04T20:09:53.152138Z",
     "shell.execute_reply": "2024-03-04T20:09:53.151116Z"
    },
    "papermill": {
     "duration": 0.076971,
     "end_time": "2024-03-04T20:09:53.155990",
     "exception": false,
     "start_time": "2024-03-04T20:09:53.079019",
     "status": "completed"
    },
    "tags": []
   },
   "outputs": [
    {
     "data": {
      "text/html": [
       "<div><style>\n",
       ".dataframe > thead > tr,\n",
       ".dataframe > tbody > tr {\n",
       "  text-align: right;\n",
       "  white-space: pre-wrap;\n",
       "}\n",
       "</style>\n",
       "<small>shape: (1_526_659, 1_127)</small><table border=\"1\" class=\"dataframe\"><thead><tr><th>case_id</th><th>WEEK_NUM</th><th>target</th><th>assignmentdate_238D</th><th>assignmentdate_4527235D</th><th>birthdate_574D</th><th>contractssum_5085716L</th><th>dateofbirth_337D</th><th>days120_123L</th><th>days180_256L</th><th>days30_165L</th><th>days360_512L</th><th>days90_310L</th><th>description_5085714M</th><th>education_1103M</th><th>education_88M</th><th>firstquarter_103L</th><th>fourthquarter_440L</th><th>maritalst_385M</th><th>maritalst_893M</th><th>pmtaverage_3A</th><th>pmtaverage_4527227A</th><th>pmtcount_4527229L</th><th>pmtcount_693L</th><th>pmtscount_423L</th><th>pmtssum_45A</th><th>requesttype_4525192L</th><th>responsedate_1012D</th><th>responsedate_4527233D</th><th>responsedate_4917613D</th><th>riskassesment_302T</th><th>secondquarter_766L</th><th>thirdquarter_1082L</th><th>assignmentdate_238D_birthdate_574D_diff</th><th>assignmentdate_238D_dateofbirth_337D_diff</th><th>assignmentdate_238D_responsedate_1012D_diff</th><th>assignmentdate_4527235D_dateofbirth_337D_diff</th><th>&hellip;</th><th>clientscnt_304L_posfstqpd30lastmonth_3976962P_mismatch</th><th>pmtaverage_3A_pmtaverage_4527227A_mismatch</th><th>posfpd10lastmonth_333P_posfstqpd30lastmonth_3976962P_mismatch</th><th>birth_259D_dateofbirth_337D_mismatch</th><th>birth_259D_birthdate_574D_mismatch</th><th>assignmentdate_238D_responsedate_4527233D_mismatch</th><th>assignmentdate_238D_assignmentdate_4527235D_mismatch</th><th>sumoutstandtotalest_4493215A_totaldebt_9A_mismatch</th><th>maxdpdlast3m_392P_maxdpdlast6m_474P_mismatch</th><th>assignmentdate_4527235D_responsedate_1012D_mismatch</th><th>assignmentdate_4527235D_responsedate_4917613D_mismatch</th><th>numinstunpaidmax_3546851L_numinstunpaidmaxest_4493212L_mismatch</th><th>numinstpaid_4499208L_numinstregularpaid_973L_mismatch</th><th>numinstpaid_4499208L_numinstregularpaidest_4493210L_mismatch</th><th>downpmt_116A_opencred_647L_mismatch</th><th>downpmt_116A_posfpd10lastmonth_333P_mismatch</th><th>downpmt_116A_posfstqpd30lastmonth_3976962P_mismatch</th><th>applicationscnt_464L_opencred_647L_mismatch</th><th>applicationscnt_464L_applicationscnt_629L_mismatch</th><th>numcontrs3months_479L_sellerplacecnt_915L_mismatch</th><th>numinsttopaygr_769L_numinsttopaygrest_4493213L_mismatch</th><th>birthdate_574D_dateofbirth_337D_mismatch</th><th>currdebt_22A_sumoutstandtotal_3546847A_mismatch</th><th>currdebt_22A_totaldebt_9A_mismatch</th><th>currdebt_22A_sumoutstandtotalest_4493215A_mismatch</th><th>numinstpaidearly_338L_numinstpaidearlyest_4493214L_mismatch</th><th>inittransactionamount_650A_price_1097A_mismatch</th><th>applicationscnt_629L_opencred_647L_mismatch</th><th>applicationscnt_629L_clientscnt_304L_mismatch</th><th>applicationscnt_629L_posfpd10lastmonth_333P_mismatch</th><th>applicationscnt_629L_posfstqpd30lastmonth_3976962P_mismatch</th><th>applicationscnt_629L_clientscnt_157L_mismatch</th><th>credamount_770A_disbursedcredamount_1113A_mismatch</th><th>clientscnt_157L_opencred_647L_mismatch</th><th>clientscnt_157L_clientscnt_304L_mismatch</th><th>clientscnt_157L_posfpd10lastmonth_333P_mismatch</th><th>clientscnt_157L_posfstqpd30lastmonth_3976962P_mismatch</th></tr><tr><td>i32</td><td>i8</td><td>i8</td><td>i16</td><td>i16</td><td>i16</td><td>f32</td><td>i16</td><td>f32</td><td>f32</td><td>f32</td><td>f32</td><td>f32</td><td>enum</td><td>enum</td><td>enum</td><td>f32</td><td>f32</td><td>enum</td><td>enum</td><td>f32</td><td>f32</td><td>f32</td><td>f32</td><td>f32</td><td>f32</td><td>enum</td><td>i16</td><td>i16</td><td>i16</td><td>enum</td><td>f32</td><td>f32</td><td>i16</td><td>i32</td><td>i16</td><td>i32</td><td>&hellip;</td><td>f32</td><td>f32</td><td>f32</td><td>f32</td><td>f32</td><td>f32</td><td>f32</td><td>f32</td><td>f32</td><td>f32</td><td>f32</td><td>f32</td><td>f32</td><td>f32</td><td>f32</td><td>f32</td><td>f32</td><td>f32</td><td>f32</td><td>f32</td><td>f32</td><td>f32</td><td>f32</td><td>f32</td><td>f32</td><td>f32</td><td>f32</td><td>f32</td><td>f32</td><td>f32</td><td>f32</td><td>f32</td><td>f32</td><td>f32</td><td>f32</td><td>f32</td><td>f32</td></tr></thead><tbody><tr><td>0</td><td>0</td><td>0</td><td>null</td><td>null</td><td>null</td><td>null</td><td>null</td><td>null</td><td>null</td><td>null</td><td>null</td><td>null</td><td>null</td><td>null</td><td>null</td><td>null</td><td>null</td><td>null</td><td>null</td><td>null</td><td>null</td><td>null</td><td>null</td><td>null</td><td>null</td><td>null</td><td>null</td><td>null</td><td>null</td><td>null</td><td>null</td><td>null</td><td>null</td><td>null</td><td>null</td><td>null</td><td>&hellip;</td><td>null</td><td>null</td><td>null</td><td>null</td><td>null</td><td>null</td><td>null</td><td>null</td><td>1.0</td><td>null</td><td>null</td><td>null</td><td>null</td><td>null</td><td>null</td><td>1.0</td><td>null</td><td>null</td><td>1.0</td><td>1.0</td><td>null</td><td>null</td><td>null</td><td>1.0</td><td>null</td><td>null</td><td>null</td><td>null</td><td>1.0</td><td>1.0</td><td>null</td><td>1.0</td><td>1.0</td><td>null</td><td>1.0</td><td>1.0</td><td>null</td></tr><tr><td>1</td><td>0</td><td>0</td><td>null</td><td>null</td><td>null</td><td>null</td><td>null</td><td>null</td><td>null</td><td>null</td><td>null</td><td>null</td><td>null</td><td>null</td><td>null</td><td>null</td><td>null</td><td>null</td><td>null</td><td>null</td><td>null</td><td>null</td><td>null</td><td>null</td><td>null</td><td>null</td><td>null</td><td>null</td><td>null</td><td>null</td><td>null</td><td>null</td><td>null</td><td>null</td><td>null</td><td>null</td><td>&hellip;</td><td>null</td><td>null</td><td>null</td><td>null</td><td>null</td><td>null</td><td>null</td><td>null</td><td>1.0</td><td>null</td><td>null</td><td>null</td><td>null</td><td>null</td><td>null</td><td>1.0</td><td>null</td><td>null</td><td>1.0</td><td>1.0</td><td>null</td><td>null</td><td>null</td><td>1.0</td><td>null</td><td>null</td><td>null</td><td>null</td><td>1.0</td><td>1.0</td><td>null</td><td>0.0</td><td>1.0</td><td>null</td><td>0.0</td><td>0.0</td><td>null</td></tr><tr><td>2</td><td>0</td><td>0</td><td>null</td><td>null</td><td>null</td><td>null</td><td>null</td><td>null</td><td>null</td><td>null</td><td>null</td><td>null</td><td>null</td><td>null</td><td>null</td><td>null</td><td>null</td><td>null</td><td>null</td><td>null</td><td>null</td><td>null</td><td>null</td><td>null</td><td>null</td><td>null</td><td>null</td><td>null</td><td>null</td><td>null</td><td>null</td><td>null</td><td>null</td><td>null</td><td>null</td><td>null</td><td>&hellip;</td><td>null</td><td>null</td><td>null</td><td>null</td><td>null</td><td>null</td><td>null</td><td>null</td><td>1.0</td><td>null</td><td>null</td><td>null</td><td>null</td><td>null</td><td>1.0</td><td>1.0</td><td>null</td><td>1.0</td><td>1.0</td><td>1.0</td><td>null</td><td>null</td><td>null</td><td>1.0</td><td>null</td><td>null</td><td>null</td><td>1.0</td><td>1.0</td><td>1.0</td><td>null</td><td>1.0</td><td>1.0</td><td>1.0</td><td>1.0</td><td>1.0</td><td>null</td></tr><tr><td>3</td><td>0</td><td>0</td><td>null</td><td>null</td><td>null</td><td>null</td><td>null</td><td>null</td><td>null</td><td>null</td><td>null</td><td>null</td><td>null</td><td>null</td><td>null</td><td>null</td><td>null</td><td>null</td><td>null</td><td>null</td><td>null</td><td>null</td><td>null</td><td>null</td><td>null</td><td>null</td><td>null</td><td>null</td><td>null</td><td>null</td><td>null</td><td>null</td><td>null</td><td>null</td><td>null</td><td>null</td><td>&hellip;</td><td>null</td><td>null</td><td>null</td><td>null</td><td>null</td><td>null</td><td>null</td><td>null</td><td>1.0</td><td>null</td><td>null</td><td>null</td><td>null</td><td>null</td><td>1.0</td><td>1.0</td><td>null</td><td>0.0</td><td>0.0</td><td>1.0</td><td>null</td><td>null</td><td>null</td><td>1.0</td><td>null</td><td>null</td><td>null</td><td>1.0</td><td>1.0</td><td>1.0</td><td>null</td><td>1.0</td><td>1.0</td><td>1.0</td><td>1.0</td><td>1.0</td><td>null</td></tr><tr><td>4</td><td>0</td><td>1</td><td>null</td><td>null</td><td>null</td><td>null</td><td>null</td><td>null</td><td>null</td><td>null</td><td>null</td><td>null</td><td>null</td><td>null</td><td>null</td><td>null</td><td>null</td><td>null</td><td>null</td><td>null</td><td>null</td><td>null</td><td>null</td><td>null</td><td>null</td><td>null</td><td>null</td><td>null</td><td>null</td><td>null</td><td>null</td><td>null</td><td>null</td><td>null</td><td>null</td><td>null</td><td>&hellip;</td><td>null</td><td>null</td><td>null</td><td>null</td><td>null</td><td>null</td><td>null</td><td>null</td><td>1.0</td><td>null</td><td>null</td><td>null</td><td>null</td><td>null</td><td>1.0</td><td>1.0</td><td>null</td><td>1.0</td><td>1.0</td><td>1.0</td><td>null</td><td>null</td><td>null</td><td>1.0</td><td>null</td><td>null</td><td>null</td><td>1.0</td><td>1.0</td><td>1.0</td><td>null</td><td>1.0</td><td>1.0</td><td>1.0</td><td>1.0</td><td>1.0</td><td>null</td></tr><tr><td>5</td><td>0</td><td>0</td><td>null</td><td>null</td><td>null</td><td>null</td><td>null</td><td>null</td><td>null</td><td>null</td><td>null</td><td>null</td><td>null</td><td>null</td><td>null</td><td>null</td><td>null</td><td>null</td><td>null</td><td>null</td><td>null</td><td>null</td><td>null</td><td>null</td><td>null</td><td>null</td><td>null</td><td>null</td><td>null</td><td>null</td><td>null</td><td>null</td><td>null</td><td>null</td><td>null</td><td>null</td><td>&hellip;</td><td>1.0</td><td>null</td><td>1.0</td><td>null</td><td>null</td><td>null</td><td>null</td><td>null</td><td>null</td><td>null</td><td>null</td><td>null</td><td>null</td><td>null</td><td>1.0</td><td>1.0</td><td>1.0</td><td>0.0</td><td>0.0</td><td>0.0</td><td>null</td><td>null</td><td>null</td><td>1.0</td><td>null</td><td>null</td><td>null</td><td>0.0</td><td>0.0</td><td>0.0</td><td>0.0</td><td>0.0</td><td>0.0</td><td>1.0</td><td>1.0</td><td>1.0</td><td>1.0</td></tr><tr><td>6</td><td>0</td><td>0</td><td>null</td><td>null</td><td>null</td><td>null</td><td>null</td><td>null</td><td>null</td><td>null</td><td>null</td><td>null</td><td>null</td><td>null</td><td>null</td><td>null</td><td>null</td><td>null</td><td>null</td><td>null</td><td>null</td><td>null</td><td>null</td><td>null</td><td>null</td><td>null</td><td>null</td><td>null</td><td>null</td><td>null</td><td>null</td><td>null</td><td>null</td><td>null</td><td>null</td><td>null</td><td>&hellip;</td><td>1.0</td><td>null</td><td>1.0</td><td>null</td><td>null</td><td>null</td><td>null</td><td>null</td><td>1.0</td><td>null</td><td>null</td><td>null</td><td>null</td><td>null</td><td>1.0</td><td>1.0</td><td>1.0</td><td>1.0</td><td>1.0</td><td>1.0</td><td>null</td><td>null</td><td>null</td><td>1.0</td><td>null</td><td>null</td><td>null</td><td>1.0</td><td>1.0</td><td>1.0</td><td>1.0</td><td>1.0</td><td>1.0</td><td>1.0</td><td>1.0</td><td>1.0</td><td>1.0</td></tr><tr><td>7</td><td>0</td><td>0</td><td>null</td><td>null</td><td>null</td><td>null</td><td>null</td><td>null</td><td>null</td><td>null</td><td>null</td><td>null</td><td>null</td><td>null</td><td>null</td><td>null</td><td>null</td><td>null</td><td>null</td><td>null</td><td>null</td><td>null</td><td>null</td><td>null</td><td>null</td><td>null</td><td>null</td><td>null</td><td>null</td><td>null</td><td>null</td><td>null</td><td>null</td><td>null</td><td>null</td><td>null</td><td>&hellip;</td><td>1.0</td><td>null</td><td>1.0</td><td>null</td><td>null</td><td>null</td><td>null</td><td>null</td><td>null</td><td>null</td><td>null</td><td>null</td><td>null</td><td>null</td><td>null</td><td>1.0</td><td>1.0</td><td>null</td><td>1.0</td><td>1.0</td><td>null</td><td>null</td><td>null</td><td>1.0</td><td>null</td><td>null</td><td>null</td><td>null</td><td>0.0</td><td>0.0</td><td>0.0</td><td>0.0</td><td>0.0</td><td>null</td><td>1.0</td><td>1.0</td><td>1.0</td></tr><tr><td>8</td><td>0</td><td>0</td><td>null</td><td>null</td><td>null</td><td>null</td><td>null</td><td>null</td><td>null</td><td>null</td><td>null</td><td>null</td><td>null</td><td>null</td><td>null</td><td>null</td><td>null</td><td>null</td><td>null</td><td>null</td><td>null</td><td>null</td><td>null</td><td>null</td><td>null</td><td>null</td><td>null</td><td>null</td><td>null</td><td>null</td><td>null</td><td>null</td><td>null</td><td>null</td><td>null</td><td>null</td><td>&hellip;</td><td>1.0</td><td>null</td><td>1.0</td><td>null</td><td>null</td><td>null</td><td>null</td><td>null</td><td>null</td><td>null</td><td>null</td><td>null</td><td>null</td><td>null</td><td>null</td><td>1.0</td><td>1.0</td><td>null</td><td>1.0</td><td>1.0</td><td>null</td><td>null</td><td>null</td><td>1.0</td><td>null</td><td>null</td><td>null</td><td>null</td><td>1.0</td><td>1.0</td><td>1.0</td><td>1.0</td><td>1.0</td><td>null</td><td>1.0</td><td>1.0</td><td>1.0</td></tr><tr><td>9</td><td>0</td><td>0</td><td>null</td><td>null</td><td>null</td><td>null</td><td>null</td><td>null</td><td>null</td><td>null</td><td>null</td><td>null</td><td>null</td><td>null</td><td>null</td><td>null</td><td>null</td><td>null</td><td>null</td><td>null</td><td>null</td><td>null</td><td>null</td><td>null</td><td>null</td><td>null</td><td>null</td><td>null</td><td>null</td><td>null</td><td>null</td><td>null</td><td>null</td><td>null</td><td>null</td><td>null</td><td>&hellip;</td><td>1.0</td><td>null</td><td>1.0</td><td>null</td><td>null</td><td>null</td><td>null</td><td>null</td><td>null</td><td>null</td><td>null</td><td>null</td><td>null</td><td>null</td><td>null</td><td>1.0</td><td>1.0</td><td>null</td><td>1.0</td><td>1.0</td><td>null</td><td>null</td><td>null</td><td>1.0</td><td>null</td><td>null</td><td>null</td><td>null</td><td>1.0</td><td>1.0</td><td>1.0</td><td>1.0</td><td>1.0</td><td>null</td><td>1.0</td><td>1.0</td><td>1.0</td></tr><tr><td>10</td><td>0</td><td>0</td><td>null</td><td>null</td><td>null</td><td>null</td><td>null</td><td>null</td><td>null</td><td>null</td><td>null</td><td>null</td><td>null</td><td>null</td><td>null</td><td>null</td><td>null</td><td>null</td><td>null</td><td>null</td><td>null</td><td>null</td><td>null</td><td>null</td><td>null</td><td>null</td><td>null</td><td>null</td><td>null</td><td>null</td><td>null</td><td>null</td><td>null</td><td>null</td><td>null</td><td>null</td><td>&hellip;</td><td>1.0</td><td>null</td><td>1.0</td><td>null</td><td>null</td><td>null</td><td>null</td><td>null</td><td>1.0</td><td>null</td><td>null</td><td>null</td><td>null</td><td>null</td><td>0.0</td><td>1.0</td><td>1.0</td><td>0.0</td><td>1.0</td><td>0.0</td><td>null</td><td>null</td><td>1.0</td><td>1.0</td><td>null</td><td>null</td><td>null</td><td>0.0</td><td>1.0</td><td>1.0</td><td>1.0</td><td>1.0</td><td>1.0</td><td>0.0</td><td>1.0</td><td>1.0</td><td>1.0</td></tr><tr><td>11</td><td>0</td><td>0</td><td>null</td><td>null</td><td>null</td><td>null</td><td>null</td><td>null</td><td>null</td><td>null</td><td>null</td><td>null</td><td>null</td><td>null</td><td>null</td><td>null</td><td>null</td><td>null</td><td>null</td><td>null</td><td>null</td><td>null</td><td>null</td><td>null</td><td>null</td><td>null</td><td>null</td><td>null</td><td>null</td><td>null</td><td>null</td><td>null</td><td>null</td><td>null</td><td>null</td><td>null</td><td>&hellip;</td><td>null</td><td>null</td><td>null</td><td>null</td><td>null</td><td>null</td><td>null</td><td>null</td><td>null</td><td>null</td><td>null</td><td>null</td><td>null</td><td>null</td><td>null</td><td>1.0</td><td>null</td><td>null</td><td>0.0</td><td>1.0</td><td>null</td><td>null</td><td>null</td><td>1.0</td><td>null</td><td>null</td><td>null</td><td>null</td><td>1.0</td><td>1.0</td><td>null</td><td>1.0</td><td>1.0</td><td>null</td><td>1.0</td><td>1.0</td><td>null</td></tr><tr><td>&hellip;</td><td>&hellip;</td><td>&hellip;</td><td>&hellip;</td><td>&hellip;</td><td>&hellip;</td><td>&hellip;</td><td>&hellip;</td><td>&hellip;</td><td>&hellip;</td><td>&hellip;</td><td>&hellip;</td><td>&hellip;</td><td>&hellip;</td><td>&hellip;</td><td>&hellip;</td><td>&hellip;</td><td>&hellip;</td><td>&hellip;</td><td>&hellip;</td><td>&hellip;</td><td>&hellip;</td><td>&hellip;</td><td>&hellip;</td><td>&hellip;</td><td>&hellip;</td><td>&hellip;</td><td>&hellip;</td><td>&hellip;</td><td>&hellip;</td><td>&hellip;</td><td>&hellip;</td><td>&hellip;</td><td>&hellip;</td><td>&hellip;</td><td>&hellip;</td><td>&hellip;</td><td>&hellip;</td><td>&hellip;</td><td>&hellip;</td><td>&hellip;</td><td>&hellip;</td><td>&hellip;</td><td>&hellip;</td><td>&hellip;</td><td>&hellip;</td><td>&hellip;</td><td>&hellip;</td><td>&hellip;</td><td>&hellip;</td><td>&hellip;</td><td>&hellip;</td><td>&hellip;</td><td>&hellip;</td><td>&hellip;</td><td>&hellip;</td><td>&hellip;</td><td>&hellip;</td><td>&hellip;</td><td>&hellip;</td><td>&hellip;</td><td>&hellip;</td><td>&hellip;</td><td>&hellip;</td><td>&hellip;</td><td>&hellip;</td><td>&hellip;</td><td>&hellip;</td><td>&hellip;</td><td>&hellip;</td><td>&hellip;</td><td>&hellip;</td><td>&hellip;</td><td>&hellip;</td><td>&hellip;</td></tr><tr><td>2703442</td><td>91</td><td>0</td><td>null</td><td>null</td><td>null</td><td>447606.65625</td><td>-6820</td><td>0.0</td><td>0.0</td><td>0.0</td><td>1.0</td><td>0.0</td><td>&quot;2fc785b2&quot;</td><td>&quot;6b2ae0fa&quot;</td><td>&quot;a55475b1&quot;</td><td>3.0</td><td>6.0</td><td>&quot;3439d993&quot;</td><td>&quot;a55475b1&quot;</td><td>null</td><td>null</td><td>null</td><td>null</td><td>null</td><td>null</td><td>&quot;__UNKNOWN__&quot;</td><td>null</td><td>null</td><td>18554</td><td>&quot;__UNKNOWN__&quot;</td><td>1.0</td><td>8.0</td><td>null</td><td>null</td><td>null</td><td>null</td><td>&hellip;</td><td>0.0</td><td>null</td><td>0.0</td><td>1.0</td><td>null</td><td>null</td><td>null</td><td>1.0</td><td>0.0</td><td>null</td><td>null</td><td>1.0</td><td>1.0</td><td>1.0</td><td>1.0</td><td>1.0</td><td>0.0</td><td>1.0</td><td>1.0</td><td>1.0</td><td>1.0</td><td>null</td><td>1.0</td><td>1.0</td><td>1.0</td><td>1.0</td><td>null</td><td>1.0</td><td>1.0</td><td>1.0</td><td>0.0</td><td>1.0</td><td>1.0</td><td>1.0</td><td>1.0</td><td>1.0</td><td>0.0</td></tr><tr><td>2703443</td><td>91</td><td>0</td><td>null</td><td>null</td><td>null</td><td>2.263403e6</td><td>-365</td><td>2.0</td><td>2.0</td><td>1.0</td><td>7.0</td><td>2.0</td><td>&quot;2fc785b2&quot;</td><td>&quot;717ddd49&quot;</td><td>&quot;a55475b1&quot;</td><td>2.0</td><td>5.0</td><td>&quot;3439d993&quot;</td><td>&quot;a55475b1&quot;</td><td>null</td><td>null</td><td>null</td><td>null</td><td>null</td><td>null</td><td>&quot;__UNKNOWN__&quot;</td><td>null</td><td>null</td><td>18543</td><td>&quot;__UNKNOWN__&quot;</td><td>2.0</td><td>3.0</td><td>null</td><td>null</td><td>null</td><td>null</td><td>&hellip;</td><td>1.0</td><td>null</td><td>1.0</td><td>1.0</td><td>null</td><td>null</td><td>null</td><td>1.0</td><td>1.0</td><td>null</td><td>null</td><td>1.0</td><td>1.0</td><td>1.0</td><td>1.0</td><td>1.0</td><td>1.0</td><td>1.0</td><td>1.0</td><td>1.0</td><td>1.0</td><td>null</td><td>1.0</td><td>1.0</td><td>1.0</td><td>1.0</td><td>null</td><td>1.0</td><td>1.0</td><td>1.0</td><td>1.0</td><td>1.0</td><td>1.0</td><td>1.0</td><td>1.0</td><td>1.0</td><td>1.0</td></tr><tr><td>2703445</td><td>91</td><td>0</td><td>null</td><td>null</td><td>null</td><td>null</td><td>-153</td><td>1.0</td><td>1.0</td><td>0.0</td><td>2.0</td><td>1.0</td><td>&quot;2fc785b2&quot;</td><td>&quot;6b2ae0fa&quot;</td><td>&quot;a55475b1&quot;</td><td>1.0</td><td>3.0</td><td>&quot;3439d993&quot;</td><td>&quot;a55475b1&quot;</td><td>null</td><td>null</td><td>null</td><td>null</td><td>null</td><td>null</td><td>&quot;__UNKNOWN__&quot;</td><td>null</td><td>null</td><td>18554</td><td>&quot;__UNKNOWN__&quot;</td><td>1.0</td><td>4.0</td><td>null</td><td>null</td><td>null</td><td>null</td><td>&hellip;</td><td>1.0</td><td>null</td><td>1.0</td><td>1.0</td><td>null</td><td>null</td><td>null</td><td>1.0</td><td>1.0</td><td>null</td><td>null</td><td>1.0</td><td>1.0</td><td>1.0</td><td>1.0</td><td>1.0</td><td>1.0</td><td>1.0</td><td>1.0</td><td>1.0</td><td>1.0</td><td>null</td><td>1.0</td><td>1.0</td><td>1.0</td><td>1.0</td><td>null</td><td>1.0</td><td>1.0</td><td>1.0</td><td>1.0</td><td>1.0</td><td>1.0</td><td>1.0</td><td>1.0</td><td>1.0</td><td>1.0</td></tr><tr><td>2703446</td><td>91</td><td>0</td><td>null</td><td>null</td><td>null</td><td>313740.25</td><td>-5145</td><td>3.0</td><td>3.0</td><td>1.0</td><td>5.0</td><td>1.0</td><td>&quot;2fc785b2&quot;</td><td>&quot;a55475b1&quot;</td><td>&quot;a55475b1&quot;</td><td>2.0</td><td>3.0</td><td>&quot;a55475b1&quot;</td><td>&quot;a55475b1&quot;</td><td>null</td><td>null</td><td>null</td><td>null</td><td>null</td><td>null</td><td>&quot;__UNKNOWN__&quot;</td><td>null</td><td>null</td><td>18554</td><td>&quot;__UNKNOWN__&quot;</td><td>3.0</td><td>0.0</td><td>null</td><td>null</td><td>null</td><td>null</td><td>&hellip;</td><td>1.0</td><td>null</td><td>1.0</td><td>1.0</td><td>null</td><td>null</td><td>null</td><td>1.0</td><td>1.0</td><td>null</td><td>null</td><td>1.0</td><td>1.0</td><td>1.0</td><td>1.0</td><td>1.0</td><td>1.0</td><td>1.0</td><td>1.0</td><td>1.0</td><td>1.0</td><td>null</td><td>1.0</td><td>1.0</td><td>1.0</td><td>1.0</td><td>null</td><td>1.0</td><td>1.0</td><td>1.0</td><td>1.0</td><td>1.0</td><td>1.0</td><td>1.0</td><td>1.0</td><td>1.0</td><td>1.0</td></tr><tr><td>2703447</td><td>91</td><td>0</td><td>null</td><td>null</td><td>null</td><td>424142.1875</td><td>-8707</td><td>1.0</td><td>1.0</td><td>0.0</td><td>1.0</td><td>1.0</td><td>&quot;2fc785b2&quot;</td><td>&quot;a55475b1&quot;</td><td>&quot;a55475b1&quot;</td><td>1.0</td><td>0.0</td><td>&quot;a55475b1&quot;</td><td>&quot;a55475b1&quot;</td><td>null</td><td>null</td><td>null</td><td>null</td><td>null</td><td>null</td><td>&quot;__UNKNOWN__&quot;</td><td>null</td><td>null</td><td>18553</td><td>&quot;__UNKNOWN__&quot;</td><td>1.0</td><td>1.0</td><td>null</td><td>null</td><td>null</td><td>null</td><td>&hellip;</td><td>1.0</td><td>null</td><td>1.0</td><td>1.0</td><td>null</td><td>null</td><td>null</td><td>1.0</td><td>1.0</td><td>null</td><td>null</td><td>1.0</td><td>1.0</td><td>1.0</td><td>1.0</td><td>1.0</td><td>1.0</td><td>1.0</td><td>1.0</td><td>1.0</td><td>1.0</td><td>null</td><td>1.0</td><td>1.0</td><td>1.0</td><td>1.0</td><td>null</td><td>1.0</td><td>1.0</td><td>1.0</td><td>1.0</td><td>1.0</td><td>1.0</td><td>1.0</td><td>1.0</td><td>1.0</td><td>1.0</td></tr><tr><td>2703448</td><td>91</td><td>0</td><td>null</td><td>null</td><td>null</td><td>0.0</td><td>-1979</td><td>0.0</td><td>0.0</td><td>0.0</td><td>5.0</td><td>0.0</td><td>&quot;2fc785b2&quot;</td><td>&quot;a55475b1&quot;</td><td>&quot;a55475b1&quot;</td><td>8.0</td><td>3.0</td><td>&quot;3439d993&quot;</td><td>&quot;a55475b1&quot;</td><td>null</td><td>null</td><td>null</td><td>null</td><td>null</td><td>null</td><td>&quot;__UNKNOWN__&quot;</td><td>null</td><td>null</td><td>18554</td><td>&quot;__UNKNOWN__&quot;</td><td>1.0</td><td>2.0</td><td>null</td><td>null</td><td>null</td><td>null</td><td>&hellip;</td><td>1.0</td><td>null</td><td>1.0</td><td>1.0</td><td>null</td><td>null</td><td>null</td><td>1.0</td><td>1.0</td><td>null</td><td>null</td><td>1.0</td><td>1.0</td><td>1.0</td><td>1.0</td><td>1.0</td><td>1.0</td><td>1.0</td><td>1.0</td><td>1.0</td><td>1.0</td><td>null</td><td>1.0</td><td>1.0</td><td>1.0</td><td>1.0</td><td>null</td><td>1.0</td><td>1.0</td><td>1.0</td><td>1.0</td><td>1.0</td><td>1.0</td><td>1.0</td><td>1.0</td><td>1.0</td><td>1.0</td></tr><tr><td>2703449</td><td>91</td><td>0</td><td>null</td><td>null</td><td>null</td><td>194907.34375</td><td>5599</td><td>1.0</td><td>1.0</td><td>1.0</td><td>4.0</td><td>1.0</td><td>&quot;2fc785b2&quot;</td><td>&quot;a55475b1&quot;</td><td>&quot;a55475b1&quot;</td><td>3.0</td><td>4.0</td><td>&quot;a55475b1&quot;</td><td>&quot;a55475b1&quot;</td><td>null</td><td>null</td><td>null</td><td>null</td><td>null</td><td>null</td><td>&quot;__UNKNOWN__&quot;</td><td>null</td><td>null</td><td>18554</td><td>&quot;__UNKNOWN__&quot;</td><td>1.0</td><td>2.0</td><td>null</td><td>null</td><td>null</td><td>null</td><td>&hellip;</td><td>1.0</td><td>null</td><td>1.0</td><td>1.0</td><td>null</td><td>null</td><td>null</td><td>1.0</td><td>1.0</td><td>null</td><td>null</td><td>1.0</td><td>1.0</td><td>1.0</td><td>1.0</td><td>1.0</td><td>1.0</td><td>1.0</td><td>1.0</td><td>1.0</td><td>1.0</td><td>null</td><td>1.0</td><td>1.0</td><td>1.0</td><td>1.0</td><td>null</td><td>1.0</td><td>1.0</td><td>1.0</td><td>1.0</td><td>1.0</td><td>0.0</td><td>1.0</td><td>1.0</td><td>1.0</td><td>1.0</td></tr><tr><td>2703450</td><td>91</td><td>0</td><td>null</td><td>null</td><td>null</td><td>52863.589844</td><td>-3653</td><td>0.0</td><td>0.0</td><td>0.0</td><td>0.0</td><td>0.0</td><td>&quot;2fc785b2&quot;</td><td>&quot;a55475b1&quot;</td><td>&quot;a55475b1&quot;</td><td>0.0</td><td>1.0</td><td>&quot;a55475b1&quot;</td><td>&quot;a55475b1&quot;</td><td>null</td><td>null</td><td>null</td><td>null</td><td>null</td><td>null</td><td>&quot;__UNKNOWN__&quot;</td><td>null</td><td>null</td><td>18554</td><td>&quot;__UNKNOWN__&quot;</td><td>1.0</td><td>1.0</td><td>null</td><td>null</td><td>null</td><td>null</td><td>&hellip;</td><td>1.0</td><td>null</td><td>1.0</td><td>1.0</td><td>null</td><td>null</td><td>null</td><td>1.0</td><td>1.0</td><td>null</td><td>null</td><td>1.0</td><td>1.0</td><td>1.0</td><td>1.0</td><td>1.0</td><td>1.0</td><td>1.0</td><td>1.0</td><td>1.0</td><td>1.0</td><td>null</td><td>1.0</td><td>1.0</td><td>1.0</td><td>1.0</td><td>null</td><td>1.0</td><td>1.0</td><td>1.0</td><td>1.0</td><td>1.0</td><td>1.0</td><td>1.0</td><td>1.0</td><td>1.0</td><td>1.0</td></tr><tr><td>2703451</td><td>91</td><td>0</td><td>null</td><td>null</td><td>null</td><td>324608.53125</td><td>-7001</td><td>0.0</td><td>0.0</td><td>0.0</td><td>0.0</td><td>0.0</td><td>&quot;2fc785b2&quot;</td><td>&quot;a55475b1&quot;</td><td>&quot;a55475b1&quot;</td><td>1.0</td><td>0.0</td><td>&quot;a55475b1&quot;</td><td>&quot;a55475b1&quot;</td><td>null</td><td>null</td><td>null</td><td>null</td><td>null</td><td>null</td><td>&quot;__UNKNOWN__&quot;</td><td>null</td><td>null</td><td>18554</td><td>&quot;__UNKNOWN__&quot;</td><td>1.0</td><td>2.0</td><td>null</td><td>null</td><td>null</td><td>null</td><td>&hellip;</td><td>1.0</td><td>null</td><td>1.0</td><td>1.0</td><td>null</td><td>null</td><td>null</td><td>1.0</td><td>0.0</td><td>null</td><td>null</td><td>1.0</td><td>1.0</td><td>1.0</td><td>1.0</td><td>1.0</td><td>1.0</td><td>1.0</td><td>1.0</td><td>1.0</td><td>1.0</td><td>null</td><td>1.0</td><td>1.0</td><td>1.0</td><td>1.0</td><td>null</td><td>1.0</td><td>1.0</td><td>1.0</td><td>1.0</td><td>1.0</td><td>0.0</td><td>1.0</td><td>1.0</td><td>1.0</td><td>1.0</td></tr><tr><td>2703452</td><td>91</td><td>0</td><td>null</td><td>null</td><td>null</td><td>102738.757812</td><td>2769</td><td>2.0</td><td>2.0</td><td>0.0</td><td>3.0</td><td>2.0</td><td>&quot;2fc785b2&quot;</td><td>&quot;a55475b1&quot;</td><td>&quot;a55475b1&quot;</td><td>0.0</td><td>1.0</td><td>&quot;a55475b1&quot;</td><td>&quot;a55475b1&quot;</td><td>null</td><td>null</td><td>null</td><td>null</td><td>null</td><td>null</td><td>&quot;__UNKNOWN__&quot;</td><td>null</td><td>null</td><td>18554</td><td>&quot;__UNKNOWN__&quot;</td><td>0.0</td><td>4.0</td><td>null</td><td>null</td><td>null</td><td>null</td><td>&hellip;</td><td>1.0</td><td>null</td><td>1.0</td><td>1.0</td><td>null</td><td>null</td><td>null</td><td>1.0</td><td>1.0</td><td>null</td><td>null</td><td>1.0</td><td>1.0</td><td>1.0</td><td>1.0</td><td>1.0</td><td>1.0</td><td>1.0</td><td>1.0</td><td>0.0</td><td>1.0</td><td>null</td><td>1.0</td><td>1.0</td><td>1.0</td><td>1.0</td><td>null</td><td>1.0</td><td>1.0</td><td>1.0</td><td>1.0</td><td>1.0</td><td>1.0</td><td>1.0</td><td>1.0</td><td>1.0</td><td>1.0</td></tr><tr><td>2703453</td><td>91</td><td>0</td><td>null</td><td>null</td><td>null</td><td>212683.296875</td><td>-7274</td><td>2.0</td><td>2.0</td><td>1.0</td><td>4.0</td><td>1.0</td><td>&quot;2fc785b2&quot;</td><td>&quot;6b2ae0fa&quot;</td><td>&quot;a55475b1&quot;</td><td>1.0</td><td>3.0</td><td>&quot;3439d993&quot;</td><td>&quot;a55475b1&quot;</td><td>null</td><td>null</td><td>null</td><td>null</td><td>null</td><td>null</td><td>&quot;__UNKNOWN__&quot;</td><td>null</td><td>null</td><td>18552</td><td>&quot;__UNKNOWN__&quot;</td><td>2.0</td><td>1.0</td><td>null</td><td>null</td><td>null</td><td>null</td><td>&hellip;</td><td>0.0</td><td>null</td><td>1.0</td><td>1.0</td><td>null</td><td>null</td><td>null</td><td>1.0</td><td>1.0</td><td>null</td><td>null</td><td>1.0</td><td>0.0</td><td>1.0</td><td>1.0</td><td>1.0</td><td>1.0</td><td>1.0</td><td>1.0</td><td>1.0</td><td>1.0</td><td>null</td><td>1.0</td><td>1.0</td><td>1.0</td><td>1.0</td><td>null</td><td>1.0</td><td>0.0</td><td>1.0</td><td>1.0</td><td>1.0</td><td>1.0</td><td>1.0</td><td>0.0</td><td>1.0</td><td>1.0</td></tr><tr><td>2703454</td><td>91</td><td>0</td><td>null</td><td>null</td><td>null</td><td>42757.890625</td><td>-7945</td><td>1.0</td><td>1.0</td><td>0.0</td><td>1.0</td><td>0.0</td><td>&quot;2fc785b2&quot;</td><td>&quot;a55475b1&quot;</td><td>&quot;a55475b1&quot;</td><td>0.0</td><td>0.0</td><td>&quot;b6cabe76&quot;</td><td>&quot;a55475b1&quot;</td><td>null</td><td>null</td><td>null</td><td>null</td><td>null</td><td>null</td><td>&quot;__UNKNOWN__&quot;</td><td>null</td><td>null</td><td>18554</td><td>&quot;__UNKNOWN__&quot;</td><td>2.0</td><td>1.0</td><td>null</td><td>null</td><td>null</td><td>null</td><td>&hellip;</td><td>1.0</td><td>null</td><td>1.0</td><td>1.0</td><td>null</td><td>null</td><td>null</td><td>0.0</td><td>1.0</td><td>null</td><td>null</td><td>1.0</td><td>1.0</td><td>1.0</td><td>1.0</td><td>1.0</td><td>1.0</td><td>1.0</td><td>1.0</td><td>1.0</td><td>1.0</td><td>null</td><td>0.0</td><td>1.0</td><td>0.0</td><td>1.0</td><td>null</td><td>1.0</td><td>1.0</td><td>1.0</td><td>1.0</td><td>1.0</td><td>0.0</td><td>1.0</td><td>1.0</td><td>1.0</td><td>1.0</td></tr></tbody></table></div>"
      ],
      "text/plain": [
       "shape: (1_526_659, 1_127)\n",
       "┌─────────┬──────────┬────────┬────────────┬───┬────────────┬────────────┬────────────┬────────────┐\n",
       "│ case_id ┆ WEEK_NUM ┆ target ┆ assignment ┆ … ┆ clientscnt ┆ clientscnt ┆ clientscnt ┆ clientscnt │\n",
       "│ ---     ┆ ---      ┆ ---    ┆ date_238D  ┆   ┆ _157L_open ┆ _157L_clie ┆ _157L_posf ┆ _157L_posf │\n",
       "│ i32     ┆ i8       ┆ i8     ┆ ---        ┆   ┆ cred_647L_ ┆ ntscnt_304 ┆ pd10lastmo ┆ stqpd30las │\n",
       "│         ┆          ┆        ┆ i16        ┆   ┆ mi…        ┆ L_…        ┆ nt…        ┆ tm…        │\n",
       "│         ┆          ┆        ┆            ┆   ┆ ---        ┆ ---        ┆ ---        ┆ ---        │\n",
       "│         ┆          ┆        ┆            ┆   ┆ f32        ┆ f32        ┆ f32        ┆ f32        │\n",
       "╞═════════╪══════════╪════════╪════════════╪═══╪════════════╪════════════╪════════════╪════════════╡\n",
       "│ 0       ┆ 0        ┆ 0      ┆ null       ┆ … ┆ null       ┆ 1.0        ┆ 1.0        ┆ null       │\n",
       "│ 1       ┆ 0        ┆ 0      ┆ null       ┆ … ┆ null       ┆ 0.0        ┆ 0.0        ┆ null       │\n",
       "│ 2       ┆ 0        ┆ 0      ┆ null       ┆ … ┆ 1.0        ┆ 1.0        ┆ 1.0        ┆ null       │\n",
       "│ 3       ┆ 0        ┆ 0      ┆ null       ┆ … ┆ 1.0        ┆ 1.0        ┆ 1.0        ┆ null       │\n",
       "│ …       ┆ …        ┆ …      ┆ …          ┆ … ┆ …          ┆ …          ┆ …          ┆ …          │\n",
       "│ 2703451 ┆ 91       ┆ 0      ┆ null       ┆ … ┆ 1.0        ┆ 1.0        ┆ 1.0        ┆ 1.0        │\n",
       "│ 2703452 ┆ 91       ┆ 0      ┆ null       ┆ … ┆ 1.0        ┆ 1.0        ┆ 1.0        ┆ 1.0        │\n",
       "│ 2703453 ┆ 91       ┆ 0      ┆ null       ┆ … ┆ 1.0        ┆ 0.0        ┆ 1.0        ┆ 1.0        │\n",
       "│ 2703454 ┆ 91       ┆ 0      ┆ null       ┆ … ┆ 1.0        ┆ 1.0        ┆ 1.0        ┆ 1.0        │\n",
       "└─────────┴──────────┴────────┴────────────┴───┴────────────┴────────────┴────────────┴────────────┘"
      ]
     },
     "execution_count": 8,
     "metadata": {},
     "output_type": "execute_result"
    }
   ],
   "source": [
    "train_df"
   ]
  },
  {
   "cell_type": "markdown",
   "id": "3e5785ac",
   "metadata": {
    "_kg_hide-input": true,
    "papermill": {
     "duration": 0.016106,
     "end_time": "2024-03-04T20:09:53.188651",
     "exception": false,
     "start_time": "2024-03-04T20:09:53.172545",
     "status": "completed"
    },
    "tags": []
   },
   "source": [
    "# Data visualization"
   ]
  },
  {
   "cell_type": "code",
   "execution_count": 9,
   "id": "444d1ab6",
   "metadata": {
    "execution": {
     "iopub.execute_input": "2024-03-04T20:09:53.224898Z",
     "iopub.status.busy": "2024-03-04T20:09:53.223827Z",
     "iopub.status.idle": "2024-03-04T20:09:53.229230Z",
     "shell.execute_reply": "2024-03-04T20:09:53.228133Z"
    },
    "papermill": {
     "duration": 0.026621,
     "end_time": "2024-03-04T20:09:53.231631",
     "exception": false,
     "start_time": "2024-03-04T20:09:53.205010",
     "status": "completed"
    },
    "tags": []
   },
   "outputs": [],
   "source": [
    "# def bucket_mean_split(x, y, buckets=100):\n",
    "#     x_buckets = []\n",
    "#     y_buckets = []\n",
    "\n",
    "#     x = np.array(x)\n",
    "#     y = np.array(y)\n",
    "#     x_quantiles = [np.quantile(x, i / buckets) for i in range(0, buckets + 1)]\n",
    "#     for i in range(0, buckets):\n",
    "#         filter = (x >= x_quantiles[i]) & (x <= x_quantiles[i + 1])\n",
    "#         x_buckets.append(np.mean(x[filter]))\n",
    "#         y_buckets.append(np.mean(y[filter]))\n",
    "#     return x_buckets, y_buckets"
   ]
  },
  {
   "cell_type": "code",
   "execution_count": 10,
   "id": "11c58c5c",
   "metadata": {
    "execution": {
     "iopub.execute_input": "2024-03-04T20:09:53.267094Z",
     "iopub.status.busy": "2024-03-04T20:09:53.266300Z",
     "iopub.status.idle": "2024-03-04T20:09:53.270960Z",
     "shell.execute_reply": "2024-03-04T20:09:53.270143Z"
    },
    "papermill": {
     "duration": 0.025136,
     "end_time": "2024-03-04T20:09:53.273324",
     "exception": false,
     "start_time": "2024-03-04T20:09:53.248188",
     "status": "completed"
    },
    "tags": []
   },
   "outputs": [],
   "source": [
    "# train[\"target\"].mean()"
   ]
  },
  {
   "cell_type": "code",
   "execution_count": 11,
   "id": "10ef2dd7",
   "metadata": {
    "execution": {
     "iopub.execute_input": "2024-03-04T20:09:53.308504Z",
     "iopub.status.busy": "2024-03-04T20:09:53.307738Z",
     "iopub.status.idle": "2024-03-04T20:09:53.313005Z",
     "shell.execute_reply": "2024-03-04T20:09:53.312019Z"
    },
    "papermill": {
     "duration": 0.025649,
     "end_time": "2024-03-04T20:09:53.315402",
     "exception": false,
     "start_time": "2024-03-04T20:09:53.289753",
     "status": "completed"
    },
    "tags": []
   },
   "outputs": [],
   "source": [
    "# print(\"Mean target={} where actualdpdtolerance_344P != 0\".format(train[\"target\"].filter(train[\"actualdpdtolerance_344P\"] != 0).mean()))\n",
    "# print(\"Mean target={} where actualdpdtolerance_344P == 0\".format(train[\"target\"].filter(train[\"actualdpdtolerance_344P\"] == 0).mean()))\n",
    "# print(\"Mean target={} where actualdpdtolerance_344P is null\".format(train[\"target\"].filter(train[\"actualdpdtolerance_344P\"].is_null()).mean()))"
   ]
  },
  {
   "cell_type": "code",
   "execution_count": 12,
   "id": "afb887f6",
   "metadata": {
    "execution": {
     "iopub.execute_input": "2024-03-04T20:09:53.350355Z",
     "iopub.status.busy": "2024-03-04T20:09:53.349953Z",
     "iopub.status.idle": "2024-03-04T20:09:53.355098Z",
     "shell.execute_reply": "2024-03-04T20:09:53.353852Z"
    },
    "papermill": {
     "duration": 0.025408,
     "end_time": "2024-03-04T20:09:53.357362",
     "exception": false,
     "start_time": "2024-03-04T20:09:53.331954",
     "status": "completed"
    },
    "tags": []
   },
   "outputs": [],
   "source": [
    "# columns = [column for column in train.columns if (train[column].dtype == pl.Float64)]\n",
    "\n",
    "# figure, axis = plt.subplots(len(columns) // 5 + 1, 5, figsize=(15, 30))\n",
    "# for index, column in enumerate(columns):\n",
    "#     current_plot = axis[index // 5, index % 5]\n",
    "#     x = train[column]\n",
    "#     y = train[\"target\"]\n",
    "#     if (x.dtype == pl.String or x.dtype == pl.Boolean):\n",
    "#         continue\n",
    "#     filter = x.is_not_null()\n",
    "#     x = x.filter(filter)\n",
    "#     y = y.filter(filter)\n",
    "#     if (x.is_empty()):\n",
    "#         continue\n",
    "#     x_bucket, y_bucket = bucket_mean_split(x.to_numpy(), y.to_numpy(), buckets=100)\n",
    "#     current_plot.plot(x_bucket, y_bucket)\n",
    "#     current_plot.set_title(column)\n",
    "# plt.show()"
   ]
  },
  {
   "cell_type": "code",
   "execution_count": 13,
   "id": "58929f9b",
   "metadata": {
    "execution": {
     "iopub.execute_input": "2024-03-04T20:09:53.392419Z",
     "iopub.status.busy": "2024-03-04T20:09:53.391968Z",
     "iopub.status.idle": "2024-03-04T20:09:53.396697Z",
     "shell.execute_reply": "2024-03-04T20:09:53.395594Z"
    },
    "papermill": {
     "duration": 0.025259,
     "end_time": "2024-03-04T20:09:53.399131",
     "exception": false,
     "start_time": "2024-03-04T20:09:53.373872",
     "status": "completed"
    },
    "tags": []
   },
   "outputs": [],
   "source": [
    "# features = train_df.columns\n",
    "# features.remove(\"WEEK_NUM\")\n",
    "# features.remove(\"case_id\")\n",
    "# features.remove(\"target\")"
   ]
  },
  {
   "cell_type": "code",
   "execution_count": 14,
   "id": "41666649",
   "metadata": {
    "execution": {
     "iopub.execute_input": "2024-03-04T20:09:53.434526Z",
     "iopub.status.busy": "2024-03-04T20:09:53.434107Z",
     "iopub.status.idle": "2024-03-04T20:09:53.438849Z",
     "shell.execute_reply": "2024-03-04T20:09:53.437769Z"
    },
    "papermill": {
     "duration": 0.025255,
     "end_time": "2024-03-04T20:09:53.441272",
     "exception": false,
     "start_time": "2024-03-04T20:09:53.416017",
     "status": "completed"
    },
    "tags": []
   },
   "outputs": [],
   "source": [
    "# gc.collect()"
   ]
  },
  {
   "cell_type": "markdown",
   "id": "094d6347",
   "metadata": {
    "papermill": {
     "duration": 0.016642,
     "end_time": "2024-03-04T20:09:53.474487",
     "exception": false,
     "start_time": "2024-03-04T20:09:53.457845",
     "status": "completed"
    },
    "tags": []
   },
   "source": [
    "### Feature Importance"
   ]
  },
  {
   "cell_type": "code",
   "execution_count": 15,
   "id": "a70ebafc",
   "metadata": {
    "execution": {
     "iopub.execute_input": "2024-03-04T20:09:53.509481Z",
     "iopub.status.busy": "2024-03-04T20:09:53.508651Z",
     "iopub.status.idle": "2024-03-04T20:09:53.514458Z",
     "shell.execute_reply": "2024-03-04T20:09:53.513426Z"
    },
    "papermill": {
     "duration": 0.026138,
     "end_time": "2024-03-04T20:09:53.516972",
     "exception": false,
     "start_time": "2024-03-04T20:09:53.490834",
     "status": "completed"
    },
    "tags": []
   },
   "outputs": [],
   "source": [
    "# def train_rf(X, Y):    \n",
    "#     params = {\n",
    "#         \"boosting_type\": \"gbdt\",\n",
    "#         \"objective\": \"binary\",\n",
    "#         \"metric\": \"auc\",\n",
    "#         \"max_depth\": 8,\n",
    "#         \"max_bin\": 255,\n",
    "#         \"learning_rate\": 0.05,\n",
    "#         \"n_estimators\": 200,\n",
    "#         \"colsample_bytree\": 0.8, \n",
    "#         \"colsample_bynode\": 0.8,\n",
    "#         \"verbose\": -1,\n",
    "#         \"random_state\": 42,\n",
    "#         \"device\": \"gpu\",\n",
    "#     }\n",
    "    \n",
    "#     model = lgb.LGBMClassifier(**params)\n",
    "    \n",
    "#     model.fit(X.to_pandas(), Y.to_pandas())\n",
    "    \n",
    "#     # Get feature importances\n",
    "#     return pl.DataFrame({\n",
    "#         \"feature\": list(X.columns),\n",
    "#         \"feature_importance\": model.feature_importances_,\n",
    "#         \"train_score\": roc_auc_score(Y.to_pandas(), model.predict(X.to_pandas()))\n",
    "#     })"
   ]
  },
  {
   "cell_type": "code",
   "execution_count": 16,
   "id": "ec473739",
   "metadata": {
    "execution": {
     "iopub.execute_input": "2024-03-04T20:09:53.553551Z",
     "iopub.status.busy": "2024-03-04T20:09:53.552741Z",
     "iopub.status.idle": "2024-03-04T20:09:53.558425Z",
     "shell.execute_reply": "2024-03-04T20:09:53.557136Z"
    },
    "papermill": {
     "duration": 0.027529,
     "end_time": "2024-03-04T20:09:53.561642",
     "exception": false,
     "start_time": "2024-03-04T20:09:53.534113",
     "status": "completed"
    },
    "tags": []
   },
   "outputs": [],
   "source": [
    "# def get_feature_importance(X, Y):\n",
    "#     COUNT_ITER = 50\n",
    "    \n",
    "#     dfs = []\n",
    "#     for i in range(COUNT_ITER):\n",
    "#         gc.collect()\n",
    "        \n",
    "#         start_time = time.time()\n",
    "#         shuffled_Y = Y.clone().sample(fraction=1.0, shuffle=True)\n",
    "#         current_df = train_rf(X, shuffled_Y)\n",
    "#         finish_time = time.time()\n",
    "#         print(f\"Finish iteration: {i + 1}/{COUNT_ITER}, time: {finish_time - start_time}\")\n",
    "#         current_df = current_df.with_columns(pl.lit(i).alias(\"iteration\"))\n",
    "#         dfs.append(current_df)\n",
    "        \n",
    "#     return pl.concat(dfs, rechunk=True), train_rf(X, Y)"
   ]
  },
  {
   "cell_type": "code",
   "execution_count": 17,
   "id": "2f0b6bed",
   "metadata": {
    "execution": {
     "iopub.execute_input": "2024-03-04T20:09:53.598738Z",
     "iopub.status.busy": "2024-03-04T20:09:53.598317Z",
     "iopub.status.idle": "2024-03-04T20:09:53.603467Z",
     "shell.execute_reply": "2024-03-04T20:09:53.602176Z"
    },
    "papermill": {
     "duration": 0.025821,
     "end_time": "2024-03-04T20:09:53.605922",
     "exception": false,
     "start_time": "2024-03-04T20:09:53.580101",
     "status": "completed"
    },
    "tags": []
   },
   "outputs": [],
   "source": [
    "# shuffled_feature_importance_df, feature_importance_df = get_feature_importance(train_df[features], train_df[\"target\"])\n",
    "# shuffled_feature_importance_df.write_csv(\"shuffled_feature_importance_df.csv\", separator=\",\")\n",
    "# feature_importance_df.write_csv(\"feature_importance_df.csv\", separator=\",\")"
   ]
  },
  {
   "cell_type": "code",
   "execution_count": 18,
   "id": "ce772587",
   "metadata": {
    "execution": {
     "iopub.execute_input": "2024-03-04T20:09:53.641999Z",
     "iopub.status.busy": "2024-03-04T20:09:53.641604Z",
     "iopub.status.idle": "2024-03-04T20:09:53.647548Z",
     "shell.execute_reply": "2024-03-04T20:09:53.645755Z"
    },
    "papermill": {
     "duration": 0.027557,
     "end_time": "2024-03-04T20:09:53.650646",
     "exception": false,
     "start_time": "2024-03-04T20:09:53.623089",
     "status": "completed"
    },
    "tags": []
   },
   "outputs": [],
   "source": [
    "# important_features = []\n",
    "# for column in feature_importance_df[\"feature\"]:\n",
    "#     shuffled_feature_importance = shuffled_feature_importance_df.filter(shuffled_feature_importance_df[\"feature\"] == column)[\"feature_importance\"].to_numpy()\n",
    "#     feature_importance = feature_importance_df.filter(feature_importance_df[\"feature\"] == column)[\"feature_importance\"][0]\n",
    "    \n",
    "#     if (np.percentile(shuffled_feature_importance, 90) <= feature_importance):\n",
    "#         important_features.append(column)\n",
    "# print(len(important_features), important_features)"
   ]
  },
  {
   "cell_type": "markdown",
   "id": "d4723c6d",
   "metadata": {
    "papermill": {
     "duration": 0.016081,
     "end_time": "2024-03-04T20:09:53.683424",
     "exception": false,
     "start_time": "2024-03-04T20:09:53.667343",
     "status": "completed"
    },
    "tags": []
   },
   "source": [
    "# Training"
   ]
  },
  {
   "cell_type": "code",
   "execution_count": 19,
   "id": "e22978b7",
   "metadata": {
    "execution": {
     "iopub.execute_input": "2024-03-04T20:09:53.727337Z",
     "iopub.status.busy": "2024-03-04T20:09:53.725747Z",
     "iopub.status.idle": "2024-03-04T20:09:53.733858Z",
     "shell.execute_reply": "2024-03-04T20:09:53.732157Z"
    },
    "papermill": {
     "duration": 0.036871,
     "end_time": "2024-03-04T20:09:53.737274",
     "exception": false,
     "start_time": "2024-03-04T20:09:53.700403",
     "status": "completed"
    },
    "tags": []
   },
   "outputs": [],
   "source": [
    "# class VotingModel(BaseEstimator, RegressorMixin):\n",
    "#     def __init__(self, estimators):\n",
    "#         super().__init__()\n",
    "#         self.estimators = estimators\n",
    "        \n",
    "#     def fit(self, X, y=None):\n",
    "#         return self\n",
    "    \n",
    "#     def predict(self, X):\n",
    "#         y_preds = [estimator.predict(X) for estimator in self.estimators]\n",
    "#         return np.mean(y_preds, axis=0)\n",
    "    \n",
    "#     def predict_proba(self, X):\n",
    "#         y_preds = [estimator.predict_proba(X) for estimator in self.estimators]\n",
    "#         return np.mean(y_preds, axis=0)\n",
    "    \n",
    "#     def get_feature_importance(self):\n",
    "#         feature_importances = np.array([0 for feature in features])\n",
    "\n",
    "#         for model in self.estimators:\n",
    "#             feature_importances += model.feature_importances_\n",
    "\n",
    "#         return feature_importances"
   ]
  },
  {
   "cell_type": "code",
   "execution_count": 20,
   "id": "aae5b7f8",
   "metadata": {
    "execution": {
     "iopub.execute_input": "2024-03-04T20:09:53.780574Z",
     "iopub.status.busy": "2024-03-04T20:09:53.780171Z",
     "iopub.status.idle": "2024-03-04T20:09:53.785463Z",
     "shell.execute_reply": "2024-03-04T20:09:53.784019Z"
    },
    "papermill": {
     "duration": 0.031012,
     "end_time": "2024-03-04T20:09:53.788006",
     "exception": false,
     "start_time": "2024-03-04T20:09:53.756994",
     "status": "completed"
    },
    "tags": []
   },
   "outputs": [],
   "source": [
    "# for column in features:\n",
    "#     if (train_dataset[column].dtype != pl.Categorical) and \\\n",
    "#         (train_dataset[column].dtype != pl.Float64) and \\\n",
    "#         (train_dataset[column].dtype != pl.Float64):\n",
    "#         print(column, train_dataset[column].dtype)"
   ]
  },
  {
   "cell_type": "code",
   "execution_count": 21,
   "id": "a2cce9ab",
   "metadata": {
    "execution": {
     "iopub.execute_input": "2024-03-04T20:09:53.824085Z",
     "iopub.status.busy": "2024-03-04T20:09:53.823649Z",
     "iopub.status.idle": "2024-03-04T20:09:53.829262Z",
     "shell.execute_reply": "2024-03-04T20:09:53.828136Z"
    },
    "papermill": {
     "duration": 0.026633,
     "end_time": "2024-03-04T20:09:53.831657",
     "exception": false,
     "start_time": "2024-03-04T20:09:53.805024",
     "status": "completed"
    },
    "tags": []
   },
   "outputs": [],
   "source": [
    "# def train_lgb_model(X_train, Y_train, X_test, Y_test):\n",
    "#     params = {\n",
    "#         \"boosting_type\": \"gbdt\",\n",
    "#         \"objective\": \"binary\",\n",
    "#         \"metric\": \"auc\",\n",
    "#         \"max_depth\": 8,\n",
    "#         \"max_bin\": 250,\n",
    "#         \"learning_rate\": 0.05,\n",
    "#         \"n_estimators\": 1000,\n",
    "#         \"colsample_bytree\": 0.8, \n",
    "#         \"colsample_bynode\": 0.8,\n",
    "#         \"verbose\": -1,\n",
    "#         \"random_state\": 42,\n",
    "#         \"device\": \"gpu\",\n",
    "#     }\n",
    "    \n",
    "#     model = lgb.LGBMClassifier(**params)\n",
    "    \n",
    "#     model.fit(\n",
    "#         X_train, Y_train,\n",
    "#         eval_set=[(X_test, Y_test)],\n",
    "#         callbacks=[lgb.log_evaluation(100), lgb.early_stopping(100)]\n",
    "#     )\n",
    "        \n",
    "#     return model"
   ]
  },
  {
   "cell_type": "code",
   "execution_count": 22,
   "id": "2286e3b3",
   "metadata": {
    "execution": {
     "iopub.execute_input": "2024-03-04T20:09:53.867062Z",
     "iopub.status.busy": "2024-03-04T20:09:53.866637Z",
     "iopub.status.idle": "2024-03-04T20:09:53.870759Z",
     "shell.execute_reply": "2024-03-04T20:09:53.869840Z"
    },
    "papermill": {
     "duration": 0.024624,
     "end_time": "2024-03-04T20:09:53.872904",
     "exception": false,
     "start_time": "2024-03-04T20:09:53.848280",
     "status": "completed"
    },
    "tags": []
   },
   "outputs": [],
   "source": [
    "# gc.collect()"
   ]
  },
  {
   "cell_type": "code",
   "execution_count": 23,
   "id": "0b7e6df2",
   "metadata": {
    "execution": {
     "iopub.execute_input": "2024-03-04T20:09:53.909028Z",
     "iopub.status.busy": "2024-03-04T20:09:53.908282Z",
     "iopub.status.idle": "2024-03-04T20:09:53.914443Z",
     "shell.execute_reply": "2024-03-04T20:09:53.913363Z"
    },
    "papermill": {
     "duration": 0.027397,
     "end_time": "2024-03-04T20:09:53.916981",
     "exception": false,
     "start_time": "2024-03-04T20:09:53.889584",
     "status": "completed"
    },
    "tags": []
   },
   "outputs": [],
   "source": [
    "# weeks = train_df[\"WEEK_NUM\"]\n",
    "# cv = StratifiedGroupKFold(n_splits=5, shuffle=False)\n",
    "\n",
    "# fitted_models = []\n",
    "\n",
    "# oof_predicted = np.zeros(train_df.shape[0])\n",
    "\n",
    "# for idx_train, idx_test in cv.split(train_df[features], train_df[\"target\"], groups=weeks):        \n",
    "# #     X_train = train_df[features][idx_train].to_pandas()\n",
    "# #     Y_train = train_df[\"target\"][idx_train].to_pandas()\n",
    "    \n",
    "#     X_test = train_df[features][idx_test].to_pandas()\n",
    "#     Y_test = train_df[\"target\"][idx_test].to_pandas()\n",
    "    \n",
    "#     start = time.time()\n",
    "#     params = {\n",
    "#         \"boosting_type\": \"gbdt\",\n",
    "#         \"objective\": \"binary\",\n",
    "#         \"metric\": \"auc\",\n",
    "#         \"max_depth\": 8,\n",
    "#         \"max_bin\": 250,\n",
    "#         \"learning_rate\": 0.05,\n",
    "#         \"n_estimators\": 1000,\n",
    "#         \"colsample_bytree\": 0.8, \n",
    "#         \"colsample_bynode\": 0.8,\n",
    "#         \"verbose\": -1,\n",
    "#         \"random_state\": 42,\n",
    "#         \"device\": \"gpu\",\n",
    "#     }\n",
    "    \n",
    "#     model = lgb.LGBMClassifier(**params)\n",
    "    \n",
    "#     model.fit(\n",
    "#         train_df[features][idx_train].to_pandas(), train_df[\"target\"][idx_train].to_pandas(),\n",
    "#         eval_set=[(X_test, Y_test)],\n",
    "#         callbacks=[lgb.log_evaluation(100), lgb.early_stopping(100)]\n",
    "#     )\n",
    "        \n",
    "\n",
    "# #    model = train_lgb_model(X_train, Y_train, X_test, Y_test)\n",
    "#     finish = time.time()\n",
    "    \n",
    "#     print(\"fit time: {}\".format(finish - start))\n",
    "#     fitted_models.append(model)\n",
    "    \n",
    "#     test_pred = model.predict_proba(X_test)[:, 1]\n",
    "#     oof_predicted[idx_test] = test_pred\n",
    "#     gc.collect()\n",
    "\n",
    "# model = VotingModel(fitted_models)\n",
    "# gc.collect()"
   ]
  },
  {
   "cell_type": "code",
   "execution_count": 24,
   "id": "3f0efa3f",
   "metadata": {
    "execution": {
     "iopub.execute_input": "2024-03-04T20:09:53.952456Z",
     "iopub.status.busy": "2024-03-04T20:09:53.951734Z",
     "iopub.status.idle": "2024-03-04T20:09:53.956670Z",
     "shell.execute_reply": "2024-03-04T20:09:53.955285Z"
    },
    "papermill": {
     "duration": 0.025734,
     "end_time": "2024-03-04T20:09:53.959401",
     "exception": false,
     "start_time": "2024-03-04T20:09:53.933667",
     "status": "completed"
    },
    "tags": []
   },
   "outputs": [],
   "source": [
    "# roc_auc_oof = roc_auc_score(train_df[\"target\"], oof_predicted)\n",
    "# print(\"CV roc_auc_oof: \", roc_auc_oof)"
   ]
  },
  {
   "cell_type": "markdown",
   "id": "1311bc69",
   "metadata": {
    "papermill": {
     "duration": 0.016338,
     "end_time": "2024-03-04T20:09:53.992228",
     "exception": false,
     "start_time": "2024-03-04T20:09:53.975890",
     "status": "completed"
    },
    "tags": []
   },
   "source": [
    "# Predict"
   ]
  },
  {
   "cell_type": "code",
   "execution_count": 25,
   "id": "d50700ee",
   "metadata": {
    "execution": {
     "iopub.execute_input": "2024-03-04T20:09:54.028457Z",
     "iopub.status.busy": "2024-03-04T20:09:54.028039Z",
     "iopub.status.idle": "2024-03-04T20:09:54.032247Z",
     "shell.execute_reply": "2024-03-04T20:09:54.031212Z"
    },
    "papermill": {
     "duration": 0.025449,
     "end_time": "2024-03-04T20:09:54.034675",
     "exception": false,
     "start_time": "2024-03-04T20:09:54.009226",
     "status": "completed"
    },
    "tags": []
   },
   "outputs": [],
   "source": [
    "# del train_df\n",
    "# gc.collect()"
   ]
  },
  {
   "cell_type": "code",
   "execution_count": 26,
   "id": "62b0ffa0",
   "metadata": {
    "execution": {
     "iopub.execute_input": "2024-03-04T20:09:54.070039Z",
     "iopub.status.busy": "2024-03-04T20:09:54.069628Z",
     "iopub.status.idle": "2024-03-04T20:09:54.074394Z",
     "shell.execute_reply": "2024-03-04T20:09:54.073077Z"
    },
    "papermill": {
     "duration": 0.025259,
     "end_time": "2024-03-04T20:09:54.076639",
     "exception": false,
     "start_time": "2024-03-04T20:09:54.051380",
     "status": "completed"
    },
    "tags": []
   },
   "outputs": [],
   "source": [
    "# test_dataset = data_loader.load_test_dataset()\n",
    "# print(\"Test dataset week range: {}-{}\".format(test_dataset.base[\"WEEK_NUM\"].min(), test_dataset.base[\"WEEK_NUM\"].max()))\n",
    "# gc.collect()\n",
    "# test_df = preprocessor.process_test_dataset(test_dataset)\n",
    "# del test_dataset\n",
    "# gc.collect()"
   ]
  },
  {
   "cell_type": "code",
   "execution_count": 27,
   "id": "4ce52b54",
   "metadata": {
    "execution": {
     "iopub.execute_input": "2024-03-04T20:09:54.111446Z",
     "iopub.status.busy": "2024-03-04T20:09:54.111014Z",
     "iopub.status.idle": "2024-03-04T20:09:54.115587Z",
     "shell.execute_reply": "2024-03-04T20:09:54.114402Z"
    },
    "papermill": {
     "duration": 0.024678,
     "end_time": "2024-03-04T20:09:54.117853",
     "exception": false,
     "start_time": "2024-03-04T20:09:54.093175",
     "status": "completed"
    },
    "tags": []
   },
   "outputs": [],
   "source": [
    "# print([name for value, name in reversed(sorted(zip(model.get_feature_importance(), features)))][0:200])"
   ]
  },
  {
   "cell_type": "code",
   "execution_count": null,
   "id": "4c228e35",
   "metadata": {
    "papermill": {
     "duration": 0.016142,
     "end_time": "2024-03-04T20:09:54.150615",
     "exception": false,
     "start_time": "2024-03-04T20:09:54.134473",
     "status": "completed"
    },
    "tags": []
   },
   "outputs": [],
   "source": []
  },
  {
   "cell_type": "code",
   "execution_count": 28,
   "id": "ff4b537b",
   "metadata": {
    "execution": {
     "iopub.execute_input": "2024-03-04T20:09:54.185747Z",
     "iopub.status.busy": "2024-03-04T20:09:54.185330Z",
     "iopub.status.idle": "2024-03-04T20:09:54.189821Z",
     "shell.execute_reply": "2024-03-04T20:09:54.188815Z"
    },
    "papermill": {
     "duration": 0.024907,
     "end_time": "2024-03-04T20:09:54.192255",
     "exception": false,
     "start_time": "2024-03-04T20:09:54.167348",
     "status": "completed"
    },
    "tags": []
   },
   "outputs": [],
   "source": [
    "# CV roc_auc_oof:  0.8353789451006361 without feature selection ~500 features\n",
    "# CV roc_auc_oof:  0.8329322959533371 with feature selection ~200 features"
   ]
  },
  {
   "cell_type": "code",
   "execution_count": null,
   "id": "a72f833f",
   "metadata": {
    "papermill": {
     "duration": 0.016081,
     "end_time": "2024-03-04T20:09:54.225253",
     "exception": false,
     "start_time": "2024-03-04T20:09:54.209172",
     "status": "completed"
    },
    "tags": []
   },
   "outputs": [],
   "source": []
  },
  {
   "cell_type": "code",
   "execution_count": 29,
   "id": "a7777d73",
   "metadata": {
    "execution": {
     "iopub.execute_input": "2024-03-04T20:09:54.259933Z",
     "iopub.status.busy": "2024-03-04T20:09:54.259550Z",
     "iopub.status.idle": "2024-03-04T20:09:54.264335Z",
     "shell.execute_reply": "2024-03-04T20:09:54.263149Z"
    },
    "papermill": {
     "duration": 0.025107,
     "end_time": "2024-03-04T20:09:54.266760",
     "exception": false,
     "start_time": "2024-03-04T20:09:54.241653",
     "status": "completed"
    },
    "tags": []
   },
   "outputs": [],
   "source": [
    "# def gini_stability(dataset, w_fallingrate=88.0, w_resstd=-0.5):\n",
    "#     gini_in_time = dataset\\\n",
    "#         .sort_values(\"WEEK_NUM\")\\\n",
    "#         .groupby(\"WEEK_NUM\")[[\"true\", \"predicted\"]]\\\n",
    "#         .apply(lambda x: 2 * roc_auc_score(x[\"true\"], x[\"predicted\"]) - 1).tolist()\n",
    "    \n",
    "#     x = np.arange(len(gini_in_time))\n",
    "#     y = gini_in_time\n",
    "#     a, b = np.polyfit(x, y, 1)\n",
    "#     y_hat = a * x + b\n",
    "#     residuals = y - y_hat\n",
    "#     res_std = np.std(residuals)\n",
    "#     avg_gini = np.mean(gini_in_time)\n",
    "    \n",
    "#     print(avg_gini, min(0, a), res_std)\n",
    "    \n",
    "#     return avg_gini + w_fallingrate * min(0, a) + w_resstd * res_std"
   ]
  },
  {
   "cell_type": "code",
   "execution_count": 30,
   "id": "9f5e97b9",
   "metadata": {
    "execution": {
     "iopub.execute_input": "2024-03-04T20:09:54.301834Z",
     "iopub.status.busy": "2024-03-04T20:09:54.300902Z",
     "iopub.status.idle": "2024-03-04T20:09:54.305515Z",
     "shell.execute_reply": "2024-03-04T20:09:54.304420Z"
    },
    "papermill": {
     "duration": 0.024565,
     "end_time": "2024-03-04T20:09:54.307816",
     "exception": false,
     "start_time": "2024-03-04T20:09:54.283251",
     "status": "completed"
    },
    "tags": []
   },
   "outputs": [],
   "source": [
    "# # Y_train_predicted = model.predict_proba(train_df[features].to_pandas())\n",
    "# Y_test_predicted = model.predict_proba(test_df[features].to_pandas())"
   ]
  },
  {
   "cell_type": "code",
   "execution_count": 31,
   "id": "c706161e",
   "metadata": {
    "execution": {
     "iopub.execute_input": "2024-03-04T20:09:54.342719Z",
     "iopub.status.busy": "2024-03-04T20:09:54.342323Z",
     "iopub.status.idle": "2024-03-04T20:09:54.346949Z",
     "shell.execute_reply": "2024-03-04T20:09:54.345967Z"
    },
    "papermill": {
     "duration": 0.024881,
     "end_time": "2024-03-04T20:09:54.349209",
     "exception": false,
     "start_time": "2024-03-04T20:09:54.324328",
     "status": "completed"
    },
    "tags": []
   },
   "outputs": [],
   "source": [
    "# result = pd.DataFrame({\n",
    "#     \"WEEK_NUM\": train_df[\"WEEK_NUM\"],\n",
    "#     \"true\": train_df[\"target\"],\n",
    "#     \"predicted\": Y_train_predicted[:, 1],\n",
    "# })\n",
    "\n",
    "# train_result = gini_stability(result)\n",
    "# print(\"train_score: {}\".format(train_result))\n",
    "\n",
    "# if MODE == Mode.Train:\n",
    "#     result = pd.DataFrame({\n",
    "#         \"WEEK_NUM\": test_df[\"WEEK_NUM\"],\n",
    "#         \"true\": test_df[\"target\"],\n",
    "#         \"predicted\": Y_test_predicted[:, 1],\n",
    "#     })\n",
    "\n",
    "#     test_result = gini_stability(result)\n",
    "#     print(\"test_score: {}\".format(test_result))"
   ]
  },
  {
   "cell_type": "code",
   "execution_count": 32,
   "id": "4626b7fa",
   "metadata": {
    "execution": {
     "iopub.execute_input": "2024-03-04T20:09:54.385251Z",
     "iopub.status.busy": "2024-03-04T20:09:54.384798Z",
     "iopub.status.idle": "2024-03-04T20:09:54.389865Z",
     "shell.execute_reply": "2024-03-04T20:09:54.388832Z"
    },
    "papermill": {
     "duration": 0.026514,
     "end_time": "2024-03-04T20:09:54.392225",
     "exception": false,
     "start_time": "2024-03-04T20:09:54.365711",
     "status": "completed"
    },
    "tags": []
   },
   "outputs": [],
   "source": [
    "# Version 1, test_score: 0.583319926590042, public score 0.48\n",
    "# 100 iters\n",
    "\n",
    "# Version 2, test_score: 0.6062624701357268, public score 0.517\n",
    "# 300 iters\n",
    "\n",
    "# Version 3, test_score: ?, public score 0.545\n",
    "# 2000 iters\n",
    "\n",
    "# Version 4, test_score: ?, public score ?\n",
    "# ? iters, Improve aggregate functions for depth_1, depth_2\n"
   ]
  },
  {
   "cell_type": "markdown",
   "id": "f82d976d",
   "metadata": {
    "papermill": {
     "duration": 0.016146,
     "end_time": "2024-03-04T20:09:54.424853",
     "exception": false,
     "start_time": "2024-03-04T20:09:54.408707",
     "status": "completed"
    },
    "tags": []
   },
   "source": [
    "# Submition"
   ]
  },
  {
   "cell_type": "code",
   "execution_count": 33,
   "id": "325adcf5",
   "metadata": {
    "execution": {
     "iopub.execute_input": "2024-03-04T20:09:54.459502Z",
     "iopub.status.busy": "2024-03-04T20:09:54.459110Z",
     "iopub.status.idle": "2024-03-04T20:09:54.464373Z",
     "shell.execute_reply": "2024-03-04T20:09:54.463242Z"
    },
    "papermill": {
     "duration": 0.025393,
     "end_time": "2024-03-04T20:09:54.466753",
     "exception": false,
     "start_time": "2024-03-04T20:09:54.441360",
     "status": "completed"
    },
    "tags": []
   },
   "outputs": [],
   "source": [
    "# case_id = test_df[\"case_id\"]\n",
    "# X = test_df[features].to_pandas()\n",
    "\n",
    "# Y = model.predict_proba(X)\n",
    "\n",
    "# submission = pd.DataFrame({\n",
    "#     \"case_id\": case_id.to_numpy(),\n",
    "#     \"score\": Y[:, 1]\n",
    "# }).set_index('case_id')\n",
    "# submission.to_csv(\"./submission.csv\")"
   ]
  },
  {
   "cell_type": "code",
   "execution_count": null,
   "id": "dc0c20a0",
   "metadata": {
    "papermill": {
     "duration": 0.016755,
     "end_time": "2024-03-04T20:09:54.500680",
     "exception": false,
     "start_time": "2024-03-04T20:09:54.483925",
     "status": "completed"
    },
    "tags": []
   },
   "outputs": [],
   "source": []
  },
  {
   "cell_type": "code",
   "execution_count": null,
   "id": "9ac39669",
   "metadata": {
    "papermill": {
     "duration": 0.016091,
     "end_time": "2024-03-04T20:09:54.533248",
     "exception": false,
     "start_time": "2024-03-04T20:09:54.517157",
     "status": "completed"
    },
    "tags": []
   },
   "outputs": [],
   "source": []
  },
  {
   "cell_type": "code",
   "execution_count": null,
   "id": "64ee3f22",
   "metadata": {
    "papermill": {
     "duration": 0.016048,
     "end_time": "2024-03-04T20:09:54.565744",
     "exception": false,
     "start_time": "2024-03-04T20:09:54.549696",
     "status": "completed"
    },
    "tags": []
   },
   "outputs": [],
   "source": []
  }
 ],
 "metadata": {
  "kaggle": {
   "accelerator": "none",
   "dataSources": [
    {
     "databundleVersionId": 7602123,
     "sourceId": 50160,
     "sourceType": "competition"
    },
    {
     "datasetId": 4496896,
     "sourceId": 7761504,
     "sourceType": "datasetVersion"
    }
   ],
   "dockerImageVersionId": 30635,
   "isGpuEnabled": false,
   "isInternetEnabled": false,
   "language": "python",
   "sourceType": "notebook"
  },
  "kernelspec": {
   "display_name": "Python 3",
   "language": "python",
   "name": "python3"
  },
  "language_info": {
   "codemirror_mode": {
    "name": "ipython",
    "version": 3
   },
   "file_extension": ".py",
   "mimetype": "text/x-python",
   "name": "python",
   "nbconvert_exporter": "python",
   "pygments_lexer": "ipython3",
   "version": "3.10.12"
  },
  "papermill": {
   "default_parameters": {},
   "duration": 280.19189,
   "end_time": "2024-03-04T20:09:57.486039",
   "environment_variables": {},
   "exception": null,
   "input_path": "__notebook__.ipynb",
   "output_path": "__notebook__.ipynb",
   "parameters": {},
   "start_time": "2024-03-04T20:05:17.294149",
   "version": "2.4.0"
  }
 },
 "nbformat": 4,
 "nbformat_minor": 5
}
