{
 "cells": [
  {
   "cell_type": "markdown",
   "id": "98038a87",
   "metadata": {
    "papermill": {
     "duration": 0.018201,
     "end_time": "2024-03-05T10:58:03.209284",
     "exception": false,
     "start_time": "2024-03-05T10:58:03.191083",
     "status": "completed"
    },
    "tags": []
   },
   "source": [
    "# Install packages"
   ]
  },
  {
   "cell_type": "code",
   "execution_count": 1,
   "id": "58510756",
   "metadata": {
    "execution": {
     "iopub.execute_input": "2024-03-05T10:58:03.247584Z",
     "iopub.status.busy": "2024-03-05T10:58:03.247134Z",
     "iopub.status.idle": "2024-03-05T10:58:38.883975Z",
     "shell.execute_reply": "2024-03-05T10:58:38.882442Z"
    },
    "papermill": {
     "duration": 35.659657,
     "end_time": "2024-03-05T10:58:38.886945",
     "exception": false,
     "start_time": "2024-03-05T10:58:03.227288",
     "status": "completed"
    },
    "tags": []
   },
   "outputs": [
    {
     "name": "stdout",
     "output_type": "stream",
     "text": [
      "Processing /kaggle/input/kaggle-home-credit-risk-model-stability-lib/kaggle_home_credit_risk_model_stability-0.3-py3-none-any.whl\r\n",
      "Installing collected packages: kaggle-home-credit-risk-model-stability\r\n",
      "Successfully installed kaggle-home-credit-risk-model-stability-0.3\r\n"
     ]
    }
   ],
   "source": [
    "!pip install /kaggle/input/kaggle-home-credit-risk-model-stability-lib/kaggle_home_credit_risk_model_stability-0.3-py3-none-any.whl --force-reinstall"
   ]
  },
  {
   "cell_type": "markdown",
   "id": "62e98584",
   "metadata": {
    "papermill": {
     "duration": 0.01779,
     "end_time": "2024-03-05T10:58:38.923669",
     "exception": false,
     "start_time": "2024-03-05T10:58:38.905879",
     "status": "completed"
    },
    "tags": []
   },
   "source": [
    "# Import packages"
   ]
  },
  {
   "cell_type": "code",
   "execution_count": 2,
   "id": "5961d1d4",
   "metadata": {
    "execution": {
     "iopub.execute_input": "2024-03-05T10:58:38.963222Z",
     "iopub.status.busy": "2024-03-05T10:58:38.962750Z",
     "iopub.status.idle": "2024-03-05T10:58:43.980062Z",
     "shell.execute_reply": "2024-03-05T10:58:43.979136Z"
    },
    "papermill": {
     "duration": 5.04022,
     "end_time": "2024-03-05T10:58:43.982983",
     "exception": false,
     "start_time": "2024-03-05T10:58:38.942763",
     "status": "completed"
    },
    "tags": []
   },
   "outputs": [],
   "source": [
    "import polars as pl\n",
    "import gc\n",
    "import time\n",
    "import numpy as np\n",
    "import pandas as pd\n",
    "import lightgbm as lgb\n",
    "import seaborn as sns\n",
    "import matplotlib.pyplot as plt\n",
    "import copy\n",
    "import lightgbm as lgb\n",
    "import importlib\n",
    "\n",
    "import kaggle_home_credit_risk_model_stability.libs as hcr\n",
    "from kaggle_home_credit_risk_model_stability.libs.input.dataset import Dataset\n",
    "from kaggle_home_credit_risk_model_stability.libs.input.data_loader import DataLoader\n",
    "from kaggle_home_credit_risk_model_stability.libs.preprocessor.preprocessor import Preprocessor\n",
    "from kaggle_home_credit_risk_model_stability.libs.preprocessor.steps import *\n",
    "from kaggle_home_credit_risk_model_stability.libs.preprocessor.columns_info import ColumnsInfo\n",
    "from kaggle_home_credit_risk_model_stability.libs.feature_description.feature_description import FreatureDescriptionGetter\n",
    "\n",
    "from collections import defaultdict\n",
    "from glob import glob\n",
    "from pathlib import Path\n",
    "from sklearn.model_selection import train_test_split\n",
    "from sklearn.metrics import roc_auc_score\n",
    "from sklearn.model_selection import StratifiedGroupKFold\n",
    "from sklearn.base import BaseEstimator, RegressorMixin\n",
    "from catboost import CatBoostClassifier\n",
    "from enum import Enum"
   ]
  },
  {
   "cell_type": "code",
   "execution_count": null,
   "id": "f48e8048",
   "metadata": {
    "papermill": {
     "duration": 0.01812,
     "end_time": "2024-03-05T10:58:44.019451",
     "exception": false,
     "start_time": "2024-03-05T10:58:44.001331",
     "status": "completed"
    },
    "tags": []
   },
   "outputs": [],
   "source": []
  },
  {
   "cell_type": "code",
   "execution_count": 3,
   "id": "ba46dcad",
   "metadata": {
    "execution": {
     "iopub.execute_input": "2024-03-05T10:58:44.057774Z",
     "iopub.status.busy": "2024-03-05T10:58:44.057384Z",
     "iopub.status.idle": "2024-03-05T10:58:44.065813Z",
     "shell.execute_reply": "2024-03-05T10:58:44.064626Z"
    },
    "papermill": {
     "duration": 0.030604,
     "end_time": "2024-03-05T10:58:44.068150",
     "exception": false,
     "start_time": "2024-03-05T10:58:44.037546",
     "status": "completed"
    },
    "tags": []
   },
   "outputs": [],
   "source": [
    "data_loader = DataLoader()\n",
    "preprocessor = Preprocessor({\n",
    "    \"set_column_info_step\": SetColumnsInfoStep(),\n",
    "    \"set_types\": SetTypesStep(),\n",
    "    \"process_categorical\": ProcessCategoricalStep(),\n",
    "    \"process_person_table\": ProcessPersonTableStep(),\n",
    "    \"one_hot_encoding_for_depth1\": OneHotEncodingForDepth1Step(),\n",
    "    \"pairwise_diff_raw_dates\": PairwiseDateDiffStep(),\n",
    "    \"aggregate_depth_table\": AggregateDepthTableStep(),\n",
    "    \"drop_equal_columns\": DropEqualColumnsStep(),\n",
    "    \"drop_variable_enum_features\": DropVariableEnumFeaturesStep(),\n",
    "    \"drop_almost_null_features_respect_to_target\": DropAlmostNullFeaturesWithRespectToTargetStep(),\n",
    "    \"join_table\": JoinTablesStep(),\n",
    "    **{\n",
    "        f\"create_money_feature_fraction_{base_column}\": CreateMoneyFeatureFractionStep(base_column)\n",
    "        for base_column in [\"credamount_770A\", \"maininc_215A\", \"mainoccupationinc_384A\", \"mean_amount_416A\"]\n",
    "    },\n",
    "    \"generate_mismatch_features\": GenerateMismatchFeaturesStep(), \n",
    "    \"fill_nulls\": FillNullStep(),\n",
    "    \"reduce_memory_usage\": ReduceMemoryUsageStep(),\n",
    "#    \"drop_non_important_features\": DropNonImportantFeaturesStep()\n",
    "#    \"drop_dates_columns\": DropDatesColumnsStep()\n",
    "})\n",
    "columns_info = ColumnsInfo()"
   ]
  },
  {
   "cell_type": "code",
   "execution_count": 4,
   "id": "c8f21948",
   "metadata": {
    "execution": {
     "iopub.execute_input": "2024-03-05T10:58:44.106100Z",
     "iopub.status.busy": "2024-03-05T10:58:44.105678Z",
     "iopub.status.idle": "2024-03-05T10:58:44.110350Z",
     "shell.execute_reply": "2024-03-05T10:58:44.109171Z"
    },
    "papermill": {
     "duration": 0.026842,
     "end_time": "2024-03-05T10:58:44.113197",
     "exception": false,
     "start_time": "2024-03-05T10:58:44.086355",
     "status": "completed"
    },
    "tags": []
   },
   "outputs": [],
   "source": [
    "# train_dataset = data_loader.load_train_dataset()\n",
    "# case_id_set = train_dataset.get_base().filter(train_dataset.get_base()[\"WEEK_NUM\"] < 10)[\"case_id\"]\n",
    "# train_dataset = train_dataset.filter(lambda table: table.filter(pl.col(\"case_id\").is_in(case_id_set)))"
   ]
  },
  {
   "cell_type": "code",
   "execution_count": null,
   "id": "e310e3a4",
   "metadata": {
    "papermill": {
     "duration": 0.018268,
     "end_time": "2024-03-05T10:58:44.150224",
     "exception": false,
     "start_time": "2024-03-05T10:58:44.131956",
     "status": "completed"
    },
    "tags": []
   },
   "outputs": [],
   "source": []
  },
  {
   "cell_type": "code",
   "execution_count": 5,
   "id": "0459e00d",
   "metadata": {
    "execution": {
     "iopub.execute_input": "2024-03-05T10:58:44.188147Z",
     "iopub.status.busy": "2024-03-05T10:58:44.187749Z",
     "iopub.status.idle": "2024-03-05T11:10:16.604972Z",
     "shell.execute_reply": "2024-03-05T11:10:16.603760Z"
    },
    "papermill": {
     "duration": 692.439933,
     "end_time": "2024-03-05T11:10:16.608253",
     "exception": false,
     "start_time": "2024-03-05T10:58:44.168320",
     "status": "completed"
    },
    "tags": []
   },
   "outputs": [
    {
     "name": "stdout",
     "output_type": "stream",
     "text": [
      "Train dataset week range: 0-91\n",
      "Step: set_column_info_step, execution_time: 0.11273813247680664\n",
      "Step: set_types, execution_time: 20.345198154449463\n",
      "Step: process_categorical, execution_time: 26.32682180404663\n",
      "Step: process_person_table, execution_time: 0.39775753021240234\n",
      "Create 232 new columns as one hot encoding\n",
      "Step: one_hot_encoding_for_depth1, execution_time: 21.893271446228027\n",
      "Create 172 new columns as pairwise dates diff\n",
      "Step: pairwise_diff_raw_dates, execution_time: 1.3743491172790527\n",
      "Step: aggregate_depth_table, execution_time: 25.0491464138031\n",
      "Drop 471 columns as copy\n",
      "Step: drop_equal_columns, execution_time: 8.142593383789062\n",
      "Drop 37 columns as variable enum\n",
      "Step: drop_variable_enum_features, execution_time: 1.7854340076446533\n",
      "Drop 494 columns as almost null\n",
      "Step: drop_almost_null_features_respect_to_target, execution_time: 477.90744495391846\n",
      "Step: join_table, execution_time: 14.630722999572754\n",
      "Create 116 new columns as money feature fraction with base 'credamount_770A'\n",
      "Step: create_money_feature_fraction_credamount_770A, execution_time: 1.055412769317627\n",
      "Create 116 new columns as money feature fraction with base 'maininc_215A'\n",
      "Step: create_money_feature_fraction_maininc_215A, execution_time: 6.939710855484009\n",
      "Create 116 new columns as money feature fraction with base 'mainoccupationinc_384A'\n",
      "Step: create_money_feature_fraction_mainoccupationinc_384A, execution_time: 1.7305190563201904\n",
      "Create 116 new columns as money feature fraction with base 'mean_amount_416A'\n",
      "Step: create_money_feature_fraction_mean_amount_416A, execution_time: 7.059700965881348\n",
      "Create 60 new columns as feature mismatch\n",
      "Step: generate_mismatch_features, execution_time: 46.02058458328247\n",
      "Step: fill_nulls, execution_time: 0.13668251037597656\n",
      "Step: reduce_memory_usage, execution_time: 19.38264226913452\n"
     ]
    },
    {
     "data": {
      "text/plain": [
       "0"
      ]
     },
     "execution_count": 5,
     "metadata": {},
     "output_type": "execute_result"
    }
   ],
   "source": [
    "train_dataset = data_loader.load_train_dataset()\n",
    "print(\"Train dataset week range: {}-{}\".format(train_dataset.get_base()[\"WEEK_NUM\"].min(), train_dataset.get_base()[\"WEEK_NUM\"].max()))\n",
    "gc.collect()\n",
    "train_df, columns_info = preprocessor.process_train_dataset(train_dataset, columns_info)\n",
    "del train_dataset\n",
    "\n",
    "gc.collect()"
   ]
  },
  {
   "cell_type": "code",
   "execution_count": 6,
   "id": "d7e44c59",
   "metadata": {
    "execution": {
     "iopub.execute_input": "2024-03-05T11:10:16.652749Z",
     "iopub.status.busy": "2024-03-05T11:10:16.651833Z",
     "iopub.status.idle": "2024-03-05T11:11:08.879905Z",
     "shell.execute_reply": "2024-03-05T11:11:08.878838Z"
    },
    "papermill": {
     "duration": 52.253193,
     "end_time": "2024-03-05T11:11:08.882720",
     "exception": false,
     "start_time": "2024-03-05T11:10:16.629527",
     "status": "completed"
    },
    "tags": []
   },
   "outputs": [],
   "source": [
    "train_df.write_parquet(\"/kaggle/working/train_df.parquet\")"
   ]
  },
  {
   "cell_type": "code",
   "execution_count": 7,
   "id": "522325aa",
   "metadata": {
    "execution": {
     "iopub.execute_input": "2024-03-05T11:11:08.927639Z",
     "iopub.status.busy": "2024-03-05T11:11:08.927211Z",
     "iopub.status.idle": "2024-03-05T11:11:08.934966Z",
     "shell.execute_reply": "2024-03-05T11:11:08.933871Z"
    },
    "papermill": {
     "duration": 0.033316,
     "end_time": "2024-03-05T11:11:08.937715",
     "exception": false,
     "start_time": "2024-03-05T11:11:08.904399",
     "status": "completed"
    },
    "tags": []
   },
   "outputs": [
    {
     "data": {
      "text/plain": [
       "8885.815422058105"
      ]
     },
     "execution_count": 7,
     "metadata": {},
     "output_type": "execute_result"
    }
   ],
   "source": [
    "train_df.estimated_size() / 1024 / 1024"
   ]
  },
  {
   "cell_type": "code",
   "execution_count": 8,
   "id": "d988c683",
   "metadata": {
    "execution": {
     "iopub.execute_input": "2024-03-05T11:11:08.980064Z",
     "iopub.status.busy": "2024-03-05T11:11:08.979619Z",
     "iopub.status.idle": "2024-03-05T11:11:09.040858Z",
     "shell.execute_reply": "2024-03-05T11:11:09.039713Z"
    },
    "papermill": {
     "duration": 0.086288,
     "end_time": "2024-03-05T11:11:09.044359",
     "exception": false,
     "start_time": "2024-03-05T11:11:08.958071",
     "status": "completed"
    },
    "tags": []
   },
   "outputs": [
    {
     "data": {
      "text/html": [
       "<div><style>\n",
       ".dataframe > thead > tr,\n",
       ".dataframe > tbody > tr {\n",
       "  text-align: right;\n",
       "  white-space: pre-wrap;\n",
       "}\n",
       "</style>\n",
       "<small>shape: (1_526_659, 1_441)</small><table border=\"1\" class=\"dataframe\"><thead><tr><th>case_id</th><th>date_decision</th><th>MONTH</th><th>WEEK_NUM</th><th>target</th><th>assignmentdate_238D</th><th>assignmentdate_4527235D</th><th>birthdate_574D</th><th>contractssum_5085716L</th><th>dateofbirth_337D</th><th>days120_123L</th><th>days180_256L</th><th>days30_165L</th><th>days90_310L</th><th>description_5085714M</th><th>education_1103M</th><th>education_88M</th><th>firstquarter_103L</th><th>fourthquarter_440L</th><th>maritalst_385M</th><th>maritalst_893M</th><th>numberofqueries_373L</th><th>pmtaverage_3A</th><th>pmtaverage_4527227A</th><th>pmtcount_4527229L</th><th>pmtcount_693L</th><th>pmtscount_423L</th><th>pmtssum_45A</th><th>requesttype_4525192L</th><th>responsedate_1012D</th><th>responsedate_4527233D</th><th>responsedate_4917613D</th><th>riskassesment_302T</th><th>secondquarter_766L</th><th>thirdquarter_1082L</th><th>assignmentdate_238D_birthdate_574D_diff</th><th>assignmentdate_238D_dateofbirth_337D_diff</th><th>&hellip;</th><th>birthdate_574D_dateofbirth_337D_mismatch</th><th>responsedate_1012D_responsedate_4527233D_mismatch</th><th>clientscnt_304L_opencred_647L_mismatch</th><th>clientscnt_304L_downpmt_116A_mismatch</th><th>clientscnt_304L_posfpd10lastmonth_333P_mismatch</th><th>clientscnt_304L_posfstqpd30lastmonth_3976962P_mismatch</th><th>numinstregularpaid_973L_numinstregularpaidest_4493210L_mismatch</th><th>applicationscnt_629L_clientscnt_157L_mismatch</th><th>applicationscnt_629L_opencred_647L_mismatch</th><th>applicationscnt_629L_clientscnt_304L_mismatch</th><th>applicationscnt_629L_posfpd10lastmonth_333P_mismatch</th><th>applicationscnt_629L_posfstqpd30lastmonth_3976962P_mismatch</th><th>numinstunpaidmax_3546851L_numinstunpaidmaxest_4493212L_mismatch</th><th>numcontrs3months_479L_sellerplacecnt_915L_mismatch</th><th>numinstpaidearly3d_3546850L_numinstpaidearly3dest_4493216L_mismatch</th><th>disbursedcredamount_1113A_inittransactionamount_650A_mismatch</th><th>assignmentdate_4527235D_responsedate_4917613D_mismatch</th><th>assignmentdate_4527235D_responsedate_1012D_mismatch</th><th>pmtcount_4527229L_pmtcount_693L_mismatch</th><th>maxdpdlast12m_727P_maxdpdlast9m_1059P_mismatch</th><th>applicationscnt_464L_opencred_647L_mismatch</th><th>applicationscnt_464L_applicationscnt_629L_mismatch</th><th>downpmt_116A_opencred_647L_mismatch</th><th>downpmt_116A_posfpd10lastmonth_333P_mismatch</th><th>downpmt_116A_posfstqpd30lastmonth_3976962P_mismatch</th><th>sumoutstandtotalest_4493215A_totaldebt_9A_mismatch</th><th>responsedate_4527233D_responsedate_4917613D_mismatch</th><th>posfpd10lastmonth_333P_posfstqpd30lastmonth_3976962P_mismatch</th><th>numinstpaid_4499208L_numinstregularpaid_973L_mismatch</th><th>numinstpaid_4499208L_numinstregularpaidest_4493210L_mismatch</th><th>pmtaverage_3A_pmtaverage_4527227A_mismatch</th><th>mindbddpdlast24m_3658935P_mindbdtollast24m_4525191P_mismatch</th><th>inittransactionamount_650A_price_1097A_mismatch</th><th>maxdpdlast3m_392P_maxdpdlast6m_474P_mismatch</th><th>numinsttopaygr_769L_numinsttopaygrest_4493213L_mismatch</th><th>sumoutstandtotal_3546847A_sumoutstandtotalest_4493215A_mismatch</th><th>sumoutstandtotal_3546847A_totaldebt_9A_mismatch</th></tr><tr><td>i32</td><td>i16</td><td>i32</td><td>i8</td><td>i8</td><td>i16</td><td>i16</td><td>i16</td><td>f32</td><td>i16</td><td>f32</td><td>f32</td><td>f32</td><td>f32</td><td>enum</td><td>enum</td><td>enum</td><td>f32</td><td>f32</td><td>enum</td><td>enum</td><td>f32</td><td>f32</td><td>f32</td><td>f32</td><td>f32</td><td>f32</td><td>f32</td><td>enum</td><td>i16</td><td>i16</td><td>i16</td><td>enum</td><td>f32</td><td>f32</td><td>i16</td><td>i32</td><td>&hellip;</td><td>f32</td><td>f32</td><td>f32</td><td>f32</td><td>f32</td><td>f32</td><td>f32</td><td>f32</td><td>f32</td><td>f32</td><td>f32</td><td>f32</td><td>f32</td><td>f32</td><td>f32</td><td>f32</td><td>f32</td><td>f32</td><td>f32</td><td>f32</td><td>f32</td><td>f32</td><td>f32</td><td>f32</td><td>f32</td><td>f32</td><td>f32</td><td>f32</td><td>f32</td><td>f32</td><td>f32</td><td>f32</td><td>f32</td><td>f32</td><td>f32</td><td>f32</td><td>f32</td></tr></thead><tbody><tr><td>0</td><td>17899</td><td>201901</td><td>0</td><td>0</td><td>null</td><td>null</td><td>null</td><td>null</td><td>null</td><td>null</td><td>null</td><td>null</td><td>null</td><td>null</td><td>null</td><td>null</td><td>null</td><td>null</td><td>null</td><td>null</td><td>null</td><td>null</td><td>null</td><td>null</td><td>null</td><td>null</td><td>null</td><td>null</td><td>null</td><td>null</td><td>null</td><td>null</td><td>null</td><td>null</td><td>null</td><td>null</td><td>&hellip;</td><td>null</td><td>null</td><td>null</td><td>1.0</td><td>1.0</td><td>null</td><td>null</td><td>1.0</td><td>null</td><td>1.0</td><td>1.0</td><td>null</td><td>null</td><td>1.0</td><td>null</td><td>null</td><td>null</td><td>null</td><td>null</td><td>1.0</td><td>null</td><td>1.0</td><td>null</td><td>1.0</td><td>null</td><td>null</td><td>null</td><td>null</td><td>null</td><td>null</td><td>null</td><td>null</td><td>null</td><td>1.0</td><td>null</td><td>null</td><td>null</td></tr><tr><td>1</td><td>17899</td><td>201901</td><td>0</td><td>0</td><td>null</td><td>null</td><td>null</td><td>null</td><td>null</td><td>null</td><td>null</td><td>null</td><td>null</td><td>null</td><td>null</td><td>null</td><td>null</td><td>null</td><td>null</td><td>null</td><td>null</td><td>null</td><td>null</td><td>null</td><td>null</td><td>null</td><td>null</td><td>null</td><td>null</td><td>null</td><td>null</td><td>null</td><td>null</td><td>null</td><td>null</td><td>null</td><td>&hellip;</td><td>null</td><td>null</td><td>null</td><td>1.0</td><td>1.0</td><td>null</td><td>null</td><td>0.0</td><td>null</td><td>1.0</td><td>1.0</td><td>null</td><td>null</td><td>1.0</td><td>null</td><td>null</td><td>null</td><td>null</td><td>null</td><td>1.0</td><td>null</td><td>1.0</td><td>null</td><td>1.0</td><td>null</td><td>null</td><td>null</td><td>null</td><td>null</td><td>null</td><td>null</td><td>null</td><td>null</td><td>1.0</td><td>null</td><td>null</td><td>null</td></tr><tr><td>2</td><td>17900</td><td>201901</td><td>0</td><td>0</td><td>null</td><td>null</td><td>null</td><td>null</td><td>null</td><td>null</td><td>null</td><td>null</td><td>null</td><td>null</td><td>null</td><td>null</td><td>null</td><td>null</td><td>null</td><td>null</td><td>null</td><td>null</td><td>null</td><td>null</td><td>null</td><td>null</td><td>null</td><td>null</td><td>null</td><td>null</td><td>null</td><td>null</td><td>null</td><td>null</td><td>null</td><td>null</td><td>&hellip;</td><td>null</td><td>null</td><td>1.0</td><td>1.0</td><td>1.0</td><td>null</td><td>null</td><td>1.0</td><td>1.0</td><td>1.0</td><td>1.0</td><td>null</td><td>null</td><td>1.0</td><td>null</td><td>null</td><td>null</td><td>null</td><td>null</td><td>1.0</td><td>1.0</td><td>1.0</td><td>1.0</td><td>1.0</td><td>null</td><td>null</td><td>null</td><td>null</td><td>null</td><td>null</td><td>null</td><td>null</td><td>null</td><td>1.0</td><td>null</td><td>null</td><td>null</td></tr><tr><td>3</td><td>17899</td><td>201901</td><td>0</td><td>0</td><td>null</td><td>null</td><td>null</td><td>null</td><td>null</td><td>null</td><td>null</td><td>null</td><td>null</td><td>null</td><td>null</td><td>null</td><td>null</td><td>null</td><td>null</td><td>null</td><td>null</td><td>null</td><td>null</td><td>null</td><td>null</td><td>null</td><td>null</td><td>null</td><td>null</td><td>null</td><td>null</td><td>null</td><td>null</td><td>null</td><td>null</td><td>null</td><td>&hellip;</td><td>null</td><td>null</td><td>1.0</td><td>1.0</td><td>1.0</td><td>null</td><td>null</td><td>1.0</td><td>1.0</td><td>1.0</td><td>1.0</td><td>null</td><td>null</td><td>1.0</td><td>null</td><td>null</td><td>null</td><td>null</td><td>null</td><td>1.0</td><td>0.0</td><td>0.0</td><td>1.0</td><td>1.0</td><td>null</td><td>null</td><td>null</td><td>null</td><td>null</td><td>null</td><td>null</td><td>null</td><td>null</td><td>1.0</td><td>null</td><td>null</td><td>null</td></tr><tr><td>4</td><td>17900</td><td>201901</td><td>0</td><td>1</td><td>null</td><td>null</td><td>null</td><td>null</td><td>null</td><td>null</td><td>null</td><td>null</td><td>null</td><td>null</td><td>null</td><td>null</td><td>null</td><td>null</td><td>null</td><td>null</td><td>null</td><td>null</td><td>null</td><td>null</td><td>null</td><td>null</td><td>null</td><td>null</td><td>null</td><td>null</td><td>null</td><td>null</td><td>null</td><td>null</td><td>null</td><td>null</td><td>&hellip;</td><td>null</td><td>null</td><td>1.0</td><td>1.0</td><td>1.0</td><td>null</td><td>null</td><td>1.0</td><td>1.0</td><td>1.0</td><td>1.0</td><td>null</td><td>null</td><td>1.0</td><td>null</td><td>null</td><td>null</td><td>null</td><td>null</td><td>1.0</td><td>1.0</td><td>1.0</td><td>1.0</td><td>1.0</td><td>null</td><td>null</td><td>null</td><td>null</td><td>null</td><td>null</td><td>null</td><td>null</td><td>null</td><td>1.0</td><td>null</td><td>null</td><td>null</td></tr><tr><td>5</td><td>17898</td><td>201901</td><td>0</td><td>0</td><td>null</td><td>null</td><td>null</td><td>null</td><td>null</td><td>null</td><td>null</td><td>null</td><td>null</td><td>null</td><td>null</td><td>null</td><td>null</td><td>null</td><td>null</td><td>null</td><td>null</td><td>null</td><td>null</td><td>null</td><td>null</td><td>null</td><td>null</td><td>null</td><td>null</td><td>null</td><td>null</td><td>null</td><td>null</td><td>null</td><td>null</td><td>null</td><td>&hellip;</td><td>null</td><td>null</td><td>1.0</td><td>1.0</td><td>1.0</td><td>1.0</td><td>null</td><td>0.0</td><td>0.0</td><td>0.0</td><td>0.0</td><td>0.0</td><td>null</td><td>0.0</td><td>null</td><td>1.0</td><td>null</td><td>null</td><td>null</td><td>null</td><td>0.0</td><td>0.0</td><td>1.0</td><td>1.0</td><td>1.0</td><td>null</td><td>null</td><td>1.0</td><td>null</td><td>null</td><td>null</td><td>null</td><td>null</td><td>null</td><td>null</td><td>null</td><td>null</td></tr><tr><td>6</td><td>17899</td><td>201901</td><td>0</td><td>0</td><td>null</td><td>null</td><td>null</td><td>null</td><td>null</td><td>null</td><td>null</td><td>null</td><td>null</td><td>null</td><td>null</td><td>null</td><td>null</td><td>null</td><td>null</td><td>null</td><td>null</td><td>null</td><td>null</td><td>null</td><td>null</td><td>null</td><td>null</td><td>null</td><td>null</td><td>null</td><td>null</td><td>null</td><td>null</td><td>null</td><td>null</td><td>null</td><td>&hellip;</td><td>null</td><td>null</td><td>1.0</td><td>1.0</td><td>1.0</td><td>1.0</td><td>null</td><td>1.0</td><td>1.0</td><td>1.0</td><td>1.0</td><td>1.0</td><td>null</td><td>1.0</td><td>null</td><td>null</td><td>null</td><td>null</td><td>null</td><td>1.0</td><td>1.0</td><td>1.0</td><td>1.0</td><td>1.0</td><td>1.0</td><td>null</td><td>null</td><td>1.0</td><td>null</td><td>null</td><td>null</td><td>null</td><td>null</td><td>1.0</td><td>null</td><td>null</td><td>null</td></tr><tr><td>7</td><td>17899</td><td>201901</td><td>0</td><td>0</td><td>null</td><td>null</td><td>null</td><td>null</td><td>null</td><td>null</td><td>null</td><td>null</td><td>null</td><td>null</td><td>null</td><td>null</td><td>null</td><td>null</td><td>null</td><td>null</td><td>null</td><td>null</td><td>null</td><td>null</td><td>null</td><td>null</td><td>null</td><td>null</td><td>null</td><td>null</td><td>null</td><td>null</td><td>null</td><td>null</td><td>null</td><td>null</td><td>&hellip;</td><td>null</td><td>null</td><td>null</td><td>1.0</td><td>1.0</td><td>1.0</td><td>null</td><td>0.0</td><td>null</td><td>0.0</td><td>0.0</td><td>0.0</td><td>null</td><td>1.0</td><td>null</td><td>1.0</td><td>null</td><td>null</td><td>null</td><td>null</td><td>null</td><td>1.0</td><td>null</td><td>1.0</td><td>1.0</td><td>null</td><td>null</td><td>1.0</td><td>null</td><td>null</td><td>null</td><td>null</td><td>null</td><td>null</td><td>null</td><td>null</td><td>null</td></tr><tr><td>8</td><td>17899</td><td>201901</td><td>0</td><td>0</td><td>null</td><td>null</td><td>null</td><td>null</td><td>null</td><td>null</td><td>null</td><td>null</td><td>null</td><td>null</td><td>null</td><td>null</td><td>null</td><td>null</td><td>null</td><td>null</td><td>null</td><td>null</td><td>null</td><td>null</td><td>null</td><td>null</td><td>null</td><td>null</td><td>null</td><td>null</td><td>null</td><td>null</td><td>null</td><td>null</td><td>null</td><td>null</td><td>&hellip;</td><td>null</td><td>null</td><td>null</td><td>1.0</td><td>1.0</td><td>1.0</td><td>null</td><td>1.0</td><td>null</td><td>1.0</td><td>1.0</td><td>1.0</td><td>null</td><td>1.0</td><td>null</td><td>null</td><td>null</td><td>null</td><td>null</td><td>null</td><td>null</td><td>1.0</td><td>null</td><td>1.0</td><td>1.0</td><td>null</td><td>null</td><td>1.0</td><td>null</td><td>null</td><td>null</td><td>null</td><td>null</td><td>null</td><td>null</td><td>null</td><td>null</td></tr><tr><td>9</td><td>17899</td><td>201901</td><td>0</td><td>0</td><td>null</td><td>null</td><td>null</td><td>null</td><td>null</td><td>null</td><td>null</td><td>null</td><td>null</td><td>null</td><td>null</td><td>null</td><td>null</td><td>null</td><td>null</td><td>null</td><td>null</td><td>null</td><td>null</td><td>null</td><td>null</td><td>null</td><td>null</td><td>null</td><td>null</td><td>null</td><td>null</td><td>null</td><td>null</td><td>null</td><td>null</td><td>null</td><td>&hellip;</td><td>null</td><td>null</td><td>null</td><td>1.0</td><td>1.0</td><td>1.0</td><td>null</td><td>1.0</td><td>null</td><td>1.0</td><td>1.0</td><td>1.0</td><td>null</td><td>1.0</td><td>null</td><td>null</td><td>null</td><td>null</td><td>null</td><td>null</td><td>null</td><td>1.0</td><td>null</td><td>1.0</td><td>1.0</td><td>null</td><td>null</td><td>1.0</td><td>null</td><td>null</td><td>null</td><td>null</td><td>null</td><td>null</td><td>null</td><td>null</td><td>null</td></tr><tr><td>10</td><td>17899</td><td>201901</td><td>0</td><td>0</td><td>null</td><td>null</td><td>null</td><td>null</td><td>null</td><td>null</td><td>null</td><td>null</td><td>null</td><td>null</td><td>null</td><td>null</td><td>null</td><td>null</td><td>null</td><td>null</td><td>null</td><td>null</td><td>null</td><td>null</td><td>null</td><td>null</td><td>null</td><td>null</td><td>null</td><td>null</td><td>null</td><td>null</td><td>null</td><td>null</td><td>null</td><td>null</td><td>&hellip;</td><td>null</td><td>null</td><td>0.0</td><td>1.0</td><td>1.0</td><td>1.0</td><td>null</td><td>1.0</td><td>0.0</td><td>1.0</td><td>1.0</td><td>1.0</td><td>null</td><td>0.0</td><td>null</td><td>null</td><td>null</td><td>null</td><td>null</td><td>1.0</td><td>0.0</td><td>1.0</td><td>0.0</td><td>1.0</td><td>1.0</td><td>null</td><td>null</td><td>1.0</td><td>null</td><td>null</td><td>null</td><td>null</td><td>null</td><td>1.0</td><td>null</td><td>null</td><td>1.0</td></tr><tr><td>11</td><td>17899</td><td>201901</td><td>0</td><td>0</td><td>null</td><td>null</td><td>null</td><td>null</td><td>null</td><td>null</td><td>null</td><td>null</td><td>null</td><td>null</td><td>null</td><td>null</td><td>null</td><td>null</td><td>null</td><td>null</td><td>null</td><td>null</td><td>null</td><td>null</td><td>null</td><td>null</td><td>null</td><td>null</td><td>null</td><td>null</td><td>null</td><td>null</td><td>null</td><td>null</td><td>null</td><td>null</td><td>&hellip;</td><td>null</td><td>null</td><td>null</td><td>1.0</td><td>1.0</td><td>null</td><td>null</td><td>1.0</td><td>null</td><td>1.0</td><td>1.0</td><td>null</td><td>null</td><td>1.0</td><td>null</td><td>null</td><td>null</td><td>null</td><td>null</td><td>null</td><td>null</td><td>0.0</td><td>null</td><td>1.0</td><td>null</td><td>null</td><td>null</td><td>null</td><td>null</td><td>null</td><td>null</td><td>null</td><td>null</td><td>null</td><td>null</td><td>null</td><td>null</td></tr><tr><td>&hellip;</td><td>&hellip;</td><td>&hellip;</td><td>&hellip;</td><td>&hellip;</td><td>&hellip;</td><td>&hellip;</td><td>&hellip;</td><td>&hellip;</td><td>&hellip;</td><td>&hellip;</td><td>&hellip;</td><td>&hellip;</td><td>&hellip;</td><td>&hellip;</td><td>&hellip;</td><td>&hellip;</td><td>&hellip;</td><td>&hellip;</td><td>&hellip;</td><td>&hellip;</td><td>&hellip;</td><td>&hellip;</td><td>&hellip;</td><td>&hellip;</td><td>&hellip;</td><td>&hellip;</td><td>&hellip;</td><td>&hellip;</td><td>&hellip;</td><td>&hellip;</td><td>&hellip;</td><td>&hellip;</td><td>&hellip;</td><td>&hellip;</td><td>&hellip;</td><td>&hellip;</td><td>&hellip;</td><td>&hellip;</td><td>&hellip;</td><td>&hellip;</td><td>&hellip;</td><td>&hellip;</td><td>&hellip;</td><td>&hellip;</td><td>&hellip;</td><td>&hellip;</td><td>&hellip;</td><td>&hellip;</td><td>&hellip;</td><td>&hellip;</td><td>&hellip;</td><td>&hellip;</td><td>&hellip;</td><td>&hellip;</td><td>&hellip;</td><td>&hellip;</td><td>&hellip;</td><td>&hellip;</td><td>&hellip;</td><td>&hellip;</td><td>&hellip;</td><td>&hellip;</td><td>&hellip;</td><td>&hellip;</td><td>&hellip;</td><td>&hellip;</td><td>&hellip;</td><td>&hellip;</td><td>&hellip;</td><td>&hellip;</td><td>&hellip;</td><td>&hellip;</td><td>&hellip;</td><td>&hellip;</td></tr><tr><td>2703442</td><td>18540</td><td>202010</td><td>91</td><td>0</td><td>null</td><td>null</td><td>null</td><td>447606.65625</td><td>-6820</td><td>0.0</td><td>0.0</td><td>0.0</td><td>0.0</td><td>&quot;2fc785b2&quot;</td><td>&quot;6b2ae0fa&quot;</td><td>&quot;a55475b1&quot;</td><td>3.0</td><td>6.0</td><td>&quot;3439d993&quot;</td><td>&quot;a55475b1&quot;</td><td>1.0</td><td>null</td><td>null</td><td>null</td><td>null</td><td>null</td><td>null</td><td>&quot;__UNKNOWN__&quot;</td><td>null</td><td>null</td><td>18554</td><td>&quot;__UNKNOWN__&quot;</td><td>1.0</td><td>8.0</td><td>null</td><td>null</td><td>&hellip;</td><td>null</td><td>null</td><td>1.0</td><td>1.0</td><td>1.0</td><td>0.0</td><td>1.0</td><td>1.0</td><td>1.0</td><td>1.0</td><td>1.0</td><td>0.0</td><td>1.0</td><td>1.0</td><td>1.0</td><td>null</td><td>null</td><td>null</td><td>null</td><td>1.0</td><td>1.0</td><td>1.0</td><td>1.0</td><td>1.0</td><td>0.0</td><td>1.0</td><td>null</td><td>0.0</td><td>1.0</td><td>1.0</td><td>null</td><td>1.0</td><td>null</td><td>0.0</td><td>1.0</td><td>1.0</td><td>1.0</td></tr><tr><td>2703443</td><td>18540</td><td>202010</td><td>91</td><td>0</td><td>null</td><td>null</td><td>null</td><td>2.263403e6</td><td>-365</td><td>2.0</td><td>2.0</td><td>1.0</td><td>2.0</td><td>&quot;2fc785b2&quot;</td><td>&quot;717ddd49&quot;</td><td>&quot;a55475b1&quot;</td><td>2.0</td><td>5.0</td><td>&quot;3439d993&quot;</td><td>&quot;a55475b1&quot;</td><td>7.0</td><td>null</td><td>null</td><td>null</td><td>null</td><td>null</td><td>null</td><td>&quot;__UNKNOWN__&quot;</td><td>null</td><td>null</td><td>18543</td><td>&quot;__UNKNOWN__&quot;</td><td>2.0</td><td>3.0</td><td>null</td><td>null</td><td>&hellip;</td><td>null</td><td>null</td><td>1.0</td><td>1.0</td><td>1.0</td><td>1.0</td><td>1.0</td><td>1.0</td><td>1.0</td><td>1.0</td><td>1.0</td><td>1.0</td><td>1.0</td><td>1.0</td><td>1.0</td><td>null</td><td>null</td><td>null</td><td>null</td><td>0.0</td><td>1.0</td><td>1.0</td><td>1.0</td><td>1.0</td><td>1.0</td><td>1.0</td><td>null</td><td>1.0</td><td>1.0</td><td>1.0</td><td>null</td><td>1.0</td><td>null</td><td>1.0</td><td>1.0</td><td>1.0</td><td>1.0</td></tr><tr><td>2703445</td><td>18540</td><td>202010</td><td>91</td><td>0</td><td>null</td><td>null</td><td>null</td><td>null</td><td>-153</td><td>1.0</td><td>1.0</td><td>0.0</td><td>1.0</td><td>&quot;2fc785b2&quot;</td><td>&quot;6b2ae0fa&quot;</td><td>&quot;a55475b1&quot;</td><td>1.0</td><td>3.0</td><td>&quot;3439d993&quot;</td><td>&quot;a55475b1&quot;</td><td>2.0</td><td>null</td><td>null</td><td>null</td><td>null</td><td>null</td><td>null</td><td>&quot;__UNKNOWN__&quot;</td><td>null</td><td>null</td><td>18554</td><td>&quot;__UNKNOWN__&quot;</td><td>1.0</td><td>4.0</td><td>null</td><td>null</td><td>&hellip;</td><td>null</td><td>null</td><td>1.0</td><td>1.0</td><td>1.0</td><td>1.0</td><td>1.0</td><td>1.0</td><td>1.0</td><td>1.0</td><td>1.0</td><td>1.0</td><td>1.0</td><td>1.0</td><td>1.0</td><td>null</td><td>null</td><td>null</td><td>null</td><td>1.0</td><td>1.0</td><td>1.0</td><td>1.0</td><td>1.0</td><td>1.0</td><td>1.0</td><td>null</td><td>1.0</td><td>1.0</td><td>1.0</td><td>null</td><td>1.0</td><td>null</td><td>1.0</td><td>1.0</td><td>1.0</td><td>1.0</td></tr><tr><td>2703446</td><td>18540</td><td>202010</td><td>91</td><td>0</td><td>null</td><td>null</td><td>null</td><td>313740.25</td><td>-5145</td><td>3.0</td><td>3.0</td><td>1.0</td><td>1.0</td><td>&quot;2fc785b2&quot;</td><td>&quot;a55475b1&quot;</td><td>&quot;a55475b1&quot;</td><td>2.0</td><td>3.0</td><td>&quot;a55475b1&quot;</td><td>&quot;a55475b1&quot;</td><td>5.0</td><td>null</td><td>null</td><td>null</td><td>null</td><td>null</td><td>null</td><td>&quot;__UNKNOWN__&quot;</td><td>null</td><td>null</td><td>18554</td><td>&quot;__UNKNOWN__&quot;</td><td>3.0</td><td>0.0</td><td>null</td><td>null</td><td>&hellip;</td><td>null</td><td>null</td><td>1.0</td><td>1.0</td><td>1.0</td><td>1.0</td><td>1.0</td><td>1.0</td><td>1.0</td><td>1.0</td><td>1.0</td><td>1.0</td><td>1.0</td><td>1.0</td><td>1.0</td><td>null</td><td>null</td><td>null</td><td>null</td><td>1.0</td><td>1.0</td><td>1.0</td><td>1.0</td><td>1.0</td><td>1.0</td><td>1.0</td><td>null</td><td>1.0</td><td>1.0</td><td>1.0</td><td>null</td><td>0.0</td><td>null</td><td>1.0</td><td>1.0</td><td>1.0</td><td>1.0</td></tr><tr><td>2703447</td><td>18540</td><td>202010</td><td>91</td><td>0</td><td>null</td><td>null</td><td>null</td><td>424142.1875</td><td>-8707</td><td>1.0</td><td>1.0</td><td>0.0</td><td>1.0</td><td>&quot;2fc785b2&quot;</td><td>&quot;a55475b1&quot;</td><td>&quot;a55475b1&quot;</td><td>1.0</td><td>0.0</td><td>&quot;a55475b1&quot;</td><td>&quot;a55475b1&quot;</td><td>1.0</td><td>null</td><td>null</td><td>null</td><td>null</td><td>null</td><td>null</td><td>&quot;__UNKNOWN__&quot;</td><td>null</td><td>null</td><td>18553</td><td>&quot;__UNKNOWN__&quot;</td><td>1.0</td><td>1.0</td><td>null</td><td>null</td><td>&hellip;</td><td>null</td><td>null</td><td>1.0</td><td>1.0</td><td>1.0</td><td>1.0</td><td>1.0</td><td>1.0</td><td>1.0</td><td>1.0</td><td>1.0</td><td>1.0</td><td>1.0</td><td>1.0</td><td>1.0</td><td>null</td><td>null</td><td>null</td><td>null</td><td>1.0</td><td>1.0</td><td>1.0</td><td>1.0</td><td>1.0</td><td>1.0</td><td>1.0</td><td>null</td><td>1.0</td><td>1.0</td><td>1.0</td><td>null</td><td>1.0</td><td>null</td><td>1.0</td><td>1.0</td><td>1.0</td><td>1.0</td></tr><tr><td>2703448</td><td>18540</td><td>202010</td><td>91</td><td>0</td><td>null</td><td>null</td><td>null</td><td>0.0</td><td>-1979</td><td>0.0</td><td>0.0</td><td>0.0</td><td>0.0</td><td>&quot;2fc785b2&quot;</td><td>&quot;a55475b1&quot;</td><td>&quot;a55475b1&quot;</td><td>8.0</td><td>3.0</td><td>&quot;3439d993&quot;</td><td>&quot;a55475b1&quot;</td><td>5.0</td><td>null</td><td>null</td><td>null</td><td>null</td><td>null</td><td>null</td><td>&quot;__UNKNOWN__&quot;</td><td>null</td><td>null</td><td>18554</td><td>&quot;__UNKNOWN__&quot;</td><td>1.0</td><td>2.0</td><td>null</td><td>null</td><td>&hellip;</td><td>null</td><td>null</td><td>1.0</td><td>1.0</td><td>1.0</td><td>1.0</td><td>1.0</td><td>1.0</td><td>1.0</td><td>1.0</td><td>1.0</td><td>1.0</td><td>1.0</td><td>1.0</td><td>1.0</td><td>null</td><td>null</td><td>null</td><td>null</td><td>1.0</td><td>1.0</td><td>1.0</td><td>1.0</td><td>1.0</td><td>1.0</td><td>1.0</td><td>null</td><td>1.0</td><td>1.0</td><td>1.0</td><td>null</td><td>1.0</td><td>null</td><td>1.0</td><td>1.0</td><td>1.0</td><td>1.0</td></tr><tr><td>2703449</td><td>18540</td><td>202010</td><td>91</td><td>0</td><td>null</td><td>null</td><td>null</td><td>194907.34375</td><td>5599</td><td>1.0</td><td>1.0</td><td>1.0</td><td>1.0</td><td>&quot;2fc785b2&quot;</td><td>&quot;a55475b1&quot;</td><td>&quot;a55475b1&quot;</td><td>3.0</td><td>4.0</td><td>&quot;a55475b1&quot;</td><td>&quot;a55475b1&quot;</td><td>4.0</td><td>null</td><td>null</td><td>null</td><td>null</td><td>null</td><td>null</td><td>&quot;__UNKNOWN__&quot;</td><td>null</td><td>null</td><td>18554</td><td>&quot;__UNKNOWN__&quot;</td><td>1.0</td><td>2.0</td><td>null</td><td>null</td><td>&hellip;</td><td>null</td><td>null</td><td>1.0</td><td>1.0</td><td>1.0</td><td>1.0</td><td>1.0</td><td>1.0</td><td>1.0</td><td>1.0</td><td>1.0</td><td>1.0</td><td>1.0</td><td>1.0</td><td>1.0</td><td>null</td><td>null</td><td>null</td><td>null</td><td>1.0</td><td>1.0</td><td>1.0</td><td>1.0</td><td>1.0</td><td>1.0</td><td>1.0</td><td>null</td><td>1.0</td><td>1.0</td><td>1.0</td><td>null</td><td>0.0</td><td>null</td><td>1.0</td><td>1.0</td><td>1.0</td><td>1.0</td></tr><tr><td>2703450</td><td>18540</td><td>202010</td><td>91</td><td>0</td><td>null</td><td>null</td><td>null</td><td>52863.589844</td><td>-3653</td><td>0.0</td><td>0.0</td><td>0.0</td><td>0.0</td><td>&quot;2fc785b2&quot;</td><td>&quot;a55475b1&quot;</td><td>&quot;a55475b1&quot;</td><td>0.0</td><td>1.0</td><td>&quot;a55475b1&quot;</td><td>&quot;a55475b1&quot;</td><td>0.0</td><td>null</td><td>null</td><td>null</td><td>null</td><td>null</td><td>null</td><td>&quot;__UNKNOWN__&quot;</td><td>null</td><td>null</td><td>18554</td><td>&quot;__UNKNOWN__&quot;</td><td>1.0</td><td>1.0</td><td>null</td><td>null</td><td>&hellip;</td><td>null</td><td>null</td><td>1.0</td><td>1.0</td><td>1.0</td><td>1.0</td><td>1.0</td><td>1.0</td><td>1.0</td><td>1.0</td><td>1.0</td><td>1.0</td><td>1.0</td><td>1.0</td><td>1.0</td><td>null</td><td>null</td><td>null</td><td>null</td><td>1.0</td><td>1.0</td><td>1.0</td><td>1.0</td><td>1.0</td><td>1.0</td><td>1.0</td><td>null</td><td>1.0</td><td>1.0</td><td>1.0</td><td>null</td><td>1.0</td><td>null</td><td>1.0</td><td>1.0</td><td>1.0</td><td>1.0</td></tr><tr><td>2703451</td><td>18540</td><td>202010</td><td>91</td><td>0</td><td>null</td><td>null</td><td>null</td><td>324608.53125</td><td>-7001</td><td>0.0</td><td>0.0</td><td>0.0</td><td>0.0</td><td>&quot;2fc785b2&quot;</td><td>&quot;a55475b1&quot;</td><td>&quot;a55475b1&quot;</td><td>1.0</td><td>0.0</td><td>&quot;a55475b1&quot;</td><td>&quot;a55475b1&quot;</td><td>0.0</td><td>null</td><td>null</td><td>null</td><td>null</td><td>null</td><td>null</td><td>&quot;__UNKNOWN__&quot;</td><td>null</td><td>null</td><td>18554</td><td>&quot;__UNKNOWN__&quot;</td><td>1.0</td><td>2.0</td><td>null</td><td>null</td><td>&hellip;</td><td>null</td><td>null</td><td>1.0</td><td>1.0</td><td>1.0</td><td>1.0</td><td>1.0</td><td>1.0</td><td>1.0</td><td>1.0</td><td>1.0</td><td>1.0</td><td>1.0</td><td>1.0</td><td>1.0</td><td>null</td><td>null</td><td>null</td><td>null</td><td>1.0</td><td>1.0</td><td>1.0</td><td>1.0</td><td>1.0</td><td>1.0</td><td>1.0</td><td>null</td><td>1.0</td><td>1.0</td><td>1.0</td><td>null</td><td>1.0</td><td>null</td><td>0.0</td><td>1.0</td><td>1.0</td><td>1.0</td></tr><tr><td>2703452</td><td>18540</td><td>202010</td><td>91</td><td>0</td><td>null</td><td>null</td><td>null</td><td>102738.757812</td><td>2769</td><td>2.0</td><td>2.0</td><td>0.0</td><td>2.0</td><td>&quot;2fc785b2&quot;</td><td>&quot;a55475b1&quot;</td><td>&quot;a55475b1&quot;</td><td>0.0</td><td>1.0</td><td>&quot;a55475b1&quot;</td><td>&quot;a55475b1&quot;</td><td>3.0</td><td>null</td><td>null</td><td>null</td><td>null</td><td>null</td><td>null</td><td>&quot;__UNKNOWN__&quot;</td><td>null</td><td>null</td><td>18554</td><td>&quot;__UNKNOWN__&quot;</td><td>0.0</td><td>4.0</td><td>null</td><td>null</td><td>&hellip;</td><td>null</td><td>null</td><td>1.0</td><td>1.0</td><td>1.0</td><td>1.0</td><td>1.0</td><td>1.0</td><td>1.0</td><td>1.0</td><td>1.0</td><td>1.0</td><td>1.0</td><td>0.0</td><td>1.0</td><td>null</td><td>null</td><td>null</td><td>null</td><td>1.0</td><td>1.0</td><td>1.0</td><td>1.0</td><td>1.0</td><td>1.0</td><td>1.0</td><td>null</td><td>1.0</td><td>1.0</td><td>1.0</td><td>null</td><td>0.0</td><td>null</td><td>1.0</td><td>1.0</td><td>1.0</td><td>1.0</td></tr><tr><td>2703453</td><td>18540</td><td>202010</td><td>91</td><td>0</td><td>null</td><td>null</td><td>null</td><td>212683.296875</td><td>-7274</td><td>2.0</td><td>2.0</td><td>1.0</td><td>1.0</td><td>&quot;2fc785b2&quot;</td><td>&quot;6b2ae0fa&quot;</td><td>&quot;a55475b1&quot;</td><td>1.0</td><td>3.0</td><td>&quot;3439d993&quot;</td><td>&quot;a55475b1&quot;</td><td>4.0</td><td>null</td><td>null</td><td>null</td><td>null</td><td>null</td><td>null</td><td>&quot;__UNKNOWN__&quot;</td><td>null</td><td>null</td><td>18552</td><td>&quot;__UNKNOWN__&quot;</td><td>2.0</td><td>1.0</td><td>null</td><td>null</td><td>&hellip;</td><td>null</td><td>null</td><td>0.0</td><td>0.0</td><td>0.0</td><td>0.0</td><td>0.0</td><td>1.0</td><td>1.0</td><td>0.0</td><td>1.0</td><td>1.0</td><td>1.0</td><td>1.0</td><td>0.0</td><td>null</td><td>null</td><td>null</td><td>null</td><td>1.0</td><td>1.0</td><td>1.0</td><td>1.0</td><td>1.0</td><td>1.0</td><td>1.0</td><td>null</td><td>1.0</td><td>0.0</td><td>1.0</td><td>null</td><td>1.0</td><td>null</td><td>1.0</td><td>1.0</td><td>1.0</td><td>1.0</td></tr><tr><td>2703454</td><td>18540</td><td>202010</td><td>91</td><td>0</td><td>null</td><td>null</td><td>null</td><td>42757.890625</td><td>-7945</td><td>1.0</td><td>1.0</td><td>0.0</td><td>0.0</td><td>&quot;2fc785b2&quot;</td><td>&quot;a55475b1&quot;</td><td>&quot;a55475b1&quot;</td><td>0.0</td><td>0.0</td><td>&quot;b6cabe76&quot;</td><td>&quot;a55475b1&quot;</td><td>1.0</td><td>null</td><td>null</td><td>null</td><td>null</td><td>null</td><td>null</td><td>&quot;__UNKNOWN__&quot;</td><td>null</td><td>null</td><td>18554</td><td>&quot;__UNKNOWN__&quot;</td><td>2.0</td><td>1.0</td><td>null</td><td>null</td><td>&hellip;</td><td>null</td><td>null</td><td>1.0</td><td>1.0</td><td>1.0</td><td>1.0</td><td>1.0</td><td>1.0</td><td>1.0</td><td>1.0</td><td>1.0</td><td>1.0</td><td>1.0</td><td>1.0</td><td>1.0</td><td>null</td><td>null</td><td>null</td><td>null</td><td>1.0</td><td>1.0</td><td>1.0</td><td>1.0</td><td>1.0</td><td>1.0</td><td>0.0</td><td>null</td><td>1.0</td><td>1.0</td><td>1.0</td><td>null</td><td>1.0</td><td>null</td><td>1.0</td><td>1.0</td><td>1.0</td><td>0.0</td></tr></tbody></table></div>"
      ],
      "text/plain": [
       "shape: (1_526_659, 1_441)\n",
       "┌─────────┬────────────┬────────┬──────────┬───┬────────────┬────────────┬────────────┬────────────┐\n",
       "│ case_id ┆ date_decis ┆ MONTH  ┆ WEEK_NUM ┆ … ┆ maxdpdlast ┆ numinsttop ┆ sumoutstan ┆ sumoutstan │\n",
       "│ ---     ┆ ion        ┆ ---    ┆ ---      ┆   ┆ 3m_392P_ma ┆ aygr_769L_ ┆ dtotal_354 ┆ dtotal_354 │\n",
       "│ i32     ┆ ---        ┆ i32    ┆ i8       ┆   ┆ xdpdlast6m ┆ numinsttop ┆ 6847A_sumo ┆ 6847A_tota │\n",
       "│         ┆ i16        ┆        ┆          ┆   ┆ _4…        ┆ ay…        ┆ ut…        ┆ ld…        │\n",
       "│         ┆            ┆        ┆          ┆   ┆ ---        ┆ ---        ┆ ---        ┆ ---        │\n",
       "│         ┆            ┆        ┆          ┆   ┆ f32        ┆ f32        ┆ f32        ┆ f32        │\n",
       "╞═════════╪════════════╪════════╪══════════╪═══╪════════════╪════════════╪════════════╪════════════╡\n",
       "│ 0       ┆ 17899      ┆ 201901 ┆ 0        ┆ … ┆ 1.0        ┆ null       ┆ null       ┆ null       │\n",
       "│ 1       ┆ 17899      ┆ 201901 ┆ 0        ┆ … ┆ 1.0        ┆ null       ┆ null       ┆ null       │\n",
       "│ 2       ┆ 17900      ┆ 201901 ┆ 0        ┆ … ┆ 1.0        ┆ null       ┆ null       ┆ null       │\n",
       "│ 3       ┆ 17899      ┆ 201901 ┆ 0        ┆ … ┆ 1.0        ┆ null       ┆ null       ┆ null       │\n",
       "│ …       ┆ …          ┆ …      ┆ …        ┆ … ┆ …          ┆ …          ┆ …          ┆ …          │\n",
       "│ 2703451 ┆ 18540      ┆ 202010 ┆ 91       ┆ … ┆ 0.0        ┆ 1.0        ┆ 1.0        ┆ 1.0        │\n",
       "│ 2703452 ┆ 18540      ┆ 202010 ┆ 91       ┆ … ┆ 1.0        ┆ 1.0        ┆ 1.0        ┆ 1.0        │\n",
       "│ 2703453 ┆ 18540      ┆ 202010 ┆ 91       ┆ … ┆ 1.0        ┆ 1.0        ┆ 1.0        ┆ 1.0        │\n",
       "│ 2703454 ┆ 18540      ┆ 202010 ┆ 91       ┆ … ┆ 1.0        ┆ 1.0        ┆ 1.0        ┆ 0.0        │\n",
       "└─────────┴────────────┴────────┴──────────┴───┴────────────┴────────────┴────────────┴────────────┘"
      ]
     },
     "execution_count": 8,
     "metadata": {},
     "output_type": "execute_result"
    }
   ],
   "source": [
    "train_df"
   ]
  },
  {
   "cell_type": "code",
   "execution_count": null,
   "id": "2aa249d8",
   "metadata": {
    "papermill": {
     "duration": 0.020555,
     "end_time": "2024-03-05T11:11:09.086755",
     "exception": false,
     "start_time": "2024-03-05T11:11:09.066200",
     "status": "completed"
    },
    "tags": []
   },
   "outputs": [],
   "source": []
  },
  {
   "cell_type": "markdown",
   "id": "955b225b",
   "metadata": {
    "_kg_hide-input": true,
    "papermill": {
     "duration": 0.020728,
     "end_time": "2024-03-05T11:11:09.128824",
     "exception": false,
     "start_time": "2024-03-05T11:11:09.108096",
     "status": "completed"
    },
    "tags": []
   },
   "source": [
    "# Data visualization"
   ]
  },
  {
   "cell_type": "code",
   "execution_count": null,
   "id": "ae9ae292",
   "metadata": {
    "papermill": {
     "duration": 0.021115,
     "end_time": "2024-03-05T11:11:09.171115",
     "exception": false,
     "start_time": "2024-03-05T11:11:09.150000",
     "status": "completed"
    },
    "tags": []
   },
   "outputs": [],
   "source": []
  },
  {
   "cell_type": "code",
   "execution_count": 9,
   "id": "76b0c8b8",
   "metadata": {
    "execution": {
     "iopub.execute_input": "2024-03-05T11:11:09.215720Z",
     "iopub.status.busy": "2024-03-05T11:11:09.215331Z",
     "iopub.status.idle": "2024-03-05T11:11:09.220100Z",
     "shell.execute_reply": "2024-03-05T11:11:09.218880Z"
    },
    "papermill": {
     "duration": 0.030025,
     "end_time": "2024-03-05T11:11:09.222374",
     "exception": false,
     "start_time": "2024-03-05T11:11:09.192349",
     "status": "completed"
    },
    "tags": []
   },
   "outputs": [],
   "source": [
    "# train_dataset = data_loader.load_train_dataset()"
   ]
  },
  {
   "cell_type": "code",
   "execution_count": 10,
   "id": "8fdd6974",
   "metadata": {
    "execution": {
     "iopub.execute_input": "2024-03-05T11:11:09.307845Z",
     "iopub.status.busy": "2024-03-05T11:11:09.307422Z",
     "iopub.status.idle": "2024-03-05T11:11:09.312446Z",
     "shell.execute_reply": "2024-03-05T11:11:09.311543Z"
    },
    "papermill": {
     "duration": 0.071298,
     "end_time": "2024-03-05T11:11:09.314732",
     "exception": false,
     "start_time": "2024-03-05T11:11:09.243434",
     "status": "completed"
    },
    "tags": []
   },
   "outputs": [],
   "source": [
    "# [column for column in train_df.columns if \"amtdebitincoming_4809443A\" in column]"
   ]
  },
  {
   "cell_type": "code",
   "execution_count": 11,
   "id": "e7db5132",
   "metadata": {
    "execution": {
     "iopub.execute_input": "2024-03-05T11:11:09.411883Z",
     "iopub.status.busy": "2024-03-05T11:11:09.411208Z",
     "iopub.status.idle": "2024-03-05T11:11:09.417036Z",
     "shell.execute_reply": "2024-03-05T11:11:09.415964Z"
    },
    "papermill": {
     "duration": 0.059305,
     "end_time": "2024-03-05T11:11:09.419332",
     "exception": false,
     "start_time": "2024-03-05T11:11:09.360027",
     "status": "completed"
    },
    "tags": []
   },
   "outputs": [],
   "source": [
    "# train_dataset.get_base()[\"target\"].mean()"
   ]
  },
  {
   "cell_type": "code",
   "execution_count": 12,
   "id": "de55df00",
   "metadata": {
    "execution": {
     "iopub.execute_input": "2024-03-05T11:11:09.505729Z",
     "iopub.status.busy": "2024-03-05T11:11:09.504915Z",
     "iopub.status.idle": "2024-03-05T11:11:09.510244Z",
     "shell.execute_reply": "2024-03-05T11:11:09.509015Z"
    },
    "papermill": {
     "duration": 0.061844,
     "end_time": "2024-03-05T11:11:09.513990",
     "exception": false,
     "start_time": "2024-03-05T11:11:09.452146",
     "status": "completed"
    },
    "tags": []
   },
   "outputs": [],
   "source": [
    "# tables = {name: table for name, table in train_dataset.get_depth_tables(1)}"
   ]
  },
  {
   "cell_type": "code",
   "execution_count": 13,
   "id": "4fcde1d2",
   "metadata": {
    "execution": {
     "iopub.execute_input": "2024-03-05T11:11:09.614324Z",
     "iopub.status.busy": "2024-03-05T11:11:09.612893Z",
     "iopub.status.idle": "2024-03-05T11:11:09.618900Z",
     "shell.execute_reply": "2024-03-05T11:11:09.617716Z"
    },
    "papermill": {
     "duration": 0.066754,
     "end_time": "2024-03-05T11:11:09.622532",
     "exception": false,
     "start_time": "2024-03-05T11:11:09.555778",
     "status": "completed"
    },
    "tags": []
   },
   "outputs": [],
   "source": [
    "# applprev_1 = tables[\"applprev_1\"]"
   ]
  },
  {
   "cell_type": "code",
   "execution_count": 14,
   "id": "95eca643",
   "metadata": {
    "execution": {
     "iopub.execute_input": "2024-03-05T11:11:09.732162Z",
     "iopub.status.busy": "2024-03-05T11:11:09.731478Z",
     "iopub.status.idle": "2024-03-05T11:11:09.737352Z",
     "shell.execute_reply": "2024-03-05T11:11:09.736159Z"
    },
    "papermill": {
     "duration": 0.067561,
     "end_time": "2024-03-05T11:11:09.740863",
     "exception": false,
     "start_time": "2024-03-05T11:11:09.673302",
     "status": "completed"
    },
    "tags": []
   },
   "outputs": [],
   "source": [
    "# joined = applprev_1[\"case_id\"].value_counts().join(train_dataset.get_base()[[\"case_id\", \"target\"]], on=\"case_id\").sort(\"count\")\n",
    "# joined.filter(pl.col(\"target\") == 1)"
   ]
  },
  {
   "cell_type": "code",
   "execution_count": 15,
   "id": "93703260",
   "metadata": {
    "execution": {
     "iopub.execute_input": "2024-03-05T11:11:09.848177Z",
     "iopub.status.busy": "2024-03-05T11:11:09.847345Z",
     "iopub.status.idle": "2024-03-05T11:11:09.852451Z",
     "shell.execute_reply": "2024-03-05T11:11:09.851426Z"
    },
    "papermill": {
     "duration": 0.060878,
     "end_time": "2024-03-05T11:11:09.854832",
     "exception": false,
     "start_time": "2024-03-05T11:11:09.793954",
     "status": "completed"
    },
    "tags": []
   },
   "outputs": [],
   "source": [
    "# base = train_dataset.get_base()"
   ]
  },
  {
   "cell_type": "code",
   "execution_count": 16,
   "id": "32293dba",
   "metadata": {
    "execution": {
     "iopub.execute_input": "2024-03-05T11:11:09.947130Z",
     "iopub.status.busy": "2024-03-05T11:11:09.946329Z",
     "iopub.status.idle": "2024-03-05T11:11:09.951333Z",
     "shell.execute_reply": "2024-03-05T11:11:09.950535Z"
    },
    "papermill": {
     "duration": 0.055706,
     "end_time": "2024-03-05T11:11:09.953728",
     "exception": false,
     "start_time": "2024-03-05T11:11:09.898022",
     "status": "completed"
    },
    "tags": []
   },
   "outputs": [],
   "source": [
    "# base.filter(pl.col(\"case_id\") == 2702490)"
   ]
  },
  {
   "cell_type": "code",
   "execution_count": 17,
   "id": "48ad1987",
   "metadata": {
    "execution": {
     "iopub.execute_input": "2024-03-05T11:11:10.055710Z",
     "iopub.status.busy": "2024-03-05T11:11:10.054852Z",
     "iopub.status.idle": "2024-03-05T11:11:10.059649Z",
     "shell.execute_reply": "2024-03-05T11:11:10.058869Z"
    },
    "papermill": {
     "duration": 0.06499,
     "end_time": "2024-03-05T11:11:10.062313",
     "exception": false,
     "start_time": "2024-03-05T11:11:09.997323",
     "status": "completed"
    },
    "tags": []
   },
   "outputs": [],
   "source": [
    "# applprev_1.filter(applprev_1[\"case_id\"] == 2702490).sort(\"num_group1\")\n",
    "#base.filter(pl.col(\"case_id\") == 176526)"
   ]
  },
  {
   "cell_type": "code",
   "execution_count": 18,
   "id": "bbf7e900",
   "metadata": {
    "execution": {
     "iopub.execute_input": "2024-03-05T11:11:10.109598Z",
     "iopub.status.busy": "2024-03-05T11:11:10.108722Z",
     "iopub.status.idle": "2024-03-05T11:11:10.113776Z",
     "shell.execute_reply": "2024-03-05T11:11:10.113020Z"
    },
    "papermill": {
     "duration": 0.03251,
     "end_time": "2024-03-05T11:11:10.116257",
     "exception": false,
     "start_time": "2024-03-05T11:11:10.083747",
     "status": "completed"
    },
    "tags": []
   },
   "outputs": [],
   "source": [
    "# applprev_1.filter(applprev_1[\"case_id\"] == 2702490).sort(\"num_group1\")[[\"credamount_590A\", \"mainoccupationinc_437A\", \"rejectreason_755M\", \"rejectreasonclient_4145042M\"]]\n"
   ]
  },
  {
   "cell_type": "code",
   "execution_count": 19,
   "id": "360991ba",
   "metadata": {
    "execution": {
     "iopub.execute_input": "2024-03-05T11:11:10.162864Z",
     "iopub.status.busy": "2024-03-05T11:11:10.162406Z",
     "iopub.status.idle": "2024-03-05T11:11:10.166987Z",
     "shell.execute_reply": "2024-03-05T11:11:10.165866Z"
    },
    "papermill": {
     "duration": 0.031239,
     "end_time": "2024-03-05T11:11:10.169324",
     "exception": false,
     "start_time": "2024-03-05T11:11:10.138085",
     "status": "completed"
    },
    "tags": []
   },
   "outputs": [],
   "source": [
    "# applprev_1.filter(applprev_1[\"case_id\"] == 176526).sort(\"num_group1\")[[\"credamount_590A\", \"mainoccupationinc_437A\", \"rejectreason_755M\", \"rejectreasonclient_4145042M\"]]a"
   ]
  },
  {
   "cell_type": "code",
   "execution_count": 20,
   "id": "417dfa6e",
   "metadata": {
    "execution": {
     "iopub.execute_input": "2024-03-05T11:11:10.214122Z",
     "iopub.status.busy": "2024-03-05T11:11:10.212836Z",
     "iopub.status.idle": "2024-03-05T11:11:10.218283Z",
     "shell.execute_reply": "2024-03-05T11:11:10.217399Z"
    },
    "papermill": {
     "duration": 0.030577,
     "end_time": "2024-03-05T11:11:10.220744",
     "exception": false,
     "start_time": "2024-03-05T11:11:10.190167",
     "status": "completed"
    },
    "tags": []
   },
   "outputs": [],
   "source": [
    "# applprev_1.filter(applprev_1[\"case_id\"] == 176526).sort(\"num_group1\")"
   ]
  },
  {
   "cell_type": "code",
   "execution_count": 21,
   "id": "f011cc73",
   "metadata": {
    "execution": {
     "iopub.execute_input": "2024-03-05T11:11:10.264859Z",
     "iopub.status.busy": "2024-03-05T11:11:10.264418Z",
     "iopub.status.idle": "2024-03-05T11:11:10.268970Z",
     "shell.execute_reply": "2024-03-05T11:11:10.267762Z"
    },
    "papermill": {
     "duration": 0.029796,
     "end_time": "2024-03-05T11:11:10.271543",
     "exception": false,
     "start_time": "2024-03-05T11:11:10.241747",
     "status": "completed"
    },
    "tags": []
   },
   "outputs": [],
   "source": [
    "# FreatureDescriptionGetter().get(\"rejectreasonclient_4145042M\")"
   ]
  },
  {
   "cell_type": "code",
   "execution_count": 22,
   "id": "e09c5917",
   "metadata": {
    "execution": {
     "iopub.execute_input": "2024-03-05T11:11:10.317049Z",
     "iopub.status.busy": "2024-03-05T11:11:10.316300Z",
     "iopub.status.idle": "2024-03-05T11:11:10.320853Z",
     "shell.execute_reply": "2024-03-05T11:11:10.319999Z"
    },
    "papermill": {
     "duration": 0.030106,
     "end_time": "2024-03-05T11:11:10.323174",
     "exception": false,
     "start_time": "2024-03-05T11:11:10.293068",
     "status": "completed"
    },
    "tags": []
   },
   "outputs": [],
   "source": [
    "# def bucket_mean_split(x, y, buckets=100):\n",
    "#     x_buckets = []\n",
    "#     y_buckets = []\n",
    "\n",
    "#     x = np.array(x)\n",
    "#     y = np.array(y)\n",
    "#     x_quantiles = [np.quantile(x, i / buckets) for i in range(0, buckets + 1)]\n",
    "#     for i in range(0, buckets):\n",
    "#         filter = (x >= x_quantiles[i]) & (x <= x_quantiles[i + 1])\n",
    "#         x_buckets.append(np.mean(x[filter]))\n",
    "#         y_buckets.append(np.mean(y[filter]))\n",
    "#     return x_buckets, y_buckets"
   ]
  },
  {
   "cell_type": "code",
   "execution_count": 23,
   "id": "f298bf99",
   "metadata": {
    "execution": {
     "iopub.execute_input": "2024-03-05T11:11:10.367923Z",
     "iopub.status.busy": "2024-03-05T11:11:10.367176Z",
     "iopub.status.idle": "2024-03-05T11:11:10.371227Z",
     "shell.execute_reply": "2024-03-05T11:11:10.370387Z"
    },
    "papermill": {
     "duration": 0.0287,
     "end_time": "2024-03-05T11:11:10.373458",
     "exception": false,
     "start_time": "2024-03-05T11:11:10.344758",
     "status": "completed"
    },
    "tags": []
   },
   "outputs": [],
   "source": [
    "# train[\"target\"].mean()"
   ]
  },
  {
   "cell_type": "code",
   "execution_count": 24,
   "id": "909995db",
   "metadata": {
    "execution": {
     "iopub.execute_input": "2024-03-05T11:11:10.417862Z",
     "iopub.status.busy": "2024-03-05T11:11:10.417207Z",
     "iopub.status.idle": "2024-03-05T11:11:10.421611Z",
     "shell.execute_reply": "2024-03-05T11:11:10.420312Z"
    },
    "papermill": {
     "duration": 0.029683,
     "end_time": "2024-03-05T11:11:10.424318",
     "exception": false,
     "start_time": "2024-03-05T11:11:10.394635",
     "status": "completed"
    },
    "tags": []
   },
   "outputs": [],
   "source": [
    "# print(\"Mean target={} where actualdpdtolerance_344P != 0\".format(train[\"target\"].filter(train[\"actualdpdtolerance_344P\"] != 0).mean()))\n",
    "# print(\"Mean target={} where actualdpdtolerance_344P == 0\".format(train[\"target\"].filter(train[\"actualdpdtolerance_344P\"] == 0).mean()))\n",
    "# print(\"Mean target={} where actualdpdtolerance_344P is null\".format(train[\"target\"].filter(train[\"actualdpdtolerance_344P\"].is_null()).mean()))"
   ]
  },
  {
   "cell_type": "code",
   "execution_count": 25,
   "id": "ea5ce5ea",
   "metadata": {
    "execution": {
     "iopub.execute_input": "2024-03-05T11:11:10.468077Z",
     "iopub.status.busy": "2024-03-05T11:11:10.467629Z",
     "iopub.status.idle": "2024-03-05T11:11:10.472691Z",
     "shell.execute_reply": "2024-03-05T11:11:10.471505Z"
    },
    "papermill": {
     "duration": 0.029843,
     "end_time": "2024-03-05T11:11:10.475033",
     "exception": false,
     "start_time": "2024-03-05T11:11:10.445190",
     "status": "completed"
    },
    "tags": []
   },
   "outputs": [],
   "source": [
    "# columns = [column for column in train.columns if (train[column].dtype == pl.Float64)]\n",
    "\n",
    "# figure, axis = plt.subplots(len(columns) // 5 + 1, 5, figsize=(15, 30))\n",
    "# for index, column in enumerate(columns):\n",
    "#     current_plot = axis[index // 5, index % 5]\n",
    "#     x = train[column]\n",
    "#     y = train[\"target\"]\n",
    "#     if (x.dtype == pl.String or x.dtype == pl.Boolean):\n",
    "#         continue\n",
    "#     filter = x.is_not_null()\n",
    "#     x = x.filter(filter)\n",
    "#     y = y.filter(filter)\n",
    "#     if (x.is_empty()):\n",
    "#         continue\n",
    "#     x_bucket, y_bucket = bucket_mean_split(x.to_numpy(), y.to_numpy(), buckets=100)\n",
    "#     current_plot.plot(x_bucket, y_bucket)\n",
    "#     current_plot.set_title(column)\n",
    "# plt.show()"
   ]
  },
  {
   "cell_type": "code",
   "execution_count": 26,
   "id": "4b809cec",
   "metadata": {
    "execution": {
     "iopub.execute_input": "2024-03-05T11:11:10.520048Z",
     "iopub.status.busy": "2024-03-05T11:11:10.519625Z",
     "iopub.status.idle": "2024-03-05T11:11:10.523446Z",
     "shell.execute_reply": "2024-03-05T11:11:10.522597Z"
    },
    "papermill": {
     "duration": 0.029243,
     "end_time": "2024-03-05T11:11:10.525656",
     "exception": false,
     "start_time": "2024-03-05T11:11:10.496413",
     "status": "completed"
    },
    "tags": []
   },
   "outputs": [],
   "source": [
    "# features = train_df.columns\n",
    "# features.remove(\"WEEK_NUM\")\n",
    "# features.remove(\"case_id\")\n",
    "# features.remove(\"target\")"
   ]
  },
  {
   "cell_type": "code",
   "execution_count": 27,
   "id": "be80d90f",
   "metadata": {
    "execution": {
     "iopub.execute_input": "2024-03-05T11:11:10.569654Z",
     "iopub.status.busy": "2024-03-05T11:11:10.568995Z",
     "iopub.status.idle": "2024-03-05T11:11:10.572832Z",
     "shell.execute_reply": "2024-03-05T11:11:10.571975Z"
    },
    "papermill": {
     "duration": 0.028263,
     "end_time": "2024-03-05T11:11:10.574975",
     "exception": false,
     "start_time": "2024-03-05T11:11:10.546712",
     "status": "completed"
    },
    "tags": []
   },
   "outputs": [],
   "source": [
    "# gc.collect()"
   ]
  },
  {
   "cell_type": "markdown",
   "id": "514eab14",
   "metadata": {
    "papermill": {
     "duration": 0.020595,
     "end_time": "2024-03-05T11:11:10.616556",
     "exception": false,
     "start_time": "2024-03-05T11:11:10.595961",
     "status": "completed"
    },
    "tags": []
   },
   "source": [
    "### Feature Importance"
   ]
  },
  {
   "cell_type": "code",
   "execution_count": 28,
   "id": "623bb81c",
   "metadata": {
    "execution": {
     "iopub.execute_input": "2024-03-05T11:11:10.661739Z",
     "iopub.status.busy": "2024-03-05T11:11:10.661116Z",
     "iopub.status.idle": "2024-03-05T11:11:10.665759Z",
     "shell.execute_reply": "2024-03-05T11:11:10.664921Z"
    },
    "papermill": {
     "duration": 0.029573,
     "end_time": "2024-03-05T11:11:10.668095",
     "exception": false,
     "start_time": "2024-03-05T11:11:10.638522",
     "status": "completed"
    },
    "tags": []
   },
   "outputs": [],
   "source": [
    "# def train_rf(X, Y):    \n",
    "#     params = {\n",
    "#         \"boosting_type\": \"gbdt\",\n",
    "#         \"objective\": \"binary\",\n",
    "#         \"metric\": \"auc\",\n",
    "#         \"max_depth\": 8,\n",
    "#         \"max_bin\": 255,\n",
    "#         \"learning_rate\": 0.05,\n",
    "#         \"n_estimators\": 200,\n",
    "#         \"colsample_bytree\": 0.8, \n",
    "#         \"colsample_bynode\": 0.8,\n",
    "#         \"verbose\": -1,\n",
    "#         \"random_state\": 42,\n",
    "#         \"device\": \"gpu\",\n",
    "#     }\n",
    "    \n",
    "#     model = lgb.LGBMClassifier(**params)\n",
    "    \n",
    "#     model.fit(X.to_pandas(), Y.to_pandas())\n",
    "    \n",
    "#     # Get feature importances\n",
    "#     return pl.DataFrame({\n",
    "#         \"feature\": list(X.columns),\n",
    "#         \"feature_importance\": model.feature_importances_,\n",
    "#         \"train_score\": roc_auc_score(Y.to_pandas(), model.predict(X.to_pandas()))\n",
    "#     })"
   ]
  },
  {
   "cell_type": "code",
   "execution_count": 29,
   "id": "2611c064",
   "metadata": {
    "execution": {
     "iopub.execute_input": "2024-03-05T11:11:10.713822Z",
     "iopub.status.busy": "2024-03-05T11:11:10.712418Z",
     "iopub.status.idle": "2024-03-05T11:11:10.718897Z",
     "shell.execute_reply": "2024-03-05T11:11:10.717897Z"
    },
    "papermill": {
     "duration": 0.031688,
     "end_time": "2024-03-05T11:11:10.721265",
     "exception": false,
     "start_time": "2024-03-05T11:11:10.689577",
     "status": "completed"
    },
    "tags": []
   },
   "outputs": [],
   "source": [
    "# def get_feature_importance(X, Y):\n",
    "#     COUNT_ITER = 50\n",
    "    \n",
    "#     dfs = []\n",
    "#     for i in range(COUNT_ITER):\n",
    "#         gc.collect()\n",
    "        \n",
    "#         start_time = time.time()\n",
    "#         shuffled_Y = Y.clone().sample(fraction=1.0, shuffle=True)\n",
    "#         current_df = train_rf(X, shuffled_Y)\n",
    "#         finish_time = time.time()\n",
    "#         print(f\"Finish iteration: {i + 1}/{COUNT_ITER}, time: {finish_time - start_time}\")\n",
    "#         current_df = current_df.with_columns(pl.lit(i).alias(\"iteration\"))\n",
    "#         dfs.append(current_df)\n",
    "        \n",
    "#     return pl.concat(dfs, rechunk=True), train_rf(X, Y)"
   ]
  },
  {
   "cell_type": "code",
   "execution_count": 30,
   "id": "0e26d510",
   "metadata": {
    "execution": {
     "iopub.execute_input": "2024-03-05T11:11:10.766203Z",
     "iopub.status.busy": "2024-03-05T11:11:10.765069Z",
     "iopub.status.idle": "2024-03-05T11:11:10.769763Z",
     "shell.execute_reply": "2024-03-05T11:11:10.768899Z"
    },
    "papermill": {
     "duration": 0.030039,
     "end_time": "2024-03-05T11:11:10.772409",
     "exception": false,
     "start_time": "2024-03-05T11:11:10.742370",
     "status": "completed"
    },
    "tags": []
   },
   "outputs": [],
   "source": [
    "# shuffled_feature_importance_df, feature_importance_df = get_feature_importance(train_df[features], train_df[\"target\"])\n",
    "# shuffled_feature_importance_df.write_csv(\"shuffled_feature_importance_df.csv\", separator=\",\")\n",
    "# feature_importance_df.write_csv(\"feature_importance_df.csv\", separator=\",\")"
   ]
  },
  {
   "cell_type": "code",
   "execution_count": 31,
   "id": "ccd657d9",
   "metadata": {
    "execution": {
     "iopub.execute_input": "2024-03-05T11:11:10.818996Z",
     "iopub.status.busy": "2024-03-05T11:11:10.818532Z",
     "iopub.status.idle": "2024-03-05T11:11:10.823679Z",
     "shell.execute_reply": "2024-03-05T11:11:10.822294Z"
    },
    "papermill": {
     "duration": 0.031305,
     "end_time": "2024-03-05T11:11:10.826266",
     "exception": false,
     "start_time": "2024-03-05T11:11:10.794961",
     "status": "completed"
    },
    "tags": []
   },
   "outputs": [],
   "source": [
    "# important_features = []\n",
    "# for column in feature_importance_df[\"feature\"]:\n",
    "#     shuffled_feature_importance = shuffled_feature_importance_df.filter(shuffled_feature_importance_df[\"feature\"] == column)[\"feature_importance\"].to_numpy()\n",
    "#     feature_importance = feature_importance_df.filter(feature_importance_df[\"feature\"] == column)[\"feature_importance\"][0]\n",
    "    \n",
    "#     if (np.percentile(shuffled_feature_importance, 90) <= feature_importance):\n",
    "#         important_features.append(column)\n",
    "# print(len(important_features), important_features)"
   ]
  },
  {
   "cell_type": "markdown",
   "id": "53789db2",
   "metadata": {
    "papermill": {
     "duration": 0.020729,
     "end_time": "2024-03-05T11:11:10.868125",
     "exception": false,
     "start_time": "2024-03-05T11:11:10.847396",
     "status": "completed"
    },
    "tags": []
   },
   "source": [
    "# Training"
   ]
  },
  {
   "cell_type": "code",
   "execution_count": 32,
   "id": "d2ba10be",
   "metadata": {
    "execution": {
     "iopub.execute_input": "2024-03-05T11:11:10.915223Z",
     "iopub.status.busy": "2024-03-05T11:11:10.914521Z",
     "iopub.status.idle": "2024-03-05T11:11:10.920446Z",
     "shell.execute_reply": "2024-03-05T11:11:10.919375Z"
    },
    "papermill": {
     "duration": 0.034384,
     "end_time": "2024-03-05T11:11:10.924197",
     "exception": false,
     "start_time": "2024-03-05T11:11:10.889813",
     "status": "completed"
    },
    "tags": []
   },
   "outputs": [],
   "source": [
    "# class VotingModel(BaseEstimator, RegressorMixin):\n",
    "#     def __init__(self, estimators):\n",
    "#         super().__init__()\n",
    "#         self.estimators = estimators\n",
    "        \n",
    "#     def fit(self, X, y=None):\n",
    "#         return self\n",
    "    \n",
    "#     def predict(self, X):\n",
    "#         y_preds = [estimator.predict(X) for estimator in self.estimators]\n",
    "#         return np.mean(y_preds, axis=0)\n",
    "    \n",
    "#     def predict_proba(self, X):\n",
    "#         y_preds = [estimator.predict_proba(X) for estimator in self.estimators]\n",
    "#         return np.mean(y_preds, axis=0)\n",
    "    \n",
    "#     def get_feature_importance(self):\n",
    "#         feature_importances = np.array([0 for feature in features])\n",
    "\n",
    "#         for model in self.estimators:\n",
    "#             feature_importances += model.feature_importances_\n",
    "\n",
    "#         return feature_importances"
   ]
  },
  {
   "cell_type": "code",
   "execution_count": 33,
   "id": "7a619b91",
   "metadata": {
    "execution": {
     "iopub.execute_input": "2024-03-05T11:11:10.973889Z",
     "iopub.status.busy": "2024-03-05T11:11:10.972694Z",
     "iopub.status.idle": "2024-03-05T11:11:10.977637Z",
     "shell.execute_reply": "2024-03-05T11:11:10.976551Z"
    },
    "papermill": {
     "duration": 0.030314,
     "end_time": "2024-03-05T11:11:10.980249",
     "exception": false,
     "start_time": "2024-03-05T11:11:10.949935",
     "status": "completed"
    },
    "tags": []
   },
   "outputs": [],
   "source": [
    "# for column in features:\n",
    "#     if (train_dataset[column].dtype != pl.Categorical) and \\\n",
    "#         (train_dataset[column].dtype != pl.Float64) and \\\n",
    "#         (train_dataset[column].dtype != pl.Float64):\n",
    "#         print(column, train_dataset[column].dtype)"
   ]
  },
  {
   "cell_type": "code",
   "execution_count": 34,
   "id": "ac2825af",
   "metadata": {
    "execution": {
     "iopub.execute_input": "2024-03-05T11:11:11.025104Z",
     "iopub.status.busy": "2024-03-05T11:11:11.023943Z",
     "iopub.status.idle": "2024-03-05T11:11:11.030533Z",
     "shell.execute_reply": "2024-03-05T11:11:11.029696Z"
    },
    "papermill": {
     "duration": 0.031674,
     "end_time": "2024-03-05T11:11:11.032937",
     "exception": false,
     "start_time": "2024-03-05T11:11:11.001263",
     "status": "completed"
    },
    "tags": []
   },
   "outputs": [],
   "source": [
    "# def train_lgb_model(X_train, Y_train, X_test, Y_test):\n",
    "#     params = {\n",
    "#         \"boosting_type\": \"gbdt\",\n",
    "#         \"objective\": \"binary\",\n",
    "#         \"metric\": \"auc\",\n",
    "#         \"max_depth\": 8,\n",
    "#         \"max_bin\": 250,\n",
    "#         \"learning_rate\": 0.05,\n",
    "#         \"n_estimators\": 1000,\n",
    "#         \"colsample_bytree\": 0.8, \n",
    "#         \"colsample_bynode\": 0.8,\n",
    "#         \"verbose\": -1,\n",
    "#         \"random_state\": 42,\n",
    "#         \"device\": \"gpu\",\n",
    "#     }\n",
    "    \n",
    "#     model = lgb.LGBMClassifier(**params)\n",
    "    \n",
    "#     model.fit(\n",
    "#         X_train, Y_train,\n",
    "#         eval_set=[(X_test, Y_test)],\n",
    "#         callbacks=[lgb.log_evaluation(100), lgb.early_stopping(100)]\n",
    "#     )\n",
    "        \n",
    "#     return model"
   ]
  },
  {
   "cell_type": "code",
   "execution_count": 35,
   "id": "8fb0de5b",
   "metadata": {
    "execution": {
     "iopub.execute_input": "2024-03-05T11:11:11.077971Z",
     "iopub.status.busy": "2024-03-05T11:11:11.077273Z",
     "iopub.status.idle": "2024-03-05T11:11:11.081298Z",
     "shell.execute_reply": "2024-03-05T11:11:11.080431Z"
    },
    "papermill": {
     "duration": 0.029506,
     "end_time": "2024-03-05T11:11:11.083695",
     "exception": false,
     "start_time": "2024-03-05T11:11:11.054189",
     "status": "completed"
    },
    "tags": []
   },
   "outputs": [],
   "source": [
    "# gc.collect()"
   ]
  },
  {
   "cell_type": "code",
   "execution_count": 36,
   "id": "2f94b8b8",
   "metadata": {
    "execution": {
     "iopub.execute_input": "2024-03-05T11:11:11.129330Z",
     "iopub.status.busy": "2024-03-05T11:11:11.128109Z",
     "iopub.status.idle": "2024-03-05T11:11:11.135834Z",
     "shell.execute_reply": "2024-03-05T11:11:11.134342Z"
    },
    "papermill": {
     "duration": 0.033009,
     "end_time": "2024-03-05T11:11:11.138415",
     "exception": false,
     "start_time": "2024-03-05T11:11:11.105406",
     "status": "completed"
    },
    "tags": []
   },
   "outputs": [],
   "source": [
    "# weeks = train_df[\"WEEK_NUM\"]\n",
    "# cv = StratifiedGroupKFold(n_splits=5, shuffle=False)\n",
    "\n",
    "# fitted_models = []\n",
    "\n",
    "# oof_predicted = np.zeros(train_df.shape[0])\n",
    "\n",
    "# for idx_train, idx_test in cv.split(train_df[features], train_df[\"target\"], groups=weeks):        \n",
    "# #     X_train = train_df[features][idx_train].to_pandas()\n",
    "# #     Y_train = train_df[\"target\"][idx_train].to_pandas()\n",
    "    \n",
    "#     X_test = train_df[features][idx_test].to_pandas()\n",
    "#     Y_test = train_df[\"target\"][idx_test].to_pandas()\n",
    "    \n",
    "#     start = time.time()\n",
    "#     params = {\n",
    "#         \"boosting_type\": \"gbdt\",\n",
    "#         \"objective\": \"binary\",\n",
    "#         \"metric\": \"auc\",\n",
    "#         \"max_depth\": 8,\n",
    "#         \"max_bin\": 250,\n",
    "#         \"learning_rate\": 0.05,\n",
    "#         \"n_estimators\": 1000,\n",
    "#         \"colsample_bytree\": 0.8, \n",
    "#         \"colsample_bynode\": 0.8,\n",
    "#         \"verbose\": -1,\n",
    "#         \"random_state\": 42,\n",
    "#         \"device\": \"gpu\",\n",
    "#     }\n",
    "    \n",
    "#     model = lgb.LGBMClassifier(**params)\n",
    "    \n",
    "#     model.fit(\n",
    "#         train_df[features][idx_train].to_pandas(), train_df[\"target\"][idx_train].to_pandas(),\n",
    "#         eval_set=[(X_test, Y_test)],\n",
    "#         callbacks=[lgb.log_evaluation(100), lgb.early_stopping(100)]\n",
    "#     )\n",
    "        \n",
    "\n",
    "# #    model = train_lgb_model(X_train, Y_train, X_test, Y_test)\n",
    "#     finish = time.time()\n",
    "    \n",
    "#     print(\"fit time: {}\".format(finish - start))\n",
    "#     fitted_models.append(model)\n",
    "    \n",
    "#     test_pred = model.predict_proba(X_test)[:, 1]\n",
    "#     oof_predicted[idx_test] = test_pred\n",
    "#     gc.collect()\n",
    "\n",
    "# model = VotingModel(fitted_models)\n",
    "# gc.collect()"
   ]
  },
  {
   "cell_type": "code",
   "execution_count": 37,
   "id": "37565ace",
   "metadata": {
    "execution": {
     "iopub.execute_input": "2024-03-05T11:11:11.185015Z",
     "iopub.status.busy": "2024-03-05T11:11:11.183955Z",
     "iopub.status.idle": "2024-03-05T11:11:11.189132Z",
     "shell.execute_reply": "2024-03-05T11:11:11.188163Z"
    },
    "papermill": {
     "duration": 0.030147,
     "end_time": "2024-03-05T11:11:11.191415",
     "exception": false,
     "start_time": "2024-03-05T11:11:11.161268",
     "status": "completed"
    },
    "tags": []
   },
   "outputs": [],
   "source": [
    "# roc_auc_oof = roc_auc_score(train_df[\"target\"], oof_predicted)\n",
    "# print(\"CV roc_auc_oof: \", roc_auc_oof)"
   ]
  },
  {
   "cell_type": "markdown",
   "id": "b180dfd8",
   "metadata": {
    "papermill": {
     "duration": 0.021058,
     "end_time": "2024-03-05T11:11:11.233671",
     "exception": false,
     "start_time": "2024-03-05T11:11:11.212613",
     "status": "completed"
    },
    "tags": []
   },
   "source": [
    "# Predict"
   ]
  },
  {
   "cell_type": "code",
   "execution_count": 38,
   "id": "688eca7e",
   "metadata": {
    "execution": {
     "iopub.execute_input": "2024-03-05T11:11:11.277933Z",
     "iopub.status.busy": "2024-03-05T11:11:11.277098Z",
     "iopub.status.idle": "2024-03-05T11:11:11.281556Z",
     "shell.execute_reply": "2024-03-05T11:11:11.280351Z"
    },
    "papermill": {
     "duration": 0.030127,
     "end_time": "2024-03-05T11:11:11.284694",
     "exception": false,
     "start_time": "2024-03-05T11:11:11.254567",
     "status": "completed"
    },
    "tags": []
   },
   "outputs": [],
   "source": [
    "# del train_df\n",
    "# gc.collect()"
   ]
  },
  {
   "cell_type": "code",
   "execution_count": 39,
   "id": "0e13eb63",
   "metadata": {
    "execution": {
     "iopub.execute_input": "2024-03-05T11:11:11.334404Z",
     "iopub.status.busy": "2024-03-05T11:11:11.334013Z",
     "iopub.status.idle": "2024-03-05T11:11:11.338996Z",
     "shell.execute_reply": "2024-03-05T11:11:11.337822Z"
    },
    "papermill": {
     "duration": 0.034483,
     "end_time": "2024-03-05T11:11:11.341126",
     "exception": false,
     "start_time": "2024-03-05T11:11:11.306643",
     "status": "completed"
    },
    "tags": []
   },
   "outputs": [],
   "source": [
    "# test_dataset = data_loader.load_test_dataset()\n",
    "# print(\"Test dataset week range: {}-{}\".format(test_dataset.base[\"WEEK_NUM\"].min(), test_dataset.base[\"WEEK_NUM\"].max()))\n",
    "# gc.collect()\n",
    "# test_df = preprocessor.process_test_dataset(test_dataset)\n",
    "# del test_dataset\n",
    "# gc.collect()"
   ]
  },
  {
   "cell_type": "code",
   "execution_count": 40,
   "id": "e9acc2c2",
   "metadata": {
    "execution": {
     "iopub.execute_input": "2024-03-05T11:11:11.386980Z",
     "iopub.status.busy": "2024-03-05T11:11:11.386498Z",
     "iopub.status.idle": "2024-03-05T11:11:11.391034Z",
     "shell.execute_reply": "2024-03-05T11:11:11.390165Z"
    },
    "papermill": {
     "duration": 0.03005,
     "end_time": "2024-03-05T11:11:11.393111",
     "exception": false,
     "start_time": "2024-03-05T11:11:11.363061",
     "status": "completed"
    },
    "tags": []
   },
   "outputs": [],
   "source": [
    "# print([name for value, name in reversed(sorted(zip(model.get_feature_importance(), features)))][0:200])"
   ]
  },
  {
   "cell_type": "code",
   "execution_count": null,
   "id": "ba81676f",
   "metadata": {
    "papermill": {
     "duration": 0.020583,
     "end_time": "2024-03-05T11:11:11.435577",
     "exception": false,
     "start_time": "2024-03-05T11:11:11.414994",
     "status": "completed"
    },
    "tags": []
   },
   "outputs": [],
   "source": []
  },
  {
   "cell_type": "code",
   "execution_count": 41,
   "id": "acad599d",
   "metadata": {
    "execution": {
     "iopub.execute_input": "2024-03-05T11:11:11.481074Z",
     "iopub.status.busy": "2024-03-05T11:11:11.480177Z",
     "iopub.status.idle": "2024-03-05T11:11:11.485109Z",
     "shell.execute_reply": "2024-03-05T11:11:11.484026Z"
    },
    "papermill": {
     "duration": 0.030155,
     "end_time": "2024-03-05T11:11:11.487346",
     "exception": false,
     "start_time": "2024-03-05T11:11:11.457191",
     "status": "completed"
    },
    "tags": []
   },
   "outputs": [],
   "source": [
    "# CV roc_auc_oof:  0.8353789451006361 without feature selection ~500 features\n",
    "# CV roc_auc_oof:  0.8329322959533371 with feature selection ~200 features"
   ]
  },
  {
   "cell_type": "code",
   "execution_count": null,
   "id": "d306fd9d",
   "metadata": {
    "papermill": {
     "duration": 0.024916,
     "end_time": "2024-03-05T11:11:11.533419",
     "exception": false,
     "start_time": "2024-03-05T11:11:11.508503",
     "status": "completed"
    },
    "tags": []
   },
   "outputs": [],
   "source": []
  },
  {
   "cell_type": "code",
   "execution_count": 42,
   "id": "79a9444a",
   "metadata": {
    "execution": {
     "iopub.execute_input": "2024-03-05T11:11:11.577587Z",
     "iopub.status.busy": "2024-03-05T11:11:11.577145Z",
     "iopub.status.idle": "2024-03-05T11:11:11.582652Z",
     "shell.execute_reply": "2024-03-05T11:11:11.581586Z"
    },
    "papermill": {
     "duration": 0.02972,
     "end_time": "2024-03-05T11:11:11.584808",
     "exception": false,
     "start_time": "2024-03-05T11:11:11.555088",
     "status": "completed"
    },
    "tags": []
   },
   "outputs": [],
   "source": [
    "# def gini_stability(dataset, w_fallingrate=88.0, w_resstd=-0.5):\n",
    "#     gini_in_time = dataset\\\n",
    "#         .sort_values(\"WEEK_NUM\")\\\n",
    "#         .groupby(\"WEEK_NUM\")[[\"true\", \"predicted\"]]\\\n",
    "#         .apply(lambda x: 2 * roc_auc_score(x[\"true\"], x[\"predicted\"]) - 1).tolist()\n",
    "    \n",
    "#     x = np.arange(len(gini_in_time))\n",
    "#     y = gini_in_time\n",
    "#     a, b = np.polyfit(x, y, 1)\n",
    "#     y_hat = a * x + b\n",
    "#     residuals = y - y_hat\n",
    "#     res_std = np.std(residuals)\n",
    "#     avg_gini = np.mean(gini_in_time)\n",
    "    \n",
    "#     print(avg_gini, min(0, a), res_std)\n",
    "    \n",
    "#     return avg_gini + w_fallingrate * min(0, a) + w_resstd * res_std"
   ]
  },
  {
   "cell_type": "code",
   "execution_count": 43,
   "id": "11815aa3",
   "metadata": {
    "execution": {
     "iopub.execute_input": "2024-03-05T11:11:11.629762Z",
     "iopub.status.busy": "2024-03-05T11:11:11.628559Z",
     "iopub.status.idle": "2024-03-05T11:11:11.633346Z",
     "shell.execute_reply": "2024-03-05T11:11:11.632513Z"
    },
    "papermill": {
     "duration": 0.029732,
     "end_time": "2024-03-05T11:11:11.635434",
     "exception": false,
     "start_time": "2024-03-05T11:11:11.605702",
     "status": "completed"
    },
    "tags": []
   },
   "outputs": [],
   "source": [
    "# # Y_train_predicted = model.predict_proba(train_df[features].to_pandas())\n",
    "# Y_test_predicted = model.predict_proba(test_df[features].to_pandas())"
   ]
  },
  {
   "cell_type": "code",
   "execution_count": 44,
   "id": "9a13f3e2",
   "metadata": {
    "execution": {
     "iopub.execute_input": "2024-03-05T11:11:11.682911Z",
     "iopub.status.busy": "2024-03-05T11:11:11.680602Z",
     "iopub.status.idle": "2024-03-05T11:11:11.686636Z",
     "shell.execute_reply": "2024-03-05T11:11:11.685822Z"
    },
    "papermill": {
     "duration": 0.031955,
     "end_time": "2024-03-05T11:11:11.689026",
     "exception": false,
     "start_time": "2024-03-05T11:11:11.657071",
     "status": "completed"
    },
    "tags": []
   },
   "outputs": [],
   "source": [
    "# result = pd.DataFrame({\n",
    "#     \"WEEK_NUM\": train_df[\"WEEK_NUM\"],\n",
    "#     \"true\": train_df[\"target\"],\n",
    "#     \"predicted\": Y_train_predicted[:, 1],\n",
    "# })\n",
    "\n",
    "# train_result = gini_stability(result)\n",
    "# print(\"train_score: {}\".format(train_result))\n",
    "\n",
    "# if MODE == Mode.Train:\n",
    "#     result = pd.DataFrame({\n",
    "#         \"WEEK_NUM\": test_df[\"WEEK_NUM\"],\n",
    "#         \"true\": test_df[\"target\"],\n",
    "#         \"predicted\": Y_test_predicted[:, 1],\n",
    "#     })\n",
    "\n",
    "#     test_result = gini_stability(result)\n",
    "#     print(\"test_score: {}\".format(test_result))"
   ]
  },
  {
   "cell_type": "code",
   "execution_count": 45,
   "id": "72867ebd",
   "metadata": {
    "execution": {
     "iopub.execute_input": "2024-03-05T11:11:11.734209Z",
     "iopub.status.busy": "2024-03-05T11:11:11.733276Z",
     "iopub.status.idle": "2024-03-05T11:11:11.737688Z",
     "shell.execute_reply": "2024-03-05T11:11:11.736863Z"
    },
    "papermill": {
     "duration": 0.029944,
     "end_time": "2024-03-05T11:11:11.739991",
     "exception": false,
     "start_time": "2024-03-05T11:11:11.710047",
     "status": "completed"
    },
    "tags": []
   },
   "outputs": [],
   "source": [
    "# Version 1, test_score: 0.583319926590042, public score 0.48\n",
    "# 100 iters\n",
    "\n",
    "# Version 2, test_score: 0.6062624701357268, public score 0.517\n",
    "# 300 iters\n",
    "\n",
    "# Version 3, test_score: ?, public score 0.545\n",
    "# 2000 iters\n",
    "\n",
    "# Version 4, test_score: ?, public score ?\n",
    "# ? iters, Improve aggregate functions for depth_1, depth_2\n"
   ]
  },
  {
   "cell_type": "markdown",
   "id": "a9e3d7c0",
   "metadata": {
    "papermill": {
     "duration": 0.021326,
     "end_time": "2024-03-05T11:11:11.782410",
     "exception": false,
     "start_time": "2024-03-05T11:11:11.761084",
     "status": "completed"
    },
    "tags": []
   },
   "source": [
    "# Submition"
   ]
  },
  {
   "cell_type": "code",
   "execution_count": 46,
   "id": "57420bdc",
   "metadata": {
    "execution": {
     "iopub.execute_input": "2024-03-05T11:11:11.826893Z",
     "iopub.status.busy": "2024-03-05T11:11:11.826264Z",
     "iopub.status.idle": "2024-03-05T11:11:11.830327Z",
     "shell.execute_reply": "2024-03-05T11:11:11.829348Z"
    },
    "papermill": {
     "duration": 0.028992,
     "end_time": "2024-03-05T11:11:11.832522",
     "exception": false,
     "start_time": "2024-03-05T11:11:11.803530",
     "status": "completed"
    },
    "tags": []
   },
   "outputs": [],
   "source": [
    "# case_id = test_df[\"case_id\"]\n",
    "# X = test_df[features].to_pandas()\n",
    "\n",
    "# Y = model.predict_proba(X)\n",
    "\n",
    "# submission = pd.DataFrame({\n",
    "#     \"case_id\": case_id.to_numpy(),\n",
    "#     \"score\": Y[:, 1]\n",
    "# }).set_index('case_id')\n",
    "# submission.to_csv(\"./submission.csv\")"
   ]
  },
  {
   "cell_type": "code",
   "execution_count": null,
   "id": "c116ea7e",
   "metadata": {
    "papermill": {
     "duration": 0.020903,
     "end_time": "2024-03-05T11:11:11.874748",
     "exception": false,
     "start_time": "2024-03-05T11:11:11.853845",
     "status": "completed"
    },
    "tags": []
   },
   "outputs": [],
   "source": []
  },
  {
   "cell_type": "code",
   "execution_count": null,
   "id": "4478094d",
   "metadata": {
    "papermill": {
     "duration": 0.020682,
     "end_time": "2024-03-05T11:11:11.916614",
     "exception": false,
     "start_time": "2024-03-05T11:11:11.895932",
     "status": "completed"
    },
    "tags": []
   },
   "outputs": [],
   "source": []
  },
  {
   "cell_type": "code",
   "execution_count": null,
   "id": "9c78b576",
   "metadata": {
    "papermill": {
     "duration": 0.021278,
     "end_time": "2024-03-05T11:11:11.959535",
     "exception": false,
     "start_time": "2024-03-05T11:11:11.938257",
     "status": "completed"
    },
    "tags": []
   },
   "outputs": [],
   "source": []
  }
 ],
 "metadata": {
  "kaggle": {
   "accelerator": "none",
   "dataSources": [
    {
     "databundleVersionId": 7602123,
     "sourceId": 50160,
     "sourceType": "competition"
    },
    {
     "datasetId": 4496896,
     "sourceId": 7765626,
     "sourceType": "datasetVersion"
    }
   ],
   "dockerImageVersionId": 30635,
   "isGpuEnabled": false,
   "isInternetEnabled": false,
   "language": "python",
   "sourceType": "notebook"
  },
  "kernelspec": {
   "display_name": "Python 3",
   "language": "python",
   "name": "python3"
  },
  "language_info": {
   "codemirror_mode": {
    "name": "ipython",
    "version": 3
   },
   "file_extension": ".py",
   "mimetype": "text/x-python",
   "name": "python",
   "nbconvert_exporter": "python",
   "pygments_lexer": "ipython3",
   "version": "3.10.12"
  },
  "papermill": {
   "default_parameters": {},
   "duration": 795.121079,
   "end_time": "2024-03-05T11:11:13.916583",
   "environment_variables": {},
   "exception": null,
   "input_path": "__notebook__.ipynb",
   "output_path": "__notebook__.ipynb",
   "parameters": {},
   "start_time": "2024-03-05T10:57:58.795504",
   "version": "2.4.0"
  }
 },
 "nbformat": 4,
 "nbformat_minor": 5
}
