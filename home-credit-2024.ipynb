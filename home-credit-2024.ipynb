{
 "cells": [
  {
   "cell_type": "markdown",
   "id": "c8e0140a",
   "metadata": {
    "papermill": {
     "duration": 0.018197,
     "end_time": "2024-03-10T08:55:18.418961",
     "exception": false,
     "start_time": "2024-03-10T08:55:18.400764",
     "status": "completed"
    },
    "tags": []
   },
   "source": [
    "# Install packages"
   ]
  },
  {
   "cell_type": "code",
   "execution_count": 1,
   "id": "59beeb06",
   "metadata": {
    "execution": {
     "iopub.execute_input": "2024-03-10T08:55:18.456464Z",
     "iopub.status.busy": "2024-03-10T08:55:18.455497Z",
     "iopub.status.idle": "2024-03-10T08:55:54.530992Z",
     "shell.execute_reply": "2024-03-10T08:55:54.529811Z"
    },
    "papermill": {
     "duration": 36.097419,
     "end_time": "2024-03-10T08:55:54.533808",
     "exception": false,
     "start_time": "2024-03-10T08:55:18.436389",
     "status": "completed"
    },
    "tags": []
   },
   "outputs": [
    {
     "name": "stdout",
     "output_type": "stream",
     "text": [
      "Processing /kaggle/input/kaggle-home-credit-risk-model-stability-lib/kaggle_home_credit_risk_model_stability-0.3-py3-none-any.whl\r\n",
      "Installing collected packages: kaggle-home-credit-risk-model-stability\r\n",
      "Successfully installed kaggle-home-credit-risk-model-stability-0.3\r\n"
     ]
    }
   ],
   "source": [
    "!pip install /kaggle/input/kaggle-home-credit-risk-model-stability-lib/kaggle_home_credit_risk_model_stability-0.3-py3-none-any.whl --force-reinstall"
   ]
  },
  {
   "cell_type": "markdown",
   "id": "618a149b",
   "metadata": {
    "papermill": {
     "duration": 0.017477,
     "end_time": "2024-03-10T08:55:54.569556",
     "exception": false,
     "start_time": "2024-03-10T08:55:54.552079",
     "status": "completed"
    },
    "tags": []
   },
   "source": [
    "# Import packages"
   ]
  },
  {
   "cell_type": "code",
   "execution_count": 2,
   "id": "c2284975",
   "metadata": {
    "execution": {
     "iopub.execute_input": "2024-03-10T08:55:54.608033Z",
     "iopub.status.busy": "2024-03-10T08:55:54.607612Z",
     "iopub.status.idle": "2024-03-10T08:55:59.534155Z",
     "shell.execute_reply": "2024-03-10T08:55:59.532943Z"
    },
    "papermill": {
     "duration": 4.949381,
     "end_time": "2024-03-10T08:55:59.537558",
     "exception": false,
     "start_time": "2024-03-10T08:55:54.588177",
     "status": "completed"
    },
    "tags": []
   },
   "outputs": [],
   "source": [
    "import polars as pl\n",
    "import gc\n",
    "import time\n",
    "import numpy as np\n",
    "import pandas as pd\n",
    "import lightgbm as lgb\n",
    "import seaborn as sns\n",
    "import matplotlib.pyplot as plt\n",
    "import copy\n",
    "import lightgbm as lgb\n",
    "import importlib\n",
    "\n",
    "import kaggle_home_credit_risk_model_stability.libs as hcr\n",
    "from kaggle_home_credit_risk_model_stability.libs.input.dataset import Dataset\n",
    "from kaggle_home_credit_risk_model_stability.libs.input.data_loader import DataLoader\n",
    "from kaggle_home_credit_risk_model_stability.libs.preprocessor.preprocessor import Preprocessor\n",
    "from kaggle_home_credit_risk_model_stability.libs.preprocessor.steps import *\n",
    "from kaggle_home_credit_risk_model_stability.libs.preprocessor.columns_info import ColumnsInfo\n",
    "from kaggle_home_credit_risk_model_stability.libs.feature_description.feature_description import FreatureDescriptionGetter\n",
    "\n",
    "from collections import defaultdict\n",
    "from glob import glob\n",
    "from pathlib import Path\n",
    "from sklearn.model_selection import train_test_split\n",
    "from sklearn.metrics import roc_auc_score\n",
    "from sklearn.model_selection import StratifiedGroupKFold\n",
    "from sklearn.base import BaseEstimator, RegressorMixin\n",
    "from catboost import CatBoostClassifier\n",
    "from enum import Enum"
   ]
  },
  {
   "cell_type": "code",
   "execution_count": 3,
   "id": "547c35b9",
   "metadata": {
    "execution": {
     "iopub.execute_input": "2024-03-10T08:55:59.577200Z",
     "iopub.status.busy": "2024-03-10T08:55:59.576762Z",
     "iopub.status.idle": "2024-03-10T08:55:59.585223Z",
     "shell.execute_reply": "2024-03-10T08:55:59.584251Z"
    },
    "papermill": {
     "duration": 0.030536,
     "end_time": "2024-03-10T08:55:59.587317",
     "exception": false,
     "start_time": "2024-03-10T08:55:59.556781",
     "status": "completed"
    },
    "tags": []
   },
   "outputs": [],
   "source": [
    "data_loader = DataLoader()\n",
    "preprocessor = Preprocessor({\n",
    "    \"set_column_info_step\": SetColumnsInfoStep(),\n",
    "    \"set_types\": SetTypesStep(),\n",
    "    \"process_categorical\": ProcessCategoricalStep(),\n",
    "    \"process_person_table\": ProcessPersonTableStep(),\n",
    "    \"one_hot_encoding_for_depth1\": OneHotEncodingForDepth1Step(),\n",
    "    \"pairwise_diff_raw_dates\": PairwiseDateDiffStep(),\n",
    "    \"aggregate_depth_table\": AggregateDepthTableStep(),\n",
    "    \"drop_equal_columns\": DropEqualColumnsStep(),\n",
    "    \"drop_almost_null_features_respect_to_target\": DropAlmostNullFeaturesWithRespectToTargetStep(),\n",
    "    \"join_table\": JoinTablesStep(),\n",
    "    \"generate_age_feature\": GenerateAgeFeatureStep(),\n",
    "    \"fill_nulls_in_categorical_features\": FillNullsInCategoricalFeaturesStep(),\n",
    "    **{\n",
    "        f\"create_money_feature_fraction_{base_column}\": CreateMoneyFeatureFractionStep(base_column)\n",
    "        for base_column in [\"credamount_770A\", \"maininc_215A\", \"mainoccupationinc_384A\", \"mean_amount_416A\"]\n",
    "    },\n",
    "    \"generate_mismatch_features\": GenerateMismatchFeaturesStep(),\n",
    "    \"generate_target_distribution_based_on_categorical_features_step\": GenerateTargetDistributionBasedOnCategoricalStep(),\n",
    "    \"drop_single_value_features\": DropSingleValueFeaturesStep(),\n",
    "    \"drop_variable_enum_features\": DropVariableEnumFeaturesStep(),\n",
    "    \"reduce_memory_usage\": ReduceMemoryUsageStep()\n",
    "})\n",
    "columns_info = ColumnsInfo()"
   ]
  },
  {
   "cell_type": "code",
   "execution_count": null,
   "id": "9cb85dee",
   "metadata": {
    "papermill": {
     "duration": 0.017979,
     "end_time": "2024-03-10T08:55:59.623751",
     "exception": false,
     "start_time": "2024-03-10T08:55:59.605772",
     "status": "completed"
    },
    "tags": []
   },
   "outputs": [],
   "source": []
  },
  {
   "cell_type": "code",
   "execution_count": 4,
   "id": "37c93399",
   "metadata": {
    "execution": {
     "iopub.execute_input": "2024-03-10T08:55:59.662541Z",
     "iopub.status.busy": "2024-03-10T08:55:59.661766Z",
     "iopub.status.idle": "2024-03-10T08:55:59.665814Z",
     "shell.execute_reply": "2024-03-10T08:55:59.665050Z"
    },
    "papermill": {
     "duration": 0.02611,
     "end_time": "2024-03-10T08:55:59.668041",
     "exception": false,
     "start_time": "2024-03-10T08:55:59.641931",
     "status": "completed"
    },
    "tags": []
   },
   "outputs": [],
   "source": [
    "# train_dataset = data_loader.load_train_dataset()\n",
    "# case_id_set = train_dataset.get_base().filter(train_dataset.get_base()[\"WEEK_NUM\"] < 10)[\"case_id\"]\n",
    "# train_dataset = train_dataset.filter(lambda table: table.filter(pl.col(\"case_id\").is_in(case_id_set)))"
   ]
  },
  {
   "cell_type": "code",
   "execution_count": 5,
   "id": "aff39ebc",
   "metadata": {
    "execution": {
     "iopub.execute_input": "2024-03-10T08:55:59.706845Z",
     "iopub.status.busy": "2024-03-10T08:55:59.706039Z",
     "iopub.status.idle": "2024-03-10T09:12:24.454134Z",
     "shell.execute_reply": "2024-03-10T09:12:24.451948Z"
    },
    "papermill": {
     "duration": 984.772947,
     "end_time": "2024-03-10T09:12:24.459098",
     "exception": false,
     "start_time": "2024-03-10T08:55:59.686151",
     "status": "completed"
    },
    "tags": []
   },
   "outputs": [
    {
     "name": "stdout",
     "output_type": "stream",
     "text": [
      "Train dataset week range: 0-91\n",
      "Step: set_column_info_step, execution_time: 0.11440443992614746\n",
      "Step: set_types, execution_time: 20.758617639541626\n",
      "Step: process_categorical, execution_time: 28.224079608917236\n",
      "Step: process_person_table, execution_time: 0.48099231719970703\n",
      "Create 250 new columns as one hot encoding\n",
      "Step: one_hot_encoding_for_depth1, execution_time: 25.102343320846558\n",
      "Create 172 new columns as pairwise dates diff\n",
      "Step: pairwise_diff_raw_dates, execution_time: 1.7510981559753418\n",
      "Step: aggregate_depth_table, execution_time: 53.48856472969055\n",
      "Drop 305 columns as duplicates\n",
      "Step: drop_equal_columns, execution_time: 8.695757389068604\n",
      "Drop 530 columns as almost null\n",
      "Step: drop_almost_null_features_respect_to_target, execution_time: 563.6348571777344\n",
      "Step: join_table, execution_time: 17.233439922332764\n",
      "Step: generate_age_feature, execution_time: 0.25070691108703613\n",
      "Step: fill_nulls_in_categorical_features, execution_time: 17.54259181022644\n",
      "Create 130 new columns as money feature fraction with base 'credamount_770A'\n",
      "Step: create_money_feature_fraction_credamount_770A, execution_time: 5.920916557312012\n",
      "Create 130 new columns as money feature fraction with base 'maininc_215A'\n",
      "Step: create_money_feature_fraction_maininc_215A, execution_time: 8.803166151046753\n",
      "Create 130 new columns as money feature fraction with base 'mainoccupationinc_384A'\n",
      "Step: create_money_feature_fraction_mainoccupationinc_384A, execution_time: 6.147742748260498\n",
      "Create 130 new columns as money feature fraction with base 'mean_amount_416A'\n",
      "Step: create_money_feature_fraction_mean_amount_416A, execution_time: 8.6916823387146\n",
      "Create 60 new columns as feature mismatch\n",
      "Step: generate_mismatch_features, execution_time: 49.2016658782959\n",
      "Create 208 as target distribution by categorical feature\n",
      "Step: generate_target_distribution_based_on_categorical_features_step, execution_time: 35.25238656997681\n",
      "Drop 18 columns as single value\n",
      "Step: drop_single_value_features, execution_time: 53.67898416519165\n",
      "Drop 1065 columns as variable enum value\n",
      "Step: drop_variable_enum_features, execution_time: 56.83291840553284\n",
      "Step: reduce_memory_usage, execution_time: 9.072237253189087\n"
     ]
    },
    {
     "data": {
      "text/plain": [
       "0"
      ]
     },
     "execution_count": 5,
     "metadata": {},
     "output_type": "execute_result"
    }
   ],
   "source": [
    "train_dataset = data_loader.load_train_dataset()\n",
    "print(\"Train dataset week range: {}-{}\".format(train_dataset.get_base()[\"WEEK_NUM\"].min(), train_dataset.get_base()[\"WEEK_NUM\"].max()))\n",
    "gc.collect()\n",
    "train_df, columns_info = preprocessor.process_train_dataset(train_dataset, columns_info)\n",
    "del train_dataset\n",
    "\n",
    "gc.collect()"
   ]
  },
  {
   "cell_type": "code",
   "execution_count": 6,
   "id": "a42920fa",
   "metadata": {
    "execution": {
     "iopub.execute_input": "2024-03-10T09:12:24.509429Z",
     "iopub.status.busy": "2024-03-10T09:12:24.508917Z",
     "iopub.status.idle": "2024-03-10T09:12:31.614468Z",
     "shell.execute_reply": "2024-03-10T09:12:31.613390Z"
    },
    "papermill": {
     "duration": 7.133286,
     "end_time": "2024-03-10T09:12:31.617545",
     "exception": false,
     "start_time": "2024-03-10T09:12:24.484259",
     "status": "completed"
    },
    "tags": []
   },
   "outputs": [],
   "source": [
    "for column in train_df.columns:\n",
    "    if train_df[column].dtype != pl.Enum:\n",
    "        x = train_df[column].is_infinite().sum() + train_df[column].is_nan().sum()\n",
    "        assert(x == 0)"
   ]
  },
  {
   "cell_type": "code",
   "execution_count": 7,
   "id": "250839cd",
   "metadata": {
    "execution": {
     "iopub.execute_input": "2024-03-10T09:12:31.665081Z",
     "iopub.status.busy": "2024-03-10T09:12:31.664296Z",
     "iopub.status.idle": "2024-03-10T09:12:51.887060Z",
     "shell.execute_reply": "2024-03-10T09:12:51.885792Z"
    },
    "papermill": {
     "duration": 20.250404,
     "end_time": "2024-03-10T09:12:51.890504",
     "exception": false,
     "start_time": "2024-03-10T09:12:31.640100",
     "status": "completed"
    },
    "tags": []
   },
   "outputs": [
    {
     "name": "stdout",
     "output_type": "stream",
     "text": [
      "3374.7351598739624\n",
      "shape: (1_526_659, 690)\n",
      "┌────────┬──────────┬────────┬─────────────┬───┬────────────┬────────────┬────────────┬────────────┐\n",
      "│ MONTH  ┆ WEEK_NUM ┆ target ┆ days120_123 ┆ … ┆ last_type_ ┆ last_type_ ┆ age_bucket ┆ age_bucket │\n",
      "│ ---    ┆ ---      ┆ ---    ┆ L           ┆   ┆ 25L_target ┆ 25L_value_ ┆ _target_di ┆ _value_per │\n",
      "│ i32    ┆ i8       ┆ i8     ┆ ---         ┆   ┆ _distribut ┆ persent    ┆ stribution ┆ sent       │\n",
      "│        ┆          ┆        ┆ f32         ┆   ┆ io…        ┆ ---        ┆ ---        ┆ ---        │\n",
      "│        ┆          ┆        ┆             ┆   ┆ ---        ┆ f32        ┆ f32        ┆ f32        │\n",
      "│        ┆          ┆        ┆             ┆   ┆ f32        ┆            ┆            ┆            │\n",
      "╞════════╪══════════╪════════╪═════════════╪═══╪════════════╪════════════╪════════════╪════════════╡\n",
      "│ 201901 ┆ 0        ┆ 0      ┆ null        ┆ … ┆ 0.033826   ┆ 0.424935   ┆ 0.0344     ┆ 0.255728   │\n",
      "│ 201901 ┆ 0        ┆ 0      ┆ null        ┆ … ┆ 0.033826   ┆ 0.424935   ┆ 0.017717   ┆ 0.154987   │\n",
      "│ 201901 ┆ 0        ┆ 0      ┆ null        ┆ … ┆ 0.033826   ┆ 0.424935   ┆ 0.030632   ┆ 0.216253   │\n",
      "│ 201901 ┆ 0        ┆ 0      ┆ null        ┆ … ┆ 0.033826   ┆ 0.424935   ┆ 0.048363   ┆ 0.176153   │\n",
      "│ …      ┆ …        ┆ …      ┆ …           ┆ … ┆ …          ┆ …          ┆ …          ┆ …          │\n",
      "│ 202010 ┆ 91       ┆ 0      ┆ 0.0         ┆ … ┆ 0.020385   ┆ 0.02545    ┆ 0.017717   ┆ 0.154987   │\n",
      "│ 202010 ┆ 91       ┆ 0      ┆ 2.0         ┆ … ┆ 0.03012    ┆ 0.507943   ┆ 0.030632   ┆ 0.216253   │\n",
      "│ 202010 ┆ 91       ┆ 0      ┆ 2.0         ┆ … ┆ 0.020385   ┆ 0.02545    ┆ 0.020837   ┆ 0.033448   │\n",
      "│ 202010 ┆ 91       ┆ 0      ┆ 1.0         ┆ … ┆ 0.03012    ┆ 0.507943   ┆ 0.020837   ┆ 0.033448   │\n",
      "└────────┴──────────┴────────┴─────────────┴───┴────────────┴────────────┴────────────┴────────────┘\n"
     ]
    },
    {
     "data": {
      "text/plain": [
       "0"
      ]
     },
     "execution_count": 7,
     "metadata": {},
     "output_type": "execute_result"
    }
   ],
   "source": [
    "train_df.write_parquet(\"/kaggle/working/train_df.parquet\")\n",
    "print(train_df.estimated_size() / 1024 / 1024)\n",
    "print(train_df)\n",
    "\n",
    "del train_df\n",
    "gc.collect()"
   ]
  },
  {
   "cell_type": "code",
   "execution_count": 8,
   "id": "752b114e",
   "metadata": {
    "execution": {
     "iopub.execute_input": "2024-03-10T09:12:51.934825Z",
     "iopub.status.busy": "2024-03-10T09:12:51.934252Z",
     "iopub.status.idle": "2024-03-10T09:13:02.009830Z",
     "shell.execute_reply": "2024-03-10T09:13:02.008434Z"
    },
    "papermill": {
     "duration": 10.101057,
     "end_time": "2024-03-10T09:13:02.013065",
     "exception": false,
     "start_time": "2024-03-10T09:12:51.912008",
     "status": "completed"
    },
    "tags": []
   },
   "outputs": [
    {
     "name": "stdout",
     "output_type": "stream",
     "text": [
      "Test dataset week range: 92-92\n",
      "Step: set_column_info_step, execution_time: 0.15731072425842285\n",
      "Step: set_types, execution_time: 0.1866774559020996\n",
      "Step: process_categorical, execution_time: 0.48554444313049316\n",
      "Step: process_person_table, execution_time: 0.17718505859375\n",
      "Create 250 new columns as one hot encoding\n",
      "Step: one_hot_encoding_for_depth1, execution_time: 0.23815703392028809\n",
      "Create 172 new columns as pairwise dates diff\n",
      "Step: pairwise_diff_raw_dates, execution_time: 0.2344989776611328\n",
      "Step: aggregate_depth_table, execution_time: 0.730703592300415\n",
      "Step: drop_equal_columns, execution_time: 0.6070363521575928\n",
      "Step: drop_almost_null_features_respect_to_target, execution_time: 0.22727608680725098\n",
      "Step: join_table, execution_time: 3.0638508796691895\n",
      "Step: generate_age_feature, execution_time: 0.21547269821166992\n",
      "Step: fill_nulls_in_categorical_features, execution_time: 0.9057052135467529\n",
      "Create 130 new columns as money feature fraction with base 'credamount_770A'\n",
      "Step: create_money_feature_fraction_credamount_770A, execution_time: 0.22746491432189941\n",
      "Create 130 new columns as money feature fraction with base 'maininc_215A'\n",
      "Step: create_money_feature_fraction_maininc_215A, execution_time: 0.23365306854248047\n",
      "Create 130 new columns as money feature fraction with base 'mainoccupationinc_384A'\n",
      "Step: create_money_feature_fraction_mainoccupationinc_384A, execution_time: 0.26624608039855957\n",
      "Create 130 new columns as money feature fraction with base 'mean_amount_416A'\n",
      "Step: create_money_feature_fraction_mean_amount_416A, execution_time: 0.3183448314666748\n",
      "Create 60 new columns as feature mismatch\n",
      "Step: generate_mismatch_features, execution_time: 0.2476036548614502\n",
      "Create 208 as target distribution by categorical feature\n",
      "Step: generate_target_distribution_based_on_categorical_features_step, execution_time: 0.44530391693115234\n",
      "Step: drop_single_value_features, execution_time: 0.15812087059020996\n",
      "Step: drop_variable_enum_features, execution_time: 0.17516851425170898\n",
      "Step: reduce_memory_usage, execution_time: 0.31096911430358887\n"
     ]
    },
    {
     "data": {
      "text/plain": [
       "0"
      ]
     },
     "execution_count": 8,
     "metadata": {},
     "output_type": "execute_result"
    }
   ],
   "source": [
    "test_dataset = data_loader.load_test_dataset()\n",
    "print(\"Test dataset week range: {}-{}\".format(test_dataset.get_base()[\"WEEK_NUM\"].min(), test_dataset.get_base()[\"WEEK_NUM\"].max()))\n",
    "gc.collect()\n",
    "test_df, columns_info = preprocessor.process_test_dataset(test_dataset, columns_info)\n",
    "del test_dataset\n",
    "\n",
    "gc.collect()"
   ]
  },
  {
   "cell_type": "code",
   "execution_count": 9,
   "id": "e6beb782",
   "metadata": {
    "execution": {
     "iopub.execute_input": "2024-03-10T09:13:02.063783Z",
     "iopub.status.busy": "2024-03-10T09:13:02.063096Z",
     "iopub.status.idle": "2024-03-10T09:13:02.483406Z",
     "shell.execute_reply": "2024-03-10T09:13:02.481733Z"
    },
    "papermill": {
     "duration": 0.448578,
     "end_time": "2024-03-10T09:13:02.485946",
     "exception": false,
     "start_time": "2024-03-10T09:13:02.037368",
     "status": "completed"
    },
    "tags": []
   },
   "outputs": [
    {
     "name": "stdout",
     "output_type": "stream",
     "text": [
      "0.26122379302978516\n",
      "shape: (10, 689)\n",
      "┌────────┬──────────┬────────────┬────────────┬───┬────────────┬───────────┬───────────┬───────────┐\n",
      "│ MONTH  ┆ WEEK_NUM ┆ days120_12 ┆ days180_25 ┆ … ┆ last_type_ ┆ last_type ┆ age_bucke ┆ age_bucke │\n",
      "│ ---    ┆ ---      ┆ 3L         ┆ 6L         ┆   ┆ 25L_target ┆ _25L_valu ┆ t_target_ ┆ t_value_p │\n",
      "│ i32    ┆ i8       ┆ ---        ┆ ---        ┆   ┆ _distribut ┆ e_persent ┆ distribut ┆ ersent    │\n",
      "│        ┆          ┆ f32        ┆ f32        ┆   ┆ io…        ┆ ---       ┆ ion       ┆ ---       │\n",
      "│        ┆          ┆            ┆            ┆   ┆ ---        ┆ f32       ┆ ---       ┆ f32       │\n",
      "│        ┆          ┆            ┆            ┆   ┆ f32        ┆           ┆ f32       ┆           │\n",
      "╞════════╪══════════╪════════════╪════════════╪═══╪════════════╪═══════════╪═══════════╪═══════════╡\n",
      "│ 202010 ┆ 92       ┆ 9.0        ┆ 9.0        ┆ … ┆ 0.033826   ┆ 0.424935  ┆ 0.048363  ┆ 0.176153  │\n",
      "│ 202010 ┆ 92       ┆ 0.0        ┆ 0.0        ┆ … ┆ 0.033826   ┆ 0.424935  ┆ 0.048363  ┆ 0.176153  │\n",
      "│ 202010 ┆ 92       ┆ 2.0        ┆ 2.0        ┆ … ┆ 0.033826   ┆ 0.424935  ┆ 0.0344    ┆ 0.255728  │\n",
      "│ 202010 ┆ 92       ┆ 0.0        ┆ 0.0        ┆ … ┆ 0.03012    ┆ 0.507943  ┆ null      ┆ null      │\n",
      "│ …      ┆ …        ┆ …          ┆ …          ┆ … ┆ …          ┆ …         ┆ …         ┆ …         │\n",
      "│ 202010 ┆ 92       ┆ 6.0        ┆ 7.0        ┆ … ┆ 0.03012    ┆ 0.507943  ┆ null      ┆ null      │\n",
      "│ 202010 ┆ 92       ┆ 0.0        ┆ 0.0        ┆ … ┆ 0.03012    ┆ 0.507943  ┆ null      ┆ null      │\n",
      "│ 202010 ┆ 92       ┆ 1.0        ┆ 1.0        ┆ … ┆ 0.03012    ┆ 0.507943  ┆ null      ┆ null      │\n",
      "│ 202010 ┆ 92       ┆ null       ┆ null       ┆ … ┆ 0.03012    ┆ 0.507943  ┆ null      ┆ null      │\n",
      "└────────┴──────────┴────────────┴────────────┴───┴────────────┴───────────┴───────────┴───────────┘\n"
     ]
    },
    {
     "data": {
      "text/plain": [
       "0"
      ]
     },
     "execution_count": 9,
     "metadata": {},
     "output_type": "execute_result"
    }
   ],
   "source": [
    "test_df.write_parquet(\"/kaggle/working/test_df.parquet\")\n",
    "print(test_df.estimated_size() / 1024 / 1024)\n",
    "print(test_df)\n",
    "\n",
    "del test_df\n",
    "gc.collect()"
   ]
  },
  {
   "cell_type": "markdown",
   "id": "6c92bea6",
   "metadata": {
    "_kg_hide-input": true,
    "papermill": {
     "duration": 0.025347,
     "end_time": "2024-03-10T09:13:02.535645",
     "exception": false,
     "start_time": "2024-03-10T09:13:02.510298",
     "status": "completed"
    },
    "tags": []
   },
   "source": [
    "# Data visualization"
   ]
  },
  {
   "cell_type": "code",
   "execution_count": null,
   "id": "1af9a251",
   "metadata": {
    "papermill": {
     "duration": 0.023763,
     "end_time": "2024-03-10T09:13:02.585263",
     "exception": false,
     "start_time": "2024-03-10T09:13:02.561500",
     "status": "completed"
    },
    "tags": []
   },
   "outputs": [],
   "source": []
  },
  {
   "cell_type": "code",
   "execution_count": 10,
   "id": "bdf03899",
   "metadata": {
    "execution": {
     "iopub.execute_input": "2024-03-10T09:13:02.636148Z",
     "iopub.status.busy": "2024-03-10T09:13:02.635728Z",
     "iopub.status.idle": "2024-03-10T09:13:02.640772Z",
     "shell.execute_reply": "2024-03-10T09:13:02.639302Z"
    },
    "papermill": {
     "duration": 0.034349,
     "end_time": "2024-03-10T09:13:02.644219",
     "exception": false,
     "start_time": "2024-03-10T09:13:02.609870",
     "status": "completed"
    },
    "tags": []
   },
   "outputs": [],
   "source": [
    "# train_dataset = data_loader.load_train_dataset()"
   ]
  },
  {
   "cell_type": "code",
   "execution_count": 11,
   "id": "61b53533",
   "metadata": {
    "execution": {
     "iopub.execute_input": "2024-03-10T09:13:02.696496Z",
     "iopub.status.busy": "2024-03-10T09:13:02.696070Z",
     "iopub.status.idle": "2024-03-10T09:13:02.700630Z",
     "shell.execute_reply": "2024-03-10T09:13:02.699596Z"
    },
    "papermill": {
     "duration": 0.033223,
     "end_time": "2024-03-10T09:13:02.703228",
     "exception": false,
     "start_time": "2024-03-10T09:13:02.670005",
     "status": "completed"
    },
    "tags": []
   },
   "outputs": [],
   "source": [
    "# [column for column in train_df.columns if \"amtdebitincoming_4809443A\" in column]"
   ]
  },
  {
   "cell_type": "code",
   "execution_count": 12,
   "id": "f968aa94",
   "metadata": {
    "execution": {
     "iopub.execute_input": "2024-03-10T09:13:02.753792Z",
     "iopub.status.busy": "2024-03-10T09:13:02.753363Z",
     "iopub.status.idle": "2024-03-10T09:13:02.758103Z",
     "shell.execute_reply": "2024-03-10T09:13:02.756902Z"
    },
    "papermill": {
     "duration": 0.032787,
     "end_time": "2024-03-10T09:13:02.760605",
     "exception": false,
     "start_time": "2024-03-10T09:13:02.727818",
     "status": "completed"
    },
    "tags": []
   },
   "outputs": [],
   "source": [
    "# train_dataset.get_base()[\"target\"].mean()"
   ]
  },
  {
   "cell_type": "code",
   "execution_count": 13,
   "id": "ba141ab2",
   "metadata": {
    "execution": {
     "iopub.execute_input": "2024-03-10T09:13:02.812809Z",
     "iopub.status.busy": "2024-03-10T09:13:02.812132Z",
     "iopub.status.idle": "2024-03-10T09:13:02.817145Z",
     "shell.execute_reply": "2024-03-10T09:13:02.815882Z"
    },
    "papermill": {
     "duration": 0.034346,
     "end_time": "2024-03-10T09:13:02.819598",
     "exception": false,
     "start_time": "2024-03-10T09:13:02.785252",
     "status": "completed"
    },
    "tags": []
   },
   "outputs": [],
   "source": [
    "# tables = {name: table for name, table in train_dataset.get_depth_tables(1)}"
   ]
  },
  {
   "cell_type": "code",
   "execution_count": 14,
   "id": "2a38e3bb",
   "metadata": {
    "execution": {
     "iopub.execute_input": "2024-03-10T09:13:02.870036Z",
     "iopub.status.busy": "2024-03-10T09:13:02.869622Z",
     "iopub.status.idle": "2024-03-10T09:13:02.874202Z",
     "shell.execute_reply": "2024-03-10T09:13:02.873142Z"
    },
    "papermill": {
     "duration": 0.033057,
     "end_time": "2024-03-10T09:13:02.876874",
     "exception": false,
     "start_time": "2024-03-10T09:13:02.843817",
     "status": "completed"
    },
    "tags": []
   },
   "outputs": [],
   "source": [
    "# applprev_1 = tables[\"applprev_1\"]"
   ]
  },
  {
   "cell_type": "code",
   "execution_count": 15,
   "id": "f4f19550",
   "metadata": {
    "execution": {
     "iopub.execute_input": "2024-03-10T09:13:02.927110Z",
     "iopub.status.busy": "2024-03-10T09:13:02.926724Z",
     "iopub.status.idle": "2024-03-10T09:13:02.931897Z",
     "shell.execute_reply": "2024-03-10T09:13:02.930316Z"
    },
    "papermill": {
     "duration": 0.033766,
     "end_time": "2024-03-10T09:13:02.934859",
     "exception": false,
     "start_time": "2024-03-10T09:13:02.901093",
     "status": "completed"
    },
    "tags": []
   },
   "outputs": [],
   "source": [
    "# joined = applprev_1[\"case_id\"].value_counts().join(train_dataset.get_base()[[\"case_id\", \"target\"]], on=\"case_id\").sort(\"count\")\n",
    "# joined.filter(pl.col(\"target\") == 1)"
   ]
  },
  {
   "cell_type": "code",
   "execution_count": 16,
   "id": "edd7ddcb",
   "metadata": {
    "execution": {
     "iopub.execute_input": "2024-03-10T09:13:02.986251Z",
     "iopub.status.busy": "2024-03-10T09:13:02.985781Z",
     "iopub.status.idle": "2024-03-10T09:13:02.991615Z",
     "shell.execute_reply": "2024-03-10T09:13:02.990055Z"
    },
    "papermill": {
     "duration": 0.034679,
     "end_time": "2024-03-10T09:13:02.994518",
     "exception": false,
     "start_time": "2024-03-10T09:13:02.959839",
     "status": "completed"
    },
    "tags": []
   },
   "outputs": [],
   "source": [
    "# base = train_dataset.get_base()"
   ]
  },
  {
   "cell_type": "code",
   "execution_count": 17,
   "id": "42a6d9fa",
   "metadata": {
    "execution": {
     "iopub.execute_input": "2024-03-10T09:13:03.045176Z",
     "iopub.status.busy": "2024-03-10T09:13:03.044700Z",
     "iopub.status.idle": "2024-03-10T09:13:03.050472Z",
     "shell.execute_reply": "2024-03-10T09:13:03.049187Z"
    },
    "papermill": {
     "duration": 0.034444,
     "end_time": "2024-03-10T09:13:03.053481",
     "exception": false,
     "start_time": "2024-03-10T09:13:03.019037",
     "status": "completed"
    },
    "tags": []
   },
   "outputs": [],
   "source": [
    "# base.filter(pl.col(\"case_id\") == 2702490)"
   ]
  },
  {
   "cell_type": "code",
   "execution_count": 18,
   "id": "316ed6f3",
   "metadata": {
    "execution": {
     "iopub.execute_input": "2024-03-10T09:13:03.104011Z",
     "iopub.status.busy": "2024-03-10T09:13:03.103544Z",
     "iopub.status.idle": "2024-03-10T09:13:03.109498Z",
     "shell.execute_reply": "2024-03-10T09:13:03.108216Z"
    },
    "papermill": {
     "duration": 0.034187,
     "end_time": "2024-03-10T09:13:03.111867",
     "exception": false,
     "start_time": "2024-03-10T09:13:03.077680",
     "status": "completed"
    },
    "tags": []
   },
   "outputs": [],
   "source": [
    "# applprev_1.filter(applprev_1[\"case_id\"] == 2702490).sort(\"num_group1\")\n",
    "#base.filter(pl.col(\"case_id\") == 176526)"
   ]
  },
  {
   "cell_type": "code",
   "execution_count": 19,
   "id": "5bba09c3",
   "metadata": {
    "execution": {
     "iopub.execute_input": "2024-03-10T09:13:03.162065Z",
     "iopub.status.busy": "2024-03-10T09:13:03.161054Z",
     "iopub.status.idle": "2024-03-10T09:13:03.167095Z",
     "shell.execute_reply": "2024-03-10T09:13:03.166169Z"
    },
    "papermill": {
     "duration": 0.033952,
     "end_time": "2024-03-10T09:13:03.169567",
     "exception": false,
     "start_time": "2024-03-10T09:13:03.135615",
     "status": "completed"
    },
    "tags": []
   },
   "outputs": [],
   "source": [
    "# applprev_1.filter(applprev_1[\"case_id\"] == 2702490).sort(\"num_group1\")[[\"credamount_590A\", \"mainoccupationinc_437A\", \"rejectreason_755M\", \"rejectreasonclient_4145042M\"]]\n"
   ]
  },
  {
   "cell_type": "code",
   "execution_count": 20,
   "id": "3fec617f",
   "metadata": {
    "execution": {
     "iopub.execute_input": "2024-03-10T09:13:03.220620Z",
     "iopub.status.busy": "2024-03-10T09:13:03.219594Z",
     "iopub.status.idle": "2024-03-10T09:13:03.224839Z",
     "shell.execute_reply": "2024-03-10T09:13:03.223876Z"
    },
    "papermill": {
     "duration": 0.033541,
     "end_time": "2024-03-10T09:13:03.227330",
     "exception": false,
     "start_time": "2024-03-10T09:13:03.193789",
     "status": "completed"
    },
    "tags": []
   },
   "outputs": [],
   "source": [
    "# applprev_1.filter(applprev_1[\"case_id\"] == 176526).sort(\"num_group1\")[[\"credamount_590A\", \"mainoccupationinc_437A\", \"rejectreason_755M\", \"rejectreasonclient_4145042M\"]]a"
   ]
  },
  {
   "cell_type": "code",
   "execution_count": 21,
   "id": "03fc60eb",
   "metadata": {
    "execution": {
     "iopub.execute_input": "2024-03-10T09:13:03.280135Z",
     "iopub.status.busy": "2024-03-10T09:13:03.278810Z",
     "iopub.status.idle": "2024-03-10T09:13:03.283744Z",
     "shell.execute_reply": "2024-03-10T09:13:03.282714Z"
    },
    "papermill": {
     "duration": 0.034012,
     "end_time": "2024-03-10T09:13:03.286411",
     "exception": false,
     "start_time": "2024-03-10T09:13:03.252399",
     "status": "completed"
    },
    "tags": []
   },
   "outputs": [],
   "source": [
    "# applprev_1.filter(applprev_1[\"case_id\"] == 176526).sort(\"num_group1\")"
   ]
  },
  {
   "cell_type": "code",
   "execution_count": 22,
   "id": "6e71e880",
   "metadata": {
    "execution": {
     "iopub.execute_input": "2024-03-10T09:13:03.339407Z",
     "iopub.status.busy": "2024-03-10T09:13:03.338164Z",
     "iopub.status.idle": "2024-03-10T09:13:03.343888Z",
     "shell.execute_reply": "2024-03-10T09:13:03.342752Z"
    },
    "papermill": {
     "duration": 0.033672,
     "end_time": "2024-03-10T09:13:03.346235",
     "exception": false,
     "start_time": "2024-03-10T09:13:03.312563",
     "status": "completed"
    },
    "tags": []
   },
   "outputs": [],
   "source": [
    "# FreatureDescriptionGetter().get(\"rejectreasonclient_4145042M\")"
   ]
  },
  {
   "cell_type": "code",
   "execution_count": 23,
   "id": "d56f56a9",
   "metadata": {
    "execution": {
     "iopub.execute_input": "2024-03-10T09:13:03.398394Z",
     "iopub.status.busy": "2024-03-10T09:13:03.397672Z",
     "iopub.status.idle": "2024-03-10T09:13:03.403020Z",
     "shell.execute_reply": "2024-03-10T09:13:03.401865Z"
    },
    "papermill": {
     "duration": 0.034116,
     "end_time": "2024-03-10T09:13:03.405870",
     "exception": false,
     "start_time": "2024-03-10T09:13:03.371754",
     "status": "completed"
    },
    "tags": []
   },
   "outputs": [],
   "source": [
    "# def bucket_mean_split(x, y, buckets=100):\n",
    "#     x_buckets = []\n",
    "#     y_buckets = []\n",
    "\n",
    "#     x = np.array(x)\n",
    "#     y = np.array(y)\n",
    "#     x_quantiles = [np.quantile(x, i / buckets) for i in range(0, buckets + 1)]\n",
    "#     for i in range(0, buckets):\n",
    "#         filter = (x >= x_quantiles[i]) & (x <= x_quantiles[i + 1])\n",
    "#         x_buckets.append(np.mean(x[filter]))\n",
    "#         y_buckets.append(np.mean(y[filter]))\n",
    "#     return x_buckets, y_buckets"
   ]
  },
  {
   "cell_type": "code",
   "execution_count": 24,
   "id": "ca7a29ea",
   "metadata": {
    "execution": {
     "iopub.execute_input": "2024-03-10T09:13:03.457337Z",
     "iopub.status.busy": "2024-03-10T09:13:03.455895Z",
     "iopub.status.idle": "2024-03-10T09:13:03.461880Z",
     "shell.execute_reply": "2024-03-10T09:13:03.460979Z"
    },
    "papermill": {
     "duration": 0.034035,
     "end_time": "2024-03-10T09:13:03.464261",
     "exception": false,
     "start_time": "2024-03-10T09:13:03.430226",
     "status": "completed"
    },
    "tags": []
   },
   "outputs": [],
   "source": [
    "# train[\"target\"].mean()"
   ]
  },
  {
   "cell_type": "code",
   "execution_count": 25,
   "id": "66f253c2",
   "metadata": {
    "execution": {
     "iopub.execute_input": "2024-03-10T09:13:03.518756Z",
     "iopub.status.busy": "2024-03-10T09:13:03.517349Z",
     "iopub.status.idle": "2024-03-10T09:13:03.523558Z",
     "shell.execute_reply": "2024-03-10T09:13:03.522554Z"
    },
    "papermill": {
     "duration": 0.03686,
     "end_time": "2024-03-10T09:13:03.526246",
     "exception": false,
     "start_time": "2024-03-10T09:13:03.489386",
     "status": "completed"
    },
    "tags": []
   },
   "outputs": [],
   "source": [
    "# print(\"Mean target={} where actualdpdtolerance_344P != 0\".format(train[\"target\"].filter(train[\"actualdpdtolerance_344P\"] != 0).mean()))\n",
    "# print(\"Mean target={} where actualdpdtolerance_344P == 0\".format(train[\"target\"].filter(train[\"actualdpdtolerance_344P\"] == 0).mean()))\n",
    "# print(\"Mean target={} where actualdpdtolerance_344P is null\".format(train[\"target\"].filter(train[\"actualdpdtolerance_344P\"].is_null()).mean()))"
   ]
  },
  {
   "cell_type": "code",
   "execution_count": 26,
   "id": "9913b387",
   "metadata": {
    "execution": {
     "iopub.execute_input": "2024-03-10T09:13:03.578935Z",
     "iopub.status.busy": "2024-03-10T09:13:03.577425Z",
     "iopub.status.idle": "2024-03-10T09:13:03.583400Z",
     "shell.execute_reply": "2024-03-10T09:13:03.582364Z"
    },
    "papermill": {
     "duration": 0.034081,
     "end_time": "2024-03-10T09:13:03.585881",
     "exception": false,
     "start_time": "2024-03-10T09:13:03.551800",
     "status": "completed"
    },
    "tags": []
   },
   "outputs": [],
   "source": [
    "# columns = [column for column in train.columns if (train[column].dtype == pl.Float64)]\n",
    "\n",
    "# figure, axis = plt.subplots(len(columns) // 5 + 1, 5, figsize=(15, 30))\n",
    "# for index, column in enumerate(columns):\n",
    "#     current_plot = axis[index // 5, index % 5]\n",
    "#     x = train[column]\n",
    "#     y = train[\"target\"]\n",
    "#     if (x.dtype == pl.String or x.dtype == pl.Boolean):\n",
    "#         continue\n",
    "#     filter = x.is_not_null()\n",
    "#     x = x.filter(filter)\n",
    "#     y = y.filter(filter)\n",
    "#     if (x.is_empty()):\n",
    "#         continue\n",
    "#     x_bucket, y_bucket = bucket_mean_split(x.to_numpy(), y.to_numpy(), buckets=100)\n",
    "#     current_plot.plot(x_bucket, y_bucket)\n",
    "#     current_plot.set_title(column)\n",
    "# plt.show()"
   ]
  },
  {
   "cell_type": "code",
   "execution_count": 27,
   "id": "b6624c60",
   "metadata": {
    "execution": {
     "iopub.execute_input": "2024-03-10T09:13:03.635714Z",
     "iopub.status.busy": "2024-03-10T09:13:03.635228Z",
     "iopub.status.idle": "2024-03-10T09:13:03.640145Z",
     "shell.execute_reply": "2024-03-10T09:13:03.638859Z"
    },
    "papermill": {
     "duration": 0.033451,
     "end_time": "2024-03-10T09:13:03.642977",
     "exception": false,
     "start_time": "2024-03-10T09:13:03.609526",
     "status": "completed"
    },
    "tags": []
   },
   "outputs": [],
   "source": [
    "# features = train_df.columns\n",
    "# features.remove(\"WEEK_NUM\")\n",
    "# features.remove(\"case_id\")\n",
    "# features.remove(\"target\")"
   ]
  },
  {
   "cell_type": "code",
   "execution_count": 28,
   "id": "a38e25c4",
   "metadata": {
    "execution": {
     "iopub.execute_input": "2024-03-10T09:13:03.693946Z",
     "iopub.status.busy": "2024-03-10T09:13:03.693519Z",
     "iopub.status.idle": "2024-03-10T09:13:03.699697Z",
     "shell.execute_reply": "2024-03-10T09:13:03.697798Z"
    },
    "papermill": {
     "duration": 0.03504,
     "end_time": "2024-03-10T09:13:03.702102",
     "exception": false,
     "start_time": "2024-03-10T09:13:03.667062",
     "status": "completed"
    },
    "tags": []
   },
   "outputs": [],
   "source": [
    "# gc.collect()"
   ]
  },
  {
   "cell_type": "markdown",
   "id": "f16be78b",
   "metadata": {
    "papermill": {
     "duration": 0.023461,
     "end_time": "2024-03-10T09:13:03.750483",
     "exception": false,
     "start_time": "2024-03-10T09:13:03.727022",
     "status": "completed"
    },
    "tags": []
   },
   "source": [
    "### Feature Importance"
   ]
  },
  {
   "cell_type": "code",
   "execution_count": 29,
   "id": "c1eeb615",
   "metadata": {
    "execution": {
     "iopub.execute_input": "2024-03-10T09:13:03.802179Z",
     "iopub.status.busy": "2024-03-10T09:13:03.800675Z",
     "iopub.status.idle": "2024-03-10T09:13:03.807000Z",
     "shell.execute_reply": "2024-03-10T09:13:03.806106Z"
    },
    "papermill": {
     "duration": 0.034935,
     "end_time": "2024-03-10T09:13:03.809404",
     "exception": false,
     "start_time": "2024-03-10T09:13:03.774469",
     "status": "completed"
    },
    "tags": []
   },
   "outputs": [],
   "source": [
    "# def train_rf(X, Y):    \n",
    "#     params = {\n",
    "#         \"boosting_type\": \"gbdt\",\n",
    "#         \"objective\": \"binary\",\n",
    "#         \"metric\": \"auc\",\n",
    "#         \"max_depth\": 8,\n",
    "#         \"max_bin\": 255,\n",
    "#         \"learning_rate\": 0.05,\n",
    "#         \"n_estimators\": 200,\n",
    "#         \"colsample_bytree\": 0.8, \n",
    "#         \"colsample_bynode\": 0.8,\n",
    "#         \"verbose\": -1,\n",
    "#         \"random_state\": 42,\n",
    "#         \"device\": \"gpu\",\n",
    "#     }\n",
    "    \n",
    "#     model = lgb.LGBMClassifier(**params)\n",
    "    \n",
    "#     model.fit(X.to_pandas(), Y.to_pandas())\n",
    "    \n",
    "#     # Get feature importances\n",
    "#     return pl.DataFrame({\n",
    "#         \"feature\": list(X.columns),\n",
    "#         \"feature_importance\": model.feature_importances_,\n",
    "#         \"train_score\": roc_auc_score(Y.to_pandas(), model.predict(X.to_pandas()))\n",
    "#     })"
   ]
  },
  {
   "cell_type": "code",
   "execution_count": 30,
   "id": "0ba45d98",
   "metadata": {
    "execution": {
     "iopub.execute_input": "2024-03-10T09:13:03.861427Z",
     "iopub.status.busy": "2024-03-10T09:13:03.860702Z",
     "iopub.status.idle": "2024-03-10T09:13:03.865360Z",
     "shell.execute_reply": "2024-03-10T09:13:03.864485Z"
    },
    "papermill": {
     "duration": 0.034428,
     "end_time": "2024-03-10T09:13:03.868175",
     "exception": false,
     "start_time": "2024-03-10T09:13:03.833747",
     "status": "completed"
    },
    "tags": []
   },
   "outputs": [],
   "source": [
    "# def get_feature_importance(X, Y):\n",
    "#     COUNT_ITER = 50\n",
    "    \n",
    "#     dfs = []\n",
    "#     for i in range(COUNT_ITER):\n",
    "#         gc.collect()\n",
    "        \n",
    "#         start_time = time.time()\n",
    "#         shuffled_Y = Y.clone().sample(fraction=1.0, shuffle=True)\n",
    "#         current_df = train_rf(X, shuffled_Y)\n",
    "#         finish_time = time.time()\n",
    "#         print(f\"Finish iteration: {i + 1}/{COUNT_ITER}, time: {finish_time - start_time}\")\n",
    "#         current_df = current_df.with_columns(pl.lit(i).alias(\"iteration\"))\n",
    "#         dfs.append(current_df)\n",
    "        \n",
    "#     return pl.concat(dfs, rechunk=True), train_rf(X, Y)"
   ]
  },
  {
   "cell_type": "code",
   "execution_count": 31,
   "id": "114f8e75",
   "metadata": {
    "execution": {
     "iopub.execute_input": "2024-03-10T09:13:03.919020Z",
     "iopub.status.busy": "2024-03-10T09:13:03.918080Z",
     "iopub.status.idle": "2024-03-10T09:13:03.922316Z",
     "shell.execute_reply": "2024-03-10T09:13:03.921541Z"
    },
    "papermill": {
     "duration": 0.031822,
     "end_time": "2024-03-10T09:13:03.924539",
     "exception": false,
     "start_time": "2024-03-10T09:13:03.892717",
     "status": "completed"
    },
    "tags": []
   },
   "outputs": [],
   "source": [
    "# shuffled_feature_importance_df, feature_importance_df = get_feature_importance(train_df[features], train_df[\"target\"])\n",
    "# shuffled_feature_importance_df.write_csv(\"shuffled_feature_importance_df.csv\", separator=\",\")\n",
    "# feature_importance_df.write_csv(\"feature_importance_df.csv\", separator=\",\")"
   ]
  },
  {
   "cell_type": "code",
   "execution_count": 32,
   "id": "b9867237",
   "metadata": {
    "execution": {
     "iopub.execute_input": "2024-03-10T09:13:03.976328Z",
     "iopub.status.busy": "2024-03-10T09:13:03.975493Z",
     "iopub.status.idle": "2024-03-10T09:13:03.980128Z",
     "shell.execute_reply": "2024-03-10T09:13:03.979144Z"
    },
    "papermill": {
     "duration": 0.033512,
     "end_time": "2024-03-10T09:13:03.982507",
     "exception": false,
     "start_time": "2024-03-10T09:13:03.948995",
     "status": "completed"
    },
    "tags": []
   },
   "outputs": [],
   "source": [
    "# important_features = []\n",
    "# for column in feature_importance_df[\"feature\"]:\n",
    "#     shuffled_feature_importance = shuffled_feature_importance_df.filter(shuffled_feature_importance_df[\"feature\"] == column)[\"feature_importance\"].to_numpy()\n",
    "#     feature_importance = feature_importance_df.filter(feature_importance_df[\"feature\"] == column)[\"feature_importance\"][0]\n",
    "    \n",
    "#     if (np.percentile(shuffled_feature_importance, 90) <= feature_importance):\n",
    "#         important_features.append(column)\n",
    "# print(len(important_features), important_features)"
   ]
  },
  {
   "cell_type": "markdown",
   "id": "c2bfd483",
   "metadata": {
    "papermill": {
     "duration": 0.023851,
     "end_time": "2024-03-10T09:13:04.031025",
     "exception": false,
     "start_time": "2024-03-10T09:13:04.007174",
     "status": "completed"
    },
    "tags": []
   },
   "source": [
    "# Training"
   ]
  },
  {
   "cell_type": "code",
   "execution_count": 33,
   "id": "2cf8bf14",
   "metadata": {
    "execution": {
     "iopub.execute_input": "2024-03-10T09:13:04.082048Z",
     "iopub.status.busy": "2024-03-10T09:13:04.081088Z",
     "iopub.status.idle": "2024-03-10T09:13:04.087481Z",
     "shell.execute_reply": "2024-03-10T09:13:04.086034Z"
    },
    "papermill": {
     "duration": 0.034661,
     "end_time": "2024-03-10T09:13:04.090132",
     "exception": false,
     "start_time": "2024-03-10T09:13:04.055471",
     "status": "completed"
    },
    "tags": []
   },
   "outputs": [],
   "source": [
    "# class VotingModel(BaseEstimator, RegressorMixin):\n",
    "#     def __init__(self, estimators):\n",
    "#         super().__init__()\n",
    "#         self.estimators = estimators\n",
    "        \n",
    "#     def fit(self, X, y=None):\n",
    "#         return self\n",
    "    \n",
    "#     def predict(self, X):\n",
    "#         y_preds = [estimator.predict(X) for estimator in self.estimators]\n",
    "#         return np.mean(y_preds, axis=0)\n",
    "    \n",
    "#     def predict_proba(self, X):\n",
    "#         y_preds = [estimator.predict_proba(X) for estimator in self.estimators]\n",
    "#         return np.mean(y_preds, axis=0)\n",
    "    \n",
    "#     def get_feature_importance(self):\n",
    "#         feature_importances = np.array([0 for feature in features])\n",
    "\n",
    "#         for model in self.estimators:\n",
    "#             feature_importances += model.feature_importances_\n",
    "\n",
    "#         return feature_importances"
   ]
  },
  {
   "cell_type": "code",
   "execution_count": 34,
   "id": "605336c3",
   "metadata": {
    "execution": {
     "iopub.execute_input": "2024-03-10T09:13:04.141911Z",
     "iopub.status.busy": "2024-03-10T09:13:04.140499Z",
     "iopub.status.idle": "2024-03-10T09:13:04.145431Z",
     "shell.execute_reply": "2024-03-10T09:13:04.144673Z"
    },
    "papermill": {
     "duration": 0.03355,
     "end_time": "2024-03-10T09:13:04.147689",
     "exception": false,
     "start_time": "2024-03-10T09:13:04.114139",
     "status": "completed"
    },
    "tags": []
   },
   "outputs": [],
   "source": [
    "# for column in features:\n",
    "#     if (train_dataset[column].dtype != pl.Categorical) and \\\n",
    "#         (train_dataset[column].dtype != pl.Float64) and \\\n",
    "#         (train_dataset[column].dtype != pl.Float64):\n",
    "#         print(column, train_dataset[column].dtype)"
   ]
  },
  {
   "cell_type": "code",
   "execution_count": 35,
   "id": "b5d053e3",
   "metadata": {
    "execution": {
     "iopub.execute_input": "2024-03-10T09:13:04.200552Z",
     "iopub.status.busy": "2024-03-10T09:13:04.199173Z",
     "iopub.status.idle": "2024-03-10T09:13:04.206055Z",
     "shell.execute_reply": "2024-03-10T09:13:04.204783Z"
    },
    "papermill": {
     "duration": 0.03635,
     "end_time": "2024-03-10T09:13:04.208691",
     "exception": false,
     "start_time": "2024-03-10T09:13:04.172341",
     "status": "completed"
    },
    "tags": []
   },
   "outputs": [],
   "source": [
    "# def train_lgb_model(X_train, Y_train, X_test, Y_test):\n",
    "#     params = {\n",
    "#         \"boosting_type\": \"gbdt\",\n",
    "#         \"objective\": \"binary\",\n",
    "#         \"metric\": \"auc\",\n",
    "#         \"max_depth\": 8,\n",
    "#         \"max_bin\": 250,\n",
    "#         \"learning_rate\": 0.05,\n",
    "#         \"n_estimators\": 1000,\n",
    "#         \"colsample_bytree\": 0.8, \n",
    "#         \"colsample_bynode\": 0.8,\n",
    "#         \"verbose\": -1,\n",
    "#         \"random_state\": 42,\n",
    "#         \"device\": \"gpu\",\n",
    "#     }\n",
    "    \n",
    "#     model = lgb.LGBMClassifier(**params)\n",
    "    \n",
    "#     model.fit(\n",
    "#         X_train, Y_train,\n",
    "#         eval_set=[(X_test, Y_test)],\n",
    "#         callbacks=[lgb.log_evaluation(100), lgb.early_stopping(100)]\n",
    "#     )\n",
    "        \n",
    "#     return model"
   ]
  },
  {
   "cell_type": "code",
   "execution_count": 36,
   "id": "35095d57",
   "metadata": {
    "execution": {
     "iopub.execute_input": "2024-03-10T09:13:04.259083Z",
     "iopub.status.busy": "2024-03-10T09:13:04.258616Z",
     "iopub.status.idle": "2024-03-10T09:13:04.264092Z",
     "shell.execute_reply": "2024-03-10T09:13:04.262815Z"
    },
    "papermill": {
     "duration": 0.03348,
     "end_time": "2024-03-10T09:13:04.266482",
     "exception": false,
     "start_time": "2024-03-10T09:13:04.233002",
     "status": "completed"
    },
    "tags": []
   },
   "outputs": [],
   "source": [
    "# gc.collect()"
   ]
  },
  {
   "cell_type": "code",
   "execution_count": 37,
   "id": "c2aac2d0",
   "metadata": {
    "execution": {
     "iopub.execute_input": "2024-03-10T09:13:04.317716Z",
     "iopub.status.busy": "2024-03-10T09:13:04.316599Z",
     "iopub.status.idle": "2024-03-10T09:13:04.324114Z",
     "shell.execute_reply": "2024-03-10T09:13:04.322764Z"
    },
    "papermill": {
     "duration": 0.035646,
     "end_time": "2024-03-10T09:13:04.326551",
     "exception": false,
     "start_time": "2024-03-10T09:13:04.290905",
     "status": "completed"
    },
    "tags": []
   },
   "outputs": [],
   "source": [
    "# weeks = train_df[\"WEEK_NUM\"]\n",
    "# cv = StratifiedGroupKFold(n_splits=5, shuffle=False)\n",
    "\n",
    "# fitted_models = []\n",
    "\n",
    "# oof_predicted = np.zeros(train_df.shape[0])\n",
    "\n",
    "# for idx_train, idx_test in cv.split(train_df[features], train_df[\"target\"], groups=weeks):        \n",
    "# #     X_train = train_df[features][idx_train].to_pandas()\n",
    "# #     Y_train = train_df[\"target\"][idx_train].to_pandas()\n",
    "    \n",
    "#     X_test = train_df[features][idx_test].to_pandas()\n",
    "#     Y_test = train_df[\"target\"][idx_test].to_pandas()\n",
    "    \n",
    "#     start = time.time()\n",
    "#     params = {\n",
    "#         \"boosting_type\": \"gbdt\",\n",
    "#         \"objective\": \"binary\",\n",
    "#         \"metric\": \"auc\",\n",
    "#         \"max_depth\": 8,\n",
    "#         \"max_bin\": 250,\n",
    "#         \"learning_rate\": 0.05,\n",
    "#         \"n_estimators\": 1000,\n",
    "#         \"colsample_bytree\": 0.8, \n",
    "#         \"colsample_bynode\": 0.8,\n",
    "#         \"verbose\": -1,\n",
    "#         \"random_state\": 42,\n",
    "#         \"device\": \"gpu\",\n",
    "#     }\n",
    "    \n",
    "#     model = lgb.LGBMClassifier(**params)\n",
    "    \n",
    "#     model.fit(\n",
    "#         train_df[features][idx_train].to_pandas(), train_df[\"target\"][idx_train].to_pandas(),\n",
    "#         eval_set=[(X_test, Y_test)],\n",
    "#         callbacks=[lgb.log_evaluation(100), lgb.early_stopping(100)]\n",
    "#     )\n",
    "        \n",
    "\n",
    "# #    model = train_lgb_model(X_train, Y_train, X_test, Y_test)\n",
    "#     finish = time.time()\n",
    "    \n",
    "#     print(\"fit time: {}\".format(finish - start))\n",
    "#     fitted_models.append(model)\n",
    "    \n",
    "#     test_pred = model.predict_proba(X_test)[:, 1]\n",
    "#     oof_predicted[idx_test] = test_pred\n",
    "#     gc.collect()\n",
    "\n",
    "# model = VotingModel(fitted_models)\n",
    "# gc.collect()"
   ]
  },
  {
   "cell_type": "code",
   "execution_count": 38,
   "id": "4d594726",
   "metadata": {
    "execution": {
     "iopub.execute_input": "2024-03-10T09:13:04.378524Z",
     "iopub.status.busy": "2024-03-10T09:13:04.378071Z",
     "iopub.status.idle": "2024-03-10T09:13:04.383268Z",
     "shell.execute_reply": "2024-03-10T09:13:04.381973Z"
    },
    "papermill": {
     "duration": 0.03463,
     "end_time": "2024-03-10T09:13:04.385683",
     "exception": false,
     "start_time": "2024-03-10T09:13:04.351053",
     "status": "completed"
    },
    "tags": []
   },
   "outputs": [],
   "source": [
    "# roc_auc_oof = roc_auc_score(train_df[\"target\"], oof_predicted)\n",
    "# print(\"CV roc_auc_oof: \", roc_auc_oof)"
   ]
  },
  {
   "cell_type": "markdown",
   "id": "1ea43b89",
   "metadata": {
    "papermill": {
     "duration": 0.023764,
     "end_time": "2024-03-10T09:13:04.434392",
     "exception": false,
     "start_time": "2024-03-10T09:13:04.410628",
     "status": "completed"
    },
    "tags": []
   },
   "source": [
    "# Predict"
   ]
  },
  {
   "cell_type": "code",
   "execution_count": 39,
   "id": "c80c1b68",
   "metadata": {
    "execution": {
     "iopub.execute_input": "2024-03-10T09:13:04.485788Z",
     "iopub.status.busy": "2024-03-10T09:13:04.484475Z",
     "iopub.status.idle": "2024-03-10T09:13:04.489880Z",
     "shell.execute_reply": "2024-03-10T09:13:04.488972Z"
    },
    "papermill": {
     "duration": 0.033788,
     "end_time": "2024-03-10T09:13:04.492315",
     "exception": false,
     "start_time": "2024-03-10T09:13:04.458527",
     "status": "completed"
    },
    "tags": []
   },
   "outputs": [],
   "source": [
    "# del train_df\n",
    "# gc.collect()"
   ]
  },
  {
   "cell_type": "code",
   "execution_count": 40,
   "id": "d01fe64d",
   "metadata": {
    "execution": {
     "iopub.execute_input": "2024-03-10T09:13:04.544292Z",
     "iopub.status.busy": "2024-03-10T09:13:04.542984Z",
     "iopub.status.idle": "2024-03-10T09:13:04.548860Z",
     "shell.execute_reply": "2024-03-10T09:13:04.547506Z"
    },
    "papermill": {
     "duration": 0.034378,
     "end_time": "2024-03-10T09:13:04.551258",
     "exception": false,
     "start_time": "2024-03-10T09:13:04.516880",
     "status": "completed"
    },
    "tags": []
   },
   "outputs": [],
   "source": [
    "# test_dataset = data_loader.load_test_dataset()\n",
    "# print(\"Test dataset week range: {}-{}\".format(test_dataset.base[\"WEEK_NUM\"].min(), test_dataset.base[\"WEEK_NUM\"].max()))\n",
    "# gc.collect()\n",
    "# test_df = preprocessor.process_test_dataset(test_dataset)\n",
    "# del test_dataset\n",
    "# gc.collect()"
   ]
  },
  {
   "cell_type": "code",
   "execution_count": 41,
   "id": "8cc94a93",
   "metadata": {
    "execution": {
     "iopub.execute_input": "2024-03-10T09:13:04.603582Z",
     "iopub.status.busy": "2024-03-10T09:13:04.602587Z",
     "iopub.status.idle": "2024-03-10T09:13:04.608165Z",
     "shell.execute_reply": "2024-03-10T09:13:04.607000Z"
    },
    "papermill": {
     "duration": 0.033786,
     "end_time": "2024-03-10T09:13:04.610428",
     "exception": false,
     "start_time": "2024-03-10T09:13:04.576642",
     "status": "completed"
    },
    "tags": []
   },
   "outputs": [],
   "source": [
    "# print([name for value, name in reversed(sorted(zip(model.get_feature_importance(), features)))][0:200])"
   ]
  },
  {
   "cell_type": "code",
   "execution_count": null,
   "id": "73484aaf",
   "metadata": {
    "papermill": {
     "duration": 0.023291,
     "end_time": "2024-03-10T09:13:04.657713",
     "exception": false,
     "start_time": "2024-03-10T09:13:04.634422",
     "status": "completed"
    },
    "tags": []
   },
   "outputs": [],
   "source": []
  },
  {
   "cell_type": "code",
   "execution_count": 42,
   "id": "59b40f7f",
   "metadata": {
    "execution": {
     "iopub.execute_input": "2024-03-10T09:13:04.709244Z",
     "iopub.status.busy": "2024-03-10T09:13:04.707930Z",
     "iopub.status.idle": "2024-03-10T09:13:04.713869Z",
     "shell.execute_reply": "2024-03-10T09:13:04.712514Z"
    },
    "papermill": {
     "duration": 0.035027,
     "end_time": "2024-03-10T09:13:04.716323",
     "exception": false,
     "start_time": "2024-03-10T09:13:04.681296",
     "status": "completed"
    },
    "tags": []
   },
   "outputs": [],
   "source": [
    "# CV roc_auc_oof:  0.8353789451006361 without feature selection ~500 features\n",
    "# CV roc_auc_oof:  0.8329322959533371 with feature selection ~200 features"
   ]
  },
  {
   "cell_type": "code",
   "execution_count": null,
   "id": "7806c0f3",
   "metadata": {
    "papermill": {
     "duration": 0.024177,
     "end_time": "2024-03-10T09:13:04.764823",
     "exception": false,
     "start_time": "2024-03-10T09:13:04.740646",
     "status": "completed"
    },
    "tags": []
   },
   "outputs": [],
   "source": []
  },
  {
   "cell_type": "code",
   "execution_count": 43,
   "id": "3d32f9d9",
   "metadata": {
    "execution": {
     "iopub.execute_input": "2024-03-10T09:13:04.814582Z",
     "iopub.status.busy": "2024-03-10T09:13:04.814166Z",
     "iopub.status.idle": "2024-03-10T09:13:04.819820Z",
     "shell.execute_reply": "2024-03-10T09:13:04.818374Z"
    },
    "papermill": {
     "duration": 0.033927,
     "end_time": "2024-03-10T09:13:04.822668",
     "exception": false,
     "start_time": "2024-03-10T09:13:04.788741",
     "status": "completed"
    },
    "tags": []
   },
   "outputs": [],
   "source": [
    "# def gini_stability(dataset, w_fallingrate=88.0, w_resstd=-0.5):\n",
    "#     gini_in_time = dataset\\\n",
    "#         .sort_values(\"WEEK_NUM\")\\\n",
    "#         .groupby(\"WEEK_NUM\")[[\"true\", \"predicted\"]]\\\n",
    "#         .apply(lambda x: 2 * roc_auc_score(x[\"true\"], x[\"predicted\"]) - 1).tolist()\n",
    "    \n",
    "#     x = np.arange(len(gini_in_time))\n",
    "#     y = gini_in_time\n",
    "#     a, b = np.polyfit(x, y, 1)\n",
    "#     y_hat = a * x + b\n",
    "#     residuals = y - y_hat\n",
    "#     res_std = np.std(residuals)\n",
    "#     avg_gini = np.mean(gini_in_time)\n",
    "    \n",
    "#     print(avg_gini, min(0, a), res_std)\n",
    "    \n",
    "#     return avg_gini + w_fallingrate * min(0, a) + w_resstd * res_std"
   ]
  },
  {
   "cell_type": "code",
   "execution_count": 44,
   "id": "c4173275",
   "metadata": {
    "execution": {
     "iopub.execute_input": "2024-03-10T09:13:04.874049Z",
     "iopub.status.busy": "2024-03-10T09:13:04.873304Z",
     "iopub.status.idle": "2024-03-10T09:13:04.878057Z",
     "shell.execute_reply": "2024-03-10T09:13:04.876795Z"
    },
    "papermill": {
     "duration": 0.033316,
     "end_time": "2024-03-10T09:13:04.880506",
     "exception": false,
     "start_time": "2024-03-10T09:13:04.847190",
     "status": "completed"
    },
    "tags": []
   },
   "outputs": [],
   "source": [
    "# # Y_train_predicted = model.predict_proba(train_df[features].to_pandas())\n",
    "# Y_test_predicted = model.predict_proba(test_df[features].to_pandas())"
   ]
  },
  {
   "cell_type": "code",
   "execution_count": 45,
   "id": "4c4007d0",
   "metadata": {
    "execution": {
     "iopub.execute_input": "2024-03-10T09:13:04.932327Z",
     "iopub.status.busy": "2024-03-10T09:13:04.931107Z",
     "iopub.status.idle": "2024-03-10T09:13:04.937413Z",
     "shell.execute_reply": "2024-03-10T09:13:04.936115Z"
    },
    "papermill": {
     "duration": 0.035089,
     "end_time": "2024-03-10T09:13:04.940254",
     "exception": false,
     "start_time": "2024-03-10T09:13:04.905165",
     "status": "completed"
    },
    "tags": []
   },
   "outputs": [],
   "source": [
    "# result = pd.DataFrame({\n",
    "#     \"WEEK_NUM\": train_df[\"WEEK_NUM\"],\n",
    "#     \"true\": train_df[\"target\"],\n",
    "#     \"predicted\": Y_train_predicted[:, 1],\n",
    "# })\n",
    "\n",
    "# train_result = gini_stability(result)\n",
    "# print(\"train_score: {}\".format(train_result))\n",
    "\n",
    "# if MODE == Mode.Train:\n",
    "#     result = pd.DataFrame({\n",
    "#         \"WEEK_NUM\": test_df[\"WEEK_NUM\"],\n",
    "#         \"true\": test_df[\"target\"],\n",
    "#         \"predicted\": Y_test_predicted[:, 1],\n",
    "#     })\n",
    "\n",
    "#     test_result = gini_stability(result)\n",
    "#     print(\"test_score: {}\".format(test_result))"
   ]
  },
  {
   "cell_type": "code",
   "execution_count": 46,
   "id": "01e48af2",
   "metadata": {
    "execution": {
     "iopub.execute_input": "2024-03-10T09:13:04.993615Z",
     "iopub.status.busy": "2024-03-10T09:13:04.993142Z",
     "iopub.status.idle": "2024-03-10T09:13:04.998790Z",
     "shell.execute_reply": "2024-03-10T09:13:04.997315Z"
    },
    "papermill": {
     "duration": 0.036804,
     "end_time": "2024-03-10T09:13:05.001589",
     "exception": false,
     "start_time": "2024-03-10T09:13:04.964785",
     "status": "completed"
    },
    "tags": []
   },
   "outputs": [],
   "source": [
    "# Version 1, test_score: 0.583319926590042, public score 0.48\n",
    "# 100 iters\n",
    "\n",
    "# Version 2, test_score: 0.6062624701357268, public score 0.517\n",
    "# 300 iters\n",
    "\n",
    "# Version 3, test_score: ?, public score 0.545\n",
    "# 2000 iters\n",
    "\n",
    "# Version 4, test_score: ?, public score ?\n",
    "# ? iters, Improve aggregate functions for depth_1, depth_2\n"
   ]
  },
  {
   "cell_type": "markdown",
   "id": "dd4dc4d2",
   "metadata": {
    "papermill": {
     "duration": 0.024289,
     "end_time": "2024-03-10T09:13:05.050581",
     "exception": false,
     "start_time": "2024-03-10T09:13:05.026292",
     "status": "completed"
    },
    "tags": []
   },
   "source": [
    "# Submition"
   ]
  },
  {
   "cell_type": "code",
   "execution_count": 47,
   "id": "29fb17e2",
   "metadata": {
    "execution": {
     "iopub.execute_input": "2024-03-10T09:13:05.103087Z",
     "iopub.status.busy": "2024-03-10T09:13:05.101462Z",
     "iopub.status.idle": "2024-03-10T09:13:05.107308Z",
     "shell.execute_reply": "2024-03-10T09:13:05.106492Z"
    },
    "papermill": {
     "duration": 0.034406,
     "end_time": "2024-03-10T09:13:05.109628",
     "exception": false,
     "start_time": "2024-03-10T09:13:05.075222",
     "status": "completed"
    },
    "tags": []
   },
   "outputs": [],
   "source": [
    "# case_id = test_df[\"case_id\"]\n",
    "# X = test_df[features].to_pandas()\n",
    "\n",
    "# Y = model.predict_proba(X)\n",
    "\n",
    "# submission = pd.DataFrame({\n",
    "#     \"case_id\": case_id.to_numpy(),\n",
    "#     \"score\": Y[:, 1]\n",
    "# }).set_index('case_id')\n",
    "# submission.to_csv(\"./submission.csv\")"
   ]
  },
  {
   "cell_type": "code",
   "execution_count": null,
   "id": "47b4e56d",
   "metadata": {
    "papermill": {
     "duration": 0.024621,
     "end_time": "2024-03-10T09:13:05.158842",
     "exception": false,
     "start_time": "2024-03-10T09:13:05.134221",
     "status": "completed"
    },
    "tags": []
   },
   "outputs": [],
   "source": []
  },
  {
   "cell_type": "code",
   "execution_count": null,
   "id": "38b371de",
   "metadata": {
    "papermill": {
     "duration": 0.023982,
     "end_time": "2024-03-10T09:13:05.207098",
     "exception": false,
     "start_time": "2024-03-10T09:13:05.183116",
     "status": "completed"
    },
    "tags": []
   },
   "outputs": [],
   "source": []
  },
  {
   "cell_type": "code",
   "execution_count": null,
   "id": "0e72970d",
   "metadata": {
    "papermill": {
     "duration": 0.023767,
     "end_time": "2024-03-10T09:13:05.255207",
     "exception": false,
     "start_time": "2024-03-10T09:13:05.231440",
     "status": "completed"
    },
    "tags": []
   },
   "outputs": [],
   "source": []
  }
 ],
 "metadata": {
  "kaggle": {
   "accelerator": "none",
   "dataSources": [
    {
     "databundleVersionId": 7602123,
     "sourceId": 50160,
     "sourceType": "competition"
    },
    {
     "datasetId": 4496896,
     "sourceId": 7805757,
     "sourceType": "datasetVersion"
    }
   ],
   "dockerImageVersionId": 30635,
   "isGpuEnabled": false,
   "isInternetEnabled": false,
   "language": "python",
   "sourceType": "notebook"
  },
  "kernelspec": {
   "display_name": "Python 3",
   "language": "python",
   "name": "python3"
  },
  "language_info": {
   "codemirror_mode": {
    "name": "ipython",
    "version": 3
   },
   "file_extension": ".py",
   "mimetype": "text/x-python",
   "name": "python",
   "nbconvert_exporter": "python",
   "pygments_lexer": "ipython3",
   "version": "3.10.12"
  },
  "papermill": {
   "default_parameters": {},
   "duration": 1072.343553,
   "end_time": "2024-03-10T09:13:06.411824",
   "environment_variables": {},
   "exception": null,
   "input_path": "__notebook__.ipynb",
   "output_path": "__notebook__.ipynb",
   "parameters": {},
   "start_time": "2024-03-10T08:55:14.068271",
   "version": "2.4.0"
  }
 },
 "nbformat": 4,
 "nbformat_minor": 5
}
