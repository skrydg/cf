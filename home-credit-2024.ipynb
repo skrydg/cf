{
 "cells": [
  {
   "cell_type": "markdown",
   "id": "4055e1fb",
   "metadata": {
    "papermill": {
     "duration": 0.014377,
     "end_time": "2024-02-27T08:16:51.624935",
     "exception": false,
     "start_time": "2024-02-27T08:16:51.610558",
     "status": "completed"
    },
    "tags": []
   },
   "source": [
    "# Install packages"
   ]
  },
  {
   "cell_type": "code",
   "execution_count": 1,
   "id": "d96b65d4",
   "metadata": {
    "execution": {
     "iopub.execute_input": "2024-02-27T08:16:51.655364Z",
     "iopub.status.busy": "2024-02-27T08:16:51.654620Z",
     "iopub.status.idle": "2024-02-27T08:17:27.459518Z",
     "shell.execute_reply": "2024-02-27T08:17:27.458091Z"
    },
    "papermill": {
     "duration": 35.823444,
     "end_time": "2024-02-27T08:17:27.462617",
     "exception": false,
     "start_time": "2024-02-27T08:16:51.639173",
     "status": "completed"
    },
    "tags": []
   },
   "outputs": [
    {
     "name": "stdout",
     "output_type": "stream",
     "text": [
      "Processing /kaggle/input/kaggle-home-credit-risk-model-stability-lib/kaggle_home_credit_risk_model_stability-0.3-py3-none-any.whl\r\n",
      "Installing collected packages: kaggle-home-credit-risk-model-stability\r\n",
      "Successfully installed kaggle-home-credit-risk-model-stability-0.3\r\n"
     ]
    }
   ],
   "source": [
    "!pip install /kaggle/input/kaggle-home-credit-risk-model-stability-lib/kaggle_home_credit_risk_model_stability-0.3-py3-none-any.whl --force-reinstall"
   ]
  },
  {
   "cell_type": "markdown",
   "id": "0a9870a6",
   "metadata": {
    "papermill": {
     "duration": 0.013841,
     "end_time": "2024-02-27T08:17:27.491008",
     "exception": false,
     "start_time": "2024-02-27T08:17:27.477167",
     "status": "completed"
    },
    "tags": []
   },
   "source": [
    "# Import packages"
   ]
  },
  {
   "cell_type": "code",
   "execution_count": 2,
   "id": "f2cb9771",
   "metadata": {
    "execution": {
     "iopub.execute_input": "2024-02-27T08:17:27.521456Z",
     "iopub.status.busy": "2024-02-27T08:17:27.521026Z",
     "iopub.status.idle": "2024-02-27T08:17:32.623257Z",
     "shell.execute_reply": "2024-02-27T08:17:32.622409Z"
    },
    "papermill": {
     "duration": 5.120744,
     "end_time": "2024-02-27T08:17:32.626178",
     "exception": false,
     "start_time": "2024-02-27T08:17:27.505434",
     "status": "completed"
    },
    "tags": []
   },
   "outputs": [],
   "source": [
    "import polars as pl\n",
    "import gc\n",
    "import time\n",
    "import numpy as np\n",
    "import pandas as pd\n",
    "import lightgbm as lgb\n",
    "import seaborn as sns\n",
    "import matplotlib.pyplot as plt\n",
    "import copy\n",
    "import lightgbm as lgb\n",
    "import importlib\n",
    "\n",
    "import kaggle_home_credit_risk_model_stability.libs as hcr\n",
    "from kaggle_home_credit_risk_model_stability.libs.input.dataset import Dataset\n",
    "from kaggle_home_credit_risk_model_stability.libs.input.data_loader import DataLoader\n",
    "from kaggle_home_credit_risk_model_stability.libs.preprocessor.preprocessor import Preprocessor\n",
    "from kaggle_home_credit_risk_model_stability.libs.preprocessor.steps import *\n",
    "from kaggle_home_credit_risk_model_stability.libs.feature_description.feature_description import FreatureDescriptionGetter\n",
    "\n",
    "from glob import glob\n",
    "from pathlib import Path\n",
    "from sklearn.model_selection import train_test_split\n",
    "from sklearn.metrics import roc_auc_score\n",
    "from sklearn.model_selection import StratifiedGroupKFold\n",
    "from sklearn.base import BaseEstimator, RegressorMixin\n",
    "from catboost import CatBoostClassifier\n",
    "from enum import Enum"
   ]
  },
  {
   "cell_type": "code",
   "execution_count": 3,
   "id": "a4d2ed4b",
   "metadata": {
    "execution": {
     "iopub.execute_input": "2024-02-27T08:17:32.659572Z",
     "iopub.status.busy": "2024-02-27T08:17:32.658912Z",
     "iopub.status.idle": "2024-02-27T08:17:32.666042Z",
     "shell.execute_reply": "2024-02-27T08:17:32.665044Z"
    },
    "papermill": {
     "duration": 0.027193,
     "end_time": "2024-02-27T08:17:32.668466",
     "exception": false,
     "start_time": "2024-02-27T08:17:32.641273",
     "status": "completed"
    },
    "tags": []
   },
   "outputs": [],
   "source": [
    "data_loader = DataLoader()\n",
    "preprocessor = Preprocessor({\n",
    "    \"set_types\": SetTypesStep(),\n",
    "    \"process_categorical\": ProcessCategoricalStep(),\n",
    "    \"generate_cum_features\": GenerateCumFeaturesStep(),\n",
    "#    \"pairwise_diff_raw_dates\": PairwiseDiffDatesStep(),\n",
    "    \"aggregate_depth_table\": AggregateDepthTableStep(),\n",
    "    \"drop_columns\": DropColumnsStep(),\n",
    "    \"join_table\": JoinTablesStep(),\n",
    "    \"reduce_memory_usage\": ReduceMemoryUsageStep(),\n",
    "#   \"drop_non_important_features\": DropNonImportantFeaturesStep()\n",
    "#    \"drop_dates_columns\": DropDatesColumnsStep()\n",
    "})"
   ]
  },
  {
   "cell_type": "code",
   "execution_count": 4,
   "id": "37928d01",
   "metadata": {
    "execution": {
     "iopub.execute_input": "2024-02-27T08:17:32.699535Z",
     "iopub.status.busy": "2024-02-27T08:17:32.698118Z",
     "iopub.status.idle": "2024-02-27T08:17:32.703303Z",
     "shell.execute_reply": "2024-02-27T08:17:32.702416Z"
    },
    "papermill": {
     "duration": 0.022741,
     "end_time": "2024-02-27T08:17:32.705390",
     "exception": false,
     "start_time": "2024-02-27T08:17:32.682649",
     "status": "completed"
    },
    "tags": []
   },
   "outputs": [],
   "source": [
    "# train_dataset = data_loader.load_train_dataset()\n",
    "# case_id_set = train_dataset.get_base().filter(train_dataset.get_base()[\"WEEK_NUM\"] < 50)[\"case_id\"]\n",
    "# train_dataset = train_dataset.filter(lambda table: table.filter(pl.col(\"case_id\").is_in(case_id_set)))"
   ]
  },
  {
   "cell_type": "code",
   "execution_count": null,
   "id": "0b69b523",
   "metadata": {
    "papermill": {
     "duration": 0.013794,
     "end_time": "2024-02-27T08:17:32.733192",
     "exception": false,
     "start_time": "2024-02-27T08:17:32.719398",
     "status": "completed"
    },
    "tags": []
   },
   "outputs": [],
   "source": []
  },
  {
   "cell_type": "code",
   "execution_count": null,
   "id": "ba4e8eb7",
   "metadata": {
    "papermill": {
     "duration": 0.013673,
     "end_time": "2024-02-27T08:17:32.760826",
     "exception": false,
     "start_time": "2024-02-27T08:17:32.747153",
     "status": "completed"
    },
    "tags": []
   },
   "outputs": [],
   "source": []
  },
  {
   "cell_type": "code",
   "execution_count": 5,
   "id": "decd36f7",
   "metadata": {
    "execution": {
     "iopub.execute_input": "2024-02-27T08:17:32.791559Z",
     "iopub.status.busy": "2024-02-27T08:17:32.790096Z",
     "iopub.status.idle": "2024-02-27T08:32:46.854174Z",
     "shell.execute_reply": "2024-02-27T08:32:46.852716Z"
    },
    "papermill": {
     "duration": 914.082265,
     "end_time": "2024-02-27T08:32:46.856831",
     "exception": false,
     "start_time": "2024-02-27T08:17:32.774566",
     "status": "completed"
    },
    "tags": []
   },
   "outputs": [
    {
     "name": "stdout",
     "output_type": "stream",
     "text": [
      "Train dataset week range: 0-91\n",
      "Step: set_types, execution_time: 20.478508234024048\n",
      "Step: process_categorical, execution_time: 27.07859444618225\n",
      "Create 658 new cumulative columns\n",
      "Step: generate_cum_features, execution_time: 645.2294013500214\n",
      "Step: aggregate_depth_table, execution_time: 99.94798278808594\n",
      "Columns to drop: 5086\n",
      "Step: drop_columns, execution_time: 79.51967763900757\n",
      "Step: join_table, execution_time: 18.240469694137573\n",
      "Step: reduce_memory_usage, execution_time: 10.105057716369629\n"
     ]
    },
    {
     "data": {
      "text/plain": [
       "0"
      ]
     },
     "execution_count": 5,
     "metadata": {},
     "output_type": "execute_result"
    }
   ],
   "source": [
    "train_dataset = data_loader.load_train_dataset()\n",
    "print(\"Train dataset week range: {}-{}\".format(train_dataset.get_base()[\"WEEK_NUM\"].min(), train_dataset.get_base()[\"WEEK_NUM\"].max()))\n",
    "gc.collect()\n",
    "train_df = preprocessor.process_train_dataset(train_dataset)\n",
    "del train_dataset\n",
    "gc.collect()"
   ]
  },
  {
   "cell_type": "code",
   "execution_count": 6,
   "id": "4d08d522",
   "metadata": {
    "execution": {
     "iopub.execute_input": "2024-02-27T08:32:46.889113Z",
     "iopub.status.busy": "2024-02-27T08:32:46.888675Z",
     "iopub.status.idle": "2024-02-27T08:32:46.980102Z",
     "shell.execute_reply": "2024-02-27T08:32:46.978545Z"
    },
    "papermill": {
     "duration": 0.110578,
     "end_time": "2024-02-27T08:32:46.982781",
     "exception": false,
     "start_time": "2024-02-27T08:32:46.872203",
     "status": "completed"
    },
    "tags": []
   },
   "outputs": [
    {
     "data": {
      "text/html": [
       "<div><style>\n",
       ".dataframe > thead > tr,\n",
       ".dataframe > tbody > tr {\n",
       "  text-align: right;\n",
       "  white-space: pre-wrap;\n",
       "}\n",
       "</style>\n",
       "<small>shape: (1_526_659, 1_112)</small><table border=\"1\" class=\"dataframe\"><thead><tr><th>case_id</th><th>WEEK_NUM</th><th>target</th><th>assignmentdate_238D</th><th>assignmentdate_4527235D</th><th>birthdate_574D</th><th>contractssum_5085716L</th><th>dateofbirth_337D</th><th>days120_123L</th><th>days180_256L</th><th>days30_165L</th><th>days360_512L</th><th>days90_310L</th><th>description_5085714M</th><th>education_1103M</th><th>education_88M</th><th>firstquarter_103L</th><th>fourthquarter_440L</th><th>maritalst_385M</th><th>maritalst_893M</th><th>pmtaverage_3A</th><th>pmtaverage_4527227A</th><th>pmtcount_4527229L</th><th>pmtcount_693L</th><th>pmtscount_423L</th><th>pmtssum_45A</th><th>requesttype_4525192L</th><th>responsedate_1012D</th><th>responsedate_4527233D</th><th>responsedate_4917613D</th><th>riskassesment_302T</th><th>secondquarter_766L</th><th>thirdquarter_1082L</th><th>actualdpdtolerance_344P</th><th>amtinstpaidbefduel24m_4187115A</th><th>annuity_780A</th><th>annuitynextmonth_57A</th><th>&hellip;</th><th>mean_openingdate_313D_cum_mean</th><th>mean_openingdate_313D_cum_max</th><th>mean_openingdate_313D_cum_min</th><th>mean_openingdate_313D_cum_median</th><th>max_openingdate_857D</th><th>max_last180dayaveragebalance_704A_cum_is_null_mean</th><th>max_last180dayturnover_1134A_cum_is_null_mean</th><th>max_openingdate_857D_cum_sum</th><th>max_openingdate_857D_cum_mean</th><th>max_openingdate_857D_cum_min</th><th>max_openingdate_857D_cum_median</th><th>max_openingdate_857D_cum_is_null_mean</th><th>min_openingdate_857D</th><th>min_last180dayaveragebalance_704A_cum_is_null_mean</th><th>min_last180dayturnover_1134A_cum_is_null_mean</th><th>min_openingdate_857D_cum_mean</th><th>min_openingdate_857D_cum_median</th><th>min_openingdate_857D_cum_is_null_mean</th><th>first_openingdate_857D</th><th>first_last180dayaveragebalance_704A_cum_is_null_mean</th><th>first_last180dayturnover_1134A_cum_is_null_mean</th><th>first_openingdate_857D_cum_mean</th><th>first_openingdate_857D_cum_is_null_mean</th><th>last_openingdate_857D</th><th>last_last180dayaveragebalance_704A_cum_is_null_mean</th><th>last_last180dayturnover_1134A_cum_is_null_mean</th><th>last_openingdate_857D_cum_mean</th><th>last_openingdate_857D_cum_median</th><th>last_openingdate_857D_cum_is_null_mean</th><th>mean_last180dayaveragebalance_704A_cum_is_null_mean</th><th>mean_last180dayturnover_1134A_cum_is_null_mean</th><th>mean_openingdate_857D_cum_sum</th><th>mean_openingdate_857D_cum_mean</th><th>mean_openingdate_857D_cum_max</th><th>mean_openingdate_857D_cum_min</th><th>mean_openingdate_857D_cum_median</th><th>mean_openingdate_857D_cum_is_null_mean</th></tr><tr><td>i32</td><td>i8</td><td>i8</td><td>i16</td><td>i16</td><td>i16</td><td>f32</td><td>i16</td><td>f32</td><td>f32</td><td>f32</td><td>f32</td><td>f32</td><td>enum</td><td>enum</td><td>enum</td><td>f32</td><td>f32</td><td>enum</td><td>enum</td><td>f32</td><td>f32</td><td>f32</td><td>f32</td><td>f32</td><td>f32</td><td>enum</td><td>i16</td><td>i16</td><td>i16</td><td>enum</td><td>f32</td><td>f32</td><td>f32</td><td>f32</td><td>f32</td><td>f32</td><td>&hellip;</td><td>f32</td><td>f32</td><td>f32</td><td>f32</td><td>i16</td><td>f32</td><td>f32</td><td>i32</td><td>f32</td><td>i16</td><td>f32</td><td>f32</td><td>i16</td><td>f32</td><td>f32</td><td>f32</td><td>f32</td><td>f32</td><td>i16</td><td>f32</td><td>f32</td><td>f32</td><td>f32</td><td>i16</td><td>f32</td><td>f32</td><td>f32</td><td>f32</td><td>f32</td><td>f32</td><td>f32</td><td>f32</td><td>f32</td><td>f32</td><td>f32</td><td>f32</td><td>f32</td></tr></thead><tbody><tr><td>0</td><td>0</td><td>0</td><td>null</td><td>null</td><td>null</td><td>null</td><td>null</td><td>null</td><td>null</td><td>null</td><td>null</td><td>null</td><td>null</td><td>null</td><td>null</td><td>null</td><td>null</td><td>null</td><td>null</td><td>null</td><td>null</td><td>null</td><td>null</td><td>null</td><td>null</td><td>null</td><td>null</td><td>null</td><td>null</td><td>null</td><td>null</td><td>null</td><td>null</td><td>null</td><td>1917.599976</td><td>0.0</td><td>&hellip;</td><td>null</td><td>null</td><td>null</td><td>null</td><td>null</td><td>null</td><td>null</td><td>null</td><td>null</td><td>null</td><td>null</td><td>null</td><td>null</td><td>null</td><td>null</td><td>null</td><td>null</td><td>null</td><td>null</td><td>null</td><td>null</td><td>null</td><td>null</td><td>null</td><td>null</td><td>null</td><td>null</td><td>null</td><td>null</td><td>null</td><td>null</td><td>null</td><td>null</td><td>null</td><td>null</td><td>null</td><td>null</td></tr><tr><td>1</td><td>0</td><td>0</td><td>null</td><td>null</td><td>null</td><td>null</td><td>null</td><td>null</td><td>null</td><td>null</td><td>null</td><td>null</td><td>null</td><td>null</td><td>null</td><td>null</td><td>null</td><td>null</td><td>null</td><td>null</td><td>null</td><td>null</td><td>null</td><td>null</td><td>null</td><td>null</td><td>null</td><td>null</td><td>null</td><td>null</td><td>null</td><td>null</td><td>null</td><td>null</td><td>3134.0</td><td>0.0</td><td>&hellip;</td><td>null</td><td>null</td><td>null</td><td>null</td><td>null</td><td>null</td><td>null</td><td>null</td><td>null</td><td>null</td><td>null</td><td>null</td><td>null</td><td>null</td><td>null</td><td>null</td><td>null</td><td>null</td><td>null</td><td>null</td><td>null</td><td>null</td><td>null</td><td>null</td><td>null</td><td>null</td><td>null</td><td>null</td><td>null</td><td>null</td><td>null</td><td>null</td><td>null</td><td>null</td><td>null</td><td>null</td><td>null</td></tr><tr><td>2</td><td>0</td><td>0</td><td>null</td><td>null</td><td>null</td><td>null</td><td>null</td><td>null</td><td>null</td><td>null</td><td>null</td><td>null</td><td>null</td><td>null</td><td>null</td><td>null</td><td>null</td><td>null</td><td>null</td><td>null</td><td>null</td><td>null</td><td>null</td><td>null</td><td>null</td><td>null</td><td>null</td><td>null</td><td>null</td><td>null</td><td>null</td><td>null</td><td>null</td><td>null</td><td>4937.0</td><td>0.0</td><td>&hellip;</td><td>null</td><td>null</td><td>null</td><td>null</td><td>null</td><td>null</td><td>null</td><td>null</td><td>null</td><td>null</td><td>null</td><td>null</td><td>null</td><td>null</td><td>null</td><td>null</td><td>null</td><td>null</td><td>null</td><td>null</td><td>null</td><td>null</td><td>null</td><td>null</td><td>null</td><td>null</td><td>null</td><td>null</td><td>null</td><td>null</td><td>null</td><td>null</td><td>null</td><td>null</td><td>null</td><td>null</td><td>null</td></tr><tr><td>3</td><td>0</td><td>0</td><td>null</td><td>null</td><td>null</td><td>null</td><td>null</td><td>null</td><td>null</td><td>null</td><td>null</td><td>null</td><td>null</td><td>null</td><td>null</td><td>null</td><td>null</td><td>null</td><td>null</td><td>null</td><td>null</td><td>null</td><td>null</td><td>null</td><td>null</td><td>null</td><td>null</td><td>null</td><td>null</td><td>null</td><td>null</td><td>null</td><td>null</td><td>null</td><td>4643.600098</td><td>0.0</td><td>&hellip;</td><td>null</td><td>null</td><td>null</td><td>null</td><td>null</td><td>null</td><td>null</td><td>null</td><td>null</td><td>null</td><td>null</td><td>null</td><td>null</td><td>null</td><td>null</td><td>null</td><td>null</td><td>null</td><td>null</td><td>null</td><td>null</td><td>null</td><td>null</td><td>null</td><td>null</td><td>null</td><td>null</td><td>null</td><td>null</td><td>null</td><td>null</td><td>null</td><td>null</td><td>null</td><td>null</td><td>null</td><td>null</td></tr><tr><td>4</td><td>0</td><td>1</td><td>null</td><td>null</td><td>null</td><td>null</td><td>null</td><td>null</td><td>null</td><td>null</td><td>null</td><td>null</td><td>null</td><td>null</td><td>null</td><td>null</td><td>null</td><td>null</td><td>null</td><td>null</td><td>null</td><td>null</td><td>null</td><td>null</td><td>null</td><td>null</td><td>null</td><td>null</td><td>null</td><td>null</td><td>null</td><td>null</td><td>null</td><td>null</td><td>3390.199951</td><td>0.0</td><td>&hellip;</td><td>null</td><td>null</td><td>null</td><td>null</td><td>null</td><td>null</td><td>null</td><td>null</td><td>null</td><td>null</td><td>null</td><td>null</td><td>null</td><td>null</td><td>null</td><td>null</td><td>null</td><td>null</td><td>null</td><td>null</td><td>null</td><td>null</td><td>null</td><td>null</td><td>null</td><td>null</td><td>null</td><td>null</td><td>null</td><td>null</td><td>null</td><td>null</td><td>null</td><td>null</td><td>null</td><td>null</td><td>null</td></tr><tr><td>5</td><td>0</td><td>0</td><td>null</td><td>null</td><td>null</td><td>null</td><td>null</td><td>null</td><td>null</td><td>null</td><td>null</td><td>null</td><td>null</td><td>null</td><td>null</td><td>null</td><td>null</td><td>null</td><td>null</td><td>null</td><td>null</td><td>null</td><td>null</td><td>null</td><td>null</td><td>null</td><td>null</td><td>null</td><td>null</td><td>null</td><td>null</td><td>null</td><td>null</td><td>null</td><td>3600.0</td><td>0.0</td><td>&hellip;</td><td>null</td><td>null</td><td>null</td><td>null</td><td>null</td><td>null</td><td>null</td><td>null</td><td>null</td><td>null</td><td>null</td><td>null</td><td>null</td><td>null</td><td>null</td><td>null</td><td>null</td><td>null</td><td>null</td><td>null</td><td>null</td><td>null</td><td>null</td><td>null</td><td>null</td><td>null</td><td>null</td><td>null</td><td>null</td><td>null</td><td>null</td><td>null</td><td>null</td><td>null</td><td>null</td><td>null</td><td>null</td></tr><tr><td>6</td><td>0</td><td>0</td><td>null</td><td>null</td><td>null</td><td>null</td><td>null</td><td>null</td><td>null</td><td>null</td><td>null</td><td>null</td><td>null</td><td>null</td><td>null</td><td>null</td><td>null</td><td>null</td><td>null</td><td>null</td><td>null</td><td>null</td><td>null</td><td>null</td><td>null</td><td>null</td><td>null</td><td>null</td><td>null</td><td>null</td><td>null</td><td>null</td><td>0.0</td><td>null</td><td>3110.800049</td><td>0.0</td><td>&hellip;</td><td>null</td><td>null</td><td>null</td><td>null</td><td>null</td><td>null</td><td>null</td><td>null</td><td>null</td><td>null</td><td>null</td><td>null</td><td>null</td><td>null</td><td>null</td><td>null</td><td>null</td><td>null</td><td>null</td><td>null</td><td>null</td><td>null</td><td>null</td><td>null</td><td>null</td><td>null</td><td>null</td><td>null</td><td>null</td><td>null</td><td>null</td><td>null</td><td>null</td><td>null</td><td>null</td><td>null</td><td>null</td></tr><tr><td>7</td><td>0</td><td>0</td><td>null</td><td>null</td><td>null</td><td>null</td><td>null</td><td>null</td><td>null</td><td>null</td><td>null</td><td>null</td><td>null</td><td>null</td><td>null</td><td>null</td><td>null</td><td>null</td><td>null</td><td>null</td><td>null</td><td>null</td><td>null</td><td>null</td><td>null</td><td>null</td><td>null</td><td>null</td><td>null</td><td>null</td><td>null</td><td>null</td><td>null</td><td>null</td><td>1218.0</td><td>0.0</td><td>&hellip;</td><td>null</td><td>null</td><td>null</td><td>null</td><td>null</td><td>null</td><td>null</td><td>null</td><td>null</td><td>null</td><td>null</td><td>null</td><td>null</td><td>null</td><td>null</td><td>null</td><td>null</td><td>null</td><td>null</td><td>null</td><td>null</td><td>null</td><td>null</td><td>null</td><td>null</td><td>null</td><td>null</td><td>null</td><td>null</td><td>null</td><td>null</td><td>null</td><td>null</td><td>null</td><td>null</td><td>null</td><td>null</td></tr><tr><td>8</td><td>0</td><td>0</td><td>null</td><td>null</td><td>null</td><td>null</td><td>null</td><td>null</td><td>null</td><td>null</td><td>null</td><td>null</td><td>null</td><td>null</td><td>null</td><td>null</td><td>null</td><td>null</td><td>null</td><td>null</td><td>null</td><td>null</td><td>null</td><td>null</td><td>null</td><td>null</td><td>null</td><td>null</td><td>null</td><td>null</td><td>null</td><td>null</td><td>null</td><td>null</td><td>8254.799805</td><td>0.0</td><td>&hellip;</td><td>null</td><td>null</td><td>null</td><td>null</td><td>null</td><td>null</td><td>null</td><td>null</td><td>null</td><td>null</td><td>null</td><td>null</td><td>null</td><td>null</td><td>null</td><td>null</td><td>null</td><td>null</td><td>null</td><td>null</td><td>null</td><td>null</td><td>null</td><td>null</td><td>null</td><td>null</td><td>null</td><td>null</td><td>null</td><td>null</td><td>null</td><td>null</td><td>null</td><td>null</td><td>null</td><td>null</td><td>null</td></tr><tr><td>9</td><td>0</td><td>0</td><td>null</td><td>null</td><td>null</td><td>null</td><td>null</td><td>null</td><td>null</td><td>null</td><td>null</td><td>null</td><td>null</td><td>null</td><td>null</td><td>null</td><td>null</td><td>null</td><td>null</td><td>null</td><td>null</td><td>null</td><td>null</td><td>null</td><td>null</td><td>null</td><td>null</td><td>null</td><td>null</td><td>null</td><td>null</td><td>null</td><td>null</td><td>null</td><td>4929.399902</td><td>0.0</td><td>&hellip;</td><td>null</td><td>null</td><td>null</td><td>null</td><td>null</td><td>null</td><td>null</td><td>null</td><td>null</td><td>null</td><td>null</td><td>null</td><td>null</td><td>null</td><td>null</td><td>null</td><td>null</td><td>null</td><td>null</td><td>null</td><td>null</td><td>null</td><td>null</td><td>null</td><td>null</td><td>null</td><td>null</td><td>null</td><td>null</td><td>null</td><td>null</td><td>null</td><td>null</td><td>null</td><td>null</td><td>null</td><td>null</td></tr><tr><td>10</td><td>0</td><td>0</td><td>null</td><td>null</td><td>null</td><td>null</td><td>null</td><td>null</td><td>null</td><td>null</td><td>null</td><td>null</td><td>null</td><td>null</td><td>null</td><td>null</td><td>null</td><td>null</td><td>null</td><td>null</td><td>null</td><td>null</td><td>null</td><td>null</td><td>null</td><td>null</td><td>null</td><td>null</td><td>null</td><td>null</td><td>null</td><td>null</td><td>null</td><td>null</td><td>9568.600586</td><td>0.0</td><td>&hellip;</td><td>null</td><td>null</td><td>null</td><td>null</td><td>null</td><td>null</td><td>null</td><td>null</td><td>null</td><td>null</td><td>null</td><td>null</td><td>null</td><td>null</td><td>null</td><td>null</td><td>null</td><td>null</td><td>null</td><td>null</td><td>null</td><td>null</td><td>null</td><td>null</td><td>null</td><td>null</td><td>null</td><td>null</td><td>null</td><td>null</td><td>null</td><td>null</td><td>null</td><td>null</td><td>null</td><td>null</td><td>null</td></tr><tr><td>11</td><td>0</td><td>0</td><td>null</td><td>null</td><td>null</td><td>null</td><td>null</td><td>null</td><td>null</td><td>null</td><td>null</td><td>null</td><td>null</td><td>null</td><td>null</td><td>null</td><td>null</td><td>null</td><td>null</td><td>null</td><td>null</td><td>null</td><td>null</td><td>null</td><td>null</td><td>null</td><td>null</td><td>null</td><td>null</td><td>null</td><td>null</td><td>null</td><td>null</td><td>null</td><td>4471.0</td><td>0.0</td><td>&hellip;</td><td>null</td><td>null</td><td>null</td><td>null</td><td>null</td><td>null</td><td>null</td><td>null</td><td>null</td><td>null</td><td>null</td><td>null</td><td>null</td><td>null</td><td>null</td><td>null</td><td>null</td><td>null</td><td>null</td><td>null</td><td>null</td><td>null</td><td>null</td><td>null</td><td>null</td><td>null</td><td>null</td><td>null</td><td>null</td><td>null</td><td>null</td><td>null</td><td>null</td><td>null</td><td>null</td><td>null</td><td>null</td></tr><tr><td>&hellip;</td><td>&hellip;</td><td>&hellip;</td><td>&hellip;</td><td>&hellip;</td><td>&hellip;</td><td>&hellip;</td><td>&hellip;</td><td>&hellip;</td><td>&hellip;</td><td>&hellip;</td><td>&hellip;</td><td>&hellip;</td><td>&hellip;</td><td>&hellip;</td><td>&hellip;</td><td>&hellip;</td><td>&hellip;</td><td>&hellip;</td><td>&hellip;</td><td>&hellip;</td><td>&hellip;</td><td>&hellip;</td><td>&hellip;</td><td>&hellip;</td><td>&hellip;</td><td>&hellip;</td><td>&hellip;</td><td>&hellip;</td><td>&hellip;</td><td>&hellip;</td><td>&hellip;</td><td>&hellip;</td><td>&hellip;</td><td>&hellip;</td><td>&hellip;</td><td>&hellip;</td><td>&hellip;</td><td>&hellip;</td><td>&hellip;</td><td>&hellip;</td><td>&hellip;</td><td>&hellip;</td><td>&hellip;</td><td>&hellip;</td><td>&hellip;</td><td>&hellip;</td><td>&hellip;</td><td>&hellip;</td><td>&hellip;</td><td>&hellip;</td><td>&hellip;</td><td>&hellip;</td><td>&hellip;</td><td>&hellip;</td><td>&hellip;</td><td>&hellip;</td><td>&hellip;</td><td>&hellip;</td><td>&hellip;</td><td>&hellip;</td><td>&hellip;</td><td>&hellip;</td><td>&hellip;</td><td>&hellip;</td><td>&hellip;</td><td>&hellip;</td><td>&hellip;</td><td>&hellip;</td><td>&hellip;</td><td>&hellip;</td><td>&hellip;</td><td>&hellip;</td><td>&hellip;</td><td>&hellip;</td></tr><tr><td>2703442</td><td>91</td><td>0</td><td>null</td><td>null</td><td>null</td><td>447606.65625</td><td>-6820</td><td>0.0</td><td>0.0</td><td>0.0</td><td>1.0</td><td>0.0</td><td>&quot;2fc785b2&quot;</td><td>&quot;6b2ae0fa&quot;</td><td>&quot;a55475b1&quot;</td><td>3.0</td><td>6.0</td><td>&quot;3439d993&quot;</td><td>&quot;a55475b1&quot;</td><td>null</td><td>null</td><td>null</td><td>null</td><td>null</td><td>null</td><td>&quot;__UNKNOWN__&quot;</td><td>null</td><td>null</td><td>18554</td><td>&quot;__UNKNOWN__&quot;</td><td>1.0</td><td>8.0</td><td>0.0</td><td>60927.238281</td><td>6111.600098</td><td>0.0</td><td>&hellip;</td><td>null</td><td>null</td><td>null</td><td>null</td><td>null</td><td>null</td><td>null</td><td>null</td><td>null</td><td>null</td><td>null</td><td>null</td><td>null</td><td>null</td><td>null</td><td>null</td><td>null</td><td>null</td><td>null</td><td>null</td><td>null</td><td>null</td><td>null</td><td>null</td><td>null</td><td>null</td><td>null</td><td>null</td><td>null</td><td>null</td><td>null</td><td>null</td><td>null</td><td>null</td><td>null</td><td>null</td><td>null</td></tr><tr><td>2703443</td><td>91</td><td>0</td><td>null</td><td>null</td><td>null</td><td>2.263403e6</td><td>-365</td><td>2.0</td><td>2.0</td><td>1.0</td><td>7.0</td><td>2.0</td><td>&quot;2fc785b2&quot;</td><td>&quot;717ddd49&quot;</td><td>&quot;a55475b1&quot;</td><td>2.0</td><td>5.0</td><td>&quot;3439d993&quot;</td><td>&quot;a55475b1&quot;</td><td>null</td><td>null</td><td>null</td><td>null</td><td>null</td><td>null</td><td>&quot;__UNKNOWN__&quot;</td><td>null</td><td>null</td><td>18543</td><td>&quot;__UNKNOWN__&quot;</td><td>2.0</td><td>3.0</td><td>0.0</td><td>169487.71875</td><td>4960.800293</td><td>2717.199951</td><td>&hellip;</td><td>null</td><td>null</td><td>null</td><td>null</td><td>null</td><td>null</td><td>null</td><td>null</td><td>null</td><td>null</td><td>null</td><td>null</td><td>null</td><td>null</td><td>null</td><td>null</td><td>null</td><td>null</td><td>null</td><td>null</td><td>null</td><td>null</td><td>null</td><td>null</td><td>null</td><td>null</td><td>null</td><td>null</td><td>null</td><td>null</td><td>null</td><td>null</td><td>null</td><td>null</td><td>null</td><td>null</td><td>null</td></tr><tr><td>2703445</td><td>91</td><td>0</td><td>null</td><td>null</td><td>null</td><td>null</td><td>-153</td><td>1.0</td><td>1.0</td><td>0.0</td><td>2.0</td><td>1.0</td><td>&quot;2fc785b2&quot;</td><td>&quot;6b2ae0fa&quot;</td><td>&quot;a55475b1&quot;</td><td>1.0</td><td>3.0</td><td>&quot;3439d993&quot;</td><td>&quot;a55475b1&quot;</td><td>null</td><td>null</td><td>null</td><td>null</td><td>null</td><td>null</td><td>&quot;__UNKNOWN__&quot;</td><td>null</td><td>null</td><td>18554</td><td>&quot;__UNKNOWN__&quot;</td><td>1.0</td><td>4.0</td><td>0.0</td><td>45531.800781</td><td>5192.600098</td><td>0.0</td><td>&hellip;</td><td>null</td><td>null</td><td>null</td><td>null</td><td>null</td><td>null</td><td>null</td><td>null</td><td>null</td><td>null</td><td>null</td><td>null</td><td>null</td><td>null</td><td>null</td><td>null</td><td>null</td><td>null</td><td>null</td><td>null</td><td>null</td><td>null</td><td>null</td><td>null</td><td>null</td><td>null</td><td>null</td><td>null</td><td>null</td><td>null</td><td>null</td><td>null</td><td>null</td><td>null</td><td>null</td><td>null</td><td>null</td></tr><tr><td>2703446</td><td>91</td><td>0</td><td>null</td><td>null</td><td>null</td><td>313740.25</td><td>-5145</td><td>3.0</td><td>3.0</td><td>1.0</td><td>5.0</td><td>1.0</td><td>&quot;2fc785b2&quot;</td><td>&quot;a55475b1&quot;</td><td>&quot;a55475b1&quot;</td><td>2.0</td><td>3.0</td><td>&quot;a55475b1&quot;</td><td>&quot;a55475b1&quot;</td><td>null</td><td>null</td><td>null</td><td>null</td><td>null</td><td>null</td><td>&quot;__UNKNOWN__&quot;</td><td>null</td><td>null</td><td>18554</td><td>&quot;__UNKNOWN__&quot;</td><td>3.0</td><td>0.0</td><td>0.0</td><td>75052.203125</td><td>4625.0</td><td>7054.200195</td><td>&hellip;</td><td>null</td><td>null</td><td>null</td><td>null</td><td>null</td><td>null</td><td>null</td><td>null</td><td>null</td><td>null</td><td>null</td><td>null</td><td>null</td><td>null</td><td>null</td><td>null</td><td>null</td><td>null</td><td>null</td><td>null</td><td>null</td><td>null</td><td>null</td><td>null</td><td>null</td><td>null</td><td>null</td><td>null</td><td>null</td><td>null</td><td>null</td><td>null</td><td>null</td><td>null</td><td>null</td><td>null</td><td>null</td></tr><tr><td>2703447</td><td>91</td><td>0</td><td>null</td><td>null</td><td>null</td><td>424142.1875</td><td>-8707</td><td>1.0</td><td>1.0</td><td>0.0</td><td>1.0</td><td>1.0</td><td>&quot;2fc785b2&quot;</td><td>&quot;a55475b1&quot;</td><td>&quot;a55475b1&quot;</td><td>1.0</td><td>0.0</td><td>&quot;a55475b1&quot;</td><td>&quot;a55475b1&quot;</td><td>null</td><td>null</td><td>null</td><td>null</td><td>null</td><td>null</td><td>&quot;__UNKNOWN__&quot;</td><td>null</td><td>null</td><td>18553</td><td>&quot;__UNKNOWN__&quot;</td><td>1.0</td><td>1.0</td><td>0.0</td><td>227610.78125</td><td>4522.600098</td><td>6225.0</td><td>&hellip;</td><td>null</td><td>null</td><td>null</td><td>null</td><td>null</td><td>null</td><td>null</td><td>null</td><td>null</td><td>null</td><td>null</td><td>null</td><td>null</td><td>null</td><td>null</td><td>null</td><td>null</td><td>null</td><td>null</td><td>null</td><td>null</td><td>null</td><td>null</td><td>null</td><td>null</td><td>null</td><td>null</td><td>null</td><td>null</td><td>null</td><td>null</td><td>null</td><td>null</td><td>null</td><td>null</td><td>null</td><td>null</td></tr><tr><td>2703448</td><td>91</td><td>0</td><td>null</td><td>null</td><td>null</td><td>0.0</td><td>-1979</td><td>0.0</td><td>0.0</td><td>0.0</td><td>5.0</td><td>0.0</td><td>&quot;2fc785b2&quot;</td><td>&quot;a55475b1&quot;</td><td>&quot;a55475b1&quot;</td><td>8.0</td><td>3.0</td><td>&quot;3439d993&quot;</td><td>&quot;a55475b1&quot;</td><td>null</td><td>null</td><td>null</td><td>null</td><td>null</td><td>null</td><td>&quot;__UNKNOWN__&quot;</td><td>null</td><td>null</td><td>18554</td><td>&quot;__UNKNOWN__&quot;</td><td>1.0</td><td>2.0</td><td>0.0</td><td>117572.601562</td><td>8016.0</td><td>0.0</td><td>&hellip;</td><td>null</td><td>null</td><td>null</td><td>null</td><td>null</td><td>null</td><td>null</td><td>null</td><td>null</td><td>null</td><td>null</td><td>null</td><td>null</td><td>null</td><td>null</td><td>null</td><td>null</td><td>null</td><td>null</td><td>null</td><td>null</td><td>null</td><td>null</td><td>null</td><td>null</td><td>null</td><td>null</td><td>null</td><td>null</td><td>null</td><td>null</td><td>null</td><td>null</td><td>null</td><td>null</td><td>null</td><td>null</td></tr><tr><td>2703449</td><td>91</td><td>0</td><td>null</td><td>null</td><td>null</td><td>194907.34375</td><td>5599</td><td>1.0</td><td>1.0</td><td>1.0</td><td>4.0</td><td>1.0</td><td>&quot;2fc785b2&quot;</td><td>&quot;a55475b1&quot;</td><td>&quot;a55475b1&quot;</td><td>3.0</td><td>4.0</td><td>&quot;a55475b1&quot;</td><td>&quot;a55475b1&quot;</td><td>null</td><td>null</td><td>null</td><td>null</td><td>null</td><td>null</td><td>&quot;__UNKNOWN__&quot;</td><td>null</td><td>null</td><td>18554</td><td>&quot;__UNKNOWN__&quot;</td><td>1.0</td><td>2.0</td><td>0.0</td><td>104557.25</td><td>8218.0</td><td>5293.200195</td><td>&hellip;</td><td>null</td><td>null</td><td>null</td><td>null</td><td>null</td><td>null</td><td>null</td><td>null</td><td>null</td><td>null</td><td>null</td><td>null</td><td>null</td><td>null</td><td>null</td><td>null</td><td>null</td><td>null</td><td>null</td><td>null</td><td>null</td><td>null</td><td>null</td><td>null</td><td>null</td><td>null</td><td>null</td><td>null</td><td>null</td><td>null</td><td>null</td><td>null</td><td>null</td><td>null</td><td>null</td><td>null</td><td>null</td></tr><tr><td>2703450</td><td>91</td><td>0</td><td>null</td><td>null</td><td>null</td><td>52863.589844</td><td>-3653</td><td>0.0</td><td>0.0</td><td>0.0</td><td>0.0</td><td>0.0</td><td>&quot;2fc785b2&quot;</td><td>&quot;a55475b1&quot;</td><td>&quot;a55475b1&quot;</td><td>0.0</td><td>1.0</td><td>&quot;a55475b1&quot;</td><td>&quot;a55475b1&quot;</td><td>null</td><td>null</td><td>null</td><td>null</td><td>null</td><td>null</td><td>&quot;__UNKNOWN__&quot;</td><td>null</td><td>null</td><td>18554</td><td>&quot;__UNKNOWN__&quot;</td><td>1.0</td><td>1.0</td><td>0.0</td><td>176561.359375</td><td>3675.400146</td><td>0.0</td><td>&hellip;</td><td>null</td><td>null</td><td>null</td><td>null</td><td>null</td><td>null</td><td>null</td><td>null</td><td>null</td><td>null</td><td>null</td><td>null</td><td>null</td><td>null</td><td>null</td><td>null</td><td>null</td><td>null</td><td>null</td><td>null</td><td>null</td><td>null</td><td>null</td><td>null</td><td>null</td><td>null</td><td>null</td><td>null</td><td>null</td><td>null</td><td>null</td><td>null</td><td>null</td><td>null</td><td>null</td><td>null</td><td>null</td></tr><tr><td>2703451</td><td>91</td><td>0</td><td>null</td><td>null</td><td>null</td><td>324608.53125</td><td>-7001</td><td>0.0</td><td>0.0</td><td>0.0</td><td>0.0</td><td>0.0</td><td>&quot;2fc785b2&quot;</td><td>&quot;a55475b1&quot;</td><td>&quot;a55475b1&quot;</td><td>1.0</td><td>0.0</td><td>&quot;a55475b1&quot;</td><td>&quot;a55475b1&quot;</td><td>null</td><td>null</td><td>null</td><td>null</td><td>null</td><td>null</td><td>&quot;__UNKNOWN__&quot;</td><td>null</td><td>null</td><td>18554</td><td>&quot;__UNKNOWN__&quot;</td><td>1.0</td><td>2.0</td><td>0.0</td><td>301276.46875</td><td>7088.600098</td><td>6191.600098</td><td>&hellip;</td><td>null</td><td>null</td><td>null</td><td>null</td><td>null</td><td>null</td><td>null</td><td>null</td><td>null</td><td>null</td><td>null</td><td>null</td><td>null</td><td>null</td><td>null</td><td>null</td><td>null</td><td>null</td><td>null</td><td>null</td><td>null</td><td>null</td><td>null</td><td>null</td><td>null</td><td>null</td><td>null</td><td>null</td><td>null</td><td>null</td><td>null</td><td>null</td><td>null</td><td>null</td><td>null</td><td>null</td><td>null</td></tr><tr><td>2703452</td><td>91</td><td>0</td><td>null</td><td>null</td><td>null</td><td>102738.757812</td><td>2769</td><td>2.0</td><td>2.0</td><td>0.0</td><td>3.0</td><td>2.0</td><td>&quot;2fc785b2&quot;</td><td>&quot;a55475b1&quot;</td><td>&quot;a55475b1&quot;</td><td>0.0</td><td>1.0</td><td>&quot;a55475b1&quot;</td><td>&quot;a55475b1&quot;</td><td>null</td><td>null</td><td>null</td><td>null</td><td>null</td><td>null</td><td>&quot;__UNKNOWN__&quot;</td><td>null</td><td>null</td><td>18554</td><td>&quot;__UNKNOWN__&quot;</td><td>0.0</td><td>4.0</td><td>0.0</td><td>14232.400391</td><td>7788.800293</td><td>0.0</td><td>&hellip;</td><td>null</td><td>null</td><td>null</td><td>null</td><td>null</td><td>null</td><td>null</td><td>null</td><td>null</td><td>null</td><td>null</td><td>null</td><td>null</td><td>null</td><td>null</td><td>null</td><td>null</td><td>null</td><td>null</td><td>null</td><td>null</td><td>null</td><td>null</td><td>null</td><td>null</td><td>null</td><td>null</td><td>null</td><td>null</td><td>null</td><td>null</td><td>null</td><td>null</td><td>null</td><td>null</td><td>null</td><td>null</td></tr><tr><td>2703453</td><td>91</td><td>0</td><td>null</td><td>null</td><td>null</td><td>212683.296875</td><td>-7274</td><td>2.0</td><td>2.0</td><td>1.0</td><td>4.0</td><td>1.0</td><td>&quot;2fc785b2&quot;</td><td>&quot;6b2ae0fa&quot;</td><td>&quot;a55475b1&quot;</td><td>1.0</td><td>3.0</td><td>&quot;3439d993&quot;</td><td>&quot;a55475b1&quot;</td><td>null</td><td>null</td><td>null</td><td>null</td><td>null</td><td>null</td><td>&quot;__UNKNOWN__&quot;</td><td>null</td><td>null</td><td>18552</td><td>&quot;__UNKNOWN__&quot;</td><td>2.0</td><td>1.0</td><td>0.0</td><td>197371.578125</td><td>1195.400024</td><td>2827.199951</td><td>&hellip;</td><td>16513.0</td><td>16584.0</td><td>16442.0</td><td>16513.0</td><td>16584</td><td>1.0</td><td>1.0</td><td>32884</td><td>16584.0</td><td>16584</td><td>16584.0</td><td>0.0</td><td>16300</td><td>1.0</td><td>1.0</td><td>16442.0</td><td>16442.0</td><td>0.0</td><td>16584</td><td>1.0</td><td>1.0</td><td>16584.0</td><td>0.0</td><td>16300</td><td>1.0</td><td>1.0</td><td>16442.0</td><td>16442.0</td><td>0.0</td><td>1.0</td><td>1.0</td><td>24734.0</td><td>16513.0</td><td>16584.0</td><td>16442.0</td><td>16513.0</td><td>0.0</td></tr><tr><td>2703454</td><td>91</td><td>0</td><td>null</td><td>null</td><td>null</td><td>42757.890625</td><td>-7945</td><td>1.0</td><td>1.0</td><td>0.0</td><td>1.0</td><td>0.0</td><td>&quot;2fc785b2&quot;</td><td>&quot;a55475b1&quot;</td><td>&quot;a55475b1&quot;</td><td>0.0</td><td>0.0</td><td>&quot;b6cabe76&quot;</td><td>&quot;a55475b1&quot;</td><td>null</td><td>null</td><td>null</td><td>null</td><td>null</td><td>null</td><td>&quot;__UNKNOWN__&quot;</td><td>null</td><td>null</td><td>18554</td><td>&quot;__UNKNOWN__&quot;</td><td>2.0</td><td>1.0</td><td>0.0</td><td>82949.601562</td><td>4533.800293</td><td>2986.800049</td><td>&hellip;</td><td>null</td><td>null</td><td>null</td><td>null</td><td>null</td><td>null</td><td>null</td><td>null</td><td>null</td><td>null</td><td>null</td><td>null</td><td>null</td><td>null</td><td>null</td><td>null</td><td>null</td><td>null</td><td>null</td><td>null</td><td>null</td><td>null</td><td>null</td><td>null</td><td>null</td><td>null</td><td>null</td><td>null</td><td>null</td><td>null</td><td>null</td><td>null</td><td>null</td><td>null</td><td>null</td><td>null</td><td>null</td></tr></tbody></table></div>"
      ],
      "text/plain": [
       "shape: (1_526_659, 1_112)\n",
       "┌─────────┬──────────┬────────┬────────────┬───┬────────────┬────────────┬────────────┬────────────┐\n",
       "│ case_id ┆ WEEK_NUM ┆ target ┆ assignment ┆ … ┆ mean_openi ┆ mean_openi ┆ mean_openi ┆ mean_openi │\n",
       "│ ---     ┆ ---      ┆ ---    ┆ date_238D  ┆   ┆ ngdate_857 ┆ ngdate_857 ┆ ngdate_857 ┆ ngdate_857 │\n",
       "│ i32     ┆ i8       ┆ i8     ┆ ---        ┆   ┆ D_cum_max  ┆ D_cum_min  ┆ D_cum_medi ┆ D_cum_is_n │\n",
       "│         ┆          ┆        ┆ i16        ┆   ┆ ---        ┆ ---        ┆ an         ┆ ul…        │\n",
       "│         ┆          ┆        ┆            ┆   ┆ f32        ┆ f32        ┆ ---        ┆ ---        │\n",
       "│         ┆          ┆        ┆            ┆   ┆            ┆            ┆ f32        ┆ f32        │\n",
       "╞═════════╪══════════╪════════╪════════════╪═══╪════════════╪════════════╪════════════╪════════════╡\n",
       "│ 0       ┆ 0        ┆ 0      ┆ null       ┆ … ┆ null       ┆ null       ┆ null       ┆ null       │\n",
       "│ 1       ┆ 0        ┆ 0      ┆ null       ┆ … ┆ null       ┆ null       ┆ null       ┆ null       │\n",
       "│ 2       ┆ 0        ┆ 0      ┆ null       ┆ … ┆ null       ┆ null       ┆ null       ┆ null       │\n",
       "│ 3       ┆ 0        ┆ 0      ┆ null       ┆ … ┆ null       ┆ null       ┆ null       ┆ null       │\n",
       "│ …       ┆ …        ┆ …      ┆ …          ┆ … ┆ …          ┆ …          ┆ …          ┆ …          │\n",
       "│ 2703451 ┆ 91       ┆ 0      ┆ null       ┆ … ┆ null       ┆ null       ┆ null       ┆ null       │\n",
       "│ 2703452 ┆ 91       ┆ 0      ┆ null       ┆ … ┆ null       ┆ null       ┆ null       ┆ null       │\n",
       "│ 2703453 ┆ 91       ┆ 0      ┆ null       ┆ … ┆ 16584.0    ┆ 16442.0    ┆ 16513.0    ┆ 0.0        │\n",
       "│ 2703454 ┆ 91       ┆ 0      ┆ null       ┆ … ┆ null       ┆ null       ┆ null       ┆ null       │\n",
       "└─────────┴──────────┴────────┴────────────┴───┴────────────┴────────────┴────────────┴────────────┘"
      ]
     },
     "execution_count": 6,
     "metadata": {},
     "output_type": "execute_result"
    }
   ],
   "source": [
    "train_df"
   ]
  },
  {
   "cell_type": "code",
   "execution_count": 7,
   "id": "12f8d8ec",
   "metadata": {
    "execution": {
     "iopub.execute_input": "2024-02-27T08:32:47.016359Z",
     "iopub.status.busy": "2024-02-27T08:32:47.015958Z",
     "iopub.status.idle": "2024-02-27T08:33:27.713032Z",
     "shell.execute_reply": "2024-02-27T08:33:27.711598Z"
    },
    "papermill": {
     "duration": 40.717418,
     "end_time": "2024-02-27T08:33:27.716163",
     "exception": false,
     "start_time": "2024-02-27T08:32:46.998745",
     "status": "completed"
    },
    "tags": []
   },
   "outputs": [],
   "source": [
    "train_df.write_parquet(\"/kaggle/working/train_df.parquet\")"
   ]
  },
  {
   "cell_type": "code",
   "execution_count": 8,
   "id": "8a64e907",
   "metadata": {
    "execution": {
     "iopub.execute_input": "2024-02-27T08:33:27.755318Z",
     "iopub.status.busy": "2024-02-27T08:33:27.754087Z",
     "iopub.status.idle": "2024-02-27T08:33:27.765758Z",
     "shell.execute_reply": "2024-02-27T08:33:27.764462Z"
    },
    "papermill": {
     "duration": 0.032714,
     "end_time": "2024-02-27T08:33:27.768368",
     "exception": false,
     "start_time": "2024-02-27T08:33:27.735654",
     "status": "completed"
    },
    "tags": []
   },
   "outputs": [
    {
     "data": {
      "text/plain": [
       "6326.232792854309"
      ]
     },
     "execution_count": 8,
     "metadata": {},
     "output_type": "execute_result"
    }
   ],
   "source": [
    "train_df.estimated_size() / 1024 / 1024"
   ]
  },
  {
   "cell_type": "markdown",
   "id": "778a93ae",
   "metadata": {
    "_kg_hide-input": true,
    "papermill": {
     "duration": 0.01534,
     "end_time": "2024-02-27T08:33:27.799651",
     "exception": false,
     "start_time": "2024-02-27T08:33:27.784311",
     "status": "completed"
    },
    "tags": []
   },
   "source": [
    "# Data visualization"
   ]
  },
  {
   "cell_type": "code",
   "execution_count": 9,
   "id": "cad6aa3e",
   "metadata": {
    "execution": {
     "iopub.execute_input": "2024-02-27T08:33:27.834774Z",
     "iopub.status.busy": "2024-02-27T08:33:27.833348Z",
     "iopub.status.idle": "2024-02-27T08:33:27.839180Z",
     "shell.execute_reply": "2024-02-27T08:33:27.838240Z"
    },
    "papermill": {
     "duration": 0.025453,
     "end_time": "2024-02-27T08:33:27.841404",
     "exception": false,
     "start_time": "2024-02-27T08:33:27.815951",
     "status": "completed"
    },
    "tags": []
   },
   "outputs": [],
   "source": [
    "# def bucket_mean_split(x, y, buckets=100):\n",
    "#     x_buckets = []\n",
    "#     y_buckets = []\n",
    "\n",
    "#     x = np.array(x)\n",
    "#     y = np.array(y)\n",
    "#     x_quantiles = [np.quantile(x, i / buckets) for i in range(0, buckets + 1)]\n",
    "#     for i in range(0, buckets):\n",
    "#         filter = (x >= x_quantiles[i]) & (x <= x_quantiles[i + 1])\n",
    "#         x_buckets.append(np.mean(x[filter]))\n",
    "#         y_buckets.append(np.mean(y[filter]))\n",
    "#     return x_buckets, y_buckets"
   ]
  },
  {
   "cell_type": "code",
   "execution_count": 10,
   "id": "103fb08d",
   "metadata": {
    "execution": {
     "iopub.execute_input": "2024-02-27T08:33:27.876783Z",
     "iopub.status.busy": "2024-02-27T08:33:27.874943Z",
     "iopub.status.idle": "2024-02-27T08:33:27.881034Z",
     "shell.execute_reply": "2024-02-27T08:33:27.879841Z"
    },
    "papermill": {
     "duration": 0.025967,
     "end_time": "2024-02-27T08:33:27.883648",
     "exception": false,
     "start_time": "2024-02-27T08:33:27.857681",
     "status": "completed"
    },
    "tags": []
   },
   "outputs": [],
   "source": [
    "# train[\"target\"].mean()"
   ]
  },
  {
   "cell_type": "code",
   "execution_count": 11,
   "id": "aa582940",
   "metadata": {
    "execution": {
     "iopub.execute_input": "2024-02-27T08:33:27.918339Z",
     "iopub.status.busy": "2024-02-27T08:33:27.917224Z",
     "iopub.status.idle": "2024-02-27T08:33:27.922793Z",
     "shell.execute_reply": "2024-02-27T08:33:27.921980Z"
    },
    "papermill": {
     "duration": 0.025481,
     "end_time": "2024-02-27T08:33:27.925060",
     "exception": false,
     "start_time": "2024-02-27T08:33:27.899579",
     "status": "completed"
    },
    "tags": []
   },
   "outputs": [],
   "source": [
    "# print(\"Mean target={} where actualdpdtolerance_344P != 0\".format(train[\"target\"].filter(train[\"actualdpdtolerance_344P\"] != 0).mean()))\n",
    "# print(\"Mean target={} where actualdpdtolerance_344P == 0\".format(train[\"target\"].filter(train[\"actualdpdtolerance_344P\"] == 0).mean()))\n",
    "# print(\"Mean target={} where actualdpdtolerance_344P is null\".format(train[\"target\"].filter(train[\"actualdpdtolerance_344P\"].is_null()).mean()))"
   ]
  },
  {
   "cell_type": "code",
   "execution_count": 12,
   "id": "58bb9d8b",
   "metadata": {
    "execution": {
     "iopub.execute_input": "2024-02-27T08:33:27.959312Z",
     "iopub.status.busy": "2024-02-27T08:33:27.958025Z",
     "iopub.status.idle": "2024-02-27T08:33:27.963737Z",
     "shell.execute_reply": "2024-02-27T08:33:27.962988Z"
    },
    "papermill": {
     "duration": 0.025001,
     "end_time": "2024-02-27T08:33:27.965906",
     "exception": false,
     "start_time": "2024-02-27T08:33:27.940905",
     "status": "completed"
    },
    "tags": []
   },
   "outputs": [],
   "source": [
    "# columns = [column for column in train.columns if (train[column].dtype == pl.Float64)]\n",
    "\n",
    "# figure, axis = plt.subplots(len(columns) // 5 + 1, 5, figsize=(15, 30))\n",
    "# for index, column in enumerate(columns):\n",
    "#     current_plot = axis[index // 5, index % 5]\n",
    "#     x = train[column]\n",
    "#     y = train[\"target\"]\n",
    "#     if (x.dtype == pl.String or x.dtype == pl.Boolean):\n",
    "#         continue\n",
    "#     filter = x.is_not_null()\n",
    "#     x = x.filter(filter)\n",
    "#     y = y.filter(filter)\n",
    "#     if (x.is_empty()):\n",
    "#         continue\n",
    "#     x_bucket, y_bucket = bucket_mean_split(x.to_numpy(), y.to_numpy(), buckets=100)\n",
    "#     current_plot.plot(x_bucket, y_bucket)\n",
    "#     current_plot.set_title(column)\n",
    "# plt.show()"
   ]
  },
  {
   "cell_type": "code",
   "execution_count": 13,
   "id": "8a2d2867",
   "metadata": {
    "execution": {
     "iopub.execute_input": "2024-02-27T08:33:27.999533Z",
     "iopub.status.busy": "2024-02-27T08:33:27.998795Z",
     "iopub.status.idle": "2024-02-27T08:33:28.002785Z",
     "shell.execute_reply": "2024-02-27T08:33:28.001978Z"
    },
    "papermill": {
     "duration": 0.023722,
     "end_time": "2024-02-27T08:33:28.005227",
     "exception": false,
     "start_time": "2024-02-27T08:33:27.981505",
     "status": "completed"
    },
    "tags": []
   },
   "outputs": [],
   "source": [
    "# features = train_df.columns\n",
    "# features.remove(\"WEEK_NUM\")\n",
    "# features.remove(\"case_id\")\n",
    "# features.remove(\"target\")"
   ]
  },
  {
   "cell_type": "code",
   "execution_count": 14,
   "id": "5a3d0dfa",
   "metadata": {
    "execution": {
     "iopub.execute_input": "2024-02-27T08:33:28.042452Z",
     "iopub.status.busy": "2024-02-27T08:33:28.041745Z",
     "iopub.status.idle": "2024-02-27T08:33:28.046586Z",
     "shell.execute_reply": "2024-02-27T08:33:28.045455Z"
    },
    "papermill": {
     "duration": 0.027068,
     "end_time": "2024-02-27T08:33:28.049387",
     "exception": false,
     "start_time": "2024-02-27T08:33:28.022319",
     "status": "completed"
    },
    "tags": []
   },
   "outputs": [],
   "source": [
    "# gc.collect()"
   ]
  },
  {
   "cell_type": "markdown",
   "id": "3916f8b0",
   "metadata": {
    "papermill": {
     "duration": 0.01649,
     "end_time": "2024-02-27T08:33:28.082599",
     "exception": false,
     "start_time": "2024-02-27T08:33:28.066109",
     "status": "completed"
    },
    "tags": []
   },
   "source": [
    "### Feature Importance"
   ]
  },
  {
   "cell_type": "code",
   "execution_count": 15,
   "id": "9f8344ba",
   "metadata": {
    "execution": {
     "iopub.execute_input": "2024-02-27T08:33:28.119023Z",
     "iopub.status.busy": "2024-02-27T08:33:28.117969Z",
     "iopub.status.idle": "2024-02-27T08:33:28.123122Z",
     "shell.execute_reply": "2024-02-27T08:33:28.122242Z"
    },
    "papermill": {
     "duration": 0.026573,
     "end_time": "2024-02-27T08:33:28.126384",
     "exception": false,
     "start_time": "2024-02-27T08:33:28.099811",
     "status": "completed"
    },
    "tags": []
   },
   "outputs": [],
   "source": [
    "# def train_rf(X, Y):    \n",
    "#     params = {\n",
    "#         \"boosting_type\": \"gbdt\",\n",
    "#         \"objective\": \"binary\",\n",
    "#         \"metric\": \"auc\",\n",
    "#         \"max_depth\": 8,\n",
    "#         \"max_bin\": 255,\n",
    "#         \"learning_rate\": 0.05,\n",
    "#         \"n_estimators\": 200,\n",
    "#         \"colsample_bytree\": 0.8, \n",
    "#         \"colsample_bynode\": 0.8,\n",
    "#         \"verbose\": -1,\n",
    "#         \"random_state\": 42,\n",
    "#         \"device\": \"gpu\",\n",
    "#     }\n",
    "    \n",
    "#     model = lgb.LGBMClassifier(**params)\n",
    "    \n",
    "#     model.fit(X.to_pandas(), Y.to_pandas())\n",
    "    \n",
    "#     # Get feature importances\n",
    "#     return pl.DataFrame({\n",
    "#         \"feature\": list(X.columns),\n",
    "#         \"feature_importance\": model.feature_importances_,\n",
    "#         \"train_score\": roc_auc_score(Y.to_pandas(), model.predict(X.to_pandas()))\n",
    "#     })"
   ]
  },
  {
   "cell_type": "code",
   "execution_count": 16,
   "id": "efe8224b",
   "metadata": {
    "execution": {
     "iopub.execute_input": "2024-02-27T08:33:28.161806Z",
     "iopub.status.busy": "2024-02-27T08:33:28.161351Z",
     "iopub.status.idle": "2024-02-27T08:33:28.167106Z",
     "shell.execute_reply": "2024-02-27T08:33:28.165779Z"
    },
    "papermill": {
     "duration": 0.02688,
     "end_time": "2024-02-27T08:33:28.169932",
     "exception": false,
     "start_time": "2024-02-27T08:33:28.143052",
     "status": "completed"
    },
    "tags": []
   },
   "outputs": [],
   "source": [
    "# def get_feature_importance(X, Y):\n",
    "#     COUNT_ITER = 50\n",
    "    \n",
    "#     dfs = []\n",
    "#     for i in range(COUNT_ITER):\n",
    "#         gc.collect()\n",
    "        \n",
    "#         start_time = time.time()\n",
    "#         shuffled_Y = Y.clone().sample(fraction=1.0, shuffle=True)\n",
    "#         current_df = train_rf(X, shuffled_Y)\n",
    "#         finish_time = time.time()\n",
    "#         print(f\"Finish iteration: {i + 1}/{COUNT_ITER}, time: {finish_time - start_time}\")\n",
    "#         current_df = current_df.with_columns(pl.lit(i).alias(\"iteration\"))\n",
    "#         dfs.append(current_df)\n",
    "        \n",
    "#     return pl.concat(dfs, rechunk=True), train_rf(X, Y)"
   ]
  },
  {
   "cell_type": "code",
   "execution_count": 17,
   "id": "07c1b3fb",
   "metadata": {
    "execution": {
     "iopub.execute_input": "2024-02-27T08:33:28.209344Z",
     "iopub.status.busy": "2024-02-27T08:33:28.208593Z",
     "iopub.status.idle": "2024-02-27T08:33:28.212637Z",
     "shell.execute_reply": "2024-02-27T08:33:28.211806Z"
    },
    "papermill": {
     "duration": 0.024843,
     "end_time": "2024-02-27T08:33:28.214861",
     "exception": false,
     "start_time": "2024-02-27T08:33:28.190018",
     "status": "completed"
    },
    "tags": []
   },
   "outputs": [],
   "source": [
    "# shuffled_feature_importance_df, feature_importance_df = get_feature_importance(train_df[features], train_df[\"target\"])\n",
    "# shuffled_feature_importance_df.write_csv(\"shuffled_feature_importance_df.csv\", separator=\",\")\n",
    "# feature_importance_df.write_csv(\"feature_importance_df.csv\", separator=\",\")"
   ]
  },
  {
   "cell_type": "code",
   "execution_count": 18,
   "id": "e66b4ada",
   "metadata": {
    "execution": {
     "iopub.execute_input": "2024-02-27T08:33:28.250475Z",
     "iopub.status.busy": "2024-02-27T08:33:28.250063Z",
     "iopub.status.idle": "2024-02-27T08:33:28.254971Z",
     "shell.execute_reply": "2024-02-27T08:33:28.253945Z"
    },
    "papermill": {
     "duration": 0.02536,
     "end_time": "2024-02-27T08:33:28.257363",
     "exception": false,
     "start_time": "2024-02-27T08:33:28.232003",
     "status": "completed"
    },
    "tags": []
   },
   "outputs": [],
   "source": [
    "# important_features = []\n",
    "# for column in feature_importance_df[\"feature\"]:\n",
    "#     shuffled_feature_importance = shuffled_feature_importance_df.filter(shuffled_feature_importance_df[\"feature\"] == column)[\"feature_importance\"].to_numpy()\n",
    "#     feature_importance = feature_importance_df.filter(feature_importance_df[\"feature\"] == column)[\"feature_importance\"][0]\n",
    "    \n",
    "#     if (np.percentile(shuffled_feature_importance, 90) <= feature_importance):\n",
    "#         important_features.append(column)\n",
    "# print(len(important_features), important_features)"
   ]
  },
  {
   "cell_type": "markdown",
   "id": "56b09381",
   "metadata": {
    "papermill": {
     "duration": 0.016042,
     "end_time": "2024-02-27T08:33:28.290296",
     "exception": false,
     "start_time": "2024-02-27T08:33:28.274254",
     "status": "completed"
    },
    "tags": []
   },
   "source": [
    "# Training"
   ]
  },
  {
   "cell_type": "code",
   "execution_count": 19,
   "id": "ca9f8f58",
   "metadata": {
    "execution": {
     "iopub.execute_input": "2024-02-27T08:33:28.325472Z",
     "iopub.status.busy": "2024-02-27T08:33:28.324884Z",
     "iopub.status.idle": "2024-02-27T08:33:28.330681Z",
     "shell.execute_reply": "2024-02-27T08:33:28.329354Z"
    },
    "papermill": {
     "duration": 0.026562,
     "end_time": "2024-02-27T08:33:28.333598",
     "exception": false,
     "start_time": "2024-02-27T08:33:28.307036",
     "status": "completed"
    },
    "tags": []
   },
   "outputs": [],
   "source": [
    "# class VotingModel(BaseEstimator, RegressorMixin):\n",
    "#     def __init__(self, estimators):\n",
    "#         super().__init__()\n",
    "#         self.estimators = estimators\n",
    "        \n",
    "#     def fit(self, X, y=None):\n",
    "#         return self\n",
    "    \n",
    "#     def predict(self, X):\n",
    "#         y_preds = [estimator.predict(X) for estimator in self.estimators]\n",
    "#         return np.mean(y_preds, axis=0)\n",
    "    \n",
    "#     def predict_proba(self, X):\n",
    "#         y_preds = [estimator.predict_proba(X) for estimator in self.estimators]\n",
    "#         return np.mean(y_preds, axis=0)\n",
    "    \n",
    "#     def get_feature_importance(self):\n",
    "#         feature_importances = np.array([0 for feature in features])\n",
    "\n",
    "#         for model in self.estimators:\n",
    "#             feature_importances += model.feature_importances_\n",
    "\n",
    "#         return feature_importances"
   ]
  },
  {
   "cell_type": "code",
   "execution_count": 20,
   "id": "7358a545",
   "metadata": {
    "execution": {
     "iopub.execute_input": "2024-02-27T08:33:28.368429Z",
     "iopub.status.busy": "2024-02-27T08:33:28.367983Z",
     "iopub.status.idle": "2024-02-27T08:33:28.372482Z",
     "shell.execute_reply": "2024-02-27T08:33:28.371575Z"
    },
    "papermill": {
     "duration": 0.024458,
     "end_time": "2024-02-27T08:33:28.374549",
     "exception": false,
     "start_time": "2024-02-27T08:33:28.350091",
     "status": "completed"
    },
    "tags": []
   },
   "outputs": [],
   "source": [
    "# for column in features:\n",
    "#     if (train_dataset[column].dtype != pl.Categorical) and \\\n",
    "#         (train_dataset[column].dtype != pl.Float64) and \\\n",
    "#         (train_dataset[column].dtype != pl.Float64):\n",
    "#         print(column, train_dataset[column].dtype)"
   ]
  },
  {
   "cell_type": "code",
   "execution_count": 21,
   "id": "de776bcd",
   "metadata": {
    "execution": {
     "iopub.execute_input": "2024-02-27T08:33:28.408111Z",
     "iopub.status.busy": "2024-02-27T08:33:28.407417Z",
     "iopub.status.idle": "2024-02-27T08:33:28.412695Z",
     "shell.execute_reply": "2024-02-27T08:33:28.411876Z"
    },
    "papermill": {
     "duration": 0.02486,
     "end_time": "2024-02-27T08:33:28.415027",
     "exception": false,
     "start_time": "2024-02-27T08:33:28.390167",
     "status": "completed"
    },
    "tags": []
   },
   "outputs": [],
   "source": [
    "# def train_lgb_model(X_train, Y_train, X_test, Y_test):\n",
    "#     params = {\n",
    "#         \"boosting_type\": \"gbdt\",\n",
    "#         \"objective\": \"binary\",\n",
    "#         \"metric\": \"auc\",\n",
    "#         \"max_depth\": 8,\n",
    "#         \"max_bin\": 250,\n",
    "#         \"learning_rate\": 0.05,\n",
    "#         \"n_estimators\": 1000,\n",
    "#         \"colsample_bytree\": 0.8, \n",
    "#         \"colsample_bynode\": 0.8,\n",
    "#         \"verbose\": -1,\n",
    "#         \"random_state\": 42,\n",
    "#         \"device\": \"gpu\",\n",
    "#     }\n",
    "    \n",
    "#     model = lgb.LGBMClassifier(**params)\n",
    "    \n",
    "#     model.fit(\n",
    "#         X_train, Y_train,\n",
    "#         eval_set=[(X_test, Y_test)],\n",
    "#         callbacks=[lgb.log_evaluation(100), lgb.early_stopping(100)]\n",
    "#     )\n",
    "        \n",
    "#     return model"
   ]
  },
  {
   "cell_type": "code",
   "execution_count": 22,
   "id": "f12a027e",
   "metadata": {
    "execution": {
     "iopub.execute_input": "2024-02-27T08:33:28.450408Z",
     "iopub.status.busy": "2024-02-27T08:33:28.449587Z",
     "iopub.status.idle": "2024-02-27T08:33:28.454480Z",
     "shell.execute_reply": "2024-02-27T08:33:28.453226Z"
    },
    "papermill": {
     "duration": 0.025122,
     "end_time": "2024-02-27T08:33:28.456675",
     "exception": false,
     "start_time": "2024-02-27T08:33:28.431553",
     "status": "completed"
    },
    "tags": []
   },
   "outputs": [],
   "source": [
    "# gc.collect()"
   ]
  },
  {
   "cell_type": "code",
   "execution_count": 23,
   "id": "9d2a72ef",
   "metadata": {
    "execution": {
     "iopub.execute_input": "2024-02-27T08:33:28.490607Z",
     "iopub.status.busy": "2024-02-27T08:33:28.489929Z",
     "iopub.status.idle": "2024-02-27T08:33:28.496291Z",
     "shell.execute_reply": "2024-02-27T08:33:28.495227Z"
    },
    "papermill": {
     "duration": 0.026416,
     "end_time": "2024-02-27T08:33:28.498807",
     "exception": false,
     "start_time": "2024-02-27T08:33:28.472391",
     "status": "completed"
    },
    "tags": []
   },
   "outputs": [],
   "source": [
    "# weeks = train_df[\"WEEK_NUM\"]\n",
    "# cv = StratifiedGroupKFold(n_splits=5, shuffle=False)\n",
    "\n",
    "# fitted_models = []\n",
    "\n",
    "# oof_predicted = np.zeros(train_df.shape[0])\n",
    "\n",
    "# for idx_train, idx_test in cv.split(train_df[features], train_df[\"target\"], groups=weeks):        \n",
    "# #     X_train = train_df[features][idx_train].to_pandas()\n",
    "# #     Y_train = train_df[\"target\"][idx_train].to_pandas()\n",
    "    \n",
    "#     X_test = train_df[features][idx_test].to_pandas()\n",
    "#     Y_test = train_df[\"target\"][idx_test].to_pandas()\n",
    "    \n",
    "#     start = time.time()\n",
    "#     params = {\n",
    "#         \"boosting_type\": \"gbdt\",\n",
    "#         \"objective\": \"binary\",\n",
    "#         \"metric\": \"auc\",\n",
    "#         \"max_depth\": 8,\n",
    "#         \"max_bin\": 250,\n",
    "#         \"learning_rate\": 0.05,\n",
    "#         \"n_estimators\": 1000,\n",
    "#         \"colsample_bytree\": 0.8, \n",
    "#         \"colsample_bynode\": 0.8,\n",
    "#         \"verbose\": -1,\n",
    "#         \"random_state\": 42,\n",
    "#         \"device\": \"gpu\",\n",
    "#     }\n",
    "    \n",
    "#     model = lgb.LGBMClassifier(**params)\n",
    "    \n",
    "#     model.fit(\n",
    "#         train_df[features][idx_train].to_pandas(), train_df[\"target\"][idx_train].to_pandas(),\n",
    "#         eval_set=[(X_test, Y_test)],\n",
    "#         callbacks=[lgb.log_evaluation(100), lgb.early_stopping(100)]\n",
    "#     )\n",
    "        \n",
    "\n",
    "# #    model = train_lgb_model(X_train, Y_train, X_test, Y_test)\n",
    "#     finish = time.time()\n",
    "    \n",
    "#     print(\"fit time: {}\".format(finish - start))\n",
    "#     fitted_models.append(model)\n",
    "    \n",
    "#     test_pred = model.predict_proba(X_test)[:, 1]\n",
    "#     oof_predicted[idx_test] = test_pred\n",
    "#     gc.collect()\n",
    "\n",
    "# model = VotingModel(fitted_models)\n",
    "# gc.collect()"
   ]
  },
  {
   "cell_type": "code",
   "execution_count": 24,
   "id": "2dc3bfa7",
   "metadata": {
    "execution": {
     "iopub.execute_input": "2024-02-27T08:33:28.532688Z",
     "iopub.status.busy": "2024-02-27T08:33:28.532284Z",
     "iopub.status.idle": "2024-02-27T08:33:28.537830Z",
     "shell.execute_reply": "2024-02-27T08:33:28.536393Z"
    },
    "papermill": {
     "duration": 0.02556,
     "end_time": "2024-02-27T08:33:28.540518",
     "exception": false,
     "start_time": "2024-02-27T08:33:28.514958",
     "status": "completed"
    },
    "tags": []
   },
   "outputs": [],
   "source": [
    "# roc_auc_oof = roc_auc_score(train_df[\"target\"], oof_predicted)\n",
    "# print(\"CV roc_auc_oof: \", roc_auc_oof)"
   ]
  },
  {
   "cell_type": "markdown",
   "id": "673750ff",
   "metadata": {
    "papermill": {
     "duration": 0.015423,
     "end_time": "2024-02-27T08:33:28.571903",
     "exception": false,
     "start_time": "2024-02-27T08:33:28.556480",
     "status": "completed"
    },
    "tags": []
   },
   "source": [
    "# Predict"
   ]
  },
  {
   "cell_type": "code",
   "execution_count": 25,
   "id": "2fbcaf08",
   "metadata": {
    "execution": {
     "iopub.execute_input": "2024-02-27T08:33:28.606076Z",
     "iopub.status.busy": "2024-02-27T08:33:28.604595Z",
     "iopub.status.idle": "2024-02-27T08:33:28.609802Z",
     "shell.execute_reply": "2024-02-27T08:33:28.609050Z"
    },
    "papermill": {
     "duration": 0.024565,
     "end_time": "2024-02-27T08:33:28.612049",
     "exception": false,
     "start_time": "2024-02-27T08:33:28.587484",
     "status": "completed"
    },
    "tags": []
   },
   "outputs": [],
   "source": [
    "# del train_df\n",
    "# gc.collect()"
   ]
  },
  {
   "cell_type": "code",
   "execution_count": 26,
   "id": "359ddfb3",
   "metadata": {
    "execution": {
     "iopub.execute_input": "2024-02-27T08:33:28.645522Z",
     "iopub.status.busy": "2024-02-27T08:33:28.644722Z",
     "iopub.status.idle": "2024-02-27T08:33:28.649907Z",
     "shell.execute_reply": "2024-02-27T08:33:28.648754Z"
    },
    "papermill": {
     "duration": 0.024803,
     "end_time": "2024-02-27T08:33:28.652287",
     "exception": false,
     "start_time": "2024-02-27T08:33:28.627484",
     "status": "completed"
    },
    "tags": []
   },
   "outputs": [],
   "source": [
    "# test_dataset = data_loader.load_test_dataset()\n",
    "# print(\"Test dataset week range: {}-{}\".format(test_dataset.base[\"WEEK_NUM\"].min(), test_dataset.base[\"WEEK_NUM\"].max()))\n",
    "# gc.collect()\n",
    "# test_df = preprocessor.process_test_dataset(test_dataset)\n",
    "# del test_dataset\n",
    "# gc.collect()"
   ]
  },
  {
   "cell_type": "code",
   "execution_count": 27,
   "id": "9c2ff264",
   "metadata": {
    "execution": {
     "iopub.execute_input": "2024-02-27T08:33:28.685775Z",
     "iopub.status.busy": "2024-02-27T08:33:28.684966Z",
     "iopub.status.idle": "2024-02-27T08:33:28.689984Z",
     "shell.execute_reply": "2024-02-27T08:33:28.689174Z"
    },
    "papermill": {
     "duration": 0.024111,
     "end_time": "2024-02-27T08:33:28.692104",
     "exception": false,
     "start_time": "2024-02-27T08:33:28.667993",
     "status": "completed"
    },
    "tags": []
   },
   "outputs": [],
   "source": [
    "# print([name for value, name in reversed(sorted(zip(model.get_feature_importance(), features)))][0:200])"
   ]
  },
  {
   "cell_type": "code",
   "execution_count": null,
   "id": "4efd21de",
   "metadata": {
    "papermill": {
     "duration": 0.015497,
     "end_time": "2024-02-27T08:33:28.723086",
     "exception": false,
     "start_time": "2024-02-27T08:33:28.707589",
     "status": "completed"
    },
    "tags": []
   },
   "outputs": [],
   "source": []
  },
  {
   "cell_type": "code",
   "execution_count": 28,
   "id": "82663c52",
   "metadata": {
    "execution": {
     "iopub.execute_input": "2024-02-27T08:33:28.760653Z",
     "iopub.status.busy": "2024-02-27T08:33:28.759915Z",
     "iopub.status.idle": "2024-02-27T08:33:28.764762Z",
     "shell.execute_reply": "2024-02-27T08:33:28.763910Z"
    },
    "papermill": {
     "duration": 0.026658,
     "end_time": "2024-02-27T08:33:28.767100",
     "exception": false,
     "start_time": "2024-02-27T08:33:28.740442",
     "status": "completed"
    },
    "tags": []
   },
   "outputs": [],
   "source": [
    "# CV roc_auc_oof:  0.8353789451006361 without feature selection ~500 features\n",
    "# CV roc_auc_oof:  0.8329322959533371 with feature selection ~200 features"
   ]
  },
  {
   "cell_type": "code",
   "execution_count": null,
   "id": "48c715df",
   "metadata": {
    "papermill": {
     "duration": 0.016064,
     "end_time": "2024-02-27T08:33:28.799541",
     "exception": false,
     "start_time": "2024-02-27T08:33:28.783477",
     "status": "completed"
    },
    "tags": []
   },
   "outputs": [],
   "source": []
  },
  {
   "cell_type": "code",
   "execution_count": 29,
   "id": "80cb6c8c",
   "metadata": {
    "execution": {
     "iopub.execute_input": "2024-02-27T08:33:28.835992Z",
     "iopub.status.busy": "2024-02-27T08:33:28.835038Z",
     "iopub.status.idle": "2024-02-27T08:33:28.840800Z",
     "shell.execute_reply": "2024-02-27T08:33:28.839966Z"
    },
    "papermill": {
     "duration": 0.027008,
     "end_time": "2024-02-27T08:33:28.843220",
     "exception": false,
     "start_time": "2024-02-27T08:33:28.816212",
     "status": "completed"
    },
    "tags": []
   },
   "outputs": [],
   "source": [
    "# def gini_stability(dataset, w_fallingrate=88.0, w_resstd=-0.5):\n",
    "#     gini_in_time = dataset\\\n",
    "#         .sort_values(\"WEEK_NUM\")\\\n",
    "#         .groupby(\"WEEK_NUM\")[[\"true\", \"predicted\"]]\\\n",
    "#         .apply(lambda x: 2 * roc_auc_score(x[\"true\"], x[\"predicted\"]) - 1).tolist()\n",
    "    \n",
    "#     x = np.arange(len(gini_in_time))\n",
    "#     y = gini_in_time\n",
    "#     a, b = np.polyfit(x, y, 1)\n",
    "#     y_hat = a * x + b\n",
    "#     residuals = y - y_hat\n",
    "#     res_std = np.std(residuals)\n",
    "#     avg_gini = np.mean(gini_in_time)\n",
    "    \n",
    "#     print(avg_gini, min(0, a), res_std)\n",
    "    \n",
    "#     return avg_gini + w_fallingrate * min(0, a) + w_resstd * res_std"
   ]
  },
  {
   "cell_type": "code",
   "execution_count": 30,
   "id": "b69542f2",
   "metadata": {
    "execution": {
     "iopub.execute_input": "2024-02-27T08:33:28.879126Z",
     "iopub.status.busy": "2024-02-27T08:33:28.878286Z",
     "iopub.status.idle": "2024-02-27T08:33:28.883113Z",
     "shell.execute_reply": "2024-02-27T08:33:28.882342Z"
    },
    "papermill": {
     "duration": 0.025492,
     "end_time": "2024-02-27T08:33:28.885339",
     "exception": false,
     "start_time": "2024-02-27T08:33:28.859847",
     "status": "completed"
    },
    "tags": []
   },
   "outputs": [],
   "source": [
    "# # Y_train_predicted = model.predict_proba(train_df[features].to_pandas())\n",
    "# Y_test_predicted = model.predict_proba(test_df[features].to_pandas())"
   ]
  },
  {
   "cell_type": "code",
   "execution_count": 31,
   "id": "ecbece31",
   "metadata": {
    "execution": {
     "iopub.execute_input": "2024-02-27T08:33:28.919915Z",
     "iopub.status.busy": "2024-02-27T08:33:28.919120Z",
     "iopub.status.idle": "2024-02-27T08:33:28.924542Z",
     "shell.execute_reply": "2024-02-27T08:33:28.923771Z"
    },
    "papermill": {
     "duration": 0.025448,
     "end_time": "2024-02-27T08:33:28.926827",
     "exception": false,
     "start_time": "2024-02-27T08:33:28.901379",
     "status": "completed"
    },
    "tags": []
   },
   "outputs": [],
   "source": [
    "# result = pd.DataFrame({\n",
    "#     \"WEEK_NUM\": train_df[\"WEEK_NUM\"],\n",
    "#     \"true\": train_df[\"target\"],\n",
    "#     \"predicted\": Y_train_predicted[:, 1],\n",
    "# })\n",
    "\n",
    "# train_result = gini_stability(result)\n",
    "# print(\"train_score: {}\".format(train_result))\n",
    "\n",
    "# if MODE == Mode.Train:\n",
    "#     result = pd.DataFrame({\n",
    "#         \"WEEK_NUM\": test_df[\"WEEK_NUM\"],\n",
    "#         \"true\": test_df[\"target\"],\n",
    "#         \"predicted\": Y_test_predicted[:, 1],\n",
    "#     })\n",
    "\n",
    "#     test_result = gini_stability(result)\n",
    "#     print(\"test_score: {}\".format(test_result))"
   ]
  },
  {
   "cell_type": "code",
   "execution_count": 32,
   "id": "8e7b3e17",
   "metadata": {
    "execution": {
     "iopub.execute_input": "2024-02-27T08:33:28.961923Z",
     "iopub.status.busy": "2024-02-27T08:33:28.961425Z",
     "iopub.status.idle": "2024-02-27T08:33:28.966899Z",
     "shell.execute_reply": "2024-02-27T08:33:28.965789Z"
    },
    "papermill": {
     "duration": 0.026148,
     "end_time": "2024-02-27T08:33:28.969330",
     "exception": false,
     "start_time": "2024-02-27T08:33:28.943182",
     "status": "completed"
    },
    "tags": []
   },
   "outputs": [],
   "source": [
    "# Version 1, test_score: 0.583319926590042, public score 0.48\n",
    "# 100 iters\n",
    "\n",
    "# Version 2, test_score: 0.6062624701357268, public score 0.517\n",
    "# 300 iters\n",
    "\n",
    "# Version 3, test_score: ?, public score 0.545\n",
    "# 2000 iters\n",
    "\n",
    "# Version 4, test_score: ?, public score ?\n",
    "# ? iters, Improve aggregate functions for depth_1, depth_2\n"
   ]
  },
  {
   "cell_type": "markdown",
   "id": "2b62fa9a",
   "metadata": {
    "papermill": {
     "duration": 0.015836,
     "end_time": "2024-02-27T08:33:29.001374",
     "exception": false,
     "start_time": "2024-02-27T08:33:28.985538",
     "status": "completed"
    },
    "tags": []
   },
   "source": [
    "# Submition"
   ]
  },
  {
   "cell_type": "code",
   "execution_count": 33,
   "id": "47e0167a",
   "metadata": {
    "execution": {
     "iopub.execute_input": "2024-02-27T08:33:29.038700Z",
     "iopub.status.busy": "2024-02-27T08:33:29.037188Z",
     "iopub.status.idle": "2024-02-27T08:33:29.043299Z",
     "shell.execute_reply": "2024-02-27T08:33:29.042150Z"
    },
    "papermill": {
     "duration": 0.02741,
     "end_time": "2024-02-27T08:33:29.045848",
     "exception": false,
     "start_time": "2024-02-27T08:33:29.018438",
     "status": "completed"
    },
    "tags": []
   },
   "outputs": [],
   "source": [
    "# case_id = test_df[\"case_id\"]\n",
    "# X = test_df[features].to_pandas()\n",
    "\n",
    "# Y = model.predict_proba(X)\n",
    "\n",
    "# submission = pd.DataFrame({\n",
    "#     \"case_id\": case_id.to_numpy(),\n",
    "#     \"score\": Y[:, 1]\n",
    "# }).set_index('case_id')\n",
    "# submission.to_csv(\"./submission.csv\")"
   ]
  },
  {
   "cell_type": "code",
   "execution_count": null,
   "id": "e6684483",
   "metadata": {
    "papermill": {
     "duration": 0.015911,
     "end_time": "2024-02-27T08:33:29.078971",
     "exception": false,
     "start_time": "2024-02-27T08:33:29.063060",
     "status": "completed"
    },
    "tags": []
   },
   "outputs": [],
   "source": []
  },
  {
   "cell_type": "code",
   "execution_count": null,
   "id": "d709ee5e",
   "metadata": {
    "papermill": {
     "duration": 0.01588,
     "end_time": "2024-02-27T08:33:29.111245",
     "exception": false,
     "start_time": "2024-02-27T08:33:29.095365",
     "status": "completed"
    },
    "tags": []
   },
   "outputs": [],
   "source": []
  },
  {
   "cell_type": "code",
   "execution_count": null,
   "id": "1d3ed2e6",
   "metadata": {
    "papermill": {
     "duration": 0.016013,
     "end_time": "2024-02-27T08:33:29.143290",
     "exception": false,
     "start_time": "2024-02-27T08:33:29.127277",
     "status": "completed"
    },
    "tags": []
   },
   "outputs": [],
   "source": []
  }
 ],
 "metadata": {
  "kaggle": {
   "accelerator": "none",
   "dataSources": [
    {
     "databundleVersionId": 7602123,
     "sourceId": 50160,
     "sourceType": "competition"
    },
    {
     "datasetId": 4496896,
     "sourceId": 7710946,
     "sourceType": "datasetVersion"
    }
   ],
   "dockerImageVersionId": 30635,
   "isGpuEnabled": false,
   "isInternetEnabled": false,
   "language": "python",
   "sourceType": "notebook"
  },
  "kernelspec": {
   "display_name": "Python 3",
   "language": "python",
   "name": "python3"
  },
  "language_info": {
   "codemirror_mode": {
    "name": "ipython",
    "version": 3
   },
   "file_extension": ".py",
   "mimetype": "text/x-python",
   "name": "python",
   "nbconvert_exporter": "python",
   "pygments_lexer": "ipython3",
   "version": "3.10.12"
  },
  "papermill": {
   "default_parameters": {},
   "duration": 1003.765936,
   "end_time": "2024-02-27T08:33:30.888317",
   "environment_variables": {},
   "exception": null,
   "input_path": "__notebook__.ipynb",
   "output_path": "__notebook__.ipynb",
   "parameters": {},
   "start_time": "2024-02-27T08:16:47.122381",
   "version": "2.4.0"
  }
 },
 "nbformat": 4,
 "nbformat_minor": 5
}
