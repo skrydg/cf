{
 "cells": [
  {
   "cell_type": "markdown",
   "id": "9ec506a4",
   "metadata": {
    "papermill": {
     "duration": 0.017991,
     "end_time": "2024-04-04T19:08:59.445705",
     "exception": false,
     "start_time": "2024-04-04T19:08:59.427714",
     "status": "completed"
    },
    "tags": []
   },
   "source": [
    "# Install packages"
   ]
  },
  {
   "cell_type": "code",
   "execution_count": 1,
   "id": "3739c3cd",
   "metadata": {
    "execution": {
     "iopub.execute_input": "2024-04-04T19:08:59.483014Z",
     "iopub.status.busy": "2024-04-04T19:08:59.482382Z",
     "iopub.status.idle": "2024-04-04T19:09:13.469625Z",
     "shell.execute_reply": "2024-04-04T19:09:13.468334Z"
    },
    "papermill": {
     "duration": 14.0091,
     "end_time": "2024-04-04T19:09:13.472536",
     "exception": false,
     "start_time": "2024-04-04T19:08:59.463436",
     "status": "completed"
    },
    "tags": []
   },
   "outputs": [
    {
     "name": "stdout",
     "output_type": "stream",
     "text": [
      "7841f25230b1b2ef3b43519c9ae15cb1  /kaggle/input/home-credit-credit-risk-model-stability/parquet_files/train/train_applprev_1_0.parquet\r\n",
      "15b339014bf1b77264b946119eb81466  /kaggle/input/home-credit-credit-risk-model-stability/parquet_files/train/train_applprev_1_1.parquet\r\n",
      "0a825e70c119e3f481f2cd5c5f62a243  /kaggle/input/home-credit-credit-risk-model-stability/parquet_files/train/train_applprev_2.parquet\r\n",
      "bcdfb9d2730942e7d53b9484c93ae0c0  /kaggle/input/home-credit-credit-risk-model-stability/parquet_files/train/train_base.parquet\r\n",
      "0e646ef1c89a3892c5fd2f1a7eadf754  /kaggle/input/home-credit-credit-risk-model-stability/parquet_files/train/train_credit_bureau_a_1_0.parquet\r\n",
      "b0bb4d69b1cee43e4ad31cc89b7855e6  /kaggle/input/home-credit-credit-risk-model-stability/parquet_files/train/train_credit_bureau_a_1_1.parquet\r\n",
      "3e9504e0d540a0f40499b16d342d57a5  /kaggle/input/home-credit-credit-risk-model-stability/parquet_files/train/train_credit_bureau_a_1_2.parquet\r\n",
      "2edbc82c66c897770f559a0f224acc65  /kaggle/input/home-credit-credit-risk-model-stability/parquet_files/train/train_credit_bureau_a_1_3.parquet\r\n",
      "0cd82a3b119dfdccaaf40ba7d9fe07c1  /kaggle/input/home-credit-credit-risk-model-stability/parquet_files/train/train_credit_bureau_a_2_0.parquet\r\n",
      "64b9f7f61981e79240d3a693a7ae18d8  /kaggle/input/home-credit-credit-risk-model-stability/parquet_files/train/train_credit_bureau_a_2_1.parquet\r\n",
      "039fe186f47bc69890dfa62fcfcdc8df  /kaggle/input/home-credit-credit-risk-model-stability/parquet_files/train/train_credit_bureau_a_2_10.parquet\r\n",
      "b8e279ff09f3ac549de4bc46e0ed37e2  /kaggle/input/home-credit-credit-risk-model-stability/parquet_files/train/train_credit_bureau_a_2_2.parquet\r\n",
      "29f03d7ddb8ba297d84b73a36bd64017  /kaggle/input/home-credit-credit-risk-model-stability/parquet_files/train/train_credit_bureau_a_2_3.parquet\r\n",
      "bb0a5d9fbc5cd003587d88ff306ac37f  /kaggle/input/home-credit-credit-risk-model-stability/parquet_files/train/train_credit_bureau_a_2_4.parquet\r\n",
      "596f392f59da6aadd11fc4001e40e7d0  /kaggle/input/home-credit-credit-risk-model-stability/parquet_files/train/train_credit_bureau_a_2_5.parquet\r\n",
      "89b3468b8d7582b8695a6af0393982cf  /kaggle/input/home-credit-credit-risk-model-stability/parquet_files/train/train_credit_bureau_a_2_6.parquet\r\n",
      "5cdf194f8478e576167e8a625be91a5c  /kaggle/input/home-credit-credit-risk-model-stability/parquet_files/train/train_credit_bureau_a_2_7.parquet\r\n",
      "0b6a5619239a922f92287e67aa63aeea  /kaggle/input/home-credit-credit-risk-model-stability/parquet_files/train/train_credit_bureau_a_2_8.parquet\r\n",
      "daf9ddf55f9654a7c9b7e8be56d79d2d  /kaggle/input/home-credit-credit-risk-model-stability/parquet_files/train/train_credit_bureau_a_2_9.parquet\r\n",
      "1a55d5dbb780e259567015a2595ba822  /kaggle/input/home-credit-credit-risk-model-stability/parquet_files/train/train_credit_bureau_b_1.parquet\r\n",
      "7d1db9b3bee2a2da4c24baae5538167b  /kaggle/input/home-credit-credit-risk-model-stability/parquet_files/train/train_credit_bureau_b_2.parquet\r\n",
      "49966b72be9f98334f2c76cd953a593c  /kaggle/input/home-credit-credit-risk-model-stability/parquet_files/train/train_debitcard_1.parquet\r\n",
      "1d26197fab3a6b269e64a3e59f8353ff  /kaggle/input/home-credit-credit-risk-model-stability/parquet_files/train/train_deposit_1.parquet\r\n",
      "c78af0dd550ba92578d8e9b1049fc41d  /kaggle/input/home-credit-credit-risk-model-stability/parquet_files/train/train_other_1.parquet\r\n",
      "1e617faede22c746501dd2c3cb3e2d20  /kaggle/input/home-credit-credit-risk-model-stability/parquet_files/train/train_person_1.parquet\r\n",
      "126d1739ff92930bceab438712b5925b  /kaggle/input/home-credit-credit-risk-model-stability/parquet_files/train/train_person_2.parquet\r\n",
      "7080cbba13c1489af05b67ead7230a00  /kaggle/input/home-credit-credit-risk-model-stability/parquet_files/train/train_static_0_0.parquet\r\n",
      "b3477bcd6be7d7611fb923ddb79bedd4  /kaggle/input/home-credit-credit-risk-model-stability/parquet_files/train/train_static_0_1.parquet\r\n",
      "016b0afb40361ad905e053f6950614ca  /kaggle/input/home-credit-credit-risk-model-stability/parquet_files/train/train_static_cb_0.parquet\r\n",
      "fcf88026981ecf3d1966b30f87da6a20  /kaggle/input/home-credit-credit-risk-model-stability/parquet_files/train/train_tax_registry_a_1.parquet\r\n",
      "993666e84b5793a09394bb923be9fa8c  /kaggle/input/home-credit-credit-risk-model-stability/parquet_files/train/train_tax_registry_b_1.parquet\r\n",
      "fe78c6e9294ea60f252c1e8ffa7fca4c  /kaggle/input/home-credit-credit-risk-model-stability/parquet_files/train/train_tax_registry_c_1.parquet\r\n"
     ]
    }
   ],
   "source": [
    "!md5sum  /kaggle/input/home-credit-credit-risk-model-stability/parquet_files/train/*"
   ]
  },
  {
   "cell_type": "code",
   "execution_count": 2,
   "id": "ac77a4b5",
   "metadata": {
    "execution": {
     "iopub.execute_input": "2024-04-04T19:09:13.516672Z",
     "iopub.status.busy": "2024-04-04T19:09:13.516241Z",
     "iopub.status.idle": "2024-04-04T19:09:49.083644Z",
     "shell.execute_reply": "2024-04-04T19:09:49.082243Z"
    },
    "papermill": {
     "duration": 35.593146,
     "end_time": "2024-04-04T19:09:49.086343",
     "exception": false,
     "start_time": "2024-04-04T19:09:13.493197",
     "status": "completed"
    },
    "tags": []
   },
   "outputs": [
    {
     "name": "stdout",
     "output_type": "stream",
     "text": [
      "Processing /kaggle/input/kaggle-home-credit-risk-model-stability-lib/kaggle_home_credit_risk_model_stability-0.3-py3-none-any.whl\r\n",
      "Installing collected packages: kaggle-home-credit-risk-model-stability\r\n",
      "Successfully installed kaggle-home-credit-risk-model-stability-0.3\r\n"
     ]
    }
   ],
   "source": [
    "!pip install /kaggle/input/kaggle-home-credit-risk-model-stability-lib/kaggle_home_credit_risk_model_stability-0.3-py3-none-any.whl --force-reinstall"
   ]
  },
  {
   "cell_type": "markdown",
   "id": "a57b1f52",
   "metadata": {
    "papermill": {
     "duration": 0.020422,
     "end_time": "2024-04-04T19:09:49.129032",
     "exception": false,
     "start_time": "2024-04-04T19:09:49.108610",
     "status": "completed"
    },
    "tags": []
   },
   "source": [
    "# Import packages"
   ]
  },
  {
   "cell_type": "code",
   "execution_count": 3,
   "id": "29a4d3d7",
   "metadata": {
    "execution": {
     "iopub.execute_input": "2024-04-04T19:09:49.172522Z",
     "iopub.status.busy": "2024-04-04T19:09:49.172061Z",
     "iopub.status.idle": "2024-04-04T19:09:53.732413Z",
     "shell.execute_reply": "2024-04-04T19:09:53.731231Z"
    },
    "papermill": {
     "duration": 4.585609,
     "end_time": "2024-04-04T19:09:53.735349",
     "exception": false,
     "start_time": "2024-04-04T19:09:49.149740",
     "status": "completed"
    },
    "tags": []
   },
   "outputs": [],
   "source": [
    "import polars as pl\n",
    "import gc\n",
    "import time\n",
    "import numpy as np\n",
    "import pandas as pd\n",
    "import lightgbm as lgb\n",
    "import seaborn as sns\n",
    "import matplotlib.pyplot as plt\n",
    "import copy\n",
    "import lightgbm as lgb\n",
    "import importlib\n",
    "import pickle\n",
    "import argparse\n",
    "\n",
    "import kaggle_home_credit_risk_model_stability.libs as hcr\n",
    "from kaggle_home_credit_risk_model_stability.libs.env import Env\n",
    "from kaggle_home_credit_risk_model_stability.libs.input.dataset import Dataset\n",
    "from kaggle_home_credit_risk_model_stability.libs.input.data_loader import DataLoader\n",
    "from kaggle_home_credit_risk_model_stability.libs.preprocessor.preprocessor import Preprocessor\n",
    "from kaggle_home_credit_risk_model_stability.libs.preprocessor.steps import *\n",
    "from kaggle_home_credit_risk_model_stability.libs.preprocessor.columns_info import ColumnsInfo\n",
    "from kaggle_home_credit_risk_model_stability.libs.feature_description.feature_description import FreatureDescriptionGetter\n",
    "\n",
    "from collections import defaultdict\n",
    "from glob import glob\n",
    "from pathlib import Path\n",
    "from sklearn.model_selection import train_test_split\n",
    "from sklearn.metrics import roc_auc_score\n",
    "from sklearn.model_selection import StratifiedGroupKFold\n",
    "from sklearn.base import BaseEstimator, RegressorMixin"
   ]
  },
  {
   "cell_type": "code",
   "execution_count": 4,
   "id": "b1904e31",
   "metadata": {
    "execution": {
     "iopub.execute_input": "2024-04-04T19:09:53.779907Z",
     "iopub.status.busy": "2024-04-04T19:09:53.779478Z",
     "iopub.status.idle": "2024-04-04T19:09:53.784359Z",
     "shell.execute_reply": "2024-04-04T19:09:53.783201Z"
    },
    "papermill": {
     "duration": 0.029817,
     "end_time": "2024-04-04T19:09:53.786745",
     "exception": false,
     "start_time": "2024-04-04T19:09:53.756928",
     "status": "completed"
    },
    "tags": []
   },
   "outputs": [],
   "source": [
    "env = Env(\n",
    "    \"/kaggle/input/\",\n",
    "    \"/kaggle/working/\"\n",
    ")"
   ]
  },
  {
   "cell_type": "code",
   "execution_count": null,
   "id": "610ab913",
   "metadata": {
    "papermill": {
     "duration": 0.020482,
     "end_time": "2024-04-04T19:09:53.828119",
     "exception": false,
     "start_time": "2024-04-04T19:09:53.807637",
     "status": "completed"
    },
    "tags": []
   },
   "outputs": [],
   "source": []
  },
  {
   "cell_type": "code",
   "execution_count": 5,
   "id": "b0910cd5",
   "metadata": {
    "execution": {
     "iopub.execute_input": "2024-04-04T19:09:53.872659Z",
     "iopub.status.busy": "2024-04-04T19:09:53.871878Z",
     "iopub.status.idle": "2024-04-04T19:09:53.880891Z",
     "shell.execute_reply": "2024-04-04T19:09:53.880030Z"
    },
    "papermill": {
     "duration": 0.033887,
     "end_time": "2024-04-04T19:09:53.883502",
     "exception": false,
     "start_time": "2024-04-04T19:09:53.849615",
     "status": "completed"
    },
    "tags": []
   },
   "outputs": [],
   "source": [
    "data_loader = DataLoader(env, tables = [\"base\", \"static_cb_0\", \"static_0\"])\n",
    "preprocessor = Preprocessor({\n",
    "    #\"sort_raw_tables\": SortRawTablesStep(),\n",
    "    \"set_column_info_step\": SetColumnsInfoStep(),\n",
    "    \"set_types\": SetTypesStep(),\n",
    "    \"create_day_feature\": CreateDayFeatureStep(),\n",
    "    # #\"drop_raw_null_columns\": DropRawNullColumns(feature_threashold=0.2, week_threashold=0.9),\n",
    "    \"process_categorical\": ProcessCategoricalStep(),\n",
    "    \"split_composite_features\": SplitCompositeFeaturesStep(),\n",
    "    \"reduce_dimention_for_categorical_features\": ReduceDimentionForCategoricalFeaturesStep(),\n",
    "    #\"process_person_table\": ProcessPersonTableStep(),\n",
    "    # \"one_hot_encoding_for_depth1\": OneHotEncodingForDepth1Step(),\n",
    "    # \"pairwise_diff_raw_dates\": PairwiseDateDiffStep(),\n",
    "    \"aggregate_depth_table\": AggregateDepthTableStep(),\n",
    "    #\"drop_equal_columns\": DropEqualColumnsStep(),\n",
    "    #\"drop_almost_null_features_respect_to_target\": DropAlmostNullFeaturesWithRespectToTargetStep(),\n",
    "    \"join_table\": JoinTablesStep(),\n",
    "    \"merge_chunked_table\": MergeChunkedTablesStep(),\n",
    "    \"drop_almost_null_features\": DropAlmostNullFeaturesStep(),\n",
    "    #\"generate_age_feature\": GenerateAgeFeatureStep(),\n",
    "    \"generate_base_date_diff\": GenerateBaseDateDiffStep(base_column=\"date_decision\"),\n",
    "    \"fill_nulls_in_categorical_features\": FillNullsInCategoricalFeaturesStep(),\n",
    "    # **{\n",
    "    #     f\"create_money_feature_fraction_{base_column}\": CreateMoneyFeatureFractionStep(base_column)\n",
    "    #     for base_column in [\"credamount_770A\", \"maininc_215A\", \"mainoccupationinc_384A\"] # mean_amount_416A\n",
    "    # },\n",
    "    \"generate_mismatch_features\": GenerateMismatchFeaturesStep(),\n",
    "    #\"generate_target_distribution_based_on_categorical_features_step\": GenerateTargetDistributionBasedOnCategoricalStep(),\n",
    "    \"drop_single_value_features\": DropSingleValueFeaturesStep(),\n",
    "    \"drop_variable_enum_features\": DropVariableEnumFeaturesStep(),\n",
    "    \"reduce_memory_usage\": ReduceMemoryUsageStep()\n",
    "})"
   ]
  },
  {
   "cell_type": "code",
   "execution_count": null,
   "id": "71d30c8e",
   "metadata": {
    "execution": {
     "iopub.execute_input": "2024-03-14T19:26:37.091566Z",
     "iopub.status.busy": "2024-03-14T19:26:37.091125Z",
     "iopub.status.idle": "2024-03-14T19:26:54.354948Z",
     "shell.execute_reply": "2024-03-14T19:26:54.353750Z",
     "shell.execute_reply.started": "2024-03-14T19:26:37.091529Z"
    },
    "papermill": {
     "duration": 0.020475,
     "end_time": "2024-04-04T19:09:53.924862",
     "exception": false,
     "start_time": "2024-04-04T19:09:53.904387",
     "status": "completed"
    },
    "tags": []
   },
   "outputs": [],
   "source": []
  },
  {
   "cell_type": "code",
   "execution_count": 6,
   "id": "8b205640",
   "metadata": {
    "execution": {
     "iopub.execute_input": "2024-04-04T19:09:54.032678Z",
     "iopub.status.busy": "2024-04-04T19:09:54.031502Z",
     "iopub.status.idle": "2024-04-04T19:12:33.449721Z",
     "shell.execute_reply": "2024-04-04T19:12:33.448342Z"
    },
    "papermill": {
     "duration": 159.443032,
     "end_time": "2024-04-04T19:12:33.452089",
     "exception": false,
     "start_time": "2024-04-04T19:09:54.009057",
     "status": "completed"
    },
    "tags": []
   },
   "outputs": [
    {
     "name": "stdout",
     "output_type": "stream",
     "text": [
      "Generate 0 columns as aggregates\n",
      "Generate 0 columns as aggregates\n",
      "Generate 0 columns as aggregates\n",
      "Generate 0 columns as aggregates\n",
      "Generate 0 columns as aggregates\n",
      "Generate 0 columns as aggregates\n",
      "Generate 0 columns as aggregates\n",
      "Generate 0 columns as aggregates\n",
      "Generate 0 columns as aggregates\n",
      "Generate 0 columns as aggregates\n",
      "Generate 0 columns as aggregates\n",
      "Generate 0 columns as aggregates\n",
      "Generate 0 columns as aggregates\n",
      "Generate 0 columns as aggregates\n",
      "Generate 0 columns as aggregates\n",
      "Generate 0 columns as aggregates\n",
      "Drop 32 columns as almost null\n",
      "Columns to drop ['assignmentdate_4955616D', 'dateofbirth_342D', 'for3years_128L', 'for3years_504L', 'for3years_584L', 'formonth_118L', 'formonth_206L', 'formonth_535L', 'forquarter_1017L', 'forquarter_462L', 'forquarter_634L', 'fortoday_1092L', 'forweek_1077L', 'forweek_528L', 'forweek_601L', 'foryear_618L', 'foryear_818L', 'foryear_850L', 'pmtaverage_4955615A', 'pmtcount_4955617L', 'riskassesment_940T', 'clientscnt_136L', 'deferredmnthsnum_166L', 'equalityempfrom_62L', 'interestrategrace_34L', 'isbidproductrequest_292L', 'lastdependentsnum_448L', 'lastotherinc_902A', 'lastotherlnsexpense_631A', 'lastrepayingdate_696D', 'maxannuity_4075009A', 'payvacationpostpone_4187118D']\n",
      "Create 20 new date diff columns, with base_column=date_decision\n",
      "Create 58 new columns as feature mismatch\n",
      "Drop 0 columns as single value\n",
      "Drop 0 columns as variable enum value\n"
     ]
    },
    {
     "data": {
      "text/plain": [
       "0"
      ]
     },
     "execution_count": 6,
     "metadata": {},
     "output_type": "execute_result"
    }
   ],
   "source": [
    "train_dataset_generator = data_loader.load_train_dataset(chunk_size=100000)\n",
    "gc.collect()\n",
    "train_df, columns_info = preprocessor.process_train_dataset(train_dataset_generator)\n",
    "del train_dataset_generator\n",
    "gc.collect()"
   ]
  },
  {
   "cell_type": "code",
   "execution_count": 7,
   "id": "6b547ed4",
   "metadata": {
    "execution": {
     "iopub.execute_input": "2024-04-04T19:12:33.500310Z",
     "iopub.status.busy": "2024-04-04T19:12:33.499884Z",
     "iopub.status.idle": "2024-04-04T19:12:41.993292Z",
     "shell.execute_reply": "2024-04-04T19:12:41.992144Z"
    },
    "papermill": {
     "duration": 8.520904,
     "end_time": "2024-04-04T19:12:41.996290",
     "exception": false,
     "start_time": "2024-04-04T19:12:33.475386",
     "status": "completed"
    },
    "tags": []
   },
   "outputs": [
    {
     "name": "stdout",
     "output_type": "stream",
     "text": [
      "1581.5665197372437\n",
      "shape: (1_526_659, 288)\n",
      "┌─────────┬────────────┬────────┬──────────┬───┬────────────┬────────────┬────────────┬────────────┐\n",
      "│ case_id ┆ date_decis ┆ MONTH  ┆ WEEK_NUM ┆ … ┆ responseda ┆ sumoutstan ┆ sumoutstan ┆ sumoutstan │\n",
      "│ ---     ┆ ion        ┆ ---    ┆ ---      ┆   ┆ te_4527233 ┆ dtotal_354 ┆ dtotal_354 ┆ dtotalest_ │\n",
      "│ i32     ┆ ---        ┆ i32    ┆ i16      ┆   ┆ D_response ┆ 6847A_sumo ┆ 6847A_tota ┆ 4493215A_t │\n",
      "│         ┆ i16        ┆        ┆          ┆   ┆ da…        ┆ ut…        ┆ ld…        ┆ ot…        │\n",
      "│         ┆            ┆        ┆          ┆   ┆ ---        ┆ ---        ┆ ---        ┆ ---        │\n",
      "│         ┆            ┆        ┆          ┆   ┆ f32        ┆ f32        ┆ f32        ┆ f32        │\n",
      "╞═════════╪════════════╪════════╪══════════╪═══╪════════════╪════════════╪════════════╪════════════╡\n",
      "│ 0       ┆ 17899      ┆ 201901 ┆ 0        ┆ … ┆ null       ┆ null       ┆ null       ┆ null       │\n",
      "│ 1       ┆ 17899      ┆ 201901 ┆ 0        ┆ … ┆ null       ┆ null       ┆ null       ┆ null       │\n",
      "│ 2       ┆ 17900      ┆ 201901 ┆ 0        ┆ … ┆ null       ┆ null       ┆ null       ┆ null       │\n",
      "│ 3       ┆ 17899      ┆ 201901 ┆ 0        ┆ … ┆ null       ┆ null       ┆ null       ┆ null       │\n",
      "│ …       ┆ …          ┆ …      ┆ …        ┆ … ┆ …          ┆ …          ┆ …          ┆ …          │\n",
      "│ 2703451 ┆ 18540      ┆ 202010 ┆ 91       ┆ … ┆ null       ┆ 1.0        ┆ 1.0        ┆ 1.0        │\n",
      "│ 2703452 ┆ 18540      ┆ 202010 ┆ 91       ┆ … ┆ null       ┆ 1.0        ┆ 1.0        ┆ 1.0        │\n",
      "│ 2703453 ┆ 18540      ┆ 202010 ┆ 91       ┆ … ┆ null       ┆ 1.0        ┆ 1.0        ┆ 1.0        │\n",
      "│ 2703454 ┆ 18540      ┆ 202010 ┆ 91       ┆ … ┆ null       ┆ 1.0        ┆ 0.0        ┆ 0.0        │\n",
      "└─────────┴────────────┴────────┴──────────┴───┴────────────┴────────────┴────────────┴────────────┘\n"
     ]
    },
    {
     "data": {
      "text/plain": [
       "0"
      ]
     },
     "execution_count": 7,
     "metadata": {},
     "output_type": "execute_result"
    }
   ],
   "source": [
    "train_df.write_parquet(env.output_directory / \"train_df.parquet\")\n",
    "pickle.dump(columns_info, open(env.output_directory / \"columns_info.pkl\", \"wb\"))\n",
    "print(train_df.estimated_size() / 1024 / 1024)\n",
    "print(train_df)\n",
    "\n",
    "del train_df\n",
    "gc.collect()"
   ]
  },
  {
   "cell_type": "code",
   "execution_count": 8,
   "id": "d80eff1e",
   "metadata": {
    "execution": {
     "iopub.execute_input": "2024-04-04T19:12:42.045576Z",
     "iopub.status.busy": "2024-04-04T19:12:42.044879Z",
     "iopub.status.idle": "2024-04-04T19:12:47.296498Z",
     "shell.execute_reply": "2024-04-04T19:12:47.295131Z"
    },
    "papermill": {
     "duration": 5.278707,
     "end_time": "2024-04-04T19:12:47.299019",
     "exception": false,
     "start_time": "2024-04-04T19:12:42.020312",
     "status": "completed"
    },
    "tags": []
   },
   "outputs": [
    {
     "name": "stdout",
     "output_type": "stream",
     "text": [
      "Generate 0 columns as aggregates\n",
      "Create 20 new date diff columns, with base_column=date_decision\n",
      "Create 58 new columns as feature mismatch\n"
     ]
    },
    {
     "data": {
      "text/plain": [
       "0"
      ]
     },
     "execution_count": 8,
     "metadata": {},
     "output_type": "execute_result"
    }
   ],
   "source": [
    "test_dataset_generator = data_loader.load_test_dataset(chunk_size=100000)\n",
    "gc.collect()\n",
    "test_df, columns_info = preprocessor.process_test_dataset(test_dataset_generator)\n",
    "del test_dataset_generator\n",
    "gc.collect()"
   ]
  },
  {
   "cell_type": "code",
   "execution_count": 9,
   "id": "b5130bdd",
   "metadata": {
    "execution": {
     "iopub.execute_input": "2024-04-04T19:12:47.348671Z",
     "iopub.status.busy": "2024-04-04T19:12:47.347902Z",
     "iopub.status.idle": "2024-04-04T19:12:47.552172Z",
     "shell.execute_reply": "2024-04-04T19:12:47.550665Z"
    },
    "papermill": {
     "duration": 0.232072,
     "end_time": "2024-04-04T19:12:47.554803",
     "exception": false,
     "start_time": "2024-04-04T19:12:47.322731",
     "status": "completed"
    },
    "tags": []
   },
   "outputs": [
    {
     "name": "stdout",
     "output_type": "stream",
     "text": [
      "0.029636383056640625\n",
      "shape: (10, 287)\n",
      "┌─────────┬────────────┬────────┬──────────┬───┬────────────┬────────────┬────────────┬────────────┐\n",
      "│ case_id ┆ date_decis ┆ MONTH  ┆ WEEK_NUM ┆ … ┆ responseda ┆ sumoutstan ┆ sumoutstan ┆ sumoutstan │\n",
      "│ ---     ┆ ion        ┆ ---    ┆ ---      ┆   ┆ te_4527233 ┆ dtotal_354 ┆ dtotal_354 ┆ dtotalest_ │\n",
      "│ i32     ┆ ---        ┆ i32    ┆ i16      ┆   ┆ D_response ┆ 6847A_sumo ┆ 6847A_tota ┆ 4493215A_t │\n",
      "│         ┆ i16        ┆        ┆          ┆   ┆ da…        ┆ ut…        ┆ ld…        ┆ ot…        │\n",
      "│         ┆            ┆        ┆          ┆   ┆ ---        ┆ ---        ┆ ---        ┆ ---        │\n",
      "│         ┆            ┆        ┆          ┆   ┆ bool       ┆ f32        ┆ f32        ┆ f32        │\n",
      "╞═════════╪════════════╪════════╪══════════╪═══╪════════════╪════════════╪════════════╪════════════╡\n",
      "│ 57543   ┆ 18761      ┆ 202201 ┆ 100      ┆ … ┆ null       ┆ 1.0        ┆ 1.0        ┆ 1.0        │\n",
      "│ 57549   ┆ 19009      ┆ 202201 ┆ 100      ┆ … ┆ null       ┆ 1.0        ┆ 1.0        ┆ 1.0        │\n",
      "│ 57551   ┆ 18593      ┆ 202201 ┆ 100      ┆ … ┆ null       ┆ 1.0        ┆ 1.0        ┆ 1.0        │\n",
      "│ 57552   ┆ 18593      ┆ 202201 ┆ 100      ┆ … ┆ null       ┆ 1.0        ┆ 1.0        ┆ 1.0        │\n",
      "│ …       ┆ …          ┆ …      ┆ …        ┆ … ┆ …          ┆ …          ┆ …          ┆ …          │\n",
      "│ 57631   ┆ 19147      ┆ 202201 ┆ 100      ┆ … ┆ null       ┆ null       ┆ null       ┆ null       │\n",
      "│ 57632   ┆ 19028      ┆ 202201 ┆ 100      ┆ … ┆ null       ┆ 1.0        ┆ 1.0        ┆ 1.0        │\n",
      "│ 57633   ┆ 19017      ┆ 202201 ┆ 100      ┆ … ┆ null       ┆ null       ┆ null       ┆ null       │\n",
      "│ 57634   ┆ 18654      ┆ 202201 ┆ 100      ┆ … ┆ null       ┆ 1.0        ┆ 1.0        ┆ 1.0        │\n",
      "└─────────┴────────────┴────────┴──────────┴───┴────────────┴────────────┴────────────┴────────────┘\n"
     ]
    },
    {
     "data": {
      "text/plain": [
       "0"
      ]
     },
     "execution_count": 9,
     "metadata": {},
     "output_type": "execute_result"
    }
   ],
   "source": [
    "test_df.write_parquet(env.output_directory / \"test_df.parquet\")\n",
    "print(test_df.estimated_size() / 1024 / 1024)\n",
    "print(test_df)\n",
    "\n",
    "del test_df\n",
    "gc.collect()"
   ]
  },
  {
   "cell_type": "markdown",
   "id": "6f09fd88",
   "metadata": {
    "_kg_hide-input": true,
    "papermill": {
     "duration": 0.023593,
     "end_time": "2024-04-04T19:12:47.602417",
     "exception": false,
     "start_time": "2024-04-04T19:12:47.578824",
     "status": "completed"
    },
    "tags": []
   },
   "source": [
    "# Data visualization"
   ]
  },
  {
   "cell_type": "code",
   "execution_count": null,
   "id": "1915b338",
   "metadata": {
    "papermill": {
     "duration": 0.023713,
     "end_time": "2024-04-04T19:12:47.649945",
     "exception": false,
     "start_time": "2024-04-04T19:12:47.626232",
     "status": "completed"
    },
    "tags": []
   },
   "outputs": [],
   "source": []
  },
  {
   "cell_type": "code",
   "execution_count": 10,
   "id": "ea59a9e2",
   "metadata": {
    "execution": {
     "iopub.execute_input": "2024-04-04T19:12:47.699364Z",
     "iopub.status.busy": "2024-04-04T19:12:47.698906Z",
     "iopub.status.idle": "2024-04-04T19:12:47.703598Z",
     "shell.execute_reply": "2024-04-04T19:12:47.702798Z"
    },
    "papermill": {
     "duration": 0.031965,
     "end_time": "2024-04-04T19:12:47.705695",
     "exception": false,
     "start_time": "2024-04-04T19:12:47.673730",
     "status": "completed"
    },
    "tags": []
   },
   "outputs": [],
   "source": [
    "# train_dataset = data_loader.load_train_dataset()"
   ]
  },
  {
   "cell_type": "code",
   "execution_count": 11,
   "id": "beb16d2d",
   "metadata": {
    "execution": {
     "iopub.execute_input": "2024-04-04T19:12:47.755879Z",
     "iopub.status.busy": "2024-04-04T19:12:47.754772Z",
     "iopub.status.idle": "2024-04-04T19:12:47.759247Z",
     "shell.execute_reply": "2024-04-04T19:12:47.758478Z"
    },
    "papermill": {
     "duration": 0.031453,
     "end_time": "2024-04-04T19:12:47.761264",
     "exception": false,
     "start_time": "2024-04-04T19:12:47.729811",
     "status": "completed"
    },
    "tags": []
   },
   "outputs": [],
   "source": [
    "# [column for column in train_df.columns if \"amtdebitincoming_4809443A\" in column]"
   ]
  },
  {
   "cell_type": "code",
   "execution_count": 12,
   "id": "2e778e9a",
   "metadata": {
    "execution": {
     "iopub.execute_input": "2024-04-04T19:12:47.811439Z",
     "iopub.status.busy": "2024-04-04T19:12:47.811016Z",
     "iopub.status.idle": "2024-04-04T19:12:47.815460Z",
     "shell.execute_reply": "2024-04-04T19:12:47.814345Z"
    },
    "papermill": {
     "duration": 0.032471,
     "end_time": "2024-04-04T19:12:47.818094",
     "exception": false,
     "start_time": "2024-04-04T19:12:47.785623",
     "status": "completed"
    },
    "tags": []
   },
   "outputs": [],
   "source": [
    "# train_dataset.get_base()[\"target\"].mean()"
   ]
  },
  {
   "cell_type": "code",
   "execution_count": 13,
   "id": "abb759d6",
   "metadata": {
    "execution": {
     "iopub.execute_input": "2024-04-04T19:12:47.868552Z",
     "iopub.status.busy": "2024-04-04T19:12:47.867576Z",
     "iopub.status.idle": "2024-04-04T19:12:47.874012Z",
     "shell.execute_reply": "2024-04-04T19:12:47.873224Z"
    },
    "papermill": {
     "duration": 0.034382,
     "end_time": "2024-04-04T19:12:47.876508",
     "exception": false,
     "start_time": "2024-04-04T19:12:47.842126",
     "status": "completed"
    },
    "tags": []
   },
   "outputs": [],
   "source": [
    "# tables = {name: table for name, table in train_dataset.get_depth_tables(1)}"
   ]
  },
  {
   "cell_type": "code",
   "execution_count": 14,
   "id": "86695c8f",
   "metadata": {
    "execution": {
     "iopub.execute_input": "2024-04-04T19:12:47.926066Z",
     "iopub.status.busy": "2024-04-04T19:12:47.925676Z",
     "iopub.status.idle": "2024-04-04T19:12:47.930020Z",
     "shell.execute_reply": "2024-04-04T19:12:47.929036Z"
    },
    "papermill": {
     "duration": 0.031743,
     "end_time": "2024-04-04T19:12:47.932147",
     "exception": false,
     "start_time": "2024-04-04T19:12:47.900404",
     "status": "completed"
    },
    "tags": []
   },
   "outputs": [],
   "source": [
    "# applprev_1 = tables[\"applprev_1\"]"
   ]
  },
  {
   "cell_type": "code",
   "execution_count": 15,
   "id": "84d292bd",
   "metadata": {
    "execution": {
     "iopub.execute_input": "2024-04-04T19:12:47.982239Z",
     "iopub.status.busy": "2024-04-04T19:12:47.981835Z",
     "iopub.status.idle": "2024-04-04T19:12:47.986400Z",
     "shell.execute_reply": "2024-04-04T19:12:47.985309Z"
    },
    "papermill": {
     "duration": 0.032754,
     "end_time": "2024-04-04T19:12:47.988795",
     "exception": false,
     "start_time": "2024-04-04T19:12:47.956041",
     "status": "completed"
    },
    "tags": []
   },
   "outputs": [],
   "source": [
    "# joined = applprev_1[\"case_id\"].value_counts().join(train_dataset.get_base()[[\"case_id\", \"target\"]], on=\"case_id\").sort(\"count\")\n",
    "# joined.filter(pl.col(\"target\") == 1)"
   ]
  },
  {
   "cell_type": "code",
   "execution_count": 16,
   "id": "14692cf3",
   "metadata": {
    "execution": {
     "iopub.execute_input": "2024-04-04T19:12:48.039344Z",
     "iopub.status.busy": "2024-04-04T19:12:48.038935Z",
     "iopub.status.idle": "2024-04-04T19:12:48.044292Z",
     "shell.execute_reply": "2024-04-04T19:12:48.043187Z"
    },
    "papermill": {
     "duration": 0.033213,
     "end_time": "2024-04-04T19:12:48.046681",
     "exception": false,
     "start_time": "2024-04-04T19:12:48.013468",
     "status": "completed"
    },
    "tags": []
   },
   "outputs": [],
   "source": [
    "# base = train_dataset.get_base()"
   ]
  },
  {
   "cell_type": "code",
   "execution_count": 17,
   "id": "c0f250ae",
   "metadata": {
    "execution": {
     "iopub.execute_input": "2024-04-04T19:12:48.096489Z",
     "iopub.status.busy": "2024-04-04T19:12:48.096066Z",
     "iopub.status.idle": "2024-04-04T19:12:48.100598Z",
     "shell.execute_reply": "2024-04-04T19:12:48.099637Z"
    },
    "papermill": {
     "duration": 0.03231,
     "end_time": "2024-04-04T19:12:48.102967",
     "exception": false,
     "start_time": "2024-04-04T19:12:48.070657",
     "status": "completed"
    },
    "tags": []
   },
   "outputs": [],
   "source": [
    "# base.filter(pl.col(\"case_id\") == 2702490)"
   ]
  },
  {
   "cell_type": "code",
   "execution_count": 18,
   "id": "a9020e7b",
   "metadata": {
    "execution": {
     "iopub.execute_input": "2024-04-04T19:12:48.152364Z",
     "iopub.status.busy": "2024-04-04T19:12:48.151937Z",
     "iopub.status.idle": "2024-04-04T19:12:48.156628Z",
     "shell.execute_reply": "2024-04-04T19:12:48.155473Z"
    },
    "papermill": {
     "duration": 0.032356,
     "end_time": "2024-04-04T19:12:48.159130",
     "exception": false,
     "start_time": "2024-04-04T19:12:48.126774",
     "status": "completed"
    },
    "tags": []
   },
   "outputs": [],
   "source": [
    "# applprev_1.filter(applprev_1[\"case_id\"] == 2702490).sort(\"num_group1\")\n",
    "#base.filter(pl.col(\"case_id\") == 176526)"
   ]
  },
  {
   "cell_type": "code",
   "execution_count": 19,
   "id": "eef83188",
   "metadata": {
    "execution": {
     "iopub.execute_input": "2024-04-04T19:12:48.210021Z",
     "iopub.status.busy": "2024-04-04T19:12:48.209650Z",
     "iopub.status.idle": "2024-04-04T19:12:48.214199Z",
     "shell.execute_reply": "2024-04-04T19:12:48.212981Z"
    },
    "papermill": {
     "duration": 0.033323,
     "end_time": "2024-04-04T19:12:48.216519",
     "exception": false,
     "start_time": "2024-04-04T19:12:48.183196",
     "status": "completed"
    },
    "tags": []
   },
   "outputs": [],
   "source": [
    "# applprev_1.filter(applprev_1[\"case_id\"] == 2702490).sort(\"num_group1\")[[\"credamount_590A\", \"mainoccupationinc_437A\", \"rejectreason_755M\", \"rejectreasonclient_4145042M\"]]\n"
   ]
  },
  {
   "cell_type": "code",
   "execution_count": 20,
   "id": "5cc7ce05",
   "metadata": {
    "execution": {
     "iopub.execute_input": "2024-04-04T19:12:48.266358Z",
     "iopub.status.busy": "2024-04-04T19:12:48.265257Z",
     "iopub.status.idle": "2024-04-04T19:12:48.270406Z",
     "shell.execute_reply": "2024-04-04T19:12:48.269394Z"
    },
    "papermill": {
     "duration": 0.032259,
     "end_time": "2024-04-04T19:12:48.272614",
     "exception": false,
     "start_time": "2024-04-04T19:12:48.240355",
     "status": "completed"
    },
    "tags": []
   },
   "outputs": [],
   "source": [
    "# applprev_1.filter(applprev_1[\"case_id\"] == 176526).sort(\"num_group1\")[[\"credamount_590A\", \"mainoccupationinc_437A\", \"rejectreason_755M\", \"rejectreasonclient_4145042M\"]]a"
   ]
  },
  {
   "cell_type": "code",
   "execution_count": 21,
   "id": "e27b7a26",
   "metadata": {
    "execution": {
     "iopub.execute_input": "2024-04-04T19:12:48.322588Z",
     "iopub.status.busy": "2024-04-04T19:12:48.322096Z",
     "iopub.status.idle": "2024-04-04T19:12:48.327363Z",
     "shell.execute_reply": "2024-04-04T19:12:48.326157Z"
    },
    "papermill": {
     "duration": 0.032679,
     "end_time": "2024-04-04T19:12:48.329654",
     "exception": false,
     "start_time": "2024-04-04T19:12:48.296975",
     "status": "completed"
    },
    "tags": []
   },
   "outputs": [],
   "source": [
    "# applprev_1.filter(applprev_1[\"case_id\"] == 176526).sort(\"num_group1\")"
   ]
  },
  {
   "cell_type": "code",
   "execution_count": 22,
   "id": "483dace0",
   "metadata": {
    "execution": {
     "iopub.execute_input": "2024-04-04T19:12:48.379502Z",
     "iopub.status.busy": "2024-04-04T19:12:48.379077Z",
     "iopub.status.idle": "2024-04-04T19:12:48.383681Z",
     "shell.execute_reply": "2024-04-04T19:12:48.382546Z"
    },
    "papermill": {
     "duration": 0.031989,
     "end_time": "2024-04-04T19:12:48.385825",
     "exception": false,
     "start_time": "2024-04-04T19:12:48.353836",
     "status": "completed"
    },
    "tags": []
   },
   "outputs": [],
   "source": [
    "# FreatureDescriptionGetter().get(\"rejectreasonclient_4145042M\")"
   ]
  },
  {
   "cell_type": "code",
   "execution_count": 23,
   "id": "ea67acc1",
   "metadata": {
    "execution": {
     "iopub.execute_input": "2024-04-04T19:12:48.436184Z",
     "iopub.status.busy": "2024-04-04T19:12:48.435784Z",
     "iopub.status.idle": "2024-04-04T19:12:48.440898Z",
     "shell.execute_reply": "2024-04-04T19:12:48.439722Z"
    },
    "papermill": {
     "duration": 0.032706,
     "end_time": "2024-04-04T19:12:48.443239",
     "exception": false,
     "start_time": "2024-04-04T19:12:48.410533",
     "status": "completed"
    },
    "tags": []
   },
   "outputs": [],
   "source": [
    "# def bucket_mean_split(x, y, buckets=100):\n",
    "#     x_buckets = []\n",
    "#     y_buckets = []\n",
    "\n",
    "#     x = np.array(x)\n",
    "#     y = np.array(y)\n",
    "#     x_quantiles = [np.quantile(x, i / buckets) for i in range(0, buckets + 1)]\n",
    "#     for i in range(0, buckets):\n",
    "#         filter = (x >= x_quantiles[i]) & (x <= x_quantiles[i + 1])\n",
    "#         x_buckets.append(np.mean(x[filter]))\n",
    "#         y_buckets.append(np.mean(y[filter]))\n",
    "#     return x_buckets, y_buckets"
   ]
  },
  {
   "cell_type": "code",
   "execution_count": 24,
   "id": "128b27c5",
   "metadata": {
    "execution": {
     "iopub.execute_input": "2024-04-04T19:12:48.492677Z",
     "iopub.status.busy": "2024-04-04T19:12:48.492290Z",
     "iopub.status.idle": "2024-04-04T19:12:48.497103Z",
     "shell.execute_reply": "2024-04-04T19:12:48.496026Z"
    },
    "papermill": {
     "duration": 0.032278,
     "end_time": "2024-04-04T19:12:48.499371",
     "exception": false,
     "start_time": "2024-04-04T19:12:48.467093",
     "status": "completed"
    },
    "tags": []
   },
   "outputs": [],
   "source": [
    "# train[\"target\"].mean()"
   ]
  },
  {
   "cell_type": "code",
   "execution_count": 25,
   "id": "3be51514",
   "metadata": {
    "execution": {
     "iopub.execute_input": "2024-04-04T19:12:48.549327Z",
     "iopub.status.busy": "2024-04-04T19:12:48.548937Z",
     "iopub.status.idle": "2024-04-04T19:12:48.553846Z",
     "shell.execute_reply": "2024-04-04T19:12:48.552739Z"
    },
    "papermill": {
     "duration": 0.032943,
     "end_time": "2024-04-04T19:12:48.556215",
     "exception": false,
     "start_time": "2024-04-04T19:12:48.523272",
     "status": "completed"
    },
    "tags": []
   },
   "outputs": [],
   "source": [
    "# print(\"Mean target={} where actualdpdtolerance_344P != 0\".format(train[\"target\"].filter(train[\"actualdpdtolerance_344P\"] != 0).mean()))\n",
    "# print(\"Mean target={} where actualdpdtolerance_344P == 0\".format(train[\"target\"].filter(train[\"actualdpdtolerance_344P\"] == 0).mean()))\n",
    "# print(\"Mean target={} where actualdpdtolerance_344P is null\".format(train[\"target\"].filter(train[\"actualdpdtolerance_344P\"].is_null()).mean()))"
   ]
  },
  {
   "cell_type": "code",
   "execution_count": 26,
   "id": "2fd7e87d",
   "metadata": {
    "execution": {
     "iopub.execute_input": "2024-04-04T19:12:48.605496Z",
     "iopub.status.busy": "2024-04-04T19:12:48.605092Z",
     "iopub.status.idle": "2024-04-04T19:12:48.610698Z",
     "shell.execute_reply": "2024-04-04T19:12:48.609625Z"
    },
    "papermill": {
     "duration": 0.032667,
     "end_time": "2024-04-04T19:12:48.612871",
     "exception": false,
     "start_time": "2024-04-04T19:12:48.580204",
     "status": "completed"
    },
    "tags": []
   },
   "outputs": [],
   "source": [
    "# columns = [column for column in train.columns if (train[column].dtype == pl.Float64)]\n",
    "\n",
    "# figure, axis = plt.subplots(len(columns) // 5 + 1, 5, figsize=(15, 30))\n",
    "# for index, column in enumerate(columns):\n",
    "#     current_plot = axis[index // 5, index % 5]\n",
    "#     x = train[column]\n",
    "#     y = train[\"target\"]\n",
    "#     if (x.dtype == pl.String or x.dtype == pl.Boolean):\n",
    "#         continue\n",
    "#     filter = x.is_not_null()\n",
    "#     x = x.filter(filter)\n",
    "#     y = y.filter(filter)\n",
    "#     if (x.is_empty()):\n",
    "#         continue\n",
    "#     x_bucket, y_bucket = bucket_mean_split(x.to_numpy(), y.to_numpy(), buckets=100)\n",
    "#     current_plot.plot(x_bucket, y_bucket)\n",
    "#     current_plot.set_title(column)\n",
    "# plt.show()"
   ]
  },
  {
   "cell_type": "code",
   "execution_count": 27,
   "id": "63f87593",
   "metadata": {
    "execution": {
     "iopub.execute_input": "2024-04-04T19:12:48.662142Z",
     "iopub.status.busy": "2024-04-04T19:12:48.661768Z",
     "iopub.status.idle": "2024-04-04T19:12:48.666297Z",
     "shell.execute_reply": "2024-04-04T19:12:48.665151Z"
    },
    "papermill": {
     "duration": 0.031536,
     "end_time": "2024-04-04T19:12:48.668383",
     "exception": false,
     "start_time": "2024-04-04T19:12:48.636847",
     "status": "completed"
    },
    "tags": []
   },
   "outputs": [],
   "source": [
    "# features = train_df.columns\n",
    "# features.remove(\"WEEK_NUM\")\n",
    "# features.remove(\"case_id\")\n",
    "# features.remove(\"target\")"
   ]
  },
  {
   "cell_type": "code",
   "execution_count": 28,
   "id": "0b948355",
   "metadata": {
    "execution": {
     "iopub.execute_input": "2024-04-04T19:12:48.717902Z",
     "iopub.status.busy": "2024-04-04T19:12:48.717524Z",
     "iopub.status.idle": "2024-04-04T19:12:48.722006Z",
     "shell.execute_reply": "2024-04-04T19:12:48.720936Z"
    },
    "papermill": {
     "duration": 0.031974,
     "end_time": "2024-04-04T19:12:48.724265",
     "exception": false,
     "start_time": "2024-04-04T19:12:48.692291",
     "status": "completed"
    },
    "tags": []
   },
   "outputs": [],
   "source": [
    "# gc.collect()"
   ]
  },
  {
   "cell_type": "markdown",
   "id": "fed86ed6",
   "metadata": {
    "papermill": {
     "duration": 0.023644,
     "end_time": "2024-04-04T19:12:48.771799",
     "exception": false,
     "start_time": "2024-04-04T19:12:48.748155",
     "status": "completed"
    },
    "tags": []
   },
   "source": [
    "### Feature Importance"
   ]
  },
  {
   "cell_type": "code",
   "execution_count": 29,
   "id": "cae589fd",
   "metadata": {
    "execution": {
     "iopub.execute_input": "2024-04-04T19:12:48.821661Z",
     "iopub.status.busy": "2024-04-04T19:12:48.821234Z",
     "iopub.status.idle": "2024-04-04T19:12:48.826615Z",
     "shell.execute_reply": "2024-04-04T19:12:48.825670Z"
    },
    "papermill": {
     "duration": 0.033018,
     "end_time": "2024-04-04T19:12:48.828876",
     "exception": false,
     "start_time": "2024-04-04T19:12:48.795858",
     "status": "completed"
    },
    "tags": []
   },
   "outputs": [],
   "source": [
    "# def train_rf(X, Y):    \n",
    "#     params = {\n",
    "#         \"boosting_type\": \"gbdt\",\n",
    "#         \"objective\": \"binary\",\n",
    "#         \"metric\": \"auc\",\n",
    "#         \"max_depth\": 8,\n",
    "#         \"max_bin\": 255,\n",
    "#         \"learning_rate\": 0.05,\n",
    "#         \"n_estimators\": 200,\n",
    "#         \"colsample_bytree\": 0.8, \n",
    "#         \"colsample_bynode\": 0.8,\n",
    "#         \"verbose\": -1,\n",
    "#         \"random_state\": 42,\n",
    "#         \"device\": \"gpu\",\n",
    "#     }\n",
    "    \n",
    "#     model = lgb.LGBMClassifier(**params)\n",
    "    \n",
    "#     model.fit(X.to_pandas(), Y.to_pandas())\n",
    "    \n",
    "#     # Get feature importances\n",
    "#     return pl.DataFrame({\n",
    "#         \"feature\": list(X.columns),\n",
    "#         \"feature_importance\": model.feature_importances_,\n",
    "#         \"train_score\": roc_auc_score(Y.to_pandas(), model.predict(X.to_pandas()))\n",
    "#     })"
   ]
  },
  {
   "cell_type": "code",
   "execution_count": 30,
   "id": "c7bd9d2d",
   "metadata": {
    "execution": {
     "iopub.execute_input": "2024-04-04T19:12:48.878471Z",
     "iopub.status.busy": "2024-04-04T19:12:48.878009Z",
     "iopub.status.idle": "2024-04-04T19:12:48.883035Z",
     "shell.execute_reply": "2024-04-04T19:12:48.882018Z"
    },
    "papermill": {
     "duration": 0.032271,
     "end_time": "2024-04-04T19:12:48.885099",
     "exception": false,
     "start_time": "2024-04-04T19:12:48.852828",
     "status": "completed"
    },
    "tags": []
   },
   "outputs": [],
   "source": [
    "# def get_feature_importance(X, Y):\n",
    "#     COUNT_ITER = 50\n",
    "    \n",
    "#     dfs = []\n",
    "#     for i in range(COUNT_ITER):\n",
    "#         gc.collect()\n",
    "        \n",
    "#         start_time = time.time()\n",
    "#         shuffled_Y = Y.clone().sample(fraction=1.0, shuffle=True)\n",
    "#         current_df = train_rf(X, shuffled_Y)\n",
    "#         finish_time = time.time()\n",
    "#         print(f\"Finish iteration: {i + 1}/{COUNT_ITER}, time: {finish_time - start_time}\")\n",
    "#         current_df = current_df.with_columns(pl.lit(i).alias(\"iteration\"))\n",
    "#         dfs.append(current_df)\n",
    "        \n",
    "#     return pl.concat(dfs, rechunk=True), train_rf(X, Y)"
   ]
  },
  {
   "cell_type": "code",
   "execution_count": 31,
   "id": "398fe821",
   "metadata": {
    "execution": {
     "iopub.execute_input": "2024-04-04T19:12:48.935792Z",
     "iopub.status.busy": "2024-04-04T19:12:48.935357Z",
     "iopub.status.idle": "2024-04-04T19:12:48.940449Z",
     "shell.execute_reply": "2024-04-04T19:12:48.939186Z"
    },
    "papermill": {
     "duration": 0.03356,
     "end_time": "2024-04-04T19:12:48.942855",
     "exception": false,
     "start_time": "2024-04-04T19:12:48.909295",
     "status": "completed"
    },
    "tags": []
   },
   "outputs": [],
   "source": [
    "# shuffled_feature_importance_df, feature_importance_df = get_feature_importance(train_df[features], train_df[\"target\"])\n",
    "# shuffled_feature_importance_df.write_csv(\"shuffled_feature_importance_df.csv\", separator=\",\")\n",
    "# feature_importance_df.write_csv(\"feature_importance_df.csv\", separator=\",\")"
   ]
  },
  {
   "cell_type": "code",
   "execution_count": 32,
   "id": "869e96f7",
   "metadata": {
    "execution": {
     "iopub.execute_input": "2024-04-04T19:12:48.993459Z",
     "iopub.status.busy": "2024-04-04T19:12:48.993033Z",
     "iopub.status.idle": "2024-04-04T19:12:48.998241Z",
     "shell.execute_reply": "2024-04-04T19:12:48.997071Z"
    },
    "papermill": {
     "duration": 0.033419,
     "end_time": "2024-04-04T19:12:49.000741",
     "exception": false,
     "start_time": "2024-04-04T19:12:48.967322",
     "status": "completed"
    },
    "tags": []
   },
   "outputs": [],
   "source": [
    "# important_features = []\n",
    "# for column in feature_importance_df[\"feature\"]:\n",
    "#     shuffled_feature_importance = shuffled_feature_importance_df.filter(shuffled_feature_importance_df[\"feature\"] == column)[\"feature_importance\"].to_numpy()\n",
    "#     feature_importance = feature_importance_df.filter(feature_importance_df[\"feature\"] == column)[\"feature_importance\"][0]\n",
    "    \n",
    "#     if (np.percentile(shuffled_feature_importance, 90) <= feature_importance):\n",
    "#         important_features.append(column)\n",
    "# print(len(important_features), important_features)"
   ]
  },
  {
   "cell_type": "markdown",
   "id": "d902bdc6",
   "metadata": {
    "papermill": {
     "duration": 0.02378,
     "end_time": "2024-04-04T19:12:49.049122",
     "exception": false,
     "start_time": "2024-04-04T19:12:49.025342",
     "status": "completed"
    },
    "tags": []
   },
   "source": [
    "# Training"
   ]
  },
  {
   "cell_type": "code",
   "execution_count": 33,
   "id": "9ddbeeb6",
   "metadata": {
    "execution": {
     "iopub.execute_input": "2024-04-04T19:12:49.099513Z",
     "iopub.status.busy": "2024-04-04T19:12:49.099119Z",
     "iopub.status.idle": "2024-04-04T19:12:49.103880Z",
     "shell.execute_reply": "2024-04-04T19:12:49.103015Z"
    },
    "papermill": {
     "duration": 0.032371,
     "end_time": "2024-04-04T19:12:49.105880",
     "exception": false,
     "start_time": "2024-04-04T19:12:49.073509",
     "status": "completed"
    },
    "tags": []
   },
   "outputs": [],
   "source": [
    "# class VotingModel(BaseEstimator, RegressorMixin):\n",
    "#     def __init__(self, estimators):\n",
    "#         super().__init__()\n",
    "#         self.estimators = estimators\n",
    "        \n",
    "#     def fit(self, X, y=None):\n",
    "#         return self\n",
    "    \n",
    "#     def predict(self, X):\n",
    "#         y_preds = [estimator.predict(X) for estimator in self.estimators]\n",
    "#         return np.mean(y_preds, axis=0)\n",
    "    \n",
    "#     def predict_proba(self, X):\n",
    "#         y_preds = [estimator.predict_proba(X) for estimator in self.estimators]\n",
    "#         return np.mean(y_preds, axis=0)\n",
    "    \n",
    "#     def get_feature_importance(self):\n",
    "#         feature_importances = np.array([0 for feature in features])\n",
    "\n",
    "#         for model in self.estimators:\n",
    "#             feature_importances += model.feature_importances_\n",
    "\n",
    "#         return feature_importances"
   ]
  },
  {
   "cell_type": "code",
   "execution_count": 34,
   "id": "0fa25c2a",
   "metadata": {
    "execution": {
     "iopub.execute_input": "2024-04-04T19:12:49.157022Z",
     "iopub.status.busy": "2024-04-04T19:12:49.155862Z",
     "iopub.status.idle": "2024-04-04T19:12:49.160960Z",
     "shell.execute_reply": "2024-04-04T19:12:49.159907Z"
    },
    "papermill": {
     "duration": 0.033081,
     "end_time": "2024-04-04T19:12:49.163710",
     "exception": false,
     "start_time": "2024-04-04T19:12:49.130629",
     "status": "completed"
    },
    "tags": []
   },
   "outputs": [],
   "source": [
    "# for column in features:\n",
    "#     if (train_dataset[column].dtype != pl.Categorical) and \\\n",
    "#         (train_dataset[column].dtype != pl.Float64) and \\\n",
    "#         (train_dataset[column].dtype != pl.Float64):\n",
    "#         print(column, train_dataset[column].dtype)"
   ]
  },
  {
   "cell_type": "code",
   "execution_count": 35,
   "id": "753339c3",
   "metadata": {
    "execution": {
     "iopub.execute_input": "2024-04-04T19:12:49.214792Z",
     "iopub.status.busy": "2024-04-04T19:12:49.214139Z",
     "iopub.status.idle": "2024-04-04T19:12:49.220374Z",
     "shell.execute_reply": "2024-04-04T19:12:49.218985Z"
    },
    "papermill": {
     "duration": 0.035149,
     "end_time": "2024-04-04T19:12:49.222958",
     "exception": false,
     "start_time": "2024-04-04T19:12:49.187809",
     "status": "completed"
    },
    "tags": []
   },
   "outputs": [],
   "source": [
    "# def train_lgb_model(X_train, Y_train, X_test, Y_test):\n",
    "#     params = {\n",
    "#         \"boosting_type\": \"gbdt\",\n",
    "#         \"objective\": \"binary\",\n",
    "#         \"metric\": \"auc\",\n",
    "#         \"max_depth\": 8,\n",
    "#         \"max_bin\": 250,\n",
    "#         \"learning_rate\": 0.05,\n",
    "#         \"n_estimators\": 1000,\n",
    "#         \"colsample_bytree\": 0.8, \n",
    "#         \"colsample_bynode\": 0.8,\n",
    "#         \"verbose\": -1,\n",
    "#         \"random_state\": 42,\n",
    "#         \"device\": \"gpu\",\n",
    "#     }\n",
    "    \n",
    "#     model = lgb.LGBMClassifier(**params)\n",
    "    \n",
    "#     model.fit(\n",
    "#         X_train, Y_train,\n",
    "#         eval_set=[(X_test, Y_test)],\n",
    "#         callbacks=[lgb.log_evaluation(100), lgb.early_stopping(100)]\n",
    "#     )\n",
    "        \n",
    "#     return model"
   ]
  },
  {
   "cell_type": "code",
   "execution_count": 36,
   "id": "6dcfe6d8",
   "metadata": {
    "execution": {
     "iopub.execute_input": "2024-04-04T19:12:49.282066Z",
     "iopub.status.busy": "2024-04-04T19:12:49.281624Z",
     "iopub.status.idle": "2024-04-04T19:12:49.285983Z",
     "shell.execute_reply": "2024-04-04T19:12:49.284663Z"
    },
    "papermill": {
     "duration": 0.037286,
     "end_time": "2024-04-04T19:12:49.288324",
     "exception": false,
     "start_time": "2024-04-04T19:12:49.251038",
     "status": "completed"
    },
    "tags": []
   },
   "outputs": [],
   "source": [
    "# gc.collect()"
   ]
  },
  {
   "cell_type": "code",
   "execution_count": 37,
   "id": "73b4a242",
   "metadata": {
    "execution": {
     "iopub.execute_input": "2024-04-04T19:12:49.345722Z",
     "iopub.status.busy": "2024-04-04T19:12:49.345290Z",
     "iopub.status.idle": "2024-04-04T19:12:49.352867Z",
     "shell.execute_reply": "2024-04-04T19:12:49.351395Z"
    },
    "papermill": {
     "duration": 0.039098,
     "end_time": "2024-04-04T19:12:49.355559",
     "exception": false,
     "start_time": "2024-04-04T19:12:49.316461",
     "status": "completed"
    },
    "tags": []
   },
   "outputs": [],
   "source": [
    "# weeks = train_df[\"WEEK_NUM\"]\n",
    "# cv = StratifiedGroupKFold(n_splits=5, shuffle=False)\n",
    "\n",
    "# fitted_models = []\n",
    "\n",
    "# oof_predicted = np.zeros(train_df.shape[0])\n",
    "\n",
    "# for idx_train, idx_test in cv.split(train_df[features], train_df[\"target\"], groups=weeks):        \n",
    "# #     X_train = train_df[features][idx_train].to_pandas()\n",
    "# #     Y_train = train_df[\"target\"][idx_train].to_pandas()\n",
    "    \n",
    "#     X_test = train_df[features][idx_test].to_pandas()\n",
    "#     Y_test = train_df[\"target\"][idx_test].to_pandas()\n",
    "    \n",
    "#     start = time.time()\n",
    "#     params = {\n",
    "#         \"boosting_type\": \"gbdt\",\n",
    "#         \"objective\": \"binary\",\n",
    "#         \"metric\": \"auc\",\n",
    "#         \"max_depth\": 8,\n",
    "#         \"max_bin\": 250,\n",
    "#         \"learning_rate\": 0.05,\n",
    "#         \"n_estimators\": 1000,\n",
    "#         \"colsample_bytree\": 0.8, \n",
    "#         \"colsample_bynode\": 0.8,\n",
    "#         \"verbose\": -1,\n",
    "#         \"random_state\": 42,\n",
    "#         \"device\": \"gpu\",\n",
    "#     }\n",
    "    \n",
    "#     model = lgb.LGBMClassifier(**params)\n",
    "    \n",
    "#     model.fit(\n",
    "#         train_df[features][idx_train].to_pandas(), train_df[\"target\"][idx_train].to_pandas(),\n",
    "#         eval_set=[(X_test, Y_test)],\n",
    "#         callbacks=[lgb.log_evaluation(100), lgb.early_stopping(100)]\n",
    "#     )\n",
    "        \n",
    "\n",
    "# #    model = train_lgb_model(X_train, Y_train, X_test, Y_test)\n",
    "#     finish = time.time()\n",
    "    \n",
    "#     print(\"fit time: {}\".format(finish - start))\n",
    "#     fitted_models.append(model)\n",
    "    \n",
    "#     test_pred = model.predict_proba(X_test)[:, 1]\n",
    "#     oof_predicted[idx_test] = test_pred\n",
    "#     gc.collect()\n",
    "\n",
    "# model = VotingModel(fitted_models)\n",
    "# gc.collect()"
   ]
  },
  {
   "cell_type": "code",
   "execution_count": 38,
   "id": "a689d749",
   "metadata": {
    "execution": {
     "iopub.execute_input": "2024-04-04T19:12:49.406642Z",
     "iopub.status.busy": "2024-04-04T19:12:49.406203Z",
     "iopub.status.idle": "2024-04-04T19:12:49.411175Z",
     "shell.execute_reply": "2024-04-04T19:12:49.409958Z"
    },
    "papermill": {
     "duration": 0.033241,
     "end_time": "2024-04-04T19:12:49.413750",
     "exception": false,
     "start_time": "2024-04-04T19:12:49.380509",
     "status": "completed"
    },
    "tags": []
   },
   "outputs": [],
   "source": [
    "# roc_auc_oof = roc_auc_score(train_df[\"target\"], oof_predicted)\n",
    "# print(\"CV roc_auc_oof: \", roc_auc_oof)"
   ]
  },
  {
   "cell_type": "markdown",
   "id": "96f546a4",
   "metadata": {
    "papermill": {
     "duration": 0.023626,
     "end_time": "2024-04-04T19:12:49.461343",
     "exception": false,
     "start_time": "2024-04-04T19:12:49.437717",
     "status": "completed"
    },
    "tags": []
   },
   "source": [
    "# Predict"
   ]
  },
  {
   "cell_type": "code",
   "execution_count": 39,
   "id": "50d5deae",
   "metadata": {
    "execution": {
     "iopub.execute_input": "2024-04-04T19:12:49.511238Z",
     "iopub.status.busy": "2024-04-04T19:12:49.510805Z",
     "iopub.status.idle": "2024-04-04T19:12:49.515051Z",
     "shell.execute_reply": "2024-04-04T19:12:49.514254Z"
    },
    "papermill": {
     "duration": 0.031802,
     "end_time": "2024-04-04T19:12:49.517233",
     "exception": false,
     "start_time": "2024-04-04T19:12:49.485431",
     "status": "completed"
    },
    "tags": []
   },
   "outputs": [],
   "source": [
    "# del train_df\n",
    "# gc.collect()"
   ]
  },
  {
   "cell_type": "code",
   "execution_count": 40,
   "id": "4506c75e",
   "metadata": {
    "execution": {
     "iopub.execute_input": "2024-04-04T19:12:49.567094Z",
     "iopub.status.busy": "2024-04-04T19:12:49.566673Z",
     "iopub.status.idle": "2024-04-04T19:12:49.571863Z",
     "shell.execute_reply": "2024-04-04T19:12:49.570722Z"
    },
    "papermill": {
     "duration": 0.032953,
     "end_time": "2024-04-04T19:12:49.574234",
     "exception": false,
     "start_time": "2024-04-04T19:12:49.541281",
     "status": "completed"
    },
    "tags": []
   },
   "outputs": [],
   "source": [
    "# test_dataset = data_loader.load_test_dataset()\n",
    "# print(\"Test dataset week range: {}-{}\".format(test_dataset.base[\"WEEK_NUM\"].min(), test_dataset.base[\"WEEK_NUM\"].max()))\n",
    "# gc.collect()\n",
    "# test_df = preprocessor.process_test_dataset(test_dataset)\n",
    "# del test_dataset\n",
    "# gc.collect()"
   ]
  },
  {
   "cell_type": "code",
   "execution_count": 41,
   "id": "9843c696",
   "metadata": {
    "execution": {
     "iopub.execute_input": "2024-04-04T19:12:49.623930Z",
     "iopub.status.busy": "2024-04-04T19:12:49.623508Z",
     "iopub.status.idle": "2024-04-04T19:12:49.628352Z",
     "shell.execute_reply": "2024-04-04T19:12:49.627220Z"
    },
    "papermill": {
     "duration": 0.032526,
     "end_time": "2024-04-04T19:12:49.630829",
     "exception": false,
     "start_time": "2024-04-04T19:12:49.598303",
     "status": "completed"
    },
    "tags": []
   },
   "outputs": [],
   "source": [
    "# print([name for value, name in reversed(sorted(zip(model.get_feature_importance(), features)))][0:200])"
   ]
  },
  {
   "cell_type": "code",
   "execution_count": null,
   "id": "bd9f9525",
   "metadata": {
    "papermill": {
     "duration": 0.023589,
     "end_time": "2024-04-04T19:12:49.678895",
     "exception": false,
     "start_time": "2024-04-04T19:12:49.655306",
     "status": "completed"
    },
    "tags": []
   },
   "outputs": [],
   "source": []
  },
  {
   "cell_type": "code",
   "execution_count": 42,
   "id": "48079f00",
   "metadata": {
    "execution": {
     "iopub.execute_input": "2024-04-04T19:12:49.729014Z",
     "iopub.status.busy": "2024-04-04T19:12:49.728590Z",
     "iopub.status.idle": "2024-04-04T19:12:49.733339Z",
     "shell.execute_reply": "2024-04-04T19:12:49.732236Z"
    },
    "papermill": {
     "duration": 0.032719,
     "end_time": "2024-04-04T19:12:49.735753",
     "exception": false,
     "start_time": "2024-04-04T19:12:49.703034",
     "status": "completed"
    },
    "tags": []
   },
   "outputs": [],
   "source": [
    "# CV roc_auc_oof:  0.8353789451006361 without feature selection ~500 features\n",
    "# CV roc_auc_oof:  0.8329322959533371 with feature selection ~200 features"
   ]
  },
  {
   "cell_type": "code",
   "execution_count": null,
   "id": "c4d5b821",
   "metadata": {
    "papermill": {
     "duration": 0.023794,
     "end_time": "2024-04-04T19:12:49.783568",
     "exception": false,
     "start_time": "2024-04-04T19:12:49.759774",
     "status": "completed"
    },
    "tags": []
   },
   "outputs": [],
   "source": []
  },
  {
   "cell_type": "code",
   "execution_count": 43,
   "id": "b159de71",
   "metadata": {
    "execution": {
     "iopub.execute_input": "2024-04-04T19:12:49.833304Z",
     "iopub.status.busy": "2024-04-04T19:12:49.832861Z",
     "iopub.status.idle": "2024-04-04T19:12:49.838155Z",
     "shell.execute_reply": "2024-04-04T19:12:49.837303Z"
    },
    "papermill": {
     "duration": 0.032925,
     "end_time": "2024-04-04T19:12:49.840548",
     "exception": false,
     "start_time": "2024-04-04T19:12:49.807623",
     "status": "completed"
    },
    "tags": []
   },
   "outputs": [],
   "source": [
    "# def gini_stability(dataset, w_fallingrate=88.0, w_resstd=-0.5):\n",
    "#     gini_in_time = dataset\\\n",
    "#         .sort_values(\"WEEK_NUM\")\\\n",
    "#         .groupby(\"WEEK_NUM\")[[\"true\", \"predicted\"]]\\\n",
    "#         .apply(lambda x: 2 * roc_auc_score(x[\"true\"], x[\"predicted\"]) - 1).tolist()\n",
    "    \n",
    "#     x = np.arange(len(gini_in_time))\n",
    "#     y = gini_in_time\n",
    "#     a, b = np.polyfit(x, y, 1)\n",
    "#     y_hat = a * x + b\n",
    "#     residuals = y - y_hat\n",
    "#     res_std = np.std(residuals)\n",
    "#     avg_gini = np.mean(gini_in_time)\n",
    "    \n",
    "#     print(avg_gini, min(0, a), res_std)\n",
    "    \n",
    "#     return avg_gini + w_fallingrate * min(0, a) + w_resstd * res_std"
   ]
  },
  {
   "cell_type": "code",
   "execution_count": 44,
   "id": "5f80ca01",
   "metadata": {
    "execution": {
     "iopub.execute_input": "2024-04-04T19:12:49.890352Z",
     "iopub.status.busy": "2024-04-04T19:12:49.889564Z",
     "iopub.status.idle": "2024-04-04T19:12:49.894455Z",
     "shell.execute_reply": "2024-04-04T19:12:49.893323Z"
    },
    "papermill": {
     "duration": 0.032358,
     "end_time": "2024-04-04T19:12:49.896937",
     "exception": false,
     "start_time": "2024-04-04T19:12:49.864579",
     "status": "completed"
    },
    "tags": []
   },
   "outputs": [],
   "source": [
    "# # Y_train_predicted = model.predict_proba(train_df[features].to_pandas())\n",
    "# Y_test_predicted = model.predict_proba(test_df[features].to_pandas())"
   ]
  },
  {
   "cell_type": "code",
   "execution_count": 45,
   "id": "a0f3080f",
   "metadata": {
    "execution": {
     "iopub.execute_input": "2024-04-04T19:12:49.946550Z",
     "iopub.status.busy": "2024-04-04T19:12:49.946143Z",
     "iopub.status.idle": "2024-04-04T19:12:49.951211Z",
     "shell.execute_reply": "2024-04-04T19:12:49.950036Z"
    },
    "papermill": {
     "duration": 0.032817,
     "end_time": "2024-04-04T19:12:49.953676",
     "exception": false,
     "start_time": "2024-04-04T19:12:49.920859",
     "status": "completed"
    },
    "tags": []
   },
   "outputs": [],
   "source": [
    "# result = pd.DataFrame({\n",
    "#     \"WEEK_NUM\": train_df[\"WEEK_NUM\"],\n",
    "#     \"true\": train_df[\"target\"],\n",
    "#     \"predicted\": Y_train_predicted[:, 1],\n",
    "# })\n",
    "\n",
    "# train_result = gini_stability(result)\n",
    "# print(\"train_score: {}\".format(train_result))\n",
    "\n",
    "# if MODE == Mode.Train:\n",
    "#     result = pd.DataFrame({\n",
    "#         \"WEEK_NUM\": test_df[\"WEEK_NUM\"],\n",
    "#         \"true\": test_df[\"target\"],\n",
    "#         \"predicted\": Y_test_predicted[:, 1],\n",
    "#     })\n",
    "\n",
    "#     test_result = gini_stability(result)\n",
    "#     print(\"test_score: {}\".format(test_result))"
   ]
  },
  {
   "cell_type": "code",
   "execution_count": 46,
   "id": "8975f80d",
   "metadata": {
    "execution": {
     "iopub.execute_input": "2024-04-04T19:12:50.003893Z",
     "iopub.status.busy": "2024-04-04T19:12:50.003503Z",
     "iopub.status.idle": "2024-04-04T19:12:50.008500Z",
     "shell.execute_reply": "2024-04-04T19:12:50.007309Z"
    },
    "papermill": {
     "duration": 0.033061,
     "end_time": "2024-04-04T19:12:50.010993",
     "exception": false,
     "start_time": "2024-04-04T19:12:49.977932",
     "status": "completed"
    },
    "tags": []
   },
   "outputs": [],
   "source": [
    "# Version 1, test_score: 0.583319926590042, public score 0.48\n",
    "# 100 iters\n",
    "\n",
    "# Version 2, test_score: 0.6062624701357268, public score 0.517\n",
    "# 300 iters\n",
    "\n",
    "# Version 3, test_score: ?, public score 0.545\n",
    "# 2000 iters\n",
    "\n",
    "# Version 4, test_score: ?, public score ?\n",
    "# ? iters, Improve aggregate functions for depth_1, depth_2\n"
   ]
  },
  {
   "cell_type": "markdown",
   "id": "52a0d8a8",
   "metadata": {
    "papermill": {
     "duration": 0.024204,
     "end_time": "2024-04-04T19:12:50.059298",
     "exception": false,
     "start_time": "2024-04-04T19:12:50.035094",
     "status": "completed"
    },
    "tags": []
   },
   "source": [
    "# Submition"
   ]
  },
  {
   "cell_type": "code",
   "execution_count": 47,
   "id": "525c8f4c",
   "metadata": {
    "execution": {
     "iopub.execute_input": "2024-04-04T19:12:50.111074Z",
     "iopub.status.busy": "2024-04-04T19:12:50.110675Z",
     "iopub.status.idle": "2024-04-04T19:12:50.115687Z",
     "shell.execute_reply": "2024-04-04T19:12:50.114456Z"
    },
    "papermill": {
     "duration": 0.033539,
     "end_time": "2024-04-04T19:12:50.118231",
     "exception": false,
     "start_time": "2024-04-04T19:12:50.084692",
     "status": "completed"
    },
    "tags": []
   },
   "outputs": [],
   "source": [
    "# case_id = test_df[\"case_id\"]\n",
    "# X = test_df[features].to_pandas()\n",
    "\n",
    "# Y = model.predict_proba(X)\n",
    "\n",
    "# submission = pd.DataFrame({\n",
    "#     \"case_id\": case_id.to_numpy(),\n",
    "#     \"score\": Y[:, 1]\n",
    "# }).set_index('case_id')\n",
    "# submission.to_csv(\"./submission.csv\")"
   ]
  },
  {
   "cell_type": "code",
   "execution_count": null,
   "id": "fa39be71",
   "metadata": {
    "papermill": {
     "duration": 0.023745,
     "end_time": "2024-04-04T19:12:50.166350",
     "exception": false,
     "start_time": "2024-04-04T19:12:50.142605",
     "status": "completed"
    },
    "tags": []
   },
   "outputs": [],
   "source": []
  },
  {
   "cell_type": "code",
   "execution_count": null,
   "id": "2f42eebb",
   "metadata": {
    "papermill": {
     "duration": 0.024868,
     "end_time": "2024-04-04T19:12:50.215139",
     "exception": false,
     "start_time": "2024-04-04T19:12:50.190271",
     "status": "completed"
    },
    "tags": []
   },
   "outputs": [],
   "source": []
  },
  {
   "cell_type": "code",
   "execution_count": null,
   "id": "8120984b",
   "metadata": {
    "papermill": {
     "duration": 0.023584,
     "end_time": "2024-04-04T19:12:50.263872",
     "exception": false,
     "start_time": "2024-04-04T19:12:50.240288",
     "status": "completed"
    },
    "tags": []
   },
   "outputs": [],
   "source": []
  }
 ],
 "metadata": {
  "kaggle": {
   "accelerator": "none",
   "dataSources": [
    {
     "databundleVersionId": 7921029,
     "sourceId": 50160,
     "sourceType": "competition"
    },
    {
     "datasetId": 4496896,
     "sourceId": 8031357,
     "sourceType": "datasetVersion"
    }
   ],
   "dockerImageVersionId": 30635,
   "isGpuEnabled": false,
   "isInternetEnabled": false,
   "language": "python",
   "sourceType": "notebook"
  },
  "kernelspec": {
   "display_name": "Python 3",
   "language": "python",
   "name": "python3"
  },
  "language_info": {
   "codemirror_mode": {
    "name": "ipython",
    "version": 3
   },
   "file_extension": ".py",
   "mimetype": "text/x-python",
   "name": "python",
   "nbconvert_exporter": "python",
   "pygments_lexer": "ipython3",
   "version": "3.10.12"
  },
  "papermill": {
   "default_parameters": {},
   "duration": 235.943112,
   "end_time": "2024-04-04T19:12:51.111359",
   "environment_variables": {},
   "exception": null,
   "input_path": "__notebook__.ipynb",
   "output_path": "__notebook__.ipynb",
   "parameters": {},
   "start_time": "2024-04-04T19:08:55.168247",
   "version": "2.4.0"
  }
 },
 "nbformat": 4,
 "nbformat_minor": 5
}
