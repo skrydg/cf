{
 "cells": [
  {
   "cell_type": "markdown",
   "id": "94910a48",
   "metadata": {
    "papermill": {
     "duration": 0.013069,
     "end_time": "2024-03-14T18:28:17.439798",
     "exception": false,
     "start_time": "2024-03-14T18:28:17.426729",
     "status": "completed"
    },
    "tags": []
   },
   "source": [
    "# Install packages"
   ]
  },
  {
   "cell_type": "code",
   "execution_count": 1,
   "id": "61dcac8e",
   "metadata": {
    "execution": {
     "iopub.execute_input": "2024-03-14T18:28:17.465462Z",
     "iopub.status.busy": "2024-03-14T18:28:17.465062Z",
     "iopub.status.idle": "2024-03-14T18:28:50.123642Z",
     "shell.execute_reply": "2024-03-14T18:28:50.122108Z"
    },
    "papermill": {
     "duration": 32.674232,
     "end_time": "2024-03-14T18:28:50.126162",
     "exception": false,
     "start_time": "2024-03-14T18:28:17.451930",
     "status": "completed"
    },
    "tags": []
   },
   "outputs": [
    {
     "name": "stdout",
     "output_type": "stream",
     "text": [
      "Processing /kaggle/input/kaggle-home-credit-risk-model-stability-lib/kaggle_home_credit_risk_model_stability-0.3-py3-none-any.whl\r\n",
      "Installing collected packages: kaggle-home-credit-risk-model-stability\r\n",
      "Successfully installed kaggle-home-credit-risk-model-stability-0.3\r\n"
     ]
    }
   ],
   "source": [
    "!pip install /kaggle/input/kaggle-home-credit-risk-model-stability-lib/kaggle_home_credit_risk_model_stability-0.3-py3-none-any.whl --force-reinstall"
   ]
  },
  {
   "cell_type": "markdown",
   "id": "1a556d7f",
   "metadata": {
    "papermill": {
     "duration": 0.011957,
     "end_time": "2024-03-14T18:28:50.150775",
     "exception": false,
     "start_time": "2024-03-14T18:28:50.138818",
     "status": "completed"
    },
    "tags": []
   },
   "source": [
    "# Import packages"
   ]
  },
  {
   "cell_type": "code",
   "execution_count": 2,
   "id": "ebc4ae67",
   "metadata": {
    "execution": {
     "iopub.execute_input": "2024-03-14T18:28:50.178760Z",
     "iopub.status.busy": "2024-03-14T18:28:50.177888Z",
     "iopub.status.idle": "2024-03-14T18:28:53.880835Z",
     "shell.execute_reply": "2024-03-14T18:28:53.879810Z"
    },
    "papermill": {
     "duration": 3.720232,
     "end_time": "2024-03-14T18:28:53.883323",
     "exception": false,
     "start_time": "2024-03-14T18:28:50.163091",
     "status": "completed"
    },
    "tags": []
   },
   "outputs": [],
   "source": [
    "import polars as pl\n",
    "import gc\n",
    "import time\n",
    "import numpy as np\n",
    "import pandas as pd\n",
    "import lightgbm as lgb\n",
    "import seaborn as sns\n",
    "import matplotlib.pyplot as plt\n",
    "import copy\n",
    "import lightgbm as lgb\n",
    "import importlib\n",
    "import pickle\n",
    "import argparse\n",
    "\n",
    "import kaggle_home_credit_risk_model_stability.libs as hcr\n",
    "from kaggle_home_credit_risk_model_stability.libs.input.dataset import Dataset\n",
    "from kaggle_home_credit_risk_model_stability.libs.input.data_loader import DataLoader, Mode\n",
    "from kaggle_home_credit_risk_model_stability.libs.preprocessor.preprocessor import Preprocessor\n",
    "from kaggle_home_credit_risk_model_stability.libs.preprocessor.steps import *\n",
    "from kaggle_home_credit_risk_model_stability.libs.preprocessor.columns_info import ColumnsInfo\n",
    "from kaggle_home_credit_risk_model_stability.libs.feature_description.feature_description import FreatureDescriptionGetter\n",
    "\n",
    "from collections import defaultdict\n",
    "from glob import glob\n",
    "from pathlib import Path\n",
    "from sklearn.model_selection import train_test_split\n",
    "from sklearn.metrics import roc_auc_score\n",
    "from sklearn.model_selection import StratifiedGroupKFold\n",
    "from sklearn.base import BaseEstimator, RegressorMixin"
   ]
  },
  {
   "cell_type": "code",
   "execution_count": 3,
   "id": "44fc19f0",
   "metadata": {
    "execution": {
     "iopub.execute_input": "2024-03-14T18:28:53.909970Z",
     "iopub.status.busy": "2024-03-14T18:28:53.908947Z",
     "iopub.status.idle": "2024-03-14T18:28:53.915674Z",
     "shell.execute_reply": "2024-03-14T18:28:53.914760Z"
    },
    "papermill": {
     "duration": 0.022261,
     "end_time": "2024-03-14T18:28:53.917856",
     "exception": false,
     "start_time": "2024-03-14T18:28:53.895595",
     "status": "completed"
    },
    "tags": []
   },
   "outputs": [],
   "source": [
    "parser = argparse.ArgumentParser()\n",
    "parser.add_argument(\"--mode\", type=str, default=\"Predict\")\n",
    "args = parser.parse_args(\"\")\n",
    "if args.mode == \"Train\":\n",
    "    MODE = Mode.Train\n",
    "elif args.mode == \"Predict\":\n",
    "    MODE = Mode.Predict\n",
    "else:\n",
    "    exit(1)"
   ]
  },
  {
   "cell_type": "code",
   "execution_count": 4,
   "id": "e5e0b0d7",
   "metadata": {
    "execution": {
     "iopub.execute_input": "2024-03-14T18:28:53.943860Z",
     "iopub.status.busy": "2024-03-14T18:28:53.943486Z",
     "iopub.status.idle": "2024-03-14T18:28:53.950886Z",
     "shell.execute_reply": "2024-03-14T18:28:53.949846Z"
    },
    "papermill": {
     "duration": 0.022929,
     "end_time": "2024-03-14T18:28:53.952876",
     "exception": false,
     "start_time": "2024-03-14T18:28:53.929947",
     "status": "completed"
    },
    "tags": []
   },
   "outputs": [],
   "source": [
    "data_loader = DataLoader(mode=MODE)\n",
    "preprocessor = Preprocessor({\n",
    "    \"set_column_info_step\": SetColumnsInfoStep(),\n",
    "    \"set_types\": SetTypesStep(),\n",
    "    \"process_categorical\": ProcessCategoricalStep(),\n",
    "    \"process_person_table\": ProcessPersonTableStep(),\n",
    "    \"one_hot_encoding_for_depth1\": OneHotEncodingForDepth1Step(),\n",
    "    \"pairwise_diff_raw_dates\": PairwiseDateDiffStep(),\n",
    "    \"aggregate_depth_table\": AggregateDepthTableStep(),\n",
    "    \"drop_equal_columns\": DropEqualColumnsStep(),\n",
    "    \"drop_almost_null_features_respect_to_target\": DropAlmostNullFeaturesWithRespectToTargetStep(),\n",
    "    \"join_table\": JoinTablesStep(),\n",
    "    \"generate_age_feature\": GenerateAgeFeatureStep(),\n",
    "    \"fill_nulls_in_categorical_features\": FillNullsInCategoricalFeaturesStep(),\n",
    "    **{\n",
    "        f\"create_money_feature_fraction_{base_column}\": CreateMoneyFeatureFractionStep(base_column)\n",
    "        for base_column in [\"credamount_770A\", \"maininc_215A\", \"mainoccupationinc_384A\", \"mean_amount_416A\"]\n",
    "    },\n",
    "    \"generate_mismatch_features\": GenerateMismatchFeaturesStep(),\n",
    "    \"generate_target_distribution_based_on_categorical_features_step\": GenerateTargetDistributionBasedOnCategoricalStep(),\n",
    "    \"drop_single_value_features\": DropSingleValueFeaturesStep(),\n",
    "    \"drop_variable_enum_features\": DropVariableEnumFeaturesStep(),\n",
    "    \"reduce_memory_usage\": ReduceMemoryUsageStep()\n",
    "})\n",
    "columns_info = ColumnsInfo()"
   ]
  },
  {
   "cell_type": "code",
   "execution_count": 5,
   "id": "0cb12c73",
   "metadata": {
    "execution": {
     "iopub.execute_input": "2024-03-14T18:28:53.979288Z",
     "iopub.status.busy": "2024-03-14T18:28:53.978853Z",
     "iopub.status.idle": "2024-03-14T18:28:53.983474Z",
     "shell.execute_reply": "2024-03-14T18:28:53.982522Z"
    },
    "papermill": {
     "duration": 0.019894,
     "end_time": "2024-03-14T18:28:53.985340",
     "exception": false,
     "start_time": "2024-03-14T18:28:53.965446",
     "status": "completed"
    },
    "tags": []
   },
   "outputs": [],
   "source": [
    "# train_dataset = data_loader.load_train_dataset()\n",
    "# case_id_set = train_dataset.get_base().filter(train_dataset.get_base()[\"WEEK_NUM\"] < 3)[\"case_id\"]\n",
    "# train_dataset = train_dataset.filter(lambda table: table.filter(pl.col(\"case_id\").is_in(case_id_set)))"
   ]
  },
  {
   "cell_type": "code",
   "execution_count": 6,
   "id": "ebbcf6f2",
   "metadata": {
    "execution": {
     "iopub.execute_input": "2024-03-14T18:28:54.011875Z",
     "iopub.status.busy": "2024-03-14T18:28:54.010814Z",
     "iopub.status.idle": "2024-03-14T18:44:31.092978Z",
     "shell.execute_reply": "2024-03-14T18:44:31.091746Z"
    },
    "papermill": {
     "duration": 937.09821,
     "end_time": "2024-03-14T18:44:31.095647",
     "exception": false,
     "start_time": "2024-03-14T18:28:53.997437",
     "status": "completed"
    },
    "tags": []
   },
   "outputs": [
    {
     "name": "stdout",
     "output_type": "stream",
     "text": [
      "Train dataset week range: 0-91\n",
      "Dataset hash='77e5faae5a347c4193f5ba7f0f940b43b788bdcba4b228235edd76ebf608657d'\n",
      "Step: set_column_info_step, execution_time: 0.10430741310119629\n",
      "Dataset hash='77e5faae5a347c4193f5ba7f0f940b43b788bdcba4b228235edd76ebf608657d' after step: set_column_info_step\n",
      "Step: set_types, execution_time: 11.842353105545044\n",
      "Dataset hash='043e1bbfe077dca49cea4cae0647d57fbdd3fe0688670f78d723a8f7a08bc73b' after step: set_types\n",
      "Step: process_categorical, execution_time: 26.93018937110901\n",
      "Dataset hash='80067e4a84c83620fb1a3ff8889dfca74ed15a41c8eab9487d3a5e6cbfde65fc' after step: process_categorical\n",
      "Step: process_person_table, execution_time: 0.371884822845459\n",
      "Dataset hash='7e5c747397c09fe2a852a4a2c16302f1f2b306741a20f8db9f653c827a96256b' after step: process_person_table\n",
      "Create 250 new columns as one hot encoding\n",
      "Step: one_hot_encoding_for_depth1, execution_time: 23.667572498321533\n",
      "Dataset hash='496a261b39adbb84ef328f77bec16bbfb67fc21165a16d913715774635d0abc4' after step: one_hot_encoding_for_depth1\n",
      "Create 172 new columns as pairwise dates diff\n",
      "Step: pairwise_diff_raw_dates, execution_time: 1.3313753604888916\n",
      "Dataset hash='4af729217cdd9831c54312becb53af4a0b2547cf480eb7ac53a5a2e7752c2b74' after step: pairwise_diff_raw_dates\n",
      "Step: aggregate_depth_table, execution_time: 55.00953817367554\n",
      "Dataset hash='98efb50d22e40a9a960d0072b843d1367ea21a2bd57845531ce2a57ed85c7d8d' after step: aggregate_depth_table\n",
      "Drop 304 columns as duplicates\n",
      "Step: drop_equal_columns, execution_time: 49.115193367004395\n",
      "Dataset hash='6953d2bd58ca36fae35dc22cd783e3fbdc243cb8e76c7ff170039062d814b17e' after step: drop_equal_columns\n",
      "Drop 538 columns as almost null\n",
      "Step: drop_almost_null_features_respect_to_target, execution_time: 476.40816354751587\n",
      "Dataset hash='a0808150490796f2d3d50810dd9e79185e8eae46782ed3698bc817cdbb89bdba' after step: drop_almost_null_features_respect_to_target\n",
      "Step: join_table, execution_time: 8.846248626708984\n",
      "Dataset hash='3732f8ce108ab5fa80052c16014635e591522095e82dffc5aa813b527974ae44' after step: join_table\n",
      "Step: generate_age_feature, execution_time: 0.18935537338256836\n",
      "Dataset hash='5bad661c173028eed6160e8975c6f784416d413356e2ee61e304ecf4d5cffd7d' after step: generate_age_feature\n",
      "Step: fill_nulls_in_categorical_features, execution_time: 16.02241849899292\n",
      "Dataset hash='36c37869cdfcab4878efcacb051c91ce37723aa0df8be02b398d5788690d6c79' after step: fill_nulls_in_categorical_features\n",
      "Create 123 new columns as money feature fraction with base 'credamount_770A'\n",
      "Step: create_money_feature_fraction_credamount_770A, execution_time: 5.469761371612549\n",
      "Dataset hash='37dc7d9e8413b2511ecfc921120747d4d3d8dc40dacb3ee483e8851fe75a74f4' after step: create_money_feature_fraction_credamount_770A\n",
      "Create 123 new columns as money feature fraction with base 'maininc_215A'\n",
      "Step: create_money_feature_fraction_maininc_215A, execution_time: 8.085901021957397\n",
      "Dataset hash='1e8da25b6269cf02421786f84d6b77984851d5a367e8196720b9b67a7903f599' after step: create_money_feature_fraction_maininc_215A\n",
      "Create 123 new columns as money feature fraction with base 'mainoccupationinc_384A'\n",
      "Step: create_money_feature_fraction_mainoccupationinc_384A, execution_time: 5.517292737960815\n",
      "Dataset hash='3a720dca8c60cbf58a8fcea31dbb52a97d26b763a0a3339d5556d255db98f87a' after step: create_money_feature_fraction_mainoccupationinc_384A\n",
      "Create 123 new columns as money feature fraction with base 'mean_amount_416A'\n",
      "Step: create_money_feature_fraction_mean_amount_416A, execution_time: 7.9095847606658936\n",
      "Dataset hash='92426b74e55678bc2484f97463470e23eed2afd1f47c51ae77e4906273134f55' after step: create_money_feature_fraction_mean_amount_416A\n",
      "Create 60 new columns as feature mismatch\n",
      "Step: generate_mismatch_features, execution_time: 47.17765760421753\n",
      "Dataset hash='95cecc1d1bffcc6b6409375f734afeb9aca5a55b48a9bf0ddc879191b04eb699' after step: generate_mismatch_features\n",
      "Create 210 as target distribution by categorical feature\n",
      "Step: generate_target_distribution_based_on_categorical_features_step, execution_time: 30.18268871307373\n",
      "Dataset hash='e1b4af20ffc4314944a10619aa3960280887aacd9bd7978b09e5da0d16a4b7c5' after step: generate_target_distribution_based_on_categorical_features_step\n",
      "Drop 19 columns as single value\n",
      "Step: drop_single_value_features, execution_time: 50.75988459587097\n",
      "Dataset hash='ba73b9841293278f9072d4dc12e6008322cca980cba81c2b9dca10bfb8947ada' after step: drop_single_value_features\n",
      "Drop 18 columns as variable enum value\n",
      "Step: drop_variable_enum_features, execution_time: 1.6997504234313965\n",
      "Dataset hash='07f10e245499d7394677887da042f285fdd4cce3b11daf55f1165958157edcd5' after step: drop_variable_enum_features\n",
      "Step: reduce_memory_usage, execution_time: 19.92951226234436\n",
      "Dataset hash='1edddc30c606ec2395a965ba3eb1a3cb75444a6811f877ffd9ac4b48b5fb61f3' after step: reduce_memory_usage\n"
     ]
    },
    {
     "data": {
      "text/plain": [
       "0"
      ]
     },
     "execution_count": 6,
     "metadata": {},
     "output_type": "execute_result"
    }
   ],
   "source": [
    "train_dataset = data_loader.load_train_dataset()\n",
    "print(\"Train dataset week range: {}-{}\".format(train_dataset.get_base()[\"WEEK_NUM\"].min(), train_dataset.get_base()[\"WEEK_NUM\"].max()))\n",
    "gc.collect()\n",
    "train_df, columns_info = preprocessor.process_train_dataset(train_dataset, columns_info)\n",
    "del train_dataset\n",
    "\n",
    "gc.collect()"
   ]
  },
  {
   "cell_type": "code",
   "execution_count": 7,
   "id": "e4bbe359",
   "metadata": {
    "execution": {
     "iopub.execute_input": "2024-03-14T18:44:31.128589Z",
     "iopub.status.busy": "2024-03-14T18:44:31.128169Z",
     "iopub.status.idle": "2024-03-14T18:44:43.105352Z",
     "shell.execute_reply": "2024-03-14T18:44:43.101272Z"
    },
    "papermill": {
     "duration": 12.002873,
     "end_time": "2024-03-14T18:44:43.114112",
     "exception": false,
     "start_time": "2024-03-14T18:44:31.111239",
     "status": "completed"
    },
    "tags": []
   },
   "outputs": [],
   "source": [
    "for column in train_df.columns:\n",
    "    if train_df[column].dtype != pl.Enum:\n",
    "        x = train_df[column].is_infinite().sum() + train_df[column].is_nan().sum()\n",
    "        assert(x == 0)"
   ]
  },
  {
   "cell_type": "code",
   "execution_count": 8,
   "id": "eb65b49e",
   "metadata": {
    "execution": {
     "iopub.execute_input": "2024-03-14T18:44:43.168251Z",
     "iopub.status.busy": "2024-03-14T18:44:43.166636Z",
     "iopub.status.idle": "2024-03-14T18:45:44.699326Z",
     "shell.execute_reply": "2024-03-14T18:45:44.698307Z"
    },
    "papermill": {
     "duration": 61.576858,
     "end_time": "2024-03-14T18:45:44.718504",
     "exception": false,
     "start_time": "2024-03-14T18:44:43.141646",
     "status": "completed"
    },
    "tags": []
   },
   "outputs": [
    {
     "name": "stdout",
     "output_type": "stream",
     "text": [
      "8763.011041641235\n",
      "shape: (1_526_659, 1_703)\n",
      "┌─────────┬────────────┬────────┬──────────┬───┬────────────┬────────────┬────────────┬────────────┐\n",
      "│ case_id ┆ date_decis ┆ MONTH  ┆ WEEK_NUM ┆ … ┆ last_type_ ┆ last_type_ ┆ age_bucket ┆ age_bucket │\n",
      "│ ---     ┆ ion        ┆ ---    ┆ ---      ┆   ┆ 25L_target ┆ 25L_value_ ┆ _target_di ┆ _value_per │\n",
      "│ i32     ┆ ---        ┆ i32    ┆ i8       ┆   ┆ _distribut ┆ persent    ┆ stribution ┆ sent       │\n",
      "│         ┆ i16        ┆        ┆          ┆   ┆ io…        ┆ ---        ┆ ---        ┆ ---        │\n",
      "│         ┆            ┆        ┆          ┆   ┆ ---        ┆ f32        ┆ f32        ┆ f32        │\n",
      "│         ┆            ┆        ┆          ┆   ┆ f32        ┆            ┆            ┆            │\n",
      "╞═════════╪════════════╪════════╪══════════╪═══╪════════════╪════════════╪════════════╪════════════╡\n",
      "│ 0       ┆ 17899      ┆ 201901 ┆ 0        ┆ … ┆ 0.033826   ┆ 0.424935   ┆ 0.0344     ┆ 0.255728   │\n",
      "│ 1       ┆ 17899      ┆ 201901 ┆ 0        ┆ … ┆ 0.033826   ┆ 0.424935   ┆ 0.017717   ┆ 0.154987   │\n",
      "│ 2       ┆ 17900      ┆ 201901 ┆ 0        ┆ … ┆ 0.033826   ┆ 0.424935   ┆ 0.030632   ┆ 0.216253   │\n",
      "│ 3       ┆ 17899      ┆ 201901 ┆ 0        ┆ … ┆ 0.033826   ┆ 0.424935   ┆ 0.048363   ┆ 0.176153   │\n",
      "│ …       ┆ …          ┆ …      ┆ …        ┆ … ┆ …          ┆ …          ┆ …          ┆ …          │\n",
      "│ 2703451 ┆ 18540      ┆ 202010 ┆ 91       ┆ … ┆ 0.020385   ┆ 0.02545    ┆ 0.017717   ┆ 0.154987   │\n",
      "│ 2703452 ┆ 18540      ┆ 202010 ┆ 91       ┆ … ┆ 0.03012    ┆ 0.507943   ┆ 0.030632   ┆ 0.216253   │\n",
      "│ 2703453 ┆ 18540      ┆ 202010 ┆ 91       ┆ … ┆ 0.020385   ┆ 0.02545    ┆ 0.020837   ┆ 0.033448   │\n",
      "│ 2703454 ┆ 18540      ┆ 202010 ┆ 91       ┆ … ┆ 0.03012    ┆ 0.507943   ┆ 0.020837   ┆ 0.033448   │\n",
      "└─────────┴────────────┴────────┴──────────┴───┴────────────┴────────────┴────────────┴────────────┘\n"
     ]
    },
    {
     "data": {
      "text/plain": [
       "0"
      ]
     },
     "execution_count": 8,
     "metadata": {},
     "output_type": "execute_result"
    }
   ],
   "source": [
    "train_df.write_parquet(\"/kaggle/working/train_df.parquet\")\n",
    "pickle.dump(columns_info, open(\"/kaggle/working/columns_info.pkl\", \"wb\"))\n",
    "print(train_df.estimated_size() / 1024 / 1024)\n",
    "print(train_df)\n",
    "\n",
    "del train_df\n",
    "gc.collect()"
   ]
  },
  {
   "cell_type": "code",
   "execution_count": 9,
   "id": "6d3324f4",
   "metadata": {
    "execution": {
     "iopub.execute_input": "2024-03-14T18:45:44.751367Z",
     "iopub.status.busy": "2024-03-14T18:45:44.750918Z",
     "iopub.status.idle": "2024-03-14T18:46:01.675609Z",
     "shell.execute_reply": "2024-03-14T18:46:01.674412Z"
    },
    "papermill": {
     "duration": 16.943906,
     "end_time": "2024-03-14T18:46:01.677905",
     "exception": false,
     "start_time": "2024-03-14T18:45:44.733999",
     "status": "completed"
    },
    "tags": []
   },
   "outputs": [
    {
     "name": "stdout",
     "output_type": "stream",
     "text": [
      "Test dataset week range: 100-100\n",
      "Dataset hash='f5e9385b688fb0d3fa538479059776d6899587a709ee18a392f2a0b3e9c5423e'\n",
      "Step: set_column_info_step, execution_time: 0.13623905181884766\n",
      "Dataset hash='f5e9385b688fb0d3fa538479059776d6899587a709ee18a392f2a0b3e9c5423e' after step: set_column_info_step\n",
      "Step: set_types, execution_time: 0.17963242530822754\n",
      "Dataset hash='ca9fcd073526fcabcfdeef36e3530430486a2cfb7014859712e6ce3ca24db5f1' after step: set_types\n",
      "Step: process_categorical, execution_time: 0.43700647354125977\n",
      "Dataset hash='6c8da1bad079a54d6a54692727c4f2ef22a3c38aaeb2fc6d60e9059805619143' after step: process_categorical\n",
      "Step: process_person_table, execution_time: 0.137176513671875\n",
      "Dataset hash='0adc72d9ed19821f7f8c159e551cf510bc2e2ccc995d61b7068a12368b16d26c' after step: process_person_table\n",
      "Create 250 new columns as one hot encoding\n",
      "Step: one_hot_encoding_for_depth1, execution_time: 0.1793074607849121\n",
      "Dataset hash='66290c0724894f0545d4c72c923ce702c78791824ad9ec9263286de3ad43df75' after step: one_hot_encoding_for_depth1\n",
      "Create 172 new columns as pairwise dates diff\n",
      "Step: pairwise_diff_raw_dates, execution_time: 0.1639411449432373\n",
      "Dataset hash='32c73a5f99f28beb5968ab7d8db767509d651b9164868bfa40d0331102d39283' after step: pairwise_diff_raw_dates\n",
      "Step: aggregate_depth_table, execution_time: 0.4994208812713623\n",
      "Dataset hash='fb35c7ba42998a278d57c19f2615524dede4928b0878d8fdbe3545260eb8592b' after step: aggregate_depth_table\n",
      "Step: drop_equal_columns, execution_time: 0.15308761596679688\n",
      "Dataset hash='be6b16c8087a2db3a617360cc4eec39980e6a1022b4b77eac5a587cb680a6c1e' after step: drop_equal_columns\n",
      "Step: drop_almost_null_features_respect_to_target, execution_time: 0.2064507007598877\n",
      "Dataset hash='adacc2175750926fc4afbaf830ab2e6a792d7188be8f2a7517af9c5aba72a462' after step: drop_almost_null_features_respect_to_target\n",
      "Step: join_table, execution_time: 2.926936388015747\n",
      "Dataset hash='6f383b8f06ffd32400e7c0796e6b4769b7d69305e08a08fe5fb9bd89ff9470d7' after step: join_table\n",
      "Step: generate_age_feature, execution_time: 0.19611167907714844\n",
      "Dataset hash='a59c8f1b2350897dda034cab586a8834cb4f53e9cb7e70ae87dfd0b345b43614' after step: generate_age_feature\n",
      "Step: fill_nulls_in_categorical_features, execution_time: 0.6940014362335205\n",
      "Dataset hash='91f931b4346778a5c3ec1cbcf60bf4b9f18e0988e0c72b7b6dd86833e24d04ba' after step: fill_nulls_in_categorical_features\n",
      "Create 123 new columns as money feature fraction with base 'credamount_770A'\n",
      "Step: create_money_feature_fraction_credamount_770A, execution_time: 0.22419285774230957\n",
      "Dataset hash='16efd453c3e0380cba0637e6cbde5d92fd9f5d355153daffe44cf22ce449c8f3' after step: create_money_feature_fraction_credamount_770A\n",
      "Create 123 new columns as money feature fraction with base 'maininc_215A'\n",
      "Step: create_money_feature_fraction_maininc_215A, execution_time: 0.2272639274597168\n",
      "Dataset hash='eee708410e262edc36f8a09e332ace5151f615f65bd80f0e8c5e191a89c35baa' after step: create_money_feature_fraction_maininc_215A\n",
      "Create 123 new columns as money feature fraction with base 'mainoccupationinc_384A'\n",
      "Step: create_money_feature_fraction_mainoccupationinc_384A, execution_time: 0.23381757736206055\n",
      "Dataset hash='733bcf04a646a5a22def64eb6f6a5c7b7b8838a657a652188d82668e5673d0c0' after step: create_money_feature_fraction_mainoccupationinc_384A\n",
      "Create 123 new columns as money feature fraction with base 'mean_amount_416A'\n",
      "Step: create_money_feature_fraction_mean_amount_416A, execution_time: 0.24210143089294434\n",
      "Dataset hash='435d8d5500d7fdf0ca08fd6d482d2d2084771ab1c960a434af17f00a000cb94a' after step: create_money_feature_fraction_mean_amount_416A\n",
      "Create 60 new columns as feature mismatch\n",
      "Step: generate_mismatch_features, execution_time: 0.16947674751281738\n",
      "Dataset hash='db3ca4ff30d600c8274792219dfad033032205c96eaff481a5a7d2f74b2e80b8' after step: generate_mismatch_features\n",
      "Create 210 as target distribution by categorical feature\n",
      "Step: generate_target_distribution_based_on_categorical_features_step, execution_time: 0.3404247760772705\n",
      "Dataset hash='bb57e1058501093400786d5ee8795b7986dda30475e91c5dcd8d1dab181e4575' after step: generate_target_distribution_based_on_categorical_features_step\n",
      "Step: drop_single_value_features, execution_time: 0.1382458209991455\n",
      "Dataset hash='13c59d33b5bf6195e69c14024d74dd0cd75a36a70431641a890d8bef76b84ec5' after step: drop_single_value_features\n",
      "Step: drop_variable_enum_features, execution_time: 0.13874101638793945\n",
      "Dataset hash='748ccd07e51321f530a1b22793496f3e21c93a77b07a8338e380e94c2fe864dc' after step: drop_variable_enum_features\n",
      "Step: reduce_memory_usage, execution_time: 1.1199724674224854\n",
      "Dataset hash='f30d1a621e0f59a6db7ba01d8faebb165096b5488af5fb5c6da372cf42ced7c4' after step: reduce_memory_usage\n"
     ]
    },
    {
     "data": {
      "text/plain": [
       "0"
      ]
     },
     "execution_count": 9,
     "metadata": {},
     "output_type": "execute_result"
    }
   ],
   "source": [
    "test_dataset = data_loader.load_test_dataset()\n",
    "print(\"Test dataset week range: {}-{}\".format(test_dataset.get_base()[\"WEEK_NUM\"].min(), test_dataset.get_base()[\"WEEK_NUM\"].max()))\n",
    "gc.collect()\n",
    "test_df, columns_info = preprocessor.process_test_dataset(test_dataset, columns_info)\n",
    "del test_dataset\n",
    "\n",
    "gc.collect()"
   ]
  },
  {
   "cell_type": "code",
   "execution_count": 10,
   "id": "ffc5f55e",
   "metadata": {
    "execution": {
     "iopub.execute_input": "2024-03-14T18:46:01.715566Z",
     "iopub.status.busy": "2024-03-14T18:46:01.715165Z",
     "iopub.status.idle": "2024-03-14T18:46:02.305899Z",
     "shell.execute_reply": "2024-03-14T18:46:02.304281Z"
    },
    "papermill": {
     "duration": 0.612487,
     "end_time": "2024-03-14T18:46:02.308399",
     "exception": false,
     "start_time": "2024-03-14T18:46:01.695912",
     "status": "completed"
    },
    "tags": []
   },
   "outputs": [
    {
     "name": "stdout",
     "output_type": "stream",
     "text": [
      "0.2993202209472656\n",
      "shape: (10, 1_702)\n",
      "┌─────────┬────────────┬────────┬──────────┬───┬────────────┬────────────┬────────────┬────────────┐\n",
      "│ case_id ┆ date_decis ┆ MONTH  ┆ WEEK_NUM ┆ … ┆ last_type_ ┆ last_type_ ┆ age_bucket ┆ age_bucket │\n",
      "│ ---     ┆ ion        ┆ ---    ┆ ---      ┆   ┆ 25L_target ┆ 25L_value_ ┆ _target_di ┆ _value_per │\n",
      "│ i32     ┆ ---        ┆ i32    ┆ i8       ┆   ┆ _distribut ┆ persent    ┆ stribution ┆ sent       │\n",
      "│         ┆ i16        ┆        ┆          ┆   ┆ io…        ┆ ---        ┆ ---        ┆ ---        │\n",
      "│         ┆            ┆        ┆          ┆   ┆ ---        ┆ f32        ┆ f32        ┆ f32        │\n",
      "│         ┆            ┆        ┆          ┆   ┆ f32        ┆            ┆            ┆            │\n",
      "╞═════════╪════════════╪════════╪══════════╪═══╪════════════╪════════════╪════════════╪════════════╡\n",
      "│ 57543   ┆ 18761      ┆ 202201 ┆ 100      ┆ … ┆ 0.033826   ┆ 0.424935   ┆ 0.030632   ┆ 0.216253   │\n",
      "│ 57549   ┆ 19009      ┆ 202201 ┆ 100      ┆ … ┆ 0.033826   ┆ 0.424935   ┆ 0.017717   ┆ 0.154987   │\n",
      "│ 57551   ┆ 18593      ┆ 202201 ┆ 100      ┆ … ┆ 0.03012    ┆ 0.507943   ┆ 0.0344     ┆ 0.255728   │\n",
      "│ 57552   ┆ 18593      ┆ 202201 ┆ 100      ┆ … ┆ 0.03012    ┆ 0.507943   ┆ 0.017717   ┆ 0.154987   │\n",
      "│ …       ┆ …          ┆ …      ┆ …        ┆ … ┆ …          ┆ …          ┆ …          ┆ …          │\n",
      "│ 57631   ┆ 19147      ┆ 202201 ┆ 100      ┆ … ┆ 0.03012    ┆ 0.507943   ┆ null       ┆ null       │\n",
      "│ 57632   ┆ 19028      ┆ 202201 ┆ 100      ┆ … ┆ 0.03012    ┆ 0.507943   ┆ null       ┆ null       │\n",
      "│ 57633   ┆ 19017      ┆ 202201 ┆ 100      ┆ … ┆ 0.03012    ┆ 0.507943   ┆ null       ┆ null       │\n",
      "│ 57634   ┆ 18654      ┆ 202201 ┆ 100      ┆ … ┆ 0.03012    ┆ 0.507943   ┆ null       ┆ null       │\n",
      "└─────────┴────────────┴────────┴──────────┴───┴────────────┴────────────┴────────────┴────────────┘\n"
     ]
    },
    {
     "data": {
      "text/plain": [
       "0"
      ]
     },
     "execution_count": 10,
     "metadata": {},
     "output_type": "execute_result"
    }
   ],
   "source": [
    "test_df.write_parquet(\"/kaggle/working/test_df.parquet\")\n",
    "print(test_df.estimated_size() / 1024 / 1024)\n",
    "print(test_df)\n",
    "\n",
    "del test_df\n",
    "gc.collect()"
   ]
  },
  {
   "cell_type": "markdown",
   "id": "bc980603",
   "metadata": {
    "_kg_hide-input": true,
    "papermill": {
     "duration": 0.018609,
     "end_time": "2024-03-14T18:46:02.345550",
     "exception": false,
     "start_time": "2024-03-14T18:46:02.326941",
     "status": "completed"
    },
    "tags": []
   },
   "source": [
    "# Data visualization"
   ]
  },
  {
   "cell_type": "code",
   "execution_count": null,
   "id": "64dea9a5",
   "metadata": {
    "papermill": {
     "duration": 0.018181,
     "end_time": "2024-03-14T18:46:02.382083",
     "exception": false,
     "start_time": "2024-03-14T18:46:02.363902",
     "status": "completed"
    },
    "tags": []
   },
   "outputs": [],
   "source": []
  },
  {
   "cell_type": "code",
   "execution_count": 11,
   "id": "639e09bd",
   "metadata": {
    "execution": {
     "iopub.execute_input": "2024-03-14T18:46:02.421198Z",
     "iopub.status.busy": "2024-03-14T18:46:02.420643Z",
     "iopub.status.idle": "2024-03-14T18:46:02.426815Z",
     "shell.execute_reply": "2024-03-14T18:46:02.425270Z"
    },
    "papermill": {
     "duration": 0.029213,
     "end_time": "2024-03-14T18:46:02.429264",
     "exception": false,
     "start_time": "2024-03-14T18:46:02.400051",
     "status": "completed"
    },
    "tags": []
   },
   "outputs": [],
   "source": [
    "# train_dataset = data_loader.load_train_dataset()"
   ]
  },
  {
   "cell_type": "code",
   "execution_count": 12,
   "id": "1de021b4",
   "metadata": {
    "execution": {
     "iopub.execute_input": "2024-03-14T18:46:02.467719Z",
     "iopub.status.busy": "2024-03-14T18:46:02.467318Z",
     "iopub.status.idle": "2024-03-14T18:46:02.471963Z",
     "shell.execute_reply": "2024-03-14T18:46:02.471082Z"
    },
    "papermill": {
     "duration": 0.026843,
     "end_time": "2024-03-14T18:46:02.474104",
     "exception": false,
     "start_time": "2024-03-14T18:46:02.447261",
     "status": "completed"
    },
    "tags": []
   },
   "outputs": [],
   "source": [
    "# [column for column in train_df.columns if \"amtdebitincoming_4809443A\" in column]"
   ]
  },
  {
   "cell_type": "code",
   "execution_count": 13,
   "id": "595cd8ca",
   "metadata": {
    "execution": {
     "iopub.execute_input": "2024-03-14T18:46:02.512409Z",
     "iopub.status.busy": "2024-03-14T18:46:02.511850Z",
     "iopub.status.idle": "2024-03-14T18:46:02.516382Z",
     "shell.execute_reply": "2024-03-14T18:46:02.515581Z"
    },
    "papermill": {
     "duration": 0.026208,
     "end_time": "2024-03-14T18:46:02.518213",
     "exception": false,
     "start_time": "2024-03-14T18:46:02.492005",
     "status": "completed"
    },
    "tags": []
   },
   "outputs": [],
   "source": [
    "# train_dataset.get_base()[\"target\"].mean()"
   ]
  },
  {
   "cell_type": "code",
   "execution_count": 14,
   "id": "7d7ee3c3",
   "metadata": {
    "execution": {
     "iopub.execute_input": "2024-03-14T18:46:02.556616Z",
     "iopub.status.busy": "2024-03-14T18:46:02.555313Z",
     "iopub.status.idle": "2024-03-14T18:46:02.560378Z",
     "shell.execute_reply": "2024-03-14T18:46:02.559554Z"
    },
    "papermill": {
     "duration": 0.026487,
     "end_time": "2024-03-14T18:46:02.562472",
     "exception": false,
     "start_time": "2024-03-14T18:46:02.535985",
     "status": "completed"
    },
    "tags": []
   },
   "outputs": [],
   "source": [
    "# tables = {name: table for name, table in train_dataset.get_depth_tables(1)}"
   ]
  },
  {
   "cell_type": "code",
   "execution_count": 15,
   "id": "a9c3b7e7",
   "metadata": {
    "execution": {
     "iopub.execute_input": "2024-03-14T18:46:02.602459Z",
     "iopub.status.busy": "2024-03-14T18:46:02.601135Z",
     "iopub.status.idle": "2024-03-14T18:46:02.606008Z",
     "shell.execute_reply": "2024-03-14T18:46:02.605228Z"
    },
    "papermill": {
     "duration": 0.027763,
     "end_time": "2024-03-14T18:46:02.608090",
     "exception": false,
     "start_time": "2024-03-14T18:46:02.580327",
     "status": "completed"
    },
    "tags": []
   },
   "outputs": [],
   "source": [
    "# applprev_1 = tables[\"applprev_1\"]"
   ]
  },
  {
   "cell_type": "code",
   "execution_count": 16,
   "id": "af77aad5",
   "metadata": {
    "execution": {
     "iopub.execute_input": "2024-03-14T18:46:02.646473Z",
     "iopub.status.busy": "2024-03-14T18:46:02.646086Z",
     "iopub.status.idle": "2024-03-14T18:46:02.651009Z",
     "shell.execute_reply": "2024-03-14T18:46:02.649868Z"
    },
    "papermill": {
     "duration": 0.027257,
     "end_time": "2024-03-14T18:46:02.653239",
     "exception": false,
     "start_time": "2024-03-14T18:46:02.625982",
     "status": "completed"
    },
    "tags": []
   },
   "outputs": [],
   "source": [
    "# joined = applprev_1[\"case_id\"].value_counts().join(train_dataset.get_base()[[\"case_id\", \"target\"]], on=\"case_id\").sort(\"count\")\n",
    "# joined.filter(pl.col(\"target\") == 1)"
   ]
  },
  {
   "cell_type": "code",
   "execution_count": 17,
   "id": "1c43ce1b",
   "metadata": {
    "execution": {
     "iopub.execute_input": "2024-03-14T18:46:02.692778Z",
     "iopub.status.busy": "2024-03-14T18:46:02.691480Z",
     "iopub.status.idle": "2024-03-14T18:46:02.696788Z",
     "shell.execute_reply": "2024-03-14T18:46:02.695869Z"
    },
    "papermill": {
     "duration": 0.027275,
     "end_time": "2024-03-14T18:46:02.699193",
     "exception": false,
     "start_time": "2024-03-14T18:46:02.671918",
     "status": "completed"
    },
    "tags": []
   },
   "outputs": [],
   "source": [
    "# base = train_dataset.get_base()"
   ]
  },
  {
   "cell_type": "code",
   "execution_count": 18,
   "id": "1bd75333",
   "metadata": {
    "execution": {
     "iopub.execute_input": "2024-03-14T18:46:02.737848Z",
     "iopub.status.busy": "2024-03-14T18:46:02.736519Z",
     "iopub.status.idle": "2024-03-14T18:46:02.742260Z",
     "shell.execute_reply": "2024-03-14T18:46:02.741105Z"
    },
    "papermill": {
     "duration": 0.027178,
     "end_time": "2024-03-14T18:46:02.744386",
     "exception": false,
     "start_time": "2024-03-14T18:46:02.717208",
     "status": "completed"
    },
    "tags": []
   },
   "outputs": [],
   "source": [
    "# base.filter(pl.col(\"case_id\") == 2702490)"
   ]
  },
  {
   "cell_type": "code",
   "execution_count": 19,
   "id": "cb64ebdb",
   "metadata": {
    "execution": {
     "iopub.execute_input": "2024-03-14T18:46:02.782779Z",
     "iopub.status.busy": "2024-03-14T18:46:02.782279Z",
     "iopub.status.idle": "2024-03-14T18:46:02.787094Z",
     "shell.execute_reply": "2024-03-14T18:46:02.785907Z"
    },
    "papermill": {
     "duration": 0.027218,
     "end_time": "2024-03-14T18:46:02.789708",
     "exception": false,
     "start_time": "2024-03-14T18:46:02.762490",
     "status": "completed"
    },
    "tags": []
   },
   "outputs": [],
   "source": [
    "# applprev_1.filter(applprev_1[\"case_id\"] == 2702490).sort(\"num_group1\")\n",
    "#base.filter(pl.col(\"case_id\") == 176526)"
   ]
  },
  {
   "cell_type": "code",
   "execution_count": 20,
   "id": "29d474d5",
   "metadata": {
    "execution": {
     "iopub.execute_input": "2024-03-14T18:46:02.831242Z",
     "iopub.status.busy": "2024-03-14T18:46:02.830777Z",
     "iopub.status.idle": "2024-03-14T18:46:02.835371Z",
     "shell.execute_reply": "2024-03-14T18:46:02.834279Z"
    },
    "papermill": {
     "duration": 0.028228,
     "end_time": "2024-03-14T18:46:02.837673",
     "exception": false,
     "start_time": "2024-03-14T18:46:02.809445",
     "status": "completed"
    },
    "tags": []
   },
   "outputs": [],
   "source": [
    "# applprev_1.filter(applprev_1[\"case_id\"] == 2702490).sort(\"num_group1\")[[\"credamount_590A\", \"mainoccupationinc_437A\", \"rejectreason_755M\", \"rejectreasonclient_4145042M\"]]\n"
   ]
  },
  {
   "cell_type": "code",
   "execution_count": 21,
   "id": "78d9ff9a",
   "metadata": {
    "execution": {
     "iopub.execute_input": "2024-03-14T18:46:02.884697Z",
     "iopub.status.busy": "2024-03-14T18:46:02.882911Z",
     "iopub.status.idle": "2024-03-14T18:46:02.888987Z",
     "shell.execute_reply": "2024-03-14T18:46:02.888168Z"
    },
    "papermill": {
     "duration": 0.03092,
     "end_time": "2024-03-14T18:46:02.891458",
     "exception": false,
     "start_time": "2024-03-14T18:46:02.860538",
     "status": "completed"
    },
    "tags": []
   },
   "outputs": [],
   "source": [
    "# applprev_1.filter(applprev_1[\"case_id\"] == 176526).sort(\"num_group1\")[[\"credamount_590A\", \"mainoccupationinc_437A\", \"rejectreason_755M\", \"rejectreasonclient_4145042M\"]]a"
   ]
  },
  {
   "cell_type": "code",
   "execution_count": 22,
   "id": "9467596b",
   "metadata": {
    "execution": {
     "iopub.execute_input": "2024-03-14T18:46:02.933414Z",
     "iopub.status.busy": "2024-03-14T18:46:02.932633Z",
     "iopub.status.idle": "2024-03-14T18:46:02.938557Z",
     "shell.execute_reply": "2024-03-14T18:46:02.937750Z"
    },
    "papermill": {
     "duration": 0.029855,
     "end_time": "2024-03-14T18:46:02.941226",
     "exception": false,
     "start_time": "2024-03-14T18:46:02.911371",
     "status": "completed"
    },
    "tags": []
   },
   "outputs": [],
   "source": [
    "# applprev_1.filter(applprev_1[\"case_id\"] == 176526).sort(\"num_group1\")"
   ]
  },
  {
   "cell_type": "code",
   "execution_count": 23,
   "id": "3bd789b2",
   "metadata": {
    "execution": {
     "iopub.execute_input": "2024-03-14T18:46:02.985336Z",
     "iopub.status.busy": "2024-03-14T18:46:02.984865Z",
     "iopub.status.idle": "2024-03-14T18:46:02.989808Z",
     "shell.execute_reply": "2024-03-14T18:46:02.988641Z"
    },
    "papermill": {
     "duration": 0.030537,
     "end_time": "2024-03-14T18:46:02.992003",
     "exception": false,
     "start_time": "2024-03-14T18:46:02.961466",
     "status": "completed"
    },
    "tags": []
   },
   "outputs": [],
   "source": [
    "# FreatureDescriptionGetter().get(\"rejectreasonclient_4145042M\")"
   ]
  },
  {
   "cell_type": "code",
   "execution_count": 24,
   "id": "bcb23d13",
   "metadata": {
    "execution": {
     "iopub.execute_input": "2024-03-14T18:46:03.033102Z",
     "iopub.status.busy": "2024-03-14T18:46:03.032394Z",
     "iopub.status.idle": "2024-03-14T18:46:03.037501Z",
     "shell.execute_reply": "2024-03-14T18:46:03.036710Z"
    },
    "papermill": {
     "duration": 0.028436,
     "end_time": "2024-03-14T18:46:03.039605",
     "exception": false,
     "start_time": "2024-03-14T18:46:03.011169",
     "status": "completed"
    },
    "tags": []
   },
   "outputs": [],
   "source": [
    "# def bucket_mean_split(x, y, buckets=100):\n",
    "#     x_buckets = []\n",
    "#     y_buckets = []\n",
    "\n",
    "#     x = np.array(x)\n",
    "#     y = np.array(y)\n",
    "#     x_quantiles = [np.quantile(x, i / buckets) for i in range(0, buckets + 1)]\n",
    "#     for i in range(0, buckets):\n",
    "#         filter = (x >= x_quantiles[i]) & (x <= x_quantiles[i + 1])\n",
    "#         x_buckets.append(np.mean(x[filter]))\n",
    "#         y_buckets.append(np.mean(y[filter]))\n",
    "#     return x_buckets, y_buckets"
   ]
  },
  {
   "cell_type": "code",
   "execution_count": 25,
   "id": "dc8b98a6",
   "metadata": {
    "execution": {
     "iopub.execute_input": "2024-03-14T18:46:03.084233Z",
     "iopub.status.busy": "2024-03-14T18:46:03.083417Z",
     "iopub.status.idle": "2024-03-14T18:46:03.087733Z",
     "shell.execute_reply": "2024-03-14T18:46:03.086964Z"
    },
    "papermill": {
     "duration": 0.031246,
     "end_time": "2024-03-14T18:46:03.089883",
     "exception": false,
     "start_time": "2024-03-14T18:46:03.058637",
     "status": "completed"
    },
    "tags": []
   },
   "outputs": [],
   "source": [
    "# train[\"target\"].mean()"
   ]
  },
  {
   "cell_type": "code",
   "execution_count": 26,
   "id": "49c5e1a4",
   "metadata": {
    "execution": {
     "iopub.execute_input": "2024-03-14T18:46:03.129735Z",
     "iopub.status.busy": "2024-03-14T18:46:03.128669Z",
     "iopub.status.idle": "2024-03-14T18:46:03.134810Z",
     "shell.execute_reply": "2024-03-14T18:46:03.133373Z"
    },
    "papermill": {
     "duration": 0.029252,
     "end_time": "2024-03-14T18:46:03.137478",
     "exception": false,
     "start_time": "2024-03-14T18:46:03.108226",
     "status": "completed"
    },
    "tags": []
   },
   "outputs": [],
   "source": [
    "# print(\"Mean target={} where actualdpdtolerance_344P != 0\".format(train[\"target\"].filter(train[\"actualdpdtolerance_344P\"] != 0).mean()))\n",
    "# print(\"Mean target={} where actualdpdtolerance_344P == 0\".format(train[\"target\"].filter(train[\"actualdpdtolerance_344P\"] == 0).mean()))\n",
    "# print(\"Mean target={} where actualdpdtolerance_344P is null\".format(train[\"target\"].filter(train[\"actualdpdtolerance_344P\"].is_null()).mean()))"
   ]
  },
  {
   "cell_type": "code",
   "execution_count": 27,
   "id": "26173a6b",
   "metadata": {
    "execution": {
     "iopub.execute_input": "2024-03-14T18:46:03.176118Z",
     "iopub.status.busy": "2024-03-14T18:46:03.175620Z",
     "iopub.status.idle": "2024-03-14T18:46:03.181152Z",
     "shell.execute_reply": "2024-03-14T18:46:03.179950Z"
    },
    "papermill": {
     "duration": 0.027425,
     "end_time": "2024-03-14T18:46:03.183280",
     "exception": false,
     "start_time": "2024-03-14T18:46:03.155855",
     "status": "completed"
    },
    "tags": []
   },
   "outputs": [],
   "source": [
    "# columns = [column for column in train.columns if (train[column].dtype == pl.Float64)]\n",
    "\n",
    "# figure, axis = plt.subplots(len(columns) // 5 + 1, 5, figsize=(15, 30))\n",
    "# for index, column in enumerate(columns):\n",
    "#     current_plot = axis[index // 5, index % 5]\n",
    "#     x = train[column]\n",
    "#     y = train[\"target\"]\n",
    "#     if (x.dtype == pl.String or x.dtype == pl.Boolean):\n",
    "#         continue\n",
    "#     filter = x.is_not_null()\n",
    "#     x = x.filter(filter)\n",
    "#     y = y.filter(filter)\n",
    "#     if (x.is_empty()):\n",
    "#         continue\n",
    "#     x_bucket, y_bucket = bucket_mean_split(x.to_numpy(), y.to_numpy(), buckets=100)\n",
    "#     current_plot.plot(x_bucket, y_bucket)\n",
    "#     current_plot.set_title(column)\n",
    "# plt.show()"
   ]
  },
  {
   "cell_type": "code",
   "execution_count": 28,
   "id": "ff51c45d",
   "metadata": {
    "execution": {
     "iopub.execute_input": "2024-03-14T18:46:03.221366Z",
     "iopub.status.busy": "2024-03-14T18:46:03.220898Z",
     "iopub.status.idle": "2024-03-14T18:46:03.226196Z",
     "shell.execute_reply": "2024-03-14T18:46:03.224988Z"
    },
    "papermill": {
     "duration": 0.027181,
     "end_time": "2024-03-14T18:46:03.228366",
     "exception": false,
     "start_time": "2024-03-14T18:46:03.201185",
     "status": "completed"
    },
    "tags": []
   },
   "outputs": [],
   "source": [
    "# features = train_df.columns\n",
    "# features.remove(\"WEEK_NUM\")\n",
    "# features.remove(\"case_id\")\n",
    "# features.remove(\"target\")"
   ]
  },
  {
   "cell_type": "code",
   "execution_count": 29,
   "id": "844b851f",
   "metadata": {
    "execution": {
     "iopub.execute_input": "2024-03-14T18:46:03.266678Z",
     "iopub.status.busy": "2024-03-14T18:46:03.266008Z",
     "iopub.status.idle": "2024-03-14T18:46:03.270575Z",
     "shell.execute_reply": "2024-03-14T18:46:03.269805Z"
    },
    "papermill": {
     "duration": 0.026286,
     "end_time": "2024-03-14T18:46:03.272599",
     "exception": false,
     "start_time": "2024-03-14T18:46:03.246313",
     "status": "completed"
    },
    "tags": []
   },
   "outputs": [],
   "source": [
    "# gc.collect()"
   ]
  },
  {
   "cell_type": "markdown",
   "id": "076cfcbe",
   "metadata": {
    "papermill": {
     "duration": 0.017804,
     "end_time": "2024-03-14T18:46:03.308265",
     "exception": false,
     "start_time": "2024-03-14T18:46:03.290461",
     "status": "completed"
    },
    "tags": []
   },
   "source": [
    "### Feature Importance"
   ]
  },
  {
   "cell_type": "code",
   "execution_count": 30,
   "id": "822478fd",
   "metadata": {
    "execution": {
     "iopub.execute_input": "2024-03-14T18:46:03.348029Z",
     "iopub.status.busy": "2024-03-14T18:46:03.347358Z",
     "iopub.status.idle": "2024-03-14T18:46:03.352622Z",
     "shell.execute_reply": "2024-03-14T18:46:03.351792Z"
    },
    "papermill": {
     "duration": 0.027559,
     "end_time": "2024-03-14T18:46:03.354791",
     "exception": false,
     "start_time": "2024-03-14T18:46:03.327232",
     "status": "completed"
    },
    "tags": []
   },
   "outputs": [],
   "source": [
    "# def train_rf(X, Y):    \n",
    "#     params = {\n",
    "#         \"boosting_type\": \"gbdt\",\n",
    "#         \"objective\": \"binary\",\n",
    "#         \"metric\": \"auc\",\n",
    "#         \"max_depth\": 8,\n",
    "#         \"max_bin\": 255,\n",
    "#         \"learning_rate\": 0.05,\n",
    "#         \"n_estimators\": 200,\n",
    "#         \"colsample_bytree\": 0.8, \n",
    "#         \"colsample_bynode\": 0.8,\n",
    "#         \"verbose\": -1,\n",
    "#         \"random_state\": 42,\n",
    "#         \"device\": \"gpu\",\n",
    "#     }\n",
    "    \n",
    "#     model = lgb.LGBMClassifier(**params)\n",
    "    \n",
    "#     model.fit(X.to_pandas(), Y.to_pandas())\n",
    "    \n",
    "#     # Get feature importances\n",
    "#     return pl.DataFrame({\n",
    "#         \"feature\": list(X.columns),\n",
    "#         \"feature_importance\": model.feature_importances_,\n",
    "#         \"train_score\": roc_auc_score(Y.to_pandas(), model.predict(X.to_pandas()))\n",
    "#     })"
   ]
  },
  {
   "cell_type": "code",
   "execution_count": 31,
   "id": "1d662801",
   "metadata": {
    "execution": {
     "iopub.execute_input": "2024-03-14T18:46:03.394468Z",
     "iopub.status.busy": "2024-03-14T18:46:03.393824Z",
     "iopub.status.idle": "2024-03-14T18:46:03.399273Z",
     "shell.execute_reply": "2024-03-14T18:46:03.398004Z"
    },
    "papermill": {
     "duration": 0.028414,
     "end_time": "2024-03-14T18:46:03.401883",
     "exception": false,
     "start_time": "2024-03-14T18:46:03.373469",
     "status": "completed"
    },
    "tags": []
   },
   "outputs": [],
   "source": [
    "# def get_feature_importance(X, Y):\n",
    "#     COUNT_ITER = 50\n",
    "    \n",
    "#     dfs = []\n",
    "#     for i in range(COUNT_ITER):\n",
    "#         gc.collect()\n",
    "        \n",
    "#         start_time = time.time()\n",
    "#         shuffled_Y = Y.clone().sample(fraction=1.0, shuffle=True)\n",
    "#         current_df = train_rf(X, shuffled_Y)\n",
    "#         finish_time = time.time()\n",
    "#         print(f\"Finish iteration: {i + 1}/{COUNT_ITER}, time: {finish_time - start_time}\")\n",
    "#         current_df = current_df.with_columns(pl.lit(i).alias(\"iteration\"))\n",
    "#         dfs.append(current_df)\n",
    "        \n",
    "#     return pl.concat(dfs, rechunk=True), train_rf(X, Y)"
   ]
  },
  {
   "cell_type": "code",
   "execution_count": 32,
   "id": "148f4229",
   "metadata": {
    "execution": {
     "iopub.execute_input": "2024-03-14T18:46:03.441122Z",
     "iopub.status.busy": "2024-03-14T18:46:03.440702Z",
     "iopub.status.idle": "2024-03-14T18:46:03.445410Z",
     "shell.execute_reply": "2024-03-14T18:46:03.444145Z"
    },
    "papermill": {
     "duration": 0.027752,
     "end_time": "2024-03-14T18:46:03.447836",
     "exception": false,
     "start_time": "2024-03-14T18:46:03.420084",
     "status": "completed"
    },
    "tags": []
   },
   "outputs": [],
   "source": [
    "# shuffled_feature_importance_df, feature_importance_df = get_feature_importance(train_df[features], train_df[\"target\"])\n",
    "# shuffled_feature_importance_df.write_csv(\"shuffled_feature_importance_df.csv\", separator=\",\")\n",
    "# feature_importance_df.write_csv(\"feature_importance_df.csv\", separator=\",\")"
   ]
  },
  {
   "cell_type": "code",
   "execution_count": 33,
   "id": "cbcf143b",
   "metadata": {
    "execution": {
     "iopub.execute_input": "2024-03-14T18:46:03.487986Z",
     "iopub.status.busy": "2024-03-14T18:46:03.487620Z",
     "iopub.status.idle": "2024-03-14T18:46:03.492510Z",
     "shell.execute_reply": "2024-03-14T18:46:03.491262Z"
    },
    "papermill": {
     "duration": 0.027773,
     "end_time": "2024-03-14T18:46:03.494624",
     "exception": false,
     "start_time": "2024-03-14T18:46:03.466851",
     "status": "completed"
    },
    "tags": []
   },
   "outputs": [],
   "source": [
    "# important_features = []\n",
    "# for column in feature_importance_df[\"feature\"]:\n",
    "#     shuffled_feature_importance = shuffled_feature_importance_df.filter(shuffled_feature_importance_df[\"feature\"] == column)[\"feature_importance\"].to_numpy()\n",
    "#     feature_importance = feature_importance_df.filter(feature_importance_df[\"feature\"] == column)[\"feature_importance\"][0]\n",
    "    \n",
    "#     if (np.percentile(shuffled_feature_importance, 90) <= feature_importance):\n",
    "#         important_features.append(column)\n",
    "# print(len(important_features), important_features)"
   ]
  },
  {
   "cell_type": "markdown",
   "id": "504401ff",
   "metadata": {
    "papermill": {
     "duration": 0.017761,
     "end_time": "2024-03-14T18:46:03.530336",
     "exception": false,
     "start_time": "2024-03-14T18:46:03.512575",
     "status": "completed"
    },
    "tags": []
   },
   "source": [
    "# Training"
   ]
  },
  {
   "cell_type": "code",
   "execution_count": 34,
   "id": "ba49c9c6",
   "metadata": {
    "execution": {
     "iopub.execute_input": "2024-03-14T18:46:03.568577Z",
     "iopub.status.busy": "2024-03-14T18:46:03.567819Z",
     "iopub.status.idle": "2024-03-14T18:46:03.573338Z",
     "shell.execute_reply": "2024-03-14T18:46:03.572337Z"
    },
    "papermill": {
     "duration": 0.02729,
     "end_time": "2024-03-14T18:46:03.575662",
     "exception": false,
     "start_time": "2024-03-14T18:46:03.548372",
     "status": "completed"
    },
    "tags": []
   },
   "outputs": [],
   "source": [
    "# class VotingModel(BaseEstimator, RegressorMixin):\n",
    "#     def __init__(self, estimators):\n",
    "#         super().__init__()\n",
    "#         self.estimators = estimators\n",
    "        \n",
    "#     def fit(self, X, y=None):\n",
    "#         return self\n",
    "    \n",
    "#     def predict(self, X):\n",
    "#         y_preds = [estimator.predict(X) for estimator in self.estimators]\n",
    "#         return np.mean(y_preds, axis=0)\n",
    "    \n",
    "#     def predict_proba(self, X):\n",
    "#         y_preds = [estimator.predict_proba(X) for estimator in self.estimators]\n",
    "#         return np.mean(y_preds, axis=0)\n",
    "    \n",
    "#     def get_feature_importance(self):\n",
    "#         feature_importances = np.array([0 for feature in features])\n",
    "\n",
    "#         for model in self.estimators:\n",
    "#             feature_importances += model.feature_importances_\n",
    "\n",
    "#         return feature_importances"
   ]
  },
  {
   "cell_type": "code",
   "execution_count": 35,
   "id": "2bf1feb3",
   "metadata": {
    "execution": {
     "iopub.execute_input": "2024-03-14T18:46:03.616428Z",
     "iopub.status.busy": "2024-03-14T18:46:03.616044Z",
     "iopub.status.idle": "2024-03-14T18:46:03.621338Z",
     "shell.execute_reply": "2024-03-14T18:46:03.620028Z"
    },
    "papermill": {
     "duration": 0.030519,
     "end_time": "2024-03-14T18:46:03.624095",
     "exception": false,
     "start_time": "2024-03-14T18:46:03.593576",
     "status": "completed"
    },
    "tags": []
   },
   "outputs": [],
   "source": [
    "# for column in features:\n",
    "#     if (train_dataset[column].dtype != pl.Categorical) and \\\n",
    "#         (train_dataset[column].dtype != pl.Float64) and \\\n",
    "#         (train_dataset[column].dtype != pl.Float64):\n",
    "#         print(column, train_dataset[column].dtype)"
   ]
  },
  {
   "cell_type": "code",
   "execution_count": 36,
   "id": "81825770",
   "metadata": {
    "execution": {
     "iopub.execute_input": "2024-03-14T18:46:03.662980Z",
     "iopub.status.busy": "2024-03-14T18:46:03.662396Z",
     "iopub.status.idle": "2024-03-14T18:46:03.668167Z",
     "shell.execute_reply": "2024-03-14T18:46:03.667302Z"
    },
    "papermill": {
     "duration": 0.028126,
     "end_time": "2024-03-14T18:46:03.670519",
     "exception": false,
     "start_time": "2024-03-14T18:46:03.642393",
     "status": "completed"
    },
    "tags": []
   },
   "outputs": [],
   "source": [
    "# def train_lgb_model(X_train, Y_train, X_test, Y_test):\n",
    "#     params = {\n",
    "#         \"boosting_type\": \"gbdt\",\n",
    "#         \"objective\": \"binary\",\n",
    "#         \"metric\": \"auc\",\n",
    "#         \"max_depth\": 8,\n",
    "#         \"max_bin\": 250,\n",
    "#         \"learning_rate\": 0.05,\n",
    "#         \"n_estimators\": 1000,\n",
    "#         \"colsample_bytree\": 0.8, \n",
    "#         \"colsample_bynode\": 0.8,\n",
    "#         \"verbose\": -1,\n",
    "#         \"random_state\": 42,\n",
    "#         \"device\": \"gpu\",\n",
    "#     }\n",
    "    \n",
    "#     model = lgb.LGBMClassifier(**params)\n",
    "    \n",
    "#     model.fit(\n",
    "#         X_train, Y_train,\n",
    "#         eval_set=[(X_test, Y_test)],\n",
    "#         callbacks=[lgb.log_evaluation(100), lgb.early_stopping(100)]\n",
    "#     )\n",
    "        \n",
    "#     return model"
   ]
  },
  {
   "cell_type": "code",
   "execution_count": 37,
   "id": "0f0edb14",
   "metadata": {
    "execution": {
     "iopub.execute_input": "2024-03-14T18:46:03.710909Z",
     "iopub.status.busy": "2024-03-14T18:46:03.710085Z",
     "iopub.status.idle": "2024-03-14T18:46:03.714592Z",
     "shell.execute_reply": "2024-03-14T18:46:03.713393Z"
    },
    "papermill": {
     "duration": 0.026409,
     "end_time": "2024-03-14T18:46:03.716563",
     "exception": false,
     "start_time": "2024-03-14T18:46:03.690154",
     "status": "completed"
    },
    "tags": []
   },
   "outputs": [],
   "source": [
    "# gc.collect()"
   ]
  },
  {
   "cell_type": "code",
   "execution_count": 38,
   "id": "ccfb71a8",
   "metadata": {
    "execution": {
     "iopub.execute_input": "2024-03-14T18:46:03.755377Z",
     "iopub.status.busy": "2024-03-14T18:46:03.754503Z",
     "iopub.status.idle": "2024-03-14T18:46:03.760405Z",
     "shell.execute_reply": "2024-03-14T18:46:03.759611Z"
    },
    "papermill": {
     "duration": 0.027788,
     "end_time": "2024-03-14T18:46:03.762312",
     "exception": false,
     "start_time": "2024-03-14T18:46:03.734524",
     "status": "completed"
    },
    "tags": []
   },
   "outputs": [],
   "source": [
    "# weeks = train_df[\"WEEK_NUM\"]\n",
    "# cv = StratifiedGroupKFold(n_splits=5, shuffle=False)\n",
    "\n",
    "# fitted_models = []\n",
    "\n",
    "# oof_predicted = np.zeros(train_df.shape[0])\n",
    "\n",
    "# for idx_train, idx_test in cv.split(train_df[features], train_df[\"target\"], groups=weeks):        \n",
    "# #     X_train = train_df[features][idx_train].to_pandas()\n",
    "# #     Y_train = train_df[\"target\"][idx_train].to_pandas()\n",
    "    \n",
    "#     X_test = train_df[features][idx_test].to_pandas()\n",
    "#     Y_test = train_df[\"target\"][idx_test].to_pandas()\n",
    "    \n",
    "#     start = time.time()\n",
    "#     params = {\n",
    "#         \"boosting_type\": \"gbdt\",\n",
    "#         \"objective\": \"binary\",\n",
    "#         \"metric\": \"auc\",\n",
    "#         \"max_depth\": 8,\n",
    "#         \"max_bin\": 250,\n",
    "#         \"learning_rate\": 0.05,\n",
    "#         \"n_estimators\": 1000,\n",
    "#         \"colsample_bytree\": 0.8, \n",
    "#         \"colsample_bynode\": 0.8,\n",
    "#         \"verbose\": -1,\n",
    "#         \"random_state\": 42,\n",
    "#         \"device\": \"gpu\",\n",
    "#     }\n",
    "    \n",
    "#     model = lgb.LGBMClassifier(**params)\n",
    "    \n",
    "#     model.fit(\n",
    "#         train_df[features][idx_train].to_pandas(), train_df[\"target\"][idx_train].to_pandas(),\n",
    "#         eval_set=[(X_test, Y_test)],\n",
    "#         callbacks=[lgb.log_evaluation(100), lgb.early_stopping(100)]\n",
    "#     )\n",
    "        \n",
    "\n",
    "# #    model = train_lgb_model(X_train, Y_train, X_test, Y_test)\n",
    "#     finish = time.time()\n",
    "    \n",
    "#     print(\"fit time: {}\".format(finish - start))\n",
    "#     fitted_models.append(model)\n",
    "    \n",
    "#     test_pred = model.predict_proba(X_test)[:, 1]\n",
    "#     oof_predicted[idx_test] = test_pred\n",
    "#     gc.collect()\n",
    "\n",
    "# model = VotingModel(fitted_models)\n",
    "# gc.collect()"
   ]
  },
  {
   "cell_type": "code",
   "execution_count": 39,
   "id": "b3e7ff75",
   "metadata": {
    "execution": {
     "iopub.execute_input": "2024-03-14T18:46:03.801753Z",
     "iopub.status.busy": "2024-03-14T18:46:03.800965Z",
     "iopub.status.idle": "2024-03-14T18:46:03.805032Z",
     "shell.execute_reply": "2024-03-14T18:46:03.804246Z"
    },
    "papermill": {
     "duration": 0.026689,
     "end_time": "2024-03-14T18:46:03.806970",
     "exception": false,
     "start_time": "2024-03-14T18:46:03.780281",
     "status": "completed"
    },
    "tags": []
   },
   "outputs": [],
   "source": [
    "# roc_auc_oof = roc_auc_score(train_df[\"target\"], oof_predicted)\n",
    "# print(\"CV roc_auc_oof: \", roc_auc_oof)"
   ]
  },
  {
   "cell_type": "markdown",
   "id": "eb336c7b",
   "metadata": {
    "papermill": {
     "duration": 0.018142,
     "end_time": "2024-03-14T18:46:03.843633",
     "exception": false,
     "start_time": "2024-03-14T18:46:03.825491",
     "status": "completed"
    },
    "tags": []
   },
   "source": [
    "# Predict"
   ]
  },
  {
   "cell_type": "code",
   "execution_count": 40,
   "id": "7d0eca2c",
   "metadata": {
    "execution": {
     "iopub.execute_input": "2024-03-14T18:46:03.882325Z",
     "iopub.status.busy": "2024-03-14T18:46:03.881545Z",
     "iopub.status.idle": "2024-03-14T18:46:03.885584Z",
     "shell.execute_reply": "2024-03-14T18:46:03.884739Z"
    },
    "papermill": {
     "duration": 0.025945,
     "end_time": "2024-03-14T18:46:03.887569",
     "exception": false,
     "start_time": "2024-03-14T18:46:03.861624",
     "status": "completed"
    },
    "tags": []
   },
   "outputs": [],
   "source": [
    "# del train_df\n",
    "# gc.collect()"
   ]
  },
  {
   "cell_type": "code",
   "execution_count": 41,
   "id": "cb440a63",
   "metadata": {
    "execution": {
     "iopub.execute_input": "2024-03-14T18:46:03.927240Z",
     "iopub.status.busy": "2024-03-14T18:46:03.926386Z",
     "iopub.status.idle": "2024-03-14T18:46:03.931716Z",
     "shell.execute_reply": "2024-03-14T18:46:03.930468Z"
    },
    "papermill": {
     "duration": 0.028331,
     "end_time": "2024-03-14T18:46:03.933944",
     "exception": false,
     "start_time": "2024-03-14T18:46:03.905613",
     "status": "completed"
    },
    "tags": []
   },
   "outputs": [],
   "source": [
    "# test_dataset = data_loader.load_test_dataset()\n",
    "# print(\"Test dataset week range: {}-{}\".format(test_dataset.base[\"WEEK_NUM\"].min(), test_dataset.base[\"WEEK_NUM\"].max()))\n",
    "# gc.collect()\n",
    "# test_df = preprocessor.process_test_dataset(test_dataset)\n",
    "# del test_dataset\n",
    "# gc.collect()"
   ]
  },
  {
   "cell_type": "code",
   "execution_count": 42,
   "id": "ca192800",
   "metadata": {
    "execution": {
     "iopub.execute_input": "2024-03-14T18:46:03.971903Z",
     "iopub.status.busy": "2024-03-14T18:46:03.971433Z",
     "iopub.status.idle": "2024-03-14T18:46:03.976692Z",
     "shell.execute_reply": "2024-03-14T18:46:03.975605Z"
    },
    "papermill": {
     "duration": 0.026888,
     "end_time": "2024-03-14T18:46:03.978845",
     "exception": false,
     "start_time": "2024-03-14T18:46:03.951957",
     "status": "completed"
    },
    "tags": []
   },
   "outputs": [],
   "source": [
    "# print([name for value, name in reversed(sorted(zip(model.get_feature_importance(), features)))][0:200])"
   ]
  },
  {
   "cell_type": "code",
   "execution_count": null,
   "id": "b8162578",
   "metadata": {
    "papermill": {
     "duration": 0.01768,
     "end_time": "2024-03-14T18:46:04.014750",
     "exception": false,
     "start_time": "2024-03-14T18:46:03.997070",
     "status": "completed"
    },
    "tags": []
   },
   "outputs": [],
   "source": []
  },
  {
   "cell_type": "code",
   "execution_count": 43,
   "id": "54fa38e4",
   "metadata": {
    "execution": {
     "iopub.execute_input": "2024-03-14T18:46:04.052498Z",
     "iopub.status.busy": "2024-03-14T18:46:04.052087Z",
     "iopub.status.idle": "2024-03-14T18:46:04.056445Z",
     "shell.execute_reply": "2024-03-14T18:46:04.055364Z"
    },
    "papermill": {
     "duration": 0.025912,
     "end_time": "2024-03-14T18:46:04.058527",
     "exception": false,
     "start_time": "2024-03-14T18:46:04.032615",
     "status": "completed"
    },
    "tags": []
   },
   "outputs": [],
   "source": [
    "# CV roc_auc_oof:  0.8353789451006361 without feature selection ~500 features\n",
    "# CV roc_auc_oof:  0.8329322959533371 with feature selection ~200 features"
   ]
  },
  {
   "cell_type": "code",
   "execution_count": null,
   "id": "683e1253",
   "metadata": {
    "papermill": {
     "duration": 0.017732,
     "end_time": "2024-03-14T18:46:04.094475",
     "exception": false,
     "start_time": "2024-03-14T18:46:04.076743",
     "status": "completed"
    },
    "tags": []
   },
   "outputs": [],
   "source": []
  },
  {
   "cell_type": "code",
   "execution_count": 44,
   "id": "09f102bf",
   "metadata": {
    "execution": {
     "iopub.execute_input": "2024-03-14T18:46:04.133282Z",
     "iopub.status.busy": "2024-03-14T18:46:04.132859Z",
     "iopub.status.idle": "2024-03-14T18:46:04.137573Z",
     "shell.execute_reply": "2024-03-14T18:46:04.136764Z"
    },
    "papermill": {
     "duration": 0.027324,
     "end_time": "2024-03-14T18:46:04.139740",
     "exception": false,
     "start_time": "2024-03-14T18:46:04.112416",
     "status": "completed"
    },
    "tags": []
   },
   "outputs": [],
   "source": [
    "# def gini_stability(dataset, w_fallingrate=88.0, w_resstd=-0.5):\n",
    "#     gini_in_time = dataset\\\n",
    "#         .sort_values(\"WEEK_NUM\")\\\n",
    "#         .groupby(\"WEEK_NUM\")[[\"true\", \"predicted\"]]\\\n",
    "#         .apply(lambda x: 2 * roc_auc_score(x[\"true\"], x[\"predicted\"]) - 1).tolist()\n",
    "    \n",
    "#     x = np.arange(len(gini_in_time))\n",
    "#     y = gini_in_time\n",
    "#     a, b = np.polyfit(x, y, 1)\n",
    "#     y_hat = a * x + b\n",
    "#     residuals = y - y_hat\n",
    "#     res_std = np.std(residuals)\n",
    "#     avg_gini = np.mean(gini_in_time)\n",
    "    \n",
    "#     print(avg_gini, min(0, a), res_std)\n",
    "    \n",
    "#     return avg_gini + w_fallingrate * min(0, a) + w_resstd * res_std"
   ]
  },
  {
   "cell_type": "code",
   "execution_count": 45,
   "id": "916a7340",
   "metadata": {
    "execution": {
     "iopub.execute_input": "2024-03-14T18:46:04.178622Z",
     "iopub.status.busy": "2024-03-14T18:46:04.177938Z",
     "iopub.status.idle": "2024-03-14T18:46:04.181564Z",
     "shell.execute_reply": "2024-03-14T18:46:04.180856Z"
    },
    "papermill": {
     "duration": 0.025201,
     "end_time": "2024-03-14T18:46:04.183589",
     "exception": false,
     "start_time": "2024-03-14T18:46:04.158388",
     "status": "completed"
    },
    "tags": []
   },
   "outputs": [],
   "source": [
    "# # Y_train_predicted = model.predict_proba(train_df[features].to_pandas())\n",
    "# Y_test_predicted = model.predict_proba(test_df[features].to_pandas())"
   ]
  },
  {
   "cell_type": "code",
   "execution_count": 46,
   "id": "f4835a88",
   "metadata": {
    "execution": {
     "iopub.execute_input": "2024-03-14T18:46:04.221282Z",
     "iopub.status.busy": "2024-03-14T18:46:04.220880Z",
     "iopub.status.idle": "2024-03-14T18:46:04.225628Z",
     "shell.execute_reply": "2024-03-14T18:46:04.224550Z"
    },
    "papermill": {
     "duration": 0.026025,
     "end_time": "2024-03-14T18:46:04.227678",
     "exception": false,
     "start_time": "2024-03-14T18:46:04.201653",
     "status": "completed"
    },
    "tags": []
   },
   "outputs": [],
   "source": [
    "# result = pd.DataFrame({\n",
    "#     \"WEEK_NUM\": train_df[\"WEEK_NUM\"],\n",
    "#     \"true\": train_df[\"target\"],\n",
    "#     \"predicted\": Y_train_predicted[:, 1],\n",
    "# })\n",
    "\n",
    "# train_result = gini_stability(result)\n",
    "# print(\"train_score: {}\".format(train_result))\n",
    "\n",
    "# if MODE == Mode.Train:\n",
    "#     result = pd.DataFrame({\n",
    "#         \"WEEK_NUM\": test_df[\"WEEK_NUM\"],\n",
    "#         \"true\": test_df[\"target\"],\n",
    "#         \"predicted\": Y_test_predicted[:, 1],\n",
    "#     })\n",
    "\n",
    "#     test_result = gini_stability(result)\n",
    "#     print(\"test_score: {}\".format(test_result))"
   ]
  },
  {
   "cell_type": "code",
   "execution_count": 47,
   "id": "e586ae44",
   "metadata": {
    "execution": {
     "iopub.execute_input": "2024-03-14T18:46:04.266453Z",
     "iopub.status.busy": "2024-03-14T18:46:04.265433Z",
     "iopub.status.idle": "2024-03-14T18:46:04.270112Z",
     "shell.execute_reply": "2024-03-14T18:46:04.269098Z"
    },
    "papermill": {
     "duration": 0.026615,
     "end_time": "2024-03-14T18:46:04.272319",
     "exception": false,
     "start_time": "2024-03-14T18:46:04.245704",
     "status": "completed"
    },
    "tags": []
   },
   "outputs": [],
   "source": [
    "# Version 1, test_score: 0.583319926590042, public score 0.48\n",
    "# 100 iters\n",
    "\n",
    "# Version 2, test_score: 0.6062624701357268, public score 0.517\n",
    "# 300 iters\n",
    "\n",
    "# Version 3, test_score: ?, public score 0.545\n",
    "# 2000 iters\n",
    "\n",
    "# Version 4, test_score: ?, public score ?\n",
    "# ? iters, Improve aggregate functions for depth_1, depth_2\n"
   ]
  },
  {
   "cell_type": "markdown",
   "id": "42e57a65",
   "metadata": {
    "papermill": {
     "duration": 0.017744,
     "end_time": "2024-03-14T18:46:04.308006",
     "exception": false,
     "start_time": "2024-03-14T18:46:04.290262",
     "status": "completed"
    },
    "tags": []
   },
   "source": [
    "# Submition"
   ]
  },
  {
   "cell_type": "code",
   "execution_count": 48,
   "id": "b53ad21d",
   "metadata": {
    "execution": {
     "iopub.execute_input": "2024-03-14T18:46:04.345944Z",
     "iopub.status.busy": "2024-03-14T18:46:04.345340Z",
     "iopub.status.idle": "2024-03-14T18:46:04.349855Z",
     "shell.execute_reply": "2024-03-14T18:46:04.349074Z"
    },
    "papermill": {
     "duration": 0.026026,
     "end_time": "2024-03-14T18:46:04.351958",
     "exception": false,
     "start_time": "2024-03-14T18:46:04.325932",
     "status": "completed"
    },
    "tags": []
   },
   "outputs": [],
   "source": [
    "# case_id = test_df[\"case_id\"]\n",
    "# X = test_df[features].to_pandas()\n",
    "\n",
    "# Y = model.predict_proba(X)\n",
    "\n",
    "# submission = pd.DataFrame({\n",
    "#     \"case_id\": case_id.to_numpy(),\n",
    "#     \"score\": Y[:, 1]\n",
    "# }).set_index('case_id')\n",
    "# submission.to_csv(\"./submission.csv\")"
   ]
  },
  {
   "cell_type": "code",
   "execution_count": null,
   "id": "709c2634",
   "metadata": {
    "papermill": {
     "duration": 0.017628,
     "end_time": "2024-03-14T18:46:04.388151",
     "exception": false,
     "start_time": "2024-03-14T18:46:04.370523",
     "status": "completed"
    },
    "tags": []
   },
   "outputs": [],
   "source": []
  },
  {
   "cell_type": "code",
   "execution_count": null,
   "id": "54f1f57c",
   "metadata": {
    "papermill": {
     "duration": 0.017523,
     "end_time": "2024-03-14T18:46:04.423471",
     "exception": false,
     "start_time": "2024-03-14T18:46:04.405948",
     "status": "completed"
    },
    "tags": []
   },
   "outputs": [],
   "source": []
  },
  {
   "cell_type": "code",
   "execution_count": null,
   "id": "4946ddb3",
   "metadata": {
    "papermill": {
     "duration": 0.017488,
     "end_time": "2024-03-14T18:46:04.458815",
     "exception": false,
     "start_time": "2024-03-14T18:46:04.441327",
     "status": "completed"
    },
    "tags": []
   },
   "outputs": [],
   "source": []
  }
 ],
 "metadata": {
  "kaggle": {
   "accelerator": "none",
   "dataSources": [
    {
     "databundleVersionId": 7921029,
     "sourceId": 50160,
     "sourceType": "competition"
    },
    {
     "datasetId": 4496896,
     "sourceId": 7841389,
     "sourceType": "datasetVersion"
    }
   ],
   "dockerImageVersionId": 30635,
   "isGpuEnabled": false,
   "isInternetEnabled": false,
   "language": "python",
   "sourceType": "notebook"
  },
  "kernelspec": {
   "display_name": "Python 3",
   "language": "python",
   "name": "python3"
  },
  "language_info": {
   "codemirror_mode": {
    "name": "ipython",
    "version": 3
   },
   "file_extension": ".py",
   "mimetype": "text/x-python",
   "name": "python",
   "nbconvert_exporter": "python",
   "pygments_lexer": "ipython3",
   "version": "3.10.12"
  },
  "papermill": {
   "default_parameters": {},
   "duration": 1071.80001,
   "end_time": "2024-03-14T18:46:05.404159",
   "environment_variables": {},
   "exception": null,
   "input_path": "__notebook__.ipynb",
   "output_path": "__notebook__.ipynb",
   "parameters": {},
   "start_time": "2024-03-14T18:28:13.604149",
   "version": "2.4.0"
  }
 },
 "nbformat": 4,
 "nbformat_minor": 5
}
