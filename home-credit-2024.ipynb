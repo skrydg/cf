{
 "cells": [
  {
   "cell_type": "markdown",
   "id": "4b19a83b",
   "metadata": {
    "papermill": {
     "duration": 0.006642,
     "end_time": "2024-05-10T20:05:25.290863",
     "exception": false,
     "start_time": "2024-05-10T20:05:25.284221",
     "status": "completed"
    },
    "tags": []
   },
   "source": [
    "# Install packages"
   ]
  },
  {
   "cell_type": "code",
   "execution_count": 1,
   "id": "e06ce2ad",
   "metadata": {
    "execution": {
     "iopub.execute_input": "2024-05-10T20:05:25.304688Z",
     "iopub.status.busy": "2024-05-10T20:05:25.304296Z",
     "iopub.status.idle": "2024-05-10T20:06:00.838905Z",
     "shell.execute_reply": "2024-05-10T20:06:00.837594Z"
    },
    "papermill": {
     "duration": 35.545141,
     "end_time": "2024-05-10T20:06:00.842194",
     "exception": false,
     "start_time": "2024-05-10T20:05:25.297053",
     "status": "completed"
    },
    "tags": []
   },
   "outputs": [
    {
     "name": "stdout",
     "output_type": "stream",
     "text": [
      "Processing /kaggle/input/kaggle-home-credit-risk-model-stability-lib/kaggle_home_credit_risk_model_stability-0.3-py3-none-any.whl\r\n",
      "Installing collected packages: kaggle-home-credit-risk-model-stability\r\n",
      "Successfully installed kaggle-home-credit-risk-model-stability-0.3\r\n"
     ]
    }
   ],
   "source": [
    "!pip install /kaggle/input/kaggle-home-credit-risk-model-stability-lib/kaggle_home_credit_risk_model_stability-0.3-py3-none-any.whl --force-reinstall"
   ]
  },
  {
   "cell_type": "code",
   "execution_count": 2,
   "id": "bc3115cb",
   "metadata": {
    "execution": {
     "iopub.execute_input": "2024-05-10T20:06:00.860944Z",
     "iopub.status.busy": "2024-05-10T20:06:00.860434Z",
     "iopub.status.idle": "2024-05-10T20:06:49.384291Z",
     "shell.execute_reply": "2024-05-10T20:06:49.383078Z"
    },
    "papermill": {
     "duration": 48.536124,
     "end_time": "2024-05-10T20:06:49.387091",
     "exception": false,
     "start_time": "2024-05-10T20:06:00.850967",
     "status": "completed"
    },
    "tags": []
   },
   "outputs": [
    {
     "name": "stdout",
     "output_type": "stream",
     "text": [
      "Processing /kaggle/input/polars/polars-0.20.15-cp38-abi3-manylinux_2_17_x86_64.manylinux2014_x86_64.whl\r\n",
      "Installing collected packages: polars\r\n",
      "  Attempting uninstall: polars\r\n",
      "    Found existing installation: polars 0.20.3\r\n",
      "    Uninstalling polars-0.20.3:\r\n",
      "      Successfully uninstalled polars-0.20.3\r\n",
      "Successfully installed polars-0.20.15\r\n"
     ]
    }
   ],
   "source": [
    "!pip install /kaggle/input/polars/polars-0.20.15-cp38-abi3-manylinux_2_17_x86_64.manylinux2014_x86_64.whl"
   ]
  },
  {
   "cell_type": "markdown",
   "id": "0996cccd",
   "metadata": {
    "papermill": {
     "duration": 0.006413,
     "end_time": "2024-05-10T20:06:49.400444",
     "exception": false,
     "start_time": "2024-05-10T20:06:49.394031",
     "status": "completed"
    },
    "tags": []
   },
   "source": [
    "# Import packages"
   ]
  },
  {
   "cell_type": "code",
   "execution_count": 3,
   "id": "efc5692c",
   "metadata": {
    "execution": {
     "iopub.execute_input": "2024-05-10T20:06:49.415786Z",
     "iopub.status.busy": "2024-05-10T20:06:49.415373Z",
     "iopub.status.idle": "2024-05-10T20:06:53.623271Z",
     "shell.execute_reply": "2024-05-10T20:06:53.622227Z"
    },
    "papermill": {
     "duration": 4.2192,
     "end_time": "2024-05-10T20:06:53.626303",
     "exception": false,
     "start_time": "2024-05-10T20:06:49.407103",
     "status": "completed"
    },
    "tags": []
   },
   "outputs": [],
   "source": [
    "import polars as pl\n",
    "import gc\n",
    "import pickle\n",
    "\n",
    "import kaggle_home_credit_risk_model_stability.libs as hcr\n",
    "from kaggle_home_credit_risk_model_stability.libs.env import Env\n",
    "from kaggle_home_credit_risk_model_stability.libs.input.dataset import Dataset\n",
    "from kaggle_home_credit_risk_model_stability.libs.input.data_loader import DataLoader\n",
    "from kaggle_home_credit_risk_model_stability.libs.preprocessor.preprocessor import Preprocessor\n",
    "from kaggle_home_credit_risk_model_stability.libs.preprocessor.steps import *\n",
    "from kaggle_home_credit_risk_model_stability.libs.preprocessor.columns_info import ColumnsInfo"
   ]
  },
  {
   "cell_type": "code",
   "execution_count": 4,
   "id": "e386389c",
   "metadata": {
    "execution": {
     "iopub.execute_input": "2024-05-10T20:06:53.642419Z",
     "iopub.status.busy": "2024-05-10T20:06:53.641355Z",
     "iopub.status.idle": "2024-05-10T20:06:53.646866Z",
     "shell.execute_reply": "2024-05-10T20:06:53.645831Z"
    },
    "papermill": {
     "duration": 0.016008,
     "end_time": "2024-05-10T20:06:53.649390",
     "exception": false,
     "start_time": "2024-05-10T20:06:53.633382",
     "status": "completed"
    },
    "tags": []
   },
   "outputs": [],
   "source": [
    "env = Env(\n",
    "    \"/kaggle/input/\",\n",
    "    \"/kaggle/working/\"\n",
    ")"
   ]
  },
  {
   "cell_type": "code",
   "execution_count": 5,
   "id": "6e859ce9",
   "metadata": {
    "execution": {
     "iopub.execute_input": "2024-05-10T20:06:53.664645Z",
     "iopub.status.busy": "2024-05-10T20:06:53.664237Z",
     "iopub.status.idle": "2024-05-10T20:06:53.680513Z",
     "shell.execute_reply": "2024-05-10T20:06:53.679346Z"
    },
    "papermill": {
     "duration": 0.026935,
     "end_time": "2024-05-10T20:06:53.683009",
     "exception": false,
     "start_time": "2024-05-10T20:06:53.656074",
     "status": "completed"
    },
    "tags": []
   },
   "outputs": [],
   "source": [
    "data_loader = DataLoader(env, tables = [\n",
    "    \"base\", \"static_cb_0\", \"static_0\", \"person_1\", \"tax_registry_a_1\", \"tax_registry_b_1\", \"tax_registry_c_1\", \n",
    "    \"credit_bureau_a_2\", \n",
    "    \"credit_bureau_a_1\", \n",
    "    \"applprev_1\",\n",
    "    #\"debitcard_1\", \"other_1\", \"deposit_1\"\n",
    "    #\"credit_bureau_b_1\", \"credit_bureau_b_2\", <- low amount of data\n",
    "    #\"applprev_2\", \"person_2\"\n",
    "])\n",
    "\n",
    "preprocessor = Preprocessor({\n",
    "    #\"sort_raw_tables\": SortRawTablesStep(),\n",
    "    \"set_column_info_step\": SetColumnsInfoStep(),\n",
    "    \"set_types\": SetTypesStep(),\n",
    "    \"drop_composite_features\": DropCompositeFeaturesStep(),\n",
    "    \"create_day_feature\": CreateDayFeatureStep(),\n",
    "    \"process_categorical\": ProcessCategoricalStep(),\n",
    "    \"process_person_table\": ProcessPersonTableStep(),\n",
    "#    \"process_applprev_table\": ProcessApplprevTableStep(),\n",
    "    \"process_static_0_table\": ProcessStatic0TableStep(),\n",
    "    \"process_tax_regestry_a1_table\": ProcessTaxRegestryA1TableStep(),\n",
    "    \"process_tax_regestry_b1_table\": ProcessTaxRegestryB1TableStep(),\n",
    "    \"process_tax_regestry_c1_table\": ProcessTaxRegestryC1TableStep(),\n",
    "\n",
    "    **{ # credit_burea_a_1\n",
    "        \"rename_finantial_institution_for_credit_burea_a_1_table\": RenameFinancialInstitutionForCreditBureauA1TableStep(),\n",
    "        \"split_active_close_credit_burea_1_table\": SplitActiveCloseCreditBureaua1TableStep(),\n",
    "        \"split_active_credit_bureau_a_1_by_credit_duration\": SplitTableByCreditDurationStep(\n",
    "            table_name = \"active_credit_bureau_a_1\",\n",
    "            intervals = {\n",
    "                \"short\": [0, 135],\n",
    "                \"medium\": [135, 270],\n",
    "                \"medium_long\": [270, 450],\n",
    "                \"long\": [450, 100000],\n",
    "            }\n",
    "        ),\n",
    "        \"split_close_credit_bureau_a_1_by_credit_duration\": SplitTableByCreditDurationStep(\n",
    "            table_name = \"close_credit_bureau_a_1\",\n",
    "            intervals = {\n",
    "                \"short\": [0, 135],\n",
    "                \"medium\": [135, 270],\n",
    "                \"medium_long\": [270, 450],\n",
    "                \"long\": [450, 100000],\n",
    "            }\n",
    "        ),\n",
    "        **{\n",
    "            f\"split_{period}_active_credit_bureau_a_1_step\": SplitTableByCategoricalFeatureStep(f\"{period}_active_credit_bureau_a_1\", \"financialinstitution_591M\", [[\"Home Credit\", \"P150_136_157\"]])\n",
    "            for period in [\"short\", \"medium\", \"medium_long\", \"long\"]\n",
    "        },\n",
    "        **{\n",
    "            f\"split_{period}_close_credit_bureau_a_1_step\": SplitTableByCategoricalFeatureStep(f\"{period}_close_credit_bureau_a_1\", \"financialinstitution_382M\", [[\"P150_136_157\", \"P133_127_114\"]])\n",
    "            for period in [\"short\", \"medium\", \"medium_long\", \"long\"]\n",
    "        },\n",
    "    },\n",
    "    \n",
    "    \"process_credit_burea_2_table\": ProcessCreditBureaua2TableStep(),\n",
    "    \"reduce_memory_usage_for_dataset\": ReduceMemoryUsageForDatasetStep(),\n",
    "    #\"one_hot_encoding\": OneHotEncodingStep(),\n",
    "    #\"pairwise_diff_raw_dates\": PairwiseDateDiffStep(),\n",
    "    \"aggregate_depth_table\": AggregateDepthTableStep(),\n",
    "    \"join_table\": JoinTablesStep(),\n",
    "    \"merge_chunked_table\": MergeChunkedTablesStep(),\n",
    "    \"drop_almost_null_features\": DropAlmostNullFeaturesStep(0.999),\n",
    "    #\"generate_age_feature\": GenerateAgeFeatureStep(),\n",
    "    \"generate_base_date_diff\": GenerateBaseDateDiffStep(base_column=\"date_decision\"),\n",
    "    \"fill_nulls_in_categorical_features\": FillNullsInCategoricalFeaturesStep(),\n",
    "    \"reduce_dimention_for_categorical_features\": ReduceDimentionForCategoricalFeaturesStep(),\n",
    "    \"reduce_memory_usage_for_dataframe\": ReduceMemoryUsageForDataFrameStep(),\n",
    "    **{\n",
    "        f\"create_money_feature_fraction_{base_column}\": CreateMoneyFeatureFractionStep(base_column)\n",
    "        for base_column in [\"credamount_770A\", \"mainoccupationinc_384A\"] # \"maininc_215A\", \"annuity_780A\"] # mean_amount_416A\n",
    "    },\n",
    "    \"drop_single_value_features\": DropSingleValueFeaturesStep(),\n",
    "    \"drop_variable_enum_features\": DropVariableEnumFeaturesStep(),\n",
    "    #\"generate_mismatch_features\": GenerateMismatchFeaturesStep(),\n",
    "    # **{\n",
    "    #     f\"generate_anomaly_feature_{use_w}_{quantile}_{threashold}\": GenerateAnomalyFeatureStep(quantile=quantile, threashold=threashold)\n",
    "    #     for quantile in [0.99, 0.97, 0.95, 0.9, 0.8, 0.7]\n",
    "    #     for threashold in [3, 2, 1.7, 1.5, 1.3]\n",
    "    #     for use_w in [True, False]\n",
    "    # },\n",
    "    \"reduce_memory_usage_for_dataframe_final\": ReduceMemoryUsageForDataFrameStep()\n",
    "})"
   ]
  },
  {
   "cell_type": "markdown",
   "id": "329be1e9",
   "metadata": {
    "papermill": {
     "duration": 0.006491,
     "end_time": "2024-05-10T20:06:53.696334",
     "exception": false,
     "start_time": "2024-05-10T20:06:53.689843",
     "status": "completed"
    },
    "tags": []
   },
   "source": [
    "## Process train dataset"
   ]
  },
  {
   "cell_type": "code",
   "execution_count": 6,
   "id": "6800f459",
   "metadata": {
    "execution": {
     "iopub.execute_input": "2024-05-10T20:06:53.711048Z",
     "iopub.status.busy": "2024-05-10T20:06:53.710690Z",
     "iopub.status.idle": "2024-05-10T20:42:17.954210Z",
     "shell.execute_reply": "2024-05-10T20:42:17.953113Z"
    },
    "papermill": {
     "duration": 2124.254288,
     "end_time": "2024-05-10T20:42:17.957197",
     "exception": false,
     "start_time": "2024-05-10T20:06:53.702909",
     "status": "completed"
    },
    "tags": []
   },
   "outputs": [
    {
     "name": "stdout",
     "output_type": "stream",
     "text": [
      "Step: set_column_info_step\n",
      "Step: set_types\n",
      "Step: drop_composite_features\n",
      "Step: create_day_feature\n",
      "Step: process_categorical\n",
      "Step: process_person_table\n",
      "Step: process_static_0_table\n",
      "Step: process_tax_regestry_a1_table\n",
      "Step: process_tax_regestry_b1_table\n",
      "Step: process_tax_regestry_c1_table\n",
      "Step: rename_finantial_institution_for_credit_burea_a_1_table\n",
      "Step: split_active_close_credit_burea_1_table\n",
      "Step: split_active_credit_bureau_a_1_by_credit_duration\n",
      "Step: split_close_credit_bureau_a_1_by_credit_duration\n",
      "Step: split_short_active_credit_bureau_a_1_step\n",
      "Step: split_medium_active_credit_bureau_a_1_step\n",
      "Step: split_medium_long_active_credit_bureau_a_1_step\n",
      "Step: split_long_active_credit_bureau_a_1_step\n",
      "Step: split_short_close_credit_bureau_a_1_step\n",
      "Step: split_medium_close_credit_bureau_a_1_step\n",
      "Step: split_medium_long_close_credit_bureau_a_1_step\n",
      "Step: split_long_close_credit_bureau_a_1_step\n",
      "Step: process_credit_burea_2_table\n",
      "Step: reduce_memory_usage_for_dataset\n",
      "Step: aggregate_depth_table\n",
      "Step: join_table\n",
      "Step: merge_chunked_table\n",
      "Step: drop_almost_null_features\n",
      "Step: generate_base_date_diff\n",
      "Step: fill_nulls_in_categorical_features\n",
      "Step: reduce_dimention_for_categorical_features\n",
      "Step: reduce_memory_usage_for_dataframe\n",
      "Step: create_money_feature_fraction_credamount_770A\n",
      "Step: create_money_feature_fraction_mainoccupationinc_384A\n",
      "Step: drop_single_value_features\n",
      "Step: drop_variable_enum_features\n",
      "Step: reduce_memory_usage_for_dataframe_final\n",
      "Drop composite features ['lastapprcommoditycat_1041M', 'lastapprcommoditytypec_5251766M', 'lastcancelreason_561M', 'lastrejectcommoditycat_161M', 'lastrejectcommodtypec_5251769M', 'lastrejectreason_759M', 'lastrejectreasonclient_4145040M', 'previouscontdistrict_112M', 'contaddr_district_15M', 'contaddr_zipcode_807M', 'education_927M', 'empladdr_district_926M', 'empladdr_zipcode_114M', 'language1_981M', 'registaddr_district_1083M', 'registaddr_zipcode_184M', 'cancelreason_3545846M', 'district_544M', 'education_1138M', 'postype_4733339M', 'profession_152M', 'rejectreason_755M', 'rejectreasonclient_4145042M']\n",
      "Generate 942 columns as aggregates\n",
      "Generate 942 columns as aggregates\n",
      "Generate 942 columns as aggregates\n",
      "Generate 942 columns as aggregates\n",
      "Generate 942 columns as aggregates\n",
      "Generate 942 columns as aggregates\n",
      "Generate 942 columns as aggregates\n",
      "Generate 942 columns as aggregates\n",
      "Generate 942 columns as aggregates\n",
      "Generate 942 columns as aggregates\n",
      "Generate 942 columns as aggregates\n",
      "Generate 942 columns as aggregates\n",
      "Generate 942 columns as aggregates\n",
      "Generate 942 columns as aggregates\n",
      "Generate 942 columns as aggregates\n",
      "Generate 942 columns as aggregates\n",
      "Drop 67 columns as almost null\n",
      "Columns to drop ['childnum_185L', 'clientscnt_136L', 'deferredmnthsnum_166L', 'housingtype_772L', 'max_birth_259D', 'max_contaddr_matchlist_1032L', 'max_contaddr_smempladdr_334L', 'max_credlmt_935A_Home_Credit_medium_active_credit_bureau_a_1', 'max_credlmt_935A_Home_Credit_short_active_credit_bureau_a_1', 'max_empl_employedfrom_271D', 'max_empl_employedtotal_800L', 'max_empl_industry_691L', 'max_familystate_447L', 'max_housetype_905L', 'max_incometype_1044T', 'max_instlamount_768A_Home_Credit_medium_active_credit_bureau_a_1', 'max_instlamount_768A_Home_Credit_short_active_credit_bureau_a_1', 'max_mainoccupationinc_384A', 'max_overdueamountmax2date_1142D_Home_Credit_short_active_credit_bureau_a_1', 'max_residualamount_856A_Home_Credit_medium_active_credit_bureau_a_1', 'max_residualamount_856A_Home_Credit_short_active_credit_bureau_a_1', 'max_safeguarantyflag_411L', 'max_sex_738L', 'mean_birth_259D', 'mean_contaddr_matchlist_1032L', 'mean_contaddr_smempladdr_334L', 'mean_credlmt_935A_Home_Credit_medium_active_credit_bureau_a_1', 'mean_credlmt_935A_Home_Credit_short_active_credit_bureau_a_1', 'mean_empl_employedfrom_271D', 'mean_instlamount_768A_Home_Credit_medium_active_credit_bureau_a_1', 'mean_instlamount_768A_Home_Credit_short_active_credit_bureau_a_1', 'mean_mainoccupationinc_384A', 'mean_overdueamountmax2date_1142D_Home_Credit_short_active_credit_bureau_a_1', 'mean_residualamount_856A_Home_Credit_medium_active_credit_bureau_a_1', 'mean_residualamount_856A_Home_Credit_short_active_credit_bureau_a_1', 'mean_safeguarantyflag_411L', 'min_birth_259D', 'min_contaddr_matchlist_1032L', 'min_contaddr_smempladdr_334L', 'min_credlmt_935A_Home_Credit_medium_active_credit_bureau_a_1', 'min_credlmt_935A_Home_Credit_short_active_credit_bureau_a_1', 'min_empl_employedfrom_271D', 'min_empl_employedtotal_800L', 'min_empl_industry_691L', 'min_familystate_447L', 'min_housetype_905L', 'min_incometype_1044T', 'min_instlamount_768A_Home_Credit_medium_active_credit_bureau_a_1', 'min_instlamount_768A_Home_Credit_short_active_credit_bureau_a_1', 'min_mainoccupationinc_384A', 'min_overdueamountmax2date_1142D_Home_Credit_short_active_credit_bureau_a_1', 'min_residualamount_856A_Home_Credit_medium_active_credit_bureau_a_1', 'min_residualamount_856A_Home_Credit_short_active_credit_bureau_a_1', 'min_safeguarantyflag_411L', 'min_sex_738L', 'mode_empl_employedtotal_800L', 'mode_empl_industry_691L', 'mode_familystate_447L', 'mode_housetype_905L', 'mode_incometype_1044T', 'mode_sex_738L', 'personindex_1023L', 'persontype_1072L', 'persontype_792L', 'relationshiptoclient_415T', 'relationshiptoclient_642T', 'remitter_829L']\n",
      "Create 141 new date diff columns, with base_column=date_decision\n",
      "Create 288 new columns as money feature fraction with base 'credamount_770A'\n",
      "Create 288 new columns as money feature fraction with base 'mainoccupationinc_384A'\n",
      "Drop 1 columns as single value, columns: ['num_group1']\n",
      "Drop 0 columns as variable enum value\n"
     ]
    },
    {
     "data": {
      "text/plain": [
       "0"
      ]
     },
     "execution_count": 6,
     "metadata": {},
     "output_type": "execute_result"
    }
   ],
   "source": [
    "train_dataset_generator = data_loader.load_train_dataset(chunk_size=100000)\n",
    "gc.collect()\n",
    "train_df, columns_info = preprocessor.process_train_dataset(train_dataset_generator)\n",
    "del train_dataset_generator\n",
    "gc.collect()"
   ]
  },
  {
   "cell_type": "code",
   "execution_count": 7,
   "id": "d35bc555",
   "metadata": {
    "execution": {
     "iopub.execute_input": "2024-05-10T20:42:17.984897Z",
     "iopub.status.busy": "2024-05-10T20:42:17.984461Z",
     "iopub.status.idle": "2024-05-10T20:42:58.449670Z",
     "shell.execute_reply": "2024-05-10T20:42:58.448573Z"
    },
    "papermill": {
     "duration": 40.495026,
     "end_time": "2024-05-10T20:42:58.465051",
     "exception": false,
     "start_time": "2024-05-10T20:42:17.970025",
     "status": "completed"
    },
    "tags": []
   },
   "outputs": [
    {
     "name": "stdout",
     "output_type": "stream",
     "text": [
      "10256.171802520752\n",
      "shape: (1_526_659, 1_838)\n",
      "┌────────┬──────────┬────────────┬────────────┬───┬────────────┬───────────┬───────────┬───────────┐\n",
      "│ MONTH  ┆ WEEK_NUM ┆ actualdpdt ┆ amtinstpai ┆ … ┆ sumoutstan ┆ totaldebt ┆ totalsett ┆ totinstal │\n",
      "│ ---    ┆ ---      ┆ olerance_3 ┆ dbefduel24 ┆   ┆ dtotalest_ ┆ _9A/maino ┆ led_863A/ ┆ last1m_45 │\n",
      "│ i64    ┆ i64      ┆ 44P        ┆ m_4187115A ┆   ┆ 4493215A/m ┆ ccupation ┆ mainoccup ┆ 25188A/ma │\n",
      "│        ┆          ┆ ---        ┆ ---        ┆   ┆ ai…        ┆ inc_3…    ┆ ation…    ┆ inocc…    │\n",
      "│        ┆          ┆ f32        ┆ f32        ┆   ┆ ---        ┆ ---       ┆ ---       ┆ ---       │\n",
      "│        ┆          ┆            ┆            ┆   ┆ f32        ┆ f32       ┆ f32       ┆ f32       │\n",
      "╞════════╪══════════╪════════════╪════════════╪═══╪════════════╪═══════════╪═══════════╪═══════════╡\n",
      "│ 201901 ┆ 0        ┆ null       ┆ null       ┆ … ┆ null       ┆ 0.0       ┆ 0.0       ┆ null      │\n",
      "│ 201901 ┆ 0        ┆ null       ┆ null       ┆ … ┆ null       ┆ 0.0       ┆ 0.0       ┆ null      │\n",
      "│ 201901 ┆ 0        ┆ null       ┆ null       ┆ … ┆ null       ┆ 0.0       ┆ 0.0       ┆ null      │\n",
      "│ 201901 ┆ 0        ┆ null       ┆ null       ┆ … ┆ null       ┆ 0.0       ┆ 0.0       ┆ null      │\n",
      "│ 201901 ┆ 0        ┆ null       ┆ null       ┆ … ┆ null       ┆ 0.0       ┆ 0.0       ┆ null      │\n",
      "│ …      ┆ …        ┆ …          ┆ …          ┆ … ┆ …          ┆ …         ┆ …         ┆ …         │\n",
      "│ 202010 ┆ 91       ┆ 0.0        ┆ 176561.359 ┆ … ┆ 0.0        ┆ 0.0       ┆ 10.703991 ┆ 0.358658  │\n",
      "│        ┆          ┆            ┆ 375        ┆   ┆            ┆           ┆           ┆           │\n",
      "│ 202010 ┆ 91       ┆ 0.0        ┆ 301276.468 ┆ … ┆ 1.8505     ┆ 1.8505    ┆ 19.055634 ┆ 1.100538  │\n",
      "│        ┆          ┆            ┆ 75         ┆   ┆            ┆           ┆           ┆           │\n",
      "│ 202010 ┆ 91       ┆ 0.0        ┆ 14232.4003 ┆ … ┆ 0.0        ┆ 0.0       ┆ 0.800067  ┆ null      │\n",
      "│        ┆          ┆            ┆ 91         ┆   ┆            ┆           ┆           ┆           │\n",
      "│ 202010 ┆ 91       ┆ 0.0        ┆ 197371.578 ┆ … ┆ 1.56022    ┆ 1.56022   ┆ 14.671511 ┆ 0.18848   │\n",
      "│        ┆          ┆            ┆ 125        ┆   ┆            ┆           ┆           ┆           │\n",
      "│ 202010 ┆ 91       ┆ 0.0        ┆ 82949.6015 ┆ … ┆ 0.226376   ┆ 0.150234  ┆ 2.360395  ┆ 0.075807  │\n",
      "│        ┆          ┆            ┆ 62         ┆   ┆            ┆           ┆           ┆           │\n",
      "└────────┴──────────┴────────────┴────────────┴───┴────────────┴───────────┴───────────┴───────────┘\n"
     ]
    },
    {
     "data": {
      "text/plain": [
       "0"
      ]
     },
     "execution_count": 7,
     "metadata": {},
     "output_type": "execute_result"
    }
   ],
   "source": [
    "train_df.write_parquet(env.output_directory / \"train_df.parquet\")\n",
    "pickle.dump(columns_info, open(env.output_directory / \"columns_info.pkl\", \"wb\"))\n",
    "print(train_df.estimated_size() / 1024 / 1024)\n",
    "print(train_df)\n",
    "\n",
    "del train_df\n",
    "gc.collect()"
   ]
  },
  {
   "cell_type": "code",
   "execution_count": 8,
   "id": "5c8ed5c6",
   "metadata": {
    "execution": {
     "iopub.execute_input": "2024-05-10T20:42:58.494833Z",
     "iopub.status.busy": "2024-05-10T20:42:58.494286Z",
     "iopub.status.idle": "2024-05-10T20:42:58.928544Z",
     "shell.execute_reply": "2024-05-10T20:42:58.927526Z"
    },
    "papermill": {
     "duration": 0.453064,
     "end_time": "2024-05-10T20:42:58.931511",
     "exception": false,
     "start_time": "2024-05-10T20:42:58.478447",
     "status": "completed"
    },
    "tags": []
   },
   "outputs": [],
   "source": [
    "pickle.dump(data_loader, open(env.output_directory / \"data_loader.pkl\", \"wb\"))\n",
    "pickle.dump(preprocessor, open(env.output_directory / \"preprocessor.pkl\", \"wb\"))"
   ]
  },
  {
   "cell_type": "code",
   "execution_count": 9,
   "id": "0f89b10d",
   "metadata": {
    "execution": {
     "iopub.execute_input": "2024-05-10T20:42:58.959272Z",
     "iopub.status.busy": "2024-05-10T20:42:58.958836Z",
     "iopub.status.idle": "2024-05-10T20:42:59.331921Z",
     "shell.execute_reply": "2024-05-10T20:42:59.330719Z"
    },
    "papermill": {
     "duration": 0.389908,
     "end_time": "2024-05-10T20:42:59.334318",
     "exception": false,
     "start_time": "2024-05-10T20:42:58.944410",
     "status": "completed"
    },
    "tags": []
   },
   "outputs": [],
   "source": [
    "%reset -f"
   ]
  },
  {
   "cell_type": "markdown",
   "id": "dff762da",
   "metadata": {
    "papermill": {
     "duration": 0.012979,
     "end_time": "2024-05-10T20:42:59.360811",
     "exception": false,
     "start_time": "2024-05-10T20:42:59.347832",
     "status": "completed"
    },
    "tags": []
   },
   "source": [
    "## Process test dataset"
   ]
  },
  {
   "cell_type": "code",
   "execution_count": 10,
   "id": "2d1e2152",
   "metadata": {
    "execution": {
     "iopub.execute_input": "2024-05-10T20:42:59.388694Z",
     "iopub.status.busy": "2024-05-10T20:42:59.387738Z",
     "iopub.status.idle": "2024-05-10T20:42:59.394972Z",
     "shell.execute_reply": "2024-05-10T20:42:59.393929Z"
    },
    "papermill": {
     "duration": 0.023592,
     "end_time": "2024-05-10T20:42:59.397308",
     "exception": false,
     "start_time": "2024-05-10T20:42:59.373716",
     "status": "completed"
    },
    "tags": []
   },
   "outputs": [],
   "source": [
    "import polars as pl\n",
    "import gc\n",
    "import pickle\n",
    "\n",
    "import kaggle_home_credit_risk_model_stability.libs as hcr\n",
    "from kaggle_home_credit_risk_model_stability.libs.env import Env\n",
    "from kaggle_home_credit_risk_model_stability.libs.input.dataset import Dataset\n",
    "from kaggle_home_credit_risk_model_stability.libs.input.data_loader import DataLoader\n",
    "from kaggle_home_credit_risk_model_stability.libs.preprocessor.preprocessor import Preprocessor\n",
    "from kaggle_home_credit_risk_model_stability.libs.preprocessor.steps import *\n",
    "from kaggle_home_credit_risk_model_stability.libs.preprocessor.columns_info import ColumnsInfo"
   ]
  },
  {
   "cell_type": "code",
   "execution_count": 11,
   "id": "bf67cdf7",
   "metadata": {
    "execution": {
     "iopub.execute_input": "2024-05-10T20:42:59.425347Z",
     "iopub.status.busy": "2024-05-10T20:42:59.424896Z",
     "iopub.status.idle": "2024-05-10T20:42:59.929151Z",
     "shell.execute_reply": "2024-05-10T20:42:59.928012Z"
    },
    "papermill": {
     "duration": 0.521336,
     "end_time": "2024-05-10T20:42:59.931807",
     "exception": false,
     "start_time": "2024-05-10T20:42:59.410471",
     "status": "completed"
    },
    "tags": []
   },
   "outputs": [],
   "source": [
    "env = Env(\n",
    "    \"/kaggle/input/\",\n",
    "    \"/kaggle/working/\"\n",
    ")\n",
    "data_loader = pickle.load(open(env.output_directory / \"data_loader.pkl\", \"rb\"))\n",
    "preprocessor = pickle.load(open(env.output_directory / \"preprocessor.pkl\", \"rb\"))"
   ]
  },
  {
   "cell_type": "code",
   "execution_count": 12,
   "id": "5b666c5d",
   "metadata": {
    "execution": {
     "iopub.execute_input": "2024-05-10T20:42:59.959472Z",
     "iopub.status.busy": "2024-05-10T20:42:59.959043Z",
     "iopub.status.idle": "2024-05-10T20:43:22.694423Z",
     "shell.execute_reply": "2024-05-10T20:43:22.693347Z"
    },
    "papermill": {
     "duration": 22.752093,
     "end_time": "2024-05-10T20:43:22.696912",
     "exception": false,
     "start_time": "2024-05-10T20:42:59.944819",
     "status": "completed"
    },
    "tags": []
   },
   "outputs": [
    {
     "name": "stdout",
     "output_type": "stream",
     "text": [
      "Step: set_column_info_step\n",
      "Step: set_types\n",
      "Step: drop_composite_features\n",
      "Step: create_day_feature\n",
      "Step: process_categorical\n",
      "Step: process_person_table\n",
      "Step: process_static_0_table\n",
      "Step: process_tax_regestry_a1_table\n",
      "Step: process_tax_regestry_b1_table\n",
      "Step: process_tax_regestry_c1_table\n",
      "Step: rename_finantial_institution_for_credit_burea_a_1_table\n",
      "Step: split_active_close_credit_burea_1_table\n",
      "Step: split_active_credit_bureau_a_1_by_credit_duration\n",
      "Step: split_close_credit_bureau_a_1_by_credit_duration\n",
      "Step: split_short_active_credit_bureau_a_1_step\n",
      "Step: split_medium_active_credit_bureau_a_1_step\n",
      "Step: split_medium_long_active_credit_bureau_a_1_step\n",
      "Step: split_long_active_credit_bureau_a_1_step\n",
      "Step: split_short_close_credit_bureau_a_1_step\n",
      "Step: split_medium_close_credit_bureau_a_1_step\n",
      "Step: split_medium_long_close_credit_bureau_a_1_step\n",
      "Step: split_long_close_credit_bureau_a_1_step\n",
      "Step: process_credit_burea_2_table\n",
      "Step: reduce_memory_usage_for_dataset\n",
      "Step: aggregate_depth_table\n",
      "Step: join_table\n",
      "Step: merge_chunked_table\n",
      "Step: drop_almost_null_features\n",
      "Step: generate_base_date_diff\n",
      "Step: fill_nulls_in_categorical_features\n",
      "Step: reduce_dimention_for_categorical_features\n",
      "Step: reduce_memory_usage_for_dataframe\n",
      "Step: create_money_feature_fraction_credamount_770A\n",
      "Step: create_money_feature_fraction_mainoccupationinc_384A\n",
      "Step: drop_single_value_features\n",
      "Step: drop_variable_enum_features\n",
      "Step: reduce_memory_usage_for_dataframe_final\n",
      "Generate 942 columns as aggregates\n",
      "Create 141 new date diff columns, with base_column=date_decision\n",
      "Create 288 new columns as money feature fraction with base 'credamount_770A'\n",
      "Create 288 new columns as money feature fraction with base 'mainoccupationinc_384A'\n",
      "Drop 1 columns as single value, columns: ['num_group1']\n"
     ]
    },
    {
     "data": {
      "text/plain": [
       "0"
      ]
     },
     "execution_count": 12,
     "metadata": {},
     "output_type": "execute_result"
    }
   ],
   "source": [
    "test_dataset_generator = data_loader.load_test_dataset(chunk_size=100000)\n",
    "gc.collect()\n",
    "test_df, columns_info = preprocessor.process_test_dataset(test_dataset_generator)\n",
    "del test_dataset_generator\n",
    "gc.collect()"
   ]
  },
  {
   "cell_type": "code",
   "execution_count": 13,
   "id": "6c48742b",
   "metadata": {
    "execution": {
     "iopub.execute_input": "2024-05-10T20:43:22.732685Z",
     "iopub.status.busy": "2024-05-10T20:43:22.732300Z",
     "iopub.status.idle": "2024-05-10T20:43:23.367564Z",
     "shell.execute_reply": "2024-05-10T20:43:23.366220Z"
    },
    "papermill": {
     "duration": 0.655653,
     "end_time": "2024-05-10T20:43:23.369940",
     "exception": false,
     "start_time": "2024-05-10T20:43:22.714287",
     "status": "completed"
    },
    "tags": []
   },
   "outputs": [
    {
     "name": "stdout",
     "output_type": "stream",
     "text": [
      "0.08838748931884766\n",
      "shape: (10, 1_837)\n",
      "┌────────┬──────────┬────────────┬────────────┬───┬────────────┬───────────┬───────────┬───────────┐\n",
      "│ MONTH  ┆ WEEK_NUM ┆ actualdpdt ┆ amtinstpai ┆ … ┆ sumoutstan ┆ totaldebt ┆ totalsett ┆ totinstal │\n",
      "│ ---    ┆ ---      ┆ olerance_3 ┆ dbefduel24 ┆   ┆ dtotalest_ ┆ _9A/maino ┆ led_863A/ ┆ last1m_45 │\n",
      "│ i64    ┆ i64      ┆ 44P        ┆ m_4187115A ┆   ┆ 4493215A/m ┆ ccupation ┆ mainoccup ┆ 25188A/ma │\n",
      "│        ┆          ┆ ---        ┆ ---        ┆   ┆ ai…        ┆ inc_3…    ┆ ation…    ┆ inocc…    │\n",
      "│        ┆          ┆ f32        ┆ f32        ┆   ┆ ---        ┆ ---       ┆ ---       ┆ ---       │\n",
      "│        ┆          ┆            ┆            ┆   ┆ f32        ┆ f32       ┆ f32       ┆ f32       │\n",
      "╞════════╪══════════╪════════════╪════════════╪═══╪════════════╪═══════════╪═══════════╪═══════════╡\n",
      "│ 202201 ┆ 100      ┆ 0.0        ┆ 191767.359 ┆ … ┆ 0.357482   ┆ 0.357482  ┆ 13.41268  ┆ 0.525282  │\n",
      "│        ┆          ┆            ┆ 375        ┆   ┆            ┆           ┆           ┆           │\n",
      "│ 202201 ┆ 100      ┆ 0.0        ┆ 129704.398 ┆ … ┆ 0.213618   ┆ 0.213618  ┆ 7.504435  ┆ 2.531285  │\n",
      "│        ┆          ┆            ┆ 438        ┆   ┆            ┆           ┆           ┆           │\n",
      "│ 202201 ┆ 100      ┆ 0.0        ┆ 71036.3984 ┆ … ┆ 0.0        ┆ 0.0       ┆ 1.262064  ┆ null      │\n",
      "│        ┆          ┆            ┆ 38         ┆   ┆            ┆           ┆           ┆           │\n",
      "│ 202201 ┆ 100      ┆ 0.0        ┆ 183992.0   ┆ … ┆ 1.707764   ┆ 1.707764  ┆ 2.537616  ┆ 0.168652  │\n",
      "│ 202201 ┆ 100      ┆ 0.0        ┆ 0.0        ┆ … ┆ 0.0        ┆ 0.0       ┆ 1.643938  ┆ null      │\n",
      "│ 202201 ┆ 100      ┆ 0.0        ┆ 0.0        ┆ … ┆ 0.0        ┆ 0.0       ┆ 0.161293  ┆ null      │\n",
      "│ 202201 ┆ 100      ┆ 0.0        ┆ null       ┆ … ┆ null       ┆ null      ┆ null      ┆ null      │\n",
      "│ 202201 ┆ 100      ┆ 0.0        ┆ 63647.4023 ┆ … ┆ null       ┆ null      ┆ null      ┆ null      │\n",
      "│        ┆          ┆            ┆ 44         ┆   ┆            ┆           ┆           ┆           │\n",
      "│ 202201 ┆ 100      ┆ 0.0        ┆ null       ┆ … ┆ null       ┆ null      ┆ null      ┆ null      │\n",
      "│ 202201 ┆ 100      ┆ 0.0        ┆ 39948.8007 ┆ … ┆ null       ┆ null      ┆ null      ┆ null      │\n",
      "│        ┆          ┆            ┆ 81         ┆   ┆            ┆           ┆           ┆           │\n",
      "└────────┴──────────┴────────────┴────────────┴───┴────────────┴───────────┴───────────┴───────────┘\n"
     ]
    },
    {
     "data": {
      "text/plain": [
       "0"
      ]
     },
     "execution_count": 13,
     "metadata": {},
     "output_type": "execute_result"
    }
   ],
   "source": [
    "test_df.write_parquet(env.output_directory / \"test_df.parquet\")\n",
    "print(test_df.estimated_size() / 1024 / 1024)\n",
    "print(test_df)\n",
    "\n",
    "del test_df\n",
    "gc.collect()"
   ]
  }
 ],
 "metadata": {
  "kaggle": {
   "accelerator": "none",
   "dataSources": [
    {
     "databundleVersionId": 7921029,
     "sourceId": 50160,
     "sourceType": "competition"
    },
    {
     "datasetId": 4832722,
     "sourceId": 8166831,
     "sourceType": "datasetVersion"
    },
    {
     "datasetId": 4496896,
     "sourceId": 8374764,
     "sourceType": "datasetVersion"
    }
   ],
   "dockerImageVersionId": 30635,
   "isGpuEnabled": false,
   "isInternetEnabled": false,
   "language": "python",
   "sourceType": "notebook"
  },
  "kernelspec": {
   "display_name": "Python 3",
   "language": "python",
   "name": "python3"
  },
  "language_info": {
   "codemirror_mode": {
    "name": "ipython",
    "version": 3
   },
   "file_extension": ".py",
   "mimetype": "text/x-python",
   "name": "python",
   "nbconvert_exporter": "python",
   "pygments_lexer": "ipython3",
   "version": "3.10.12"
  },
  "papermill": {
   "default_parameters": {},
   "duration": 2283.144574,
   "end_time": "2024-05-10T20:43:24.315731",
   "environment_variables": {},
   "exception": null,
   "input_path": "__notebook__.ipynb",
   "output_path": "__notebook__.ipynb",
   "parameters": {},
   "start_time": "2024-05-10T20:05:21.171157",
   "version": "2.4.0"
  }
 },
 "nbformat": 4,
 "nbformat_minor": 5
}
