{
 "cells": [
  {
   "cell_type": "markdown",
   "id": "53bc2ee1",
   "metadata": {
    "papermill": {
     "duration": 0.011914,
     "end_time": "2024-03-05T08:15:33.217868",
     "exception": false,
     "start_time": "2024-03-05T08:15:33.205954",
     "status": "completed"
    },
    "tags": []
   },
   "source": [
    "# Install packages"
   ]
  },
  {
   "cell_type": "code",
   "execution_count": 1,
   "id": "e991df3c",
   "metadata": {
    "execution": {
     "iopub.execute_input": "2024-03-05T08:15:33.243143Z",
     "iopub.status.busy": "2024-03-05T08:15:33.242456Z",
     "iopub.status.idle": "2024-03-05T08:16:06.474353Z",
     "shell.execute_reply": "2024-03-05T08:16:06.472949Z"
    },
    "papermill": {
     "duration": 33.247913,
     "end_time": "2024-03-05T08:16:06.477404",
     "exception": false,
     "start_time": "2024-03-05T08:15:33.229491",
     "status": "completed"
    },
    "tags": []
   },
   "outputs": [
    {
     "name": "stdout",
     "output_type": "stream",
     "text": [
      "Processing /kaggle/input/kaggle-home-credit-risk-model-stability-lib/kaggle_home_credit_risk_model_stability-0.3-py3-none-any.whl\r\n",
      "Installing collected packages: kaggle-home-credit-risk-model-stability\r\n",
      "Successfully installed kaggle-home-credit-risk-model-stability-0.3\r\n"
     ]
    }
   ],
   "source": [
    "!pip install /kaggle/input/kaggle-home-credit-risk-model-stability-lib/kaggle_home_credit_risk_model_stability-0.3-py3-none-any.whl --force-reinstall"
   ]
  },
  {
   "cell_type": "markdown",
   "id": "a040245a",
   "metadata": {
    "papermill": {
     "duration": 0.01118,
     "end_time": "2024-03-05T08:16:06.505201",
     "exception": false,
     "start_time": "2024-03-05T08:16:06.494021",
     "status": "completed"
    },
    "tags": []
   },
   "source": [
    "# Import packages"
   ]
  },
  {
   "cell_type": "code",
   "execution_count": 2,
   "id": "4700181f",
   "metadata": {
    "execution": {
     "iopub.execute_input": "2024-03-05T08:16:06.530732Z",
     "iopub.status.busy": "2024-03-05T08:16:06.530191Z",
     "iopub.status.idle": "2024-03-05T08:16:10.931188Z",
     "shell.execute_reply": "2024-03-05T08:16:10.930057Z"
    },
    "papermill": {
     "duration": 4.417123,
     "end_time": "2024-03-05T08:16:10.933848",
     "exception": false,
     "start_time": "2024-03-05T08:16:06.516725",
     "status": "completed"
    },
    "tags": []
   },
   "outputs": [],
   "source": [
    "import polars as pl\n",
    "import gc\n",
    "import time\n",
    "import numpy as np\n",
    "import pandas as pd\n",
    "import lightgbm as lgb\n",
    "import seaborn as sns\n",
    "import matplotlib.pyplot as plt\n",
    "import copy\n",
    "import lightgbm as lgb\n",
    "import importlib\n",
    "\n",
    "import kaggle_home_credit_risk_model_stability.libs as hcr\n",
    "from kaggle_home_credit_risk_model_stability.libs.input.dataset import Dataset\n",
    "from kaggle_home_credit_risk_model_stability.libs.input.data_loader import DataLoader\n",
    "from kaggle_home_credit_risk_model_stability.libs.preprocessor.preprocessor import Preprocessor\n",
    "from kaggle_home_credit_risk_model_stability.libs.preprocessor.steps import *\n",
    "from kaggle_home_credit_risk_model_stability.libs.preprocessor.columns_info import ColumnsInfo\n",
    "from kaggle_home_credit_risk_model_stability.libs.feature_description.feature_description import FreatureDescriptionGetter\n",
    "\n",
    "from collections import defaultdict\n",
    "from glob import glob\n",
    "from pathlib import Path\n",
    "from sklearn.model_selection import train_test_split\n",
    "from sklearn.metrics import roc_auc_score\n",
    "from sklearn.model_selection import StratifiedGroupKFold\n",
    "from sklearn.base import BaseEstimator, RegressorMixin\n",
    "from catboost import CatBoostClassifier\n",
    "from enum import Enum"
   ]
  },
  {
   "cell_type": "code",
   "execution_count": 3,
   "id": "aa42cb94",
   "metadata": {
    "execution": {
     "iopub.execute_input": "2024-03-05T08:16:10.959179Z",
     "iopub.status.busy": "2024-03-05T08:16:10.958730Z",
     "iopub.status.idle": "2024-03-05T08:16:10.965894Z",
     "shell.execute_reply": "2024-03-05T08:16:10.964724Z"
    },
    "papermill": {
     "duration": 0.022746,
     "end_time": "2024-03-05T08:16:10.967923",
     "exception": false,
     "start_time": "2024-03-05T08:16:10.945177",
     "status": "completed"
    },
    "tags": []
   },
   "outputs": [],
   "source": [
    "data_loader = DataLoader()\n",
    "preprocessor = Preprocessor({\n",
    "    \"set_column_info_step\": SetColumnsInfoStep(),\n",
    "    \"set_types\": SetTypesStep(),\n",
    "    \"process_categorical\": ProcessCategoricalStep(),\n",
    "    \"process_person_table\": ProcessPersonTableStep(),\n",
    "    \"one_hot_encoding_for_depth1\": OneHotEncodingForDepth1Step(),\n",
    "    \"pairwise_diff_raw_dates\": PairwiseDateDiffStep(),\n",
    "    \"aggregate_depth_table\": AggregateDepthTableStep(),\n",
    "    \"drop_equal_columns\": DropEqualColumnsStep(),\n",
    "    \"drop_variable_enum_features\": DropVariableEnumFeaturesStep(),\n",
    "    \"drop_almost_null_features_respect_to_target\": DropAlmostNullFeaturesWithRespectToTargetStep(),\n",
    "    \"join_table\": JoinTablesStep(),\n",
    "    **{\n",
    "        f\"create_money_feature_fraction_{base_column}\": CreateMoneyFeatureFractionStep(base_column)\n",
    "        for base_column in [\"credamount_770A\", \"maininc_215A\", \"mainoccupationinc_384A\", \"mean_amount_416A\"]\n",
    "    },\n",
    "    \"generate_mismatch_features\": GenerateMismatchFeaturesStep(), \n",
    "    \"fill_nulls\": FillNullStep(),\n",
    "    \"reduce_memory_usage\": ReduceMemoryUsageStep(),\n",
    "#   \"drop_non_important_features\": DropNonImportantFeaturesStep()\n",
    "#    \"drop_dates_columns\": DropDatesColumnsStep()\n",
    "})\n",
    "columns_info = ColumnsInfo()"
   ]
  },
  {
   "cell_type": "code",
   "execution_count": 4,
   "id": "42bdae59",
   "metadata": {
    "execution": {
     "iopub.execute_input": "2024-03-05T08:16:10.992100Z",
     "iopub.status.busy": "2024-03-05T08:16:10.991700Z",
     "iopub.status.idle": "2024-03-05T08:16:10.996265Z",
     "shell.execute_reply": "2024-03-05T08:16:10.995212Z"
    },
    "papermill": {
     "duration": 0.019243,
     "end_time": "2024-03-05T08:16:10.998452",
     "exception": false,
     "start_time": "2024-03-05T08:16:10.979209",
     "status": "completed"
    },
    "tags": []
   },
   "outputs": [],
   "source": [
    "# train_dataset = data_loader.load_train_dataset()\n",
    "# case_id_set = train_dataset.get_base().filter(train_dataset.get_base()[\"WEEK_NUM\"] < 10)[\"case_id\"]\n",
    "# train_dataset = train_dataset.filter(lambda table: table.filter(pl.col(\"case_id\").is_in(case_id_set)))"
   ]
  },
  {
   "cell_type": "code",
   "execution_count": null,
   "id": "3ef9ae44",
   "metadata": {
    "papermill": {
     "duration": 0.010786,
     "end_time": "2024-03-05T08:16:11.020558",
     "exception": false,
     "start_time": "2024-03-05T08:16:11.009772",
     "status": "completed"
    },
    "tags": []
   },
   "outputs": [],
   "source": []
  },
  {
   "cell_type": "code",
   "execution_count": 5,
   "id": "00dd04dd",
   "metadata": {
    "execution": {
     "iopub.execute_input": "2024-03-05T08:16:11.044798Z",
     "iopub.status.busy": "2024-03-05T08:16:11.044429Z",
     "iopub.status.idle": "2024-03-05T08:22:33.872531Z",
     "shell.execute_reply": "2024-03-05T08:22:33.871545Z"
    },
    "papermill": {
     "duration": 382.842883,
     "end_time": "2024-03-05T08:22:33.874616",
     "exception": false,
     "start_time": "2024-03-05T08:16:11.031733",
     "status": "completed"
    },
    "tags": []
   },
   "outputs": [
    {
     "name": "stdout",
     "output_type": "stream",
     "text": [
      "Train dataset week range: 0-91\n",
      "Step: set_column_info_step, execution_time: 0.10432720184326172\n",
      "Step: set_types, execution_time: 11.852066040039062\n",
      "Step: process_categorical, execution_time: 25.823569297790527\n",
      "Step: process_person_table, execution_time: 0.38278961181640625\n",
      "Create 170 new columns as one hot encoding\n",
      "Step: one_hot_encoding_for_depth1, execution_time: 8.660043954849243\n",
      "Create 172 new columns as pairwise dates diff\n",
      "Step: pairwise_diff_raw_dates, execution_time: 1.345088005065918\n",
      "Step: aggregate_depth_table, execution_time: 14.891955137252808\n",
      "Drop 251 columns as copy\n",
      "Step: drop_equal_columns, execution_time: 5.193339109420776\n",
      "Drop 37 columns as variable enum\n",
      "Step: drop_variable_enum_features, execution_time: 1.2687008380889893\n",
      "Drop 353 columns as almost null\n",
      "Step: drop_almost_null_features_respect_to_target, execution_time: 223.04483890533447\n",
      "Step: join_table, execution_time: 11.006618976593018\n",
      "Create 94 new columns as money feature fraction with base 'credamount_770A'\n",
      "Step: create_money_feature_fraction_credamount_770A, execution_time: 0.8351907730102539\n",
      "Create 94 new columns as money feature fraction with base 'maininc_215A'\n",
      "Step: create_money_feature_fraction_maininc_215A, execution_time: 5.227361679077148\n",
      "Create 94 new columns as money feature fraction with base 'mainoccupationinc_384A'\n",
      "Step: create_money_feature_fraction_mainoccupationinc_384A, execution_time: 0.7846717834472656\n",
      "Create 94 new columns as money feature fraction with base 'mean_amount_416A'\n",
      "Step: create_money_feature_fraction_mean_amount_416A, execution_time: 5.403595924377441\n",
      "Create 60 new columns as feature mismatch\n",
      "Step: generate_mismatch_features, execution_time: 43.19977021217346\n",
      "Step: fill_nulls, execution_time: 0.12353515625\n",
      "Step: reduce_memory_usage, execution_time: 12.519395112991333\n"
     ]
    },
    {
     "data": {
      "text/plain": [
       "0"
      ]
     },
     "execution_count": 5,
     "metadata": {},
     "output_type": "execute_result"
    }
   ],
   "source": [
    "train_dataset = data_loader.load_train_dataset()\n",
    "print(\"Train dataset week range: {}-{}\".format(train_dataset.get_base()[\"WEEK_NUM\"].min(), train_dataset.get_base()[\"WEEK_NUM\"].max()))\n",
    "gc.collect()\n",
    "train_df, columns_info = preprocessor.process_train_dataset(train_dataset, columns_info)\n",
    "del train_dataset\n",
    "\n",
    "gc.collect()"
   ]
  },
  {
   "cell_type": "code",
   "execution_count": 6,
   "id": "85737210",
   "metadata": {
    "execution": {
     "iopub.execute_input": "2024-03-05T08:22:33.901751Z",
     "iopub.status.busy": "2024-03-05T08:22:33.901357Z",
     "iopub.status.idle": "2024-03-05T08:23:14.831724Z",
     "shell.execute_reply": "2024-03-05T08:23:14.830688Z"
    },
    "papermill": {
     "duration": 40.946759,
     "end_time": "2024-03-05T08:23:14.834233",
     "exception": false,
     "start_time": "2024-03-05T08:22:33.887474",
     "status": "completed"
    },
    "tags": []
   },
   "outputs": [],
   "source": [
    "train_df.write_parquet(\"/kaggle/working/train_df.parquet\")"
   ]
  },
  {
   "cell_type": "code",
   "execution_count": 7,
   "id": "05785bb8",
   "metadata": {
    "execution": {
     "iopub.execute_input": "2024-03-05T08:23:15.922394Z",
     "iopub.status.busy": "2024-03-05T08:23:15.921498Z",
     "iopub.status.idle": "2024-03-05T08:23:15.931797Z",
     "shell.execute_reply": "2024-03-05T08:23:15.931008Z"
    },
    "papermill": {
     "duration": 0.056971,
     "end_time": "2024-03-05T08:23:15.934020",
     "exception": false,
     "start_time": "2024-03-05T08:23:15.877049",
     "status": "completed"
    },
    "tags": []
   },
   "outputs": [
    {
     "data": {
      "text/plain": [
       "7118.559410095215"
      ]
     },
     "execution_count": 7,
     "metadata": {},
     "output_type": "execute_result"
    }
   ],
   "source": [
    "train_df.estimated_size() / 1024 / 1024"
   ]
  },
  {
   "cell_type": "code",
   "execution_count": 8,
   "id": "2d4c9263",
   "metadata": {
    "execution": {
     "iopub.execute_input": "2024-03-05T08:23:16.008214Z",
     "iopub.status.busy": "2024-03-05T08:23:16.007174Z",
     "iopub.status.idle": "2024-03-05T08:23:16.057752Z",
     "shell.execute_reply": "2024-03-05T08:23:16.056568Z"
    },
    "papermill": {
     "duration": 0.1033,
     "end_time": "2024-03-05T08:23:16.063700",
     "exception": false,
     "start_time": "2024-03-05T08:23:15.960400",
     "status": "completed"
    },
    "tags": []
   },
   "outputs": [
    {
     "data": {
      "text/html": [
       "<div><style>\n",
       ".dataframe > thead > tr,\n",
       ".dataframe > tbody > tr {\n",
       "  text-align: right;\n",
       "  white-space: pre-wrap;\n",
       "}\n",
       "</style>\n",
       "<small>shape: (1_526_659, 1_175)</small><table border=\"1\" class=\"dataframe\"><thead><tr><th>case_id</th><th>date_decision</th><th>MONTH</th><th>WEEK_NUM</th><th>target</th><th>assignmentdate_238D</th><th>assignmentdate_4527235D</th><th>birthdate_574D</th><th>contractssum_5085716L</th><th>dateofbirth_337D</th><th>days120_123L</th><th>days180_256L</th><th>days30_165L</th><th>days360_512L</th><th>days90_310L</th><th>description_5085714M</th><th>education_1103M</th><th>education_88M</th><th>firstquarter_103L</th><th>fourthquarter_440L</th><th>maritalst_385M</th><th>maritalst_893M</th><th>pmtaverage_3A</th><th>pmtaverage_4527227A</th><th>pmtcount_4527229L</th><th>pmtcount_693L</th><th>pmtscount_423L</th><th>pmtssum_45A</th><th>requesttype_4525192L</th><th>responsedate_1012D</th><th>responsedate_4527233D</th><th>responsedate_4917613D</th><th>riskassesment_302T</th><th>secondquarter_766L</th><th>thirdquarter_1082L</th><th>assignmentdate_238D_birthdate_574D_diff</th><th>assignmentdate_238D_dateofbirth_337D_diff</th><th>&hellip;</th><th>responsedate_1012D_responsedate_4527233D_mismatch</th><th>numinstunpaidmax_3546851L_numinstunpaidmaxest_4493212L_mismatch</th><th>numinstregularpaid_973L_numinstregularpaidest_4493210L_mismatch</th><th>clientscnt_157L_clientscnt_304L_mismatch</th><th>clientscnt_157L_posfpd10lastmonth_333P_mismatch</th><th>clientscnt_157L_posfstqpd30lastmonth_3976962P_mismatch</th><th>clientscnt_157L_opencred_647L_mismatch</th><th>applicationscnt_1086L_clientscnt_304L_mismatch</th><th>applicationscnt_1086L_posfpd10lastmonth_333P_mismatch</th><th>applicationscnt_1086L_posfstqpd30lastmonth_3976962P_mismatch</th><th>applicationscnt_1086L_clientscnt_157L_mismatch</th><th>applicationscnt_1086L_opencred_647L_mismatch</th><th>pmtcount_4527229L_pmtcount_693L_mismatch</th><th>numinstpaid_4499208L_numinstregularpaidest_4493210L_mismatch</th><th>numinstpaid_4499208L_numinstregularpaid_973L_mismatch</th><th>maxdpdlast3m_392P_maxdpdlast6m_474P_mismatch</th><th>credamount_770A_disbursedcredamount_1113A_mismatch</th><th>assignmentdate_238D_responsedate_4527233D_mismatch</th><th>assignmentdate_238D_assignmentdate_4527235D_mismatch</th><th>currdebt_22A_sumoutstandtotalest_4493215A_mismatch</th><th>currdebt_22A_totaldebt_9A_mismatch</th><th>currdebt_22A_sumoutstandtotal_3546847A_mismatch</th><th>downpmt_116A_posfpd10lastmonth_333P_mismatch</th><th>downpmt_116A_posfstqpd30lastmonth_3976962P_mismatch</th><th>downpmt_116A_opencred_647L_mismatch</th><th>disbursedcredamount_1113A_inittransactionamount_650A_mismatch</th><th>applicationscnt_464L_applicationscnt_629L_mismatch</th><th>applicationscnt_464L_opencred_647L_mismatch</th><th>maxdpdlast12m_727P_maxdpdlast9m_1059P_mismatch</th><th>mindbddpdlast24m_3658935P_mindbdtollast24m_4525191P_mismatch</th><th>numinsttopaygr_769L_numinsttopaygrest_4493213L_mismatch</th><th>sumoutstandtotal_3546847A_sumoutstandtotalest_4493215A_mismatch</th><th>sumoutstandtotal_3546847A_totaldebt_9A_mismatch</th><th>pmtaverage_3A_pmtaverage_4527227A_mismatch</th><th>opencred_647L_posfpd10lastmonth_333P_mismatch</th><th>opencred_647L_posfstqpd30lastmonth_3976962P_mismatch</th><th>birthdate_574D_dateofbirth_337D_mismatch</th></tr><tr><td>i32</td><td>i16</td><td>i32</td><td>i8</td><td>i8</td><td>i16</td><td>i16</td><td>i16</td><td>f32</td><td>i16</td><td>f32</td><td>f32</td><td>f32</td><td>f32</td><td>f32</td><td>enum</td><td>enum</td><td>enum</td><td>f32</td><td>f32</td><td>enum</td><td>enum</td><td>f32</td><td>f32</td><td>f32</td><td>f32</td><td>f32</td><td>f32</td><td>enum</td><td>i16</td><td>i16</td><td>i16</td><td>enum</td><td>f32</td><td>f32</td><td>i16</td><td>i32</td><td>&hellip;</td><td>f32</td><td>f32</td><td>f32</td><td>f32</td><td>f32</td><td>f32</td><td>f32</td><td>f32</td><td>f32</td><td>f32</td><td>f32</td><td>f32</td><td>f32</td><td>f32</td><td>f32</td><td>f32</td><td>f32</td><td>f32</td><td>f32</td><td>f32</td><td>f32</td><td>f32</td><td>f32</td><td>f32</td><td>f32</td><td>f32</td><td>f32</td><td>f32</td><td>f32</td><td>f32</td><td>f32</td><td>f32</td><td>f32</td><td>f32</td><td>f32</td><td>f32</td><td>f32</td></tr></thead><tbody><tr><td>0</td><td>17899</td><td>201901</td><td>0</td><td>0</td><td>null</td><td>null</td><td>null</td><td>null</td><td>null</td><td>null</td><td>null</td><td>null</td><td>null</td><td>null</td><td>null</td><td>null</td><td>null</td><td>null</td><td>null</td><td>null</td><td>null</td><td>null</td><td>null</td><td>null</td><td>null</td><td>null</td><td>null</td><td>null</td><td>null</td><td>null</td><td>null</td><td>null</td><td>null</td><td>null</td><td>null</td><td>null</td><td>&hellip;</td><td>null</td><td>null</td><td>null</td><td>1.0</td><td>1.0</td><td>null</td><td>null</td><td>1.0</td><td>1.0</td><td>null</td><td>1.0</td><td>null</td><td>null</td><td>null</td><td>null</td><td>1.0</td><td>1.0</td><td>null</td><td>null</td><td>null</td><td>1.0</td><td>null</td><td>1.0</td><td>null</td><td>null</td><td>null</td><td>1.0</td><td>null</td><td>1.0</td><td>null</td><td>null</td><td>null</td><td>null</td><td>null</td><td>null</td><td>null</td><td>null</td></tr><tr><td>1</td><td>17899</td><td>201901</td><td>0</td><td>0</td><td>null</td><td>null</td><td>null</td><td>null</td><td>null</td><td>null</td><td>null</td><td>null</td><td>null</td><td>null</td><td>null</td><td>null</td><td>null</td><td>null</td><td>null</td><td>null</td><td>null</td><td>null</td><td>null</td><td>null</td><td>null</td><td>null</td><td>null</td><td>null</td><td>null</td><td>null</td><td>null</td><td>null</td><td>null</td><td>null</td><td>null</td><td>null</td><td>&hellip;</td><td>null</td><td>null</td><td>null</td><td>0.0</td><td>0.0</td><td>null</td><td>null</td><td>1.0</td><td>1.0</td><td>null</td><td>0.0</td><td>null</td><td>null</td><td>null</td><td>null</td><td>1.0</td><td>1.0</td><td>null</td><td>null</td><td>null</td><td>1.0</td><td>null</td><td>1.0</td><td>null</td><td>null</td><td>null</td><td>1.0</td><td>null</td><td>1.0</td><td>null</td><td>null</td><td>null</td><td>null</td><td>null</td><td>null</td><td>null</td><td>null</td></tr><tr><td>2</td><td>17900</td><td>201901</td><td>0</td><td>0</td><td>null</td><td>null</td><td>null</td><td>null</td><td>null</td><td>null</td><td>null</td><td>null</td><td>null</td><td>null</td><td>null</td><td>null</td><td>null</td><td>null</td><td>null</td><td>null</td><td>null</td><td>null</td><td>null</td><td>null</td><td>null</td><td>null</td><td>null</td><td>null</td><td>null</td><td>null</td><td>null</td><td>null</td><td>null</td><td>null</td><td>null</td><td>null</td><td>&hellip;</td><td>null</td><td>null</td><td>null</td><td>1.0</td><td>1.0</td><td>null</td><td>1.0</td><td>1.0</td><td>1.0</td><td>null</td><td>1.0</td><td>1.0</td><td>null</td><td>null</td><td>null</td><td>1.0</td><td>1.0</td><td>null</td><td>null</td><td>null</td><td>1.0</td><td>null</td><td>1.0</td><td>null</td><td>1.0</td><td>null</td><td>1.0</td><td>1.0</td><td>1.0</td><td>null</td><td>null</td><td>null</td><td>null</td><td>null</td><td>1.0</td><td>null</td><td>null</td></tr><tr><td>3</td><td>17899</td><td>201901</td><td>0</td><td>0</td><td>null</td><td>null</td><td>null</td><td>null</td><td>null</td><td>null</td><td>null</td><td>null</td><td>null</td><td>null</td><td>null</td><td>null</td><td>null</td><td>null</td><td>null</td><td>null</td><td>null</td><td>null</td><td>null</td><td>null</td><td>null</td><td>null</td><td>null</td><td>null</td><td>null</td><td>null</td><td>null</td><td>null</td><td>null</td><td>null</td><td>null</td><td>null</td><td>&hellip;</td><td>null</td><td>null</td><td>null</td><td>1.0</td><td>1.0</td><td>null</td><td>1.0</td><td>1.0</td><td>1.0</td><td>null</td><td>1.0</td><td>1.0</td><td>null</td><td>null</td><td>null</td><td>1.0</td><td>1.0</td><td>null</td><td>null</td><td>null</td><td>1.0</td><td>null</td><td>1.0</td><td>null</td><td>1.0</td><td>null</td><td>0.0</td><td>0.0</td><td>1.0</td><td>null</td><td>null</td><td>null</td><td>null</td><td>null</td><td>1.0</td><td>null</td><td>null</td></tr><tr><td>4</td><td>17900</td><td>201901</td><td>0</td><td>1</td><td>null</td><td>null</td><td>null</td><td>null</td><td>null</td><td>null</td><td>null</td><td>null</td><td>null</td><td>null</td><td>null</td><td>null</td><td>null</td><td>null</td><td>null</td><td>null</td><td>null</td><td>null</td><td>null</td><td>null</td><td>null</td><td>null</td><td>null</td><td>null</td><td>null</td><td>null</td><td>null</td><td>null</td><td>null</td><td>null</td><td>null</td><td>null</td><td>&hellip;</td><td>null</td><td>null</td><td>null</td><td>1.0</td><td>1.0</td><td>null</td><td>1.0</td><td>1.0</td><td>1.0</td><td>null</td><td>1.0</td><td>1.0</td><td>null</td><td>null</td><td>null</td><td>1.0</td><td>1.0</td><td>null</td><td>null</td><td>null</td><td>1.0</td><td>null</td><td>1.0</td><td>null</td><td>1.0</td><td>null</td><td>1.0</td><td>1.0</td><td>1.0</td><td>null</td><td>null</td><td>null</td><td>null</td><td>null</td><td>1.0</td><td>null</td><td>null</td></tr><tr><td>5</td><td>17898</td><td>201901</td><td>0</td><td>0</td><td>null</td><td>null</td><td>null</td><td>null</td><td>null</td><td>null</td><td>null</td><td>null</td><td>null</td><td>null</td><td>null</td><td>null</td><td>null</td><td>null</td><td>null</td><td>null</td><td>null</td><td>null</td><td>null</td><td>null</td><td>null</td><td>null</td><td>null</td><td>null</td><td>null</td><td>null</td><td>null</td><td>null</td><td>null</td><td>null</td><td>null</td><td>null</td><td>&hellip;</td><td>null</td><td>null</td><td>null</td><td>1.0</td><td>1.0</td><td>1.0</td><td>1.0</td><td>1.0</td><td>1.0</td><td>1.0</td><td>1.0</td><td>1.0</td><td>null</td><td>null</td><td>null</td><td>null</td><td>0.0</td><td>null</td><td>null</td><td>null</td><td>1.0</td><td>null</td><td>1.0</td><td>1.0</td><td>1.0</td><td>1.0</td><td>0.0</td><td>0.0</td><td>null</td><td>null</td><td>null</td><td>null</td><td>null</td><td>null</td><td>1.0</td><td>1.0</td><td>null</td></tr><tr><td>6</td><td>17899</td><td>201901</td><td>0</td><td>0</td><td>null</td><td>null</td><td>null</td><td>null</td><td>null</td><td>null</td><td>null</td><td>null</td><td>null</td><td>null</td><td>null</td><td>null</td><td>null</td><td>null</td><td>null</td><td>null</td><td>null</td><td>null</td><td>null</td><td>null</td><td>null</td><td>null</td><td>null</td><td>null</td><td>null</td><td>null</td><td>null</td><td>null</td><td>null</td><td>null</td><td>null</td><td>null</td><td>&hellip;</td><td>null</td><td>null</td><td>null</td><td>1.0</td><td>1.0</td><td>1.0</td><td>1.0</td><td>1.0</td><td>1.0</td><td>1.0</td><td>1.0</td><td>1.0</td><td>null</td><td>null</td><td>null</td><td>1.0</td><td>1.0</td><td>null</td><td>null</td><td>null</td><td>1.0</td><td>null</td><td>1.0</td><td>1.0</td><td>1.0</td><td>null</td><td>1.0</td><td>1.0</td><td>1.0</td><td>null</td><td>null</td><td>null</td><td>null</td><td>null</td><td>1.0</td><td>1.0</td><td>null</td></tr><tr><td>7</td><td>17899</td><td>201901</td><td>0</td><td>0</td><td>null</td><td>null</td><td>null</td><td>null</td><td>null</td><td>null</td><td>null</td><td>null</td><td>null</td><td>null</td><td>null</td><td>null</td><td>null</td><td>null</td><td>null</td><td>null</td><td>null</td><td>null</td><td>null</td><td>null</td><td>null</td><td>null</td><td>null</td><td>null</td><td>null</td><td>null</td><td>null</td><td>null</td><td>null</td><td>null</td><td>null</td><td>null</td><td>&hellip;</td><td>null</td><td>null</td><td>null</td><td>1.0</td><td>1.0</td><td>1.0</td><td>null</td><td>1.0</td><td>1.0</td><td>1.0</td><td>1.0</td><td>null</td><td>null</td><td>null</td><td>null</td><td>null</td><td>0.0</td><td>null</td><td>null</td><td>null</td><td>1.0</td><td>null</td><td>1.0</td><td>1.0</td><td>null</td><td>1.0</td><td>1.0</td><td>null</td><td>null</td><td>null</td><td>null</td><td>null</td><td>null</td><td>null</td><td>null</td><td>null</td><td>null</td></tr><tr><td>8</td><td>17899</td><td>201901</td><td>0</td><td>0</td><td>null</td><td>null</td><td>null</td><td>null</td><td>null</td><td>null</td><td>null</td><td>null</td><td>null</td><td>null</td><td>null</td><td>null</td><td>null</td><td>null</td><td>null</td><td>null</td><td>null</td><td>null</td><td>null</td><td>null</td><td>null</td><td>null</td><td>null</td><td>null</td><td>null</td><td>null</td><td>null</td><td>null</td><td>null</td><td>null</td><td>null</td><td>null</td><td>&hellip;</td><td>null</td><td>null</td><td>null</td><td>1.0</td><td>1.0</td><td>1.0</td><td>null</td><td>1.0</td><td>1.0</td><td>1.0</td><td>1.0</td><td>null</td><td>null</td><td>null</td><td>null</td><td>null</td><td>1.0</td><td>null</td><td>null</td><td>null</td><td>1.0</td><td>null</td><td>1.0</td><td>1.0</td><td>null</td><td>null</td><td>1.0</td><td>null</td><td>null</td><td>null</td><td>null</td><td>null</td><td>null</td><td>null</td><td>null</td><td>null</td><td>null</td></tr><tr><td>9</td><td>17899</td><td>201901</td><td>0</td><td>0</td><td>null</td><td>null</td><td>null</td><td>null</td><td>null</td><td>null</td><td>null</td><td>null</td><td>null</td><td>null</td><td>null</td><td>null</td><td>null</td><td>null</td><td>null</td><td>null</td><td>null</td><td>null</td><td>null</td><td>null</td><td>null</td><td>null</td><td>null</td><td>null</td><td>null</td><td>null</td><td>null</td><td>null</td><td>null</td><td>null</td><td>null</td><td>null</td><td>&hellip;</td><td>null</td><td>null</td><td>null</td><td>1.0</td><td>1.0</td><td>1.0</td><td>null</td><td>1.0</td><td>1.0</td><td>1.0</td><td>1.0</td><td>null</td><td>null</td><td>null</td><td>null</td><td>null</td><td>1.0</td><td>null</td><td>null</td><td>null</td><td>1.0</td><td>null</td><td>1.0</td><td>1.0</td><td>null</td><td>null</td><td>1.0</td><td>null</td><td>null</td><td>null</td><td>null</td><td>null</td><td>null</td><td>null</td><td>null</td><td>null</td><td>null</td></tr><tr><td>10</td><td>17899</td><td>201901</td><td>0</td><td>0</td><td>null</td><td>null</td><td>null</td><td>null</td><td>null</td><td>null</td><td>null</td><td>null</td><td>null</td><td>null</td><td>null</td><td>null</td><td>null</td><td>null</td><td>null</td><td>null</td><td>null</td><td>null</td><td>null</td><td>null</td><td>null</td><td>null</td><td>null</td><td>null</td><td>null</td><td>null</td><td>null</td><td>null</td><td>null</td><td>null</td><td>null</td><td>null</td><td>&hellip;</td><td>null</td><td>null</td><td>null</td><td>1.0</td><td>1.0</td><td>1.0</td><td>0.0</td><td>1.0</td><td>1.0</td><td>1.0</td><td>1.0</td><td>0.0</td><td>null</td><td>null</td><td>null</td><td>1.0</td><td>1.0</td><td>null</td><td>null</td><td>null</td><td>1.0</td><td>1.0</td><td>1.0</td><td>1.0</td><td>0.0</td><td>null</td><td>1.0</td><td>0.0</td><td>1.0</td><td>null</td><td>null</td><td>null</td><td>1.0</td><td>null</td><td>0.0</td><td>0.0</td><td>null</td></tr><tr><td>11</td><td>17899</td><td>201901</td><td>0</td><td>0</td><td>null</td><td>null</td><td>null</td><td>null</td><td>null</td><td>null</td><td>null</td><td>null</td><td>null</td><td>null</td><td>null</td><td>null</td><td>null</td><td>null</td><td>null</td><td>null</td><td>null</td><td>null</td><td>null</td><td>null</td><td>null</td><td>null</td><td>null</td><td>null</td><td>null</td><td>null</td><td>null</td><td>null</td><td>null</td><td>null</td><td>null</td><td>null</td><td>&hellip;</td><td>null</td><td>null</td><td>null</td><td>1.0</td><td>1.0</td><td>null</td><td>null</td><td>1.0</td><td>1.0</td><td>null</td><td>1.0</td><td>null</td><td>null</td><td>null</td><td>null</td><td>null</td><td>1.0</td><td>null</td><td>null</td><td>null</td><td>1.0</td><td>null</td><td>1.0</td><td>null</td><td>null</td><td>null</td><td>0.0</td><td>null</td><td>null</td><td>null</td><td>null</td><td>null</td><td>null</td><td>null</td><td>null</td><td>null</td><td>null</td></tr><tr><td>&hellip;</td><td>&hellip;</td><td>&hellip;</td><td>&hellip;</td><td>&hellip;</td><td>&hellip;</td><td>&hellip;</td><td>&hellip;</td><td>&hellip;</td><td>&hellip;</td><td>&hellip;</td><td>&hellip;</td><td>&hellip;</td><td>&hellip;</td><td>&hellip;</td><td>&hellip;</td><td>&hellip;</td><td>&hellip;</td><td>&hellip;</td><td>&hellip;</td><td>&hellip;</td><td>&hellip;</td><td>&hellip;</td><td>&hellip;</td><td>&hellip;</td><td>&hellip;</td><td>&hellip;</td><td>&hellip;</td><td>&hellip;</td><td>&hellip;</td><td>&hellip;</td><td>&hellip;</td><td>&hellip;</td><td>&hellip;</td><td>&hellip;</td><td>&hellip;</td><td>&hellip;</td><td>&hellip;</td><td>&hellip;</td><td>&hellip;</td><td>&hellip;</td><td>&hellip;</td><td>&hellip;</td><td>&hellip;</td><td>&hellip;</td><td>&hellip;</td><td>&hellip;</td><td>&hellip;</td><td>&hellip;</td><td>&hellip;</td><td>&hellip;</td><td>&hellip;</td><td>&hellip;</td><td>&hellip;</td><td>&hellip;</td><td>&hellip;</td><td>&hellip;</td><td>&hellip;</td><td>&hellip;</td><td>&hellip;</td><td>&hellip;</td><td>&hellip;</td><td>&hellip;</td><td>&hellip;</td><td>&hellip;</td><td>&hellip;</td><td>&hellip;</td><td>&hellip;</td><td>&hellip;</td><td>&hellip;</td><td>&hellip;</td><td>&hellip;</td><td>&hellip;</td><td>&hellip;</td><td>&hellip;</td></tr><tr><td>2703442</td><td>18540</td><td>202010</td><td>91</td><td>0</td><td>null</td><td>null</td><td>null</td><td>447606.65625</td><td>-6820</td><td>0.0</td><td>0.0</td><td>0.0</td><td>1.0</td><td>0.0</td><td>&quot;2fc785b2&quot;</td><td>&quot;6b2ae0fa&quot;</td><td>&quot;a55475b1&quot;</td><td>3.0</td><td>6.0</td><td>&quot;3439d993&quot;</td><td>&quot;a55475b1&quot;</td><td>null</td><td>null</td><td>null</td><td>null</td><td>null</td><td>null</td><td>&quot;__UNKNOWN__&quot;</td><td>null</td><td>null</td><td>18554</td><td>&quot;__UNKNOWN__&quot;</td><td>1.0</td><td>8.0</td><td>null</td><td>null</td><td>&hellip;</td><td>null</td><td>1.0</td><td>1.0</td><td>1.0</td><td>1.0</td><td>0.0</td><td>1.0</td><td>1.0</td><td>1.0</td><td>0.0</td><td>1.0</td><td>1.0</td><td>null</td><td>1.0</td><td>1.0</td><td>0.0</td><td>1.0</td><td>null</td><td>null</td><td>1.0</td><td>1.0</td><td>1.0</td><td>1.0</td><td>0.0</td><td>1.0</td><td>null</td><td>1.0</td><td>1.0</td><td>1.0</td><td>1.0</td><td>1.0</td><td>1.0</td><td>1.0</td><td>null</td><td>1.0</td><td>0.0</td><td>null</td></tr><tr><td>2703443</td><td>18540</td><td>202010</td><td>91</td><td>0</td><td>null</td><td>null</td><td>null</td><td>2.263403e6</td><td>-365</td><td>2.0</td><td>2.0</td><td>1.0</td><td>7.0</td><td>2.0</td><td>&quot;2fc785b2&quot;</td><td>&quot;717ddd49&quot;</td><td>&quot;a55475b1&quot;</td><td>2.0</td><td>5.0</td><td>&quot;3439d993&quot;</td><td>&quot;a55475b1&quot;</td><td>null</td><td>null</td><td>null</td><td>null</td><td>null</td><td>null</td><td>&quot;__UNKNOWN__&quot;</td><td>null</td><td>null</td><td>18543</td><td>&quot;__UNKNOWN__&quot;</td><td>2.0</td><td>3.0</td><td>null</td><td>null</td><td>&hellip;</td><td>null</td><td>1.0</td><td>1.0</td><td>1.0</td><td>1.0</td><td>1.0</td><td>1.0</td><td>1.0</td><td>1.0</td><td>1.0</td><td>1.0</td><td>1.0</td><td>null</td><td>1.0</td><td>1.0</td><td>1.0</td><td>1.0</td><td>null</td><td>null</td><td>1.0</td><td>1.0</td><td>1.0</td><td>1.0</td><td>1.0</td><td>1.0</td><td>null</td><td>1.0</td><td>1.0</td><td>0.0</td><td>1.0</td><td>1.0</td><td>1.0</td><td>1.0</td><td>null</td><td>1.0</td><td>1.0</td><td>null</td></tr><tr><td>2703445</td><td>18540</td><td>202010</td><td>91</td><td>0</td><td>null</td><td>null</td><td>null</td><td>null</td><td>-153</td><td>1.0</td><td>1.0</td><td>0.0</td><td>2.0</td><td>1.0</td><td>&quot;2fc785b2&quot;</td><td>&quot;6b2ae0fa&quot;</td><td>&quot;a55475b1&quot;</td><td>1.0</td><td>3.0</td><td>&quot;3439d993&quot;</td><td>&quot;a55475b1&quot;</td><td>null</td><td>null</td><td>null</td><td>null</td><td>null</td><td>null</td><td>&quot;__UNKNOWN__&quot;</td><td>null</td><td>null</td><td>18554</td><td>&quot;__UNKNOWN__&quot;</td><td>1.0</td><td>4.0</td><td>null</td><td>null</td><td>&hellip;</td><td>null</td><td>1.0</td><td>1.0</td><td>1.0</td><td>1.0</td><td>1.0</td><td>1.0</td><td>1.0</td><td>1.0</td><td>1.0</td><td>1.0</td><td>1.0</td><td>null</td><td>1.0</td><td>1.0</td><td>1.0</td><td>1.0</td><td>null</td><td>null</td><td>1.0</td><td>1.0</td><td>1.0</td><td>1.0</td><td>1.0</td><td>1.0</td><td>null</td><td>1.0</td><td>1.0</td><td>1.0</td><td>1.0</td><td>1.0</td><td>1.0</td><td>1.0</td><td>null</td><td>1.0</td><td>1.0</td><td>null</td></tr><tr><td>2703446</td><td>18540</td><td>202010</td><td>91</td><td>0</td><td>null</td><td>null</td><td>null</td><td>313740.25</td><td>-5145</td><td>3.0</td><td>3.0</td><td>1.0</td><td>5.0</td><td>1.0</td><td>&quot;2fc785b2&quot;</td><td>&quot;a55475b1&quot;</td><td>&quot;a55475b1&quot;</td><td>2.0</td><td>3.0</td><td>&quot;a55475b1&quot;</td><td>&quot;a55475b1&quot;</td><td>null</td><td>null</td><td>null</td><td>null</td><td>null</td><td>null</td><td>&quot;__UNKNOWN__&quot;</td><td>null</td><td>null</td><td>18554</td><td>&quot;__UNKNOWN__&quot;</td><td>3.0</td><td>0.0</td><td>null</td><td>null</td><td>&hellip;</td><td>null</td><td>1.0</td><td>1.0</td><td>1.0</td><td>1.0</td><td>1.0</td><td>1.0</td><td>1.0</td><td>1.0</td><td>1.0</td><td>1.0</td><td>1.0</td><td>null</td><td>1.0</td><td>1.0</td><td>1.0</td><td>1.0</td><td>null</td><td>null</td><td>1.0</td><td>1.0</td><td>1.0</td><td>1.0</td><td>1.0</td><td>1.0</td><td>null</td><td>1.0</td><td>1.0</td><td>1.0</td><td>0.0</td><td>1.0</td><td>1.0</td><td>1.0</td><td>null</td><td>1.0</td><td>1.0</td><td>null</td></tr><tr><td>2703447</td><td>18540</td><td>202010</td><td>91</td><td>0</td><td>null</td><td>null</td><td>null</td><td>424142.1875</td><td>-8707</td><td>1.0</td><td>1.0</td><td>0.0</td><td>1.0</td><td>1.0</td><td>&quot;2fc785b2&quot;</td><td>&quot;a55475b1&quot;</td><td>&quot;a55475b1&quot;</td><td>1.0</td><td>0.0</td><td>&quot;a55475b1&quot;</td><td>&quot;a55475b1&quot;</td><td>null</td><td>null</td><td>null</td><td>null</td><td>null</td><td>null</td><td>&quot;__UNKNOWN__&quot;</td><td>null</td><td>null</td><td>18553</td><td>&quot;__UNKNOWN__&quot;</td><td>1.0</td><td>1.0</td><td>null</td><td>null</td><td>&hellip;</td><td>null</td><td>1.0</td><td>1.0</td><td>1.0</td><td>1.0</td><td>1.0</td><td>1.0</td><td>1.0</td><td>1.0</td><td>1.0</td><td>1.0</td><td>1.0</td><td>null</td><td>1.0</td><td>1.0</td><td>1.0</td><td>1.0</td><td>null</td><td>null</td><td>1.0</td><td>1.0</td><td>1.0</td><td>1.0</td><td>1.0</td><td>1.0</td><td>null</td><td>1.0</td><td>1.0</td><td>1.0</td><td>1.0</td><td>1.0</td><td>1.0</td><td>1.0</td><td>null</td><td>1.0</td><td>1.0</td><td>null</td></tr><tr><td>2703448</td><td>18540</td><td>202010</td><td>91</td><td>0</td><td>null</td><td>null</td><td>null</td><td>0.0</td><td>-1979</td><td>0.0</td><td>0.0</td><td>0.0</td><td>5.0</td><td>0.0</td><td>&quot;2fc785b2&quot;</td><td>&quot;a55475b1&quot;</td><td>&quot;a55475b1&quot;</td><td>8.0</td><td>3.0</td><td>&quot;3439d993&quot;</td><td>&quot;a55475b1&quot;</td><td>null</td><td>null</td><td>null</td><td>null</td><td>null</td><td>null</td><td>&quot;__UNKNOWN__&quot;</td><td>null</td><td>null</td><td>18554</td><td>&quot;__UNKNOWN__&quot;</td><td>1.0</td><td>2.0</td><td>null</td><td>null</td><td>&hellip;</td><td>null</td><td>1.0</td><td>1.0</td><td>1.0</td><td>1.0</td><td>1.0</td><td>1.0</td><td>1.0</td><td>1.0</td><td>1.0</td><td>1.0</td><td>1.0</td><td>null</td><td>1.0</td><td>1.0</td><td>1.0</td><td>1.0</td><td>null</td><td>null</td><td>1.0</td><td>1.0</td><td>1.0</td><td>1.0</td><td>1.0</td><td>1.0</td><td>null</td><td>1.0</td><td>1.0</td><td>1.0</td><td>1.0</td><td>1.0</td><td>1.0</td><td>1.0</td><td>null</td><td>1.0</td><td>1.0</td><td>null</td></tr><tr><td>2703449</td><td>18540</td><td>202010</td><td>91</td><td>0</td><td>null</td><td>null</td><td>null</td><td>194907.34375</td><td>5599</td><td>1.0</td><td>1.0</td><td>1.0</td><td>4.0</td><td>1.0</td><td>&quot;2fc785b2&quot;</td><td>&quot;a55475b1&quot;</td><td>&quot;a55475b1&quot;</td><td>3.0</td><td>4.0</td><td>&quot;a55475b1&quot;</td><td>&quot;a55475b1&quot;</td><td>null</td><td>null</td><td>null</td><td>null</td><td>null</td><td>null</td><td>&quot;__UNKNOWN__&quot;</td><td>null</td><td>null</td><td>18554</td><td>&quot;__UNKNOWN__&quot;</td><td>1.0</td><td>2.0</td><td>null</td><td>null</td><td>&hellip;</td><td>null</td><td>1.0</td><td>1.0</td><td>1.0</td><td>1.0</td><td>1.0</td><td>1.0</td><td>1.0</td><td>1.0</td><td>1.0</td><td>1.0</td><td>1.0</td><td>null</td><td>1.0</td><td>1.0</td><td>1.0</td><td>0.0</td><td>null</td><td>null</td><td>1.0</td><td>1.0</td><td>1.0</td><td>1.0</td><td>1.0</td><td>1.0</td><td>null</td><td>1.0</td><td>1.0</td><td>1.0</td><td>0.0</td><td>1.0</td><td>1.0</td><td>1.0</td><td>null</td><td>1.0</td><td>1.0</td><td>null</td></tr><tr><td>2703450</td><td>18540</td><td>202010</td><td>91</td><td>0</td><td>null</td><td>null</td><td>null</td><td>52863.589844</td><td>-3653</td><td>0.0</td><td>0.0</td><td>0.0</td><td>0.0</td><td>0.0</td><td>&quot;2fc785b2&quot;</td><td>&quot;a55475b1&quot;</td><td>&quot;a55475b1&quot;</td><td>0.0</td><td>1.0</td><td>&quot;a55475b1&quot;</td><td>&quot;a55475b1&quot;</td><td>null</td><td>null</td><td>null</td><td>null</td><td>null</td><td>null</td><td>&quot;__UNKNOWN__&quot;</td><td>null</td><td>null</td><td>18554</td><td>&quot;__UNKNOWN__&quot;</td><td>1.0</td><td>1.0</td><td>null</td><td>null</td><td>&hellip;</td><td>null</td><td>1.0</td><td>1.0</td><td>1.0</td><td>1.0</td><td>1.0</td><td>1.0</td><td>1.0</td><td>1.0</td><td>1.0</td><td>1.0</td><td>1.0</td><td>null</td><td>1.0</td><td>1.0</td><td>1.0</td><td>1.0</td><td>null</td><td>null</td><td>1.0</td><td>1.0</td><td>1.0</td><td>1.0</td><td>1.0</td><td>1.0</td><td>null</td><td>1.0</td><td>1.0</td><td>1.0</td><td>1.0</td><td>1.0</td><td>1.0</td><td>1.0</td><td>null</td><td>1.0</td><td>1.0</td><td>null</td></tr><tr><td>2703451</td><td>18540</td><td>202010</td><td>91</td><td>0</td><td>null</td><td>null</td><td>null</td><td>324608.53125</td><td>-7001</td><td>0.0</td><td>0.0</td><td>0.0</td><td>0.0</td><td>0.0</td><td>&quot;2fc785b2&quot;</td><td>&quot;a55475b1&quot;</td><td>&quot;a55475b1&quot;</td><td>1.0</td><td>0.0</td><td>&quot;a55475b1&quot;</td><td>&quot;a55475b1&quot;</td><td>null</td><td>null</td><td>null</td><td>null</td><td>null</td><td>null</td><td>&quot;__UNKNOWN__&quot;</td><td>null</td><td>null</td><td>18554</td><td>&quot;__UNKNOWN__&quot;</td><td>1.0</td><td>2.0</td><td>null</td><td>null</td><td>&hellip;</td><td>null</td><td>1.0</td><td>1.0</td><td>1.0</td><td>1.0</td><td>1.0</td><td>1.0</td><td>0.0</td><td>0.0</td><td>0.0</td><td>0.0</td><td>0.0</td><td>null</td><td>1.0</td><td>1.0</td><td>0.0</td><td>0.0</td><td>null</td><td>null</td><td>1.0</td><td>1.0</td><td>1.0</td><td>1.0</td><td>1.0</td><td>1.0</td><td>null</td><td>1.0</td><td>1.0</td><td>1.0</td><td>1.0</td><td>1.0</td><td>1.0</td><td>1.0</td><td>null</td><td>1.0</td><td>1.0</td><td>null</td></tr><tr><td>2703452</td><td>18540</td><td>202010</td><td>91</td><td>0</td><td>null</td><td>null</td><td>null</td><td>102738.757812</td><td>2769</td><td>2.0</td><td>2.0</td><td>0.0</td><td>3.0</td><td>2.0</td><td>&quot;2fc785b2&quot;</td><td>&quot;a55475b1&quot;</td><td>&quot;a55475b1&quot;</td><td>0.0</td><td>1.0</td><td>&quot;a55475b1&quot;</td><td>&quot;a55475b1&quot;</td><td>null</td><td>null</td><td>null</td><td>null</td><td>null</td><td>null</td><td>&quot;__UNKNOWN__&quot;</td><td>null</td><td>null</td><td>18554</td><td>&quot;__UNKNOWN__&quot;</td><td>0.0</td><td>4.0</td><td>null</td><td>null</td><td>&hellip;</td><td>null</td><td>1.0</td><td>1.0</td><td>1.0</td><td>1.0</td><td>1.0</td><td>1.0</td><td>1.0</td><td>1.0</td><td>1.0</td><td>1.0</td><td>1.0</td><td>null</td><td>1.0</td><td>1.0</td><td>1.0</td><td>1.0</td><td>null</td><td>null</td><td>1.0</td><td>1.0</td><td>1.0</td><td>1.0</td><td>1.0</td><td>1.0</td><td>null</td><td>1.0</td><td>1.0</td><td>1.0</td><td>0.0</td><td>1.0</td><td>1.0</td><td>1.0</td><td>null</td><td>1.0</td><td>1.0</td><td>null</td></tr><tr><td>2703453</td><td>18540</td><td>202010</td><td>91</td><td>0</td><td>null</td><td>null</td><td>null</td><td>212683.296875</td><td>-7274</td><td>2.0</td><td>2.0</td><td>1.0</td><td>4.0</td><td>1.0</td><td>&quot;2fc785b2&quot;</td><td>&quot;6b2ae0fa&quot;</td><td>&quot;a55475b1&quot;</td><td>1.0</td><td>3.0</td><td>&quot;3439d993&quot;</td><td>&quot;a55475b1&quot;</td><td>null</td><td>null</td><td>null</td><td>null</td><td>null</td><td>null</td><td>&quot;__UNKNOWN__&quot;</td><td>null</td><td>null</td><td>18552</td><td>&quot;__UNKNOWN__&quot;</td><td>2.0</td><td>1.0</td><td>null</td><td>null</td><td>&hellip;</td><td>null</td><td>1.0</td><td>0.0</td><td>0.0</td><td>1.0</td><td>1.0</td><td>1.0</td><td>0.0</td><td>0.0</td><td>0.0</td><td>0.0</td><td>0.0</td><td>null</td><td>1.0</td><td>0.0</td><td>1.0</td><td>1.0</td><td>null</td><td>null</td><td>1.0</td><td>1.0</td><td>1.0</td><td>1.0</td><td>1.0</td><td>1.0</td><td>null</td><td>1.0</td><td>1.0</td><td>1.0</td><td>1.0</td><td>1.0</td><td>1.0</td><td>1.0</td><td>null</td><td>1.0</td><td>1.0</td><td>null</td></tr><tr><td>2703454</td><td>18540</td><td>202010</td><td>91</td><td>0</td><td>null</td><td>null</td><td>null</td><td>42757.890625</td><td>-7945</td><td>1.0</td><td>1.0</td><td>0.0</td><td>1.0</td><td>0.0</td><td>&quot;2fc785b2&quot;</td><td>&quot;a55475b1&quot;</td><td>&quot;a55475b1&quot;</td><td>0.0</td><td>0.0</td><td>&quot;b6cabe76&quot;</td><td>&quot;a55475b1&quot;</td><td>null</td><td>null</td><td>null</td><td>null</td><td>null</td><td>null</td><td>&quot;__UNKNOWN__&quot;</td><td>null</td><td>null</td><td>18554</td><td>&quot;__UNKNOWN__&quot;</td><td>2.0</td><td>1.0</td><td>null</td><td>null</td><td>&hellip;</td><td>null</td><td>1.0</td><td>1.0</td><td>1.0</td><td>1.0</td><td>1.0</td><td>1.0</td><td>1.0</td><td>1.0</td><td>1.0</td><td>1.0</td><td>1.0</td><td>null</td><td>1.0</td><td>1.0</td><td>1.0</td><td>0.0</td><td>null</td><td>null</td><td>0.0</td><td>1.0</td><td>0.0</td><td>1.0</td><td>1.0</td><td>1.0</td><td>null</td><td>1.0</td><td>1.0</td><td>1.0</td><td>1.0</td><td>1.0</td><td>1.0</td><td>0.0</td><td>null</td><td>1.0</td><td>1.0</td><td>null</td></tr></tbody></table></div>"
      ],
      "text/plain": [
       "shape: (1_526_659, 1_175)\n",
       "┌─────────┬────────────┬────────┬──────────┬───┬────────────┬────────────┬────────────┬────────────┐\n",
       "│ case_id ┆ date_decis ┆ MONTH  ┆ WEEK_NUM ┆ … ┆ pmtaverage ┆ opencred_6 ┆ opencred_6 ┆ birthdate_ │\n",
       "│ ---     ┆ ion        ┆ ---    ┆ ---      ┆   ┆ _3A_pmtave ┆ 47L_posfpd ┆ 47L_posfst ┆ 574D_dateo │\n",
       "│ i32     ┆ ---        ┆ i32    ┆ i8       ┆   ┆ rage_45272 ┆ 10lastmont ┆ qpd30lastm ┆ fbirth_337 │\n",
       "│         ┆ i16        ┆        ┆          ┆   ┆ 27…        ┆ h_…        ┆ on…        ┆ D_…        │\n",
       "│         ┆            ┆        ┆          ┆   ┆ ---        ┆ ---        ┆ ---        ┆ ---        │\n",
       "│         ┆            ┆        ┆          ┆   ┆ f32        ┆ f32        ┆ f32        ┆ f32        │\n",
       "╞═════════╪════════════╪════════╪══════════╪═══╪════════════╪════════════╪════════════╪════════════╡\n",
       "│ 0       ┆ 17899      ┆ 201901 ┆ 0        ┆ … ┆ null       ┆ null       ┆ null       ┆ null       │\n",
       "│ 1       ┆ 17899      ┆ 201901 ┆ 0        ┆ … ┆ null       ┆ null       ┆ null       ┆ null       │\n",
       "│ 2       ┆ 17900      ┆ 201901 ┆ 0        ┆ … ┆ null       ┆ 1.0        ┆ null       ┆ null       │\n",
       "│ 3       ┆ 17899      ┆ 201901 ┆ 0        ┆ … ┆ null       ┆ 1.0        ┆ null       ┆ null       │\n",
       "│ …       ┆ …          ┆ …      ┆ …        ┆ … ┆ …          ┆ …          ┆ …          ┆ …          │\n",
       "│ 2703451 ┆ 18540      ┆ 202010 ┆ 91       ┆ … ┆ null       ┆ 1.0        ┆ 1.0        ┆ null       │\n",
       "│ 2703452 ┆ 18540      ┆ 202010 ┆ 91       ┆ … ┆ null       ┆ 1.0        ┆ 1.0        ┆ null       │\n",
       "│ 2703453 ┆ 18540      ┆ 202010 ┆ 91       ┆ … ┆ null       ┆ 1.0        ┆ 1.0        ┆ null       │\n",
       "│ 2703454 ┆ 18540      ┆ 202010 ┆ 91       ┆ … ┆ null       ┆ 1.0        ┆ 1.0        ┆ null       │\n",
       "└─────────┴────────────┴────────┴──────────┴───┴────────────┴────────────┴────────────┴────────────┘"
      ]
     },
     "execution_count": 8,
     "metadata": {},
     "output_type": "execute_result"
    }
   ],
   "source": [
    "train_df"
   ]
  },
  {
   "cell_type": "code",
   "execution_count": null,
   "id": "0b80f997",
   "metadata": {
    "papermill": {
     "duration": 0.042631,
     "end_time": "2024-03-05T08:23:16.134667",
     "exception": false,
     "start_time": "2024-03-05T08:23:16.092036",
     "status": "completed"
    },
    "tags": []
   },
   "outputs": [],
   "source": []
  },
  {
   "cell_type": "markdown",
   "id": "44868da5",
   "metadata": {
    "_kg_hide-input": true,
    "papermill": {
     "duration": 0.043931,
     "end_time": "2024-03-05T08:23:16.223190",
     "exception": false,
     "start_time": "2024-03-05T08:23:16.179259",
     "status": "completed"
    },
    "tags": []
   },
   "source": [
    "# Data visualization"
   ]
  },
  {
   "cell_type": "code",
   "execution_count": 9,
   "id": "af8d8f99",
   "metadata": {
    "execution": {
     "iopub.execute_input": "2024-03-05T08:23:16.252796Z",
     "iopub.status.busy": "2024-03-05T08:23:16.252099Z",
     "iopub.status.idle": "2024-03-05T08:23:16.255749Z",
     "shell.execute_reply": "2024-03-05T08:23:16.255034Z"
    },
    "papermill": {
     "duration": 0.020463,
     "end_time": "2024-03-05T08:23:16.257612",
     "exception": false,
     "start_time": "2024-03-05T08:23:16.237149",
     "status": "completed"
    },
    "tags": []
   },
   "outputs": [],
   "source": [
    "# train_dataset = data_loader.load_train_dataset()"
   ]
  },
  {
   "cell_type": "code",
   "execution_count": 10,
   "id": "f1f61da4",
   "metadata": {
    "execution": {
     "iopub.execute_input": "2024-03-05T08:23:16.286311Z",
     "iopub.status.busy": "2024-03-05T08:23:16.285925Z",
     "iopub.status.idle": "2024-03-05T08:23:16.289977Z",
     "shell.execute_reply": "2024-03-05T08:23:16.288916Z"
    },
    "papermill": {
     "duration": 0.020554,
     "end_time": "2024-03-05T08:23:16.291933",
     "exception": false,
     "start_time": "2024-03-05T08:23:16.271379",
     "status": "completed"
    },
    "tags": []
   },
   "outputs": [],
   "source": [
    "#[column for column in train_df.columns if \"amtdebitincoming_4809443A\" in column]"
   ]
  },
  {
   "cell_type": "code",
   "execution_count": 11,
   "id": "fb189fbf",
   "metadata": {
    "execution": {
     "iopub.execute_input": "2024-03-05T08:23:16.320829Z",
     "iopub.status.busy": "2024-03-05T08:23:16.320127Z",
     "iopub.status.idle": "2024-03-05T08:23:16.323733Z",
     "shell.execute_reply": "2024-03-05T08:23:16.323063Z"
    },
    "papermill": {
     "duration": 0.020211,
     "end_time": "2024-03-05T08:23:16.325467",
     "exception": false,
     "start_time": "2024-03-05T08:23:16.305256",
     "status": "completed"
    },
    "tags": []
   },
   "outputs": [],
   "source": [
    "# train_dataset.get_base()[\"target\"].mean()"
   ]
  },
  {
   "cell_type": "code",
   "execution_count": 12,
   "id": "cb632cdf",
   "metadata": {
    "execution": {
     "iopub.execute_input": "2024-03-05T08:23:16.354133Z",
     "iopub.status.busy": "2024-03-05T08:23:16.353255Z",
     "iopub.status.idle": "2024-03-05T08:23:16.357928Z",
     "shell.execute_reply": "2024-03-05T08:23:16.356974Z"
    },
    "papermill": {
     "duration": 0.021386,
     "end_time": "2024-03-05T08:23:16.360194",
     "exception": false,
     "start_time": "2024-03-05T08:23:16.338808",
     "status": "completed"
    },
    "tags": []
   },
   "outputs": [],
   "source": [
    "# tables = {name: table for name, table in train_dataset.get_depth_tables(1)}"
   ]
  },
  {
   "cell_type": "code",
   "execution_count": 13,
   "id": "134eaf4d",
   "metadata": {
    "execution": {
     "iopub.execute_input": "2024-03-05T08:23:16.388461Z",
     "iopub.status.busy": "2024-03-05T08:23:16.388036Z",
     "iopub.status.idle": "2024-03-05T08:23:16.392102Z",
     "shell.execute_reply": "2024-03-05T08:23:16.391384Z"
    },
    "papermill": {
     "duration": 0.020619,
     "end_time": "2024-03-05T08:23:16.394192",
     "exception": false,
     "start_time": "2024-03-05T08:23:16.373573",
     "status": "completed"
    },
    "tags": []
   },
   "outputs": [],
   "source": [
    "# applprev_1 = tables[\"applprev_1\"]"
   ]
  },
  {
   "cell_type": "code",
   "execution_count": 14,
   "id": "ee1846b7",
   "metadata": {
    "execution": {
     "iopub.execute_input": "2024-03-05T08:23:16.423222Z",
     "iopub.status.busy": "2024-03-05T08:23:16.422860Z",
     "iopub.status.idle": "2024-03-05T08:23:16.426909Z",
     "shell.execute_reply": "2024-03-05T08:23:16.425792Z"
    },
    "papermill": {
     "duration": 0.02128,
     "end_time": "2024-03-05T08:23:16.428922",
     "exception": false,
     "start_time": "2024-03-05T08:23:16.407642",
     "status": "completed"
    },
    "tags": []
   },
   "outputs": [],
   "source": [
    "# applprev_1[\"cancelreason_3545846M\"].value_counts().sort(\"count\")"
   ]
  },
  {
   "cell_type": "code",
   "execution_count": 15,
   "id": "aa41c050",
   "metadata": {
    "execution": {
     "iopub.execute_input": "2024-03-05T08:23:16.458446Z",
     "iopub.status.busy": "2024-03-05T08:23:16.457808Z",
     "iopub.status.idle": "2024-03-05T08:23:16.462156Z",
     "shell.execute_reply": "2024-03-05T08:23:16.461450Z"
    },
    "papermill": {
     "duration": 0.021339,
     "end_time": "2024-03-05T08:23:16.464051",
     "exception": false,
     "start_time": "2024-03-05T08:23:16.442712",
     "status": "completed"
    },
    "tags": []
   },
   "outputs": [],
   "source": [
    "# applprev_1.filter(applprev_1[\"approvaldate_319D\"] != applprev_1[\"creationdate_885D\"])"
   ]
  },
  {
   "cell_type": "code",
   "execution_count": 16,
   "id": "5c2913f0",
   "metadata": {
    "execution": {
     "iopub.execute_input": "2024-03-05T08:23:16.492467Z",
     "iopub.status.busy": "2024-03-05T08:23:16.491853Z",
     "iopub.status.idle": "2024-03-05T08:23:16.496054Z",
     "shell.execute_reply": "2024-03-05T08:23:16.495377Z"
    },
    "papermill": {
     "duration": 0.0207,
     "end_time": "2024-03-05T08:23:16.497902",
     "exception": false,
     "start_time": "2024-03-05T08:23:16.477202",
     "status": "completed"
    },
    "tags": []
   },
   "outputs": [],
   "source": [
    "# FreatureDescriptionGetter().get(\"deposit_1\")"
   ]
  },
  {
   "cell_type": "code",
   "execution_count": 17,
   "id": "74bc47b5",
   "metadata": {
    "execution": {
     "iopub.execute_input": "2024-03-05T08:23:16.527299Z",
     "iopub.status.busy": "2024-03-05T08:23:16.526748Z",
     "iopub.status.idle": "2024-03-05T08:23:16.530614Z",
     "shell.execute_reply": "2024-03-05T08:23:16.529778Z"
    },
    "papermill": {
     "duration": 0.020779,
     "end_time": "2024-03-05T08:23:16.532438",
     "exception": false,
     "start_time": "2024-03-05T08:23:16.511659",
     "status": "completed"
    },
    "tags": []
   },
   "outputs": [],
   "source": [
    "# def bucket_mean_split(x, y, buckets=100):\n",
    "#     x_buckets = []\n",
    "#     y_buckets = []\n",
    "\n",
    "#     x = np.array(x)\n",
    "#     y = np.array(y)\n",
    "#     x_quantiles = [np.quantile(x, i / buckets) for i in range(0, buckets + 1)]\n",
    "#     for i in range(0, buckets):\n",
    "#         filter = (x >= x_quantiles[i]) & (x <= x_quantiles[i + 1])\n",
    "#         x_buckets.append(np.mean(x[filter]))\n",
    "#         y_buckets.append(np.mean(y[filter]))\n",
    "#     return x_buckets, y_buckets"
   ]
  },
  {
   "cell_type": "code",
   "execution_count": 18,
   "id": "ffe5d9dd",
   "metadata": {
    "execution": {
     "iopub.execute_input": "2024-03-05T08:23:16.561937Z",
     "iopub.status.busy": "2024-03-05T08:23:16.561379Z",
     "iopub.status.idle": "2024-03-05T08:23:16.564671Z",
     "shell.execute_reply": "2024-03-05T08:23:16.564019Z"
    },
    "papermill": {
     "duration": 0.020722,
     "end_time": "2024-03-05T08:23:16.566429",
     "exception": false,
     "start_time": "2024-03-05T08:23:16.545707",
     "status": "completed"
    },
    "tags": []
   },
   "outputs": [],
   "source": [
    "# train[\"target\"].mean()"
   ]
  },
  {
   "cell_type": "code",
   "execution_count": 19,
   "id": "9f214376",
   "metadata": {
    "execution": {
     "iopub.execute_input": "2024-03-05T08:23:16.595370Z",
     "iopub.status.busy": "2024-03-05T08:23:16.594949Z",
     "iopub.status.idle": "2024-03-05T08:23:16.599106Z",
     "shell.execute_reply": "2024-03-05T08:23:16.598066Z"
    },
    "papermill": {
     "duration": 0.020588,
     "end_time": "2024-03-05T08:23:16.600957",
     "exception": false,
     "start_time": "2024-03-05T08:23:16.580369",
     "status": "completed"
    },
    "tags": []
   },
   "outputs": [],
   "source": [
    "# print(\"Mean target={} where actualdpdtolerance_344P != 0\".format(train[\"target\"].filter(train[\"actualdpdtolerance_344P\"] != 0).mean()))\n",
    "# print(\"Mean target={} where actualdpdtolerance_344P == 0\".format(train[\"target\"].filter(train[\"actualdpdtolerance_344P\"] == 0).mean()))\n",
    "# print(\"Mean target={} where actualdpdtolerance_344P is null\".format(train[\"target\"].filter(train[\"actualdpdtolerance_344P\"].is_null()).mean()))"
   ]
  },
  {
   "cell_type": "code",
   "execution_count": 20,
   "id": "19e0e7ad",
   "metadata": {
    "execution": {
     "iopub.execute_input": "2024-03-05T08:23:16.629408Z",
     "iopub.status.busy": "2024-03-05T08:23:16.628800Z",
     "iopub.status.idle": "2024-03-05T08:23:16.633356Z",
     "shell.execute_reply": "2024-03-05T08:23:16.632663Z"
    },
    "papermill": {
     "duration": 0.020985,
     "end_time": "2024-03-05T08:23:16.635228",
     "exception": false,
     "start_time": "2024-03-05T08:23:16.614243",
     "status": "completed"
    },
    "tags": []
   },
   "outputs": [],
   "source": [
    "# columns = [column for column in train.columns if (train[column].dtype == pl.Float64)]\n",
    "\n",
    "# figure, axis = plt.subplots(len(columns) // 5 + 1, 5, figsize=(15, 30))\n",
    "# for index, column in enumerate(columns):\n",
    "#     current_plot = axis[index // 5, index % 5]\n",
    "#     x = train[column]\n",
    "#     y = train[\"target\"]\n",
    "#     if (x.dtype == pl.String or x.dtype == pl.Boolean):\n",
    "#         continue\n",
    "#     filter = x.is_not_null()\n",
    "#     x = x.filter(filter)\n",
    "#     y = y.filter(filter)\n",
    "#     if (x.is_empty()):\n",
    "#         continue\n",
    "#     x_bucket, y_bucket = bucket_mean_split(x.to_numpy(), y.to_numpy(), buckets=100)\n",
    "#     current_plot.plot(x_bucket, y_bucket)\n",
    "#     current_plot.set_title(column)\n",
    "# plt.show()"
   ]
  },
  {
   "cell_type": "code",
   "execution_count": 21,
   "id": "060c99b3",
   "metadata": {
    "execution": {
     "iopub.execute_input": "2024-03-05T08:23:16.664409Z",
     "iopub.status.busy": "2024-03-05T08:23:16.663786Z",
     "iopub.status.idle": "2024-03-05T08:23:16.668008Z",
     "shell.execute_reply": "2024-03-05T08:23:16.667240Z"
    },
    "papermill": {
     "duration": 0.02082,
     "end_time": "2024-03-05T08:23:16.669973",
     "exception": false,
     "start_time": "2024-03-05T08:23:16.649153",
     "status": "completed"
    },
    "tags": []
   },
   "outputs": [],
   "source": [
    "# features = train_df.columns\n",
    "# features.remove(\"WEEK_NUM\")\n",
    "# features.remove(\"case_id\")\n",
    "# features.remove(\"target\")"
   ]
  },
  {
   "cell_type": "code",
   "execution_count": 22,
   "id": "8401dd03",
   "metadata": {
    "execution": {
     "iopub.execute_input": "2024-03-05T08:23:16.698557Z",
     "iopub.status.busy": "2024-03-05T08:23:16.697940Z",
     "iopub.status.idle": "2024-03-05T08:23:16.702164Z",
     "shell.execute_reply": "2024-03-05T08:23:16.701418Z"
    },
    "papermill": {
     "duration": 0.021026,
     "end_time": "2024-03-05T08:23:16.704192",
     "exception": false,
     "start_time": "2024-03-05T08:23:16.683166",
     "status": "completed"
    },
    "tags": []
   },
   "outputs": [],
   "source": [
    "# gc.collect()"
   ]
  },
  {
   "cell_type": "markdown",
   "id": "9aaf2d64",
   "metadata": {
    "papermill": {
     "duration": 0.012855,
     "end_time": "2024-03-05T08:23:16.730358",
     "exception": false,
     "start_time": "2024-03-05T08:23:16.717503",
     "status": "completed"
    },
    "tags": []
   },
   "source": [
    "### Feature Importance"
   ]
  },
  {
   "cell_type": "code",
   "execution_count": 23,
   "id": "15924ef2",
   "metadata": {
    "execution": {
     "iopub.execute_input": "2024-03-05T08:23:16.758783Z",
     "iopub.status.busy": "2024-03-05T08:23:16.758149Z",
     "iopub.status.idle": "2024-03-05T08:23:16.762930Z",
     "shell.execute_reply": "2024-03-05T08:23:16.762235Z"
    },
    "papermill": {
     "duration": 0.021389,
     "end_time": "2024-03-05T08:23:16.764894",
     "exception": false,
     "start_time": "2024-03-05T08:23:16.743505",
     "status": "completed"
    },
    "tags": []
   },
   "outputs": [],
   "source": [
    "# def train_rf(X, Y):    \n",
    "#     params = {\n",
    "#         \"boosting_type\": \"gbdt\",\n",
    "#         \"objective\": \"binary\",\n",
    "#         \"metric\": \"auc\",\n",
    "#         \"max_depth\": 8,\n",
    "#         \"max_bin\": 255,\n",
    "#         \"learning_rate\": 0.05,\n",
    "#         \"n_estimators\": 200,\n",
    "#         \"colsample_bytree\": 0.8, \n",
    "#         \"colsample_bynode\": 0.8,\n",
    "#         \"verbose\": -1,\n",
    "#         \"random_state\": 42,\n",
    "#         \"device\": \"gpu\",\n",
    "#     }\n",
    "    \n",
    "#     model = lgb.LGBMClassifier(**params)\n",
    "    \n",
    "#     model.fit(X.to_pandas(), Y.to_pandas())\n",
    "    \n",
    "#     # Get feature importances\n",
    "#     return pl.DataFrame({\n",
    "#         \"feature\": list(X.columns),\n",
    "#         \"feature_importance\": model.feature_importances_,\n",
    "#         \"train_score\": roc_auc_score(Y.to_pandas(), model.predict(X.to_pandas()))\n",
    "#     })"
   ]
  },
  {
   "cell_type": "code",
   "execution_count": 24,
   "id": "5a82c57b",
   "metadata": {
    "execution": {
     "iopub.execute_input": "2024-03-05T08:23:16.793408Z",
     "iopub.status.busy": "2024-03-05T08:23:16.792804Z",
     "iopub.status.idle": "2024-03-05T08:23:16.797502Z",
     "shell.execute_reply": "2024-03-05T08:23:16.796761Z"
    },
    "papermill": {
     "duration": 0.02123,
     "end_time": "2024-03-05T08:23:16.799463",
     "exception": false,
     "start_time": "2024-03-05T08:23:16.778233",
     "status": "completed"
    },
    "tags": []
   },
   "outputs": [],
   "source": [
    "# def get_feature_importance(X, Y):\n",
    "#     COUNT_ITER = 50\n",
    "    \n",
    "#     dfs = []\n",
    "#     for i in range(COUNT_ITER):\n",
    "#         gc.collect()\n",
    "        \n",
    "#         start_time = time.time()\n",
    "#         shuffled_Y = Y.clone().sample(fraction=1.0, shuffle=True)\n",
    "#         current_df = train_rf(X, shuffled_Y)\n",
    "#         finish_time = time.time()\n",
    "#         print(f\"Finish iteration: {i + 1}/{COUNT_ITER}, time: {finish_time - start_time}\")\n",
    "#         current_df = current_df.with_columns(pl.lit(i).alias(\"iteration\"))\n",
    "#         dfs.append(current_df)\n",
    "        \n",
    "#     return pl.concat(dfs, rechunk=True), train_rf(X, Y)"
   ]
  },
  {
   "cell_type": "code",
   "execution_count": 25,
   "id": "86fb9df3",
   "metadata": {
    "execution": {
     "iopub.execute_input": "2024-03-05T08:23:16.828323Z",
     "iopub.status.busy": "2024-03-05T08:23:16.827943Z",
     "iopub.status.idle": "2024-03-05T08:23:16.832001Z",
     "shell.execute_reply": "2024-03-05T08:23:16.830913Z"
    },
    "papermill": {
     "duration": 0.020548,
     "end_time": "2024-03-05T08:23:16.833924",
     "exception": false,
     "start_time": "2024-03-05T08:23:16.813376",
     "status": "completed"
    },
    "tags": []
   },
   "outputs": [],
   "source": [
    "# shuffled_feature_importance_df, feature_importance_df = get_feature_importance(train_df[features], train_df[\"target\"])\n",
    "# shuffled_feature_importance_df.write_csv(\"shuffled_feature_importance_df.csv\", separator=\",\")\n",
    "# feature_importance_df.write_csv(\"feature_importance_df.csv\", separator=\",\")"
   ]
  },
  {
   "cell_type": "code",
   "execution_count": 26,
   "id": "48f742e9",
   "metadata": {
    "execution": {
     "iopub.execute_input": "2024-03-05T08:23:16.862700Z",
     "iopub.status.busy": "2024-03-05T08:23:16.862081Z",
     "iopub.status.idle": "2024-03-05T08:23:16.866165Z",
     "shell.execute_reply": "2024-03-05T08:23:16.865480Z"
    },
    "papermill": {
     "duration": 0.020424,
     "end_time": "2024-03-05T08:23:16.868141",
     "exception": false,
     "start_time": "2024-03-05T08:23:16.847717",
     "status": "completed"
    },
    "tags": []
   },
   "outputs": [],
   "source": [
    "# important_features = []\n",
    "# for column in feature_importance_df[\"feature\"]:\n",
    "#     shuffled_feature_importance = shuffled_feature_importance_df.filter(shuffled_feature_importance_df[\"feature\"] == column)[\"feature_importance\"].to_numpy()\n",
    "#     feature_importance = feature_importance_df.filter(feature_importance_df[\"feature\"] == column)[\"feature_importance\"][0]\n",
    "    \n",
    "#     if (np.percentile(shuffled_feature_importance, 90) <= feature_importance):\n",
    "#         important_features.append(column)\n",
    "# print(len(important_features), important_features)"
   ]
  },
  {
   "cell_type": "markdown",
   "id": "aecbbbf5",
   "metadata": {
    "papermill": {
     "duration": 0.012768,
     "end_time": "2024-03-05T08:23:16.894287",
     "exception": false,
     "start_time": "2024-03-05T08:23:16.881519",
     "status": "completed"
    },
    "tags": []
   },
   "source": [
    "# Training"
   ]
  },
  {
   "cell_type": "code",
   "execution_count": 27,
   "id": "94bdaa57",
   "metadata": {
    "execution": {
     "iopub.execute_input": "2024-03-05T08:23:16.922230Z",
     "iopub.status.busy": "2024-03-05T08:23:16.921858Z",
     "iopub.status.idle": "2024-03-05T08:23:16.926710Z",
     "shell.execute_reply": "2024-03-05T08:23:16.925647Z"
    },
    "papermill": {
     "duration": 0.021335,
     "end_time": "2024-03-05T08:23:16.928794",
     "exception": false,
     "start_time": "2024-03-05T08:23:16.907459",
     "status": "completed"
    },
    "tags": []
   },
   "outputs": [],
   "source": [
    "# class VotingModel(BaseEstimator, RegressorMixin):\n",
    "#     def __init__(self, estimators):\n",
    "#         super().__init__()\n",
    "#         self.estimators = estimators\n",
    "        \n",
    "#     def fit(self, X, y=None):\n",
    "#         return self\n",
    "    \n",
    "#     def predict(self, X):\n",
    "#         y_preds = [estimator.predict(X) for estimator in self.estimators]\n",
    "#         return np.mean(y_preds, axis=0)\n",
    "    \n",
    "#     def predict_proba(self, X):\n",
    "#         y_preds = [estimator.predict_proba(X) for estimator in self.estimators]\n",
    "#         return np.mean(y_preds, axis=0)\n",
    "    \n",
    "#     def get_feature_importance(self):\n",
    "#         feature_importances = np.array([0 for feature in features])\n",
    "\n",
    "#         for model in self.estimators:\n",
    "#             feature_importances += model.feature_importances_\n",
    "\n",
    "#         return feature_importances"
   ]
  },
  {
   "cell_type": "code",
   "execution_count": 28,
   "id": "a6e1c019",
   "metadata": {
    "execution": {
     "iopub.execute_input": "2024-03-05T08:23:16.957365Z",
     "iopub.status.busy": "2024-03-05T08:23:16.956972Z",
     "iopub.status.idle": "2024-03-05T08:23:16.961087Z",
     "shell.execute_reply": "2024-03-05T08:23:16.960019Z"
    },
    "papermill": {
     "duration": 0.020993,
     "end_time": "2024-03-05T08:23:16.963110",
     "exception": false,
     "start_time": "2024-03-05T08:23:16.942117",
     "status": "completed"
    },
    "tags": []
   },
   "outputs": [],
   "source": [
    "# for column in features:\n",
    "#     if (train_dataset[column].dtype != pl.Categorical) and \\\n",
    "#         (train_dataset[column].dtype != pl.Float64) and \\\n",
    "#         (train_dataset[column].dtype != pl.Float64):\n",
    "#         print(column, train_dataset[column].dtype)"
   ]
  },
  {
   "cell_type": "code",
   "execution_count": 29,
   "id": "604d8533",
   "metadata": {
    "execution": {
     "iopub.execute_input": "2024-03-05T08:23:16.991069Z",
     "iopub.status.busy": "2024-03-05T08:23:16.990712Z",
     "iopub.status.idle": "2024-03-05T08:23:16.995295Z",
     "shell.execute_reply": "2024-03-05T08:23:16.994290Z"
    },
    "papermill": {
     "duration": 0.021082,
     "end_time": "2024-03-05T08:23:16.997405",
     "exception": false,
     "start_time": "2024-03-05T08:23:16.976323",
     "status": "completed"
    },
    "tags": []
   },
   "outputs": [],
   "source": [
    "# def train_lgb_model(X_train, Y_train, X_test, Y_test):\n",
    "#     params = {\n",
    "#         \"boosting_type\": \"gbdt\",\n",
    "#         \"objective\": \"binary\",\n",
    "#         \"metric\": \"auc\",\n",
    "#         \"max_depth\": 8,\n",
    "#         \"max_bin\": 250,\n",
    "#         \"learning_rate\": 0.05,\n",
    "#         \"n_estimators\": 1000,\n",
    "#         \"colsample_bytree\": 0.8, \n",
    "#         \"colsample_bynode\": 0.8,\n",
    "#         \"verbose\": -1,\n",
    "#         \"random_state\": 42,\n",
    "#         \"device\": \"gpu\",\n",
    "#     }\n",
    "    \n",
    "#     model = lgb.LGBMClassifier(**params)\n",
    "    \n",
    "#     model.fit(\n",
    "#         X_train, Y_train,\n",
    "#         eval_set=[(X_test, Y_test)],\n",
    "#         callbacks=[lgb.log_evaluation(100), lgb.early_stopping(100)]\n",
    "#     )\n",
    "        \n",
    "#     return model"
   ]
  },
  {
   "cell_type": "code",
   "execution_count": 30,
   "id": "2f9fa4c5",
   "metadata": {
    "execution": {
     "iopub.execute_input": "2024-03-05T08:23:17.025622Z",
     "iopub.status.busy": "2024-03-05T08:23:17.025215Z",
     "iopub.status.idle": "2024-03-05T08:23:17.029741Z",
     "shell.execute_reply": "2024-03-05T08:23:17.028970Z"
    },
    "papermill": {
     "duration": 0.020731,
     "end_time": "2024-03-05T08:23:17.031635",
     "exception": false,
     "start_time": "2024-03-05T08:23:17.010904",
     "status": "completed"
    },
    "tags": []
   },
   "outputs": [],
   "source": [
    "# gc.collect()"
   ]
  },
  {
   "cell_type": "code",
   "execution_count": 31,
   "id": "d2739e0e",
   "metadata": {
    "execution": {
     "iopub.execute_input": "2024-03-05T08:23:17.059944Z",
     "iopub.status.busy": "2024-03-05T08:23:17.059574Z",
     "iopub.status.idle": "2024-03-05T08:23:17.064618Z",
     "shell.execute_reply": "2024-03-05T08:23:17.063608Z"
    },
    "papermill": {
     "duration": 0.02175,
     "end_time": "2024-03-05T08:23:17.066750",
     "exception": false,
     "start_time": "2024-03-05T08:23:17.045000",
     "status": "completed"
    },
    "tags": []
   },
   "outputs": [],
   "source": [
    "# weeks = train_df[\"WEEK_NUM\"]\n",
    "# cv = StratifiedGroupKFold(n_splits=5, shuffle=False)\n",
    "\n",
    "# fitted_models = []\n",
    "\n",
    "# oof_predicted = np.zeros(train_df.shape[0])\n",
    "\n",
    "# for idx_train, idx_test in cv.split(train_df[features], train_df[\"target\"], groups=weeks):        \n",
    "# #     X_train = train_df[features][idx_train].to_pandas()\n",
    "# #     Y_train = train_df[\"target\"][idx_train].to_pandas()\n",
    "    \n",
    "#     X_test = train_df[features][idx_test].to_pandas()\n",
    "#     Y_test = train_df[\"target\"][idx_test].to_pandas()\n",
    "    \n",
    "#     start = time.time()\n",
    "#     params = {\n",
    "#         \"boosting_type\": \"gbdt\",\n",
    "#         \"objective\": \"binary\",\n",
    "#         \"metric\": \"auc\",\n",
    "#         \"max_depth\": 8,\n",
    "#         \"max_bin\": 250,\n",
    "#         \"learning_rate\": 0.05,\n",
    "#         \"n_estimators\": 1000,\n",
    "#         \"colsample_bytree\": 0.8, \n",
    "#         \"colsample_bynode\": 0.8,\n",
    "#         \"verbose\": -1,\n",
    "#         \"random_state\": 42,\n",
    "#         \"device\": \"gpu\",\n",
    "#     }\n",
    "    \n",
    "#     model = lgb.LGBMClassifier(**params)\n",
    "    \n",
    "#     model.fit(\n",
    "#         train_df[features][idx_train].to_pandas(), train_df[\"target\"][idx_train].to_pandas(),\n",
    "#         eval_set=[(X_test, Y_test)],\n",
    "#         callbacks=[lgb.log_evaluation(100), lgb.early_stopping(100)]\n",
    "#     )\n",
    "        \n",
    "\n",
    "# #    model = train_lgb_model(X_train, Y_train, X_test, Y_test)\n",
    "#     finish = time.time()\n",
    "    \n",
    "#     print(\"fit time: {}\".format(finish - start))\n",
    "#     fitted_models.append(model)\n",
    "    \n",
    "#     test_pred = model.predict_proba(X_test)[:, 1]\n",
    "#     oof_predicted[idx_test] = test_pred\n",
    "#     gc.collect()\n",
    "\n",
    "# model = VotingModel(fitted_models)\n",
    "# gc.collect()"
   ]
  },
  {
   "cell_type": "code",
   "execution_count": 32,
   "id": "72ac64b1",
   "metadata": {
    "execution": {
     "iopub.execute_input": "2024-03-05T08:23:17.094895Z",
     "iopub.status.busy": "2024-03-05T08:23:17.094548Z",
     "iopub.status.idle": "2024-03-05T08:23:17.098581Z",
     "shell.execute_reply": "2024-03-05T08:23:17.097425Z"
    },
    "papermill": {
     "duration": 0.020606,
     "end_time": "2024-03-05T08:23:17.100542",
     "exception": false,
     "start_time": "2024-03-05T08:23:17.079936",
     "status": "completed"
    },
    "tags": []
   },
   "outputs": [],
   "source": [
    "# roc_auc_oof = roc_auc_score(train_df[\"target\"], oof_predicted)\n",
    "# print(\"CV roc_auc_oof: \", roc_auc_oof)"
   ]
  },
  {
   "cell_type": "markdown",
   "id": "c7e8e274",
   "metadata": {
    "papermill": {
     "duration": 0.01344,
     "end_time": "2024-03-05T08:23:17.129966",
     "exception": false,
     "start_time": "2024-03-05T08:23:17.116526",
     "status": "completed"
    },
    "tags": []
   },
   "source": [
    "# Predict"
   ]
  },
  {
   "cell_type": "code",
   "execution_count": 33,
   "id": "4146df94",
   "metadata": {
    "execution": {
     "iopub.execute_input": "2024-03-05T08:23:17.159020Z",
     "iopub.status.busy": "2024-03-05T08:23:17.158659Z",
     "iopub.status.idle": "2024-03-05T08:23:17.162765Z",
     "shell.execute_reply": "2024-03-05T08:23:17.161733Z"
    },
    "papermill": {
     "duration": 0.02098,
     "end_time": "2024-03-05T08:23:17.164751",
     "exception": false,
     "start_time": "2024-03-05T08:23:17.143771",
     "status": "completed"
    },
    "tags": []
   },
   "outputs": [],
   "source": [
    "# del train_df\n",
    "# gc.collect()"
   ]
  },
  {
   "cell_type": "code",
   "execution_count": 34,
   "id": "4b1c12ad",
   "metadata": {
    "execution": {
     "iopub.execute_input": "2024-03-05T08:23:17.192901Z",
     "iopub.status.busy": "2024-03-05T08:23:17.192518Z",
     "iopub.status.idle": "2024-03-05T08:23:17.197446Z",
     "shell.execute_reply": "2024-03-05T08:23:17.196384Z"
    },
    "papermill": {
     "duration": 0.021536,
     "end_time": "2024-03-05T08:23:17.199506",
     "exception": false,
     "start_time": "2024-03-05T08:23:17.177970",
     "status": "completed"
    },
    "tags": []
   },
   "outputs": [],
   "source": [
    "# test_dataset = data_loader.load_test_dataset()\n",
    "# print(\"Test dataset week range: {}-{}\".format(test_dataset.base[\"WEEK_NUM\"].min(), test_dataset.base[\"WEEK_NUM\"].max()))\n",
    "# gc.collect()\n",
    "# test_df = preprocessor.process_test_dataset(test_dataset)\n",
    "# del test_dataset\n",
    "# gc.collect()"
   ]
  },
  {
   "cell_type": "code",
   "execution_count": 35,
   "id": "96e1b68c",
   "metadata": {
    "execution": {
     "iopub.execute_input": "2024-03-05T08:23:17.227725Z",
     "iopub.status.busy": "2024-03-05T08:23:17.227355Z",
     "iopub.status.idle": "2024-03-05T08:23:17.231769Z",
     "shell.execute_reply": "2024-03-05T08:23:17.230885Z"
    },
    "papermill": {
     "duration": 0.021036,
     "end_time": "2024-03-05T08:23:17.233903",
     "exception": false,
     "start_time": "2024-03-05T08:23:17.212867",
     "status": "completed"
    },
    "tags": []
   },
   "outputs": [],
   "source": [
    "# print([name for value, name in reversed(sorted(zip(model.get_feature_importance(), features)))][0:200])"
   ]
  },
  {
   "cell_type": "code",
   "execution_count": null,
   "id": "77d5d540",
   "metadata": {
    "papermill": {
     "duration": 0.01301,
     "end_time": "2024-03-05T08:23:17.260046",
     "exception": false,
     "start_time": "2024-03-05T08:23:17.247036",
     "status": "completed"
    },
    "tags": []
   },
   "outputs": [],
   "source": []
  },
  {
   "cell_type": "code",
   "execution_count": 36,
   "id": "291f5822",
   "metadata": {
    "execution": {
     "iopub.execute_input": "2024-03-05T08:23:17.288770Z",
     "iopub.status.busy": "2024-03-05T08:23:17.288403Z",
     "iopub.status.idle": "2024-03-05T08:23:17.292414Z",
     "shell.execute_reply": "2024-03-05T08:23:17.291359Z"
    },
    "papermill": {
     "duration": 0.021193,
     "end_time": "2024-03-05T08:23:17.294434",
     "exception": false,
     "start_time": "2024-03-05T08:23:17.273241",
     "status": "completed"
    },
    "tags": []
   },
   "outputs": [],
   "source": [
    "# CV roc_auc_oof:  0.8353789451006361 without feature selection ~500 features\n",
    "# CV roc_auc_oof:  0.8329322959533371 with feature selection ~200 features"
   ]
  },
  {
   "cell_type": "code",
   "execution_count": null,
   "id": "a77c96f9",
   "metadata": {
    "papermill": {
     "duration": 0.013395,
     "end_time": "2024-03-05T08:23:17.321216",
     "exception": false,
     "start_time": "2024-03-05T08:23:17.307821",
     "status": "completed"
    },
    "tags": []
   },
   "outputs": [],
   "source": []
  },
  {
   "cell_type": "code",
   "execution_count": 37,
   "id": "ac581563",
   "metadata": {
    "execution": {
     "iopub.execute_input": "2024-03-05T08:23:17.349723Z",
     "iopub.status.busy": "2024-03-05T08:23:17.349312Z",
     "iopub.status.idle": "2024-03-05T08:23:17.354116Z",
     "shell.execute_reply": "2024-03-05T08:23:17.353010Z"
    },
    "papermill": {
     "duration": 0.021627,
     "end_time": "2024-03-05T08:23:17.356173",
     "exception": false,
     "start_time": "2024-03-05T08:23:17.334546",
     "status": "completed"
    },
    "tags": []
   },
   "outputs": [],
   "source": [
    "# def gini_stability(dataset, w_fallingrate=88.0, w_resstd=-0.5):\n",
    "#     gini_in_time = dataset\\\n",
    "#         .sort_values(\"WEEK_NUM\")\\\n",
    "#         .groupby(\"WEEK_NUM\")[[\"true\", \"predicted\"]]\\\n",
    "#         .apply(lambda x: 2 * roc_auc_score(x[\"true\"], x[\"predicted\"]) - 1).tolist()\n",
    "    \n",
    "#     x = np.arange(len(gini_in_time))\n",
    "#     y = gini_in_time\n",
    "#     a, b = np.polyfit(x, y, 1)\n",
    "#     y_hat = a * x + b\n",
    "#     residuals = y - y_hat\n",
    "#     res_std = np.std(residuals)\n",
    "#     avg_gini = np.mean(gini_in_time)\n",
    "    \n",
    "#     print(avg_gini, min(0, a), res_std)\n",
    "    \n",
    "#     return avg_gini + w_fallingrate * min(0, a) + w_resstd * res_std"
   ]
  },
  {
   "cell_type": "code",
   "execution_count": 38,
   "id": "ec19f55d",
   "metadata": {
    "execution": {
     "iopub.execute_input": "2024-03-05T08:23:17.384827Z",
     "iopub.status.busy": "2024-03-05T08:23:17.383753Z",
     "iopub.status.idle": "2024-03-05T08:23:17.388277Z",
     "shell.execute_reply": "2024-03-05T08:23:17.387322Z"
    },
    "papermill": {
     "duration": 0.0207,
     "end_time": "2024-03-05T08:23:17.390254",
     "exception": false,
     "start_time": "2024-03-05T08:23:17.369554",
     "status": "completed"
    },
    "tags": []
   },
   "outputs": [],
   "source": [
    "# # Y_train_predicted = model.predict_proba(train_df[features].to_pandas())\n",
    "# Y_test_predicted = model.predict_proba(test_df[features].to_pandas())"
   ]
  },
  {
   "cell_type": "code",
   "execution_count": 39,
   "id": "3a2eff00",
   "metadata": {
    "execution": {
     "iopub.execute_input": "2024-03-05T08:23:17.419777Z",
     "iopub.status.busy": "2024-03-05T08:23:17.419383Z",
     "iopub.status.idle": "2024-03-05T08:23:17.424883Z",
     "shell.execute_reply": "2024-03-05T08:23:17.423664Z"
    },
    "papermill": {
     "duration": 0.023445,
     "end_time": "2024-03-05T08:23:17.426960",
     "exception": false,
     "start_time": "2024-03-05T08:23:17.403515",
     "status": "completed"
    },
    "tags": []
   },
   "outputs": [],
   "source": [
    "# result = pd.DataFrame({\n",
    "#     \"WEEK_NUM\": train_df[\"WEEK_NUM\"],\n",
    "#     \"true\": train_df[\"target\"],\n",
    "#     \"predicted\": Y_train_predicted[:, 1],\n",
    "# })\n",
    "\n",
    "# train_result = gini_stability(result)\n",
    "# print(\"train_score: {}\".format(train_result))\n",
    "\n",
    "# if MODE == Mode.Train:\n",
    "#     result = pd.DataFrame({\n",
    "#         \"WEEK_NUM\": test_df[\"WEEK_NUM\"],\n",
    "#         \"true\": test_df[\"target\"],\n",
    "#         \"predicted\": Y_test_predicted[:, 1],\n",
    "#     })\n",
    "\n",
    "#     test_result = gini_stability(result)\n",
    "#     print(\"test_score: {}\".format(test_result))"
   ]
  },
  {
   "cell_type": "code",
   "execution_count": 40,
   "id": "7b0c9b31",
   "metadata": {
    "execution": {
     "iopub.execute_input": "2024-03-05T08:23:17.455434Z",
     "iopub.status.busy": "2024-03-05T08:23:17.455047Z",
     "iopub.status.idle": "2024-03-05T08:23:17.458958Z",
     "shell.execute_reply": "2024-03-05T08:23:17.458103Z"
    },
    "papermill": {
     "duration": 0.020493,
     "end_time": "2024-03-05T08:23:17.460711",
     "exception": false,
     "start_time": "2024-03-05T08:23:17.440218",
     "status": "completed"
    },
    "tags": []
   },
   "outputs": [],
   "source": [
    "# Version 1, test_score: 0.583319926590042, public score 0.48\n",
    "# 100 iters\n",
    "\n",
    "# Version 2, test_score: 0.6062624701357268, public score 0.517\n",
    "# 300 iters\n",
    "\n",
    "# Version 3, test_score: ?, public score 0.545\n",
    "# 2000 iters\n",
    "\n",
    "# Version 4, test_score: ?, public score ?\n",
    "# ? iters, Improve aggregate functions for depth_1, depth_2\n"
   ]
  },
  {
   "cell_type": "markdown",
   "id": "58bbbbd9",
   "metadata": {
    "papermill": {
     "duration": 0.012947,
     "end_time": "2024-03-05T08:23:17.486981",
     "exception": false,
     "start_time": "2024-03-05T08:23:17.474034",
     "status": "completed"
    },
    "tags": []
   },
   "source": [
    "# Submition"
   ]
  },
  {
   "cell_type": "code",
   "execution_count": 41,
   "id": "88aa880c",
   "metadata": {
    "execution": {
     "iopub.execute_input": "2024-03-05T08:23:17.515448Z",
     "iopub.status.busy": "2024-03-05T08:23:17.514642Z",
     "iopub.status.idle": "2024-03-05T08:23:17.519211Z",
     "shell.execute_reply": "2024-03-05T08:23:17.518495Z"
    },
    "papermill": {
     "duration": 0.021097,
     "end_time": "2024-03-05T08:23:17.521356",
     "exception": false,
     "start_time": "2024-03-05T08:23:17.500259",
     "status": "completed"
    },
    "tags": []
   },
   "outputs": [],
   "source": [
    "# case_id = test_df[\"case_id\"]\n",
    "# X = test_df[features].to_pandas()\n",
    "\n",
    "# Y = model.predict_proba(X)\n",
    "\n",
    "# submission = pd.DataFrame({\n",
    "#     \"case_id\": case_id.to_numpy(),\n",
    "#     \"score\": Y[:, 1]\n",
    "# }).set_index('case_id')\n",
    "# submission.to_csv(\"./submission.csv\")"
   ]
  },
  {
   "cell_type": "code",
   "execution_count": null,
   "id": "2b5d507d",
   "metadata": {
    "papermill": {
     "duration": 0.012894,
     "end_time": "2024-03-05T08:23:17.548034",
     "exception": false,
     "start_time": "2024-03-05T08:23:17.535140",
     "status": "completed"
    },
    "tags": []
   },
   "outputs": [],
   "source": []
  },
  {
   "cell_type": "code",
   "execution_count": null,
   "id": "f0bf1b3e",
   "metadata": {
    "papermill": {
     "duration": 0.012941,
     "end_time": "2024-03-05T08:23:17.574485",
     "exception": false,
     "start_time": "2024-03-05T08:23:17.561544",
     "status": "completed"
    },
    "tags": []
   },
   "outputs": [],
   "source": []
  },
  {
   "cell_type": "code",
   "execution_count": null,
   "id": "a1e7f73f",
   "metadata": {
    "papermill": {
     "duration": 0.01295,
     "end_time": "2024-03-05T08:23:17.600851",
     "exception": false,
     "start_time": "2024-03-05T08:23:17.587901",
     "status": "completed"
    },
    "tags": []
   },
   "outputs": [],
   "source": []
  }
 ],
 "metadata": {
  "kaggle": {
   "accelerator": "none",
   "dataSources": [
    {
     "databundleVersionId": 7602123,
     "sourceId": 50160,
     "sourceType": "competition"
    },
    {
     "databundleVersionId": 7866049,
     "datasetId": 4496896,
     "sourceId": 7764935,
     "sourceType": "datasetVersion"
    }
   ],
   "dockerImageVersionId": 30635,
   "isGpuEnabled": false,
   "isInternetEnabled": false,
   "language": "python",
   "sourceType": "notebook"
  },
  "kernelspec": {
   "display_name": "Python 3",
   "language": "python",
   "name": "python3"
  },
  "language_info": {
   "codemirror_mode": {
    "name": "ipython",
    "version": 3
   },
   "file_extension": ".py",
   "mimetype": "text/x-python",
   "name": "python",
   "nbconvert_exporter": "python",
   "pygments_lexer": "ipython3",
   "version": "3.10.12"
  },
  "papermill": {
   "default_parameters": {},
   "duration": 469.493545,
   "end_time": "2024-03-05T08:23:18.837790",
   "environment_variables": {},
   "exception": null,
   "input_path": "__notebook__.ipynb",
   "output_path": "__notebook__.ipynb",
   "parameters": {},
   "start_time": "2024-03-05T08:15:29.344245",
   "version": "2.4.0"
  }
 },
 "nbformat": 4,
 "nbformat_minor": 5
}
