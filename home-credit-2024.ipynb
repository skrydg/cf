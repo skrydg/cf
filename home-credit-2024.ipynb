{
 "cells": [
  {
   "cell_type": "markdown",
   "id": "e873a70d",
   "metadata": {
    "papermill": {
     "duration": 0.010783,
     "end_time": "2024-03-07T07:54:47.049804",
     "exception": false,
     "start_time": "2024-03-07T07:54:47.039021",
     "status": "completed"
    },
    "tags": []
   },
   "source": [
    "# Install packages"
   ]
  },
  {
   "cell_type": "code",
   "execution_count": 1,
   "id": "9c2b8814",
   "metadata": {
    "execution": {
     "iopub.execute_input": "2024-03-07T07:54:47.072102Z",
     "iopub.status.busy": "2024-03-07T07:54:47.071120Z",
     "iopub.status.idle": "2024-03-07T07:55:17.633298Z",
     "shell.execute_reply": "2024-03-07T07:55:17.632558Z"
    },
    "papermill": {
     "duration": 30.575558,
     "end_time": "2024-03-07T07:55:17.635535",
     "exception": false,
     "start_time": "2024-03-07T07:54:47.059977",
     "status": "completed"
    },
    "tags": []
   },
   "outputs": [
    {
     "name": "stdout",
     "output_type": "stream",
     "text": [
      "Processing /kaggle/input/kaggle-home-credit-risk-model-stability-lib/kaggle_home_credit_risk_model_stability-0.3-py3-none-any.whl\r\n",
      "Installing collected packages: kaggle-home-credit-risk-model-stability\r\n",
      "Successfully installed kaggle-home-credit-risk-model-stability-0.3\r\n"
     ]
    }
   ],
   "source": [
    "!pip install /kaggle/input/kaggle-home-credit-risk-model-stability-lib/kaggle_home_credit_risk_model_stability-0.3-py3-none-any.whl --force-reinstall"
   ]
  },
  {
   "cell_type": "markdown",
   "id": "6e9a8d02",
   "metadata": {
    "papermill": {
     "duration": 0.010809,
     "end_time": "2024-03-07T07:55:17.657372",
     "exception": false,
     "start_time": "2024-03-07T07:55:17.646563",
     "status": "completed"
    },
    "tags": []
   },
   "source": [
    "# Import packages"
   ]
  },
  {
   "cell_type": "code",
   "execution_count": 2,
   "id": "9f544c91",
   "metadata": {
    "execution": {
     "iopub.execute_input": "2024-03-07T07:55:17.681799Z",
     "iopub.status.busy": "2024-03-07T07:55:17.681212Z",
     "iopub.status.idle": "2024-03-07T07:55:21.596302Z",
     "shell.execute_reply": "2024-03-07T07:55:21.595392Z"
    },
    "papermill": {
     "duration": 3.930196,
     "end_time": "2024-03-07T07:55:21.598465",
     "exception": false,
     "start_time": "2024-03-07T07:55:17.668269",
     "status": "completed"
    },
    "tags": []
   },
   "outputs": [],
   "source": [
    "import polars as pl\n",
    "import gc\n",
    "import time\n",
    "import numpy as np\n",
    "import pandas as pd\n",
    "import lightgbm as lgb\n",
    "import seaborn as sns\n",
    "import matplotlib.pyplot as plt\n",
    "import copy\n",
    "import lightgbm as lgb\n",
    "import importlib\n",
    "\n",
    "import kaggle_home_credit_risk_model_stability.libs as hcr\n",
    "from kaggle_home_credit_risk_model_stability.libs.input.dataset import Dataset\n",
    "from kaggle_home_credit_risk_model_stability.libs.input.data_loader import DataLoader\n",
    "from kaggle_home_credit_risk_model_stability.libs.preprocessor.preprocessor import Preprocessor\n",
    "from kaggle_home_credit_risk_model_stability.libs.preprocessor.steps import *\n",
    "from kaggle_home_credit_risk_model_stability.libs.preprocessor.columns_info import ColumnsInfo\n",
    "from kaggle_home_credit_risk_model_stability.libs.feature_description.feature_description import FreatureDescriptionGetter\n",
    "\n",
    "from collections import defaultdict\n",
    "from glob import glob\n",
    "from pathlib import Path\n",
    "from sklearn.model_selection import train_test_split\n",
    "from sklearn.metrics import roc_auc_score\n",
    "from sklearn.model_selection import StratifiedGroupKFold\n",
    "from sklearn.base import BaseEstimator, RegressorMixin\n",
    "from catboost import CatBoostClassifier\n",
    "from enum import Enum"
   ]
  },
  {
   "cell_type": "code",
   "execution_count": null,
   "id": "a4efa34b",
   "metadata": {
    "execution": {
     "iopub.execute_input": "2024-03-06T11:32:20.311082Z",
     "iopub.status.busy": "2024-03-06T11:32:20.310541Z",
     "iopub.status.idle": "2024-03-06T11:32:20.326518Z",
     "shell.execute_reply": "2024-03-06T11:32:20.325079Z",
     "shell.execute_reply.started": "2024-03-06T11:32:20.311042Z"
    },
    "papermill": {
     "duration": 0.010724,
     "end_time": "2024-03-07T07:55:21.620320",
     "exception": false,
     "start_time": "2024-03-07T07:55:21.609596",
     "status": "completed"
    },
    "tags": []
   },
   "outputs": [],
   "source": []
  },
  {
   "cell_type": "code",
   "execution_count": 3,
   "id": "b3a120ea",
   "metadata": {
    "execution": {
     "iopub.execute_input": "2024-03-07T07:55:21.643983Z",
     "iopub.status.busy": "2024-03-07T07:55:21.643439Z",
     "iopub.status.idle": "2024-03-07T07:55:21.651280Z",
     "shell.execute_reply": "2024-03-07T07:55:21.650412Z"
    },
    "papermill": {
     "duration": 0.022363,
     "end_time": "2024-03-07T07:55:21.653544",
     "exception": false,
     "start_time": "2024-03-07T07:55:21.631181",
     "status": "completed"
    },
    "tags": []
   },
   "outputs": [],
   "source": [
    "data_loader = DataLoader()\n",
    "preprocessor = Preprocessor({\n",
    "    \"set_column_info_step\": SetColumnsInfoStep(),\n",
    "    \"set_types\": SetTypesStep(),\n",
    "    \"process_categorical\": ProcessCategoricalStep(),\n",
    "    \"process_person_table\": ProcessPersonTableStep(),\n",
    "    \"one_hot_encoding_for_depth1\": OneHotEncodingForDepth1Step(),\n",
    "    \"pairwise_diff_raw_dates\": PairwiseDateDiffStep(),\n",
    "    \"aggregate_depth_table\": AggregateDepthTableStep(),\n",
    "    \"drop_equal_columns\": DropEqualColumnsStep(),\n",
    "    \"drop_variable_enum_features\": DropVariableEnumFeaturesStep(),\n",
    "    \"drop_almost_null_features_respect_to_target\": DropAlmostNullFeaturesWithRespectToTargetStep(),\n",
    "    \"join_table\": JoinTablesStep(),\n",
    "    **{\n",
    "        f\"create_money_feature_fraction_{base_column}\": CreateMoneyFeatureFractionStep(base_column)\n",
    "        for base_column in [\"credamount_770A\", \"maininc_215A\", \"mainoccupationinc_384A\", \"mean_amount_416A\"]\n",
    "    },\n",
    "    \"generate_mismatch_features\": GenerateMismatchFeaturesStep(), \n",
    "    \"fill_nulls\": FillNullStep(),\n",
    "    \"reduce_memory_usage\": ReduceMemoryUsageStep(),\n",
    "#    \"drop_non_important_features\": DropNonImportantFeaturesStep()\n",
    "#    \"drop_dates_columns\": DropDatesColumnsStep()\n",
    "})\n",
    "columns_info = ColumnsInfo()"
   ]
  },
  {
   "cell_type": "code",
   "execution_count": 4,
   "id": "cfaa474a",
   "metadata": {
    "execution": {
     "iopub.execute_input": "2024-03-07T07:55:21.677251Z",
     "iopub.status.busy": "2024-03-07T07:55:21.676887Z",
     "iopub.status.idle": "2024-03-07T07:55:21.680582Z",
     "shell.execute_reply": "2024-03-07T07:55:21.679928Z"
    },
    "papermill": {
     "duration": 0.017417,
     "end_time": "2024-03-07T07:55:21.682157",
     "exception": false,
     "start_time": "2024-03-07T07:55:21.664740",
     "status": "completed"
    },
    "tags": []
   },
   "outputs": [],
   "source": [
    "# train_dataset = data_loader.load_train_dataset()\n",
    "# case_id_set = train_dataset.get_base().filter(train_dataset.get_base()[\"WEEK_NUM\"] < 10)[\"case_id\"]\n",
    "# train_dataset = train_dataset.filter(lambda table: table.filter(pl.col(\"case_id\").is_in(case_id_set)))"
   ]
  },
  {
   "cell_type": "code",
   "execution_count": 5,
   "id": "d3d4389f",
   "metadata": {
    "execution": {
     "iopub.execute_input": "2024-03-07T07:55:21.706628Z",
     "iopub.status.busy": "2024-03-07T07:55:21.706076Z",
     "iopub.status.idle": "2024-03-07T08:02:06.858469Z",
     "shell.execute_reply": "2024-03-07T08:02:06.857483Z"
    },
    "papermill": {
     "duration": 405.167377,
     "end_time": "2024-03-07T08:02:06.860746",
     "exception": false,
     "start_time": "2024-03-07T07:55:21.693369",
     "status": "completed"
    },
    "tags": []
   },
   "outputs": [
    {
     "name": "stdout",
     "output_type": "stream",
     "text": [
      "Train dataset week range: 0-91\n",
      "Step: set_column_info_step, execution_time: 0.08710908889770508\n",
      "Step: set_types, execution_time: 8.520602703094482\n",
      "Step: process_categorical, execution_time: 17.823554515838623\n",
      "Step: process_person_table, execution_time: 0.25088047981262207\n",
      "Create 250 new columns as one hot encoding\n",
      "Step: one_hot_encoding_for_depth1, execution_time: 16.516661643981934\n",
      "Create 172 new columns as pairwise dates diff\n",
      "Step: pairwise_diff_raw_dates, execution_time: 0.6446382999420166\n",
      "Step: aggregate_depth_table, execution_time: 19.70908784866333\n",
      "Drop 486 columns as copy\n",
      "Step: drop_equal_columns, execution_time: 4.275375843048096\n",
      "Drop 37 columns as variable enum\n",
      "Step: drop_variable_enum_features, execution_time: 1.293278455734253\n",
      "Drop 495 columns as almost null\n",
      "Step: drop_almost_null_features_respect_to_target, execution_time: 253.44963240623474\n",
      "Step: join_table, execution_time: 15.344825506210327\n",
      "Create 116 new columns as money feature fraction with base 'credamount_770A'\n",
      "Step: create_money_feature_fraction_credamount_770A, execution_time: 2.950754165649414\n",
      "Create 116 new columns as money feature fraction with base 'maininc_215A'\n",
      "Step: create_money_feature_fraction_maininc_215A, execution_time: 4.74765682220459\n",
      "Create 116 new columns as money feature fraction with base 'mainoccupationinc_384A'\n",
      "Step: create_money_feature_fraction_mainoccupationinc_384A, execution_time: 3.0235633850097656\n",
      "Create 116 new columns as money feature fraction with base 'mean_amount_416A'\n",
      "Step: create_money_feature_fraction_mean_amount_416A, execution_time: 4.64804482460022\n",
      "Create 60 new columns as feature mismatch\n",
      "Step: generate_mismatch_features, execution_time: 33.975878953933716\n",
      "Step: fill_nulls, execution_time: 0.10087132453918457\n",
      "Step: reduce_memory_usage, execution_time: 9.65447187423706\n"
     ]
    },
    {
     "data": {
      "text/plain": [
       "0"
      ]
     },
     "execution_count": 5,
     "metadata": {},
     "output_type": "execute_result"
    }
   ],
   "source": [
    "train_dataset = data_loader.load_train_dataset()\n",
    "print(\"Train dataset week range: {}-{}\".format(train_dataset.get_base()[\"WEEK_NUM\"].min(), train_dataset.get_base()[\"WEEK_NUM\"].max()))\n",
    "gc.collect()\n",
    "train_df, columns_info = preprocessor.process_train_dataset(train_dataset, columns_info)\n",
    "del train_dataset\n",
    "\n",
    "gc.collect()"
   ]
  },
  {
   "cell_type": "code",
   "execution_count": 6,
   "id": "ec1f33f5",
   "metadata": {
    "execution": {
     "iopub.execute_input": "2024-03-07T08:02:06.886287Z",
     "iopub.status.busy": "2024-03-07T08:02:06.885954Z",
     "iopub.status.idle": "2024-03-07T08:02:50.067143Z",
     "shell.execute_reply": "2024-03-07T08:02:50.066136Z"
    },
    "papermill": {
     "duration": 43.211196,
     "end_time": "2024-03-07T08:02:50.084177",
     "exception": false,
     "start_time": "2024-03-07T08:02:06.872981",
     "status": "completed"
    },
    "tags": []
   },
   "outputs": [
    {
     "name": "stdout",
     "output_type": "stream",
     "text": [
      "7182.006779670715\n",
      "shape: (1_526_659, 1_443)\n",
      "┌─────────┬────────────┬────────┬──────────┬───┬────────────┬────────────┬────────────┬────────────┐\n",
      "│ case_id ┆ date_decis ┆ MONTH  ┆ WEEK_NUM ┆ … ┆ clientscnt ┆ clientscnt ┆ clientscnt ┆ clientscnt │\n",
      "│ ---     ┆ ion        ┆ ---    ┆ ---      ┆   ┆ _304L_posf ┆ _304L_down ┆ _304L_open ┆ _304L_posf │\n",
      "│ i32     ┆ ---        ┆ i32    ┆ i8       ┆   ┆ stqpd30las ┆ pmt_116A_m ┆ cred_647L_ ┆ pd10lastmo │\n",
      "│         ┆ i16        ┆        ┆          ┆   ┆ tm…        ┆ is…        ┆ mi…        ┆ nt…        │\n",
      "│         ┆            ┆        ┆          ┆   ┆ ---        ┆ ---        ┆ ---        ┆ ---        │\n",
      "│         ┆            ┆        ┆          ┆   ┆ f32        ┆ f32        ┆ f32        ┆ f32        │\n",
      "╞═════════╪════════════╪════════╪══════════╪═══╪════════════╪════════════╪════════════╪════════════╡\n",
      "│ 0       ┆ 17899      ┆ 201901 ┆ 0        ┆ … ┆ null       ┆ 1.0        ┆ null       ┆ 1.0        │\n",
      "│ 1       ┆ 17899      ┆ 201901 ┆ 0        ┆ … ┆ null       ┆ 1.0        ┆ null       ┆ 1.0        │\n",
      "│ 2       ┆ 17900      ┆ 201901 ┆ 0        ┆ … ┆ null       ┆ 1.0        ┆ 1.0        ┆ 1.0        │\n",
      "│ 3       ┆ 17899      ┆ 201901 ┆ 0        ┆ … ┆ null       ┆ 1.0        ┆ 1.0        ┆ 1.0        │\n",
      "│ …       ┆ …          ┆ …      ┆ …        ┆ … ┆ …          ┆ …          ┆ …          ┆ …          │\n",
      "│ 2703451 ┆ 18540      ┆ 202010 ┆ 91       ┆ … ┆ 1.0        ┆ 1.0        ┆ 1.0        ┆ 1.0        │\n",
      "│ 2703452 ┆ 18540      ┆ 202010 ┆ 91       ┆ … ┆ 1.0        ┆ 1.0        ┆ 1.0        ┆ 1.0        │\n",
      "│ 2703453 ┆ 18540      ┆ 202010 ┆ 91       ┆ … ┆ 0.0        ┆ 0.0        ┆ 0.0        ┆ 0.0        │\n",
      "│ 2703454 ┆ 18540      ┆ 202010 ┆ 91       ┆ … ┆ 1.0        ┆ 1.0        ┆ 1.0        ┆ 1.0        │\n",
      "└─────────┴────────────┴────────┴──────────┴───┴────────────┴────────────┴────────────┴────────────┘\n"
     ]
    },
    {
     "data": {
      "text/plain": [
       "0"
      ]
     },
     "execution_count": 6,
     "metadata": {},
     "output_type": "execute_result"
    }
   ],
   "source": [
    "train_df.write_parquet(\"/kaggle/working/train_df.parquet\")\n",
    "print(train_df.estimated_size() / 1024 / 1024)\n",
    "print(train_df)\n",
    "\n",
    "del train_df\n",
    "gc.collect()"
   ]
  },
  {
   "cell_type": "code",
   "execution_count": 7,
   "id": "6c7d8c34",
   "metadata": {
    "execution": {
     "iopub.execute_input": "2024-03-07T08:02:50.110021Z",
     "iopub.status.busy": "2024-03-07T08:02:50.109664Z",
     "iopub.status.idle": "2024-03-07T08:02:56.051689Z",
     "shell.execute_reply": "2024-03-07T08:02:56.050597Z"
    },
    "papermill": {
     "duration": 5.957235,
     "end_time": "2024-03-07T08:02:56.053609",
     "exception": false,
     "start_time": "2024-03-07T08:02:50.096374",
     "status": "completed"
    },
    "tags": []
   },
   "outputs": [
    {
     "name": "stdout",
     "output_type": "stream",
     "text": [
      "Test dataset week range: 92-92\n",
      "Step: set_column_info_step, execution_time: 0.1201012134552002\n",
      "Step: set_types, execution_time: 0.14718198776245117\n",
      "Step: process_categorical, execution_time: 0.2749814987182617\n",
      "Step: process_person_table, execution_time: 0.11446118354797363\n",
      "Create 250 new columns as one hot encoding\n",
      "Step: one_hot_encoding_for_depth1, execution_time: 0.13326144218444824\n",
      "Create 172 new columns as pairwise dates diff\n",
      "Step: pairwise_diff_raw_dates, execution_time: 0.13680124282836914\n",
      "Step: aggregate_depth_table, execution_time: 0.142225980758667\n",
      "Step: drop_equal_columns, execution_time: 0.6452465057373047\n",
      "Step: drop_variable_enum_features, execution_time: 0.1475510597229004\n",
      "Step: drop_almost_null_features_respect_to_target, execution_time: 0.49025607109069824\n",
      "Step: join_table, execution_time: 1.7287671566009521\n",
      "Create 116 new columns as money feature fraction with base 'credamount_770A'\n",
      "Step: create_money_feature_fraction_credamount_770A, execution_time: 0.15300512313842773\n",
      "Create 116 new columns as money feature fraction with base 'maininc_215A'\n",
      "Step: create_money_feature_fraction_maininc_215A, execution_time: 0.15664958953857422\n",
      "Create 116 new columns as money feature fraction with base 'mainoccupationinc_384A'\n",
      "Step: create_money_feature_fraction_mainoccupationinc_384A, execution_time: 0.1605854034423828\n",
      "Create 116 new columns as money feature fraction with base 'mean_amount_416A'\n",
      "Step: create_money_feature_fraction_mean_amount_416A, execution_time: 0.1762394905090332\n",
      "Create 60 new columns as feature mismatch\n",
      "Step: generate_mismatch_features, execution_time: 0.13480043411254883\n",
      "Step: fill_nulls, execution_time: 0.12633800506591797\n",
      "Step: reduce_memory_usage, execution_time: 0.5770738124847412\n"
     ]
    },
    {
     "data": {
      "text/plain": [
       "0"
      ]
     },
     "execution_count": 7,
     "metadata": {},
     "output_type": "execute_result"
    }
   ],
   "source": [
    "test_dataset = data_loader.load_test_dataset()\n",
    "print(\"Test dataset week range: {}-{}\".format(test_dataset.get_base()[\"WEEK_NUM\"].min(), test_dataset.get_base()[\"WEEK_NUM\"].max()))\n",
    "gc.collect()\n",
    "test_df, columns_info = preprocessor.process_test_dataset(test_dataset, columns_info)\n",
    "del test_dataset\n",
    "\n",
    "gc.collect()"
   ]
  },
  {
   "cell_type": "code",
   "execution_count": 8,
   "id": "7fcc8cf8",
   "metadata": {
    "execution": {
     "iopub.execute_input": "2024-03-07T08:02:56.082813Z",
     "iopub.status.busy": "2024-03-07T08:02:56.082451Z",
     "iopub.status.idle": "2024-03-07T08:02:56.421553Z",
     "shell.execute_reply": "2024-03-07T08:02:56.420762Z"
    },
    "papermill": {
     "duration": 0.35722,
     "end_time": "2024-03-07T08:02:56.424693",
     "exception": false,
     "start_time": "2024-03-07T08:02:56.067473",
     "status": "completed"
    },
    "tags": []
   },
   "outputs": [
    {
     "name": "stdout",
     "output_type": "stream",
     "text": [
      "0.07272052764892578\n",
      "shape: (10, 1_442)\n",
      "┌─────────┬────────────┬────────┬──────────┬───┬────────────┬────────────┬────────────┬────────────┐\n",
      "│ case_id ┆ date_decis ┆ MONTH  ┆ WEEK_NUM ┆ … ┆ clientscnt ┆ clientscnt ┆ clientscnt ┆ clientscnt │\n",
      "│ ---     ┆ ion        ┆ ---    ┆ ---      ┆   ┆ _304L_posf ┆ _304L_down ┆ _304L_open ┆ _304L_posf │\n",
      "│ i32     ┆ ---        ┆ i32    ┆ i8       ┆   ┆ stqpd30las ┆ pmt_116A_m ┆ cred_647L_ ┆ pd10lastmo │\n",
      "│         ┆ i16        ┆        ┆          ┆   ┆ tm…        ┆ is…        ┆ mi…        ┆ nt…        │\n",
      "│         ┆            ┆        ┆          ┆   ┆ ---        ┆ ---        ┆ ---        ┆ ---        │\n",
      "│         ┆            ┆        ┆          ┆   ┆ f32        ┆ f32        ┆ f32        ┆ f32        │\n",
      "╞═════════╪════════════╪════════╪══════════╪═══╪════════════╪════════════╪════════════╪════════════╡\n",
      "│ 57543   ┆ 18541      ┆ 202010 ┆ 92       ┆ … ┆ 1.0        ┆ 1.0        ┆ 1.0        ┆ 1.0        │\n",
      "│ 57549   ┆ 18541      ┆ 202010 ┆ 92       ┆ … ┆ 0.0        ┆ 1.0        ┆ 1.0        ┆ 1.0        │\n",
      "│ 57551   ┆ 18541      ┆ 202010 ┆ 92       ┆ … ┆ 1.0        ┆ 1.0        ┆ 1.0        ┆ 1.0        │\n",
      "│ 57552   ┆ 18542      ┆ 202010 ┆ 92       ┆ … ┆ 1.0        ┆ 1.0        ┆ 1.0        ┆ 1.0        │\n",
      "│ …       ┆ …          ┆ …      ┆ …        ┆ … ┆ …          ┆ …          ┆ …          ┆ …          │\n",
      "│ 57631   ┆ 18541      ┆ 202010 ┆ 92       ┆ … ┆ null       ┆ 1.0        ┆ null       ┆ null       │\n",
      "│ 57632   ┆ 18541      ┆ 202010 ┆ 92       ┆ … ┆ null       ┆ 1.0        ┆ 1.0        ┆ null       │\n",
      "│ 57633   ┆ 18541      ┆ 202010 ┆ 92       ┆ … ┆ 1.0        ┆ 1.0        ┆ 1.0        ┆ 1.0        │\n",
      "│ 57634   ┆ 18541      ┆ 202010 ┆ 92       ┆ … ┆ 1.0        ┆ 1.0        ┆ 1.0        ┆ 1.0        │\n",
      "└─────────┴────────────┴────────┴──────────┴───┴────────────┴────────────┴────────────┴────────────┘\n"
     ]
    },
    {
     "data": {
      "text/plain": [
       "0"
      ]
     },
     "execution_count": 8,
     "metadata": {},
     "output_type": "execute_result"
    }
   ],
   "source": [
    "test_df.write_parquet(\"/kaggle/working/test_df.parquet\")\n",
    "print(test_df.estimated_size() / 1024 / 1024)\n",
    "print(test_df)\n",
    "\n",
    "del test_df\n",
    "gc.collect()"
   ]
  },
  {
   "cell_type": "markdown",
   "id": "bbbf97c9",
   "metadata": {
    "_kg_hide-input": true,
    "papermill": {
     "duration": 0.01332,
     "end_time": "2024-03-07T08:02:56.451772",
     "exception": false,
     "start_time": "2024-03-07T08:02:56.438452",
     "status": "completed"
    },
    "tags": []
   },
   "source": [
    "# Data visualization"
   ]
  },
  {
   "cell_type": "code",
   "execution_count": null,
   "id": "d1f1910b",
   "metadata": {
    "papermill": {
     "duration": 0.013258,
     "end_time": "2024-03-07T08:02:56.478242",
     "exception": false,
     "start_time": "2024-03-07T08:02:56.464984",
     "status": "completed"
    },
    "tags": []
   },
   "outputs": [],
   "source": []
  },
  {
   "cell_type": "code",
   "execution_count": 9,
   "id": "71eba2e2",
   "metadata": {
    "execution": {
     "iopub.execute_input": "2024-03-07T08:02:56.506409Z",
     "iopub.status.busy": "2024-03-07T08:02:56.506091Z",
     "iopub.status.idle": "2024-03-07T08:02:56.510471Z",
     "shell.execute_reply": "2024-03-07T08:02:56.509546Z"
    },
    "papermill": {
     "duration": 0.020615,
     "end_time": "2024-03-07T08:02:56.512377",
     "exception": false,
     "start_time": "2024-03-07T08:02:56.491762",
     "status": "completed"
    },
    "tags": []
   },
   "outputs": [],
   "source": [
    "# train_dataset = data_loader.load_train_dataset()"
   ]
  },
  {
   "cell_type": "code",
   "execution_count": 10,
   "id": "59aa9024",
   "metadata": {
    "execution": {
     "iopub.execute_input": "2024-03-07T08:02:56.542449Z",
     "iopub.status.busy": "2024-03-07T08:02:56.542087Z",
     "iopub.status.idle": "2024-03-07T08:02:56.545776Z",
     "shell.execute_reply": "2024-03-07T08:02:56.544974Z"
    },
    "papermill": {
     "duration": 0.020456,
     "end_time": "2024-03-07T08:02:56.547432",
     "exception": false,
     "start_time": "2024-03-07T08:02:56.526976",
     "status": "completed"
    },
    "tags": []
   },
   "outputs": [],
   "source": [
    "# [column for column in train_df.columns if \"amtdebitincoming_4809443A\" in column]"
   ]
  },
  {
   "cell_type": "code",
   "execution_count": 11,
   "id": "e7c6a14b",
   "metadata": {
    "execution": {
     "iopub.execute_input": "2024-03-07T08:02:56.579059Z",
     "iopub.status.busy": "2024-03-07T08:02:56.578081Z",
     "iopub.status.idle": "2024-03-07T08:02:56.581581Z",
     "shell.execute_reply": "2024-03-07T08:02:56.581021Z"
    },
    "papermill": {
     "duration": 0.020742,
     "end_time": "2024-03-07T08:02:56.583473",
     "exception": false,
     "start_time": "2024-03-07T08:02:56.562731",
     "status": "completed"
    },
    "tags": []
   },
   "outputs": [],
   "source": [
    "# train_dataset.get_base()[\"target\"].mean()"
   ]
  },
  {
   "cell_type": "code",
   "execution_count": 12,
   "id": "49ae3243",
   "metadata": {
    "execution": {
     "iopub.execute_input": "2024-03-07T08:02:56.613811Z",
     "iopub.status.busy": "2024-03-07T08:02:56.613422Z",
     "iopub.status.idle": "2024-03-07T08:02:56.617324Z",
     "shell.execute_reply": "2024-03-07T08:02:56.616554Z"
    },
    "papermill": {
     "duration": 0.020942,
     "end_time": "2024-03-07T08:02:56.618952",
     "exception": false,
     "start_time": "2024-03-07T08:02:56.598010",
     "status": "completed"
    },
    "tags": []
   },
   "outputs": [],
   "source": [
    "# tables = {name: table for name, table in train_dataset.get_depth_tables(1)}"
   ]
  },
  {
   "cell_type": "code",
   "execution_count": 13,
   "id": "655b74f4",
   "metadata": {
    "execution": {
     "iopub.execute_input": "2024-03-07T08:02:56.647272Z",
     "iopub.status.busy": "2024-03-07T08:02:56.646910Z",
     "iopub.status.idle": "2024-03-07T08:02:56.651317Z",
     "shell.execute_reply": "2024-03-07T08:02:56.650204Z"
    },
    "papermill": {
     "duration": 0.020438,
     "end_time": "2024-03-07T08:02:56.652943",
     "exception": false,
     "start_time": "2024-03-07T08:02:56.632505",
     "status": "completed"
    },
    "tags": []
   },
   "outputs": [],
   "source": [
    "# applprev_1 = tables[\"applprev_1\"]"
   ]
  },
  {
   "cell_type": "code",
   "execution_count": 14,
   "id": "4e011147",
   "metadata": {
    "execution": {
     "iopub.execute_input": "2024-03-07T08:02:56.680635Z",
     "iopub.status.busy": "2024-03-07T08:02:56.680297Z",
     "iopub.status.idle": "2024-03-07T08:02:56.683930Z",
     "shell.execute_reply": "2024-03-07T08:02:56.683203Z"
    },
    "papermill": {
     "duration": 0.019239,
     "end_time": "2024-03-07T08:02:56.685430",
     "exception": false,
     "start_time": "2024-03-07T08:02:56.666191",
     "status": "completed"
    },
    "tags": []
   },
   "outputs": [],
   "source": [
    "# joined = applprev_1[\"case_id\"].value_counts().join(train_dataset.get_base()[[\"case_id\", \"target\"]], on=\"case_id\").sort(\"count\")\n",
    "# joined.filter(pl.col(\"target\") == 1)"
   ]
  },
  {
   "cell_type": "code",
   "execution_count": 15,
   "id": "8452ad5b",
   "metadata": {
    "execution": {
     "iopub.execute_input": "2024-03-07T08:02:56.712987Z",
     "iopub.status.busy": "2024-03-07T08:02:56.712702Z",
     "iopub.status.idle": "2024-03-07T08:02:56.716294Z",
     "shell.execute_reply": "2024-03-07T08:02:56.715575Z"
    },
    "papermill": {
     "duration": 0.019129,
     "end_time": "2024-03-07T08:02:56.717851",
     "exception": false,
     "start_time": "2024-03-07T08:02:56.698722",
     "status": "completed"
    },
    "tags": []
   },
   "outputs": [],
   "source": [
    "# base = train_dataset.get_base()"
   ]
  },
  {
   "cell_type": "code",
   "execution_count": 16,
   "id": "2317a4f8",
   "metadata": {
    "execution": {
     "iopub.execute_input": "2024-03-07T08:02:56.746134Z",
     "iopub.status.busy": "2024-03-07T08:02:56.745381Z",
     "iopub.status.idle": "2024-03-07T08:02:56.748969Z",
     "shell.execute_reply": "2024-03-07T08:02:56.748237Z"
    },
    "papermill": {
     "duration": 0.019705,
     "end_time": "2024-03-07T08:02:56.750827",
     "exception": false,
     "start_time": "2024-03-07T08:02:56.731122",
     "status": "completed"
    },
    "tags": []
   },
   "outputs": [],
   "source": [
    "# base.filter(pl.col(\"case_id\") == 2702490)"
   ]
  },
  {
   "cell_type": "code",
   "execution_count": 17,
   "id": "9bd2c209",
   "metadata": {
    "execution": {
     "iopub.execute_input": "2024-03-07T08:02:56.779199Z",
     "iopub.status.busy": "2024-03-07T08:02:56.778891Z",
     "iopub.status.idle": "2024-03-07T08:02:56.782163Z",
     "shell.execute_reply": "2024-03-07T08:02:56.781426Z"
    },
    "papermill": {
     "duration": 0.019277,
     "end_time": "2024-03-07T08:02:56.783733",
     "exception": false,
     "start_time": "2024-03-07T08:02:56.764456",
     "status": "completed"
    },
    "tags": []
   },
   "outputs": [],
   "source": [
    "# applprev_1.filter(applprev_1[\"case_id\"] == 2702490).sort(\"num_group1\")\n",
    "#base.filter(pl.col(\"case_id\") == 176526)"
   ]
  },
  {
   "cell_type": "code",
   "execution_count": 18,
   "id": "b5207397",
   "metadata": {
    "execution": {
     "iopub.execute_input": "2024-03-07T08:02:56.811506Z",
     "iopub.status.busy": "2024-03-07T08:02:56.811193Z",
     "iopub.status.idle": "2024-03-07T08:02:56.814566Z",
     "shell.execute_reply": "2024-03-07T08:02:56.813877Z"
    },
    "papermill": {
     "duration": 0.019807,
     "end_time": "2024-03-07T08:02:56.816843",
     "exception": false,
     "start_time": "2024-03-07T08:02:56.797036",
     "status": "completed"
    },
    "tags": []
   },
   "outputs": [],
   "source": [
    "# applprev_1.filter(applprev_1[\"case_id\"] == 2702490).sort(\"num_group1\")[[\"credamount_590A\", \"mainoccupationinc_437A\", \"rejectreason_755M\", \"rejectreasonclient_4145042M\"]]\n"
   ]
  },
  {
   "cell_type": "code",
   "execution_count": 19,
   "id": "3c81d827",
   "metadata": {
    "execution": {
     "iopub.execute_input": "2024-03-07T08:02:56.847204Z",
     "iopub.status.busy": "2024-03-07T08:02:56.846611Z",
     "iopub.status.idle": "2024-03-07T08:02:56.850271Z",
     "shell.execute_reply": "2024-03-07T08:02:56.849454Z"
    },
    "papermill": {
     "duration": 0.020464,
     "end_time": "2024-03-07T08:02:56.851939",
     "exception": false,
     "start_time": "2024-03-07T08:02:56.831475",
     "status": "completed"
    },
    "tags": []
   },
   "outputs": [],
   "source": [
    "# applprev_1.filter(applprev_1[\"case_id\"] == 176526).sort(\"num_group1\")[[\"credamount_590A\", \"mainoccupationinc_437A\", \"rejectreason_755M\", \"rejectreasonclient_4145042M\"]]a"
   ]
  },
  {
   "cell_type": "code",
   "execution_count": 20,
   "id": "de8b1533",
   "metadata": {
    "execution": {
     "iopub.execute_input": "2024-03-07T08:02:56.881011Z",
     "iopub.status.busy": "2024-03-07T08:02:56.880666Z",
     "iopub.status.idle": "2024-03-07T08:02:56.884305Z",
     "shell.execute_reply": "2024-03-07T08:02:56.883562Z"
    },
    "papermill": {
     "duration": 0.019727,
     "end_time": "2024-03-07T08:02:56.885791",
     "exception": false,
     "start_time": "2024-03-07T08:02:56.866064",
     "status": "completed"
    },
    "tags": []
   },
   "outputs": [],
   "source": [
    "# applprev_1.filter(applprev_1[\"case_id\"] == 176526).sort(\"num_group1\")"
   ]
  },
  {
   "cell_type": "code",
   "execution_count": 21,
   "id": "db5a7a01",
   "metadata": {
    "execution": {
     "iopub.execute_input": "2024-03-07T08:02:56.914030Z",
     "iopub.status.busy": "2024-03-07T08:02:56.913703Z",
     "iopub.status.idle": "2024-03-07T08:02:56.917636Z",
     "shell.execute_reply": "2024-03-07T08:02:56.916356Z"
    },
    "papermill": {
     "duration": 0.020261,
     "end_time": "2024-03-07T08:02:56.919538",
     "exception": false,
     "start_time": "2024-03-07T08:02:56.899277",
     "status": "completed"
    },
    "tags": []
   },
   "outputs": [],
   "source": [
    "# FreatureDescriptionGetter().get(\"rejectreasonclient_4145042M\")"
   ]
  },
  {
   "cell_type": "code",
   "execution_count": 22,
   "id": "e7ab2aef",
   "metadata": {
    "execution": {
     "iopub.execute_input": "2024-03-07T08:02:56.948037Z",
     "iopub.status.busy": "2024-03-07T08:02:56.947706Z",
     "iopub.status.idle": "2024-03-07T08:02:56.951697Z",
     "shell.execute_reply": "2024-03-07T08:02:56.950600Z"
    },
    "papermill": {
     "duration": 0.020012,
     "end_time": "2024-03-07T08:02:56.953276",
     "exception": false,
     "start_time": "2024-03-07T08:02:56.933264",
     "status": "completed"
    },
    "tags": []
   },
   "outputs": [],
   "source": [
    "# def bucket_mean_split(x, y, buckets=100):\n",
    "#     x_buckets = []\n",
    "#     y_buckets = []\n",
    "\n",
    "#     x = np.array(x)\n",
    "#     y = np.array(y)\n",
    "#     x_quantiles = [np.quantile(x, i / buckets) for i in range(0, buckets + 1)]\n",
    "#     for i in range(0, buckets):\n",
    "#         filter = (x >= x_quantiles[i]) & (x <= x_quantiles[i + 1])\n",
    "#         x_buckets.append(np.mean(x[filter]))\n",
    "#         y_buckets.append(np.mean(y[filter]))\n",
    "#     return x_buckets, y_buckets"
   ]
  },
  {
   "cell_type": "code",
   "execution_count": 23,
   "id": "da7d47be",
   "metadata": {
    "execution": {
     "iopub.execute_input": "2024-03-07T08:02:56.980883Z",
     "iopub.status.busy": "2024-03-07T08:02:56.980560Z",
     "iopub.status.idle": "2024-03-07T08:02:56.984893Z",
     "shell.execute_reply": "2024-03-07T08:02:56.983558Z"
    },
    "papermill": {
     "duration": 0.020055,
     "end_time": "2024-03-07T08:02:56.986616",
     "exception": false,
     "start_time": "2024-03-07T08:02:56.966561",
     "status": "completed"
    },
    "tags": []
   },
   "outputs": [],
   "source": [
    "# train[\"target\"].mean()"
   ]
  },
  {
   "cell_type": "code",
   "execution_count": 24,
   "id": "75a25a69",
   "metadata": {
    "execution": {
     "iopub.execute_input": "2024-03-07T08:02:57.014557Z",
     "iopub.status.busy": "2024-03-07T08:02:57.014195Z",
     "iopub.status.idle": "2024-03-07T08:02:57.018434Z",
     "shell.execute_reply": "2024-03-07T08:02:57.017334Z"
    },
    "papermill": {
     "duration": 0.020549,
     "end_time": "2024-03-07T08:02:57.020391",
     "exception": false,
     "start_time": "2024-03-07T08:02:56.999842",
     "status": "completed"
    },
    "tags": []
   },
   "outputs": [],
   "source": [
    "# print(\"Mean target={} where actualdpdtolerance_344P != 0\".format(train[\"target\"].filter(train[\"actualdpdtolerance_344P\"] != 0).mean()))\n",
    "# print(\"Mean target={} where actualdpdtolerance_344P == 0\".format(train[\"target\"].filter(train[\"actualdpdtolerance_344P\"] == 0).mean()))\n",
    "# print(\"Mean target={} where actualdpdtolerance_344P is null\".format(train[\"target\"].filter(train[\"actualdpdtolerance_344P\"].is_null()).mean()))"
   ]
  },
  {
   "cell_type": "code",
   "execution_count": 25,
   "id": "115ccd84",
   "metadata": {
    "execution": {
     "iopub.execute_input": "2024-03-07T08:02:57.048995Z",
     "iopub.status.busy": "2024-03-07T08:02:57.048657Z",
     "iopub.status.idle": "2024-03-07T08:02:57.052532Z",
     "shell.execute_reply": "2024-03-07T08:02:57.051792Z"
    },
    "papermill": {
     "duration": 0.020314,
     "end_time": "2024-03-07T08:02:57.054308",
     "exception": false,
     "start_time": "2024-03-07T08:02:57.033994",
     "status": "completed"
    },
    "tags": []
   },
   "outputs": [],
   "source": [
    "# columns = [column for column in train.columns if (train[column].dtype == pl.Float64)]\n",
    "\n",
    "# figure, axis = plt.subplots(len(columns) // 5 + 1, 5, figsize=(15, 30))\n",
    "# for index, column in enumerate(columns):\n",
    "#     current_plot = axis[index // 5, index % 5]\n",
    "#     x = train[column]\n",
    "#     y = train[\"target\"]\n",
    "#     if (x.dtype == pl.String or x.dtype == pl.Boolean):\n",
    "#         continue\n",
    "#     filter = x.is_not_null()\n",
    "#     x = x.filter(filter)\n",
    "#     y = y.filter(filter)\n",
    "#     if (x.is_empty()):\n",
    "#         continue\n",
    "#     x_bucket, y_bucket = bucket_mean_split(x.to_numpy(), y.to_numpy(), buckets=100)\n",
    "#     current_plot.plot(x_bucket, y_bucket)\n",
    "#     current_plot.set_title(column)\n",
    "# plt.show()"
   ]
  },
  {
   "cell_type": "code",
   "execution_count": 26,
   "id": "6e20812e",
   "metadata": {
    "execution": {
     "iopub.execute_input": "2024-03-07T08:02:57.082213Z",
     "iopub.status.busy": "2024-03-07T08:02:57.081877Z",
     "iopub.status.idle": "2024-03-07T08:02:57.085451Z",
     "shell.execute_reply": "2024-03-07T08:02:57.084683Z"
    },
    "papermill": {
     "duration": 0.019363,
     "end_time": "2024-03-07T08:02:57.086939",
     "exception": false,
     "start_time": "2024-03-07T08:02:57.067576",
     "status": "completed"
    },
    "tags": []
   },
   "outputs": [],
   "source": [
    "# features = train_df.columns\n",
    "# features.remove(\"WEEK_NUM\")\n",
    "# features.remove(\"case_id\")\n",
    "# features.remove(\"target\")"
   ]
  },
  {
   "cell_type": "code",
   "execution_count": 27,
   "id": "8aa15723",
   "metadata": {
    "execution": {
     "iopub.execute_input": "2024-03-07T08:02:57.114752Z",
     "iopub.status.busy": "2024-03-07T08:02:57.114433Z",
     "iopub.status.idle": "2024-03-07T08:02:57.117798Z",
     "shell.execute_reply": "2024-03-07T08:02:57.116980Z"
    },
    "papermill": {
     "duration": 0.019019,
     "end_time": "2024-03-07T08:02:57.119300",
     "exception": false,
     "start_time": "2024-03-07T08:02:57.100281",
     "status": "completed"
    },
    "tags": []
   },
   "outputs": [],
   "source": [
    "# gc.collect()"
   ]
  },
  {
   "cell_type": "markdown",
   "id": "ef0d5fe6",
   "metadata": {
    "papermill": {
     "duration": 0.012873,
     "end_time": "2024-03-07T08:02:57.145453",
     "exception": false,
     "start_time": "2024-03-07T08:02:57.132580",
     "status": "completed"
    },
    "tags": []
   },
   "source": [
    "### Feature Importance"
   ]
  },
  {
   "cell_type": "code",
   "execution_count": 28,
   "id": "34ea3e54",
   "metadata": {
    "execution": {
     "iopub.execute_input": "2024-03-07T08:02:57.173703Z",
     "iopub.status.busy": "2024-03-07T08:02:57.173335Z",
     "iopub.status.idle": "2024-03-07T08:02:57.177397Z",
     "shell.execute_reply": "2024-03-07T08:02:57.176665Z"
    },
    "papermill": {
     "duration": 0.020292,
     "end_time": "2024-03-07T08:02:57.179205",
     "exception": false,
     "start_time": "2024-03-07T08:02:57.158913",
     "status": "completed"
    },
    "tags": []
   },
   "outputs": [],
   "source": [
    "# def train_rf(X, Y):    \n",
    "#     params = {\n",
    "#         \"boosting_type\": \"gbdt\",\n",
    "#         \"objective\": \"binary\",\n",
    "#         \"metric\": \"auc\",\n",
    "#         \"max_depth\": 8,\n",
    "#         \"max_bin\": 255,\n",
    "#         \"learning_rate\": 0.05,\n",
    "#         \"n_estimators\": 200,\n",
    "#         \"colsample_bytree\": 0.8, \n",
    "#         \"colsample_bynode\": 0.8,\n",
    "#         \"verbose\": -1,\n",
    "#         \"random_state\": 42,\n",
    "#         \"device\": \"gpu\",\n",
    "#     }\n",
    "    \n",
    "#     model = lgb.LGBMClassifier(**params)\n",
    "    \n",
    "#     model.fit(X.to_pandas(), Y.to_pandas())\n",
    "    \n",
    "#     # Get feature importances\n",
    "#     return pl.DataFrame({\n",
    "#         \"feature\": list(X.columns),\n",
    "#         \"feature_importance\": model.feature_importances_,\n",
    "#         \"train_score\": roc_auc_score(Y.to_pandas(), model.predict(X.to_pandas()))\n",
    "#     })"
   ]
  },
  {
   "cell_type": "code",
   "execution_count": 29,
   "id": "c970b97b",
   "metadata": {
    "execution": {
     "iopub.execute_input": "2024-03-07T08:02:57.207630Z",
     "iopub.status.busy": "2024-03-07T08:02:57.207220Z",
     "iopub.status.idle": "2024-03-07T08:02:57.211008Z",
     "shell.execute_reply": "2024-03-07T08:02:57.210366Z"
    },
    "papermill": {
     "duration": 0.019665,
     "end_time": "2024-03-07T08:02:57.212418",
     "exception": false,
     "start_time": "2024-03-07T08:02:57.192753",
     "status": "completed"
    },
    "tags": []
   },
   "outputs": [],
   "source": [
    "# def get_feature_importance(X, Y):\n",
    "#     COUNT_ITER = 50\n",
    "    \n",
    "#     dfs = []\n",
    "#     for i in range(COUNT_ITER):\n",
    "#         gc.collect()\n",
    "        \n",
    "#         start_time = time.time()\n",
    "#         shuffled_Y = Y.clone().sample(fraction=1.0, shuffle=True)\n",
    "#         current_df = train_rf(X, shuffled_Y)\n",
    "#         finish_time = time.time()\n",
    "#         print(f\"Finish iteration: {i + 1}/{COUNT_ITER}, time: {finish_time - start_time}\")\n",
    "#         current_df = current_df.with_columns(pl.lit(i).alias(\"iteration\"))\n",
    "#         dfs.append(current_df)\n",
    "        \n",
    "#     return pl.concat(dfs, rechunk=True), train_rf(X, Y)"
   ]
  },
  {
   "cell_type": "code",
   "execution_count": 30,
   "id": "05644864",
   "metadata": {
    "execution": {
     "iopub.execute_input": "2024-03-07T08:02:57.240247Z",
     "iopub.status.busy": "2024-03-07T08:02:57.239945Z",
     "iopub.status.idle": "2024-03-07T08:02:57.243040Z",
     "shell.execute_reply": "2024-03-07T08:02:57.242448Z"
    },
    "papermill": {
     "duration": 0.018791,
     "end_time": "2024-03-07T08:02:57.244402",
     "exception": false,
     "start_time": "2024-03-07T08:02:57.225611",
     "status": "completed"
    },
    "tags": []
   },
   "outputs": [],
   "source": [
    "# shuffled_feature_importance_df, feature_importance_df = get_feature_importance(train_df[features], train_df[\"target\"])\n",
    "# shuffled_feature_importance_df.write_csv(\"shuffled_feature_importance_df.csv\", separator=\",\")\n",
    "# feature_importance_df.write_csv(\"feature_importance_df.csv\", separator=\",\")"
   ]
  },
  {
   "cell_type": "code",
   "execution_count": 31,
   "id": "c7c2d775",
   "metadata": {
    "execution": {
     "iopub.execute_input": "2024-03-07T08:02:57.272307Z",
     "iopub.status.busy": "2024-03-07T08:02:57.272011Z",
     "iopub.status.idle": "2024-03-07T08:02:57.275574Z",
     "shell.execute_reply": "2024-03-07T08:02:57.274805Z"
    },
    "papermill": {
     "duration": 0.019197,
     "end_time": "2024-03-07T08:02:57.277044",
     "exception": false,
     "start_time": "2024-03-07T08:02:57.257847",
     "status": "completed"
    },
    "tags": []
   },
   "outputs": [],
   "source": [
    "# important_features = []\n",
    "# for column in feature_importance_df[\"feature\"]:\n",
    "#     shuffled_feature_importance = shuffled_feature_importance_df.filter(shuffled_feature_importance_df[\"feature\"] == column)[\"feature_importance\"].to_numpy()\n",
    "#     feature_importance = feature_importance_df.filter(feature_importance_df[\"feature\"] == column)[\"feature_importance\"][0]\n",
    "    \n",
    "#     if (np.percentile(shuffled_feature_importance, 90) <= feature_importance):\n",
    "#         important_features.append(column)\n",
    "# print(len(important_features), important_features)"
   ]
  },
  {
   "cell_type": "markdown",
   "id": "bb7a9fb5",
   "metadata": {
    "papermill": {
     "duration": 0.012845,
     "end_time": "2024-03-07T08:02:57.303256",
     "exception": false,
     "start_time": "2024-03-07T08:02:57.290411",
     "status": "completed"
    },
    "tags": []
   },
   "source": [
    "# Training"
   ]
  },
  {
   "cell_type": "code",
   "execution_count": 32,
   "id": "3a16f149",
   "metadata": {
    "execution": {
     "iopub.execute_input": "2024-03-07T08:02:57.330928Z",
     "iopub.status.busy": "2024-03-07T08:02:57.330487Z",
     "iopub.status.idle": "2024-03-07T08:02:57.334755Z",
     "shell.execute_reply": "2024-03-07T08:02:57.334005Z"
    },
    "papermill": {
     "duration": 0.020047,
     "end_time": "2024-03-07T08:02:57.336340",
     "exception": false,
     "start_time": "2024-03-07T08:02:57.316293",
     "status": "completed"
    },
    "tags": []
   },
   "outputs": [],
   "source": [
    "# class VotingModel(BaseEstimator, RegressorMixin):\n",
    "#     def __init__(self, estimators):\n",
    "#         super().__init__()\n",
    "#         self.estimators = estimators\n",
    "        \n",
    "#     def fit(self, X, y=None):\n",
    "#         return self\n",
    "    \n",
    "#     def predict(self, X):\n",
    "#         y_preds = [estimator.predict(X) for estimator in self.estimators]\n",
    "#         return np.mean(y_preds, axis=0)\n",
    "    \n",
    "#     def predict_proba(self, X):\n",
    "#         y_preds = [estimator.predict_proba(X) for estimator in self.estimators]\n",
    "#         return np.mean(y_preds, axis=0)\n",
    "    \n",
    "#     def get_feature_importance(self):\n",
    "#         feature_importances = np.array([0 for feature in features])\n",
    "\n",
    "#         for model in self.estimators:\n",
    "#             feature_importances += model.feature_importances_\n",
    "\n",
    "#         return feature_importances"
   ]
  },
  {
   "cell_type": "code",
   "execution_count": 33,
   "id": "0344c36d",
   "metadata": {
    "execution": {
     "iopub.execute_input": "2024-03-07T08:02:57.364480Z",
     "iopub.status.busy": "2024-03-07T08:02:57.364199Z",
     "iopub.status.idle": "2024-03-07T08:02:57.367849Z",
     "shell.execute_reply": "2024-03-07T08:02:57.367051Z"
    },
    "papermill": {
     "duration": 0.019901,
     "end_time": "2024-03-07T08:02:57.369352",
     "exception": false,
     "start_time": "2024-03-07T08:02:57.349451",
     "status": "completed"
    },
    "tags": []
   },
   "outputs": [],
   "source": [
    "# for column in features:\n",
    "#     if (train_dataset[column].dtype != pl.Categorical) and \\\n",
    "#         (train_dataset[column].dtype != pl.Float64) and \\\n",
    "#         (train_dataset[column].dtype != pl.Float64):\n",
    "#         print(column, train_dataset[column].dtype)"
   ]
  },
  {
   "cell_type": "code",
   "execution_count": 34,
   "id": "d85aa542",
   "metadata": {
    "execution": {
     "iopub.execute_input": "2024-03-07T08:02:57.397621Z",
     "iopub.status.busy": "2024-03-07T08:02:57.397333Z",
     "iopub.status.idle": "2024-03-07T08:02:57.400443Z",
     "shell.execute_reply": "2024-03-07T08:02:57.399925Z"
    },
    "papermill": {
     "duration": 0.018727,
     "end_time": "2024-03-07T08:02:57.402023",
     "exception": false,
     "start_time": "2024-03-07T08:02:57.383296",
     "status": "completed"
    },
    "tags": []
   },
   "outputs": [],
   "source": [
    "# def train_lgb_model(X_train, Y_train, X_test, Y_test):\n",
    "#     params = {\n",
    "#         \"boosting_type\": \"gbdt\",\n",
    "#         \"objective\": \"binary\",\n",
    "#         \"metric\": \"auc\",\n",
    "#         \"max_depth\": 8,\n",
    "#         \"max_bin\": 250,\n",
    "#         \"learning_rate\": 0.05,\n",
    "#         \"n_estimators\": 1000,\n",
    "#         \"colsample_bytree\": 0.8, \n",
    "#         \"colsample_bynode\": 0.8,\n",
    "#         \"verbose\": -1,\n",
    "#         \"random_state\": 42,\n",
    "#         \"device\": \"gpu\",\n",
    "#     }\n",
    "    \n",
    "#     model = lgb.LGBMClassifier(**params)\n",
    "    \n",
    "#     model.fit(\n",
    "#         X_train, Y_train,\n",
    "#         eval_set=[(X_test, Y_test)],\n",
    "#         callbacks=[lgb.log_evaluation(100), lgb.early_stopping(100)]\n",
    "#     )\n",
    "        \n",
    "#     return model"
   ]
  },
  {
   "cell_type": "code",
   "execution_count": 35,
   "id": "d25092b3",
   "metadata": {
    "execution": {
     "iopub.execute_input": "2024-03-07T08:02:57.429225Z",
     "iopub.status.busy": "2024-03-07T08:02:57.428949Z",
     "iopub.status.idle": "2024-03-07T08:02:57.433157Z",
     "shell.execute_reply": "2024-03-07T08:02:57.432165Z"
    },
    "papermill": {
     "duration": 0.020666,
     "end_time": "2024-03-07T08:02:57.435757",
     "exception": false,
     "start_time": "2024-03-07T08:02:57.415091",
     "status": "completed"
    },
    "tags": []
   },
   "outputs": [],
   "source": [
    "# gc.collect()"
   ]
  },
  {
   "cell_type": "code",
   "execution_count": 36,
   "id": "fa3277ff",
   "metadata": {
    "execution": {
     "iopub.execute_input": "2024-03-07T08:02:57.465402Z",
     "iopub.status.busy": "2024-03-07T08:02:57.465044Z",
     "iopub.status.idle": "2024-03-07T08:02:57.470111Z",
     "shell.execute_reply": "2024-03-07T08:02:57.469155Z"
    },
    "papermill": {
     "duration": 0.021679,
     "end_time": "2024-03-07T08:02:57.471782",
     "exception": false,
     "start_time": "2024-03-07T08:02:57.450103",
     "status": "completed"
    },
    "tags": []
   },
   "outputs": [],
   "source": [
    "# weeks = train_df[\"WEEK_NUM\"]\n",
    "# cv = StratifiedGroupKFold(n_splits=5, shuffle=False)\n",
    "\n",
    "# fitted_models = []\n",
    "\n",
    "# oof_predicted = np.zeros(train_df.shape[0])\n",
    "\n",
    "# for idx_train, idx_test in cv.split(train_df[features], train_df[\"target\"], groups=weeks):        \n",
    "# #     X_train = train_df[features][idx_train].to_pandas()\n",
    "# #     Y_train = train_df[\"target\"][idx_train].to_pandas()\n",
    "    \n",
    "#     X_test = train_df[features][idx_test].to_pandas()\n",
    "#     Y_test = train_df[\"target\"][idx_test].to_pandas()\n",
    "    \n",
    "#     start = time.time()\n",
    "#     params = {\n",
    "#         \"boosting_type\": \"gbdt\",\n",
    "#         \"objective\": \"binary\",\n",
    "#         \"metric\": \"auc\",\n",
    "#         \"max_depth\": 8,\n",
    "#         \"max_bin\": 250,\n",
    "#         \"learning_rate\": 0.05,\n",
    "#         \"n_estimators\": 1000,\n",
    "#         \"colsample_bytree\": 0.8, \n",
    "#         \"colsample_bynode\": 0.8,\n",
    "#         \"verbose\": -1,\n",
    "#         \"random_state\": 42,\n",
    "#         \"device\": \"gpu\",\n",
    "#     }\n",
    "    \n",
    "#     model = lgb.LGBMClassifier(**params)\n",
    "    \n",
    "#     model.fit(\n",
    "#         train_df[features][idx_train].to_pandas(), train_df[\"target\"][idx_train].to_pandas(),\n",
    "#         eval_set=[(X_test, Y_test)],\n",
    "#         callbacks=[lgb.log_evaluation(100), lgb.early_stopping(100)]\n",
    "#     )\n",
    "        \n",
    "\n",
    "# #    model = train_lgb_model(X_train, Y_train, X_test, Y_test)\n",
    "#     finish = time.time()\n",
    "    \n",
    "#     print(\"fit time: {}\".format(finish - start))\n",
    "#     fitted_models.append(model)\n",
    "    \n",
    "#     test_pred = model.predict_proba(X_test)[:, 1]\n",
    "#     oof_predicted[idx_test] = test_pred\n",
    "#     gc.collect()\n",
    "\n",
    "# model = VotingModel(fitted_models)\n",
    "# gc.collect()"
   ]
  },
  {
   "cell_type": "code",
   "execution_count": 37,
   "id": "53f6d39f",
   "metadata": {
    "execution": {
     "iopub.execute_input": "2024-03-07T08:02:57.500539Z",
     "iopub.status.busy": "2024-03-07T08:02:57.500196Z",
     "iopub.status.idle": "2024-03-07T08:02:57.503444Z",
     "shell.execute_reply": "2024-03-07T08:02:57.502753Z"
    },
    "papermill": {
     "duration": 0.019101,
     "end_time": "2024-03-07T08:02:57.504936",
     "exception": false,
     "start_time": "2024-03-07T08:02:57.485835",
     "status": "completed"
    },
    "tags": []
   },
   "outputs": [],
   "source": [
    "# roc_auc_oof = roc_auc_score(train_df[\"target\"], oof_predicted)\n",
    "# print(\"CV roc_auc_oof: \", roc_auc_oof)"
   ]
  },
  {
   "cell_type": "markdown",
   "id": "c48004b4",
   "metadata": {
    "papermill": {
     "duration": 0.013117,
     "end_time": "2024-03-07T08:02:57.531244",
     "exception": false,
     "start_time": "2024-03-07T08:02:57.518127",
     "status": "completed"
    },
    "tags": []
   },
   "source": [
    "# Predict"
   ]
  },
  {
   "cell_type": "code",
   "execution_count": 38,
   "id": "ff2e4728",
   "metadata": {
    "execution": {
     "iopub.execute_input": "2024-03-07T08:02:57.560981Z",
     "iopub.status.busy": "2024-03-07T08:02:57.560296Z",
     "iopub.status.idle": "2024-03-07T08:02:57.563846Z",
     "shell.execute_reply": "2024-03-07T08:02:57.563288Z"
    },
    "papermill": {
     "duration": 0.021039,
     "end_time": "2024-03-07T08:02:57.565348",
     "exception": false,
     "start_time": "2024-03-07T08:02:57.544309",
     "status": "completed"
    },
    "tags": []
   },
   "outputs": [],
   "source": [
    "# del train_df\n",
    "# gc.collect()"
   ]
  },
  {
   "cell_type": "code",
   "execution_count": 39,
   "id": "6ff550f2",
   "metadata": {
    "execution": {
     "iopub.execute_input": "2024-03-07T08:02:57.594368Z",
     "iopub.status.busy": "2024-03-07T08:02:57.593793Z",
     "iopub.status.idle": "2024-03-07T08:02:57.597020Z",
     "shell.execute_reply": "2024-03-07T08:02:57.596468Z"
    },
    "papermill": {
     "duration": 0.0194,
     "end_time": "2024-03-07T08:02:57.598806",
     "exception": false,
     "start_time": "2024-03-07T08:02:57.579406",
     "status": "completed"
    },
    "tags": []
   },
   "outputs": [],
   "source": [
    "# test_dataset = data_loader.load_test_dataset()\n",
    "# print(\"Test dataset week range: {}-{}\".format(test_dataset.base[\"WEEK_NUM\"].min(), test_dataset.base[\"WEEK_NUM\"].max()))\n",
    "# gc.collect()\n",
    "# test_df = preprocessor.process_test_dataset(test_dataset)\n",
    "# del test_dataset\n",
    "# gc.collect()"
   ]
  },
  {
   "cell_type": "code",
   "execution_count": 40,
   "id": "7033163a",
   "metadata": {
    "execution": {
     "iopub.execute_input": "2024-03-07T08:02:57.627718Z",
     "iopub.status.busy": "2024-03-07T08:02:57.627159Z",
     "iopub.status.idle": "2024-03-07T08:02:57.630498Z",
     "shell.execute_reply": "2024-03-07T08:02:57.629919Z"
    },
    "papermill": {
     "duration": 0.019485,
     "end_time": "2024-03-07T08:02:57.632150",
     "exception": false,
     "start_time": "2024-03-07T08:02:57.612665",
     "status": "completed"
    },
    "tags": []
   },
   "outputs": [],
   "source": [
    "# print([name for value, name in reversed(sorted(zip(model.get_feature_importance(), features)))][0:200])"
   ]
  },
  {
   "cell_type": "code",
   "execution_count": null,
   "id": "986a1a86",
   "metadata": {
    "papermill": {
     "duration": 0.012718,
     "end_time": "2024-03-07T08:02:57.657947",
     "exception": false,
     "start_time": "2024-03-07T08:02:57.645229",
     "status": "completed"
    },
    "tags": []
   },
   "outputs": [],
   "source": []
  },
  {
   "cell_type": "code",
   "execution_count": 41,
   "id": "ccbbcf8c",
   "metadata": {
    "execution": {
     "iopub.execute_input": "2024-03-07T08:02:57.685449Z",
     "iopub.status.busy": "2024-03-07T08:02:57.685119Z",
     "iopub.status.idle": "2024-03-07T08:02:57.688571Z",
     "shell.execute_reply": "2024-03-07T08:02:57.687938Z"
    },
    "papermill": {
     "duration": 0.019102,
     "end_time": "2024-03-07T08:02:57.690014",
     "exception": false,
     "start_time": "2024-03-07T08:02:57.670912",
     "status": "completed"
    },
    "tags": []
   },
   "outputs": [],
   "source": [
    "# CV roc_auc_oof:  0.8353789451006361 without feature selection ~500 features\n",
    "# CV roc_auc_oof:  0.8329322959533371 with feature selection ~200 features"
   ]
  },
  {
   "cell_type": "code",
   "execution_count": null,
   "id": "ea2ce851",
   "metadata": {
    "papermill": {
     "duration": 0.012777,
     "end_time": "2024-03-07T08:02:57.715835",
     "exception": false,
     "start_time": "2024-03-07T08:02:57.703058",
     "status": "completed"
    },
    "tags": []
   },
   "outputs": [],
   "source": []
  },
  {
   "cell_type": "code",
   "execution_count": 42,
   "id": "0e3cf6f0",
   "metadata": {
    "execution": {
     "iopub.execute_input": "2024-03-07T08:02:57.743234Z",
     "iopub.status.busy": "2024-03-07T08:02:57.742909Z",
     "iopub.status.idle": "2024-03-07T08:02:57.746348Z",
     "shell.execute_reply": "2024-03-07T08:02:57.745667Z"
    },
    "papermill": {
     "duration": 0.019095,
     "end_time": "2024-03-07T08:02:57.747849",
     "exception": false,
     "start_time": "2024-03-07T08:02:57.728754",
     "status": "completed"
    },
    "tags": []
   },
   "outputs": [],
   "source": [
    "# def gini_stability(dataset, w_fallingrate=88.0, w_resstd=-0.5):\n",
    "#     gini_in_time = dataset\\\n",
    "#         .sort_values(\"WEEK_NUM\")\\\n",
    "#         .groupby(\"WEEK_NUM\")[[\"true\", \"predicted\"]]\\\n",
    "#         .apply(lambda x: 2 * roc_auc_score(x[\"true\"], x[\"predicted\"]) - 1).tolist()\n",
    "    \n",
    "#     x = np.arange(len(gini_in_time))\n",
    "#     y = gini_in_time\n",
    "#     a, b = np.polyfit(x, y, 1)\n",
    "#     y_hat = a * x + b\n",
    "#     residuals = y - y_hat\n",
    "#     res_std = np.std(residuals)\n",
    "#     avg_gini = np.mean(gini_in_time)\n",
    "    \n",
    "#     print(avg_gini, min(0, a), res_std)\n",
    "    \n",
    "#     return avg_gini + w_fallingrate * min(0, a) + w_resstd * res_std"
   ]
  },
  {
   "cell_type": "code",
   "execution_count": 43,
   "id": "1f69461c",
   "metadata": {
    "execution": {
     "iopub.execute_input": "2024-03-07T08:02:57.775123Z",
     "iopub.status.busy": "2024-03-07T08:02:57.774816Z",
     "iopub.status.idle": "2024-03-07T08:02:57.778104Z",
     "shell.execute_reply": "2024-03-07T08:02:57.777379Z"
    },
    "papermill": {
     "duration": 0.018775,
     "end_time": "2024-03-07T08:02:57.779677",
     "exception": false,
     "start_time": "2024-03-07T08:02:57.760902",
     "status": "completed"
    },
    "tags": []
   },
   "outputs": [],
   "source": [
    "# # Y_train_predicted = model.predict_proba(train_df[features].to_pandas())\n",
    "# Y_test_predicted = model.predict_proba(test_df[features].to_pandas())"
   ]
  },
  {
   "cell_type": "code",
   "execution_count": 44,
   "id": "9e2c9354",
   "metadata": {
    "execution": {
     "iopub.execute_input": "2024-03-07T08:02:57.807085Z",
     "iopub.status.busy": "2024-03-07T08:02:57.806808Z",
     "iopub.status.idle": "2024-03-07T08:02:57.810449Z",
     "shell.execute_reply": "2024-03-07T08:02:57.809717Z"
    },
    "papermill": {
     "duration": 0.019142,
     "end_time": "2024-03-07T08:02:57.811928",
     "exception": false,
     "start_time": "2024-03-07T08:02:57.792786",
     "status": "completed"
    },
    "tags": []
   },
   "outputs": [],
   "source": [
    "# result = pd.DataFrame({\n",
    "#     \"WEEK_NUM\": train_df[\"WEEK_NUM\"],\n",
    "#     \"true\": train_df[\"target\"],\n",
    "#     \"predicted\": Y_train_predicted[:, 1],\n",
    "# })\n",
    "\n",
    "# train_result = gini_stability(result)\n",
    "# print(\"train_score: {}\".format(train_result))\n",
    "\n",
    "# if MODE == Mode.Train:\n",
    "#     result = pd.DataFrame({\n",
    "#         \"WEEK_NUM\": test_df[\"WEEK_NUM\"],\n",
    "#         \"true\": test_df[\"target\"],\n",
    "#         \"predicted\": Y_test_predicted[:, 1],\n",
    "#     })\n",
    "\n",
    "#     test_result = gini_stability(result)\n",
    "#     print(\"test_score: {}\".format(test_result))"
   ]
  },
  {
   "cell_type": "code",
   "execution_count": 45,
   "id": "eea4e997",
   "metadata": {
    "execution": {
     "iopub.execute_input": "2024-03-07T08:02:57.840393Z",
     "iopub.status.busy": "2024-03-07T08:02:57.839354Z",
     "iopub.status.idle": "2024-03-07T08:02:57.843555Z",
     "shell.execute_reply": "2024-03-07T08:02:57.842862Z"
    },
    "papermill": {
     "duration": 0.019995,
     "end_time": "2024-03-07T08:02:57.845050",
     "exception": false,
     "start_time": "2024-03-07T08:02:57.825055",
     "status": "completed"
    },
    "tags": []
   },
   "outputs": [],
   "source": [
    "# Version 1, test_score: 0.583319926590042, public score 0.48\n",
    "# 100 iters\n",
    "\n",
    "# Version 2, test_score: 0.6062624701357268, public score 0.517\n",
    "# 300 iters\n",
    "\n",
    "# Version 3, test_score: ?, public score 0.545\n",
    "# 2000 iters\n",
    "\n",
    "# Version 4, test_score: ?, public score ?\n",
    "# ? iters, Improve aggregate functions for depth_1, depth_2\n"
   ]
  },
  {
   "cell_type": "markdown",
   "id": "7ed462f0",
   "metadata": {
    "papermill": {
     "duration": 0.012845,
     "end_time": "2024-03-07T08:02:57.870926",
     "exception": false,
     "start_time": "2024-03-07T08:02:57.858081",
     "status": "completed"
    },
    "tags": []
   },
   "source": [
    "# Submition"
   ]
  },
  {
   "cell_type": "code",
   "execution_count": 46,
   "id": "c80b12c7",
   "metadata": {
    "execution": {
     "iopub.execute_input": "2024-03-07T08:02:57.898979Z",
     "iopub.status.busy": "2024-03-07T08:02:57.898127Z",
     "iopub.status.idle": "2024-03-07T08:02:57.901967Z",
     "shell.execute_reply": "2024-03-07T08:02:57.901386Z"
    },
    "papermill": {
     "duration": 0.019699,
     "end_time": "2024-03-07T08:02:57.903691",
     "exception": false,
     "start_time": "2024-03-07T08:02:57.883992",
     "status": "completed"
    },
    "tags": []
   },
   "outputs": [],
   "source": [
    "# case_id = test_df[\"case_id\"]\n",
    "# X = test_df[features].to_pandas()\n",
    "\n",
    "# Y = model.predict_proba(X)\n",
    "\n",
    "# submission = pd.DataFrame({\n",
    "#     \"case_id\": case_id.to_numpy(),\n",
    "#     \"score\": Y[:, 1]\n",
    "# }).set_index('case_id')\n",
    "# submission.to_csv(\"./submission.csv\")"
   ]
  },
  {
   "cell_type": "code",
   "execution_count": null,
   "id": "2d824ae8",
   "metadata": {
    "papermill": {
     "duration": 0.014046,
     "end_time": "2024-03-07T08:02:57.931288",
     "exception": false,
     "start_time": "2024-03-07T08:02:57.917242",
     "status": "completed"
    },
    "tags": []
   },
   "outputs": [],
   "source": []
  },
  {
   "cell_type": "code",
   "execution_count": null,
   "id": "dfad02f9",
   "metadata": {
    "papermill": {
     "duration": 0.013199,
     "end_time": "2024-03-07T08:02:57.958590",
     "exception": false,
     "start_time": "2024-03-07T08:02:57.945391",
     "status": "completed"
    },
    "tags": []
   },
   "outputs": [],
   "source": []
  },
  {
   "cell_type": "code",
   "execution_count": null,
   "id": "3f667e87",
   "metadata": {
    "papermill": {
     "duration": 0.013049,
     "end_time": "2024-03-07T08:02:57.984936",
     "exception": false,
     "start_time": "2024-03-07T08:02:57.971887",
     "status": "completed"
    },
    "tags": []
   },
   "outputs": [],
   "source": []
  }
 ],
 "metadata": {
  "kaggle": {
   "accelerator": "none",
   "dataSources": [
    {
     "databundleVersionId": 7602123,
     "sourceId": 50160,
     "sourceType": "competition"
    },
    {
     "datasetId": 4496896,
     "sourceId": 7782224,
     "sourceType": "datasetVersion"
    }
   ],
   "dockerImageVersionId": 30635,
   "isGpuEnabled": false,
   "isInternetEnabled": false,
   "language": "python",
   "sourceType": "notebook"
  },
  "kernelspec": {
   "display_name": "Python 3",
   "language": "python",
   "name": "python3"
  },
  "language_info": {
   "codemirror_mode": {
    "name": "ipython",
    "version": 3
   },
   "file_extension": ".py",
   "mimetype": "text/x-python",
   "name": "python",
   "nbconvert_exporter": "python",
   "pygments_lexer": "ipython3",
   "version": "3.10.12"
  },
  "papermill": {
   "default_parameters": {},
   "duration": 494.840632,
   "end_time": "2024-03-07T08:02:58.721418",
   "environment_variables": {},
   "exception": null,
   "input_path": "__notebook__.ipynb",
   "output_path": "__notebook__.ipynb",
   "parameters": {},
   "start_time": "2024-03-07T07:54:43.880786",
   "version": "2.4.0"
  }
 },
 "nbformat": 4,
 "nbformat_minor": 5
}
