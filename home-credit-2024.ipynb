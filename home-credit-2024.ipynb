{
 "cells": [
  {
   "cell_type": "markdown",
   "id": "40bb9ff2",
   "metadata": {
    "papermill": {
     "duration": 0.01266,
     "end_time": "2024-03-09T19:43:00.997138",
     "exception": false,
     "start_time": "2024-03-09T19:43:00.984478",
     "status": "completed"
    },
    "tags": []
   },
   "source": [
    "# Install packages"
   ]
  },
  {
   "cell_type": "code",
   "execution_count": 1,
   "id": "04013007",
   "metadata": {
    "execution": {
     "iopub.execute_input": "2024-03-09T19:43:01.024818Z",
     "iopub.status.busy": "2024-03-09T19:43:01.023353Z",
     "iopub.status.idle": "2024-03-09T19:43:35.027933Z",
     "shell.execute_reply": "2024-03-09T19:43:35.026310Z"
    },
    "papermill": {
     "duration": 34.021437,
     "end_time": "2024-03-09T19:43:35.031079",
     "exception": false,
     "start_time": "2024-03-09T19:43:01.009642",
     "status": "completed"
    },
    "tags": []
   },
   "outputs": [
    {
     "name": "stdout",
     "output_type": "stream",
     "text": [
      "Processing /kaggle/input/kaggle-home-credit-risk-model-stability-lib/kaggle_home_credit_risk_model_stability-0.3-py3-none-any.whl\r\n",
      "Installing collected packages: kaggle-home-credit-risk-model-stability\r\n",
      "Successfully installed kaggle-home-credit-risk-model-stability-0.3\r\n"
     ]
    }
   ],
   "source": [
    "!pip install /kaggle/input/kaggle-home-credit-risk-model-stability-lib/kaggle_home_credit_risk_model_stability-0.3-py3-none-any.whl --force-reinstall"
   ]
  },
  {
   "cell_type": "markdown",
   "id": "97bc7630",
   "metadata": {
    "papermill": {
     "duration": 0.012492,
     "end_time": "2024-03-09T19:43:35.056894",
     "exception": false,
     "start_time": "2024-03-09T19:43:35.044402",
     "status": "completed"
    },
    "tags": []
   },
   "source": [
    "# Import packages"
   ]
  },
  {
   "cell_type": "code",
   "execution_count": 2,
   "id": "82cacdf5",
   "metadata": {
    "execution": {
     "iopub.execute_input": "2024-03-09T19:43:35.086418Z",
     "iopub.status.busy": "2024-03-09T19:43:35.085778Z",
     "iopub.status.idle": "2024-03-09T19:43:39.983258Z",
     "shell.execute_reply": "2024-03-09T19:43:39.982186Z"
    },
    "papermill": {
     "duration": 4.916855,
     "end_time": "2024-03-09T19:43:39.986419",
     "exception": false,
     "start_time": "2024-03-09T19:43:35.069564",
     "status": "completed"
    },
    "tags": []
   },
   "outputs": [],
   "source": [
    "import polars as pl\n",
    "import gc\n",
    "import time\n",
    "import numpy as np\n",
    "import pandas as pd\n",
    "import lightgbm as lgb\n",
    "import seaborn as sns\n",
    "import matplotlib.pyplot as plt\n",
    "import copy\n",
    "import lightgbm as lgb\n",
    "import importlib\n",
    "\n",
    "import kaggle_home_credit_risk_model_stability.libs as hcr\n",
    "from kaggle_home_credit_risk_model_stability.libs.input.dataset import Dataset\n",
    "from kaggle_home_credit_risk_model_stability.libs.input.data_loader import DataLoader\n",
    "from kaggle_home_credit_risk_model_stability.libs.preprocessor.preprocessor import Preprocessor\n",
    "from kaggle_home_credit_risk_model_stability.libs.preprocessor.steps import *\n",
    "from kaggle_home_credit_risk_model_stability.libs.preprocessor.columns_info import ColumnsInfo\n",
    "from kaggle_home_credit_risk_model_stability.libs.feature_description.feature_description import FreatureDescriptionGetter\n",
    "\n",
    "from collections import defaultdict\n",
    "from glob import glob\n",
    "from pathlib import Path\n",
    "from sklearn.model_selection import train_test_split\n",
    "from sklearn.metrics import roc_auc_score\n",
    "from sklearn.model_selection import StratifiedGroupKFold\n",
    "from sklearn.base import BaseEstimator, RegressorMixin\n",
    "from catboost import CatBoostClassifier\n",
    "from enum import Enum"
   ]
  },
  {
   "cell_type": "code",
   "execution_count": 3,
   "id": "31790610",
   "metadata": {
    "execution": {
     "iopub.execute_input": "2024-03-09T19:43:40.014547Z",
     "iopub.status.busy": "2024-03-09T19:43:40.014056Z",
     "iopub.status.idle": "2024-03-09T19:43:40.022737Z",
     "shell.execute_reply": "2024-03-09T19:43:40.021298Z"
    },
    "papermill": {
     "duration": 0.025331,
     "end_time": "2024-03-09T19:43:40.025139",
     "exception": false,
     "start_time": "2024-03-09T19:43:39.999808",
     "status": "completed"
    },
    "tags": []
   },
   "outputs": [],
   "source": [
    "data_loader = DataLoader()\n",
    "preprocessor = Preprocessor({\n",
    "    \"set_column_info_step\": SetColumnsInfoStep(),\n",
    "    \"set_types\": SetTypesStep(),\n",
    "    \"process_categorical\": ProcessCategoricalStep(),\n",
    "    \"process_person_table\": ProcessPersonTableStep(),\n",
    "    \"one_hot_encoding_for_depth1\": OneHotEncodingForDepth1Step(),\n",
    "    \"pairwise_diff_raw_dates\": PairwiseDateDiffStep(),\n",
    "    \"aggregate_depth_table\": AggregateDepthTableStep(),\n",
    "    \"drop_equal_columns\": DropEqualColumnsStep(),\n",
    "    \"drop_almost_null_features_respect_to_target\": DropAlmostNullFeaturesWithRespectToTargetStep(),\n",
    "    \"join_table\": JoinTablesStep(),\n",
    "    \"fill_nulls_in_categorical_features\": FillNullsInCategoricalFeaturesStep(),\n",
    "    **{\n",
    "        f\"create_money_feature_fraction_{base_column}\": CreateMoneyFeatureFractionStep(base_column)\n",
    "        for base_column in [\"credamount_770A\", \"maininc_215A\", \"mainoccupationinc_384A\", \"mean_amount_416A\"]\n",
    "    },\n",
    "    \"generate_mismatch_features\": GenerateMismatchFeaturesStep(),\n",
    "    \"generate_target_distribution_based_on_categorical_features_step\": GenerateTargetDistributionBasedOnCategoricalStep(),\n",
    "    \"drop_single_value_features\": DropSingleValueFeaturesStep(),\n",
    "    \"reduce_memory_usage\": ReduceMemoryUsageStep()\n",
    "})\n",
    "columns_info = ColumnsInfo()"
   ]
  },
  {
   "cell_type": "code",
   "execution_count": 4,
   "id": "3be4c07e",
   "metadata": {
    "execution": {
     "iopub.execute_input": "2024-03-09T19:43:40.052349Z",
     "iopub.status.busy": "2024-03-09T19:43:40.051834Z",
     "iopub.status.idle": "2024-03-09T19:43:40.057579Z",
     "shell.execute_reply": "2024-03-09T19:43:40.056358Z"
    },
    "papermill": {
     "duration": 0.022411,
     "end_time": "2024-03-09T19:43:40.060046",
     "exception": false,
     "start_time": "2024-03-09T19:43:40.037635",
     "status": "completed"
    },
    "tags": []
   },
   "outputs": [],
   "source": [
    "# train_dataset = data_loader.load_train_dataset()\n",
    "# case_id_set = train_dataset.get_base().filter(train_dataset.get_base()[\"WEEK_NUM\"] < 10)[\"case_id\"]\n",
    "# train_dataset = train_dataset.filter(lambda table: table.filter(pl.col(\"case_id\").is_in(case_id_set)))"
   ]
  },
  {
   "cell_type": "code",
   "execution_count": 5,
   "id": "028fde47",
   "metadata": {
    "execution": {
     "iopub.execute_input": "2024-03-09T19:43:40.088219Z",
     "iopub.status.busy": "2024-03-09T19:43:40.086800Z",
     "iopub.status.idle": "2024-03-09T19:59:09.045615Z",
     "shell.execute_reply": "2024-03-09T19:59:09.044157Z"
    },
    "papermill": {
     "duration": 928.976668,
     "end_time": "2024-03-09T19:59:09.049205",
     "exception": false,
     "start_time": "2024-03-09T19:43:40.072537",
     "status": "completed"
    },
    "tags": []
   },
   "outputs": [
    {
     "name": "stdout",
     "output_type": "stream",
     "text": [
      "Train dataset week range: 0-91\n",
      "Step: set_column_info_step, execution_time: 0.1606900691986084\n",
      "Step: set_types, execution_time: 12.437237977981567\n",
      "Step: process_categorical, execution_time: 28.1818790435791\n",
      "Step: process_person_table, execution_time: 0.473099946975708\n",
      "Create 250 new columns as one hot encoding\n",
      "Step: one_hot_encoding_for_depth1, execution_time: 26.81368660926819\n",
      "Create 172 new columns as pairwise dates diff\n",
      "Step: pairwise_diff_raw_dates, execution_time: 1.7483148574829102\n",
      "Step: aggregate_depth_table, execution_time: 63.19113636016846\n",
      "Drop 305 columns as duplicates\n",
      "Step: drop_equal_columns, execution_time: 9.05607295036316\n",
      "Drop 530 columns as almost null\n",
      "Step: drop_almost_null_features_respect_to_target, execution_time: 530.4254548549652\n",
      "Step: join_table, execution_time: 21.002862215042114\n",
      "Step: fill_nulls_in_categorical_features, execution_time: 17.33397674560547\n",
      "Create 130 new columns as money feature fraction with base 'credamount_770A'\n",
      "Step: create_money_feature_fraction_credamount_770A, execution_time: 6.1041035652160645\n",
      "Create 130 new columns as money feature fraction with base 'maininc_215A'\n",
      "Step: create_money_feature_fraction_maininc_215A, execution_time: 9.077778816223145\n",
      "Create 130 new columns as money feature fraction with base 'mainoccupationinc_384A'\n",
      "Step: create_money_feature_fraction_mainoccupationinc_384A, execution_time: 6.824840068817139\n",
      "Create 130 new columns as money feature fraction with base 'mean_amount_416A'\n",
      "Step: create_money_feature_fraction_mean_amount_416A, execution_time: 9.250269889831543\n",
      "Create 60 new columns as feature mismatch\n",
      "Step: generate_mismatch_features, execution_time: 52.91800045967102\n",
      "Create 206 as target distribution by categorical feature\n",
      "Step: generate_target_distribution_based_on_categorical_features_step, execution_time: 42.244908809661865\n",
      "Drop 15 columns as single value\n",
      "Step: drop_single_value_features, execution_time: 55.112112283706665\n",
      "Step: reduce_memory_usage, execution_time: 22.66520929336548\n"
     ]
    },
    {
     "data": {
      "text/plain": [
       "0"
      ]
     },
     "execution_count": 5,
     "metadata": {},
     "output_type": "execute_result"
    }
   ],
   "source": [
    "train_dataset = data_loader.load_train_dataset()\n",
    "print(\"Train dataset week range: {}-{}\".format(train_dataset.get_base()[\"WEEK_NUM\"].min(), train_dataset.get_base()[\"WEEK_NUM\"].max()))\n",
    "gc.collect()\n",
    "train_df, columns_info = preprocessor.process_train_dataset(train_dataset, columns_info)\n",
    "del train_dataset\n",
    "\n",
    "gc.collect()"
   ]
  },
  {
   "cell_type": "code",
   "execution_count": 6,
   "id": "570090b8",
   "metadata": {
    "execution": {
     "iopub.execute_input": "2024-03-09T19:59:09.081172Z",
     "iopub.status.busy": "2024-03-09T19:59:09.079804Z",
     "iopub.status.idle": "2024-03-09T19:59:14.896742Z",
     "shell.execute_reply": "2024-03-09T19:59:14.895659Z"
    },
    "papermill": {
     "duration": 5.836085,
     "end_time": "2024-03-09T19:59:14.899709",
     "exception": false,
     "start_time": "2024-03-09T19:59:09.063624",
     "status": "completed"
    },
    "tags": []
   },
   "outputs": [],
   "source": [
    "for column in train_df.columns:\n",
    "    if train_df[column].dtype != pl.Enum:\n",
    "        x = train_df[column].is_infinite().sum() + train_df[column].is_nan().sum()\n",
    "        assert(x == 0)"
   ]
  },
  {
   "cell_type": "code",
   "execution_count": 7,
   "id": "f55aacc0",
   "metadata": {
    "execution": {
     "iopub.execute_input": "2024-03-09T19:59:14.931866Z",
     "iopub.status.busy": "2024-03-09T19:59:14.930742Z",
     "iopub.status.idle": "2024-03-09T20:00:15.428277Z",
     "shell.execute_reply": "2024-03-09T20:00:15.427080Z"
    },
    "papermill": {
     "duration": 60.533345,
     "end_time": "2024-03-09T20:00:15.447700",
     "exception": false,
     "start_time": "2024-03-09T19:59:14.914355",
     "status": "completed"
    },
    "tags": []
   },
   "outputs": [
    {
     "name": "stdout",
     "output_type": "stream",
     "text": [
      "9076.905042648315\n",
      "shape: (1_526_659, 1_754)\n",
      "┌─────────┬────────────┬────────┬──────────┬───┬────────────┬────────────┬────────────┬────────────┐\n",
      "│ case_id ┆ date_decis ┆ MONTH  ┆ WEEK_NUM ┆ … ┆ last_role_ ┆ last_role_ ┆ last_type_ ┆ last_type_ │\n",
      "│ ---     ┆ ion        ┆ ---    ┆ ---      ┆   ┆ 993L_targe ┆ 993L_value ┆ 25L_target ┆ 25L_value_ │\n",
      "│ i32     ┆ ---        ┆ i32    ┆ i8       ┆   ┆ t_distribu ┆ _persent   ┆ _distribut ┆ persent    │\n",
      "│         ┆ i16        ┆        ┆          ┆   ┆ ti…        ┆ ---        ┆ io…        ┆ ---        │\n",
      "│         ┆            ┆        ┆          ┆   ┆ ---        ┆ f32        ┆ ---        ┆ f32        │\n",
      "│         ┆            ┆        ┆          ┆   ┆ f32        ┆            ┆ f32        ┆            │\n",
      "╞═════════╪════════════╪════════╪══════════╪═══╪════════════╪════════════╪════════════╪════════════╡\n",
      "│ 0       ┆ 17899      ┆ 201901 ┆ 0        ┆ … ┆ 0.031434   ┆ 0.994499   ┆ 0.033826   ┆ 0.424935   │\n",
      "│ 1       ┆ 17899      ┆ 201901 ┆ 0        ┆ … ┆ 0.031434   ┆ 0.994499   ┆ 0.033826   ┆ 0.424935   │\n",
      "│ 2       ┆ 17900      ┆ 201901 ┆ 0        ┆ … ┆ 0.031434   ┆ 0.994499   ┆ 0.033826   ┆ 0.424935   │\n",
      "│ 3       ┆ 17899      ┆ 201901 ┆ 0        ┆ … ┆ 0.031434   ┆ 0.994499   ┆ 0.033826   ┆ 0.424935   │\n",
      "│ …       ┆ …          ┆ …      ┆ …        ┆ … ┆ …          ┆ …          ┆ …          ┆ …          │\n",
      "│ 2703451 ┆ 18540      ┆ 202010 ┆ 91       ┆ … ┆ 0.031434   ┆ 0.994499   ┆ 0.020385   ┆ 0.02545    │\n",
      "│ 2703452 ┆ 18540      ┆ 202010 ┆ 91       ┆ … ┆ 0.031434   ┆ 0.994499   ┆ 0.03012    ┆ 0.507943   │\n",
      "│ 2703453 ┆ 18540      ┆ 202010 ┆ 91       ┆ … ┆ 0.031434   ┆ 0.994499   ┆ 0.020385   ┆ 0.02545    │\n",
      "│ 2703454 ┆ 18540      ┆ 202010 ┆ 91       ┆ … ┆ 0.031434   ┆ 0.994499   ┆ 0.03012    ┆ 0.507943   │\n",
      "└─────────┴────────────┴────────┴──────────┴───┴────────────┴────────────┴────────────┴────────────┘\n"
     ]
    },
    {
     "data": {
      "text/plain": [
       "0"
      ]
     },
     "execution_count": 7,
     "metadata": {},
     "output_type": "execute_result"
    }
   ],
   "source": [
    "train_df.write_parquet(\"/kaggle/working/train_df.parquet\")\n",
    "print(train_df.estimated_size() / 1024 / 1024)\n",
    "print(train_df)\n",
    "\n",
    "del train_df\n",
    "gc.collect()"
   ]
  },
  {
   "cell_type": "code",
   "execution_count": 8,
   "id": "1f772f94",
   "metadata": {
    "execution": {
     "iopub.execute_input": "2024-03-09T20:00:15.479596Z",
     "iopub.status.busy": "2024-03-09T20:00:15.479123Z",
     "iopub.status.idle": "2024-03-09T20:00:26.486300Z",
     "shell.execute_reply": "2024-03-09T20:00:26.485398Z"
    },
    "papermill": {
     "duration": 11.02689,
     "end_time": "2024-03-09T20:00:26.489310",
     "exception": false,
     "start_time": "2024-03-09T20:00:15.462420",
     "status": "completed"
    },
    "tags": []
   },
   "outputs": [
    {
     "name": "stdout",
     "output_type": "stream",
     "text": [
      "Test dataset week range: 92-92\n",
      "Step: set_column_info_step, execution_time: 0.1908886432647705\n",
      "Step: set_types, execution_time: 0.22331953048706055\n",
      "Step: process_categorical, execution_time: 0.3899815082550049\n",
      "Step: process_person_table, execution_time: 0.1967487335205078\n",
      "Create 250 new columns as one hot encoding\n",
      "Step: one_hot_encoding_for_depth1, execution_time: 0.24865293502807617\n",
      "Create 172 new columns as pairwise dates diff\n",
      "Step: pairwise_diff_raw_dates, execution_time: 0.23162436485290527\n",
      "Step: aggregate_depth_table, execution_time: 0.5787665843963623\n",
      "Step: drop_equal_columns, execution_time: 0.57554030418396\n",
      "Step: drop_almost_null_features_respect_to_target, execution_time: 0.7016994953155518\n",
      "Step: join_table, execution_time: 2.9869110584259033\n",
      "Step: fill_nulls_in_categorical_features, execution_time: 0.7413341999053955\n",
      "Create 130 new columns as money feature fraction with base 'credamount_770A'\n",
      "Step: create_money_feature_fraction_credamount_770A, execution_time: 0.2710840702056885\n",
      "Create 130 new columns as money feature fraction with base 'maininc_215A'\n",
      "Step: create_money_feature_fraction_maininc_215A, execution_time: 0.27854275703430176\n",
      "Create 130 new columns as money feature fraction with base 'mainoccupationinc_384A'\n",
      "Step: create_money_feature_fraction_mainoccupationinc_384A, execution_time: 0.2813293933868408\n",
      "Create 130 new columns as money feature fraction with base 'mean_amount_416A'\n",
      "Step: create_money_feature_fraction_mean_amount_416A, execution_time: 0.27779674530029297\n",
      "Create 60 new columns as feature mismatch\n",
      "Step: generate_mismatch_features, execution_time: 0.21492910385131836\n",
      "Create 206 as target distribution by categorical feature\n",
      "Step: generate_target_distribution_based_on_categorical_features_step, execution_time: 0.39197683334350586\n",
      "Step: drop_single_value_features, execution_time: 0.1931314468383789\n",
      "Step: reduce_memory_usage, execution_time: 1.5072157382965088\n"
     ]
    },
    {
     "data": {
      "text/plain": [
       "0"
      ]
     },
     "execution_count": 8,
     "metadata": {},
     "output_type": "execute_result"
    }
   ],
   "source": [
    "test_dataset = data_loader.load_test_dataset()\n",
    "print(\"Test dataset week range: {}-{}\".format(test_dataset.get_base()[\"WEEK_NUM\"].min(), test_dataset.get_base()[\"WEEK_NUM\"].max()))\n",
    "gc.collect()\n",
    "test_df, columns_info = preprocessor.process_test_dataset(test_dataset, columns_info)\n",
    "del test_dataset\n",
    "\n",
    "gc.collect()"
   ]
  },
  {
   "cell_type": "code",
   "execution_count": 9,
   "id": "11adb641",
   "metadata": {
    "execution": {
     "iopub.execute_input": "2024-03-09T20:00:26.528840Z",
     "iopub.status.busy": "2024-03-09T20:00:26.528340Z",
     "iopub.status.idle": "2024-03-09T20:00:27.316114Z",
     "shell.execute_reply": "2024-03-09T20:00:27.314905Z"
    },
    "papermill": {
     "duration": 0.814357,
     "end_time": "2024-03-09T20:00:27.322781",
     "exception": false,
     "start_time": "2024-03-09T20:00:26.508424",
     "status": "completed"
    },
    "tags": []
   },
   "outputs": [
    {
     "name": "stdout",
     "output_type": "stream",
     "text": [
      "11.839970588684082\n",
      "shape: (10, 1_753)\n",
      "┌─────────┬────────────┬────────┬──────────┬───┬────────────┬────────────┬────────────┬────────────┐\n",
      "│ case_id ┆ date_decis ┆ MONTH  ┆ WEEK_NUM ┆ … ┆ last_role_ ┆ last_role_ ┆ last_type_ ┆ last_type_ │\n",
      "│ ---     ┆ ion        ┆ ---    ┆ ---      ┆   ┆ 993L_targe ┆ 993L_value ┆ 25L_target ┆ 25L_value_ │\n",
      "│ i32     ┆ ---        ┆ i32    ┆ i8       ┆   ┆ t_distribu ┆ _persent   ┆ _distribut ┆ persent    │\n",
      "│         ┆ i16        ┆        ┆          ┆   ┆ ti…        ┆ ---        ┆ io…        ┆ ---        │\n",
      "│         ┆            ┆        ┆          ┆   ┆ ---        ┆ f32        ┆ ---        ┆ f32        │\n",
      "│         ┆            ┆        ┆          ┆   ┆ f32        ┆            ┆ f32        ┆            │\n",
      "╞═════════╪════════════╪════════╪══════════╪═══╪════════════╪════════════╪════════════╪════════════╡\n",
      "│ 57543   ┆ 18541      ┆ 202010 ┆ 92       ┆ … ┆ 0.031434   ┆ 0.994499   ┆ 0.033826   ┆ 0.424935   │\n",
      "│ 57549   ┆ 18541      ┆ 202010 ┆ 92       ┆ … ┆ 0.031434   ┆ 0.994499   ┆ 0.033826   ┆ 0.424935   │\n",
      "│ 57551   ┆ 18541      ┆ 202010 ┆ 92       ┆ … ┆ 0.031434   ┆ 0.994499   ┆ 0.033826   ┆ 0.424935   │\n",
      "│ 57552   ┆ 18542      ┆ 202010 ┆ 92       ┆ … ┆ 0.031434   ┆ 0.994499   ┆ 0.03012    ┆ 0.507943   │\n",
      "│ …       ┆ …          ┆ …      ┆ …        ┆ … ┆ …          ┆ …          ┆ …          ┆ …          │\n",
      "│ 57631   ┆ 18541      ┆ 202010 ┆ 92       ┆ … ┆ 0.031434   ┆ 0.994499   ┆ 0.03012    ┆ 0.507943   │\n",
      "│ 57632   ┆ 18541      ┆ 202010 ┆ 92       ┆ … ┆ 0.031434   ┆ 0.994499   ┆ 0.03012    ┆ 0.507943   │\n",
      "│ 57633   ┆ 18541      ┆ 202010 ┆ 92       ┆ … ┆ 0.031434   ┆ 0.994499   ┆ 0.03012    ┆ 0.507943   │\n",
      "│ 57634   ┆ 18541      ┆ 202010 ┆ 92       ┆ … ┆ 0.031434   ┆ 0.994499   ┆ 0.03012    ┆ 0.507943   │\n",
      "└─────────┴────────────┴────────┴──────────┴───┴────────────┴────────────┴────────────┴────────────┘\n"
     ]
    },
    {
     "data": {
      "text/plain": [
       "0"
      ]
     },
     "execution_count": 9,
     "metadata": {},
     "output_type": "execute_result"
    }
   ],
   "source": [
    "test_df.write_parquet(\"/kaggle/working/test_df.parquet\")\n",
    "print(test_df.estimated_size() / 1024 / 1024)\n",
    "print(test_df)\n",
    "\n",
    "del test_df\n",
    "gc.collect()"
   ]
  },
  {
   "cell_type": "markdown",
   "id": "526b6d99",
   "metadata": {
    "_kg_hide-input": true,
    "papermill": {
     "duration": 0.017559,
     "end_time": "2024-03-09T20:00:27.358051",
     "exception": false,
     "start_time": "2024-03-09T20:00:27.340492",
     "status": "completed"
    },
    "tags": []
   },
   "source": [
    "# Data visualization"
   ]
  },
  {
   "cell_type": "code",
   "execution_count": null,
   "id": "34d9dec1",
   "metadata": {
    "papermill": {
     "duration": 0.017677,
     "end_time": "2024-03-09T20:00:27.393287",
     "exception": false,
     "start_time": "2024-03-09T20:00:27.375610",
     "status": "completed"
    },
    "tags": []
   },
   "outputs": [],
   "source": []
  },
  {
   "cell_type": "code",
   "execution_count": 10,
   "id": "d34cd16b",
   "metadata": {
    "execution": {
     "iopub.execute_input": "2024-03-09T20:00:27.431957Z",
     "iopub.status.busy": "2024-03-09T20:00:27.431444Z",
     "iopub.status.idle": "2024-03-09T20:00:27.437425Z",
     "shell.execute_reply": "2024-03-09T20:00:27.436077Z"
    },
    "papermill": {
     "duration": 0.028379,
     "end_time": "2024-03-09T20:00:27.439953",
     "exception": false,
     "start_time": "2024-03-09T20:00:27.411574",
     "status": "completed"
    },
    "tags": []
   },
   "outputs": [],
   "source": [
    "# train_dataset = data_loader.load_train_dataset()"
   ]
  },
  {
   "cell_type": "code",
   "execution_count": 11,
   "id": "0557840c",
   "metadata": {
    "execution": {
     "iopub.execute_input": "2024-03-09T20:00:27.478285Z",
     "iopub.status.busy": "2024-03-09T20:00:27.477757Z",
     "iopub.status.idle": "2024-03-09T20:00:27.483490Z",
     "shell.execute_reply": "2024-03-09T20:00:27.482055Z"
    },
    "papermill": {
     "duration": 0.027712,
     "end_time": "2024-03-09T20:00:27.486455",
     "exception": false,
     "start_time": "2024-03-09T20:00:27.458743",
     "status": "completed"
    },
    "tags": []
   },
   "outputs": [],
   "source": [
    "# [column for column in train_df.columns if \"amtdebitincoming_4809443A\" in column]"
   ]
  },
  {
   "cell_type": "code",
   "execution_count": 12,
   "id": "7403772d",
   "metadata": {
    "execution": {
     "iopub.execute_input": "2024-03-09T20:00:27.526879Z",
     "iopub.status.busy": "2024-03-09T20:00:27.526360Z",
     "iopub.status.idle": "2024-03-09T20:00:27.531553Z",
     "shell.execute_reply": "2024-03-09T20:00:27.530290Z"
    },
    "papermill": {
     "duration": 0.029354,
     "end_time": "2024-03-09T20:00:27.534292",
     "exception": false,
     "start_time": "2024-03-09T20:00:27.504938",
     "status": "completed"
    },
    "tags": []
   },
   "outputs": [],
   "source": [
    "# train_dataset.get_base()[\"target\"].mean()"
   ]
  },
  {
   "cell_type": "code",
   "execution_count": 13,
   "id": "594ded00",
   "metadata": {
    "execution": {
     "iopub.execute_input": "2024-03-09T20:00:27.573184Z",
     "iopub.status.busy": "2024-03-09T20:00:27.571479Z",
     "iopub.status.idle": "2024-03-09T20:00:27.578045Z",
     "shell.execute_reply": "2024-03-09T20:00:27.577010Z"
    },
    "papermill": {
     "duration": 0.027938,
     "end_time": "2024-03-09T20:00:27.580749",
     "exception": false,
     "start_time": "2024-03-09T20:00:27.552811",
     "status": "completed"
    },
    "tags": []
   },
   "outputs": [],
   "source": [
    "# tables = {name: table for name, table in train_dataset.get_depth_tables(1)}"
   ]
  },
  {
   "cell_type": "code",
   "execution_count": 14,
   "id": "f6c90718",
   "metadata": {
    "execution": {
     "iopub.execute_input": "2024-03-09T20:00:27.619067Z",
     "iopub.status.busy": "2024-03-09T20:00:27.618582Z",
     "iopub.status.idle": "2024-03-09T20:00:27.623961Z",
     "shell.execute_reply": "2024-03-09T20:00:27.622693Z"
    },
    "papermill": {
     "duration": 0.027656,
     "end_time": "2024-03-09T20:00:27.626501",
     "exception": false,
     "start_time": "2024-03-09T20:00:27.598845",
     "status": "completed"
    },
    "tags": []
   },
   "outputs": [],
   "source": [
    "# applprev_1 = tables[\"applprev_1\"]"
   ]
  },
  {
   "cell_type": "code",
   "execution_count": 15,
   "id": "e7ca5408",
   "metadata": {
    "execution": {
     "iopub.execute_input": "2024-03-09T20:00:27.667639Z",
     "iopub.status.busy": "2024-03-09T20:00:27.667143Z",
     "iopub.status.idle": "2024-03-09T20:00:27.672815Z",
     "shell.execute_reply": "2024-03-09T20:00:27.671431Z"
    },
    "papermill": {
     "duration": 0.030245,
     "end_time": "2024-03-09T20:00:27.675630",
     "exception": false,
     "start_time": "2024-03-09T20:00:27.645385",
     "status": "completed"
    },
    "tags": []
   },
   "outputs": [],
   "source": [
    "# joined = applprev_1[\"case_id\"].value_counts().join(train_dataset.get_base()[[\"case_id\", \"target\"]], on=\"case_id\").sort(\"count\")\n",
    "# joined.filter(pl.col(\"target\") == 1)"
   ]
  },
  {
   "cell_type": "code",
   "execution_count": 16,
   "id": "98b081be",
   "metadata": {
    "execution": {
     "iopub.execute_input": "2024-03-09T20:00:27.716187Z",
     "iopub.status.busy": "2024-03-09T20:00:27.715482Z",
     "iopub.status.idle": "2024-03-09T20:00:27.721691Z",
     "shell.execute_reply": "2024-03-09T20:00:27.720042Z"
    },
    "papermill": {
     "duration": 0.030566,
     "end_time": "2024-03-09T20:00:27.724980",
     "exception": false,
     "start_time": "2024-03-09T20:00:27.694414",
     "status": "completed"
    },
    "tags": []
   },
   "outputs": [],
   "source": [
    "# base = train_dataset.get_base()"
   ]
  },
  {
   "cell_type": "code",
   "execution_count": 17,
   "id": "53a760fd",
   "metadata": {
    "execution": {
     "iopub.execute_input": "2024-03-09T20:00:27.766277Z",
     "iopub.status.busy": "2024-03-09T20:00:27.765742Z",
     "iopub.status.idle": "2024-03-09T20:00:27.770569Z",
     "shell.execute_reply": "2024-03-09T20:00:27.769546Z"
    },
    "papermill": {
     "duration": 0.028513,
     "end_time": "2024-03-09T20:00:27.773095",
     "exception": false,
     "start_time": "2024-03-09T20:00:27.744582",
     "status": "completed"
    },
    "tags": []
   },
   "outputs": [],
   "source": [
    "# base.filter(pl.col(\"case_id\") == 2702490)"
   ]
  },
  {
   "cell_type": "code",
   "execution_count": 18,
   "id": "b64ed56c",
   "metadata": {
    "execution": {
     "iopub.execute_input": "2024-03-09T20:00:27.813442Z",
     "iopub.status.busy": "2024-03-09T20:00:27.812335Z",
     "iopub.status.idle": "2024-03-09T20:00:27.817746Z",
     "shell.execute_reply": "2024-03-09T20:00:27.816683Z"
    },
    "papermill": {
     "duration": 0.028136,
     "end_time": "2024-03-09T20:00:27.820375",
     "exception": false,
     "start_time": "2024-03-09T20:00:27.792239",
     "status": "completed"
    },
    "tags": []
   },
   "outputs": [],
   "source": [
    "# applprev_1.filter(applprev_1[\"case_id\"] == 2702490).sort(\"num_group1\")\n",
    "#base.filter(pl.col(\"case_id\") == 176526)"
   ]
  },
  {
   "cell_type": "code",
   "execution_count": 19,
   "id": "e7a04ebc",
   "metadata": {
    "execution": {
     "iopub.execute_input": "2024-03-09T20:00:27.859949Z",
     "iopub.status.busy": "2024-03-09T20:00:27.858800Z",
     "iopub.status.idle": "2024-03-09T20:00:27.865054Z",
     "shell.execute_reply": "2024-03-09T20:00:27.863889Z"
    },
    "papermill": {
     "duration": 0.029352,
     "end_time": "2024-03-09T20:00:27.868091",
     "exception": false,
     "start_time": "2024-03-09T20:00:27.838739",
     "status": "completed"
    },
    "tags": []
   },
   "outputs": [],
   "source": [
    "# applprev_1.filter(applprev_1[\"case_id\"] == 2702490).sort(\"num_group1\")[[\"credamount_590A\", \"mainoccupationinc_437A\", \"rejectreason_755M\", \"rejectreasonclient_4145042M\"]]\n"
   ]
  },
  {
   "cell_type": "code",
   "execution_count": 20,
   "id": "3a366891",
   "metadata": {
    "execution": {
     "iopub.execute_input": "2024-03-09T20:00:27.911625Z",
     "iopub.status.busy": "2024-03-09T20:00:27.911028Z",
     "iopub.status.idle": "2024-03-09T20:00:27.917357Z",
     "shell.execute_reply": "2024-03-09T20:00:27.915732Z"
    },
    "papermill": {
     "duration": 0.03313,
     "end_time": "2024-03-09T20:00:27.920717",
     "exception": false,
     "start_time": "2024-03-09T20:00:27.887587",
     "status": "completed"
    },
    "tags": []
   },
   "outputs": [],
   "source": [
    "# applprev_1.filter(applprev_1[\"case_id\"] == 176526).sort(\"num_group1\")[[\"credamount_590A\", \"mainoccupationinc_437A\", \"rejectreason_755M\", \"rejectreasonclient_4145042M\"]]a"
   ]
  },
  {
   "cell_type": "code",
   "execution_count": 21,
   "id": "2a528139",
   "metadata": {
    "execution": {
     "iopub.execute_input": "2024-03-09T20:00:27.963873Z",
     "iopub.status.busy": "2024-03-09T20:00:27.961871Z",
     "iopub.status.idle": "2024-03-09T20:00:27.968580Z",
     "shell.execute_reply": "2024-03-09T20:00:27.967269Z"
    },
    "papermill": {
     "duration": 0.032623,
     "end_time": "2024-03-09T20:00:27.971949",
     "exception": false,
     "start_time": "2024-03-09T20:00:27.939326",
     "status": "completed"
    },
    "tags": []
   },
   "outputs": [],
   "source": [
    "# applprev_1.filter(applprev_1[\"case_id\"] == 176526).sort(\"num_group1\")"
   ]
  },
  {
   "cell_type": "code",
   "execution_count": 22,
   "id": "c83301cd",
   "metadata": {
    "execution": {
     "iopub.execute_input": "2024-03-09T20:00:28.012831Z",
     "iopub.status.busy": "2024-03-09T20:00:28.012261Z",
     "iopub.status.idle": "2024-03-09T20:00:28.018827Z",
     "shell.execute_reply": "2024-03-09T20:00:28.017252Z"
    },
    "papermill": {
     "duration": 0.030592,
     "end_time": "2024-03-09T20:00:28.022266",
     "exception": false,
     "start_time": "2024-03-09T20:00:27.991674",
     "status": "completed"
    },
    "tags": []
   },
   "outputs": [],
   "source": [
    "# FreatureDescriptionGetter().get(\"rejectreasonclient_4145042M\")"
   ]
  },
  {
   "cell_type": "code",
   "execution_count": 23,
   "id": "7803ff54",
   "metadata": {
    "execution": {
     "iopub.execute_input": "2024-03-09T20:00:28.061188Z",
     "iopub.status.busy": "2024-03-09T20:00:28.060600Z",
     "iopub.status.idle": "2024-03-09T20:00:28.067459Z",
     "shell.execute_reply": "2024-03-09T20:00:28.065713Z"
    },
    "papermill": {
     "duration": 0.03047,
     "end_time": "2024-03-09T20:00:28.070896",
     "exception": false,
     "start_time": "2024-03-09T20:00:28.040426",
     "status": "completed"
    },
    "tags": []
   },
   "outputs": [],
   "source": [
    "# def bucket_mean_split(x, y, buckets=100):\n",
    "#     x_buckets = []\n",
    "#     y_buckets = []\n",
    "\n",
    "#     x = np.array(x)\n",
    "#     y = np.array(y)\n",
    "#     x_quantiles = [np.quantile(x, i / buckets) for i in range(0, buckets + 1)]\n",
    "#     for i in range(0, buckets):\n",
    "#         filter = (x >= x_quantiles[i]) & (x <= x_quantiles[i + 1])\n",
    "#         x_buckets.append(np.mean(x[filter]))\n",
    "#         y_buckets.append(np.mean(y[filter]))\n",
    "#     return x_buckets, y_buckets"
   ]
  },
  {
   "cell_type": "code",
   "execution_count": 24,
   "id": "2ae463ce",
   "metadata": {
    "execution": {
     "iopub.execute_input": "2024-03-09T20:00:28.113851Z",
     "iopub.status.busy": "2024-03-09T20:00:28.113211Z",
     "iopub.status.idle": "2024-03-09T20:00:28.119784Z",
     "shell.execute_reply": "2024-03-09T20:00:28.118197Z"
    },
    "papermill": {
     "duration": 0.030561,
     "end_time": "2024-03-09T20:00:28.123099",
     "exception": false,
     "start_time": "2024-03-09T20:00:28.092538",
     "status": "completed"
    },
    "tags": []
   },
   "outputs": [],
   "source": [
    "# train[\"target\"].mean()"
   ]
  },
  {
   "cell_type": "code",
   "execution_count": 25,
   "id": "2b57c334",
   "metadata": {
    "execution": {
     "iopub.execute_input": "2024-03-09T20:00:28.163170Z",
     "iopub.status.busy": "2024-03-09T20:00:28.162061Z",
     "iopub.status.idle": "2024-03-09T20:00:28.168286Z",
     "shell.execute_reply": "2024-03-09T20:00:28.166901Z"
    },
    "papermill": {
     "duration": 0.029802,
     "end_time": "2024-03-09T20:00:28.171258",
     "exception": false,
     "start_time": "2024-03-09T20:00:28.141456",
     "status": "completed"
    },
    "tags": []
   },
   "outputs": [],
   "source": [
    "# print(\"Mean target={} where actualdpdtolerance_344P != 0\".format(train[\"target\"].filter(train[\"actualdpdtolerance_344P\"] != 0).mean()))\n",
    "# print(\"Mean target={} where actualdpdtolerance_344P == 0\".format(train[\"target\"].filter(train[\"actualdpdtolerance_344P\"] == 0).mean()))\n",
    "# print(\"Mean target={} where actualdpdtolerance_344P is null\".format(train[\"target\"].filter(train[\"actualdpdtolerance_344P\"].is_null()).mean()))"
   ]
  },
  {
   "cell_type": "code",
   "execution_count": 26,
   "id": "01d7f916",
   "metadata": {
    "execution": {
     "iopub.execute_input": "2024-03-09T20:00:28.214269Z",
     "iopub.status.busy": "2024-03-09T20:00:28.213683Z",
     "iopub.status.idle": "2024-03-09T20:00:28.220056Z",
     "shell.execute_reply": "2024-03-09T20:00:28.218558Z"
    },
    "papermill": {
     "duration": 0.032112,
     "end_time": "2024-03-09T20:00:28.223181",
     "exception": false,
     "start_time": "2024-03-09T20:00:28.191069",
     "status": "completed"
    },
    "tags": []
   },
   "outputs": [],
   "source": [
    "# columns = [column for column in train.columns if (train[column].dtype == pl.Float64)]\n",
    "\n",
    "# figure, axis = plt.subplots(len(columns) // 5 + 1, 5, figsize=(15, 30))\n",
    "# for index, column in enumerate(columns):\n",
    "#     current_plot = axis[index // 5, index % 5]\n",
    "#     x = train[column]\n",
    "#     y = train[\"target\"]\n",
    "#     if (x.dtype == pl.String or x.dtype == pl.Boolean):\n",
    "#         continue\n",
    "#     filter = x.is_not_null()\n",
    "#     x = x.filter(filter)\n",
    "#     y = y.filter(filter)\n",
    "#     if (x.is_empty()):\n",
    "#         continue\n",
    "#     x_bucket, y_bucket = bucket_mean_split(x.to_numpy(), y.to_numpy(), buckets=100)\n",
    "#     current_plot.plot(x_bucket, y_bucket)\n",
    "#     current_plot.set_title(column)\n",
    "# plt.show()"
   ]
  },
  {
   "cell_type": "code",
   "execution_count": 27,
   "id": "6fab1031",
   "metadata": {
    "execution": {
     "iopub.execute_input": "2024-03-09T20:00:28.262198Z",
     "iopub.status.busy": "2024-03-09T20:00:28.261624Z",
     "iopub.status.idle": "2024-03-09T20:00:28.267538Z",
     "shell.execute_reply": "2024-03-09T20:00:28.266048Z"
    },
    "papermill": {
     "duration": 0.030075,
     "end_time": "2024-03-09T20:00:28.271336",
     "exception": false,
     "start_time": "2024-03-09T20:00:28.241261",
     "status": "completed"
    },
    "tags": []
   },
   "outputs": [],
   "source": [
    "# features = train_df.columns\n",
    "# features.remove(\"WEEK_NUM\")\n",
    "# features.remove(\"case_id\")\n",
    "# features.remove(\"target\")"
   ]
  },
  {
   "cell_type": "code",
   "execution_count": 28,
   "id": "18b12514",
   "metadata": {
    "execution": {
     "iopub.execute_input": "2024-03-09T20:00:28.316946Z",
     "iopub.status.busy": "2024-03-09T20:00:28.316408Z",
     "iopub.status.idle": "2024-03-09T20:00:28.322769Z",
     "shell.execute_reply": "2024-03-09T20:00:28.321072Z"
    },
    "papermill": {
     "duration": 0.034124,
     "end_time": "2024-03-09T20:00:28.326148",
     "exception": false,
     "start_time": "2024-03-09T20:00:28.292024",
     "status": "completed"
    },
    "tags": []
   },
   "outputs": [],
   "source": [
    "# gc.collect()"
   ]
  },
  {
   "cell_type": "markdown",
   "id": "f60016dc",
   "metadata": {
    "papermill": {
     "duration": 0.019396,
     "end_time": "2024-03-09T20:00:28.367637",
     "exception": false,
     "start_time": "2024-03-09T20:00:28.348241",
     "status": "completed"
    },
    "tags": []
   },
   "source": [
    "### Feature Importance"
   ]
  },
  {
   "cell_type": "code",
   "execution_count": 29,
   "id": "2919afb9",
   "metadata": {
    "execution": {
     "iopub.execute_input": "2024-03-09T20:00:28.410742Z",
     "iopub.status.busy": "2024-03-09T20:00:28.410196Z",
     "iopub.status.idle": "2024-03-09T20:00:28.418056Z",
     "shell.execute_reply": "2024-03-09T20:00:28.416031Z"
    },
    "papermill": {
     "duration": 0.034088,
     "end_time": "2024-03-09T20:00:28.421466",
     "exception": false,
     "start_time": "2024-03-09T20:00:28.387378",
     "status": "completed"
    },
    "tags": []
   },
   "outputs": [],
   "source": [
    "# def train_rf(X, Y):    \n",
    "#     params = {\n",
    "#         \"boosting_type\": \"gbdt\",\n",
    "#         \"objective\": \"binary\",\n",
    "#         \"metric\": \"auc\",\n",
    "#         \"max_depth\": 8,\n",
    "#         \"max_bin\": 255,\n",
    "#         \"learning_rate\": 0.05,\n",
    "#         \"n_estimators\": 200,\n",
    "#         \"colsample_bytree\": 0.8, \n",
    "#         \"colsample_bynode\": 0.8,\n",
    "#         \"verbose\": -1,\n",
    "#         \"random_state\": 42,\n",
    "#         \"device\": \"gpu\",\n",
    "#     }\n",
    "    \n",
    "#     model = lgb.LGBMClassifier(**params)\n",
    "    \n",
    "#     model.fit(X.to_pandas(), Y.to_pandas())\n",
    "    \n",
    "#     # Get feature importances\n",
    "#     return pl.DataFrame({\n",
    "#         \"feature\": list(X.columns),\n",
    "#         \"feature_importance\": model.feature_importances_,\n",
    "#         \"train_score\": roc_auc_score(Y.to_pandas(), model.predict(X.to_pandas()))\n",
    "#     })"
   ]
  },
  {
   "cell_type": "code",
   "execution_count": 30,
   "id": "4feb504e",
   "metadata": {
    "execution": {
     "iopub.execute_input": "2024-03-09T20:00:28.464206Z",
     "iopub.status.busy": "2024-03-09T20:00:28.463635Z",
     "iopub.status.idle": "2024-03-09T20:00:28.470980Z",
     "shell.execute_reply": "2024-03-09T20:00:28.469358Z"
    },
    "papermill": {
     "duration": 0.032793,
     "end_time": "2024-03-09T20:00:28.474202",
     "exception": false,
     "start_time": "2024-03-09T20:00:28.441409",
     "status": "completed"
    },
    "tags": []
   },
   "outputs": [],
   "source": [
    "# def get_feature_importance(X, Y):\n",
    "#     COUNT_ITER = 50\n",
    "    \n",
    "#     dfs = []\n",
    "#     for i in range(COUNT_ITER):\n",
    "#         gc.collect()\n",
    "        \n",
    "#         start_time = time.time()\n",
    "#         shuffled_Y = Y.clone().sample(fraction=1.0, shuffle=True)\n",
    "#         current_df = train_rf(X, shuffled_Y)\n",
    "#         finish_time = time.time()\n",
    "#         print(f\"Finish iteration: {i + 1}/{COUNT_ITER}, time: {finish_time - start_time}\")\n",
    "#         current_df = current_df.with_columns(pl.lit(i).alias(\"iteration\"))\n",
    "#         dfs.append(current_df)\n",
    "        \n",
    "#     return pl.concat(dfs, rechunk=True), train_rf(X, Y)"
   ]
  },
  {
   "cell_type": "code",
   "execution_count": 31,
   "id": "d82b37e6",
   "metadata": {
    "execution": {
     "iopub.execute_input": "2024-03-09T20:00:28.515290Z",
     "iopub.status.busy": "2024-03-09T20:00:28.514685Z",
     "iopub.status.idle": "2024-03-09T20:00:28.521202Z",
     "shell.execute_reply": "2024-03-09T20:00:28.519502Z"
    },
    "papermill": {
     "duration": 0.031683,
     "end_time": "2024-03-09T20:00:28.524596",
     "exception": false,
     "start_time": "2024-03-09T20:00:28.492913",
     "status": "completed"
    },
    "tags": []
   },
   "outputs": [],
   "source": [
    "# shuffled_feature_importance_df, feature_importance_df = get_feature_importance(train_df[features], train_df[\"target\"])\n",
    "# shuffled_feature_importance_df.write_csv(\"shuffled_feature_importance_df.csv\", separator=\",\")\n",
    "# feature_importance_df.write_csv(\"feature_importance_df.csv\", separator=\",\")"
   ]
  },
  {
   "cell_type": "code",
   "execution_count": 32,
   "id": "e959d08f",
   "metadata": {
    "execution": {
     "iopub.execute_input": "2024-03-09T20:00:28.564954Z",
     "iopub.status.busy": "2024-03-09T20:00:28.564385Z",
     "iopub.status.idle": "2024-03-09T20:00:28.570856Z",
     "shell.execute_reply": "2024-03-09T20:00:28.569011Z"
    },
    "papermill": {
     "duration": 0.030059,
     "end_time": "2024-03-09T20:00:28.573771",
     "exception": false,
     "start_time": "2024-03-09T20:00:28.543712",
     "status": "completed"
    },
    "tags": []
   },
   "outputs": [],
   "source": [
    "# important_features = []\n",
    "# for column in feature_importance_df[\"feature\"]:\n",
    "#     shuffled_feature_importance = shuffled_feature_importance_df.filter(shuffled_feature_importance_df[\"feature\"] == column)[\"feature_importance\"].to_numpy()\n",
    "#     feature_importance = feature_importance_df.filter(feature_importance_df[\"feature\"] == column)[\"feature_importance\"][0]\n",
    "    \n",
    "#     if (np.percentile(shuffled_feature_importance, 90) <= feature_importance):\n",
    "#         important_features.append(column)\n",
    "# print(len(important_features), important_features)"
   ]
  },
  {
   "cell_type": "markdown",
   "id": "9a0f5f6c",
   "metadata": {
    "papermill": {
     "duration": 0.017845,
     "end_time": "2024-03-09T20:00:28.609577",
     "exception": false,
     "start_time": "2024-03-09T20:00:28.591732",
     "status": "completed"
    },
    "tags": []
   },
   "source": [
    "# Training"
   ]
  },
  {
   "cell_type": "code",
   "execution_count": 33,
   "id": "a2c42bc8",
   "metadata": {
    "execution": {
     "iopub.execute_input": "2024-03-09T20:00:28.651051Z",
     "iopub.status.busy": "2024-03-09T20:00:28.650502Z",
     "iopub.status.idle": "2024-03-09T20:00:28.658047Z",
     "shell.execute_reply": "2024-03-09T20:00:28.656475Z"
    },
    "papermill": {
     "duration": 0.034107,
     "end_time": "2024-03-09T20:00:28.662009",
     "exception": false,
     "start_time": "2024-03-09T20:00:28.627902",
     "status": "completed"
    },
    "tags": []
   },
   "outputs": [],
   "source": [
    "# class VotingModel(BaseEstimator, RegressorMixin):\n",
    "#     def __init__(self, estimators):\n",
    "#         super().__init__()\n",
    "#         self.estimators = estimators\n",
    "        \n",
    "#     def fit(self, X, y=None):\n",
    "#         return self\n",
    "    \n",
    "#     def predict(self, X):\n",
    "#         y_preds = [estimator.predict(X) for estimator in self.estimators]\n",
    "#         return np.mean(y_preds, axis=0)\n",
    "    \n",
    "#     def predict_proba(self, X):\n",
    "#         y_preds = [estimator.predict_proba(X) for estimator in self.estimators]\n",
    "#         return np.mean(y_preds, axis=0)\n",
    "    \n",
    "#     def get_feature_importance(self):\n",
    "#         feature_importances = np.array([0 for feature in features])\n",
    "\n",
    "#         for model in self.estimators:\n",
    "#             feature_importances += model.feature_importances_\n",
    "\n",
    "#         return feature_importances"
   ]
  },
  {
   "cell_type": "code",
   "execution_count": 34,
   "id": "eaf37b13",
   "metadata": {
    "execution": {
     "iopub.execute_input": "2024-03-09T20:00:28.704291Z",
     "iopub.status.busy": "2024-03-09T20:00:28.703707Z",
     "iopub.status.idle": "2024-03-09T20:00:28.709662Z",
     "shell.execute_reply": "2024-03-09T20:00:28.708092Z"
    },
    "papermill": {
     "duration": 0.029231,
     "end_time": "2024-03-09T20:00:28.712657",
     "exception": false,
     "start_time": "2024-03-09T20:00:28.683426",
     "status": "completed"
    },
    "tags": []
   },
   "outputs": [],
   "source": [
    "# for column in features:\n",
    "#     if (train_dataset[column].dtype != pl.Categorical) and \\\n",
    "#         (train_dataset[column].dtype != pl.Float64) and \\\n",
    "#         (train_dataset[column].dtype != pl.Float64):\n",
    "#         print(column, train_dataset[column].dtype)"
   ]
  },
  {
   "cell_type": "code",
   "execution_count": 35,
   "id": "eba2ffe1",
   "metadata": {
    "execution": {
     "iopub.execute_input": "2024-03-09T20:00:28.750001Z",
     "iopub.status.busy": "2024-03-09T20:00:28.749510Z",
     "iopub.status.idle": "2024-03-09T20:00:28.755046Z",
     "shell.execute_reply": "2024-03-09T20:00:28.753697Z"
    },
    "papermill": {
     "duration": 0.027986,
     "end_time": "2024-03-09T20:00:28.757850",
     "exception": false,
     "start_time": "2024-03-09T20:00:28.729864",
     "status": "completed"
    },
    "tags": []
   },
   "outputs": [],
   "source": [
    "# def train_lgb_model(X_train, Y_train, X_test, Y_test):\n",
    "#     params = {\n",
    "#         \"boosting_type\": \"gbdt\",\n",
    "#         \"objective\": \"binary\",\n",
    "#         \"metric\": \"auc\",\n",
    "#         \"max_depth\": 8,\n",
    "#         \"max_bin\": 250,\n",
    "#         \"learning_rate\": 0.05,\n",
    "#         \"n_estimators\": 1000,\n",
    "#         \"colsample_bytree\": 0.8, \n",
    "#         \"colsample_bynode\": 0.8,\n",
    "#         \"verbose\": -1,\n",
    "#         \"random_state\": 42,\n",
    "#         \"device\": \"gpu\",\n",
    "#     }\n",
    "    \n",
    "#     model = lgb.LGBMClassifier(**params)\n",
    "    \n",
    "#     model.fit(\n",
    "#         X_train, Y_train,\n",
    "#         eval_set=[(X_test, Y_test)],\n",
    "#         callbacks=[lgb.log_evaluation(100), lgb.early_stopping(100)]\n",
    "#     )\n",
    "        \n",
    "#     return model"
   ]
  },
  {
   "cell_type": "code",
   "execution_count": 36,
   "id": "3adaca8c",
   "metadata": {
    "execution": {
     "iopub.execute_input": "2024-03-09T20:00:28.796242Z",
     "iopub.status.busy": "2024-03-09T20:00:28.795684Z",
     "iopub.status.idle": "2024-03-09T20:00:28.801569Z",
     "shell.execute_reply": "2024-03-09T20:00:28.800147Z"
    },
    "papermill": {
     "duration": 0.027911,
     "end_time": "2024-03-09T20:00:28.803775",
     "exception": false,
     "start_time": "2024-03-09T20:00:28.775864",
     "status": "completed"
    },
    "tags": []
   },
   "outputs": [],
   "source": [
    "# gc.collect()"
   ]
  },
  {
   "cell_type": "code",
   "execution_count": 37,
   "id": "0fcdb7f9",
   "metadata": {
    "execution": {
     "iopub.execute_input": "2024-03-09T20:00:28.841370Z",
     "iopub.status.busy": "2024-03-09T20:00:28.840829Z",
     "iopub.status.idle": "2024-03-09T20:00:28.847653Z",
     "shell.execute_reply": "2024-03-09T20:00:28.846132Z"
    },
    "papermill": {
     "duration": 0.029448,
     "end_time": "2024-03-09T20:00:28.850544",
     "exception": false,
     "start_time": "2024-03-09T20:00:28.821096",
     "status": "completed"
    },
    "tags": []
   },
   "outputs": [],
   "source": [
    "# weeks = train_df[\"WEEK_NUM\"]\n",
    "# cv = StratifiedGroupKFold(n_splits=5, shuffle=False)\n",
    "\n",
    "# fitted_models = []\n",
    "\n",
    "# oof_predicted = np.zeros(train_df.shape[0])\n",
    "\n",
    "# for idx_train, idx_test in cv.split(train_df[features], train_df[\"target\"], groups=weeks):        \n",
    "# #     X_train = train_df[features][idx_train].to_pandas()\n",
    "# #     Y_train = train_df[\"target\"][idx_train].to_pandas()\n",
    "    \n",
    "#     X_test = train_df[features][idx_test].to_pandas()\n",
    "#     Y_test = train_df[\"target\"][idx_test].to_pandas()\n",
    "    \n",
    "#     start = time.time()\n",
    "#     params = {\n",
    "#         \"boosting_type\": \"gbdt\",\n",
    "#         \"objective\": \"binary\",\n",
    "#         \"metric\": \"auc\",\n",
    "#         \"max_depth\": 8,\n",
    "#         \"max_bin\": 250,\n",
    "#         \"learning_rate\": 0.05,\n",
    "#         \"n_estimators\": 1000,\n",
    "#         \"colsample_bytree\": 0.8, \n",
    "#         \"colsample_bynode\": 0.8,\n",
    "#         \"verbose\": -1,\n",
    "#         \"random_state\": 42,\n",
    "#         \"device\": \"gpu\",\n",
    "#     }\n",
    "    \n",
    "#     model = lgb.LGBMClassifier(**params)\n",
    "    \n",
    "#     model.fit(\n",
    "#         train_df[features][idx_train].to_pandas(), train_df[\"target\"][idx_train].to_pandas(),\n",
    "#         eval_set=[(X_test, Y_test)],\n",
    "#         callbacks=[lgb.log_evaluation(100), lgb.early_stopping(100)]\n",
    "#     )\n",
    "        \n",
    "\n",
    "# #    model = train_lgb_model(X_train, Y_train, X_test, Y_test)\n",
    "#     finish = time.time()\n",
    "    \n",
    "#     print(\"fit time: {}\".format(finish - start))\n",
    "#     fitted_models.append(model)\n",
    "    \n",
    "#     test_pred = model.predict_proba(X_test)[:, 1]\n",
    "#     oof_predicted[idx_test] = test_pred\n",
    "#     gc.collect()\n",
    "\n",
    "# model = VotingModel(fitted_models)\n",
    "# gc.collect()"
   ]
  },
  {
   "cell_type": "code",
   "execution_count": 38,
   "id": "5aac4a54",
   "metadata": {
    "execution": {
     "iopub.execute_input": "2024-03-09T20:00:28.889280Z",
     "iopub.status.busy": "2024-03-09T20:00:28.888671Z",
     "iopub.status.idle": "2024-03-09T20:00:28.894618Z",
     "shell.execute_reply": "2024-03-09T20:00:28.893274Z"
    },
    "papermill": {
     "duration": 0.028544,
     "end_time": "2024-03-09T20:00:28.897255",
     "exception": false,
     "start_time": "2024-03-09T20:00:28.868711",
     "status": "completed"
    },
    "tags": []
   },
   "outputs": [],
   "source": [
    "# roc_auc_oof = roc_auc_score(train_df[\"target\"], oof_predicted)\n",
    "# print(\"CV roc_auc_oof: \", roc_auc_oof)"
   ]
  },
  {
   "cell_type": "markdown",
   "id": "1282e85f",
   "metadata": {
    "papermill": {
     "duration": 0.016957,
     "end_time": "2024-03-09T20:00:28.931593",
     "exception": false,
     "start_time": "2024-03-09T20:00:28.914636",
     "status": "completed"
    },
    "tags": []
   },
   "source": [
    "# Predict"
   ]
  },
  {
   "cell_type": "code",
   "execution_count": 39,
   "id": "2efca055",
   "metadata": {
    "execution": {
     "iopub.execute_input": "2024-03-09T20:00:28.967902Z",
     "iopub.status.busy": "2024-03-09T20:00:28.967360Z",
     "iopub.status.idle": "2024-03-09T20:00:28.972821Z",
     "shell.execute_reply": "2024-03-09T20:00:28.971619Z"
    },
    "papermill": {
     "duration": 0.026997,
     "end_time": "2024-03-09T20:00:28.975494",
     "exception": false,
     "start_time": "2024-03-09T20:00:28.948497",
     "status": "completed"
    },
    "tags": []
   },
   "outputs": [],
   "source": [
    "# del train_df\n",
    "# gc.collect()"
   ]
  },
  {
   "cell_type": "code",
   "execution_count": 40,
   "id": "51ff92d1",
   "metadata": {
    "execution": {
     "iopub.execute_input": "2024-03-09T20:00:29.012486Z",
     "iopub.status.busy": "2024-03-09T20:00:29.011915Z",
     "iopub.status.idle": "2024-03-09T20:00:29.017708Z",
     "shell.execute_reply": "2024-03-09T20:00:29.016188Z"
    },
    "papermill": {
     "duration": 0.02751,
     "end_time": "2024-03-09T20:00:29.020383",
     "exception": false,
     "start_time": "2024-03-09T20:00:28.992873",
     "status": "completed"
    },
    "tags": []
   },
   "outputs": [],
   "source": [
    "# test_dataset = data_loader.load_test_dataset()\n",
    "# print(\"Test dataset week range: {}-{}\".format(test_dataset.base[\"WEEK_NUM\"].min(), test_dataset.base[\"WEEK_NUM\"].max()))\n",
    "# gc.collect()\n",
    "# test_df = preprocessor.process_test_dataset(test_dataset)\n",
    "# del test_dataset\n",
    "# gc.collect()"
   ]
  },
  {
   "cell_type": "code",
   "execution_count": 41,
   "id": "ef38690d",
   "metadata": {
    "execution": {
     "iopub.execute_input": "2024-03-09T20:00:29.058177Z",
     "iopub.status.busy": "2024-03-09T20:00:29.057615Z",
     "iopub.status.idle": "2024-03-09T20:00:29.063937Z",
     "shell.execute_reply": "2024-03-09T20:00:29.062420Z"
    },
    "papermill": {
     "duration": 0.028449,
     "end_time": "2024-03-09T20:00:29.066511",
     "exception": false,
     "start_time": "2024-03-09T20:00:29.038062",
     "status": "completed"
    },
    "tags": []
   },
   "outputs": [],
   "source": [
    "# print([name for value, name in reversed(sorted(zip(model.get_feature_importance(), features)))][0:200])"
   ]
  },
  {
   "cell_type": "code",
   "execution_count": null,
   "id": "eef83d6a",
   "metadata": {
    "papermill": {
     "duration": 0.017438,
     "end_time": "2024-03-09T20:00:29.102009",
     "exception": false,
     "start_time": "2024-03-09T20:00:29.084571",
     "status": "completed"
    },
    "tags": []
   },
   "outputs": [],
   "source": []
  },
  {
   "cell_type": "code",
   "execution_count": 42,
   "id": "4976bd57",
   "metadata": {
    "execution": {
     "iopub.execute_input": "2024-03-09T20:00:29.139862Z",
     "iopub.status.busy": "2024-03-09T20:00:29.139372Z",
     "iopub.status.idle": "2024-03-09T20:00:29.144578Z",
     "shell.execute_reply": "2024-03-09T20:00:29.143331Z"
    },
    "papermill": {
     "duration": 0.027534,
     "end_time": "2024-03-09T20:00:29.147205",
     "exception": false,
     "start_time": "2024-03-09T20:00:29.119671",
     "status": "completed"
    },
    "tags": []
   },
   "outputs": [],
   "source": [
    "# CV roc_auc_oof:  0.8353789451006361 without feature selection ~500 features\n",
    "# CV roc_auc_oof:  0.8329322959533371 with feature selection ~200 features"
   ]
  },
  {
   "cell_type": "code",
   "execution_count": null,
   "id": "c0550ea5",
   "metadata": {
    "papermill": {
     "duration": 0.019401,
     "end_time": "2024-03-09T20:00:29.184807",
     "exception": false,
     "start_time": "2024-03-09T20:00:29.165406",
     "status": "completed"
    },
    "tags": []
   },
   "outputs": [],
   "source": []
  },
  {
   "cell_type": "code",
   "execution_count": 43,
   "id": "9f7e1bfe",
   "metadata": {
    "execution": {
     "iopub.execute_input": "2024-03-09T20:00:29.223844Z",
     "iopub.status.busy": "2024-03-09T20:00:29.223341Z",
     "iopub.status.idle": "2024-03-09T20:00:29.229304Z",
     "shell.execute_reply": "2024-03-09T20:00:29.227834Z"
    },
    "papermill": {
     "duration": 0.028986,
     "end_time": "2024-03-09T20:00:29.232368",
     "exception": false,
     "start_time": "2024-03-09T20:00:29.203382",
     "status": "completed"
    },
    "tags": []
   },
   "outputs": [],
   "source": [
    "# def gini_stability(dataset, w_fallingrate=88.0, w_resstd=-0.5):\n",
    "#     gini_in_time = dataset\\\n",
    "#         .sort_values(\"WEEK_NUM\")\\\n",
    "#         .groupby(\"WEEK_NUM\")[[\"true\", \"predicted\"]]\\\n",
    "#         .apply(lambda x: 2 * roc_auc_score(x[\"true\"], x[\"predicted\"]) - 1).tolist()\n",
    "    \n",
    "#     x = np.arange(len(gini_in_time))\n",
    "#     y = gini_in_time\n",
    "#     a, b = np.polyfit(x, y, 1)\n",
    "#     y_hat = a * x + b\n",
    "#     residuals = y - y_hat\n",
    "#     res_std = np.std(residuals)\n",
    "#     avg_gini = np.mean(gini_in_time)\n",
    "    \n",
    "#     print(avg_gini, min(0, a), res_std)\n",
    "    \n",
    "#     return avg_gini + w_fallingrate * min(0, a) + w_resstd * res_std"
   ]
  },
  {
   "cell_type": "code",
   "execution_count": 44,
   "id": "0c3bf1d6",
   "metadata": {
    "execution": {
     "iopub.execute_input": "2024-03-09T20:00:29.268986Z",
     "iopub.status.busy": "2024-03-09T20:00:29.268467Z",
     "iopub.status.idle": "2024-03-09T20:00:29.274448Z",
     "shell.execute_reply": "2024-03-09T20:00:29.272831Z"
    },
    "papermill": {
     "duration": 0.028136,
     "end_time": "2024-03-09T20:00:29.277580",
     "exception": false,
     "start_time": "2024-03-09T20:00:29.249444",
     "status": "completed"
    },
    "tags": []
   },
   "outputs": [],
   "source": [
    "# # Y_train_predicted = model.predict_proba(train_df[features].to_pandas())\n",
    "# Y_test_predicted = model.predict_proba(test_df[features].to_pandas())"
   ]
  },
  {
   "cell_type": "code",
   "execution_count": 45,
   "id": "f1dfdd37",
   "metadata": {
    "execution": {
     "iopub.execute_input": "2024-03-09T20:00:29.315448Z",
     "iopub.status.busy": "2024-03-09T20:00:29.314795Z",
     "iopub.status.idle": "2024-03-09T20:00:29.321535Z",
     "shell.execute_reply": "2024-03-09T20:00:29.320271Z"
    },
    "papermill": {
     "duration": 0.027878,
     "end_time": "2024-03-09T20:00:29.324031",
     "exception": false,
     "start_time": "2024-03-09T20:00:29.296153",
     "status": "completed"
    },
    "tags": []
   },
   "outputs": [],
   "source": [
    "# result = pd.DataFrame({\n",
    "#     \"WEEK_NUM\": train_df[\"WEEK_NUM\"],\n",
    "#     \"true\": train_df[\"target\"],\n",
    "#     \"predicted\": Y_train_predicted[:, 1],\n",
    "# })\n",
    "\n",
    "# train_result = gini_stability(result)\n",
    "# print(\"train_score: {}\".format(train_result))\n",
    "\n",
    "# if MODE == Mode.Train:\n",
    "#     result = pd.DataFrame({\n",
    "#         \"WEEK_NUM\": test_df[\"WEEK_NUM\"],\n",
    "#         \"true\": test_df[\"target\"],\n",
    "#         \"predicted\": Y_test_predicted[:, 1],\n",
    "#     })\n",
    "\n",
    "#     test_result = gini_stability(result)\n",
    "#     print(\"test_score: {}\".format(test_result))"
   ]
  },
  {
   "cell_type": "code",
   "execution_count": 46,
   "id": "94fc15ac",
   "metadata": {
    "execution": {
     "iopub.execute_input": "2024-03-09T20:00:29.361543Z",
     "iopub.status.busy": "2024-03-09T20:00:29.361035Z",
     "iopub.status.idle": "2024-03-09T20:00:29.366843Z",
     "shell.execute_reply": "2024-03-09T20:00:29.365378Z"
    },
    "papermill": {
     "duration": 0.027802,
     "end_time": "2024-03-09T20:00:29.369323",
     "exception": false,
     "start_time": "2024-03-09T20:00:29.341521",
     "status": "completed"
    },
    "tags": []
   },
   "outputs": [],
   "source": [
    "# Version 1, test_score: 0.583319926590042, public score 0.48\n",
    "# 100 iters\n",
    "\n",
    "# Version 2, test_score: 0.6062624701357268, public score 0.517\n",
    "# 300 iters\n",
    "\n",
    "# Version 3, test_score: ?, public score 0.545\n",
    "# 2000 iters\n",
    "\n",
    "# Version 4, test_score: ?, public score ?\n",
    "# ? iters, Improve aggregate functions for depth_1, depth_2\n"
   ]
  },
  {
   "cell_type": "markdown",
   "id": "dfa8e333",
   "metadata": {
    "papermill": {
     "duration": 0.01661,
     "end_time": "2024-03-09T20:00:29.403141",
     "exception": false,
     "start_time": "2024-03-09T20:00:29.386531",
     "status": "completed"
    },
    "tags": []
   },
   "source": [
    "# Submition"
   ]
  },
  {
   "cell_type": "code",
   "execution_count": 47,
   "id": "a6602179",
   "metadata": {
    "execution": {
     "iopub.execute_input": "2024-03-09T20:00:29.440983Z",
     "iopub.status.busy": "2024-03-09T20:00:29.440472Z",
     "iopub.status.idle": "2024-03-09T20:00:29.446918Z",
     "shell.execute_reply": "2024-03-09T20:00:29.445599Z"
    },
    "papermill": {
     "duration": 0.029125,
     "end_time": "2024-03-09T20:00:29.450454",
     "exception": false,
     "start_time": "2024-03-09T20:00:29.421329",
     "status": "completed"
    },
    "tags": []
   },
   "outputs": [],
   "source": [
    "# case_id = test_df[\"case_id\"]\n",
    "# X = test_df[features].to_pandas()\n",
    "\n",
    "# Y = model.predict_proba(X)\n",
    "\n",
    "# submission = pd.DataFrame({\n",
    "#     \"case_id\": case_id.to_numpy(),\n",
    "#     \"score\": Y[:, 1]\n",
    "# }).set_index('case_id')\n",
    "# submission.to_csv(\"./submission.csv\")"
   ]
  },
  {
   "cell_type": "code",
   "execution_count": null,
   "id": "27e50f55",
   "metadata": {
    "papermill": {
     "duration": 0.019042,
     "end_time": "2024-03-09T20:00:29.489292",
     "exception": false,
     "start_time": "2024-03-09T20:00:29.470250",
     "status": "completed"
    },
    "tags": []
   },
   "outputs": [],
   "source": []
  },
  {
   "cell_type": "code",
   "execution_count": null,
   "id": "2c9326a9",
   "metadata": {
    "papermill": {
     "duration": 0.017066,
     "end_time": "2024-03-09T20:00:29.523648",
     "exception": false,
     "start_time": "2024-03-09T20:00:29.506582",
     "status": "completed"
    },
    "tags": []
   },
   "outputs": [],
   "source": []
  },
  {
   "cell_type": "code",
   "execution_count": null,
   "id": "56cc49e4",
   "metadata": {
    "papermill": {
     "duration": 0.016735,
     "end_time": "2024-03-09T20:00:29.557456",
     "exception": false,
     "start_time": "2024-03-09T20:00:29.540721",
     "status": "completed"
    },
    "tags": []
   },
   "outputs": [],
   "source": []
  }
 ],
 "metadata": {
  "kaggle": {
   "accelerator": "none",
   "dataSources": [
    {
     "databundleVersionId": 7602123,
     "sourceId": 50160,
     "sourceType": "competition"
    },
    {
     "datasetId": 4496896,
     "sourceId": 7802672,
     "sourceType": "datasetVersion"
    }
   ],
   "dockerImageVersionId": 30635,
   "isGpuEnabled": false,
   "isInternetEnabled": false,
   "language": "python",
   "sourceType": "notebook"
  },
  "kernelspec": {
   "display_name": "Python 3",
   "language": "python",
   "name": "python3"
  },
  "language_info": {
   "codemirror_mode": {
    "name": "ipython",
    "version": 3
   },
   "file_extension": ".py",
   "mimetype": "text/x-python",
   "name": "python",
   "nbconvert_exporter": "python",
   "pygments_lexer": "ipython3",
   "version": "3.10.12"
  },
  "papermill": {
   "default_parameters": {},
   "duration": 1054.567729,
   "end_time": "2024-03-09T20:00:31.107439",
   "environment_variables": {},
   "exception": null,
   "input_path": "__notebook__.ipynb",
   "output_path": "__notebook__.ipynb",
   "parameters": {},
   "start_time": "2024-03-09T19:42:56.539710",
   "version": "2.4.0"
  }
 },
 "nbformat": 4,
 "nbformat_minor": 5
}
