{
 "cells": [
  {
   "cell_type": "markdown",
   "id": "61cd640e",
   "metadata": {
    "papermill": {
     "duration": 0.017379,
     "end_time": "2024-03-12T14:44:08.112250",
     "exception": false,
     "start_time": "2024-03-12T14:44:08.094871",
     "status": "completed"
    },
    "tags": []
   },
   "source": [
    "# Install packages"
   ]
  },
  {
   "cell_type": "code",
   "execution_count": 1,
   "id": "ceaae224",
   "metadata": {
    "execution": {
     "iopub.execute_input": "2024-03-12T14:44:08.148844Z",
     "iopub.status.busy": "2024-03-12T14:44:08.148321Z",
     "iopub.status.idle": "2024-03-12T14:44:44.123883Z",
     "shell.execute_reply": "2024-03-12T14:44:44.122603Z"
    },
    "papermill": {
     "duration": 35.99731,
     "end_time": "2024-03-12T14:44:44.126823",
     "exception": false,
     "start_time": "2024-03-12T14:44:08.129513",
     "status": "completed"
    },
    "tags": []
   },
   "outputs": [
    {
     "name": "stdout",
     "output_type": "stream",
     "text": [
      "Processing /kaggle/input/kaggle-home-credit-risk-model-stability-lib/kaggle_home_credit_risk_model_stability-0.3-py3-none-any.whl\r\n",
      "Installing collected packages: kaggle-home-credit-risk-model-stability\r\n",
      "Successfully installed kaggle-home-credit-risk-model-stability-0.3\r\n"
     ]
    }
   ],
   "source": [
    "!pip install /kaggle/input/kaggle-home-credit-risk-model-stability-lib/kaggle_home_credit_risk_model_stability-0.3-py3-none-any.whl --force-reinstall"
   ]
  },
  {
   "cell_type": "markdown",
   "id": "04a85240",
   "metadata": {
    "papermill": {
     "duration": 0.017421,
     "end_time": "2024-03-12T14:44:44.161771",
     "exception": false,
     "start_time": "2024-03-12T14:44:44.144350",
     "status": "completed"
    },
    "tags": []
   },
   "source": [
    "# Import packages"
   ]
  },
  {
   "cell_type": "code",
   "execution_count": 2,
   "id": "1a9f17ca",
   "metadata": {
    "execution": {
     "iopub.execute_input": "2024-03-12T14:44:44.199224Z",
     "iopub.status.busy": "2024-03-12T14:44:44.198793Z",
     "iopub.status.idle": "2024-03-12T14:44:49.205030Z",
     "shell.execute_reply": "2024-03-12T14:44:49.203784Z"
    },
    "papermill": {
     "duration": 5.028993,
     "end_time": "2024-03-12T14:44:49.208006",
     "exception": false,
     "start_time": "2024-03-12T14:44:44.179013",
     "status": "completed"
    },
    "tags": []
   },
   "outputs": [],
   "source": [
    "import polars as pl\n",
    "import gc\n",
    "import time\n",
    "import numpy as np\n",
    "import pandas as pd\n",
    "import lightgbm as lgb\n",
    "import seaborn as sns\n",
    "import matplotlib.pyplot as plt\n",
    "import copy\n",
    "import lightgbm as lgb\n",
    "import importlib\n",
    "import pickle\n",
    "\n",
    "import kaggle_home_credit_risk_model_stability.libs as hcr\n",
    "from kaggle_home_credit_risk_model_stability.libs.input.dataset import Dataset\n",
    "from kaggle_home_credit_risk_model_stability.libs.input.data_loader import DataLoader\n",
    "from kaggle_home_credit_risk_model_stability.libs.preprocessor.preprocessor import Preprocessor\n",
    "from kaggle_home_credit_risk_model_stability.libs.preprocessor.steps import *\n",
    "from kaggle_home_credit_risk_model_stability.libs.preprocessor.columns_info import ColumnsInfo\n",
    "from kaggle_home_credit_risk_model_stability.libs.feature_description.feature_description import FreatureDescriptionGetter\n",
    "\n",
    "from collections import defaultdict\n",
    "from glob import glob\n",
    "from pathlib import Path\n",
    "from sklearn.model_selection import train_test_split\n",
    "from sklearn.metrics import roc_auc_score\n",
    "from sklearn.model_selection import StratifiedGroupKFold\n",
    "from sklearn.base import BaseEstimator, RegressorMixin\n",
    "from catboost import CatBoostClassifier\n",
    "from enum import Enum"
   ]
  },
  {
   "cell_type": "code",
   "execution_count": 3,
   "id": "50c9983a",
   "metadata": {
    "execution": {
     "iopub.execute_input": "2024-03-12T14:44:49.246885Z",
     "iopub.status.busy": "2024-03-12T14:44:49.245852Z",
     "iopub.status.idle": "2024-03-12T14:44:49.254783Z",
     "shell.execute_reply": "2024-03-12T14:44:49.253777Z"
    },
    "papermill": {
     "duration": 0.030604,
     "end_time": "2024-03-12T14:44:49.257191",
     "exception": false,
     "start_time": "2024-03-12T14:44:49.226587",
     "status": "completed"
    },
    "tags": []
   },
   "outputs": [],
   "source": [
    "data_loader = DataLoader()\n",
    "preprocessor = Preprocessor({\n",
    "    \"set_column_info_step\": SetColumnsInfoStep(),\n",
    "    \"set_types\": SetTypesStep(),\n",
    "    \"process_categorical\": ProcessCategoricalStep(),\n",
    "    \"process_person_table\": ProcessPersonTableStep(),\n",
    "    \"one_hot_encoding_for_depth1\": OneHotEncodingForDepth1Step(),\n",
    "    \"pairwise_diff_raw_dates\": PairwiseDateDiffStep(),\n",
    "    \"aggregate_depth_table\": AggregateDepthTableStep(),\n",
    "    \"drop_equal_columns\": DropEqualColumnsStep(),\n",
    "    \"drop_almost_null_features_respect_to_target\": DropAlmostNullFeaturesWithRespectToTargetStep(),\n",
    "    \"join_table\": JoinTablesStep(),\n",
    "    \"generate_age_feature\": GenerateAgeFeatureStep(),\n",
    "    \"fill_nulls_in_categorical_features\": FillNullsInCategoricalFeaturesStep(),\n",
    "    **{\n",
    "        f\"create_money_feature_fraction_{base_column}\": CreateMoneyFeatureFractionStep(base_column)\n",
    "        for base_column in [\"credamount_770A\", \"maininc_215A\", \"mainoccupationinc_384A\", \"mean_amount_416A\"]\n",
    "    },\n",
    "    \"generate_mismatch_features\": GenerateMismatchFeaturesStep(),\n",
    "    \"generate_target_distribution_based_on_categorical_features_step\": GenerateTargetDistributionBasedOnCategoricalStep(),\n",
    "    \"drop_single_value_features\": DropSingleValueFeaturesStep(),\n",
    "    \"drop_variable_enum_features\": DropVariableEnumFeaturesStep(),\n",
    "    \"reduce_memory_usage\": ReduceMemoryUsageStep()\n",
    "})\n",
    "columns_info = ColumnsInfo()"
   ]
  },
  {
   "cell_type": "code",
   "execution_count": 4,
   "id": "90fa6e7c",
   "metadata": {
    "execution": {
     "iopub.execute_input": "2024-03-12T14:44:49.295000Z",
     "iopub.status.busy": "2024-03-12T14:44:49.294182Z",
     "iopub.status.idle": "2024-03-12T14:44:49.298540Z",
     "shell.execute_reply": "2024-03-12T14:44:49.297766Z"
    },
    "papermill": {
     "duration": 0.025539,
     "end_time": "2024-03-12T14:44:49.300802",
     "exception": false,
     "start_time": "2024-03-12T14:44:49.275263",
     "status": "completed"
    },
    "tags": []
   },
   "outputs": [],
   "source": [
    "# train_dataset = data_loader.load_train_dataset()\n",
    "# case_id_set = train_dataset.get_base().filter(train_dataset.get_base()[\"WEEK_NUM\"] < 3)[\"case_id\"]\n",
    "# train_dataset = train_dataset.filter(lambda table: table.filter(pl.col(\"case_id\").is_in(case_id_set)))"
   ]
  },
  {
   "cell_type": "code",
   "execution_count": 5,
   "id": "60635b8a",
   "metadata": {
    "execution": {
     "iopub.execute_input": "2024-03-12T14:44:49.338257Z",
     "iopub.status.busy": "2024-03-12T14:44:49.337817Z",
     "iopub.status.idle": "2024-03-12T15:02:25.574241Z",
     "shell.execute_reply": "2024-03-12T15:02:25.573040Z"
    },
    "papermill": {
     "duration": 1056.258079,
     "end_time": "2024-03-12T15:02:25.576846",
     "exception": false,
     "start_time": "2024-03-12T14:44:49.318767",
     "status": "completed"
    },
    "tags": []
   },
   "outputs": [
    {
     "name": "stdout",
     "output_type": "stream",
     "text": [
      "Train dataset week range: 0-91\n",
      "Dataset hash='77e5faae5a347c4193f5ba7f0f940b43b788bdcba4b228235edd76ebf608657d'\n",
      "Step: set_column_info_step, execution_time: 0.10965132713317871\n",
      "Dataset hash='77e5faae5a347c4193f5ba7f0f940b43b788bdcba4b228235edd76ebf608657d' after step: set_column_info_step\n",
      "Step: set_types, execution_time: 20.377239227294922\n",
      "Dataset hash='043e1bbfe077dca49cea4cae0647d57fbdd3fe0688670f78d723a8f7a08bc73b' after step: set_types\n",
      "Step: process_categorical, execution_time: 26.617493629455566\n",
      "Dataset hash='80067e4a84c83620fb1a3ff8889dfca74ed15a41c8eab9487d3a5e6cbfde65fc' after step: process_categorical\n",
      "Step: process_person_table, execution_time: 0.390897274017334\n",
      "Dataset hash='7e5c747397c09fe2a852a4a2c16302f1f2b306741a20f8db9f653c827a96256b' after step: process_person_table\n",
      "Create 250 new columns as one hot encoding\n",
      "Step: one_hot_encoding_for_depth1, execution_time: 24.2165789604187\n",
      "Dataset hash='496a261b39adbb84ef328f77bec16bbfb67fc21165a16d913715774635d0abc4' after step: one_hot_encoding_for_depth1\n",
      "Create 172 new columns as pairwise dates diff\n",
      "Step: pairwise_diff_raw_dates, execution_time: 1.3648524284362793\n",
      "Dataset hash='4af729217cdd9831c54312becb53af4a0b2547cf480eb7ac53a5a2e7752c2b74' after step: pairwise_diff_raw_dates\n",
      "Step: aggregate_depth_table, execution_time: 58.00842475891113\n",
      "Dataset hash='98efb50d22e40a9a960d0072b843d1367ea21a2bd57845531ce2a57ed85c7d8d' after step: aggregate_depth_table\n",
      "Drop 304 columns as duplicates\n",
      "Step: drop_equal_columns, execution_time: 50.494025468826294\n",
      "Dataset hash='6953d2bd58ca36fae35dc22cd783e3fbdc243cb8e76c7ff170039062d814b17e' after step: drop_equal_columns\n",
      "Drop 538 columns as almost null\n",
      "Step: drop_almost_null_features_respect_to_target, execution_time: 548.5716230869293\n",
      "Dataset hash='a0808150490796f2d3d50810dd9e79185e8eae46782ed3698bc817cdbb89bdba' after step: drop_almost_null_features_respect_to_target\n",
      "Step: join_table, execution_time: 9.53118348121643\n",
      "Dataset hash='3732f8ce108ab5fa80052c16014635e591522095e82dffc5aa813b527974ae44' after step: join_table\n",
      "Step: generate_age_feature, execution_time: 0.20133066177368164\n",
      "Dataset hash='5bad661c173028eed6160e8975c6f784416d413356e2ee61e304ecf4d5cffd7d' after step: generate_age_feature\n",
      "Step: fill_nulls_in_categorical_features, execution_time: 16.83914875984192\n",
      "Dataset hash='36c37869cdfcab4878efcacb051c91ce37723aa0df8be02b398d5788690d6c79' after step: fill_nulls_in_categorical_features\n",
      "Create 123 new columns as money feature fraction with base 'credamount_770A'\n",
      "Step: create_money_feature_fraction_credamount_770A, execution_time: 5.504931449890137\n",
      "Dataset hash='37dc7d9e8413b2511ecfc921120747d4d3d8dc40dacb3ee483e8851fe75a74f4' after step: create_money_feature_fraction_credamount_770A\n",
      "Create 123 new columns as money feature fraction with base 'maininc_215A'\n",
      "Step: create_money_feature_fraction_maininc_215A, execution_time: 8.166325569152832\n",
      "Dataset hash='1e8da25b6269cf02421786f84d6b77984851d5a367e8196720b9b67a7903f599' after step: create_money_feature_fraction_maininc_215A\n",
      "Create 123 new columns as money feature fraction with base 'mainoccupationinc_384A'\n",
      "Step: create_money_feature_fraction_mainoccupationinc_384A, execution_time: 5.793341875076294\n",
      "Dataset hash='3a720dca8c60cbf58a8fcea31dbb52a97d26b763a0a3339d5556d255db98f87a' after step: create_money_feature_fraction_mainoccupationinc_384A\n",
      "Create 123 new columns as money feature fraction with base 'mean_amount_416A'\n",
      "Step: create_money_feature_fraction_mean_amount_416A, execution_time: 8.207759380340576\n",
      "Dataset hash='92426b74e55678bc2484f97463470e23eed2afd1f47c51ae77e4906273134f55' after step: create_money_feature_fraction_mean_amount_416A\n",
      "Create 60 new columns as feature mismatch\n",
      "Step: generate_mismatch_features, execution_time: 50.55182909965515\n",
      "Dataset hash='95cecc1d1bffcc6b6409375f734afeb9aca5a55b48a9bf0ddc879191b04eb699' after step: generate_mismatch_features\n",
      "Create 210 as target distribution by categorical feature\n",
      "Step: generate_target_distribution_based_on_categorical_features_step, execution_time: 46.07951903343201\n",
      "Dataset hash='e1b4af20ffc4314944a10619aa3960280887aacd9bd7978b09e5da0d16a4b7c5' after step: generate_target_distribution_based_on_categorical_features_step\n",
      "Drop 19 columns as single value\n",
      "Step: drop_single_value_features, execution_time: 51.293832302093506\n",
      "Dataset hash='ba73b9841293278f9072d4dc12e6008322cca980cba81c2b9dca10bfb8947ada' after step: drop_single_value_features\n",
      "Drop 18 columns as variable enum value\n",
      "Step: drop_variable_enum_features, execution_time: 1.7219760417938232\n",
      "Dataset hash='07f10e245499d7394677887da042f285fdd4cce3b11daf55f1165958157edcd5' after step: drop_variable_enum_features\n",
      "Step: reduce_memory_usage, execution_time: 21.624056816101074\n",
      "Dataset hash='1edddc30c606ec2395a965ba3eb1a3cb75444a6811f877ffd9ac4b48b5fb61f3' after step: reduce_memory_usage\n"
     ]
    },
    {
     "data": {
      "text/plain": [
       "0"
      ]
     },
     "execution_count": 5,
     "metadata": {},
     "output_type": "execute_result"
    }
   ],
   "source": [
    "train_dataset = data_loader.load_train_dataset()\n",
    "print(\"Train dataset week range: {}-{}\".format(train_dataset.get_base()[\"WEEK_NUM\"].min(), train_dataset.get_base()[\"WEEK_NUM\"].max()))\n",
    "gc.collect()\n",
    "train_df, columns_info = preprocessor.process_train_dataset(train_dataset, columns_info)\n",
    "del train_dataset\n",
    "\n",
    "gc.collect()"
   ]
  },
  {
   "cell_type": "code",
   "execution_count": 6,
   "id": "c1b69cd6",
   "metadata": {
    "execution": {
     "iopub.execute_input": "2024-03-12T15:02:25.622734Z",
     "iopub.status.busy": "2024-03-12T15:02:25.622287Z",
     "iopub.status.idle": "2024-03-12T15:02:30.936192Z",
     "shell.execute_reply": "2024-03-12T15:02:30.935106Z"
    },
    "papermill": {
     "duration": 5.340581,
     "end_time": "2024-03-12T15:02:30.939016",
     "exception": false,
     "start_time": "2024-03-12T15:02:25.598435",
     "status": "completed"
    },
    "tags": []
   },
   "outputs": [],
   "source": [
    "for column in train_df.columns:\n",
    "    if train_df[column].dtype != pl.Enum:\n",
    "        x = train_df[column].is_infinite().sum() + train_df[column].is_nan().sum()\n",
    "        assert(x == 0)"
   ]
  },
  {
   "cell_type": "code",
   "execution_count": 7,
   "id": "6d53502a",
   "metadata": {
    "execution": {
     "iopub.execute_input": "2024-03-12T15:02:30.985175Z",
     "iopub.status.busy": "2024-03-12T15:02:30.984782Z",
     "iopub.status.idle": "2024-03-12T15:03:26.774311Z",
     "shell.execute_reply": "2024-03-12T15:03:26.773059Z"
    },
    "papermill": {
     "duration": 55.837722,
     "end_time": "2024-03-12T15:03:26.798556",
     "exception": false,
     "start_time": "2024-03-12T15:02:30.960834",
     "status": "completed"
    },
    "tags": []
   },
   "outputs": [
    {
     "name": "stdout",
     "output_type": "stream",
     "text": [
      "8763.011041641235\n",
      "shape: (1_526_659, 1_703)\n",
      "┌─────────┬────────────┬────────┬──────────┬───┬────────────┬────────────┬────────────┬────────────┐\n",
      "│ case_id ┆ date_decis ┆ MONTH  ┆ WEEK_NUM ┆ … ┆ last_type_ ┆ last_type_ ┆ age_bucket ┆ age_bucket │\n",
      "│ ---     ┆ ion        ┆ ---    ┆ ---      ┆   ┆ 25L_target ┆ 25L_value_ ┆ _target_di ┆ _value_per │\n",
      "│ i32     ┆ ---        ┆ i32    ┆ i8       ┆   ┆ _distribut ┆ persent    ┆ stribution ┆ sent       │\n",
      "│         ┆ i16        ┆        ┆          ┆   ┆ io…        ┆ ---        ┆ ---        ┆ ---        │\n",
      "│         ┆            ┆        ┆          ┆   ┆ ---        ┆ f32        ┆ f32        ┆ f32        │\n",
      "│         ┆            ┆        ┆          ┆   ┆ f32        ┆            ┆            ┆            │\n",
      "╞═════════╪════════════╪════════╪══════════╪═══╪════════════╪════════════╪════════════╪════════════╡\n",
      "│ 0       ┆ 17899      ┆ 201901 ┆ 0        ┆ … ┆ 0.033826   ┆ 0.424935   ┆ 0.0344     ┆ 0.255728   │\n",
      "│ 1       ┆ 17899      ┆ 201901 ┆ 0        ┆ … ┆ 0.033826   ┆ 0.424935   ┆ 0.017717   ┆ 0.154987   │\n",
      "│ 2       ┆ 17900      ┆ 201901 ┆ 0        ┆ … ┆ 0.033826   ┆ 0.424935   ┆ 0.030632   ┆ 0.216253   │\n",
      "│ 3       ┆ 17899      ┆ 201901 ┆ 0        ┆ … ┆ 0.033826   ┆ 0.424935   ┆ 0.048363   ┆ 0.176153   │\n",
      "│ …       ┆ …          ┆ …      ┆ …        ┆ … ┆ …          ┆ …          ┆ …          ┆ …          │\n",
      "│ 2703451 ┆ 18540      ┆ 202010 ┆ 91       ┆ … ┆ 0.020385   ┆ 0.02545    ┆ 0.017717   ┆ 0.154987   │\n",
      "│ 2703452 ┆ 18540      ┆ 202010 ┆ 91       ┆ … ┆ 0.03012    ┆ 0.507943   ┆ 0.030632   ┆ 0.216253   │\n",
      "│ 2703453 ┆ 18540      ┆ 202010 ┆ 91       ┆ … ┆ 0.020385   ┆ 0.02545    ┆ 0.020837   ┆ 0.033448   │\n",
      "│ 2703454 ┆ 18540      ┆ 202010 ┆ 91       ┆ … ┆ 0.03012    ┆ 0.507943   ┆ 0.020837   ┆ 0.033448   │\n",
      "└─────────┴────────────┴────────┴──────────┴───┴────────────┴────────────┴────────────┴────────────┘\n"
     ]
    },
    {
     "data": {
      "text/plain": [
       "0"
      ]
     },
     "execution_count": 7,
     "metadata": {},
     "output_type": "execute_result"
    }
   ],
   "source": [
    "train_df.write_parquet(\"/kaggle/working/train_df.parquet\")\n",
    "pickle.dump(columns_info, open(\"/kaggle/working/columns_info.pkl\", \"wb\"))\n",
    "print(train_df.estimated_size() / 1024 / 1024)\n",
    "print(train_df)\n",
    "\n",
    "del train_df\n",
    "gc.collect()"
   ]
  },
  {
   "cell_type": "code",
   "execution_count": 8,
   "id": "76b01153",
   "metadata": {
    "execution": {
     "iopub.execute_input": "2024-03-12T15:03:26.844797Z",
     "iopub.status.busy": "2024-03-12T15:03:26.844388Z",
     "iopub.status.idle": "2024-03-12T15:03:45.839794Z",
     "shell.execute_reply": "2024-03-12T15:03:45.838542Z"
    },
    "papermill": {
     "duration": 19.021661,
     "end_time": "2024-03-12T15:03:45.842282",
     "exception": false,
     "start_time": "2024-03-12T15:03:26.820621",
     "status": "completed"
    },
    "tags": []
   },
   "outputs": [
    {
     "name": "stdout",
     "output_type": "stream",
     "text": [
      "Test dataset week range: 100-100\n",
      "Dataset hash='f5e9385b688fb0d3fa538479059776d6899587a709ee18a392f2a0b3e9c5423e'\n",
      "Step: set_column_info_step, execution_time: 0.15271520614624023\n",
      "Dataset hash='f5e9385b688fb0d3fa538479059776d6899587a709ee18a392f2a0b3e9c5423e' after step: set_column_info_step\n",
      "Step: set_types, execution_time: 0.20106244087219238\n",
      "Dataset hash='ca9fcd073526fcabcfdeef36e3530430486a2cfb7014859712e6ce3ca24db5f1' after step: set_types\n",
      "Step: process_categorical, execution_time: 0.49866175651550293\n",
      "Dataset hash='6c8da1bad079a54d6a54692727c4f2ef22a3c38aaeb2fc6d60e9059805619143' after step: process_categorical\n",
      "Step: process_person_table, execution_time: 0.15445566177368164\n",
      "Dataset hash='0adc72d9ed19821f7f8c159e551cf510bc2e2ccc995d61b7068a12368b16d26c' after step: process_person_table\n",
      "Create 250 new columns as one hot encoding\n",
      "Step: one_hot_encoding_for_depth1, execution_time: 0.20694947242736816\n",
      "Dataset hash='66290c0724894f0545d4c72c923ce702c78791824ad9ec9263286de3ad43df75' after step: one_hot_encoding_for_depth1\n",
      "Create 172 new columns as pairwise dates diff\n",
      "Step: pairwise_diff_raw_dates, execution_time: 0.19266748428344727\n",
      "Dataset hash='32c73a5f99f28beb5968ab7d8db767509d651b9164868bfa40d0331102d39283' after step: pairwise_diff_raw_dates\n",
      "Step: aggregate_depth_table, execution_time: 0.6433639526367188\n",
      "Dataset hash='fb35c7ba42998a278d57c19f2615524dede4928b0878d8fdbe3545260eb8592b' after step: aggregate_depth_table\n",
      "Step: drop_equal_columns, execution_time: 0.18042922019958496\n",
      "Dataset hash='be6b16c8087a2db3a617360cc4eec39980e6a1022b4b77eac5a587cb680a6c1e' after step: drop_equal_columns\n",
      "Step: drop_almost_null_features_respect_to_target, execution_time: 0.17432093620300293\n",
      "Dataset hash='adacc2175750926fc4afbaf830ab2e6a792d7188be8f2a7517af9c5aba72a462' after step: drop_almost_null_features_respect_to_target\n",
      "Step: join_table, execution_time: 2.2177987098693848\n",
      "Dataset hash='6f383b8f06ffd32400e7c0796e6b4769b7d69305e08a08fe5fb9bd89ff9470d7' after step: join_table\n",
      "Step: generate_age_feature, execution_time: 0.16150236129760742\n",
      "Dataset hash='a59c8f1b2350897dda034cab586a8834cb4f53e9cb7e70ae87dfd0b345b43614' after step: generate_age_feature\n",
      "Step: fill_nulls_in_categorical_features, execution_time: 0.8294777870178223\n",
      "Dataset hash='91f931b4346778a5c3ec1cbcf60bf4b9f18e0988e0c72b7b6dd86833e24d04ba' after step: fill_nulls_in_categorical_features\n",
      "Create 123 new columns as money feature fraction with base 'credamount_770A'\n",
      "Step: create_money_feature_fraction_credamount_770A, execution_time: 0.24915027618408203\n",
      "Dataset hash='16efd453c3e0380cba0637e6cbde5d92fd9f5d355153daffe44cf22ce449c8f3' after step: create_money_feature_fraction_credamount_770A\n",
      "Create 123 new columns as money feature fraction with base 'maininc_215A'\n",
      "Step: create_money_feature_fraction_maininc_215A, execution_time: 0.25328826904296875\n",
      "Dataset hash='eee708410e262edc36f8a09e332ace5151f615f65bd80f0e8c5e191a89c35baa' after step: create_money_feature_fraction_maininc_215A\n",
      "Create 123 new columns as money feature fraction with base 'mainoccupationinc_384A'\n",
      "Step: create_money_feature_fraction_mainoccupationinc_384A, execution_time: 0.2675468921661377\n",
      "Dataset hash='733bcf04a646a5a22def64eb6f6a5c7b7b8838a657a652188d82668e5673d0c0' after step: create_money_feature_fraction_mainoccupationinc_384A\n",
      "Create 123 new columns as money feature fraction with base 'mean_amount_416A'\n",
      "Step: create_money_feature_fraction_mean_amount_416A, execution_time: 0.2671487331390381\n",
      "Dataset hash='435d8d5500d7fdf0ca08fd6d482d2d2084771ab1c960a434af17f00a000cb94a' after step: create_money_feature_fraction_mean_amount_416A\n",
      "Create 60 new columns as feature mismatch\n",
      "Step: generate_mismatch_features, execution_time: 0.18758034706115723\n",
      "Dataset hash='db3ca4ff30d600c8274792219dfad033032205c96eaff481a5a7d2f74b2e80b8' after step: generate_mismatch_features\n",
      "Create 210 as target distribution by categorical feature\n",
      "Step: generate_target_distribution_based_on_categorical_features_step, execution_time: 0.3662455081939697\n",
      "Dataset hash='bb57e1058501093400786d5ee8795b7986dda30475e91c5dcd8d1dab181e4575' after step: generate_target_distribution_based_on_categorical_features_step\n",
      "Step: drop_single_value_features, execution_time: 0.15876221656799316\n",
      "Dataset hash='13c59d33b5bf6195e69c14024d74dd0cd75a36a70431641a890d8bef76b84ec5' after step: drop_single_value_features\n",
      "Step: drop_variable_enum_features, execution_time: 0.15968084335327148\n",
      "Dataset hash='748ccd07e51321f530a1b22793496f3e21c93a77b07a8338e380e94c2fe864dc' after step: drop_variable_enum_features\n",
      "Step: reduce_memory_usage, execution_time: 1.2287611961364746\n",
      "Dataset hash='f30d1a621e0f59a6db7ba01d8faebb165096b5488af5fb5c6da372cf42ced7c4' after step: reduce_memory_usage\n"
     ]
    },
    {
     "data": {
      "text/plain": [
       "0"
      ]
     },
     "execution_count": 8,
     "metadata": {},
     "output_type": "execute_result"
    }
   ],
   "source": [
    "test_dataset = data_loader.load_test_dataset()\n",
    "print(\"Test dataset week range: {}-{}\".format(test_dataset.get_base()[\"WEEK_NUM\"].min(), test_dataset.get_base()[\"WEEK_NUM\"].max()))\n",
    "gc.collect()\n",
    "test_df, columns_info = preprocessor.process_test_dataset(test_dataset, columns_info)\n",
    "del test_dataset\n",
    "\n",
    "gc.collect()"
   ]
  },
  {
   "cell_type": "code",
   "execution_count": 9,
   "id": "f3cf67b5",
   "metadata": {
    "execution": {
     "iopub.execute_input": "2024-03-12T15:03:45.896418Z",
     "iopub.status.busy": "2024-03-12T15:03:45.896014Z",
     "iopub.status.idle": "2024-03-12T15:03:46.545067Z",
     "shell.execute_reply": "2024-03-12T15:03:46.543792Z"
    },
    "papermill": {
     "duration": 0.680371,
     "end_time": "2024-03-12T15:03:46.548582",
     "exception": false,
     "start_time": "2024-03-12T15:03:45.868211",
     "status": "completed"
    },
    "tags": []
   },
   "outputs": [
    {
     "name": "stdout",
     "output_type": "stream",
     "text": [
      "0.2993202209472656\n",
      "shape: (10, 1_702)\n",
      "┌─────────┬────────────┬────────┬──────────┬───┬────────────┬────────────┬────────────┬────────────┐\n",
      "│ case_id ┆ date_decis ┆ MONTH  ┆ WEEK_NUM ┆ … ┆ last_type_ ┆ last_type_ ┆ age_bucket ┆ age_bucket │\n",
      "│ ---     ┆ ion        ┆ ---    ┆ ---      ┆   ┆ 25L_target ┆ 25L_value_ ┆ _target_di ┆ _value_per │\n",
      "│ i32     ┆ ---        ┆ i32    ┆ i8       ┆   ┆ _distribut ┆ persent    ┆ stribution ┆ sent       │\n",
      "│         ┆ i16        ┆        ┆          ┆   ┆ io…        ┆ ---        ┆ ---        ┆ ---        │\n",
      "│         ┆            ┆        ┆          ┆   ┆ ---        ┆ f32        ┆ f32        ┆ f32        │\n",
      "│         ┆            ┆        ┆          ┆   ┆ f32        ┆            ┆            ┆            │\n",
      "╞═════════╪════════════╪════════╪══════════╪═══╪════════════╪════════════╪════════════╪════════════╡\n",
      "│ 57543   ┆ 18761      ┆ 202201 ┆ 100      ┆ … ┆ 0.033826   ┆ 0.424935   ┆ 0.030632   ┆ 0.216253   │\n",
      "│ 57549   ┆ 19009      ┆ 202201 ┆ 100      ┆ … ┆ 0.033826   ┆ 0.424935   ┆ 0.017717   ┆ 0.154987   │\n",
      "│ 57551   ┆ 18593      ┆ 202201 ┆ 100      ┆ … ┆ 0.03012    ┆ 0.507943   ┆ 0.0344     ┆ 0.255728   │\n",
      "│ 57552   ┆ 18593      ┆ 202201 ┆ 100      ┆ … ┆ 0.03012    ┆ 0.507943   ┆ 0.017717   ┆ 0.154987   │\n",
      "│ …       ┆ …          ┆ …      ┆ …        ┆ … ┆ …          ┆ …          ┆ …          ┆ …          │\n",
      "│ 57631   ┆ 19147      ┆ 202201 ┆ 100      ┆ … ┆ 0.03012    ┆ 0.507943   ┆ null       ┆ null       │\n",
      "│ 57632   ┆ 19028      ┆ 202201 ┆ 100      ┆ … ┆ 0.03012    ┆ 0.507943   ┆ null       ┆ null       │\n",
      "│ 57633   ┆ 19017      ┆ 202201 ┆ 100      ┆ … ┆ 0.03012    ┆ 0.507943   ┆ null       ┆ null       │\n",
      "│ 57634   ┆ 18654      ┆ 202201 ┆ 100      ┆ … ┆ 0.03012    ┆ 0.507943   ┆ null       ┆ null       │\n",
      "└─────────┴────────────┴────────┴──────────┴───┴────────────┴────────────┴────────────┴────────────┘\n"
     ]
    },
    {
     "data": {
      "text/plain": [
       "0"
      ]
     },
     "execution_count": 9,
     "metadata": {},
     "output_type": "execute_result"
    }
   ],
   "source": [
    "test_df.write_parquet(\"/kaggle/working/test_df.parquet\")\n",
    "print(test_df.estimated_size() / 1024 / 1024)\n",
    "print(test_df)\n",
    "\n",
    "del test_df\n",
    "gc.collect()"
   ]
  },
  {
   "cell_type": "markdown",
   "id": "c5f1709a",
   "metadata": {
    "_kg_hide-input": true,
    "papermill": {
     "duration": 0.025524,
     "end_time": "2024-03-12T15:03:46.599890",
     "exception": false,
     "start_time": "2024-03-12T15:03:46.574366",
     "status": "completed"
    },
    "tags": []
   },
   "source": [
    "# Data visualization"
   ]
  },
  {
   "cell_type": "code",
   "execution_count": null,
   "id": "4e2c679e",
   "metadata": {
    "papermill": {
     "duration": 0.025308,
     "end_time": "2024-03-12T15:03:46.650692",
     "exception": false,
     "start_time": "2024-03-12T15:03:46.625384",
     "status": "completed"
    },
    "tags": []
   },
   "outputs": [],
   "source": []
  },
  {
   "cell_type": "code",
   "execution_count": 10,
   "id": "73430c81",
   "metadata": {
    "execution": {
     "iopub.execute_input": "2024-03-12T15:03:46.704614Z",
     "iopub.status.busy": "2024-03-12T15:03:46.704217Z",
     "iopub.status.idle": "2024-03-12T15:03:46.709070Z",
     "shell.execute_reply": "2024-03-12T15:03:46.707862Z"
    },
    "papermill": {
     "duration": 0.034398,
     "end_time": "2024-03-12T15:03:46.711339",
     "exception": false,
     "start_time": "2024-03-12T15:03:46.676941",
     "status": "completed"
    },
    "tags": []
   },
   "outputs": [],
   "source": [
    "# train_dataset = data_loader.load_train_dataset()"
   ]
  },
  {
   "cell_type": "code",
   "execution_count": 11,
   "id": "acf8c722",
   "metadata": {
    "execution": {
     "iopub.execute_input": "2024-03-12T15:03:46.765440Z",
     "iopub.status.busy": "2024-03-12T15:03:46.764802Z",
     "iopub.status.idle": "2024-03-12T15:03:46.769821Z",
     "shell.execute_reply": "2024-03-12T15:03:46.768685Z"
    },
    "papermill": {
     "duration": 0.035104,
     "end_time": "2024-03-12T15:03:46.772158",
     "exception": false,
     "start_time": "2024-03-12T15:03:46.737054",
     "status": "completed"
    },
    "tags": []
   },
   "outputs": [],
   "source": [
    "# [column for column in train_df.columns if \"amtdebitincoming_4809443A\" in column]"
   ]
  },
  {
   "cell_type": "code",
   "execution_count": 12,
   "id": "e91c3bb4",
   "metadata": {
    "execution": {
     "iopub.execute_input": "2024-03-12T15:03:46.826683Z",
     "iopub.status.busy": "2024-03-12T15:03:46.826212Z",
     "iopub.status.idle": "2024-03-12T15:03:46.830459Z",
     "shell.execute_reply": "2024-03-12T15:03:46.829627Z"
    },
    "papermill": {
     "duration": 0.034854,
     "end_time": "2024-03-12T15:03:46.833098",
     "exception": false,
     "start_time": "2024-03-12T15:03:46.798244",
     "status": "completed"
    },
    "tags": []
   },
   "outputs": [],
   "source": [
    "# train_dataset.get_base()[\"target\"].mean()"
   ]
  },
  {
   "cell_type": "code",
   "execution_count": 13,
   "id": "60d1da50",
   "metadata": {
    "execution": {
     "iopub.execute_input": "2024-03-12T15:03:46.887556Z",
     "iopub.status.busy": "2024-03-12T15:03:46.886608Z",
     "iopub.status.idle": "2024-03-12T15:03:46.891617Z",
     "shell.execute_reply": "2024-03-12T15:03:46.890270Z"
    },
    "papermill": {
     "duration": 0.034925,
     "end_time": "2024-03-12T15:03:46.893992",
     "exception": false,
     "start_time": "2024-03-12T15:03:46.859067",
     "status": "completed"
    },
    "tags": []
   },
   "outputs": [],
   "source": [
    "# tables = {name: table for name, table in train_dataset.get_depth_tables(1)}"
   ]
  },
  {
   "cell_type": "code",
   "execution_count": 14,
   "id": "8cb085e3",
   "metadata": {
    "execution": {
     "iopub.execute_input": "2024-03-12T15:03:46.948289Z",
     "iopub.status.busy": "2024-03-12T15:03:46.947052Z",
     "iopub.status.idle": "2024-03-12T15:03:46.952207Z",
     "shell.execute_reply": "2024-03-12T15:03:46.951318Z"
    },
    "papermill": {
     "duration": 0.034565,
     "end_time": "2024-03-12T15:03:46.954552",
     "exception": false,
     "start_time": "2024-03-12T15:03:46.919987",
     "status": "completed"
    },
    "tags": []
   },
   "outputs": [],
   "source": [
    "# applprev_1 = tables[\"applprev_1\"]"
   ]
  },
  {
   "cell_type": "code",
   "execution_count": 15,
   "id": "7c27f95c",
   "metadata": {
    "execution": {
     "iopub.execute_input": "2024-03-12T15:03:47.008467Z",
     "iopub.status.busy": "2024-03-12T15:03:47.007802Z",
     "iopub.status.idle": "2024-03-12T15:03:47.012652Z",
     "shell.execute_reply": "2024-03-12T15:03:47.011514Z"
    },
    "papermill": {
     "duration": 0.035059,
     "end_time": "2024-03-12T15:03:47.015164",
     "exception": false,
     "start_time": "2024-03-12T15:03:46.980105",
     "status": "completed"
    },
    "tags": []
   },
   "outputs": [],
   "source": [
    "# joined = applprev_1[\"case_id\"].value_counts().join(train_dataset.get_base()[[\"case_id\", \"target\"]], on=\"case_id\").sort(\"count\")\n",
    "# joined.filter(pl.col(\"target\") == 1)"
   ]
  },
  {
   "cell_type": "code",
   "execution_count": 16,
   "id": "88d9eb6e",
   "metadata": {
    "execution": {
     "iopub.execute_input": "2024-03-12T15:03:47.069009Z",
     "iopub.status.busy": "2024-03-12T15:03:47.068149Z",
     "iopub.status.idle": "2024-03-12T15:03:47.072992Z",
     "shell.execute_reply": "2024-03-12T15:03:47.072189Z"
    },
    "papermill": {
     "duration": 0.034625,
     "end_time": "2024-03-12T15:03:47.075551",
     "exception": false,
     "start_time": "2024-03-12T15:03:47.040926",
     "status": "completed"
    },
    "tags": []
   },
   "outputs": [],
   "source": [
    "# base = train_dataset.get_base()"
   ]
  },
  {
   "cell_type": "code",
   "execution_count": 17,
   "id": "1bfc86c1",
   "metadata": {
    "execution": {
     "iopub.execute_input": "2024-03-12T15:03:47.129545Z",
     "iopub.status.busy": "2024-03-12T15:03:47.128342Z",
     "iopub.status.idle": "2024-03-12T15:03:47.133713Z",
     "shell.execute_reply": "2024-03-12T15:03:47.132813Z"
    },
    "papermill": {
     "duration": 0.035513,
     "end_time": "2024-03-12T15:03:47.136644",
     "exception": false,
     "start_time": "2024-03-12T15:03:47.101131",
     "status": "completed"
    },
    "tags": []
   },
   "outputs": [],
   "source": [
    "# base.filter(pl.col(\"case_id\") == 2702490)"
   ]
  },
  {
   "cell_type": "code",
   "execution_count": 18,
   "id": "2482536f",
   "metadata": {
    "execution": {
     "iopub.execute_input": "2024-03-12T15:03:47.194817Z",
     "iopub.status.busy": "2024-03-12T15:03:47.194362Z",
     "iopub.status.idle": "2024-03-12T15:03:47.199114Z",
     "shell.execute_reply": "2024-03-12T15:03:47.197927Z"
    },
    "papermill": {
     "duration": 0.036493,
     "end_time": "2024-03-12T15:03:47.201536",
     "exception": false,
     "start_time": "2024-03-12T15:03:47.165043",
     "status": "completed"
    },
    "tags": []
   },
   "outputs": [],
   "source": [
    "# applprev_1.filter(applprev_1[\"case_id\"] == 2702490).sort(\"num_group1\")\n",
    "#base.filter(pl.col(\"case_id\") == 176526)"
   ]
  },
  {
   "cell_type": "code",
   "execution_count": 19,
   "id": "d570bb33",
   "metadata": {
    "execution": {
     "iopub.execute_input": "2024-03-12T15:03:47.255801Z",
     "iopub.status.busy": "2024-03-12T15:03:47.254565Z",
     "iopub.status.idle": "2024-03-12T15:03:47.259618Z",
     "shell.execute_reply": "2024-03-12T15:03:47.258676Z"
    },
    "papermill": {
     "duration": 0.034696,
     "end_time": "2024-03-12T15:03:47.261878",
     "exception": false,
     "start_time": "2024-03-12T15:03:47.227182",
     "status": "completed"
    },
    "tags": []
   },
   "outputs": [],
   "source": [
    "# applprev_1.filter(applprev_1[\"case_id\"] == 2702490).sort(\"num_group1\")[[\"credamount_590A\", \"mainoccupationinc_437A\", \"rejectreason_755M\", \"rejectreasonclient_4145042M\"]]\n"
   ]
  },
  {
   "cell_type": "code",
   "execution_count": 20,
   "id": "3722a2df",
   "metadata": {
    "execution": {
     "iopub.execute_input": "2024-03-12T15:03:47.316127Z",
     "iopub.status.busy": "2024-03-12T15:03:47.315378Z",
     "iopub.status.idle": "2024-03-12T15:03:47.320602Z",
     "shell.execute_reply": "2024-03-12T15:03:47.319647Z"
    },
    "papermill": {
     "duration": 0.035743,
     "end_time": "2024-03-12T15:03:47.323249",
     "exception": false,
     "start_time": "2024-03-12T15:03:47.287506",
     "status": "completed"
    },
    "tags": []
   },
   "outputs": [],
   "source": [
    "# applprev_1.filter(applprev_1[\"case_id\"] == 176526).sort(\"num_group1\")[[\"credamount_590A\", \"mainoccupationinc_437A\", \"rejectreason_755M\", \"rejectreasonclient_4145042M\"]]a"
   ]
  },
  {
   "cell_type": "code",
   "execution_count": 21,
   "id": "1eb0b9d2",
   "metadata": {
    "execution": {
     "iopub.execute_input": "2024-03-12T15:03:47.378392Z",
     "iopub.status.busy": "2024-03-12T15:03:47.377342Z",
     "iopub.status.idle": "2024-03-12T15:03:47.382121Z",
     "shell.execute_reply": "2024-03-12T15:03:47.381173Z"
    },
    "papermill": {
     "duration": 0.035194,
     "end_time": "2024-03-12T15:03:47.384657",
     "exception": false,
     "start_time": "2024-03-12T15:03:47.349463",
     "status": "completed"
    },
    "tags": []
   },
   "outputs": [],
   "source": [
    "# applprev_1.filter(applprev_1[\"case_id\"] == 176526).sort(\"num_group1\")"
   ]
  },
  {
   "cell_type": "code",
   "execution_count": 22,
   "id": "c93f65e0",
   "metadata": {
    "execution": {
     "iopub.execute_input": "2024-03-12T15:03:47.439787Z",
     "iopub.status.busy": "2024-03-12T15:03:47.438970Z",
     "iopub.status.idle": "2024-03-12T15:03:47.443978Z",
     "shell.execute_reply": "2024-03-12T15:03:47.443075Z"
    },
    "papermill": {
     "duration": 0.035525,
     "end_time": "2024-03-12T15:03:47.446309",
     "exception": false,
     "start_time": "2024-03-12T15:03:47.410784",
     "status": "completed"
    },
    "tags": []
   },
   "outputs": [],
   "source": [
    "# FreatureDescriptionGetter().get(\"rejectreasonclient_4145042M\")"
   ]
  },
  {
   "cell_type": "code",
   "execution_count": 23,
   "id": "72104358",
   "metadata": {
    "execution": {
     "iopub.execute_input": "2024-03-12T15:03:47.500422Z",
     "iopub.status.busy": "2024-03-12T15:03:47.499363Z",
     "iopub.status.idle": "2024-03-12T15:03:47.506179Z",
     "shell.execute_reply": "2024-03-12T15:03:47.505045Z"
    },
    "papermill": {
     "duration": 0.037056,
     "end_time": "2024-03-12T15:03:47.509136",
     "exception": false,
     "start_time": "2024-03-12T15:03:47.472080",
     "status": "completed"
    },
    "tags": []
   },
   "outputs": [],
   "source": [
    "# def bucket_mean_split(x, y, buckets=100):\n",
    "#     x_buckets = []\n",
    "#     y_buckets = []\n",
    "\n",
    "#     x = np.array(x)\n",
    "#     y = np.array(y)\n",
    "#     x_quantiles = [np.quantile(x, i / buckets) for i in range(0, buckets + 1)]\n",
    "#     for i in range(0, buckets):\n",
    "#         filter = (x >= x_quantiles[i]) & (x <= x_quantiles[i + 1])\n",
    "#         x_buckets.append(np.mean(x[filter]))\n",
    "#         y_buckets.append(np.mean(y[filter]))\n",
    "#     return x_buckets, y_buckets"
   ]
  },
  {
   "cell_type": "code",
   "execution_count": 24,
   "id": "d60f8288",
   "metadata": {
    "execution": {
     "iopub.execute_input": "2024-03-12T15:03:47.563319Z",
     "iopub.status.busy": "2024-03-12T15:03:47.562875Z",
     "iopub.status.idle": "2024-03-12T15:03:47.567560Z",
     "shell.execute_reply": "2024-03-12T15:03:47.566397Z"
    },
    "papermill": {
     "duration": 0.034738,
     "end_time": "2024-03-12T15:03:47.569941",
     "exception": false,
     "start_time": "2024-03-12T15:03:47.535203",
     "status": "completed"
    },
    "tags": []
   },
   "outputs": [],
   "source": [
    "# train[\"target\"].mean()"
   ]
  },
  {
   "cell_type": "code",
   "execution_count": 25,
   "id": "ed507c56",
   "metadata": {
    "execution": {
     "iopub.execute_input": "2024-03-12T15:03:47.625835Z",
     "iopub.status.busy": "2024-03-12T15:03:47.624838Z",
     "iopub.status.idle": "2024-03-12T15:03:47.630141Z",
     "shell.execute_reply": "2024-03-12T15:03:47.629094Z"
    },
    "papermill": {
     "duration": 0.036595,
     "end_time": "2024-03-12T15:03:47.632549",
     "exception": false,
     "start_time": "2024-03-12T15:03:47.595954",
     "status": "completed"
    },
    "tags": []
   },
   "outputs": [],
   "source": [
    "# print(\"Mean target={} where actualdpdtolerance_344P != 0\".format(train[\"target\"].filter(train[\"actualdpdtolerance_344P\"] != 0).mean()))\n",
    "# print(\"Mean target={} where actualdpdtolerance_344P == 0\".format(train[\"target\"].filter(train[\"actualdpdtolerance_344P\"] == 0).mean()))\n",
    "# print(\"Mean target={} where actualdpdtolerance_344P is null\".format(train[\"target\"].filter(train[\"actualdpdtolerance_344P\"].is_null()).mean()))"
   ]
  },
  {
   "cell_type": "code",
   "execution_count": 26,
   "id": "c0fd46fd",
   "metadata": {
    "execution": {
     "iopub.execute_input": "2024-03-12T15:03:47.686965Z",
     "iopub.status.busy": "2024-03-12T15:03:47.686291Z",
     "iopub.status.idle": "2024-03-12T15:03:47.691583Z",
     "shell.execute_reply": "2024-03-12T15:03:47.690776Z"
    },
    "papermill": {
     "duration": 0.035513,
     "end_time": "2024-03-12T15:03:47.693959",
     "exception": false,
     "start_time": "2024-03-12T15:03:47.658446",
     "status": "completed"
    },
    "tags": []
   },
   "outputs": [],
   "source": [
    "# columns = [column for column in train.columns if (train[column].dtype == pl.Float64)]\n",
    "\n",
    "# figure, axis = plt.subplots(len(columns) // 5 + 1, 5, figsize=(15, 30))\n",
    "# for index, column in enumerate(columns):\n",
    "#     current_plot = axis[index // 5, index % 5]\n",
    "#     x = train[column]\n",
    "#     y = train[\"target\"]\n",
    "#     if (x.dtype == pl.String or x.dtype == pl.Boolean):\n",
    "#         continue\n",
    "#     filter = x.is_not_null()\n",
    "#     x = x.filter(filter)\n",
    "#     y = y.filter(filter)\n",
    "#     if (x.is_empty()):\n",
    "#         continue\n",
    "#     x_bucket, y_bucket = bucket_mean_split(x.to_numpy(), y.to_numpy(), buckets=100)\n",
    "#     current_plot.plot(x_bucket, y_bucket)\n",
    "#     current_plot.set_title(column)\n",
    "# plt.show()"
   ]
  },
  {
   "cell_type": "code",
   "execution_count": 27,
   "id": "a222a2f7",
   "metadata": {
    "execution": {
     "iopub.execute_input": "2024-03-12T15:03:47.747929Z",
     "iopub.status.busy": "2024-03-12T15:03:47.747496Z",
     "iopub.status.idle": "2024-03-12T15:03:47.751818Z",
     "shell.execute_reply": "2024-03-12T15:03:47.750694Z"
    },
    "papermill": {
     "duration": 0.034753,
     "end_time": "2024-03-12T15:03:47.754613",
     "exception": false,
     "start_time": "2024-03-12T15:03:47.719860",
     "status": "completed"
    },
    "tags": []
   },
   "outputs": [],
   "source": [
    "# features = train_df.columns\n",
    "# features.remove(\"WEEK_NUM\")\n",
    "# features.remove(\"case_id\")\n",
    "# features.remove(\"target\")"
   ]
  },
  {
   "cell_type": "code",
   "execution_count": 28,
   "id": "cdd9707f",
   "metadata": {
    "execution": {
     "iopub.execute_input": "2024-03-12T15:03:47.809564Z",
     "iopub.status.busy": "2024-03-12T15:03:47.808788Z",
     "iopub.status.idle": "2024-03-12T15:03:47.812906Z",
     "shell.execute_reply": "2024-03-12T15:03:47.812098Z"
    },
    "papermill": {
     "duration": 0.033682,
     "end_time": "2024-03-12T15:03:47.814979",
     "exception": false,
     "start_time": "2024-03-12T15:03:47.781297",
     "status": "completed"
    },
    "tags": []
   },
   "outputs": [],
   "source": [
    "# gc.collect()"
   ]
  },
  {
   "cell_type": "markdown",
   "id": "acb885ab",
   "metadata": {
    "papermill": {
     "duration": 0.025898,
     "end_time": "2024-03-12T15:03:47.868052",
     "exception": false,
     "start_time": "2024-03-12T15:03:47.842154",
     "status": "completed"
    },
    "tags": []
   },
   "source": [
    "### Feature Importance"
   ]
  },
  {
   "cell_type": "code",
   "execution_count": 29,
   "id": "f7eedf68",
   "metadata": {
    "execution": {
     "iopub.execute_input": "2024-03-12T15:03:47.922062Z",
     "iopub.status.busy": "2024-03-12T15:03:47.921248Z",
     "iopub.status.idle": "2024-03-12T15:03:47.926255Z",
     "shell.execute_reply": "2024-03-12T15:03:47.925401Z"
    },
    "papermill": {
     "duration": 0.034763,
     "end_time": "2024-03-12T15:03:47.928679",
     "exception": false,
     "start_time": "2024-03-12T15:03:47.893916",
     "status": "completed"
    },
    "tags": []
   },
   "outputs": [],
   "source": [
    "# def train_rf(X, Y):    \n",
    "#     params = {\n",
    "#         \"boosting_type\": \"gbdt\",\n",
    "#         \"objective\": \"binary\",\n",
    "#         \"metric\": \"auc\",\n",
    "#         \"max_depth\": 8,\n",
    "#         \"max_bin\": 255,\n",
    "#         \"learning_rate\": 0.05,\n",
    "#         \"n_estimators\": 200,\n",
    "#         \"colsample_bytree\": 0.8, \n",
    "#         \"colsample_bynode\": 0.8,\n",
    "#         \"verbose\": -1,\n",
    "#         \"random_state\": 42,\n",
    "#         \"device\": \"gpu\",\n",
    "#     }\n",
    "    \n",
    "#     model = lgb.LGBMClassifier(**params)\n",
    "    \n",
    "#     model.fit(X.to_pandas(), Y.to_pandas())\n",
    "    \n",
    "#     # Get feature importances\n",
    "#     return pl.DataFrame({\n",
    "#         \"feature\": list(X.columns),\n",
    "#         \"feature_importance\": model.feature_importances_,\n",
    "#         \"train_score\": roc_auc_score(Y.to_pandas(), model.predict(X.to_pandas()))\n",
    "#     })"
   ]
  },
  {
   "cell_type": "code",
   "execution_count": 30,
   "id": "374e681f",
   "metadata": {
    "execution": {
     "iopub.execute_input": "2024-03-12T15:03:47.983967Z",
     "iopub.status.busy": "2024-03-12T15:03:47.983249Z",
     "iopub.status.idle": "2024-03-12T15:03:47.989232Z",
     "shell.execute_reply": "2024-03-12T15:03:47.988318Z"
    },
    "papermill": {
     "duration": 0.03595,
     "end_time": "2024-03-12T15:03:47.991608",
     "exception": false,
     "start_time": "2024-03-12T15:03:47.955658",
     "status": "completed"
    },
    "tags": []
   },
   "outputs": [],
   "source": [
    "# def get_feature_importance(X, Y):\n",
    "#     COUNT_ITER = 50\n",
    "    \n",
    "#     dfs = []\n",
    "#     for i in range(COUNT_ITER):\n",
    "#         gc.collect()\n",
    "        \n",
    "#         start_time = time.time()\n",
    "#         shuffled_Y = Y.clone().sample(fraction=1.0, shuffle=True)\n",
    "#         current_df = train_rf(X, shuffled_Y)\n",
    "#         finish_time = time.time()\n",
    "#         print(f\"Finish iteration: {i + 1}/{COUNT_ITER}, time: {finish_time - start_time}\")\n",
    "#         current_df = current_df.with_columns(pl.lit(i).alias(\"iteration\"))\n",
    "#         dfs.append(current_df)\n",
    "        \n",
    "#     return pl.concat(dfs, rechunk=True), train_rf(X, Y)"
   ]
  },
  {
   "cell_type": "code",
   "execution_count": 31,
   "id": "b1546266",
   "metadata": {
    "execution": {
     "iopub.execute_input": "2024-03-12T15:03:48.046509Z",
     "iopub.status.busy": "2024-03-12T15:03:48.045684Z",
     "iopub.status.idle": "2024-03-12T15:03:48.050647Z",
     "shell.execute_reply": "2024-03-12T15:03:48.049836Z"
    },
    "papermill": {
     "duration": 0.035735,
     "end_time": "2024-03-12T15:03:48.053111",
     "exception": false,
     "start_time": "2024-03-12T15:03:48.017376",
     "status": "completed"
    },
    "tags": []
   },
   "outputs": [],
   "source": [
    "# shuffled_feature_importance_df, feature_importance_df = get_feature_importance(train_df[features], train_df[\"target\"])\n",
    "# shuffled_feature_importance_df.write_csv(\"shuffled_feature_importance_df.csv\", separator=\",\")\n",
    "# feature_importance_df.write_csv(\"feature_importance_df.csv\", separator=\",\")"
   ]
  },
  {
   "cell_type": "code",
   "execution_count": 32,
   "id": "c0d8f838",
   "metadata": {
    "execution": {
     "iopub.execute_input": "2024-03-12T15:03:48.107241Z",
     "iopub.status.busy": "2024-03-12T15:03:48.106479Z",
     "iopub.status.idle": "2024-03-12T15:03:48.111503Z",
     "shell.execute_reply": "2024-03-12T15:03:48.110764Z"
    },
    "papermill": {
     "duration": 0.034863,
     "end_time": "2024-03-12T15:03:48.113773",
     "exception": false,
     "start_time": "2024-03-12T15:03:48.078910",
     "status": "completed"
    },
    "tags": []
   },
   "outputs": [],
   "source": [
    "# important_features = []\n",
    "# for column in feature_importance_df[\"feature\"]:\n",
    "#     shuffled_feature_importance = shuffled_feature_importance_df.filter(shuffled_feature_importance_df[\"feature\"] == column)[\"feature_importance\"].to_numpy()\n",
    "#     feature_importance = feature_importance_df.filter(feature_importance_df[\"feature\"] == column)[\"feature_importance\"][0]\n",
    "    \n",
    "#     if (np.percentile(shuffled_feature_importance, 90) <= feature_importance):\n",
    "#         important_features.append(column)\n",
    "# print(len(important_features), important_features)"
   ]
  },
  {
   "cell_type": "markdown",
   "id": "b83397ea",
   "metadata": {
    "papermill": {
     "duration": 0.026198,
     "end_time": "2024-03-12T15:03:48.165557",
     "exception": false,
     "start_time": "2024-03-12T15:03:48.139359",
     "status": "completed"
    },
    "tags": []
   },
   "source": [
    "# Training"
   ]
  },
  {
   "cell_type": "code",
   "execution_count": 33,
   "id": "098170bf",
   "metadata": {
    "execution": {
     "iopub.execute_input": "2024-03-12T15:03:48.224690Z",
     "iopub.status.busy": "2024-03-12T15:03:48.223353Z",
     "iopub.status.idle": "2024-03-12T15:03:48.229486Z",
     "shell.execute_reply": "2024-03-12T15:03:48.228710Z"
    },
    "papermill": {
     "duration": 0.035922,
     "end_time": "2024-03-12T15:03:48.231925",
     "exception": false,
     "start_time": "2024-03-12T15:03:48.196003",
     "status": "completed"
    },
    "tags": []
   },
   "outputs": [],
   "source": [
    "# class VotingModel(BaseEstimator, RegressorMixin):\n",
    "#     def __init__(self, estimators):\n",
    "#         super().__init__()\n",
    "#         self.estimators = estimators\n",
    "        \n",
    "#     def fit(self, X, y=None):\n",
    "#         return self\n",
    "    \n",
    "#     def predict(self, X):\n",
    "#         y_preds = [estimator.predict(X) for estimator in self.estimators]\n",
    "#         return np.mean(y_preds, axis=0)\n",
    "    \n",
    "#     def predict_proba(self, X):\n",
    "#         y_preds = [estimator.predict_proba(X) for estimator in self.estimators]\n",
    "#         return np.mean(y_preds, axis=0)\n",
    "    \n",
    "#     def get_feature_importance(self):\n",
    "#         feature_importances = np.array([0 for feature in features])\n",
    "\n",
    "#         for model in self.estimators:\n",
    "#             feature_importances += model.feature_importances_\n",
    "\n",
    "#         return feature_importances"
   ]
  },
  {
   "cell_type": "code",
   "execution_count": 34,
   "id": "ff9b2987",
   "metadata": {
    "execution": {
     "iopub.execute_input": "2024-03-12T15:03:48.285532Z",
     "iopub.status.busy": "2024-03-12T15:03:48.284737Z",
     "iopub.status.idle": "2024-03-12T15:03:48.289817Z",
     "shell.execute_reply": "2024-03-12T15:03:48.288781Z"
    },
    "papermill": {
     "duration": 0.034702,
     "end_time": "2024-03-12T15:03:48.292220",
     "exception": false,
     "start_time": "2024-03-12T15:03:48.257518",
     "status": "completed"
    },
    "tags": []
   },
   "outputs": [],
   "source": [
    "# for column in features:\n",
    "#     if (train_dataset[column].dtype != pl.Categorical) and \\\n",
    "#         (train_dataset[column].dtype != pl.Float64) and \\\n",
    "#         (train_dataset[column].dtype != pl.Float64):\n",
    "#         print(column, train_dataset[column].dtype)"
   ]
  },
  {
   "cell_type": "code",
   "execution_count": 35,
   "id": "9ccfb10d",
   "metadata": {
    "execution": {
     "iopub.execute_input": "2024-03-12T15:03:48.346343Z",
     "iopub.status.busy": "2024-03-12T15:03:48.345215Z",
     "iopub.status.idle": "2024-03-12T15:03:48.351088Z",
     "shell.execute_reply": "2024-03-12T15:03:48.350102Z"
    },
    "papermill": {
     "duration": 0.035561,
     "end_time": "2024-03-12T15:03:48.353461",
     "exception": false,
     "start_time": "2024-03-12T15:03:48.317900",
     "status": "completed"
    },
    "tags": []
   },
   "outputs": [],
   "source": [
    "# def train_lgb_model(X_train, Y_train, X_test, Y_test):\n",
    "#     params = {\n",
    "#         \"boosting_type\": \"gbdt\",\n",
    "#         \"objective\": \"binary\",\n",
    "#         \"metric\": \"auc\",\n",
    "#         \"max_depth\": 8,\n",
    "#         \"max_bin\": 250,\n",
    "#         \"learning_rate\": 0.05,\n",
    "#         \"n_estimators\": 1000,\n",
    "#         \"colsample_bytree\": 0.8, \n",
    "#         \"colsample_bynode\": 0.8,\n",
    "#         \"verbose\": -1,\n",
    "#         \"random_state\": 42,\n",
    "#         \"device\": \"gpu\",\n",
    "#     }\n",
    "    \n",
    "#     model = lgb.LGBMClassifier(**params)\n",
    "    \n",
    "#     model.fit(\n",
    "#         X_train, Y_train,\n",
    "#         eval_set=[(X_test, Y_test)],\n",
    "#         callbacks=[lgb.log_evaluation(100), lgb.early_stopping(100)]\n",
    "#     )\n",
    "        \n",
    "#     return model"
   ]
  },
  {
   "cell_type": "code",
   "execution_count": 36,
   "id": "4e735bc5",
   "metadata": {
    "execution": {
     "iopub.execute_input": "2024-03-12T15:03:48.406877Z",
     "iopub.status.busy": "2024-03-12T15:03:48.406442Z",
     "iopub.status.idle": "2024-03-12T15:03:48.411604Z",
     "shell.execute_reply": "2024-03-12T15:03:48.410425Z"
    },
    "papermill": {
     "duration": 0.034714,
     "end_time": "2024-03-12T15:03:48.414049",
     "exception": false,
     "start_time": "2024-03-12T15:03:48.379335",
     "status": "completed"
    },
    "tags": []
   },
   "outputs": [],
   "source": [
    "# gc.collect()"
   ]
  },
  {
   "cell_type": "code",
   "execution_count": 37,
   "id": "4e4e1fed",
   "metadata": {
    "execution": {
     "iopub.execute_input": "2024-03-12T15:03:48.468241Z",
     "iopub.status.busy": "2024-03-12T15:03:48.467119Z",
     "iopub.status.idle": "2024-03-12T15:03:48.473480Z",
     "shell.execute_reply": "2024-03-12T15:03:48.472655Z"
    },
    "papermill": {
     "duration": 0.035903,
     "end_time": "2024-03-12T15:03:48.475798",
     "exception": false,
     "start_time": "2024-03-12T15:03:48.439895",
     "status": "completed"
    },
    "tags": []
   },
   "outputs": [],
   "source": [
    "# weeks = train_df[\"WEEK_NUM\"]\n",
    "# cv = StratifiedGroupKFold(n_splits=5, shuffle=False)\n",
    "\n",
    "# fitted_models = []\n",
    "\n",
    "# oof_predicted = np.zeros(train_df.shape[0])\n",
    "\n",
    "# for idx_train, idx_test in cv.split(train_df[features], train_df[\"target\"], groups=weeks):        \n",
    "# #     X_train = train_df[features][idx_train].to_pandas()\n",
    "# #     Y_train = train_df[\"target\"][idx_train].to_pandas()\n",
    "    \n",
    "#     X_test = train_df[features][idx_test].to_pandas()\n",
    "#     Y_test = train_df[\"target\"][idx_test].to_pandas()\n",
    "    \n",
    "#     start = time.time()\n",
    "#     params = {\n",
    "#         \"boosting_type\": \"gbdt\",\n",
    "#         \"objective\": \"binary\",\n",
    "#         \"metric\": \"auc\",\n",
    "#         \"max_depth\": 8,\n",
    "#         \"max_bin\": 250,\n",
    "#         \"learning_rate\": 0.05,\n",
    "#         \"n_estimators\": 1000,\n",
    "#         \"colsample_bytree\": 0.8, \n",
    "#         \"colsample_bynode\": 0.8,\n",
    "#         \"verbose\": -1,\n",
    "#         \"random_state\": 42,\n",
    "#         \"device\": \"gpu\",\n",
    "#     }\n",
    "    \n",
    "#     model = lgb.LGBMClassifier(**params)\n",
    "    \n",
    "#     model.fit(\n",
    "#         train_df[features][idx_train].to_pandas(), train_df[\"target\"][idx_train].to_pandas(),\n",
    "#         eval_set=[(X_test, Y_test)],\n",
    "#         callbacks=[lgb.log_evaluation(100), lgb.early_stopping(100)]\n",
    "#     )\n",
    "        \n",
    "\n",
    "# #    model = train_lgb_model(X_train, Y_train, X_test, Y_test)\n",
    "#     finish = time.time()\n",
    "    \n",
    "#     print(\"fit time: {}\".format(finish - start))\n",
    "#     fitted_models.append(model)\n",
    "    \n",
    "#     test_pred = model.predict_proba(X_test)[:, 1]\n",
    "#     oof_predicted[idx_test] = test_pred\n",
    "#     gc.collect()\n",
    "\n",
    "# model = VotingModel(fitted_models)\n",
    "# gc.collect()"
   ]
  },
  {
   "cell_type": "code",
   "execution_count": 38,
   "id": "b0632bdd",
   "metadata": {
    "execution": {
     "iopub.execute_input": "2024-03-12T15:03:48.530120Z",
     "iopub.status.busy": "2024-03-12T15:03:48.529288Z",
     "iopub.status.idle": "2024-03-12T15:03:48.533456Z",
     "shell.execute_reply": "2024-03-12T15:03:48.532566Z"
    },
    "papermill": {
     "duration": 0.033905,
     "end_time": "2024-03-12T15:03:48.535735",
     "exception": false,
     "start_time": "2024-03-12T15:03:48.501830",
     "status": "completed"
    },
    "tags": []
   },
   "outputs": [],
   "source": [
    "# roc_auc_oof = roc_auc_score(train_df[\"target\"], oof_predicted)\n",
    "# print(\"CV roc_auc_oof: \", roc_auc_oof)"
   ]
  },
  {
   "cell_type": "markdown",
   "id": "aa5a4b9c",
   "metadata": {
    "papermill": {
     "duration": 0.025953,
     "end_time": "2024-03-12T15:03:48.587598",
     "exception": false,
     "start_time": "2024-03-12T15:03:48.561645",
     "status": "completed"
    },
    "tags": []
   },
   "source": [
    "# Predict"
   ]
  },
  {
   "cell_type": "code",
   "execution_count": 39,
   "id": "428b1a93",
   "metadata": {
    "execution": {
     "iopub.execute_input": "2024-03-12T15:03:48.641719Z",
     "iopub.status.busy": "2024-03-12T15:03:48.640486Z",
     "iopub.status.idle": "2024-03-12T15:03:48.645373Z",
     "shell.execute_reply": "2024-03-12T15:03:48.644166Z"
    },
    "papermill": {
     "duration": 0.034479,
     "end_time": "2024-03-12T15:03:48.647795",
     "exception": false,
     "start_time": "2024-03-12T15:03:48.613316",
     "status": "completed"
    },
    "tags": []
   },
   "outputs": [],
   "source": [
    "# del train_df\n",
    "# gc.collect()"
   ]
  },
  {
   "cell_type": "code",
   "execution_count": 40,
   "id": "45eaa765",
   "metadata": {
    "execution": {
     "iopub.execute_input": "2024-03-12T15:03:48.702170Z",
     "iopub.status.busy": "2024-03-12T15:03:48.701746Z",
     "iopub.status.idle": "2024-03-12T15:03:48.706562Z",
     "shell.execute_reply": "2024-03-12T15:03:48.705362Z"
    },
    "papermill": {
     "duration": 0.03529,
     "end_time": "2024-03-12T15:03:48.709089",
     "exception": false,
     "start_time": "2024-03-12T15:03:48.673799",
     "status": "completed"
    },
    "tags": []
   },
   "outputs": [],
   "source": [
    "# test_dataset = data_loader.load_test_dataset()\n",
    "# print(\"Test dataset week range: {}-{}\".format(test_dataset.base[\"WEEK_NUM\"].min(), test_dataset.base[\"WEEK_NUM\"].max()))\n",
    "# gc.collect()\n",
    "# test_df = preprocessor.process_test_dataset(test_dataset)\n",
    "# del test_dataset\n",
    "# gc.collect()"
   ]
  },
  {
   "cell_type": "code",
   "execution_count": 41,
   "id": "1f7203d1",
   "metadata": {
    "execution": {
     "iopub.execute_input": "2024-03-12T15:03:48.763955Z",
     "iopub.status.busy": "2024-03-12T15:03:48.763153Z",
     "iopub.status.idle": "2024-03-12T15:03:48.768172Z",
     "shell.execute_reply": "2024-03-12T15:03:48.767329Z"
    },
    "papermill": {
     "duration": 0.035622,
     "end_time": "2024-03-12T15:03:48.770520",
     "exception": false,
     "start_time": "2024-03-12T15:03:48.734898",
     "status": "completed"
    },
    "tags": []
   },
   "outputs": [],
   "source": [
    "# print([name for value, name in reversed(sorted(zip(model.get_feature_importance(), features)))][0:200])"
   ]
  },
  {
   "cell_type": "code",
   "execution_count": null,
   "id": "8239b957",
   "metadata": {
    "papermill": {
     "duration": 0.025639,
     "end_time": "2024-03-12T15:03:48.821918",
     "exception": false,
     "start_time": "2024-03-12T15:03:48.796279",
     "status": "completed"
    },
    "tags": []
   },
   "outputs": [],
   "source": []
  },
  {
   "cell_type": "code",
   "execution_count": 42,
   "id": "6c08419a",
   "metadata": {
    "execution": {
     "iopub.execute_input": "2024-03-12T15:03:48.875332Z",
     "iopub.status.busy": "2024-03-12T15:03:48.874512Z",
     "iopub.status.idle": "2024-03-12T15:03:48.879296Z",
     "shell.execute_reply": "2024-03-12T15:03:48.878530Z"
    },
    "papermill": {
     "duration": 0.034201,
     "end_time": "2024-03-12T15:03:48.881635",
     "exception": false,
     "start_time": "2024-03-12T15:03:48.847434",
     "status": "completed"
    },
    "tags": []
   },
   "outputs": [],
   "source": [
    "# CV roc_auc_oof:  0.8353789451006361 without feature selection ~500 features\n",
    "# CV roc_auc_oof:  0.8329322959533371 with feature selection ~200 features"
   ]
  },
  {
   "cell_type": "code",
   "execution_count": null,
   "id": "3534fed2",
   "metadata": {
    "papermill": {
     "duration": 0.025586,
     "end_time": "2024-03-12T15:03:48.932802",
     "exception": false,
     "start_time": "2024-03-12T15:03:48.907216",
     "status": "completed"
    },
    "tags": []
   },
   "outputs": [],
   "source": []
  },
  {
   "cell_type": "code",
   "execution_count": 43,
   "id": "ffb0f5cc",
   "metadata": {
    "execution": {
     "iopub.execute_input": "2024-03-12T15:03:48.986592Z",
     "iopub.status.busy": "2024-03-12T15:03:48.985765Z",
     "iopub.status.idle": "2024-03-12T15:03:48.991236Z",
     "shell.execute_reply": "2024-03-12T15:03:48.990264Z"
    },
    "papermill": {
     "duration": 0.035193,
     "end_time": "2024-03-12T15:03:48.993710",
     "exception": false,
     "start_time": "2024-03-12T15:03:48.958517",
     "status": "completed"
    },
    "tags": []
   },
   "outputs": [],
   "source": [
    "# def gini_stability(dataset, w_fallingrate=88.0, w_resstd=-0.5):\n",
    "#     gini_in_time = dataset\\\n",
    "#         .sort_values(\"WEEK_NUM\")\\\n",
    "#         .groupby(\"WEEK_NUM\")[[\"true\", \"predicted\"]]\\\n",
    "#         .apply(lambda x: 2 * roc_auc_score(x[\"true\"], x[\"predicted\"]) - 1).tolist()\n",
    "    \n",
    "#     x = np.arange(len(gini_in_time))\n",
    "#     y = gini_in_time\n",
    "#     a, b = np.polyfit(x, y, 1)\n",
    "#     y_hat = a * x + b\n",
    "#     residuals = y - y_hat\n",
    "#     res_std = np.std(residuals)\n",
    "#     avg_gini = np.mean(gini_in_time)\n",
    "    \n",
    "#     print(avg_gini, min(0, a), res_std)\n",
    "    \n",
    "#     return avg_gini + w_fallingrate * min(0, a) + w_resstd * res_std"
   ]
  },
  {
   "cell_type": "code",
   "execution_count": 44,
   "id": "a2edfceb",
   "metadata": {
    "execution": {
     "iopub.execute_input": "2024-03-12T15:03:49.048499Z",
     "iopub.status.busy": "2024-03-12T15:03:49.047674Z",
     "iopub.status.idle": "2024-03-12T15:03:49.052337Z",
     "shell.execute_reply": "2024-03-12T15:03:49.051583Z"
    },
    "papermill": {
     "duration": 0.034868,
     "end_time": "2024-03-12T15:03:49.054653",
     "exception": false,
     "start_time": "2024-03-12T15:03:49.019785",
     "status": "completed"
    },
    "tags": []
   },
   "outputs": [],
   "source": [
    "# # Y_train_predicted = model.predict_proba(train_df[features].to_pandas())\n",
    "# Y_test_predicted = model.predict_proba(test_df[features].to_pandas())"
   ]
  },
  {
   "cell_type": "code",
   "execution_count": 45,
   "id": "e69a2d63",
   "metadata": {
    "execution": {
     "iopub.execute_input": "2024-03-12T15:03:49.109440Z",
     "iopub.status.busy": "2024-03-12T15:03:49.108610Z",
     "iopub.status.idle": "2024-03-12T15:03:49.113860Z",
     "shell.execute_reply": "2024-03-12T15:03:49.113056Z"
    },
    "papermill": {
     "duration": 0.035216,
     "end_time": "2024-03-12T15:03:49.116194",
     "exception": false,
     "start_time": "2024-03-12T15:03:49.080978",
     "status": "completed"
    },
    "tags": []
   },
   "outputs": [],
   "source": [
    "# result = pd.DataFrame({\n",
    "#     \"WEEK_NUM\": train_df[\"WEEK_NUM\"],\n",
    "#     \"true\": train_df[\"target\"],\n",
    "#     \"predicted\": Y_train_predicted[:, 1],\n",
    "# })\n",
    "\n",
    "# train_result = gini_stability(result)\n",
    "# print(\"train_score: {}\".format(train_result))\n",
    "\n",
    "# if MODE == Mode.Train:\n",
    "#     result = pd.DataFrame({\n",
    "#         \"WEEK_NUM\": test_df[\"WEEK_NUM\"],\n",
    "#         \"true\": test_df[\"target\"],\n",
    "#         \"predicted\": Y_test_predicted[:, 1],\n",
    "#     })\n",
    "\n",
    "#     test_result = gini_stability(result)\n",
    "#     print(\"test_score: {}\".format(test_result))"
   ]
  },
  {
   "cell_type": "code",
   "execution_count": 46,
   "id": "7e78768d",
   "metadata": {
    "execution": {
     "iopub.execute_input": "2024-03-12T15:03:49.171685Z",
     "iopub.status.busy": "2024-03-12T15:03:49.170911Z",
     "iopub.status.idle": "2024-03-12T15:03:49.176092Z",
     "shell.execute_reply": "2024-03-12T15:03:49.175035Z"
    },
    "papermill": {
     "duration": 0.035785,
     "end_time": "2024-03-12T15:03:49.178370",
     "exception": false,
     "start_time": "2024-03-12T15:03:49.142585",
     "status": "completed"
    },
    "tags": []
   },
   "outputs": [],
   "source": [
    "# Version 1, test_score: 0.583319926590042, public score 0.48\n",
    "# 100 iters\n",
    "\n",
    "# Version 2, test_score: 0.6062624701357268, public score 0.517\n",
    "# 300 iters\n",
    "\n",
    "# Version 3, test_score: ?, public score 0.545\n",
    "# 2000 iters\n",
    "\n",
    "# Version 4, test_score: ?, public score ?\n",
    "# ? iters, Improve aggregate functions for depth_1, depth_2\n"
   ]
  },
  {
   "cell_type": "markdown",
   "id": "3d49c484",
   "metadata": {
    "papermill": {
     "duration": 0.02578,
     "end_time": "2024-03-12T15:03:49.229935",
     "exception": false,
     "start_time": "2024-03-12T15:03:49.204155",
     "status": "completed"
    },
    "tags": []
   },
   "source": [
    "# Submition"
   ]
  },
  {
   "cell_type": "code",
   "execution_count": 47,
   "id": "1db6dd06",
   "metadata": {
    "execution": {
     "iopub.execute_input": "2024-03-12T15:03:49.282804Z",
     "iopub.status.busy": "2024-03-12T15:03:49.282395Z",
     "iopub.status.idle": "2024-03-12T15:03:49.287517Z",
     "shell.execute_reply": "2024-03-12T15:03:49.286263Z"
    },
    "papermill": {
     "duration": 0.034268,
     "end_time": "2024-03-12T15:03:49.289784",
     "exception": false,
     "start_time": "2024-03-12T15:03:49.255516",
     "status": "completed"
    },
    "tags": []
   },
   "outputs": [],
   "source": [
    "# case_id = test_df[\"case_id\"]\n",
    "# X = test_df[features].to_pandas()\n",
    "\n",
    "# Y = model.predict_proba(X)\n",
    "\n",
    "# submission = pd.DataFrame({\n",
    "#     \"case_id\": case_id.to_numpy(),\n",
    "#     \"score\": Y[:, 1]\n",
    "# }).set_index('case_id')\n",
    "# submission.to_csv(\"./submission.csv\")"
   ]
  },
  {
   "cell_type": "code",
   "execution_count": null,
   "id": "fbfd2c41",
   "metadata": {
    "papermill": {
     "duration": 0.025785,
     "end_time": "2024-03-12T15:03:49.341545",
     "exception": false,
     "start_time": "2024-03-12T15:03:49.315760",
     "status": "completed"
    },
    "tags": []
   },
   "outputs": [],
   "source": []
  },
  {
   "cell_type": "code",
   "execution_count": null,
   "id": "024823eb",
   "metadata": {
    "papermill": {
     "duration": 0.025354,
     "end_time": "2024-03-12T15:03:49.392626",
     "exception": false,
     "start_time": "2024-03-12T15:03:49.367272",
     "status": "completed"
    },
    "tags": []
   },
   "outputs": [],
   "source": []
  },
  {
   "cell_type": "code",
   "execution_count": null,
   "id": "f13acd21",
   "metadata": {
    "papermill": {
     "duration": 0.027391,
     "end_time": "2024-03-12T15:03:49.445757",
     "exception": false,
     "start_time": "2024-03-12T15:03:49.418366",
     "status": "completed"
    },
    "tags": []
   },
   "outputs": [],
   "source": []
  }
 ],
 "metadata": {
  "kaggle": {
   "accelerator": "none",
   "dataSources": [
    {
     "databundleVersionId": 7921029,
     "sourceId": 50160,
     "sourceType": "competition"
    },
    {
     "datasetId": 4496896,
     "sourceId": 7823105,
     "sourceType": "datasetVersion"
    }
   ],
   "dockerImageVersionId": 30635,
   "isGpuEnabled": false,
   "isInternetEnabled": false,
   "language": "python",
   "sourceType": "notebook"
  },
  "kernelspec": {
   "display_name": "Python 3",
   "language": "python",
   "name": "python3"
  },
  "language_info": {
   "codemirror_mode": {
    "name": "ipython",
    "version": 3
   },
   "file_extension": ".py",
   "mimetype": "text/x-python",
   "name": "python",
   "nbconvert_exporter": "python",
   "pygments_lexer": "ipython3",
   "version": "3.10.12"
  },
  "papermill": {
   "default_parameters": {},
   "duration": 1186.936859,
   "end_time": "2024-03-12T15:03:50.601526",
   "environment_variables": {},
   "exception": null,
   "input_path": "__notebook__.ipynb",
   "output_path": "__notebook__.ipynb",
   "parameters": {},
   "start_time": "2024-03-12T14:44:03.664667",
   "version": "2.4.0"
  }
 },
 "nbformat": 4,
 "nbformat_minor": 5
}
