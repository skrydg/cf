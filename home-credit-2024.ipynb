{
 "cells": [
  {
   "cell_type": "markdown",
   "id": "59ec6785",
   "metadata": {
    "papermill": {
     "duration": 0.018612,
     "end_time": "2024-04-05T14:21:45.782012",
     "exception": false,
     "start_time": "2024-04-05T14:21:45.763400",
     "status": "completed"
    },
    "tags": []
   },
   "source": [
    "# Install packages"
   ]
  },
  {
   "cell_type": "code",
   "execution_count": 1,
   "id": "57f8a034",
   "metadata": {
    "execution": {
     "iopub.execute_input": "2024-04-05T14:21:45.820401Z",
     "iopub.status.busy": "2024-04-05T14:21:45.820004Z",
     "iopub.status.idle": "2024-04-05T14:22:00.174781Z",
     "shell.execute_reply": "2024-04-05T14:22:00.173479Z"
    },
    "papermill": {
     "duration": 14.376836,
     "end_time": "2024-04-05T14:22:00.177533",
     "exception": false,
     "start_time": "2024-04-05T14:21:45.800697",
     "status": "completed"
    },
    "tags": []
   },
   "outputs": [
    {
     "name": "stdout",
     "output_type": "stream",
     "text": [
      "7841f25230b1b2ef3b43519c9ae15cb1  /kaggle/input/home-credit-credit-risk-model-stability/parquet_files/train/train_applprev_1_0.parquet\r\n",
      "15b339014bf1b77264b946119eb81466  /kaggle/input/home-credit-credit-risk-model-stability/parquet_files/train/train_applprev_1_1.parquet\r\n",
      "0a825e70c119e3f481f2cd5c5f62a243  /kaggle/input/home-credit-credit-risk-model-stability/parquet_files/train/train_applprev_2.parquet\r\n",
      "bcdfb9d2730942e7d53b9484c93ae0c0  /kaggle/input/home-credit-credit-risk-model-stability/parquet_files/train/train_base.parquet\r\n",
      "0e646ef1c89a3892c5fd2f1a7eadf754  /kaggle/input/home-credit-credit-risk-model-stability/parquet_files/train/train_credit_bureau_a_1_0.parquet\r\n",
      "b0bb4d69b1cee43e4ad31cc89b7855e6  /kaggle/input/home-credit-credit-risk-model-stability/parquet_files/train/train_credit_bureau_a_1_1.parquet\r\n",
      "3e9504e0d540a0f40499b16d342d57a5  /kaggle/input/home-credit-credit-risk-model-stability/parquet_files/train/train_credit_bureau_a_1_2.parquet\r\n",
      "2edbc82c66c897770f559a0f224acc65  /kaggle/input/home-credit-credit-risk-model-stability/parquet_files/train/train_credit_bureau_a_1_3.parquet\r\n",
      "0cd82a3b119dfdccaaf40ba7d9fe07c1  /kaggle/input/home-credit-credit-risk-model-stability/parquet_files/train/train_credit_bureau_a_2_0.parquet\r\n",
      "64b9f7f61981e79240d3a693a7ae18d8  /kaggle/input/home-credit-credit-risk-model-stability/parquet_files/train/train_credit_bureau_a_2_1.parquet\r\n",
      "039fe186f47bc69890dfa62fcfcdc8df  /kaggle/input/home-credit-credit-risk-model-stability/parquet_files/train/train_credit_bureau_a_2_10.parquet\r\n",
      "b8e279ff09f3ac549de4bc46e0ed37e2  /kaggle/input/home-credit-credit-risk-model-stability/parquet_files/train/train_credit_bureau_a_2_2.parquet\r\n",
      "29f03d7ddb8ba297d84b73a36bd64017  /kaggle/input/home-credit-credit-risk-model-stability/parquet_files/train/train_credit_bureau_a_2_3.parquet\r\n",
      "bb0a5d9fbc5cd003587d88ff306ac37f  /kaggle/input/home-credit-credit-risk-model-stability/parquet_files/train/train_credit_bureau_a_2_4.parquet\r\n",
      "596f392f59da6aadd11fc4001e40e7d0  /kaggle/input/home-credit-credit-risk-model-stability/parquet_files/train/train_credit_bureau_a_2_5.parquet\r\n",
      "89b3468b8d7582b8695a6af0393982cf  /kaggle/input/home-credit-credit-risk-model-stability/parquet_files/train/train_credit_bureau_a_2_6.parquet\r\n",
      "5cdf194f8478e576167e8a625be91a5c  /kaggle/input/home-credit-credit-risk-model-stability/parquet_files/train/train_credit_bureau_a_2_7.parquet\r\n",
      "0b6a5619239a922f92287e67aa63aeea  /kaggle/input/home-credit-credit-risk-model-stability/parquet_files/train/train_credit_bureau_a_2_8.parquet\r\n",
      "daf9ddf55f9654a7c9b7e8be56d79d2d  /kaggle/input/home-credit-credit-risk-model-stability/parquet_files/train/train_credit_bureau_a_2_9.parquet\r\n",
      "1a55d5dbb780e259567015a2595ba822  /kaggle/input/home-credit-credit-risk-model-stability/parquet_files/train/train_credit_bureau_b_1.parquet\r\n",
      "7d1db9b3bee2a2da4c24baae5538167b  /kaggle/input/home-credit-credit-risk-model-stability/parquet_files/train/train_credit_bureau_b_2.parquet\r\n",
      "49966b72be9f98334f2c76cd953a593c  /kaggle/input/home-credit-credit-risk-model-stability/parquet_files/train/train_debitcard_1.parquet\r\n",
      "1d26197fab3a6b269e64a3e59f8353ff  /kaggle/input/home-credit-credit-risk-model-stability/parquet_files/train/train_deposit_1.parquet\r\n",
      "c78af0dd550ba92578d8e9b1049fc41d  /kaggle/input/home-credit-credit-risk-model-stability/parquet_files/train/train_other_1.parquet\r\n",
      "1e617faede22c746501dd2c3cb3e2d20  /kaggle/input/home-credit-credit-risk-model-stability/parquet_files/train/train_person_1.parquet\r\n",
      "126d1739ff92930bceab438712b5925b  /kaggle/input/home-credit-credit-risk-model-stability/parquet_files/train/train_person_2.parquet\r\n",
      "7080cbba13c1489af05b67ead7230a00  /kaggle/input/home-credit-credit-risk-model-stability/parquet_files/train/train_static_0_0.parquet\r\n",
      "b3477bcd6be7d7611fb923ddb79bedd4  /kaggle/input/home-credit-credit-risk-model-stability/parquet_files/train/train_static_0_1.parquet\r\n",
      "016b0afb40361ad905e053f6950614ca  /kaggle/input/home-credit-credit-risk-model-stability/parquet_files/train/train_static_cb_0.parquet\r\n",
      "fcf88026981ecf3d1966b30f87da6a20  /kaggle/input/home-credit-credit-risk-model-stability/parquet_files/train/train_tax_registry_a_1.parquet\r\n",
      "993666e84b5793a09394bb923be9fa8c  /kaggle/input/home-credit-credit-risk-model-stability/parquet_files/train/train_tax_registry_b_1.parquet\r\n",
      "fe78c6e9294ea60f252c1e8ffa7fca4c  /kaggle/input/home-credit-credit-risk-model-stability/parquet_files/train/train_tax_registry_c_1.parquet\r\n"
     ]
    }
   ],
   "source": [
    "!md5sum  /kaggle/input/home-credit-credit-risk-model-stability/parquet_files/train/*"
   ]
  },
  {
   "cell_type": "code",
   "execution_count": 2,
   "id": "2853512e",
   "metadata": {
    "execution": {
     "iopub.execute_input": "2024-04-05T14:22:00.221509Z",
     "iopub.status.busy": "2024-04-05T14:22:00.221058Z",
     "iopub.status.idle": "2024-04-05T14:22:36.702841Z",
     "shell.execute_reply": "2024-04-05T14:22:36.701162Z"
    },
    "papermill": {
     "duration": 36.50757,
     "end_time": "2024-04-05T14:22:36.706063",
     "exception": false,
     "start_time": "2024-04-05T14:22:00.198493",
     "status": "completed"
    },
    "tags": []
   },
   "outputs": [
    {
     "name": "stdout",
     "output_type": "stream",
     "text": [
      "Processing /kaggle/input/kaggle-home-credit-risk-model-stability-lib/kaggle_home_credit_risk_model_stability-0.3-py3-none-any.whl\r\n",
      "Installing collected packages: kaggle-home-credit-risk-model-stability\r\n",
      "Successfully installed kaggle-home-credit-risk-model-stability-0.3\r\n"
     ]
    }
   ],
   "source": [
    "!pip install /kaggle/input/kaggle-home-credit-risk-model-stability-lib/kaggle_home_credit_risk_model_stability-0.3-py3-none-any.whl --force-reinstall"
   ]
  },
  {
   "cell_type": "markdown",
   "id": "66777d1c",
   "metadata": {
    "papermill": {
     "duration": 0.021038,
     "end_time": "2024-04-05T14:22:36.749334",
     "exception": false,
     "start_time": "2024-04-05T14:22:36.728296",
     "status": "completed"
    },
    "tags": []
   },
   "source": [
    "# Import packages"
   ]
  },
  {
   "cell_type": "code",
   "execution_count": 3,
   "id": "9313b8ee",
   "metadata": {
    "execution": {
     "iopub.execute_input": "2024-04-05T14:22:36.796042Z",
     "iopub.status.busy": "2024-04-05T14:22:36.795494Z",
     "iopub.status.idle": "2024-04-05T14:22:42.155550Z",
     "shell.execute_reply": "2024-04-05T14:22:42.154605Z"
    },
    "papermill": {
     "duration": 5.386875,
     "end_time": "2024-04-05T14:22:42.158418",
     "exception": false,
     "start_time": "2024-04-05T14:22:36.771543",
     "status": "completed"
    },
    "tags": []
   },
   "outputs": [],
   "source": [
    "import polars as pl\n",
    "import gc\n",
    "import time\n",
    "import numpy as np\n",
    "import pandas as pd\n",
    "import lightgbm as lgb\n",
    "import seaborn as sns\n",
    "import matplotlib.pyplot as plt\n",
    "import copy\n",
    "import lightgbm as lgb\n",
    "import importlib\n",
    "import pickle\n",
    "import argparse\n",
    "\n",
    "import kaggle_home_credit_risk_model_stability.libs as hcr\n",
    "from kaggle_home_credit_risk_model_stability.libs.env import Env\n",
    "from kaggle_home_credit_risk_model_stability.libs.input.dataset import Dataset\n",
    "from kaggle_home_credit_risk_model_stability.libs.input.data_loader import DataLoader\n",
    "from kaggle_home_credit_risk_model_stability.libs.preprocessor.preprocessor import Preprocessor\n",
    "from kaggle_home_credit_risk_model_stability.libs.preprocessor.steps import *\n",
    "from kaggle_home_credit_risk_model_stability.libs.preprocessor.columns_info import ColumnsInfo\n",
    "from kaggle_home_credit_risk_model_stability.libs.feature_description.feature_description import FreatureDescriptionGetter\n",
    "\n",
    "from collections import defaultdict\n",
    "from glob import glob\n",
    "from pathlib import Path\n",
    "from sklearn.model_selection import train_test_split\n",
    "from sklearn.metrics import roc_auc_score\n",
    "from sklearn.model_selection import StratifiedGroupKFold\n",
    "from sklearn.base import BaseEstimator, RegressorMixin"
   ]
  },
  {
   "cell_type": "code",
   "execution_count": 4,
   "id": "1bd03057",
   "metadata": {
    "execution": {
     "iopub.execute_input": "2024-04-05T14:22:42.206646Z",
     "iopub.status.busy": "2024-04-05T14:22:42.205600Z",
     "iopub.status.idle": "2024-04-05T14:22:42.211316Z",
     "shell.execute_reply": "2024-04-05T14:22:42.210078Z"
    },
    "papermill": {
     "duration": 0.033334,
     "end_time": "2024-04-05T14:22:42.214195",
     "exception": false,
     "start_time": "2024-04-05T14:22:42.180861",
     "status": "completed"
    },
    "tags": []
   },
   "outputs": [],
   "source": [
    "env = Env(\n",
    "    \"/kaggle/input/\",\n",
    "    \"/kaggle/working/\"\n",
    ")"
   ]
  },
  {
   "cell_type": "code",
   "execution_count": null,
   "id": "253284fe",
   "metadata": {
    "papermill": {
     "duration": 0.022383,
     "end_time": "2024-04-05T14:22:42.258544",
     "exception": false,
     "start_time": "2024-04-05T14:22:42.236161",
     "status": "completed"
    },
    "tags": []
   },
   "outputs": [],
   "source": []
  },
  {
   "cell_type": "code",
   "execution_count": 5,
   "id": "e608a741",
   "metadata": {
    "execution": {
     "iopub.execute_input": "2024-04-05T14:22:42.304018Z",
     "iopub.status.busy": "2024-04-05T14:22:42.303554Z",
     "iopub.status.idle": "2024-04-05T14:22:42.313306Z",
     "shell.execute_reply": "2024-04-05T14:22:42.312109Z"
    },
    "papermill": {
     "duration": 0.03554,
     "end_time": "2024-04-05T14:22:42.315937",
     "exception": false,
     "start_time": "2024-04-05T14:22:42.280397",
     "status": "completed"
    },
    "tags": []
   },
   "outputs": [],
   "source": [
    "data_loader = DataLoader(env, tables = [\"base\", \"static_cb_0\", \"static_0\", \"person_1\"])\n",
    "preprocessor = Preprocessor({\n",
    "    #\"sort_raw_tables\": SortRawTablesStep(),\n",
    "    \"set_column_info_step\": SetColumnsInfoStep(),\n",
    "    \"set_types\": SetTypesStep(),\n",
    "    \"create_day_feature\": CreateDayFeatureStep(),\n",
    "    # #\"drop_raw_null_columns\": DropRawNullColumns(feature_threashold=0.2, week_threashold=0.9),\n",
    "    \"process_categorical\": ProcessCategoricalStep(),\n",
    "    #\"split_composite_features\": SplitCompositeFeaturesStep(exclude_list=\"previouscontdistrict_112M\", drop_original=True),\n",
    "    #\"reduce_dimention_for_categorical_features\": ReduceDimentionForCategoricalFeaturesStep(),\n",
    "    \"process_person_table\": ProcessPersonTableStep(),\n",
    "    # \"one_hot_encoding_for_depth1\": OneHotEncodingForDepth1Step(),\n",
    "    # \"pairwise_diff_raw_dates\": PairwiseDateDiffStep(),\n",
    "    \"aggregate_depth_table\": AggregateDepthTableStep(),\n",
    "    #\"drop_equal_columns\": DropEqualColumnsStep(),\n",
    "    #\"drop_almost_null_features_respect_to_target\": DropAlmostNullFeaturesWithRespectToTargetStep(),\n",
    "    \"join_table\": JoinTablesStep(),\n",
    "    \"merge_chunked_table\": MergeChunkedTablesStep(),\n",
    "    \"drop_almost_null_features\": DropAlmostNullFeaturesStep(),\n",
    "    #\"generate_age_feature\": GenerateAgeFeatureStep(),\n",
    "    \"generate_base_date_diff\": GenerateBaseDateDiffStep(base_column=\"date_decision\"),\n",
    "    \"fill_nulls_in_categorical_features\": FillNullsInCategoricalFeaturesStep(),\n",
    "    # **{\n",
    "    #     f\"create_money_feature_fraction_{base_column}\": CreateMoneyFeatureFractionStep(base_column)\n",
    "    #     for base_column in [\"credamount_770A\", \"maininc_215A\", \"mainoccupationinc_384A\"] # mean_amount_416A\n",
    "    # },\n",
    "    #\"generate_mismatch_features\": GenerateMismatchFeaturesStep(),\n",
    "    #\"generate_target_distribution_based_on_categorical_features_step\": GenerateTargetDistributionBasedOnCategoricalStep(),\n",
    "    \"drop_single_value_features\": DropSingleValueFeaturesStep(),\n",
    "    \"drop_variable_enum_features\": DropVariableEnumFeaturesStep(),\n",
    "    \"reduce_memory_usage\": ReduceMemoryUsageStep()\n",
    "})"
   ]
  },
  {
   "cell_type": "code",
   "execution_count": null,
   "id": "e4952e01",
   "metadata": {
    "papermill": {
     "duration": 0.021132,
     "end_time": "2024-04-05T14:22:42.358199",
     "exception": false,
     "start_time": "2024-04-05T14:22:42.337067",
     "status": "completed"
    },
    "tags": []
   },
   "outputs": [],
   "source": []
  },
  {
   "cell_type": "code",
   "execution_count": 6,
   "id": "3c4cd73b",
   "metadata": {
    "execution": {
     "iopub.execute_input": "2024-04-05T14:22:42.469640Z",
     "iopub.status.busy": "2024-04-05T14:22:42.468984Z",
     "iopub.status.idle": "2024-04-05T14:26:30.519284Z",
     "shell.execute_reply": "2024-04-05T14:26:30.518275Z"
    },
    "papermill": {
     "duration": 228.075921,
     "end_time": "2024-04-05T14:26:30.522072",
     "exception": false,
     "start_time": "2024-04-05T14:22:42.446151",
     "status": "completed"
    },
    "tags": []
   },
   "outputs": [
    {
     "name": "stdout",
     "output_type": "stream",
     "text": [
      "Generate 237 columns as aggregates\n",
      "Generate 237 columns as aggregates\n",
      "Generate 237 columns as aggregates\n",
      "Generate 237 columns as aggregates\n",
      "Generate 237 columns as aggregates\n",
      "Generate 237 columns as aggregates\n",
      "Generate 237 columns as aggregates\n",
      "Generate 237 columns as aggregates\n",
      "Generate 237 columns as aggregates\n",
      "Generate 237 columns as aggregates\n",
      "Generate 237 columns as aggregates\n",
      "Generate 237 columns as aggregates\n",
      "Generate 237 columns as aggregates\n",
      "Generate 237 columns as aggregates\n",
      "Generate 237 columns as aggregates\n",
      "Generate 237 columns as aggregates\n",
      "Drop 146 columns as almost null\n",
      "Columns to drop ['assignmentdate_4955616D', 'dateofbirth_342D', 'for3years_128L', 'for3years_504L', 'for3years_584L', 'formonth_118L', 'formonth_206L', 'formonth_535L', 'forquarter_1017L', 'forquarter_462L', 'forquarter_634L', 'fortoday_1092L', 'forweek_1077L', 'forweek_528L', 'forweek_601L', 'foryear_618L', 'foryear_818L', 'foryear_850L', 'pmtaverage_4955615A', 'pmtcount_4955617L', 'riskassesment_940T', 'clientscnt_136L', 'deferredmnthsnum_166L', 'equalityempfrom_62L', 'interestrategrace_34L', 'isbidproductrequest_292L', 'lastdependentsnum_448L', 'lastotherinc_902A', 'lastotherlnsexpense_631A', 'lastrepayingdate_696D', 'maxannuity_4075009A', 'payvacationpostpone_4187118D', 'birthdate_87D', 'childnum_185L', 'housingtype_772L', 'isreference_387L', 'personindex_1023L', 'persontype_1072L', 'persontype_792L', 'relationshiptoclient_415T', 'relationshiptoclient_642T', 'remitter_829L', 'max_birth_259D', 'max_birthdate_87D', 'max_childnum_185L', 'max_contaddr_matchlist_1032L', 'max_contaddr_smempladdr_334L', 'max_empl_employedfrom_271D', 'max_isreference_387L', 'max_mainoccupationinc_384A', 'max_safeguarantyflag_411L', 'min_birth_259D', 'min_birthdate_87D', 'min_childnum_185L', 'min_contaddr_matchlist_1032L', 'min_contaddr_smempladdr_334L', 'min_empl_employedfrom_271D', 'min_isreference_387L', 'min_mainoccupationinc_384A', 'min_safeguarantyflag_411L', 'first_birth_259D', 'first_birthdate_87D', 'first_childnum_185L', 'first_contaddr_matchlist_1032L', 'first_contaddr_smempladdr_334L', 'first_empl_employedfrom_271D', 'first_isreference_387L', 'first_mainoccupationinc_384A', 'first_safeguarantyflag_411L', 'last_birth_259D', 'last_birthdate_87D', 'last_childnum_185L', 'last_contaddr_matchlist_1032L', 'last_contaddr_smempladdr_334L', 'last_empl_employedfrom_271D', 'last_isreference_387L', 'last_mainoccupationinc_384A', 'last_safeguarantyflag_411L', 'mean_birth_259D', 'mean_birthdate_87D', 'mean_childnum_185L', 'mean_contaddr_matchlist_1032L', 'mean_contaddr_smempladdr_334L', 'mean_empl_employedfrom_271D', 'mean_isreference_387L', 'mean_mainoccupationinc_384A', 'mean_safeguarantyflag_411L', 'std_birth_259D', 'std_birthdate_87D', 'std_childnum_185L', 'std_contaddr_matchlist_1032L', 'std_contaddr_smempladdr_334L', 'std_empl_employedfrom_271D', 'std_isreference_387L', 'std_mainoccupationinc_384A', 'std_safeguarantyflag_411L', 'max_empl_employedtotal_800L', 'min_empl_employedtotal_800L', 'first_empl_employedtotal_800L', 'last_empl_employedtotal_800L', 'mode_empl_employedtotal_800L', 'max_empl_industry_691L', 'min_empl_industry_691L', 'first_empl_industry_691L', 'last_empl_industry_691L', 'mode_empl_industry_691L', 'max_familystate_447L', 'min_familystate_447L', 'first_familystate_447L', 'last_familystate_447L', 'mode_familystate_447L', 'max_gender_992L', 'min_gender_992L', 'first_gender_992L', 'last_gender_992L', 'mode_gender_992L', 'max_housetype_905L', 'min_housetype_905L', 'first_housetype_905L', 'last_housetype_905L', 'mode_housetype_905L', 'max_housingtype_772L', 'min_housingtype_772L', 'first_housingtype_772L', 'last_housingtype_772L', 'mode_housingtype_772L', 'max_incometype_1044T', 'min_incometype_1044T', 'first_incometype_1044T', 'last_incometype_1044T', 'mode_incometype_1044T', 'max_maritalst_703L', 'min_maritalst_703L', 'first_maritalst_703L', 'last_maritalst_703L', 'mode_maritalst_703L', 'max_role_993L', 'min_role_993L', 'first_role_993L', 'last_role_993L', 'mode_role_993L', 'max_sex_738L', 'min_sex_738L', 'first_sex_738L', 'last_sex_738L', 'mode_sex_738L']\n",
      "Create 22 new date diff columns, with base_column=date_decision\n",
      "Drop 1 columns as single value\n",
      "Drop 8 columns as variable enum value\n"
     ]
    },
    {
     "data": {
      "text/plain": [
       "0"
      ]
     },
     "execution_count": 6,
     "metadata": {},
     "output_type": "execute_result"
    }
   ],
   "source": [
    "train_dataset_generator = data_loader.load_train_dataset(chunk_size=100000)\n",
    "gc.collect()\n",
    "train_df, columns_info = preprocessor.process_train_dataset(train_dataset_generator)\n",
    "del train_dataset_generator\n",
    "gc.collect()"
   ]
  },
  {
   "cell_type": "code",
   "execution_count": 7,
   "id": "6a9181ae",
   "metadata": {
    "execution": {
     "iopub.execute_input": "2024-04-05T14:26:30.572099Z",
     "iopub.status.busy": "2024-04-05T14:26:30.571366Z",
     "iopub.status.idle": "2024-04-05T14:26:41.459865Z",
     "shell.execute_reply": "2024-04-05T14:26:41.458574Z"
    },
    "papermill": {
     "duration": 10.917235,
     "end_time": "2024-04-05T14:26:41.462700",
     "exception": false,
     "start_time": "2024-04-05T14:26:30.545465",
     "status": "completed"
    },
    "tags": []
   },
   "outputs": [
    {
     "name": "stdout",
     "output_type": "stream",
     "text": [
      "2019.6368083953857\n",
      "shape: (1_526_659, 366)\n",
      "┌─────────┬────────────┬────────┬──────────┬───┬────────────┬────────────┬────────────┬────────────┐\n",
      "│ case_id ┆ date_decis ┆ MONTH  ┆ WEEK_NUM ┆ … ┆ maxdpdinst ┆ validfrom_ ┆ birth_259D ┆ empl_emplo │\n",
      "│ ---     ┆ ion        ┆ ---    ┆ ---      ┆   ┆ ldate_3546 ┆ 1069D_date ┆ _date_deci ┆ yedfrom_27 │\n",
      "│ i32     ┆ ---        ┆ i32    ┆ i16      ┆   ┆ 855D_date_ ┆ _decision_ ┆ sion_diff  ┆ 1D_date_de │\n",
      "│         ┆ i16        ┆        ┆          ┆   ┆ de…        ┆ di…        ┆ ---        ┆ ci…        │\n",
      "│         ┆            ┆        ┆          ┆   ┆ ---        ┆ ---        ┆ i16        ┆ ---        │\n",
      "│         ┆            ┆        ┆          ┆   ┆ i16        ┆ i16        ┆            ┆ i16        │\n",
      "╞═════════╪════════════╪════════╪══════════╪═══╪════════════╪════════════╪════════════╪════════════╡\n",
      "│ 0       ┆ 17899      ┆ 201901 ┆ 0        ┆ … ┆ null       ┆ null       ┆ -11874     ┆ -475       │\n",
      "│ 1       ┆ 17899      ┆ 201901 ┆ 0        ┆ … ┆ null       ┆ null       ┆ -22435     ┆ -3718      │\n",
      "│ 2       ┆ 17900      ┆ 201901 ┆ 0        ┆ … ┆ null       ┆ null       ┆ -16105     ┆ -3245      │\n",
      "│ 3       ┆ 17899      ┆ 201901 ┆ 0        ┆ … ┆ null       ┆ null       ┆ -9286      ┆ -233       │\n",
      "│ …       ┆ …          ┆ …      ┆ …        ┆ … ┆ …          ┆ …          ┆ …          ┆ …          │\n",
      "│ 2703451 ┆ 18540      ┆ 202010 ┆ 91       ┆ … ┆ -128       ┆ null       ┆ -25541     ┆ null       │\n",
      "│ 2703452 ┆ 18540      ┆ 202010 ┆ 91       ┆ … ┆ -597       ┆ null       ┆ -15771     ┆ null       │\n",
      "│ 2703453 ┆ 18540      ┆ 202010 ┆ 91       ┆ … ┆ -1878      ┆ null       ┆ -25814     ┆ null       │\n",
      "│ 2703454 ┆ 18540      ┆ 202010 ┆ 91       ┆ … ┆ -400       ┆ null       ┆ -26485     ┆ null       │\n",
      "└─────────┴────────────┴────────┴──────────┴───┴────────────┴────────────┴────────────┴────────────┘\n"
     ]
    },
    {
     "data": {
      "text/plain": [
       "0"
      ]
     },
     "execution_count": 7,
     "metadata": {},
     "output_type": "execute_result"
    }
   ],
   "source": [
    "train_df.write_parquet(env.output_directory / \"train_df.parquet\")\n",
    "pickle.dump(columns_info, open(env.output_directory / \"columns_info.pkl\", \"wb\"))\n",
    "print(train_df.estimated_size() / 1024 / 1024)\n",
    "print(train_df)\n",
    "\n",
    "del train_df\n",
    "gc.collect()"
   ]
  },
  {
   "cell_type": "code",
   "execution_count": 8,
   "id": "71939868",
   "metadata": {
    "execution": {
     "iopub.execute_input": "2024-04-05T14:26:41.513019Z",
     "iopub.status.busy": "2024-04-05T14:26:41.512324Z",
     "iopub.status.idle": "2024-04-05T14:26:47.259841Z",
     "shell.execute_reply": "2024-04-05T14:26:47.258670Z"
    },
    "papermill": {
     "duration": 5.775575,
     "end_time": "2024-04-05T14:26:47.262349",
     "exception": false,
     "start_time": "2024-04-05T14:26:41.486774",
     "status": "completed"
    },
    "tags": []
   },
   "outputs": [
    {
     "name": "stdout",
     "output_type": "stream",
     "text": [
      "Generate 237 columns as aggregates\n",
      "Create 22 new date diff columns, with base_column=date_decision\n"
     ]
    },
    {
     "data": {
      "text/plain": [
       "0"
      ]
     },
     "execution_count": 8,
     "metadata": {},
     "output_type": "execute_result"
    }
   ],
   "source": [
    "test_dataset_generator = data_loader.load_test_dataset(chunk_size=100000)\n",
    "gc.collect()\n",
    "test_df, columns_info = preprocessor.process_test_dataset(test_dataset_generator)\n",
    "del test_dataset_generator\n",
    "gc.collect()"
   ]
  },
  {
   "cell_type": "code",
   "execution_count": 9,
   "id": "ecd4e3b3",
   "metadata": {
    "execution": {
     "iopub.execute_input": "2024-04-05T14:26:47.312328Z",
     "iopub.status.busy": "2024-04-05T14:26:47.311906Z",
     "iopub.status.idle": "2024-04-05T14:26:47.565018Z",
     "shell.execute_reply": "2024-04-05T14:26:47.562750Z"
    },
    "papermill": {
     "duration": 0.282875,
     "end_time": "2024-04-05T14:26:47.569182",
     "exception": false,
     "start_time": "2024-04-05T14:26:47.286307",
     "status": "completed"
    },
    "tags": []
   },
   "outputs": [
    {
     "name": "stdout",
     "output_type": "stream",
     "text": [
      "1.1404476165771484\n",
      "shape: (10, 365)\n",
      "┌─────────┬────────────┬────────┬──────────┬───┬────────────┬────────────┬────────────┬────────────┐\n",
      "│ case_id ┆ date_decis ┆ MONTH  ┆ WEEK_NUM ┆ … ┆ maxdpdinst ┆ validfrom_ ┆ birth_259D ┆ empl_emplo │\n",
      "│ ---     ┆ ion        ┆ ---    ┆ ---      ┆   ┆ ldate_3546 ┆ 1069D_date ┆ _date_deci ┆ yedfrom_27 │\n",
      "│ i32     ┆ ---        ┆ i32    ┆ i16      ┆   ┆ 855D_date_ ┆ _decision_ ┆ sion_diff  ┆ 1D_date_de │\n",
      "│         ┆ i16        ┆        ┆          ┆   ┆ de…        ┆ di…        ┆ ---        ┆ ci…        │\n",
      "│         ┆            ┆        ┆          ┆   ┆ ---        ┆ ---        ┆ i16        ┆ ---        │\n",
      "│         ┆            ┆        ┆          ┆   ┆ i16        ┆ i32        ┆            ┆ i16        │\n",
      "╞═════════╪════════════╪════════╪══════════╪═══╪════════════╪════════════╪════════════╪════════════╡\n",
      "│ 57543   ┆ 18761      ┆ 202201 ┆ 100      ┆ … ┆ -62        ┆ null       ┆ -14804     ┆ null       │\n",
      "│ 57549   ┆ 19009      ┆ 202201 ┆ 100      ┆ … ┆ -1897      ┆ null       ┆ -22723     ┆ null       │\n",
      "│ 57551   ┆ 18593      ┆ 202201 ┆ 100      ┆ … ┆ -211       ┆ null       ┆ -14090     ┆ -6898      │\n",
      "│ 57552   ┆ 18593      ┆ 202201 ┆ 100      ┆ … ┆ null       ┆ null       ┆ -23768     ┆ null       │\n",
      "│ …       ┆ …          ┆ …      ┆ …        ┆ … ┆ …          ┆ …          ┆ …          ┆ …          │\n",
      "│ 57631   ┆ 19147      ┆ 202201 ┆ 100      ┆ … ┆ null       ┆ null       ┆ null       ┆ null       │\n",
      "│ 57632   ┆ 19028      ┆ 202201 ┆ 100      ┆ … ┆ null       ┆ null       ┆ null       ┆ null       │\n",
      "│ 57633   ┆ 19017      ┆ 202201 ┆ 100      ┆ … ┆ null       ┆ null       ┆ null       ┆ null       │\n",
      "│ 57634   ┆ 18654      ┆ 202201 ┆ 100      ┆ … ┆ null       ┆ null       ┆ null       ┆ null       │\n",
      "└─────────┴────────────┴────────┴──────────┴───┴────────────┴────────────┴────────────┴────────────┘\n"
     ]
    },
    {
     "data": {
      "text/plain": [
       "0"
      ]
     },
     "execution_count": 9,
     "metadata": {},
     "output_type": "execute_result"
    }
   ],
   "source": [
    "test_df.write_parquet(env.output_directory / \"test_df.parquet\")\n",
    "print(test_df.estimated_size() / 1024 / 1024)\n",
    "print(test_df)\n",
    "\n",
    "del test_df\n",
    "gc.collect()"
   ]
  },
  {
   "cell_type": "markdown",
   "id": "0500edca",
   "metadata": {
    "_kg_hide-input": true,
    "papermill": {
     "duration": 0.026507,
     "end_time": "2024-04-05T14:26:47.621270",
     "exception": false,
     "start_time": "2024-04-05T14:26:47.594763",
     "status": "completed"
    },
    "tags": []
   },
   "source": [
    "# Data visualization"
   ]
  },
  {
   "cell_type": "code",
   "execution_count": null,
   "id": "d28ece46",
   "metadata": {
    "papermill": {
     "duration": 0.026537,
     "end_time": "2024-04-05T14:26:47.673416",
     "exception": false,
     "start_time": "2024-04-05T14:26:47.646879",
     "status": "completed"
    },
    "tags": []
   },
   "outputs": [],
   "source": []
  },
  {
   "cell_type": "code",
   "execution_count": 10,
   "id": "7fa72940",
   "metadata": {
    "execution": {
     "iopub.execute_input": "2024-04-05T14:26:47.728005Z",
     "iopub.status.busy": "2024-04-05T14:26:47.727544Z",
     "iopub.status.idle": "2024-04-05T14:26:47.732620Z",
     "shell.execute_reply": "2024-04-05T14:26:47.731541Z"
    },
    "papermill": {
     "duration": 0.034783,
     "end_time": "2024-04-05T14:26:47.734950",
     "exception": false,
     "start_time": "2024-04-05T14:26:47.700167",
     "status": "completed"
    },
    "tags": []
   },
   "outputs": [],
   "source": [
    "# train_dataset = data_loader.load_train_dataset()"
   ]
  },
  {
   "cell_type": "code",
   "execution_count": 11,
   "id": "102164fb",
   "metadata": {
    "execution": {
     "iopub.execute_input": "2024-04-05T14:26:47.787334Z",
     "iopub.status.busy": "2024-04-05T14:26:47.786235Z",
     "iopub.status.idle": "2024-04-05T14:26:47.790708Z",
     "shell.execute_reply": "2024-04-05T14:26:47.789877Z"
    },
    "papermill": {
     "duration": 0.033909,
     "end_time": "2024-04-05T14:26:47.793084",
     "exception": false,
     "start_time": "2024-04-05T14:26:47.759175",
     "status": "completed"
    },
    "tags": []
   },
   "outputs": [],
   "source": [
    "# [column for column in train_df.columns if \"amtdebitincoming_4809443A\" in column]"
   ]
  },
  {
   "cell_type": "code",
   "execution_count": 12,
   "id": "cd1449d5",
   "metadata": {
    "execution": {
     "iopub.execute_input": "2024-04-05T14:26:47.844580Z",
     "iopub.status.busy": "2024-04-05T14:26:47.843842Z",
     "iopub.status.idle": "2024-04-05T14:26:47.847900Z",
     "shell.execute_reply": "2024-04-05T14:26:47.847095Z"
    },
    "papermill": {
     "duration": 0.032021,
     "end_time": "2024-04-05T14:26:47.850107",
     "exception": false,
     "start_time": "2024-04-05T14:26:47.818086",
     "status": "completed"
    },
    "tags": []
   },
   "outputs": [],
   "source": [
    "# train_dataset.get_base()[\"target\"].mean()"
   ]
  },
  {
   "cell_type": "code",
   "execution_count": 13,
   "id": "335862c6",
   "metadata": {
    "execution": {
     "iopub.execute_input": "2024-04-05T14:26:47.901139Z",
     "iopub.status.busy": "2024-04-05T14:26:47.900313Z",
     "iopub.status.idle": "2024-04-05T14:26:47.905025Z",
     "shell.execute_reply": "2024-04-05T14:26:47.903914Z"
    },
    "papermill": {
     "duration": 0.03323,
     "end_time": "2024-04-05T14:26:47.907501",
     "exception": false,
     "start_time": "2024-04-05T14:26:47.874271",
     "status": "completed"
    },
    "tags": []
   },
   "outputs": [],
   "source": [
    "# tables = {name: table for name, table in train_dataset.get_depth_tables(1)}"
   ]
  },
  {
   "cell_type": "code",
   "execution_count": 14,
   "id": "ef95494a",
   "metadata": {
    "execution": {
     "iopub.execute_input": "2024-04-05T14:26:47.958035Z",
     "iopub.status.busy": "2024-04-05T14:26:47.957568Z",
     "iopub.status.idle": "2024-04-05T14:26:47.962529Z",
     "shell.execute_reply": "2024-04-05T14:26:47.961337Z"
    },
    "papermill": {
     "duration": 0.03289,
     "end_time": "2024-04-05T14:26:47.964776",
     "exception": false,
     "start_time": "2024-04-05T14:26:47.931886",
     "status": "completed"
    },
    "tags": []
   },
   "outputs": [],
   "source": [
    "# applprev_1 = tables[\"applprev_1\"]"
   ]
  },
  {
   "cell_type": "code",
   "execution_count": 15,
   "id": "35128425",
   "metadata": {
    "execution": {
     "iopub.execute_input": "2024-04-05T14:26:48.015188Z",
     "iopub.status.busy": "2024-04-05T14:26:48.014786Z",
     "iopub.status.idle": "2024-04-05T14:26:48.019426Z",
     "shell.execute_reply": "2024-04-05T14:26:48.018317Z"
    },
    "papermill": {
     "duration": 0.032942,
     "end_time": "2024-04-05T14:26:48.021885",
     "exception": false,
     "start_time": "2024-04-05T14:26:47.988943",
     "status": "completed"
    },
    "tags": []
   },
   "outputs": [],
   "source": [
    "# joined = applprev_1[\"case_id\"].value_counts().join(train_dataset.get_base()[[\"case_id\", \"target\"]], on=\"case_id\").sort(\"count\")\n",
    "# joined.filter(pl.col(\"target\") == 1)"
   ]
  },
  {
   "cell_type": "code",
   "execution_count": 16,
   "id": "129667bc",
   "metadata": {
    "execution": {
     "iopub.execute_input": "2024-04-05T14:26:48.076089Z",
     "iopub.status.busy": "2024-04-05T14:26:48.075383Z",
     "iopub.status.idle": "2024-04-05T14:26:48.079959Z",
     "shell.execute_reply": "2024-04-05T14:26:48.079088Z"
    },
    "papermill": {
     "duration": 0.034533,
     "end_time": "2024-04-05T14:26:48.082176",
     "exception": false,
     "start_time": "2024-04-05T14:26:48.047643",
     "status": "completed"
    },
    "tags": []
   },
   "outputs": [],
   "source": [
    "# base = train_dataset.get_base()"
   ]
  },
  {
   "cell_type": "code",
   "execution_count": 17,
   "id": "df13b944",
   "metadata": {
    "execution": {
     "iopub.execute_input": "2024-04-05T14:26:48.136451Z",
     "iopub.status.busy": "2024-04-05T14:26:48.135673Z",
     "iopub.status.idle": "2024-04-05T14:26:48.140192Z",
     "shell.execute_reply": "2024-04-05T14:26:48.139124Z"
    },
    "papermill": {
     "duration": 0.034081,
     "end_time": "2024-04-05T14:26:48.142448",
     "exception": false,
     "start_time": "2024-04-05T14:26:48.108367",
     "status": "completed"
    },
    "tags": []
   },
   "outputs": [],
   "source": [
    "# base.filter(pl.col(\"case_id\") == 2702490)"
   ]
  },
  {
   "cell_type": "code",
   "execution_count": 18,
   "id": "fa404863",
   "metadata": {
    "execution": {
     "iopub.execute_input": "2024-04-05T14:26:48.196633Z",
     "iopub.status.busy": "2024-04-05T14:26:48.195834Z",
     "iopub.status.idle": "2024-04-05T14:26:48.200099Z",
     "shell.execute_reply": "2024-04-05T14:26:48.199143Z"
    },
    "papermill": {
     "duration": 0.034362,
     "end_time": "2024-04-05T14:26:48.202769",
     "exception": false,
     "start_time": "2024-04-05T14:26:48.168407",
     "status": "completed"
    },
    "tags": []
   },
   "outputs": [],
   "source": [
    "# applprev_1.filter(applprev_1[\"case_id\"] == 2702490).sort(\"num_group1\")\n",
    "#base.filter(pl.col(\"case_id\") == 176526)"
   ]
  },
  {
   "cell_type": "code",
   "execution_count": 19,
   "id": "2abc90b1",
   "metadata": {
    "execution": {
     "iopub.execute_input": "2024-04-05T14:26:48.257590Z",
     "iopub.status.busy": "2024-04-05T14:26:48.256897Z",
     "iopub.status.idle": "2024-04-05T14:26:48.261170Z",
     "shell.execute_reply": "2024-04-05T14:26:48.260202Z"
    },
    "papermill": {
     "duration": 0.034829,
     "end_time": "2024-04-05T14:26:48.263696",
     "exception": false,
     "start_time": "2024-04-05T14:26:48.228867",
     "status": "completed"
    },
    "tags": []
   },
   "outputs": [],
   "source": [
    "# applprev_1.filter(applprev_1[\"case_id\"] == 2702490).sort(\"num_group1\")[[\"credamount_590A\", \"mainoccupationinc_437A\", \"rejectreason_755M\", \"rejectreasonclient_4145042M\"]]\n"
   ]
  },
  {
   "cell_type": "code",
   "execution_count": 20,
   "id": "b05113c3",
   "metadata": {
    "execution": {
     "iopub.execute_input": "2024-04-05T14:26:48.318712Z",
     "iopub.status.busy": "2024-04-05T14:26:48.318186Z",
     "iopub.status.idle": "2024-04-05T14:26:48.322895Z",
     "shell.execute_reply": "2024-04-05T14:26:48.321639Z"
    },
    "papermill": {
     "duration": 0.034886,
     "end_time": "2024-04-05T14:26:48.324976",
     "exception": false,
     "start_time": "2024-04-05T14:26:48.290090",
     "status": "completed"
    },
    "tags": []
   },
   "outputs": [],
   "source": [
    "# applprev_1.filter(applprev_1[\"case_id\"] == 176526).sort(\"num_group1\")[[\"credamount_590A\", \"mainoccupationinc_437A\", \"rejectreason_755M\", \"rejectreasonclient_4145042M\"]]a"
   ]
  },
  {
   "cell_type": "code",
   "execution_count": 21,
   "id": "b2aa37a9",
   "metadata": {
    "execution": {
     "iopub.execute_input": "2024-04-05T14:26:48.377765Z",
     "iopub.status.busy": "2024-04-05T14:26:48.377337Z",
     "iopub.status.idle": "2024-04-05T14:26:48.382228Z",
     "shell.execute_reply": "2024-04-05T14:26:48.381112Z"
    },
    "papermill": {
     "duration": 0.034475,
     "end_time": "2024-04-05T14:26:48.384762",
     "exception": false,
     "start_time": "2024-04-05T14:26:48.350287",
     "status": "completed"
    },
    "tags": []
   },
   "outputs": [],
   "source": [
    "# applprev_1.filter(applprev_1[\"case_id\"] == 176526).sort(\"num_group1\")"
   ]
  },
  {
   "cell_type": "code",
   "execution_count": 22,
   "id": "5b34fedf",
   "metadata": {
    "execution": {
     "iopub.execute_input": "2024-04-05T14:26:48.437665Z",
     "iopub.status.busy": "2024-04-05T14:26:48.436456Z",
     "iopub.status.idle": "2024-04-05T14:26:48.441021Z",
     "shell.execute_reply": "2024-04-05T14:26:48.440204Z"
    },
    "papermill": {
     "duration": 0.033432,
     "end_time": "2024-04-05T14:26:48.443427",
     "exception": false,
     "start_time": "2024-04-05T14:26:48.409995",
     "status": "completed"
    },
    "tags": []
   },
   "outputs": [],
   "source": [
    "# FreatureDescriptionGetter().get(\"rejectreasonclient_4145042M\")"
   ]
  },
  {
   "cell_type": "code",
   "execution_count": 23,
   "id": "7e6c550d",
   "metadata": {
    "execution": {
     "iopub.execute_input": "2024-04-05T14:26:48.499312Z",
     "iopub.status.busy": "2024-04-05T14:26:48.498119Z",
     "iopub.status.idle": "2024-04-05T14:26:48.503051Z",
     "shell.execute_reply": "2024-04-05T14:26:48.502213Z"
    },
    "papermill": {
     "duration": 0.033833,
     "end_time": "2024-04-05T14:26:48.505260",
     "exception": false,
     "start_time": "2024-04-05T14:26:48.471427",
     "status": "completed"
    },
    "tags": []
   },
   "outputs": [],
   "source": [
    "# def bucket_mean_split(x, y, buckets=100):\n",
    "#     x_buckets = []\n",
    "#     y_buckets = []\n",
    "\n",
    "#     x = np.array(x)\n",
    "#     y = np.array(y)\n",
    "#     x_quantiles = [np.quantile(x, i / buckets) for i in range(0, buckets + 1)]\n",
    "#     for i in range(0, buckets):\n",
    "#         filter = (x >= x_quantiles[i]) & (x <= x_quantiles[i + 1])\n",
    "#         x_buckets.append(np.mean(x[filter]))\n",
    "#         y_buckets.append(np.mean(y[filter]))\n",
    "#     return x_buckets, y_buckets"
   ]
  },
  {
   "cell_type": "code",
   "execution_count": 24,
   "id": "51a6544b",
   "metadata": {
    "execution": {
     "iopub.execute_input": "2024-04-05T14:26:48.559433Z",
     "iopub.status.busy": "2024-04-05T14:26:48.558631Z",
     "iopub.status.idle": "2024-04-05T14:26:48.562861Z",
     "shell.execute_reply": "2024-04-05T14:26:48.561930Z"
    },
    "papermill": {
     "duration": 0.03424,
     "end_time": "2024-04-05T14:26:48.565239",
     "exception": false,
     "start_time": "2024-04-05T14:26:48.530999",
     "status": "completed"
    },
    "tags": []
   },
   "outputs": [],
   "source": [
    "# train[\"target\"].mean()"
   ]
  },
  {
   "cell_type": "code",
   "execution_count": 25,
   "id": "fc01c0be",
   "metadata": {
    "execution": {
     "iopub.execute_input": "2024-04-05T14:26:48.616640Z",
     "iopub.status.busy": "2024-04-05T14:26:48.615842Z",
     "iopub.status.idle": "2024-04-05T14:26:48.620514Z",
     "shell.execute_reply": "2024-04-05T14:26:48.619309Z"
    },
    "papermill": {
     "duration": 0.033265,
     "end_time": "2024-04-05T14:26:48.623067",
     "exception": false,
     "start_time": "2024-04-05T14:26:48.589802",
     "status": "completed"
    },
    "tags": []
   },
   "outputs": [],
   "source": [
    "# print(\"Mean target={} where actualdpdtolerance_344P != 0\".format(train[\"target\"].filter(train[\"actualdpdtolerance_344P\"] != 0).mean()))\n",
    "# print(\"Mean target={} where actualdpdtolerance_344P == 0\".format(train[\"target\"].filter(train[\"actualdpdtolerance_344P\"] == 0).mean()))\n",
    "# print(\"Mean target={} where actualdpdtolerance_344P is null\".format(train[\"target\"].filter(train[\"actualdpdtolerance_344P\"].is_null()).mean()))"
   ]
  },
  {
   "cell_type": "code",
   "execution_count": 26,
   "id": "29c93019",
   "metadata": {
    "execution": {
     "iopub.execute_input": "2024-04-05T14:26:48.673808Z",
     "iopub.status.busy": "2024-04-05T14:26:48.673332Z",
     "iopub.status.idle": "2024-04-05T14:26:48.679163Z",
     "shell.execute_reply": "2024-04-05T14:26:48.677828Z"
    },
    "papermill": {
     "duration": 0.034028,
     "end_time": "2024-04-05T14:26:48.681526",
     "exception": false,
     "start_time": "2024-04-05T14:26:48.647498",
     "status": "completed"
    },
    "tags": []
   },
   "outputs": [],
   "source": [
    "# columns = [column for column in train.columns if (train[column].dtype == pl.Float64)]\n",
    "\n",
    "# figure, axis = plt.subplots(len(columns) // 5 + 1, 5, figsize=(15, 30))\n",
    "# for index, column in enumerate(columns):\n",
    "#     current_plot = axis[index // 5, index % 5]\n",
    "#     x = train[column]\n",
    "#     y = train[\"target\"]\n",
    "#     if (x.dtype == pl.String or x.dtype == pl.Boolean):\n",
    "#         continue\n",
    "#     filter = x.is_not_null()\n",
    "#     x = x.filter(filter)\n",
    "#     y = y.filter(filter)\n",
    "#     if (x.is_empty()):\n",
    "#         continue\n",
    "#     x_bucket, y_bucket = bucket_mean_split(x.to_numpy(), y.to_numpy(), buckets=100)\n",
    "#     current_plot.plot(x_bucket, y_bucket)\n",
    "#     current_plot.set_title(column)\n",
    "# plt.show()"
   ]
  },
  {
   "cell_type": "code",
   "execution_count": 27,
   "id": "93da71ec",
   "metadata": {
    "execution": {
     "iopub.execute_input": "2024-04-05T14:26:48.731770Z",
     "iopub.status.busy": "2024-04-05T14:26:48.731322Z",
     "iopub.status.idle": "2024-04-05T14:26:48.736485Z",
     "shell.execute_reply": "2024-04-05T14:26:48.735233Z"
    },
    "papermill": {
     "duration": 0.033061,
     "end_time": "2024-04-05T14:26:48.738923",
     "exception": false,
     "start_time": "2024-04-05T14:26:48.705862",
     "status": "completed"
    },
    "tags": []
   },
   "outputs": [],
   "source": [
    "# features = train_df.columns\n",
    "# features.remove(\"WEEK_NUM\")\n",
    "# features.remove(\"case_id\")\n",
    "# features.remove(\"target\")"
   ]
  },
  {
   "cell_type": "code",
   "execution_count": 28,
   "id": "a1ecc2e2",
   "metadata": {
    "execution": {
     "iopub.execute_input": "2024-04-05T14:26:48.789149Z",
     "iopub.status.busy": "2024-04-05T14:26:48.788691Z",
     "iopub.status.idle": "2024-04-05T14:26:48.793840Z",
     "shell.execute_reply": "2024-04-05T14:26:48.792705Z"
    },
    "papermill": {
     "duration": 0.032953,
     "end_time": "2024-04-05T14:26:48.796185",
     "exception": false,
     "start_time": "2024-04-05T14:26:48.763232",
     "status": "completed"
    },
    "tags": []
   },
   "outputs": [],
   "source": [
    "# gc.collect()"
   ]
  },
  {
   "cell_type": "markdown",
   "id": "fc10c22b",
   "metadata": {
    "papermill": {
     "duration": 0.023924,
     "end_time": "2024-04-05T14:26:48.845030",
     "exception": false,
     "start_time": "2024-04-05T14:26:48.821106",
     "status": "completed"
    },
    "tags": []
   },
   "source": [
    "### Feature Importance"
   ]
  },
  {
   "cell_type": "code",
   "execution_count": 29,
   "id": "34514df1",
   "metadata": {
    "execution": {
     "iopub.execute_input": "2024-04-05T14:26:48.895427Z",
     "iopub.status.busy": "2024-04-05T14:26:48.894957Z",
     "iopub.status.idle": "2024-04-05T14:26:48.900762Z",
     "shell.execute_reply": "2024-04-05T14:26:48.899596Z"
    },
    "papermill": {
     "duration": 0.033825,
     "end_time": "2024-04-05T14:26:48.903095",
     "exception": false,
     "start_time": "2024-04-05T14:26:48.869270",
     "status": "completed"
    },
    "tags": []
   },
   "outputs": [],
   "source": [
    "# def train_rf(X, Y):    \n",
    "#     params = {\n",
    "#         \"boosting_type\": \"gbdt\",\n",
    "#         \"objective\": \"binary\",\n",
    "#         \"metric\": \"auc\",\n",
    "#         \"max_depth\": 8,\n",
    "#         \"max_bin\": 255,\n",
    "#         \"learning_rate\": 0.05,\n",
    "#         \"n_estimators\": 200,\n",
    "#         \"colsample_bytree\": 0.8, \n",
    "#         \"colsample_bynode\": 0.8,\n",
    "#         \"verbose\": -1,\n",
    "#         \"random_state\": 42,\n",
    "#         \"device\": \"gpu\",\n",
    "#     }\n",
    "    \n",
    "#     model = lgb.LGBMClassifier(**params)\n",
    "    \n",
    "#     model.fit(X.to_pandas(), Y.to_pandas())\n",
    "    \n",
    "#     # Get feature importances\n",
    "#     return pl.DataFrame({\n",
    "#         \"feature\": list(X.columns),\n",
    "#         \"feature_importance\": model.feature_importances_,\n",
    "#         \"train_score\": roc_auc_score(Y.to_pandas(), model.predict(X.to_pandas()))\n",
    "#     })"
   ]
  },
  {
   "cell_type": "code",
   "execution_count": 30,
   "id": "558b82b0",
   "metadata": {
    "execution": {
     "iopub.execute_input": "2024-04-05T14:26:48.953891Z",
     "iopub.status.busy": "2024-04-05T14:26:48.953447Z",
     "iopub.status.idle": "2024-04-05T14:26:48.958952Z",
     "shell.execute_reply": "2024-04-05T14:26:48.957818Z"
    },
    "papermill": {
     "duration": 0.033782,
     "end_time": "2024-04-05T14:26:48.961322",
     "exception": false,
     "start_time": "2024-04-05T14:26:48.927540",
     "status": "completed"
    },
    "tags": []
   },
   "outputs": [],
   "source": [
    "# def get_feature_importance(X, Y):\n",
    "#     COUNT_ITER = 50\n",
    "    \n",
    "#     dfs = []\n",
    "#     for i in range(COUNT_ITER):\n",
    "#         gc.collect()\n",
    "        \n",
    "#         start_time = time.time()\n",
    "#         shuffled_Y = Y.clone().sample(fraction=1.0, shuffle=True)\n",
    "#         current_df = train_rf(X, shuffled_Y)\n",
    "#         finish_time = time.time()\n",
    "#         print(f\"Finish iteration: {i + 1}/{COUNT_ITER}, time: {finish_time - start_time}\")\n",
    "#         current_df = current_df.with_columns(pl.lit(i).alias(\"iteration\"))\n",
    "#         dfs.append(current_df)\n",
    "        \n",
    "#     return pl.concat(dfs, rechunk=True), train_rf(X, Y)"
   ]
  },
  {
   "cell_type": "code",
   "execution_count": 31,
   "id": "3db70800",
   "metadata": {
    "execution": {
     "iopub.execute_input": "2024-04-05T14:26:49.011606Z",
     "iopub.status.busy": "2024-04-05T14:26:49.011160Z",
     "iopub.status.idle": "2024-04-05T14:26:49.015792Z",
     "shell.execute_reply": "2024-04-05T14:26:49.014669Z"
    },
    "papermill": {
     "duration": 0.032463,
     "end_time": "2024-04-05T14:26:49.017980",
     "exception": false,
     "start_time": "2024-04-05T14:26:48.985517",
     "status": "completed"
    },
    "tags": []
   },
   "outputs": [],
   "source": [
    "# shuffled_feature_importance_df, feature_importance_df = get_feature_importance(train_df[features], train_df[\"target\"])\n",
    "# shuffled_feature_importance_df.write_csv(\"shuffled_feature_importance_df.csv\", separator=\",\")\n",
    "# feature_importance_df.write_csv(\"feature_importance_df.csv\", separator=\",\")"
   ]
  },
  {
   "cell_type": "code",
   "execution_count": 32,
   "id": "d3f8e95f",
   "metadata": {
    "execution": {
     "iopub.execute_input": "2024-04-05T14:26:49.067968Z",
     "iopub.status.busy": "2024-04-05T14:26:49.067521Z",
     "iopub.status.idle": "2024-04-05T14:26:49.072970Z",
     "shell.execute_reply": "2024-04-05T14:26:49.071805Z"
    },
    "papermill": {
     "duration": 0.03313,
     "end_time": "2024-04-05T14:26:49.075180",
     "exception": false,
     "start_time": "2024-04-05T14:26:49.042050",
     "status": "completed"
    },
    "tags": []
   },
   "outputs": [],
   "source": [
    "# important_features = []\n",
    "# for column in feature_importance_df[\"feature\"]:\n",
    "#     shuffled_feature_importance = shuffled_feature_importance_df.filter(shuffled_feature_importance_df[\"feature\"] == column)[\"feature_importance\"].to_numpy()\n",
    "#     feature_importance = feature_importance_df.filter(feature_importance_df[\"feature\"] == column)[\"feature_importance\"][0]\n",
    "    \n",
    "#     if (np.percentile(shuffled_feature_importance, 90) <= feature_importance):\n",
    "#         important_features.append(column)\n",
    "# print(len(important_features), important_features)"
   ]
  },
  {
   "cell_type": "markdown",
   "id": "6671081e",
   "metadata": {
    "papermill": {
     "duration": 0.023892,
     "end_time": "2024-04-05T14:26:49.123336",
     "exception": false,
     "start_time": "2024-04-05T14:26:49.099444",
     "status": "completed"
    },
    "tags": []
   },
   "source": [
    "# Training"
   ]
  },
  {
   "cell_type": "code",
   "execution_count": 33,
   "id": "c6760511",
   "metadata": {
    "execution": {
     "iopub.execute_input": "2024-04-05T14:26:49.174143Z",
     "iopub.status.busy": "2024-04-05T14:26:49.173588Z",
     "iopub.status.idle": "2024-04-05T14:26:49.180018Z",
     "shell.execute_reply": "2024-04-05T14:26:49.178596Z"
    },
    "papermill": {
     "duration": 0.034979,
     "end_time": "2024-04-05T14:26:49.182671",
     "exception": false,
     "start_time": "2024-04-05T14:26:49.147692",
     "status": "completed"
    },
    "tags": []
   },
   "outputs": [],
   "source": [
    "# class VotingModel(BaseEstimator, RegressorMixin):\n",
    "#     def __init__(self, estimators):\n",
    "#         super().__init__()\n",
    "#         self.estimators = estimators\n",
    "        \n",
    "#     def fit(self, X, y=None):\n",
    "#         return self\n",
    "    \n",
    "#     def predict(self, X):\n",
    "#         y_preds = [estimator.predict(X) for estimator in self.estimators]\n",
    "#         return np.mean(y_preds, axis=0)\n",
    "    \n",
    "#     def predict_proba(self, X):\n",
    "#         y_preds = [estimator.predict_proba(X) for estimator in self.estimators]\n",
    "#         return np.mean(y_preds, axis=0)\n",
    "    \n",
    "#     def get_feature_importance(self):\n",
    "#         feature_importances = np.array([0 for feature in features])\n",
    "\n",
    "#         for model in self.estimators:\n",
    "#             feature_importances += model.feature_importances_\n",
    "\n",
    "#         return feature_importances"
   ]
  },
  {
   "cell_type": "code",
   "execution_count": 34,
   "id": "f7df714c",
   "metadata": {
    "execution": {
     "iopub.execute_input": "2024-04-05T14:26:49.234417Z",
     "iopub.status.busy": "2024-04-05T14:26:49.233961Z",
     "iopub.status.idle": "2024-04-05T14:26:49.239902Z",
     "shell.execute_reply": "2024-04-05T14:26:49.238272Z"
    },
    "papermill": {
     "duration": 0.035168,
     "end_time": "2024-04-05T14:26:49.242881",
     "exception": false,
     "start_time": "2024-04-05T14:26:49.207713",
     "status": "completed"
    },
    "tags": []
   },
   "outputs": [],
   "source": [
    "# for column in features:\n",
    "#     if (train_dataset[column].dtype != pl.Categorical) and \\\n",
    "#         (train_dataset[column].dtype != pl.Float64) and \\\n",
    "#         (train_dataset[column].dtype != pl.Float64):\n",
    "#         print(column, train_dataset[column].dtype)"
   ]
  },
  {
   "cell_type": "code",
   "execution_count": 35,
   "id": "c6d6df82",
   "metadata": {
    "execution": {
     "iopub.execute_input": "2024-04-05T14:26:49.294256Z",
     "iopub.status.busy": "2024-04-05T14:26:49.293827Z",
     "iopub.status.idle": "2024-04-05T14:26:49.299498Z",
     "shell.execute_reply": "2024-04-05T14:26:49.298597Z"
    },
    "papermill": {
     "duration": 0.034618,
     "end_time": "2024-04-05T14:26:49.301979",
     "exception": false,
     "start_time": "2024-04-05T14:26:49.267361",
     "status": "completed"
    },
    "tags": []
   },
   "outputs": [],
   "source": [
    "# def train_lgb_model(X_train, Y_train, X_test, Y_test):\n",
    "#     params = {\n",
    "#         \"boosting_type\": \"gbdt\",\n",
    "#         \"objective\": \"binary\",\n",
    "#         \"metric\": \"auc\",\n",
    "#         \"max_depth\": 8,\n",
    "#         \"max_bin\": 250,\n",
    "#         \"learning_rate\": 0.05,\n",
    "#         \"n_estimators\": 1000,\n",
    "#         \"colsample_bytree\": 0.8, \n",
    "#         \"colsample_bynode\": 0.8,\n",
    "#         \"verbose\": -1,\n",
    "#         \"random_state\": 42,\n",
    "#         \"device\": \"gpu\",\n",
    "#     }\n",
    "    \n",
    "#     model = lgb.LGBMClassifier(**params)\n",
    "    \n",
    "#     model.fit(\n",
    "#         X_train, Y_train,\n",
    "#         eval_set=[(X_test, Y_test)],\n",
    "#         callbacks=[lgb.log_evaluation(100), lgb.early_stopping(100)]\n",
    "#     )\n",
    "        \n",
    "#     return model"
   ]
  },
  {
   "cell_type": "code",
   "execution_count": 36,
   "id": "3ca8ad3e",
   "metadata": {
    "execution": {
     "iopub.execute_input": "2024-04-05T14:26:49.353511Z",
     "iopub.status.busy": "2024-04-05T14:26:49.353094Z",
     "iopub.status.idle": "2024-04-05T14:26:49.359233Z",
     "shell.execute_reply": "2024-04-05T14:26:49.357766Z"
    },
    "papermill": {
     "duration": 0.035308,
     "end_time": "2024-04-05T14:26:49.361583",
     "exception": false,
     "start_time": "2024-04-05T14:26:49.326275",
     "status": "completed"
    },
    "tags": []
   },
   "outputs": [],
   "source": [
    "# gc.collect()"
   ]
  },
  {
   "cell_type": "code",
   "execution_count": 37,
   "id": "63592da0",
   "metadata": {
    "execution": {
     "iopub.execute_input": "2024-04-05T14:26:49.414996Z",
     "iopub.status.busy": "2024-04-05T14:26:49.414486Z",
     "iopub.status.idle": "2024-04-05T14:26:49.421770Z",
     "shell.execute_reply": "2024-04-05T14:26:49.420336Z"
    },
    "papermill": {
     "duration": 0.038301,
     "end_time": "2024-04-05T14:26:49.424364",
     "exception": false,
     "start_time": "2024-04-05T14:26:49.386063",
     "status": "completed"
    },
    "tags": []
   },
   "outputs": [],
   "source": [
    "# weeks = train_df[\"WEEK_NUM\"]\n",
    "# cv = StratifiedGroupKFold(n_splits=5, shuffle=False)\n",
    "\n",
    "# fitted_models = []\n",
    "\n",
    "# oof_predicted = np.zeros(train_df.shape[0])\n",
    "\n",
    "# for idx_train, idx_test in cv.split(train_df[features], train_df[\"target\"], groups=weeks):        \n",
    "# #     X_train = train_df[features][idx_train].to_pandas()\n",
    "# #     Y_train = train_df[\"target\"][idx_train].to_pandas()\n",
    "    \n",
    "#     X_test = train_df[features][idx_test].to_pandas()\n",
    "#     Y_test = train_df[\"target\"][idx_test].to_pandas()\n",
    "    \n",
    "#     start = time.time()\n",
    "#     params = {\n",
    "#         \"boosting_type\": \"gbdt\",\n",
    "#         \"objective\": \"binary\",\n",
    "#         \"metric\": \"auc\",\n",
    "#         \"max_depth\": 8,\n",
    "#         \"max_bin\": 250,\n",
    "#         \"learning_rate\": 0.05,\n",
    "#         \"n_estimators\": 1000,\n",
    "#         \"colsample_bytree\": 0.8, \n",
    "#         \"colsample_bynode\": 0.8,\n",
    "#         \"verbose\": -1,\n",
    "#         \"random_state\": 42,\n",
    "#         \"device\": \"gpu\",\n",
    "#     }\n",
    "    \n",
    "#     model = lgb.LGBMClassifier(**params)\n",
    "    \n",
    "#     model.fit(\n",
    "#         train_df[features][idx_train].to_pandas(), train_df[\"target\"][idx_train].to_pandas(),\n",
    "#         eval_set=[(X_test, Y_test)],\n",
    "#         callbacks=[lgb.log_evaluation(100), lgb.early_stopping(100)]\n",
    "#     )\n",
    "        \n",
    "\n",
    "# #    model = train_lgb_model(X_train, Y_train, X_test, Y_test)\n",
    "#     finish = time.time()\n",
    "    \n",
    "#     print(\"fit time: {}\".format(finish - start))\n",
    "#     fitted_models.append(model)\n",
    "    \n",
    "#     test_pred = model.predict_proba(X_test)[:, 1]\n",
    "#     oof_predicted[idx_test] = test_pred\n",
    "#     gc.collect()\n",
    "\n",
    "# model = VotingModel(fitted_models)\n",
    "# gc.collect()"
   ]
  },
  {
   "cell_type": "code",
   "execution_count": 38,
   "id": "b284887f",
   "metadata": {
    "execution": {
     "iopub.execute_input": "2024-04-05T14:26:49.476307Z",
     "iopub.status.busy": "2024-04-05T14:26:49.475380Z",
     "iopub.status.idle": "2024-04-05T14:26:49.480631Z",
     "shell.execute_reply": "2024-04-05T14:26:49.479409Z"
    },
    "papermill": {
     "duration": 0.033737,
     "end_time": "2024-04-05T14:26:49.483193",
     "exception": false,
     "start_time": "2024-04-05T14:26:49.449456",
     "status": "completed"
    },
    "tags": []
   },
   "outputs": [],
   "source": [
    "# roc_auc_oof = roc_auc_score(train_df[\"target\"], oof_predicted)\n",
    "# print(\"CV roc_auc_oof: \", roc_auc_oof)"
   ]
  },
  {
   "cell_type": "markdown",
   "id": "13d2f9c2",
   "metadata": {
    "papermill": {
     "duration": 0.024192,
     "end_time": "2024-04-05T14:26:49.531952",
     "exception": false,
     "start_time": "2024-04-05T14:26:49.507760",
     "status": "completed"
    },
    "tags": []
   },
   "source": [
    "# Predict"
   ]
  },
  {
   "cell_type": "code",
   "execution_count": 39,
   "id": "ac92761a",
   "metadata": {
    "execution": {
     "iopub.execute_input": "2024-04-05T14:26:49.582473Z",
     "iopub.status.busy": "2024-04-05T14:26:49.582064Z",
     "iopub.status.idle": "2024-04-05T14:26:49.586962Z",
     "shell.execute_reply": "2024-04-05T14:26:49.585841Z"
    },
    "papermill": {
     "duration": 0.033146,
     "end_time": "2024-04-05T14:26:49.589459",
     "exception": false,
     "start_time": "2024-04-05T14:26:49.556313",
     "status": "completed"
    },
    "tags": []
   },
   "outputs": [],
   "source": [
    "# del train_df\n",
    "# gc.collect()"
   ]
  },
  {
   "cell_type": "code",
   "execution_count": 40,
   "id": "c7c8cc78",
   "metadata": {
    "execution": {
     "iopub.execute_input": "2024-04-05T14:26:49.640729Z",
     "iopub.status.busy": "2024-04-05T14:26:49.640305Z",
     "iopub.status.idle": "2024-04-05T14:26:49.645388Z",
     "shell.execute_reply": "2024-04-05T14:26:49.644240Z"
    },
    "papermill": {
     "duration": 0.033531,
     "end_time": "2024-04-05T14:26:49.647684",
     "exception": false,
     "start_time": "2024-04-05T14:26:49.614153",
     "status": "completed"
    },
    "tags": []
   },
   "outputs": [],
   "source": [
    "# test_dataset = data_loader.load_test_dataset()\n",
    "# print(\"Test dataset week range: {}-{}\".format(test_dataset.base[\"WEEK_NUM\"].min(), test_dataset.base[\"WEEK_NUM\"].max()))\n",
    "# gc.collect()\n",
    "# test_df = preprocessor.process_test_dataset(test_dataset)\n",
    "# del test_dataset\n",
    "# gc.collect()"
   ]
  },
  {
   "cell_type": "code",
   "execution_count": 41,
   "id": "659085b8",
   "metadata": {
    "execution": {
     "iopub.execute_input": "2024-04-05T14:26:49.698879Z",
     "iopub.status.busy": "2024-04-05T14:26:49.697700Z",
     "iopub.status.idle": "2024-04-05T14:26:49.702412Z",
     "shell.execute_reply": "2024-04-05T14:26:49.701506Z"
    },
    "papermill": {
     "duration": 0.032789,
     "end_time": "2024-04-05T14:26:49.704850",
     "exception": false,
     "start_time": "2024-04-05T14:26:49.672061",
     "status": "completed"
    },
    "tags": []
   },
   "outputs": [],
   "source": [
    "# print([name for value, name in reversed(sorted(zip(model.get_feature_importance(), features)))][0:200])"
   ]
  },
  {
   "cell_type": "code",
   "execution_count": null,
   "id": "0f26dd85",
   "metadata": {
    "papermill": {
     "duration": 0.023879,
     "end_time": "2024-04-05T14:26:49.752911",
     "exception": false,
     "start_time": "2024-04-05T14:26:49.729032",
     "status": "completed"
    },
    "tags": []
   },
   "outputs": [],
   "source": []
  },
  {
   "cell_type": "code",
   "execution_count": 42,
   "id": "da5afba1",
   "metadata": {
    "execution": {
     "iopub.execute_input": "2024-04-05T14:26:49.803589Z",
     "iopub.status.busy": "2024-04-05T14:26:49.802428Z",
     "iopub.status.idle": "2024-04-05T14:26:49.807031Z",
     "shell.execute_reply": "2024-04-05T14:26:49.806182Z"
    },
    "papermill": {
     "duration": 0.032264,
     "end_time": "2024-04-05T14:26:49.809217",
     "exception": false,
     "start_time": "2024-04-05T14:26:49.776953",
     "status": "completed"
    },
    "tags": []
   },
   "outputs": [],
   "source": [
    "# CV roc_auc_oof:  0.8353789451006361 without feature selection ~500 features\n",
    "# CV roc_auc_oof:  0.8329322959533371 with feature selection ~200 features"
   ]
  },
  {
   "cell_type": "code",
   "execution_count": null,
   "id": "0aed85b4",
   "metadata": {
    "papermill": {
     "duration": 0.024114,
     "end_time": "2024-04-05T14:26:49.858563",
     "exception": false,
     "start_time": "2024-04-05T14:26:49.834449",
     "status": "completed"
    },
    "tags": []
   },
   "outputs": [],
   "source": []
  },
  {
   "cell_type": "code",
   "execution_count": 43,
   "id": "ac2b63db",
   "metadata": {
    "execution": {
     "iopub.execute_input": "2024-04-05T14:26:49.909415Z",
     "iopub.status.busy": "2024-04-05T14:26:49.908675Z",
     "iopub.status.idle": "2024-04-05T14:26:49.913371Z",
     "shell.execute_reply": "2024-04-05T14:26:49.912490Z"
    },
    "papermill": {
     "duration": 0.033034,
     "end_time": "2024-04-05T14:26:49.915878",
     "exception": false,
     "start_time": "2024-04-05T14:26:49.882844",
     "status": "completed"
    },
    "tags": []
   },
   "outputs": [],
   "source": [
    "# def gini_stability(dataset, w_fallingrate=88.0, w_resstd=-0.5):\n",
    "#     gini_in_time = dataset\\\n",
    "#         .sort_values(\"WEEK_NUM\")\\\n",
    "#         .groupby(\"WEEK_NUM\")[[\"true\", \"predicted\"]]\\\n",
    "#         .apply(lambda x: 2 * roc_auc_score(x[\"true\"], x[\"predicted\"]) - 1).tolist()\n",
    "    \n",
    "#     x = np.arange(len(gini_in_time))\n",
    "#     y = gini_in_time\n",
    "#     a, b = np.polyfit(x, y, 1)\n",
    "#     y_hat = a * x + b\n",
    "#     residuals = y - y_hat\n",
    "#     res_std = np.std(residuals)\n",
    "#     avg_gini = np.mean(gini_in_time)\n",
    "    \n",
    "#     print(avg_gini, min(0, a), res_std)\n",
    "    \n",
    "#     return avg_gini + w_fallingrate * min(0, a) + w_resstd * res_std"
   ]
  },
  {
   "cell_type": "code",
   "execution_count": 44,
   "id": "7341e084",
   "metadata": {
    "execution": {
     "iopub.execute_input": "2024-04-05T14:26:49.966853Z",
     "iopub.status.busy": "2024-04-05T14:26:49.966213Z",
     "iopub.status.idle": "2024-04-05T14:26:49.969833Z",
     "shell.execute_reply": "2024-04-05T14:26:49.969063Z"
    },
    "papermill": {
     "duration": 0.031996,
     "end_time": "2024-04-05T14:26:49.972000",
     "exception": false,
     "start_time": "2024-04-05T14:26:49.940004",
     "status": "completed"
    },
    "tags": []
   },
   "outputs": [],
   "source": [
    "# # Y_train_predicted = model.predict_proba(train_df[features].to_pandas())\n",
    "# Y_test_predicted = model.predict_proba(test_df[features].to_pandas())"
   ]
  },
  {
   "cell_type": "code",
   "execution_count": 45,
   "id": "221cb795",
   "metadata": {
    "execution": {
     "iopub.execute_input": "2024-04-05T14:26:50.022691Z",
     "iopub.status.busy": "2024-04-05T14:26:50.021584Z",
     "iopub.status.idle": "2024-04-05T14:26:50.026520Z",
     "shell.execute_reply": "2024-04-05T14:26:50.025791Z"
    },
    "papermill": {
     "duration": 0.032834,
     "end_time": "2024-04-05T14:26:50.028957",
     "exception": false,
     "start_time": "2024-04-05T14:26:49.996123",
     "status": "completed"
    },
    "tags": []
   },
   "outputs": [],
   "source": [
    "# result = pd.DataFrame({\n",
    "#     \"WEEK_NUM\": train_df[\"WEEK_NUM\"],\n",
    "#     \"true\": train_df[\"target\"],\n",
    "#     \"predicted\": Y_train_predicted[:, 1],\n",
    "# })\n",
    "\n",
    "# train_result = gini_stability(result)\n",
    "# print(\"train_score: {}\".format(train_result))\n",
    "\n",
    "# if MODE == Mode.Train:\n",
    "#     result = pd.DataFrame({\n",
    "#         \"WEEK_NUM\": test_df[\"WEEK_NUM\"],\n",
    "#         \"true\": test_df[\"target\"],\n",
    "#         \"predicted\": Y_test_predicted[:, 1],\n",
    "#     })\n",
    "\n",
    "#     test_result = gini_stability(result)\n",
    "#     print(\"test_score: {}\".format(test_result))"
   ]
  },
  {
   "cell_type": "code",
   "execution_count": 46,
   "id": "846eb7c3",
   "metadata": {
    "execution": {
     "iopub.execute_input": "2024-04-05T14:26:50.079342Z",
     "iopub.status.busy": "2024-04-05T14:26:50.078907Z",
     "iopub.status.idle": "2024-04-05T14:26:50.083740Z",
     "shell.execute_reply": "2024-04-05T14:26:50.082543Z"
    },
    "papermill": {
     "duration": 0.033155,
     "end_time": "2024-04-05T14:26:50.086169",
     "exception": false,
     "start_time": "2024-04-05T14:26:50.053014",
     "status": "completed"
    },
    "tags": []
   },
   "outputs": [],
   "source": [
    "# Version 1, test_score: 0.583319926590042, public score 0.48\n",
    "# 100 iters\n",
    "\n",
    "# Version 2, test_score: 0.6062624701357268, public score 0.517\n",
    "# 300 iters\n",
    "\n",
    "# Version 3, test_score: ?, public score 0.545\n",
    "# 2000 iters\n",
    "\n",
    "# Version 4, test_score: ?, public score ?\n",
    "# ? iters, Improve aggregate functions for depth_1, depth_2\n"
   ]
  },
  {
   "cell_type": "markdown",
   "id": "4e36c490",
   "metadata": {
    "papermill": {
     "duration": 0.024705,
     "end_time": "2024-04-05T14:26:50.135251",
     "exception": false,
     "start_time": "2024-04-05T14:26:50.110546",
     "status": "completed"
    },
    "tags": []
   },
   "source": [
    "# Submition"
   ]
  },
  {
   "cell_type": "code",
   "execution_count": 47,
   "id": "c22a038d",
   "metadata": {
    "execution": {
     "iopub.execute_input": "2024-04-05T14:26:50.185574Z",
     "iopub.status.busy": "2024-04-05T14:26:50.185174Z",
     "iopub.status.idle": "2024-04-05T14:26:50.189985Z",
     "shell.execute_reply": "2024-04-05T14:26:50.188716Z"
    },
    "papermill": {
     "duration": 0.033142,
     "end_time": "2024-04-05T14:26:50.192507",
     "exception": false,
     "start_time": "2024-04-05T14:26:50.159365",
     "status": "completed"
    },
    "tags": []
   },
   "outputs": [],
   "source": [
    "# case_id = test_df[\"case_id\"]\n",
    "# X = test_df[features].to_pandas()\n",
    "\n",
    "# Y = model.predict_proba(X)\n",
    "\n",
    "# submission = pd.DataFrame({\n",
    "#     \"case_id\": case_id.to_numpy(),\n",
    "#     \"score\": Y[:, 1]\n",
    "# }).set_index('case_id')\n",
    "# submission.to_csv(\"./submission.csv\")"
   ]
  },
  {
   "cell_type": "code",
   "execution_count": null,
   "id": "8fb8bae1",
   "metadata": {
    "papermill": {
     "duration": 0.024519,
     "end_time": "2024-04-05T14:26:50.241243",
     "exception": false,
     "start_time": "2024-04-05T14:26:50.216724",
     "status": "completed"
    },
    "tags": []
   },
   "outputs": [],
   "source": []
  },
  {
   "cell_type": "code",
   "execution_count": null,
   "id": "6342a811",
   "metadata": {
    "papermill": {
     "duration": 0.024263,
     "end_time": "2024-04-05T14:26:50.289574",
     "exception": false,
     "start_time": "2024-04-05T14:26:50.265311",
     "status": "completed"
    },
    "tags": []
   },
   "outputs": [],
   "source": []
  },
  {
   "cell_type": "code",
   "execution_count": null,
   "id": "a7f3036d",
   "metadata": {
    "papermill": {
     "duration": 0.023575,
     "end_time": "2024-04-05T14:26:50.337230",
     "exception": false,
     "start_time": "2024-04-05T14:26:50.313655",
     "status": "completed"
    },
    "tags": []
   },
   "outputs": [],
   "source": []
  }
 ],
 "metadata": {
  "kaggle": {
   "accelerator": "none",
   "dataSources": [
    {
     "databundleVersionId": 7921029,
     "sourceId": 50160,
     "sourceType": "competition"
    },
    {
     "datasetId": 4496896,
     "sourceId": 8037406,
     "sourceType": "datasetVersion"
    }
   ],
   "dockerImageVersionId": 30635,
   "isGpuEnabled": false,
   "isInternetEnabled": false,
   "language": "python",
   "sourceType": "notebook"
  },
  "kernelspec": {
   "display_name": "Python 3",
   "language": "python",
   "name": "python3"
  },
  "language_info": {
   "codemirror_mode": {
    "name": "ipython",
    "version": 3
   },
   "file_extension": ".py",
   "mimetype": "text/x-python",
   "name": "python",
   "nbconvert_exporter": "python",
   "pygments_lexer": "ipython3",
   "version": "3.10.12"
  },
  "papermill": {
   "default_parameters": {},
   "duration": 310.21143,
   "end_time": "2024-04-05T14:26:51.287412",
   "environment_variables": {},
   "exception": null,
   "input_path": "__notebook__.ipynb",
   "output_path": "__notebook__.ipynb",
   "parameters": {},
   "start_time": "2024-04-05T14:21:41.075982",
   "version": "2.4.0"
  }
 },
 "nbformat": 4,
 "nbformat_minor": 5
}
