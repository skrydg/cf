{
 "cells": [
  {
   "cell_type": "markdown",
   "id": "9d97a0a4",
   "metadata": {
    "papermill": {
     "duration": 0.004846,
     "end_time": "2024-05-06T16:21:59.802057",
     "exception": false,
     "start_time": "2024-05-06T16:21:59.797211",
     "status": "completed"
    },
    "tags": []
   },
   "source": [
    "# Install packages"
   ]
  },
  {
   "cell_type": "code",
   "execution_count": 1,
   "id": "31d2b39f",
   "metadata": {
    "execution": {
     "iopub.execute_input": "2024-05-06T16:21:59.813575Z",
     "iopub.status.busy": "2024-05-06T16:21:59.812662Z",
     "iopub.status.idle": "2024-05-06T16:22:33.944441Z",
     "shell.execute_reply": "2024-05-06T16:22:33.942529Z"
    },
    "papermill": {
     "duration": 34.140752,
     "end_time": "2024-05-06T16:22:33.947443",
     "exception": false,
     "start_time": "2024-05-06T16:21:59.806691",
     "status": "completed"
    },
    "tags": []
   },
   "outputs": [
    {
     "name": "stdout",
     "output_type": "stream",
     "text": [
      "Processing /kaggle/input/kaggle-home-credit-risk-model-stability-lib/kaggle_home_credit_risk_model_stability-0.3-py3-none-any.whl\r\n",
      "Installing collected packages: kaggle-home-credit-risk-model-stability\r\n",
      "Successfully installed kaggle-home-credit-risk-model-stability-0.3\r\n"
     ]
    }
   ],
   "source": [
    "!pip install /kaggle/input/kaggle-home-credit-risk-model-stability-lib/kaggle_home_credit_risk_model_stability-0.3-py3-none-any.whl --force-reinstall"
   ]
  },
  {
   "cell_type": "code",
   "execution_count": 2,
   "id": "2588da09",
   "metadata": {
    "execution": {
     "iopub.execute_input": "2024-05-06T16:22:33.959391Z",
     "iopub.status.busy": "2024-05-06T16:22:33.958896Z",
     "iopub.status.idle": "2024-05-06T16:23:24.609086Z",
     "shell.execute_reply": "2024-05-06T16:23:24.607687Z"
    },
    "papermill": {
     "duration": 50.659908,
     "end_time": "2024-05-06T16:23:24.612265",
     "exception": false,
     "start_time": "2024-05-06T16:22:33.952357",
     "status": "completed"
    },
    "tags": []
   },
   "outputs": [
    {
     "name": "stdout",
     "output_type": "stream",
     "text": [
      "Processing /kaggle/input/polars/polars-0.20.15-cp38-abi3-manylinux_2_17_x86_64.manylinux2014_x86_64.whl\r\n",
      "Installing collected packages: polars\r\n",
      "  Attempting uninstall: polars\r\n",
      "    Found existing installation: polars 0.20.3\r\n",
      "    Uninstalling polars-0.20.3:\r\n",
      "      Successfully uninstalled polars-0.20.3\r\n",
      "Successfully installed polars-0.20.15\r\n"
     ]
    }
   ],
   "source": [
    "!pip install /kaggle/input/polars/polars-0.20.15-cp38-abi3-manylinux_2_17_x86_64.manylinux2014_x86_64.whl"
   ]
  },
  {
   "cell_type": "markdown",
   "id": "8fe77351",
   "metadata": {
    "papermill": {
     "duration": 0.005151,
     "end_time": "2024-05-06T16:23:24.622691",
     "exception": false,
     "start_time": "2024-05-06T16:23:24.617540",
     "status": "completed"
    },
    "tags": []
   },
   "source": [
    "# Import packages"
   ]
  },
  {
   "cell_type": "code",
   "execution_count": 3,
   "id": "de4a804b",
   "metadata": {
    "execution": {
     "iopub.execute_input": "2024-05-06T16:23:24.635089Z",
     "iopub.status.busy": "2024-05-06T16:23:24.634629Z",
     "iopub.status.idle": "2024-05-06T16:23:29.358654Z",
     "shell.execute_reply": "2024-05-06T16:23:29.357022Z"
    },
    "papermill": {
     "duration": 4.733913,
     "end_time": "2024-05-06T16:23:29.361798",
     "exception": false,
     "start_time": "2024-05-06T16:23:24.627885",
     "status": "completed"
    },
    "tags": []
   },
   "outputs": [],
   "source": [
    "import polars as pl\n",
    "import gc\n",
    "import pickle\n",
    "\n",
    "import kaggle_home_credit_risk_model_stability.libs as hcr\n",
    "from kaggle_home_credit_risk_model_stability.libs.env import Env\n",
    "from kaggle_home_credit_risk_model_stability.libs.input.dataset import Dataset\n",
    "from kaggle_home_credit_risk_model_stability.libs.input.data_loader import DataLoader\n",
    "from kaggle_home_credit_risk_model_stability.libs.preprocessor.preprocessor import Preprocessor\n",
    "from kaggle_home_credit_risk_model_stability.libs.preprocessor.steps import *\n",
    "from kaggle_home_credit_risk_model_stability.libs.preprocessor.columns_info import ColumnsInfo"
   ]
  },
  {
   "cell_type": "code",
   "execution_count": 4,
   "id": "b4396042",
   "metadata": {
    "execution": {
     "iopub.execute_input": "2024-05-06T16:23:29.375088Z",
     "iopub.status.busy": "2024-05-06T16:23:29.374595Z",
     "iopub.status.idle": "2024-05-06T16:23:29.380660Z",
     "shell.execute_reply": "2024-05-06T16:23:29.379269Z"
    },
    "papermill": {
     "duration": 0.016037,
     "end_time": "2024-05-06T16:23:29.383955",
     "exception": false,
     "start_time": "2024-05-06T16:23:29.367918",
     "status": "completed"
    },
    "tags": []
   },
   "outputs": [],
   "source": [
    "env = Env(\n",
    "    \"/kaggle/input/\",\n",
    "    \"/kaggle/working/\"\n",
    ")"
   ]
  },
  {
   "cell_type": "code",
   "execution_count": 5,
   "id": "89bc430c",
   "metadata": {
    "execution": {
     "iopub.execute_input": "2024-05-06T16:23:29.396544Z",
     "iopub.status.busy": "2024-05-06T16:23:29.396033Z",
     "iopub.status.idle": "2024-05-06T16:23:29.410733Z",
     "shell.execute_reply": "2024-05-06T16:23:29.409360Z"
    },
    "papermill": {
     "duration": 0.024226,
     "end_time": "2024-05-06T16:23:29.413620",
     "exception": false,
     "start_time": "2024-05-06T16:23:29.389394",
     "status": "completed"
    },
    "tags": []
   },
   "outputs": [],
   "source": [
    "data_loader = DataLoader(env, tables = [\n",
    "    \"base\", \"static_cb_0\", \"static_0\", \"person_1\", \"tax_registry_a_1\", \"tax_registry_b_1\", \"tax_registry_c_1\", \n",
    "    \"credit_bureau_a_2\", \n",
    "    \"credit_bureau_a_1\", \n",
    "    \"applprev_1\",\n",
    "    #\"debitcard_1\", \"other_1\", \"deposit_1\"\n",
    "    #\"credit_bureau_b_1\", \"credit_bureau_b_2\", <- low amount of data\n",
    "    #\"applprev_2\", \"person_2\"\n",
    "])\n",
    "\n",
    "preprocessor = Preprocessor({\n",
    "    #\"sort_raw_tables\": SortRawTablesStep(),\n",
    "    \"set_column_info_step\": SetColumnsInfoStep(),\n",
    "    \"set_types\": SetTypesStep(),\n",
    "    \"drop_composite_features\": DropCompositeFeaturesStep(),\n",
    "    \"create_day_feature\": CreateDayFeatureStep(),\n",
    "    \"process_categorical\": ProcessCategoricalStep(),\n",
    "    #\"drop_raw_single_value_columns\": DropRawSingleValueColumnsStep(),\n",
    "    \"process_person_table\": ProcessPersonTableStep(),\n",
    "#    \"process_applprev_table\": ProcessApplprevTableStep(),\n",
    "    \"process_static_0_table\": ProcessStatic0TableStep(),\n",
    "    \"process_tax_regestry_a1_table\": ProcessTaxRegestryA1TableStep(),\n",
    "    \"process_tax_regestry_b1_table\": ProcessTaxRegestryB1TableStep(),\n",
    "    \"process_tax_regestry_c1_table\": ProcessTaxRegestryC1TableStep(),\n",
    "    \"split_active_close_credit_burea_1_table\": SplitActiveCloseCreditBureaua1TableStep(),\n",
    "    \"split_active_credit_bureau_a_1_by_credit_duration\": SplitTableByCreditDurationStep(\n",
    "        table_name = \"active_credit_bureau_a_1\",\n",
    "        intervals = {\n",
    "            \"short\": [0, 135],\n",
    "            \"medium\": [135, 270],\n",
    "            \"medium_long\": [270, 450],\n",
    "            \"long\": [450, 100000],\n",
    "        }\n",
    "    ),\n",
    "    \"split_close_credit_bureau_a_1_by_credit_duration\": SplitTableByCreditDurationStep(\n",
    "        table_name = \"close_credit_bureau_a_1\",\n",
    "        intervals = {\n",
    "            \"short\": [0, 135],\n",
    "            \"medium\": [135, 270],\n",
    "            \"medium_long\": [270, 450],\n",
    "            \"long\": [450, 100000],\n",
    "        }\n",
    "    ),\n",
    "    **{\n",
    "        f\"split_{period}_active_credit_bureau_a_1_step\": SplitTableByCategoricalFeatureStep(f\"{period}_active_credit_bureau_a_1\", \"financialinstitution_591M\", [[\"Home Credit\", \"P150_136_157\"]])\n",
    "        for period in [\"short\", \"medium\", \"medium_long\", \"long\"]\n",
    "    },\n",
    "    **{\n",
    "        f\"split_{period}_close_credit_bureau_a_1_step\": SplitTableByCategoricalFeatureStep(f\"{period}_close_credit_bureau_a_1\", \"financialinstitution_382M\", [[\"P150_136_157\", \"P133_127_114\"]])\n",
    "        for period in [\"short\", \"medium\", \"medium_long\", \"long\"]\n",
    "    },\n",
    "    \"process_credit_burea_2_table\": ProcessCreditBureaua2TableStep(),\n",
    "    \"reduce_memory_usage_for_dataset\": ReduceMemoryUsageForDatasetStep(),\n",
    "    #\"one_hot_encoding\": OneHotEncodingStep(),\n",
    "    #\"pairwise_diff_raw_dates\": PairwiseDateDiffStep(),\n",
    "    \"aggregate_depth_table\": AggregateDepthTableStep(),\n",
    "    \"join_table\": JoinTablesStep(),\n",
    "    \"merge_chunked_table\": MergeChunkedTablesStep(),\n",
    "    \"drop_almost_null_features\": DropAlmostNullFeaturesStep(0.97),\n",
    "    #\"generate_age_feature\": GenerateAgeFeatureStep(),\n",
    "    \"generate_base_date_diff\": GenerateBaseDateDiffStep(base_column=\"date_decision\"),\n",
    "    \"fill_nulls_in_categorical_features\": FillNullsInCategoricalFeaturesStep(),\n",
    "    \"reduce_dimention_for_categorical_features\": ReduceDimentionForCategoricalFeaturesStep(),\n",
    "    \"reduce_memory_usage_for_dataframe\": ReduceMemoryUsageForDataFrameStep(),\n",
    "    **{\n",
    "        f\"create_money_feature_fraction_{base_column}\": CreateMoneyFeatureFractionStep(base_column)\n",
    "        for base_column in [\"credamount_770A\", \"mainoccupationinc_384A\"] # \"maininc_215A\", \"annuity_780A\"] # mean_amount_416A\n",
    "    },\n",
    "    \"drop_single_value_features\": DropSingleValueFeaturesStep(),\n",
    "    \"drop_variable_enum_features\": DropVariableEnumFeaturesStep(),\n",
    "    #\"generate_mismatch_features\": GenerateMismatchFeaturesStep(),\n",
    "    # **{\n",
    "    #     f\"generate_anomaly_feature_{use_w}_{quantile}_{threashold}\": GenerateAnomalyFeatureStep(quantile=quantile, threashold=threashold)\n",
    "    #     for quantile in [0.99, 0.97, 0.95, 0.9, 0.8, 0.7]\n",
    "    #     for threashold in [3, 2, 1.7, 1.5, 1.3]\n",
    "    #     for use_w in [True, False]\n",
    "    # },\n",
    "    \"reduce_memory_usage_for_dataframe_final\": ReduceMemoryUsageForDataFrameStep()\n",
    "})"
   ]
  },
  {
   "cell_type": "markdown",
   "id": "aeecc422",
   "metadata": {
    "papermill": {
     "duration": 0.004812,
     "end_time": "2024-05-06T16:23:29.423666",
     "exception": false,
     "start_time": "2024-05-06T16:23:29.418854",
     "status": "completed"
    },
    "tags": []
   },
   "source": [
    "## Process train dataset"
   ]
  },
  {
   "cell_type": "code",
   "execution_count": 6,
   "id": "35694813",
   "metadata": {
    "execution": {
     "iopub.execute_input": "2024-05-06T16:23:29.436475Z",
     "iopub.status.busy": "2024-05-06T16:23:29.436053Z",
     "iopub.status.idle": "2024-05-06T16:58:39.399793Z",
     "shell.execute_reply": "2024-05-06T16:58:39.397549Z"
    },
    "papermill": {
     "duration": 2109.974367,
     "end_time": "2024-05-06T16:58:39.403795",
     "exception": false,
     "start_time": "2024-05-06T16:23:29.429428",
     "status": "completed"
    },
    "tags": []
   },
   "outputs": [
    {
     "name": "stdout",
     "output_type": "stream",
     "text": [
      "Step: set_column_info_step\n",
      "Step: set_types\n",
      "Step: drop_composite_features\n",
      "Step: create_day_feature\n",
      "Step: process_categorical\n",
      "Step: process_person_table\n",
      "Step: process_static_0_table\n",
      "Step: process_tax_regestry_a1_table\n",
      "Step: process_tax_regestry_b1_table\n",
      "Step: process_tax_regestry_c1_table\n",
      "Step: split_active_close_credit_burea_1_table\n",
      "Step: split_active_credit_bureau_a_1_by_credit_duration\n",
      "Step: split_close_credit_bureau_a_1_by_credit_duration\n",
      "Step: split_short_active_credit_bureau_a_1_step\n",
      "Step: split_medium_active_credit_bureau_a_1_step\n",
      "Step: split_medium_long_active_credit_bureau_a_1_step\n",
      "Step: split_long_active_credit_bureau_a_1_step\n",
      "Step: split_short_close_credit_bureau_a_1_step\n",
      "Step: split_medium_close_credit_bureau_a_1_step\n",
      "Step: split_medium_long_close_credit_bureau_a_1_step\n",
      "Step: split_long_close_credit_bureau_a_1_step\n",
      "Step: process_credit_burea_2_table\n",
      "Step: reduce_memory_usage_for_dataset\n",
      "Step: aggregate_depth_table\n",
      "Step: join_table\n",
      "Step: merge_chunked_table\n",
      "Step: drop_almost_null_features\n",
      "Step: generate_base_date_diff\n",
      "Step: fill_nulls_in_categorical_features\n",
      "Step: reduce_dimention_for_categorical_features\n",
      "Step: reduce_memory_usage_for_dataframe\n",
      "Step: create_money_feature_fraction_credamount_770A\n",
      "Step: create_money_feature_fraction_mainoccupationinc_384A\n",
      "Step: drop_single_value_features\n",
      "Step: drop_variable_enum_features\n",
      "Step: reduce_memory_usage_for_dataframe_final\n",
      "Drop composite features ['lastapprcommoditycat_1041M', 'lastapprcommoditytypec_5251766M', 'lastcancelreason_561M', 'lastrejectcommoditycat_161M', 'lastrejectcommodtypec_5251769M', 'lastrejectreason_759M', 'lastrejectreasonclient_4145040M', 'previouscontdistrict_112M', 'contaddr_district_15M', 'contaddr_zipcode_807M', 'education_927M', 'empladdr_district_926M', 'empladdr_zipcode_114M', 'language1_981M', 'registaddr_district_1083M', 'registaddr_zipcode_184M', 'cancelreason_3545846M', 'district_544M', 'education_1138M', 'postype_4733339M', 'profession_152M', 'rejectreason_755M', 'rejectreasonclient_4145042M']\n",
      "Generate 942 columns as aggregates\n",
      "Generate 942 columns as aggregates\n",
      "Generate 942 columns as aggregates\n",
      "Generate 942 columns as aggregates\n",
      "Generate 942 columns as aggregates\n",
      "Generate 942 columns as aggregates\n",
      "Generate 942 columns as aggregates\n",
      "Generate 942 columns as aggregates\n",
      "Generate 942 columns as aggregates\n",
      "Generate 942 columns as aggregates\n",
      "Generate 942 columns as aggregates\n",
      "Generate 942 columns as aggregates\n",
      "Generate 942 columns as aggregates\n",
      "Generate 942 columns as aggregates\n",
      "Generate 942 columns as aggregates\n",
      "Generate 942 columns as aggregates\n",
      "Drop 229 columns as almost null\n",
      "Columns to drop ['birthdate_87D', 'childnum_185L', 'clientscnt_136L', 'count_financialinstitution_591M_Home_Credit_short_active_credit_bureau_a_1', 'count_num_group1_Home_Credit_short_active_credit_bureau_a_1', 'count_purposeofcred_426M_Home_Credit_short_active_credit_bureau_a_1', 'count_subjectrole_182M_Home_Credit_short_active_credit_bureau_a_1', 'dateofbirth_342D', 'deferredmnthsnum_166L', 'equalityempfrom_62L', 'for3years_128L', 'for3years_504L', 'for3years_584L', 'formonth_118L', 'formonth_206L', 'formonth_535L', 'forquarter_1017L', 'forquarter_462L', 'forquarter_634L', 'fortoday_1092L', 'forweek_1077L', 'forweek_528L', 'forweek_601L', 'foryear_618L', 'foryear_818L', 'foryear_850L', 'housingtype_772L', 'interestrategrace_34L', 'isbidproductrequest_292L', 'isreference_387L', 'lastdependentsnum_448L', 'lastotherinc_902A', 'lastotherlnsexpense_631A', 'lastrepayingdate_696D', 'max_birth_259D', 'max_birthdate_87D', 'max_childnum_185L', 'max_contaddr_matchlist_1032L', 'max_contaddr_smempladdr_334L', 'max_contractsum_5085717L_Home_Credit_medium_active_credit_bureau_a_1', 'max_contractsum_5085717L_Home_Credit_medium_long_active_credit_bureau_a_1', 'max_contractsum_5085717L_Home_Credit_short_active_credit_bureau_a_1', 'max_credit_duration_Home_Credit_short_active_credit_bureau_a_1', 'max_credlmt_230A_P150_136_157_medium_close_credit_bureau_a_1', 'max_credlmt_230A_P150_136_157_medium_long_close_credit_bureau_a_1', 'max_credlmt_230A_P150_136_157_short_close_credit_bureau_a_1', 'max_credlmt_935A_Home_Credit_medium_active_credit_bureau_a_1', 'max_credlmt_935A_Home_Credit_medium_long_active_credit_bureau_a_1', 'max_credlmt_935A_Home_Credit_short_active_credit_bureau_a_1', 'max_dateofcredend_289D_Home_Credit_short_active_credit_bureau_a_1', 'max_dateofcredstart_739D_Home_Credit_short_active_credit_bureau_a_1', 'max_dpdmaxdatemonth_89T_Home_Credit_short_active_credit_bureau_a_1', 'max_empl_employedfrom_271D', 'max_empl_employedtotal_800L', 'max_empl_industry_691L', 'max_familystate_447L', 'max_financialinstitution_591M_Home_Credit_short_active_credit_bureau_a_1', 'max_gender_992L', 'max_housetype_905L', 'max_housingtype_772L', 'max_incometype_1044T', 'max_instlamount_768A_Home_Credit_medium_active_credit_bureau_a_1', 'max_instlamount_768A_Home_Credit_medium_long_active_credit_bureau_a_1', 'max_instlamount_768A_Home_Credit_short_active_credit_bureau_a_1', 'max_instlamount_852A_P150_136_157_medium_close_credit_bureau_a_1', 'max_instlamount_852A_P150_136_157_medium_long_close_credit_bureau_a_1', 'max_instlamount_852A_P150_136_157_short_close_credit_bureau_a_1', 'max_isreference_387L', 'max_lastupdate_1112D_Home_Credit_short_active_credit_bureau_a_1', 'max_mainoccupationinc_384A', 'max_maritalst_703L', 'max_monthlyinstlamount_332A_Home_Credit_short_active_credit_bureau_a_1', 'max_nominalrate_498L_P150_136_157_medium_close_credit_bureau_a_1', 'max_nominalrate_498L_P150_136_157_short_close_credit_bureau_a_1', 'max_num_group1_Home_Credit_short_active_credit_bureau_a_1', 'max_numberofinstls_320L_Home_Credit_short_active_credit_bureau_a_1', 'max_numberofoverdueinstlmax_1039L_Home_Credit_short_active_credit_bureau_a_1', 'max_outstandingamount_362A_Home_Credit_short_active_credit_bureau_a_1', 'max_overdueamount_659A_Home_Credit_short_active_credit_bureau_a_1', 'max_overdueamountmax2_14A_Home_Credit_short_active_credit_bureau_a_1', 'max_overdueamountmax2date_1002D_P150_136_157_medium_close_credit_bureau_a_1', 'max_overdueamountmax2date_1002D_P150_136_157_short_close_credit_bureau_a_1', 'max_overdueamountmax2date_1142D_Home_Credit_medium_active_credit_bureau_a_1', 'max_overdueamountmax2date_1142D_Home_Credit_medium_long_active_credit_bureau_a_1', 'max_overdueamountmax2date_1142D_Home_Credit_short_active_credit_bureau_a_1', 'max_overdueamountmax_155A_Home_Credit_short_active_credit_bureau_a_1', 'max_overdueamountmaxdatemonth_365T_Home_Credit_short_active_credit_bureau_a_1', 'max_purposeofcred_426M_Home_Credit_short_active_credit_bureau_a_1', 'max_residualamount_856A_Home_Credit_medium_active_credit_bureau_a_1', 'max_residualamount_856A_Home_Credit_medium_long_active_credit_bureau_a_1', 'max_residualamount_856A_Home_Credit_short_active_credit_bureau_a_1', 'max_role_993L', 'max_safeguarantyflag_411L', 'max_sex_738L', 'max_subjectrole_182M_Home_Credit_short_active_credit_bureau_a_1', 'max_totalamount_996A_Home_Credit_short_active_credit_bureau_a_1', 'mean_birth_259D', 'mean_birthdate_87D', 'mean_childnum_185L', 'mean_contaddr_matchlist_1032L', 'mean_contaddr_smempladdr_334L', 'mean_contractsum_5085717L_Home_Credit_medium_active_credit_bureau_a_1', 'mean_contractsum_5085717L_Home_Credit_medium_long_active_credit_bureau_a_1', 'mean_contractsum_5085717L_Home_Credit_short_active_credit_bureau_a_1', 'mean_credit_duration_Home_Credit_short_active_credit_bureau_a_1', 'mean_credlmt_230A_P150_136_157_medium_close_credit_bureau_a_1', 'mean_credlmt_230A_P150_136_157_medium_long_close_credit_bureau_a_1', 'mean_credlmt_230A_P150_136_157_short_close_credit_bureau_a_1', 'mean_credlmt_935A_Home_Credit_medium_active_credit_bureau_a_1', 'mean_credlmt_935A_Home_Credit_medium_long_active_credit_bureau_a_1', 'mean_credlmt_935A_Home_Credit_short_active_credit_bureau_a_1', 'mean_dateofcredend_289D_Home_Credit_short_active_credit_bureau_a_1', 'mean_dateofcredstart_739D_Home_Credit_short_active_credit_bureau_a_1', 'mean_dpdmaxdatemonth_89T_Home_Credit_short_active_credit_bureau_a_1', 'mean_empl_employedfrom_271D', 'mean_instlamount_768A_Home_Credit_medium_active_credit_bureau_a_1', 'mean_instlamount_768A_Home_Credit_medium_long_active_credit_bureau_a_1', 'mean_instlamount_768A_Home_Credit_short_active_credit_bureau_a_1', 'mean_instlamount_852A_P150_136_157_medium_close_credit_bureau_a_1', 'mean_instlamount_852A_P150_136_157_medium_long_close_credit_bureau_a_1', 'mean_instlamount_852A_P150_136_157_short_close_credit_bureau_a_1', 'mean_isreference_387L', 'mean_lastupdate_1112D_Home_Credit_short_active_credit_bureau_a_1', 'mean_mainoccupationinc_384A', 'mean_monthlyinstlamount_332A_Home_Credit_short_active_credit_bureau_a_1', 'mean_nominalrate_498L_P150_136_157_medium_close_credit_bureau_a_1', 'mean_nominalrate_498L_P150_136_157_short_close_credit_bureau_a_1', 'mean_numberofinstls_320L_Home_Credit_short_active_credit_bureau_a_1', 'mean_numberofoverdueinstlmax_1039L_Home_Credit_short_active_credit_bureau_a_1', 'mean_outstandingamount_362A_Home_Credit_short_active_credit_bureau_a_1', 'mean_overdueamount_659A_Home_Credit_short_active_credit_bureau_a_1', 'mean_overdueamountmax2_14A_Home_Credit_short_active_credit_bureau_a_1', 'mean_overdueamountmax2date_1002D_P150_136_157_medium_close_credit_bureau_a_1', 'mean_overdueamountmax2date_1002D_P150_136_157_short_close_credit_bureau_a_1', 'mean_overdueamountmax2date_1142D_Home_Credit_medium_active_credit_bureau_a_1', 'mean_overdueamountmax2date_1142D_Home_Credit_medium_long_active_credit_bureau_a_1', 'mean_overdueamountmax2date_1142D_Home_Credit_short_active_credit_bureau_a_1', 'mean_overdueamountmax_155A_Home_Credit_short_active_credit_bureau_a_1', 'mean_overdueamountmaxdatemonth_365T_Home_Credit_short_active_credit_bureau_a_1', 'mean_residualamount_856A_Home_Credit_medium_active_credit_bureau_a_1', 'mean_residualamount_856A_Home_Credit_medium_long_active_credit_bureau_a_1', 'mean_residualamount_856A_Home_Credit_short_active_credit_bureau_a_1', 'mean_safeguarantyflag_411L', 'mean_totalamount_996A_Home_Credit_short_active_credit_bureau_a_1', 'min_birth_259D', 'min_birthdate_87D', 'min_childnum_185L', 'min_contaddr_matchlist_1032L', 'min_contaddr_smempladdr_334L', 'min_contractsum_5085717L_Home_Credit_medium_active_credit_bureau_a_1', 'min_contractsum_5085717L_Home_Credit_medium_long_active_credit_bureau_a_1', 'min_contractsum_5085717L_Home_Credit_short_active_credit_bureau_a_1', 'min_credit_duration_Home_Credit_short_active_credit_bureau_a_1', 'min_credlmt_230A_P150_136_157_medium_close_credit_bureau_a_1', 'min_credlmt_230A_P150_136_157_medium_long_close_credit_bureau_a_1', 'min_credlmt_230A_P150_136_157_short_close_credit_bureau_a_1', 'min_credlmt_935A_Home_Credit_medium_active_credit_bureau_a_1', 'min_credlmt_935A_Home_Credit_medium_long_active_credit_bureau_a_1', 'min_credlmt_935A_Home_Credit_short_active_credit_bureau_a_1', 'min_dateofcredend_289D_Home_Credit_short_active_credit_bureau_a_1', 'min_dateofcredstart_739D_Home_Credit_short_active_credit_bureau_a_1', 'min_dpdmaxdatemonth_89T_Home_Credit_short_active_credit_bureau_a_1', 'min_empl_employedfrom_271D', 'min_empl_employedtotal_800L', 'min_empl_industry_691L', 'min_familystate_447L', 'min_financialinstitution_591M_Home_Credit_short_active_credit_bureau_a_1', 'min_gender_992L', 'min_housetype_905L', 'min_housingtype_772L', 'min_incometype_1044T', 'min_instlamount_768A_Home_Credit_medium_active_credit_bureau_a_1', 'min_instlamount_768A_Home_Credit_medium_long_active_credit_bureau_a_1', 'min_instlamount_768A_Home_Credit_short_active_credit_bureau_a_1', 'min_instlamount_852A_P150_136_157_medium_close_credit_bureau_a_1', 'min_instlamount_852A_P150_136_157_medium_long_close_credit_bureau_a_1', 'min_instlamount_852A_P150_136_157_short_close_credit_bureau_a_1', 'min_isreference_387L', 'min_lastupdate_1112D_Home_Credit_short_active_credit_bureau_a_1', 'min_mainoccupationinc_384A', 'min_maritalst_703L', 'min_monthlyinstlamount_332A_Home_Credit_short_active_credit_bureau_a_1', 'min_nominalrate_498L_P150_136_157_medium_close_credit_bureau_a_1', 'min_nominalrate_498L_P150_136_157_short_close_credit_bureau_a_1', 'min_num_group1_Home_Credit_short_active_credit_bureau_a_1', 'min_numberofinstls_320L_Home_Credit_short_active_credit_bureau_a_1', 'min_numberofoverdueinstlmax_1039L_Home_Credit_short_active_credit_bureau_a_1', 'min_outstandingamount_362A_Home_Credit_short_active_credit_bureau_a_1', 'min_overdueamount_659A_Home_Credit_short_active_credit_bureau_a_1', 'min_overdueamountmax2_14A_Home_Credit_short_active_credit_bureau_a_1', 'min_overdueamountmax2date_1002D_P150_136_157_medium_close_credit_bureau_a_1', 'min_overdueamountmax2date_1002D_P150_136_157_short_close_credit_bureau_a_1', 'min_overdueamountmax2date_1142D_Home_Credit_medium_active_credit_bureau_a_1', 'min_overdueamountmax2date_1142D_Home_Credit_medium_long_active_credit_bureau_a_1', 'min_overdueamountmax2date_1142D_Home_Credit_short_active_credit_bureau_a_1', 'min_overdueamountmax_155A_Home_Credit_short_active_credit_bureau_a_1', 'min_overdueamountmaxdatemonth_365T_Home_Credit_short_active_credit_bureau_a_1', 'min_purposeofcred_426M_Home_Credit_short_active_credit_bureau_a_1', 'min_residualamount_856A_Home_Credit_medium_active_credit_bureau_a_1', 'min_residualamount_856A_Home_Credit_medium_long_active_credit_bureau_a_1', 'min_residualamount_856A_Home_Credit_short_active_credit_bureau_a_1', 'min_role_993L', 'min_safeguarantyflag_411L', 'min_sex_738L', 'min_subjectrole_182M_Home_Credit_short_active_credit_bureau_a_1', 'min_totalamount_996A_Home_Credit_short_active_credit_bureau_a_1', 'mode_empl_employedtotal_800L', 'mode_empl_industry_691L', 'mode_familystate_447L', 'mode_financialinstitution_591M_Home_Credit_short_active_credit_bureau_a_1', 'mode_gender_992L', 'mode_housetype_905L', 'mode_housingtype_772L', 'mode_incometype_1044T', 'mode_maritalst_703L', 'mode_purposeofcred_426M_Home_Credit_short_active_credit_bureau_a_1', 'mode_role_993L', 'mode_sex_738L', 'mode_subjectrole_182M_Home_Credit_short_active_credit_bureau_a_1', 'n_unique_financialinstitution_591M_Home_Credit_short_active_credit_bureau_a_1', 'n_unique_purposeofcred_426M_Home_Credit_short_active_credit_bureau_a_1', 'n_unique_subjectrole_182M_Home_Credit_short_active_credit_bureau_a_1', 'payvacationpostpone_4187118D', 'personindex_1023L', 'persontype_1072L', 'persontype_792L', 'relationshiptoclient_415T', 'relationshiptoclient_642T', 'remitter_829L']\n",
      "Create 113 new date diff columns, with base_column=date_decision\n",
      "Create 220 new columns as money feature fraction with base 'credamount_770A'\n",
      "Create 220 new columns as money feature fraction with base 'mainoccupationinc_384A'\n",
      "Drop 1 columns as single value, columns: ['num_group1']\n",
      "Drop 0 columns as variable enum value\n"
     ]
    },
    {
     "data": {
      "text/plain": [
       "0"
      ]
     },
     "execution_count": 6,
     "metadata": {},
     "output_type": "execute_result"
    }
   ],
   "source": [
    "train_dataset_generator = data_loader.load_train_dataset(chunk_size=100000)\n",
    "gc.collect()\n",
    "train_df, columns_info = preprocessor.process_train_dataset(train_dataset_generator)\n",
    "del train_dataset_generator\n",
    "gc.collect()"
   ]
  },
  {
   "cell_type": "code",
   "execution_count": 7,
   "id": "76a07ef3",
   "metadata": {
    "execution": {
     "iopub.execute_input": "2024-05-06T16:58:39.424819Z",
     "iopub.status.busy": "2024-05-06T16:58:39.424346Z",
     "iopub.status.idle": "2024-05-06T16:59:19.365485Z",
     "shell.execute_reply": "2024-05-06T16:59:19.364183Z"
    },
    "papermill": {
     "duration": 39.964594,
     "end_time": "2024-05-06T16:59:19.377789",
     "exception": false,
     "start_time": "2024-05-06T16:58:39.413195",
     "status": "completed"
    },
    "tags": []
   },
   "outputs": [
    {
     "name": "stdout",
     "output_type": "stream",
     "text": [
      "8421.50950717926\n",
      "shape: (1_526_659, 1_512)\n",
      "┌────────┬──────────┬────────────┬────────────┬───┬────────────┬───────────┬───────────┬───────────┐\n",
      "│ MONTH  ┆ WEEK_NUM ┆ actualdpdt ┆ amtinstpai ┆ … ┆ sumoutstan ┆ totaldebt ┆ totalsett ┆ totinstal │\n",
      "│ ---    ┆ ---      ┆ olerance_3 ┆ dbefduel24 ┆   ┆ dtotalest_ ┆ _9A/maino ┆ led_863A/ ┆ last1m_45 │\n",
      "│ i64    ┆ i64      ┆ 44P        ┆ m_4187115A ┆   ┆ 4493215A/m ┆ ccupation ┆ mainoccup ┆ 25188A/ma │\n",
      "│        ┆          ┆ ---        ┆ ---        ┆   ┆ ai…        ┆ inc_3…    ┆ ation…    ┆ inocc…    │\n",
      "│        ┆          ┆ f32        ┆ f32        ┆   ┆ ---        ┆ ---       ┆ ---       ┆ ---       │\n",
      "│        ┆          ┆            ┆            ┆   ┆ f32        ┆ f32       ┆ f32       ┆ f32       │\n",
      "╞════════╪══════════╪════════════╪════════════╪═══╪════════════╪═══════════╪═══════════╪═══════════╡\n",
      "│ 201901 ┆ 0        ┆ null       ┆ null       ┆ … ┆ null       ┆ 0.0       ┆ 0.0       ┆ null      │\n",
      "│ 201901 ┆ 0        ┆ null       ┆ null       ┆ … ┆ null       ┆ 0.0       ┆ 0.0       ┆ null      │\n",
      "│ 201901 ┆ 0        ┆ null       ┆ null       ┆ … ┆ null       ┆ 0.0       ┆ 0.0       ┆ null      │\n",
      "│ 201901 ┆ 0        ┆ null       ┆ null       ┆ … ┆ null       ┆ 0.0       ┆ 0.0       ┆ null      │\n",
      "│ 201901 ┆ 0        ┆ null       ┆ null       ┆ … ┆ null       ┆ 0.0       ┆ 0.0       ┆ null      │\n",
      "│ …      ┆ …        ┆ …          ┆ …          ┆ … ┆ …          ┆ …         ┆ …         ┆ …         │\n",
      "│ 202010 ┆ 91       ┆ 0.0        ┆ 176561.359 ┆ … ┆ 0.0        ┆ 0.0       ┆ 10.703991 ┆ 0.358658  │\n",
      "│        ┆          ┆            ┆ 375        ┆   ┆            ┆           ┆           ┆           │\n",
      "│ 202010 ┆ 91       ┆ 0.0        ┆ 301276.468 ┆ … ┆ 1.8505     ┆ 1.8505    ┆ 19.055634 ┆ 1.100538  │\n",
      "│        ┆          ┆            ┆ 75         ┆   ┆            ┆           ┆           ┆           │\n",
      "│ 202010 ┆ 91       ┆ 0.0        ┆ 14232.4003 ┆ … ┆ 0.0        ┆ 0.0       ┆ 0.800067  ┆ null      │\n",
      "│        ┆          ┆            ┆ 91         ┆   ┆            ┆           ┆           ┆           │\n",
      "│ 202010 ┆ 91       ┆ 0.0        ┆ 197371.578 ┆ … ┆ 1.56022    ┆ 1.56022   ┆ 14.671511 ┆ 0.18848   │\n",
      "│        ┆          ┆            ┆ 125        ┆   ┆            ┆           ┆           ┆           │\n",
      "│ 202010 ┆ 91       ┆ 0.0        ┆ 82949.6015 ┆ … ┆ 0.226376   ┆ 0.150234  ┆ 2.360395  ┆ 0.075807  │\n",
      "│        ┆          ┆            ┆ 62         ┆   ┆            ┆           ┆           ┆           │\n",
      "└────────┴──────────┴────────────┴────────────┴───┴────────────┴───────────┴───────────┴───────────┘\n"
     ]
    },
    {
     "data": {
      "text/plain": [
       "0"
      ]
     },
     "execution_count": 7,
     "metadata": {},
     "output_type": "execute_result"
    }
   ],
   "source": [
    "train_df.write_parquet(env.output_directory / \"train_df.parquet\")\n",
    "pickle.dump(columns_info, open(env.output_directory / \"columns_info.pkl\", \"wb\"))\n",
    "print(train_df.estimated_size() / 1024 / 1024)\n",
    "print(train_df)\n",
    "\n",
    "del train_df\n",
    "gc.collect()"
   ]
  },
  {
   "cell_type": "code",
   "execution_count": 8,
   "id": "dadaf9a2",
   "metadata": {
    "execution": {
     "iopub.execute_input": "2024-05-06T16:59:19.399987Z",
     "iopub.status.busy": "2024-05-06T16:59:19.399536Z",
     "iopub.status.idle": "2024-05-06T16:59:19.829282Z",
     "shell.execute_reply": "2024-05-06T16:59:19.827880Z"
    },
    "papermill": {
     "duration": 0.444914,
     "end_time": "2024-05-06T16:59:19.832295",
     "exception": false,
     "start_time": "2024-05-06T16:59:19.387381",
     "status": "completed"
    },
    "tags": []
   },
   "outputs": [],
   "source": [
    "pickle.dump(data_loader, open(env.output_directory / \"data_loader.pkl\", \"wb\"))\n",
    "pickle.dump(preprocessor, open(env.output_directory / \"preprocessor.pkl\", \"wb\"))"
   ]
  },
  {
   "cell_type": "code",
   "execution_count": 9,
   "id": "9e6e647e",
   "metadata": {
    "execution": {
     "iopub.execute_input": "2024-05-06T16:59:19.856647Z",
     "iopub.status.busy": "2024-05-06T16:59:19.855223Z",
     "iopub.status.idle": "2024-05-06T16:59:20.132604Z",
     "shell.execute_reply": "2024-05-06T16:59:20.129918Z"
    },
    "papermill": {
     "duration": 0.293289,
     "end_time": "2024-05-06T16:59:20.135918",
     "exception": false,
     "start_time": "2024-05-06T16:59:19.842629",
     "status": "completed"
    },
    "tags": []
   },
   "outputs": [],
   "source": [
    "%reset -sf"
   ]
  },
  {
   "cell_type": "markdown",
   "id": "550eb32f",
   "metadata": {
    "papermill": {
     "duration": 0.011149,
     "end_time": "2024-05-06T16:59:20.160920",
     "exception": false,
     "start_time": "2024-05-06T16:59:20.149771",
     "status": "completed"
    },
    "tags": []
   },
   "source": [
    "## Process test dataset"
   ]
  },
  {
   "cell_type": "code",
   "execution_count": 10,
   "id": "b83de1f3",
   "metadata": {
    "execution": {
     "iopub.execute_input": "2024-05-06T16:59:20.187974Z",
     "iopub.status.busy": "2024-05-06T16:59:20.185550Z",
     "iopub.status.idle": "2024-05-06T16:59:20.193918Z",
     "shell.execute_reply": "2024-05-06T16:59:20.193049Z"
    },
    "papermill": {
     "duration": 0.023508,
     "end_time": "2024-05-06T16:59:20.196621",
     "exception": false,
     "start_time": "2024-05-06T16:59:20.173113",
     "status": "completed"
    },
    "tags": []
   },
   "outputs": [],
   "source": [
    "import polars as pl\n",
    "import gc\n",
    "import pickle\n",
    "\n",
    "import kaggle_home_credit_risk_model_stability.libs as hcr\n",
    "from kaggle_home_credit_risk_model_stability.libs.env import Env\n",
    "from kaggle_home_credit_risk_model_stability.libs.input.dataset import Dataset\n",
    "from kaggle_home_credit_risk_model_stability.libs.input.data_loader import DataLoader\n",
    "from kaggle_home_credit_risk_model_stability.libs.preprocessor.preprocessor import Preprocessor\n",
    "from kaggle_home_credit_risk_model_stability.libs.preprocessor.steps import *\n",
    "from kaggle_home_credit_risk_model_stability.libs.preprocessor.columns_info import ColumnsInfo"
   ]
  },
  {
   "cell_type": "code",
   "execution_count": 11,
   "id": "91694bd9",
   "metadata": {
    "execution": {
     "iopub.execute_input": "2024-05-06T16:59:20.223336Z",
     "iopub.status.busy": "2024-05-06T16:59:20.222697Z",
     "iopub.status.idle": "2024-05-06T16:59:20.729839Z",
     "shell.execute_reply": "2024-05-06T16:59:20.728449Z"
    },
    "papermill": {
     "duration": 0.524021,
     "end_time": "2024-05-06T16:59:20.733146",
     "exception": false,
     "start_time": "2024-05-06T16:59:20.209125",
     "status": "completed"
    },
    "tags": []
   },
   "outputs": [],
   "source": [
    "env = Env(\n",
    "    \"/kaggle/input/\",\n",
    "    \"/kaggle/working/\"\n",
    ")\n",
    "data_loader = pickle.load(open(env.output_directory / \"data_loader.pkl\", \"rb\"))\n",
    "preprocessor = pickle.load(open(env.output_directory / \"preprocessor.pkl\", \"rb\"))"
   ]
  },
  {
   "cell_type": "code",
   "execution_count": 12,
   "id": "e1d58cc9",
   "metadata": {
    "execution": {
     "iopub.execute_input": "2024-05-06T16:59:20.755829Z",
     "iopub.status.busy": "2024-05-06T16:59:20.755415Z",
     "iopub.status.idle": "2024-05-06T16:59:44.943522Z",
     "shell.execute_reply": "2024-05-06T16:59:44.942269Z"
    },
    "papermill": {
     "duration": 24.20272,
     "end_time": "2024-05-06T16:59:44.946073",
     "exception": false,
     "start_time": "2024-05-06T16:59:20.743353",
     "status": "completed"
    },
    "tags": []
   },
   "outputs": [
    {
     "name": "stdout",
     "output_type": "stream",
     "text": [
      "Step: set_column_info_step\n",
      "Step: set_types\n",
      "Step: drop_composite_features\n",
      "Step: create_day_feature\n",
      "Step: process_categorical\n",
      "Step: process_person_table\n",
      "Step: process_static_0_table\n",
      "Step: process_tax_regestry_a1_table\n",
      "Step: process_tax_regestry_b1_table\n",
      "Step: process_tax_regestry_c1_table\n",
      "Step: split_active_close_credit_burea_1_table\n",
      "Step: split_active_credit_bureau_a_1_by_credit_duration\n",
      "Step: split_close_credit_bureau_a_1_by_credit_duration\n",
      "Step: split_short_active_credit_bureau_a_1_step\n",
      "Step: split_medium_active_credit_bureau_a_1_step\n",
      "Step: split_medium_long_active_credit_bureau_a_1_step\n",
      "Step: split_long_active_credit_bureau_a_1_step\n",
      "Step: split_short_close_credit_bureau_a_1_step\n",
      "Step: split_medium_close_credit_bureau_a_1_step\n",
      "Step: split_medium_long_close_credit_bureau_a_1_step\n",
      "Step: split_long_close_credit_bureau_a_1_step\n",
      "Step: process_credit_burea_2_table\n",
      "Step: reduce_memory_usage_for_dataset\n",
      "Step: aggregate_depth_table\n",
      "Step: join_table\n",
      "Step: merge_chunked_table\n",
      "Step: drop_almost_null_features\n",
      "Step: generate_base_date_diff\n",
      "Step: fill_nulls_in_categorical_features\n",
      "Step: reduce_dimention_for_categorical_features\n",
      "Step: reduce_memory_usage_for_dataframe\n",
      "Step: create_money_feature_fraction_credamount_770A\n",
      "Step: create_money_feature_fraction_mainoccupationinc_384A\n",
      "Step: drop_single_value_features\n",
      "Step: drop_variable_enum_features\n",
      "Step: reduce_memory_usage_for_dataframe_final\n",
      "Generate 942 columns as aggregates\n",
      "Create 113 new date diff columns, with base_column=date_decision\n",
      "Create 220 new columns as money feature fraction with base 'credamount_770A'\n",
      "Create 220 new columns as money feature fraction with base 'mainoccupationinc_384A'\n",
      "Drop 1 columns as single value, columns: ['num_group1']\n"
     ]
    },
    {
     "data": {
      "text/plain": [
       "0"
      ]
     },
     "execution_count": 12,
     "metadata": {},
     "output_type": "execute_result"
    }
   ],
   "source": [
    "test_dataset_generator = data_loader.load_test_dataset(chunk_size=100000)\n",
    "gc.collect()\n",
    "test_df, columns_info = preprocessor.process_test_dataset(test_dataset_generator)\n",
    "del test_dataset_generator\n",
    "gc.collect()"
   ]
  },
  {
   "cell_type": "code",
   "execution_count": 13,
   "id": "23d38930",
   "metadata": {
    "execution": {
     "iopub.execute_input": "2024-05-06T16:59:44.975380Z",
     "iopub.status.busy": "2024-05-06T16:59:44.974916Z",
     "iopub.status.idle": "2024-05-06T16:59:45.489631Z",
     "shell.execute_reply": "2024-05-06T16:59:45.487985Z"
    },
    "papermill": {
     "duration": 0.532923,
     "end_time": "2024-05-06T16:59:45.492782",
     "exception": false,
     "start_time": "2024-05-06T16:59:44.959859",
     "status": "completed"
    },
    "tags": []
   },
   "outputs": [
    {
     "name": "stdout",
     "output_type": "stream",
     "text": [
      "0.0733785629272461\n",
      "shape: (10, 1_511)\n",
      "┌────────┬──────────┬────────────┬────────────┬───┬────────────┬───────────┬───────────┬───────────┐\n",
      "│ MONTH  ┆ WEEK_NUM ┆ actualdpdt ┆ amtinstpai ┆ … ┆ sumoutstan ┆ totaldebt ┆ totalsett ┆ totinstal │\n",
      "│ ---    ┆ ---      ┆ olerance_3 ┆ dbefduel24 ┆   ┆ dtotalest_ ┆ _9A/maino ┆ led_863A/ ┆ last1m_45 │\n",
      "│ i64    ┆ i64      ┆ 44P        ┆ m_4187115A ┆   ┆ 4493215A/m ┆ ccupation ┆ mainoccup ┆ 25188A/ma │\n",
      "│        ┆          ┆ ---        ┆ ---        ┆   ┆ ai…        ┆ inc_3…    ┆ ation…    ┆ inocc…    │\n",
      "│        ┆          ┆ f32        ┆ f32        ┆   ┆ ---        ┆ ---       ┆ ---       ┆ ---       │\n",
      "│        ┆          ┆            ┆            ┆   ┆ f32        ┆ f32       ┆ f32       ┆ f32       │\n",
      "╞════════╪══════════╪════════════╪════════════╪═══╪════════════╪═══════════╪═══════════╪═══════════╡\n",
      "│ 202201 ┆ 100      ┆ 0.0        ┆ 191767.359 ┆ … ┆ 0.357482   ┆ 0.357482  ┆ 13.41268  ┆ 0.525282  │\n",
      "│        ┆          ┆            ┆ 375        ┆   ┆            ┆           ┆           ┆           │\n",
      "│ 202201 ┆ 100      ┆ 0.0        ┆ 129704.398 ┆ … ┆ 0.213618   ┆ 0.213618  ┆ 7.504435  ┆ 2.531285  │\n",
      "│        ┆          ┆            ┆ 438        ┆   ┆            ┆           ┆           ┆           │\n",
      "│ 202201 ┆ 100      ┆ 0.0        ┆ 71036.3984 ┆ … ┆ 0.0        ┆ 0.0       ┆ 1.262064  ┆ null      │\n",
      "│        ┆          ┆            ┆ 38         ┆   ┆            ┆           ┆           ┆           │\n",
      "│ 202201 ┆ 100      ┆ 0.0        ┆ 183992.0   ┆ … ┆ 1.707764   ┆ 1.707764  ┆ 2.537616  ┆ 0.168652  │\n",
      "│ 202201 ┆ 100      ┆ 0.0        ┆ 0.0        ┆ … ┆ 0.0        ┆ 0.0       ┆ 1.643938  ┆ null      │\n",
      "│ 202201 ┆ 100      ┆ 0.0        ┆ 0.0        ┆ … ┆ 0.0        ┆ 0.0       ┆ 0.161293  ┆ null      │\n",
      "│ 202201 ┆ 100      ┆ 0.0        ┆ null       ┆ … ┆ null       ┆ null      ┆ null      ┆ null      │\n",
      "│ 202201 ┆ 100      ┆ 0.0        ┆ 63647.4023 ┆ … ┆ null       ┆ null      ┆ null      ┆ null      │\n",
      "│        ┆          ┆            ┆ 44         ┆   ┆            ┆           ┆           ┆           │\n",
      "│ 202201 ┆ 100      ┆ 0.0        ┆ null       ┆ … ┆ null       ┆ null      ┆ null      ┆ null      │\n",
      "│ 202201 ┆ 100      ┆ 0.0        ┆ 39948.8007 ┆ … ┆ null       ┆ null      ┆ null      ┆ null      │\n",
      "│        ┆          ┆            ┆ 81         ┆   ┆            ┆           ┆           ┆           │\n",
      "└────────┴──────────┴────────────┴────────────┴───┴────────────┴───────────┴───────────┴───────────┘\n"
     ]
    },
    {
     "data": {
      "text/plain": [
       "0"
      ]
     },
     "execution_count": 13,
     "metadata": {},
     "output_type": "execute_result"
    }
   ],
   "source": [
    "test_df.write_parquet(env.output_directory / \"test_df.parquet\")\n",
    "print(test_df.estimated_size() / 1024 / 1024)\n",
    "print(test_df)\n",
    "\n",
    "del test_df\n",
    "gc.collect()"
   ]
  }
 ],
 "metadata": {
  "kaggle": {
   "accelerator": "none",
   "dataSources": [
    {
     "databundleVersionId": 7921029,
     "sourceId": 50160,
     "sourceType": "competition"
    },
    {
     "datasetId": 4832722,
     "sourceId": 8166831,
     "sourceType": "datasetVersion"
    },
    {
     "datasetId": 4496896,
     "sourceId": 8333793,
     "sourceType": "datasetVersion"
    }
   ],
   "dockerImageVersionId": 30635,
   "isGpuEnabled": false,
   "isInternetEnabled": false,
   "language": "python",
   "sourceType": "notebook"
  },
  "kernelspec": {
   "display_name": "Python 3",
   "language": "python",
   "name": "python3"
  },
  "language_info": {
   "codemirror_mode": {
    "name": "ipython",
    "version": 3
   },
   "file_extension": ".py",
   "mimetype": "text/x-python",
   "name": "python",
   "nbconvert_exporter": "python",
   "pygments_lexer": "ipython3",
   "version": "3.10.12"
  },
  "papermill": {
   "default_parameters": {},
   "duration": 2271.135222,
   "end_time": "2024-05-06T16:59:46.537185",
   "environment_variables": {},
   "exception": null,
   "input_path": "__notebook__.ipynb",
   "output_path": "__notebook__.ipynb",
   "parameters": {},
   "start_time": "2024-05-06T16:21:55.401963",
   "version": "2.4.0"
  }
 },
 "nbformat": 4,
 "nbformat_minor": 5
}
