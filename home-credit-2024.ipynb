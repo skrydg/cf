{
 "cells": [
  {
   "cell_type": "markdown",
   "id": "5250f170",
   "metadata": {
    "papermill": {
     "duration": 0.017721,
     "end_time": "2024-03-24T14:34:02.924344",
     "exception": false,
     "start_time": "2024-03-24T14:34:02.906623",
     "status": "completed"
    },
    "tags": []
   },
   "source": [
    "# Install packages"
   ]
  },
  {
   "cell_type": "code",
   "execution_count": 1,
   "id": "145df27b",
   "metadata": {
    "execution": {
     "iopub.execute_input": "2024-03-24T14:34:02.963786Z",
     "iopub.status.busy": "2024-03-24T14:34:02.963357Z",
     "iopub.status.idle": "2024-03-24T14:34:39.220971Z",
     "shell.execute_reply": "2024-03-24T14:34:39.219276Z"
    },
    "papermill": {
     "duration": 36.280372,
     "end_time": "2024-03-24T14:34:39.224256",
     "exception": false,
     "start_time": "2024-03-24T14:34:02.943884",
     "status": "completed"
    },
    "tags": []
   },
   "outputs": [
    {
     "name": "stdout",
     "output_type": "stream",
     "text": [
      "Processing /kaggle/input/kaggle-home-credit-risk-model-stability-lib/kaggle_home_credit_risk_model_stability-0.3-py3-none-any.whl\r\n",
      "Installing collected packages: kaggle-home-credit-risk-model-stability\r\n",
      "Successfully installed kaggle-home-credit-risk-model-stability-0.3\r\n"
     ]
    }
   ],
   "source": [
    "!pip install /kaggle/input/kaggle-home-credit-risk-model-stability-lib/kaggle_home_credit_risk_model_stability-0.3-py3-none-any.whl --force-reinstall"
   ]
  },
  {
   "cell_type": "markdown",
   "id": "8c6b31fe",
   "metadata": {
    "papermill": {
     "duration": 0.017649,
     "end_time": "2024-03-24T14:34:39.260288",
     "exception": false,
     "start_time": "2024-03-24T14:34:39.242639",
     "status": "completed"
    },
    "tags": []
   },
   "source": [
    "# Import packages"
   ]
  },
  {
   "cell_type": "code",
   "execution_count": 2,
   "id": "3d506871",
   "metadata": {
    "execution": {
     "iopub.execute_input": "2024-03-24T14:34:39.300165Z",
     "iopub.status.busy": "2024-03-24T14:34:39.299603Z",
     "iopub.status.idle": "2024-03-24T14:34:44.429817Z",
     "shell.execute_reply": "2024-03-24T14:34:44.428766Z"
    },
    "papermill": {
     "duration": 5.154025,
     "end_time": "2024-03-24T14:34:44.433337",
     "exception": false,
     "start_time": "2024-03-24T14:34:39.279312",
     "status": "completed"
    },
    "tags": []
   },
   "outputs": [],
   "source": [
    "import polars as pl\n",
    "import gc\n",
    "import time\n",
    "import numpy as np\n",
    "import pandas as pd\n",
    "import lightgbm as lgb\n",
    "import seaborn as sns\n",
    "import matplotlib.pyplot as plt\n",
    "import copy\n",
    "import lightgbm as lgb\n",
    "import importlib\n",
    "import pickle\n",
    "import argparse\n",
    "\n",
    "import kaggle_home_credit_risk_model_stability.libs as hcr\n",
    "from kaggle_home_credit_risk_model_stability.libs.env import Env\n",
    "from kaggle_home_credit_risk_model_stability.libs.input.dataset import Dataset\n",
    "from kaggle_home_credit_risk_model_stability.libs.input.data_loader import DataLoader\n",
    "from kaggle_home_credit_risk_model_stability.libs.preprocessor.preprocessor import Preprocessor\n",
    "from kaggle_home_credit_risk_model_stability.libs.preprocessor.steps import *\n",
    "from kaggle_home_credit_risk_model_stability.libs.preprocessor.columns_info import ColumnsInfo\n",
    "from kaggle_home_credit_risk_model_stability.libs.feature_description.feature_description import FreatureDescriptionGetter\n",
    "\n",
    "from collections import defaultdict\n",
    "from glob import glob\n",
    "from pathlib import Path\n",
    "from sklearn.model_selection import train_test_split\n",
    "from sklearn.metrics import roc_auc_score\n",
    "from sklearn.model_selection import StratifiedGroupKFold\n",
    "from sklearn.base import BaseEstimator, RegressorMixin"
   ]
  },
  {
   "cell_type": "code",
   "execution_count": 3,
   "id": "b0ad5053",
   "metadata": {
    "execution": {
     "iopub.execute_input": "2024-03-24T14:34:44.474269Z",
     "iopub.status.busy": "2024-03-24T14:34:44.473155Z",
     "iopub.status.idle": "2024-03-24T14:34:44.478009Z",
     "shell.execute_reply": "2024-03-24T14:34:44.477199Z"
    },
    "papermill": {
     "duration": 0.029013,
     "end_time": "2024-03-24T14:34:44.480873",
     "exception": false,
     "start_time": "2024-03-24T14:34:44.451860",
     "status": "completed"
    },
    "tags": []
   },
   "outputs": [],
   "source": [
    "env = Env(\n",
    "    \"/kaggle/input/\",\n",
    "    \"/kaggle/working/\"\n",
    ")"
   ]
  },
  {
   "cell_type": "code",
   "execution_count": null,
   "id": "e9ca99f0",
   "metadata": {
    "papermill": {
     "duration": 0.019216,
     "end_time": "2024-03-24T14:34:44.520107",
     "exception": false,
     "start_time": "2024-03-24T14:34:44.500891",
     "status": "completed"
    },
    "tags": []
   },
   "outputs": [],
   "source": []
  },
  {
   "cell_type": "code",
   "execution_count": 4,
   "id": "746fe24a",
   "metadata": {
    "execution": {
     "iopub.execute_input": "2024-03-24T14:34:44.564067Z",
     "iopub.status.busy": "2024-03-24T14:34:44.563304Z",
     "iopub.status.idle": "2024-03-24T14:34:44.572423Z",
     "shell.execute_reply": "2024-03-24T14:34:44.571231Z"
    },
    "papermill": {
     "duration": 0.035112,
     "end_time": "2024-03-24T14:34:44.576120",
     "exception": false,
     "start_time": "2024-03-24T14:34:44.541008",
     "status": "completed"
    },
    "tags": []
   },
   "outputs": [],
   "source": [
    "data_loader = DataLoader(env)\n",
    "preprocessor = Preprocessor({\n",
    "    \"set_column_info_step\": SetColumnsInfoStep(),\n",
    "    \"set_types\": SetTypesStep(),\n",
    "    #\"create_day_feature\": CreateDayFeatureStep(),\n",
    "    # #\"drop_raw_null_columns\": DropRawNullColumns(feature_threashold=0.2, week_threashold=0.9),\n",
    "    \"process_categorical\": ProcessCategoricalStep(),\n",
    "    \"process_person_table\": ProcessPersonTableStep(),\n",
    "    # \"one_hot_encoding_for_depth1\": OneHotEncodingForDepth1Step(),\n",
    "    # \"pairwise_diff_raw_dates\": PairwiseDateDiffStep(),\n",
    "    \"aggregate_depth_table\": AggregateDepthTableStep(),\n",
    "    # #\"drop_equal_columns\": DropEqualColumnsStep(),\n",
    "    # #\"drop_almost_null_features_respect_to_target\": DropAlmostNullFeaturesWithRespectToTargetStep(),\n",
    "    \"join_table\": JoinTablesStep(),\n",
    "    \"merge_chunked_table\": MergeChunkedTablesStep(),\n",
    "    \"drop_almost_null_features\": DropAlmostNullFeaturesStep(),\n",
    "    \"generate_age_feature\": GenerateAgeFeatureStep(),\n",
    "    \"generate_base_date_diff\": GenerateBaseDateDiffStep(base_column=\"date_decision\"),\n",
    "    \"fill_nulls_in_categorical_features\": FillNullsInCategoricalFeaturesStep(),\n",
    "    **{\n",
    "        f\"create_money_feature_fraction_{base_column}\": CreateMoneyFeatureFractionStep(base_column)\n",
    "        for base_column in [\"credamount_770A\", \"maininc_215A\", \"mainoccupationinc_384A\"] # mean_amount_416A\n",
    "    },\n",
    "    \"generate_mismatch_features\": GenerateMismatchFeaturesStep(),\n",
    "    \"generate_target_distribution_based_on_categorical_features_step\": GenerateTargetDistributionBasedOnCategoricalStep(),\n",
    "    \"drop_single_value_features\": DropSingleValueFeaturesStep(),\n",
    "    \"drop_variable_enum_features\": DropVariableEnumFeaturesStep(),\n",
    "    \"reduce_memory_usage\": ReduceMemoryUsageStep()\n",
    "})\n"
   ]
  },
  {
   "cell_type": "code",
   "execution_count": null,
   "id": "4d9119ec",
   "metadata": {
    "execution": {
     "iopub.execute_input": "2024-03-14T19:26:37.091566Z",
     "iopub.status.busy": "2024-03-14T19:26:37.091125Z",
     "iopub.status.idle": "2024-03-14T19:26:54.354948Z",
     "shell.execute_reply": "2024-03-14T19:26:54.353750Z",
     "shell.execute_reply.started": "2024-03-14T19:26:37.091529Z"
    },
    "papermill": {
     "duration": 0.018581,
     "end_time": "2024-03-24T14:34:44.613241",
     "exception": false,
     "start_time": "2024-03-24T14:34:44.594660",
     "status": "completed"
    },
    "tags": []
   },
   "outputs": [],
   "source": []
  },
  {
   "cell_type": "code",
   "execution_count": 5,
   "id": "303dadda",
   "metadata": {
    "execution": {
     "iopub.execute_input": "2024-03-24T14:34:44.652779Z",
     "iopub.status.busy": "2024-03-24T14:34:44.652004Z",
     "iopub.status.idle": "2024-03-24T15:17:24.134552Z",
     "shell.execute_reply": "2024-03-24T15:17:24.131264Z"
    },
    "papermill": {
     "duration": 2559.507472,
     "end_time": "2024-03-24T15:17:24.139588",
     "exception": false,
     "start_time": "2024-03-24T14:34:44.632116",
     "status": "completed"
    },
    "tags": []
   },
   "outputs": [
    {
     "name": "stdout",
     "output_type": "stream",
     "text": [
      "Generate 1538 columns as aggregates\n",
      "Generate 1538 columns as aggregates\n",
      "Generate 1538 columns as aggregates\n",
      "Generate 1538 columns as aggregates\n",
      "Generate 1538 columns as aggregates\n",
      "Generate 1538 columns as aggregates\n",
      "Generate 1538 columns as aggregates\n",
      "Generate 1538 columns as aggregates\n",
      "Generate 1538 columns as aggregates\n",
      "Generate 1538 columns as aggregates\n",
      "Generate 1538 columns as aggregates\n",
      "Generate 1538 columns as aggregates\n",
      "Generate 1538 columns as aggregates\n",
      "Generate 1538 columns as aggregates\n",
      "Generate 1538 columns as aggregates\n",
      "Generate 1538 columns as aggregates\n",
      "Drop 695 columns as almost null\n",
      "Columns to drop ['assignmentdate_4955616D', 'dateofbirth_342D', 'for3years_128L', 'for3years_504L', 'for3years_584L', 'formonth_118L', 'formonth_206L', 'formonth_535L', 'forquarter_1017L', 'forquarter_462L', 'forquarter_634L', 'fortoday_1092L', 'forweek_1077L', 'forweek_528L', 'forweek_601L', 'foryear_618L', 'foryear_818L', 'foryear_850L', 'pmtaverage_4955615A', 'pmtcount_4955617L', 'riskassesment_940T', 'clientscnt_136L', 'deferredmnthsnum_166L', 'equalityempfrom_62L', 'interestrategrace_34L', 'isbidproductrequest_292L', 'lastdependentsnum_448L', 'lastotherinc_902A', 'lastotherlnsexpense_631A', 'lastrepayingdate_696D', 'maxannuity_4075009A', 'payvacationpostpone_4187118D', 'first_credacc_actualbalance_314A', 'first_credacc_maxhisbal_375A', 'first_credacc_minhisbal_90A', 'first_credacc_transactions_402L', 'last_isdebitcard_527L', 'last_revolvingaccount_394A', 'std_credacc_actualbalance_314A', 'std_credacc_maxhisbal_375A', 'std_credacc_minhisbal_90A', 'std_credacc_transactions_402L', 'std_revolvingaccount_394A', 'max_interestrate_508L', 'max_prolongationcount_599L', 'min_interestrate_508L', 'min_prolongationcount_599L', 'first_interestrate_508L', 'first_prolongationcount_1120L', 'first_prolongationcount_599L', 'last_annualeffectiverate_199L', 'last_annualeffectiverate_63L', 'last_annualeffectiverate_63L', 'last_contractsum_5085717L', 'last_credlmt_230A', 'last_credlmt_935A', 'last_dateofcredend_289D', 'last_dateofcredend_353D', 'last_dateofcredstart_181D', 'last_dateofcredstart_739D', 'last_dateofrealrepmt_138D', 'last_debtoutstand_525A', 'last_debtoverdue_47A', 'last_dpdmax_139P', 'last_dpdmax_757P', 'last_dpdmaxdatemonth_442T', 'last_dpdmaxdatemonth_89T', 'last_dpdmaxdateyear_596T', 'last_dpdmaxdateyear_896T', 'last_instlamount_768A', 'last_instlamount_852A', 'last_interestrate_508L', 'last_lastupdate_1112D', 'last_lastupdate_388D', 'last_monthlyinstlamount_332A', 'last_monthlyinstlamount_674A', 'last_nominalrate_281L', 'last_nominalrate_498L', 'last_numberofcontrsvalue_258L', 'last_numberofcontrsvalue_358L', 'last_numberofinstls_229L', 'last_numberofinstls_320L', 'last_numberofoutstandinstls_520L', 'last_numberofoutstandinstls_59L', 'last_numberofoverdueinstlmax_1039L', 'last_numberofoverdueinstlmax_1151L', 'last_numberofoverdueinstlmaxdat_148D', 'last_numberofoverdueinstlmaxdat_641D', 'last_numberofoverdueinstls_725L', 'last_numberofoverdueinstls_834L', 'last_outstandingamount_354A', 'last_outstandingamount_362A', 'last_overdueamount_31A', 'last_overdueamount_659A', 'last_overdueamountmax2_14A', 'last_overdueamountmax2_398A', 'last_overdueamountmax2date_1002D', 'last_overdueamountmax2date_1142D', 'last_overdueamountmax_155A', 'last_overdueamountmax_35A', 'last_overdueamountmaxdatemonth_284T', 'last_overdueamountmaxdatemonth_365T', 'last_overdueamountmaxdateyear_2T', 'last_overdueamountmaxdateyear_994T', 'last_periodicityofpmts_1102L', 'last_periodicityofpmts_837L', 'last_prolongationcount_1120L', 'last_prolongationcount_599L', 'last_prolongationcount_599L', 'last_residualamount_488A', 'last_residualamount_856A', 'last_totalamount_6A', 'last_totalamount_996A', 'last_totaldebtoverduevalue_178A', 'last_totaldebtoverduevalue_718A', 'last_totaloutstanddebtvalue_39A', 'last_totaloutstanddebtvalue_668A', 'mean_interestrate_508L', 'mean_prolongationcount_599L', 'std_annualeffectiverate_63L', 'std_debtoutstand_525A', 'std_debtoverdue_47A', 'std_interestrate_508L', 'std_numberofcontrsvalue_258L', 'std_numberofcontrsvalue_358L', 'std_prolongationcount_1120L', 'std_prolongationcount_599L', 'std_totaldebtoverduevalue_178A', 'std_totaldebtoverduevalue_718A', 'std_totaloutstanddebtvalue_39A', 'std_totaloutstanddebtvalue_668A', 'max_amount_1115A', 'max_contractdate_551D', 'max_contractmaturitydate_151D', 'max_credlmt_1052A', 'max_credlmt_228A', 'max_credlmt_3940954A', 'max_credquantity_1099L', 'max_credquantity_984L', 'max_debtpastduevalue_732A', 'max_debtvalue_227A', 'max_dpd_550P', 'max_dpd_733P', 'max_dpdmax_851P', 'max_dpdmaxdatemonth_804T', 'max_dpdmaxdateyear_742T', 'max_installmentamount_644A', 'max_installmentamount_833A', 'max_instlamount_892A', 'max_interesteffectiverate_369L', 'max_interestrateyearly_538L', 'max_lastupdate_260D', 'max_maxdebtpduevalodued_3940955A', 'max_numberofinstls_810L', 'max_overdueamountmax_950A', 'max_overdueamountmaxdatemonth_494T', 'max_overdueamountmaxdateyear_432T', 'max_pmtdaysoverdue_1135P', 'max_pmtnumpending_403L', 'max_residualamount_1093A', 'max_residualamount_127A', 'max_residualamount_3940956A', 'max_totalamount_503A', 'max_totalamount_881A', 'min_amount_1115A', 'min_contractdate_551D', 'min_contractmaturitydate_151D', 'min_credlmt_1052A', 'min_credlmt_228A', 'min_credlmt_3940954A', 'min_credquantity_1099L', 'min_credquantity_984L', 'min_debtpastduevalue_732A', 'min_debtvalue_227A', 'min_dpd_550P', 'min_dpd_733P', 'min_dpdmax_851P', 'min_dpdmaxdatemonth_804T', 'min_dpdmaxdateyear_742T', 'min_installmentamount_644A', 'min_installmentamount_833A', 'min_instlamount_892A', 'min_interesteffectiverate_369L', 'min_interestrateyearly_538L', 'min_lastupdate_260D', 'min_maxdebtpduevalodued_3940955A', 'min_numberofinstls_810L', 'min_overdueamountmax_950A', 'min_overdueamountmaxdatemonth_494T', 'min_overdueamountmaxdateyear_432T', 'min_pmtdaysoverdue_1135P', 'min_pmtnumpending_403L', 'min_residualamount_1093A', 'min_residualamount_127A', 'min_residualamount_3940956A', 'min_totalamount_503A', 'min_totalamount_881A', 'first_amount_1115A', 'first_contractdate_551D', 'first_contractmaturitydate_151D', 'first_credlmt_1052A', 'first_credlmt_228A', 'first_credlmt_3940954A', 'first_credquantity_1099L', 'first_credquantity_984L', 'first_debtpastduevalue_732A', 'first_debtvalue_227A', 'first_dpd_550P', 'first_dpd_733P', 'first_dpdmax_851P', 'first_dpdmaxdatemonth_804T', 'first_dpdmaxdateyear_742T', 'first_installmentamount_644A', 'first_installmentamount_833A', 'first_instlamount_892A', 'first_interesteffectiverate_369L', 'first_interestrateyearly_538L', 'first_lastupdate_260D', 'first_maxdebtpduevalodued_3940955A', 'first_numberofinstls_810L', 'first_overdueamountmax_950A', 'first_overdueamountmaxdatemonth_494T', 'first_overdueamountmaxdateyear_432T', 'first_pmtdaysoverdue_1135P', 'first_pmtnumpending_403L', 'first_residualamount_1093A', 'first_residualamount_127A', 'first_residualamount_3940956A', 'first_totalamount_503A', 'first_totalamount_881A', 'last_amount_1115A', 'last_contractdate_551D', 'last_contractmaturitydate_151D', 'last_credlmt_1052A', 'last_credlmt_228A', 'last_credlmt_3940954A', 'last_credquantity_1099L', 'last_credquantity_984L', 'last_debtpastduevalue_732A', 'last_debtvalue_227A', 'last_dpd_550P', 'last_dpd_733P', 'last_dpdmax_851P', 'last_dpdmaxdatemonth_804T', 'last_dpdmaxdateyear_742T', 'last_installmentamount_644A', 'last_installmentamount_833A', 'last_instlamount_892A', 'last_interesteffectiverate_369L', 'last_interestrateyearly_538L', 'last_lastupdate_260D', 'last_maxdebtpduevalodued_3940955A', 'last_numberofinstls_810L', 'last_overdueamountmax_950A', 'last_overdueamountmaxdatemonth_494T', 'last_overdueamountmaxdateyear_432T', 'last_pmtdaysoverdue_1135P', 'last_pmtnumpending_403L', 'last_residualamount_1093A', 'last_residualamount_127A', 'last_residualamount_3940956A', 'last_totalamount_503A', 'last_totalamount_881A', 'mean_amount_1115A', 'mean_contractdate_551D', 'mean_contractmaturitydate_151D', 'mean_credlmt_1052A', 'mean_credlmt_228A', 'mean_credlmt_3940954A', 'mean_credquantity_1099L', 'mean_credquantity_984L', 'mean_debtpastduevalue_732A', 'mean_debtvalue_227A', 'mean_dpd_550P', 'mean_dpd_733P', 'mean_dpdmax_851P', 'mean_dpdmaxdatemonth_804T', 'mean_dpdmaxdateyear_742T', 'mean_installmentamount_644A', 'mean_installmentamount_833A', 'mean_instlamount_892A', 'mean_interesteffectiverate_369L', 'mean_interestrateyearly_538L', 'mean_lastupdate_260D', 'mean_maxdebtpduevalodued_3940955A', 'mean_numberofinstls_810L', 'mean_overdueamountmax_950A', 'mean_overdueamountmaxdatemonth_494T', 'mean_overdueamountmaxdateyear_432T', 'mean_pmtdaysoverdue_1135P', 'mean_pmtnumpending_403L', 'mean_residualamount_1093A', 'mean_residualamount_127A', 'mean_residualamount_3940956A', 'mean_totalamount_503A', 'mean_totalamount_881A', 'std_amount_1115A', 'std_contractdate_551D', 'std_contractmaturitydate_151D', 'std_credlmt_1052A', 'std_credlmt_1052A', 'std_credlmt_228A', 'std_credlmt_3940954A', 'std_credquantity_1099L', 'std_credquantity_984L', 'std_debtpastduevalue_732A', 'std_debtvalue_227A', 'std_dpd_550P', 'std_dpd_733P', 'std_dpdmax_851P', 'std_dpdmaxdatemonth_804T', 'std_dpdmaxdateyear_742T', 'std_installmentamount_644A', 'std_installmentamount_833A', 'std_instlamount_892A', 'std_interesteffectiverate_369L', 'std_interestrateyearly_538L', 'std_lastupdate_260D', 'std_maxdebtpduevalodued_3940955A', 'std_numberofinstls_810L', 'std_overdueamountmax_950A', 'std_overdueamountmaxdatemonth_494T', 'std_overdueamountmaxdateyear_432T', 'std_pmtdaysoverdue_1135P', 'std_pmtnumpending_403L', 'std_residualamount_1093A', 'std_residualamount_1093A', 'std_residualamount_127A', 'std_residualamount_127A', 'std_residualamount_3940956A', 'std_totalamount_503A', 'std_totalamount_881A', 'max_classificationofcontr_1114M', 'min_classificationofcontr_1114M', 'first_classificationofcontr_1114M', 'last_classificationofcontr_1114M', 'mode_classificationofcontr_1114M', 'max_contractst_516M', 'min_contractst_516M', 'first_contractst_516M', 'last_contractst_516M', 'mode_contractst_516M', 'max_contracttype_653M', 'min_contracttype_653M', 'first_contracttype_653M', 'last_contracttype_653M', 'mode_contracttype_653M', 'max_credor_3940957M', 'min_credor_3940957M', 'first_credor_3940957M', 'last_credor_3940957M', 'mode_credor_3940957M', 'max_periodicityofpmts_997L', 'min_periodicityofpmts_997L', 'first_periodicityofpmts_997L', 'last_periodicityofpmts_997L', 'mode_periodicityofpmts_997L', 'max_periodicityofpmts_997M', 'min_periodicityofpmts_997M', 'first_periodicityofpmts_997M', 'last_periodicityofpmts_997M', 'mode_periodicityofpmts_997M', 'max_pmtmethod_731M', 'min_pmtmethod_731M', 'first_pmtmethod_731M', 'last_pmtmethod_731M', 'mode_pmtmethod_731M', 'max_purposeofcred_722M', 'min_purposeofcred_722M', 'first_purposeofcred_722M', 'last_purposeofcred_722M', 'mode_purposeofcred_722M', 'max_subjectrole_326M', 'min_subjectrole_326M', 'first_subjectrole_326M', 'last_subjectrole_326M', 'mode_subjectrole_326M', 'max_subjectrole_43M', 'min_subjectrole_43M', 'first_subjectrole_43M', 'last_subjectrole_43M', 'mode_subjectrole_43M', 'n_unique_classificationofcontr_1114M', 'n_unique_contractst_516M', 'n_unique_contracttype_653M', 'n_unique_credor_3940957M', 'n_unique_periodicityofpmts_997L', 'n_unique_periodicityofpmts_997M', 'n_unique_pmtmethod_731M', 'n_unique_purposeofcred_722M', 'n_unique_subjectrole_326M', 'n_unique_subjectrole_43M', 'count_classificationofcontr_1114M', 'count_contractst_516M', 'count_contracttype_653M', 'count_credor_3940957M', 'count_periodicityofpmts_997L', 'count_periodicityofpmts_997M', 'count_pmtmethod_731M', 'count_purposeofcred_722M', 'count_subjectrole_326M', 'count_subjectrole_43M', 'max_num_group1_credit_bureau_b_1', 'min_num_group1_credit_bureau_b_1', 'last_num_group1_credit_bureau_b_1', 'first_num_group1_credit_bureau_b_1', 'count_num_group1_credit_bureau_b_1', 'max_amtdebitincoming_4809443A', 'max_amtdebitoutgoing_4809440A', 'max_amtdepositbalance_4809441A', 'max_amtdepositincoming_4809444A', 'max_amtdepositoutgoing_4809442A', 'min_amtdebitincoming_4809443A', 'min_amtdebitoutgoing_4809440A', 'min_amtdepositbalance_4809441A', 'min_amtdepositincoming_4809444A', 'min_amtdepositoutgoing_4809442A', 'first_amtdebitincoming_4809443A', 'first_amtdebitoutgoing_4809440A', 'first_amtdepositbalance_4809441A', 'first_amtdepositincoming_4809444A', 'first_amtdepositoutgoing_4809442A', 'last_amtdebitincoming_4809443A', 'last_amtdebitoutgoing_4809440A', 'last_amtdepositbalance_4809441A', 'last_amtdepositincoming_4809444A', 'last_amtdepositoutgoing_4809442A', 'mean_amtdebitincoming_4809443A', 'mean_amtdebitoutgoing_4809440A', 'mean_amtdepositbalance_4809441A', 'mean_amtdepositincoming_4809444A', 'mean_amtdepositoutgoing_4809442A', 'std_amtdebitincoming_4809443A', 'std_amtdebitincoming_4809443A', 'std_amtdebitoutgoing_4809440A', 'std_amtdebitoutgoing_4809440A', 'std_amtdepositbalance_4809441A', 'std_amtdepositbalance_4809441A', 'std_amtdepositincoming_4809444A', 'std_amtdepositincoming_4809444A', 'std_amtdepositoutgoing_4809442A', 'std_amtdepositoutgoing_4809442A', 'max_num_group1_other_1', 'min_num_group1_other_1', 'last_num_group1_other_1', 'first_num_group1_other_1', 'count_num_group1_other_1', 'max_contractenddate_991D', 'min_contractenddate_991D', 'first_contractenddate_991D', 'last_contractenddate_991D', 'mean_contractenddate_991D', 'std_amount_416A', 'std_contractenddate_991D', 'std_openingdate_313D', 'max_last180dayaveragebalance_704A', 'max_last180dayturnover_1134A', 'max_last30dayturnover_651A', 'min_last180dayaveragebalance_704A', 'min_last180dayturnover_1134A', 'min_last30dayturnover_651A', 'first_last180dayaveragebalance_704A', 'first_last180dayturnover_1134A', 'first_last30dayturnover_651A', 'last_last180dayaveragebalance_704A', 'last_last180dayturnover_1134A', 'last_last30dayturnover_651A', 'mean_last180dayaveragebalance_704A', 'mean_last180dayturnover_1134A', 'mean_last30dayturnover_651A', 'std_last180dayaveragebalance_704A', 'std_last180dayturnover_1134A', 'std_last30dayturnover_651A', 'std_openingdate_857D', 'first_pmts_dpd_303P', 'first_pmts_overdue_1152A', 'last_collater_valueofguarantee_1124L', 'last_collater_valueofguarantee_876L', 'last_pmts_dpd_1073P', 'last_pmts_dpd_303P', 'last_pmts_overdue_1140A', 'last_pmts_overdue_1152A', 'max_pmts_date_1107D', 'max_pmts_dpdvalue_108P', 'max_pmts_pmtsoverdue_635A', 'min_pmts_date_1107D', 'min_pmts_dpdvalue_108P', 'min_pmts_pmtsoverdue_635A', 'first_pmts_date_1107D', 'first_pmts_dpdvalue_108P', 'first_pmts_pmtsoverdue_635A', 'last_pmts_date_1107D', 'last_pmts_dpdvalue_108P', 'last_pmts_pmtsoverdue_635A', 'mean_pmts_date_1107D', 'mean_pmts_dpdvalue_108P', 'mean_pmts_pmtsoverdue_635A', 'std_pmts_date_1107D', 'std_pmts_dpdvalue_108P', 'std_pmts_pmtsoverdue_635A', 'max_num_group1_credit_bureau_b_2', 'min_num_group1_credit_bureau_b_2', 'last_num_group1_credit_bureau_b_2', 'first_num_group1_credit_bureau_b_2', 'count_num_group1_credit_bureau_b_2', 'max_num_group2_credit_bureau_b_2', 'min_num_group2_credit_bureau_b_2', 'last_num_group2_credit_bureau_b_2', 'first_num_group2_credit_bureau_b_2', 'count_num_group2_credit_bureau_b_2', 'birthdate_87D', 'childnum_185L', 'childnum_185L', 'housingtype_772L', 'isreference_387L', 'personindex_1023L', 'persontype_1072L', 'persontype_792L', 'relationshiptoclient_415T', 'relationshiptoclient_642T', 'remitter_829L', 'remitter_829L', 'max_birth_259D', 'max_birth_259D', 'max_birthdate_87D', 'max_childnum_185L', 'max_contaddr_matchlist_1032L', 'max_contaddr_matchlist_1032L', 'max_contaddr_smempladdr_334L', 'max_contaddr_smempladdr_334L', 'max_empl_employedfrom_271D', 'max_empl_employedfrom_271D', 'max_isreference_387L', 'max_mainoccupationinc_384A', 'max_mainoccupationinc_384A', 'max_safeguarantyflag_411L', 'max_safeguarantyflag_411L', 'min_birth_259D', 'min_birth_259D', 'min_birthdate_87D', 'min_childnum_185L', 'min_contaddr_matchlist_1032L', 'min_contaddr_matchlist_1032L', 'min_contaddr_smempladdr_334L', 'min_contaddr_smempladdr_334L', 'min_empl_employedfrom_271D', 'min_empl_employedfrom_271D', 'min_isreference_387L', 'min_mainoccupationinc_384A', 'min_mainoccupationinc_384A', 'min_safeguarantyflag_411L', 'min_safeguarantyflag_411L', 'first_birth_259D', 'first_birth_259D', 'first_birthdate_87D', 'first_childnum_185L', 'first_contaddr_matchlist_1032L', 'first_contaddr_matchlist_1032L', 'first_contaddr_smempladdr_334L', 'first_contaddr_smempladdr_334L', 'first_empl_employedfrom_271D', 'first_empl_employedfrom_271D', 'first_isreference_387L', 'first_mainoccupationinc_384A', 'first_mainoccupationinc_384A', 'first_safeguarantyflag_411L', 'first_safeguarantyflag_411L', 'last_birth_259D', 'last_birth_259D', 'last_birthdate_87D', 'last_childnum_185L', 'last_contaddr_matchlist_1032L', 'last_contaddr_matchlist_1032L', 'last_contaddr_smempladdr_334L', 'last_contaddr_smempladdr_334L', 'last_empl_employedfrom_271D', 'last_empl_employedfrom_271D', 'last_isreference_387L', 'last_mainoccupationinc_384A', 'last_mainoccupationinc_384A', 'last_safeguarantyflag_411L', 'last_safeguarantyflag_411L', 'mean_birth_259D', 'mean_birth_259D', 'mean_birthdate_87D', 'mean_childnum_185L', 'mean_contaddr_matchlist_1032L', 'mean_contaddr_matchlist_1032L', 'mean_contaddr_smempladdr_334L', 'mean_contaddr_smempladdr_334L', 'mean_empl_employedfrom_271D', 'mean_empl_employedfrom_271D', 'mean_isreference_387L', 'mean_mainoccupationinc_384A', 'mean_mainoccupationinc_384A', 'mean_safeguarantyflag_411L', 'mean_safeguarantyflag_411L', 'std_birth_259D', 'std_birth_259D', 'std_birthdate_87D', 'std_birthdate_87D', 'std_childnum_185L', 'std_childnum_185L', 'std_contaddr_matchlist_1032L', 'std_contaddr_matchlist_1032L', 'std_contaddr_smempladdr_334L', 'std_contaddr_smempladdr_334L', 'std_empl_employedfrom_271D', 'std_empl_employedfrom_271D', 'std_isreference_387L', 'std_isreference_387L', 'std_mainoccupationinc_384A', 'std_mainoccupationinc_384A', 'std_safeguarantyflag_411L', 'std_safeguarantyflag_411L', 'max_empl_employedtotal_800L', 'max_empl_employedtotal_800L', 'min_empl_employedtotal_800L', 'min_empl_employedtotal_800L', 'first_empl_employedtotal_800L', 'first_empl_employedtotal_800L', 'last_empl_employedtotal_800L', 'last_empl_employedtotal_800L', 'mode_empl_employedtotal_800L', 'mode_empl_employedtotal_800L', 'max_empl_industry_691L', 'max_empl_industry_691L', 'min_empl_industry_691L', 'min_empl_industry_691L', 'first_empl_industry_691L', 'first_empl_industry_691L', 'last_empl_industry_691L', 'last_empl_industry_691L', 'mode_empl_industry_691L', 'mode_empl_industry_691L', 'max_familystate_447L', 'max_familystate_447L', 'min_familystate_447L', 'min_familystate_447L', 'first_familystate_447L', 'first_familystate_447L', 'last_familystate_447L', 'last_familystate_447L', 'mode_familystate_447L', 'mode_familystate_447L', 'max_gender_992L', 'min_gender_992L', 'first_gender_992L', 'last_gender_992L', 'mode_gender_992L', 'max_housetype_905L', 'max_housetype_905L', 'min_housetype_905L', 'min_housetype_905L', 'first_housetype_905L', 'first_housetype_905L', 'last_housetype_905L', 'last_housetype_905L', 'mode_housetype_905L', 'mode_housetype_905L', 'max_housingtype_772L', 'min_housingtype_772L', 'first_housingtype_772L', 'last_housingtype_772L', 'mode_housingtype_772L', 'max_incometype_1044T', 'max_incometype_1044T', 'min_incometype_1044T', 'min_incometype_1044T', 'first_incometype_1044T', 'first_incometype_1044T', 'last_incometype_1044T', 'last_incometype_1044T', 'mode_incometype_1044T', 'mode_incometype_1044T', 'max_maritalst_703L', 'min_maritalst_703L', 'first_maritalst_703L', 'last_maritalst_703L', 'mode_maritalst_703L', 'max_role_993L', 'min_role_993L', 'first_role_993L', 'last_role_993L', 'mode_role_993L', 'max_sex_738L', 'max_sex_738L', 'min_sex_738L', 'min_sex_738L', 'first_sex_738L', 'first_sex_738L', 'last_sex_738L', 'last_sex_738L', 'mode_sex_738L', 'mode_sex_738L']\n",
      "Create 131 new date diff columns, with base_column=date_decision\n",
      "Create 94 new columns as money feature fraction with base 'credamount_770A'\n",
      "Create 94 new columns as money feature fraction with base 'maininc_215A'\n",
      "Create 94 new columns as money feature fraction with base 'mainoccupationinc_384A'\n",
      "Create 60 new columns as feature mismatch\n",
      "Create 530 as target distribution by categorical feature\n",
      "Drop 1 columns as single value\n",
      "Drop 37 columns as variable enum value\n"
     ]
    },
    {
     "data": {
      "text/plain": [
       "0"
      ]
     },
     "execution_count": 5,
     "metadata": {},
     "output_type": "execute_result"
    }
   ],
   "source": [
    "train_dataset_generator = data_loader.load_train_dataset(chunk_size=100000)\n",
    "gc.collect()\n",
    "train_df, columns_info = preprocessor.process_train_dataset(train_dataset_generator)\n",
    "del train_dataset_generator\n",
    "gc.collect()"
   ]
  },
  {
   "cell_type": "code",
   "execution_count": 6,
   "id": "1e838660",
   "metadata": {
    "execution": {
     "iopub.execute_input": "2024-03-24T15:17:24.200824Z",
     "iopub.status.busy": "2024-03-24T15:17:24.198698Z",
     "iopub.status.idle": "2024-03-24T15:18:39.609063Z",
     "shell.execute_reply": "2024-03-24T15:18:39.607875Z"
    },
    "papermill": {
     "duration": 75.439138,
     "end_time": "2024-03-24T15:18:39.611860",
     "exception": false,
     "start_time": "2024-03-24T15:17:24.172722",
     "status": "completed"
    },
    "tags": []
   },
   "outputs": [
    {
     "name": "stdout",
     "output_type": "stream",
     "text": [
      "12043.934423446655\n",
      "shape: (1_526_659, 2_151)\n",
      "┌─────────┬────────────┬────────┬──────────┬───┬────────────┬────────────┬────────────┬────────────┐\n",
      "│ case_id ┆ date_decis ┆ MONTH  ┆ WEEK_NUM ┆ … ┆ mode_type_ ┆ mode_type_ ┆ age_bucket ┆ age_bucket │\n",
      "│ ---     ┆ ion        ┆ ---    ┆ ---      ┆   ┆ 25L_target ┆ 25L_value_ ┆ _target_di ┆ _value_per │\n",
      "│ i32     ┆ ---        ┆ i32    ┆ i16      ┆   ┆ _distribut ┆ persent    ┆ stribution ┆ sent       │\n",
      "│         ┆ i16        ┆        ┆          ┆   ┆ io…        ┆ ---        ┆ ---        ┆ ---        │\n",
      "│         ┆            ┆        ┆          ┆   ┆ ---        ┆ f32        ┆ f32        ┆ f32        │\n",
      "│         ┆            ┆        ┆          ┆   ┆ f32        ┆            ┆            ┆            │\n",
      "╞═════════╪════════════╪════════╪══════════╪═══╪════════════╪════════════╪════════════╪════════════╡\n",
      "│ 0       ┆ 17899      ┆ 201901 ┆ 0        ┆ … ┆ 0.033276   ┆ 0.34381    ┆ 0.0344     ┆ 0.255728   │\n",
      "│ 1       ┆ 17899      ┆ 201901 ┆ 0        ┆ … ┆ 0.033276   ┆ 0.34381    ┆ 0.017717   ┆ 0.154987   │\n",
      "│ 2       ┆ 17900      ┆ 201901 ┆ 0        ┆ … ┆ 0.033276   ┆ 0.34381    ┆ 0.030632   ┆ 0.216253   │\n",
      "│ 3       ┆ 17899      ┆ 201901 ┆ 0        ┆ … ┆ 0.033276   ┆ 0.34381    ┆ 0.048363   ┆ 0.176153   │\n",
      "│ …       ┆ …          ┆ …      ┆ …        ┆ … ┆ …          ┆ …          ┆ …          ┆ …          │\n",
      "│ 2703451 ┆ 18540      ┆ 202010 ┆ 91       ┆ … ┆ 0.020214   ┆ 0.024918   ┆ 0.017717   ┆ 0.154987   │\n",
      "│ 2703452 ┆ 18540      ┆ 202010 ┆ 91       ┆ … ┆ 0.03012    ┆ 0.507943   ┆ 0.030632   ┆ 0.216253   │\n",
      "│ 2703453 ┆ 18540      ┆ 202010 ┆ 91       ┆ … ┆ 0.020214   ┆ 0.024918   ┆ 0.020837   ┆ 0.033448   │\n",
      "│ 2703454 ┆ 18540      ┆ 202010 ┆ 91       ┆ … ┆ 0.03012    ┆ 0.507943   ┆ 0.020837   ┆ 0.033448   │\n",
      "└─────────┴────────────┴────────┴──────────┴───┴────────────┴────────────┴────────────┴────────────┘\n"
     ]
    },
    {
     "data": {
      "text/plain": [
       "0"
      ]
     },
     "execution_count": 6,
     "metadata": {},
     "output_type": "execute_result"
    }
   ],
   "source": [
    "train_df.write_parquet(env.output_directory / \"train_df.parquet\")\n",
    "pickle.dump(columns_info, open(env.output_directory / \"columns_info.pkl\", \"wb\"))\n",
    "print(train_df.estimated_size() / 1024 / 1024)\n",
    "print(train_df)\n",
    "\n",
    "del train_df\n",
    "gc.collect()"
   ]
  },
  {
   "cell_type": "code",
   "execution_count": 7,
   "id": "37d17525",
   "metadata": {
    "execution": {
     "iopub.execute_input": "2024-03-24T15:18:39.658196Z",
     "iopub.status.busy": "2024-03-24T15:18:39.657178Z",
     "iopub.status.idle": "2024-03-24T15:18:58.327202Z",
     "shell.execute_reply": "2024-03-24T15:18:58.325895Z"
    },
    "papermill": {
     "duration": 18.696659,
     "end_time": "2024-03-24T15:18:58.330310",
     "exception": false,
     "start_time": "2024-03-24T15:18:39.633651",
     "status": "completed"
    },
    "tags": []
   },
   "outputs": [
    {
     "name": "stdout",
     "output_type": "stream",
     "text": [
      "Generate 1538 columns as aggregates\n",
      "Create 131 new date diff columns, with base_column=date_decision\n",
      "Create 94 new columns as money feature fraction with base 'credamount_770A'\n",
      "Create 94 new columns as money feature fraction with base 'maininc_215A'\n",
      "Create 94 new columns as money feature fraction with base 'mainoccupationinc_384A'\n",
      "Create 60 new columns as feature mismatch\n",
      "Create 530 as target distribution by categorical feature\n"
     ]
    },
    {
     "data": {
      "text/plain": [
       "0"
      ]
     },
     "execution_count": 7,
     "metadata": {},
     "output_type": "execute_result"
    }
   ],
   "source": [
    "test_dataset_generator = data_loader.load_test_dataset(chunk_size=100000)\n",
    "gc.collect()\n",
    "test_df, columns_info = preprocessor.process_test_dataset(test_dataset_generator)\n",
    "del test_dataset_generator\n",
    "gc.collect()"
   ]
  },
  {
   "cell_type": "code",
   "execution_count": 8,
   "id": "be1296d6",
   "metadata": {
    "execution": {
     "iopub.execute_input": "2024-03-24T15:18:58.376459Z",
     "iopub.status.busy": "2024-03-24T15:18:58.375994Z",
     "iopub.status.idle": "2024-03-24T15:18:59.150195Z",
     "shell.execute_reply": "2024-03-24T15:18:59.148744Z"
    },
    "papermill": {
     "duration": 0.799649,
     "end_time": "2024-03-24T15:18:59.152339",
     "exception": false,
     "start_time": "2024-03-24T15:18:58.352690",
     "status": "completed"
    },
    "tags": []
   },
   "outputs": [
    {
     "name": "stdout",
     "output_type": "stream",
     "text": [
      "1.3134546279907227\n",
      "shape: (10, 2_150)\n",
      "┌─────────┬────────────┬────────┬──────────┬───┬────────────┬────────────┬────────────┬────────────┐\n",
      "│ case_id ┆ date_decis ┆ MONTH  ┆ WEEK_NUM ┆ … ┆ mode_type_ ┆ mode_type_ ┆ age_bucket ┆ age_bucket │\n",
      "│ ---     ┆ ion        ┆ ---    ┆ ---      ┆   ┆ 25L_target ┆ 25L_value_ ┆ _target_di ┆ _value_per │\n",
      "│ i32     ┆ ---        ┆ i32    ┆ i16      ┆   ┆ _distribut ┆ persent    ┆ stribution ┆ sent       │\n",
      "│         ┆ i16        ┆        ┆          ┆   ┆ io…        ┆ ---        ┆ ---        ┆ ---        │\n",
      "│         ┆            ┆        ┆          ┆   ┆ ---        ┆ f32        ┆ f32        ┆ f32        │\n",
      "│         ┆            ┆        ┆          ┆   ┆ f32        ┆            ┆            ┆            │\n",
      "╞═════════╪════════════╪════════╪══════════╪═══╪════════════╪════════════╪════════════╪════════════╡\n",
      "│ 57543   ┆ 18761      ┆ 202201 ┆ 100      ┆ … ┆ 0.033276   ┆ 0.34381    ┆ 0.030632   ┆ 0.216253   │\n",
      "│ 57549   ┆ 19009      ┆ 202201 ┆ 100      ┆ … ┆ 0.033276   ┆ 0.34381    ┆ 0.017717   ┆ 0.154987   │\n",
      "│ 57551   ┆ 18593      ┆ 202201 ┆ 100      ┆ … ┆ 0.03012    ┆ 0.507943   ┆ 0.0344     ┆ 0.255728   │\n",
      "│ 57552   ┆ 18593      ┆ 202201 ┆ 100      ┆ … ┆ 0.03012    ┆ 0.507943   ┆ 0.017717   ┆ 0.154987   │\n",
      "│ …       ┆ …          ┆ …      ┆ …        ┆ … ┆ …          ┆ …          ┆ …          ┆ …          │\n",
      "│ 57631   ┆ 19147      ┆ 202201 ┆ 100      ┆ … ┆ 0.03012    ┆ 0.507943   ┆ null       ┆ null       │\n",
      "│ 57632   ┆ 19028      ┆ 202201 ┆ 100      ┆ … ┆ 0.03012    ┆ 0.507943   ┆ null       ┆ null       │\n",
      "│ 57633   ┆ 19017      ┆ 202201 ┆ 100      ┆ … ┆ 0.03012    ┆ 0.507943   ┆ null       ┆ null       │\n",
      "│ 57634   ┆ 18654      ┆ 202201 ┆ 100      ┆ … ┆ 0.03012    ┆ 0.507943   ┆ null       ┆ null       │\n",
      "└─────────┴────────────┴────────┴──────────┴───┴────────────┴────────────┴────────────┴────────────┘\n"
     ]
    },
    {
     "data": {
      "text/plain": [
       "0"
      ]
     },
     "execution_count": 8,
     "metadata": {},
     "output_type": "execute_result"
    }
   ],
   "source": [
    "test_df.write_parquet(env.output_directory / \"test_df.parquet\")\n",
    "print(test_df.estimated_size() / 1024 / 1024)\n",
    "print(test_df)\n",
    "\n",
    "del test_df\n",
    "gc.collect()"
   ]
  },
  {
   "cell_type": "markdown",
   "id": "dc7661d8",
   "metadata": {
    "_kg_hide-input": true,
    "papermill": {
     "duration": 0.02146,
     "end_time": "2024-03-24T15:18:59.195346",
     "exception": false,
     "start_time": "2024-03-24T15:18:59.173886",
     "status": "completed"
    },
    "tags": []
   },
   "source": [
    "# Data visualization"
   ]
  },
  {
   "cell_type": "code",
   "execution_count": null,
   "id": "4ff4f47e",
   "metadata": {
    "papermill": {
     "duration": 0.022177,
     "end_time": "2024-03-24T15:18:59.240190",
     "exception": false,
     "start_time": "2024-03-24T15:18:59.218013",
     "status": "completed"
    },
    "tags": []
   },
   "outputs": [],
   "source": []
  },
  {
   "cell_type": "code",
   "execution_count": 9,
   "id": "c5ad88db",
   "metadata": {
    "execution": {
     "iopub.execute_input": "2024-03-24T15:18:59.286499Z",
     "iopub.status.busy": "2024-03-24T15:18:59.286040Z",
     "iopub.status.idle": "2024-03-24T15:18:59.291320Z",
     "shell.execute_reply": "2024-03-24T15:18:59.290109Z"
    },
    "papermill": {
     "duration": 0.031833,
     "end_time": "2024-03-24T15:18:59.293782",
     "exception": false,
     "start_time": "2024-03-24T15:18:59.261949",
     "status": "completed"
    },
    "tags": []
   },
   "outputs": [],
   "source": [
    "# train_dataset = data_loader.load_train_dataset()"
   ]
  },
  {
   "cell_type": "code",
   "execution_count": 10,
   "id": "a9fdc8d1",
   "metadata": {
    "execution": {
     "iopub.execute_input": "2024-03-24T15:18:59.339724Z",
     "iopub.status.busy": "2024-03-24T15:18:59.339274Z",
     "iopub.status.idle": "2024-03-24T15:18:59.344342Z",
     "shell.execute_reply": "2024-03-24T15:18:59.343114Z"
    },
    "papermill": {
     "duration": 0.031235,
     "end_time": "2024-03-24T15:18:59.346878",
     "exception": false,
     "start_time": "2024-03-24T15:18:59.315643",
     "status": "completed"
    },
    "tags": []
   },
   "outputs": [],
   "source": [
    "# [column for column in train_df.columns if \"amtdebitincoming_4809443A\" in column]"
   ]
  },
  {
   "cell_type": "code",
   "execution_count": 11,
   "id": "d96bf954",
   "metadata": {
    "execution": {
     "iopub.execute_input": "2024-03-24T15:18:59.395181Z",
     "iopub.status.busy": "2024-03-24T15:18:59.394774Z",
     "iopub.status.idle": "2024-03-24T15:18:59.399710Z",
     "shell.execute_reply": "2024-03-24T15:18:59.398769Z"
    },
    "papermill": {
     "duration": 0.030247,
     "end_time": "2024-03-24T15:18:59.401923",
     "exception": false,
     "start_time": "2024-03-24T15:18:59.371676",
     "status": "completed"
    },
    "tags": []
   },
   "outputs": [],
   "source": [
    "# train_dataset.get_base()[\"target\"].mean()"
   ]
  },
  {
   "cell_type": "code",
   "execution_count": 12,
   "id": "5c3afe7b",
   "metadata": {
    "execution": {
     "iopub.execute_input": "2024-03-24T15:18:59.449684Z",
     "iopub.status.busy": "2024-03-24T15:18:59.447372Z",
     "iopub.status.idle": "2024-03-24T15:18:59.453418Z",
     "shell.execute_reply": "2024-03-24T15:18:59.452466Z"
    },
    "papermill": {
     "duration": 0.031473,
     "end_time": "2024-03-24T15:18:59.455843",
     "exception": false,
     "start_time": "2024-03-24T15:18:59.424370",
     "status": "completed"
    },
    "tags": []
   },
   "outputs": [],
   "source": [
    "# tables = {name: table for name, table in train_dataset.get_depth_tables(1)}"
   ]
  },
  {
   "cell_type": "code",
   "execution_count": 13,
   "id": "cea0d0b7",
   "metadata": {
    "execution": {
     "iopub.execute_input": "2024-03-24T15:18:59.502917Z",
     "iopub.status.busy": "2024-03-24T15:18:59.502504Z",
     "iopub.status.idle": "2024-03-24T15:18:59.507297Z",
     "shell.execute_reply": "2024-03-24T15:18:59.506190Z"
    },
    "papermill": {
     "duration": 0.03059,
     "end_time": "2024-03-24T15:18:59.509787",
     "exception": false,
     "start_time": "2024-03-24T15:18:59.479197",
     "status": "completed"
    },
    "tags": []
   },
   "outputs": [],
   "source": [
    "# applprev_1 = tables[\"applprev_1\"]"
   ]
  },
  {
   "cell_type": "code",
   "execution_count": 14,
   "id": "764aedc9",
   "metadata": {
    "execution": {
     "iopub.execute_input": "2024-03-24T15:18:59.555316Z",
     "iopub.status.busy": "2024-03-24T15:18:59.554885Z",
     "iopub.status.idle": "2024-03-24T15:18:59.558983Z",
     "shell.execute_reply": "2024-03-24T15:18:59.558074Z"
    },
    "papermill": {
     "duration": 0.02959,
     "end_time": "2024-03-24T15:18:59.561065",
     "exception": false,
     "start_time": "2024-03-24T15:18:59.531475",
     "status": "completed"
    },
    "tags": []
   },
   "outputs": [],
   "source": [
    "# joined = applprev_1[\"case_id\"].value_counts().join(train_dataset.get_base()[[\"case_id\", \"target\"]], on=\"case_id\").sort(\"count\")\n",
    "# joined.filter(pl.col(\"target\") == 1)"
   ]
  },
  {
   "cell_type": "code",
   "execution_count": 15,
   "id": "9517a67f",
   "metadata": {
    "execution": {
     "iopub.execute_input": "2024-03-24T15:18:59.606155Z",
     "iopub.status.busy": "2024-03-24T15:18:59.605758Z",
     "iopub.status.idle": "2024-03-24T15:18:59.610433Z",
     "shell.execute_reply": "2024-03-24T15:18:59.609308Z"
    },
    "papermill": {
     "duration": 0.029807,
     "end_time": "2024-03-24T15:18:59.612619",
     "exception": false,
     "start_time": "2024-03-24T15:18:59.582812",
     "status": "completed"
    },
    "tags": []
   },
   "outputs": [],
   "source": [
    "# base = train_dataset.get_base()"
   ]
  },
  {
   "cell_type": "code",
   "execution_count": 16,
   "id": "ee4e192c",
   "metadata": {
    "execution": {
     "iopub.execute_input": "2024-03-24T15:18:59.658185Z",
     "iopub.status.busy": "2024-03-24T15:18:59.657234Z",
     "iopub.status.idle": "2024-03-24T15:18:59.661865Z",
     "shell.execute_reply": "2024-03-24T15:18:59.661035Z"
    },
    "papermill": {
     "duration": 0.029791,
     "end_time": "2024-03-24T15:18:59.664186",
     "exception": false,
     "start_time": "2024-03-24T15:18:59.634395",
     "status": "completed"
    },
    "tags": []
   },
   "outputs": [],
   "source": [
    "# base.filter(pl.col(\"case_id\") == 2702490)"
   ]
  },
  {
   "cell_type": "code",
   "execution_count": 17,
   "id": "4708f800",
   "metadata": {
    "execution": {
     "iopub.execute_input": "2024-03-24T15:18:59.710813Z",
     "iopub.status.busy": "2024-03-24T15:18:59.709635Z",
     "iopub.status.idle": "2024-03-24T15:18:59.714545Z",
     "shell.execute_reply": "2024-03-24T15:18:59.713537Z"
    },
    "papermill": {
     "duration": 0.030534,
     "end_time": "2024-03-24T15:18:59.716956",
     "exception": false,
     "start_time": "2024-03-24T15:18:59.686422",
     "status": "completed"
    },
    "tags": []
   },
   "outputs": [],
   "source": [
    "# applprev_1.filter(applprev_1[\"case_id\"] == 2702490).sort(\"num_group1\")\n",
    "#base.filter(pl.col(\"case_id\") == 176526)"
   ]
  },
  {
   "cell_type": "code",
   "execution_count": 18,
   "id": "042d389d",
   "metadata": {
    "execution": {
     "iopub.execute_input": "2024-03-24T15:18:59.762688Z",
     "iopub.status.busy": "2024-03-24T15:18:59.761931Z",
     "iopub.status.idle": "2024-03-24T15:18:59.766662Z",
     "shell.execute_reply": "2024-03-24T15:18:59.765571Z"
    },
    "papermill": {
     "duration": 0.030494,
     "end_time": "2024-03-24T15:18:59.769237",
     "exception": false,
     "start_time": "2024-03-24T15:18:59.738743",
     "status": "completed"
    },
    "tags": []
   },
   "outputs": [],
   "source": [
    "# applprev_1.filter(applprev_1[\"case_id\"] == 2702490).sort(\"num_group1\")[[\"credamount_590A\", \"mainoccupationinc_437A\", \"rejectreason_755M\", \"rejectreasonclient_4145042M\"]]\n"
   ]
  },
  {
   "cell_type": "code",
   "execution_count": 19,
   "id": "7eac1a8c",
   "metadata": {
    "execution": {
     "iopub.execute_input": "2024-03-24T15:18:59.814805Z",
     "iopub.status.busy": "2024-03-24T15:18:59.814014Z",
     "iopub.status.idle": "2024-03-24T15:18:59.818708Z",
     "shell.execute_reply": "2024-03-24T15:18:59.817652Z"
    },
    "papermill": {
     "duration": 0.030385,
     "end_time": "2024-03-24T15:18:59.821222",
     "exception": false,
     "start_time": "2024-03-24T15:18:59.790837",
     "status": "completed"
    },
    "tags": []
   },
   "outputs": [],
   "source": [
    "# applprev_1.filter(applprev_1[\"case_id\"] == 176526).sort(\"num_group1\")[[\"credamount_590A\", \"mainoccupationinc_437A\", \"rejectreason_755M\", \"rejectreasonclient_4145042M\"]]a"
   ]
  },
  {
   "cell_type": "code",
   "execution_count": 20,
   "id": "514e1325",
   "metadata": {
    "execution": {
     "iopub.execute_input": "2024-03-24T15:18:59.866710Z",
     "iopub.status.busy": "2024-03-24T15:18:59.866260Z",
     "iopub.status.idle": "2024-03-24T15:18:59.870829Z",
     "shell.execute_reply": "2024-03-24T15:18:59.869595Z"
    },
    "papermill": {
     "duration": 0.030009,
     "end_time": "2024-03-24T15:18:59.872991",
     "exception": false,
     "start_time": "2024-03-24T15:18:59.842982",
     "status": "completed"
    },
    "tags": []
   },
   "outputs": [],
   "source": [
    "# applprev_1.filter(applprev_1[\"case_id\"] == 176526).sort(\"num_group1\")"
   ]
  },
  {
   "cell_type": "code",
   "execution_count": 21,
   "id": "d056cc21",
   "metadata": {
    "execution": {
     "iopub.execute_input": "2024-03-24T15:18:59.919839Z",
     "iopub.status.busy": "2024-03-24T15:18:59.919180Z",
     "iopub.status.idle": "2024-03-24T15:18:59.923559Z",
     "shell.execute_reply": "2024-03-24T15:18:59.922593Z"
    },
    "papermill": {
     "duration": 0.030604,
     "end_time": "2024-03-24T15:18:59.925785",
     "exception": false,
     "start_time": "2024-03-24T15:18:59.895181",
     "status": "completed"
    },
    "tags": []
   },
   "outputs": [],
   "source": [
    "# FreatureDescriptionGetter().get(\"rejectreasonclient_4145042M\")"
   ]
  },
  {
   "cell_type": "code",
   "execution_count": 22,
   "id": "1c53c41a",
   "metadata": {
    "execution": {
     "iopub.execute_input": "2024-03-24T15:18:59.971248Z",
     "iopub.status.busy": "2024-03-24T15:18:59.970567Z",
     "iopub.status.idle": "2024-03-24T15:18:59.974758Z",
     "shell.execute_reply": "2024-03-24T15:18:59.973940Z"
    },
    "papermill": {
     "duration": 0.029599,
     "end_time": "2024-03-24T15:18:59.977019",
     "exception": false,
     "start_time": "2024-03-24T15:18:59.947420",
     "status": "completed"
    },
    "tags": []
   },
   "outputs": [],
   "source": [
    "# def bucket_mean_split(x, y, buckets=100):\n",
    "#     x_buckets = []\n",
    "#     y_buckets = []\n",
    "\n",
    "#     x = np.array(x)\n",
    "#     y = np.array(y)\n",
    "#     x_quantiles = [np.quantile(x, i / buckets) for i in range(0, buckets + 1)]\n",
    "#     for i in range(0, buckets):\n",
    "#         filter = (x >= x_quantiles[i]) & (x <= x_quantiles[i + 1])\n",
    "#         x_buckets.append(np.mean(x[filter]))\n",
    "#         y_buckets.append(np.mean(y[filter]))\n",
    "#     return x_buckets, y_buckets"
   ]
  },
  {
   "cell_type": "code",
   "execution_count": 23,
   "id": "29e2c450",
   "metadata": {
    "execution": {
     "iopub.execute_input": "2024-03-24T15:19:00.023861Z",
     "iopub.status.busy": "2024-03-24T15:19:00.022878Z",
     "iopub.status.idle": "2024-03-24T15:19:00.027229Z",
     "shell.execute_reply": "2024-03-24T15:19:00.026322Z"
    },
    "papermill": {
     "duration": 0.031025,
     "end_time": "2024-03-24T15:19:00.029704",
     "exception": false,
     "start_time": "2024-03-24T15:18:59.998679",
     "status": "completed"
    },
    "tags": []
   },
   "outputs": [],
   "source": [
    "# train[\"target\"].mean()"
   ]
  },
  {
   "cell_type": "code",
   "execution_count": 24,
   "id": "e7612df7",
   "metadata": {
    "execution": {
     "iopub.execute_input": "2024-03-24T15:19:00.076493Z",
     "iopub.status.busy": "2024-03-24T15:19:00.075827Z",
     "iopub.status.idle": "2024-03-24T15:19:00.079990Z",
     "shell.execute_reply": "2024-03-24T15:19:00.079103Z"
    },
    "papermill": {
     "duration": 0.030058,
     "end_time": "2024-03-24T15:19:00.082461",
     "exception": false,
     "start_time": "2024-03-24T15:19:00.052403",
     "status": "completed"
    },
    "tags": []
   },
   "outputs": [],
   "source": [
    "# print(\"Mean target={} where actualdpdtolerance_344P != 0\".format(train[\"target\"].filter(train[\"actualdpdtolerance_344P\"] != 0).mean()))\n",
    "# print(\"Mean target={} where actualdpdtolerance_344P == 0\".format(train[\"target\"].filter(train[\"actualdpdtolerance_344P\"] == 0).mean()))\n",
    "# print(\"Mean target={} where actualdpdtolerance_344P is null\".format(train[\"target\"].filter(train[\"actualdpdtolerance_344P\"].is_null()).mean()))"
   ]
  },
  {
   "cell_type": "code",
   "execution_count": 25,
   "id": "aaba47a4",
   "metadata": {
    "execution": {
     "iopub.execute_input": "2024-03-24T15:19:00.128167Z",
     "iopub.status.busy": "2024-03-24T15:19:00.127487Z",
     "iopub.status.idle": "2024-03-24T15:19:00.132685Z",
     "shell.execute_reply": "2024-03-24T15:19:00.131597Z"
    },
    "papermill": {
     "duration": 0.031365,
     "end_time": "2024-03-24T15:19:00.135488",
     "exception": false,
     "start_time": "2024-03-24T15:19:00.104123",
     "status": "completed"
    },
    "tags": []
   },
   "outputs": [],
   "source": [
    "# columns = [column for column in train.columns if (train[column].dtype == pl.Float64)]\n",
    "\n",
    "# figure, axis = plt.subplots(len(columns) // 5 + 1, 5, figsize=(15, 30))\n",
    "# for index, column in enumerate(columns):\n",
    "#     current_plot = axis[index // 5, index % 5]\n",
    "#     x = train[column]\n",
    "#     y = train[\"target\"]\n",
    "#     if (x.dtype == pl.String or x.dtype == pl.Boolean):\n",
    "#         continue\n",
    "#     filter = x.is_not_null()\n",
    "#     x = x.filter(filter)\n",
    "#     y = y.filter(filter)\n",
    "#     if (x.is_empty()):\n",
    "#         continue\n",
    "#     x_bucket, y_bucket = bucket_mean_split(x.to_numpy(), y.to_numpy(), buckets=100)\n",
    "#     current_plot.plot(x_bucket, y_bucket)\n",
    "#     current_plot.set_title(column)\n",
    "# plt.show()"
   ]
  },
  {
   "cell_type": "code",
   "execution_count": 26,
   "id": "b7075315",
   "metadata": {
    "execution": {
     "iopub.execute_input": "2024-03-24T15:19:00.182020Z",
     "iopub.status.busy": "2024-03-24T15:19:00.181600Z",
     "iopub.status.idle": "2024-03-24T15:19:00.186388Z",
     "shell.execute_reply": "2024-03-24T15:19:00.185093Z"
    },
    "papermill": {
     "duration": 0.030574,
     "end_time": "2024-03-24T15:19:00.188685",
     "exception": false,
     "start_time": "2024-03-24T15:19:00.158111",
     "status": "completed"
    },
    "tags": []
   },
   "outputs": [],
   "source": [
    "# features = train_df.columns\n",
    "# features.remove(\"WEEK_NUM\")\n",
    "# features.remove(\"case_id\")\n",
    "# features.remove(\"target\")"
   ]
  },
  {
   "cell_type": "code",
   "execution_count": 27,
   "id": "ea38ba79",
   "metadata": {
    "execution": {
     "iopub.execute_input": "2024-03-24T15:19:00.235719Z",
     "iopub.status.busy": "2024-03-24T15:19:00.234332Z",
     "iopub.status.idle": "2024-03-24T15:19:00.240068Z",
     "shell.execute_reply": "2024-03-24T15:19:00.238630Z"
    },
    "papermill": {
     "duration": 0.031519,
     "end_time": "2024-03-24T15:19:00.242694",
     "exception": false,
     "start_time": "2024-03-24T15:19:00.211175",
     "status": "completed"
    },
    "tags": []
   },
   "outputs": [],
   "source": [
    "# gc.collect()"
   ]
  },
  {
   "cell_type": "markdown",
   "id": "da09e7e0",
   "metadata": {
    "papermill": {
     "duration": 0.021972,
     "end_time": "2024-03-24T15:19:00.286483",
     "exception": false,
     "start_time": "2024-03-24T15:19:00.264511",
     "status": "completed"
    },
    "tags": []
   },
   "source": [
    "### Feature Importance"
   ]
  },
  {
   "cell_type": "code",
   "execution_count": 28,
   "id": "d6625ed7",
   "metadata": {
    "execution": {
     "iopub.execute_input": "2024-03-24T15:19:00.332569Z",
     "iopub.status.busy": "2024-03-24T15:19:00.332125Z",
     "iopub.status.idle": "2024-03-24T15:19:00.337575Z",
     "shell.execute_reply": "2024-03-24T15:19:00.336427Z"
    },
    "papermill": {
     "duration": 0.031067,
     "end_time": "2024-03-24T15:19:00.339810",
     "exception": false,
     "start_time": "2024-03-24T15:19:00.308743",
     "status": "completed"
    },
    "tags": []
   },
   "outputs": [],
   "source": [
    "# def train_rf(X, Y):    \n",
    "#     params = {\n",
    "#         \"boosting_type\": \"gbdt\",\n",
    "#         \"objective\": \"binary\",\n",
    "#         \"metric\": \"auc\",\n",
    "#         \"max_depth\": 8,\n",
    "#         \"max_bin\": 255,\n",
    "#         \"learning_rate\": 0.05,\n",
    "#         \"n_estimators\": 200,\n",
    "#         \"colsample_bytree\": 0.8, \n",
    "#         \"colsample_bynode\": 0.8,\n",
    "#         \"verbose\": -1,\n",
    "#         \"random_state\": 42,\n",
    "#         \"device\": \"gpu\",\n",
    "#     }\n",
    "    \n",
    "#     model = lgb.LGBMClassifier(**params)\n",
    "    \n",
    "#     model.fit(X.to_pandas(), Y.to_pandas())\n",
    "    \n",
    "#     # Get feature importances\n",
    "#     return pl.DataFrame({\n",
    "#         \"feature\": list(X.columns),\n",
    "#         \"feature_importance\": model.feature_importances_,\n",
    "#         \"train_score\": roc_auc_score(Y.to_pandas(), model.predict(X.to_pandas()))\n",
    "#     })"
   ]
  },
  {
   "cell_type": "code",
   "execution_count": 29,
   "id": "f6ac1ee1",
   "metadata": {
    "execution": {
     "iopub.execute_input": "2024-03-24T15:19:00.387434Z",
     "iopub.status.busy": "2024-03-24T15:19:00.386853Z",
     "iopub.status.idle": "2024-03-24T15:19:00.391973Z",
     "shell.execute_reply": "2024-03-24T15:19:00.390902Z"
    },
    "papermill": {
     "duration": 0.032397,
     "end_time": "2024-03-24T15:19:00.394257",
     "exception": false,
     "start_time": "2024-03-24T15:19:00.361860",
     "status": "completed"
    },
    "tags": []
   },
   "outputs": [],
   "source": [
    "# def get_feature_importance(X, Y):\n",
    "#     COUNT_ITER = 50\n",
    "    \n",
    "#     dfs = []\n",
    "#     for i in range(COUNT_ITER):\n",
    "#         gc.collect()\n",
    "        \n",
    "#         start_time = time.time()\n",
    "#         shuffled_Y = Y.clone().sample(fraction=1.0, shuffle=True)\n",
    "#         current_df = train_rf(X, shuffled_Y)\n",
    "#         finish_time = time.time()\n",
    "#         print(f\"Finish iteration: {i + 1}/{COUNT_ITER}, time: {finish_time - start_time}\")\n",
    "#         current_df = current_df.with_columns(pl.lit(i).alias(\"iteration\"))\n",
    "#         dfs.append(current_df)\n",
    "        \n",
    "#     return pl.concat(dfs, rechunk=True), train_rf(X, Y)"
   ]
  },
  {
   "cell_type": "code",
   "execution_count": 30,
   "id": "2cd24853",
   "metadata": {
    "execution": {
     "iopub.execute_input": "2024-03-24T15:19:00.440821Z",
     "iopub.status.busy": "2024-03-24T15:19:00.440391Z",
     "iopub.status.idle": "2024-03-24T15:19:00.445493Z",
     "shell.execute_reply": "2024-03-24T15:19:00.444314Z"
    },
    "papermill": {
     "duration": 0.031398,
     "end_time": "2024-03-24T15:19:00.447976",
     "exception": false,
     "start_time": "2024-03-24T15:19:00.416578",
     "status": "completed"
    },
    "tags": []
   },
   "outputs": [],
   "source": [
    "# shuffled_feature_importance_df, feature_importance_df = get_feature_importance(train_df[features], train_df[\"target\"])\n",
    "# shuffled_feature_importance_df.write_csv(\"shuffled_feature_importance_df.csv\", separator=\",\")\n",
    "# feature_importance_df.write_csv(\"feature_importance_df.csv\", separator=\",\")"
   ]
  },
  {
   "cell_type": "code",
   "execution_count": 31,
   "id": "e20936a0",
   "metadata": {
    "execution": {
     "iopub.execute_input": "2024-03-24T15:19:00.494172Z",
     "iopub.status.busy": "2024-03-24T15:19:00.493655Z",
     "iopub.status.idle": "2024-03-24T15:19:00.499040Z",
     "shell.execute_reply": "2024-03-24T15:19:00.497774Z"
    },
    "papermill": {
     "duration": 0.031572,
     "end_time": "2024-03-24T15:19:00.501558",
     "exception": false,
     "start_time": "2024-03-24T15:19:00.469986",
     "status": "completed"
    },
    "tags": []
   },
   "outputs": [],
   "source": [
    "# important_features = []\n",
    "# for column in feature_importance_df[\"feature\"]:\n",
    "#     shuffled_feature_importance = shuffled_feature_importance_df.filter(shuffled_feature_importance_df[\"feature\"] == column)[\"feature_importance\"].to_numpy()\n",
    "#     feature_importance = feature_importance_df.filter(feature_importance_df[\"feature\"] == column)[\"feature_importance\"][0]\n",
    "    \n",
    "#     if (np.percentile(shuffled_feature_importance, 90) <= feature_importance):\n",
    "#         important_features.append(column)\n",
    "# print(len(important_features), important_features)"
   ]
  },
  {
   "cell_type": "markdown",
   "id": "20d48cde",
   "metadata": {
    "papermill": {
     "duration": 0.02127,
     "end_time": "2024-03-24T15:19:00.545033",
     "exception": false,
     "start_time": "2024-03-24T15:19:00.523763",
     "status": "completed"
    },
    "tags": []
   },
   "source": [
    "# Training"
   ]
  },
  {
   "cell_type": "code",
   "execution_count": 32,
   "id": "ec84a1f2",
   "metadata": {
    "execution": {
     "iopub.execute_input": "2024-03-24T15:19:00.590372Z",
     "iopub.status.busy": "2024-03-24T15:19:00.589935Z",
     "iopub.status.idle": "2024-03-24T15:19:00.595308Z",
     "shell.execute_reply": "2024-03-24T15:19:00.594039Z"
    },
    "papermill": {
     "duration": 0.030885,
     "end_time": "2024-03-24T15:19:00.597701",
     "exception": false,
     "start_time": "2024-03-24T15:19:00.566816",
     "status": "completed"
    },
    "tags": []
   },
   "outputs": [],
   "source": [
    "# class VotingModel(BaseEstimator, RegressorMixin):\n",
    "#     def __init__(self, estimators):\n",
    "#         super().__init__()\n",
    "#         self.estimators = estimators\n",
    "        \n",
    "#     def fit(self, X, y=None):\n",
    "#         return self\n",
    "    \n",
    "#     def predict(self, X):\n",
    "#         y_preds = [estimator.predict(X) for estimator in self.estimators]\n",
    "#         return np.mean(y_preds, axis=0)\n",
    "    \n",
    "#     def predict_proba(self, X):\n",
    "#         y_preds = [estimator.predict_proba(X) for estimator in self.estimators]\n",
    "#         return np.mean(y_preds, axis=0)\n",
    "    \n",
    "#     def get_feature_importance(self):\n",
    "#         feature_importances = np.array([0 for feature in features])\n",
    "\n",
    "#         for model in self.estimators:\n",
    "#             feature_importances += model.feature_importances_\n",
    "\n",
    "#         return feature_importances"
   ]
  },
  {
   "cell_type": "code",
   "execution_count": 33,
   "id": "4fd23f24",
   "metadata": {
    "execution": {
     "iopub.execute_input": "2024-03-24T15:19:00.643967Z",
     "iopub.status.busy": "2024-03-24T15:19:00.643541Z",
     "iopub.status.idle": "2024-03-24T15:19:00.648646Z",
     "shell.execute_reply": "2024-03-24T15:19:00.647330Z"
    },
    "papermill": {
     "duration": 0.030913,
     "end_time": "2024-03-24T15:19:00.650951",
     "exception": false,
     "start_time": "2024-03-24T15:19:00.620038",
     "status": "completed"
    },
    "tags": []
   },
   "outputs": [],
   "source": [
    "# for column in features:\n",
    "#     if (train_dataset[column].dtype != pl.Categorical) and \\\n",
    "#         (train_dataset[column].dtype != pl.Float64) and \\\n",
    "#         (train_dataset[column].dtype != pl.Float64):\n",
    "#         print(column, train_dataset[column].dtype)"
   ]
  },
  {
   "cell_type": "code",
   "execution_count": 34,
   "id": "8a70d29a",
   "metadata": {
    "execution": {
     "iopub.execute_input": "2024-03-24T15:19:00.696430Z",
     "iopub.status.busy": "2024-03-24T15:19:00.696004Z",
     "iopub.status.idle": "2024-03-24T15:19:00.701419Z",
     "shell.execute_reply": "2024-03-24T15:19:00.700337Z"
    },
    "papermill": {
     "duration": 0.031238,
     "end_time": "2024-03-24T15:19:00.704017",
     "exception": false,
     "start_time": "2024-03-24T15:19:00.672779",
     "status": "completed"
    },
    "tags": []
   },
   "outputs": [],
   "source": [
    "# def train_lgb_model(X_train, Y_train, X_test, Y_test):\n",
    "#     params = {\n",
    "#         \"boosting_type\": \"gbdt\",\n",
    "#         \"objective\": \"binary\",\n",
    "#         \"metric\": \"auc\",\n",
    "#         \"max_depth\": 8,\n",
    "#         \"max_bin\": 250,\n",
    "#         \"learning_rate\": 0.05,\n",
    "#         \"n_estimators\": 1000,\n",
    "#         \"colsample_bytree\": 0.8, \n",
    "#         \"colsample_bynode\": 0.8,\n",
    "#         \"verbose\": -1,\n",
    "#         \"random_state\": 42,\n",
    "#         \"device\": \"gpu\",\n",
    "#     }\n",
    "    \n",
    "#     model = lgb.LGBMClassifier(**params)\n",
    "    \n",
    "#     model.fit(\n",
    "#         X_train, Y_train,\n",
    "#         eval_set=[(X_test, Y_test)],\n",
    "#         callbacks=[lgb.log_evaluation(100), lgb.early_stopping(100)]\n",
    "#     )\n",
    "        \n",
    "#     return model"
   ]
  },
  {
   "cell_type": "code",
   "execution_count": 35,
   "id": "6382aedc",
   "metadata": {
    "execution": {
     "iopub.execute_input": "2024-03-24T15:19:00.749308Z",
     "iopub.status.busy": "2024-03-24T15:19:00.748893Z",
     "iopub.status.idle": "2024-03-24T15:19:00.754260Z",
     "shell.execute_reply": "2024-03-24T15:19:00.753127Z"
    },
    "papermill": {
     "duration": 0.030588,
     "end_time": "2024-03-24T15:19:00.756429",
     "exception": false,
     "start_time": "2024-03-24T15:19:00.725841",
     "status": "completed"
    },
    "tags": []
   },
   "outputs": [],
   "source": [
    "# gc.collect()"
   ]
  },
  {
   "cell_type": "code",
   "execution_count": 36,
   "id": "7075226c",
   "metadata": {
    "execution": {
     "iopub.execute_input": "2024-03-24T15:19:00.801670Z",
     "iopub.status.busy": "2024-03-24T15:19:00.801244Z",
     "iopub.status.idle": "2024-03-24T15:19:00.808078Z",
     "shell.execute_reply": "2024-03-24T15:19:00.806739Z"
    },
    "papermill": {
     "duration": 0.032268,
     "end_time": "2024-03-24T15:19:00.810379",
     "exception": false,
     "start_time": "2024-03-24T15:19:00.778111",
     "status": "completed"
    },
    "tags": []
   },
   "outputs": [],
   "source": [
    "# weeks = train_df[\"WEEK_NUM\"]\n",
    "# cv = StratifiedGroupKFold(n_splits=5, shuffle=False)\n",
    "\n",
    "# fitted_models = []\n",
    "\n",
    "# oof_predicted = np.zeros(train_df.shape[0])\n",
    "\n",
    "# for idx_train, idx_test in cv.split(train_df[features], train_df[\"target\"], groups=weeks):        \n",
    "# #     X_train = train_df[features][idx_train].to_pandas()\n",
    "# #     Y_train = train_df[\"target\"][idx_train].to_pandas()\n",
    "    \n",
    "#     X_test = train_df[features][idx_test].to_pandas()\n",
    "#     Y_test = train_df[\"target\"][idx_test].to_pandas()\n",
    "    \n",
    "#     start = time.time()\n",
    "#     params = {\n",
    "#         \"boosting_type\": \"gbdt\",\n",
    "#         \"objective\": \"binary\",\n",
    "#         \"metric\": \"auc\",\n",
    "#         \"max_depth\": 8,\n",
    "#         \"max_bin\": 250,\n",
    "#         \"learning_rate\": 0.05,\n",
    "#         \"n_estimators\": 1000,\n",
    "#         \"colsample_bytree\": 0.8, \n",
    "#         \"colsample_bynode\": 0.8,\n",
    "#         \"verbose\": -1,\n",
    "#         \"random_state\": 42,\n",
    "#         \"device\": \"gpu\",\n",
    "#     }\n",
    "    \n",
    "#     model = lgb.LGBMClassifier(**params)\n",
    "    \n",
    "#     model.fit(\n",
    "#         train_df[features][idx_train].to_pandas(), train_df[\"target\"][idx_train].to_pandas(),\n",
    "#         eval_set=[(X_test, Y_test)],\n",
    "#         callbacks=[lgb.log_evaluation(100), lgb.early_stopping(100)]\n",
    "#     )\n",
    "        \n",
    "\n",
    "# #    model = train_lgb_model(X_train, Y_train, X_test, Y_test)\n",
    "#     finish = time.time()\n",
    "    \n",
    "#     print(\"fit time: {}\".format(finish - start))\n",
    "#     fitted_models.append(model)\n",
    "    \n",
    "#     test_pred = model.predict_proba(X_test)[:, 1]\n",
    "#     oof_predicted[idx_test] = test_pred\n",
    "#     gc.collect()\n",
    "\n",
    "# model = VotingModel(fitted_models)\n",
    "# gc.collect()"
   ]
  },
  {
   "cell_type": "code",
   "execution_count": 37,
   "id": "99a7440d",
   "metadata": {
    "execution": {
     "iopub.execute_input": "2024-03-24T15:19:00.856153Z",
     "iopub.status.busy": "2024-03-24T15:19:00.855675Z",
     "iopub.status.idle": "2024-03-24T15:19:00.860488Z",
     "shell.execute_reply": "2024-03-24T15:19:00.859264Z"
    },
    "papermill": {
     "duration": 0.03055,
     "end_time": "2024-03-24T15:19:00.862821",
     "exception": false,
     "start_time": "2024-03-24T15:19:00.832271",
     "status": "completed"
    },
    "tags": []
   },
   "outputs": [],
   "source": [
    "# roc_auc_oof = roc_auc_score(train_df[\"target\"], oof_predicted)\n",
    "# print(\"CV roc_auc_oof: \", roc_auc_oof)"
   ]
  },
  {
   "cell_type": "markdown",
   "id": "91b07233",
   "metadata": {
    "papermill": {
     "duration": 0.021547,
     "end_time": "2024-03-24T15:19:00.906773",
     "exception": false,
     "start_time": "2024-03-24T15:19:00.885226",
     "status": "completed"
    },
    "tags": []
   },
   "source": [
    "# Predict"
   ]
  },
  {
   "cell_type": "code",
   "execution_count": 38,
   "id": "70dfce40",
   "metadata": {
    "execution": {
     "iopub.execute_input": "2024-03-24T15:19:01.025892Z",
     "iopub.status.busy": "2024-03-24T15:19:01.025106Z",
     "iopub.status.idle": "2024-03-24T15:19:01.031294Z",
     "shell.execute_reply": "2024-03-24T15:19:01.030387Z"
    },
    "papermill": {
     "duration": 0.064213,
     "end_time": "2024-03-24T15:19:01.034847",
     "exception": false,
     "start_time": "2024-03-24T15:19:00.970634",
     "status": "completed"
    },
    "tags": []
   },
   "outputs": [],
   "source": [
    "# del train_df\n",
    "# gc.collect()"
   ]
  },
  {
   "cell_type": "code",
   "execution_count": 39,
   "id": "f29dff0e",
   "metadata": {
    "execution": {
     "iopub.execute_input": "2024-03-24T15:19:01.095374Z",
     "iopub.status.busy": "2024-03-24T15:19:01.094489Z",
     "iopub.status.idle": "2024-03-24T15:19:01.099495Z",
     "shell.execute_reply": "2024-03-24T15:19:01.098652Z"
    },
    "papermill": {
     "duration": 0.032226,
     "end_time": "2024-03-24T15:19:01.101952",
     "exception": false,
     "start_time": "2024-03-24T15:19:01.069726",
     "status": "completed"
    },
    "tags": []
   },
   "outputs": [],
   "source": [
    "# test_dataset = data_loader.load_test_dataset()\n",
    "# print(\"Test dataset week range: {}-{}\".format(test_dataset.base[\"WEEK_NUM\"].min(), test_dataset.base[\"WEEK_NUM\"].max()))\n",
    "# gc.collect()\n",
    "# test_df = preprocessor.process_test_dataset(test_dataset)\n",
    "# del test_dataset\n",
    "# gc.collect()"
   ]
  },
  {
   "cell_type": "code",
   "execution_count": 40,
   "id": "61e5974b",
   "metadata": {
    "execution": {
     "iopub.execute_input": "2024-03-24T15:19:01.147991Z",
     "iopub.status.busy": "2024-03-24T15:19:01.147122Z",
     "iopub.status.idle": "2024-03-24T15:19:01.151930Z",
     "shell.execute_reply": "2024-03-24T15:19:01.151179Z"
    },
    "papermill": {
     "duration": 0.030476,
     "end_time": "2024-03-24T15:19:01.154251",
     "exception": false,
     "start_time": "2024-03-24T15:19:01.123775",
     "status": "completed"
    },
    "tags": []
   },
   "outputs": [],
   "source": [
    "# print([name for value, name in reversed(sorted(zip(model.get_feature_importance(), features)))][0:200])"
   ]
  },
  {
   "cell_type": "code",
   "execution_count": null,
   "id": "a57b4d53",
   "metadata": {
    "papermill": {
     "duration": 0.021596,
     "end_time": "2024-03-24T15:19:01.197496",
     "exception": false,
     "start_time": "2024-03-24T15:19:01.175900",
     "status": "completed"
    },
    "tags": []
   },
   "outputs": [],
   "source": []
  },
  {
   "cell_type": "code",
   "execution_count": 41,
   "id": "d3ad0abe",
   "metadata": {
    "execution": {
     "iopub.execute_input": "2024-03-24T15:19:01.243187Z",
     "iopub.status.busy": "2024-03-24T15:19:01.242364Z",
     "iopub.status.idle": "2024-03-24T15:19:01.247297Z",
     "shell.execute_reply": "2024-03-24T15:19:01.246379Z"
    },
    "papermill": {
     "duration": 0.030675,
     "end_time": "2024-03-24T15:19:01.249962",
     "exception": false,
     "start_time": "2024-03-24T15:19:01.219287",
     "status": "completed"
    },
    "tags": []
   },
   "outputs": [],
   "source": [
    "# CV roc_auc_oof:  0.8353789451006361 without feature selection ~500 features\n",
    "# CV roc_auc_oof:  0.8329322959533371 with feature selection ~200 features"
   ]
  },
  {
   "cell_type": "code",
   "execution_count": null,
   "id": "84f3accf",
   "metadata": {
    "papermill": {
     "duration": 0.021392,
     "end_time": "2024-03-24T15:19:01.293278",
     "exception": false,
     "start_time": "2024-03-24T15:19:01.271886",
     "status": "completed"
    },
    "tags": []
   },
   "outputs": [],
   "source": []
  },
  {
   "cell_type": "code",
   "execution_count": 42,
   "id": "24f28407",
   "metadata": {
    "execution": {
     "iopub.execute_input": "2024-03-24T15:19:01.339243Z",
     "iopub.status.busy": "2024-03-24T15:19:01.338340Z",
     "iopub.status.idle": "2024-03-24T15:19:01.343876Z",
     "shell.execute_reply": "2024-03-24T15:19:01.343043Z"
    },
    "papermill": {
     "duration": 0.031257,
     "end_time": "2024-03-24T15:19:01.346260",
     "exception": false,
     "start_time": "2024-03-24T15:19:01.315003",
     "status": "completed"
    },
    "tags": []
   },
   "outputs": [],
   "source": [
    "# def gini_stability(dataset, w_fallingrate=88.0, w_resstd=-0.5):\n",
    "#     gini_in_time = dataset\\\n",
    "#         .sort_values(\"WEEK_NUM\")\\\n",
    "#         .groupby(\"WEEK_NUM\")[[\"true\", \"predicted\"]]\\\n",
    "#         .apply(lambda x: 2 * roc_auc_score(x[\"true\"], x[\"predicted\"]) - 1).tolist()\n",
    "    \n",
    "#     x = np.arange(len(gini_in_time))\n",
    "#     y = gini_in_time\n",
    "#     a, b = np.polyfit(x, y, 1)\n",
    "#     y_hat = a * x + b\n",
    "#     residuals = y - y_hat\n",
    "#     res_std = np.std(residuals)\n",
    "#     avg_gini = np.mean(gini_in_time)\n",
    "    \n",
    "#     print(avg_gini, min(0, a), res_std)\n",
    "    \n",
    "#     return avg_gini + w_fallingrate * min(0, a) + w_resstd * res_std"
   ]
  },
  {
   "cell_type": "code",
   "execution_count": 43,
   "id": "f7be4899",
   "metadata": {
    "execution": {
     "iopub.execute_input": "2024-03-24T15:19:01.394051Z",
     "iopub.status.busy": "2024-03-24T15:19:01.393029Z",
     "iopub.status.idle": "2024-03-24T15:19:01.398443Z",
     "shell.execute_reply": "2024-03-24T15:19:01.397549Z"
    },
    "papermill": {
     "duration": 0.032146,
     "end_time": "2024-03-24T15:19:01.400923",
     "exception": false,
     "start_time": "2024-03-24T15:19:01.368777",
     "status": "completed"
    },
    "tags": []
   },
   "outputs": [],
   "source": [
    "# # Y_train_predicted = model.predict_proba(train_df[features].to_pandas())\n",
    "# Y_test_predicted = model.predict_proba(test_df[features].to_pandas())"
   ]
  },
  {
   "cell_type": "code",
   "execution_count": 44,
   "id": "a6234659",
   "metadata": {
    "execution": {
     "iopub.execute_input": "2024-03-24T15:19:01.447758Z",
     "iopub.status.busy": "2024-03-24T15:19:01.446788Z",
     "iopub.status.idle": "2024-03-24T15:19:01.452316Z",
     "shell.execute_reply": "2024-03-24T15:19:01.451246Z"
    },
    "papermill": {
     "duration": 0.031897,
     "end_time": "2024-03-24T15:19:01.454927",
     "exception": false,
     "start_time": "2024-03-24T15:19:01.423030",
     "status": "completed"
    },
    "tags": []
   },
   "outputs": [],
   "source": [
    "# result = pd.DataFrame({\n",
    "#     \"WEEK_NUM\": train_df[\"WEEK_NUM\"],\n",
    "#     \"true\": train_df[\"target\"],\n",
    "#     \"predicted\": Y_train_predicted[:, 1],\n",
    "# })\n",
    "\n",
    "# train_result = gini_stability(result)\n",
    "# print(\"train_score: {}\".format(train_result))\n",
    "\n",
    "# if MODE == Mode.Train:\n",
    "#     result = pd.DataFrame({\n",
    "#         \"WEEK_NUM\": test_df[\"WEEK_NUM\"],\n",
    "#         \"true\": test_df[\"target\"],\n",
    "#         \"predicted\": Y_test_predicted[:, 1],\n",
    "#     })\n",
    "\n",
    "#     test_result = gini_stability(result)\n",
    "#     print(\"test_score: {}\".format(test_result))"
   ]
  },
  {
   "cell_type": "code",
   "execution_count": 45,
   "id": "eb311d32",
   "metadata": {
    "execution": {
     "iopub.execute_input": "2024-03-24T15:19:01.500902Z",
     "iopub.status.busy": "2024-03-24T15:19:01.500509Z",
     "iopub.status.idle": "2024-03-24T15:19:01.505571Z",
     "shell.execute_reply": "2024-03-24T15:19:01.504227Z"
    },
    "papermill": {
     "duration": 0.031472,
     "end_time": "2024-03-24T15:19:01.508250",
     "exception": false,
     "start_time": "2024-03-24T15:19:01.476778",
     "status": "completed"
    },
    "tags": []
   },
   "outputs": [],
   "source": [
    "# Version 1, test_score: 0.583319926590042, public score 0.48\n",
    "# 100 iters\n",
    "\n",
    "# Version 2, test_score: 0.6062624701357268, public score 0.517\n",
    "# 300 iters\n",
    "\n",
    "# Version 3, test_score: ?, public score 0.545\n",
    "# 2000 iters\n",
    "\n",
    "# Version 4, test_score: ?, public score ?\n",
    "# ? iters, Improve aggregate functions for depth_1, depth_2\n"
   ]
  },
  {
   "cell_type": "markdown",
   "id": "c2c401cb",
   "metadata": {
    "papermill": {
     "duration": 0.021731,
     "end_time": "2024-03-24T15:19:01.553481",
     "exception": false,
     "start_time": "2024-03-24T15:19:01.531750",
     "status": "completed"
    },
    "tags": []
   },
   "source": [
    "# Submition"
   ]
  },
  {
   "cell_type": "code",
   "execution_count": 46,
   "id": "1e5fe7ac",
   "metadata": {
    "execution": {
     "iopub.execute_input": "2024-03-24T15:19:01.600369Z",
     "iopub.status.busy": "2024-03-24T15:19:01.599886Z",
     "iopub.status.idle": "2024-03-24T15:19:01.604736Z",
     "shell.execute_reply": "2024-03-24T15:19:01.603742Z"
    },
    "papermill": {
     "duration": 0.030963,
     "end_time": "2024-03-24T15:19:01.606972",
     "exception": false,
     "start_time": "2024-03-24T15:19:01.576009",
     "status": "completed"
    },
    "tags": []
   },
   "outputs": [],
   "source": [
    "# case_id = test_df[\"case_id\"]\n",
    "# X = test_df[features].to_pandas()\n",
    "\n",
    "# Y = model.predict_proba(X)\n",
    "\n",
    "# submission = pd.DataFrame({\n",
    "#     \"case_id\": case_id.to_numpy(),\n",
    "#     \"score\": Y[:, 1]\n",
    "# }).set_index('case_id')\n",
    "# submission.to_csv(\"./submission.csv\")"
   ]
  },
  {
   "cell_type": "code",
   "execution_count": null,
   "id": "05a9aa77",
   "metadata": {
    "papermill": {
     "duration": 0.021471,
     "end_time": "2024-03-24T15:19:01.650297",
     "exception": false,
     "start_time": "2024-03-24T15:19:01.628826",
     "status": "completed"
    },
    "tags": []
   },
   "outputs": [],
   "source": []
  },
  {
   "cell_type": "code",
   "execution_count": null,
   "id": "af684339",
   "metadata": {
    "papermill": {
     "duration": 0.021776,
     "end_time": "2024-03-24T15:19:01.693787",
     "exception": false,
     "start_time": "2024-03-24T15:19:01.672011",
     "status": "completed"
    },
    "tags": []
   },
   "outputs": [],
   "source": []
  },
  {
   "cell_type": "code",
   "execution_count": null,
   "id": "983a6aa0",
   "metadata": {
    "papermill": {
     "duration": 0.022107,
     "end_time": "2024-03-24T15:19:01.738326",
     "exception": false,
     "start_time": "2024-03-24T15:19:01.716219",
     "status": "completed"
    },
    "tags": []
   },
   "outputs": [],
   "source": []
  }
 ],
 "metadata": {
  "kaggle": {
   "accelerator": "none",
   "dataSources": [
    {
     "databundleVersionId": 7921029,
     "sourceId": 50160,
     "sourceType": "competition"
    },
    {
     "datasetId": 4496896,
     "sourceId": 7930447,
     "sourceType": "datasetVersion"
    }
   ],
   "dockerImageVersionId": 30635,
   "isGpuEnabled": false,
   "isInternetEnabled": false,
   "language": "python",
   "sourceType": "notebook"
  },
  "kernelspec": {
   "display_name": "Python 3",
   "language": "python",
   "name": "python3"
  },
  "language_info": {
   "codemirror_mode": {
    "name": "ipython",
    "version": 3
   },
   "file_extension": ".py",
   "mimetype": "text/x-python",
   "name": "python",
   "nbconvert_exporter": "python",
   "pygments_lexer": "ipython3",
   "version": "3.10.12"
  },
  "papermill": {
   "default_parameters": {},
   "duration": 2704.743907,
   "end_time": "2024-03-24T15:19:03.120085",
   "environment_variables": {},
   "exception": null,
   "input_path": "__notebook__.ipynb",
   "output_path": "__notebook__.ipynb",
   "parameters": {},
   "start_time": "2024-03-24T14:33:58.376178",
   "version": "2.4.0"
  }
 },
 "nbformat": 4,
 "nbformat_minor": 5
}
