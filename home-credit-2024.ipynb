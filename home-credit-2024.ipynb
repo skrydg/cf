{
 "cells": [
  {
   "cell_type": "markdown",
   "id": "e9c59f4c",
   "metadata": {
    "papermill": {
     "duration": 0.019384,
     "end_time": "2024-04-19T15:45:48.379004",
     "exception": false,
     "start_time": "2024-04-19T15:45:48.359620",
     "status": "completed"
    },
    "tags": []
   },
   "source": [
    "# Install packages"
   ]
  },
  {
   "cell_type": "code",
   "execution_count": 1,
   "id": "0909ebf6",
   "metadata": {
    "execution": {
     "iopub.execute_input": "2024-04-19T15:45:48.419370Z",
     "iopub.status.busy": "2024-04-19T15:45:48.418124Z",
     "iopub.status.idle": "2024-04-19T15:46:25.136262Z",
     "shell.execute_reply": "2024-04-19T15:46:25.134582Z"
    },
    "papermill": {
     "duration": 36.741455,
     "end_time": "2024-04-19T15:46:25.139227",
     "exception": false,
     "start_time": "2024-04-19T15:45:48.397772",
     "status": "completed"
    },
    "tags": []
   },
   "outputs": [
    {
     "name": "stdout",
     "output_type": "stream",
     "text": [
      "Processing /kaggle/input/kaggle-home-credit-risk-model-stability-lib/kaggle_home_credit_risk_model_stability-0.3-py3-none-any.whl\r\n",
      "Installing collected packages: kaggle-home-credit-risk-model-stability\r\n",
      "Successfully installed kaggle-home-credit-risk-model-stability-0.3\r\n"
     ]
    }
   ],
   "source": [
    "!pip install /kaggle/input/kaggle-home-credit-risk-model-stability-lib/kaggle_home_credit_risk_model_stability-0.3-py3-none-any.whl --force-reinstall"
   ]
  },
  {
   "cell_type": "code",
   "execution_count": 2,
   "id": "c42140da",
   "metadata": {
    "execution": {
     "iopub.execute_input": "2024-04-19T15:46:25.179972Z",
     "iopub.status.busy": "2024-04-19T15:46:25.179533Z",
     "iopub.status.idle": "2024-04-19T15:47:17.602220Z",
     "shell.execute_reply": "2024-04-19T15:47:17.600342Z"
    },
    "papermill": {
     "duration": 52.446584,
     "end_time": "2024-04-19T15:47:17.605336",
     "exception": false,
     "start_time": "2024-04-19T15:46:25.158752",
     "status": "completed"
    },
    "tags": []
   },
   "outputs": [
    {
     "name": "stdout",
     "output_type": "stream",
     "text": [
      "Processing /kaggle/input/polars/polars-0.20.15-cp38-abi3-manylinux_2_17_x86_64.manylinux2014_x86_64.whl\r\n",
      "Installing collected packages: polars\r\n",
      "  Attempting uninstall: polars\r\n",
      "    Found existing installation: polars 0.20.3\r\n",
      "    Uninstalling polars-0.20.3:\r\n",
      "      Successfully uninstalled polars-0.20.3\r\n",
      "Successfully installed polars-0.20.15\r\n"
     ]
    }
   ],
   "source": [
    "!pip install /kaggle/input/polars/polars-0.20.15-cp38-abi3-manylinux_2_17_x86_64.manylinux2014_x86_64.whl"
   ]
  },
  {
   "cell_type": "markdown",
   "id": "757f96bf",
   "metadata": {
    "papermill": {
     "duration": 0.018951,
     "end_time": "2024-04-19T15:47:17.643946",
     "exception": false,
     "start_time": "2024-04-19T15:47:17.624995",
     "status": "completed"
    },
    "tags": []
   },
   "source": [
    "# Import packages"
   ]
  },
  {
   "cell_type": "code",
   "execution_count": 3,
   "id": "b5303edd",
   "metadata": {
    "execution": {
     "iopub.execute_input": "2024-04-19T15:47:17.685466Z",
     "iopub.status.busy": "2024-04-19T15:47:17.684986Z",
     "iopub.status.idle": "2024-04-19T15:47:22.187214Z",
     "shell.execute_reply": "2024-04-19T15:47:22.185646Z"
    },
    "papermill": {
     "duration": 4.527021,
     "end_time": "2024-04-19T15:47:22.190518",
     "exception": false,
     "start_time": "2024-04-19T15:47:17.663497",
     "status": "completed"
    },
    "tags": []
   },
   "outputs": [],
   "source": [
    "import polars as pl\n",
    "import gc\n",
    "import time\n",
    "import numpy as np\n",
    "import pandas as pd\n",
    "import lightgbm as lgb\n",
    "import seaborn as sns\n",
    "import matplotlib.pyplot as plt\n",
    "import copy\n",
    "import lightgbm as lgb\n",
    "import importlib\n",
    "import pickle\n",
    "import argparse\n",
    "\n",
    "import kaggle_home_credit_risk_model_stability.libs as hcr\n",
    "from kaggle_home_credit_risk_model_stability.libs.env import Env\n",
    "from kaggle_home_credit_risk_model_stability.libs.input.dataset import Dataset\n",
    "from kaggle_home_credit_risk_model_stability.libs.input.data_loader import DataLoader\n",
    "from kaggle_home_credit_risk_model_stability.libs.preprocessor.preprocessor import Preprocessor\n",
    "from kaggle_home_credit_risk_model_stability.libs.preprocessor.steps import *\n",
    "from kaggle_home_credit_risk_model_stability.libs.preprocessor.columns_info import ColumnsInfo\n",
    "from kaggle_home_credit_risk_model_stability.libs.feature_description.feature_description import FreatureDescriptionGetter\n",
    "\n",
    "from collections import defaultdict\n",
    "from glob import glob\n",
    "from pathlib import Path\n",
    "from sklearn.model_selection import train_test_split\n",
    "from sklearn.metrics import roc_auc_score\n",
    "from sklearn.model_selection import StratifiedGroupKFold\n",
    "from sklearn.base import BaseEstimator, RegressorMixin"
   ]
  },
  {
   "cell_type": "code",
   "execution_count": 4,
   "id": "5096c55f",
   "metadata": {
    "execution": {
     "iopub.execute_input": "2024-04-19T15:47:22.233308Z",
     "iopub.status.busy": "2024-04-19T15:47:22.232792Z",
     "iopub.status.idle": "2024-04-19T15:47:22.237261Z",
     "shell.execute_reply": "2024-04-19T15:47:22.236340Z"
    },
    "papermill": {
     "duration": 0.028382,
     "end_time": "2024-04-19T15:47:22.239516",
     "exception": false,
     "start_time": "2024-04-19T15:47:22.211134",
     "status": "completed"
    },
    "tags": []
   },
   "outputs": [],
   "source": [
    "env = Env(\n",
    "    \"/kaggle/input/\",\n",
    "    \"/kaggle/working/\"\n",
    ")"
   ]
  },
  {
   "cell_type": "code",
   "execution_count": 5,
   "id": "293e91d9",
   "metadata": {
    "execution": {
     "iopub.execute_input": "2024-04-19T15:47:22.280455Z",
     "iopub.status.busy": "2024-04-19T15:47:22.279982Z",
     "iopub.status.idle": "2024-04-19T15:47:22.291612Z",
     "shell.execute_reply": "2024-04-19T15:47:22.290726Z"
    },
    "papermill": {
     "duration": 0.035547,
     "end_time": "2024-04-19T15:47:22.294232",
     "exception": false,
     "start_time": "2024-04-19T15:47:22.258685",
     "status": "completed"
    },
    "tags": []
   },
   "outputs": [],
   "source": [
    "data_loader = DataLoader(env, tables = [\n",
    "    \"base\", \"static_cb_0\", \"static_0\", \"person_1\", \"tax_registry_a_1\", \"tax_registry_b_1\", \"tax_registry_c_1\", \n",
    "    \"credit_bureau_a_2\"\n",
    "    #\"credit_bureau_a_1\" <- dramatically reduce PB\n",
    "    #\"credit_bureau_b_1\", \"credit_bureau_b_2\", \"other_1\", \"deposit_1\", \"debitcard_1\" <- low amount of data\n",
    "])\n",
    "\n",
    "preprocessor = Preprocessor({\n",
    "    #\"sort_raw_tables\": SortRawTablesStep(),\n",
    "    \"set_column_info_step\": SetColumnsInfoStep(),\n",
    "    \"set_types\": SetTypesStep(),\n",
    "    \"drop_composite_features\": DropCompositeFeaturesStep(),\n",
    "    \"create_day_feature\": CreateDayFeatureStep(),\n",
    "    # #\"drop_raw_null_columns\": DropRawNullColumns(feature_threashold=0.2, week_threashold=0.9),\n",
    "    \"process_categorical\": ProcessCategoricalStep(),\n",
    "    \"process_person_table\": ProcessPersonTableStep(),\n",
    "    #\"process_credit_burea_1_table\": ProcessCreditBureaua1TableStep(),\n",
    "    \"process_credit_burea_2_table\": ProcessCreditBureaua2TableStep(),\n",
    "    #\"split_composite_features\": SplitCompositeFeaturesStep(exclude_list=\"previouscontdistrict_112M\", drop_original=True),\n",
    "    \"reduce_dimention_for_categorical_features\": ReduceDimentionForCategoricalFeaturesStep(),\n",
    "    #\"one_hot_encoding_for_depth1\": OneHotEncodingForDepth1Step(),\n",
    "    #\"pairwise_diff_raw_dates\": PairwiseDateDiffStep(),\n",
    "    \"aggregate_depth_table\": AggregateDepthTableStep(),\n",
    "    #\"drop_equal_columns\": DropEqualColumnsStep(),\n",
    "    #\"drop_almost_null_features_respect_to_target\": DropAlmostNullFeaturesWithRespectToTargetStep(),\n",
    "    \"join_table\": JoinTablesStep(),\n",
    "    \"merge_chunked_table\": MergeChunkedTablesStep(),\n",
    "    \"drop_almost_null_features\": DropAlmostNullFeaturesStep(),\n",
    "    #\"generate_age_feature\": GenerateAgeFeatureStep(),\n",
    "    \"generate_base_date_diff\": GenerateBaseDateDiffStep(base_column=\"date_decision\"),\n",
    "    \"fill_nulls_in_categorical_features\": FillNullsInCategoricalFeaturesStep(),\n",
    "    **{\n",
    "        f\"create_money_feature_fraction_{base_column}\": CreateMoneyFeatureFractionStep(base_column)\n",
    "        for base_column in [\"credamount_770A\", \"maininc_215A\", \"mainoccupationinc_384A\"] # mean_amount_416A\n",
    "    },\n",
    "    #\"generate_mismatch_features\": GenerateMismatchFeaturesStep(),\n",
    "    #\"generate_target_distribution_based_on_categorical_features_step\": GenerateTargetDistributionBasedOnCategoricalStep(),\n",
    "    \"drop_single_value_features\": DropSingleValueFeaturesStep(),\n",
    "    \"drop_variable_enum_features\": DropVariableEnumFeaturesStep(),\n",
    "    \"reduce_memory_usage\": ReduceMemoryUsageStep()\n",
    "})"
   ]
  },
  {
   "cell_type": "code",
   "execution_count": null,
   "id": "072cfe49",
   "metadata": {
    "papermill": {
     "duration": 0.018599,
     "end_time": "2024-04-19T15:47:22.332606",
     "exception": false,
     "start_time": "2024-04-19T15:47:22.314007",
     "status": "completed"
    },
    "tags": []
   },
   "outputs": [],
   "source": []
  },
  {
   "cell_type": "code",
   "execution_count": 6,
   "id": "d0a779bf",
   "metadata": {
    "execution": {
     "iopub.execute_input": "2024-04-19T15:47:22.373453Z",
     "iopub.status.busy": "2024-04-19T15:47:22.372998Z",
     "iopub.status.idle": "2024-04-19T16:11:55.825675Z",
     "shell.execute_reply": "2024-04-19T16:11:55.824428Z"
    },
    "papermill": {
     "duration": 1473.476485,
     "end_time": "2024-04-19T16:11:55.828434",
     "exception": false,
     "start_time": "2024-04-19T15:47:22.351949",
     "status": "completed"
    },
    "tags": []
   },
   "outputs": [
    {
     "name": "stdout",
     "output_type": "stream",
     "text": [
      "Drop composite features ['lastapprcommoditycat_1041M', 'lastapprcommoditytypec_5251766M', 'lastcancelreason_561M', 'lastrejectcommoditycat_161M', 'lastrejectcommodtypec_5251769M', 'lastrejectreason_759M', 'lastrejectreasonclient_4145040M', 'previouscontdistrict_112M', 'contaddr_district_15M', 'contaddr_zipcode_807M', 'education_927M', 'empladdr_district_926M', 'empladdr_zipcode_114M', 'language1_981M', 'registaddr_district_1083M', 'registaddr_zipcode_184M']\n",
      "Generate 293 columns as aggregates\n",
      "Generate 293 columns as aggregates\n",
      "Generate 293 columns as aggregates\n",
      "Generate 293 columns as aggregates\n",
      "Generate 293 columns as aggregates\n",
      "Generate 293 columns as aggregates\n",
      "Generate 293 columns as aggregates\n",
      "Generate 293 columns as aggregates\n",
      "Generate 293 columns as aggregates\n",
      "Generate 293 columns as aggregates\n",
      "Generate 293 columns as aggregates\n",
      "Generate 293 columns as aggregates\n",
      "Generate 293 columns as aggregates\n",
      "Generate 293 columns as aggregates\n",
      "Generate 293 columns as aggregates\n",
      "Generate 293 columns as aggregates\n",
      "Drop 115 columns as almost null\n",
      "Columns to drop ['assignmentdate_4955616D', 'dateofbirth_342D', 'for3years_128L', 'for3years_504L', 'for3years_584L', 'formonth_118L', 'formonth_206L', 'formonth_535L', 'forquarter_1017L', 'forquarter_462L', 'forquarter_634L', 'fortoday_1092L', 'forweek_1077L', 'forweek_528L', 'forweek_601L', 'foryear_618L', 'foryear_818L', 'foryear_850L', 'pmtaverage_4955615A', 'pmtcount_4955617L', 'riskassesment_940T', 'clientscnt_136L', 'deferredmnthsnum_166L', 'equalityempfrom_62L', 'interestrategrace_34L', 'isbidproductrequest_292L', 'lastdependentsnum_448L', 'lastotherinc_902A', 'lastotherlnsexpense_631A', 'lastrepayingdate_696D', 'maxannuity_4075009A', 'payvacationpostpone_4187118D', 'max_name_4917606M', 'min_name_4917606M', 'mode_name_4917606M', 'birthdate_87D', 'childnum_185L', 'housingtype_772L', 'isreference_387L', 'personindex_1023L', 'persontype_1072L', 'persontype_792L', 'relationshiptoclient_415T', 'relationshiptoclient_642T', 'remitter_829L', 'max_birth_259D', 'max_birthdate_87D', 'max_childnum_185L', 'max_contaddr_matchlist_1032L', 'max_contaddr_smempladdr_334L', 'max_empl_employedfrom_271D', 'max_isreference_387L', 'max_mainoccupationinc_384A', 'max_safeguarantyflag_411L', 'min_birth_259D', 'min_birthdate_87D', 'min_childnum_185L', 'min_contaddr_matchlist_1032L', 'min_contaddr_smempladdr_334L', 'min_empl_employedfrom_271D', 'min_isreference_387L', 'min_mainoccupationinc_384A', 'min_safeguarantyflag_411L', 'mean_birth_259D', 'mean_birthdate_87D', 'mean_childnum_185L', 'mean_contaddr_matchlist_1032L', 'mean_contaddr_smempladdr_334L', 'mean_empl_employedfrom_271D', 'mean_isreference_387L', 'mean_mainoccupationinc_384A', 'mean_safeguarantyflag_411L', 'std_birth_259D', 'std_birthdate_87D', 'std_childnum_185L', 'std_contaddr_matchlist_1032L', 'std_contaddr_smempladdr_334L', 'std_empl_employedfrom_271D', 'std_isreference_387L', 'std_mainoccupationinc_384A', 'std_safeguarantyflag_411L', 'max_empl_employedtotal_800L', 'min_empl_employedtotal_800L', 'mode_empl_employedtotal_800L', 'max_empl_industry_691L', 'min_empl_industry_691L', 'mode_empl_industry_691L', 'max_familystate_447L', 'min_familystate_447L', 'mode_familystate_447L', 'max_gender_992L', 'min_gender_992L', 'mode_gender_992L', 'max_housetype_905L', 'min_housetype_905L', 'mode_housetype_905L', 'max_housingtype_772L', 'min_housingtype_772L', 'mode_housingtype_772L', 'max_incometype_1044T', 'min_incometype_1044T', 'mode_incometype_1044T', 'max_maritalst_703L', 'min_maritalst_703L', 'mode_maritalst_703L', 'max_role_993L', 'min_role_993L', 'mode_role_993L', 'max_sex_738L', 'min_sex_738L', 'mode_sex_738L', 'std_pmts_dpd_1073P', 'std_pmts_overdue_1140A', 'std_pmts_dpd_303P', 'std_pmts_overdue_1152A']\n",
      "Create 31 new date diff columns, with base_column=date_decision\n",
      "Create 39 new columns as money feature fraction with base 'credamount_770A'\n",
      "Create 39 new columns as money feature fraction with base 'maininc_215A'\n",
      "Create 39 new columns as money feature fraction with base 'mainoccupationinc_384A'\n",
      "Drop 1 columns as single value\n",
      "Drop 0 columns as variable enum value\n"
     ]
    },
    {
     "data": {
      "text/plain": [
       "0"
      ]
     },
     "execution_count": 6,
     "metadata": {},
     "output_type": "execute_result"
    }
   ],
   "source": [
    "train_dataset_generator = data_loader.load_train_dataset(chunk_size=100000)\n",
    "gc.collect()\n",
    "train_df, columns_info = preprocessor.process_train_dataset(train_dataset_generator)\n",
    "del train_dataset_generator\n",
    "gc.collect()"
   ]
  },
  {
   "cell_type": "code",
   "execution_count": 7,
   "id": "f47edd5b",
   "metadata": {
    "execution": {
     "iopub.execute_input": "2024-04-19T16:11:55.874255Z",
     "iopub.status.busy": "2024-04-19T16:11:55.873808Z",
     "iopub.status.idle": "2024-04-19T16:12:14.776239Z",
     "shell.execute_reply": "2024-04-19T16:12:14.774732Z"
    },
    "papermill": {
     "duration": 18.929554,
     "end_time": "2024-04-19T16:12:14.779489",
     "exception": false,
     "start_time": "2024-04-19T16:11:55.849935",
     "status": "completed"
    },
    "tags": []
   },
   "outputs": [
    {
     "name": "stdout",
     "output_type": "stream",
     "text": [
      "3163.0325593948364\n",
      "shape: (1_526_659, 571)\n",
      "┌─────────┬────────────┬────────┬──────────┬───┬────────────┬────────────┬────────────┬────────────┐\n",
      "│ case_id ┆ date_decis ┆ MONTH  ┆ WEEK_NUM ┆ … ┆ mean_amoun ┆ max_pmtamo ┆ min_pmtamo ┆ mean_pmtam │\n",
      "│ ---     ┆ ion        ┆ ---    ┆ ---      ┆   ┆ t_4917619A ┆ unt_36A/ma ┆ unt_36A/ma ┆ ount_36A/m │\n",
      "│ i32     ┆ ---        ┆ i32    ┆ i16      ┆   ┆ /mainoccup ┆ inoccupati ┆ inoccupati ┆ ainoccupat │\n",
      "│         ┆ i16        ┆        ┆          ┆   ┆ at…        ┆ on…        ┆ on…        ┆ io…        │\n",
      "│         ┆            ┆        ┆          ┆   ┆ ---        ┆ ---        ┆ ---        ┆ ---        │\n",
      "│         ┆            ┆        ┆          ┆   ┆ f32        ┆ f32        ┆ f32        ┆ f32        │\n",
      "╞═════════╪════════════╪════════╪══════════╪═══╪════════════╪════════════╪════════════╪════════════╡\n",
      "│ 0       ┆ 17899      ┆ 201901 ┆ 0        ┆ … ┆ null       ┆ null       ┆ null       ┆ null       │\n",
      "│ 1       ┆ 17899      ┆ 201901 ┆ 0        ┆ … ┆ null       ┆ null       ┆ null       ┆ null       │\n",
      "│ 2       ┆ 17900      ┆ 201901 ┆ 0        ┆ … ┆ null       ┆ null       ┆ null       ┆ null       │\n",
      "│ 3       ┆ 17899      ┆ 201901 ┆ 0        ┆ … ┆ null       ┆ null       ┆ null       ┆ null       │\n",
      "│ 4       ┆ 17900      ┆ 201901 ┆ 0        ┆ … ┆ null       ┆ null       ┆ null       ┆ null       │\n",
      "│ …       ┆ …          ┆ …      ┆ …        ┆ … ┆ …          ┆ …          ┆ …          ┆ …          │\n",
      "│ 2703450 ┆ 18540      ┆ 202010 ┆ 91       ┆ … ┆ null       ┆ null       ┆ null       ┆ null       │\n",
      "│ 2703451 ┆ 18540      ┆ 202010 ┆ 91       ┆ … ┆ null       ┆ null       ┆ null       ┆ null       │\n",
      "│ 2703452 ┆ 18540      ┆ 202010 ┆ 91       ┆ … ┆ 0.359696   ┆ null       ┆ null       ┆ null       │\n",
      "│ 2703453 ┆ 18540      ┆ 202010 ┆ 91       ┆ … ┆ null       ┆ null       ┆ null       ┆ null       │\n",
      "│ 2703454 ┆ 18540      ┆ 202010 ┆ 91       ┆ … ┆ null       ┆ null       ┆ null       ┆ null       │\n",
      "└─────────┴────────────┴────────┴──────────┴───┴────────────┴────────────┴────────────┴────────────┘\n"
     ]
    },
    {
     "data": {
      "text/plain": [
       "0"
      ]
     },
     "execution_count": 7,
     "metadata": {},
     "output_type": "execute_result"
    }
   ],
   "source": [
    "train_df.write_parquet(env.output_directory / \"train_df.parquet\")\n",
    "pickle.dump(columns_info, open(env.output_directory / \"columns_info.pkl\", \"wb\"))\n",
    "print(train_df.estimated_size() / 1024 / 1024)\n",
    "print(train_df)\n",
    "\n",
    "#del train_df\n",
    "gc.collect()"
   ]
  },
  {
   "cell_type": "code",
   "execution_count": 8,
   "id": "aecd9654",
   "metadata": {
    "execution": {
     "iopub.execute_input": "2024-04-19T16:12:14.827858Z",
     "iopub.status.busy": "2024-04-19T16:12:14.826987Z",
     "iopub.status.idle": "2024-04-19T16:12:23.127989Z",
     "shell.execute_reply": "2024-04-19T16:12:23.126975Z"
    },
    "papermill": {
     "duration": 8.32867,
     "end_time": "2024-04-19T16:12:23.131008",
     "exception": false,
     "start_time": "2024-04-19T16:12:14.802338",
     "status": "completed"
    },
    "tags": []
   },
   "outputs": [],
   "source": [
    "train_df1 = pl.read_parquet(env.output_directory / \"train_df.parquet\")"
   ]
  },
  {
   "cell_type": "code",
   "execution_count": 9,
   "id": "dee5fb09",
   "metadata": {
    "execution": {
     "iopub.execute_input": "2024-04-19T16:12:23.177275Z",
     "iopub.status.busy": "2024-04-19T16:12:23.176654Z",
     "iopub.status.idle": "2024-04-19T16:12:23.204373Z",
     "shell.execute_reply": "2024-04-19T16:12:23.203165Z"
    },
    "papermill": {
     "duration": 0.053747,
     "end_time": "2024-04-19T16:12:23.207113",
     "exception": false,
     "start_time": "2024-04-19T16:12:23.153366",
     "status": "completed"
    },
    "tags": []
   },
   "outputs": [
    {
     "data": {
      "text/html": [
       "<div><style>\n",
       ".dataframe > thead > tr,\n",
       ".dataframe > tbody > tr {\n",
       "  text-align: right;\n",
       "  white-space: pre-wrap;\n",
       "}\n",
       "</style>\n",
       "<small>shape: (1_526_659, 571)</small><table border=\"1\" class=\"dataframe\"><thead><tr><th>case_id</th><th>date_decision</th><th>MONTH</th><th>WEEK_NUM</th><th>target</th><th>month_decision</th><th>weekday_decision</th><th>assignmentdate_238D</th><th>assignmentdate_4527235D</th><th>birthdate_574D</th><th>contractssum_5085716L</th><th>dateofbirth_337D</th><th>days120_123L</th><th>days180_256L</th><th>days30_165L</th><th>days360_512L</th><th>days90_310L</th><th>description_5085714M</th><th>education_1103M</th><th>education_88M</th><th>firstquarter_103L</th><th>fourthquarter_440L</th><th>maritalst_385M</th><th>maritalst_893M</th><th>numberofqueries_373L</th><th>pmtaverage_3A</th><th>pmtaverage_4527227A</th><th>pmtcount_4527229L</th><th>pmtcount_693L</th><th>pmtscount_423L</th><th>pmtssum_45A</th><th>requesttype_4525192L</th><th>responsedate_1012D</th><th>responsedate_4527233D</th><th>responsedate_4917613D</th><th>riskassesment_302T</th><th>secondquarter_766L</th><th>&hellip;</th><th>amtinstpaidbefduel24m_4187115A/mainoccupationinc_384A_fraction</th><th>annuity_780A/mainoccupationinc_384A_fraction</th><th>annuitynextmonth_57A/mainoccupationinc_384A_fraction</th><th>avginstallast24m_3658937A/mainoccupationinc_384A_fraction</th><th>avglnamtstart24m_4525187A/mainoccupationinc_384A_fraction</th><th>avgoutstandbalancel6m_4187114A/mainoccupationinc_384A_fraction</th><th>avgpmtlast12m_4525200A/mainoccupationinc_384A_fraction</th><th>credamount_770A/mainoccupationinc_384A_fraction</th><th>currdebt_22A/mainoccupationinc_384A_fraction</th><th>currdebtcredtyperange_828A/mainoccupationinc_384A_fraction</th><th>disbursedcredamount_1113A/mainoccupationinc_384A_fraction</th><th>downpmt_116A/mainoccupationinc_384A_fraction</th><th>inittransactionamount_650A/mainoccupationinc_384A_fraction</th><th>lastapprcredamount_781A/mainoccupationinc_384A_fraction</th><th>lastrejectcredamount_222A/mainoccupationinc_384A_fraction</th><th>maininc_215A/mainoccupationinc_384A_fraction</th><th>maxannuity_159A/mainoccupationinc_384A_fraction</th><th>maxdebt4_972A/mainoccupationinc_384A_fraction</th><th>maxinstallast24m_3658928A/mainoccupationinc_384A_fraction</th><th>maxlnamtstart6m_4525199A/mainoccupationinc_384A_fraction</th><th>maxoutstandbalancel12m_4187113A/mainoccupationinc_384A_fraction</th><th>maxpmtlast3m_4525190A/mainoccupationinc_384A_fraction</th><th>price_1097A/mainoccupationinc_384A_fraction</th><th>sumoutstandtotal_3546847A/mainoccupationinc_384A_fraction</th><th>sumoutstandtotalest_4493215A/mainoccupationinc_384A_fraction</th><th>totaldebt_9A/mainoccupationinc_384A_fraction</th><th>totalsettled_863A/mainoccupationinc_384A_fraction</th><th>totinstallast1m_4525188A/mainoccupationinc_384A_fraction</th><th>max_amount_4527230A/mainoccupationinc_384A_fraction</th><th>min_amount_4527230A/mainoccupationinc_384A_fraction</th><th>mean_amount_4527230A/mainoccupationinc_384A_fraction</th><th>max_amount_4917619A/mainoccupationinc_384A_fraction</th><th>min_amount_4917619A/mainoccupationinc_384A_fraction</th><th>mean_amount_4917619A/mainoccupationinc_384A_fraction</th><th>max_pmtamount_36A/mainoccupationinc_384A_fraction</th><th>min_pmtamount_36A/mainoccupationinc_384A_fraction</th><th>mean_pmtamount_36A/mainoccupationinc_384A_fraction</th></tr><tr><td>i32</td><td>i16</td><td>i32</td><td>i16</td><td>i16</td><td>i16</td><td>i16</td><td>i16</td><td>i16</td><td>i16</td><td>f32</td><td>i16</td><td>f32</td><td>f32</td><td>f32</td><td>f32</td><td>f32</td><td>enum</td><td>enum</td><td>enum</td><td>f32</td><td>f32</td><td>enum</td><td>enum</td><td>f32</td><td>f32</td><td>f32</td><td>f32</td><td>f32</td><td>f32</td><td>f32</td><td>enum</td><td>i16</td><td>i16</td><td>i16</td><td>enum</td><td>f32</td><td>&hellip;</td><td>f32</td><td>f32</td><td>f32</td><td>f32</td><td>f32</td><td>f32</td><td>f32</td><td>f32</td><td>f32</td><td>f32</td><td>f32</td><td>f32</td><td>f32</td><td>f32</td><td>f32</td><td>f32</td><td>f32</td><td>f32</td><td>f32</td><td>f32</td><td>f32</td><td>f32</td><td>f32</td><td>f32</td><td>f32</td><td>f32</td><td>f32</td><td>f32</td><td>f32</td><td>f32</td><td>f32</td><td>f32</td><td>f32</td><td>f32</td><td>f32</td><td>f32</td><td>f32</td></tr></thead><tbody><tr><td>0</td><td>17899</td><td>201901</td><td>0</td><td>0</td><td>1</td><td>4</td><td>null</td><td>null</td><td>null</td><td>null</td><td>null</td><td>null</td><td>null</td><td>null</td><td>null</td><td>null</td><td>&quot;__NULL__&quot;</td><td>&quot;__NULL__&quot;</td><td>&quot;__NULL__&quot;</td><td>null</td><td>null</td><td>&quot;__NULL__&quot;</td><td>&quot;__NULL__&quot;</td><td>null</td><td>null</td><td>null</td><td>null</td><td>null</td><td>null</td><td>null</td><td>&quot;__NULL__&quot;</td><td>null</td><td>null</td><td>null</td><td>&quot;__NULL__&quot;</td><td>null</td><td>&hellip;</td><td>null</td><td>0.177556</td><td>0.0</td><td>null</td><td>null</td><td>null</td><td>null</td><td>2.777778</td><td>0.0</td><td>0.0</td><td>2.777778</td><td>0.0</td><td>null</td><td>null</td><td>null</td><td>null</td><td>0.0</td><td>0.0</td><td>null</td><td>null</td><td>null</td><td>null</td><td>null</td><td>null</td><td>null</td><td>0.0</td><td>0.0</td><td>null</td><td>null</td><td>null</td><td>null</td><td>null</td><td>null</td><td>null</td><td>null</td><td>null</td><td>null</td></tr><tr><td>1</td><td>17899</td><td>201901</td><td>0</td><td>0</td><td>1</td><td>4</td><td>null</td><td>null</td><td>null</td><td>null</td><td>null</td><td>null</td><td>null</td><td>null</td><td>null</td><td>null</td><td>&quot;__NULL__&quot;</td><td>&quot;__NULL__&quot;</td><td>&quot;__NULL__&quot;</td><td>null</td><td>null</td><td>&quot;__NULL__&quot;</td><td>&quot;__NULL__&quot;</td><td>null</td><td>null</td><td>null</td><td>null</td><td>null</td><td>null</td><td>null</td><td>&quot;__NULL__&quot;</td><td>null</td><td>null</td><td>null</td><td>&quot;__NULL__&quot;</td><td>null</td><td>&hellip;</td><td>null</td><td>0.3134</td><td>0.0</td><td>null</td><td>null</td><td>null</td><td>null</td><td>1.99998</td><td>0.0</td><td>0.0</td><td>1.99998</td><td>0.0</td><td>null</td><td>null</td><td>null</td><td>null</td><td>0.0</td><td>0.0</td><td>null</td><td>null</td><td>null</td><td>null</td><td>null</td><td>null</td><td>null</td><td>0.0</td><td>0.0</td><td>null</td><td>null</td><td>null</td><td>null</td><td>null</td><td>null</td><td>null</td><td>null</td><td>null</td><td>null</td></tr><tr><td>2</td><td>17900</td><td>201901</td><td>0</td><td>0</td><td>1</td><td>5</td><td>null</td><td>null</td><td>null</td><td>null</td><td>null</td><td>null</td><td>null</td><td>null</td><td>null</td><td>null</td><td>&quot;__NULL__&quot;</td><td>&quot;__NULL__&quot;</td><td>&quot;__NULL__&quot;</td><td>null</td><td>null</td><td>&quot;__NULL__&quot;</td><td>&quot;__NULL__&quot;</td><td>null</td><td>null</td><td>null</td><td>null</td><td>null</td><td>null</td><td>null</td><td>&quot;__NULL__&quot;</td><td>null</td><td>null</td><td>null</td><td>&quot;__NULL__&quot;</td><td>null</td><td>&hellip;</td><td>null</td><td>0.352643</td><td>0.0</td><td>null</td><td>null</td><td>null</td><td>null</td><td>5.571429</td><td>0.0</td><td>0.0</td><td>5.571429</td><td>0.0</td><td>null</td><td>null</td><td>0.714286</td><td>null</td><td>0.0</td><td>0.0</td><td>null</td><td>null</td><td>null</td><td>null</td><td>null</td><td>null</td><td>null</td><td>0.0</td><td>0.0</td><td>null</td><td>null</td><td>null</td><td>null</td><td>null</td><td>null</td><td>null</td><td>null</td><td>null</td><td>null</td></tr><tr><td>3</td><td>17899</td><td>201901</td><td>0</td><td>0</td><td>1</td><td>4</td><td>null</td><td>null</td><td>null</td><td>null</td><td>null</td><td>null</td><td>null</td><td>null</td><td>null</td><td>null</td><td>&quot;__NULL__&quot;</td><td>&quot;__NULL__&quot;</td><td>&quot;__NULL__&quot;</td><td>null</td><td>null</td><td>&quot;__NULL__&quot;</td><td>&quot;__NULL__&quot;</td><td>null</td><td>null</td><td>null</td><td>null</td><td>null</td><td>null</td><td>null</td><td>&quot;__NULL__&quot;</td><td>null</td><td>null</td><td>null</td><td>&quot;__NULL__&quot;</td><td>null</td><td>&hellip;</td><td>null</td><td>0.46436</td><td>0.0</td><td>null</td><td>null</td><td>null</td><td>null</td><td>4.0</td><td>0.0</td><td>0.0</td><td>4.0</td><td>0.0</td><td>null</td><td>null</td><td>5.99998</td><td>null</td><td>0.0</td><td>0.0</td><td>null</td><td>null</td><td>null</td><td>null</td><td>null</td><td>null</td><td>null</td><td>0.0</td><td>0.0</td><td>null</td><td>null</td><td>null</td><td>null</td><td>null</td><td>null</td><td>null</td><td>null</td><td>null</td><td>null</td></tr><tr><td>4</td><td>17900</td><td>201901</td><td>0</td><td>1</td><td>1</td><td>5</td><td>null</td><td>null</td><td>null</td><td>null</td><td>null</td><td>null</td><td>null</td><td>null</td><td>null</td><td>null</td><td>&quot;__NULL__&quot;</td><td>&quot;__NULL__&quot;</td><td>&quot;__NULL__&quot;</td><td>null</td><td>null</td><td>&quot;__NULL__&quot;</td><td>&quot;__NULL__&quot;</td><td>null</td><td>null</td><td>null</td><td>null</td><td>null</td><td>null</td><td>null</td><td>&quot;__NULL__&quot;</td><td>null</td><td>null</td><td>null</td><td>&quot;__NULL__&quot;</td><td>null</td><td>&hellip;</td><td>null</td><td>0.141258</td><td>0.0</td><td>null</td><td>null</td><td>null</td><td>null</td><td>1.833333</td><td>0.0</td><td>0.0</td><td>1.833333</td><td>0.0</td><td>null</td><td>null</td><td>null</td><td>null</td><td>0.0</td><td>0.0</td><td>null</td><td>null</td><td>null</td><td>null</td><td>null</td><td>null</td><td>null</td><td>0.0</td><td>0.0</td><td>null</td><td>null</td><td>null</td><td>null</td><td>null</td><td>null</td><td>null</td><td>null</td><td>null</td><td>null</td></tr><tr><td>&hellip;</td><td>&hellip;</td><td>&hellip;</td><td>&hellip;</td><td>&hellip;</td><td>&hellip;</td><td>&hellip;</td><td>&hellip;</td><td>&hellip;</td><td>&hellip;</td><td>&hellip;</td><td>&hellip;</td><td>&hellip;</td><td>&hellip;</td><td>&hellip;</td><td>&hellip;</td><td>&hellip;</td><td>&hellip;</td><td>&hellip;</td><td>&hellip;</td><td>&hellip;</td><td>&hellip;</td><td>&hellip;</td><td>&hellip;</td><td>&hellip;</td><td>&hellip;</td><td>&hellip;</td><td>&hellip;</td><td>&hellip;</td><td>&hellip;</td><td>&hellip;</td><td>&hellip;</td><td>&hellip;</td><td>&hellip;</td><td>&hellip;</td><td>&hellip;</td><td>&hellip;</td><td>&hellip;</td><td>&hellip;</td><td>&hellip;</td><td>&hellip;</td><td>&hellip;</td><td>&hellip;</td><td>&hellip;</td><td>&hellip;</td><td>&hellip;</td><td>&hellip;</td><td>&hellip;</td><td>&hellip;</td><td>&hellip;</td><td>&hellip;</td><td>&hellip;</td><td>&hellip;</td><td>&hellip;</td><td>&hellip;</td><td>&hellip;</td><td>&hellip;</td><td>&hellip;</td><td>&hellip;</td><td>&hellip;</td><td>&hellip;</td><td>&hellip;</td><td>&hellip;</td><td>&hellip;</td><td>&hellip;</td><td>&hellip;</td><td>&hellip;</td><td>&hellip;</td><td>&hellip;</td><td>&hellip;</td><td>&hellip;</td><td>&hellip;</td><td>&hellip;</td><td>&hellip;</td><td>&hellip;</td></tr><tr><td>2703450</td><td>18540</td><td>202010</td><td>91</td><td>0</td><td>10</td><td>1</td><td>null</td><td>null</td><td>null</td><td>52863.589844</td><td>-3653</td><td>0.0</td><td>0.0</td><td>0.0</td><td>0.0</td><td>0.0</td><td>&quot;2fc785b2&quot;</td><td>&quot;a55475b1&quot;</td><td>&quot;a55475b1&quot;</td><td>0.0</td><td>1.0</td><td>&quot;a55475b1&quot;</td><td>&quot;a55475b1&quot;</td><td>0.0</td><td>null</td><td>null</td><td>null</td><td>null</td><td>null</td><td>null</td><td>&quot;__NULL__&quot;</td><td>null</td><td>null</td><td>18554</td><td>&quot;__NULL__&quot;</td><td>1.0</td><td>&hellip;</td><td>4.414034</td><td>0.091885</td><td>0.0</td><td>0.18392</td><td>null</td><td>0.409812</td><td>0.168755</td><td>0.75</td><td>0.0</td><td>0.0</td><td>0.75</td><td>0.0</td><td>null</td><td>0.5005</td><td>3.75</td><td>0.9</td><td>1.888048</td><td>2.625495</td><td>1.167955</td><td>1.241285</td><td>1.938344</td><td>0.358658</td><td>0.0</td><td>0.0</td><td>0.0</td><td>0.0</td><td>10.703991</td><td>0.358658</td><td>null</td><td>null</td><td>null</td><td>null</td><td>null</td><td>null</td><td>null</td><td>null</td><td>null</td></tr><tr><td>2703451</td><td>18540</td><td>202010</td><td>91</td><td>0</td><td>10</td><td>1</td><td>null</td><td>null</td><td>null</td><td>324608.53125</td><td>-7001</td><td>0.0</td><td>0.0</td><td>0.0</td><td>0.0</td><td>0.0</td><td>&quot;2fc785b2&quot;</td><td>&quot;a55475b1&quot;</td><td>&quot;a55475b1&quot;</td><td>1.0</td><td>0.0</td><td>&quot;a55475b1&quot;</td><td>&quot;a55475b1&quot;</td><td>0.0</td><td>null</td><td>null</td><td>null</td><td>null</td><td>null</td><td>null</td><td>&quot;__NULL__&quot;</td><td>null</td><td>null</td><td>18554</td><td>&quot;__NULL__&quot;</td><td>1.0</td><td>&hellip;</td><td>8.186861</td><td>0.192625</td><td>0.16825</td><td>0.34112</td><td>null</td><td>2.856775</td><td>0.428815</td><td>2.717391</td><td>1.8505</td><td>1.8505</td><td>1.107053</td><td>0.0</td><td>null</td><td>0.0</td><td>null</td><td>null</td><td>3.186185</td><td>5.510205</td><td>1.100538</td><td>3.174277</td><td>6.794326</td><td>1.100538</td><td>null</td><td>1.8505</td><td>1.8505</td><td>1.8505</td><td>19.055634</td><td>1.100538</td><td>null</td><td>null</td><td>null</td><td>null</td><td>null</td><td>null</td><td>null</td><td>null</td><td>null</td></tr><tr><td>2703452</td><td>18540</td><td>202010</td><td>91</td><td>0</td><td>10</td><td>1</td><td>null</td><td>null</td><td>null</td><td>102738.757812</td><td>2769</td><td>2.0</td><td>2.0</td><td>0.0</td><td>3.0</td><td>2.0</td><td>&quot;2fc785b2&quot;</td><td>&quot;a55475b1&quot;</td><td>&quot;a55475b1&quot;</td><td>0.0</td><td>1.0</td><td>&quot;a55475b1&quot;</td><td>&quot;a55475b1&quot;</td><td>3.0</td><td>null</td><td>null</td><td>null</td><td>null</td><td>null</td><td>null</td><td>&quot;__NULL__&quot;</td><td>null</td><td>null</td><td>18554</td><td>&quot;__NULL__&quot;</td><td>0.0</td><td>&hellip;</td><td>0.474413</td><td>0.259627</td><td>0.0</td><td>0.088747</td><td>null</td><td>null</td><td>0.05002</td><td>2.0</td><td>0.0</td><td>0.0</td><td>2.0</td><td>0.0</td><td>null</td><td>0.133267</td><td>null</td><td>0.8</td><td>0.22</td><td>0.571447</td><td>0.108113</td><td>0.1394</td><td>0.0</td><td>null</td><td>0.0</td><td>0.0</td><td>0.0</td><td>0.0</td><td>0.800067</td><td>null</td><td>null</td><td>null</td><td>null</td><td>0.5184</td><td>0.20112</td><td>0.359696</td><td>null</td><td>null</td><td>null</td></tr><tr><td>2703453</td><td>18540</td><td>202010</td><td>91</td><td>0</td><td>10</td><td>1</td><td>null</td><td>null</td><td>null</td><td>212683.296875</td><td>-7274</td><td>2.0</td><td>2.0</td><td>1.0</td><td>4.0</td><td>1.0</td><td>&quot;2fc785b2&quot;</td><td>&quot;6b2ae0fa&quot;</td><td>&quot;a55475b1&quot;</td><td>1.0</td><td>3.0</td><td>&quot;3439d993&quot;</td><td>&quot;a55475b1&quot;</td><td>4.0</td><td>null</td><td>null</td><td>null</td><td>null</td><td>null</td><td>null</td><td>&quot;__NULL__&quot;</td><td>null</td><td>null</td><td>18552</td><td>&quot;__NULL__&quot;</td><td>2.0</td><td>&hellip;</td><td>6.579052</td><td>0.039847</td><td>0.09424</td><td>0.273753</td><td>null</td><td>1.598102</td><td>0.330707</td><td>0.2</td><td>1.56022</td><td>1.56022</td><td>0.2</td><td>0.0</td><td>null</td><td>0.0</td><td>0.073267</td><td>null</td><td>5.440067</td><td>4.226</td><td>2.958027</td><td>3.142174</td><td>2.720153</td><td>0.09424</td><td>0.0</td><td>1.56022</td><td>1.56022</td><td>1.56022</td><td>14.671511</td><td>0.18848</td><td>null</td><td>null</td><td>null</td><td>null</td><td>null</td><td>null</td><td>null</td><td>null</td><td>null</td></tr><tr><td>2703454</td><td>18540</td><td>202010</td><td>91</td><td>0</td><td>10</td><td>1</td><td>null</td><td>null</td><td>null</td><td>42757.890625</td><td>-7945</td><td>1.0</td><td>1.0</td><td>0.0</td><td>1.0</td><td>0.0</td><td>&quot;2fc785b2&quot;</td><td>&quot;a55475b1&quot;</td><td>&quot;a55475b1&quot;</td><td>0.0</td><td>0.0</td><td>&quot;b6cabe76&quot;</td><td>&quot;a55475b1&quot;</td><td>1.0</td><td>null</td><td>null</td><td>null</td><td>null</td><td>null</td><td>null</td><td>&quot;__NULL__&quot;</td><td>null</td><td>null</td><td>18554</td><td>&quot;__NULL__&quot;</td><td>2.0</td><td>&hellip;</td><td>2.10532</td><td>0.115071</td><td>0.075807</td><td>0.162574</td><td>0.406041</td><td>0.397254</td><td>0.161218</td><td>1.000355</td><td>0.150234</td><td>0.0</td><td>0.857881</td><td>0.0</td><td>null</td><td>0.406041</td><td>null</td><td>0.609137</td><td>0.409871</td><td>1.623858</td><td>0.246447</td><td>1.406391</td><td>1.534554</td><td>0.246447</td><td>null</td><td>0.226376</td><td>0.226376</td><td>0.150234</td><td>2.360395</td><td>0.075807</td><td>null</td><td>null</td><td>null</td><td>null</td><td>null</td><td>null</td><td>null</td><td>null</td><td>null</td></tr></tbody></table></div>"
      ],
      "text/plain": [
       "shape: (1_526_659, 571)\n",
       "┌─────────┬────────────┬────────┬──────────┬───┬────────────┬────────────┬────────────┬────────────┐\n",
       "│ case_id ┆ date_decis ┆ MONTH  ┆ WEEK_NUM ┆ … ┆ mean_amoun ┆ max_pmtamo ┆ min_pmtamo ┆ mean_pmtam │\n",
       "│ ---     ┆ ion        ┆ ---    ┆ ---      ┆   ┆ t_4917619A ┆ unt_36A/ma ┆ unt_36A/ma ┆ ount_36A/m │\n",
       "│ i32     ┆ ---        ┆ i32    ┆ i16      ┆   ┆ /mainoccup ┆ inoccupati ┆ inoccupati ┆ ainoccupat │\n",
       "│         ┆ i16        ┆        ┆          ┆   ┆ at…        ┆ on…        ┆ on…        ┆ io…        │\n",
       "│         ┆            ┆        ┆          ┆   ┆ ---        ┆ ---        ┆ ---        ┆ ---        │\n",
       "│         ┆            ┆        ┆          ┆   ┆ f32        ┆ f32        ┆ f32        ┆ f32        │\n",
       "╞═════════╪════════════╪════════╪══════════╪═══╪════════════╪════════════╪════════════╪════════════╡\n",
       "│ 0       ┆ 17899      ┆ 201901 ┆ 0        ┆ … ┆ null       ┆ null       ┆ null       ┆ null       │\n",
       "│ 1       ┆ 17899      ┆ 201901 ┆ 0        ┆ … ┆ null       ┆ null       ┆ null       ┆ null       │\n",
       "│ 2       ┆ 17900      ┆ 201901 ┆ 0        ┆ … ┆ null       ┆ null       ┆ null       ┆ null       │\n",
       "│ 3       ┆ 17899      ┆ 201901 ┆ 0        ┆ … ┆ null       ┆ null       ┆ null       ┆ null       │\n",
       "│ 4       ┆ 17900      ┆ 201901 ┆ 0        ┆ … ┆ null       ┆ null       ┆ null       ┆ null       │\n",
       "│ …       ┆ …          ┆ …      ┆ …        ┆ … ┆ …          ┆ …          ┆ …          ┆ …          │\n",
       "│ 2703450 ┆ 18540      ┆ 202010 ┆ 91       ┆ … ┆ null       ┆ null       ┆ null       ┆ null       │\n",
       "│ 2703451 ┆ 18540      ┆ 202010 ┆ 91       ┆ … ┆ null       ┆ null       ┆ null       ┆ null       │\n",
       "│ 2703452 ┆ 18540      ┆ 202010 ┆ 91       ┆ … ┆ 0.359696   ┆ null       ┆ null       ┆ null       │\n",
       "│ 2703453 ┆ 18540      ┆ 202010 ┆ 91       ┆ … ┆ null       ┆ null       ┆ null       ┆ null       │\n",
       "│ 2703454 ┆ 18540      ┆ 202010 ┆ 91       ┆ … ┆ null       ┆ null       ┆ null       ┆ null       │\n",
       "└─────────┴────────────┴────────┴──────────┴───┴────────────┴────────────┴────────────┴────────────┘"
      ]
     },
     "execution_count": 9,
     "metadata": {},
     "output_type": "execute_result"
    }
   ],
   "source": [
    "train_df"
   ]
  },
  {
   "cell_type": "code",
   "execution_count": 10,
   "id": "a33f8011",
   "metadata": {
    "execution": {
     "iopub.execute_input": "2024-04-19T16:12:23.253967Z",
     "iopub.status.busy": "2024-04-19T16:12:23.253518Z",
     "iopub.status.idle": "2024-04-19T16:12:33.360603Z",
     "shell.execute_reply": "2024-04-19T16:12:33.359386Z"
    },
    "papermill": {
     "duration": 10.133758,
     "end_time": "2024-04-19T16:12:33.363427",
     "exception": false,
     "start_time": "2024-04-19T16:12:23.229669",
     "status": "completed"
    },
    "tags": []
   },
   "outputs": [
    {
     "name": "stdout",
     "output_type": "stream",
     "text": [
      "Generate 293 columns as aggregates\n",
      "Create 31 new date diff columns, with base_column=date_decision\n",
      "Create 39 new columns as money feature fraction with base 'credamount_770A'\n",
      "Create 39 new columns as money feature fraction with base 'maininc_215A'\n",
      "Create 39 new columns as money feature fraction with base 'mainoccupationinc_384A'\n"
     ]
    },
    {
     "data": {
      "text/plain": [
       "0"
      ]
     },
     "execution_count": 10,
     "metadata": {},
     "output_type": "execute_result"
    }
   ],
   "source": [
    "test_dataset_generator = data_loader.load_test_dataset(chunk_size=100000)\n",
    "gc.collect()\n",
    "test_df, columns_info = preprocessor.process_test_dataset(test_dataset_generator)\n",
    "del test_dataset_generator\n",
    "gc.collect()"
   ]
  },
  {
   "cell_type": "code",
   "execution_count": 11,
   "id": "2f5d8862",
   "metadata": {
    "execution": {
     "iopub.execute_input": "2024-04-19T16:12:33.413037Z",
     "iopub.status.busy": "2024-04-19T16:12:33.412380Z",
     "iopub.status.idle": "2024-04-19T16:12:33.702701Z",
     "shell.execute_reply": "2024-04-19T16:12:33.701615Z"
    },
    "papermill": {
     "duration": 0.318948,
     "end_time": "2024-04-19T16:12:33.705235",
     "exception": false,
     "start_time": "2024-04-19T16:12:33.386287",
     "status": "completed"
    },
    "tags": []
   },
   "outputs": [
    {
     "name": "stdout",
     "output_type": "stream",
     "text": [
      "0.034234046936035156\n",
      "shape: (10, 570)\n",
      "┌─────────┬────────────┬────────┬──────────┬───┬────────────┬────────────┬────────────┬────────────┐\n",
      "│ case_id ┆ date_decis ┆ MONTH  ┆ WEEK_NUM ┆ … ┆ mean_amoun ┆ max_pmtamo ┆ min_pmtamo ┆ mean_pmtam │\n",
      "│ ---     ┆ ion        ┆ ---    ┆ ---      ┆   ┆ t_4917619A ┆ unt_36A/ma ┆ unt_36A/ma ┆ ount_36A/m │\n",
      "│ i32     ┆ ---        ┆ i32    ┆ i16      ┆   ┆ /mainoccup ┆ inoccupati ┆ inoccupati ┆ ainoccupat │\n",
      "│         ┆ i16        ┆        ┆          ┆   ┆ at…        ┆ on…        ┆ on…        ┆ io…        │\n",
      "│         ┆            ┆        ┆          ┆   ┆ ---        ┆ ---        ┆ ---        ┆ ---        │\n",
      "│         ┆            ┆        ┆          ┆   ┆ f32        ┆ f32        ┆ f32        ┆ f32        │\n",
      "╞═════════╪════════════╪════════╪══════════╪═══╪════════════╪════════════╪════════════╪════════════╡\n",
      "│ 57543   ┆ 18761      ┆ 202201 ┆ 100      ┆ … ┆ 0.743977   ┆ null       ┆ null       ┆ null       │\n",
      "│ 57549   ┆ 19009      ┆ 202201 ┆ 100      ┆ … ┆ null       ┆ null       ┆ null       ┆ null       │\n",
      "│ 57551   ┆ 18593      ┆ 202201 ┆ 100      ┆ … ┆ 0.147574   ┆ null       ┆ null       ┆ null       │\n",
      "│ 57552   ┆ 18593      ┆ 202201 ┆ 100      ┆ … ┆ null       ┆ null       ┆ null       ┆ null       │\n",
      "│ 57569   ┆ 18981      ┆ 202201 ┆ 100      ┆ … ┆ null       ┆ null       ┆ null       ┆ null       │\n",
      "│ 57630   ┆ 18702      ┆ 202201 ┆ 100      ┆ … ┆ null       ┆ null       ┆ null       ┆ null       │\n",
      "│ 57631   ┆ 19147      ┆ 202201 ┆ 100      ┆ … ┆ null       ┆ null       ┆ null       ┆ null       │\n",
      "│ 57632   ┆ 19028      ┆ 202201 ┆ 100      ┆ … ┆ null       ┆ null       ┆ null       ┆ null       │\n",
      "│ 57633   ┆ 19017      ┆ 202201 ┆ 100      ┆ … ┆ null       ┆ null       ┆ null       ┆ null       │\n",
      "│ 57634   ┆ 18654      ┆ 202201 ┆ 100      ┆ … ┆ null       ┆ null       ┆ null       ┆ null       │\n",
      "└─────────┴────────────┴────────┴──────────┴───┴────────────┴────────────┴────────────┴────────────┘\n"
     ]
    },
    {
     "data": {
      "text/plain": [
       "0"
      ]
     },
     "execution_count": 11,
     "metadata": {},
     "output_type": "execute_result"
    }
   ],
   "source": [
    "test_df.write_parquet(env.output_directory / \"test_df.parquet\")\n",
    "print(test_df.estimated_size() / 1024 / 1024)\n",
    "print(test_df)\n",
    "\n",
    "del test_df\n",
    "gc.collect()"
   ]
  },
  {
   "cell_type": "markdown",
   "id": "3e3fd7cb",
   "metadata": {
    "_kg_hide-input": true,
    "papermill": {
     "duration": 0.02432,
     "end_time": "2024-04-19T16:12:33.753781",
     "exception": false,
     "start_time": "2024-04-19T16:12:33.729461",
     "status": "completed"
    },
    "tags": []
   },
   "source": [
    "# Data visualization"
   ]
  },
  {
   "cell_type": "code",
   "execution_count": null,
   "id": "76fe9c46",
   "metadata": {
    "papermill": {
     "duration": 0.026677,
     "end_time": "2024-04-19T16:12:33.806703",
     "exception": false,
     "start_time": "2024-04-19T16:12:33.780026",
     "status": "completed"
    },
    "tags": []
   },
   "outputs": [],
   "source": []
  },
  {
   "cell_type": "code",
   "execution_count": 12,
   "id": "6b27dec0",
   "metadata": {
    "execution": {
     "iopub.execute_input": "2024-04-19T16:12:33.857243Z",
     "iopub.status.busy": "2024-04-19T16:12:33.856779Z",
     "iopub.status.idle": "2024-04-19T16:12:33.862345Z",
     "shell.execute_reply": "2024-04-19T16:12:33.861127Z"
    },
    "papermill": {
     "duration": 0.034081,
     "end_time": "2024-04-19T16:12:33.865040",
     "exception": false,
     "start_time": "2024-04-19T16:12:33.830959",
     "status": "completed"
    },
    "tags": []
   },
   "outputs": [],
   "source": [
    "# train_dataset = data_loader.load_train_dataset()"
   ]
  },
  {
   "cell_type": "code",
   "execution_count": 13,
   "id": "26896c3c",
   "metadata": {
    "execution": {
     "iopub.execute_input": "2024-04-19T16:12:33.915214Z",
     "iopub.status.busy": "2024-04-19T16:12:33.914750Z",
     "iopub.status.idle": "2024-04-19T16:12:33.920146Z",
     "shell.execute_reply": "2024-04-19T16:12:33.919094Z"
    },
    "papermill": {
     "duration": 0.033112,
     "end_time": "2024-04-19T16:12:33.922463",
     "exception": false,
     "start_time": "2024-04-19T16:12:33.889351",
     "status": "completed"
    },
    "tags": []
   },
   "outputs": [],
   "source": [
    "# [column for column in train_df.columns if \"amtdebitincoming_4809443A\" in column]"
   ]
  },
  {
   "cell_type": "code",
   "execution_count": 14,
   "id": "0df66da3",
   "metadata": {
    "execution": {
     "iopub.execute_input": "2024-04-19T16:12:33.972281Z",
     "iopub.status.busy": "2024-04-19T16:12:33.971792Z",
     "iopub.status.idle": "2024-04-19T16:12:33.977025Z",
     "shell.execute_reply": "2024-04-19T16:12:33.975881Z"
    },
    "papermill": {
     "duration": 0.033529,
     "end_time": "2024-04-19T16:12:33.979788",
     "exception": false,
     "start_time": "2024-04-19T16:12:33.946259",
     "status": "completed"
    },
    "tags": []
   },
   "outputs": [],
   "source": [
    "# train_dataset.get_base()[\"target\"].mean()"
   ]
  },
  {
   "cell_type": "code",
   "execution_count": 15,
   "id": "bc4d4512",
   "metadata": {
    "execution": {
     "iopub.execute_input": "2024-04-19T16:12:34.033921Z",
     "iopub.status.busy": "2024-04-19T16:12:34.032624Z",
     "iopub.status.idle": "2024-04-19T16:12:34.038667Z",
     "shell.execute_reply": "2024-04-19T16:12:34.037558Z"
    },
    "papermill": {
     "duration": 0.034204,
     "end_time": "2024-04-19T16:12:34.041485",
     "exception": false,
     "start_time": "2024-04-19T16:12:34.007281",
     "status": "completed"
    },
    "tags": []
   },
   "outputs": [],
   "source": [
    "# tables = {name: table for name, table in train_dataset.get_depth_tables(1)}"
   ]
  },
  {
   "cell_type": "code",
   "execution_count": 16,
   "id": "43a0f9ea",
   "metadata": {
    "execution": {
     "iopub.execute_input": "2024-04-19T16:12:34.093914Z",
     "iopub.status.busy": "2024-04-19T16:12:34.092716Z",
     "iopub.status.idle": "2024-04-19T16:12:34.097953Z",
     "shell.execute_reply": "2024-04-19T16:12:34.097149Z"
    },
    "papermill": {
     "duration": 0.034514,
     "end_time": "2024-04-19T16:12:34.100211",
     "exception": false,
     "start_time": "2024-04-19T16:12:34.065697",
     "status": "completed"
    },
    "tags": []
   },
   "outputs": [],
   "source": [
    "# applprev_1 = tables[\"applprev_1\"]"
   ]
  },
  {
   "cell_type": "code",
   "execution_count": 17,
   "id": "1ac054ea",
   "metadata": {
    "execution": {
     "iopub.execute_input": "2024-04-19T16:12:34.150998Z",
     "iopub.status.busy": "2024-04-19T16:12:34.150136Z",
     "iopub.status.idle": "2024-04-19T16:12:34.155402Z",
     "shell.execute_reply": "2024-04-19T16:12:34.154389Z"
    },
    "papermill": {
     "duration": 0.033286,
     "end_time": "2024-04-19T16:12:34.157900",
     "exception": false,
     "start_time": "2024-04-19T16:12:34.124614",
     "status": "completed"
    },
    "tags": []
   },
   "outputs": [],
   "source": [
    "# joined = applprev_1[\"case_id\"].value_counts().join(train_dataset.get_base()[[\"case_id\", \"target\"]], on=\"case_id\").sort(\"count\")\n",
    "# joined.filter(pl.col(\"target\") == 1)"
   ]
  },
  {
   "cell_type": "code",
   "execution_count": 18,
   "id": "6aea3790",
   "metadata": {
    "execution": {
     "iopub.execute_input": "2024-04-19T16:12:34.209150Z",
     "iopub.status.busy": "2024-04-19T16:12:34.207910Z",
     "iopub.status.idle": "2024-04-19T16:12:34.213168Z",
     "shell.execute_reply": "2024-04-19T16:12:34.212204Z"
    },
    "papermill": {
     "duration": 0.033849,
     "end_time": "2024-04-19T16:12:34.215614",
     "exception": false,
     "start_time": "2024-04-19T16:12:34.181765",
     "status": "completed"
    },
    "tags": []
   },
   "outputs": [],
   "source": [
    "# base = train_dataset.get_base()"
   ]
  },
  {
   "cell_type": "code",
   "execution_count": 19,
   "id": "4b5cbe15",
   "metadata": {
    "execution": {
     "iopub.execute_input": "2024-04-19T16:12:34.266485Z",
     "iopub.status.busy": "2024-04-19T16:12:34.265719Z",
     "iopub.status.idle": "2024-04-19T16:12:34.270799Z",
     "shell.execute_reply": "2024-04-19T16:12:34.269507Z"
    },
    "papermill": {
     "duration": 0.033986,
     "end_time": "2024-04-19T16:12:34.273333",
     "exception": false,
     "start_time": "2024-04-19T16:12:34.239347",
     "status": "completed"
    },
    "tags": []
   },
   "outputs": [],
   "source": [
    "# base.filter(pl.col(\"case_id\") == 2702490)"
   ]
  },
  {
   "cell_type": "code",
   "execution_count": 20,
   "id": "29103cbc",
   "metadata": {
    "execution": {
     "iopub.execute_input": "2024-04-19T16:12:34.325796Z",
     "iopub.status.busy": "2024-04-19T16:12:34.325007Z",
     "iopub.status.idle": "2024-04-19T16:12:34.329463Z",
     "shell.execute_reply": "2024-04-19T16:12:34.328332Z"
    },
    "papermill": {
     "duration": 0.032125,
     "end_time": "2024-04-19T16:12:34.331920",
     "exception": false,
     "start_time": "2024-04-19T16:12:34.299795",
     "status": "completed"
    },
    "tags": []
   },
   "outputs": [],
   "source": [
    "# applprev_1.filter(applprev_1[\"case_id\"] == 2702490).sort(\"num_group1\")\n",
    "#base.filter(pl.col(\"case_id\") == 176526)"
   ]
  },
  {
   "cell_type": "code",
   "execution_count": 21,
   "id": "f1c57233",
   "metadata": {
    "execution": {
     "iopub.execute_input": "2024-04-19T16:12:34.380421Z",
     "iopub.status.busy": "2024-04-19T16:12:34.379669Z",
     "iopub.status.idle": "2024-04-19T16:12:34.384233Z",
     "shell.execute_reply": "2024-04-19T16:12:34.383313Z"
    },
    "papermill": {
     "duration": 0.031333,
     "end_time": "2024-04-19T16:12:34.386653",
     "exception": false,
     "start_time": "2024-04-19T16:12:34.355320",
     "status": "completed"
    },
    "tags": []
   },
   "outputs": [],
   "source": [
    "# applprev_1.filter(applprev_1[\"case_id\"] == 2702490).sort(\"num_group1\")[[\"credamount_590A\", \"mainoccupationinc_437A\", \"rejectreason_755M\", \"rejectreasonclient_4145042M\"]]\n"
   ]
  },
  {
   "cell_type": "code",
   "execution_count": 22,
   "id": "31fb7be9",
   "metadata": {
    "execution": {
     "iopub.execute_input": "2024-04-19T16:12:34.441847Z",
     "iopub.status.busy": "2024-04-19T16:12:34.440869Z",
     "iopub.status.idle": "2024-04-19T16:12:34.445681Z",
     "shell.execute_reply": "2024-04-19T16:12:34.444719Z"
    },
    "papermill": {
     "duration": 0.035649,
     "end_time": "2024-04-19T16:12:34.448064",
     "exception": false,
     "start_time": "2024-04-19T16:12:34.412415",
     "status": "completed"
    },
    "tags": []
   },
   "outputs": [],
   "source": [
    "# applprev_1.filter(applprev_1[\"case_id\"] == 176526).sort(\"num_group1\")[[\"credamount_590A\", \"mainoccupationinc_437A\", \"rejectreason_755M\", \"rejectreasonclient_4145042M\"]]a"
   ]
  },
  {
   "cell_type": "code",
   "execution_count": 23,
   "id": "b24b9fab",
   "metadata": {
    "execution": {
     "iopub.execute_input": "2024-04-19T16:12:34.496979Z",
     "iopub.status.busy": "2024-04-19T16:12:34.496207Z",
     "iopub.status.idle": "2024-04-19T16:12:34.500906Z",
     "shell.execute_reply": "2024-04-19T16:12:34.499614Z"
    },
    "papermill": {
     "duration": 0.032658,
     "end_time": "2024-04-19T16:12:34.503587",
     "exception": false,
     "start_time": "2024-04-19T16:12:34.470929",
     "status": "completed"
    },
    "tags": []
   },
   "outputs": [],
   "source": [
    "# applprev_1.filter(applprev_1[\"case_id\"] == 176526).sort(\"num_group1\")"
   ]
  },
  {
   "cell_type": "code",
   "execution_count": 24,
   "id": "9bb5c8dd",
   "metadata": {
    "execution": {
     "iopub.execute_input": "2024-04-19T16:12:34.557367Z",
     "iopub.status.busy": "2024-04-19T16:12:34.556626Z",
     "iopub.status.idle": "2024-04-19T16:12:34.561050Z",
     "shell.execute_reply": "2024-04-19T16:12:34.560162Z"
    },
    "papermill": {
     "duration": 0.032139,
     "end_time": "2024-04-19T16:12:34.563349",
     "exception": false,
     "start_time": "2024-04-19T16:12:34.531210",
     "status": "completed"
    },
    "tags": []
   },
   "outputs": [],
   "source": [
    "# FreatureDescriptionGetter().get(\"rejectreasonclient_4145042M\")"
   ]
  },
  {
   "cell_type": "code",
   "execution_count": 25,
   "id": "9ec2cfa7",
   "metadata": {
    "execution": {
     "iopub.execute_input": "2024-04-19T16:12:34.612103Z",
     "iopub.status.busy": "2024-04-19T16:12:34.611661Z",
     "iopub.status.idle": "2024-04-19T16:12:34.616818Z",
     "shell.execute_reply": "2024-04-19T16:12:34.615535Z"
    },
    "papermill": {
     "duration": 0.033118,
     "end_time": "2024-04-19T16:12:34.619558",
     "exception": false,
     "start_time": "2024-04-19T16:12:34.586440",
     "status": "completed"
    },
    "tags": []
   },
   "outputs": [],
   "source": [
    "# def bucket_mean_split(x, y, buckets=100):\n",
    "#     x_buckets = []\n",
    "#     y_buckets = []\n",
    "\n",
    "#     x = np.array(x)\n",
    "#     y = np.array(y)\n",
    "#     x_quantiles = [np.quantile(x, i / buckets) for i in range(0, buckets + 1)]\n",
    "#     for i in range(0, buckets):\n",
    "#         filter = (x >= x_quantiles[i]) & (x <= x_quantiles[i + 1])\n",
    "#         x_buckets.append(np.mean(x[filter]))\n",
    "#         y_buckets.append(np.mean(y[filter]))\n",
    "#     return x_buckets, y_buckets"
   ]
  },
  {
   "cell_type": "code",
   "execution_count": 26,
   "id": "466278e8",
   "metadata": {
    "execution": {
     "iopub.execute_input": "2024-04-19T16:12:34.669899Z",
     "iopub.status.busy": "2024-04-19T16:12:34.668640Z",
     "iopub.status.idle": "2024-04-19T16:12:34.673366Z",
     "shell.execute_reply": "2024-04-19T16:12:34.672443Z"
    },
    "papermill": {
     "duration": 0.031101,
     "end_time": "2024-04-19T16:12:34.675570",
     "exception": false,
     "start_time": "2024-04-19T16:12:34.644469",
     "status": "completed"
    },
    "tags": []
   },
   "outputs": [],
   "source": [
    "# train[\"target\"].mean()"
   ]
  },
  {
   "cell_type": "code",
   "execution_count": 27,
   "id": "761d7d65",
   "metadata": {
    "execution": {
     "iopub.execute_input": "2024-04-19T16:12:34.725485Z",
     "iopub.status.busy": "2024-04-19T16:12:34.724628Z",
     "iopub.status.idle": "2024-04-19T16:12:34.730972Z",
     "shell.execute_reply": "2024-04-19T16:12:34.729815Z"
    },
    "papermill": {
     "duration": 0.034454,
     "end_time": "2024-04-19T16:12:34.733797",
     "exception": false,
     "start_time": "2024-04-19T16:12:34.699343",
     "status": "completed"
    },
    "tags": []
   },
   "outputs": [],
   "source": [
    "# print(\"Mean target={} where actualdpdtolerance_344P != 0\".format(train[\"target\"].filter(train[\"actualdpdtolerance_344P\"] != 0).mean()))\n",
    "# print(\"Mean target={} where actualdpdtolerance_344P == 0\".format(train[\"target\"].filter(train[\"actualdpdtolerance_344P\"] == 0).mean()))\n",
    "# print(\"Mean target={} where actualdpdtolerance_344P is null\".format(train[\"target\"].filter(train[\"actualdpdtolerance_344P\"].is_null()).mean()))"
   ]
  },
  {
   "cell_type": "code",
   "execution_count": 28,
   "id": "789287b1",
   "metadata": {
    "execution": {
     "iopub.execute_input": "2024-04-19T16:12:34.784281Z",
     "iopub.status.busy": "2024-04-19T16:12:34.783817Z",
     "iopub.status.idle": "2024-04-19T16:12:34.789265Z",
     "shell.execute_reply": "2024-04-19T16:12:34.788106Z"
    },
    "papermill": {
     "duration": 0.033215,
     "end_time": "2024-04-19T16:12:34.791681",
     "exception": false,
     "start_time": "2024-04-19T16:12:34.758466",
     "status": "completed"
    },
    "tags": []
   },
   "outputs": [],
   "source": [
    "# columns = [column for column in train.columns if (train[column].dtype == pl.Float64)]\n",
    "\n",
    "# figure, axis = plt.subplots(len(columns) // 5 + 1, 5, figsize=(15, 30))\n",
    "# for index, column in enumerate(columns):\n",
    "#     current_plot = axis[index // 5, index % 5]\n",
    "#     x = train[column]\n",
    "#     y = train[\"target\"]\n",
    "#     if (x.dtype == pl.String or x.dtype == pl.Boolean):\n",
    "#         continue\n",
    "#     filter = x.is_not_null()\n",
    "#     x = x.filter(filter)\n",
    "#     y = y.filter(filter)\n",
    "#     if (x.is_empty()):\n",
    "#         continue\n",
    "#     x_bucket, y_bucket = bucket_mean_split(x.to_numpy(), y.to_numpy(), buckets=100)\n",
    "#     current_plot.plot(x_bucket, y_bucket)\n",
    "#     current_plot.set_title(column)\n",
    "# plt.show()"
   ]
  },
  {
   "cell_type": "code",
   "execution_count": 29,
   "id": "94bc5f2c",
   "metadata": {
    "execution": {
     "iopub.execute_input": "2024-04-19T16:12:34.841524Z",
     "iopub.status.busy": "2024-04-19T16:12:34.840603Z",
     "iopub.status.idle": "2024-04-19T16:12:34.845931Z",
     "shell.execute_reply": "2024-04-19T16:12:34.845096Z"
    },
    "papermill": {
     "duration": 0.033076,
     "end_time": "2024-04-19T16:12:34.848468",
     "exception": false,
     "start_time": "2024-04-19T16:12:34.815392",
     "status": "completed"
    },
    "tags": []
   },
   "outputs": [],
   "source": [
    "# features = train_df.columns\n",
    "# features.remove(\"WEEK_NUM\")\n",
    "# features.remove(\"case_id\")\n",
    "# features.remove(\"target\")"
   ]
  },
  {
   "cell_type": "code",
   "execution_count": 30,
   "id": "acdb5b71",
   "metadata": {
    "execution": {
     "iopub.execute_input": "2024-04-19T16:12:34.898043Z",
     "iopub.status.busy": "2024-04-19T16:12:34.897263Z",
     "iopub.status.idle": "2024-04-19T16:12:34.902213Z",
     "shell.execute_reply": "2024-04-19T16:12:34.901352Z"
    },
    "papermill": {
     "duration": 0.032545,
     "end_time": "2024-04-19T16:12:34.904592",
     "exception": false,
     "start_time": "2024-04-19T16:12:34.872047",
     "status": "completed"
    },
    "tags": []
   },
   "outputs": [],
   "source": [
    "# gc.collect()"
   ]
  },
  {
   "cell_type": "markdown",
   "id": "4f0dcd7c",
   "metadata": {
    "papermill": {
     "duration": 0.023632,
     "end_time": "2024-04-19T16:12:34.952110",
     "exception": false,
     "start_time": "2024-04-19T16:12:34.928478",
     "status": "completed"
    },
    "tags": []
   },
   "source": [
    "### Feature Importance"
   ]
  },
  {
   "cell_type": "code",
   "execution_count": 31,
   "id": "974df22e",
   "metadata": {
    "execution": {
     "iopub.execute_input": "2024-04-19T16:12:35.002377Z",
     "iopub.status.busy": "2024-04-19T16:12:35.001646Z",
     "iopub.status.idle": "2024-04-19T16:12:35.007092Z",
     "shell.execute_reply": "2024-04-19T16:12:35.005873Z"
    },
    "papermill": {
     "duration": 0.034067,
     "end_time": "2024-04-19T16:12:35.009934",
     "exception": false,
     "start_time": "2024-04-19T16:12:34.975867",
     "status": "completed"
    },
    "tags": []
   },
   "outputs": [],
   "source": [
    "# def train_rf(X, Y):    \n",
    "#     params = {\n",
    "#         \"boosting_type\": \"gbdt\",\n",
    "#         \"objective\": \"binary\",\n",
    "#         \"metric\": \"auc\",\n",
    "#         \"max_depth\": 8,\n",
    "#         \"max_bin\": 255,\n",
    "#         \"learning_rate\": 0.05,\n",
    "#         \"n_estimators\": 200,\n",
    "#         \"colsample_bytree\": 0.8, \n",
    "#         \"colsample_bynode\": 0.8,\n",
    "#         \"verbose\": -1,\n",
    "#         \"random_state\": 42,\n",
    "#         \"device\": \"gpu\",\n",
    "#     }\n",
    "    \n",
    "#     model = lgb.LGBMClassifier(**params)\n",
    "    \n",
    "#     model.fit(X.to_pandas(), Y.to_pandas())\n",
    "    \n",
    "#     # Get feature importances\n",
    "#     return pl.DataFrame({\n",
    "#         \"feature\": list(X.columns),\n",
    "#         \"feature_importance\": model.feature_importances_,\n",
    "#         \"train_score\": roc_auc_score(Y.to_pandas(), model.predict(X.to_pandas()))\n",
    "#     })"
   ]
  },
  {
   "cell_type": "code",
   "execution_count": 32,
   "id": "63df3af6",
   "metadata": {
    "execution": {
     "iopub.execute_input": "2024-04-19T16:12:35.060986Z",
     "iopub.status.busy": "2024-04-19T16:12:35.060449Z",
     "iopub.status.idle": "2024-04-19T16:12:35.066189Z",
     "shell.execute_reply": "2024-04-19T16:12:35.064937Z"
    },
    "papermill": {
     "duration": 0.035844,
     "end_time": "2024-04-19T16:12:35.068662",
     "exception": false,
     "start_time": "2024-04-19T16:12:35.032818",
     "status": "completed"
    },
    "tags": []
   },
   "outputs": [],
   "source": [
    "# def get_feature_importance(X, Y):\n",
    "#     COUNT_ITER = 50\n",
    "    \n",
    "#     dfs = []\n",
    "#     for i in range(COUNT_ITER):\n",
    "#         gc.collect()\n",
    "        \n",
    "#         start_time = time.time()\n",
    "#         shuffled_Y = Y.clone().sample(fraction=1.0, shuffle=True)\n",
    "#         current_df = train_rf(X, shuffled_Y)\n",
    "#         finish_time = time.time()\n",
    "#         print(f\"Finish iteration: {i + 1}/{COUNT_ITER}, time: {finish_time - start_time}\")\n",
    "#         current_df = current_df.with_columns(pl.lit(i).alias(\"iteration\"))\n",
    "#         dfs.append(current_df)\n",
    "        \n",
    "#     return pl.concat(dfs, rechunk=True), train_rf(X, Y)"
   ]
  },
  {
   "cell_type": "code",
   "execution_count": 33,
   "id": "fcd9f633",
   "metadata": {
    "execution": {
     "iopub.execute_input": "2024-04-19T16:12:35.118294Z",
     "iopub.status.busy": "2024-04-19T16:12:35.117554Z",
     "iopub.status.idle": "2024-04-19T16:12:35.121721Z",
     "shell.execute_reply": "2024-04-19T16:12:35.120906Z"
    },
    "papermill": {
     "duration": 0.032578,
     "end_time": "2024-04-19T16:12:35.124317",
     "exception": false,
     "start_time": "2024-04-19T16:12:35.091739",
     "status": "completed"
    },
    "tags": []
   },
   "outputs": [],
   "source": [
    "# shuffled_feature_importance_df, feature_importance_df = get_feature_importance(train_df[features], train_df[\"target\"])\n",
    "# shuffled_feature_importance_df.write_csv(\"shuffled_feature_importance_df.csv\", separator=\",\")\n",
    "# feature_importance_df.write_csv(\"feature_importance_df.csv\", separator=\",\")"
   ]
  },
  {
   "cell_type": "code",
   "execution_count": 34,
   "id": "b67bbd45",
   "metadata": {
    "execution": {
     "iopub.execute_input": "2024-04-19T16:12:35.173392Z",
     "iopub.status.busy": "2024-04-19T16:12:35.172556Z",
     "iopub.status.idle": "2024-04-19T16:12:35.178136Z",
     "shell.execute_reply": "2024-04-19T16:12:35.176906Z"
    },
    "papermill": {
     "duration": 0.03316,
     "end_time": "2024-04-19T16:12:35.180999",
     "exception": false,
     "start_time": "2024-04-19T16:12:35.147839",
     "status": "completed"
    },
    "tags": []
   },
   "outputs": [],
   "source": [
    "# important_features = []\n",
    "# for column in feature_importance_df[\"feature\"]:\n",
    "#     shuffled_feature_importance = shuffled_feature_importance_df.filter(shuffled_feature_importance_df[\"feature\"] == column)[\"feature_importance\"].to_numpy()\n",
    "#     feature_importance = feature_importance_df.filter(feature_importance_df[\"feature\"] == column)[\"feature_importance\"][0]\n",
    "    \n",
    "#     if (np.percentile(shuffled_feature_importance, 90) <= feature_importance):\n",
    "#         important_features.append(column)\n",
    "# print(len(important_features), important_features)"
   ]
  },
  {
   "cell_type": "markdown",
   "id": "f7783345",
   "metadata": {
    "papermill": {
     "duration": 0.027205,
     "end_time": "2024-04-19T16:12:35.232158",
     "exception": false,
     "start_time": "2024-04-19T16:12:35.204953",
     "status": "completed"
    },
    "tags": []
   },
   "source": [
    "# Training"
   ]
  },
  {
   "cell_type": "code",
   "execution_count": 35,
   "id": "a8b17236",
   "metadata": {
    "execution": {
     "iopub.execute_input": "2024-04-19T16:12:35.280338Z",
     "iopub.status.busy": "2024-04-19T16:12:35.279903Z",
     "iopub.status.idle": "2024-04-19T16:12:35.285275Z",
     "shell.execute_reply": "2024-04-19T16:12:35.284311Z"
    },
    "papermill": {
     "duration": 0.03237,
     "end_time": "2024-04-19T16:12:35.287766",
     "exception": false,
     "start_time": "2024-04-19T16:12:35.255396",
     "status": "completed"
    },
    "tags": []
   },
   "outputs": [],
   "source": [
    "# class VotingModel(BaseEstimator, RegressorMixin):\n",
    "#     def __init__(self, estimators):\n",
    "#         super().__init__()\n",
    "#         self.estimators = estimators\n",
    "        \n",
    "#     def fit(self, X, y=None):\n",
    "#         return self\n",
    "    \n",
    "#     def predict(self, X):\n",
    "#         y_preds = [estimator.predict(X) for estimator in self.estimators]\n",
    "#         return np.mean(y_preds, axis=0)\n",
    "    \n",
    "#     def predict_proba(self, X):\n",
    "#         y_preds = [estimator.predict_proba(X) for estimator in self.estimators]\n",
    "#         return np.mean(y_preds, axis=0)\n",
    "    \n",
    "#     def get_feature_importance(self):\n",
    "#         feature_importances = np.array([0 for feature in features])\n",
    "\n",
    "#         for model in self.estimators:\n",
    "#             feature_importances += model.feature_importances_\n",
    "\n",
    "#         return feature_importances"
   ]
  },
  {
   "cell_type": "code",
   "execution_count": 36,
   "id": "706530c9",
   "metadata": {
    "execution": {
     "iopub.execute_input": "2024-04-19T16:12:35.337818Z",
     "iopub.status.busy": "2024-04-19T16:12:35.337061Z",
     "iopub.status.idle": "2024-04-19T16:12:35.341523Z",
     "shell.execute_reply": "2024-04-19T16:12:35.340370Z"
    },
    "papermill": {
     "duration": 0.033218,
     "end_time": "2024-04-19T16:12:35.343839",
     "exception": false,
     "start_time": "2024-04-19T16:12:35.310621",
     "status": "completed"
    },
    "tags": []
   },
   "outputs": [],
   "source": [
    "# for column in features:\n",
    "#     if (train_dataset[column].dtype != pl.Categorical) and \\\n",
    "#         (train_dataset[column].dtype != pl.Float64) and \\\n",
    "#         (train_dataset[column].dtype != pl.Float64):\n",
    "#         print(column, train_dataset[column].dtype)"
   ]
  },
  {
   "cell_type": "code",
   "execution_count": 37,
   "id": "a06eae08",
   "metadata": {
    "execution": {
     "iopub.execute_input": "2024-04-19T16:12:35.391682Z",
     "iopub.status.busy": "2024-04-19T16:12:35.390936Z",
     "iopub.status.idle": "2024-04-19T16:12:35.396275Z",
     "shell.execute_reply": "2024-04-19T16:12:35.395197Z"
    },
    "papermill": {
     "duration": 0.032092,
     "end_time": "2024-04-19T16:12:35.398681",
     "exception": false,
     "start_time": "2024-04-19T16:12:35.366589",
     "status": "completed"
    },
    "tags": []
   },
   "outputs": [],
   "source": [
    "# def train_lgb_model(X_train, Y_train, X_test, Y_test):\n",
    "#     params = {\n",
    "#         \"boosting_type\": \"gbdt\",\n",
    "#         \"objective\": \"binary\",\n",
    "#         \"metric\": \"auc\",\n",
    "#         \"max_depth\": 8,\n",
    "#         \"max_bin\": 250,\n",
    "#         \"learning_rate\": 0.05,\n",
    "#         \"n_estimators\": 1000,\n",
    "#         \"colsample_bytree\": 0.8, \n",
    "#         \"colsample_bynode\": 0.8,\n",
    "#         \"verbose\": -1,\n",
    "#         \"random_state\": 42,\n",
    "#         \"device\": \"gpu\",\n",
    "#     }\n",
    "    \n",
    "#     model = lgb.LGBMClassifier(**params)\n",
    "    \n",
    "#     model.fit(\n",
    "#         X_train, Y_train,\n",
    "#         eval_set=[(X_test, Y_test)],\n",
    "#         callbacks=[lgb.log_evaluation(100), lgb.early_stopping(100)]\n",
    "#     )\n",
    "        \n",
    "#     return model"
   ]
  },
  {
   "cell_type": "code",
   "execution_count": 38,
   "id": "d2275255",
   "metadata": {
    "execution": {
     "iopub.execute_input": "2024-04-19T16:12:35.447857Z",
     "iopub.status.busy": "2024-04-19T16:12:35.447434Z",
     "iopub.status.idle": "2024-04-19T16:12:35.452421Z",
     "shell.execute_reply": "2024-04-19T16:12:35.451137Z"
    },
    "papermill": {
     "duration": 0.032945,
     "end_time": "2024-04-19T16:12:35.454890",
     "exception": false,
     "start_time": "2024-04-19T16:12:35.421945",
     "status": "completed"
    },
    "tags": []
   },
   "outputs": [],
   "source": [
    "# gc.collect()"
   ]
  },
  {
   "cell_type": "code",
   "execution_count": 39,
   "id": "b310f47b",
   "metadata": {
    "execution": {
     "iopub.execute_input": "2024-04-19T16:12:35.502879Z",
     "iopub.status.busy": "2024-04-19T16:12:35.501867Z",
     "iopub.status.idle": "2024-04-19T16:12:35.508590Z",
     "shell.execute_reply": "2024-04-19T16:12:35.507424Z"
    },
    "papermill": {
     "duration": 0.033546,
     "end_time": "2024-04-19T16:12:35.511124",
     "exception": false,
     "start_time": "2024-04-19T16:12:35.477578",
     "status": "completed"
    },
    "tags": []
   },
   "outputs": [],
   "source": [
    "# weeks = train_df[\"WEEK_NUM\"]\n",
    "# cv = StratifiedGroupKFold(n_splits=5, shuffle=False)\n",
    "\n",
    "# fitted_models = []\n",
    "\n",
    "# oof_predicted = np.zeros(train_df.shape[0])\n",
    "\n",
    "# for idx_train, idx_test in cv.split(train_df[features], train_df[\"target\"], groups=weeks):        \n",
    "# #     X_train = train_df[features][idx_train].to_pandas()\n",
    "# #     Y_train = train_df[\"target\"][idx_train].to_pandas()\n",
    "    \n",
    "#     X_test = train_df[features][idx_test].to_pandas()\n",
    "#     Y_test = train_df[\"target\"][idx_test].to_pandas()\n",
    "    \n",
    "#     start = time.time()\n",
    "#     params = {\n",
    "#         \"boosting_type\": \"gbdt\",\n",
    "#         \"objective\": \"binary\",\n",
    "#         \"metric\": \"auc\",\n",
    "#         \"max_depth\": 8,\n",
    "#         \"max_bin\": 250,\n",
    "#         \"learning_rate\": 0.05,\n",
    "#         \"n_estimators\": 1000,\n",
    "#         \"colsample_bytree\": 0.8, \n",
    "#         \"colsample_bynode\": 0.8,\n",
    "#         \"verbose\": -1,\n",
    "#         \"random_state\": 42,\n",
    "#         \"device\": \"gpu\",\n",
    "#     }\n",
    "    \n",
    "#     model = lgb.LGBMClassifier(**params)\n",
    "    \n",
    "#     model.fit(\n",
    "#         train_df[features][idx_train].to_pandas(), train_df[\"target\"][idx_train].to_pandas(),\n",
    "#         eval_set=[(X_test, Y_test)],\n",
    "#         callbacks=[lgb.log_evaluation(100), lgb.early_stopping(100)]\n",
    "#     )\n",
    "        \n",
    "\n",
    "# #    model = train_lgb_model(X_train, Y_train, X_test, Y_test)\n",
    "#     finish = time.time()\n",
    "    \n",
    "#     print(\"fit time: {}\".format(finish - start))\n",
    "#     fitted_models.append(model)\n",
    "    \n",
    "#     test_pred = model.predict_proba(X_test)[:, 1]\n",
    "#     oof_predicted[idx_test] = test_pred\n",
    "#     gc.collect()\n",
    "\n",
    "# model = VotingModel(fitted_models)\n",
    "# gc.collect()"
   ]
  },
  {
   "cell_type": "code",
   "execution_count": 40,
   "id": "45397f4e",
   "metadata": {
    "execution": {
     "iopub.execute_input": "2024-04-19T16:12:35.559816Z",
     "iopub.status.busy": "2024-04-19T16:12:35.558705Z",
     "iopub.status.idle": "2024-04-19T16:12:35.563092Z",
     "shell.execute_reply": "2024-04-19T16:12:35.562274Z"
    },
    "papermill": {
     "duration": 0.031387,
     "end_time": "2024-04-19T16:12:35.565329",
     "exception": false,
     "start_time": "2024-04-19T16:12:35.533942",
     "status": "completed"
    },
    "tags": []
   },
   "outputs": [],
   "source": [
    "# roc_auc_oof = roc_auc_score(train_df[\"target\"], oof_predicted)\n",
    "# print(\"CV roc_auc_oof: \", roc_auc_oof)"
   ]
  },
  {
   "cell_type": "markdown",
   "id": "973dae12",
   "metadata": {
    "papermill": {
     "duration": 0.022601,
     "end_time": "2024-04-19T16:12:35.610558",
     "exception": false,
     "start_time": "2024-04-19T16:12:35.587957",
     "status": "completed"
    },
    "tags": []
   },
   "source": [
    "# Predict"
   ]
  },
  {
   "cell_type": "code",
   "execution_count": 41,
   "id": "9fcb5a21",
   "metadata": {
    "execution": {
     "iopub.execute_input": "2024-04-19T16:12:35.660253Z",
     "iopub.status.busy": "2024-04-19T16:12:35.659521Z",
     "iopub.status.idle": "2024-04-19T16:12:35.663769Z",
     "shell.execute_reply": "2024-04-19T16:12:35.662865Z"
    },
    "papermill": {
     "duration": 0.031952,
     "end_time": "2024-04-19T16:12:35.666544",
     "exception": false,
     "start_time": "2024-04-19T16:12:35.634592",
     "status": "completed"
    },
    "tags": []
   },
   "outputs": [],
   "source": [
    "# del train_df\n",
    "# gc.collect()"
   ]
  },
  {
   "cell_type": "code",
   "execution_count": 42,
   "id": "9332fc3f",
   "metadata": {
    "execution": {
     "iopub.execute_input": "2024-04-19T16:12:35.715181Z",
     "iopub.status.busy": "2024-04-19T16:12:35.713945Z",
     "iopub.status.idle": "2024-04-19T16:12:35.718955Z",
     "shell.execute_reply": "2024-04-19T16:12:35.718101Z"
    },
    "papermill": {
     "duration": 0.032197,
     "end_time": "2024-04-19T16:12:35.721478",
     "exception": false,
     "start_time": "2024-04-19T16:12:35.689281",
     "status": "completed"
    },
    "tags": []
   },
   "outputs": [],
   "source": [
    "# test_dataset = data_loader.load_test_dataset()\n",
    "# print(\"Test dataset week range: {}-{}\".format(test_dataset.base[\"WEEK_NUM\"].min(), test_dataset.base[\"WEEK_NUM\"].max()))\n",
    "# gc.collect()\n",
    "# test_df = preprocessor.process_test_dataset(test_dataset)\n",
    "# del test_dataset\n",
    "# gc.collect()"
   ]
  },
  {
   "cell_type": "code",
   "execution_count": 43,
   "id": "bb9d287b",
   "metadata": {
    "execution": {
     "iopub.execute_input": "2024-04-19T16:12:35.771349Z",
     "iopub.status.busy": "2024-04-19T16:12:35.770316Z",
     "iopub.status.idle": "2024-04-19T16:12:35.774708Z",
     "shell.execute_reply": "2024-04-19T16:12:35.773797Z"
    },
    "papermill": {
     "duration": 0.031363,
     "end_time": "2024-04-19T16:12:35.776874",
     "exception": false,
     "start_time": "2024-04-19T16:12:35.745511",
     "status": "completed"
    },
    "tags": []
   },
   "outputs": [],
   "source": [
    "# print([name for value, name in reversed(sorted(zip(model.get_feature_importance(), features)))][0:200])"
   ]
  },
  {
   "cell_type": "code",
   "execution_count": null,
   "id": "0b9033cb",
   "metadata": {
    "papermill": {
     "duration": 0.023397,
     "end_time": "2024-04-19T16:12:35.822847",
     "exception": false,
     "start_time": "2024-04-19T16:12:35.799450",
     "status": "completed"
    },
    "tags": []
   },
   "outputs": [],
   "source": []
  },
  {
   "cell_type": "code",
   "execution_count": 44,
   "id": "f5a81710",
   "metadata": {
    "execution": {
     "iopub.execute_input": "2024-04-19T16:12:35.870710Z",
     "iopub.status.busy": "2024-04-19T16:12:35.870098Z",
     "iopub.status.idle": "2024-04-19T16:12:35.873742Z",
     "shell.execute_reply": "2024-04-19T16:12:35.872984Z"
    },
    "papermill": {
     "duration": 0.029728,
     "end_time": "2024-04-19T16:12:35.875831",
     "exception": false,
     "start_time": "2024-04-19T16:12:35.846103",
     "status": "completed"
    },
    "tags": []
   },
   "outputs": [],
   "source": [
    "# CV roc_auc_oof:  0.8353789451006361 without feature selection ~500 features\n",
    "# CV roc_auc_oof:  0.8329322959533371 with feature selection ~200 features"
   ]
  },
  {
   "cell_type": "code",
   "execution_count": null,
   "id": "f8e9c0d6",
   "metadata": {
    "papermill": {
     "duration": 0.022318,
     "end_time": "2024-04-19T16:12:35.920965",
     "exception": false,
     "start_time": "2024-04-19T16:12:35.898647",
     "status": "completed"
    },
    "tags": []
   },
   "outputs": [],
   "source": []
  },
  {
   "cell_type": "code",
   "execution_count": 45,
   "id": "ded68ec2",
   "metadata": {
    "execution": {
     "iopub.execute_input": "2024-04-19T16:12:35.968264Z",
     "iopub.status.busy": "2024-04-19T16:12:35.967845Z",
     "iopub.status.idle": "2024-04-19T16:12:35.973096Z",
     "shell.execute_reply": "2024-04-19T16:12:35.971966Z"
    },
    "papermill": {
     "duration": 0.031548,
     "end_time": "2024-04-19T16:12:35.975488",
     "exception": false,
     "start_time": "2024-04-19T16:12:35.943940",
     "status": "completed"
    },
    "tags": []
   },
   "outputs": [],
   "source": [
    "# def gini_stability(dataset, w_fallingrate=88.0, w_resstd=-0.5):\n",
    "#     gini_in_time = dataset\\\n",
    "#         .sort_values(\"WEEK_NUM\")\\\n",
    "#         .groupby(\"WEEK_NUM\")[[\"true\", \"predicted\"]]\\\n",
    "#         .apply(lambda x: 2 * roc_auc_score(x[\"true\"], x[\"predicted\"]) - 1).tolist()\n",
    "    \n",
    "#     x = np.arange(len(gini_in_time))\n",
    "#     y = gini_in_time\n",
    "#     a, b = np.polyfit(x, y, 1)\n",
    "#     y_hat = a * x + b\n",
    "#     residuals = y - y_hat\n",
    "#     res_std = np.std(residuals)\n",
    "#     avg_gini = np.mean(gini_in_time)\n",
    "    \n",
    "#     print(avg_gini, min(0, a), res_std)\n",
    "    \n",
    "#     return avg_gini + w_fallingrate * min(0, a) + w_resstd * res_std"
   ]
  },
  {
   "cell_type": "code",
   "execution_count": 46,
   "id": "d6bc63c5",
   "metadata": {
    "execution": {
     "iopub.execute_input": "2024-04-19T16:12:36.023246Z",
     "iopub.status.busy": "2024-04-19T16:12:36.022002Z",
     "iopub.status.idle": "2024-04-19T16:12:36.026996Z",
     "shell.execute_reply": "2024-04-19T16:12:36.026275Z"
    },
    "papermill": {
     "duration": 0.031343,
     "end_time": "2024-04-19T16:12:36.029355",
     "exception": false,
     "start_time": "2024-04-19T16:12:35.998012",
     "status": "completed"
    },
    "tags": []
   },
   "outputs": [],
   "source": [
    "# # Y_train_predicted = model.predict_proba(train_df[features].to_pandas())\n",
    "# Y_test_predicted = model.predict_proba(test_df[features].to_pandas())"
   ]
  },
  {
   "cell_type": "code",
   "execution_count": 47,
   "id": "39fda80d",
   "metadata": {
    "execution": {
     "iopub.execute_input": "2024-04-19T16:12:36.077678Z",
     "iopub.status.busy": "2024-04-19T16:12:36.076760Z",
     "iopub.status.idle": "2024-04-19T16:12:36.082517Z",
     "shell.execute_reply": "2024-04-19T16:12:36.081714Z"
    },
    "papermill": {
     "duration": 0.032305,
     "end_time": "2024-04-19T16:12:36.084879",
     "exception": false,
     "start_time": "2024-04-19T16:12:36.052574",
     "status": "completed"
    },
    "tags": []
   },
   "outputs": [],
   "source": [
    "# result = pd.DataFrame({\n",
    "#     \"WEEK_NUM\": train_df[\"WEEK_NUM\"],\n",
    "#     \"true\": train_df[\"target\"],\n",
    "#     \"predicted\": Y_train_predicted[:, 1],\n",
    "# })\n",
    "\n",
    "# train_result = gini_stability(result)\n",
    "# print(\"train_score: {}\".format(train_result))\n",
    "\n",
    "# if MODE == Mode.Train:\n",
    "#     result = pd.DataFrame({\n",
    "#         \"WEEK_NUM\": test_df[\"WEEK_NUM\"],\n",
    "#         \"true\": test_df[\"target\"],\n",
    "#         \"predicted\": Y_test_predicted[:, 1],\n",
    "#     })\n",
    "\n",
    "#     test_result = gini_stability(result)\n",
    "#     print(\"test_score: {}\".format(test_result))"
   ]
  },
  {
   "cell_type": "code",
   "execution_count": 48,
   "id": "45f1ef55",
   "metadata": {
    "execution": {
     "iopub.execute_input": "2024-04-19T16:12:36.134989Z",
     "iopub.status.busy": "2024-04-19T16:12:36.133987Z",
     "iopub.status.idle": "2024-04-19T16:12:36.139441Z",
     "shell.execute_reply": "2024-04-19T16:12:36.138200Z"
    },
    "papermill": {
     "duration": 0.034489,
     "end_time": "2024-04-19T16:12:36.142036",
     "exception": false,
     "start_time": "2024-04-19T16:12:36.107547",
     "status": "completed"
    },
    "tags": []
   },
   "outputs": [],
   "source": [
    "# Version 1, test_score: 0.583319926590042, public score 0.48\n",
    "# 100 iters\n",
    "\n",
    "# Version 2, test_score: 0.6062624701357268, public score 0.517\n",
    "# 300 iters\n",
    "\n",
    "# Version 3, test_score: ?, public score 0.545\n",
    "# 2000 iters\n",
    "\n",
    "# Version 4, test_score: ?, public score ?\n",
    "# ? iters, Improve aggregate functions for depth_1, depth_2\n"
   ]
  },
  {
   "cell_type": "markdown",
   "id": "70d8569a",
   "metadata": {
    "papermill": {
     "duration": 0.02322,
     "end_time": "2024-04-19T16:12:36.188147",
     "exception": false,
     "start_time": "2024-04-19T16:12:36.164927",
     "status": "completed"
    },
    "tags": []
   },
   "source": [
    "# Submition"
   ]
  },
  {
   "cell_type": "code",
   "execution_count": 49,
   "id": "b5b9ac3d",
   "metadata": {
    "execution": {
     "iopub.execute_input": "2024-04-19T16:12:36.235683Z",
     "iopub.status.busy": "2024-04-19T16:12:36.235274Z",
     "iopub.status.idle": "2024-04-19T16:12:36.240611Z",
     "shell.execute_reply": "2024-04-19T16:12:36.239518Z"
    },
    "papermill": {
     "duration": 0.032516,
     "end_time": "2024-04-19T16:12:36.243207",
     "exception": false,
     "start_time": "2024-04-19T16:12:36.210691",
     "status": "completed"
    },
    "tags": []
   },
   "outputs": [],
   "source": [
    "# case_id = test_df[\"case_id\"]\n",
    "# X = test_df[features].to_pandas()\n",
    "\n",
    "# Y = model.predict_proba(X)\n",
    "\n",
    "# submission = pd.DataFrame({\n",
    "#     \"case_id\": case_id.to_numpy(),\n",
    "#     \"score\": Y[:, 1]\n",
    "# }).set_index('case_id')\n",
    "# submission.to_csv(\"./submission.csv\")"
   ]
  },
  {
   "cell_type": "code",
   "execution_count": null,
   "id": "981f74b5",
   "metadata": {
    "papermill": {
     "duration": 0.0232,
     "end_time": "2024-04-19T16:12:36.289526",
     "exception": false,
     "start_time": "2024-04-19T16:12:36.266326",
     "status": "completed"
    },
    "tags": []
   },
   "outputs": [],
   "source": []
  },
  {
   "cell_type": "code",
   "execution_count": null,
   "id": "933552c3",
   "metadata": {
    "papermill": {
     "duration": 0.02308,
     "end_time": "2024-04-19T16:12:36.335706",
     "exception": false,
     "start_time": "2024-04-19T16:12:36.312626",
     "status": "completed"
    },
    "tags": []
   },
   "outputs": [],
   "source": []
  },
  {
   "cell_type": "code",
   "execution_count": null,
   "id": "dd1a0f02",
   "metadata": {
    "papermill": {
     "duration": 0.022455,
     "end_time": "2024-04-19T16:12:36.381385",
     "exception": false,
     "start_time": "2024-04-19T16:12:36.358930",
     "status": "completed"
    },
    "tags": []
   },
   "outputs": [],
   "source": []
  }
 ],
 "metadata": {
  "kaggle": {
   "accelerator": "none",
   "dataSources": [
    {
     "databundleVersionId": 7921029,
     "sourceId": 50160,
     "sourceType": "competition"
    },
    {
     "datasetId": 4496896,
     "sourceId": 8165060,
     "sourceType": "datasetVersion"
    },
    {
     "datasetId": 4832722,
     "sourceId": 8166831,
     "sourceType": "datasetVersion"
    }
   ],
   "dockerImageVersionId": 30635,
   "isGpuEnabled": false,
   "isInternetEnabled": false,
   "language": "python",
   "sourceType": "notebook"
  },
  "kernelspec": {
   "display_name": "Python 3",
   "language": "python",
   "name": "python3"
  },
  "language_info": {
   "codemirror_mode": {
    "name": "ipython",
    "version": 3
   },
   "file_extension": ".py",
   "mimetype": "text/x-python",
   "name": "python",
   "nbconvert_exporter": "python",
   "pygments_lexer": "ipython3",
   "version": "3.10.12"
  },
  "papermill": {
   "default_parameters": {},
   "duration": 1614.080965,
   "end_time": "2024-04-19T16:12:37.934784",
   "environment_variables": {},
   "exception": null,
   "input_path": "__notebook__.ipynb",
   "output_path": "__notebook__.ipynb",
   "parameters": {},
   "start_time": "2024-04-19T15:45:43.853819",
   "version": "2.4.0"
  }
 },
 "nbformat": 4,
 "nbformat_minor": 5
}
