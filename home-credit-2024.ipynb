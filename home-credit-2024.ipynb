{
 "cells": [
  {
   "cell_type": "markdown",
   "id": "2718af45",
   "metadata": {
    "papermill": {
     "duration": 0.006159,
     "end_time": "2024-05-28T14:01:31.953285",
     "exception": false,
     "start_time": "2024-05-28T14:01:31.947126",
     "status": "completed"
    },
    "tags": []
   },
   "source": [
    "# Install packages"
   ]
  },
  {
   "cell_type": "code",
   "execution_count": 1,
   "id": "0d45d4be",
   "metadata": {
    "execution": {
     "iopub.execute_input": "2024-05-28T14:01:31.967296Z",
     "iopub.status.busy": "2024-05-28T14:01:31.966740Z",
     "iopub.status.idle": "2024-05-28T14:02:07.991376Z",
     "shell.execute_reply": "2024-05-28T14:02:07.990188Z"
    },
    "papermill": {
     "duration": 36.035362,
     "end_time": "2024-05-28T14:02:07.994686",
     "exception": false,
     "start_time": "2024-05-28T14:01:31.959324",
     "status": "completed"
    },
    "tags": []
   },
   "outputs": [
    {
     "name": "stdout",
     "output_type": "stream",
     "text": [
      "Processing /kaggle/input/kaggle-home-credit-risk-model-stability-lib/kaggle_home_credit_risk_model_stability-0.3-py3-none-any.whl\r\n",
      "Installing collected packages: kaggle-home-credit-risk-model-stability\r\n",
      "Successfully installed kaggle-home-credit-risk-model-stability-0.3\r\n"
     ]
    }
   ],
   "source": [
    "!pip install /kaggle/input/kaggle-home-credit-risk-model-stability-lib/kaggle_home_credit_risk_model_stability-0.3-py3-none-any.whl --force-reinstall"
   ]
  },
  {
   "cell_type": "code",
   "execution_count": 2,
   "id": "1fd731c3",
   "metadata": {
    "execution": {
     "iopub.execute_input": "2024-05-28T14:02:08.008978Z",
     "iopub.status.busy": "2024-05-28T14:02:08.008571Z",
     "iopub.status.idle": "2024-05-28T14:03:00.462753Z",
     "shell.execute_reply": "2024-05-28T14:03:00.461440Z"
    },
    "papermill": {
     "duration": 52.464932,
     "end_time": "2024-05-28T14:03:00.465876",
     "exception": false,
     "start_time": "2024-05-28T14:02:08.000944",
     "status": "completed"
    },
    "tags": []
   },
   "outputs": [
    {
     "name": "stdout",
     "output_type": "stream",
     "text": [
      "Processing /kaggle/input/polars/polars-0.20.15-cp38-abi3-manylinux_2_17_x86_64.manylinux2014_x86_64.whl\r\n",
      "Installing collected packages: polars\r\n",
      "  Attempting uninstall: polars\r\n",
      "    Found existing installation: polars 0.20.3\r\n",
      "    Uninstalling polars-0.20.3:\r\n",
      "      Successfully uninstalled polars-0.20.3\r\n",
      "Successfully installed polars-0.20.15\r\n"
     ]
    }
   ],
   "source": [
    "!pip install /kaggle/input/polars/polars-0.20.15-cp38-abi3-manylinux_2_17_x86_64.manylinux2014_x86_64.whl"
   ]
  },
  {
   "cell_type": "markdown",
   "id": "c63755de",
   "metadata": {
    "papermill": {
     "duration": 0.006371,
     "end_time": "2024-05-28T14:03:00.479101",
     "exception": false,
     "start_time": "2024-05-28T14:03:00.472730",
     "status": "completed"
    },
    "tags": []
   },
   "source": [
    "# Import packages"
   ]
  },
  {
   "cell_type": "code",
   "execution_count": 3,
   "id": "ba93ca58",
   "metadata": {
    "execution": {
     "iopub.execute_input": "2024-05-28T14:03:00.495176Z",
     "iopub.status.busy": "2024-05-28T14:03:00.494090Z",
     "iopub.status.idle": "2024-05-28T14:03:05.108182Z",
     "shell.execute_reply": "2024-05-28T14:03:05.106919Z"
    },
    "papermill": {
     "duration": 4.625709,
     "end_time": "2024-05-28T14:03:05.111447",
     "exception": false,
     "start_time": "2024-05-28T14:03:00.485738",
     "status": "completed"
    },
    "tags": []
   },
   "outputs": [],
   "source": [
    "import polars as pl\n",
    "import gc\n",
    "import pickle\n",
    "\n",
    "import kaggle_home_credit_risk_model_stability.libs as hcr\n",
    "from kaggle_home_credit_risk_model_stability.libs.env import Env\n",
    "from kaggle_home_credit_risk_model_stability.libs.input.dataset import Dataset\n",
    "from kaggle_home_credit_risk_model_stability.libs.input.data_loader import DataLoader\n",
    "from kaggle_home_credit_risk_model_stability.libs.preprocessor.preprocessor import Preprocessor\n",
    "from kaggle_home_credit_risk_model_stability.libs.preprocessor.steps import *\n",
    "from kaggle_home_credit_risk_model_stability.libs.preprocessor.columns_info import ColumnsInfo"
   ]
  },
  {
   "cell_type": "code",
   "execution_count": 4,
   "id": "a4165a54",
   "metadata": {
    "execution": {
     "iopub.execute_input": "2024-05-28T14:03:05.126940Z",
     "iopub.status.busy": "2024-05-28T14:03:05.126453Z",
     "iopub.status.idle": "2024-05-28T14:03:05.132417Z",
     "shell.execute_reply": "2024-05-28T14:03:05.131249Z"
    },
    "papermill": {
     "duration": 0.01657,
     "end_time": "2024-05-28T14:03:05.134919",
     "exception": false,
     "start_time": "2024-05-28T14:03:05.118349",
     "status": "completed"
    },
    "tags": []
   },
   "outputs": [],
   "source": [
    "env = Env(\n",
    "    \"/kaggle/input/\",\n",
    "    \"/kaggle/working/\"\n",
    ")"
   ]
  },
  {
   "cell_type": "code",
   "execution_count": 5,
   "id": "fba29251",
   "metadata": {
    "execution": {
     "iopub.execute_input": "2024-05-28T14:03:05.150659Z",
     "iopub.status.busy": "2024-05-28T14:03:05.150240Z",
     "iopub.status.idle": "2024-05-28T14:03:05.167715Z",
     "shell.execute_reply": "2024-05-28T14:03:05.166598Z"
    },
    "papermill": {
     "duration": 0.028578,
     "end_time": "2024-05-28T14:03:05.170299",
     "exception": false,
     "start_time": "2024-05-28T14:03:05.141721",
     "status": "completed"
    },
    "tags": []
   },
   "outputs": [],
   "source": [
    "data_loader = DataLoader(env, tables = [\n",
    "    \"base\", \"static_cb_0\", \"static_0\", \"person_1\", \"tax_registry_a_1\", \"tax_registry_b_1\", \"tax_registry_c_1\", \n",
    "    \"credit_bureau_a_2\", \n",
    "    \"credit_bureau_a_1\", \n",
    "    \"applprev_1\",\n",
    "    #\"debitcard_1\", \"other_1\", \"deposit_1\"\n",
    "    #\"credit_bureau_b_1\", \"credit_bureau_b_2\", <- low amount of data\n",
    "    #\"applprev_2\", \"person_2\"\n",
    "])\n",
    "\n",
    "preprocessor = Preprocessor({\n",
    "    #\"sort_raw_tables\": SortRawTablesStep(),\n",
    "    \"set_column_info_step\": SetColumnsInfoStep(),\n",
    "    \"set_types\": SetTypesStep(),\n",
    "#    \"restore_date_decision\": RestoreDateDecisionStep(env),\n",
    "    \"drop_composite_features\": DropCompositeFeaturesStep(),\n",
    "    \"create_day_feature\": CreateDayFeatureStep(),\n",
    "    \"process_categorical\": ProcessCategoricalStep(),\n",
    "    \"process_person_table\": ProcessPersonTableStep(),\n",
    "#    \"process_applprev_table\": ProcessApplprevTableStep(),\n",
    "    \"process_static_0_table\": ProcessStatic0TableStep(),\n",
    "    \"process_tax_regestry_a1_table\": ProcessTaxRegestryA1TableStep(),\n",
    "    \"process_tax_regestry_b1_table\": ProcessTaxRegestryB1TableStep(),\n",
    "    \"process_tax_regestry_c1_table\": ProcessTaxRegestryC1TableStep(),\n",
    "\n",
    "    **{ # credit_burea_a_1\n",
    "        \"rename_finantial_institution_for_credit_burea_a_1_table\": RenameFinancialInstitutionForCreditBureauA1TableStep(),\n",
    "        \"split_active_close_credit_burea_1_table\": SplitActiveCloseCreditBureaua1TableStep(),\n",
    "        \"split_active_credit_bureau_a_1_by_credit_duration\": SplitTableByCreditDurationStep(\n",
    "            table_name = \"active_credit_bureau_a_1\",\n",
    "            intervals = {\n",
    "                \"short\": [0, 135],\n",
    "                \"medium\": [135, 270],\n",
    "                \"medium_long\": [270, 450],\n",
    "                \"long\": [450, 100000],\n",
    "            }\n",
    "        ),\n",
    "        \"split_close_credit_bureau_a_1_by_credit_duration\": SplitTableByCreditDurationStep(\n",
    "            table_name = \"close_credit_bureau_a_1\",\n",
    "            intervals = {\n",
    "                \"short\": [0, 135],\n",
    "                \"medium\": [135, 270],\n",
    "                \"medium_long\": [270, 450],\n",
    "                \"long\": [450, 100000],\n",
    "            }\n",
    "        ),\n",
    "        **{\n",
    "            f\"split_{period}_active_credit_bureau_a_1_step\": SplitTableByCategoricalFeatureStep(f\"{period}_active_credit_bureau_a_1\", \"financialinstitution_591M\", [[\"Home Credit\", \"P150_136_157\"]])\n",
    "            for period in [\"short\", \"medium\", \"medium_long\", \"long\"]\n",
    "        },\n",
    "        **{\n",
    "            f\"split_{period}_close_credit_bureau_a_1_step\": SplitTableByCategoricalFeatureStep(f\"{period}_close_credit_bureau_a_1\", \"financialinstitution_382M\", [[\"P150_136_157\", \"P133_127_114\"]])\n",
    "            for period in [\"short\", \"medium\", \"medium_long\", \"long\"]\n",
    "        },\n",
    "    },\n",
    "    \n",
    "    \"process_credit_burea_2_table\": ProcessCreditBureaua2TableStep(),\n",
    "    \"reduce_memory_usage_for_dataset\": ReduceMemoryUsageForDatasetStep(),\n",
    "    #\"one_hot_encoding\": OneHotEncodingStep(),\n",
    "    #\"pairwise_diff_raw_dates\": PairwiseDateDiffStep(),\n",
    "    \"aggregate_depth_table\": AggregateDepthTableStep(),\n",
    "    \"join_table\": JoinTablesStep(),\n",
    "    \"merge_chunked_table\": MergeChunkedTablesStep(),\n",
    "    \"drop_almost_null_features\": DropAlmostNullFeaturesStep(0.999),\n",
    "    #\"generate_age_feature\": GenerateAgeFeatureStep(),\n",
    "    \"generate_base_date_diff\": GenerateBaseDateDiffStep(base_column=\"date_decision\"),\n",
    "    \"fill_nulls_in_categorical_features\": FillNullsInCategoricalFeaturesStep(),\n",
    "    \"reduce_dimention_for_categorical_features\": ReduceDimentionForCategoricalFeaturesStep(),\n",
    "    \"reduce_memory_usage_for_dataframe\": ReduceMemoryUsageForDataFrameStep(),\n",
    "    **{\n",
    "        f\"create_money_feature_fraction_{base_column}\": CreateMoneyFeatureFractionStep(base_column)\n",
    "        for base_column in [\"credamount_770A\", \"mainoccupationinc_384A\", \"maininc_215A\", \"annuity_780A\"] # mean_amount_416A\n",
    "    },\n",
    "    \"drop_single_value_features\": DropSingleValueFeaturesStep(),\n",
    "    \"drop_variable_enum_features\": DropVariableEnumFeaturesStep(),\n",
    "    #\"generate_mismatch_features\": GenerateMismatchFeaturesStep(),\n",
    "#     **{\n",
    "#         f\"generate_anomaly_feature_{use_w}_{quantile}_{threashold}\": GenerateAnomalyFeatureStep(quantile=quantile, threashold=threashold)\n",
    "#         for quantile in [0.99, 0.97, 0.95, 0.9, 0.8, 0.7]\n",
    "#         for threashold in [3, 2, 1.7, 1.5, 1.3]\n",
    "#         for use_w in [False]\n",
    "#     },\n",
    "#    \"window_normalize_features\": WindowNormalizeFeaturesStep(\"3mo\", [\"eir_270L\", \"interestrate_311L\"]),\n",
    "    \"reduce_memory_usage_for_dataframe_final\": ReduceMemoryUsageForDataFrameStep(),\n",
    "})"
   ]
  },
  {
   "cell_type": "markdown",
   "id": "ad79f251",
   "metadata": {
    "papermill": {
     "duration": 0.006176,
     "end_time": "2024-05-28T14:03:05.183323",
     "exception": false,
     "start_time": "2024-05-28T14:03:05.177147",
     "status": "completed"
    },
    "tags": []
   },
   "source": [
    "## Process train dataset"
   ]
  },
  {
   "cell_type": "code",
   "execution_count": 6,
   "id": "b7604364",
   "metadata": {
    "execution": {
     "iopub.execute_input": "2024-05-28T14:03:05.198039Z",
     "iopub.status.busy": "2024-05-28T14:03:05.197610Z",
     "iopub.status.idle": "2024-05-28T14:40:27.441142Z",
     "shell.execute_reply": "2024-05-28T14:40:27.439737Z"
    },
    "papermill": {
     "duration": 2242.254111,
     "end_time": "2024-05-28T14:40:27.443871",
     "exception": false,
     "start_time": "2024-05-28T14:03:05.189760",
     "status": "completed"
    },
    "tags": []
   },
   "outputs": [
    {
     "name": "stdout",
     "output_type": "stream",
     "text": [
      "Step: set_column_info_step\n",
      "Step: set_types\n",
      "Step: drop_composite_features\n",
      "Step: create_day_feature\n",
      "Step: process_categorical\n",
      "Step: process_person_table\n",
      "Step: process_static_0_table\n",
      "Step: process_tax_regestry_a1_table\n",
      "Step: process_tax_regestry_b1_table\n",
      "Step: process_tax_regestry_c1_table\n",
      "Step: rename_finantial_institution_for_credit_burea_a_1_table\n",
      "Step: split_active_close_credit_burea_1_table\n",
      "Step: split_active_credit_bureau_a_1_by_credit_duration\n",
      "Step: split_close_credit_bureau_a_1_by_credit_duration\n",
      "Step: split_short_active_credit_bureau_a_1_step\n",
      "Step: split_medium_active_credit_bureau_a_1_step\n",
      "Step: split_medium_long_active_credit_bureau_a_1_step\n",
      "Step: split_long_active_credit_bureau_a_1_step\n",
      "Step: split_short_close_credit_bureau_a_1_step\n",
      "Step: split_medium_close_credit_bureau_a_1_step\n",
      "Step: split_medium_long_close_credit_bureau_a_1_step\n",
      "Step: split_long_close_credit_bureau_a_1_step\n",
      "Step: process_credit_burea_2_table\n",
      "Step: reduce_memory_usage_for_dataset\n",
      "Step: aggregate_depth_table\n",
      "Step: join_table\n",
      "Step: merge_chunked_table\n",
      "Step: drop_almost_null_features\n",
      "Step: generate_base_date_diff\n",
      "Step: fill_nulls_in_categorical_features\n",
      "Step: reduce_dimention_for_categorical_features\n",
      "Step: reduce_memory_usage_for_dataframe\n",
      "Step: create_money_feature_fraction_credamount_770A\n",
      "Step: create_money_feature_fraction_mainoccupationinc_384A\n",
      "Step: create_money_feature_fraction_maininc_215A\n",
      "Step: create_money_feature_fraction_annuity_780A\n",
      "Step: drop_single_value_features\n",
      "Step: drop_variable_enum_features\n",
      "Step: reduce_memory_usage_for_dataframe_final\n",
      "Drop composite features ['lastapprcommoditycat_1041M', 'lastapprcommoditytypec_5251766M', 'lastcancelreason_561M', 'lastrejectcommoditycat_161M', 'lastrejectcommodtypec_5251769M', 'lastrejectreason_759M', 'lastrejectreasonclient_4145040M', 'previouscontdistrict_112M', 'contaddr_district_15M', 'contaddr_zipcode_807M', 'education_927M', 'empladdr_district_926M', 'empladdr_zipcode_114M', 'language1_981M', 'registaddr_district_1083M', 'registaddr_zipcode_184M', 'cancelreason_3545846M', 'district_544M', 'education_1138M', 'postype_4733339M', 'profession_152M', 'rejectreason_755M', 'rejectreasonclient_4145042M']\n",
      "Generate 942 columns as aggregates\n",
      "Generate 942 columns as aggregates\n",
      "Generate 942 columns as aggregates\n",
      "Generate 942 columns as aggregates\n",
      "Generate 942 columns as aggregates\n",
      "Generate 942 columns as aggregates\n",
      "Generate 942 columns as aggregates\n",
      "Generate 942 columns as aggregates\n",
      "Generate 942 columns as aggregates\n",
      "Generate 942 columns as aggregates\n",
      "Generate 942 columns as aggregates\n",
      "Generate 942 columns as aggregates\n",
      "Generate 942 columns as aggregates\n",
      "Generate 942 columns as aggregates\n",
      "Generate 942 columns as aggregates\n",
      "Generate 942 columns as aggregates\n",
      "Drop 67 columns as almost null\n",
      "Columns to drop ['childnum_185L', 'clientscnt_136L', 'deferredmnthsnum_166L', 'housingtype_772L', 'max_birth_259D', 'max_contaddr_matchlist_1032L', 'max_contaddr_smempladdr_334L', 'max_credlmt_935A_Home_Credit_medium_active_credit_bureau_a_1', 'max_credlmt_935A_Home_Credit_short_active_credit_bureau_a_1', 'max_empl_employedfrom_271D', 'max_empl_employedtotal_800L', 'max_empl_industry_691L', 'max_familystate_447L', 'max_housetype_905L', 'max_incometype_1044T', 'max_instlamount_768A_Home_Credit_medium_active_credit_bureau_a_1', 'max_instlamount_768A_Home_Credit_short_active_credit_bureau_a_1', 'max_mainoccupationinc_384A', 'max_overdueamountmax2date_1142D_Home_Credit_short_active_credit_bureau_a_1', 'max_residualamount_856A_Home_Credit_medium_active_credit_bureau_a_1', 'max_residualamount_856A_Home_Credit_short_active_credit_bureau_a_1', 'max_safeguarantyflag_411L', 'max_sex_738L', 'mean_birth_259D', 'mean_contaddr_matchlist_1032L', 'mean_contaddr_smempladdr_334L', 'mean_credlmt_935A_Home_Credit_medium_active_credit_bureau_a_1', 'mean_credlmt_935A_Home_Credit_short_active_credit_bureau_a_1', 'mean_empl_employedfrom_271D', 'mean_instlamount_768A_Home_Credit_medium_active_credit_bureau_a_1', 'mean_instlamount_768A_Home_Credit_short_active_credit_bureau_a_1', 'mean_mainoccupationinc_384A', 'mean_overdueamountmax2date_1142D_Home_Credit_short_active_credit_bureau_a_1', 'mean_residualamount_856A_Home_Credit_medium_active_credit_bureau_a_1', 'mean_residualamount_856A_Home_Credit_short_active_credit_bureau_a_1', 'mean_safeguarantyflag_411L', 'min_birth_259D', 'min_contaddr_matchlist_1032L', 'min_contaddr_smempladdr_334L', 'min_credlmt_935A_Home_Credit_medium_active_credit_bureau_a_1', 'min_credlmt_935A_Home_Credit_short_active_credit_bureau_a_1', 'min_empl_employedfrom_271D', 'min_empl_employedtotal_800L', 'min_empl_industry_691L', 'min_familystate_447L', 'min_housetype_905L', 'min_incometype_1044T', 'min_instlamount_768A_Home_Credit_medium_active_credit_bureau_a_1', 'min_instlamount_768A_Home_Credit_short_active_credit_bureau_a_1', 'min_mainoccupationinc_384A', 'min_overdueamountmax2date_1142D_Home_Credit_short_active_credit_bureau_a_1', 'min_residualamount_856A_Home_Credit_medium_active_credit_bureau_a_1', 'min_residualamount_856A_Home_Credit_short_active_credit_bureau_a_1', 'min_safeguarantyflag_411L', 'min_sex_738L', 'mode_empl_employedtotal_800L', 'mode_empl_industry_691L', 'mode_familystate_447L', 'mode_housetype_905L', 'mode_incometype_1044T', 'mode_sex_738L', 'personindex_1023L', 'persontype_1072L', 'persontype_792L', 'relationshiptoclient_415T', 'relationshiptoclient_642T', 'remitter_829L']\n",
      "Create 141 new date diff columns, with base_column=date_decision\n",
      "Create 288 new columns as money feature fraction with base 'credamount_770A'\n",
      "Create 288 new columns as money feature fraction with base 'mainoccupationinc_384A'\n",
      "Create 288 new columns as money feature fraction with base 'maininc_215A'\n",
      "Create 288 new columns as money feature fraction with base 'annuity_780A'\n",
      "Drop 1 columns as single value, columns: ['num_group1']\n",
      "Drop 0 columns as variable enum value\n"
     ]
    },
    {
     "data": {
      "text/plain": [
       "0"
      ]
     },
     "execution_count": 6,
     "metadata": {},
     "output_type": "execute_result"
    }
   ],
   "source": [
    "train_dataset_generator = data_loader.load_train_dataset(chunk_size=100000)\n",
    "gc.collect()\n",
    "train_df, columns_info = preprocessor.process_train_dataset(train_dataset_generator)\n",
    "del train_dataset_generator\n",
    "gc.collect()"
   ]
  },
  {
   "cell_type": "code",
   "execution_count": 7,
   "id": "3273ea77",
   "metadata": {
    "execution": {
     "iopub.execute_input": "2024-05-28T14:40:27.471586Z",
     "iopub.status.busy": "2024-05-28T14:40:27.471149Z",
     "iopub.status.idle": "2024-05-28T14:41:19.509069Z",
     "shell.execute_reply": "2024-05-28T14:41:19.508070Z"
    },
    "papermill": {
     "duration": 52.069295,
     "end_time": "2024-05-28T14:41:19.525844",
     "exception": false,
     "start_time": "2024-05-28T14:40:27.456549",
     "status": "completed"
    },
    "tags": []
   },
   "outputs": [
    {
     "name": "stdout",
     "output_type": "stream",
     "text": [
      "13714.746871948242\n",
      "shape: (1_526_659, 2_414)\n",
      "┌────────┬──────────┬────────────┬────────────┬───┬────────────┬───────────┬───────────┬───────────┐\n",
      "│ MONTH  ┆ WEEK_NUM ┆ actualdpdt ┆ amtinstpai ┆ … ┆ sumoutstan ┆ totaldebt ┆ totalsett ┆ totinstal │\n",
      "│ ---    ┆ ---      ┆ olerance_3 ┆ dbefduel24 ┆   ┆ dtotalest_ ┆ _9A/annui ┆ led_863A/ ┆ last1m_45 │\n",
      "│ i64    ┆ i64      ┆ 44P        ┆ m_4187115A ┆   ┆ 4493215A/a ┆ ty_780A_f ┆ annuity_7 ┆ 25188A/an │\n",
      "│        ┆          ┆ ---        ┆ ---        ┆   ┆ nn…        ┆ racti…    ┆ 80A_f…    ┆ nuity…    │\n",
      "│        ┆          ┆ f32        ┆ f32        ┆   ┆ ---        ┆ ---       ┆ ---       ┆ ---       │\n",
      "│        ┆          ┆            ┆            ┆   ┆ f32        ┆ f32       ┆ f32       ┆ f32       │\n",
      "╞════════╪══════════╪════════════╪════════════╪═══╪════════════╪═══════════╪═══════════╪═══════════╡\n",
      "│ 201901 ┆ 0        ┆ null       ┆ null       ┆ … ┆ null       ┆ 0.0       ┆ 0.0       ┆ null      │\n",
      "│ 201901 ┆ 0        ┆ null       ┆ null       ┆ … ┆ null       ┆ 0.0       ┆ 0.0       ┆ null      │\n",
      "│ 201901 ┆ 0        ┆ null       ┆ null       ┆ … ┆ null       ┆ 0.0       ┆ 0.0       ┆ null      │\n",
      "│ 201901 ┆ 0        ┆ null       ┆ null       ┆ … ┆ null       ┆ 0.0       ┆ 0.0       ┆ null      │\n",
      "│ 201901 ┆ 0        ┆ null       ┆ null       ┆ … ┆ null       ┆ 0.0       ┆ 0.0       ┆ null      │\n",
      "│ …      ┆ …        ┆ …          ┆ …          ┆ … ┆ …          ┆ …         ┆ …         ┆ …         │\n",
      "│ 202010 ┆ 91       ┆ 0.0        ┆ 176561.359 ┆ … ┆ 0.0        ┆ 0.0       ┆ 116.49334 ┆ 3.903335  │\n",
      "│        ┆          ┆            ┆ 375        ┆   ┆            ┆           ┆ 7         ┆           │\n",
      "│ 202010 ┆ 91       ┆ 0.0        ┆ 301276.468 ┆ … ┆ 9.606749   ┆ 9.606749  ┆ 98.926064 ┆ 5.713371  │\n",
      "│        ┆          ┆            ┆ 75         ┆   ┆            ┆           ┆           ┆           │\n",
      "│ 202010 ┆ 91       ┆ 0.0        ┆ 14232.4003 ┆ … ┆ 0.0        ┆ 0.0       ┆ 3.081604  ┆ null      │\n",
      "│        ┆          ┆            ┆ 91         ┆   ┆            ┆           ┆           ┆           │\n",
      "│ 202010 ┆ 91       ┆ 0.0        ┆ 197371.578 ┆ … ┆ 39.155598  ┆ 39.155598 ┆ 368.19918 ┆ 4.730132  │\n",
      "│        ┆          ┆            ┆ 125        ┆   ┆            ┆           ┆ 8         ┆           │\n",
      "│ 202010 ┆ 91       ┆ 0.0        ┆ 82949.6015 ┆ … ┆ 1.967268   ┆ 1.305571  ┆ 20.512499 ┆ 0.658785  │\n",
      "│        ┆          ┆            ┆ 62         ┆   ┆            ┆           ┆           ┆           │\n",
      "└────────┴──────────┴────────────┴────────────┴───┴────────────┴───────────┴───────────┴───────────┘\n"
     ]
    },
    {
     "data": {
      "text/plain": [
       "0"
      ]
     },
     "execution_count": 7,
     "metadata": {},
     "output_type": "execute_result"
    }
   ],
   "source": [
    "train_df.write_parquet(env.output_directory / \"train_df.parquet\")\n",
    "pickle.dump(columns_info, open(env.output_directory / \"columns_info.pkl\", \"wb\"))\n",
    "print(train_df.estimated_size() / 1024 / 1024)\n",
    "print(train_df)\n",
    "\n",
    "del train_df\n",
    "gc.collect()"
   ]
  },
  {
   "cell_type": "code",
   "execution_count": 8,
   "id": "8e307856",
   "metadata": {
    "execution": {
     "iopub.execute_input": "2024-05-28T14:41:19.553546Z",
     "iopub.status.busy": "2024-05-28T14:41:19.553108Z",
     "iopub.status.idle": "2024-05-28T14:41:19.979451Z",
     "shell.execute_reply": "2024-05-28T14:41:19.978045Z"
    },
    "papermill": {
     "duration": 0.44389,
     "end_time": "2024-05-28T14:41:19.982439",
     "exception": false,
     "start_time": "2024-05-28T14:41:19.538549",
     "status": "completed"
    },
    "tags": []
   },
   "outputs": [],
   "source": [
    "pickle.dump(data_loader, open(env.output_directory / \"data_loader.pkl\", \"wb\"))\n",
    "pickle.dump(preprocessor, open(env.output_directory / \"preprocessor.pkl\", \"wb\"))"
   ]
  },
  {
   "cell_type": "code",
   "execution_count": 9,
   "id": "f62ff17b",
   "metadata": {
    "execution": {
     "iopub.execute_input": "2024-05-28T14:41:20.011500Z",
     "iopub.status.busy": "2024-05-28T14:41:20.010698Z",
     "iopub.status.idle": "2024-05-28T14:41:20.387620Z",
     "shell.execute_reply": "2024-05-28T14:41:20.386485Z"
    },
    "papermill": {
     "duration": 0.394641,
     "end_time": "2024-05-28T14:41:20.390238",
     "exception": false,
     "start_time": "2024-05-28T14:41:19.995597",
     "status": "completed"
    },
    "tags": []
   },
   "outputs": [],
   "source": [
    "%reset -f"
   ]
  },
  {
   "cell_type": "markdown",
   "id": "2d78aaae",
   "metadata": {
    "papermill": {
     "duration": 0.012782,
     "end_time": "2024-05-28T14:41:20.416272",
     "exception": false,
     "start_time": "2024-05-28T14:41:20.403490",
     "status": "completed"
    },
    "tags": []
   },
   "source": [
    "## Process test dataset"
   ]
  },
  {
   "cell_type": "code",
   "execution_count": 10,
   "id": "cebe71ed",
   "metadata": {
    "execution": {
     "iopub.execute_input": "2024-05-28T14:41:20.444609Z",
     "iopub.status.busy": "2024-05-28T14:41:20.444170Z",
     "iopub.status.idle": "2024-05-28T14:41:20.451926Z",
     "shell.execute_reply": "2024-05-28T14:41:20.450429Z"
    },
    "papermill": {
     "duration": 0.024786,
     "end_time": "2024-05-28T14:41:20.454488",
     "exception": false,
     "start_time": "2024-05-28T14:41:20.429702",
     "status": "completed"
    },
    "tags": []
   },
   "outputs": [],
   "source": [
    "import polars as pl\n",
    "import gc\n",
    "import pickle\n",
    "\n",
    "import kaggle_home_credit_risk_model_stability.libs as hcr\n",
    "from kaggle_home_credit_risk_model_stability.libs.env import Env\n",
    "from kaggle_home_credit_risk_model_stability.libs.input.dataset import Dataset\n",
    "from kaggle_home_credit_risk_model_stability.libs.input.data_loader import DataLoader\n",
    "from kaggle_home_credit_risk_model_stability.libs.preprocessor.preprocessor import Preprocessor\n",
    "from kaggle_home_credit_risk_model_stability.libs.preprocessor.steps import *\n",
    "from kaggle_home_credit_risk_model_stability.libs.preprocessor.columns_info import ColumnsInfo"
   ]
  },
  {
   "cell_type": "code",
   "execution_count": 11,
   "id": "7357e22d",
   "metadata": {
    "execution": {
     "iopub.execute_input": "2024-05-28T14:41:20.483318Z",
     "iopub.status.busy": "2024-05-28T14:41:20.482880Z",
     "iopub.status.idle": "2024-05-28T14:41:20.847593Z",
     "shell.execute_reply": "2024-05-28T14:41:20.846357Z"
    },
    "papermill": {
     "duration": 0.382656,
     "end_time": "2024-05-28T14:41:20.850496",
     "exception": false,
     "start_time": "2024-05-28T14:41:20.467840",
     "status": "completed"
    },
    "tags": []
   },
   "outputs": [],
   "source": [
    "env = Env(\n",
    "    \"/kaggle/input/\",\n",
    "    \"/kaggle/working/\"\n",
    ")\n",
    "data_loader = pickle.load(open(env.output_directory / \"data_loader.pkl\", \"rb\"))\n",
    "preprocessor = pickle.load(open(env.output_directory / \"preprocessor.pkl\", \"rb\"))"
   ]
  },
  {
   "cell_type": "code",
   "execution_count": 12,
   "id": "a2749ea8",
   "metadata": {
    "execution": {
     "iopub.execute_input": "2024-05-28T14:41:20.879156Z",
     "iopub.status.busy": "2024-05-28T14:41:20.878733Z",
     "iopub.status.idle": "2024-05-28T14:41:47.721212Z",
     "shell.execute_reply": "2024-05-28T14:41:47.719955Z"
    },
    "papermill": {
     "duration": 26.859858,
     "end_time": "2024-05-28T14:41:47.723846",
     "exception": false,
     "start_time": "2024-05-28T14:41:20.863988",
     "status": "completed"
    },
    "tags": []
   },
   "outputs": [
    {
     "name": "stdout",
     "output_type": "stream",
     "text": [
      "Step: set_column_info_step\n",
      "Step: set_types\n",
      "Step: drop_composite_features\n",
      "Step: create_day_feature\n",
      "Step: process_categorical\n",
      "Step: process_person_table\n",
      "Step: process_static_0_table\n",
      "Step: process_tax_regestry_a1_table\n",
      "Step: process_tax_regestry_b1_table\n",
      "Step: process_tax_regestry_c1_table\n",
      "Step: rename_finantial_institution_for_credit_burea_a_1_table\n",
      "Step: split_active_close_credit_burea_1_table\n",
      "Step: split_active_credit_bureau_a_1_by_credit_duration\n",
      "Step: split_close_credit_bureau_a_1_by_credit_duration\n",
      "Step: split_short_active_credit_bureau_a_1_step\n",
      "Step: split_medium_active_credit_bureau_a_1_step\n",
      "Step: split_medium_long_active_credit_bureau_a_1_step\n",
      "Step: split_long_active_credit_bureau_a_1_step\n",
      "Step: split_short_close_credit_bureau_a_1_step\n",
      "Step: split_medium_close_credit_bureau_a_1_step\n",
      "Step: split_medium_long_close_credit_bureau_a_1_step\n",
      "Step: split_long_close_credit_bureau_a_1_step\n",
      "Step: process_credit_burea_2_table\n",
      "Step: reduce_memory_usage_for_dataset\n",
      "Step: aggregate_depth_table\n",
      "Step: join_table\n",
      "Step: merge_chunked_table\n",
      "Step: drop_almost_null_features\n",
      "Step: generate_base_date_diff\n",
      "Step: fill_nulls_in_categorical_features\n",
      "Step: reduce_dimention_for_categorical_features\n",
      "Step: reduce_memory_usage_for_dataframe\n",
      "Step: create_money_feature_fraction_credamount_770A\n",
      "Step: create_money_feature_fraction_mainoccupationinc_384A\n",
      "Step: create_money_feature_fraction_maininc_215A\n",
      "Step: create_money_feature_fraction_annuity_780A\n",
      "Step: drop_single_value_features\n",
      "Step: drop_variable_enum_features\n",
      "Step: reduce_memory_usage_for_dataframe_final\n",
      "Generate 942 columns as aggregates\n",
      "Create 141 new date diff columns, with base_column=date_decision\n",
      "Create 288 new columns as money feature fraction with base 'credamount_770A'\n",
      "Create 288 new columns as money feature fraction with base 'mainoccupationinc_384A'\n",
      "Create 288 new columns as money feature fraction with base 'maininc_215A'\n",
      "Create 288 new columns as money feature fraction with base 'annuity_780A'\n",
      "Drop 1 columns as single value, columns: ['num_group1']\n"
     ]
    },
    {
     "data": {
      "text/plain": [
       "0"
      ]
     },
     "execution_count": 12,
     "metadata": {},
     "output_type": "execute_result"
    }
   ],
   "source": [
    "test_dataset_generator = data_loader.load_test_dataset(chunk_size=100000)\n",
    "gc.collect()\n",
    "test_df, columns_info = preprocessor.process_test_dataset(test_dataset_generator)\n",
    "del test_dataset_generator\n",
    "gc.collect()"
   ]
  },
  {
   "cell_type": "code",
   "execution_count": 13,
   "id": "8872a0fa",
   "metadata": {
    "execution": {
     "iopub.execute_input": "2024-05-28T14:41:47.763752Z",
     "iopub.status.busy": "2024-05-28T14:41:47.762661Z",
     "iopub.status.idle": "2024-05-28T14:41:48.560091Z",
     "shell.execute_reply": "2024-05-28T14:41:48.558257Z"
    },
    "papermill": {
     "duration": 0.821349,
     "end_time": "2024-05-28T14:41:48.564304",
     "exception": false,
     "start_time": "2024-05-28T14:41:47.742955",
     "status": "completed"
    },
    "tags": []
   },
   "outputs": [
    {
     "name": "stdout",
     "output_type": "stream",
     "text": [
      "0.11143970489501953\n",
      "shape: (10, 2_413)\n",
      "┌────────┬──────────┬────────────┬────────────┬───┬────────────┬───────────┬───────────┬───────────┐\n",
      "│ MONTH  ┆ WEEK_NUM ┆ actualdpdt ┆ amtinstpai ┆ … ┆ sumoutstan ┆ totaldebt ┆ totalsett ┆ totinstal │\n",
      "│ ---    ┆ ---      ┆ olerance_3 ┆ dbefduel24 ┆   ┆ dtotalest_ ┆ _9A/annui ┆ led_863A/ ┆ last1m_45 │\n",
      "│ i64    ┆ i64      ┆ 44P        ┆ m_4187115A ┆   ┆ 4493215A/a ┆ ty_780A_f ┆ annuity_7 ┆ 25188A/an │\n",
      "│        ┆          ┆ ---        ┆ ---        ┆   ┆ nn…        ┆ racti…    ┆ 80A_f…    ┆ nuity…    │\n",
      "│        ┆          ┆ f32        ┆ f32        ┆   ┆ ---        ┆ ---       ┆ ---       ┆ ---       │\n",
      "│        ┆          ┆            ┆            ┆   ┆ f32        ┆ f32       ┆ f32       ┆ f32       │\n",
      "╞════════╪══════════╪════════════╪════════════╪═══╪════════════╪═══════════╪═══════════╪═══════════╡\n",
      "│ 202201 ┆ 100      ┆ 0.0        ┆ 191767.359 ┆ … ┆ 3.30768    ┆ 3.30768   ┆ 124.1036  ┆ 4.860284  │\n",
      "│        ┆          ┆            ┆ 375        ┆   ┆            ┆           ┆           ┆           │\n",
      "│ 202201 ┆ 100      ┆ 0.0        ┆ 129704.398 ┆ … ┆ 1.852506   ┆ 1.852506  ┆ 65.078682 ┆ 21.95138  │\n",
      "│        ┆          ┆            ┆ 438        ┆   ┆            ┆           ┆           ┆           │\n",
      "│ 202201 ┆ 100      ┆ 0.0        ┆ 71036.3984 ┆ … ┆ 0.0        ┆ 0.0       ┆ 26.442732 ┆ null      │\n",
      "│        ┆          ┆            ┆ 38         ┆   ┆            ┆           ┆           ┆           │\n",
      "│ 202201 ┆ 100      ┆ 0.0        ┆ 183992.0   ┆ … ┆ 30.366037  ┆ 30.366037 ┆ 45.121769 ┆ 2.998825  │\n",
      "│ 202201 ┆ 100      ┆ 0.0        ┆ 0.0        ┆ … ┆ 0.0        ┆ 0.0       ┆ 20.362282 ┆ null      │\n",
      "│ 202201 ┆ 100      ┆ 0.0        ┆ 0.0        ┆ … ┆ 0.0        ┆ 0.0       ┆ 1.08676   ┆ null      │\n",
      "│ 202201 ┆ 100      ┆ 0.0        ┆ null       ┆ … ┆ null       ┆ 0.0       ┆ 0.0       ┆ null      │\n",
      "│ 202201 ┆ 100      ┆ 0.0        ┆ 63647.4023 ┆ … ┆ 0.0        ┆ 0.0       ┆ 13.451395 ┆ 1.494379  │\n",
      "│        ┆          ┆            ┆ 44         ┆   ┆            ┆           ┆           ┆           │\n",
      "│ 202201 ┆ 100      ┆ 0.0        ┆ null       ┆ … ┆ null       ┆ 0.0       ┆ 0.0       ┆ null      │\n",
      "│ 202201 ┆ 100      ┆ 0.0        ┆ 39948.8007 ┆ … ┆ 0.0        ┆ 0.0       ┆ 34.268997 ┆ null      │\n",
      "│        ┆          ┆            ┆ 81         ┆   ┆            ┆           ┆           ┆           │\n",
      "└────────┴──────────┴────────────┴────────────┴───┴────────────┴───────────┴───────────┴───────────┘\n"
     ]
    },
    {
     "data": {
      "text/plain": [
       "0"
      ]
     },
     "execution_count": 13,
     "metadata": {},
     "output_type": "execute_result"
    }
   ],
   "source": [
    "test_df.write_parquet(env.output_directory / \"test_df.parquet\")\n",
    "print(test_df.estimated_size() / 1024 / 1024)\n",
    "print(test_df)\n",
    "\n",
    "del test_df\n",
    "gc.collect()"
   ]
  }
 ],
 "metadata": {
  "kaggle": {
   "accelerator": "none",
   "dataSources": [
    {
     "databundleVersionId": 7921029,
     "sourceId": 50160,
     "sourceType": "competition"
    },
    {
     "datasetId": 4832722,
     "sourceId": 8166831,
     "sourceType": "datasetVersion"
    },
    {
     "datasetId": 4496896,
     "sourceId": 8450234,
     "sourceType": "datasetVersion"
    }
   ],
   "dockerImageVersionId": 30635,
   "isGpuEnabled": false,
   "isInternetEnabled": false,
   "language": "python",
   "sourceType": "notebook"
  },
  "kernelspec": {
   "display_name": "Python 3",
   "language": "python",
   "name": "python3"
  },
  "language_info": {
   "codemirror_mode": {
    "name": "ipython",
    "version": 3
   },
   "file_extension": ".py",
   "mimetype": "text/x-python",
   "name": "python",
   "nbconvert_exporter": "python",
   "pygments_lexer": "ipython3",
   "version": "3.10.12"
  },
  "papermill": {
   "default_parameters": {},
   "duration": 2422.09326,
   "end_time": "2024-05-28T14:41:49.616305",
   "environment_variables": {},
   "exception": null,
   "input_path": "__notebook__.ipynb",
   "output_path": "__notebook__.ipynb",
   "parameters": {},
   "start_time": "2024-05-28T14:01:27.523045",
   "version": "2.4.0"
  }
 },
 "nbformat": 4,
 "nbformat_minor": 5
}
